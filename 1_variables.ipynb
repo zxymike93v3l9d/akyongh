{
 "cells": [
  {
   "cell_type": "markdown",
   "id": "9f2bf89d",
   "metadata": {
    "lines_to_next_cell": 0
   },
   "source": [
    "# Variables\n",
    "\n",
    "## Définition\n",
    "\n",
    "Une variable possède 3 propriétés:\n",
    "- un nom (exemple : `x`)\n",
    "- une valeur (exemple : 42)\n",
    "- un type (exemple : entier)\n",
    "\n",
    "En OCaml, on définit une variable de la façon suivante :"
   ]
  },
  {
   "cell_type": "code",
   "execution_count": null,
   "id": "d3e4c928",
   "metadata": {},
   "outputs": [],
   "source": [
    "let variable = valeur"
   ]
  },
  {
   "cell_type": "markdown",
   "id": "eb437b26",
   "metadata": {},
   "source": [
    "Par exemple, pour définir une variable `x` valant 42 :"
   ]
  },
  {
   "cell_type": "markdown",
   "id": "e4dac709",
   "metadata": {},
   "source": [
    "```\n",
    "let x = 42\n",
    "```\n",
    "\n",
    "OCaml nous répond que `x` a pour valeur 42 et est de type `int` (*integer*, c'est à dire entier).\n",
    "La variable `x` est ici définie globalement, c'est à dire accessible partout dans ce notebook.\n",
    "\n",
    "On peut alors faire des calculs avec la valeur de `x` :"
   ]
  },
  {
   "cell_type": "markdown",
   "id": "ef64c544",
   "metadata": {},
   "source": [
    "```\n",
    "3*x - 2 (* OCaml remplace x par 42 et fait le calcul *)\n",
    "```\n",
    "\n",
    "Il est possible d'avoir une expression (un calcul) à droite d'une définition :"
   ]
  },
  {
   "cell_type": "markdown",
   "id": "3c335043",
   "metadata": {},
   "source": [
    "```\n",
    "let a = 1 + 2 + 3 + 4 (* la valeur à droite de = est calculée puis mise dans a *)\n",
    "```\n",
    "\n",
    "## Variable locale\n",
    "\n",
    "Il est possible de définir une variable locale en utilisant la forme `let y = in ...`  \n",
    "`y` est alors seulement accessible dans `...`"
   ]
  },
  {
   "cell_type": "markdown",
   "id": "0c107802",
   "metadata": {},
   "source": [
    "```\n",
    "let y = -1 in y (* y est accessible dans le in *)\n",
    "```"
   ]
  },
  {
   "cell_type": "markdown",
   "id": "8d43ef38",
   "metadata": {},
   "source": [
    "```\n",
    "(* utiliser y ici donnerait une erreur  *)\n",
    "```\n",
    "\n",
    "## Variables numériques\n",
    "\n",
    "Nous avons déjà vu l'addition et la soustraction de 2 entiers. Il est aussi possible de multiplier :"
   ]
  },
  {
   "cell_type": "markdown",
   "id": "e3a6a44c",
   "metadata": {},
   "source": [
    "```\n",
    "3 * 14\n",
    "```\n",
    "\n",
    "On peut effectuer la division **entière** de 2 entiers :"
   ]
  },
  {
   "cell_type": "markdown",
   "id": "442b919c",
   "metadata": {},
   "source": [
    "```\n",
    "3 / 2 (* division entière *)\n",
    "```\n",
    "\n",
    "La division entière de $x$ par $y$ est, par définition, la partie entière de $\\frac{x}{y}$.  \n",
    "Dans l'exemple ci-dessus, `3 / 2` est donc la partie entière de $\\frac{3}{2} = 1.5$, c'est à dire $1$. \n",
    "\n",
    "En plus des entiers (`int`), OCaml permet de définir des nombres à virgules (`float`, pour flottant) :"
   ]
  },
  {
   "cell_type": "markdown",
   "id": "83dd542b",
   "metadata": {},
   "source": [
    "```\n",
    "let pi = 3.141592\n",
    "```\n",
    "\n",
    "Les opérateurs d'addition, soustraction, multiplication, division doivent s'utiliser avec un `.` (point). Par exemple :"
   ]
  },
  {
   "cell_type": "markdown",
   "id": "8e6142ba",
   "metadata": {},
   "source": [
    "```\n",
    "pi +. 2.618 (* noter le . après + *)\n",
    "```\n",
    "\n",
    "Attention : c'est le point (.) et non pas la virgule qui est utilisé pour les flottants.\n",
    "\n"
   ]
  },
  {
   "cell_type": "markdown",
   "id": "583210ae",
   "metadata": {},
   "source": [
    "Il est possible de calculer $x^y$, où $x$ et $y$ sont des **flottants** avec `**` :"
   ]
  },
  {
   "cell_type": "markdown",
   "id": "ad1773d2",
   "metadata": {},
   "source": [
    "```\n",
    "2.718**3.14 (* x puissance y *)\n",
    "```\n",
    "\n",
    "Il n'est pas possible d'utiliser `**` sur des entiers. Pour calculer la puissance d'un entier par un autre, on verra plus tard un algorithme appelé **exponentiation rapide**.\n",
    "\n",
    "**Exercice 1**\n",
    "1. Stocker la valeur $42^2$ dans une variable $a$, en utilisant `*`.\n",
    "2. En déduire la valeur de $42^4$.\n",
    "3. Calculer la valeur de $2^{10}$ en utilisant le moins de multiplications possibles.\n",
    "\n",
    "**Exercice 2**\n",
    "\n",
    "1. Stocker dans 3 variables $a$, $b$, $c$ les valeurs 2, 5 et 3. On pourra utiliser let a, b, c = ..., ..., ... pour définir 3 variable simultanément. \n",
    "2. Stocker dans une variable $delta$ le discriminant de l'équation $ax^2 + bx + c = 0$.\n",
    "3. Calculer toutes les solutions de l'équation précédente.\n",
    "\n",
    "## Overflow\n",
    "\n",
    "L'ordinateur stocke "
   ]
  },
  {
   "cell_type": "markdown",
   "id": "bcf4dfe1",
   "metadata": {},
   "source": [
    "```\n",
    "max_int+1\n",
    "```\n",
    "\n",
    "## Booléens\n",
    "\n",
    "Une valeur booléenne est soit true (vrai) soit false (faux). Par exemple, on peut tester l'égalité de deux valeurs avec `=` :"
   ]
  },
  {
   "cell_type": "markdown",
   "id": "2e558e98",
   "metadata": {},
   "source": [
    "```\n",
    "3 = 1 + 2\n",
    "```\n",
    "\n",
    "On peut comparer des valeurs numériques avec `<` (inférieur strict), `>`, `<=` (inférieur ou égal), `>=`, `<>` (différent)... :"
   ]
  },
  {
   "cell_type": "markdown",
   "id": "e37fbce5",
   "metadata": {},
   "source": [
    "```\n",
    "2 < 1\n",
    "```\n",
    "\n",
    "Les opérateurs `&&` (et), `||` (ou), `not` permettent de combiner des conditions :"
   ]
  },
  {
   "cell_type": "markdown",
   "id": "757da76c",
   "metadata": {},
   "source": [
    "```\n",
    "1 < 2 && 2 < 3\n",
    "```"
   ]
  },
  {
   "cell_type": "markdown",
   "id": "45f665f3",
   "metadata": {
    "lines_to_next_cell": 0
   },
   "source": [
    "```\n",
    "let a = 0 in\n",
    "a <> 0 || a > 3 (* test si a est différent de 0 ou supérieur à 3 *)\n",
    "```\n",
    "\n",
    "**Exercice**\n",
    "\n",
    "1. Quelle est la valeur du code suivant?"
   ]
  },
  {
   "cell_type": "code",
   "execution_count": null,
   "id": "42a50683",
   "metadata": {
    "lines_to_next_cell": 0
   },
   "outputs": [],
   "source": [
    "let a = 42 in\n",
    "not (a = 12 && (a < 10 || a > 30))"
   ]
  },
  {
   "cell_type": "markdown",
   "id": "ea40ce7d",
   "metadata": {},
   "source": [
    "2. Comment aurait-on pu écrire `not (a = 12 && (a < 10 || a > 30))` sans `not`?\n",
    "\n",
    "## Présentation du code\n",
    "\n",
    "Contrairement à Python, l'indentation du code n'a pas d'importance en OCaml. En effet les espaces et sauts de lignes sont ignorés :"
   ]
  },
  {
   "cell_type": "markdown",
   "id": "db46b604",
   "metadata": {},
   "source": [
    "```\n",
    "let a \n",
    "  =\n",
    "3\n",
    "```\n",
    "\n",
    " Il est cependant très important d'avoir un code lisible et aéré, et ce sera pris en compte dans la notation (même si ça n'apparaît pas toujours explicitement)."
   ]
  },
  {
   "cell_type": "markdown",
   "id": "4de8c5ed",
   "metadata": {},
   "source": [
    "Pour séparer deux instructions consécutives (ce qui arrivera rarement, on aurait plus souvent des instructions imbriquées avec `in`), on utilisera `;`."
   ]
  }
 ],
 "metadata": {
  "jupytext": {
   "cell_metadata_filter": "-all",
   "main_language": "ocaml",
   "notebook_metadata_filter": "-all"
  }
 },
 "nbformat": 4,
 "nbformat_minor": 5
}

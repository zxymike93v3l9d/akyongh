{
 "cells": [
  {
   "cell_type": "markdown",
   "id": "8990de32-0bac-443b-ae9d-c393eff5acaa",
   "metadata": {
    "tags": []
   },
   "source": [
    "# <center><a href='https://mybinder.org/v2/gh/fortierq/binder-mp2i/main?urlpath=git-pull%3Frepo%3Dhttps%253A%252F%252Fgithub.com%252Fmp2i-fsm%252Fmp2i-2021%26urlpath%3Dlab%252Ftree%252Fmp2i-2021%252F7_algo%252F2_divide_conquer%252Fpoints_proches.ipynb%26branch%3Dmain'>Paire de points les plus proches                    <img src=https://mybinder.org/badge.svg></a></center>"
   ]
  },
  {
   "cell_type": "code",
   "execution_count": 1,
   "id": "84c1a649-7b67-4d0f-9cbb-29613050a844",
   "metadata": {},
   "outputs": [
    {
     "data": {
      "text/plain": [
       "val dist : float * float -> float * float -> float = <fun>\n"
      ]
     },
     "execution_count": 1,
     "metadata": {},
     "output_type": "execute_result"
    },
    {
     "data": {
      "text/plain": [
       "- : float = 5.\n"
      ]
     },
     "execution_count": 1,
     "metadata": {},
     "output_type": "execute_result"
    }
   ],
   "source": [
    "let dist p q = (* distance euclidienne entre p et q *)\n",
    "    ((fst p -. fst q)**2. +. (snd p -. snd q)**2.)**0.5;;\n",
    "\n",
    "dist (0., 0.) (3., 4.) ;;"
   ]
  },
  {
   "cell_type": "code",
   "execution_count": 2,
   "id": "1d61d00c-9336-45f2-8082-6eecb14bac58",
   "metadata": {},
   "outputs": [
    {
     "data": {
      "text/plain": [
       "val closest_brute : (float * float) array -> float = <fun>\n"
      ]
     },
     "execution_count": 2,
     "metadata": {},
     "output_type": "execute_result"
    }
   ],
   "source": [
    "let closest_brute points = (* renvoie la plus petite distance entre 2 points, en complexité quadratique *)\n",
    "    let n = Array.length points in\n",
    "    let d = ref max_float in\n",
    "    for i = 0 to n - 1 do\n",
    "        for j = i + 1 to n - 1 do\n",
    "            d := min !d (dist points.(i) points.(j))\n",
    "        done\n",
    "    done;\n",
    "    !d"
   ]
  },
  {
   "cell_type": "code",
   "execution_count": 3,
   "id": "cc91be12-0b10-4277-930c-96b73109fc10",
   "metadata": {},
   "outputs": [
    {
     "data": {
      "text/plain": [
       "val select : 'a -> 'a -> ('a * 'b) array -> ('a * 'b) array = <fun>\n"
      ]
     },
     "execution_count": 3,
     "metadata": {},
     "output_type": "execute_result"
    },
    {
     "data": {
      "text/plain": [
       "val split :\n",
       "  float -> (float * 'a) array -> (float * 'a) array * (float * 'a) array =\n",
       "  <fun>\n"
      ]
     },
     "execution_count": 3,
     "metadata": {},
     "output_type": "execute_result"
    },
    {
     "data": {
      "text/plain": [
       "- : (float * float) array * (float * float) array =\n",
       "([|(0.41, 1.4); (0.7, 0.1); (1.3, 0.5)|], [|(2.1, 3.14)|])\n"
      ]
     },
     "execution_count": 3,
     "metadata": {},
     "output_type": "execute_result"
    }
   ],
   "source": [
    "let select xmin xmax points = (* renvoies les points dont l'abscisse est entre xmin et xmax *)\n",
    "    Array.to_list points\n",
    "    |> List.filter (fun p -> xmin <= fst p && fst p <= xmax)\n",
    "    |> Array.of_list;;\n",
    "    \n",
    "let split x points = (* sépare les points en deux tableaux : ceux d'abscisse <= x et ceux d'abscisse > x *)\n",
    "    select min_float x points, select (x +. Float.epsilon) max_float points;; (* Float.epsilon est l'epsilon machine : la plus petite différence entre 2 flottants *)\n",
    "    \n",
    "split 1.3 [|(0.41, 1.4); (0.7, 0.1); (1.3, 0.5); (2.1, 3.14)|]"
   ]
  },
  {
   "cell_type": "code",
   "execution_count": 4,
   "id": "baaea98b-c6aa-4b8f-9edc-cb221e00b15d",
   "metadata": {},
   "outputs": [
    {
     "data": {
      "text/plain": [
       "val closest_strip : (float * float) array -> float = <fun>\n"
      ]
     },
     "execution_count": 4,
     "metadata": {},
     "output_type": "execute_result"
    }
   ],
   "source": [
    "let closest_strip points = (* renvoie la plus petite distance dans la bande centrale *)\n",
    "    let d = ref max_float in\n",
    "    let n = Array.length points in\n",
    "    for i = 0 to n - 1 do\n",
    "        for j = i + 1 to min (i + 7) (n - 1) do\n",
    "            d := min !d (dist points.(i) points.(j))\n",
    "        done\n",
    "    done;\n",
    "    !d;;"
   ]
  },
  {
   "cell_type": "code",
   "execution_count": 7,
   "id": "7c8af739-b90e-44ab-9bb5-b86866bc53d0",
   "metadata": {},
   "outputs": [
    {
     "data": {
      "text/plain": [
       "val closest : (float * float) array -> (float * 'a) array -> float = <fun>\n"
      ]
     },
     "execution_count": 7,
     "metadata": {},
     "output_type": "execute_result"
    }
   ],
   "source": [
    "let rec closest points_x points_y =\n",
    "    let n = Array.length points_x in\n",
    "    if n <= 3 then closest_brute points_x\n",
    "    else \n",
    "        let xm = fst points_x.(n/2) in\n",
    "        let points_x1, points_x2 = split xm points_x in\n",
    "        let points_y1, points_y2 = split xm points_y in\n",
    "        let d1 = closest points_x1 points_y1 in\n",
    "        let d2 = closest points_x2 points_y2 in\n",
    "        let d = min d1 d2 in\n",
    "        min d (closest_strip (select (xm -. d) (xm +. d) points_x))"
   ]
  },
  {
   "cell_type": "code",
   "execution_count": 10,
   "id": "cf72c742-933b-48e4-ae06-a3d6c4514304",
   "metadata": {},
   "outputs": [
    {
     "data": {
      "text/plain": [
       "- : unit = ()\n"
      ]
     },
     "execution_count": 10,
     "metadata": {},
     "output_type": "execute_result"
    },
    {
     "name": "stdout",
     "output_type": "stream",
     "text": [
      "d: 0.177648\n",
      "d: 0.177648\n"
     ]
    },
    {
     "data": {
      "text/plain": [
       "- : unit = ()\n"
      ]
     },
     "execution_count": 10,
     "metadata": {},
     "output_type": "execute_result"
    }
   ],
   "source": [
    "Random.self_init ();;\n",
    "let points_x = Array.init 10 (fun _ -> Random.float 10., Random.float 10.) in\n",
    "let points_y = Array.copy points_x in\n",
    "Array.sort (fun p q -> compare (fst p) (fst q)) points_x;\n",
    "Array.sort (fun p q -> compare (snd p) (snd q)) points_y;\n",
    "Format.printf \"d: %f@.\" (closest points_x points_y);\n",
    "Format.printf \"d: %f@.\" (closest_brute points_x)"
   ]
  }
 ],
 "metadata": {
  "interpreter": {
   "hash": "638d2bb0c3d5a654c8dabbf1e544957f030902e91031027a7993b713e9c17aba"
  },
  "kernelspec": {
   "display_name": "OCaml default",
   "language": "OCaml",
   "name": "ocaml-jupyter"
  },
  "language_info": {
   "codemirror_mode": "text/x-ocaml",
   "file_extension": ".ml",
   "mimetype": "text/x-ocaml",
   "name": "OCaml",
   "nbconverter_exporter": null,
   "pygments_lexer": "OCaml",
   "version": "4.08.1"
  }
 },
 "nbformat": 4,
 "nbformat_minor": 5
}

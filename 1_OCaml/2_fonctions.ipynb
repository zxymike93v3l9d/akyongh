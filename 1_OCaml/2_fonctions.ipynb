{
 "cells": [
  {
   "cell_type": "markdown",
   "id": "c565578f",
   "metadata": {},
   "source": [
    "# Fonctions\n",
    "\n",
    "OCaml est un langage fonctionnel, ce qui signifie que les fonctions y occupent une place importante et peuvent être manipulées un peu comme des variables.  \n",
    "Pour utiliser une fonction `f` sur une valeur `x`, on écrira simplement `f x` (et non pas `f(x)`.  \n",
    "\n",
    "Un certain nombre de fonctions sont déjà définies en OCaml. Par exemple, la racine carrée : "
   ]
  },
  {
   "cell_type": "code",
   "execution_count": null,
   "id": "59d875e4",
   "metadata": {},
   "outputs": [],
   "source": [
    "sqrt 2.0 (* renvoie la valeur de racine de 2 *)"
   ]
  },
  {
   "cell_type": "markdown",
   "id": "bbcb24b6",
   "metadata": {},
   "source": [
    "Chaque fonction possède une **signature**, qui donne les types des paramètres (valeurs en entrée de la fonction) et le type de la valeur de retour."
   ]
  },
  {
   "cell_type": "code",
   "execution_count": null,
   "id": "0c132864",
   "metadata": {},
   "outputs": [],
   "source": [
    "sqrt"
   ]
  },
  {
   "cell_type": "markdown",
   "id": "eba320c3",
   "metadata": {},
   "source": [
    "`float -> float` signifie que `sqrt` est une fonction qui prend un flottant en entrée et renvoie un flottant. On ne peut donc pas l'appliquer sur un entier :"
   ]
  },
  {
   "cell_type": "code",
   "execution_count": null,
   "id": "444efae9",
   "metadata": {},
   "outputs": [],
   "source": [
    "(* sqrt 2 *)"
   ]
  },
  {
   "cell_type": "markdown",
   "id": "25014fde",
   "metadata": {},
   "source": [
    "## Définition de fonction"
   ]
  },
  {
   "cell_type": "markdown",
   "id": "48a48eab",
   "metadata": {},
   "source": [
    "En OCaml, une fonction se définie de la façon suivante :\n",
    "```ocaml\n",
    "let nom_fonction nom_argument = ... \n",
    "```\n",
    "où `...` est le corps de la fonction, c'est à dire ce qui est exécuté lorsqu'on utilise la fonction. La valeur renvoyée par la fonction est celle de la dernière instruction (pas besoin de `return`)."
   ]
  },
  {
   "cell_type": "markdown",
   "id": "31155acd",
   "metadata": {},
   "source": [
    "Définissons par exemple la fonction $f: x \\longmapsto 2x$ :"
   ]
  },
  {
   "cell_type": "code",
   "execution_count": null,
   "id": "66dea93c",
   "metadata": {},
   "outputs": [],
   "source": [
    "let f x = 2*x"
   ]
  },
  {
   "cell_type": "markdown",
   "id": "e21720a0",
   "metadata": {},
   "source": [
    "OCaml nous dit que `f` est de type `int -> int`, ce qui signifie que `f` prend un entier en entrée et renvoie un entier en sortie. Ceci est similaire à la notation mathématique $f : \\mathbb{N} \\longrightarrow \\mathbb{N}$.  \n",
    "\n",
    "Notons que `x` est une variable **muette** : elle n'existe qu'à l'intérieur de `f`, n'a aucun rapport avec une variable `x` définie précédemment et la fonction suivante définit exactement la même fonction :"
   ]
  },
  {
   "cell_type": "code",
   "execution_count": null,
   "id": "ccd19e97",
   "metadata": {},
   "outputs": [],
   "source": [
    "let f y = 2*y (* peu importe le nom de la variable muette y *)"
   ]
  },
  {
   "cell_type": "markdown",
   "id": "5b52d03d",
   "metadata": {},
   "source": [
    "Maintenant que `f` est définie, on peut calculer $f(3)$ :"
   ]
  },
  {
   "cell_type": "code",
   "execution_count": null,
   "id": "84f8d83b",
   "metadata": {},
   "outputs": [],
   "source": [
    "f 3"
   ]
  },
  {
   "cell_type": "markdown",
   "id": "fc271f2c",
   "metadata": {},
   "source": [
    "Comme pour les variables, il est possible d'utiliser in pour spécifier la portée d'une fonction $g$"
   ]
  },
  {
   "cell_type": "code",
   "execution_count": null,
   "id": "fc067428",
   "metadata": {},
   "outputs": [],
   "source": [
    "let g x = x + 1 in\n",
    "g 0"
   ]
  },
  {
   "cell_type": "markdown",
   "id": "0fcc089a",
   "metadata": {},
   "source": [
    "**Exercice**\n",
    "Donner la valeur de l'expression suivante :\n",
    "```ocaml\n",
    "let h x = f x + 1 in\n",
    "h 3\n",
    "```"
   ]
  },
  {
   "cell_type": "markdown",
   "id": "713f755a",
   "metadata": {},
   "source": [
    "Il est possible d'avoir plusieurs instructions dans une fonction (même si seule la dernière sera renvoyée) :"
   ]
  },
  {
   "cell_type": "code",
   "execution_count": null,
   "id": "09d0e2f3",
   "metadata": {},
   "outputs": [],
   "source": [
    "let pow4 x = (* je saute une ligne ici pour plus de lisibilité *)\n",
    "    let y = x*x in\n",
    "    y*y (* renvoie x puissance 4 *)"
   ]
  },
  {
   "cell_type": "code",
   "execution_count": null,
   "id": "649cf7af",
   "metadata": {},
   "outputs": [],
   "source": [
    "pow4 2 (* test de notre fonction *)"
   ]
  },
  {
   "cell_type": "markdown",
   "id": "a4dd09b2",
   "metadata": {},
   "source": [
    "## Fonctions anonymes"
   ]
  },
  {
   "cell_type": "markdown",
   "id": "768100d1",
   "metadata": {},
   "source": [
    "Quand on a besoin d'utiliser une fonction une seule fois, on peut définir une fonction anonyme (sans nom) avec `fun`. "
   ]
  },
  {
   "cell_type": "code",
   "execution_count": null,
   "id": "04fd9dc0",
   "metadata": {},
   "outputs": [],
   "source": [
    "fun x -> x*2 (* définition d'une fonction anonyme *)"
   ]
  },
  {
   "cell_type": "code",
   "execution_count": null,
   "id": "2843628c",
   "metadata": {},
   "outputs": [],
   "source": [
    "(fun x -> x*2) 3 (* applique une fonction anonyme sur la valeur 3 *)"
   ]
  },
  {
   "cell_type": "markdown",
   "id": "dd33c4a7",
   "metadata": {},
   "source": [
    "## Fonctions de plusieurs variables"
   ]
  },
  {
   "cell_type": "markdown",
   "id": "b7b14ba8",
   "metadata": {},
   "source": [
    "Il est possible de définir des fonctions avec plusieurs paramètres, par exemple :"
   ]
  },
  {
   "cell_type": "code",
   "execution_count": null,
   "id": "b5e76200",
   "metadata": {
    "lines_to_next_cell": 0
   },
   "outputs": [],
   "source": [
    "let sum x y = x + y"
   ]
  },
  {
   "cell_type": "code",
   "execution_count": null,
   "id": "bcd15d71",
   "metadata": {},
   "outputs": [],
   "source": [
    "sum 3 4 (* renvoie 3 + 4 *)"
   ]
  },
  {
   "cell_type": "markdown",
   "id": "d769ac2b",
   "metadata": {},
   "source": [
    "Le type de `sum` est `int -> int -> int`, ce qui peut paraître étrange.  \n",
    "C'est équivalent à `int -> (int -> int)`, ce qui signifie que `sum` prend en entier en argument et renvoie une valeur de type `int -> int` (c'est à dire une fonction).  \n",
    "En effet :"
   ]
  },
  {
   "cell_type": "code",
   "execution_count": null,
   "id": "c317c545",
   "metadata": {},
   "outputs": [],
   "source": [
    "sum 3"
   ]
  },
  {
   "cell_type": "markdown",
   "id": "c748b672",
   "metadata": {},
   "source": [
    "`sum 3` est une fonction qui prend en argument un entier `y` et qui renvoie `3 + y`, ce qu'on peut vérifier :"
   ]
  },
  {
   "cell_type": "code",
   "execution_count": null,
   "id": "d394d0e7",
   "metadata": {},
   "outputs": [],
   "source": [
    "let f = sum 3 in (* f est une fonction *)\n",
    "f 4 (* renvoie sum 3 4, c'est à dire 7 *)"
   ]
  },
  {
   "cell_type": "markdown",
   "id": "2b0cdebf",
   "metadata": {},
   "source": [
    "La possibilité d'appliquer une fonction seulement sur certains arguments s'appelle l'**application partielle** de fonction. C'est un des avantages d'OCaml par rapport à Python.  "
   ]
  },
  {
   "cell_type": "markdown",
   "id": "c1954fc2",
   "metadata": {},
   "source": [
    "De la même façon, une fonction OCaml à 3 arguments sera de type `... -> ... -> ... -> ...`."
   ]
  },
  {
   "cell_type": "markdown",
   "id": "e4201989",
   "metadata": {},
   "source": [
    "**Exercice** : \n",
    "1. Écrire une fonction `xor : bool -> bool -> bool` telle que `xor a b` renvoie le ou exclusif de `a` et `b`, c'est à dire `true` si `a` ou `b` est `true`, mais pas les deux.\n",
    "2. Écrire une fonction `delta : float -> float -> float -> float` telle que `delta a b c` renvoie le discriminant de l'équation $ax^2 + bx + c = 0$."
   ]
  },
  {
   "cell_type": "markdown",
   "id": "498ade04",
   "metadata": {},
   "source": [
    "# Polymorphisme"
   ]
  },
  {
   "cell_type": "markdown",
   "id": "a0be9d61",
   "metadata": {},
   "source": [
    "Reprenons notre 1er exemple de fonction :"
   ]
  },
  {
   "cell_type": "code",
   "execution_count": null,
   "id": "433b8d8b",
   "metadata": {},
   "outputs": [],
   "source": [
    "let f x = 2*x"
   ]
  },
  {
   "cell_type": "markdown",
   "id": "6b4e68f2",
   "metadata": {},
   "source": [
    "OCaml sait que l'argument `x` de `f` est un `int` car on utilise l'opérateur `*` qui ne s'utilise que sur des entiers. Mais dans certaines fonctions, il n'y a pas de contrainte de type :"
   ]
  },
  {
   "cell_type": "code",
   "execution_count": null,
   "id": "c114c149",
   "metadata": {},
   "outputs": [],
   "source": [
    "let id x = x"
   ]
  },
  {
   "cell_type": "markdown",
   "id": "6f2fed7f",
   "metadata": {},
   "source": [
    "Cette fonction `id` (pour identité) renvoie son argument sans le modifier. Comme aucune opération n'est appliquée sur `x`, il n'y a pas de conrainte sur son type. OCaml utilise alors `'a` pour désigner le type quelconque de `x`.  \n",
    "Notons que le type de retour de `id` est `'a` également : OCaml nous dit que `id` renvoie une valeur du même type que l'argument."
   ]
  },
  {
   "cell_type": "markdown",
   "id": "8a73573f",
   "metadata": {},
   "source": [
    "## Fonction comme argument\n",
    "\n",
    "Il est possible d'utiliser une fonction en argument d'une autre fonction. Par exemple, la fonction suivante évalue une autre fonction en la valeur 0 :"
   ]
  },
  {
   "cell_type": "code",
   "execution_count": null,
   "id": "1b555b75",
   "metadata": {},
   "outputs": [],
   "source": [
    "let eval f =\n",
    "f 0"
   ]
  },
  {
   "cell_type": "code",
   "execution_count": null,
   "id": "094d6a61",
   "metadata": {},
   "outputs": [],
   "source": [
    "let f x = 3*x + 7 in\n",
    "eval f"
   ]
  },
  {
   "cell_type": "markdown",
   "id": "2430442e",
   "metadata": {},
   "source": [
    "**Exercice** : À quoi sert la fonction suivante? Comment cette opération s'appelle-t-elle mathématiquement?\n",
    "```ocaml\n",
    "let h f g x = f (g x)\n",
    "```"
   ]
  },
  {
   "cell_type": "code",
   "execution_count": null,
   "id": "80ded7dc",
   "metadata": {},
   "outputs": [],
   "source": []
  }
 ],
 "metadata": {
  "kernelspec": {
   "display_name": "OCaml default",
   "language": "OCaml",
   "name": "ocaml-jupyter"
  }
 },
 "nbformat": 4,
 "nbformat_minor": 5
}

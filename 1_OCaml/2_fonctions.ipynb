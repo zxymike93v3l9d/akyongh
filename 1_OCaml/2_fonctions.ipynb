{
 "cells": [
  {
   "cell_type": "markdown",
   "id": "cb900208",
   "metadata": {},
   "source": [
    "# Fonctions"
   ]
  },
  {
   "cell_type": "markdown",
   "id": "e4d12e63",
   "metadata": {},
   "source": [
    "## Utiliser une fonction\n",
    "\n",
    "OCaml est un langage fonctionnel, ce qui signifie que :\n",
    "- les fonctions y occupent une place importante et peuvent être manipulées un peu comme des variables\n",
    "- les fonctions sont censées ne pas effectuer d'effet de bord, c'est à dire d'action sur l'extérieur de la fonction (pas de modification de variable globale, pas d'écriture dans un fichier...)\n",
    "\n",
    "Pour utiliser une fonction `f` sur une valeur `x`, on écrira simplement `f x` (et non pas `f(x)`).  \n",
    "\n",
    "Un certain nombre de fonctions sont déjà définies en OCaml. Par exemple, la racine carrée : "
   ]
  },
  {
   "cell_type": "code",
   "execution_count": 1,
   "id": "c23fe6ec",
   "metadata": {
    "execution": {
     "iopub.execute_input": "2021-09-11T08:52:49.177306Z",
     "iopub.status.busy": "2021-09-11T08:52:49.176757Z",
     "iopub.status.idle": "2021-09-11T08:52:49.178923Z",
     "shell.execute_reply": "2021-09-11T08:52:49.179253Z"
    },
    "tags": []
   },
   "outputs": [
    {
     "data": {
      "text/plain": [
       "- : float = 1.41421356237309515\n"
      ]
     },
     "execution_count": 1,
     "metadata": {},
     "output_type": "execute_result"
    }
   ],
   "source": [
    "sqrt 2.0 (* renvoie une approximation de racine de 2 *)"
   ]
  },
  {
   "cell_type": "markdown",
   "id": "4d79b4f6",
   "metadata": {},
   "source": [
    "Chaque fonction possède une **signature**, qui donne les types des paramètres (valeurs en entrée de la fonction) et le type de la valeur de retour."
   ]
  },
  {
   "cell_type": "code",
   "execution_count": 2,
   "id": "01298b60",
   "metadata": {
    "execution": {
     "iopub.execute_input": "2021-09-11T08:52:49.180898Z",
     "iopub.status.busy": "2021-09-11T08:52:49.180493Z",
     "iopub.status.idle": "2021-09-11T08:52:49.183611Z",
     "shell.execute_reply": "2021-09-11T08:52:49.183281Z"
    },
    "tags": []
   },
   "outputs": [
    {
     "data": {
      "text/plain": [
       "- : float -> float = <fun>\n"
      ]
     },
     "execution_count": 2,
     "metadata": {},
     "output_type": "execute_result"
    }
   ],
   "source": [
    "sqrt"
   ]
  },
  {
   "cell_type": "markdown",
   "id": "70d637ab",
   "metadata": {},
   "source": [
    "`float -> float` signifie que `sqrt` est une fonction qui prend un flottant en entrée et renvoie un flottant. On ne peut donc pas l'appliquer sur un entier :"
   ]
  },
  {
   "cell_type": "code",
   "execution_count": 3,
   "id": "dd022516",
   "metadata": {
    "execution": {
     "iopub.execute_input": "2021-09-11T08:52:49.185020Z",
     "iopub.status.busy": "2021-09-11T08:52:49.184623Z",
     "iopub.status.idle": "2021-09-11T08:52:49.186381Z",
     "shell.execute_reply": "2021-09-11T08:52:49.186703Z"
    },
    "tags": []
   },
   "outputs": [
    {
     "ename": "error",
     "evalue": "compile_error",
     "output_type": "error",
     "traceback": [
      "File \"[3]\", line 1, characters 5-6:\n1 | sqrt 2 (* erreur : on donne un entier à sqrt qui attend un flottant *)\n         ^\nError: This expression has type int but an expression was expected of type\n         float\n"
     ]
    }
   ],
   "source": [
    "sqrt 2 (* erreur : on donne un entier à sqrt qui attend un flottant *)"
   ]
  },
  {
   "cell_type": "markdown",
   "id": "621af9c1",
   "metadata": {},
   "source": [
    "## Définir une fonction"
   ]
  },
  {
   "cell_type": "markdown",
   "id": "367961db",
   "metadata": {},
   "source": [
    "En OCaml, une fonction se définie de la façon suivante :\n",
    "```ocaml\n",
    "let nom_fonction nom_argument = ... \n",
    "```\n",
    "où `...` est le corps de la fonction, c'est à dire ce qui est exécuté lorsqu'on utilise la fonction. \n",
    "\n",
    "**La valeur renvoyée par la fonction est celle de la dernière instruction (pas besoin de `return`)**."
   ]
  },
  {
   "cell_type": "markdown",
   "id": "e6f063b0",
   "metadata": {},
   "source": [
    "Définissons par exemple la fonction $f: x \\longmapsto 2x$ :"
   ]
  },
  {
   "cell_type": "code",
   "execution_count": 4,
   "id": "6e61bd02",
   "metadata": {
    "execution": {
     "iopub.execute_input": "2021-09-11T08:52:49.188329Z",
     "iopub.status.busy": "2021-09-11T08:52:49.187929Z",
     "iopub.status.idle": "2021-09-11T08:52:49.190357Z",
     "shell.execute_reply": "2021-09-11T08:52:49.190733Z"
    },
    "tags": []
   },
   "outputs": [
    {
     "data": {
      "text/plain": [
       "val f : int -> int = <fun>\n"
      ]
     },
     "execution_count": 4,
     "metadata": {},
     "output_type": "execute_result"
    }
   ],
   "source": [
    "let f x = 2*x"
   ]
  },
  {
   "cell_type": "markdown",
   "id": "db4d8327",
   "metadata": {},
   "source": [
    "OCaml nous dit que `f` est de type `int -> int`, ce qui signifie que `f` prend un entier en entrée et renvoie un entier en sortie. Ceci est similaire à la notation mathématique $f : \\mathbb{N} \\longrightarrow \\mathbb{N}$.\n",
    "\n",
    "On peut ensuite utiliser `f` et récupérer la valeur de retour :"
   ]
  },
  {
   "cell_type": "code",
   "execution_count": 5,
   "id": "a5624b4d",
   "metadata": {
    "execution": {
     "iopub.execute_input": "2021-09-11T08:52:49.192441Z",
     "iopub.status.busy": "2021-09-11T08:52:49.191991Z",
     "iopub.status.idle": "2021-09-11T08:52:49.193799Z",
     "shell.execute_reply": "2021-09-11T08:52:49.194142Z"
    }
   },
   "outputs": [
    {
     "data": {
      "text/plain": [
       "- : int = 6\n"
      ]
     },
     "execution_count": 5,
     "metadata": {},
     "output_type": "execute_result"
    }
   ],
   "source": [
    "f 3"
   ]
  },
  {
   "cell_type": "markdown",
   "id": "d3873769",
   "metadata": {},
   "source": [
    "Notons que `x` est une variable **muette** : elle n'existe qu'à l'intérieur de `f`, n'a aucun rapport avec une variable `x` définie précédemment et la fonction suivante définit exactement la même fonction :"
   ]
  },
  {
   "cell_type": "code",
   "execution_count": 6,
   "id": "77a4c864",
   "metadata": {
    "execution": {
     "iopub.execute_input": "2021-09-11T08:52:49.195833Z",
     "iopub.status.busy": "2021-09-11T08:52:49.195378Z",
     "iopub.status.idle": "2021-09-11T08:52:49.197579Z",
     "shell.execute_reply": "2021-09-11T08:52:49.197923Z"
    },
    "tags": []
   },
   "outputs": [
    {
     "data": {
      "text/plain": [
       "val f : int -> int = <fun>\n"
      ]
     },
     "execution_count": 6,
     "metadata": {},
     "output_type": "execute_result"
    }
   ],
   "source": [
    "let f y = 2*y (* peu importe le nom de la variable muette y *)"
   ]
  },
  {
   "cell_type": "markdown",
   "id": "292569ca",
   "metadata": {},
   "source": [
    "Maintenant que `f` est définie, on peut calculer $f(3)$ :"
   ]
  },
  {
   "cell_type": "code",
   "execution_count": 7,
   "id": "93c89e1c",
   "metadata": {
    "execution": {
     "iopub.execute_input": "2021-09-11T08:52:49.199365Z",
     "iopub.status.busy": "2021-09-11T08:52:49.198966Z",
     "iopub.status.idle": "2021-09-11T08:52:49.200637Z",
     "shell.execute_reply": "2021-09-11T08:52:49.200958Z"
    },
    "tags": []
   },
   "outputs": [
    {
     "data": {
      "text/plain": [
       "- : int = 6\n"
      ]
     },
     "execution_count": 7,
     "metadata": {},
     "output_type": "execute_result"
    }
   ],
   "source": [
    "f 3"
   ]
  },
  {
   "cell_type": "markdown",
   "id": "a9c1b4ed",
   "metadata": {},
   "source": [
    "**Exercice** : définir la fonction $f : x \\longmapsto \\frac{1}{\\sqrt{1 + x^2}}$ en OCaml."
   ]
  },
  {
   "cell_type": "markdown",
   "id": "851a4a18",
   "metadata": {},
   "source": [
    "Comme pour les variables, il est possible d'utiliser `in` pour spécifier la portée d'une fonction $g$"
   ]
  },
  {
   "cell_type": "code",
   "execution_count": 8,
   "id": "a0569a44",
   "metadata": {
    "execution": {
     "iopub.execute_input": "2021-09-11T08:52:49.202566Z",
     "iopub.status.busy": "2021-09-11T08:52:49.202169Z",
     "iopub.status.idle": "2021-09-11T08:52:49.205278Z",
     "shell.execute_reply": "2021-09-11T08:52:49.204912Z"
    },
    "tags": []
   },
   "outputs": [
    {
     "data": {
      "text/plain": [
       "- : int = 1\n"
      ]
     },
     "execution_count": 8,
     "metadata": {},
     "output_type": "execute_result"
    }
   ],
   "source": [
    "let g x = x + 1 in\n",
    "g 0  (* g est utilisable seulement dans le in *)"
   ]
  },
  {
   "cell_type": "markdown",
   "id": "d68b3af1",
   "metadata": {},
   "source": [
    "**Exercice** Donner la valeur de l'expression suivante :\n",
    "```ocaml\n",
    "let h x = f x + 1 in\n",
    "h 3\n",
    "```"
   ]
  },
  {
   "cell_type": "markdown",
   "id": "5652188d",
   "metadata": {},
   "source": [
    "## Fonctions anonymes"
   ]
  },
  {
   "cell_type": "markdown",
   "id": "73c4977b",
   "metadata": {},
   "source": [
    "Quand on a besoin d'utiliser une fonction une seule fois, on peut définir une fonction anonyme (sans nom) avec `fun`. C'est l'équivalent de `lambda` en Python."
   ]
  },
  {
   "cell_type": "code",
   "execution_count": 9,
   "id": "815f6630",
   "metadata": {
    "execution": {
     "iopub.execute_input": "2021-09-11T08:52:49.206800Z",
     "iopub.status.busy": "2021-09-11T08:52:49.206399Z",
     "iopub.status.idle": "2021-09-11T08:52:49.208787Z",
     "shell.execute_reply": "2021-09-11T08:52:49.208414Z"
    },
    "tags": []
   },
   "outputs": [
    {
     "data": {
      "text/plain": [
       "- : int -> int = <fun>\n"
      ]
     },
     "execution_count": 9,
     "metadata": {},
     "output_type": "execute_result"
    }
   ],
   "source": [
    "fun x -> x*2 (* définition d'une fonction anonyme *)"
   ]
  },
  {
   "cell_type": "code",
   "execution_count": 10,
   "id": "68fdf058",
   "metadata": {
    "execution": {
     "iopub.execute_input": "2021-09-11T08:52:49.210274Z",
     "iopub.status.busy": "2021-09-11T08:52:49.209878Z",
     "iopub.status.idle": "2021-09-11T08:52:49.212377Z",
     "shell.execute_reply": "2021-09-11T08:52:49.211998Z"
    },
    "tags": []
   },
   "outputs": [
    {
     "data": {
      "text/plain": [
       "- : int = 6\n"
      ]
     },
     "execution_count": 10,
     "metadata": {},
     "output_type": "execute_result"
    }
   ],
   "source": [
    "(fun x -> x*2) 3 (* applique une fonction anonyme sur la valeur 3 *)"
   ]
  },
  {
   "cell_type": "markdown",
   "id": "7502378e",
   "metadata": {},
   "source": [
    "**Remarque** : les deux définitions suivantes sont en fait complètement équivalentes.\n",
    "```ocaml\n",
    "let f x = ...\n",
    "```\n",
    "```ocaml\n",
    "let f = fun x -> ...\n",
    "```\n",
    "\n",
    "Par exemple, on peut définir la fonction $f : x \\longmapsto 2 \\sqrt{x}$ comme ceci :"
   ]
  },
  {
   "cell_type": "code",
   "execution_count": 11,
   "id": "b232c53d",
   "metadata": {
    "execution": {
     "iopub.execute_input": "2021-09-11T08:52:49.213907Z",
     "iopub.status.busy": "2021-09-11T08:52:49.213508Z",
     "iopub.status.idle": "2021-09-11T08:52:49.216014Z",
     "shell.execute_reply": "2021-09-11T08:52:49.215636Z"
    }
   },
   "outputs": [
    {
     "data": {
      "text/plain": [
       "val f : float -> float = <fun>\n"
      ]
     },
     "execution_count": 11,
     "metadata": {},
     "output_type": "execute_result"
    }
   ],
   "source": [
    "let f = fun x -> 2.0*.x**0.5"
   ]
  },
  {
   "cell_type": "markdown",
   "id": "cdd35d6a",
   "metadata": {},
   "source": [
    "**Remarque** : On peut aussi définir une fonction avec `function x -> ...` mais `fun` est légèrement plus simple d'utilisation."
   ]
  },
  {
   "cell_type": "markdown",
   "id": "6c287bb6",
   "metadata": {},
   "source": [
    "## Fonctions de plusieurs variables"
   ]
  },
  {
   "cell_type": "markdown",
   "id": "748e21aa",
   "metadata": {},
   "source": [
    "Il est possible de définir des fonctions avec plusieurs paramètres, par exemple :"
   ]
  },
  {
   "cell_type": "code",
   "execution_count": 12,
   "id": "cbd304c4",
   "metadata": {
    "execution": {
     "iopub.execute_input": "2021-09-11T08:52:49.217629Z",
     "iopub.status.busy": "2021-09-11T08:52:49.217224Z",
     "iopub.status.idle": "2021-09-11T08:52:49.220246Z",
     "shell.execute_reply": "2021-09-11T08:52:49.219864Z"
    },
    "lines_to_next_cell": 0,
    "tags": []
   },
   "outputs": [
    {
     "data": {
      "text/plain": [
       "val sum : int -> int -> int = <fun>\n"
      ]
     },
     "execution_count": 12,
     "metadata": {},
     "output_type": "execute_result"
    }
   ],
   "source": [
    "let sum x y = x + y"
   ]
  },
  {
   "cell_type": "code",
   "execution_count": 13,
   "id": "d6314976",
   "metadata": {
    "execution": {
     "iopub.execute_input": "2021-09-11T08:52:49.221752Z",
     "iopub.status.busy": "2021-09-11T08:52:49.221350Z",
     "iopub.status.idle": "2021-09-11T08:52:49.223020Z",
     "shell.execute_reply": "2021-09-11T08:52:49.223321Z"
    },
    "tags": []
   },
   "outputs": [
    {
     "data": {
      "text/plain": [
       "- : int = 7\n"
      ]
     },
     "execution_count": 13,
     "metadata": {},
     "output_type": "execute_result"
    }
   ],
   "source": [
    "sum 3 4 (* renvoie 3 + 4 *)"
   ]
  },
  {
   "cell_type": "markdown",
   "id": "f52dfdc1",
   "metadata": {},
   "source": [
    "Le type de `sum` est `int -> int -> int`, ce qui peut paraître étrange. C'est équivalent à `int -> (int -> int)`, ce qui signifie que `sum` prend en entier en argument et renvoie une valeur de type `int -> int` (c'est à dire une fonction).  \n",
    "En effet :"
   ]
  },
  {
   "cell_type": "code",
   "execution_count": 14,
   "id": "fa9d21a8",
   "metadata": {
    "execution": {
     "iopub.execute_input": "2021-09-11T08:52:49.224841Z",
     "iopub.status.busy": "2021-09-11T08:52:49.224444Z",
     "iopub.status.idle": "2021-09-11T08:52:49.226141Z",
     "shell.execute_reply": "2021-09-11T08:52:49.226442Z"
    },
    "tags": []
   },
   "outputs": [
    {
     "data": {
      "text/plain": [
       "- : int -> int = <fun>\n"
      ]
     },
     "execution_count": 14,
     "metadata": {},
     "output_type": "execute_result"
    }
   ],
   "source": [
    "sum 3"
   ]
  },
  {
   "cell_type": "markdown",
   "id": "ab3605cb",
   "metadata": {},
   "source": [
    "`sum 3` est une fonction qui prend en argument un entier `y` et qui renvoie `3 + y`, ce qu'on peut vérifier :"
   ]
  },
  {
   "cell_type": "code",
   "execution_count": 15,
   "id": "6a4920de",
   "metadata": {
    "execution": {
     "iopub.execute_input": "2021-09-11T08:52:49.227993Z",
     "iopub.status.busy": "2021-09-11T08:52:49.227590Z",
     "iopub.status.idle": "2021-09-11T08:52:49.230031Z",
     "shell.execute_reply": "2021-09-11T08:52:49.229652Z"
    },
    "tags": []
   },
   "outputs": [
    {
     "data": {
      "text/plain": [
       "- : int = 7\n"
      ]
     },
     "execution_count": 15,
     "metadata": {},
     "output_type": "execute_result"
    }
   ],
   "source": [
    "let f = sum 3 in (* f est une fonction *)\n",
    "f 4 (* renvoie sum 3 4, c'est à dire 7 *)"
   ]
  },
  {
   "cell_type": "markdown",
   "id": "85b64347",
   "metadata": {},
   "source": [
    "En fait, OCaml transforme automatiquement une fonction de plusieurs variables en une suite de fonctions à une variable (c'est ce qu'on appelle la **curryfication**) :"
   ]
  },
  {
   "cell_type": "code",
   "execution_count": 16,
   "id": "05b6ceee",
   "metadata": {
    "execution": {
     "iopub.execute_input": "2021-09-11T08:52:49.231429Z",
     "iopub.status.busy": "2021-09-11T08:52:49.231034Z",
     "iopub.status.idle": "2021-09-11T08:52:49.235132Z",
     "shell.execute_reply": "2021-09-11T08:52:49.234754Z"
    }
   },
   "outputs": [
    {
     "data": {
      "text/plain": [
       "val sum : int -> int -> int = <fun>\n"
      ]
     },
     "execution_count": 16,
     "metadata": {},
     "output_type": "execute_result"
    }
   ],
   "source": [
    "let sum = fun x -> (fun y -> x + y) (* OCaml transforme la définition de sum ci-dessus en celle-ci *)"
   ]
  },
  {
   "cell_type": "code",
   "execution_count": 17,
   "id": "d693d5ad",
   "metadata": {
    "execution": {
     "iopub.execute_input": "2021-09-11T08:52:49.236506Z",
     "iopub.status.busy": "2021-09-11T08:52:49.236109Z",
     "iopub.status.idle": "2021-09-11T08:52:49.238325Z",
     "shell.execute_reply": "2021-09-11T08:52:49.237951Z"
    }
   },
   "outputs": [
    {
     "data": {
      "text/plain": [
       "- : int = 5\n"
      ]
     },
     "execution_count": 17,
     "metadata": {},
     "output_type": "execute_result"
    }
   ],
   "source": [
    "(sum 2) 3  (* le calcul effectué par OCaml lorsqu'on écrit sum 2 3 *)"
   ]
  },
  {
   "cell_type": "markdown",
   "id": "bfe5920b",
   "metadata": {},
   "source": [
    "La possibilité d'appliquer une fonction seulement sur certains arguments s'appelle l'**application partielle** de fonction. C'est un des avantages d'OCaml par rapport à Python.  "
   ]
  },
  {
   "cell_type": "markdown",
   "id": "02fed853",
   "metadata": {},
   "source": [
    "De la même façon, une fonction OCaml à 3 arguments sera de type `... -> ... -> ... -> ...`."
   ]
  },
  {
   "cell_type": "markdown",
   "id": "7f456947",
   "metadata": {},
   "source": [
    "**Exercice** : Écrire une fonction `delta : float -> float -> float -> float` telle que `delta a b c` renvoie le discriminant de l'équation $ax^2 + bx + c = 0$."
   ]
  },
  {
   "cell_type": "markdown",
   "id": "faabdc6b",
   "metadata": {},
   "source": [
    "Une fonction peut aussi avoir aucune valeur en entrée. Dans ce cas, on lui donne l'argument `()` (de type unit). C'est le cas par exemple de `print_newline`, qui saute une ligne : "
   ]
  },
  {
   "cell_type": "code",
   "execution_count": 18,
   "id": "af89a95a",
   "metadata": {
    "execution": {
     "iopub.execute_input": "2021-09-11T08:52:49.239828Z",
     "iopub.status.busy": "2021-09-11T08:52:49.239432Z",
     "iopub.status.idle": "2021-09-11T08:52:49.243496Z",
     "shell.execute_reply": "2021-09-11T08:52:49.242093Z"
    }
   },
   "outputs": [
    {
     "name": "stdout",
     "output_type": "stream",
     "text": [
      "0\n",
      "1\n"
     ]
    },
    {
     "data": {
      "text/plain": [
       "- : unit = ()\n"
      ]
     },
     "execution_count": 18,
     "metadata": {},
     "output_type": "execute_result"
    }
   ],
   "source": [
    "print_int 0;\n",
    "print_newline ();\n",
    "print_int 1;\n",
    "print_newline ();"
   ]
  },
  {
   "cell_type": "markdown",
   "id": "fda11693",
   "metadata": {},
   "source": [
    "## Polymorphisme"
   ]
  },
  {
   "cell_type": "markdown",
   "id": "ac60b1b9",
   "metadata": {},
   "source": [
    "Reprenons notre 1er exemple de fonction :"
   ]
  },
  {
   "cell_type": "code",
   "execution_count": 19,
   "id": "0dc136b0",
   "metadata": {
    "execution": {
     "iopub.execute_input": "2021-09-11T08:52:49.244923Z",
     "iopub.status.busy": "2021-09-11T08:52:49.244532Z",
     "iopub.status.idle": "2021-09-11T08:52:49.246868Z",
     "shell.execute_reply": "2021-09-11T08:52:49.246491Z"
    }
   },
   "outputs": [
    {
     "data": {
      "text/plain": [
       "val f : int -> int = <fun>\n"
      ]
     },
     "execution_count": 19,
     "metadata": {},
     "output_type": "execute_result"
    }
   ],
   "source": [
    "let f x = 2*x"
   ]
  },
  {
   "cell_type": "markdown",
   "id": "51f9e39f",
   "metadata": {},
   "source": [
    "OCaml sait que l'argument `x` de `f` est un `int` car on utilise l'opérateur `*` qui ne s'utilise que sur des entiers. Mais dans certaines fonctions, il n'y a pas de contrainte de type :"
   ]
  },
  {
   "cell_type": "code",
   "execution_count": 20,
   "id": "77cd6461",
   "metadata": {
    "execution": {
     "iopub.execute_input": "2021-09-11T08:52:49.248360Z",
     "iopub.status.busy": "2021-09-11T08:52:49.247962Z",
     "iopub.status.idle": "2021-09-11T08:52:49.249678Z",
     "shell.execute_reply": "2021-09-11T08:52:49.249979Z"
    }
   },
   "outputs": [
    {
     "data": {
      "text/plain": [
       "val id : 'a -> 'a = <fun>\n"
      ]
     },
     "execution_count": 20,
     "metadata": {},
     "output_type": "execute_result"
    }
   ],
   "source": [
    "let id x = x"
   ]
  },
  {
   "cell_type": "markdown",
   "id": "1d2e51a9",
   "metadata": {},
   "source": [
    "Cette fonction `id` (pour identité) renvoie son argument sans le modifier. Comme aucune opération n'est appliquée sur `x`, il n'y a pas de contrainte sur son type. OCaml utilise alors `'a` pour désigner le type quelconque de `x`.  \n",
    "Notons que le type de retour de `id` est `'a` également : OCaml nous dit que `id` renvoie une valeur du même type que l'argument."
   ]
  },
  {
   "cell_type": "markdown",
   "id": "6258239e",
   "metadata": {},
   "source": [
    "**Exercice** : donner le type des fonctions suivantes  \n",
    "```ocaml\n",
    " let f x = 42\n",
    "```\n",
    "```ocaml\n",
    " let f x y = y\n",
    "```\n",
    "```ocaml\n",
    " let g x y f = x + f y\n",
    " ```"
   ]
  },
  {
   "cell_type": "code",
   "execution_count": 21,
   "id": "99bfbdcc",
   "metadata": {
    "execution": {
     "iopub.execute_input": "2021-09-11T08:52:49.251565Z",
     "iopub.status.busy": "2021-09-11T08:52:49.251156Z",
     "iopub.status.idle": "2021-09-11T08:52:49.253424Z",
     "shell.execute_reply": "2021-09-11T08:52:49.253026Z"
    }
   },
   "outputs": [
    {
     "data": {
      "text/plain": [
       "val f : 'a -> 'b -> 'b = <fun>\n"
      ]
     },
     "execution_count": 21,
     "metadata": {},
     "output_type": "execute_result"
    }
   ],
   "source": [
    "let f x y = y;; \n",
    "(* x est quelconque ('a), y aussi ('b) mais le type de retour est le même que y ('b) *)\n",
    "(* donc f est de type 'a -> 'b -> 'b *)"
   ]
  },
  {
   "cell_type": "code",
   "execution_count": 22,
   "id": "813cf655",
   "metadata": {
    "execution": {
     "iopub.execute_input": "2021-09-11T08:52:49.254949Z",
     "iopub.status.busy": "2021-09-11T08:52:49.254546Z",
     "iopub.status.idle": "2021-09-11T08:52:49.256775Z",
     "shell.execute_reply": "2021-09-11T08:52:49.257095Z"
    }
   },
   "outputs": [
    {
     "data": {
      "text/plain": [
       "val g : int -> 'a -> ('a -> int) -> int = <fun>\n"
      ]
     },
     "execution_count": 22,
     "metadata": {},
     "output_type": "execute_result"
    }
   ],
   "source": [
    "let g x y f = x + f y;; \n",
    "(* x est un int, à cause du + *)\n",
    "(* y est quelconque ('a) *)\n",
    "(* f est une fonction qui prend un y (de type 'a) et renvoie un int, à cause du + *)\n",
    "(* donc f est de type int -> 'a -> ()*)"
   ]
  },
  {
   "cell_type": "markdown",
   "id": "e5e33da1",
   "metadata": {},
   "source": [
    "## Fonction comme argument\n",
    "\n",
    "Il est possible d'utiliser une fonction en argument d'une autre fonction. Par exemple, la fonction suivante évalue une autre fonction en la valeur 0 :"
   ]
  },
  {
   "cell_type": "code",
   "execution_count": 23,
   "id": "2da74548",
   "metadata": {
    "execution": {
     "iopub.execute_input": "2021-09-11T08:52:49.258515Z",
     "iopub.status.busy": "2021-09-11T08:52:49.258118Z",
     "iopub.status.idle": "2021-09-11T08:52:49.260320Z",
     "shell.execute_reply": "2021-09-11T08:52:49.259950Z"
    }
   },
   "outputs": [
    {
     "data": {
      "text/plain": [
       "val eval : (int -> 'a) -> 'a = <fun>\n"
      ]
     },
     "execution_count": 23,
     "metadata": {},
     "output_type": "execute_result"
    }
   ],
   "source": [
    "let eval f =\n",
    "f 0"
   ]
  },
  {
   "cell_type": "code",
   "execution_count": 24,
   "id": "af29437f",
   "metadata": {
    "execution": {
     "iopub.execute_input": "2021-09-11T08:52:49.261700Z",
     "iopub.status.busy": "2021-09-11T08:52:49.261295Z",
     "iopub.status.idle": "2021-09-11T08:52:49.264402Z",
     "shell.execute_reply": "2021-09-11T08:52:49.264028Z"
    }
   },
   "outputs": [
    {
     "data": {
      "text/plain": [
       "- : int = 7\n"
      ]
     },
     "execution_count": 24,
     "metadata": {},
     "output_type": "execute_result"
    }
   ],
   "source": [
    "let f x = 3*x + 7 in\n",
    "eval f"
   ]
  },
  {
   "cell_type": "markdown",
   "id": "acf5341f",
   "metadata": {},
   "source": [
    "**Exercice** : \n",
    "1. On définit une fonction `h` :\n",
    "```ocaml\n",
    "let h f g x = f (g x)\n",
    "```\n",
    "Donner la valeur de l'expression :\n",
    "```ocaml\n",
    "h (fun x -> x*x) (fun x -> x + 1) 3\n",
    "```\n",
    "2. Donner le type de `h`.\n",
    "3. À quoi sert `h`? Comment cette opération s'appelle-t-elle mathématiquement?"
   ]
  },
  {
   "cell_type": "markdown",
   "id": "2ff95242",
   "metadata": {
    "tags": []
   },
   "source": [
    "## Variable locale à une fonction"
   ]
  },
  {
   "cell_type": "markdown",
   "id": "ca761228",
   "metadata": {},
   "source": [
    "Il est possible de définir une variable dans une fonction :"
   ]
  },
  {
   "cell_type": "code",
   "execution_count": 25,
   "id": "19a31d9f",
   "metadata": {
    "execution": {
     "iopub.execute_input": "2021-09-11T08:52:49.265892Z",
     "iopub.status.busy": "2021-09-11T08:52:49.265492Z",
     "iopub.status.idle": "2021-09-11T08:52:49.268123Z",
     "shell.execute_reply": "2021-09-11T08:52:49.267752Z"
    },
    "tags": []
   },
   "outputs": [
    {
     "data": {
      "text/plain": [
       "val pow4 : int -> int = <fun>\n"
      ]
     },
     "execution_count": 25,
     "metadata": {},
     "output_type": "execute_result"
    }
   ],
   "source": [
    "let pow4 x = (* je saute une ligne ici pour plus de lisibilité *)\n",
    "    let y = x*x in  (* y est utilisable seulement dans pow4 *)\n",
    "    y*y (* renvoie x puissance 4 *)"
   ]
  },
  {
   "cell_type": "code",
   "execution_count": 26,
   "id": "aa47f742",
   "metadata": {
    "execution": {
     "iopub.execute_input": "2021-09-11T08:52:49.269492Z",
     "iopub.status.busy": "2021-09-11T08:52:49.269071Z",
     "iopub.status.idle": "2021-09-11T08:52:49.270670Z",
     "shell.execute_reply": "2021-09-11T08:52:49.270992Z"
    },
    "tags": []
   },
   "outputs": [
    {
     "data": {
      "text/plain": [
       "- : int = 16\n"
      ]
     },
     "execution_count": 26,
     "metadata": {},
     "output_type": "execute_result"
    }
   ],
   "source": [
    "pow4 2 (* test de notre fonction *)"
   ]
  },
  {
   "cell_type": "markdown",
   "id": "fd372436",
   "metadata": {
    "tags": []
   },
   "source": [
    "On peut aussi définir une fonction à l'intérieur d'une fonction. Par exemple, on peut définir $f: x \\longmapsto 2x + \\sqrt{2(x + 1)}$ en utilisant une fonction locale $g : y \\longmapsto 2y$ :"
   ]
  },
  {
   "cell_type": "code",
   "execution_count": 27,
   "id": "42705b0e",
   "metadata": {
    "execution": {
     "iopub.execute_input": "2021-09-11T08:52:49.272401Z",
     "iopub.status.busy": "2021-09-11T08:52:49.272006Z",
     "iopub.status.idle": "2021-09-11T08:52:49.275263Z",
     "shell.execute_reply": "2021-09-11T08:52:49.274884Z"
    }
   },
   "outputs": [
    {
     "data": {
      "text/plain": [
       "val f : float -> float = <fun>\n"
      ]
     },
     "execution_count": 27,
     "metadata": {},
     "output_type": "execute_result"
    }
   ],
   "source": [
    "let f x = \n",
    "    let g y = 2.*.y in (* g n'est utilisable que dans f *)\n",
    "    g x +. (g (x +. 1.))**0.5"
   ]
  },
  {
   "cell_type": "code",
   "execution_count": 28,
   "id": "031245cd",
   "metadata": {
    "execution": {
     "iopub.execute_input": "2021-09-11T08:52:49.276612Z",
     "iopub.status.busy": "2021-09-11T08:52:49.276218Z",
     "iopub.status.idle": "2021-09-11T08:52:49.277856Z",
     "shell.execute_reply": "2021-09-11T08:52:49.278174Z"
    }
   },
   "outputs": [
    {
     "data": {
      "text/plain": [
       "- : float = 4.\n"
      ]
     },
     "execution_count": 28,
     "metadata": {},
     "output_type": "execute_result"
    }
   ],
   "source": [
    "f 1."
   ]
  },
  {
   "cell_type": "markdown",
   "id": "5729da0a",
   "metadata": {},
   "source": [
    "**Exercice** : Écrire une fonction `swap` qui échange les valeurs de 2 références en argument.  \n",
    "`swap` doit être de type `'a ref -> 'a ref -> unit`, ce qui signifie que `swap` a deux références en argument, sur des valeurs de même type `'a`, et ne renvoie pas de valeur.  \n",
    "On rappelle les opérations sur les références :  \n",
    "- Définir une référence (locale) : `let a = ref 5 in ...`\n",
    "- Obtenir la valeur d'une référence : `!a`\n",
    "- Modifier une référence : `a := 7`  \n",
    "\n",
    "**Remarque importante** : Lorsque l'on modifie une référence (ou un autre objet impératif, comme un tableau) qui est l'argument d'une fonction, on la modifie aussi à l'extérieur de la fonction. C'est ce qu'on appelle un **passage par référence**.  "
   ]
  }
 ],
 "metadata": {
  "kernelspec": {
   "display_name": "OCaml default",
   "language": "OCaml",
   "name": "ocaml-jupyter"
  },
  "language_info": {
   "codemirror_mode": "text/x-ocaml",
   "file_extension": ".ml",
   "mimetype": "text/x-ocaml",
   "name": "OCaml",
   "nbconverter_exporter": null,
   "pygments_lexer": "OCaml",
   "version": "4.08.1"
  },
  "title": "Fonctions"
 },
 "nbformat": 4,
 "nbformat_minor": 5
}

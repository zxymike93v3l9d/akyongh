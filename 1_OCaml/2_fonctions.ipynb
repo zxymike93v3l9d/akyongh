{
 "cells": [
  {
   "cell_type": "markdown",
   "id": "9f1f82e5",
   "metadata": {},
   "source": [
    "# Utiliser une fonction\n",
    "\n",
    "OCaml est un langage fonctionnel, ce qui signifie que les fonctions y occupent une place importante et peuvent être manipulées un peu comme des variables.  \n",
    "Pour utiliser une fonction `f` sur une valeur `x`, on écrira simplement `f x` (et non pas `f(x)`.  \n",
    "\n",
    "Un certain nombre de fonctions sont déjà définies en OCaml. Par exemple, la racine carrée : "
   ]
  },
  {
   "cell_type": "code",
   "execution_count": 1,
   "id": "86f893f4",
   "metadata": {
    "execution": {
     "iopub.execute_input": "2021-09-02T08:55:33.130256Z",
     "iopub.status.busy": "2021-09-02T08:55:33.129396Z",
     "iopub.status.idle": "2021-09-02T08:55:33.132472Z",
     "shell.execute_reply": "2021-09-02T08:55:33.131900Z"
    },
    "tags": []
   },
   "outputs": [
    {
     "data": {
      "text/plain": [
       "- : float = 1.41421356237309515\n"
      ]
     },
     "execution_count": 1,
     "metadata": {},
     "output_type": "execute_result"
    }
   ],
   "source": [
    "sqrt 2.0 (* renvoie une approximation de racine de 2 *)"
   ]
  },
  {
   "cell_type": "markdown",
   "id": "cd0fea77",
   "metadata": {},
   "source": [
    "Chaque fonction possède une **signature**, qui donne les types des paramètres (valeurs en entrée de la fonction) et le type de la valeur de retour."
   ]
  },
  {
   "cell_type": "code",
   "execution_count": 2,
   "id": "142273f9",
   "metadata": {
    "execution": {
     "iopub.execute_input": "2021-09-02T08:55:33.135160Z",
     "iopub.status.busy": "2021-09-02T08:55:33.134449Z",
     "iopub.status.idle": "2021-09-02T08:55:33.136976Z",
     "shell.execute_reply": "2021-09-02T08:55:33.136488Z"
    },
    "tags": []
   },
   "outputs": [
    {
     "data": {
      "text/plain": [
       "- : float -> float = <fun>\n"
      ]
     },
     "execution_count": 2,
     "metadata": {},
     "output_type": "execute_result"
    }
   ],
   "source": [
    "sqrt"
   ]
  },
  {
   "cell_type": "markdown",
   "id": "3f02fe53",
   "metadata": {},
   "source": [
    "`float -> float` signifie que `sqrt` est une fonction qui prend un flottant en entrée et renvoie un flottant. On ne peut donc pas l'appliquer sur un entier :"
   ]
  },
  {
   "cell_type": "code",
   "execution_count": 3,
   "id": "a07a814d",
   "metadata": {
    "execution": {
     "iopub.execute_input": "2021-09-02T08:55:33.141092Z",
     "iopub.status.busy": "2021-09-02T08:55:33.140519Z",
     "iopub.status.idle": "2021-09-02T08:55:33.142853Z",
     "shell.execute_reply": "2021-09-02T08:55:33.143310Z"
    },
    "tags": []
   },
   "outputs": [
    {
     "ename": "error",
     "evalue": "compile_error",
     "output_type": "error",
     "traceback": [
      "File \"[3]\", line 1, characters 5-6:\n1 | sqrt 2 (* erreur : on donne un entier à sqrt qui attend un flottant *)\n         ^\nError: This expression has type int but an expression was expected of type\n         float\n"
     ]
    }
   ],
   "source": [
    "sqrt 2 (* erreur : on donne un entier à sqrt qui attend un flottant *)"
   ]
  },
  {
   "cell_type": "markdown",
   "id": "8bc18636",
   "metadata": {},
   "source": [
    "# Définir une fonction"
   ]
  },
  {
   "cell_type": "markdown",
   "id": "a0fdd0ad",
   "metadata": {},
   "source": [
    "En OCaml, une fonction se définie de la façon suivante :\n",
    "```ocaml\n",
    "let nom_fonction nom_argument = ... \n",
    "```\n",
    "où `...` est le corps de la fonction, c'est à dire ce qui est exécuté lorsqu'on utilise la fonction. La valeur renvoyée par la fonction est celle de la dernière instruction (pas besoin de `return`)."
   ]
  },
  {
   "cell_type": "markdown",
   "id": "4311cb4d",
   "metadata": {},
   "source": [
    "Définissons par exemple la fonction $f: x \\longmapsto 2x$ :"
   ]
  },
  {
   "cell_type": "code",
   "execution_count": 4,
   "id": "ffa548db",
   "metadata": {
    "execution": {
     "iopub.execute_input": "2021-09-02T08:55:33.145911Z",
     "iopub.status.busy": "2021-09-02T08:55:33.145336Z",
     "iopub.status.idle": "2021-09-02T08:55:33.148529Z",
     "shell.execute_reply": "2021-09-02T08:55:33.149013Z"
    },
    "tags": []
   },
   "outputs": [
    {
     "data": {
      "text/plain": [
       "val f : int -> int = <fun>\n"
      ]
     },
     "execution_count": 4,
     "metadata": {},
     "output_type": "execute_result"
    }
   ],
   "source": [
    "let f x = 2*x"
   ]
  },
  {
   "cell_type": "markdown",
   "id": "088af116",
   "metadata": {},
   "source": [
    "OCaml nous dit que `f` est de type `int -> int`, ce qui signifie que `f` prend un entier en entrée et renvoie un entier en sortie. Ceci est similaire à la notation mathématique $f : \\mathbb{N} \\longrightarrow \\mathbb{N}$.  \n",
    "\n",
    "Notons que `x` est une variable **muette** : elle n'existe qu'à l'intérieur de `f`, n'a aucun rapport avec une variable `x` définie précédemment et la fonction suivante définit exactement la même fonction :"
   ]
  },
  {
   "cell_type": "code",
   "execution_count": 5,
   "id": "e36fd327",
   "metadata": {
    "execution": {
     "iopub.execute_input": "2021-09-02T08:55:33.151393Z",
     "iopub.status.busy": "2021-09-02T08:55:33.150845Z",
     "iopub.status.idle": "2021-09-02T08:55:33.153516Z",
     "shell.execute_reply": "2021-09-02T08:55:33.154174Z"
    },
    "tags": []
   },
   "outputs": [
    {
     "data": {
      "text/plain": [
       "val f : int -> int = <fun>\n"
      ]
     },
     "execution_count": 5,
     "metadata": {},
     "output_type": "execute_result"
    }
   ],
   "source": [
    "let f y = 2*y (* peu importe le nom de la variable muette y *)"
   ]
  },
  {
   "cell_type": "markdown",
   "id": "94dca1b2",
   "metadata": {},
   "source": [
    "Maintenant que `f` est définie, on peut calculer $f(3)$ :"
   ]
  },
  {
   "cell_type": "code",
   "execution_count": 6,
   "id": "5ff4a656",
   "metadata": {
    "execution": {
     "iopub.execute_input": "2021-09-02T08:55:33.156691Z",
     "iopub.status.busy": "2021-09-02T08:55:33.156080Z",
     "iopub.status.idle": "2021-09-02T08:55:33.158074Z",
     "shell.execute_reply": "2021-09-02T08:55:33.158529Z"
    },
    "tags": []
   },
   "outputs": [
    {
     "data": {
      "text/plain": [
       "- : int = 6\n"
      ]
     },
     "execution_count": 6,
     "metadata": {},
     "output_type": "execute_result"
    }
   ],
   "source": [
    "f 3"
   ]
  },
  {
   "cell_type": "markdown",
   "id": "4308e156",
   "metadata": {},
   "source": [
    "Comme pour les variables, il est possible d'utiliser in pour spécifier la portée d'une fonction $g$"
   ]
  },
  {
   "cell_type": "code",
   "execution_count": 7,
   "id": "0c26b293",
   "metadata": {
    "execution": {
     "iopub.execute_input": "2021-09-02T08:55:33.160857Z",
     "iopub.status.busy": "2021-09-02T08:55:33.160221Z",
     "iopub.status.idle": "2021-09-02T08:55:33.163676Z",
     "shell.execute_reply": "2021-09-02T08:55:33.163233Z"
    }
   },
   "outputs": [
    {
     "data": {
      "text/plain": [
       "- : int = 1\n"
      ]
     },
     "execution_count": 7,
     "metadata": {},
     "output_type": "execute_result"
    }
   ],
   "source": [
    "let g x = x + 1 in\n",
    "g 0"
   ]
  },
  {
   "cell_type": "markdown",
   "id": "dbae8347",
   "metadata": {},
   "source": [
    "**Exercice** Donner la valeur de l'expression suivante :\n",
    "```ocaml\n",
    "let h x = f x + 1 in\n",
    "h 3\n",
    "```"
   ]
  },
  {
   "cell_type": "markdown",
   "id": "79a31927",
   "metadata": {},
   "source": [
    "Il est possible d'avoir plusieurs instructions dans une fonction (même si seule la dernière sera renvoyée) :"
   ]
  },
  {
   "cell_type": "code",
   "execution_count": 8,
   "id": "05125d90",
   "metadata": {
    "execution": {
     "iopub.execute_input": "2021-09-02T08:55:33.165666Z",
     "iopub.status.busy": "2021-09-02T08:55:33.165233Z",
     "iopub.status.idle": "2021-09-02T08:55:33.167999Z",
     "shell.execute_reply": "2021-09-02T08:55:33.168340Z"
    },
    "tags": []
   },
   "outputs": [
    {
     "data": {
      "text/plain": [
       "val pow4 : int -> int = <fun>\n"
      ]
     },
     "execution_count": 8,
     "metadata": {},
     "output_type": "execute_result"
    }
   ],
   "source": [
    "let pow4 x = (* je saute une ligne ici pour plus de lisibilité *)\n",
    "    let y = x*x in\n",
    "    y*y (* renvoie x puissance 4 *)"
   ]
  },
  {
   "cell_type": "code",
   "execution_count": 9,
   "id": "9da24dc9",
   "metadata": {
    "execution": {
     "iopub.execute_input": "2021-09-02T08:55:33.170065Z",
     "iopub.status.busy": "2021-09-02T08:55:33.169643Z",
     "iopub.status.idle": "2021-09-02T08:55:33.171058Z",
     "shell.execute_reply": "2021-09-02T08:55:33.171375Z"
    },
    "tags": []
   },
   "outputs": [
    {
     "data": {
      "text/plain": [
       "- : int = 16\n"
      ]
     },
     "execution_count": 9,
     "metadata": {},
     "output_type": "execute_result"
    }
   ],
   "source": [
    "pow4 2 (* test de notre fonction *)"
   ]
  },
  {
   "cell_type": "markdown",
   "id": "757f0347-4c5b-45cf-ae7e-9aca551decd6",
   "metadata": {},
   "source": [
    "**Exercice** : définir la fonction $f : x \\longmapsto \\frac{1}{\\sqrt{1 + x^2}}$ en OCaml."
   ]
  },
  {
   "cell_type": "markdown",
   "id": "ec3ac2b9",
   "metadata": {},
   "source": [
    "# Fonctions anonymes"
   ]
  },
  {
   "cell_type": "markdown",
   "id": "85fac091",
   "metadata": {},
   "source": [
    "Quand on a besoin d'utiliser une fonction une seule fois, on peut définir une fonction anonyme (sans nom) avec `fun`. "
   ]
  },
  {
   "cell_type": "code",
   "execution_count": 10,
   "id": "b85e82a0",
   "metadata": {
    "execution": {
     "iopub.execute_input": "2021-09-02T08:55:33.173229Z",
     "iopub.status.busy": "2021-09-02T08:55:33.172808Z",
     "iopub.status.idle": "2021-09-02T08:55:33.175634Z",
     "shell.execute_reply": "2021-09-02T08:55:33.175090Z"
    },
    "tags": []
   },
   "outputs": [
    {
     "data": {
      "text/plain": [
       "- : int -> int = <fun>\n"
      ]
     },
     "execution_count": 10,
     "metadata": {},
     "output_type": "execute_result"
    }
   ],
   "source": [
    "fun x -> x*2 (* définition d'une fonction anonyme *)"
   ]
  },
  {
   "cell_type": "code",
   "execution_count": 11,
   "id": "abfbc954",
   "metadata": {
    "execution": {
     "iopub.execute_input": "2021-09-02T08:55:33.177854Z",
     "iopub.status.busy": "2021-09-02T08:55:33.177236Z",
     "iopub.status.idle": "2021-09-02T08:55:33.179273Z",
     "shell.execute_reply": "2021-09-02T08:55:33.179622Z"
    },
    "tags": []
   },
   "outputs": [
    {
     "data": {
      "text/plain": [
       "- : int = 6\n"
      ]
     },
     "execution_count": 11,
     "metadata": {},
     "output_type": "execute_result"
    }
   ],
   "source": [
    "(fun x -> x*2) 3 (* applique une fonction anonyme sur la valeur 3 *)"
   ]
  },
  {
   "cell_type": "markdown",
   "id": "0a534eb6",
   "metadata": {},
   "source": [
    "Remarque : les deux définitions suivantes sont en fait complètement équivalentes.\n",
    "```ocaml\n",
    "let f x = ...\n",
    "```\n",
    "```ocaml\n",
    "let f = fun x -> ...\n",
    "```"
   ]
  },
  {
   "cell_type": "markdown",
   "id": "0648142b",
   "metadata": {},
   "source": [
    "# Fonctions de plusieurs variables"
   ]
  },
  {
   "cell_type": "markdown",
   "id": "b51d610d",
   "metadata": {},
   "source": [
    "Il est possible de définir des fonctions avec plusieurs paramètres, par exemple :"
   ]
  },
  {
   "cell_type": "code",
   "execution_count": 12,
   "id": "08150e40",
   "metadata": {
    "execution": {
     "iopub.execute_input": "2021-09-02T08:55:33.181556Z",
     "iopub.status.busy": "2021-09-02T08:55:33.181124Z",
     "iopub.status.idle": "2021-09-02T08:55:33.183488Z",
     "shell.execute_reply": "2021-09-02T08:55:33.183144Z"
    },
    "lines_to_next_cell": 0,
    "tags": []
   },
   "outputs": [
    {
     "data": {
      "text/plain": [
       "val sum : int -> int -> int = <fun>\n"
      ]
     },
     "execution_count": 12,
     "metadata": {},
     "output_type": "execute_result"
    }
   ],
   "source": [
    "let sum x y = x + y"
   ]
  },
  {
   "cell_type": "code",
   "execution_count": 13,
   "id": "33ce1bfb",
   "metadata": {
    "execution": {
     "iopub.execute_input": "2021-09-02T08:55:33.185613Z",
     "iopub.status.busy": "2021-09-02T08:55:33.185189Z",
     "iopub.status.idle": "2021-09-02T08:55:33.186758Z",
     "shell.execute_reply": "2021-09-02T08:55:33.187091Z"
    },
    "tags": []
   },
   "outputs": [
    {
     "data": {
      "text/plain": [
       "- : int = 7\n"
      ]
     },
     "execution_count": 13,
     "metadata": {},
     "output_type": "execute_result"
    }
   ],
   "source": [
    "sum 3 4 (* renvoie 3 + 4 *)"
   ]
  },
  {
   "cell_type": "markdown",
   "id": "7426549d",
   "metadata": {},
   "source": [
    "Le type de `sum` est `int -> int -> int`, ce qui peut paraître étrange.  \n",
    "C'est équivalent à `int -> (int -> int)`, ce qui signifie que `sum` prend en entier en argument et renvoie une valeur de type `int -> int` (c'est à dire une fonction).  \n",
    "En effet :"
   ]
  },
  {
   "cell_type": "code",
   "execution_count": 14,
   "id": "f9fa2bb8",
   "metadata": {
    "execution": {
     "iopub.execute_input": "2021-09-02T08:55:33.188783Z",
     "iopub.status.busy": "2021-09-02T08:55:33.188377Z",
     "iopub.status.idle": "2021-09-02T08:55:33.190312Z",
     "shell.execute_reply": "2021-09-02T08:55:33.189966Z"
    },
    "tags": []
   },
   "outputs": [
    {
     "data": {
      "text/plain": [
       "- : int -> int = <fun>\n"
      ]
     },
     "execution_count": 14,
     "metadata": {},
     "output_type": "execute_result"
    }
   ],
   "source": [
    "sum 3"
   ]
  },
  {
   "cell_type": "markdown",
   "id": "5143d832",
   "metadata": {},
   "source": [
    "`sum 3` est une fonction qui prend en argument un entier `y` et qui renvoie `3 + y`, ce qu'on peut vérifier :"
   ]
  },
  {
   "cell_type": "code",
   "execution_count": 15,
   "id": "a1125266",
   "metadata": {
    "execution": {
     "iopub.execute_input": "2021-09-02T08:55:33.192084Z",
     "iopub.status.busy": "2021-09-02T08:55:33.191669Z",
     "iopub.status.idle": "2021-09-02T08:55:33.193669Z",
     "shell.execute_reply": "2021-09-02T08:55:33.194035Z"
    },
    "tags": []
   },
   "outputs": [
    {
     "data": {
      "text/plain": [
       "- : int = 7\n"
      ]
     },
     "execution_count": 15,
     "metadata": {},
     "output_type": "execute_result"
    }
   ],
   "source": [
    "let f = sum 3 in (* f est une fonction *)\n",
    "f 4 (* renvoie sum 3 4, c'est à dire 7 *)"
   ]
  },
  {
   "cell_type": "markdown",
   "id": "0ba0f31b",
   "metadata": {},
   "source": [
    "La possibilité d'appliquer une fonction seulement sur certains arguments s'appelle l'**application partielle** de fonction. C'est un des avantages d'OCaml par rapport à Python.  "
   ]
  },
  {
   "cell_type": "markdown",
   "id": "4e1b4ea7-aea6-4cf8-9573-a84ed71745e0",
   "metadata": {},
   "source": [
    "**Pour résumer, une fonction de type `int -> int -> int` signifie qu'elle prend deux entiers en arguments et renvoie un entier.**"
   ]
  },
  {
   "cell_type": "markdown",
   "id": "6a7c843b",
   "metadata": {},
   "source": [
    "De la même façon, une fonction OCaml à 3 arguments sera de type `... -> ... -> ... -> ...`."
   ]
  },
  {
   "cell_type": "markdown",
   "id": "3a68f0b1",
   "metadata": {},
   "source": [
    "**Exercice** : \n",
    "1. Écrire une fonction `delta : float -> float -> float -> float` telle que `delta a b c` renvoie le discriminant de l'équation $ax^2 + bx + c = 0$.\n",
    "2. Écrire une fonction `xor : bool -> bool -> bool` telle que `xor a b` renvoie le ou exclusif de `a` et `b`, c'est à dire `true` si `a` ou `b` est `true`, mais pas les deux."
   ]
  },
  {
   "cell_type": "code",
   "execution_count": 16,
   "id": "0b1e8b80-8e9d-43f1-a521-d84009fea077",
   "metadata": {
    "execution": {
     "iopub.execute_input": "2021-09-02T08:55:33.196044Z",
     "iopub.status.busy": "2021-09-02T08:55:33.195633Z",
     "iopub.status.idle": "2021-09-02T08:55:33.200106Z",
     "shell.execute_reply": "2021-09-02T08:55:33.199758Z"
    },
    "tags": []
   },
   "outputs": [
    {
     "data": {
      "text/plain": [
       "val delta : float -> float -> float -> float = <fun>\n"
      ]
     },
     "execution_count": 16,
     "metadata": {},
     "output_type": "execute_result"
    }
   ],
   "source": [
    "(* 1. *)\n",
    "let delta a b c = b**2. -. 4.*.a*.c"
   ]
  },
  {
   "cell_type": "markdown",
   "id": "b7d20ce1-e86f-4588-b4c6-bbc8f4588da5",
   "metadata": {},
   "source": [
    "Une fonction peut aussi avoir aucune valeur en entrée. Dans ce cas, on lui donne l'argument `()` (de type unit). C'est le cas par exemple de `print_newline`, qui saute une ligne : "
   ]
  },
  {
   "cell_type": "code",
   "execution_count": 17,
   "id": "8249a357-cc6d-4be9-a0fd-f2ce8d8514dc",
   "metadata": {
    "execution": {
     "iopub.execute_input": "2021-09-02T08:55:33.201858Z",
     "iopub.status.busy": "2021-09-02T08:55:33.201451Z",
     "iopub.status.idle": "2021-09-02T08:55:33.205069Z",
     "shell.execute_reply": "2021-09-02T08:55:33.204177Z"
    }
   },
   "outputs": [
    {
     "name": "stdout",
     "output_type": "stream",
     "text": [
      "0\n",
      "1\n"
     ]
    },
    {
     "data": {
      "text/plain": [
       "- : unit = ()\n"
      ]
     },
     "execution_count": 17,
     "metadata": {},
     "output_type": "execute_result"
    }
   ],
   "source": [
    "print_int 0;\n",
    "print_newline ();\n",
    "print_int 1;\n",
    "print_newline ();"
   ]
  },
  {
   "cell_type": "markdown",
   "id": "d2f3f8c5",
   "metadata": {},
   "source": [
    "# Polymorphisme"
   ]
  },
  {
   "cell_type": "markdown",
   "id": "3e64c70d",
   "metadata": {},
   "source": [
    "Reprenons notre 1er exemple de fonction :"
   ]
  },
  {
   "cell_type": "code",
   "execution_count": 18,
   "id": "2bdc15d8",
   "metadata": {
    "execution": {
     "iopub.execute_input": "2021-09-02T08:55:33.206823Z",
     "iopub.status.busy": "2021-09-02T08:55:33.206414Z",
     "iopub.status.idle": "2021-09-02T08:55:33.208562Z",
     "shell.execute_reply": "2021-09-02T08:55:33.208193Z"
    }
   },
   "outputs": [
    {
     "data": {
      "text/plain": [
       "val f : int -> int = <fun>\n"
      ]
     },
     "execution_count": 18,
     "metadata": {},
     "output_type": "execute_result"
    }
   ],
   "source": [
    "let f x = 2*x"
   ]
  },
  {
   "cell_type": "markdown",
   "id": "a8a9a0b9",
   "metadata": {},
   "source": [
    "OCaml sait que l'argument `x` de `f` est un `int` car on utilise l'opérateur `*` qui ne s'utilise que sur des entiers. Mais dans certaines fonctions, il n'y a pas de contrainte de type :"
   ]
  },
  {
   "cell_type": "code",
   "execution_count": 19,
   "id": "7231f380",
   "metadata": {
    "execution": {
     "iopub.execute_input": "2021-09-02T08:55:33.210339Z",
     "iopub.status.busy": "2021-09-02T08:55:33.209908Z",
     "iopub.status.idle": "2021-09-02T08:55:33.211421Z",
     "shell.execute_reply": "2021-09-02T08:55:33.211726Z"
    }
   },
   "outputs": [
    {
     "data": {
      "text/plain": [
       "val id : 'a -> 'a = <fun>\n"
      ]
     },
     "execution_count": 19,
     "metadata": {},
     "output_type": "execute_result"
    }
   ],
   "source": [
    "let id x = x"
   ]
  },
  {
   "cell_type": "markdown",
   "id": "c3bf8239",
   "metadata": {},
   "source": [
    "Cette fonction `id` (pour identité) renvoie son argument sans le modifier. Comme aucune opération n'est appliquée sur `x`, il n'y a pas de conrainte sur son type. OCaml utilise alors `'a` pour désigner le type quelconque de `x`.  \n",
    "Notons que le type de retour de `id` est `'a` également : OCaml nous dit que `id` renvoie une valeur du même type que l'argument."
   ]
  },
  {
   "cell_type": "markdown",
   "id": "740d8672",
   "metadata": {},
   "source": [
    "**Exercice** : donner le type des fonctions suivantes  \n",
    "```ocaml\n",
    " let f x = 42\n",
    " ```\n",
    "```ocaml\n",
    " let g x y f = x + f y\n",
    " ```"
   ]
  },
  {
   "cell_type": "markdown",
   "id": "bfc72f14",
   "metadata": {},
   "source": [
    "# Fonction comme argument\n",
    "\n",
    "Il est possible d'utiliser une fonction en argument d'une autre fonction. Par exemple, la fonction suivante évalue une autre fonction en la valeur 0 :"
   ]
  },
  {
   "cell_type": "code",
   "execution_count": 20,
   "id": "32a0ea56",
   "metadata": {
    "execution": {
     "iopub.execute_input": "2021-09-02T08:55:33.213436Z",
     "iopub.status.busy": "2021-09-02T08:55:33.213059Z",
     "iopub.status.idle": "2021-09-02T08:55:33.214952Z",
     "shell.execute_reply": "2021-09-02T08:55:33.214672Z"
    }
   },
   "outputs": [
    {
     "data": {
      "text/plain": [
       "val eval : (int -> 'a) -> 'a = <fun>\n"
      ]
     },
     "execution_count": 20,
     "metadata": {},
     "output_type": "execute_result"
    }
   ],
   "source": [
    "let eval f =\n",
    "f 0"
   ]
  },
  {
   "cell_type": "code",
   "execution_count": 21,
   "id": "312f996e",
   "metadata": {
    "execution": {
     "iopub.execute_input": "2021-09-02T08:55:33.216211Z",
     "iopub.status.busy": "2021-09-02T08:55:33.215889Z",
     "iopub.status.idle": "2021-09-02T08:55:33.218068Z",
     "shell.execute_reply": "2021-09-02T08:55:33.217780Z"
    }
   },
   "outputs": [
    {
     "data": {
      "text/plain": [
       "- : int = 7\n"
      ]
     },
     "execution_count": 21,
     "metadata": {},
     "output_type": "execute_result"
    }
   ],
   "source": [
    "let f x = 3*x + 7 in\n",
    "eval f"
   ]
  },
  {
   "cell_type": "markdown",
   "id": "7ce4a16a",
   "metadata": {},
   "source": [
    "**Exercice** : \n",
    "1. On définit une fonction `h` :\n",
    "```ocaml\n",
    "let h f g x = f (g x)\n",
    "```\n",
    "Donner la valeur de l'expression :\n",
    "```ocaml\n",
    "h (fun x -> x*x) (fun x -> x + 1) 3\n",
    "```\n",
    "2. Donner le type de `h`.\n",
    "3. À quoi sert `h`? Comment cette opération s'appelle-t-elle mathématiquement?"
   ]
  }
 ],
 "metadata": {
  "kernelspec": {
   "display_name": "OCaml default",
   "language": "OCaml",
   "name": "ocaml-jupyter"
  },
  "language_info": {
   "codemirror_mode": "text/x-ocaml",
   "file_extension": ".ml",
   "mimetype": "text/x-ocaml",
   "name": "OCaml",
   "nbconverter_exporter": null,
   "pygments_lexer": "OCaml",
   "version": "4.08.1"
  }
 },
 "nbformat": 4,
 "nbformat_minor": 5
}

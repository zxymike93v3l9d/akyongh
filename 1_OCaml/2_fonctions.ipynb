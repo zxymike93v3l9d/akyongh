{
 "cells": [
  {
   "cell_type": "markdown",
   "id": "cfde53d9",
   "metadata": {},
   "source": [
    "# Utiliser une fonction\n",
    "\n",
    "OCaml est un langage fonctionnel, ce qui signifie que :\n",
    "- les fonctions y occupent une place importante et peuvent être manipulées un peu comme des variables\n",
    "- les fonctions sont censées ne pas effectuer d'effet de bord, c'est à dire d'action sur l'extérieur de la fonction (pas de modification de variable globale, pas d'écriture dans un fichier...)\n",
    "\n",
    "Pour utiliser une fonction `f` sur une valeur `x`, on écrira simplement `f x` (et non pas `f(x)`.  \n",
    "\n",
    "Un certain nombre de fonctions sont déjà définies en OCaml. Par exemple, la racine carrée : "
   ]
  },
  {
   "cell_type": "code",
   "execution_count": 1,
   "id": "14302908",
   "metadata": {
    "execution": {
     "iopub.execute_input": "2021-09-08T09:19:37.766437Z",
     "iopub.status.busy": "2021-09-08T09:19:37.765729Z",
     "iopub.status.idle": "2021-09-08T09:19:37.769093Z",
     "shell.execute_reply": "2021-09-08T09:19:37.768587Z"
    },
    "tags": []
   },
   "outputs": [
    {
     "data": {
      "text/plain": [
       "- : float = 1.41421356237309515\n"
      ]
     },
     "execution_count": 1,
     "metadata": {},
     "output_type": "execute_result"
    }
   ],
   "source": [
    "sqrt 2.0 (* renvoie une approximation de racine de 2 *)"
   ]
  },
  {
   "cell_type": "markdown",
   "id": "759d770d",
   "metadata": {},
   "source": [
    "Chaque fonction possède une **signature**, qui donne les types des paramètres (valeurs en entrée de la fonction) et le type de la valeur de retour."
   ]
  },
  {
   "cell_type": "code",
   "execution_count": 2,
   "id": "ed9a72ae",
   "metadata": {
    "execution": {
     "iopub.execute_input": "2021-09-08T09:19:37.770850Z",
     "iopub.status.busy": "2021-09-08T09:19:37.770361Z",
     "iopub.status.idle": "2021-09-08T09:19:37.772418Z",
     "shell.execute_reply": "2021-09-08T09:19:37.774379Z"
    },
    "tags": []
   },
   "outputs": [
    {
     "data": {
      "text/plain": [
       "- : float -> float = <fun>\n"
      ]
     },
     "execution_count": 2,
     "metadata": {},
     "output_type": "execute_result"
    }
   ],
   "source": [
    "sqrt"
   ]
  },
  {
   "cell_type": "markdown",
   "id": "0f63f83a",
   "metadata": {},
   "source": [
    "`float -> float` signifie que `sqrt` est une fonction qui prend un flottant en entrée et renvoie un flottant. On ne peut donc pas l'appliquer sur un entier :"
   ]
  },
  {
   "cell_type": "code",
   "execution_count": 3,
   "id": "4deffeb6",
   "metadata": {
    "execution": {
     "iopub.execute_input": "2021-09-08T09:19:37.775858Z",
     "iopub.status.busy": "2021-09-08T09:19:37.775456Z",
     "iopub.status.idle": "2021-09-08T09:19:37.777214Z",
     "shell.execute_reply": "2021-09-08T09:19:37.777532Z"
    },
    "tags": []
   },
   "outputs": [
    {
     "ename": "error",
     "evalue": "compile_error",
     "output_type": "error",
     "traceback": [
      "File \"[3]\", line 1, characters 5-6:\n1 | sqrt 2 (* erreur : on donne un entier à sqrt qui attend un flottant *)\n         ^\nError: This expression has type int but an expression was expected of type\n         float\n"
     ]
    }
   ],
   "source": [
    "sqrt 2 (* erreur : on donne un entier à sqrt qui attend un flottant *)"
   ]
  },
  {
   "cell_type": "markdown",
   "id": "f43eda27",
   "metadata": {},
   "source": [
    "# Définir une fonction"
   ]
  },
  {
   "cell_type": "markdown",
   "id": "eddaa466",
   "metadata": {},
   "source": [
    "En OCaml, une fonction se définie de la façon suivante :\n",
    "```ocaml\n",
    "let nom_fonction nom_argument = ... \n",
    "```\n",
    "où `...` est le corps de la fonction, c'est à dire ce qui est exécuté lorsqu'on utilise la fonction. \n",
    "\n",
    "**La valeur renvoyée par la fonction est celle de la dernière instruction (pas besoin de `return`)**."
   ]
  },
  {
   "cell_type": "markdown",
   "id": "3f8acb3d",
   "metadata": {},
   "source": [
    "Définissons par exemple la fonction $f: x \\longmapsto 2x$ :"
   ]
  },
  {
   "cell_type": "code",
   "execution_count": 4,
   "id": "619f3b39",
   "metadata": {
    "execution": {
     "iopub.execute_input": "2021-09-08T09:19:37.779158Z",
     "iopub.status.busy": "2021-09-08T09:19:37.778751Z",
     "iopub.status.idle": "2021-09-08T09:19:37.780874Z",
     "shell.execute_reply": "2021-09-08T09:19:37.781196Z"
    },
    "tags": []
   },
   "outputs": [
    {
     "data": {
      "text/plain": [
       "val f : int -> int = <fun>\n"
      ]
     },
     "execution_count": 4,
     "metadata": {},
     "output_type": "execute_result"
    }
   ],
   "source": [
    "let f x = 2*x"
   ]
  },
  {
   "cell_type": "markdown",
   "id": "0a72d5d5",
   "metadata": {},
   "source": [
    "OCaml nous dit que `f` est de type `int -> int`, ce qui signifie que `f` prend un entier en entrée et renvoie un entier en sortie. Ceci est similaire à la notation mathématique $f : \\mathbb{N} \\longrightarrow \\mathbb{N}$.\n",
    "\n",
    "On peut ensuite utiliser `f` et récupérer la valeur de retour :"
   ]
  },
  {
   "cell_type": "code",
   "execution_count": 5,
   "id": "0598843b",
   "metadata": {
    "execution": {
     "iopub.execute_input": "2021-09-08T09:19:37.782736Z",
     "iopub.status.busy": "2021-09-08T09:19:37.782321Z",
     "iopub.status.idle": "2021-09-08T09:19:37.784036Z",
     "shell.execute_reply": "2021-09-08T09:19:37.784354Z"
    }
   },
   "outputs": [
    {
     "data": {
      "text/plain": [
       "- : int = 6\n"
      ]
     },
     "execution_count": 5,
     "metadata": {},
     "output_type": "execute_result"
    }
   ],
   "source": [
    "f 3"
   ]
  },
  {
   "cell_type": "markdown",
   "id": "cbe6ba39",
   "metadata": {},
   "source": [
    "Notons que `x` est une variable **muette** : elle n'existe qu'à l'intérieur de `f`, n'a aucun rapport avec une variable `x` définie précédemment et la fonction suivante définit exactement la même fonction :"
   ]
  },
  {
   "cell_type": "code",
   "execution_count": 6,
   "id": "7f1843be",
   "metadata": {
    "execution": {
     "iopub.execute_input": "2021-09-08T09:19:37.785875Z",
     "iopub.status.busy": "2021-09-08T09:19:37.785479Z",
     "iopub.status.idle": "2021-09-08T09:19:37.787577Z",
     "shell.execute_reply": "2021-09-08T09:19:37.787895Z"
    },
    "tags": []
   },
   "outputs": [
    {
     "data": {
      "text/plain": [
       "val f : int -> int = <fun>\n"
      ]
     },
     "execution_count": 6,
     "metadata": {},
     "output_type": "execute_result"
    }
   ],
   "source": [
    "let f y = 2*y (* peu importe le nom de la variable muette y *)"
   ]
  },
  {
   "cell_type": "markdown",
   "id": "5ee458d6",
   "metadata": {},
   "source": [
    "Maintenant que `f` est définie, on peut calculer $f(3)$ :"
   ]
  },
  {
   "cell_type": "code",
   "execution_count": 7,
   "id": "a0e08e6f",
   "metadata": {
    "execution": {
     "iopub.execute_input": "2021-09-08T09:19:37.789410Z",
     "iopub.status.busy": "2021-09-08T09:19:37.789018Z",
     "iopub.status.idle": "2021-09-08T09:19:37.790701Z",
     "shell.execute_reply": "2021-09-08T09:19:37.791032Z"
    },
    "tags": []
   },
   "outputs": [
    {
     "data": {
      "text/plain": [
       "- : int = 6\n"
      ]
     },
     "execution_count": 7,
     "metadata": {},
     "output_type": "execute_result"
    }
   ],
   "source": [
    "f 3"
   ]
  },
  {
   "cell_type": "markdown",
   "id": "fe12e759",
   "metadata": {},
   "source": [
    "**Exercice** : définir la fonction $f : x \\longmapsto \\frac{1}{\\sqrt{1 + x^2}}$ en OCaml."
   ]
  },
  {
   "cell_type": "markdown",
   "id": "c997149d",
   "metadata": {},
   "source": [
    "Comme pour les variables, il est possible d'utiliser `in` pour spécifier la portée d'une fonction $g$"
   ]
  },
  {
   "cell_type": "code",
   "execution_count": 8,
   "id": "bf77f15c",
   "metadata": {
    "execution": {
     "iopub.execute_input": "2021-09-08T09:19:37.792635Z",
     "iopub.status.busy": "2021-09-08T09:19:37.792226Z",
     "iopub.status.idle": "2021-09-08T09:19:37.795944Z",
     "shell.execute_reply": "2021-09-08T09:19:37.795560Z"
    },
    "tags": []
   },
   "outputs": [
    {
     "data": {
      "text/plain": [
       "- : int = 1\n"
      ]
     },
     "execution_count": 8,
     "metadata": {},
     "output_type": "execute_result"
    }
   ],
   "source": [
    "let g x = x + 1 in\n",
    "g 0  (* g est utilisable seulement dans le in *)"
   ]
  },
  {
   "cell_type": "markdown",
   "id": "21e31a73",
   "metadata": {},
   "source": [
    "**Exercice** Donner la valeur de l'expression suivante :\n",
    "```ocaml\n",
    "let h x = f x + 1 in\n",
    "h 3\n",
    "```"
   ]
  },
  {
   "cell_type": "markdown",
   "id": "2d4fb3d3",
   "metadata": {},
   "source": [
    "# Fonctions anonymes"
   ]
  },
  {
   "cell_type": "markdown",
   "id": "dd14b192",
   "metadata": {},
   "source": [
    "Quand on a besoin d'utiliser une fonction une seule fois, on peut définir une fonction anonyme (sans nom) avec `fun`. "
   ]
  },
  {
   "cell_type": "code",
   "execution_count": 9,
   "id": "da795710",
   "metadata": {
    "execution": {
     "iopub.execute_input": "2021-09-08T09:19:37.797527Z",
     "iopub.status.busy": "2021-09-08T09:19:37.797128Z",
     "iopub.status.idle": "2021-09-08T09:19:37.799171Z",
     "shell.execute_reply": "2021-09-08T09:19:37.799494Z"
    },
    "tags": []
   },
   "outputs": [
    {
     "data": {
      "text/plain": [
       "- : int -> int = <fun>\n"
      ]
     },
     "execution_count": 9,
     "metadata": {},
     "output_type": "execute_result"
    }
   ],
   "source": [
    "fun x -> x*2 (* définition d'une fonction anonyme *)"
   ]
  },
  {
   "cell_type": "code",
   "execution_count": 10,
   "id": "3ba201c4",
   "metadata": {
    "execution": {
     "iopub.execute_input": "2021-09-08T09:19:37.800896Z",
     "iopub.status.busy": "2021-09-08T09:19:37.800493Z",
     "iopub.status.idle": "2021-09-08T09:19:37.802989Z",
     "shell.execute_reply": "2021-09-08T09:19:37.802581Z"
    },
    "tags": []
   },
   "outputs": [
    {
     "data": {
      "text/plain": [
       "- : int = 6\n"
      ]
     },
     "execution_count": 10,
     "metadata": {},
     "output_type": "execute_result"
    }
   ],
   "source": [
    "(fun x -> x*2) 3 (* applique une fonction anonyme sur la valeur 3 *)"
   ]
  },
  {
   "cell_type": "markdown",
   "id": "6bdcfe6c",
   "metadata": {},
   "source": [
    "**Remarque** : les deux définitions suivantes sont en fait complètement équivalentes.\n",
    "```ocaml\n",
    "let f x = ...\n",
    "```\n",
    "```ocaml\n",
    "let f = fun x -> ...\n",
    "```\n",
    "\n",
    "Par exemple, on peut définir la fonction $f : x \\longmapsto 2 \\sqrt{x}$ comme ceci :"
   ]
  },
  {
   "cell_type": "code",
   "execution_count": 11,
   "id": "cd3540fc",
   "metadata": {
    "execution": {
     "iopub.execute_input": "2021-09-08T09:19:37.804546Z",
     "iopub.status.busy": "2021-09-08T09:19:37.804134Z",
     "iopub.status.idle": "2021-09-08T09:19:37.806691Z",
     "shell.execute_reply": "2021-09-08T09:19:37.806286Z"
    }
   },
   "outputs": [
    {
     "data": {
      "text/plain": [
       "val f : float -> float = <fun>\n"
      ]
     },
     "execution_count": 11,
     "metadata": {},
     "output_type": "execute_result"
    }
   ],
   "source": [
    "let f = fun x -> 2.0*.x**0.5"
   ]
  },
  {
   "cell_type": "markdown",
   "id": "dbd30570",
   "metadata": {},
   "source": [
    "**Remarque** : On peut aussi définir une fonction avec `function x -> ...` mais `fun` est légèrement plus simple d'utilisation."
   ]
  },
  {
   "cell_type": "markdown",
   "id": "0473d5b9",
   "metadata": {},
   "source": [
    "# Fonctions de plusieurs variables"
   ]
  },
  {
   "cell_type": "markdown",
   "id": "d0d6d00e",
   "metadata": {},
   "source": [
    "Il est possible de définir des fonctions avec plusieurs paramètres, par exemple :"
   ]
  },
  {
   "cell_type": "code",
   "execution_count": 12,
   "id": "4ec24f19",
   "metadata": {
    "execution": {
     "iopub.execute_input": "2021-09-08T09:19:37.808301Z",
     "iopub.status.busy": "2021-09-08T09:19:37.807901Z",
     "iopub.status.idle": "2021-09-08T09:19:37.810410Z",
     "shell.execute_reply": "2021-09-08T09:19:37.810033Z"
    },
    "lines_to_next_cell": 0,
    "tags": []
   },
   "outputs": [
    {
     "data": {
      "text/plain": [
       "val sum : int -> int -> int = <fun>\n"
      ]
     },
     "execution_count": 12,
     "metadata": {},
     "output_type": "execute_result"
    }
   ],
   "source": [
    "let sum x y = x + y"
   ]
  },
  {
   "cell_type": "code",
   "execution_count": 13,
   "id": "c6daaabe",
   "metadata": {
    "execution": {
     "iopub.execute_input": "2021-09-08T09:19:37.812592Z",
     "iopub.status.busy": "2021-09-08T09:19:37.812195Z",
     "iopub.status.idle": "2021-09-08T09:19:37.813863Z",
     "shell.execute_reply": "2021-09-08T09:19:37.814164Z"
    },
    "tags": []
   },
   "outputs": [
    {
     "data": {
      "text/plain": [
       "- : int = 7\n"
      ]
     },
     "execution_count": 13,
     "metadata": {},
     "output_type": "execute_result"
    }
   ],
   "source": [
    "sum 3 4 (* renvoie 3 + 4 *)"
   ]
  },
  {
   "cell_type": "markdown",
   "id": "c80365c1",
   "metadata": {},
   "source": [
    "Le type de `sum` est `int -> int -> int`, ce qui peut paraître étrange. C'est équivalent à `int -> (int -> int)`, ce qui signifie que `sum` prend en entier en argument et renvoie une valeur de type `int -> int` (c'est à dire une fonction).  \n",
    "En effet :"
   ]
  },
  {
   "cell_type": "code",
   "execution_count": 14,
   "id": "f282aee1",
   "metadata": {
    "execution": {
     "iopub.execute_input": "2021-09-08T09:19:37.815687Z",
     "iopub.status.busy": "2021-09-08T09:19:37.815285Z",
     "iopub.status.idle": "2021-09-08T09:19:37.816972Z",
     "shell.execute_reply": "2021-09-08T09:19:37.817273Z"
    },
    "tags": []
   },
   "outputs": [
    {
     "data": {
      "text/plain": [
       "- : int -> int = <fun>\n"
      ]
     },
     "execution_count": 14,
     "metadata": {},
     "output_type": "execute_result"
    }
   ],
   "source": [
    "sum 3"
   ]
  },
  {
   "cell_type": "markdown",
   "id": "7964d2e6",
   "metadata": {},
   "source": [
    "`sum 3` est une fonction qui prend en argument un entier `y` et qui renvoie `3 + y`, ce qu'on peut vérifier :"
   ]
  },
  {
   "cell_type": "code",
   "execution_count": 15,
   "id": "93103a2d",
   "metadata": {
    "execution": {
     "iopub.execute_input": "2021-09-08T09:19:37.818833Z",
     "iopub.status.busy": "2021-09-08T09:19:37.818405Z",
     "iopub.status.idle": "2021-09-08T09:19:37.820855Z",
     "shell.execute_reply": "2021-09-08T09:19:37.820469Z"
    },
    "tags": []
   },
   "outputs": [
    {
     "data": {
      "text/plain": [
       "- : int = 7\n"
      ]
     },
     "execution_count": 15,
     "metadata": {},
     "output_type": "execute_result"
    }
   ],
   "source": [
    "let f = sum 3 in (* f est une fonction *)\n",
    "f 4 (* renvoie sum 3 4, c'est à dire 7 *)"
   ]
  },
  {
   "cell_type": "markdown",
   "id": "5c5a40ce",
   "metadata": {},
   "source": [
    "En fait, OCaml transforme automatiquement une fonction de plusieurs variables en une suite de fonctions à une variable (c'est ce qu'on appelle la **curryfication**) :"
   ]
  },
  {
   "cell_type": "code",
   "execution_count": 16,
   "id": "0f0dae92",
   "metadata": {
    "execution": {
     "iopub.execute_input": "2021-09-08T09:19:37.822271Z",
     "iopub.status.busy": "2021-09-08T09:19:37.821871Z",
     "iopub.status.idle": "2021-09-08T09:19:37.826236Z",
     "shell.execute_reply": "2021-09-08T09:19:37.825858Z"
    }
   },
   "outputs": [
    {
     "data": {
      "text/plain": [
       "val sum : int -> int -> int = <fun>\n"
      ]
     },
     "execution_count": 16,
     "metadata": {},
     "output_type": "execute_result"
    }
   ],
   "source": [
    "let sum = fun x -> (fun y -> x + y) (* OCaml transforme la définition de sum ci-dessus en celle-ci *)"
   ]
  },
  {
   "cell_type": "code",
   "execution_count": 17,
   "id": "9c6abe7e",
   "metadata": {
    "execution": {
     "iopub.execute_input": "2021-09-08T09:19:37.827623Z",
     "iopub.status.busy": "2021-09-08T09:19:37.827225Z",
     "iopub.status.idle": "2021-09-08T09:19:37.829014Z",
     "shell.execute_reply": "2021-09-08T09:19:37.829341Z"
    }
   },
   "outputs": [
    {
     "data": {
      "text/plain": [
       "- : int = 5\n"
      ]
     },
     "execution_count": 17,
     "metadata": {},
     "output_type": "execute_result"
    }
   ],
   "source": [
    "(sum 2) 3  (* le calcul effectué par OCaml lorsqu'on écrit sum 2 3 *)"
   ]
  },
  {
   "cell_type": "markdown",
   "id": "52ea6ca1",
   "metadata": {},
   "source": [
    "La possibilité d'appliquer une fonction seulement sur certains arguments s'appelle l'**application partielle** de fonction. C'est un des avantages d'OCaml par rapport à Python.  "
   ]
  },
  {
   "cell_type": "markdown",
   "id": "ebd3ecce",
   "metadata": {},
   "source": [
    "De la même façon, une fonction OCaml à 3 arguments sera de type `... -> ... -> ... -> ...`."
   ]
  },
  {
   "cell_type": "markdown",
   "id": "53bbf77e",
   "metadata": {},
   "source": [
    "**Exercice** : Écrire une fonction `delta : float -> float -> float -> float` telle que `delta a b c` renvoie le discriminant de l'équation $ax^2 + bx + c = 0$."
   ]
  },
  {
   "cell_type": "markdown",
   "id": "a802c0b3",
   "metadata": {},
   "source": [
    "Une fonction peut aussi avoir aucune valeur en entrée. Dans ce cas, on lui donne l'argument `()` (de type unit). C'est le cas par exemple de `print_newline`, qui saute une ligne : "
   ]
  },
  {
   "cell_type": "code",
   "execution_count": 18,
   "id": "6f07273a",
   "metadata": {
    "execution": {
     "iopub.execute_input": "2021-09-08T09:19:37.830990Z",
     "iopub.status.busy": "2021-09-08T09:19:37.830563Z",
     "iopub.status.idle": "2021-09-08T09:19:37.834427Z",
     "shell.execute_reply": "2021-09-08T09:19:37.833545Z"
    }
   },
   "outputs": [
    {
     "name": "stdout",
     "output_type": "stream",
     "text": [
      "0\n",
      "1\n"
     ]
    },
    {
     "data": {
      "text/plain": [
       "- : unit = ()\n"
      ]
     },
     "execution_count": 18,
     "metadata": {},
     "output_type": "execute_result"
    }
   ],
   "source": [
    "print_int 0;\n",
    "print_newline ();\n",
    "print_int 1;\n",
    "print_newline ();"
   ]
  },
  {
   "cell_type": "markdown",
   "id": "3ce10922",
   "metadata": {},
   "source": [
    "# Polymorphisme"
   ]
  },
  {
   "cell_type": "markdown",
   "id": "d9dcb2f9",
   "metadata": {},
   "source": [
    "Reprenons notre 1er exemple de fonction :"
   ]
  },
  {
   "cell_type": "code",
   "execution_count": 19,
   "id": "e9fc7011",
   "metadata": {
    "execution": {
     "iopub.execute_input": "2021-09-08T09:19:37.835861Z",
     "iopub.status.busy": "2021-09-08T09:19:37.835466Z",
     "iopub.status.idle": "2021-09-08T09:19:37.837749Z",
     "shell.execute_reply": "2021-09-08T09:19:37.837374Z"
    }
   },
   "outputs": [
    {
     "data": {
      "text/plain": [
       "val f : int -> int = <fun>\n"
      ]
     },
     "execution_count": 19,
     "metadata": {},
     "output_type": "execute_result"
    }
   ],
   "source": [
    "let f x = 2*x"
   ]
  },
  {
   "cell_type": "markdown",
   "id": "4b3d82e2",
   "metadata": {},
   "source": [
    "OCaml sait que l'argument `x` de `f` est un `int` car on utilise l'opérateur `*` qui ne s'utilise que sur des entiers. Mais dans certaines fonctions, il n'y a pas de contrainte de type :"
   ]
  },
  {
   "cell_type": "code",
   "execution_count": 20,
   "id": "f62f6353",
   "metadata": {
    "execution": {
     "iopub.execute_input": "2021-09-08T09:19:37.839149Z",
     "iopub.status.busy": "2021-09-08T09:19:37.838749Z",
     "iopub.status.idle": "2021-09-08T09:19:37.840421Z",
     "shell.execute_reply": "2021-09-08T09:19:37.840740Z"
    }
   },
   "outputs": [
    {
     "data": {
      "text/plain": [
       "val id : 'a -> 'a = <fun>\n"
      ]
     },
     "execution_count": 20,
     "metadata": {},
     "output_type": "execute_result"
    }
   ],
   "source": [
    "let id x = x"
   ]
  },
  {
   "cell_type": "markdown",
   "id": "97f3712f",
   "metadata": {},
   "source": [
    "Cette fonction `id` (pour identité) renvoie son argument sans le modifier. Comme aucune opération n'est appliquée sur `x`, il n'y a pas de contrainte sur son type. OCaml utilise alors `'a` pour désigner le type quelconque de `x`.  \n",
    "Notons que le type de retour de `id` est `'a` également : OCaml nous dit que `id` renvoie une valeur du même type que l'argument."
   ]
  },
  {
   "cell_type": "markdown",
   "id": "27a1ee12",
   "metadata": {},
   "source": [
    "**Exercice** : donner le type des fonctions suivantes  \n",
    "```ocaml\n",
    " let f x = 42\n",
    "```\n",
    "```ocaml\n",
    " let f x y = y\n",
    "```\n",
    "```ocaml\n",
    " let g x y f = x + f y\n",
    " ```"
   ]
  },
  {
   "cell_type": "markdown",
   "id": "9907a8d7",
   "metadata": {},
   "source": [
    "# Fonction comme argument\n",
    "\n",
    "Il est possible d'utiliser une fonction en argument d'une autre fonction. Par exemple, la fonction suivante évalue une autre fonction en la valeur 0 :"
   ]
  },
  {
   "cell_type": "code",
   "execution_count": 21,
   "id": "5fa34191",
   "metadata": {
    "execution": {
     "iopub.execute_input": "2021-09-08T09:19:37.842190Z",
     "iopub.status.busy": "2021-09-08T09:19:37.841797Z",
     "iopub.status.idle": "2021-09-08T09:19:37.843589Z",
     "shell.execute_reply": "2021-09-08T09:19:37.843905Z"
    }
   },
   "outputs": [
    {
     "data": {
      "text/plain": [
       "val eval : (int -> 'a) -> 'a = <fun>\n"
      ]
     },
     "execution_count": 21,
     "metadata": {},
     "output_type": "execute_result"
    }
   ],
   "source": [
    "let eval f =\n",
    "f 0"
   ]
  },
  {
   "cell_type": "code",
   "execution_count": 22,
   "id": "814a880d",
   "metadata": {
    "execution": {
     "iopub.execute_input": "2021-09-08T09:19:37.845256Z",
     "iopub.status.busy": "2021-09-08T09:19:37.844861Z",
     "iopub.status.idle": "2021-09-08T09:19:37.847354Z",
     "shell.execute_reply": "2021-09-08T09:19:37.847671Z"
    }
   },
   "outputs": [
    {
     "data": {
      "text/plain": [
       "- : int = 7\n"
      ]
     },
     "execution_count": 22,
     "metadata": {},
     "output_type": "execute_result"
    }
   ],
   "source": [
    "let f x = 3*x + 7 in\n",
    "eval f"
   ]
  },
  {
   "cell_type": "markdown",
   "id": "e0f4b9f0",
   "metadata": {},
   "source": [
    "**Exercice** : \n",
    "1. On définit une fonction `h` :\n",
    "```ocaml\n",
    "let h f g x = f (g x)\n",
    "```\n",
    "Donner la valeur de l'expression :\n",
    "```ocaml\n",
    "h (fun x -> x*x) (fun x -> x + 1) 3\n",
    "```\n",
    "2. Donner le type de `h`.\n",
    "3. À quoi sert `h`? Comment cette opération s'appelle-t-elle mathématiquement?"
   ]
  },
  {
   "cell_type": "markdown",
   "id": "407200f2",
   "metadata": {
    "tags": []
   },
   "source": [
    "# Variable locale à une fonction"
   ]
  },
  {
   "cell_type": "markdown",
   "id": "6caa49ca",
   "metadata": {},
   "source": [
    "Il est possible de définir une variable dans une fonction :"
   ]
  },
  {
   "cell_type": "code",
   "execution_count": 23,
   "id": "bf914b3c",
   "metadata": {
    "execution": {
     "iopub.execute_input": "2021-09-08T09:19:37.849133Z",
     "iopub.status.busy": "2021-09-08T09:19:37.848735Z",
     "iopub.status.idle": "2021-09-08T09:19:37.850893Z",
     "shell.execute_reply": "2021-09-08T09:19:37.851217Z"
    },
    "tags": []
   },
   "outputs": [
    {
     "data": {
      "text/plain": [
       "val pow4 : int -> int = <fun>\n"
      ]
     },
     "execution_count": 23,
     "metadata": {},
     "output_type": "execute_result"
    }
   ],
   "source": [
    "let pow4 x = (* je saute une ligne ici pour plus de lisibilité *)\n",
    "    let y = x*x in  (* y est utilisable seulement dans pow4 *)\n",
    "    y*y (* renvoie x puissance 4 *)"
   ]
  },
  {
   "cell_type": "code",
   "execution_count": 24,
   "id": "039198c0",
   "metadata": {
    "execution": {
     "iopub.execute_input": "2021-09-08T09:19:37.852565Z",
     "iopub.status.busy": "2021-09-08T09:19:37.852170Z",
     "iopub.status.idle": "2021-09-08T09:19:37.854371Z",
     "shell.execute_reply": "2021-09-08T09:19:37.853990Z"
    },
    "tags": []
   },
   "outputs": [
    {
     "data": {
      "text/plain": [
       "- : int = 16\n"
      ]
     },
     "execution_count": 24,
     "metadata": {},
     "output_type": "execute_result"
    }
   ],
   "source": [
    "pow4 2 (* test de notre fonction *)"
   ]
  },
  {
   "cell_type": "markdown",
   "id": "08000cde",
   "metadata": {
    "tags": []
   },
   "source": [
    "On peut aussi définir une fonction à l'intérieur d'une fonction. Par exemple, on peut définir $f: x \\longmapsto 2x + \\sqrt{2(x + 1)}$ en utilisant une fonction locale $g : y \\longmapsto 2y$ :"
   ]
  },
  {
   "cell_type": "code",
   "execution_count": 25,
   "id": "d27d2384",
   "metadata": {
    "execution": {
     "iopub.execute_input": "2021-09-08T09:19:37.855781Z",
     "iopub.status.busy": "2021-09-08T09:19:37.855382Z",
     "iopub.status.idle": "2021-09-08T09:19:37.858608Z",
     "shell.execute_reply": "2021-09-08T09:19:37.858238Z"
    }
   },
   "outputs": [
    {
     "data": {
      "text/plain": [
       "val f : float -> float = <fun>\n"
      ]
     },
     "execution_count": 25,
     "metadata": {},
     "output_type": "execute_result"
    }
   ],
   "source": [
    "let f x = \n",
    "    let g y = 2.*.y in (* g n'est utilisable que dans f *)\n",
    "    g x +. (g (x +. 1.))**0.5"
   ]
  },
  {
   "cell_type": "code",
   "execution_count": 26,
   "id": "abb396da",
   "metadata": {
    "execution": {
     "iopub.execute_input": "2021-09-08T09:19:37.859971Z",
     "iopub.status.busy": "2021-09-08T09:19:37.859576Z",
     "iopub.status.idle": "2021-09-08T09:19:37.861191Z",
     "shell.execute_reply": "2021-09-08T09:19:37.861510Z"
    }
   },
   "outputs": [
    {
     "data": {
      "text/plain": [
       "- : float = 4.\n"
      ]
     },
     "execution_count": 26,
     "metadata": {},
     "output_type": "execute_result"
    }
   ],
   "source": [
    "f 1."
   ]
  },
  {
   "cell_type": "markdown",
   "id": "adc8cf5b",
   "metadata": {},
   "source": [
    "**Exercice** : Écrire une fonction `swap` qui échange les valeurs de 2 références en argument.  \n",
    "`swap` doit être de type `'a ref -> 'a ref -> unit`, ce qui signifie que `swap` a deux références en argument, sur des valeurs de même type `'a`, et ne renvoie pas de valeur.  \n",
    "On rappelle les instructions à utiliser sur des références :\n",
    "\n",
    "| Opération | `let a = ref 3 (in ...)` | `!a` | `a := 4` |\n",
    "|:---:|:---:|:---:|:---:|\n",
    "| Signification | créer une référence <br>sur la valeur 3 | valeur de a | modifie la valeur <br>de a |\n",
    "\n",
    "**Remarque importante** : Lorsque l'on modifie une référence (ou un autre objet impératif, comme un tableau) qui est l'argument d'une fonction, on la modifie aussi à l'extérieur de la fonction. C'est ce qu'on appelle un **passage par référence**.  "
   ]
  },
  {
   "cell_type": "markdown",
   "id": "bca6daf8",
   "metadata": {},
   "source": []
  }
 ],
 "metadata": {
  "kernelspec": {
   "display_name": "OCaml default",
   "language": "OCaml",
   "name": "ocaml-jupyter"
  },
  "language_info": {
   "codemirror_mode": "text/x-ocaml",
   "file_extension": ".ml",
   "mimetype": "text/x-ocaml",
   "name": "OCaml",
   "nbconverter_exporter": null,
   "pygments_lexer": "OCaml",
   "version": "4.08.1"
  },
  "title": "Fonctions"
 },
 "nbformat": 4,
 "nbformat_minor": 5
}

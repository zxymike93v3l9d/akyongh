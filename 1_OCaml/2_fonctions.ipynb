{
 "cells": [
  {
   "cell_type": "markdown",
   "id": "9f1f82e5",
   "metadata": {},
   "source": [
    "# Utiliser une fonction\n",
    "\n",
    "OCaml est un langage fonctionnel, ce qui signifie que :\n",
    "- les fonctions y occupent une place importante et peuvent être manipulées un peu comme des variables\n",
    "- les fonctions sont censées ne pas effectuer d'effet de bord, c'est à dire d'action sur l'extérieur de la fonction (pas de modification de variable globale, pas d'écriture dans un fichier...)\n",
    "\n",
    "Pour utiliser une fonction `f` sur une valeur `x`, on écrira simplement `f x` (et non pas `f(x)`.  \n",
    "\n",
    "Un certain nombre de fonctions sont déjà définies en OCaml. Par exemple, la racine carrée : "
   ]
  },
  {
   "cell_type": "code",
   "execution_count": 1,
   "id": "86f893f4",
   "metadata": {
    "execution": {
     "iopub.execute_input": "2021-09-06T11:51:51.652978Z",
     "iopub.status.busy": "2021-09-06T11:51:51.650099Z",
     "iopub.status.idle": "2021-09-06T11:51:51.659417Z",
     "shell.execute_reply": "2021-09-06T11:51:51.657892Z"
    },
    "tags": []
   },
   "outputs": [
    {
     "data": {
      "text/plain": [
       "- : float = 1.41421356237309515\n"
      ]
     },
     "execution_count": 1,
     "metadata": {},
     "output_type": "execute_result"
    }
   ],
   "source": [
    "sqrt 2.0 (* renvoie une approximation de racine de 2 *)"
   ]
  },
  {
   "cell_type": "markdown",
   "id": "cd0fea77",
   "metadata": {},
   "source": [
    "Chaque fonction possède une **signature**, qui donne les types des paramètres (valeurs en entrée de la fonction) et le type de la valeur de retour."
   ]
  },
  {
   "cell_type": "code",
   "execution_count": 2,
   "id": "142273f9",
   "metadata": {
    "execution": {
     "iopub.execute_input": "2021-09-06T11:51:51.665180Z",
     "iopub.status.busy": "2021-09-06T11:51:51.663661Z",
     "iopub.status.idle": "2021-09-06T11:51:51.672217Z",
     "shell.execute_reply": "2021-09-06T11:51:51.671270Z"
    },
    "tags": []
   },
   "outputs": [
    {
     "data": {
      "text/plain": [
       "- : float -> float = <fun>\n"
      ]
     },
     "execution_count": 2,
     "metadata": {},
     "output_type": "execute_result"
    }
   ],
   "source": [
    "sqrt"
   ]
  },
  {
   "cell_type": "markdown",
   "id": "3f02fe53",
   "metadata": {},
   "source": [
    "`float -> float` signifie que `sqrt` est une fonction qui prend un flottant en entrée et renvoie un flottant. On ne peut donc pas l'appliquer sur un entier :"
   ]
  },
  {
   "cell_type": "code",
   "execution_count": 3,
   "id": "a07a814d",
   "metadata": {
    "execution": {
     "iopub.execute_input": "2021-09-06T11:51:51.676228Z",
     "iopub.status.busy": "2021-09-06T11:51:51.675125Z",
     "iopub.status.idle": "2021-09-06T11:51:51.679316Z",
     "shell.execute_reply": "2021-09-06T11:51:51.678700Z"
    },
    "tags": []
   },
   "outputs": [
    {
     "ename": "error",
     "evalue": "compile_error",
     "output_type": "error",
     "traceback": [
      "File \"[3]\", line 1, characters 5-6:\n1 | sqrt 2 (* erreur : on donne un entier à sqrt qui attend un flottant *)\n         ^\nError: This expression has type int but an expression was expected of type\n         float\n"
     ]
    }
   ],
   "source": [
    "sqrt 2 (* erreur : on donne un entier à sqrt qui attend un flottant *)"
   ]
  },
  {
   "cell_type": "markdown",
   "id": "8bc18636",
   "metadata": {},
   "source": [
    "# Définir une fonction"
   ]
  },
  {
   "cell_type": "markdown",
   "id": "a0fdd0ad",
   "metadata": {},
   "source": [
    "En OCaml, une fonction se définie de la façon suivante :\n",
    "```ocaml\n",
    "let nom_fonction nom_argument = ... \n",
    "```\n",
    "où `...` est le corps de la fonction, c'est à dire ce qui est exécuté lorsqu'on utilise la fonction. \n",
    "\n",
    "**La valeur renvoyée par la fonction est celle de la dernière instruction (pas besoin de `return`)**."
   ]
  },
  {
   "cell_type": "markdown",
   "id": "4311cb4d",
   "metadata": {},
   "source": [
    "Définissons par exemple la fonction $f: x \\longmapsto 2x$ :"
   ]
  },
  {
   "cell_type": "code",
   "execution_count": 4,
   "id": "ffa548db",
   "metadata": {
    "execution": {
     "iopub.execute_input": "2021-09-06T11:51:51.682480Z",
     "iopub.status.busy": "2021-09-06T11:51:51.681647Z",
     "iopub.status.idle": "2021-09-06T11:51:51.685027Z",
     "shell.execute_reply": "2021-09-06T11:51:51.685475Z"
    },
    "tags": []
   },
   "outputs": [
    {
     "data": {
      "text/plain": [
       "val f : int -> int = <fun>\n"
      ]
     },
     "execution_count": 4,
     "metadata": {},
     "output_type": "execute_result"
    }
   ],
   "source": [
    "let f x = 2*x"
   ]
  },
  {
   "cell_type": "markdown",
   "id": "5e46e53c-66ff-48ef-8887-27b826631084",
   "metadata": {},
   "source": [
    "OCaml nous dit que `f` est de type `int -> int`, ce qui signifie que `f` prend un entier en entrée et renvoie un entier en sortie. Ceci est similaire à la notation mathématique $f : \\mathbb{N} \\longrightarrow \\mathbb{N}$.\n",
    "\n",
    "On peut ensuite utiliser `f` et récupérer la valeur de retour :"
   ]
  },
  {
   "cell_type": "code",
   "execution_count": 5,
   "id": "26a2af7c-5d96-4f2b-81c1-657b1634a1f9",
   "metadata": {
    "execution": {
     "iopub.execute_input": "2021-09-06T11:51:51.687611Z",
     "iopub.status.busy": "2021-09-06T11:51:51.687099Z",
     "iopub.status.idle": "2021-09-06T11:51:51.688807Z",
     "shell.execute_reply": "2021-09-06T11:51:51.689167Z"
    }
   },
   "outputs": [
    {
     "data": {
      "text/plain": [
       "- : int = 6\n"
      ]
     },
     "execution_count": 5,
     "metadata": {},
     "output_type": "execute_result"
    }
   ],
   "source": [
    "f 3"
   ]
  },
  {
   "cell_type": "markdown",
   "id": "5cb02893-c6d2-4cf7-b9e2-6cd28106a6fa",
   "metadata": {},
   "source": [
    "Notons que `x` est une variable **muette** : elle n'existe qu'à l'intérieur de `f`, n'a aucun rapport avec une variable `x` définie précédemment et la fonction suivante définit exactement la même fonction :"
   ]
  },
  {
   "cell_type": "code",
   "execution_count": 6,
   "id": "e36fd327",
   "metadata": {
    "execution": {
     "iopub.execute_input": "2021-09-06T11:51:51.690926Z",
     "iopub.status.busy": "2021-09-06T11:51:51.690473Z",
     "iopub.status.idle": "2021-09-06T11:51:51.692633Z",
     "shell.execute_reply": "2021-09-06T11:51:51.692995Z"
    },
    "tags": []
   },
   "outputs": [
    {
     "data": {
      "text/plain": [
       "val f : int -> int = <fun>\n"
      ]
     },
     "execution_count": 6,
     "metadata": {},
     "output_type": "execute_result"
    }
   ],
   "source": [
    "let f y = 2*y (* peu importe le nom de la variable muette y *)"
   ]
  },
  {
   "cell_type": "markdown",
   "id": "94dca1b2",
   "metadata": {},
   "source": [
    "Maintenant que `f` est définie, on peut calculer $f(3)$ :"
   ]
  },
  {
   "cell_type": "code",
   "execution_count": 7,
   "id": "5ff4a656",
   "metadata": {
    "execution": {
     "iopub.execute_input": "2021-09-06T11:51:51.694781Z",
     "iopub.status.busy": "2021-09-06T11:51:51.694369Z",
     "iopub.status.idle": "2021-09-06T11:51:51.696220Z",
     "shell.execute_reply": "2021-09-06T11:51:51.695872Z"
    },
    "tags": []
   },
   "outputs": [
    {
     "data": {
      "text/plain": [
       "- : int = 6\n"
      ]
     },
     "execution_count": 7,
     "metadata": {},
     "output_type": "execute_result"
    }
   ],
   "source": [
    "f 3"
   ]
  },
  {
   "cell_type": "markdown",
   "id": "757f0347-4c5b-45cf-ae7e-9aca551decd6",
   "metadata": {},
   "source": [
    "**Exercice** : définir la fonction $f : x \\longmapsto \\frac{1}{\\sqrt{1 + x^2}}$ en OCaml."
   ]
  },
  {
   "cell_type": "markdown",
   "id": "4308e156",
   "metadata": {},
   "source": [
    "Comme pour les variables, il est possible d'utiliser in pour spécifier la portée d'une fonction $g$"
   ]
  },
  {
   "cell_type": "code",
   "execution_count": 8,
   "id": "0c26b293",
   "metadata": {
    "execution": {
     "iopub.execute_input": "2021-09-06T11:51:51.697978Z",
     "iopub.status.busy": "2021-09-06T11:51:51.697520Z",
     "iopub.status.idle": "2021-09-06T11:51:51.700350Z",
     "shell.execute_reply": "2021-09-06T11:51:51.700018Z"
    },
    "tags": []
   },
   "outputs": [
    {
     "data": {
      "text/plain": [
       "- : int = 1\n"
      ]
     },
     "execution_count": 8,
     "metadata": {},
     "output_type": "execute_result"
    }
   ],
   "source": [
    "let g x = x + 1 in\n",
    "g 0  (* g est utilisable seulement dans le in *)"
   ]
  },
  {
   "cell_type": "markdown",
   "id": "dbae8347",
   "metadata": {},
   "source": [
    "**Exercice** Donner la valeur de l'expression suivante :\n",
    "```ocaml\n",
    "let h x = f x + 1 in\n",
    "h 3\n",
    "```"
   ]
  },
  {
   "cell_type": "markdown",
   "id": "ec3ac2b9",
   "metadata": {},
   "source": [
    "# Fonctions anonymes"
   ]
  },
  {
   "cell_type": "markdown",
   "id": "85fac091",
   "metadata": {},
   "source": [
    "Quand on a besoin d'utiliser une fonction une seule fois, on peut définir une fonction anonyme (sans nom) avec `fun`. "
   ]
  },
  {
   "cell_type": "code",
   "execution_count": 9,
   "id": "b85e82a0",
   "metadata": {
    "execution": {
     "iopub.execute_input": "2021-09-06T11:51:51.702041Z",
     "iopub.status.busy": "2021-09-06T11:51:51.701667Z",
     "iopub.status.idle": "2021-09-06T11:51:51.703286Z",
     "shell.execute_reply": "2021-09-06T11:51:51.703582Z"
    },
    "tags": []
   },
   "outputs": [
    {
     "data": {
      "text/plain": [
       "- : int -> int = <fun>\n"
      ]
     },
     "execution_count": 9,
     "metadata": {},
     "output_type": "execute_result"
    }
   ],
   "source": [
    "fun x -> x*2 (* définition d'une fonction anonyme *)"
   ]
  },
  {
   "cell_type": "code",
   "execution_count": 10,
   "id": "abfbc954",
   "metadata": {
    "execution": {
     "iopub.execute_input": "2021-09-06T11:51:51.704928Z",
     "iopub.status.busy": "2021-09-06T11:51:51.704584Z",
     "iopub.status.idle": "2021-09-06T11:51:51.706880Z",
     "shell.execute_reply": "2021-09-06T11:51:51.707162Z"
    },
    "tags": []
   },
   "outputs": [
    {
     "data": {
      "text/plain": [
       "- : int = 6\n"
      ]
     },
     "execution_count": 10,
     "metadata": {},
     "output_type": "execute_result"
    }
   ],
   "source": [
    "(fun x -> x*2) 3 (* applique une fonction anonyme sur la valeur 3 *)"
   ]
  },
  {
   "cell_type": "markdown",
   "id": "0a534eb6",
   "metadata": {},
   "source": [
    "**Remarque** : les deux définitions suivantes sont en fait complètement équivalentes.\n",
    "```ocaml\n",
    "let f x = ...\n",
    "```\n",
    "```ocaml\n",
    "let f = fun x -> ...\n",
    "```\n",
    "\n",
    "Par exemple, on peut définir la fonction $f : x \\longmapsto 2 \\sqrt{x}$ comme ceci :"
   ]
  },
  {
   "cell_type": "code",
   "execution_count": 11,
   "id": "9191bd02-ee33-4999-908c-156a0d2ffb04",
   "metadata": {
    "execution": {
     "iopub.execute_input": "2021-09-06T11:51:51.708643Z",
     "iopub.status.busy": "2021-09-06T11:51:51.708313Z",
     "iopub.status.idle": "2021-09-06T11:51:51.710593Z",
     "shell.execute_reply": "2021-09-06T11:51:51.710282Z"
    }
   },
   "outputs": [
    {
     "data": {
      "text/plain": [
       "val f : float -> float = <fun>\n"
      ]
     },
     "execution_count": 11,
     "metadata": {},
     "output_type": "execute_result"
    }
   ],
   "source": [
    "let f = fun x -> 2.0*.x**0.5"
   ]
  },
  {
   "cell_type": "markdown",
   "id": "69e410fc-f400-4580-8fed-803d63715777",
   "metadata": {},
   "source": [
    "**Remarque** : On peut aussi définir une fonction avec `function x -> ...` mais `fun` est légèrement plus simple d'utilisation."
   ]
  },
  {
   "cell_type": "markdown",
   "id": "0648142b",
   "metadata": {},
   "source": [
    "# Fonctions de plusieurs variables"
   ]
  },
  {
   "cell_type": "markdown",
   "id": "b51d610d",
   "metadata": {},
   "source": [
    "Il est possible de définir des fonctions avec plusieurs paramètres, par exemple :"
   ]
  },
  {
   "cell_type": "code",
   "execution_count": 12,
   "id": "08150e40",
   "metadata": {
    "execution": {
     "iopub.execute_input": "2021-09-06T11:51:51.712360Z",
     "iopub.status.busy": "2021-09-06T11:51:51.711952Z",
     "iopub.status.idle": "2021-09-06T11:51:51.713634Z",
     "shell.execute_reply": "2021-09-06T11:51:51.713907Z"
    },
    "lines_to_next_cell": 0,
    "tags": []
   },
   "outputs": [
    {
     "data": {
      "text/plain": [
       "val sum : int -> int -> int = <fun>\n"
      ]
     },
     "execution_count": 12,
     "metadata": {},
     "output_type": "execute_result"
    }
   ],
   "source": [
    "let sum x y = x + y"
   ]
  },
  {
   "cell_type": "code",
   "execution_count": 13,
   "id": "33ce1bfb",
   "metadata": {
    "execution": {
     "iopub.execute_input": "2021-09-06T11:51:51.715388Z",
     "iopub.status.busy": "2021-09-06T11:51:51.714979Z",
     "iopub.status.idle": "2021-09-06T11:51:51.716586Z",
     "shell.execute_reply": "2021-09-06T11:51:51.717066Z"
    },
    "tags": []
   },
   "outputs": [
    {
     "data": {
      "text/plain": [
       "- : int = 7\n"
      ]
     },
     "execution_count": 13,
     "metadata": {},
     "output_type": "execute_result"
    }
   ],
   "source": [
    "sum 3 4 (* renvoie 3 + 4 *)"
   ]
  },
  {
   "cell_type": "markdown",
   "id": "7426549d",
   "metadata": {},
   "source": [
    "Le type de `sum` est `int -> int -> int`, ce qui peut paraître étrange. C'est équivalent à `int -> (int -> int)`, ce qui signifie que `sum` prend en entier en argument et renvoie une valeur de type `int -> int` (c'est à dire une fonction).  \n",
    "En effet :"
   ]
  },
  {
   "cell_type": "code",
   "execution_count": 14,
   "id": "f9fa2bb8",
   "metadata": {
    "execution": {
     "iopub.execute_input": "2021-09-06T11:51:51.718664Z",
     "iopub.status.busy": "2021-09-06T11:51:51.718325Z",
     "iopub.status.idle": "2021-09-06T11:51:51.720049Z",
     "shell.execute_reply": "2021-09-06T11:51:51.719770Z"
    },
    "tags": []
   },
   "outputs": [
    {
     "data": {
      "text/plain": [
       "- : int -> int = <fun>\n"
      ]
     },
     "execution_count": 14,
     "metadata": {},
     "output_type": "execute_result"
    }
   ],
   "source": [
    "sum 3"
   ]
  },
  {
   "cell_type": "markdown",
   "id": "5143d832",
   "metadata": {},
   "source": [
    "`sum 3` est une fonction qui prend en argument un entier `y` et qui renvoie `3 + y`, ce qu'on peut vérifier :"
   ]
  },
  {
   "cell_type": "code",
   "execution_count": 15,
   "id": "a1125266",
   "metadata": {
    "execution": {
     "iopub.execute_input": "2021-09-06T11:51:51.721470Z",
     "iopub.status.busy": "2021-09-06T11:51:51.721143Z",
     "iopub.status.idle": "2021-09-06T11:51:51.723005Z",
     "shell.execute_reply": "2021-09-06T11:51:51.722722Z"
    },
    "tags": []
   },
   "outputs": [
    {
     "data": {
      "text/plain": [
       "- : int = 7\n"
      ]
     },
     "execution_count": 15,
     "metadata": {},
     "output_type": "execute_result"
    }
   ],
   "source": [
    "let f = sum 3 in (* f est une fonction *)\n",
    "f 4 (* renvoie sum 3 4, c'est à dire 7 *)"
   ]
  },
  {
   "cell_type": "markdown",
   "id": "32288503-63ef-4a0b-93b3-0e0d8c1527b5",
   "metadata": {},
   "source": [
    "En fait, OCaml transforme automatiquement une fonction de plusieurs variables en une suite (composition) de fonctions à une variable (c'est ce qu'on appelle la **curryfication**) :"
   ]
  },
  {
   "cell_type": "code",
   "execution_count": 16,
   "id": "417e80be-fe86-49d0-b74d-499b2a549261",
   "metadata": {
    "execution": {
     "iopub.execute_input": "2021-09-06T11:51:51.724411Z",
     "iopub.status.busy": "2021-09-06T11:51:51.724079Z",
     "iopub.status.idle": "2021-09-06T11:51:51.727332Z",
     "shell.execute_reply": "2021-09-06T11:51:51.727041Z"
    }
   },
   "outputs": [
    {
     "data": {
      "text/plain": [
       "val sum : int -> int -> int = <fun>\n"
      ]
     },
     "execution_count": 16,
     "metadata": {},
     "output_type": "execute_result"
    }
   ],
   "source": [
    "let sum = fun x -> (fun y -> x + y) (* OCaml transforme la définition de sum ci-dessus en celle-ci *)"
   ]
  },
  {
   "cell_type": "code",
   "execution_count": 17,
   "id": "4748448b-6e90-469b-8093-deec21160af8",
   "metadata": {
    "execution": {
     "iopub.execute_input": "2021-09-06T11:51:51.728670Z",
     "iopub.status.busy": "2021-09-06T11:51:51.728349Z",
     "iopub.status.idle": "2021-09-06T11:51:51.730053Z",
     "shell.execute_reply": "2021-09-06T11:51:51.729776Z"
    }
   },
   "outputs": [
    {
     "data": {
      "text/plain": [
       "- : int = 5\n"
      ]
     },
     "execution_count": 17,
     "metadata": {},
     "output_type": "execute_result"
    }
   ],
   "source": [
    "(sum 2) 3  (* le calcul effectué par OCaml lorsqu'on écrit sum 2 3 *)"
   ]
  },
  {
   "cell_type": "markdown",
   "id": "0ba0f31b",
   "metadata": {},
   "source": [
    "La possibilité d'appliquer une fonction seulement sur certains arguments s'appelle l'**application partielle** de fonction. C'est un des avantages d'OCaml par rapport à Python.  "
   ]
  },
  {
   "cell_type": "markdown",
   "id": "6a7c843b",
   "metadata": {},
   "source": [
    "De la même façon, une fonction OCaml à 3 arguments sera de type `... -> ... -> ... -> ...`."
   ]
  },
  {
   "cell_type": "markdown",
   "id": "3a68f0b1",
   "metadata": {},
   "source": [
    "**Exercice** : \n",
    "1. Écrire une fonction `delta : float -> float -> float -> float` telle que `delta a b c` renvoie le discriminant de l'équation $ax^2 + bx + c = 0$.\n",
    "2. Écrire une fonction `swap` qui échange les valeurs de 2 références en argument.  \n",
    "`swap` doit être de type `'a ref -> 'a ref -> unit`, ce qui signifie que `swap` a deux références en argument, sur des valeurs de même type `'a`, et ne renvoie pas de valeur.  \n",
    "**Remarque importante** : Lorsque l'on modifie une référence (ou un autre objet impératif, comme un tableau) qui est l'argument d'une fonction, on la modifie aussi à l'extérieur de la fonction. C'est ce qu'on appelle un **passage par référence**.  "
   ]
  },
  {
   "cell_type": "markdown",
   "id": "b7d20ce1-e86f-4588-b4c6-bbc8f4588da5",
   "metadata": {},
   "source": [
    "Une fonction peut aussi avoir aucune valeur en entrée. Dans ce cas, on lui donne l'argument `()` (de type unit). C'est le cas par exemple de `print_newline`, qui saute une ligne : "
   ]
  },
  {
   "cell_type": "code",
   "execution_count": 18,
   "id": "8249a357-cc6d-4be9-a0fd-f2ce8d8514dc",
   "metadata": {
    "execution": {
     "iopub.execute_input": "2021-09-06T11:51:51.731752Z",
     "iopub.status.busy": "2021-09-06T11:51:51.731296Z",
     "iopub.status.idle": "2021-09-06T11:51:51.735189Z",
     "shell.execute_reply": "2021-09-06T11:51:51.734434Z"
    }
   },
   "outputs": [
    {
     "name": "stdout",
     "output_type": "stream",
     "text": [
      "0\n",
      "1\n"
     ]
    },
    {
     "data": {
      "text/plain": [
       "- : unit = ()\n"
      ]
     },
     "execution_count": 18,
     "metadata": {},
     "output_type": "execute_result"
    }
   ],
   "source": [
    "print_int 0;\n",
    "print_newline ();\n",
    "print_int 1;\n",
    "print_newline ();"
   ]
  },
  {
   "cell_type": "markdown",
   "id": "d2f3f8c5",
   "metadata": {},
   "source": [
    "# Polymorphisme"
   ]
  },
  {
   "cell_type": "markdown",
   "id": "3e64c70d",
   "metadata": {},
   "source": [
    "Reprenons notre 1er exemple de fonction :"
   ]
  },
  {
   "cell_type": "code",
   "execution_count": 19,
   "id": "2bdc15d8",
   "metadata": {
    "execution": {
     "iopub.execute_input": "2021-09-06T11:51:51.737098Z",
     "iopub.status.busy": "2021-09-06T11:51:51.736586Z",
     "iopub.status.idle": "2021-09-06T11:51:51.738647Z",
     "shell.execute_reply": "2021-09-06T11:51:51.738366Z"
    }
   },
   "outputs": [
    {
     "data": {
      "text/plain": [
       "val f : int -> int = <fun>\n"
      ]
     },
     "execution_count": 19,
     "metadata": {},
     "output_type": "execute_result"
    }
   ],
   "source": [
    "let f x = 2*x"
   ]
  },
  {
   "cell_type": "markdown",
   "id": "a8a9a0b9",
   "metadata": {},
   "source": [
    "OCaml sait que l'argument `x` de `f` est un `int` car on utilise l'opérateur `*` qui ne s'utilise que sur des entiers. Mais dans certaines fonctions, il n'y a pas de contrainte de type :"
   ]
  },
  {
   "cell_type": "code",
   "execution_count": 20,
   "id": "7231f380",
   "metadata": {
    "execution": {
     "iopub.execute_input": "2021-09-06T11:51:51.740315Z",
     "iopub.status.busy": "2021-09-06T11:51:51.739870Z",
     "iopub.status.idle": "2021-09-06T11:51:51.741131Z",
     "shell.execute_reply": "2021-09-06T11:51:51.741396Z"
    }
   },
   "outputs": [
    {
     "data": {
      "text/plain": [
       "val id : 'a -> 'a = <fun>\n"
      ]
     },
     "execution_count": 20,
     "metadata": {},
     "output_type": "execute_result"
    }
   ],
   "source": [
    "let id x = x"
   ]
  },
  {
   "cell_type": "markdown",
   "id": "c3bf8239",
   "metadata": {},
   "source": [
    "Cette fonction `id` (pour identité) renvoie son argument sans le modifier. Comme aucune opération n'est appliquée sur `x`, il n'y a pas de contrainte sur son type. OCaml utilise alors `'a` pour désigner le type quelconque de `x`.  \n",
    "Notons que le type de retour de `id` est `'a` également : OCaml nous dit que `id` renvoie une valeur du même type que l'argument."
   ]
  },
  {
   "cell_type": "markdown",
   "id": "740d8672",
   "metadata": {},
   "source": [
    "**Exercice** : donner le type des fonctions suivantes  \n",
    "```ocaml\n",
    " let f x = 42\n",
    "```\n",
    "```ocaml\n",
    " let f x y = y\n",
    "```\n",
    "```ocaml\n",
    " let g x y f = x + f y\n",
    " ```"
   ]
  },
  {
   "cell_type": "markdown",
   "id": "bfc72f14",
   "metadata": {},
   "source": [
    "# Fonction comme argument\n",
    "\n",
    "Il est possible d'utiliser une fonction en argument d'une autre fonction. Par exemple, la fonction suivante évalue une autre fonction en la valeur 0 :"
   ]
  },
  {
   "cell_type": "code",
   "execution_count": 21,
   "id": "32a0ea56",
   "metadata": {
    "execution": {
     "iopub.execute_input": "2021-09-06T11:51:51.743203Z",
     "iopub.status.busy": "2021-09-06T11:51:51.742697Z",
     "iopub.status.idle": "2021-09-06T11:51:51.744172Z",
     "shell.execute_reply": "2021-09-06T11:51:51.744438Z"
    }
   },
   "outputs": [
    {
     "data": {
      "text/plain": [
       "val eval : (int -> 'a) -> 'a = <fun>\n"
      ]
     },
     "execution_count": 21,
     "metadata": {},
     "output_type": "execute_result"
    }
   ],
   "source": [
    "let eval f =\n",
    "f 0"
   ]
  },
  {
   "cell_type": "code",
   "execution_count": 22,
   "id": "312f996e",
   "metadata": {
    "execution": {
     "iopub.execute_input": "2021-09-06T11:51:51.746074Z",
     "iopub.status.busy": "2021-09-06T11:51:51.745576Z",
     "iopub.status.idle": "2021-09-06T11:51:51.748106Z",
     "shell.execute_reply": "2021-09-06T11:51:51.747732Z"
    }
   },
   "outputs": [
    {
     "data": {
      "text/plain": [
       "- : int = 7\n"
      ]
     },
     "execution_count": 22,
     "metadata": {},
     "output_type": "execute_result"
    }
   ],
   "source": [
    "let f x = 3*x + 7 in\n",
    "eval f"
   ]
  },
  {
   "cell_type": "markdown",
   "id": "7ce4a16a",
   "metadata": {},
   "source": [
    "**Exercice** : \n",
    "1. On définit une fonction `h` :\n",
    "```ocaml\n",
    "let h f g x = f (g x)\n",
    "```\n",
    "Donner la valeur de l'expression :\n",
    "```ocaml\n",
    "h (fun x -> x*x) (fun x -> x + 1) 3\n",
    "```\n",
    "2. Donner le type de `h`.\n",
    "3. À quoi sert `h`? Comment cette opération s'appelle-t-elle mathématiquement?"
   ]
  },
  {
   "cell_type": "markdown",
   "id": "a5883a28-290e-4d2a-ad92-ee05ace83025",
   "metadata": {
    "tags": []
   },
   "source": [
    "# Variable locale à une fonction"
   ]
  },
  {
   "cell_type": "markdown",
   "id": "7ed96db7-918c-47ea-b3e2-ccd98d25065b",
   "metadata": {},
   "source": [
    "Il est possible de définir une variable dans une fonction :"
   ]
  },
  {
   "cell_type": "code",
   "execution_count": 23,
   "id": "f9f5a8cd-95e2-4d70-bb57-2d4192163cc2",
   "metadata": {
    "execution": {
     "iopub.execute_input": "2021-09-06T11:51:51.749966Z",
     "iopub.status.busy": "2021-09-06T11:51:51.749537Z",
     "iopub.status.idle": "2021-09-06T11:51:51.752478Z",
     "shell.execute_reply": "2021-09-06T11:51:51.752755Z"
    },
    "tags": []
   },
   "outputs": [
    {
     "data": {
      "text/plain": [
       "val pow4 : int -> int = <fun>\n"
      ]
     },
     "execution_count": 23,
     "metadata": {},
     "output_type": "execute_result"
    }
   ],
   "source": [
    "let pow4 x = (* je saute une ligne ici pour plus de lisibilité *)\n",
    "    let y = x*x in  (* y est utilisable seulement dans pow4 *)\n",
    "    y*y (* renvoie x puissance 4 *)"
   ]
  },
  {
   "cell_type": "code",
   "execution_count": 24,
   "id": "578f5587-d889-433b-99b2-397517ad228f",
   "metadata": {
    "execution": {
     "iopub.execute_input": "2021-09-06T11:51:51.754131Z",
     "iopub.status.busy": "2021-09-06T11:51:51.753804Z",
     "iopub.status.idle": "2021-09-06T11:51:51.755576Z",
     "shell.execute_reply": "2021-09-06T11:51:51.755267Z"
    },
    "tags": []
   },
   "outputs": [
    {
     "data": {
      "text/plain": [
       "- : int = 16\n"
      ]
     },
     "execution_count": 24,
     "metadata": {},
     "output_type": "execute_result"
    }
   ],
   "source": [
    "pow4 2 (* test de notre fonction *)"
   ]
  },
  {
   "cell_type": "markdown",
   "id": "b5dda286-039f-4be0-a541-78e1fd9c5476",
   "metadata": {
    "tags": []
   },
   "source": [
    "On peut aussi définir une fonction à l'intérieur d'une fonction. Par exemple, on peut définir $f: x \\longmapsto 2x + \\sqrt{2(x + 1)}$ en utilisant une fonction locale $g : y \\longmapsto 2y$ :"
   ]
  },
  {
   "cell_type": "code",
   "execution_count": 25,
   "id": "852c5fb6-ca97-4a73-a7ad-0cf191e9c955",
   "metadata": {
    "execution": {
     "iopub.execute_input": "2021-09-06T11:51:51.756949Z",
     "iopub.status.busy": "2021-09-06T11:51:51.756621Z",
     "iopub.status.idle": "2021-09-06T11:51:51.759118Z",
     "shell.execute_reply": "2021-09-06T11:51:51.758808Z"
    }
   },
   "outputs": [
    {
     "data": {
      "text/plain": [
       "val f : float -> float = <fun>\n"
      ]
     },
     "execution_count": 25,
     "metadata": {},
     "output_type": "execute_result"
    }
   ],
   "source": [
    "let f x = \n",
    "    let g y = 2.*.y in (* g n'est utilisable que dans f *)\n",
    "    g x +. (g (x +. 1.))**0.5"
   ]
  },
  {
   "cell_type": "code",
   "execution_count": 26,
   "id": "0405bfbc-98ed-4741-9b53-06f65673f9a5",
   "metadata": {
    "execution": {
     "iopub.execute_input": "2021-09-06T11:51:51.760486Z",
     "iopub.status.busy": "2021-09-06T11:51:51.760158Z",
     "iopub.status.idle": "2021-09-06T11:51:51.761655Z",
     "shell.execute_reply": "2021-09-06T11:51:51.761348Z"
    }
   },
   "outputs": [
    {
     "data": {
      "text/plain": [
       "- : float = 4.\n"
      ]
     },
     "execution_count": 26,
     "metadata": {},
     "output_type": "execute_result"
    }
   ],
   "source": [
    "f 1."
   ]
  }
 ],
 "metadata": {
  "kernelspec": {
   "display_name": "OCaml default",
   "language": "OCaml",
   "name": "ocaml-jupyter"
  },
  "language_info": {
   "codemirror_mode": "text/x-ocaml",
   "file_extension": ".ml",
   "mimetype": "text/x-ocaml",
   "name": "OCaml",
   "nbconverter_exporter": null,
   "pygments_lexer": "OCaml",
   "version": "4.08.1"
  },
  "title": "Fonctions"
 },
 "nbformat": 4,
 "nbformat_minor": 5
}

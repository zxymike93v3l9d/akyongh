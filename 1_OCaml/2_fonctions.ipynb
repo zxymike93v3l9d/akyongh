{
 "cells": [
  {
   "cell_type": "markdown",
   "id": "b1600297",
   "metadata": {},
   "source": [
    "# Utiliser une fonction\n",
    "\n",
    "OCaml est un langage fonctionnel, ce qui signifie que :\n",
    "- les fonctions y occupent une place importante et peuvent être manipulées un peu comme des variables\n",
    "- les fonctions sont censées ne pas effectuer d'effet de bord, c'est à dire d'action sur l'extérieur de la fonction (pas de modification de variable globale, pas d'écriture dans un fichier...)\n",
    "\n",
    "Pour utiliser une fonction `f` sur une valeur `x`, on écrira simplement `f x` (et non pas `f(x)`.  \n",
    "\n",
    "Un certain nombre de fonctions sont déjà définies en OCaml. Par exemple, la racine carrée : "
   ]
  },
  {
   "cell_type": "code",
   "execution_count": 1,
   "id": "22387b86",
   "metadata": {
    "execution": {
     "iopub.execute_input": "2021-09-06T12:32:32.710292Z",
     "iopub.status.busy": "2021-09-06T12:32:32.708632Z",
     "iopub.status.idle": "2021-09-06T12:32:32.715537Z",
     "shell.execute_reply": "2021-09-06T12:32:32.717120Z"
    },
    "tags": []
   },
   "outputs": [
    {
     "data": {
      "text/plain": [
       "- : float = 1.41421356237309515\n"
      ]
     },
     "execution_count": 1,
     "metadata": {},
     "output_type": "execute_result"
    }
   ],
   "source": [
    "sqrt 2.0 (* renvoie une approximation de racine de 2 *)"
   ]
  },
  {
   "cell_type": "markdown",
   "id": "354b4bb3",
   "metadata": {},
   "source": [
    "Chaque fonction possède une **signature**, qui donne les types des paramètres (valeurs en entrée de la fonction) et le type de la valeur de retour."
   ]
  },
  {
   "cell_type": "code",
   "execution_count": 2,
   "id": "70f54733",
   "metadata": {
    "execution": {
     "iopub.execute_input": "2021-09-06T12:32:32.725092Z",
     "iopub.status.busy": "2021-09-06T12:32:32.722698Z",
     "iopub.status.idle": "2021-09-06T12:32:32.732532Z",
     "shell.execute_reply": "2021-09-06T12:32:32.731653Z"
    },
    "tags": []
   },
   "outputs": [
    {
     "data": {
      "text/plain": [
       "- : float -> float = <fun>\n"
      ]
     },
     "execution_count": 2,
     "metadata": {},
     "output_type": "execute_result"
    }
   ],
   "source": [
    "sqrt"
   ]
  },
  {
   "cell_type": "markdown",
   "id": "8d005f94",
   "metadata": {},
   "source": [
    "`float -> float` signifie que `sqrt` est une fonction qui prend un flottant en entrée et renvoie un flottant. On ne peut donc pas l'appliquer sur un entier :"
   ]
  },
  {
   "cell_type": "code",
   "execution_count": 3,
   "id": "7d0fa398",
   "metadata": {
    "execution": {
     "iopub.execute_input": "2021-09-06T12:32:32.736721Z",
     "iopub.status.busy": "2021-09-06T12:32:32.735636Z",
     "iopub.status.idle": "2021-09-06T12:32:32.740596Z",
     "shell.execute_reply": "2021-09-06T12:32:32.739625Z"
    },
    "tags": []
   },
   "outputs": [
    {
     "ename": "error",
     "evalue": "compile_error",
     "output_type": "error",
     "traceback": [
      "File \"[3]\", line 1, characters 5-6:\n1 | sqrt 2 (* erreur : on donne un entier à sqrt qui attend un flottant *)\n         ^\nError: This expression has type int but an expression was expected of type\n         float\n"
     ]
    }
   ],
   "source": [
    "sqrt 2 (* erreur : on donne un entier à sqrt qui attend un flottant *)"
   ]
  },
  {
   "cell_type": "markdown",
   "id": "873b738c",
   "metadata": {},
   "source": [
    "# Définir une fonction"
   ]
  },
  {
   "cell_type": "markdown",
   "id": "8c792e06",
   "metadata": {},
   "source": [
    "En OCaml, une fonction se définie de la façon suivante :\n",
    "```ocaml\n",
    "let nom_fonction nom_argument = ... \n",
    "```\n",
    "où `...` est le corps de la fonction, c'est à dire ce qui est exécuté lorsqu'on utilise la fonction. \n",
    "\n",
    "**La valeur renvoyée par la fonction est celle de la dernière instruction (pas besoin de `return`)**."
   ]
  },
  {
   "cell_type": "markdown",
   "id": "c94a5e65",
   "metadata": {},
   "source": [
    "Définissons par exemple la fonction $f: x \\longmapsto 2x$ :"
   ]
  },
  {
   "cell_type": "code",
   "execution_count": 4,
   "id": "297f9956",
   "metadata": {
    "execution": {
     "iopub.execute_input": "2021-09-06T12:32:32.745101Z",
     "iopub.status.busy": "2021-09-06T12:32:32.744068Z",
     "iopub.status.idle": "2021-09-06T12:32:32.748335Z",
     "shell.execute_reply": "2021-09-06T12:32:32.749167Z"
    },
    "tags": []
   },
   "outputs": [
    {
     "data": {
      "text/plain": [
       "val f : int -> int = <fun>\n"
      ]
     },
     "execution_count": 4,
     "metadata": {},
     "output_type": "execute_result"
    }
   ],
   "source": [
    "let f x = 2*x"
   ]
  },
  {
   "cell_type": "markdown",
   "id": "e945ddae",
   "metadata": {},
   "source": [
    "OCaml nous dit que `f` est de type `int -> int`, ce qui signifie que `f` prend un entier en entrée et renvoie un entier en sortie. Ceci est similaire à la notation mathématique $f : \\mathbb{N} \\longrightarrow \\mathbb{N}$.\n",
    "\n",
    "On peut ensuite utiliser `f` et récupérer la valeur de retour :"
   ]
  },
  {
   "cell_type": "code",
   "execution_count": 5,
   "id": "f82c5a15",
   "metadata": {
    "execution": {
     "iopub.execute_input": "2021-09-06T12:32:32.753236Z",
     "iopub.status.busy": "2021-09-06T12:32:32.752163Z",
     "iopub.status.idle": "2021-09-06T12:32:32.755788Z",
     "shell.execute_reply": "2021-09-06T12:32:32.756835Z"
    }
   },
   "outputs": [
    {
     "data": {
      "text/plain": [
       "- : int = 6\n"
      ]
     },
     "execution_count": 5,
     "metadata": {},
     "output_type": "execute_result"
    }
   ],
   "source": [
    "f 3"
   ]
  },
  {
   "cell_type": "markdown",
   "id": "fe5a949f",
   "metadata": {},
   "source": [
    "Notons que `x` est une variable **muette** : elle n'existe qu'à l'intérieur de `f`, n'a aucun rapport avec une variable `x` définie précédemment et la fonction suivante définit exactement la même fonction :"
   ]
  },
  {
   "cell_type": "code",
   "execution_count": 6,
   "id": "c26786a8",
   "metadata": {
    "execution": {
     "iopub.execute_input": "2021-09-06T12:32:32.759970Z",
     "iopub.status.busy": "2021-09-06T12:32:32.759348Z",
     "iopub.status.idle": "2021-09-06T12:32:32.762084Z",
     "shell.execute_reply": "2021-09-06T12:32:32.762609Z"
    },
    "tags": []
   },
   "outputs": [
    {
     "data": {
      "text/plain": [
       "val f : int -> int = <fun>\n"
      ]
     },
     "execution_count": 6,
     "metadata": {},
     "output_type": "execute_result"
    }
   ],
   "source": [
    "let f y = 2*y (* peu importe le nom de la variable muette y *)"
   ]
  },
  {
   "cell_type": "markdown",
   "id": "6864d419",
   "metadata": {},
   "source": [
    "Maintenant que `f` est définie, on peut calculer $f(3)$ :"
   ]
  },
  {
   "cell_type": "code",
   "execution_count": 7,
   "id": "30535729",
   "metadata": {
    "execution": {
     "iopub.execute_input": "2021-09-06T12:32:32.764944Z",
     "iopub.status.busy": "2021-09-06T12:32:32.764426Z",
     "iopub.status.idle": "2021-09-06T12:32:32.766365Z",
     "shell.execute_reply": "2021-09-06T12:32:32.766789Z"
    },
    "tags": []
   },
   "outputs": [
    {
     "data": {
      "text/plain": [
       "- : int = 6\n"
      ]
     },
     "execution_count": 7,
     "metadata": {},
     "output_type": "execute_result"
    }
   ],
   "source": [
    "f 3"
   ]
  },
  {
   "cell_type": "markdown",
   "id": "a13e69e2",
   "metadata": {},
   "source": [
    "**Exercice** : définir la fonction $f : x \\longmapsto \\frac{1}{\\sqrt{1 + x^2}}$ en OCaml."
   ]
  },
  {
   "cell_type": "markdown",
   "id": "1a42346e",
   "metadata": {},
   "source": [
    "Comme pour les variables, il est possible d'utiliser `in` pour spécifier la portée d'une fonction $g$"
   ]
  },
  {
   "cell_type": "code",
   "execution_count": 8,
   "id": "f278df9d",
   "metadata": {
    "execution": {
     "iopub.execute_input": "2021-09-06T12:32:32.768989Z",
     "iopub.status.busy": "2021-09-06T12:32:32.768464Z",
     "iopub.status.idle": "2021-09-06T12:32:32.771438Z",
     "shell.execute_reply": "2021-09-06T12:32:32.771021Z"
    },
    "tags": []
   },
   "outputs": [
    {
     "data": {
      "text/plain": [
       "- : int = 1\n"
      ]
     },
     "execution_count": 8,
     "metadata": {},
     "output_type": "execute_result"
    }
   ],
   "source": [
    "let g x = x + 1 in\n",
    "g 0  (* g est utilisable seulement dans le in *)"
   ]
  },
  {
   "cell_type": "markdown",
   "id": "22b16f3a",
   "metadata": {},
   "source": [
    "**Exercice** Donner la valeur de l'expression suivante :\n",
    "```ocaml\n",
    "let h x = f x + 1 in\n",
    "h 3\n",
    "```"
   ]
  },
  {
   "cell_type": "markdown",
   "id": "35eb0bda",
   "metadata": {},
   "source": [
    "# Fonctions anonymes"
   ]
  },
  {
   "cell_type": "markdown",
   "id": "f1b1d154",
   "metadata": {},
   "source": [
    "Quand on a besoin d'utiliser une fonction une seule fois, on peut définir une fonction anonyme (sans nom) avec `fun`. "
   ]
  },
  {
   "cell_type": "code",
   "execution_count": 9,
   "id": "6a188775",
   "metadata": {
    "execution": {
     "iopub.execute_input": "2021-09-06T12:32:32.773448Z",
     "iopub.status.busy": "2021-09-06T12:32:32.772997Z",
     "iopub.status.idle": "2021-09-06T12:32:32.774880Z",
     "shell.execute_reply": "2021-09-06T12:32:32.775202Z"
    },
    "tags": []
   },
   "outputs": [
    {
     "data": {
      "text/plain": [
       "- : int -> int = <fun>\n"
      ]
     },
     "execution_count": 9,
     "metadata": {},
     "output_type": "execute_result"
    }
   ],
   "source": [
    "fun x -> x*2 (* définition d'une fonction anonyme *)"
   ]
  },
  {
   "cell_type": "code",
   "execution_count": 10,
   "id": "1c5d14b7",
   "metadata": {
    "execution": {
     "iopub.execute_input": "2021-09-06T12:32:32.776850Z",
     "iopub.status.busy": "2021-09-06T12:32:32.776447Z",
     "iopub.status.idle": "2021-09-06T12:32:32.778581Z",
     "shell.execute_reply": "2021-09-06T12:32:32.778242Z"
    },
    "tags": []
   },
   "outputs": [
    {
     "data": {
      "text/plain": [
       "- : int = 6\n"
      ]
     },
     "execution_count": 10,
     "metadata": {},
     "output_type": "execute_result"
    }
   ],
   "source": [
    "(fun x -> x*2) 3 (* applique une fonction anonyme sur la valeur 3 *)"
   ]
  },
  {
   "cell_type": "markdown",
   "id": "76801ca9",
   "metadata": {},
   "source": [
    "**Remarque** : les deux définitions suivantes sont en fait complètement équivalentes.\n",
    "```ocaml\n",
    "let f x = ...\n",
    "```\n",
    "```ocaml\n",
    "let f = fun x -> ...\n",
    "```\n",
    "\n",
    "Par exemple, on peut définir la fonction $f : x \\longmapsto 2 \\sqrt{x}$ comme ceci :"
   ]
  },
  {
   "cell_type": "code",
   "execution_count": 11,
   "id": "9ad5b193",
   "metadata": {
    "execution": {
     "iopub.execute_input": "2021-09-06T12:32:32.780124Z",
     "iopub.status.busy": "2021-09-06T12:32:32.779779Z",
     "iopub.status.idle": "2021-09-06T12:32:32.781711Z",
     "shell.execute_reply": "2021-09-06T12:32:32.781418Z"
    }
   },
   "outputs": [
    {
     "data": {
      "text/plain": [
       "val f : float -> float = <fun>\n"
      ]
     },
     "execution_count": 11,
     "metadata": {},
     "output_type": "execute_result"
    }
   ],
   "source": [
    "let f = fun x -> 2.0*.x**0.5"
   ]
  },
  {
   "cell_type": "markdown",
   "id": "c7be5d4f",
   "metadata": {},
   "source": [
    "**Remarque** : On peut aussi définir une fonction avec `function x -> ...` mais `fun` est légèrement plus simple d'utilisation."
   ]
  },
  {
   "cell_type": "markdown",
   "id": "5a0c68dc",
   "metadata": {},
   "source": [
    "# Fonctions de plusieurs variables"
   ]
  },
  {
   "cell_type": "markdown",
   "id": "78a12aa9",
   "metadata": {},
   "source": [
    "Il est possible de définir des fonctions avec plusieurs paramètres, par exemple :"
   ]
  },
  {
   "cell_type": "code",
   "execution_count": 12,
   "id": "dc5359bf",
   "metadata": {
    "execution": {
     "iopub.execute_input": "2021-09-06T12:32:32.783276Z",
     "iopub.status.busy": "2021-09-06T12:32:32.782933Z",
     "iopub.status.idle": "2021-09-06T12:32:32.784533Z",
     "shell.execute_reply": "2021-09-06T12:32:32.784795Z"
    },
    "lines_to_next_cell": 0,
    "tags": []
   },
   "outputs": [
    {
     "data": {
      "text/plain": [
       "val sum : int -> int -> int = <fun>\n"
      ]
     },
     "execution_count": 12,
     "metadata": {},
     "output_type": "execute_result"
    }
   ],
   "source": [
    "let sum x y = x + y"
   ]
  },
  {
   "cell_type": "code",
   "execution_count": 13,
   "id": "75e0d8a0",
   "metadata": {
    "execution": {
     "iopub.execute_input": "2021-09-06T12:32:32.786115Z",
     "iopub.status.busy": "2021-09-06T12:32:32.785800Z",
     "iopub.status.idle": "2021-09-06T12:32:32.787303Z",
     "shell.execute_reply": "2021-09-06T12:32:32.787023Z"
    },
    "tags": []
   },
   "outputs": [
    {
     "data": {
      "text/plain": [
       "- : int = 7\n"
      ]
     },
     "execution_count": 13,
     "metadata": {},
     "output_type": "execute_result"
    }
   ],
   "source": [
    "sum 3 4 (* renvoie 3 + 4 *)"
   ]
  },
  {
   "cell_type": "markdown",
   "id": "694fced3",
   "metadata": {},
   "source": [
    "Le type de `sum` est `int -> int -> int`, ce qui peut paraître étrange. C'est équivalent à `int -> (int -> int)`, ce qui signifie que `sum` prend en entier en argument et renvoie une valeur de type `int -> int` (c'est à dire une fonction).  \n",
    "En effet :"
   ]
  },
  {
   "cell_type": "code",
   "execution_count": 14,
   "id": "1f6797ca",
   "metadata": {
    "execution": {
     "iopub.execute_input": "2021-09-06T12:32:32.789175Z",
     "iopub.status.busy": "2021-09-06T12:32:32.788703Z",
     "iopub.status.idle": "2021-09-06T12:32:32.790390Z",
     "shell.execute_reply": "2021-09-06T12:32:32.790084Z"
    },
    "tags": []
   },
   "outputs": [
    {
     "data": {
      "text/plain": [
       "- : int -> int = <fun>\n"
      ]
     },
     "execution_count": 14,
     "metadata": {},
     "output_type": "execute_result"
    }
   ],
   "source": [
    "sum 3"
   ]
  },
  {
   "cell_type": "markdown",
   "id": "22960805",
   "metadata": {},
   "source": [
    "`sum 3` est une fonction qui prend en argument un entier `y` et qui renvoie `3 + y`, ce qu'on peut vérifier :"
   ]
  },
  {
   "cell_type": "code",
   "execution_count": 15,
   "id": "9b5c7ac0",
   "metadata": {
    "execution": {
     "iopub.execute_input": "2021-09-06T12:32:32.791843Z",
     "iopub.status.busy": "2021-09-06T12:32:32.791513Z",
     "iopub.status.idle": "2021-09-06T12:32:32.793285Z",
     "shell.execute_reply": "2021-09-06T12:32:32.792980Z"
    },
    "tags": []
   },
   "outputs": [
    {
     "data": {
      "text/plain": [
       "- : int = 7\n"
      ]
     },
     "execution_count": 15,
     "metadata": {},
     "output_type": "execute_result"
    }
   ],
   "source": [
    "let f = sum 3 in (* f est une fonction *)\n",
    "f 4 (* renvoie sum 3 4, c'est à dire 7 *)"
   ]
  },
  {
   "cell_type": "markdown",
   "id": "2c502291",
   "metadata": {},
   "source": [
    "En fait, OCaml transforme automatiquement une fonction de plusieurs variables en une suite de fonctions à une variable (c'est ce qu'on appelle la **curryfication**) :"
   ]
  },
  {
   "cell_type": "code",
   "execution_count": 16,
   "id": "7d7cdad2",
   "metadata": {
    "execution": {
     "iopub.execute_input": "2021-09-06T12:32:32.794716Z",
     "iopub.status.busy": "2021-09-06T12:32:32.794380Z",
     "iopub.status.idle": "2021-09-06T12:32:32.797331Z",
     "shell.execute_reply": "2021-09-06T12:32:32.797025Z"
    }
   },
   "outputs": [
    {
     "data": {
      "text/plain": [
       "val sum : int -> int -> int = <fun>\n"
      ]
     },
     "execution_count": 16,
     "metadata": {},
     "output_type": "execute_result"
    }
   ],
   "source": [
    "let sum = fun x -> (fun y -> x + y) (* OCaml transforme la définition de sum ci-dessus en celle-ci *)"
   ]
  },
  {
   "cell_type": "code",
   "execution_count": 17,
   "id": "2a418ff4",
   "metadata": {
    "execution": {
     "iopub.execute_input": "2021-09-06T12:32:32.798701Z",
     "iopub.status.busy": "2021-09-06T12:32:32.798372Z",
     "iopub.status.idle": "2021-09-06T12:32:32.799971Z",
     "shell.execute_reply": "2021-09-06T12:32:32.799690Z"
    }
   },
   "outputs": [
    {
     "data": {
      "text/plain": [
       "- : int = 5\n"
      ]
     },
     "execution_count": 17,
     "metadata": {},
     "output_type": "execute_result"
    }
   ],
   "source": [
    "(sum 2) 3  (* le calcul effectué par OCaml lorsqu'on écrit sum 2 3 *)"
   ]
  },
  {
   "cell_type": "markdown",
   "id": "601fc63f",
   "metadata": {},
   "source": [
    "La possibilité d'appliquer une fonction seulement sur certains arguments s'appelle l'**application partielle** de fonction. C'est un des avantages d'OCaml par rapport à Python.  "
   ]
  },
  {
   "cell_type": "markdown",
   "id": "b794d797",
   "metadata": {},
   "source": [
    "De la même façon, une fonction OCaml à 3 arguments sera de type `... -> ... -> ... -> ...`."
   ]
  },
  {
   "cell_type": "markdown",
   "id": "a32ae52a",
   "metadata": {},
   "source": [
    "**Exercice** : \n",
    "1. Écrire une fonction `delta : float -> float -> float -> float` telle que `delta a b c` renvoie le discriminant de l'équation $ax^2 + bx + c = 0$.\n",
    "2. Écrire une fonction `swap` qui échange les valeurs de 2 références en argument.  \n",
    "`swap` doit être de type `'a ref -> 'a ref -> unit`, ce qui signifie que `swap` a deux références en argument, sur des valeurs de même type `'a`, et ne renvoie pas de valeur.  \n",
    "**Remarque importante** : Lorsque l'on modifie une référence (ou un autre objet impératif, comme un tableau) qui est l'argument d'une fonction, on la modifie aussi à l'extérieur de la fonction. C'est ce qu'on appelle un **passage par référence**.  "
   ]
  },
  {
   "cell_type": "markdown",
   "id": "d8823436",
   "metadata": {},
   "source": [
    "Une fonction peut aussi avoir aucune valeur en entrée. Dans ce cas, on lui donne l'argument `()` (de type unit). C'est le cas par exemple de `print_newline`, qui saute une ligne : "
   ]
  },
  {
   "cell_type": "code",
   "execution_count": 18,
   "id": "54cbb67e",
   "metadata": {
    "execution": {
     "iopub.execute_input": "2021-09-06T12:32:32.801481Z",
     "iopub.status.busy": "2021-09-06T12:32:32.801149Z",
     "iopub.status.idle": "2021-09-06T12:32:32.804015Z",
     "shell.execute_reply": "2021-09-06T12:32:32.803298Z"
    }
   },
   "outputs": [
    {
     "name": "stdout",
     "output_type": "stream",
     "text": [
      "0\n",
      "1\n"
     ]
    },
    {
     "data": {
      "text/plain": [
       "- : unit = ()\n"
      ]
     },
     "execution_count": 18,
     "metadata": {},
     "output_type": "execute_result"
    }
   ],
   "source": [
    "print_int 0;\n",
    "print_newline ();\n",
    "print_int 1;\n",
    "print_newline ();"
   ]
  },
  {
   "cell_type": "markdown",
   "id": "2580721f",
   "metadata": {},
   "source": [
    "# Polymorphisme"
   ]
  },
  {
   "cell_type": "markdown",
   "id": "019fb101",
   "metadata": {},
   "source": [
    "Reprenons notre 1er exemple de fonction :"
   ]
  },
  {
   "cell_type": "code",
   "execution_count": 19,
   "id": "5e9df6de",
   "metadata": {
    "execution": {
     "iopub.execute_input": "2021-09-06T12:32:32.805473Z",
     "iopub.status.busy": "2021-09-06T12:32:32.805144Z",
     "iopub.status.idle": "2021-09-06T12:32:32.806833Z",
     "shell.execute_reply": "2021-09-06T12:32:32.806520Z"
    }
   },
   "outputs": [
    {
     "data": {
      "text/plain": [
       "val f : int -> int = <fun>\n"
      ]
     },
     "execution_count": 19,
     "metadata": {},
     "output_type": "execute_result"
    }
   ],
   "source": [
    "let f x = 2*x"
   ]
  },
  {
   "cell_type": "markdown",
   "id": "814ceedf",
   "metadata": {},
   "source": [
    "OCaml sait que l'argument `x` de `f` est un `int` car on utilise l'opérateur `*` qui ne s'utilise que sur des entiers. Mais dans certaines fonctions, il n'y a pas de contrainte de type :"
   ]
  },
  {
   "cell_type": "code",
   "execution_count": 20,
   "id": "ab13f433",
   "metadata": {
    "execution": {
     "iopub.execute_input": "2021-09-06T12:32:32.808182Z",
     "iopub.status.busy": "2021-09-06T12:32:32.807845Z",
     "iopub.status.idle": "2021-09-06T12:32:32.809032Z",
     "shell.execute_reply": "2021-09-06T12:32:32.809300Z"
    }
   },
   "outputs": [
    {
     "data": {
      "text/plain": [
       "val id : 'a -> 'a = <fun>\n"
      ]
     },
     "execution_count": 20,
     "metadata": {},
     "output_type": "execute_result"
    }
   ],
   "source": [
    "let id x = x"
   ]
  },
  {
   "cell_type": "markdown",
   "id": "01720465",
   "metadata": {},
   "source": [
    "Cette fonction `id` (pour identité) renvoie son argument sans le modifier. Comme aucune opération n'est appliquée sur `x`, il n'y a pas de contrainte sur son type. OCaml utilise alors `'a` pour désigner le type quelconque de `x`.  \n",
    "Notons que le type de retour de `id` est `'a` également : OCaml nous dit que `id` renvoie une valeur du même type que l'argument."
   ]
  },
  {
   "cell_type": "markdown",
   "id": "452f1ad9",
   "metadata": {},
   "source": [
    "**Exercice** : donner le type des fonctions suivantes  \n",
    "```ocaml\n",
    " let f x = 42\n",
    "```\n",
    "```ocaml\n",
    " let f x y = y\n",
    "```\n",
    "```ocaml\n",
    " let g x y f = x + f y\n",
    " ```"
   ]
  },
  {
   "cell_type": "markdown",
   "id": "9ae3747d",
   "metadata": {},
   "source": [
    "# Fonction comme argument\n",
    "\n",
    "Il est possible d'utiliser une fonction en argument d'une autre fonction. Par exemple, la fonction suivante évalue une autre fonction en la valeur 0 :"
   ]
  },
  {
   "cell_type": "code",
   "execution_count": 21,
   "id": "c68fd8b5",
   "metadata": {
    "execution": {
     "iopub.execute_input": "2021-09-06T12:32:32.810754Z",
     "iopub.status.busy": "2021-09-06T12:32:32.810424Z",
     "iopub.status.idle": "2021-09-06T12:32:32.812042Z",
     "shell.execute_reply": "2021-09-06T12:32:32.811731Z"
    }
   },
   "outputs": [
    {
     "data": {
      "text/plain": [
       "val eval : (int -> 'a) -> 'a = <fun>\n"
      ]
     },
     "execution_count": 21,
     "metadata": {},
     "output_type": "execute_result"
    }
   ],
   "source": [
    "let eval f =\n",
    "f 0"
   ]
  },
  {
   "cell_type": "code",
   "execution_count": 22,
   "id": "6e268f93",
   "metadata": {
    "execution": {
     "iopub.execute_input": "2021-09-06T12:32:32.813352Z",
     "iopub.status.busy": "2021-09-06T12:32:32.813015Z",
     "iopub.status.idle": "2021-09-06T12:32:32.815148Z",
     "shell.execute_reply": "2021-09-06T12:32:32.814840Z"
    }
   },
   "outputs": [
    {
     "data": {
      "text/plain": [
       "- : int = 7\n"
      ]
     },
     "execution_count": 22,
     "metadata": {},
     "output_type": "execute_result"
    }
   ],
   "source": [
    "let f x = 3*x + 7 in\n",
    "eval f"
   ]
  },
  {
   "cell_type": "markdown",
   "id": "bb94f69d",
   "metadata": {},
   "source": [
    "**Exercice** : \n",
    "1. On définit une fonction `h` :\n",
    "```ocaml\n",
    "let h f g x = f (g x)\n",
    "```\n",
    "Donner la valeur de l'expression :\n",
    "```ocaml\n",
    "h (fun x -> x*x) (fun x -> x + 1) 3\n",
    "```\n",
    "2. Donner le type de `h`.\n",
    "3. À quoi sert `h`? Comment cette opération s'appelle-t-elle mathématiquement?"
   ]
  },
  {
   "cell_type": "markdown",
   "id": "5849befb",
   "metadata": {
    "tags": []
   },
   "source": [
    "# Variable locale à une fonction"
   ]
  },
  {
   "cell_type": "markdown",
   "id": "5925da03",
   "metadata": {},
   "source": [
    "Il est possible de définir une variable dans une fonction :"
   ]
  },
  {
   "cell_type": "code",
   "execution_count": 23,
   "id": "ca24e710",
   "metadata": {
    "execution": {
     "iopub.execute_input": "2021-09-06T12:32:32.816590Z",
     "iopub.status.busy": "2021-09-06T12:32:32.816261Z",
     "iopub.status.idle": "2021-09-06T12:32:32.819218Z",
     "shell.execute_reply": "2021-09-06T12:32:32.818896Z"
    },
    "tags": []
   },
   "outputs": [
    {
     "data": {
      "text/plain": [
       "val pow4 : int -> int = <fun>\n"
      ]
     },
     "execution_count": 23,
     "metadata": {},
     "output_type": "execute_result"
    }
   ],
   "source": [
    "let pow4 x = (* je saute une ligne ici pour plus de lisibilité *)\n",
    "    let y = x*x in  (* y est utilisable seulement dans pow4 *)\n",
    "    y*y (* renvoie x puissance 4 *)"
   ]
  },
  {
   "cell_type": "code",
   "execution_count": 24,
   "id": "05927aa9",
   "metadata": {
    "execution": {
     "iopub.execute_input": "2021-09-06T12:32:32.820522Z",
     "iopub.status.busy": "2021-09-06T12:32:32.820193Z",
     "iopub.status.idle": "2021-09-06T12:32:32.822004Z",
     "shell.execute_reply": "2021-09-06T12:32:32.821565Z"
    },
    "tags": []
   },
   "outputs": [
    {
     "data": {
      "text/plain": [
       "- : int = 16\n"
      ]
     },
     "execution_count": 24,
     "metadata": {},
     "output_type": "execute_result"
    }
   ],
   "source": [
    "pow4 2 (* test de notre fonction *)"
   ]
  },
  {
   "cell_type": "markdown",
   "id": "a9c42373",
   "metadata": {
    "tags": []
   },
   "source": [
    "On peut aussi définir une fonction à l'intérieur d'une fonction. Par exemple, on peut définir $f: x \\longmapsto 2x + \\sqrt{2(x + 1)}$ en utilisant une fonction locale $g : y \\longmapsto 2y$ :"
   ]
  },
  {
   "cell_type": "code",
   "execution_count": 25,
   "id": "201c9f91",
   "metadata": {
    "execution": {
     "iopub.execute_input": "2021-09-06T12:32:32.823637Z",
     "iopub.status.busy": "2021-09-06T12:32:32.823303Z",
     "iopub.status.idle": "2021-09-06T12:32:32.825776Z",
     "shell.execute_reply": "2021-09-06T12:32:32.825493Z"
    }
   },
   "outputs": [
    {
     "data": {
      "text/plain": [
       "val f : float -> float = <fun>\n"
      ]
     },
     "execution_count": 25,
     "metadata": {},
     "output_type": "execute_result"
    }
   ],
   "source": [
    "let f x = \n",
    "    let g y = 2.*.y in (* g n'est utilisable que dans f *)\n",
    "    g x +. (g (x +. 1.))**0.5"
   ]
  },
  {
   "cell_type": "code",
   "execution_count": 26,
   "id": "c165d4ec",
   "metadata": {
    "execution": {
     "iopub.execute_input": "2021-09-06T12:32:32.827075Z",
     "iopub.status.busy": "2021-09-06T12:32:32.826732Z",
     "iopub.status.idle": "2021-09-06T12:32:32.828229Z",
     "shell.execute_reply": "2021-09-06T12:32:32.827940Z"
    }
   },
   "outputs": [
    {
     "data": {
      "text/plain": [
       "- : float = 4.\n"
      ]
     },
     "execution_count": 26,
     "metadata": {},
     "output_type": "execute_result"
    }
   ],
   "source": [
    "f 1."
   ]
  }
 ],
 "metadata": {
  "kernelspec": {
   "display_name": "OCaml default",
   "language": "OCaml",
   "name": "ocaml-jupyter"
  },
  "language_info": {
   "codemirror_mode": "text/x-ocaml",
   "file_extension": ".ml",
   "mimetype": "text/x-ocaml",
   "name": "OCaml",
   "nbconverter_exporter": null,
   "pygments_lexer": "OCaml",
   "version": "4.08.1"
  },
  "title": "Fonctions"
 },
 "nbformat": 4,
 "nbformat_minor": 5
}

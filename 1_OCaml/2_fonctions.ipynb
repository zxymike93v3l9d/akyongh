{
 "cells": [
  {
   "cell_type": "markdown",
   "id": "15353ddd",
   "metadata": {},
   "source": [
    "# Fonctions"
   ]
  },
  {
   "cell_type": "markdown",
   "id": "b5c9960e",
   "metadata": {},
   "source": [
    "## Utiliser une fonction\n",
    "\n",
    "OCaml est un langage fonctionnel, ce qui signifie que :\n",
    "- les fonctions y occupent une place importante et peuvent être manipulées un peu comme des variables\n",
    "- les fonctions sont censées ne pas effectuer d'effet de bord, c'est à dire d'action sur l'extérieur de la fonction (pas de modification de variable globale, pas d'écriture dans un fichier...)\n",
    "\n",
    "Pour utiliser une fonction `f` sur une valeur `x`, on écrira simplement `f x` (et non pas `f(x)`).  \n",
    "\n",
    "Un certain nombre de fonctions sont déjà définies en OCaml. Par exemple, la racine carrée : "
   ]
  },
  {
   "cell_type": "code",
   "execution_count": 1,
   "id": "a2c077f6",
   "metadata": {
    "execution": {
     "iopub.execute_input": "2021-09-09T12:09:09.097567Z",
     "iopub.status.busy": "2021-09-09T12:09:09.096833Z",
     "iopub.status.idle": "2021-09-09T12:09:09.100244Z",
     "shell.execute_reply": "2021-09-09T12:09:09.099753Z"
    },
    "tags": []
   },
   "outputs": [
    {
     "data": {
      "text/plain": [
       "- : float = 1.41421356237309515\n"
      ]
     },
     "execution_count": 1,
     "metadata": {},
     "output_type": "execute_result"
    }
   ],
   "source": [
    "sqrt 2.0 (* renvoie une approximation de racine de 2 *)"
   ]
  },
  {
   "cell_type": "markdown",
   "id": "6990ff53",
   "metadata": {},
   "source": [
    "Chaque fonction possède une **signature**, qui donne les types des paramètres (valeurs en entrée de la fonction) et le type de la valeur de retour."
   ]
  },
  {
   "cell_type": "code",
   "execution_count": 2,
   "id": "e8a8a0e2",
   "metadata": {
    "execution": {
     "iopub.execute_input": "2021-09-09T12:09:09.104295Z",
     "iopub.status.busy": "2021-09-09T12:09:09.103895Z",
     "iopub.status.idle": "2021-09-09T12:09:09.105960Z",
     "shell.execute_reply": "2021-09-09T12:09:09.105621Z"
    },
    "tags": []
   },
   "outputs": [
    {
     "data": {
      "text/plain": [
       "- : float -> float = <fun>\n"
      ]
     },
     "execution_count": 2,
     "metadata": {},
     "output_type": "execute_result"
    }
   ],
   "source": [
    "sqrt"
   ]
  },
  {
   "cell_type": "markdown",
   "id": "28f0c1cc",
   "metadata": {},
   "source": [
    "`float -> float` signifie que `sqrt` est une fonction qui prend un flottant en entrée et renvoie un flottant. On ne peut donc pas l'appliquer sur un entier :"
   ]
  },
  {
   "cell_type": "code",
   "execution_count": 3,
   "id": "a38ab0e9",
   "metadata": {
    "execution": {
     "iopub.execute_input": "2021-09-09T12:09:09.107485Z",
     "iopub.status.busy": "2021-09-09T12:09:09.107086Z",
     "iopub.status.idle": "2021-09-09T12:09:09.108858Z",
     "shell.execute_reply": "2021-09-09T12:09:09.109187Z"
    },
    "tags": []
   },
   "outputs": [
    {
     "ename": "error",
     "evalue": "compile_error",
     "output_type": "error",
     "traceback": [
      "File \"[3]\", line 1, characters 5-6:\n1 | sqrt 2 (* erreur : on donne un entier à sqrt qui attend un flottant *)\n         ^\nError: This expression has type int but an expression was expected of type\n         float\n"
     ]
    }
   ],
   "source": [
    "sqrt 2 (* erreur : on donne un entier à sqrt qui attend un flottant *)"
   ]
  },
  {
   "cell_type": "markdown",
   "id": "b7de4cf2",
   "metadata": {},
   "source": [
    "## Définir une fonction"
   ]
  },
  {
   "cell_type": "markdown",
   "id": "cc7066d4",
   "metadata": {},
   "source": [
    "En OCaml, une fonction se définie de la façon suivante :\n",
    "```ocaml\n",
    "let nom_fonction nom_argument = ... \n",
    "```\n",
    "où `...` est le corps de la fonction, c'est à dire ce qui est exécuté lorsqu'on utilise la fonction. \n",
    "\n",
    "**La valeur renvoyée par la fonction est celle de la dernière instruction (pas besoin de `return`)**."
   ]
  },
  {
   "cell_type": "markdown",
   "id": "1240d9b3",
   "metadata": {},
   "source": [
    "Définissons par exemple la fonction $f: x \\longmapsto 2x$ :"
   ]
  },
  {
   "cell_type": "code",
   "execution_count": 4,
   "id": "9917a859",
   "metadata": {
    "execution": {
     "iopub.execute_input": "2021-09-09T12:09:09.110681Z",
     "iopub.status.busy": "2021-09-09T12:09:09.110290Z",
     "iopub.status.idle": "2021-09-09T12:09:09.112383Z",
     "shell.execute_reply": "2021-09-09T12:09:09.112699Z"
    },
    "tags": []
   },
   "outputs": [
    {
     "data": {
      "text/plain": [
       "val f : int -> int = <fun>\n"
      ]
     },
     "execution_count": 4,
     "metadata": {},
     "output_type": "execute_result"
    }
   ],
   "source": [
    "let f x = 2*x"
   ]
  },
  {
   "cell_type": "markdown",
   "id": "6a1c8dcc",
   "metadata": {},
   "source": [
    "OCaml nous dit que `f` est de type `int -> int`, ce qui signifie que `f` prend un entier en entrée et renvoie un entier en sortie. Ceci est similaire à la notation mathématique $f : \\mathbb{N} \\longrightarrow \\mathbb{N}$.\n",
    "\n",
    "On peut ensuite utiliser `f` et récupérer la valeur de retour :"
   ]
  },
  {
   "cell_type": "code",
   "execution_count": 5,
   "id": "9dd6fc54",
   "metadata": {
    "execution": {
     "iopub.execute_input": "2021-09-09T12:09:09.114230Z",
     "iopub.status.busy": "2021-09-09T12:09:09.113839Z",
     "iopub.status.idle": "2021-09-09T12:09:09.115510Z",
     "shell.execute_reply": "2021-09-09T12:09:09.115827Z"
    }
   },
   "outputs": [
    {
     "data": {
      "text/plain": [
       "- : int = 6\n"
      ]
     },
     "execution_count": 5,
     "metadata": {},
     "output_type": "execute_result"
    }
   ],
   "source": [
    "f 3"
   ]
  },
  {
   "cell_type": "markdown",
   "id": "68922294",
   "metadata": {},
   "source": [
    "Notons que `x` est une variable **muette** : elle n'existe qu'à l'intérieur de `f`, n'a aucun rapport avec une variable `x` définie précédemment et la fonction suivante définit exactement la même fonction :"
   ]
  },
  {
   "cell_type": "code",
   "execution_count": 6,
   "id": "b23e0305",
   "metadata": {
    "execution": {
     "iopub.execute_input": "2021-09-09T12:09:09.117240Z",
     "iopub.status.busy": "2021-09-09T12:09:09.116843Z",
     "iopub.status.idle": "2021-09-09T12:09:09.118937Z",
     "shell.execute_reply": "2021-09-09T12:09:09.119256Z"
    },
    "tags": []
   },
   "outputs": [
    {
     "data": {
      "text/plain": [
       "val f : int -> int = <fun>\n"
      ]
     },
     "execution_count": 6,
     "metadata": {},
     "output_type": "execute_result"
    }
   ],
   "source": [
    "let f y = 2*y (* peu importe le nom de la variable muette y *)"
   ]
  },
  {
   "cell_type": "markdown",
   "id": "74df0ad9",
   "metadata": {},
   "source": [
    "Maintenant que `f` est définie, on peut calculer $f(3)$ :"
   ]
  },
  {
   "cell_type": "code",
   "execution_count": 7,
   "id": "d05ffe7c",
   "metadata": {
    "execution": {
     "iopub.execute_input": "2021-09-09T12:09:09.120756Z",
     "iopub.status.busy": "2021-09-09T12:09:09.120365Z",
     "iopub.status.idle": "2021-09-09T12:09:09.122060Z",
     "shell.execute_reply": "2021-09-09T12:09:09.122355Z"
    },
    "tags": []
   },
   "outputs": [
    {
     "data": {
      "text/plain": [
       "- : int = 6\n"
      ]
     },
     "execution_count": 7,
     "metadata": {},
     "output_type": "execute_result"
    }
   ],
   "source": [
    "f 3"
   ]
  },
  {
   "cell_type": "markdown",
   "id": "5f980409",
   "metadata": {},
   "source": [
    "**Exercice** : définir la fonction $f : x \\longmapsto \\frac{1}{\\sqrt{1 + x^2}}$ en OCaml."
   ]
  },
  {
   "cell_type": "markdown",
   "id": "0ebfdb75",
   "metadata": {},
   "source": [
    "Comme pour les variables, il est possible d'utiliser `in` pour spécifier la portée d'une fonction $g$"
   ]
  },
  {
   "cell_type": "code",
   "execution_count": 8,
   "id": "7605df44",
   "metadata": {
    "execution": {
     "iopub.execute_input": "2021-09-09T12:09:09.123926Z",
     "iopub.status.busy": "2021-09-09T12:09:09.123531Z",
     "iopub.status.idle": "2021-09-09T12:09:09.126568Z",
     "shell.execute_reply": "2021-09-09T12:09:09.126222Z"
    },
    "tags": []
   },
   "outputs": [
    {
     "data": {
      "text/plain": [
       "- : int = 1\n"
      ]
     },
     "execution_count": 8,
     "metadata": {},
     "output_type": "execute_result"
    }
   ],
   "source": [
    "let g x = x + 1 in\n",
    "g 0  (* g est utilisable seulement dans le in *)"
   ]
  },
  {
   "cell_type": "markdown",
   "id": "76b14a1a",
   "metadata": {},
   "source": [
    "**Exercice** Donner la valeur de l'expression suivante :\n",
    "```ocaml\n",
    "let h x = f x + 1 in\n",
    "h 3\n",
    "```"
   ]
  },
  {
   "cell_type": "markdown",
   "id": "36866605",
   "metadata": {},
   "source": [
    "## Fonctions anonymes"
   ]
  },
  {
   "cell_type": "markdown",
   "id": "460e163a",
   "metadata": {},
   "source": [
    "Quand on a besoin d'utiliser une fonction une seule fois, on peut définir une fonction anonyme (sans nom) avec `fun`. C'est l'équivalent de `lambda` en Python."
   ]
  },
  {
   "cell_type": "code",
   "execution_count": 9,
   "id": "9320765c",
   "metadata": {
    "execution": {
     "iopub.execute_input": "2021-09-09T12:09:09.128162Z",
     "iopub.status.busy": "2021-09-09T12:09:09.127769Z",
     "iopub.status.idle": "2021-09-09T12:09:09.130187Z",
     "shell.execute_reply": "2021-09-09T12:09:09.129818Z"
    },
    "tags": []
   },
   "outputs": [
    {
     "data": {
      "text/plain": [
       "- : int -> int = <fun>\n"
      ]
     },
     "execution_count": 9,
     "metadata": {},
     "output_type": "execute_result"
    }
   ],
   "source": [
    "fun x -> x*2 (* définition d'une fonction anonyme *)"
   ]
  },
  {
   "cell_type": "code",
   "execution_count": 10,
   "id": "d8cf79ec",
   "metadata": {
    "execution": {
     "iopub.execute_input": "2021-09-09T12:09:09.131638Z",
     "iopub.status.busy": "2021-09-09T12:09:09.131248Z",
     "iopub.status.idle": "2021-09-09T12:09:09.133715Z",
     "shell.execute_reply": "2021-09-09T12:09:09.133349Z"
    },
    "tags": []
   },
   "outputs": [
    {
     "data": {
      "text/plain": [
       "- : int = 6\n"
      ]
     },
     "execution_count": 10,
     "metadata": {},
     "output_type": "execute_result"
    }
   ],
   "source": [
    "(fun x -> x*2) 3 (* applique une fonction anonyme sur la valeur 3 *)"
   ]
  },
  {
   "cell_type": "markdown",
   "id": "b0a7513b",
   "metadata": {},
   "source": [
    "**Remarque** : les deux définitions suivantes sont en fait complètement équivalentes.\n",
    "```ocaml\n",
    "let f x = ...\n",
    "```\n",
    "```ocaml\n",
    "let f = fun x -> ...\n",
    "```\n",
    "\n",
    "Par exemple, on peut définir la fonction $f : x \\longmapsto 2 \\sqrt{x}$ comme ceci :"
   ]
  },
  {
   "cell_type": "code",
   "execution_count": 11,
   "id": "5f63271c",
   "metadata": {
    "execution": {
     "iopub.execute_input": "2021-09-09T12:09:09.135201Z",
     "iopub.status.busy": "2021-09-09T12:09:09.134810Z",
     "iopub.status.idle": "2021-09-09T12:09:09.137312Z",
     "shell.execute_reply": "2021-09-09T12:09:09.136939Z"
    }
   },
   "outputs": [
    {
     "data": {
      "text/plain": [
       "val f : float -> float = <fun>\n"
      ]
     },
     "execution_count": 11,
     "metadata": {},
     "output_type": "execute_result"
    }
   ],
   "source": [
    "let f = fun x -> 2.0*.x**0.5"
   ]
  },
  {
   "cell_type": "markdown",
   "id": "86c31024",
   "metadata": {},
   "source": [
    "**Remarque** : On peut aussi définir une fonction avec `function x -> ...` mais `fun` est légèrement plus simple d'utilisation."
   ]
  },
  {
   "cell_type": "markdown",
   "id": "6d6d959e",
   "metadata": {},
   "source": [
    "## Fonctions de plusieurs variables"
   ]
  },
  {
   "cell_type": "markdown",
   "id": "31c99340",
   "metadata": {},
   "source": [
    "Il est possible de définir des fonctions avec plusieurs paramètres, par exemple :"
   ]
  },
  {
   "cell_type": "code",
   "execution_count": 12,
   "id": "de7ea032",
   "metadata": {
    "execution": {
     "iopub.execute_input": "2021-09-09T12:09:09.139350Z",
     "iopub.status.busy": "2021-09-09T12:09:09.138480Z",
     "iopub.status.idle": "2021-09-09T12:09:09.141264Z",
     "shell.execute_reply": "2021-09-09T12:09:09.141582Z"
    },
    "lines_to_next_cell": 0,
    "tags": []
   },
   "outputs": [
    {
     "data": {
      "text/plain": [
       "val sum : int -> int -> int = <fun>\n"
      ]
     },
     "execution_count": 12,
     "metadata": {},
     "output_type": "execute_result"
    }
   ],
   "source": [
    "let sum x y = x + y"
   ]
  },
  {
   "cell_type": "code",
   "execution_count": 13,
   "id": "1e3ad331",
   "metadata": {
    "execution": {
     "iopub.execute_input": "2021-09-09T12:09:09.143040Z",
     "iopub.status.busy": "2021-09-09T12:09:09.142650Z",
     "iopub.status.idle": "2021-09-09T12:09:09.144723Z",
     "shell.execute_reply": "2021-09-09T12:09:09.144374Z"
    },
    "tags": []
   },
   "outputs": [
    {
     "data": {
      "text/plain": [
       "- : int = 7\n"
      ]
     },
     "execution_count": 13,
     "metadata": {},
     "output_type": "execute_result"
    }
   ],
   "source": [
    "sum 3 4 (* renvoie 3 + 4 *)"
   ]
  },
  {
   "cell_type": "markdown",
   "id": "eb409bd0",
   "metadata": {},
   "source": [
    "Le type de `sum` est `int -> int -> int`, ce qui peut paraître étrange. C'est équivalent à `int -> (int -> int)`, ce qui signifie que `sum` prend en entier en argument et renvoie une valeur de type `int -> int` (c'est à dire une fonction).  \n",
    "En effet :"
   ]
  },
  {
   "cell_type": "code",
   "execution_count": 14,
   "id": "fac94c33",
   "metadata": {
    "execution": {
     "iopub.execute_input": "2021-09-09T12:09:09.146233Z",
     "iopub.status.busy": "2021-09-09T12:09:09.145841Z",
     "iopub.status.idle": "2021-09-09T12:09:09.147523Z",
     "shell.execute_reply": "2021-09-09T12:09:09.147836Z"
    },
    "tags": []
   },
   "outputs": [
    {
     "data": {
      "text/plain": [
       "- : int -> int = <fun>\n"
      ]
     },
     "execution_count": 14,
     "metadata": {},
     "output_type": "execute_result"
    }
   ],
   "source": [
    "sum 3"
   ]
  },
  {
   "cell_type": "markdown",
   "id": "e6cc458a",
   "metadata": {},
   "source": [
    "`sum 3` est une fonction qui prend en argument un entier `y` et qui renvoie `3 + y`, ce qu'on peut vérifier :"
   ]
  },
  {
   "cell_type": "code",
   "execution_count": 15,
   "id": "94b9bc6f",
   "metadata": {
    "execution": {
     "iopub.execute_input": "2021-09-09T12:09:09.149245Z",
     "iopub.status.busy": "2021-09-09T12:09:09.148844Z",
     "iopub.status.idle": "2021-09-09T12:09:09.151192Z",
     "shell.execute_reply": "2021-09-09T12:09:09.150826Z"
    },
    "tags": []
   },
   "outputs": [
    {
     "data": {
      "text/plain": [
       "- : int = 7\n"
      ]
     },
     "execution_count": 15,
     "metadata": {},
     "output_type": "execute_result"
    }
   ],
   "source": [
    "let f = sum 3 in (* f est une fonction *)\n",
    "f 4 (* renvoie sum 3 4, c'est à dire 7 *)"
   ]
  },
  {
   "cell_type": "markdown",
   "id": "7d0614f2",
   "metadata": {},
   "source": [
    "En fait, OCaml transforme automatiquement une fonction de plusieurs variables en une suite de fonctions à une variable (c'est ce qu'on appelle la **curryfication**) :"
   ]
  },
  {
   "cell_type": "code",
   "execution_count": 16,
   "id": "6f7a92e8",
   "metadata": {
    "execution": {
     "iopub.execute_input": "2021-09-09T12:09:09.152580Z",
     "iopub.status.busy": "2021-09-09T12:09:09.152184Z",
     "iopub.status.idle": "2021-09-09T12:09:09.155951Z",
     "shell.execute_reply": "2021-09-09T12:09:09.156279Z"
    }
   },
   "outputs": [
    {
     "data": {
      "text/plain": [
       "val sum : int -> int -> int = <fun>\n"
      ]
     },
     "execution_count": 16,
     "metadata": {},
     "output_type": "execute_result"
    }
   ],
   "source": [
    "let sum = fun x -> (fun y -> x + y) (* OCaml transforme la définition de sum ci-dessus en celle-ci *)"
   ]
  },
  {
   "cell_type": "code",
   "execution_count": 17,
   "id": "379c8fbe",
   "metadata": {
    "execution": {
     "iopub.execute_input": "2021-09-09T12:09:09.157644Z",
     "iopub.status.busy": "2021-09-09T12:09:09.157249Z",
     "iopub.status.idle": "2021-09-09T12:09:09.159437Z",
     "shell.execute_reply": "2021-09-09T12:09:09.159059Z"
    }
   },
   "outputs": [
    {
     "data": {
      "text/plain": [
       "- : int = 5\n"
      ]
     },
     "execution_count": 17,
     "metadata": {},
     "output_type": "execute_result"
    }
   ],
   "source": [
    "(sum 2) 3  (* le calcul effectué par OCaml lorsqu'on écrit sum 2 3 *)"
   ]
  },
  {
   "cell_type": "markdown",
   "id": "5bf66305",
   "metadata": {},
   "source": [
    "La possibilité d'appliquer une fonction seulement sur certains arguments s'appelle l'**application partielle** de fonction. C'est un des avantages d'OCaml par rapport à Python.  "
   ]
  },
  {
   "cell_type": "markdown",
   "id": "cc28ac43",
   "metadata": {},
   "source": [
    "De la même façon, une fonction OCaml à 3 arguments sera de type `... -> ... -> ... -> ...`."
   ]
  },
  {
   "cell_type": "markdown",
   "id": "174f82f2",
   "metadata": {},
   "source": [
    "**Exercice** : Écrire une fonction `delta : float -> float -> float -> float` telle que `delta a b c` renvoie le discriminant de l'équation $ax^2 + bx + c = 0$."
   ]
  },
  {
   "cell_type": "markdown",
   "id": "ca4e28c6",
   "metadata": {},
   "source": [
    "Une fonction peut aussi avoir aucune valeur en entrée. Dans ce cas, on lui donne l'argument `()` (de type unit). C'est le cas par exemple de `print_newline`, qui saute une ligne : "
   ]
  },
  {
   "cell_type": "code",
   "execution_count": 18,
   "id": "5b6bc53c",
   "metadata": {
    "execution": {
     "iopub.execute_input": "2021-09-09T12:09:09.160948Z",
     "iopub.status.busy": "2021-09-09T12:09:09.160534Z",
     "iopub.status.idle": "2021-09-09T12:09:09.164336Z",
     "shell.execute_reply": "2021-09-09T12:09:09.163455Z"
    }
   },
   "outputs": [
    {
     "name": "stdout",
     "output_type": "stream",
     "text": [
      "0\n",
      "1\n"
     ]
    },
    {
     "data": {
      "text/plain": [
       "- : unit = ()\n"
      ]
     },
     "execution_count": 18,
     "metadata": {},
     "output_type": "execute_result"
    }
   ],
   "source": [
    "print_int 0;\n",
    "print_newline ();\n",
    "print_int 1;\n",
    "print_newline ();"
   ]
  },
  {
   "cell_type": "markdown",
   "id": "6bdaf0e0",
   "metadata": {},
   "source": [
    "## Polymorphisme"
   ]
  },
  {
   "cell_type": "markdown",
   "id": "89081004",
   "metadata": {},
   "source": [
    "Reprenons notre 1er exemple de fonction :"
   ]
  },
  {
   "cell_type": "code",
   "execution_count": 19,
   "id": "f1ad16ba",
   "metadata": {
    "execution": {
     "iopub.execute_input": "2021-09-09T12:09:09.165756Z",
     "iopub.status.busy": "2021-09-09T12:09:09.165365Z",
     "iopub.status.idle": "2021-09-09T12:09:09.167219Z",
     "shell.execute_reply": "2021-09-09T12:09:09.167533Z"
    }
   },
   "outputs": [
    {
     "data": {
      "text/plain": [
       "val f : int -> int = <fun>\n"
      ]
     },
     "execution_count": 19,
     "metadata": {},
     "output_type": "execute_result"
    }
   ],
   "source": [
    "let f x = 2*x"
   ]
  },
  {
   "cell_type": "markdown",
   "id": "299e4d7f",
   "metadata": {},
   "source": [
    "OCaml sait que l'argument `x` de `f` est un `int` car on utilise l'opérateur `*` qui ne s'utilise que sur des entiers. Mais dans certaines fonctions, il n'y a pas de contrainte de type :"
   ]
  },
  {
   "cell_type": "code",
   "execution_count": 20,
   "id": "26bf63ec",
   "metadata": {
    "execution": {
     "iopub.execute_input": "2021-09-09T12:09:09.169053Z",
     "iopub.status.busy": "2021-09-09T12:09:09.168555Z",
     "iopub.status.idle": "2021-09-09T12:09:09.170216Z",
     "shell.execute_reply": "2021-09-09T12:09:09.170529Z"
    }
   },
   "outputs": [
    {
     "data": {
      "text/plain": [
       "val id : 'a -> 'a = <fun>\n"
      ]
     },
     "execution_count": 20,
     "metadata": {},
     "output_type": "execute_result"
    }
   ],
   "source": [
    "let id x = x"
   ]
  },
  {
   "cell_type": "markdown",
   "id": "80db5243",
   "metadata": {},
   "source": [
    "Cette fonction `id` (pour identité) renvoie son argument sans le modifier. Comme aucune opération n'est appliquée sur `x`, il n'y a pas de contrainte sur son type. OCaml utilise alors `'a` pour désigner le type quelconque de `x`.  \n",
    "Notons que le type de retour de `id` est `'a` également : OCaml nous dit que `id` renvoie une valeur du même type que l'argument."
   ]
  },
  {
   "cell_type": "markdown",
   "id": "f52e5d23",
   "metadata": {},
   "source": [
    "**Exercice** : donner le type des fonctions suivantes  \n",
    "```ocaml\n",
    " let f x = 42\n",
    "```\n",
    "```ocaml\n",
    " let f x y = y\n",
    "```\n",
    "```ocaml\n",
    " let g x y f = x + f y\n",
    " ```"
   ]
  },
  {
   "cell_type": "markdown",
   "id": "cb132c0a",
   "metadata": {},
   "source": [
    "## Fonction comme argument\n",
    "\n",
    "Il est possible d'utiliser une fonction en argument d'une autre fonction. Par exemple, la fonction suivante évalue une autre fonction en la valeur 0 :"
   ]
  },
  {
   "cell_type": "code",
   "execution_count": 21,
   "id": "1a4198d7",
   "metadata": {
    "execution": {
     "iopub.execute_input": "2021-09-09T12:09:09.171971Z",
     "iopub.status.busy": "2021-09-09T12:09:09.171579Z",
     "iopub.status.idle": "2021-09-09T12:09:09.173375Z",
     "shell.execute_reply": "2021-09-09T12:09:09.173691Z"
    }
   },
   "outputs": [
    {
     "data": {
      "text/plain": [
       "val eval : (int -> 'a) -> 'a = <fun>\n"
      ]
     },
     "execution_count": 21,
     "metadata": {},
     "output_type": "execute_result"
    }
   ],
   "source": [
    "let eval f =\n",
    "f 0"
   ]
  },
  {
   "cell_type": "code",
   "execution_count": 22,
   "id": "d2e0a7dc",
   "metadata": {
    "execution": {
     "iopub.execute_input": "2021-09-09T12:09:09.175032Z",
     "iopub.status.busy": "2021-09-09T12:09:09.174642Z",
     "iopub.status.idle": "2021-09-09T12:09:09.177114Z",
     "shell.execute_reply": "2021-09-09T12:09:09.177434Z"
    }
   },
   "outputs": [
    {
     "data": {
      "text/plain": [
       "- : int = 7\n"
      ]
     },
     "execution_count": 22,
     "metadata": {},
     "output_type": "execute_result"
    }
   ],
   "source": [
    "let f x = 3*x + 7 in\n",
    "eval f"
   ]
  },
  {
   "cell_type": "markdown",
   "id": "cc150888",
   "metadata": {},
   "source": [
    "**Exercice** : \n",
    "1. On définit une fonction `h` :\n",
    "```ocaml\n",
    "let h f g x = f (g x)\n",
    "```\n",
    "Donner la valeur de l'expression :\n",
    "```ocaml\n",
    "h (fun x -> x*x) (fun x -> x + 1) 3\n",
    "```\n",
    "2. Donner le type de `h`.\n",
    "3. À quoi sert `h`? Comment cette opération s'appelle-t-elle mathématiquement?"
   ]
  },
  {
   "cell_type": "markdown",
   "id": "3f68e0cb",
   "metadata": {
    "tags": []
   },
   "source": [
    "## Variable locale à une fonction"
   ]
  },
  {
   "cell_type": "markdown",
   "id": "acf007cf",
   "metadata": {},
   "source": [
    "Il est possible de définir une variable dans une fonction :"
   ]
  },
  {
   "cell_type": "code",
   "execution_count": 23,
   "id": "4f936640",
   "metadata": {
    "execution": {
     "iopub.execute_input": "2021-09-09T12:09:09.178903Z",
     "iopub.status.busy": "2021-09-09T12:09:09.178510Z",
     "iopub.status.idle": "2021-09-09T12:09:09.180632Z",
     "shell.execute_reply": "2021-09-09T12:09:09.180974Z"
    },
    "tags": []
   },
   "outputs": [
    {
     "data": {
      "text/plain": [
       "val pow4 : int -> int = <fun>\n"
      ]
     },
     "execution_count": 23,
     "metadata": {},
     "output_type": "execute_result"
    }
   ],
   "source": [
    "let pow4 x = (* je saute une ligne ici pour plus de lisibilité *)\n",
    "    let y = x*x in  (* y est utilisable seulement dans pow4 *)\n",
    "    y*y (* renvoie x puissance 4 *)"
   ]
  },
  {
   "cell_type": "code",
   "execution_count": 24,
   "id": "25936aa2",
   "metadata": {
    "execution": {
     "iopub.execute_input": "2021-09-09T12:09:09.182316Z",
     "iopub.status.busy": "2021-09-09T12:09:09.181920Z",
     "iopub.status.idle": "2021-09-09T12:09:09.184125Z",
     "shell.execute_reply": "2021-09-09T12:09:09.183760Z"
    },
    "tags": []
   },
   "outputs": [
    {
     "data": {
      "text/plain": [
       "- : int = 16\n"
      ]
     },
     "execution_count": 24,
     "metadata": {},
     "output_type": "execute_result"
    }
   ],
   "source": [
    "pow4 2 (* test de notre fonction *)"
   ]
  },
  {
   "cell_type": "markdown",
   "id": "30aa40a2",
   "metadata": {
    "tags": []
   },
   "source": [
    "On peut aussi définir une fonction à l'intérieur d'une fonction. Par exemple, on peut définir $f: x \\longmapsto 2x + \\sqrt{2(x + 1)}$ en utilisant une fonction locale $g : y \\longmapsto 2y$ :"
   ]
  },
  {
   "cell_type": "code",
   "execution_count": 25,
   "id": "154ea0c6",
   "metadata": {
    "execution": {
     "iopub.execute_input": "2021-09-09T12:09:09.185539Z",
     "iopub.status.busy": "2021-09-09T12:09:09.185138Z",
     "iopub.status.idle": "2021-09-09T12:09:09.188357Z",
     "shell.execute_reply": "2021-09-09T12:09:09.187983Z"
    }
   },
   "outputs": [
    {
     "data": {
      "text/plain": [
       "val f : float -> float = <fun>\n"
      ]
     },
     "execution_count": 25,
     "metadata": {},
     "output_type": "execute_result"
    }
   ],
   "source": [
    "let f x = \n",
    "    let g y = 2.*.y in (* g n'est utilisable que dans f *)\n",
    "    g x +. (g (x +. 1.))**0.5"
   ]
  },
  {
   "cell_type": "code",
   "execution_count": 26,
   "id": "87348b42",
   "metadata": {
    "execution": {
     "iopub.execute_input": "2021-09-09T12:09:09.189718Z",
     "iopub.status.busy": "2021-09-09T12:09:09.189326Z",
     "iopub.status.idle": "2021-09-09T12:09:09.190934Z",
     "shell.execute_reply": "2021-09-09T12:09:09.191229Z"
    }
   },
   "outputs": [
    {
     "data": {
      "text/plain": [
       "- : float = 4.\n"
      ]
     },
     "execution_count": 26,
     "metadata": {},
     "output_type": "execute_result"
    }
   ],
   "source": [
    "f 1."
   ]
  },
  {
   "cell_type": "markdown",
   "id": "d2e4839a",
   "metadata": {},
   "source": [
    "**Exercice** : Écrire une fonction `swap` qui échange les valeurs de 2 références en argument.  \n",
    "`swap` doit être de type `'a ref -> 'a ref -> unit`, ce qui signifie que `swap` a deux références en argument, sur des valeurs de même type `'a`, et ne renvoie pas de valeur.  \n",
    "On rappelle les opérations sur les références :  \n",
    "- Définir une référence (locale) : `let a = ref 5 in ...`\n",
    "- Obtenir la valeur d'une référence : `!a`\n",
    "- Modifier une référence : `a := 7`  \n",
    "\n",
    "**Remarque importante** : Lorsque l'on modifie une référence (ou un autre objet impératif, comme un tableau) qui est l'argument d'une fonction, on la modifie aussi à l'extérieur de la fonction. C'est ce qu'on appelle un **passage par référence**.  "
   ]
  }
 ],
 "metadata": {
  "kernelspec": {
   "display_name": "OCaml default",
   "language": "OCaml",
   "name": "ocaml-jupyter"
  },
  "language_info": {
   "codemirror_mode": "text/x-ocaml",
   "file_extension": ".ml",
   "mimetype": "text/x-ocaml",
   "name": "OCaml",
   "nbconverter_exporter": null,
   "pygments_lexer": "OCaml",
   "version": "4.08.1"
  },
  "title": "Fonctions"
 },
 "nbformat": 4,
 "nbformat_minor": 5
}

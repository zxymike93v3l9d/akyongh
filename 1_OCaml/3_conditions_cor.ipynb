{
 "cells": [
  {
   "cell_type": "markdown",
   "id": "0914171c",
   "metadata": {},
   "source": [
    "## Booléens"
   ]
  },
  {
   "cell_type": "markdown",
   "id": "0a58f831",
   "metadata": {},
   "source": [
    "Une valeur booléenne (bool) est soit true (vrai) soit false (faux). Exemple de variable de type bool : "
   ]
  },
  {
   "cell_type": "code",
   "execution_count": 1,
   "id": "e73e5227",
   "metadata": {
    "execution": {
     "iopub.execute_input": "2021-09-21T17:09:41.079383Z",
     "iopub.status.busy": "2021-09-21T17:09:41.078705Z",
     "iopub.status.idle": "2021-09-21T17:09:41.081314Z",
     "shell.execute_reply": "2021-09-21T17:09:41.079858Z"
    }
   },
   "outputs": [
    {
     "data": {
      "text/plain": [
       "val a : bool = true\n"
      ]
     },
     "execution_count": 1,
     "metadata": {},
     "output_type": "execute_result"
    }
   ],
   "source": [
    "let a = true"
   ]
  },
  {
   "cell_type": "markdown",
   "id": "ff781930",
   "metadata": {},
   "source": [
    "## Comparaison"
   ]
  },
  {
   "cell_type": "markdown",
   "id": "e6e2561e",
   "metadata": {},
   "source": [
    "On peut tester l'égalité de deux **valeurs** avec `=` :"
   ]
  },
  {
   "cell_type": "code",
   "execution_count": 2,
   "id": "21ca1ab5",
   "metadata": {
    "execution": {
     "iopub.execute_input": "2021-09-21T17:09:41.083420Z",
     "iopub.status.busy": "2021-09-21T17:09:41.082799Z",
     "iopub.status.idle": "2021-09-21T17:09:41.087852Z",
     "shell.execute_reply": "2021-09-21T17:09:41.087134Z"
    },
    "tags": []
   },
   "outputs": [
    {
     "data": {
      "text/plain": [
       "- : bool = true\n"
      ]
     },
     "execution_count": 2,
     "metadata": {},
     "output_type": "execute_result"
    }
   ],
   "source": [
    "3 = 1 + 2"
   ]
  },
  {
   "cell_type": "markdown",
   "id": "d563d3a1",
   "metadata": {},
   "source": [
    "On peut aussi utiliser `=` sur des variables, auquel cas on compare leurs valeurs :"
   ]
  },
  {
   "cell_type": "code",
   "execution_count": 3,
   "id": "a6d5d845",
   "metadata": {
    "execution": {
     "iopub.execute_input": "2021-09-21T17:09:41.089768Z",
     "iopub.status.busy": "2021-09-21T17:09:41.089285Z",
     "iopub.status.idle": "2021-09-21T17:09:41.091999Z",
     "shell.execute_reply": "2021-09-21T17:09:41.091571Z"
    }
   },
   "outputs": [
    {
     "data": {
      "text/plain": [
       "- : bool = false\n"
      ]
     },
     "execution_count": 3,
     "metadata": {},
     "output_type": "execute_result"
    }
   ],
   "source": [
    "let a = 3 in\n",
    "let b = 4 in\n",
    "a = b (* teste si les valeurs de a et b sont égales *)"
   ]
  },
  {
   "cell_type": "markdown",
   "id": "3a97f12d",
   "metadata": {},
   "source": [
    "**Attention** : le `=`  de OCaml correspond au `==` de Python. `==` existe en OCaml, mais compare les **adresses mémoires** de 2 variables au lieu de leurs valeurs et on ne l'utilisera presque jamais."
   ]
  },
  {
   "cell_type": "markdown",
   "id": "2912d2db",
   "metadata": {},
   "source": [
    "On peut comparer des valeurs numériques avec `<` (inférieur strict), `>`, `<=` (inférieur ou égal), `>=`, `<>` (différent)... :"
   ]
  },
  {
   "cell_type": "code",
   "execution_count": 4,
   "id": "9b960fb7",
   "metadata": {
    "execution": {
     "iopub.execute_input": "2021-09-21T17:09:41.093849Z",
     "iopub.status.busy": "2021-09-21T17:09:41.093338Z",
     "iopub.status.idle": "2021-09-21T17:09:41.096527Z",
     "shell.execute_reply": "2021-09-21T17:09:41.096003Z"
    }
   },
   "outputs": [
    {
     "data": {
      "text/plain": [
       "- : bool = false\n"
      ]
     },
     "execution_count": 4,
     "metadata": {},
     "output_type": "execute_result"
    }
   ],
   "source": [
    "2 < 1"
   ]
  },
  {
   "cell_type": "markdown",
   "id": "4696ad13",
   "metadata": {},
   "source": [
    "Il faut obligatoirement comparer des valeurs de même type :"
   ]
  },
  {
   "cell_type": "code",
   "execution_count": 5,
   "id": "13c67712",
   "metadata": {
    "execution": {
     "iopub.execute_input": "2021-09-21T17:09:41.098510Z",
     "iopub.status.busy": "2021-09-21T17:09:41.097935Z",
     "iopub.status.idle": "2021-09-21T17:09:41.099988Z",
     "shell.execute_reply": "2021-09-21T17:09:41.100359Z"
    }
   },
   "outputs": [
    {
     "ename": "error",
     "evalue": "compile_error",
     "output_type": "error",
     "traceback": [
      "File \"[5]\", line 1, characters 6-7:\n1 | 2.4 < 3 (* on ne peut pas comparer un float avec un int *)\n          ^\nError: This expression has type int but an expression was expected of type\n         float\n"
     ]
    }
   ],
   "source": [
    "2.4 < 3 (* on ne peut pas comparer un float avec un int *)"
   ]
  },
  {
   "cell_type": "code",
   "execution_count": 6,
   "id": "7dcfdbfd",
   "metadata": {
    "execution": {
     "iopub.execute_input": "2021-09-21T17:09:41.102013Z",
     "iopub.status.busy": "2021-09-21T17:09:41.101551Z",
     "iopub.status.idle": "2021-09-21T17:09:41.103627Z",
     "shell.execute_reply": "2021-09-21T17:09:41.103980Z"
    }
   },
   "outputs": [
    {
     "data": {
      "text/plain": [
       "- : bool = true\n"
      ]
     },
     "execution_count": 6,
     "metadata": {},
     "output_type": "execute_result"
    }
   ],
   "source": [
    "2.4 < 3.0 (* par contre ceci fonctionne *)"
   ]
  },
  {
   "cell_type": "markdown",
   "id": "5be3aaec",
   "metadata": {},
   "source": [
    "**Remarque** : pas besoin de mettre des points (.) sur `<`, `>` ..."
   ]
  },
  {
   "cell_type": "markdown",
   "id": "42d3841c",
   "metadata": {},
   "source": [
    "Les opérateurs `&&` (et), `||` (ou), `not` permettent de combiner des conditions :"
   ]
  },
  {
   "cell_type": "code",
   "execution_count": 7,
   "id": "7e8850c8",
   "metadata": {
    "execution": {
     "iopub.execute_input": "2021-09-21T17:09:41.105814Z",
     "iopub.status.busy": "2021-09-21T17:09:41.105319Z",
     "iopub.status.idle": "2021-09-21T17:09:41.107995Z",
     "shell.execute_reply": "2021-09-21T17:09:41.108547Z"
    },
    "tags": []
   },
   "outputs": [
    {
     "data": {
      "text/plain": [
       "- : bool = true\n"
      ]
     },
     "execution_count": 7,
     "metadata": {},
     "output_type": "execute_result"
    }
   ],
   "source": [
    "1 < 2 && 2 < 3"
   ]
  },
  {
   "cell_type": "code",
   "execution_count": 8,
   "id": "9deb5ee8",
   "metadata": {
    "execution": {
     "iopub.execute_input": "2021-09-21T17:09:41.110269Z",
     "iopub.status.busy": "2021-09-21T17:09:41.109742Z",
     "iopub.status.idle": "2021-09-21T17:09:41.112941Z",
     "shell.execute_reply": "2021-09-21T17:09:41.112550Z"
    },
    "tags": []
   },
   "outputs": [
    {
     "data": {
      "text/plain": [
       "- : bool = false\n"
      ]
     },
     "execution_count": 8,
     "metadata": {},
     "output_type": "execute_result"
    }
   ],
   "source": [
    "let a = 0 in\n",
    "a <> 0 || a > 3 (* test si a est différent de 0 ou supérieur à 3 *)"
   ]
  },
  {
   "cell_type": "markdown",
   "id": "2e6c7ac3",
   "metadata": {},
   "source": [
    "**Exercice**\n",
    "\n",
    "1. Quelle est la valeur du code suivant?\n",
    "```ocaml\n",
    "let a = 42 in\n",
    "not (a = 42 && (a < 10 || a > 30))\n",
    "```\n",
    "2. Comment aurait-on pu écrire `not (a = 42 && (a < 10 || a > 30))` sans `not`?\n",
    "3. Écrire une fonction `xor : bool -> bool -> bool` telle que `xor a b` renvoie le \"ou exclusif\" de `a` et `b`, c'est à dire `true` si `a` ou `b` est `true`, mais pas les deux."
   ]
  },
  {
   "cell_type": "code",
   "execution_count": 9,
   "id": "9bee9a2b",
   "metadata": {
    "execution": {
     "iopub.execute_input": "2021-09-21T17:09:41.115090Z",
     "iopub.status.busy": "2021-09-21T17:09:41.114288Z",
     "iopub.status.idle": "2021-09-21T17:09:41.119736Z",
     "shell.execute_reply": "2021-09-21T17:09:41.120230Z"
    },
    "tags": [
     "cor"
    ]
   },
   "outputs": [
    {
     "data": {
      "text/plain": [
       "- : bool = false\n"
      ]
     },
     "execution_count": 9,
     "metadata": {},
     "output_type": "execute_result"
    },
    {
     "ename": "error",
     "evalue": "compile_error",
     "output_type": "error",
     "traceback": [
      "File \"[9]\", line 7, characters 5-7:\n7 | a <> 42 || (a >= 10 && a <= 30)\n         ^^\nError: This expression has type int but an expression was expected of type\n         bool\n"
     ]
    }
   ],
   "source": [
    "(* 1 *)\n",
    "let a = 42 in\n",
    "not (a = 42 && (a < 10 || a > 30));; (* false *)\n",
    "\n",
    "(* 2 *)\n",
    "(* Pour prendre la négation, on inverse toutes les conditions et opérateurs booléens (< devient >=, && devient || ...) *)\n",
    "a <> 42 || (a >= 10 && a <= 30)\n",
    "\n",
    "(* 3. *)\n",
    "let xor a b = (a || b) && (not a || not b);;\n",
    "xor true false;;\n",
    "xor true true;;"
   ]
  },
  {
   "cell_type": "markdown",
   "id": "42eca1f8",
   "metadata": {},
   "source": [
    "## Condition if\n",
    "\n",
    "On peut écrire une condition `if` de la façon suivante en OCaml :\n",
    "```ocaml\n",
    "if ... then ... else ...\n",
    "```\n",
    "La condition du `if` doit être un booléen. Si la condition est vraie, le `then` est exécuté et sa valeur est renvoyé. Sinon, c'est la valeur du `else` qui est renvoyé :  "
   ]
  },
  {
   "cell_type": "code",
   "execution_count": 10,
   "id": "ed659703",
   "metadata": {
    "execution": {
     "iopub.execute_input": "2021-09-21T17:09:41.122149Z",
     "iopub.status.busy": "2021-09-21T17:09:41.121666Z",
     "iopub.status.idle": "2021-09-21T17:09:41.123587Z",
     "shell.execute_reply": "2021-09-21T17:09:41.124018Z"
    }
   },
   "outputs": [
    {
     "data": {
      "text/plain": [
       "- : int = 24\n"
      ]
     },
     "execution_count": 10,
     "metadata": {},
     "output_type": "execute_result"
    }
   ],
   "source": [
    "if 1 = 2 then 42 else 24"
   ]
  },
  {
   "cell_type": "markdown",
   "id": "278eefe8",
   "metadata": {},
   "source": [
    "Définissons par exemple la fonction valeur absolue ($x \\longmapsto \\vert x \\vert$) :"
   ]
  },
  {
   "cell_type": "code",
   "execution_count": 11,
   "id": "73024062",
   "metadata": {
    "execution": {
     "iopub.execute_input": "2021-09-21T17:09:41.126025Z",
     "iopub.status.busy": "2021-09-21T17:09:41.125464Z",
     "iopub.status.idle": "2021-09-21T17:09:41.128159Z",
     "shell.execute_reply": "2021-09-21T17:09:41.127682Z"
    },
    "tags": []
   },
   "outputs": [
    {
     "data": {
      "text/plain": [
       "val abs : float -> float = <fun>\n"
      ]
     },
     "execution_count": 11,
     "metadata": {},
     "output_type": "execute_result"
    }
   ],
   "source": [
    "let abs x =\n",
    "    if x < 0. then -. x\n",
    "    else x"
   ]
  },
  {
   "cell_type": "markdown",
   "id": "65f321d8",
   "metadata": {},
   "source": [
    "Rappelons qu'il n'y a pas de `return` en OCaml : c'est la dernière expression calculée par la fonction qui est renvoyée. Ainsi `abs x` renvoie `-x` si `x` est négatif et `x` sinon.  "
   ]
  },
  {
   "cell_type": "code",
   "execution_count": 12,
   "id": "7501f027",
   "metadata": {
    "execution": {
     "iopub.execute_input": "2021-09-21T17:09:41.130050Z",
     "iopub.status.busy": "2021-09-21T17:09:41.129606Z",
     "iopub.status.idle": "2021-09-21T17:09:41.132557Z",
     "shell.execute_reply": "2021-09-21T17:09:41.132123Z"
    },
    "tags": []
   },
   "outputs": [
    {
     "data": {
      "text/plain": [
       "- : float = 2.718\n"
      ]
     },
     "execution_count": 12,
     "metadata": {},
     "output_type": "execute_result"
    }
   ],
   "source": [
    "abs (-2.718)  (* je mets des parenthèses à cause du - *)"
   ]
  },
  {
   "cell_type": "markdown",
   "id": "bb3cfe58",
   "metadata": {},
   "source": [
    "Pour plus de lisibilité on sautera une ligne avant `then` et `else`, sauf si le contenu du `if` est très court."
   ]
  },
  {
   "cell_type": "markdown",
   "id": "239e36e0",
   "metadata": {},
   "source": [
    "**Exercice** : Écrire une fonction `max` renvoyant le maximum de ses 2 arguments.  \n",
    "Remarque : cette fonction existe déjà et peut être utilisée telle quelle.  "
   ]
  },
  {
   "cell_type": "code",
   "execution_count": 13,
   "id": "ae71a5f9",
   "metadata": {
    "execution": {
     "iopub.execute_input": "2021-09-21T17:09:41.134631Z",
     "iopub.status.busy": "2021-09-21T17:09:41.133953Z",
     "iopub.status.idle": "2021-09-21T17:09:41.136331Z",
     "shell.execute_reply": "2021-09-21T17:09:41.136673Z"
    }
   },
   "outputs": [
    {
     "data": {
      "text/plain": [
       "val max : 'a -> 'a -> 'a = <fun>\n"
      ]
     },
     "execution_count": 13,
     "metadata": {},
     "output_type": "execute_result"
    }
   ],
   "source": [
    "let max x y = if x < y then y else x"
   ]
  },
  {
   "cell_type": "markdown",
   "id": "fc3ca04a",
   "metadata": {},
   "source": [
    "Dans un `if ... then ... else ...`, les valeurs dans le `then` et dans le `else` doivent être de même type :"
   ]
  },
  {
   "cell_type": "code",
   "execution_count": 14,
   "id": "aef94c39",
   "metadata": {
    "execution": {
     "iopub.execute_input": "2021-09-21T17:09:41.138632Z",
     "iopub.status.busy": "2021-09-21T17:09:41.137930Z",
     "iopub.status.idle": "2021-09-21T17:09:41.139838Z",
     "shell.execute_reply": "2021-09-21T17:09:41.140224Z"
    }
   },
   "outputs": [
    {
     "ename": "error",
     "evalue": "compile_error",
     "output_type": "error",
     "traceback": [
      "File \"[14]\", line 2, characters 5-9:\n2 | else 3.14  (* impossible d'avoir 2 types différents dans le then et else *)\n         ^^^^\nError: This expression has type float but an expression was expected of type\n         int\n"
     ]
    }
   ],
   "source": [
    "if 1 = 1 then 2\n",
    "else 3.14  (* impossible d'avoir 2 types différents dans le then et else *)"
   ]
  },
  {
   "cell_type": "markdown",
   "id": "97ab1774",
   "metadata": {},
   "source": [
    "La valeur renvoyée par `if ... then ... else ...` peut être stockée dans une variable :"
   ]
  },
  {
   "cell_type": "code",
   "execution_count": 15,
   "id": "bc99102a",
   "metadata": {
    "execution": {
     "iopub.execute_input": "2021-09-21T17:09:41.142053Z",
     "iopub.status.busy": "2021-09-21T17:09:41.141503Z",
     "iopub.status.idle": "2021-09-21T17:09:41.144613Z",
     "shell.execute_reply": "2021-09-21T17:09:41.144104Z"
    }
   },
   "outputs": [
    {
     "data": {
      "text/plain": [
       "- : int = 5\n"
      ]
     },
     "execution_count": 15,
     "metadata": {},
     "output_type": "execute_result"
    }
   ],
   "source": [
    "let a = -5 in\n",
    "let b = if a > 0 then a else -a in (* on pourrait aussi calculer une valeur absolue comme ça *) \n",
    "b  (* b vaut 5 *)"
   ]
  },
  {
   "cell_type": "markdown",
   "id": "36d7becb",
   "metadata": {},
   "source": [
    "**Exercice** Définir les fonctions suivantes en OCaml :  \n",
    "1.\n",
    "\n",
    "<img src=\"img/fonctions_ex1.png\" width=\"500\"/>\n",
    "\n",
    "2. \n",
    "\n",
    "<img src=\"img/fonctions_ex2.png\" width=\"500\"/>\n",
    "\n",
    "3. \n",
    "\n",
    "<img src=\"img/fonctions_ex3.png\" width=\"500\"/>\n"
   ]
  },
  {
   "cell_type": "code",
   "execution_count": 16,
   "id": "07ad77b4",
   "metadata": {
    "execution": {
     "iopub.execute_input": "2021-09-21T17:09:41.146923Z",
     "iopub.status.busy": "2021-09-21T17:09:41.146286Z",
     "iopub.status.idle": "2021-09-21T17:09:41.153069Z",
     "shell.execute_reply": "2021-09-21T17:09:41.152633Z"
    },
    "tags": [
     "cor"
    ]
   },
   "outputs": [
    {
     "data": {
      "text/plain": [
       "val f1 : float -> float = <fun>\n"
      ]
     },
     "execution_count": 16,
     "metadata": {},
     "output_type": "execute_result"
    },
    {
     "data": {
      "text/plain": [
       "val f2 : float -> float = <fun>\n"
      ]
     },
     "execution_count": 16,
     "metadata": {},
     "output_type": "execute_result"
    },
    {
     "data": {
      "text/plain": [
       "val f3 : float -> float = <fun>\n"
      ]
     },
     "execution_count": 16,
     "metadata": {},
     "output_type": "execute_result"
    }
   ],
   "source": [
    "(* 1. *)\n",
    "let f1 x = \n",
    "    if x < 1. then 2. (* l'argument de f1 doit être un float donc il faut le comparer à un float *)\n",
    "    else 1.;;\n",
    "    \n",
    "(* 2. *)\n",
    "let f2 x = \n",
    "    if x < 0. then abs (x +. 3.) \n",
    "    else 3.;;\n",
    "    \n",
    "(* 3. *)\n",
    "let f3 x = \n",
    "    if x < 0. then  0.\n",
    "    else if x < 1. then 1.\n",
    "    else 3.;;"
   ]
  },
  {
   "cell_type": "markdown",
   "id": "5bd1baa7",
   "metadata": {},
   "source": [
    "**Exercice** Écrire une fonction `n_solutions : float -> float -> float -> int` telle que `n_solutions a b c` renvoie le nombre de solutions de l'équation $ax^2 + bx + c$."
   ]
  },
  {
   "cell_type": "code",
   "execution_count": 17,
   "id": "ef4e91b5",
   "metadata": {
    "execution": {
     "iopub.execute_input": "2021-09-21T17:09:41.155282Z",
     "iopub.status.busy": "2021-09-21T17:09:41.154544Z",
     "iopub.status.idle": "2021-09-21T17:09:41.160167Z",
     "shell.execute_reply": "2021-09-21T17:09:41.160563Z"
    },
    "tags": [
     "cor"
    ]
   },
   "outputs": [
    {
     "data": {
      "text/plain": [
       "val n_solutions : float -> float -> float -> int = <fun>\n"
      ]
     },
     "execution_count": 17,
     "metadata": {},
     "output_type": "execute_result"
    },
    {
     "data": {
      "text/plain": [
       "- : int = 2\n"
      ]
     },
     "execution_count": 17,
     "metadata": {},
     "output_type": "execute_result"
    }
   ],
   "source": [
    "let n_solutions a b c =\n",
    "    let delta = b**2. -. 4.*.a*.c in\n",
    "    if abs delta < 0.0001 then 1 (* regarde si delta vaut 0, en prenant en compte les erreurs d'arrondis des float *)\n",
    "    else if delta > 0. then 2\n",
    "    else 0;;\n",
    "n_solutions 3. 5. 2.;;    "
   ]
  }
 ],
 "metadata": {
  "jupytext": {
   "cell_metadata_filter": "-all",
   "main_language": "ocaml",
   "notebook_metadata_filter": "-all"
  },
  "kernelspec": {
   "display_name": "OCaml default",
   "language": "OCaml",
   "name": "ocaml-jupyter"
  },
  "language_info": {
   "codemirror_mode": "text/x-ocaml",
   "file_extension": ".ml",
   "mimetype": "text/x-ocaml",
   "name": "OCaml",
   "nbconverter_exporter": null,
   "pygments_lexer": "OCaml",
   "version": "4.08.1"
  },
  "title": "Conditions"
 },
 "nbformat": 4,
 "nbformat_minor": 5
}

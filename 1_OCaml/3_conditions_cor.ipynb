{
 "cells": [
  {
   "cell_type": "markdown",
   "id": "be84a92d",
   "metadata": {},
   "source": [
    "## Booléens"
   ]
  },
  {
   "cell_type": "markdown",
   "id": "9f5c8481",
   "metadata": {},
   "source": [
    "Une valeur booléenne (bool) est soit true (vrai) soit false (faux). Exemple de variable de type bool : "
   ]
  },
  {
   "cell_type": "code",
   "execution_count": 1,
   "id": "bfdf5383",
   "metadata": {
    "execution": {
     "iopub.execute_input": "2021-09-13T09:32:52.499796Z",
     "iopub.status.busy": "2021-09-13T09:32:52.499336Z",
     "iopub.status.idle": "2021-09-13T09:32:52.501456Z",
     "shell.execute_reply": "2021-09-13T09:32:52.501034Z"
    }
   },
   "outputs": [
    {
     "data": {
      "text/plain": [
       "val a : bool = true\n"
      ]
     },
     "execution_count": 1,
     "metadata": {},
     "output_type": "execute_result"
    }
   ],
   "source": [
    "let a = true"
   ]
  },
  {
   "cell_type": "markdown",
   "id": "f6de23a1",
   "metadata": {},
   "source": [
    "## Comparaison"
   ]
  },
  {
   "cell_type": "markdown",
   "id": "6823cb77",
   "metadata": {},
   "source": [
    "On peut tester l'égalité de deux **valeurs** avec `=` :"
   ]
  },
  {
   "cell_type": "code",
   "execution_count": 2,
   "id": "ab7b4976",
   "metadata": {
    "execution": {
     "iopub.execute_input": "2021-09-13T09:32:52.504290Z",
     "iopub.status.busy": "2021-09-13T09:32:52.502663Z",
     "iopub.status.idle": "2021-09-13T09:32:52.505967Z",
     "shell.execute_reply": "2021-09-13T09:32:52.506256Z"
    },
    "tags": []
   },
   "outputs": [
    {
     "data": {
      "text/plain": [
       "- : bool = true\n"
      ]
     },
     "execution_count": 2,
     "metadata": {},
     "output_type": "execute_result"
    }
   ],
   "source": [
    "3 = 1 + 2"
   ]
  },
  {
   "cell_type": "markdown",
   "id": "393a45b6",
   "metadata": {},
   "source": [
    "On peut aussi utiliser `=` sur des variables, auquel cas on compare leurs valeurs :"
   ]
  },
  {
   "cell_type": "code",
   "execution_count": 3,
   "id": "e8a33ba1",
   "metadata": {
    "execution": {
     "iopub.execute_input": "2021-09-13T09:32:52.507895Z",
     "iopub.status.busy": "2021-09-13T09:32:52.507481Z",
     "iopub.status.idle": "2021-09-13T09:32:52.509467Z",
     "shell.execute_reply": "2021-09-13T09:32:52.509735Z"
    }
   },
   "outputs": [
    {
     "data": {
      "text/plain": [
       "- : bool = false\n"
      ]
     },
     "execution_count": 3,
     "metadata": {},
     "output_type": "execute_result"
    }
   ],
   "source": [
    "let a = 3 in\n",
    "let b = 4 in\n",
    "a = b (* teste si les valeurs de a et b sont égales *)"
   ]
  },
  {
   "cell_type": "markdown",
   "id": "5f9269a9",
   "metadata": {},
   "source": [
    "**Attention** : le `=`  de OCaml correspond au `==` de Python. `==` existe en OCaml, mais compare les **adresses mémoires** de 2 variables au lieu de leurs valeurs et on ne l'utilisera presque jamais."
   ]
  },
  {
   "cell_type": "markdown",
   "id": "e32467c7",
   "metadata": {},
   "source": [
    "On peut comparer des valeurs numériques avec `<` (inférieur strict), `>`, `<=` (inférieur ou égal), `>=`, `<>` (différent)... :"
   ]
  },
  {
   "cell_type": "code",
   "execution_count": 4,
   "id": "ce40f3a8",
   "metadata": {
    "execution": {
     "iopub.execute_input": "2021-09-13T09:32:52.511111Z",
     "iopub.status.busy": "2021-09-13T09:32:52.510757Z",
     "iopub.status.idle": "2021-09-13T09:32:52.512628Z",
     "shell.execute_reply": "2021-09-13T09:32:52.512922Z"
    }
   },
   "outputs": [
    {
     "data": {
      "text/plain": [
       "- : bool = false\n"
      ]
     },
     "execution_count": 4,
     "metadata": {},
     "output_type": "execute_result"
    }
   ],
   "source": [
    "2 < 1"
   ]
  },
  {
   "cell_type": "markdown",
   "id": "3feaae53",
   "metadata": {},
   "source": [
    "Il faut obligatoirement comparer des valeurs de même type :"
   ]
  },
  {
   "cell_type": "code",
   "execution_count": 5,
   "id": "aabc21c1",
   "metadata": {
    "execution": {
     "iopub.execute_input": "2021-09-13T09:32:52.514345Z",
     "iopub.status.busy": "2021-09-13T09:32:52.513988Z",
     "iopub.status.idle": "2021-09-13T09:32:52.515714Z",
     "shell.execute_reply": "2021-09-13T09:32:52.516006Z"
    }
   },
   "outputs": [
    {
     "ename": "error",
     "evalue": "compile_error",
     "output_type": "error",
     "traceback": [
      "File \"[5]\", line 1, characters 6-7:\n1 | 2.4 < 3 (* on ne peut pas comparer un float avec un int *)\n          ^\nError: This expression has type int but an expression was expected of type\n         float\n"
     ]
    }
   ],
   "source": [
    "2.4 < 3 (* on ne peut pas comparer un float avec un int *)"
   ]
  },
  {
   "cell_type": "code",
   "execution_count": 6,
   "id": "49b58999",
   "metadata": {
    "execution": {
     "iopub.execute_input": "2021-09-13T09:32:52.517411Z",
     "iopub.status.busy": "2021-09-13T09:32:52.517052Z",
     "iopub.status.idle": "2021-09-13T09:32:52.518962Z",
     "shell.execute_reply": "2021-09-13T09:32:52.519251Z"
    }
   },
   "outputs": [
    {
     "data": {
      "text/plain": [
       "- : bool = true\n"
      ]
     },
     "execution_count": 6,
     "metadata": {},
     "output_type": "execute_result"
    }
   ],
   "source": [
    "2.4 < 3.0 (* par contre ceci fonctionne *)"
   ]
  },
  {
   "cell_type": "markdown",
   "id": "3027777b",
   "metadata": {},
   "source": [
    "**Remarque** : pas besoin de mettre des points (.) sur `<`, `>` ..."
   ]
  },
  {
   "cell_type": "markdown",
   "id": "d9f259e4",
   "metadata": {},
   "source": [
    "Les opérateurs `&&` (et), `||` (ou), `not` permettent de combiner des conditions :"
   ]
  },
  {
   "cell_type": "code",
   "execution_count": 7,
   "id": "9571d124",
   "metadata": {
    "execution": {
     "iopub.execute_input": "2021-09-13T09:32:52.520778Z",
     "iopub.status.busy": "2021-09-13T09:32:52.520397Z",
     "iopub.status.idle": "2021-09-13T09:32:52.522799Z",
     "shell.execute_reply": "2021-09-13T09:32:52.523088Z"
    },
    "tags": []
   },
   "outputs": [
    {
     "data": {
      "text/plain": [
       "- : bool = true\n"
      ]
     },
     "execution_count": 7,
     "metadata": {},
     "output_type": "execute_result"
    }
   ],
   "source": [
    "1 < 2 && 2 < 3"
   ]
  },
  {
   "cell_type": "code",
   "execution_count": 8,
   "id": "a51a9697",
   "metadata": {
    "execution": {
     "iopub.execute_input": "2021-09-13T09:32:52.524729Z",
     "iopub.status.busy": "2021-09-13T09:32:52.524289Z",
     "iopub.status.idle": "2021-09-13T09:32:52.527105Z",
     "shell.execute_reply": "2021-09-13T09:32:52.526731Z"
    },
    "tags": []
   },
   "outputs": [
    {
     "data": {
      "text/plain": [
       "- : bool = false\n"
      ]
     },
     "execution_count": 8,
     "metadata": {},
     "output_type": "execute_result"
    }
   ],
   "source": [
    "let a = 0 in\n",
    "a <> 0 || a > 3 (* test si a est différent de 0 ou supérieur à 3 *)"
   ]
  },
  {
   "cell_type": "markdown",
   "id": "09d5c34c",
   "metadata": {},
   "source": [
    "**Exercice**\n",
    "\n",
    "1. Quelle est la valeur du code suivant?\n",
    "```ocaml\n",
    "let a = 42 in\n",
    "not (a = 42 && (a < 10 || a > 30))\n",
    "```\n",
    "2. Comment aurait-on pu écrire `not (a = 42 && (a < 10 || a > 30))` sans `not`?\n",
    "3. Écrire une fonction `xor : bool -> bool -> bool` telle que `xor a b` renvoie le \"ou exclusif\" de `a` et `b`, c'est à dire `true` si `a` ou `b` est `true`, mais pas les deux."
   ]
  },
  {
   "cell_type": "code",
   "execution_count": 9,
   "id": "79a997f8",
   "metadata": {
    "execution": {
     "iopub.execute_input": "2021-09-13T09:32:52.528896Z",
     "iopub.status.busy": "2021-09-13T09:32:52.528462Z",
     "iopub.status.idle": "2021-09-13T09:32:52.532960Z",
     "shell.execute_reply": "2021-09-13T09:32:52.532606Z"
    },
    "tags": [
     "cor"
    ]
   },
   "outputs": [
    {
     "data": {
      "text/plain": [
       "- : bool = false\n"
      ]
     },
     "execution_count": 9,
     "metadata": {},
     "output_type": "execute_result"
    },
    {
     "ename": "error",
     "evalue": "compile_error",
     "output_type": "error",
     "traceback": [
      "File \"[9]\", line 7, characters 5-7:\n7 | a <> 42 || (a >= 10 && a <= 30)\n         ^^\nError: This expression has type int but an expression was expected of type\n         bool\n"
     ]
    }
   ],
   "source": [
    "(* 1 *)\n",
    "let a = 42 in\n",
    "not (a = 42 && (a < 10 || a > 30));; (* false *)\n",
    "\n",
    "(* 2 *)\n",
    "(* Pour prendre la négation, on inverse toutes les conditions et opérateurs booléens (< devient >=, && devient || ...) *)\n",
    "a <> 42 || (a >= 10 && a <= 30)\n",
    "\n",
    "(* 3. *)\n",
    "let xor a b = (a || b) && (not a || not b);;\n",
    "xor true false;;\n",
    "xor true true;;"
   ]
  },
  {
   "cell_type": "markdown",
   "id": "4eacaa20",
   "metadata": {},
   "source": [
    "## Condition if\n",
    "\n",
    "On peut écrire une condition `if` de la façon suivante en OCaml :\n",
    "```ocaml\n",
    "if ... then ... else ...\n",
    "```\n",
    "La condition du `if` doit être un booléen. Si la condition est vraie, le `then` est exécuté et sa valeur est renvoyé. Sinon, c'est la valeur du `else` qui est renvoyé :  "
   ]
  },
  {
   "cell_type": "code",
   "execution_count": 10,
   "id": "2afc79a6",
   "metadata": {
    "execution": {
     "iopub.execute_input": "2021-09-13T09:32:52.534477Z",
     "iopub.status.busy": "2021-09-13T09:32:52.534074Z",
     "iopub.status.idle": "2021-09-13T09:32:52.536072Z",
     "shell.execute_reply": "2021-09-13T09:32:52.535742Z"
    }
   },
   "outputs": [
    {
     "data": {
      "text/plain": [
       "- : int = 24\n"
      ]
     },
     "execution_count": 10,
     "metadata": {},
     "output_type": "execute_result"
    }
   ],
   "source": [
    "if 1 = 2 then 42 else 24"
   ]
  },
  {
   "cell_type": "markdown",
   "id": "00d1bb29",
   "metadata": {},
   "source": [
    "Définissons par exemple la fonction valeur absolue ($x \\longmapsto \\vert x \\vert$) :"
   ]
  },
  {
   "cell_type": "code",
   "execution_count": 11,
   "id": "25887c42",
   "metadata": {
    "execution": {
     "iopub.execute_input": "2021-09-13T09:32:52.537579Z",
     "iopub.status.busy": "2021-09-13T09:32:52.537178Z",
     "iopub.status.idle": "2021-09-13T09:32:52.539097Z",
     "shell.execute_reply": "2021-09-13T09:32:52.539387Z"
    },
    "tags": []
   },
   "outputs": [
    {
     "data": {
      "text/plain": [
       "val abs : float -> float = <fun>\n"
      ]
     },
     "execution_count": 11,
     "metadata": {},
     "output_type": "execute_result"
    }
   ],
   "source": [
    "let abs x =\n",
    "    if x < 0. then -. x\n",
    "    else x"
   ]
  },
  {
   "cell_type": "markdown",
   "id": "e0d1d0bd",
   "metadata": {},
   "source": [
    "Rappelons qu'il n'y a pas de `return` en OCaml : c'est la dernière expression calculée par la fonction qui est renvoyée. Ainsi `abs x` renvoie `-x` si `x` est négatif et `x` sinon.  "
   ]
  },
  {
   "cell_type": "code",
   "execution_count": 12,
   "id": "abe620d3",
   "metadata": {
    "execution": {
     "iopub.execute_input": "2021-09-13T09:32:52.541206Z",
     "iopub.status.busy": "2021-09-13T09:32:52.540440Z",
     "iopub.status.idle": "2021-09-13T09:32:52.542629Z",
     "shell.execute_reply": "2021-09-13T09:32:52.542916Z"
    },
    "tags": []
   },
   "outputs": [
    {
     "data": {
      "text/plain": [
       "- : float = 2.718\n"
      ]
     },
     "execution_count": 12,
     "metadata": {},
     "output_type": "execute_result"
    }
   ],
   "source": [
    "abs (-2.718)  (* je mets des parenthèses à cause du - *)"
   ]
  },
  {
   "cell_type": "markdown",
   "id": "90aae449",
   "metadata": {},
   "source": [
    "Pour plus de lisibilité on sautera une ligne avant `then` et `else`, sauf si le contenu du `if` est très court."
   ]
  },
  {
   "cell_type": "markdown",
   "id": "5fb012d5",
   "metadata": {},
   "source": [
    "Dans un `if ... then ... else ...`, les valeurs dans le `then` et dans le `else` doivent être de même type :"
   ]
  },
  {
   "cell_type": "code",
   "execution_count": 13,
   "id": "e17b8f48",
   "metadata": {
    "execution": {
     "iopub.execute_input": "2021-09-13T09:32:52.544351Z",
     "iopub.status.busy": "2021-09-13T09:32:52.543991Z",
     "iopub.status.idle": "2021-09-13T09:32:52.545577Z",
     "shell.execute_reply": "2021-09-13T09:32:52.545864Z"
    }
   },
   "outputs": [
    {
     "ename": "error",
     "evalue": "compile_error",
     "output_type": "error",
     "traceback": [
      "File \"[13]\", line 2, characters 5-9:\n2 | else 3.14  (* impossible d'avoir 2 types différents dans le then et else *)\n         ^^^^\nError: This expression has type float but an expression was expected of type\n         int\n"
     ]
    }
   ],
   "source": [
    "if 1 = 1 then 2\n",
    "else 3.14  (* impossible d'avoir 2 types différents dans le then et else *)"
   ]
  },
  {
   "cell_type": "markdown",
   "id": "c6d29940",
   "metadata": {},
   "source": [
    "La valeur renvoyée par `if ... then ... else ...` peut être stockée dans une variable :"
   ]
  },
  {
   "cell_type": "code",
   "execution_count": 14,
   "id": "10476f2e",
   "metadata": {
    "execution": {
     "iopub.execute_input": "2021-09-13T09:32:52.547259Z",
     "iopub.status.busy": "2021-09-13T09:32:52.546901Z",
     "iopub.status.idle": "2021-09-13T09:32:52.549114Z",
     "shell.execute_reply": "2021-09-13T09:32:52.549406Z"
    }
   },
   "outputs": [
    {
     "data": {
      "text/plain": [
       "- : int = 5\n"
      ]
     },
     "execution_count": 14,
     "metadata": {},
     "output_type": "execute_result"
    }
   ],
   "source": [
    "let a = -5 in\n",
    "let b = if a > 0 then a else -a in (* on pourrait aussi calculer une valeur absolue comme ça *) \n",
    "b  (* b vaut 5 *)"
   ]
  },
  {
   "cell_type": "markdown",
   "id": "25cdd6f9",
   "metadata": {},
   "source": [
    "**Exercice** Définir les fonctions suivantes en OCaml :  \n",
    "1.\n",
    "\n",
    "<img src=\"img/fonctions_ex1.png\" width=\"500\"/>\n",
    "\n",
    "2. \n",
    "\n",
    "<img src=\"img/fonctions_ex2.png\" width=\"500\"/>\n",
    "\n",
    "3. \n",
    "\n",
    "<img src=\"img/fonctions_ex3.png\" width=\"500\"/>\n"
   ]
  },
  {
   "cell_type": "code",
   "execution_count": 15,
   "id": "736735a7",
   "metadata": {
    "execution": {
     "iopub.execute_input": "2021-09-13T09:32:52.550840Z",
     "iopub.status.busy": "2021-09-13T09:32:52.550475Z",
     "iopub.status.idle": "2021-09-13T09:32:52.556563Z",
     "shell.execute_reply": "2021-09-13T09:32:52.556207Z"
    },
    "tags": [
     "cor"
    ]
   },
   "outputs": [
    {
     "data": {
      "text/plain": [
       "val f1 : float -> float = <fun>\n"
      ]
     },
     "execution_count": 15,
     "metadata": {},
     "output_type": "execute_result"
    },
    {
     "data": {
      "text/plain": [
       "val f2 : float -> float = <fun>\n"
      ]
     },
     "execution_count": 15,
     "metadata": {},
     "output_type": "execute_result"
    },
    {
     "data": {
      "text/plain": [
       "val f3 : float -> float = <fun>\n"
      ]
     },
     "execution_count": 15,
     "metadata": {},
     "output_type": "execute_result"
    }
   ],
   "source": [
    "(* 1. *)\n",
    "let f1 x = \n",
    "    if x < 1. then 2. (* l'argument de f1 doit être un float donc il faut le comparer à un float *)\n",
    "    else 1.;;\n",
    "    \n",
    "(* 2. *)\n",
    "let f2 x = \n",
    "    if x < 0. then abs (x +. 3.) \n",
    "    else 3.;;\n",
    "    \n",
    "(* 3. *)\n",
    "let f3 x = \n",
    "    if x < 0. then  0.\n",
    "    else if x < 1. then 1.\n",
    "    else 3.;;"
   ]
  },
  {
   "cell_type": "markdown",
   "id": "7a16bac9",
   "metadata": {},
   "source": [
    "**Exercice** Écrire une fonction `n_solutions : float -> float -> float -> int` telle que `n_solutions a b c` renvoie le nombre de solutions de l'équation $ax^2 + bx + c$."
   ]
  },
  {
   "cell_type": "code",
   "execution_count": 16,
   "id": "546caae8",
   "metadata": {
    "execution": {
     "iopub.execute_input": "2021-09-13T09:32:52.557862Z",
     "iopub.status.busy": "2021-09-13T09:32:52.557495Z",
     "iopub.status.idle": "2021-09-13T09:32:52.562483Z",
     "shell.execute_reply": "2021-09-13T09:32:52.562177Z"
    },
    "tags": [
     "cor"
    ]
   },
   "outputs": [
    {
     "data": {
      "text/plain": [
       "val n_solutions : float -> float -> float -> int = <fun>\n"
      ]
     },
     "execution_count": 16,
     "metadata": {},
     "output_type": "execute_result"
    },
    {
     "data": {
      "text/plain": [
       "- : int = 2\n"
      ]
     },
     "execution_count": 16,
     "metadata": {},
     "output_type": "execute_result"
    }
   ],
   "source": [
    "let n_solutions a b c =\n",
    "    let delta = b**2. -. 4.*.a*.c in\n",
    "    if abs delta < 0.0001 then 1 (* regarde si delta vaut 0, en prenant en compte les erreurs d'arrondis des float *)\n",
    "    else if delta > 0. then 2\n",
    "    else 0;;\n",
    "n_solutions 3. 5. 2.;;    "
   ]
  }
 ],
 "metadata": {
  "jupytext": {
   "cell_metadata_filter": "-all",
   "main_language": "ocaml",
   "notebook_metadata_filter": "-all"
  },
  "kernelspec": {
   "display_name": "OCaml default",
   "language": "OCaml",
   "name": "ocaml-jupyter"
  },
  "language_info": {
   "codemirror_mode": "text/x-ocaml",
   "file_extension": ".ml",
   "mimetype": "text/x-ocaml",
   "name": "OCaml",
   "nbconverter_exporter": null,
   "pygments_lexer": "OCaml",
   "version": "4.08.1"
  },
  "title": "Conditions"
 },
 "nbformat": 4,
 "nbformat_minor": 5
}

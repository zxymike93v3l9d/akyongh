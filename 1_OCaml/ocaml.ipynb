{
 "cells": [
  {
   "cell_type": "markdown",
   "id": "6b11abf3",
   "metadata": {},
   "source": [
    "# Introduction au langage OCaml\n",
    "\n",
    "## Variables\n",
    "\n",
    "### Définition\n",
    "\n",
    "Une variable possède 3 propriétés:\n",
    "- un nom (exemple : `x`)\n",
    "- une valeur (exemple : 42)\n",
    "- un type (exemple : entier)\n",
    "\n",
    "La ligne suivante définie une variable `x` en OCaml :"
   ]
  },
  {
   "cell_type": "code",
   "execution_count": 1,
   "id": "9e72664f",
   "metadata": {},
   "outputs": [
    {
     "data": {
      "text/plain": [
       "val f : int -> int = <fun>\n"
      ]
     },
     "execution_count": 1,
     "metadata": {},
     "output_type": "execute_result"
    }
   ],
   "source": [
    "let f x = x * 3;;"
   ]
  },
  {
   "cell_type": "markdown",
   "id": "446b9ed8",
   "metadata": {},
   "source": [
    "OCaml nous répond que `x` a pour valeur 42 et est de type `int` (*integer*, c'est à dire entier).\n",
    "La variable `x` est ici définie globalement, c'est à dire accessible partout dans ce notebook.\n",
    "\n",
    "On peut alors faire des calculs avec la valeur de `x` :\n",
    "\n",
    "```ocaml\n",
    "3*x - 2 (* OCaml remplace x par 42 et fait le calcul *)\n",
    "```\n",
    "\n",
    "Il est possible d'avoir une expression (un calcul) à droite d'une définition :\n",
    "\n",
    "```ocaml\n",
    "let a = 1 + 2 + 3 + 4 (* la valeur à droite de = est calculée puis mise dans a *)\n",
    "```\n",
    "\n",
    "### Variable locale\n",
    "\n",
    "Il est possible de définir une variable locale en utilisant la forme `let y = in ...`  \n",
    "`y` est alors seulement accessible dans `...`\n",
    "\n",
    "```ocaml\n",
    "let y = -1 in y (* y est accessible dans le in *)\n",
    "```\n",
    "\n",
    "```ocaml\n",
    "y (* y n'est pas accessible hors du in *)\n",
    "```\n",
    "\n",
    "### Variables numériques\n",
    "\n",
    "Nous avons déjà vu l'addition et la soustraction de 2 entiers. Il est aussi possible de multiplier :\n",
    "\n",
    "```ocaml\n",
    "3 * 14\n",
    "```\n",
    "\n",
    "On peut effectuer la division **entière** de 2 entiers :\n",
    "\n",
    "```ocaml\n",
    "3 / 2 (* division entière *)\n",
    "```\n",
    "\n",
    "La division entière de $x$ par $y$ est, par définition, la partie entière de $\\frac{x}{y}$.  \n",
    "Dans l'exemple ci-dessus, `3 / 2` est donc la partie entière de $\\frac{3}{2} = 1.5$, c'est à dire $1$. \n",
    "\n",
    "```ocaml\n",
    "sqrt\n",
    "```\n",
    "\n",
    "En plus des entiers (`int`), OCaml permet de définir des nombres à virgules (`float`, pour flottant) :\n",
    "\n",
    "```ocaml\n",
    "let pi = 3.141592\n",
    "```\n",
    "\n",
    "Attention : c'est le point (.) et non pas la virgule qui est utilisé pour les flottants.\n",
    "\n",
    "```ocaml\n",
    "\n",
    "```"
   ]
  }
 ],
 "metadata": {
  "jupytext": {
   "formats": "ipynb,md"
  },
  "kernelspec": {
   "display_name": "OCaml default",
   "language": "OCaml",
   "name": "ocaml-jupyter"
  },
  "language_info": {
   "codemirror_mode": "text/x-ocaml",
   "file_extension": ".ml",
   "mimetype": "text/x-ocaml",
   "name": "OCaml",
   "nbconverter_exporter": null,
   "pygments_lexer": "OCaml",
   "version": "4.12.0"
  }
 },
 "nbformat": 4,
 "nbformat_minor": 5
}

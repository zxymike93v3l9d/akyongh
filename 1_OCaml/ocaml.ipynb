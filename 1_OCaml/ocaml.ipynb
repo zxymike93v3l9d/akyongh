{
 "cells": [
  {
   "cell_type": "markdown",
   "id": "6e10b879",
   "metadata": {},
   "source": [
    "# Introduction au langage OCaml\n",
    "\n",
    "## Variables\n",
    "todo\n",
    "### Définition\n",
    "\n",
    "Une variable possède 3 propriétés:\n",
    "- un nom (exemple : `x`)\n",
    "- une valeur (exemple : 42)\n",
    "- un type (exemple : entier)\n",
    "\n",
    "La ligne suivante définie une variable `x` en OCaml :"
   ]
  },
  {
   "cell_type": "code",
   "execution_count": null,
   "id": "38323baa",
   "metadata": {},
   "outputs": [],
   "source": [
    "let x = 42;;"
   ]
  },
  {
   "cell_type": "markdown",
   "id": "8bd761d7",
   "metadata": {},
   "source": [
    "OCaml nous répond que `x` a pour valeur 42 et est de type `int` (*integer*, c'est à dire entier).\n",
    "La variable `x` est ici définie globalement, c'est à dire accessible partout dans ce notebook.\n",
    "\n",
    "On peut alors faire des calculs avec la valeur de `x` :"
   ]
  },
  {
   "cell_type": "code",
   "execution_count": null,
   "id": "e024d5e0",
   "metadata": {},
   "outputs": [],
   "source": [
    "3*x - 2 (* OCaml remplace x par 42 et fait le calcul *)"
   ]
  },
  {
   "cell_type": "markdown",
   "id": "714fa8e4",
   "metadata": {},
   "source": [
    "Il est possible d'avoir une expression (un calcul) à droite d'une définition :"
   ]
  },
  {
   "cell_type": "code",
   "execution_count": null,
   "id": "61a92364",
   "metadata": {},
   "outputs": [],
   "source": [
    "let a = 1 + 2 + 3 + 4 (* la valeur à droite de = est calculée puis mise dans a *)"
   ]
  },
  {
   "cell_type": "markdown",
   "id": "62d596e9",
   "metadata": {},
   "source": [
    "### Variable locale\n",
    "\n",
    "Il est possible de définir une variable locale en utilisant la forme `let y = in ...`  \n",
    "`y` est alors seulement accessible dans `...`"
   ]
  },
  {
   "cell_type": "code",
   "execution_count": null,
   "id": "d1ea0f1b",
   "metadata": {},
   "outputs": [],
   "source": [
    "let y = -1 in y (* y est accessible dans le in *)"
   ]
  },
  {
   "cell_type": "code",
   "execution_count": null,
   "id": "a7544ca5",
   "metadata": {},
   "outputs": [],
   "source": [
    "y (* y n'est pas accessible hors du in *)"
   ]
  },
  {
   "cell_type": "markdown",
   "id": "cb8088d4",
   "metadata": {},
   "source": [
    "### Variables numériques\n",
    "\n",
    "Nous avons déjà vu l'addition et la soustraction de 2 entiers. Il est aussi possible de multiplier :"
   ]
  },
  {
   "cell_type": "code",
   "execution_count": null,
   "id": "685e676e",
   "metadata": {},
   "outputs": [],
   "source": [
    "3 * 14"
   ]
  },
  {
   "cell_type": "markdown",
   "id": "9023b5a7",
   "metadata": {},
   "source": [
    "On peut effectuer la division **entière** de 2 entiers :"
   ]
  },
  {
   "cell_type": "code",
   "execution_count": null,
   "id": "50d9a61d",
   "metadata": {},
   "outputs": [],
   "source": [
    "3 / 2 (* division entière *)"
   ]
  },
  {
   "cell_type": "markdown",
   "id": "83e6eb6e",
   "metadata": {},
   "source": [
    "La division entière de $x$ par $y$ est, par définition, la partie entière de $\\frac{x}{y}$.  \n",
    "Dans l'exemple ci-dessus, `3 / 2` est donc la partie entière de $\\frac{3}{2} = 1.5$, c'est à dire $1$. "
   ]
  },
  {
   "cell_type": "markdown",
   "id": "7c70b9cf",
   "metadata": {},
   "source": [
    "En plus des entiers (`int`), OCaml permet de définir des nombres à virgules (`float`, pour flottant) :"
   ]
  },
  {
   "cell_type": "code",
   "execution_count": null,
   "id": "989ca5f7",
   "metadata": {},
   "outputs": [],
   "source": [
    "let pi = 3.141592"
   ]
  },
  {
   "cell_type": "markdown",
   "id": "bee6c4dc",
   "metadata": {},
   "source": [
    "Attention : c'est le point (.) et non pas la virgule qui est utilisé pour les flottants."
   ]
  },
  {
   "cell_type": "code",
   "execution_count": null,
   "id": "0a466125",
   "metadata": {},
   "outputs": [],
   "source": []
  }
 ],
 "metadata": {
  "jupytext": {
   "formats": "ipynb,md"
  },
  "kernelspec": {
   "display_name": "OCaml default",
   "language": "OCaml",
   "name": "ocaml-jupyter"
  }
 },
 "nbformat": 4,
 "nbformat_minor": 5
}

{
 "cells": [
  {
   "cell_type": "markdown",
   "metadata": {},
   "source": [
    "# Types construits\n",
    "\n",
    "En OCaml, on peut définir nos propres types.\n",
    "\n",
    "## Type somme (variant)\n",
    "\n",
    "On peut définir un **type somme (variant)** en énumérant tous les cas possibles pour avoir ce type. Ceci revient à prendre l'union de plusieurs types. Chaque cas doit être identifié par un nom appelé **constructeur**, qui doit commencer par une majuscule (il est interdit de commencer un nom de variable avec une majuscule, pour ne pas confondre) :"
   ]
  },
  {
   "cell_type": "code",
   "execution_count": null,
   "metadata": {},
   "outputs": [],
   "source": [
    "type matiere = Math | Physique | Info"
   ]
  },
  {
   "cell_type": "markdown",
   "metadata": {},
   "source": [
    "On vient de définir un **type** `matiere` qui contient trois **valeurs** Math, Physique, Info."
   ]
  },
  {
   "cell_type": "code",
   "execution_count": null,
   "metadata": {},
   "outputs": [],
   "source": [
    "Math;;  (* c'est une valeur de type matiere *)\n",
    "let a = Info;; (* qu'on peut stocker dans une variable *)"
   ]
  },
  {
   "cell_type": "markdown",
   "metadata": {},
   "source": [
    "Pour traiter une variable de ce type, on utilise un `match` :"
   ]
  },
  {
   "cell_type": "code",
   "execution_count": null,
   "metadata": {},
   "outputs": [],
   "source": [
    "let heures m = match m with\n",
    "  | Math -> 12.\n",
    "  | Physique -> 6.5\n",
    "  | Info -> 4.;;\n",
    "heures Info"
   ]
  },
  {
   "cell_type": "markdown",
   "metadata": {},
   "source": [
    "Les constructeurs utilisés ci-dessus sont des constantes, mais il est possible d'ajouter un paramètre avec `of ...` :"
   ]
  },
  {
   "cell_type": "code",
   "execution_count": null,
   "metadata": {},
   "outputs": [],
   "source": [
    "type zbarre = Infini | MoinsInfini | Entier of int"
   ]
  },
  {
   "cell_type": "markdown",
   "metadata": {},
   "source": [
    "Dans cet exemple, `zbarre` est censé représenter $\\overline{\\mathbb{Z}} = \\mathbb{Z} \\cup \\{-\\infty, \\infty\\}$. `Entier` est un constructeur qui dépend d'un paramètre entier. Pour obtenir une valeur à partir du constructeur `Entier`, on l'utilise comme une fonction :"
   ]
  },
  {
   "cell_type": "code",
   "execution_count": null,
   "metadata": {},
   "outputs": [],
   "source": [
    "Entier 10  (* valeur de type zbarre *)"
   ]
  },
  {
   "cell_type": "markdown",
   "metadata": {},
   "source": [
    "Écrivons une fonction pour augmenter une valeur de type `zbarre` de 1 :"
   ]
  },
  {
   "cell_type": "code",
   "execution_count": null,
   "metadata": {},
   "outputs": [],
   "source": [
    "let add1 n = match n with\n",
    "  | Infini -> Infini    \n",
    "  | MoinsInfini -> MoinsInfini\n",
    "  | Entier i -> Entier (i + 1);;\n",
    "\n",
    "add1 (Entier 10);;\n",
    "add1 Infini"
   ]
  },
  {
   "cell_type": "markdown",
   "metadata": {},
   "source": [
    "Écrivons une fonction pour additionner deux valeurs de type `zbarre`. Pour pouvoir utiliser un opérateur infixe, on peut définir `(+!)` ([liste de tous les symboles autorisés comme opérateur infixe](https://caml.inria.fr/pub/docs/manual-caml-light/node4.9.html)):"
   ]
  },
  {
   "cell_type": "code",
   "execution_count": null,
   "metadata": {},
   "outputs": [],
   "source": [
    "let (+!) n1 n2 = match n1, n2 with\n",
    "| Infini, Infini -> Infini\n",
    "| MoinsInfini, MoinsInfini -> MoinsInfini\n",
    "| Infini, Entier(_) | Entier(_), Infini  -> Infini\n",
    "| MoinsInfini, Entier(_) | Entier(_), MoinsInfini  -> MoinsInfini\n",
    "| _ -> failwith \"Indetermine\""
   ]
  },
  {
   "cell_type": "code",
   "execution_count": null,
   "metadata": {},
   "outputs": [],
   "source": [
    "Infini +! Infini;;\n",
    "Infini +! MoinsInfini"
   ]
  },
  {
   "cell_type": "markdown",
   "metadata": {},
   "source": [
    "**Exercice** : Définir `-!`, `*!`, `/!` pour des valeurs de type `zbarre`. Définir aussi `~-` qui permet d'avoir d'appliquer - sur un seul élément (opérateur unaire)."
   ]
  },
  {
   "cell_type": "markdown",
   "metadata": {},
   "source": [
    "Il est possible d'utiliser `'a` (n'importe quel type) pour un paramètre de constructeur, à condition de le mettre dans le `type` (on appelle alors ceci un **type polymorphe**). Par exemple, on pourrait redéfinir `list` :"
   ]
  },
  {
   "cell_type": "code",
   "execution_count": null,
   "metadata": {},
   "outputs": [],
   "source": [
    "type 'a liste = Vide | Cons of 'a * 'a liste"
   ]
  },
  {
   "cell_type": "markdown",
   "metadata": {},
   "source": [
    "`Cons` est alors un constructeur ayant comme paramètre un couple : premier élément de la liste et reste de la liste. "
   ]
  },
  {
   "cell_type": "markdown",
   "metadata": {},
   "source": [
    "**Remarque** : `liste` est un **type récursif** (on utilise le type `liste` dans la définition de `liste`)"
   ]
  },
  {
   "cell_type": "code",
   "execution_count": null,
   "metadata": {},
   "outputs": [],
   "source": [
    "let l = Cons(1, Cons(2, Cons(3, Vide))) (* équivalent de 1::2::3::[]) *)"
   ]
  },
  {
   "cell_type": "code",
   "execution_count": null,
   "metadata": {},
   "outputs": [],
   "source": [
    "let rec appartient e l = match l with (* teste si e appartient à l *)\n",
    "  | Vide -> false\n",
    "  | Cons(x, q) -> x = e || appartient e q"
   ]
  },
  {
   "cell_type": "markdown",
   "metadata": {},
   "source": [
    "**Exercice** : \n",
    "1. Écrire un type `number` qui représente des nombres soient entiers (`int`), soit flottants (`float`). \n",
    "2. Écrire des opérations (addition...) sur ce type. L'addition d'un flottant avec un entier donnera un flottant.\n",
    "3. Écrire une fonction pour sommer les éléments d'une liste de `number`."
   ]
  },
  {
   "cell_type": "markdown",
   "metadata": {},
   "source": [
    "### Type option\n",
    "\n",
    "Le type option sert à stocker une valeur optionnelle, éventuellement None :"
   ]
  },
  {
   "cell_type": "code",
   "execution_count": null,
   "metadata": {},
   "outputs": [],
   "source": [
    "None"
   ]
  },
  {
   "cell_type": "code",
   "execution_count": null,
   "metadata": {},
   "outputs": [],
   "source": [
    "Some 1"
   ]
  },
  {
   "cell_type": "markdown",
   "metadata": {},
   "source": [
    "Le type option est définit comme ceci en OCaml :"
   ]
  },
  {
   "cell_type": "code",
   "execution_count": null,
   "metadata": {},
   "outputs": [],
   "source": [
    "type 'a option = None | Some of 'a"
   ]
  },
  {
   "cell_type": "markdown",
   "metadata": {},
   "source": [
    "Il est utile lorsqu'une fonction peut renvoyer aucune valeur."
   ]
  },
  {
   "cell_type": "markdown",
   "metadata": {},
   "source": [
    "**Exercice** : Écrire une fonction `indice : 'a array -> 'a -> int` telle que `indice t e` renvoie l'indice de `e` dans `i` et `None` sinon."
   ]
  },
  {
   "cell_type": "code",
   "execution_count": null,
   "metadata": {},
   "outputs": [],
   "source": [
    "let indice t e = \n",
    "  let res = ref None in\n",
    "  for i = 0 to Array.length t - 1 do\n",
    "    if t.(i) = e then res := Some i\n",
    "  done;\n",
    "  !res"
   ]
  },
  {
   "cell_type": "code",
   "execution_count": null,
   "metadata": {},
   "outputs": [],
   "source": [
    "indice [|0; 3; 2; 4; 5|] 4;;\n",
    "indice [|0; 3; 2; 4; 5|] 1;;"
   ]
  },
  {
   "cell_type": "markdown",
   "metadata": {},
   "source": [
    "Pour savoir si une option est un `None` ou `Some`, on utilise un `match`."
   ]
  },
  {
   "cell_type": "markdown",
   "metadata": {},
   "source": [
    "## Type enregistrement (record)"
   ]
  },
  {
   "cell_type": "markdown",
   "metadata": {},
   "source": [
    "Alors qu'un type somme fait une disjonction (un \"ou\") de plusieurs types, un **type enregistrement (record)** permet d'avoir plusieurs types simultanément (un \"et\" de plusieurs types)."
   ]
  },
  {
   "cell_type": "code",
   "execution_count": null,
   "metadata": {},
   "outputs": [],
   "source": [
    "type fraction = {num: int; den: int};; (* fraction composée d'un numérateur ET dénominateur *)\n",
    "let x = {num=3; den=4};; (* x représente la fraction 1/4 *)\n",
    "x.den  (* obtient la valeur du champ den de x *)"
   ]
  },
  {
   "cell_type": "markdown",
   "metadata": {},
   "source": [
    "`fraction` est un type très proche de `int*int`. La différence principale est que les composantes sont nommées dans un enregistrement mais pas dans un tuple.  \n",
    "Nous pouvons multiplier deux fractions :"
   ]
  },
  {
   "cell_type": "code",
   "execution_count": null,
   "metadata": {},
   "outputs": [],
   "source": [
    "let mult x1 x2 = \n",
    "  {num=x1.num*x2.num; den=x1.den*x2.den};;\n",
    "\n",
    "  mult x x"
   ]
  },
  {
   "cell_type": "markdown",
   "metadata": {},
   "source": [
    "**Exercice** : \n",
    "1. Écrire une fonction pour additionner deux fractions.\n",
    "2. Écrire une fonction pour simplifier une fraction."
   ]
  },
  {
   "cell_type": "markdown",
   "metadata": {},
   "source": [
    "L'intérêt d'utiliser des fractions plutôt que des float est de faire des calculs exacts et non pas approchés."
   ]
  },
  {
   "cell_type": "markdown",
   "metadata": {},
   "source": [
    "**Exercice** : \n",
    "1. Définir deux types enregistrements pour représenter un nombre complexe sous forme algébrique et sous forme polaire. \n",
    "2. Écrire une fonction pour convertir un nombre complexe de polaire à algébrique."
   ]
  },
  {
   "cell_type": "markdown",
   "metadata": {},
   "source": [
    "### Mot-clé mutable\n",
    "\n",
    "Par défaut, un type enregistrement n'est pas mutable (on ne peut pas modifier ses éléments)."
   ]
  },
  {
   "cell_type": "markdown",
   "metadata": {},
   "source": [
    "Cependant, il est possible d'ajouter un mot-clé mutable sur un attribut. On utilise alors `<-` pour modifier l'attribut."
   ]
  },
  {
   "cell_type": "markdown",
   "metadata": {},
   "source": [
    "Par exemple, on pourrait redéfinir une référence comme un type enregistrement avec un seul champ mutable :"
   ]
  },
  {
   "cell_type": "code",
   "execution_count": null,
   "metadata": {},
   "outputs": [],
   "source": [
    "type 'a ref = {mutable v: 'a}"
   ]
  },
  {
   "cell_type": "code",
   "execution_count": null,
   "metadata": {},
   "outputs": [],
   "source": [
    "let a = {v = 2}  (* équivalent de let a = ref 2 *)"
   ]
  },
  {
   "cell_type": "code",
   "execution_count": null,
   "metadata": {},
   "outputs": [],
   "source": [
    "a.v  (* équivalent de !a *)"
   ]
  },
  {
   "cell_type": "code",
   "execution_count": null,
   "metadata": {},
   "outputs": [],
   "source": [
    "a.v <- 5  (* équivalent de a := 5 *)"
   ]
  }
 ],
 "metadata": {
  "kernelspec": {
   "display_name": "OCaml default",
   "language": "OCaml",
   "name": "ocaml-jupyter"
  },
  "language_info": {
   "codemirror_mode": "text/x-ocaml",
   "file_extension": ".ml",
   "mimetype": "text/x-ocaml",
   "name": "OCaml",
   "nbconverter_exporter": null,
   "pygments_lexer": "OCaml",
   "version": "4.08.1"
  }
 },
 "nbformat": 4,
 "nbformat_minor": 4
}

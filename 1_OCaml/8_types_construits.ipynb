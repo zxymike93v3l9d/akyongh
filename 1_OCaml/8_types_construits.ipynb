{
 "cells": [
  {
   "cell_type": "markdown",
   "metadata": {},
   "source": [
    "# Types construits\n",
    "\n",
    "En OCaml, on peut définir nos propres types.\n",
    "\n",
    "## Type somme (variant)\n",
    "\n",
    "On peut définir un **type somme (variant)** en énumérant tous les cas possibles pour avoir ce type. Ceci revient à prendre l'union de plusieurs types. Chaque cas doit être identifié par un nom appelé **constructeur**, qui doit commencer par une majuscule (il est interdit de commencer un nom de variable avec une majuscule, pour ne pas confondre) :"
   ]
  },
  {
   "cell_type": "code",
   "execution_count": 1,
   "metadata": {
    "execution": {
     "iopub.execute_input": "2021-09-21T19:50:11.491960Z",
     "iopub.status.busy": "2021-09-21T19:50:11.491315Z",
     "iopub.status.idle": "2021-09-21T19:50:11.495348Z",
     "shell.execute_reply": "2021-09-21T19:50:11.495818Z"
    }
   },
   "outputs": [
    {
     "data": {
      "text/plain": [
       "type matiere = Math | Physique | Info\n"
      ]
     },
     "execution_count": 1,
     "metadata": {},
     "output_type": "execute_result"
    }
   ],
   "source": [
    "type matiere = Math | Physique | Info"
   ]
  },
  {
   "cell_type": "markdown",
   "metadata": {},
   "source": [
    "On vient de définir un **type** `matiere` qui contient trois **valeurs** Math, Physique, Info."
   ]
  },
  {
   "cell_type": "code",
   "execution_count": 2,
   "metadata": {
    "execution": {
     "iopub.execute_input": "2021-09-21T19:50:11.497783Z",
     "iopub.status.busy": "2021-09-21T19:50:11.497225Z",
     "iopub.status.idle": "2021-09-21T19:50:11.502185Z",
     "shell.execute_reply": "2021-09-21T19:50:11.501237Z"
    }
   },
   "outputs": [
    {
     "data": {
      "text/plain": [
       "- : matiere = Math\n"
      ]
     },
     "execution_count": 2,
     "metadata": {},
     "output_type": "execute_result"
    },
    {
     "data": {
      "text/plain": [
       "val a : matiere = Info\n"
      ]
     },
     "execution_count": 2,
     "metadata": {},
     "output_type": "execute_result"
    }
   ],
   "source": [
    "Math;;  (* c'est une valeur de type matiere *)\n",
    "let a = Info;; (* qu'on peut stocker dans une variable *)"
   ]
  },
  {
   "cell_type": "markdown",
   "metadata": {},
   "source": [
    "Pour traiter une variable de ce type, on utilise un `match` :"
   ]
  },
  {
   "cell_type": "code",
   "execution_count": 3,
   "metadata": {
    "execution": {
     "iopub.execute_input": "2021-09-21T19:50:11.506037Z",
     "iopub.status.busy": "2021-09-21T19:50:11.503424Z",
     "iopub.status.idle": "2021-09-21T19:50:11.507366Z",
     "shell.execute_reply": "2021-09-21T19:50:11.507027Z"
    }
   },
   "outputs": [
    {
     "data": {
      "text/plain": [
       "val heures : matiere -> float = <fun>\n"
      ]
     },
     "execution_count": 3,
     "metadata": {},
     "output_type": "execute_result"
    }
   ],
   "source": [
    "let heures m = match m with\n",
    "  | Math -> 12.\n",
    "  | Physique -> 6.5\n",
    "  | Info -> 4.;;\n",
    "heures Info"
   ]
  },
  {
   "cell_type": "markdown",
   "metadata": {},
   "source": [
    "Les constructeurs utilisés ci-dessus sont des constantes, mais il est possible d'ajouter un paramètre avec `of ...` :"
   ]
  },
  {
   "cell_type": "code",
   "execution_count": 4,
   "metadata": {
    "execution": {
     "iopub.execute_input": "2021-09-21T19:50:11.509855Z",
     "iopub.status.busy": "2021-09-21T19:50:11.509378Z",
     "iopub.status.idle": "2021-09-21T19:50:11.511144Z",
     "shell.execute_reply": "2021-09-21T19:50:11.510226Z"
    }
   },
   "outputs": [
    {
     "data": {
      "text/plain": [
       "type zbarre = Infini | MoinsInfini | Entier of int\n"
      ]
     },
     "execution_count": 4,
     "metadata": {},
     "output_type": "execute_result"
    }
   ],
   "source": [
    "type zbarre = Infini | MoinsInfini | Entier of int"
   ]
  },
  {
   "cell_type": "markdown",
   "metadata": {},
   "source": [
    "Dans cet exemple, `zbarre` est censé représenter $\\overline{\\mathbb{Z}} = \\mathbb{Z} \\cup \\{-\\infty, \\infty\\}$. `Entier` est un constructeur qui dépend d'un paramètre entier. Pour obtenir une valeur à partir du constructeur `Entier`, on l'utilise comme une fonction :"
   ]
  },
  {
   "cell_type": "code",
   "execution_count": 5,
   "metadata": {
    "execution": {
     "iopub.execute_input": "2021-09-21T19:50:11.512876Z",
     "iopub.status.busy": "2021-09-21T19:50:11.512250Z",
     "iopub.status.idle": "2021-09-21T19:50:11.514240Z",
     "shell.execute_reply": "2021-09-21T19:50:11.514554Z"
    }
   },
   "outputs": [
    {
     "data": {
      "text/plain": [
       "- : zbarre = Entier 10\n"
      ]
     },
     "execution_count": 5,
     "metadata": {},
     "output_type": "execute_result"
    }
   ],
   "source": [
    "Entier 10  (* valeur de type zbarre *)"
   ]
  },
  {
   "cell_type": "markdown",
   "metadata": {},
   "source": [
    "Écrivons une fonction pour augmenter une valeur de type `zbarre` de 1 :"
   ]
  },
  {
   "cell_type": "code",
   "execution_count": 6,
   "metadata": {
    "execution": {
     "iopub.execute_input": "2021-09-21T19:50:11.518588Z",
     "iopub.status.busy": "2021-09-21T19:50:11.515578Z",
     "iopub.status.idle": "2021-09-21T19:50:11.521035Z",
     "shell.execute_reply": "2021-09-21T19:50:11.520140Z"
    }
   },
   "outputs": [
    {
     "data": {
      "text/plain": [
       "val add1 : zbarre -> zbarre = <fun>\n"
      ]
     },
     "execution_count": 6,
     "metadata": {},
     "output_type": "execute_result"
    },
    {
     "data": {
      "text/plain": [
       "- : zbarre = Entier 11\n"
      ]
     },
     "execution_count": 6,
     "metadata": {},
     "output_type": "execute_result"
    },
    {
     "data": {
      "text/plain": [
       "- : zbarre = Infini\n"
      ]
     },
     "execution_count": 6,
     "metadata": {},
     "output_type": "execute_result"
    }
   ],
   "source": [
    "let add1 n = match n with\n",
    "  | Infini -> Infini    \n",
    "  | MoinsInfini -> MoinsInfini\n",
    "  | Entier i -> Entier (i + 1);;\n",
    "\n",
    "add1 (Entier 10);;\n",
    "add1 Infini"
   ]
  },
  {
   "cell_type": "markdown",
   "metadata": {},
   "source": [
    "Écrivons une fonction pour additionner deux valeurs de type `zbarre`. Pour pouvoir utiliser un opérateur infixe, on peut définir (+!) ([liste de tous les symboles autorisés comme opérateur infixe](https://caml.inria.fr/pub/docs/manual-caml-light/node4.9.html)):"
   ]
  },
  {
   "cell_type": "code",
   "execution_count": 7,
   "metadata": {
    "execution": {
     "iopub.execute_input": "2021-09-21T19:50:11.522553Z",
     "iopub.status.busy": "2021-09-21T19:50:11.522164Z",
     "iopub.status.idle": "2021-09-21T19:50:11.527288Z",
     "shell.execute_reply": "2021-09-21T19:50:11.527605Z"
    }
   },
   "outputs": [
    {
     "data": {
      "text/plain": [
       "val ( +! ) : zbarre -> zbarre -> zbarre = <fun>\n"
      ]
     },
     "execution_count": 7,
     "metadata": {},
     "output_type": "execute_result"
    }
   ],
   "source": [
    "let (+!) n1 n2 = match n1, n2 with\n",
    "| Infini, Infini -> Infini\n",
    "| MoinsInfini, MoinsInfini -> MoinsInfini\n",
    "| Infini, Entier(_) | Entier(_), Infini  -> Infini\n",
    "| MoinsInfini, Entier(_) | Entier(_), MoinsInfini  -> MoinsInfini\n",
    "| _ -> failwith \"Indetermine\""
   ]
  },
  {
   "cell_type": "code",
   "execution_count": 8,
   "metadata": {
    "execution": {
     "iopub.execute_input": "2021-09-21T19:50:11.529058Z",
     "iopub.status.busy": "2021-09-21T19:50:11.528672Z",
     "iopub.status.idle": "2021-09-21T19:50:11.938757Z",
     "shell.execute_reply": "2021-09-21T19:50:11.938313Z"
    }
   },
   "outputs": [
    {
     "data": {
      "text/plain": [
       "- : zbarre = Infini\n"
      ]
     },
     "execution_count": 8,
     "metadata": {},
     "output_type": "execute_result"
    },
    {
     "ename": "error",
     "evalue": "runtime_error",
     "output_type": "error",
     "traceback": [
      "\u001b[31mException: Failure \"Indetermine\".\nRaised at file \"stdlib.ml\", line 29, characters 22-33\nCalled from file \"toplevel/toploop.ml\", line 208, characters 17-27\n\u001b[0m"
     ]
    }
   ],
   "source": [
    "Infini +! Infini;;\n",
    "Infini +! MoinsInfini"
   ]
  },
  {
   "cell_type": "markdown",
   "metadata": {},
   "source": [
    "**Exercice** : Définir `-`, `*`, `/` pour des valeurs de type `zbarre`. Définir aussi `~-` qui permet d'avoir d'appliquer - sur un seul élément (opérateur unaire)."
   ]
  },
  {
   "cell_type": "markdown",
   "metadata": {},
   "source": [
    "Il est possible d'utiliser `'a` (n'importe quel type) pour un paramètre de constructeur, à condition de le mettre dans le `type`. Par exemple, on pourrait redéfinir `list` :"
   ]
  },
  {
   "cell_type": "code",
   "execution_count": 9,
   "metadata": {
    "execution": {
     "iopub.execute_input": "2021-09-21T19:50:11.940767Z",
     "iopub.status.busy": "2021-09-21T19:50:11.940283Z",
     "iopub.status.idle": "2021-09-21T19:50:11.943417Z",
     "shell.execute_reply": "2021-09-21T19:50:11.942970Z"
    }
   },
   "outputs": [
    {
     "data": {
      "text/plain": [
       "type 'a list = Vide | Cons of 'a * 'a list\n"
      ]
     },
     "execution_count": 9,
     "metadata": {},
     "output_type": "execute_result"
    }
   ],
   "source": [
    "type 'a list = Vide | Cons of 'a * 'a list"
   ]
  },
  {
   "cell_type": "markdown",
   "metadata": {},
   "source": [
    "`Cons` est alors un constructeur ayant comme paramètre un couple : premier élément de la liste et reste de la liste. "
   ]
  },
  {
   "cell_type": "code",
   "execution_count": 10,
   "metadata": {
    "execution": {
     "iopub.execute_input": "2021-09-21T19:50:11.945006Z",
     "iopub.status.busy": "2021-09-21T19:50:11.944567Z",
     "iopub.status.idle": "2021-09-21T19:50:11.947383Z",
     "shell.execute_reply": "2021-09-21T19:50:11.947733Z"
    }
   },
   "outputs": [
    {
     "data": {
      "text/plain": [
       "val l : int list = Cons (1, Cons (2, Cons (3, Vide)))\n"
      ]
     },
     "execution_count": 10,
     "metadata": {},
     "output_type": "execute_result"
    }
   ],
   "source": [
    "let l = Cons(1, Cons(2, Cons(3, Vide))) (* équivalent de 1::2::3::[]) *)"
   ]
  },
  {
   "cell_type": "code",
   "execution_count": 11,
   "metadata": {
    "execution": {
     "iopub.execute_input": "2021-09-21T19:50:11.949376Z",
     "iopub.status.busy": "2021-09-21T19:50:11.948935Z",
     "iopub.status.idle": "2021-09-21T19:50:11.952767Z",
     "shell.execute_reply": "2021-09-21T19:50:11.952337Z"
    }
   },
   "outputs": [
    {
     "data": {
      "text/plain": [
       "val appartient : 'a -> 'a list -> bool = <fun>\n"
      ]
     },
     "execution_count": 11,
     "metadata": {},
     "output_type": "execute_result"
    }
   ],
   "source": [
    "let rec appartient e l = match l with (* teste si e appartient à l *)\n",
    "  | Vide -> false\n",
    "  | Cons(x, q) -> x = e || appartient e q"
   ]
  },
  {
   "cell_type": "markdown",
   "metadata": {},
   "source": [
    "## Type enregistrement (record)"
   ]
  },
  {
   "cell_type": "markdown",
   "metadata": {},
   "source": [
    "Alors qu'un type somme fait une disjonction (un \"ou\") de plusieurs types, un **type enregistrement (record)** permet d'avoir plusieurs types simultanément (un \"et\" de plusieurs types)."
   ]
  },
  {
   "cell_type": "code",
   "execution_count": 12,
   "metadata": {
    "execution": {
     "iopub.execute_input": "2021-09-21T19:50:11.954381Z",
     "iopub.status.busy": "2021-09-21T19:50:11.953938Z",
     "iopub.status.idle": "2021-09-21T19:50:11.957818Z",
     "shell.execute_reply": "2021-09-21T19:50:11.957416Z"
    }
   },
   "outputs": [
    {
     "data": {
      "text/plain": [
       "type fraction = { num : int; den : int; }\n"
      ]
     },
     "execution_count": 12,
     "metadata": {},
     "output_type": "execute_result"
    },
    {
     "data": {
      "text/plain": [
       "val x : fraction = {num = 3; den = 4}\n"
      ]
     },
     "execution_count": 12,
     "metadata": {},
     "output_type": "execute_result"
    },
    {
     "data": {
      "text/plain": [
       "- : int = 4\n"
      ]
     },
     "execution_count": 12,
     "metadata": {},
     "output_type": "execute_result"
    }
   ],
   "source": [
    "type fraction = {num: int; den: int};; (* fraction composée d'un numérateur ET dénominateur *)\n",
    "let x = {num=3; den=4};; (* x représente la fraction 1/4 *)\n",
    "x.den  (* obtient la valeur du champ den de x *)"
   ]
  },
  {
   "cell_type": "markdown",
   "metadata": {},
   "source": [
    "`fraction` est un type très proche de `int*int`. La différence principale est que les composantes sont nommées dans un enregistrement mais pas dans un tuple.  \n",
    "Nous pouvons multiplier deux fractions :"
   ]
  },
  {
   "cell_type": "code",
   "execution_count": 13,
   "metadata": {
    "execution": {
     "iopub.execute_input": "2021-09-21T19:50:11.959405Z",
     "iopub.status.busy": "2021-09-21T19:50:11.958969Z",
     "iopub.status.idle": "2021-09-21T19:50:11.962823Z",
     "shell.execute_reply": "2021-09-21T19:50:11.963145Z"
    }
   },
   "outputs": [
    {
     "data": {
      "text/plain": [
       "val mult : fraction -> fraction -> fraction = <fun>\n"
      ]
     },
     "execution_count": 13,
     "metadata": {},
     "output_type": "execute_result"
    }
   ],
   "source": [
    "let mult x1 x2 = \n",
    "  {num=x1.num*x2.num; den=x1.den*x2.den};;\n",
    "\n",
    "  mult x x"
   ]
  },
  {
   "cell_type": "markdown",
   "metadata": {},
   "source": [
    "**Exercice** : Écrire une fonction pour additionner deux fractions."
   ]
  },
  {
   "cell_type": "markdown",
   "metadata": {},
   "source": [
    "**Exercice** : Écrire une fonction pour additionner deux fractions."
   ]
  },
  {
   "cell_type": "markdown",
   "metadata": {},
   "source": [
    "L'intérêt d'utiliser des fractions plutôt que des float est de faire des calculs exacts et non pas approchés."
   ]
  },
  {
   "cell_type": "code",
   "execution_count": null,
   "metadata": {},
   "outputs": [],
   "source": []
  },
  {
   "cell_type": "markdown",
   "metadata": {},
   "source": [
    "### Tableau dynamique"
   ]
  },
  {
   "cell_type": "code",
   "execution_count": 14,
   "metadata": {
    "execution": {
     "iopub.execute_input": "2021-09-21T19:50:11.965289Z",
     "iopub.status.busy": "2021-09-21T19:50:11.964858Z",
     "iopub.status.idle": "2021-09-21T19:50:11.966974Z",
     "shell.execute_reply": "2021-09-21T19:50:11.966590Z"
    }
   },
   "outputs": [
    {
     "data": {
      "text/plain": [
       "type 'a dyn = { a : 'a array; size : int; }\n"
      ]
     },
     "execution_count": 14,
     "metadata": {},
     "output_type": "execute_result"
    }
   ],
   "source": [
    "type 'a dyn = {a: 'a array; size: int}"
   ]
  },
  {
   "cell_type": "code",
   "execution_count": 15,
   "metadata": {
    "execution": {
     "iopub.execute_input": "2021-09-21T19:50:11.968710Z",
     "iopub.status.busy": "2021-09-21T19:50:11.968254Z",
     "iopub.status.idle": "2021-09-21T19:50:11.970602Z",
     "shell.execute_reply": "2021-09-21T19:50:11.970988Z"
    }
   },
   "outputs": [
    {
     "data": {
      "text/plain": [
       "val d : int dyn = {a = [|1; 2; 3|]; size = 3}\n"
      ]
     },
     "execution_count": 15,
     "metadata": {},
     "output_type": "execute_result"
    }
   ],
   "source": [
    "let d  = {a=[|1; 2; 3|]; size=3}"
   ]
  },
  {
   "cell_type": "code",
   "execution_count": 16,
   "metadata": {
    "execution": {
     "iopub.execute_input": "2021-09-21T19:50:11.972506Z",
     "iopub.status.busy": "2021-09-21T19:50:11.972070Z",
     "iopub.status.idle": "2021-09-21T19:50:11.974115Z",
     "shell.execute_reply": "2021-09-21T19:50:11.973728Z"
    }
   },
   "outputs": [
    {
     "ename": "error",
     "evalue": "compile_error",
     "output_type": "error",
     "traceback": [
      "File \"[16]\", line 1, characters 0-18:\n1 | d.a <- [|4; 5; 6|]\n    ^^^^^^^^^^^^^^^^^^\nError: The record field a is not mutable\n"
     ]
    }
   ],
   "source": [
    "d.a <- [|4; 5; 6|]"
   ]
  },
  {
   "cell_type": "code",
   "execution_count": 17,
   "metadata": {
    "execution": {
     "iopub.execute_input": "2021-09-21T19:50:11.975667Z",
     "iopub.status.busy": "2021-09-21T19:50:11.975223Z",
     "iopub.status.idle": "2021-09-21T19:50:11.979621Z",
     "shell.execute_reply": "2021-09-21T19:50:11.979951Z"
    }
   },
   "outputs": [
    {
     "ename": "error",
     "evalue": "compile_error",
     "output_type": "error",
     "traceback": [
      "File \"[17]\", line 5, characters 6-7:\n5 | else (a.(size) <- e)\n          ^\nError: This expression has type matiere\n       but an expression was expected of type 'a array\n"
     ]
    }
   ],
   "source": [
    "let add d e = \n",
    "    if d.size = Array.length d.a \n",
    "    then let a' = Array.make (2*d.size) d.a.(0) in\n",
    "    {a = a'; size = 2*d.size}\n",
    "else (a.(size) <- e)"
   ]
  },
  {
   "cell_type": "code",
   "execution_count": null,
   "metadata": {},
   "outputs": [],
   "source": []
  }
 ],
 "metadata": {
  "kernelspec": {
   "display_name": "OCaml default",
   "language": "OCaml",
   "name": "ocaml-jupyter"
  },
  "language_info": {
   "codemirror_mode": "text/x-ocaml",
   "file_extension": ".ml",
   "mimetype": "text/x-ocaml",
   "name": "OCaml",
   "nbconverter_exporter": null,
   "pygments_lexer": "OCaml",
   "version": "4.08.1"
  }
 },
 "nbformat": 4,
 "nbformat_minor": 4
}

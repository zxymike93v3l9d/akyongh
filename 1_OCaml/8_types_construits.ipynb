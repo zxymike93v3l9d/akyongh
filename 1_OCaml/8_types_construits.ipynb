{
 "cells": [
  {
   "cell_type": "markdown",
   "metadata": {},
   "source": [
    "# Types construits\n",
    "\n",
    "En OCaml, on peut définir nos propres types.\n",
    "\n",
    "## Type somme (variant)\n",
    "\n",
    "On peut définir un **type somme (variant)** en énumérant tous les cas possibles pour avoir ce type. Ceci revient à prendre l'union de plusieurs types. Chaque cas doit être identifié par un nom appelé **constructeur**, qui doit commencer par une majuscule (il est interdit de commencer un nom de variable avec une majuscule, pour ne pas confondre) :"
   ]
  },
  {
   "cell_type": "code",
   "execution_count": 1,
   "metadata": {
    "execution": {
     "iopub.execute_input": "2021-09-28T16:15:24.970427Z",
     "iopub.status.busy": "2021-09-28T16:15:24.969574Z",
     "iopub.status.idle": "2021-09-28T16:15:24.974189Z",
     "shell.execute_reply": "2021-09-28T16:15:24.973636Z"
    }
   },
   "outputs": [
    {
     "data": {
      "text/plain": [
       "type matiere = Math | Physique | Info\n"
      ]
     },
     "execution_count": 1,
     "metadata": {},
     "output_type": "execute_result"
    }
   ],
   "source": [
    "type matiere = Math | Physique | Info"
   ]
  },
  {
   "cell_type": "markdown",
   "metadata": {},
   "source": [
    "On vient de définir un **type** `matiere` qui contient trois **valeurs** Math, Physique, Info."
   ]
  },
  {
   "cell_type": "code",
   "execution_count": 2,
   "metadata": {
    "execution": {
     "iopub.execute_input": "2021-09-28T16:15:24.976402Z",
     "iopub.status.busy": "2021-09-28T16:15:24.975812Z",
     "iopub.status.idle": "2021-09-28T16:15:24.981508Z",
     "shell.execute_reply": "2021-09-28T16:15:24.981038Z"
    }
   },
   "outputs": [
    {
     "data": {
      "text/plain": [
       "- : matiere = Math\n"
      ]
     },
     "execution_count": 2,
     "metadata": {},
     "output_type": "execute_result"
    },
    {
     "data": {
      "text/plain": [
       "val a : matiere = Info\n"
      ]
     },
     "execution_count": 2,
     "metadata": {},
     "output_type": "execute_result"
    }
   ],
   "source": [
    "Math;;  (* c'est une valeur de type matiere *)\n",
    "let a = Info;; (* qu'on peut stocker dans une variable *)"
   ]
  },
  {
   "cell_type": "markdown",
   "metadata": {},
   "source": [
    "Pour traiter une variable de ce type, on utilise un `match` :"
   ]
  },
  {
   "cell_type": "code",
   "execution_count": 3,
   "metadata": {
    "execution": {
     "iopub.execute_input": "2021-09-28T16:15:24.983838Z",
     "iopub.status.busy": "2021-09-28T16:15:24.983022Z",
     "iopub.status.idle": "2021-09-28T16:15:24.987964Z",
     "shell.execute_reply": "2021-09-28T16:15:24.987366Z"
    }
   },
   "outputs": [
    {
     "data": {
      "text/plain": [
       "val heures : matiere -> float = <fun>\n"
      ]
     },
     "execution_count": 3,
     "metadata": {},
     "output_type": "execute_result"
    },
    {
     "data": {
      "text/plain": [
       "- : float = 4.\n"
      ]
     },
     "execution_count": 3,
     "metadata": {},
     "output_type": "execute_result"
    }
   ],
   "source": [
    "let heures m = match m with\n",
    "  | Math -> 12.\n",
    "  | Physique -> 6.5\n",
    "  | Info -> 4.;;\n",
    "heures Info"
   ]
  },
  {
   "cell_type": "markdown",
   "metadata": {},
   "source": [
    "Les constructeurs utilisés ci-dessus sont des constantes, mais il est possible d'ajouter un paramètre avec `of ...` :"
   ]
  },
  {
   "cell_type": "code",
   "execution_count": 4,
   "metadata": {
    "execution": {
     "iopub.execute_input": "2021-09-28T16:15:24.991264Z",
     "iopub.status.busy": "2021-09-28T16:15:24.989550Z",
     "iopub.status.idle": "2021-09-28T16:15:24.992943Z",
     "shell.execute_reply": "2021-09-28T16:15:24.991764Z"
    }
   },
   "outputs": [
    {
     "data": {
      "text/plain": [
       "type zbarre = Infini | MoinsInfini | Entier of int\n"
      ]
     },
     "execution_count": 4,
     "metadata": {},
     "output_type": "execute_result"
    }
   ],
   "source": [
    "type zbarre = Infini | MoinsInfini | Entier of int"
   ]
  },
  {
   "cell_type": "markdown",
   "metadata": {},
   "source": [
    "Dans cet exemple, `zbarre` est censé représenter $\\overline{\\mathbb{Z}} = \\mathbb{Z} \\cup \\{-\\infty, \\infty\\}$. `Entier` est un constructeur qui dépend d'un paramètre entier. Pour obtenir une valeur à partir du constructeur `Entier`, on l'utilise comme une fonction :"
   ]
  },
  {
   "cell_type": "code",
   "execution_count": 5,
   "metadata": {
    "execution": {
     "iopub.execute_input": "2021-09-28T16:15:24.995367Z",
     "iopub.status.busy": "2021-09-28T16:15:24.994290Z",
     "iopub.status.idle": "2021-09-28T16:15:24.997181Z",
     "shell.execute_reply": "2021-09-28T16:15:24.996678Z"
    }
   },
   "outputs": [
    {
     "data": {
      "text/plain": [
       "- : zbarre = Entier 10\n"
      ]
     },
     "execution_count": 5,
     "metadata": {},
     "output_type": "execute_result"
    }
   ],
   "source": [
    "Entier 10  (* valeur de type zbarre *)"
   ]
  },
  {
   "cell_type": "markdown",
   "metadata": {},
   "source": [
    "Écrivons une fonction pour augmenter une valeur de type `zbarre` de 1 :"
   ]
  },
  {
   "cell_type": "code",
   "execution_count": 6,
   "metadata": {
    "execution": {
     "iopub.execute_input": "2021-09-28T16:15:25.001758Z",
     "iopub.status.busy": "2021-09-28T16:15:24.998700Z",
     "iopub.status.idle": "2021-09-28T16:15:25.004889Z",
     "shell.execute_reply": "2021-09-28T16:15:25.003722Z"
    }
   },
   "outputs": [
    {
     "data": {
      "text/plain": [
       "val add1 : zbarre -> zbarre = <fun>\n"
      ]
     },
     "execution_count": 6,
     "metadata": {},
     "output_type": "execute_result"
    },
    {
     "data": {
      "text/plain": [
       "- : zbarre = Entier 11\n"
      ]
     },
     "execution_count": 6,
     "metadata": {},
     "output_type": "execute_result"
    },
    {
     "data": {
      "text/plain": [
       "- : zbarre = Infini\n"
      ]
     },
     "execution_count": 6,
     "metadata": {},
     "output_type": "execute_result"
    }
   ],
   "source": [
    "let add1 n = match n with\n",
    "  | Infini -> Infini    \n",
    "  | MoinsInfini -> MoinsInfini\n",
    "  | Entier i -> Entier (i + 1);;\n",
    "\n",
    "add1 (Entier 10);;\n",
    "add1 Infini"
   ]
  },
  {
   "cell_type": "markdown",
   "metadata": {},
   "source": [
    "Écrivons une fonction pour additionner deux valeurs de type `zbarre`. Pour pouvoir utiliser un opérateur infixe, on peut définir (+!) ([liste de tous les symboles autorisés comme opérateur infixe](https://caml.inria.fr/pub/docs/manual-caml-light/node4.9.html)):"
   ]
  },
  {
   "cell_type": "code",
   "execution_count": 7,
   "metadata": {
    "execution": {
     "iopub.execute_input": "2021-09-28T16:15:25.006767Z",
     "iopub.status.busy": "2021-09-28T16:15:25.006236Z",
     "iopub.status.idle": "2021-09-28T16:15:25.012282Z",
     "shell.execute_reply": "2021-09-28T16:15:25.011827Z"
    }
   },
   "outputs": [
    {
     "data": {
      "text/plain": [
       "val ( +! ) : zbarre -> zbarre -> zbarre = <fun>\n"
      ]
     },
     "execution_count": 7,
     "metadata": {},
     "output_type": "execute_result"
    }
   ],
   "source": [
    "let (+!) n1 n2 = match n1, n2 with\n",
    "| Infini, Infini -> Infini\n",
    "| MoinsInfini, MoinsInfini -> MoinsInfini\n",
    "| Infini, Entier(_) | Entier(_), Infini  -> Infini\n",
    "| MoinsInfini, Entier(_) | Entier(_), MoinsInfini  -> MoinsInfini\n",
    "| _ -> failwith \"Indetermine\""
   ]
  },
  {
   "cell_type": "code",
   "execution_count": 8,
   "metadata": {
    "execution": {
     "iopub.execute_input": "2021-09-28T16:15:25.014061Z",
     "iopub.status.busy": "2021-09-28T16:15:25.013546Z",
     "iopub.status.idle": "2021-09-28T16:15:25.444868Z",
     "shell.execute_reply": "2021-09-28T16:15:25.444411Z"
    }
   },
   "outputs": [
    {
     "data": {
      "text/plain": [
       "- : zbarre = Infini\n"
      ]
     },
     "execution_count": 8,
     "metadata": {},
     "output_type": "execute_result"
    },
    {
     "ename": "error",
     "evalue": "runtime_error",
     "output_type": "error",
     "traceback": [
      "\u001b[31mException: Failure \"Indetermine\".\nRaised at file \"stdlib.ml\", line 29, characters 22-33\nCalled from file \"toplevel/toploop.ml\", line 208, characters 17-27\n\u001b[0m"
     ]
    }
   ],
   "source": [
    "Infini +! Infini;;\n",
    "Infini +! MoinsInfini"
   ]
  },
  {
   "cell_type": "markdown",
   "metadata": {},
   "source": [
    "**Exercice** : Définir `-!`, `*!`, `/!` pour des valeurs de type `zbarre`. Définir aussi `~-` qui permet d'avoir d'appliquer - sur un seul élément (opérateur unaire)."
   ]
  },
  {
   "cell_type": "markdown",
   "metadata": {},
   "source": [
    "Il est possible d'utiliser `'a` (n'importe quel type) pour un paramètre de constructeur, à condition de le mettre dans le `type`. Par exemple, on pourrait redéfinir `list` :"
   ]
  },
  {
   "cell_type": "code",
   "execution_count": 9,
   "metadata": {
    "execution": {
     "iopub.execute_input": "2021-09-28T16:15:25.446841Z",
     "iopub.status.busy": "2021-09-28T16:15:25.446317Z",
     "iopub.status.idle": "2021-09-28T16:15:25.448822Z",
     "shell.execute_reply": "2021-09-28T16:15:25.448387Z"
    }
   },
   "outputs": [
    {
     "data": {
      "text/plain": [
       "type 'a liste = Vide | Cons of 'a * 'a liste\n"
      ]
     },
     "execution_count": 9,
     "metadata": {},
     "output_type": "execute_result"
    }
   ],
   "source": [
    "type 'a liste = Vide | Cons of 'a * 'a liste"
   ]
  },
  {
   "cell_type": "markdown",
   "metadata": {},
   "source": [
    "`Cons` est alors un constructeur ayant comme paramètre un couple : premier élément de la liste et reste de la liste. "
   ]
  },
  {
   "cell_type": "code",
   "execution_count": 10,
   "metadata": {
    "execution": {
     "iopub.execute_input": "2021-09-28T16:15:25.450815Z",
     "iopub.status.busy": "2021-09-28T16:15:25.450244Z",
     "iopub.status.idle": "2021-09-28T16:15:25.452771Z",
     "shell.execute_reply": "2021-09-28T16:15:25.453174Z"
    }
   },
   "outputs": [
    {
     "data": {
      "text/plain": [
       "val l : int liste = Cons (1, Cons (2, Cons (3, Vide)))\n"
      ]
     },
     "execution_count": 10,
     "metadata": {},
     "output_type": "execute_result"
    }
   ],
   "source": [
    "let l = Cons(1, Cons(2, Cons(3, Vide))) (* équivalent de 1::2::3::[]) *)"
   ]
  },
  {
   "cell_type": "code",
   "execution_count": 11,
   "metadata": {
    "execution": {
     "iopub.execute_input": "2021-09-28T16:15:25.455305Z",
     "iopub.status.busy": "2021-09-28T16:15:25.454730Z",
     "iopub.status.idle": "2021-09-28T16:15:25.459357Z",
     "shell.execute_reply": "2021-09-28T16:15:25.458837Z"
    }
   },
   "outputs": [
    {
     "data": {
      "text/plain": [
       "val appartient : 'a -> 'a liste -> bool = <fun>\n"
      ]
     },
     "execution_count": 11,
     "metadata": {},
     "output_type": "execute_result"
    }
   ],
   "source": [
    "let rec appartient e l = match l with (* teste si e appartient à l *)\n",
    "  | Vide -> false\n",
    "  | Cons(x, q) -> x = e || appartient e q"
   ]
  },
  {
   "cell_type": "code",
   "execution_count": 12,
   "metadata": {
    "execution": {
     "iopub.execute_input": "2021-09-28T16:15:25.462060Z",
     "iopub.status.busy": "2021-09-28T16:15:25.461496Z",
     "iopub.status.idle": "2021-09-28T16:15:25.464249Z",
     "shell.execute_reply": "2021-09-28T16:15:25.463319Z"
    }
   },
   "outputs": [
    {
     "data": {
      "text/plain": [
       "type number = F of float | I of int\n"
      ]
     },
     "execution_count": 12,
     "metadata": {},
     "output_type": "execute_result"
    }
   ],
   "source": [
    "type number = F of float | I of int"
   ]
  },
  {
   "cell_type": "code",
   "execution_count": 13,
   "metadata": {
    "execution": {
     "iopub.execute_input": "2021-09-28T16:15:25.466030Z",
     "iopub.status.busy": "2021-09-28T16:15:25.465519Z",
     "iopub.status.idle": "2021-09-28T16:15:25.469978Z",
     "shell.execute_reply": "2021-09-28T16:15:25.470383Z"
    }
   },
   "outputs": [
    {
     "data": {
      "text/plain": [
       "val ( +@ ) : number -> number -> number = <fun>\n"
      ]
     },
     "execution_count": 13,
     "metadata": {},
     "output_type": "execute_result"
    }
   ],
   "source": [
    "let (+@) n1 n2 = match n1, n2 with\n",
    "    | F(f1), F(f2) -> F(f1 +. f2)\n",
    "    | I(n1), I(n2) -> I(n1 + n2)\n",
    "    | I(n1), F(n2) -> F(float_of_int n1 +. n2)\n",
    "    | F(n1), I(n2) -> F(n1 +. float_of_int n2)"
   ]
  },
  {
   "cell_type": "code",
   "execution_count": 14,
   "metadata": {
    "execution": {
     "iopub.execute_input": "2021-09-28T16:15:25.472131Z",
     "iopub.status.busy": "2021-09-28T16:15:25.471609Z",
     "iopub.status.idle": "2021-09-28T16:15:25.476414Z",
     "shell.execute_reply": "2021-09-28T16:15:25.476815Z"
    }
   },
   "outputs": [
    {
     "data": {
      "text/plain": [
       "- : number = F 104.885\n"
      ]
     },
     "execution_count": 14,
     "metadata": {},
     "output_type": "execute_result"
    }
   ],
   "source": [
    "let rec somme = function\n",
    "    | [] -> I(0)\n",
    "    | e::q -> e +@ somme q in\n",
    "    \n",
    "somme [F 3.14; I 2; I 98; F 1.745]"
   ]
  },
  {
   "cell_type": "markdown",
   "metadata": {},
   "source": [
    "## Type enregistrement (record)"
   ]
  },
  {
   "cell_type": "markdown",
   "metadata": {},
   "source": [
    "Alors qu'un type somme fait une disjonction (un \"ou\") de plusieurs types, un **type enregistrement (record)** permet d'avoir plusieurs types simultanément (un \"et\" de plusieurs types)."
   ]
  },
  {
   "cell_type": "code",
   "execution_count": 15,
   "metadata": {
    "execution": {
     "iopub.execute_input": "2021-09-28T16:15:25.478717Z",
     "iopub.status.busy": "2021-09-28T16:15:25.478201Z",
     "iopub.status.idle": "2021-09-28T16:15:25.481622Z",
     "shell.execute_reply": "2021-09-28T16:15:25.481195Z"
    }
   },
   "outputs": [
    {
     "data": {
      "text/plain": [
       "type fraction = { num : int; den : int; }\n"
      ]
     },
     "execution_count": 15,
     "metadata": {},
     "output_type": "execute_result"
    },
    {
     "data": {
      "text/plain": [
       "val x : fraction = {num = 3; den = 4}\n"
      ]
     },
     "execution_count": 15,
     "metadata": {},
     "output_type": "execute_result"
    }
   ],
   "source": [
    "type fraction = {num: int; den: int};; (* fraction composée d'un numérateur ET dénominateur *)\n",
    "let x = {num=3; den=4};; (* x représente la fraction 1/4 *)\n",
    "x.den  (* obtient la valeur du champ den de x *)"
   ]
  },
  {
   "cell_type": "markdown",
   "metadata": {},
   "source": [
    "`fraction` est un type très proche de `int*int`. La différence principale est que les composantes sont nommées dans un enregistrement mais pas dans un tuple.  \n",
    "Nous pouvons multiplier deux fractions :"
   ]
  },
  {
   "cell_type": "code",
   "execution_count": 16,
   "metadata": {
    "execution": {
     "iopub.execute_input": "2021-09-28T16:15:25.483963Z",
     "iopub.status.busy": "2021-09-28T16:15:25.483350Z",
     "iopub.status.idle": "2021-09-28T16:15:25.487084Z",
     "shell.execute_reply": "2021-09-28T16:15:25.486568Z"
    }
   },
   "outputs": [
    {
     "data": {
      "text/plain": [
       "val mult : fraction -> fraction -> fraction = <fun>\n"
      ]
     },
     "execution_count": 16,
     "metadata": {},
     "output_type": "execute_result"
    },
    {
     "data": {
      "text/plain": [
       "- : fraction = {num = 9; den = 16}\n"
      ]
     },
     "execution_count": 16,
     "metadata": {},
     "output_type": "execute_result"
    }
   ],
   "source": [
    "let mult x1 x2 = \n",
    "  {num=x1.num*x2.num; den=x1.den*x2.den};;\n",
    "\n",
    "  mult x x"
   ]
  },
  {
   "cell_type": "markdown",
   "metadata": {},
   "source": [
    "**Exercice** : Écrire une fonction pour additionner deux fractions."
   ]
  },
  {
   "cell_type": "markdown",
   "metadata": {},
   "source": [
    "**Exercice** : Écrire une fonction pour simplifier une fraction."
   ]
  },
  {
   "cell_type": "markdown",
   "metadata": {},
   "source": [
    "L'intérêt d'utiliser des fractions plutôt que des float est de faire des calculs exacts et non pas approchés."
   ]
  },
  {
   "cell_type": "markdown",
   "metadata": {},
   "source": [
    "### Tableau dynamique"
   ]
  },
  {
   "cell_type": "markdown",
   "metadata": {},
   "source": [
    "La taille $n$ d'un tableau est fixée à sa création. On voudrait lui rajouter un $n+1$ème élément.  \n",
    "- Idée 1: créer un nouveau tableau de taille $n + 1$ et recopier les éléments. Complexité: $O(n)$  \n",
    "- Idée 2 (**tableau dynamique**): \\pause créer un nouveau tableau de taille $2n$ et recopier les éléments.\n",
    "\t\tSi l'on réalise $n$ ajouts à partir d'un tableau de taille 1, il y a des recopies pour les tailles 1, 2, 4, ..., $2^{\\lfloor \\log_2(n) \\rfloor}$ et le nombre total de valeurs recopiées est $$\\sum_{k = 0}^{\\lfloor \\log_2(n) \\rfloor} 2^k = \\Theta(2^{\\lfloor \\log_2(n) \\rfloor}) = \\Theta(n)$$\n",
    "\t\tComplexité \\textbf{amortie} (moyenné sur $n$ opérations): \\pause \\g{O($1$)} \\\\\n",
    "\t\t(Une << list >> de Python est en fait un tableau dynamique!)\n",
    "\t\\end{enumerate}\n"
   ]
  },
  {
   "cell_type": "code",
   "execution_count": 17,
   "metadata": {
    "execution": {
     "iopub.execute_input": "2021-09-28T16:15:25.489122Z",
     "iopub.status.busy": "2021-09-28T16:15:25.488614Z",
     "iopub.status.idle": "2021-09-28T16:15:25.490914Z",
     "shell.execute_reply": "2021-09-28T16:15:25.490457Z"
    }
   },
   "outputs": [
    {
     "data": {
      "text/plain": [
       "type 'a dyn = { a : 'a array; size : int; }\n"
      ]
     },
     "execution_count": 17,
     "metadata": {},
     "output_type": "execute_result"
    }
   ],
   "source": [
    "type 'a dyn = {a: 'a array; size: int}"
   ]
  },
  {
   "cell_type": "code",
   "execution_count": 18,
   "metadata": {
    "execution": {
     "iopub.execute_input": "2021-09-28T16:15:25.493325Z",
     "iopub.status.busy": "2021-09-28T16:15:25.492740Z",
     "iopub.status.idle": "2021-09-28T16:15:25.496351Z",
     "shell.execute_reply": "2021-09-28T16:15:25.495786Z"
    }
   },
   "outputs": [
    {
     "data": {
      "text/plain": [
       "val d : int dyn = {a = [|1; 2; 3|]; size = 3}\n"
      ]
     },
     "execution_count": 18,
     "metadata": {},
     "output_type": "execute_result"
    }
   ],
   "source": [
    "let d  = {a=[|1; 2; 3|]; size=3}"
   ]
  },
  {
   "cell_type": "code",
   "execution_count": 19,
   "metadata": {
    "execution": {
     "iopub.execute_input": "2021-09-28T16:15:25.498691Z",
     "iopub.status.busy": "2021-09-28T16:15:25.497949Z",
     "iopub.status.idle": "2021-09-28T16:15:25.500757Z",
     "shell.execute_reply": "2021-09-28T16:15:25.500244Z"
    }
   },
   "outputs": [
    {
     "ename": "error",
     "evalue": "compile_error",
     "output_type": "error",
     "traceback": [
      "File \"[19]\", line 1, characters 0-18:\n1 | d.a <- [|4; 5; 6|]\n    ^^^^^^^^^^^^^^^^^^\nError: The record field a is not mutable\n"
     ]
    }
   ],
   "source": [
    "d.a <- [|4; 5; 6|]"
   ]
  },
  {
   "cell_type": "code",
   "execution_count": 20,
   "metadata": {
    "execution": {
     "iopub.execute_input": "2021-09-28T16:15:25.502835Z",
     "iopub.status.busy": "2021-09-28T16:15:25.502213Z",
     "iopub.status.idle": "2021-09-28T16:15:25.506517Z",
     "shell.execute_reply": "2021-09-28T16:15:25.506950Z"
    }
   },
   "outputs": [
    {
     "ename": "error",
     "evalue": "compile_error",
     "output_type": "error",
     "traceback": [
      "File \"[20]\", line 5, characters 6-7:\n5 | else (a.(size) <- e)\n          ^\nError: This expression has type matiere\n       but an expression was expected of type 'a array\n"
     ]
    }
   ],
   "source": [
    "let add d e = \n",
    "    if d.size = Array.length d.a \n",
    "    then let a' = Array.make (2*d.size) d.a.(0) in\n",
    "    {a = a'; size = 2*d.size}\n",
    "else (a.(size) <- e)"
   ]
  },
  {
   "cell_type": "code",
   "execution_count": 21,
   "metadata": {
    "execution": {
     "iopub.execute_input": "2021-09-28T16:15:25.508626Z",
     "iopub.status.busy": "2021-09-28T16:15:25.508121Z",
     "iopub.status.idle": "2021-09-28T16:15:25.513563Z",
     "shell.execute_reply": "2021-09-28T16:15:25.513128Z"
    }
   },
   "outputs": [
    {
     "data": {
      "text/plain": [
       "type complexe = { re : float; im : float; }\n"
      ]
     },
     "execution_count": 21,
     "metadata": {},
     "output_type": "execute_result"
    },
    {
     "data": {
      "text/plain": [
       "type polaire = { r : float; theta : float; }\n"
      ]
     },
     "execution_count": 21,
     "metadata": {},
     "output_type": "execute_result"
    }
   ],
   "source": [
    "type complexe = {re: float; im: float}\n",
    "type polaire = {r: float; theta: float}"
   ]
  },
  {
   "cell_type": "code",
   "execution_count": 22,
   "metadata": {
    "execution": {
     "iopub.execute_input": "2021-09-28T16:15:25.516261Z",
     "iopub.status.busy": "2021-09-28T16:15:25.515459Z",
     "iopub.status.idle": "2021-09-28T16:15:25.521595Z",
     "shell.execute_reply": "2021-09-28T16:15:25.521131Z"
    }
   },
   "outputs": [
    {
     "data": {
      "text/plain": [
       "val polaire_to_algebrique : polaire -> complexe = <fun>\n"
      ]
     },
     "execution_count": 22,
     "metadata": {},
     "output_type": "execute_result"
    },
    {
     "data": {
      "text/plain": [
       "- : complexe = {re = 0.000796326710733263345; im = 0.99999968293183461}\n"
      ]
     },
     "execution_count": 22,
     "metadata": {},
     "output_type": "execute_result"
    }
   ],
   "source": [
    "let polaire_to_algebrique z =\n",
    "    {re = z.r *. cos z.theta; im = z.r *. sin z.theta};;\n",
    "\n",
    "polaire_to_algebrique {r = 1.; theta = 3.14/.2.}"
   ]
  },
  {
   "cell_type": "code",
   "execution_count": null,
   "metadata": {},
   "outputs": [],
   "source": []
  }
 ],
 "metadata": {
  "kernelspec": {
   "display_name": "OCaml default",
   "language": "OCaml",
   "name": "ocaml-jupyter"
  },
  "language_info": {
   "codemirror_mode": "text/x-ocaml",
   "file_extension": ".ml",
   "mimetype": "text/x-ocaml",
   "name": "OCaml",
   "nbconverter_exporter": null,
   "pygments_lexer": "OCaml",
   "version": "4.08.1"
  }
 },
 "nbformat": 4,
 "nbformat_minor": 4
}

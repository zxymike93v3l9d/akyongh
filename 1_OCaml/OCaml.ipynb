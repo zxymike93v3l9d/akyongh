{
 "cells": [
  {
   "cell_type": "markdown",
   "id": "220f2a49",
   "metadata": {},
   "source": [
    "# Variables"
   ]
  },
  {
   "cell_type": "markdown",
   "id": "9ada2293",
   "metadata": {},
   "source": [
    "## Définition d'une variable\n",
    "\n",
    "Une variable possède 3 propriétés:  \n",
    "- un nom (exemple : `x`)  \n",
    "- une valeur (exemple : 42)  \n",
    "- un type (exemple : entier)\n",
    "\n",
    "En OCaml, on définit une variable de la façon suivante :\n",
    "```ocaml\n",
    "let variable = valeur\n",
    "```\n",
    "\n",
    "Par exemple, pour définir une variable `x` valant 42 :"
   ]
  },
  {
   "cell_type": "code",
   "execution_count": 1,
   "id": "bfe6bbb0",
   "metadata": {
    "execution": {
     "iopub.execute_input": "2021-09-09T12:14:51.440450Z",
     "iopub.status.busy": "2021-09-09T12:14:51.439886Z",
     "iopub.status.idle": "2021-09-09T12:14:51.442525Z",
     "shell.execute_reply": "2021-09-09T12:14:51.440988Z"
    },
    "tags": []
   },
   "outputs": [
    {
     "data": {
      "text/plain": [
       "val x : int = 42\n"
      ]
     },
     "execution_count": 1,
     "metadata": {},
     "output_type": "execute_result"
    }
   ],
   "source": [
    "let x = 42"
   ]
  },
  {
   "cell_type": "markdown",
   "id": "fa45ee3d",
   "metadata": {},
   "source": [
    "OCaml nous répond que `x` a pour valeur 42 et est de type `int` (*integer*, c'est à dire entier).\n",
    "La variable `x` est ici définie globalement, c'est à dire accessible partout dans ce notebook.\n",
    "\n",
    "On peut alors faire des calculs avec la valeur de `x` :"
   ]
  },
  {
   "cell_type": "code",
   "execution_count": 2,
   "id": "89d34b9b",
   "metadata": {
    "execution": {
     "iopub.execute_input": "2021-09-09T12:14:51.445196Z",
     "iopub.status.busy": "2021-09-09T12:14:51.444714Z",
     "iopub.status.idle": "2021-09-09T12:14:51.446440Z",
     "shell.execute_reply": "2021-09-09T12:14:51.447335Z"
    },
    "tags": []
   },
   "outputs": [
    {
     "data": {
      "text/plain": [
       "- : int = 124\n"
      ]
     },
     "execution_count": 2,
     "metadata": {},
     "output_type": "execute_result"
    }
   ],
   "source": [
    "3*x - 2 (* OCaml remplace x par 42 et fait le calcul *)"
   ]
  },
  {
   "cell_type": "markdown",
   "id": "59f8d11d",
   "metadata": {},
   "source": [
    "Il est possible d'avoir une expression (un calcul) à droite d'une définition :"
   ]
  },
  {
   "cell_type": "code",
   "execution_count": 3,
   "id": "d76a9ed6",
   "metadata": {
    "execution": {
     "iopub.execute_input": "2021-09-09T12:14:51.449357Z",
     "iopub.status.busy": "2021-09-09T12:14:51.448647Z",
     "iopub.status.idle": "2021-09-09T12:14:51.452022Z",
     "shell.execute_reply": "2021-09-09T12:14:51.451575Z"
    },
    "tags": []
   },
   "outputs": [
    {
     "data": {
      "text/plain": [
       "val a : int = 10\n"
      ]
     },
     "execution_count": 3,
     "metadata": {},
     "output_type": "execute_result"
    }
   ],
   "source": [
    "let a = 1 + 2 + 3 + 4 (* la valeur à droite de = est calculée puis mise dans a *)"
   ]
  },
  {
   "cell_type": "markdown",
   "id": "efa3a262",
   "metadata": {},
   "source": [
    "**Exercice** : définissez une variable $a$ égale à 752. Puis définissez une variable $b$ égale à $54a$.    \n",
    "Rappel : vous pouvez appuyer sur la touche B pour faire apparaître une case de code et répondre dedans. Ici vous pouvez utiliser deux cases, ou séparer les deux instructions avec ` ;;`."
   ]
  },
  {
   "cell_type": "code",
   "execution_count": 4,
   "id": "6317bbda",
   "metadata": {
    "execution": {
     "iopub.execute_input": "2021-09-09T12:14:51.454607Z",
     "iopub.status.busy": "2021-09-09T12:14:51.453246Z",
     "iopub.status.idle": "2021-09-09T12:14:51.456839Z",
     "shell.execute_reply": "2021-09-09T12:14:51.455790Z"
    },
    "tags": [
     "cor"
    ]
   },
   "outputs": [
    {
     "data": {
      "text/plain": [
       "val a : int = 752\n"
      ]
     },
     "execution_count": 4,
     "metadata": {},
     "output_type": "execute_result"
    },
    {
     "data": {
      "text/plain": [
       "val b : int = 40608\n"
      ]
     },
     "execution_count": 4,
     "metadata": {},
     "output_type": "execute_result"
    }
   ],
   "source": [
    "let a = 752;;\n",
    "let b = 54*a;;"
   ]
  },
  {
   "cell_type": "markdown",
   "id": "02a116b8",
   "metadata": {},
   "source": [
    "## Variables locales\n",
    "\n",
    "Il est possible de définir une variable locale en utilisant la forme `let y = ... in ...`  \n",
    "`y` existe est alors seulement dans le in (`...`)"
   ]
  },
  {
   "cell_type": "code",
   "execution_count": 5,
   "id": "eb3b0d38",
   "metadata": {
    "execution": {
     "iopub.execute_input": "2021-09-09T12:14:51.459047Z",
     "iopub.status.busy": "2021-09-09T12:14:51.458259Z",
     "iopub.status.idle": "2021-09-09T12:14:51.460628Z",
     "shell.execute_reply": "2021-09-09T12:14:51.460204Z"
    },
    "tags": []
   },
   "outputs": [
    {
     "data": {
      "text/plain": [
       "- : int = -1\n"
      ]
     },
     "execution_count": 5,
     "metadata": {},
     "output_type": "execute_result"
    }
   ],
   "source": [
    "let y = -1 in y (* y est accessible dans le in *)"
   ]
  },
  {
   "cell_type": "code",
   "execution_count": 6,
   "id": "329f9826",
   "metadata": {
    "execution": {
     "iopub.execute_input": "2021-09-09T12:14:51.462561Z",
     "iopub.status.busy": "2021-09-09T12:14:51.461863Z",
     "iopub.status.idle": "2021-09-09T12:14:51.464165Z",
     "shell.execute_reply": "2021-09-09T12:14:51.463142Z"
    },
    "tags": []
   },
   "outputs": [
    {
     "ename": "error",
     "evalue": "compile_error",
     "output_type": "error",
     "traceback": [
      "File \"[6]\", line 1, characters 0-1:\n1 | y (* utiliser y ici donne une erreur  *)\n    ^\nError: Unbound value y\n"
     ]
    }
   ],
   "source": [
    "y (* utiliser y ici donne une erreur  *)"
   ]
  },
  {
   "cell_type": "markdown",
   "id": "ea976cba",
   "metadata": {
    "tags": []
   },
   "source": [
    "**Exercice** : en utilisant `let ... in ... `, définissez une variable $a$ égale à $752$, puis définissez une variable $b$ égale à $54a$.    "
   ]
  },
  {
   "cell_type": "code",
   "execution_count": 7,
   "id": "75cc2d00",
   "metadata": {
    "execution": {
     "iopub.execute_input": "2021-09-09T12:14:51.466879Z",
     "iopub.status.busy": "2021-09-09T12:14:51.465448Z",
     "iopub.status.idle": "2021-09-09T12:14:51.468488Z",
     "shell.execute_reply": "2021-09-09T12:14:51.468054Z"
    },
    "tags": [
     "cor"
    ]
   },
   "outputs": [
    {
     "data": {
      "text/plain": [
       "- : int = 40608\n"
      ]
     },
     "execution_count": 7,
     "metadata": {},
     "output_type": "execute_result"
    }
   ],
   "source": [
    "let a = 752 in\n",
    "let b = 54*a in\n",
    "b"
   ]
  },
  {
   "cell_type": "markdown",
   "id": "2aea8159",
   "metadata": {},
   "source": [
    "**Remarque** Il est possible d'utiliser des parenthèses ou `begin ... end` pour délimiter le in :\n",
    "```ocaml\n",
    "let a = 3 in\n",
    "(\n",
    "...\n",
    ")\n",
    "```"
   ]
  },
  {
   "cell_type": "markdown",
   "id": "e84a39a3",
   "metadata": {
    "tags": []
   },
   "source": [
    "\n",
    "## Opérations numériques\n",
    "\n",
    "Nous avons déjà vu l'addition et la soustraction de 2 entiers. Il est aussi possible de multiplier :"
   ]
  },
  {
   "cell_type": "code",
   "execution_count": 8,
   "id": "7c924c15",
   "metadata": {
    "execution": {
     "iopub.execute_input": "2021-09-09T12:14:51.471699Z",
     "iopub.status.busy": "2021-09-09T12:14:51.470801Z",
     "iopub.status.idle": "2021-09-09T12:14:51.473354Z",
     "shell.execute_reply": "2021-09-09T12:14:51.472905Z"
    }
   },
   "outputs": [
    {
     "data": {
      "text/plain": [
       "- : int = 42\n"
      ]
     },
     "execution_count": 8,
     "metadata": {},
     "output_type": "execute_result"
    }
   ],
   "source": [
    "3 * 14"
   ]
  },
  {
   "cell_type": "markdown",
   "id": "1cbefc66",
   "metadata": {},
   "source": [
    "On peut effectuer la division **entière** (ou encore : [quotient de la division euclidienne](https://fr.wikipedia.org/wiki/Division_euclidienne)) de 2 entiers :"
   ]
  },
  {
   "cell_type": "code",
   "execution_count": 9,
   "id": "b8aa0cea",
   "metadata": {
    "execution": {
     "iopub.execute_input": "2021-09-09T12:14:51.475467Z",
     "iopub.status.busy": "2021-09-09T12:14:51.474564Z",
     "iopub.status.idle": "2021-09-09T12:14:51.477009Z",
     "shell.execute_reply": "2021-09-09T12:14:51.476590Z"
    }
   },
   "outputs": [
    {
     "data": {
      "text/plain": [
       "- : int = 1\n"
      ]
     },
     "execution_count": 9,
     "metadata": {},
     "output_type": "execute_result"
    }
   ],
   "source": [
    "3 / 2 (* division entière *)"
   ]
  },
  {
   "cell_type": "markdown",
   "id": "eb005d4a",
   "metadata": {},
   "source": [
    "La division entière de $x$ par $y$ est, par définition, la partie entière de $\\frac{x}{y}$.  \n",
    "Dans l'exemple ci-dessus, `3 / 2` est donc la partie entière de $\\frac{3}{2} = 1.5$, c'est à dire $1$. \n",
    "\n",
    "**Attention** : la division entière ` 3 / 2`  en OCaml correspond à ` 3 // 2 ` en Python."
   ]
  },
  {
   "cell_type": "markdown",
   "id": "b0edc1ec",
   "metadata": {},
   "source": [
    "En plus des entiers (`int`), OCaml permet de définir des nombres à virgules (`float`, pour flottant) :"
   ]
  },
  {
   "cell_type": "code",
   "execution_count": 10,
   "id": "f42ed5cd",
   "metadata": {
    "execution": {
     "iopub.execute_input": "2021-09-09T12:14:51.479510Z",
     "iopub.status.busy": "2021-09-09T12:14:51.478221Z",
     "iopub.status.idle": "2021-09-09T12:14:51.481066Z",
     "shell.execute_reply": "2021-09-09T12:14:51.480648Z"
    }
   },
   "outputs": [
    {
     "data": {
      "text/plain": [
       "val pi : float = 3.141592\n"
      ]
     },
     "execution_count": 10,
     "metadata": {},
     "output_type": "execute_result"
    }
   ],
   "source": [
    "let pi = 3.141592"
   ]
  },
  {
   "cell_type": "markdown",
   "id": "c02d497b",
   "metadata": {},
   "source": [
    "Les opérateurs d'addition, soustraction, multiplication, division doivent s'utiliser avec un `.` (point). Par exemple :"
   ]
  },
  {
   "cell_type": "code",
   "execution_count": 11,
   "id": "5401c6ea",
   "metadata": {
    "execution": {
     "iopub.execute_input": "2021-09-09T12:14:51.482706Z",
     "iopub.status.busy": "2021-09-09T12:14:51.482229Z",
     "iopub.status.idle": "2021-09-09T12:14:51.485226Z",
     "shell.execute_reply": "2021-09-09T12:14:51.484797Z"
    }
   },
   "outputs": [
    {
     "data": {
      "text/plain": [
       "- : float = 5.759592\n"
      ]
     },
     "execution_count": 11,
     "metadata": {},
     "output_type": "execute_result"
    }
   ],
   "source": [
    "pi +. 2.618 (* noter le . après + *)"
   ]
  },
  {
   "cell_type": "markdown",
   "id": "66a31c5f",
   "metadata": {},
   "source": [
    "**Attention** : c'est le point (.) et non pas la virgule qui est utilisé pour les flottants."
   ]
  },
  {
   "cell_type": "markdown",
   "id": "0edc854b",
   "metadata": {},
   "source": [
    "Il est possible de calculer $x^y$, où $x$ et $y$ sont des **flottants** avec `**` :"
   ]
  },
  {
   "cell_type": "code",
   "execution_count": 12,
   "id": "7e2c81cf",
   "metadata": {
    "execution": {
     "iopub.execute_input": "2021-09-09T12:14:51.488146Z",
     "iopub.status.busy": "2021-09-09T12:14:51.486435Z",
     "iopub.status.idle": "2021-09-09T12:14:51.489942Z",
     "shell.execute_reply": "2021-09-09T12:14:51.489449Z"
    }
   },
   "outputs": [
    {
     "data": {
      "text/plain": [
       "- : float = 23.0963461891915607\n"
      ]
     },
     "execution_count": 12,
     "metadata": {},
     "output_type": "execute_result"
    }
   ],
   "source": [
    "2.718 ** 3.14 (* x puissance y *)"
   ]
  },
  {
   "cell_type": "markdown",
   "id": "7a3c77af",
   "metadata": {},
   "source": [
    "Il n'est pas possible d'utiliser `**` sur des `int`. Par contre on peut utiliser 4.0 ou 4. au lieu de 4 pour avoir des flottants et utiliser `**` : "
   ]
  },
  {
   "cell_type": "code",
   "execution_count": 13,
   "id": "eb5d3af8",
   "metadata": {
    "execution": {
     "iopub.execute_input": "2021-09-09T12:14:51.491944Z",
     "iopub.status.busy": "2021-09-09T12:14:51.491168Z",
     "iopub.status.idle": "2021-09-09T12:14:51.493986Z",
     "shell.execute_reply": "2021-09-09T12:14:51.493563Z"
    }
   },
   "outputs": [
    {
     "data": {
      "text/plain": [
       "- : float = 1024.\n"
      ]
     },
     "execution_count": 13,
     "metadata": {},
     "output_type": "execute_result"
    }
   ],
   "source": [
    "2. ** 10."
   ]
  },
  {
   "cell_type": "markdown",
   "id": "568bdda4",
   "metadata": {},
   "source": [
    "**Exercice**\n",
    "1. Stocker la valeur $42^2$ dans une variable $a$, en utilisant `*`.\n",
    "2. En déduire la valeur de $42^4$.\n",
    "3. Calculer la valeur de $2^{10}$ en utilisant le moins de multiplications possibles."
   ]
  },
  {
   "cell_type": "code",
   "execution_count": 14,
   "id": "cd75a01e",
   "metadata": {
    "execution": {
     "iopub.execute_input": "2021-09-09T12:14:51.495638Z",
     "iopub.status.busy": "2021-09-09T12:14:51.495161Z",
     "iopub.status.idle": "2021-09-09T12:14:51.499557Z",
     "shell.execute_reply": "2021-09-09T12:14:51.499965Z"
    },
    "tags": [
     "cor"
    ]
   },
   "outputs": [
    {
     "data": {
      "text/plain": [
       "val a : int = 1764\n"
      ]
     },
     "execution_count": 14,
     "metadata": {},
     "output_type": "execute_result"
    }
   ],
   "source": [
    "(* 1. *) \n",
    "let a = 42*42;;\n",
    "\n",
    "\n",
    "(* 2. *)\n",
    "a*a;;\n",
    "\n",
    "(* 3. *)\n",
    "let deux_puiss_2 = 2*2 in\n",
    "let deux_puiss_4 = deux_puiss_2*deux_puiss_2 in\n",
    "let deux_puiss_8 = deux_puiss_4*deux_puiss_4 in\n",
    "deux_puiss_8 * deux_puiss_2;; (* calcul de 2 puissance 10 en 4 multiplications *)"
   ]
  },
  {
   "cell_type": "markdown",
   "id": "b6284cfc",
   "metadata": {},
   "source": [
    "**Exercice**\n",
    "\n",
    "1. Stocker dans 3 variables $a$, $b$, $c$ les valeurs 2, 5 et 3. On pourra utiliser let a, b, c = ..., ..., ... pour définir 3 variable simultanément. \n",
    "2. Stocker dans une variable $delta$ le discriminant de l'équation $ax^2 + bx + c = 0$.\n",
    "3. Calculer toutes les solutions de l'équation précédente."
   ]
  },
  {
   "cell_type": "code",
   "execution_count": 15,
   "id": "09f645c8",
   "metadata": {
    "execution": {
     "iopub.execute_input": "2021-09-09T12:14:51.502301Z",
     "iopub.status.busy": "2021-09-09T12:14:51.501830Z",
     "iopub.status.idle": "2021-09-09T12:14:51.505200Z",
     "shell.execute_reply": "2021-09-09T12:14:51.504779Z"
    },
    "tags": [
     "cor"
    ]
   },
   "outputs": [
    {
     "data": {
      "text/plain": [
       "val a : float = 2.\n",
       "val b : float = 6.\n",
       "val c : float = 3.\n"
      ]
     },
     "execution_count": 15,
     "metadata": {},
     "output_type": "execute_result"
    }
   ],
   "source": [
    "(* 1. *)\n",
    "let a, b, c = 2., 6., 3.;;"
   ]
  },
  {
   "cell_type": "code",
   "execution_count": 16,
   "id": "6b8c34db",
   "metadata": {
    "execution": {
     "iopub.execute_input": "2021-09-09T12:14:51.506818Z",
     "iopub.status.busy": "2021-09-09T12:14:51.506340Z",
     "iopub.status.idle": "2021-09-09T12:14:51.509143Z",
     "shell.execute_reply": "2021-09-09T12:14:51.508518Z"
    },
    "tags": [
     "cor"
    ]
   },
   "outputs": [
    {
     "data": {
      "text/plain": [
       "val delta : float = 12.\n"
      ]
     },
     "execution_count": 16,
     "metadata": {},
     "output_type": "execute_result"
    }
   ],
   "source": [
    "(* 2. *)\n",
    "let delta = b**2. -. 4.*.a*.c;;"
   ]
  },
  {
   "cell_type": "code",
   "execution_count": 17,
   "id": "be4d716c",
   "metadata": {
    "execution": {
     "iopub.execute_input": "2021-09-09T12:14:51.510951Z",
     "iopub.status.busy": "2021-09-09T12:14:51.510468Z",
     "iopub.status.idle": "2021-09-09T12:14:51.514441Z",
     "shell.execute_reply": "2021-09-09T12:14:51.514838Z"
    },
    "tags": [
     "cor"
    ]
   },
   "outputs": [
    {
     "data": {
      "text/plain": [
       "- : float = -2.36602540378443837\n"
      ]
     },
     "execution_count": 17,
     "metadata": {},
     "output_type": "execute_result"
    },
    {
     "data": {
      "text/plain": [
       "- : float = -0.633974596215561403\n"
      ]
     },
     "execution_count": 17,
     "metadata": {},
     "output_type": "execute_result"
    }
   ],
   "source": [
    "(* 3. Le discriminant étant positif, il y a deux solutions égales à : *)\n",
    "(-.b -. sqrt delta)/.(2.*.a);;\n",
    "(-.b +. sqrt delta)/.(2.*.a);;"
   ]
  },
  {
   "cell_type": "markdown",
   "id": "02b73139",
   "metadata": {},
   "source": [
    "Une autre opération importante est le **modulo** (ou : [reste de la division euclidienne](https://fr.wikipedia.org/wiki/Division_euclidienne)) de 2 entiers `a` et `b`, notée `a mod b` en OCaml. Mathématiquement, il s'agit de l'entier $r$ vérifiant :\n",
    "$$a = bq + r$$\n",
    "$$0 \\leq r < b$$\n",
    "\n",
    "($q$ est le quotient, égal à `a / b` en OCaml)  \n",
    "Cette opération `mod` sert notamment à tester la divisibilité : `a` est divisible par `b` si et seulement si `a mod b = 0`."
   ]
  },
  {
   "cell_type": "markdown",
   "id": "205f62d9",
   "metadata": {},
   "source": [
    "**Exercice** : Est-ce que 527 est divisible par 17?"
   ]
  },
  {
   "cell_type": "code",
   "execution_count": 18,
   "id": "ce3050d2",
   "metadata": {
    "execution": {
     "iopub.execute_input": "2021-09-09T12:14:51.516505Z",
     "iopub.status.busy": "2021-09-09T12:14:51.516025Z",
     "iopub.status.idle": "2021-09-09T12:14:51.517713Z",
     "shell.execute_reply": "2021-09-09T12:14:51.518107Z"
    },
    "tags": [
     "cor"
    ]
   },
   "outputs": [
    {
     "data": {
      "text/plain": [
       "- : int = 0\n"
      ]
     },
     "execution_count": 18,
     "metadata": {},
     "output_type": "execute_result"
    }
   ],
   "source": [
    "527 mod 17 (* c'est égal à 0 donc 17 divise bien 527 *)"
   ]
  },
  {
   "cell_type": "markdown",
   "id": "92fe3c0c",
   "metadata": {},
   "source": [
    "## Overflow\n",
    "\n",
    "L'ordinateur stocke toutes les variables dans la mémoire RAM de l'ordinateur, en binaire (suite de 0 et de 1). Comme la mémoire RAM sur un ordinateur n'est pas infinie, on ne peut pas stocker des nombres de taille arbitraire.  \n",
    "`max_int` est le plus grand entier que l'on peut stocker dans une variable :"
   ]
  },
  {
   "cell_type": "code",
   "execution_count": 19,
   "id": "788274dc",
   "metadata": {
    "execution": {
     "iopub.execute_input": "2021-09-09T12:14:51.519844Z",
     "iopub.status.busy": "2021-09-09T12:14:51.519347Z",
     "iopub.status.idle": "2021-09-09T12:14:51.521530Z",
     "shell.execute_reply": "2021-09-09T12:14:51.521088Z"
    }
   },
   "outputs": [
    {
     "data": {
      "text/plain": [
       "- : int = 4611686018427387903\n"
      ]
     },
     "execution_count": 19,
     "metadata": {},
     "output_type": "execute_result"
    }
   ],
   "source": [
    "max_int"
   ]
  },
  {
   "cell_type": "markdown",
   "id": "95a18cc2",
   "metadata": {},
   "source": [
    "Si on dépasse cet entier (ce qu'on appelle **integer overflow**), on tombe sur le plus petit entier représentable :"
   ]
  },
  {
   "cell_type": "code",
   "execution_count": 20,
   "id": "c57d090e",
   "metadata": {
    "execution": {
     "iopub.execute_input": "2021-09-09T12:14:51.523133Z",
     "iopub.status.busy": "2021-09-09T12:14:51.522649Z",
     "iopub.status.idle": "2021-09-09T12:14:51.524346Z",
     "shell.execute_reply": "2021-09-09T12:14:51.524739Z"
    },
    "tags": []
   },
   "outputs": [
    {
     "data": {
      "text/plain": [
       "- : int = -4611686018427387904\n"
      ]
     },
     "execution_count": 20,
     "metadata": {},
     "output_type": "execute_result"
    }
   ],
   "source": [
    "max_int + 1"
   ]
  },
  {
   "cell_type": "markdown",
   "id": "16dd0072",
   "metadata": {},
   "source": [
    "Le dépassement d'entier est une source fréquente de bug, qui a causé par exemple le [crash de la fusée Ariane 5](https://fr.wikipedia.org/wiki/Vol_501_d%27Ariane_5)."
   ]
  },
  {
   "cell_type": "markdown",
   "id": "baeadd19",
   "metadata": {},
   "source": [
    "Les float sont également limités :"
   ]
  },
  {
   "cell_type": "code",
   "execution_count": 21,
   "id": "d6eab16b",
   "metadata": {
    "execution": {
     "iopub.execute_input": "2021-09-09T12:14:51.526386Z",
     "iopub.status.busy": "2021-09-09T12:14:51.525914Z",
     "iopub.status.idle": "2021-09-09T12:14:51.527920Z",
     "shell.execute_reply": "2021-09-09T12:14:51.527492Z"
    }
   },
   "outputs": [
    {
     "data": {
      "text/plain": [
       "- : float = 1.79769313486231571e+308\n"
      ]
     },
     "execution_count": 21,
     "metadata": {},
     "output_type": "execute_result"
    }
   ],
   "source": [
    "max_float"
   ]
  },
  {
   "cell_type": "markdown",
   "id": "e7a54e90",
   "metadata": {},
   "source": [
    "Les flottants sont codées suivant la norme [IEEE754](https://fr.wikipedia.org/wiki/IEEE_754) sous la forme scientifique en utilisant 64 bits (sur un processeur 64 bits) dont 52 bits pour les chiffres après la virgule.  \n",
    "La précision des flottants est donc limitée : par exemple, on ne peut pas stocker $\\sqrt{2}$ ou $\\pi$ de façon exacte sur l'ordinateur puisqu'il s'agit de nombres irrationnels (c'est à dire avec une infinité de décimales, qui ne se répètent pas).  "
   ]
  },
  {
   "cell_type": "code",
   "execution_count": 22,
   "id": "31898265",
   "metadata": {
    "execution": {
     "iopub.execute_input": "2021-09-09T12:14:51.530201Z",
     "iopub.status.busy": "2021-09-09T12:14:51.529037Z",
     "iopub.status.idle": "2021-09-09T12:14:51.531774Z",
     "shell.execute_reply": "2021-09-09T12:14:51.532210Z"
    }
   },
   "outputs": [
    {
     "data": {
      "text/plain": [
       "- : float = 1.41421356237309515\n"
      ]
     },
     "execution_count": 22,
     "metadata": {},
     "output_type": "execute_result"
    }
   ],
   "source": [
    "2.**0.5 (* seulement une partie des décimales est stockée *)"
   ]
  },
  {
   "cell_type": "code",
   "execution_count": 23,
   "id": "4df5d80a",
   "metadata": {
    "execution": {
     "iopub.execute_input": "2021-09-09T12:14:51.533783Z",
     "iopub.status.busy": "2021-09-09T12:14:51.533285Z",
     "iopub.status.idle": "2021-09-09T12:14:51.535591Z",
     "shell.execute_reply": "2021-09-09T12:14:51.536006Z"
    }
   },
   "outputs": [
    {
     "data": {
      "text/plain": [
       "- : float = 2.00000000000000044\n"
      ]
     },
     "execution_count": 23,
     "metadata": {},
     "output_type": "execute_result"
    }
   ],
   "source": [
    "(2.**0.5)**2.0  (* ne donne pas 2.0 à cause des erreurs d'arrondis *)"
   ]
  },
  {
   "cell_type": "markdown",
   "id": "da635f7b",
   "metadata": {},
   "source": [
    "Le calcul de $\\sqrt 2$ par OCaml s'arrête à la 16ème décimale (ce qui correspond à 52 bits après la virgules, puisque $2^{-52}$ est du même ordre de grandeur que $10^{-16}$). Ce nombre $2^{-52}$ est appelé **epsilon machine**."
   ]
  },
  {
   "cell_type": "markdown",
   "id": "04cca671",
   "metadata": {},
   "source": [
    "Autre exemple :"
   ]
  },
  {
   "cell_type": "code",
   "execution_count": 24,
   "id": "1723f8cc",
   "metadata": {
    "execution": {
     "iopub.execute_input": "2021-09-09T12:14:51.537722Z",
     "iopub.status.busy": "2021-09-09T12:14:51.537228Z",
     "iopub.status.idle": "2021-09-09T12:14:51.538898Z",
     "shell.execute_reply": "2021-09-09T12:14:51.539388Z"
    }
   },
   "outputs": [
    {
     "data": {
      "text/plain": [
       "- : float = 0.300000000000000044\n"
      ]
     },
     "execution_count": 24,
     "metadata": {},
     "output_type": "execute_result"
    }
   ],
   "source": [
    "0.1 +. 0.2  (* ne donne pas 0.3 *)"
   ]
  },
  {
   "cell_type": "markdown",
   "id": "def768b9",
   "metadata": {},
   "source": [
    "`O.1` n'étant pas représentable de façon exacte en base 2, il est tronqué et engendre des erreurs d'arrondis."
   ]
  },
  {
   "cell_type": "markdown",
   "id": "74df4f55",
   "metadata": {},
   "source": [
    "La plus grande valeur de l'exposant est 1023 :"
   ]
  },
  {
   "cell_type": "code",
   "execution_count": 25,
   "id": "da8a8cc1",
   "metadata": {
    "execution": {
     "iopub.execute_input": "2021-09-09T12:14:51.541116Z",
     "iopub.status.busy": "2021-09-09T12:14:51.540601Z",
     "iopub.status.idle": "2021-09-09T12:14:51.542881Z",
     "shell.execute_reply": "2021-09-09T12:14:51.543424Z"
    }
   },
   "outputs": [
    {
     "data": {
      "text/plain": [
       "- : float = 8.98846567431158e+307\n"
      ]
     },
     "execution_count": 25,
     "metadata": {},
     "output_type": "execute_result"
    }
   ],
   "source": [
    "2.**1023."
   ]
  },
  {
   "cell_type": "code",
   "execution_count": 26,
   "id": "5763be0c",
   "metadata": {
    "execution": {
     "iopub.execute_input": "2021-09-09T12:14:51.545004Z",
     "iopub.status.busy": "2021-09-09T12:14:51.544531Z",
     "iopub.status.idle": "2021-09-09T12:14:51.546188Z",
     "shell.execute_reply": "2021-09-09T12:14:51.546576Z"
    }
   },
   "outputs": [
    {
     "data": {
      "text/plain": [
       "- : float = infinity\n"
      ]
     },
     "execution_count": 26,
     "metadata": {},
     "output_type": "execute_result"
    }
   ],
   "source": [
    "2.**1024."
   ]
  },
  {
   "cell_type": "markdown",
   "id": "e13299b2",
   "metadata": {
    "tags": []
   },
   "source": [
    "## Unit\n",
    "\n",
    "Il existe une valeur spéciale `()` qui signifie \"rien\" (un peu comme le None de Python). Le type de `()` est `unit`. Par exemple, afficher un entier avec `print_int` fait un effet de bord (affichage sur l'écran) mais ne renvoie pas de valeur :"
   ]
  },
  {
   "cell_type": "code",
   "execution_count": 27,
   "id": "feff36be",
   "metadata": {
    "execution": {
     "iopub.execute_input": "2021-09-09T12:14:51.548168Z",
     "iopub.status.busy": "2021-09-09T12:14:51.547697Z",
     "iopub.status.idle": "2021-09-09T12:14:51.549642Z",
     "shell.execute_reply": "2021-09-09T12:14:51.550055Z"
    }
   },
   "outputs": [
    {
     "data": {
      "text/plain": [
       "- : unit = ()\n"
      ]
     },
     "execution_count": 27,
     "metadata": {},
     "output_type": "execute_result"
    }
   ],
   "source": [
    "print_int 42"
   ]
  },
  {
   "cell_type": "markdown",
   "id": "3098d618",
   "metadata": {},
   "source": [
    "Pour que le résultat s'affiche, il faut revenir à la ligne avec `print_newline` :"
   ]
  },
  {
   "cell_type": "code",
   "execution_count": 28,
   "id": "0b221cf8",
   "metadata": {
    "execution": {
     "iopub.execute_input": "2021-09-09T12:14:51.551724Z",
     "iopub.status.busy": "2021-09-09T12:14:51.551191Z",
     "iopub.status.idle": "2021-09-09T12:14:51.553001Z",
     "shell.execute_reply": "2021-09-09T12:14:51.553370Z"
    }
   },
   "outputs": [
    {
     "data": {
      "text/plain": [
       "- : unit = ()\n"
      ]
     },
     "execution_count": 28,
     "metadata": {},
     "output_type": "execute_result"
    }
   ],
   "source": [
    "print_newline ()"
   ]
  },
  {
   "cell_type": "markdown",
   "id": "5b8e5f69",
   "metadata": {},
   "source": [
    "On verra dans un prochain cours le fonctionnement plus détaillé de `print_newline`."
   ]
  },
  {
   "cell_type": "markdown",
   "id": "3d7698ba",
   "metadata": {},
   "source": [
    "Il aurait été possible de combiner ces deux instructions avec `;`, qui permet d'exécuter consécutivement plusieurs instructions :"
   ]
  },
  {
   "cell_type": "code",
   "execution_count": 29,
   "id": "60ed75c4",
   "metadata": {
    "execution": {
     "iopub.execute_input": "2021-09-09T12:14:51.555433Z",
     "iopub.status.busy": "2021-09-09T12:14:51.554965Z",
     "iopub.status.idle": "2021-09-09T12:14:51.556639Z",
     "shell.execute_reply": "2021-09-09T12:14:51.557050Z"
    }
   },
   "outputs": [
    {
     "data": {
      "text/plain": [
       "- : unit = ()\n"
      ]
     },
     "execution_count": 29,
     "metadata": {},
     "output_type": "execute_result"
    }
   ],
   "source": [
    "print_int 31;\n",
    "print_newline ()"
   ]
  },
  {
   "cell_type": "markdown",
   "id": "54080a94",
   "metadata": {},
   "source": [
    "`;;` est similaire à `;`, mais permet de séparer complètement plusieurs instructions, ce qui signifie que les variables définies avec `in` ne sont plus accessibles :"
   ]
  },
  {
   "cell_type": "code",
   "execution_count": 30,
   "id": "c3685b2b",
   "metadata": {
    "execution": {
     "iopub.execute_input": "2021-09-09T12:14:51.559225Z",
     "iopub.status.busy": "2021-09-09T12:14:51.558697Z",
     "iopub.status.idle": "2021-09-09T12:14:51.560617Z",
     "shell.execute_reply": "2021-09-09T12:14:51.561057Z"
    }
   },
   "outputs": [
    {
     "data": {
      "text/plain": [
       "- : int = 3\n"
      ]
     },
     "execution_count": 30,
     "metadata": {},
     "output_type": "execute_result"
    }
   ],
   "source": [
    "let a = 3 in\n",
    "print_int a;\n",
    "a (* a reste accessible : il est toujours dans le in *)"
   ]
  },
  {
   "cell_type": "code",
   "execution_count": 31,
   "id": "1e67cfd3",
   "metadata": {
    "execution": {
     "iopub.execute_input": "2021-09-09T12:14:51.562671Z",
     "iopub.status.busy": "2021-09-09T12:14:51.562199Z",
     "iopub.status.idle": "2021-09-09T12:14:51.564324Z",
     "shell.execute_reply": "2021-09-09T12:14:51.564715Z"
    }
   },
   "outputs": [
    {
     "data": {
      "text/plain": [
       "- : unit = ()\n"
      ]
     },
     "execution_count": 31,
     "metadata": {},
     "output_type": "execute_result"
    }
   ],
   "source": [
    "let a = 3 in\n",
    "print_int a;;\n",
    "a;; (* a n'est pas accessible ici *)"
   ]
  },
  {
   "cell_type": "markdown",
   "id": "86f50d93",
   "metadata": {
    "tags": []
   },
   "source": [
    "## Présentation du code\n",
    "\n",
    "Contrairement à Python, l'indentation du code n'a pas d'importance en OCaml. En effet les espaces et sauts de lignes sont ignorés :"
   ]
  },
  {
   "cell_type": "code",
   "execution_count": 32,
   "id": "9963eab2",
   "metadata": {
    "execution": {
     "iopub.execute_input": "2021-09-09T12:14:51.566586Z",
     "iopub.status.busy": "2021-09-09T12:14:51.566113Z",
     "iopub.status.idle": "2021-09-09T12:14:51.568294Z",
     "shell.execute_reply": "2021-09-09T12:14:51.567791Z"
    }
   },
   "outputs": [
    {
     "data": {
      "text/plain": [
       "val a : int = 6\n"
      ]
     },
     "execution_count": 32,
     "metadata": {},
     "output_type": "execute_result"
    }
   ],
   "source": [
    "let a \n",
    "  = \n",
    "      6 (* indentation n'importe comment *)"
   ]
  },
  {
   "cell_type": "markdown",
   "id": "b7a6f658",
   "metadata": {},
   "source": [
    "On veillera toutefois à écrire du code aussi clair et lisible que possible."
   ]
  },
  {
   "cell_type": "markdown",
   "id": "15c2f7ab",
   "metadata": {},
   "source": [
    "## Réferences\n",
    "\n",
    "Contrairement à ce que son nom l'indique, une variable définie comme on l'a fait jusqu'à maintenant est en fait... **constante** :"
   ]
  },
  {
   "cell_type": "code",
   "execution_count": 33,
   "id": "24df7dd1",
   "metadata": {
    "execution": {
     "iopub.execute_input": "2021-09-09T12:14:51.570450Z",
     "iopub.status.busy": "2021-09-09T12:14:51.569894Z",
     "iopub.status.idle": "2021-09-09T12:14:51.575021Z",
     "shell.execute_reply": "2021-09-09T12:14:51.575412Z"
    }
   },
   "outputs": [
    {
     "data": {
      "text/plain": [
       "val x : int = 3\n"
      ]
     },
     "execution_count": 33,
     "metadata": {},
     "output_type": "execute_result"
    }
   ],
   "source": [
    "let x = 3;;\n",
    "x = 4;; (* ceci ne MODIFIE pas x, mais teste si la valeur de x est 4 *)\n",
    "x;; (* x vaut toujours 3 : il ne peut pas être modifié *)"
   ]
  },
  {
   "cell_type": "markdown",
   "id": "adb42820",
   "metadata": {},
   "source": [
    "Pour pouvoir modifier une variable, on peut utiliser une **référence**.\n",
    "Pour définir une référence on utilise `ref` :\n",
    "```ocaml\n",
    "let variable = ref valeur (* définition d'une référence *)\n",
    "```\n",
    "Pour modifier une référence on utilise `:=` :\n",
    "```ocaml\n",
    "variable := valeur (* modification d'une référence *)\n",
    "```\n",
    "Pour obtenir la valeur d'une référence on utilise `!` :\n",
    "```ocaml\n",
    "!variable (* donne la valeur d'une référence *)\n",
    "```"
   ]
  },
  {
   "cell_type": "code",
   "execution_count": 34,
   "id": "ce368341",
   "metadata": {
    "execution": {
     "iopub.execute_input": "2021-09-09T12:14:51.577779Z",
     "iopub.status.busy": "2021-09-09T12:14:51.577248Z",
     "iopub.status.idle": "2021-09-09T12:14:51.581114Z",
     "shell.execute_reply": "2021-09-09T12:14:51.581592Z"
    },
    "tags": []
   },
   "outputs": [
    {
     "data": {
      "text/plain": [
       "val x : int ref = {contents = 3}\n"
      ]
     },
     "execution_count": 34,
     "metadata": {},
     "output_type": "execute_result"
    },
    {
     "data": {
      "text/plain": [
       "- : unit = ()\n"
      ]
     },
     "execution_count": 34,
     "metadata": {},
     "output_type": "execute_result"
    },
    {
     "data": {
      "text/plain": [
       "- : int = 4\n"
      ]
     },
     "execution_count": 34,
     "metadata": {},
     "output_type": "execute_result"
    }
   ],
   "source": [
    "let x = ref 3;; (* définie une variable x qui \"pointe\" vers un emplacement mémoire contenant 3 *)\n",
    "x := 4;; (* modifie la valeur pointé par x avec := *)\n",
    "!x;; (* la valeur a bien été modifiée *)"
   ]
  },
  {
   "cell_type": "markdown",
   "id": "cda9a2c8",
   "metadata": {},
   "source": [
    "On remarque que l'instruction `x := 4` a pour valeur de retour `()` : c'est un effet de bord qui modifie `x` mais ne renvoie pas de résultat."
   ]
  },
  {
   "cell_type": "markdown",
   "id": "abb7f404-b0c5-4d59-b9e6-d4363376bc6b",
   "metadata": {},
   "source": [
    "Une référence `a` stocke en fait une adresse mémoire. La valeur de `a` est stockée dans cette adresse mémoire (et c'est cette valeur qui est modifiée avec `a := ...`).  \n",
    "**Remarque** : on reverra cette idée avec les pointeurs en C.\n",
    "\n",
    "\\begin{figure} \n\\centering \n\\includegraphics[width=300pt]{img/ref.drawio.png} \n\\end{figure}"
   ]
  },
  {
   "cell_type": "markdown",
   "id": "b75bf5ae",
   "metadata": {},
   "source": [
    "**Exercice** : Que valent `!x` et `!y` après avoir exécuté le bout de code suivant? À quoi sert ce code?\n",
    "```ocaml\n",
    "let x = ref 5;;\n",
    "let y = ref 27;;\n",
    "x := !x + !y;\n",
    "y := !x - !y;\n",
    "x := !x - !y\n",
    "```"
   ]
  },
  {
   "cell_type": "code",
   "execution_count": 35,
   "id": "9e13cabe",
   "metadata": {
    "execution": {
     "iopub.execute_input": "2021-09-09T12:14:51.583516Z",
     "iopub.status.busy": "2021-09-09T12:14:51.582982Z",
     "iopub.status.idle": "2021-09-09T12:14:51.591468Z",
     "shell.execute_reply": "2021-09-09T12:14:51.590982Z"
    },
    "tags": [
     "cor"
    ]
   },
   "outputs": [
    {
     "data": {
      "text/plain": [
       "- : int * int = (27, 5)\n"
      ]
     },
     "execution_count": 35,
     "metadata": {},
     "output_type": "execute_result"
    }
   ],
   "source": [
    "let x = ref 5 in\n",
    "let y = ref 27 in\n",
    "x := !x + !y;\n",
    "y := !x - !y;\n",
    "x := !x - !y;\n",
    "!x, !y;; (* x vaut 27, y vaut 5 : ce bout de code échange les valeurs de x et y *)"
   ]
  },
  {
   "cell_type": "markdown",
   "id": "45e2f5da",
   "metadata": {},
   "source": [
    "**Remarque** : utiliser des `ref` rend souvent le code plus compliqué, on n'en utilisera que lorsque c'est nécessaire."
   ]
  },
  {
   "cell_type": "markdown",
   "id": "15353ddd",
   "metadata": {},
   "source": [
    "# Fonctions"
   ]
  },
  {
   "cell_type": "markdown",
   "id": "b5c9960e",
   "metadata": {},
   "source": [
    "## Utiliser une fonction\n",
    "\n",
    "OCaml est un langage fonctionnel, ce qui signifie que :\n",
    "- les fonctions y occupent une place importante et peuvent être manipulées un peu comme des variables\n",
    "- les fonctions sont censées ne pas effectuer d'effet de bord, c'est à dire d'action sur l'extérieur de la fonction (pas de modification de variable globale, pas d'écriture dans un fichier...)\n",
    "\n",
    "Pour utiliser une fonction `f` sur une valeur `x`, on écrira simplement `f x` (et non pas `f(x)`).  \n",
    "\n",
    "Un certain nombre de fonctions sont déjà définies en OCaml. Par exemple, la racine carrée : "
   ]
  },
  {
   "cell_type": "code",
   "execution_count": 1,
   "id": "a2c077f6",
   "metadata": {
    "execution": {
     "iopub.execute_input": "2021-09-09T12:09:09.097567Z",
     "iopub.status.busy": "2021-09-09T12:09:09.096833Z",
     "iopub.status.idle": "2021-09-09T12:09:09.100244Z",
     "shell.execute_reply": "2021-09-09T12:09:09.099753Z"
    },
    "tags": []
   },
   "outputs": [
    {
     "data": {
      "text/plain": [
       "- : float = 1.41421356237309515\n"
      ]
     },
     "execution_count": 1,
     "metadata": {},
     "output_type": "execute_result"
    }
   ],
   "source": [
    "sqrt 2.0 (* renvoie une approximation de racine de 2 *)"
   ]
  },
  {
   "cell_type": "markdown",
   "id": "6990ff53",
   "metadata": {},
   "source": [
    "Chaque fonction possède une **signature**, qui donne les types des paramètres (valeurs en entrée de la fonction) et le type de la valeur de retour."
   ]
  },
  {
   "cell_type": "code",
   "execution_count": 2,
   "id": "e8a8a0e2",
   "metadata": {
    "execution": {
     "iopub.execute_input": "2021-09-09T12:09:09.104295Z",
     "iopub.status.busy": "2021-09-09T12:09:09.103895Z",
     "iopub.status.idle": "2021-09-09T12:09:09.105960Z",
     "shell.execute_reply": "2021-09-09T12:09:09.105621Z"
    },
    "tags": []
   },
   "outputs": [
    {
     "data": {
      "text/plain": [
       "- : float -> float = <fun>\n"
      ]
     },
     "execution_count": 2,
     "metadata": {},
     "output_type": "execute_result"
    }
   ],
   "source": [
    "sqrt"
   ]
  },
  {
   "cell_type": "markdown",
   "id": "28f0c1cc",
   "metadata": {},
   "source": [
    "`float -> float` signifie que `sqrt` est une fonction qui prend un flottant en entrée et renvoie un flottant. On ne peut donc pas l'appliquer sur un entier :"
   ]
  },
  {
   "cell_type": "code",
   "execution_count": 3,
   "id": "a38ab0e9",
   "metadata": {
    "execution": {
     "iopub.execute_input": "2021-09-09T12:09:09.107485Z",
     "iopub.status.busy": "2021-09-09T12:09:09.107086Z",
     "iopub.status.idle": "2021-09-09T12:09:09.108858Z",
     "shell.execute_reply": "2021-09-09T12:09:09.109187Z"
    },
    "tags": []
   },
   "outputs": [
    {
     "ename": "error",
     "evalue": "compile_error",
     "output_type": "error",
     "traceback": [
      "File \"[3]\", line 1, characters 5-6:\n1 | sqrt 2 (* erreur : on donne un entier à sqrt qui attend un flottant *)\n         ^\nError: This expression has type int but an expression was expected of type\n         float\n"
     ]
    }
   ],
   "source": [
    "sqrt 2 (* erreur : on donne un entier à sqrt qui attend un flottant *)"
   ]
  },
  {
   "cell_type": "markdown",
   "id": "b7de4cf2",
   "metadata": {},
   "source": [
    "## Définir une fonction"
   ]
  },
  {
   "cell_type": "markdown",
   "id": "cc7066d4",
   "metadata": {},
   "source": [
    "En OCaml, une fonction se définie de la façon suivante :\n",
    "```ocaml\n",
    "let nom_fonction nom_argument = ... \n",
    "```\n",
    "où `...` est le corps de la fonction, c'est à dire ce qui est exécuté lorsqu'on utilise la fonction. \n",
    "\n",
    "**La valeur renvoyée par la fonction est celle de la dernière instruction (pas besoin de `return`)**."
   ]
  },
  {
   "cell_type": "markdown",
   "id": "1240d9b3",
   "metadata": {},
   "source": [
    "Définissons par exemple la fonction $f: x \\longmapsto 2x$ :"
   ]
  },
  {
   "cell_type": "code",
   "execution_count": 4,
   "id": "9917a859",
   "metadata": {
    "execution": {
     "iopub.execute_input": "2021-09-09T12:09:09.110681Z",
     "iopub.status.busy": "2021-09-09T12:09:09.110290Z",
     "iopub.status.idle": "2021-09-09T12:09:09.112383Z",
     "shell.execute_reply": "2021-09-09T12:09:09.112699Z"
    },
    "tags": []
   },
   "outputs": [
    {
     "data": {
      "text/plain": [
       "val f : int -> int = <fun>\n"
      ]
     },
     "execution_count": 4,
     "metadata": {},
     "output_type": "execute_result"
    }
   ],
   "source": [
    "let f x = 2*x"
   ]
  },
  {
   "cell_type": "markdown",
   "id": "6a1c8dcc",
   "metadata": {},
   "source": [
    "OCaml nous dit que `f` est de type `int -> int`, ce qui signifie que `f` prend un entier en entrée et renvoie un entier en sortie. Ceci est similaire à la notation mathématique $f : \\mathbb{N} \\longrightarrow \\mathbb{N}$.\n",
    "\n",
    "On peut ensuite utiliser `f` et récupérer la valeur de retour :"
   ]
  },
  {
   "cell_type": "code",
   "execution_count": 5,
   "id": "9dd6fc54",
   "metadata": {
    "execution": {
     "iopub.execute_input": "2021-09-09T12:09:09.114230Z",
     "iopub.status.busy": "2021-09-09T12:09:09.113839Z",
     "iopub.status.idle": "2021-09-09T12:09:09.115510Z",
     "shell.execute_reply": "2021-09-09T12:09:09.115827Z"
    }
   },
   "outputs": [
    {
     "data": {
      "text/plain": [
       "- : int = 6\n"
      ]
     },
     "execution_count": 5,
     "metadata": {},
     "output_type": "execute_result"
    }
   ],
   "source": [
    "f 3"
   ]
  },
  {
   "cell_type": "markdown",
   "id": "68922294",
   "metadata": {},
   "source": [
    "Notons que `x` est une variable **muette** : elle n'existe qu'à l'intérieur de `f`, n'a aucun rapport avec une variable `x` définie précédemment et la fonction suivante définit exactement la même fonction :"
   ]
  },
  {
   "cell_type": "code",
   "execution_count": 6,
   "id": "b23e0305",
   "metadata": {
    "execution": {
     "iopub.execute_input": "2021-09-09T12:09:09.117240Z",
     "iopub.status.busy": "2021-09-09T12:09:09.116843Z",
     "iopub.status.idle": "2021-09-09T12:09:09.118937Z",
     "shell.execute_reply": "2021-09-09T12:09:09.119256Z"
    },
    "tags": []
   },
   "outputs": [
    {
     "data": {
      "text/plain": [
       "val f : int -> int = <fun>\n"
      ]
     },
     "execution_count": 6,
     "metadata": {},
     "output_type": "execute_result"
    }
   ],
   "source": [
    "let f y = 2*y (* peu importe le nom de la variable muette y *)"
   ]
  },
  {
   "cell_type": "markdown",
   "id": "74df0ad9",
   "metadata": {},
   "source": [
    "Maintenant que `f` est définie, on peut calculer $f(3)$ :"
   ]
  },
  {
   "cell_type": "code",
   "execution_count": 7,
   "id": "d05ffe7c",
   "metadata": {
    "execution": {
     "iopub.execute_input": "2021-09-09T12:09:09.120756Z",
     "iopub.status.busy": "2021-09-09T12:09:09.120365Z",
     "iopub.status.idle": "2021-09-09T12:09:09.122060Z",
     "shell.execute_reply": "2021-09-09T12:09:09.122355Z"
    },
    "tags": []
   },
   "outputs": [
    {
     "data": {
      "text/plain": [
       "- : int = 6\n"
      ]
     },
     "execution_count": 7,
     "metadata": {},
     "output_type": "execute_result"
    }
   ],
   "source": [
    "f 3"
   ]
  },
  {
   "cell_type": "markdown",
   "id": "5f980409",
   "metadata": {},
   "source": [
    "**Exercice** : définir la fonction $f : x \\longmapsto \\frac{1}{\\sqrt{1 + x^2}}$ en OCaml."
   ]
  },
  {
   "cell_type": "markdown",
   "id": "0ebfdb75",
   "metadata": {},
   "source": [
    "Comme pour les variables, il est possible d'utiliser `in` pour spécifier la portée d'une fonction $g$"
   ]
  },
  {
   "cell_type": "code",
   "execution_count": 8,
   "id": "7605df44",
   "metadata": {
    "execution": {
     "iopub.execute_input": "2021-09-09T12:09:09.123926Z",
     "iopub.status.busy": "2021-09-09T12:09:09.123531Z",
     "iopub.status.idle": "2021-09-09T12:09:09.126568Z",
     "shell.execute_reply": "2021-09-09T12:09:09.126222Z"
    },
    "tags": []
   },
   "outputs": [
    {
     "data": {
      "text/plain": [
       "- : int = 1\n"
      ]
     },
     "execution_count": 8,
     "metadata": {},
     "output_type": "execute_result"
    }
   ],
   "source": [
    "let g x = x + 1 in\n",
    "g 0  (* g est utilisable seulement dans le in *)"
   ]
  },
  {
   "cell_type": "markdown",
   "id": "76b14a1a",
   "metadata": {},
   "source": [
    "**Exercice** Donner la valeur de l'expression suivante :\n",
    "```ocaml\n",
    "let h x = f x + 1 in\n",
    "h 3\n",
    "```"
   ]
  },
  {
   "cell_type": "markdown",
   "id": "36866605",
   "metadata": {},
   "source": [
    "## Fonctions anonymes"
   ]
  },
  {
   "cell_type": "markdown",
   "id": "460e163a",
   "metadata": {},
   "source": [
    "Quand on a besoin d'utiliser une fonction une seule fois, on peut définir une fonction anonyme (sans nom) avec `fun`. C'est l'équivalent de `lambda` en Python."
   ]
  },
  {
   "cell_type": "code",
   "execution_count": 9,
   "id": "9320765c",
   "metadata": {
    "execution": {
     "iopub.execute_input": "2021-09-09T12:09:09.128162Z",
     "iopub.status.busy": "2021-09-09T12:09:09.127769Z",
     "iopub.status.idle": "2021-09-09T12:09:09.130187Z",
     "shell.execute_reply": "2021-09-09T12:09:09.129818Z"
    },
    "tags": []
   },
   "outputs": [
    {
     "data": {
      "text/plain": [
       "- : int -> int = <fun>\n"
      ]
     },
     "execution_count": 9,
     "metadata": {},
     "output_type": "execute_result"
    }
   ],
   "source": [
    "fun x -> x*2 (* définition d'une fonction anonyme *)"
   ]
  },
  {
   "cell_type": "code",
   "execution_count": 10,
   "id": "d8cf79ec",
   "metadata": {
    "execution": {
     "iopub.execute_input": "2021-09-09T12:09:09.131638Z",
     "iopub.status.busy": "2021-09-09T12:09:09.131248Z",
     "iopub.status.idle": "2021-09-09T12:09:09.133715Z",
     "shell.execute_reply": "2021-09-09T12:09:09.133349Z"
    },
    "tags": []
   },
   "outputs": [
    {
     "data": {
      "text/plain": [
       "- : int = 6\n"
      ]
     },
     "execution_count": 10,
     "metadata": {},
     "output_type": "execute_result"
    }
   ],
   "source": [
    "(fun x -> x*2) 3 (* applique une fonction anonyme sur la valeur 3 *)"
   ]
  },
  {
   "cell_type": "markdown",
   "id": "b0a7513b",
   "metadata": {},
   "source": [
    "**Remarque** : les deux définitions suivantes sont en fait complètement équivalentes.\n",
    "```ocaml\n",
    "let f x = ...\n",
    "```\n",
    "```ocaml\n",
    "let f = fun x -> ...\n",
    "```\n",
    "\n",
    "Par exemple, on peut définir la fonction $f : x \\longmapsto 2 \\sqrt{x}$ comme ceci :"
   ]
  },
  {
   "cell_type": "code",
   "execution_count": 11,
   "id": "5f63271c",
   "metadata": {
    "execution": {
     "iopub.execute_input": "2021-09-09T12:09:09.135201Z",
     "iopub.status.busy": "2021-09-09T12:09:09.134810Z",
     "iopub.status.idle": "2021-09-09T12:09:09.137312Z",
     "shell.execute_reply": "2021-09-09T12:09:09.136939Z"
    }
   },
   "outputs": [
    {
     "data": {
      "text/plain": [
       "val f : float -> float = <fun>\n"
      ]
     },
     "execution_count": 11,
     "metadata": {},
     "output_type": "execute_result"
    }
   ],
   "source": [
    "let f = fun x -> 2.0*.x**0.5"
   ]
  },
  {
   "cell_type": "markdown",
   "id": "86c31024",
   "metadata": {},
   "source": [
    "**Remarque** : On peut aussi définir une fonction avec `function x -> ...` mais `fun` est légèrement plus simple d'utilisation."
   ]
  },
  {
   "cell_type": "markdown",
   "id": "6d6d959e",
   "metadata": {},
   "source": [
    "## Fonctions de plusieurs variables"
   ]
  },
  {
   "cell_type": "markdown",
   "id": "31c99340",
   "metadata": {},
   "source": [
    "Il est possible de définir des fonctions avec plusieurs paramètres, par exemple :"
   ]
  },
  {
   "cell_type": "code",
   "execution_count": 12,
   "id": "de7ea032",
   "metadata": {
    "execution": {
     "iopub.execute_input": "2021-09-09T12:09:09.139350Z",
     "iopub.status.busy": "2021-09-09T12:09:09.138480Z",
     "iopub.status.idle": "2021-09-09T12:09:09.141264Z",
     "shell.execute_reply": "2021-09-09T12:09:09.141582Z"
    },
    "lines_to_next_cell": 0,
    "tags": []
   },
   "outputs": [
    {
     "data": {
      "text/plain": [
       "val sum : int -> int -> int = <fun>\n"
      ]
     },
     "execution_count": 12,
     "metadata": {},
     "output_type": "execute_result"
    }
   ],
   "source": [
    "let sum x y = x + y"
   ]
  },
  {
   "cell_type": "code",
   "execution_count": 13,
   "id": "1e3ad331",
   "metadata": {
    "execution": {
     "iopub.execute_input": "2021-09-09T12:09:09.143040Z",
     "iopub.status.busy": "2021-09-09T12:09:09.142650Z",
     "iopub.status.idle": "2021-09-09T12:09:09.144723Z",
     "shell.execute_reply": "2021-09-09T12:09:09.144374Z"
    },
    "tags": []
   },
   "outputs": [
    {
     "data": {
      "text/plain": [
       "- : int = 7\n"
      ]
     },
     "execution_count": 13,
     "metadata": {},
     "output_type": "execute_result"
    }
   ],
   "source": [
    "sum 3 4 (* renvoie 3 + 4 *)"
   ]
  },
  {
   "cell_type": "markdown",
   "id": "eb409bd0",
   "metadata": {},
   "source": [
    "Le type de `sum` est `int -> int -> int`, ce qui peut paraître étrange. C'est équivalent à `int -> (int -> int)`, ce qui signifie que `sum` prend en entier en argument et renvoie une valeur de type `int -> int` (c'est à dire une fonction).  \n",
    "En effet :"
   ]
  },
  {
   "cell_type": "code",
   "execution_count": 14,
   "id": "fac94c33",
   "metadata": {
    "execution": {
     "iopub.execute_input": "2021-09-09T12:09:09.146233Z",
     "iopub.status.busy": "2021-09-09T12:09:09.145841Z",
     "iopub.status.idle": "2021-09-09T12:09:09.147523Z",
     "shell.execute_reply": "2021-09-09T12:09:09.147836Z"
    },
    "tags": []
   },
   "outputs": [
    {
     "data": {
      "text/plain": [
       "- : int -> int = <fun>\n"
      ]
     },
     "execution_count": 14,
     "metadata": {},
     "output_type": "execute_result"
    }
   ],
   "source": [
    "sum 3"
   ]
  },
  {
   "cell_type": "markdown",
   "id": "e6cc458a",
   "metadata": {},
   "source": [
    "`sum 3` est une fonction qui prend en argument un entier `y` et qui renvoie `3 + y`, ce qu'on peut vérifier :"
   ]
  },
  {
   "cell_type": "code",
   "execution_count": 15,
   "id": "94b9bc6f",
   "metadata": {
    "execution": {
     "iopub.execute_input": "2021-09-09T12:09:09.149245Z",
     "iopub.status.busy": "2021-09-09T12:09:09.148844Z",
     "iopub.status.idle": "2021-09-09T12:09:09.151192Z",
     "shell.execute_reply": "2021-09-09T12:09:09.150826Z"
    },
    "tags": []
   },
   "outputs": [
    {
     "data": {
      "text/plain": [
       "- : int = 7\n"
      ]
     },
     "execution_count": 15,
     "metadata": {},
     "output_type": "execute_result"
    }
   ],
   "source": [
    "let f = sum 3 in (* f est une fonction *)\n",
    "f 4 (* renvoie sum 3 4, c'est à dire 7 *)"
   ]
  },
  {
   "cell_type": "markdown",
   "id": "7d0614f2",
   "metadata": {},
   "source": [
    "En fait, OCaml transforme automatiquement une fonction de plusieurs variables en une suite de fonctions à une variable (c'est ce qu'on appelle la **curryfication**) :"
   ]
  },
  {
   "cell_type": "code",
   "execution_count": 16,
   "id": "6f7a92e8",
   "metadata": {
    "execution": {
     "iopub.execute_input": "2021-09-09T12:09:09.152580Z",
     "iopub.status.busy": "2021-09-09T12:09:09.152184Z",
     "iopub.status.idle": "2021-09-09T12:09:09.155951Z",
     "shell.execute_reply": "2021-09-09T12:09:09.156279Z"
    }
   },
   "outputs": [
    {
     "data": {
      "text/plain": [
       "val sum : int -> int -> int = <fun>\n"
      ]
     },
     "execution_count": 16,
     "metadata": {},
     "output_type": "execute_result"
    }
   ],
   "source": [
    "let sum = fun x -> (fun y -> x + y) (* OCaml transforme la définition de sum ci-dessus en celle-ci *)"
   ]
  },
  {
   "cell_type": "code",
   "execution_count": 17,
   "id": "379c8fbe",
   "metadata": {
    "execution": {
     "iopub.execute_input": "2021-09-09T12:09:09.157644Z",
     "iopub.status.busy": "2021-09-09T12:09:09.157249Z",
     "iopub.status.idle": "2021-09-09T12:09:09.159437Z",
     "shell.execute_reply": "2021-09-09T12:09:09.159059Z"
    }
   },
   "outputs": [
    {
     "data": {
      "text/plain": [
       "- : int = 5\n"
      ]
     },
     "execution_count": 17,
     "metadata": {},
     "output_type": "execute_result"
    }
   ],
   "source": [
    "(sum 2) 3  (* le calcul effectué par OCaml lorsqu'on écrit sum 2 3 *)"
   ]
  },
  {
   "cell_type": "markdown",
   "id": "5bf66305",
   "metadata": {},
   "source": [
    "La possibilité d'appliquer une fonction seulement sur certains arguments s'appelle l'**application partielle** de fonction. C'est un des avantages d'OCaml par rapport à Python.  "
   ]
  },
  {
   "cell_type": "markdown",
   "id": "cc28ac43",
   "metadata": {},
   "source": [
    "De la même façon, une fonction OCaml à 3 arguments sera de type `... -> ... -> ... -> ...`."
   ]
  },
  {
   "cell_type": "markdown",
   "id": "174f82f2",
   "metadata": {},
   "source": [
    "**Exercice** : Écrire une fonction `delta : float -> float -> float -> float` telle que `delta a b c` renvoie le discriminant de l'équation $ax^2 + bx + c = 0$."
   ]
  },
  {
   "cell_type": "markdown",
   "id": "ca4e28c6",
   "metadata": {},
   "source": [
    "Une fonction peut aussi avoir aucune valeur en entrée. Dans ce cas, on lui donne l'argument `()` (de type unit). C'est le cas par exemple de `print_newline`, qui saute une ligne : "
   ]
  },
  {
   "cell_type": "code",
   "execution_count": 18,
   "id": "5b6bc53c",
   "metadata": {
    "execution": {
     "iopub.execute_input": "2021-09-09T12:09:09.160948Z",
     "iopub.status.busy": "2021-09-09T12:09:09.160534Z",
     "iopub.status.idle": "2021-09-09T12:09:09.164336Z",
     "shell.execute_reply": "2021-09-09T12:09:09.163455Z"
    }
   },
   "outputs": [
    {
     "name": "stdout",
     "output_type": "stream",
     "text": [
      "0\n",
      "1\n"
     ]
    },
    {
     "data": {
      "text/plain": [
       "- : unit = ()\n"
      ]
     },
     "execution_count": 18,
     "metadata": {},
     "output_type": "execute_result"
    }
   ],
   "source": [
    "print_int 0;\n",
    "print_newline ();\n",
    "print_int 1;\n",
    "print_newline ();"
   ]
  },
  {
   "cell_type": "markdown",
   "id": "6bdaf0e0",
   "metadata": {},
   "source": [
    "## Polymorphisme"
   ]
  },
  {
   "cell_type": "markdown",
   "id": "89081004",
   "metadata": {},
   "source": [
    "Reprenons notre 1er exemple de fonction :"
   ]
  },
  {
   "cell_type": "code",
   "execution_count": 19,
   "id": "f1ad16ba",
   "metadata": {
    "execution": {
     "iopub.execute_input": "2021-09-09T12:09:09.165756Z",
     "iopub.status.busy": "2021-09-09T12:09:09.165365Z",
     "iopub.status.idle": "2021-09-09T12:09:09.167219Z",
     "shell.execute_reply": "2021-09-09T12:09:09.167533Z"
    }
   },
   "outputs": [
    {
     "data": {
      "text/plain": [
       "val f : int -> int = <fun>\n"
      ]
     },
     "execution_count": 19,
     "metadata": {},
     "output_type": "execute_result"
    }
   ],
   "source": [
    "let f x = 2*x"
   ]
  },
  {
   "cell_type": "markdown",
   "id": "299e4d7f",
   "metadata": {},
   "source": [
    "OCaml sait que l'argument `x` de `f` est un `int` car on utilise l'opérateur `*` qui ne s'utilise que sur des entiers. Mais dans certaines fonctions, il n'y a pas de contrainte de type :"
   ]
  },
  {
   "cell_type": "code",
   "execution_count": 20,
   "id": "26bf63ec",
   "metadata": {
    "execution": {
     "iopub.execute_input": "2021-09-09T12:09:09.169053Z",
     "iopub.status.busy": "2021-09-09T12:09:09.168555Z",
     "iopub.status.idle": "2021-09-09T12:09:09.170216Z",
     "shell.execute_reply": "2021-09-09T12:09:09.170529Z"
    }
   },
   "outputs": [
    {
     "data": {
      "text/plain": [
       "val id : 'a -> 'a = <fun>\n"
      ]
     },
     "execution_count": 20,
     "metadata": {},
     "output_type": "execute_result"
    }
   ],
   "source": [
    "let id x = x"
   ]
  },
  {
   "cell_type": "markdown",
   "id": "80db5243",
   "metadata": {},
   "source": [
    "Cette fonction `id` (pour identité) renvoie son argument sans le modifier. Comme aucune opération n'est appliquée sur `x`, il n'y a pas de contrainte sur son type. OCaml utilise alors `'a` pour désigner le type quelconque de `x`.  \n",
    "Notons que le type de retour de `id` est `'a` également : OCaml nous dit que `id` renvoie une valeur du même type que l'argument."
   ]
  },
  {
   "cell_type": "markdown",
   "id": "f52e5d23",
   "metadata": {},
   "source": [
    "**Exercice** : donner le type des fonctions suivantes  \n",
    "```ocaml\n",
    " let f x = 42\n",
    "```\n",
    "```ocaml\n",
    " let f x y = y\n",
    "```\n",
    "```ocaml\n",
    " let g x y f = x + f y\n",
    " ```"
   ]
  },
  {
   "cell_type": "markdown",
   "id": "cb132c0a",
   "metadata": {},
   "source": [
    "## Fonction comme argument\n",
    "\n",
    "Il est possible d'utiliser une fonction en argument d'une autre fonction. Par exemple, la fonction suivante évalue une autre fonction en la valeur 0 :"
   ]
  },
  {
   "cell_type": "code",
   "execution_count": 21,
   "id": "1a4198d7",
   "metadata": {
    "execution": {
     "iopub.execute_input": "2021-09-09T12:09:09.171971Z",
     "iopub.status.busy": "2021-09-09T12:09:09.171579Z",
     "iopub.status.idle": "2021-09-09T12:09:09.173375Z",
     "shell.execute_reply": "2021-09-09T12:09:09.173691Z"
    }
   },
   "outputs": [
    {
     "data": {
      "text/plain": [
       "val eval : (int -> 'a) -> 'a = <fun>\n"
      ]
     },
     "execution_count": 21,
     "metadata": {},
     "output_type": "execute_result"
    }
   ],
   "source": [
    "let eval f =\n",
    "f 0"
   ]
  },
  {
   "cell_type": "code",
   "execution_count": 22,
   "id": "d2e0a7dc",
   "metadata": {
    "execution": {
     "iopub.execute_input": "2021-09-09T12:09:09.175032Z",
     "iopub.status.busy": "2021-09-09T12:09:09.174642Z",
     "iopub.status.idle": "2021-09-09T12:09:09.177114Z",
     "shell.execute_reply": "2021-09-09T12:09:09.177434Z"
    }
   },
   "outputs": [
    {
     "data": {
      "text/plain": [
       "- : int = 7\n"
      ]
     },
     "execution_count": 22,
     "metadata": {},
     "output_type": "execute_result"
    }
   ],
   "source": [
    "let f x = 3*x + 7 in\n",
    "eval f"
   ]
  },
  {
   "cell_type": "markdown",
   "id": "cc150888",
   "metadata": {},
   "source": [
    "**Exercice** : \n",
    "1. On définit une fonction `h` :\n",
    "```ocaml\n",
    "let h f g x = f (g x)\n",
    "```\n",
    "Donner la valeur de l'expression :\n",
    "```ocaml\n",
    "h (fun x -> x*x) (fun x -> x + 1) 3\n",
    "```\n",
    "2. Donner le type de `h`.\n",
    "3. À quoi sert `h`? Comment cette opération s'appelle-t-elle mathématiquement?"
   ]
  },
  {
   "cell_type": "markdown",
   "id": "3f68e0cb",
   "metadata": {
    "tags": []
   },
   "source": [
    "## Variable locale à une fonction"
   ]
  },
  {
   "cell_type": "markdown",
   "id": "acf007cf",
   "metadata": {},
   "source": [
    "Il est possible de définir une variable dans une fonction :"
   ]
  },
  {
   "cell_type": "code",
   "execution_count": 23,
   "id": "4f936640",
   "metadata": {
    "execution": {
     "iopub.execute_input": "2021-09-09T12:09:09.178903Z",
     "iopub.status.busy": "2021-09-09T12:09:09.178510Z",
     "iopub.status.idle": "2021-09-09T12:09:09.180632Z",
     "shell.execute_reply": "2021-09-09T12:09:09.180974Z"
    },
    "tags": []
   },
   "outputs": [
    {
     "data": {
      "text/plain": [
       "val pow4 : int -> int = <fun>\n"
      ]
     },
     "execution_count": 23,
     "metadata": {},
     "output_type": "execute_result"
    }
   ],
   "source": [
    "let pow4 x = (* je saute une ligne ici pour plus de lisibilité *)\n",
    "    let y = x*x in  (* y est utilisable seulement dans pow4 *)\n",
    "    y*y (* renvoie x puissance 4 *)"
   ]
  },
  {
   "cell_type": "code",
   "execution_count": 24,
   "id": "25936aa2",
   "metadata": {
    "execution": {
     "iopub.execute_input": "2021-09-09T12:09:09.182316Z",
     "iopub.status.busy": "2021-09-09T12:09:09.181920Z",
     "iopub.status.idle": "2021-09-09T12:09:09.184125Z",
     "shell.execute_reply": "2021-09-09T12:09:09.183760Z"
    },
    "tags": []
   },
   "outputs": [
    {
     "data": {
      "text/plain": [
       "- : int = 16\n"
      ]
     },
     "execution_count": 24,
     "metadata": {},
     "output_type": "execute_result"
    }
   ],
   "source": [
    "pow4 2 (* test de notre fonction *)"
   ]
  },
  {
   "cell_type": "markdown",
   "id": "30aa40a2",
   "metadata": {
    "tags": []
   },
   "source": [
    "On peut aussi définir une fonction à l'intérieur d'une fonction. Par exemple, on peut définir $f: x \\longmapsto 2x + \\sqrt{2(x + 1)}$ en utilisant une fonction locale $g : y \\longmapsto 2y$ :"
   ]
  },
  {
   "cell_type": "code",
   "execution_count": 25,
   "id": "154ea0c6",
   "metadata": {
    "execution": {
     "iopub.execute_input": "2021-09-09T12:09:09.185539Z",
     "iopub.status.busy": "2021-09-09T12:09:09.185138Z",
     "iopub.status.idle": "2021-09-09T12:09:09.188357Z",
     "shell.execute_reply": "2021-09-09T12:09:09.187983Z"
    }
   },
   "outputs": [
    {
     "data": {
      "text/plain": [
       "val f : float -> float = <fun>\n"
      ]
     },
     "execution_count": 25,
     "metadata": {},
     "output_type": "execute_result"
    }
   ],
   "source": [
    "let f x = \n",
    "    let g y = 2.*.y in (* g n'est utilisable que dans f *)\n",
    "    g x +. (g (x +. 1.))**0.5"
   ]
  },
  {
   "cell_type": "code",
   "execution_count": 26,
   "id": "87348b42",
   "metadata": {
    "execution": {
     "iopub.execute_input": "2021-09-09T12:09:09.189718Z",
     "iopub.status.busy": "2021-09-09T12:09:09.189326Z",
     "iopub.status.idle": "2021-09-09T12:09:09.190934Z",
     "shell.execute_reply": "2021-09-09T12:09:09.191229Z"
    }
   },
   "outputs": [
    {
     "data": {
      "text/plain": [
       "- : float = 4.\n"
      ]
     },
     "execution_count": 26,
     "metadata": {},
     "output_type": "execute_result"
    }
   ],
   "source": [
    "f 1."
   ]
  },
  {
   "cell_type": "markdown",
   "id": "d2e4839a",
   "metadata": {},
   "source": [
    "**Exercice** : Écrire une fonction `swap` qui échange les valeurs de 2 références en argument.  \n",
    "`swap` doit être de type `'a ref -> 'a ref -> unit`, ce qui signifie que `swap` a deux références en argument, sur des valeurs de même type `'a`, et ne renvoie pas de valeur.  \n",
    "On rappelle les opérations sur les références :  \n",
    "- Définir une référence (locale) : `let a = ref 5 in ...`\n",
    "- Obtenir la valeur d'une référence : `!a`\n",
    "- Modifier une référence : `a := 7`  \n",
    "\n",
    "**Remarque importante** : Lorsque l'on modifie une référence (ou un autre objet impératif, comme un tableau) qui est l'argument d'une fonction, on la modifie aussi à l'extérieur de la fonction. C'est ce qu'on appelle un **passage par référence**.  "
   ]
  },
  {
   "cell_type": "markdown",
   "id": "be84a92d",
   "metadata": {},
   "source": [
    "## Booléens"
   ]
  },
  {
   "cell_type": "markdown",
   "id": "9f5c8481",
   "metadata": {},
   "source": [
    "Une valeur booléenne (bool) est soit true (vrai) soit false (faux). Exemple de variable de type bool : "
   ]
  },
  {
   "cell_type": "code",
   "execution_count": 1,
   "id": "bfdf5383",
   "metadata": {
    "execution": {
     "iopub.execute_input": "2021-09-09T12:14:53.462741Z",
     "iopub.status.busy": "2021-09-09T12:14:53.461914Z",
     "iopub.status.idle": "2021-09-09T12:14:53.465387Z",
     "shell.execute_reply": "2021-09-09T12:14:53.463412Z"
    }
   },
   "outputs": [
    {
     "data": {
      "text/plain": [
       "val a : bool = true\n"
      ]
     },
     "execution_count": 1,
     "metadata": {},
     "output_type": "execute_result"
    }
   ],
   "source": [
    "let a = true"
   ]
  },
  {
   "cell_type": "markdown",
   "id": "f6de23a1",
   "metadata": {},
   "source": [
    "## Comparaison"
   ]
  },
  {
   "cell_type": "markdown",
   "id": "6823cb77",
   "metadata": {},
   "source": [
    "On peut tester l'égalité de deux **valeurs** avec `=` :"
   ]
  },
  {
   "cell_type": "code",
   "execution_count": 2,
   "id": "ab7b4976",
   "metadata": {
    "execution": {
     "iopub.execute_input": "2021-09-09T12:14:53.467751Z",
     "iopub.status.busy": "2021-09-09T12:14:53.467096Z",
     "iopub.status.idle": "2021-09-09T12:14:53.472585Z",
     "shell.execute_reply": "2021-09-09T12:14:53.472038Z"
    },
    "tags": []
   },
   "outputs": [
    {
     "data": {
      "text/plain": [
       "- : bool = true\n"
      ]
     },
     "execution_count": 2,
     "metadata": {},
     "output_type": "execute_result"
    }
   ],
   "source": [
    "3 = 1 + 2"
   ]
  },
  {
   "cell_type": "markdown",
   "id": "393a45b6",
   "metadata": {},
   "source": [
    "On peut aussi utiliser `=` sur des variables, auquel cas on compare leurs valeurs :"
   ]
  },
  {
   "cell_type": "code",
   "execution_count": 3,
   "id": "e8a33ba1",
   "metadata": {
    "execution": {
     "iopub.execute_input": "2021-09-09T12:14:53.474982Z",
     "iopub.status.busy": "2021-09-09T12:14:53.474208Z",
     "iopub.status.idle": "2021-09-09T12:14:53.477718Z",
     "shell.execute_reply": "2021-09-09T12:14:53.477077Z"
    }
   },
   "outputs": [
    {
     "data": {
      "text/plain": [
       "- : bool = false\n"
      ]
     },
     "execution_count": 3,
     "metadata": {},
     "output_type": "execute_result"
    }
   ],
   "source": [
    "let a = 3 in\n",
    "let b = 4 in\n",
    "a = b (* teste si les valeurs de a et b sont égales *)"
   ]
  },
  {
   "cell_type": "markdown",
   "id": "5f9269a9",
   "metadata": {},
   "source": [
    "**Attention** : le `=`  de OCaml correspond au `==` de Python. `==` existe en OCaml, mais compare les **adresses mémoires** de 2 variables au lieu de leurs valeurs et on ne l'utilisera presque jamais."
   ]
  },
  {
   "cell_type": "markdown",
   "id": "e32467c7",
   "metadata": {},
   "source": [
    "On peut comparer des valeurs numériques avec `<` (inférieur strict), `>`, `<=` (inférieur ou égal), `>=`, `<>` (différent)... :"
   ]
  },
  {
   "cell_type": "code",
   "execution_count": 4,
   "id": "ce40f3a8",
   "metadata": {
    "execution": {
     "iopub.execute_input": "2021-09-09T12:14:53.480434Z",
     "iopub.status.busy": "2021-09-09T12:14:53.479765Z",
     "iopub.status.idle": "2021-09-09T12:14:53.482257Z",
     "shell.execute_reply": "2021-09-09T12:14:53.482765Z"
    }
   },
   "outputs": [
    {
     "data": {
      "text/plain": [
       "- : bool = false\n"
      ]
     },
     "execution_count": 4,
     "metadata": {},
     "output_type": "execute_result"
    }
   ],
   "source": [
    "2 < 1"
   ]
  },
  {
   "cell_type": "markdown",
   "id": "3feaae53",
   "metadata": {},
   "source": [
    "Il faut obligatoirement comparer des valeurs de même type :"
   ]
  },
  {
   "cell_type": "code",
   "execution_count": 5,
   "id": "aabc21c1",
   "metadata": {
    "execution": {
     "iopub.execute_input": "2021-09-09T12:14:53.484941Z",
     "iopub.status.busy": "2021-09-09T12:14:53.484310Z",
     "iopub.status.idle": "2021-09-09T12:14:53.486481Z",
     "shell.execute_reply": "2021-09-09T12:14:53.486977Z"
    }
   },
   "outputs": [
    {
     "ename": "error",
     "evalue": "compile_error",
     "output_type": "error",
     "traceback": [
      "File \"[5]\", line 1, characters 6-7:\n1 | 2.4 < 3 (* on ne peut pas comparer un float avec un int *)\n          ^\nError: This expression has type int but an expression was expected of type\n         float\n"
     ]
    }
   ],
   "source": [
    "2.4 < 3 (* on ne peut pas comparer un float avec un int *)"
   ]
  },
  {
   "cell_type": "code",
   "execution_count": 6,
   "id": "49b58999",
   "metadata": {
    "execution": {
     "iopub.execute_input": "2021-09-09T12:14:53.489044Z",
     "iopub.status.busy": "2021-09-09T12:14:53.488409Z",
     "iopub.status.idle": "2021-09-09T12:14:53.491026Z",
     "shell.execute_reply": "2021-09-09T12:14:53.491526Z"
    }
   },
   "outputs": [
    {
     "data": {
      "text/plain": [
       "- : bool = true\n"
      ]
     },
     "execution_count": 6,
     "metadata": {},
     "output_type": "execute_result"
    }
   ],
   "source": [
    "2.4 < 3.0 (* par contre ceci fonctionne *)"
   ]
  },
  {
   "cell_type": "markdown",
   "id": "3027777b",
   "metadata": {},
   "source": [
    "**Remarque** : pas besoin de mettre des points (.) sur `<`, `>` ..."
   ]
  },
  {
   "cell_type": "markdown",
   "id": "d9f259e4",
   "metadata": {},
   "source": [
    "Les opérateurs `&&` (et), `||` (ou), `not` permettent de combiner des conditions :"
   ]
  },
  {
   "cell_type": "code",
   "execution_count": 7,
   "id": "9571d124",
   "metadata": {
    "execution": {
     "iopub.execute_input": "2021-09-09T12:14:53.493747Z",
     "iopub.status.busy": "2021-09-09T12:14:53.493108Z",
     "iopub.status.idle": "2021-09-09T12:14:53.496040Z",
     "shell.execute_reply": "2021-09-09T12:14:53.496543Z"
    },
    "tags": []
   },
   "outputs": [
    {
     "data": {
      "text/plain": [
       "- : bool = true\n"
      ]
     },
     "execution_count": 7,
     "metadata": {},
     "output_type": "execute_result"
    }
   ],
   "source": [
    "1 < 2 && 2 < 3"
   ]
  },
  {
   "cell_type": "code",
   "execution_count": 8,
   "id": "a51a9697",
   "metadata": {
    "execution": {
     "iopub.execute_input": "2021-09-09T12:14:53.498630Z",
     "iopub.status.busy": "2021-09-09T12:14:53.498013Z",
     "iopub.status.idle": "2021-09-09T12:14:53.501796Z",
     "shell.execute_reply": "2021-09-09T12:14:53.501196Z"
    },
    "tags": []
   },
   "outputs": [
    {
     "data": {
      "text/plain": [
       "- : bool = false\n"
      ]
     },
     "execution_count": 8,
     "metadata": {},
     "output_type": "execute_result"
    }
   ],
   "source": [
    "let a = 0 in\n",
    "a <> 0 || a > 3 (* test si a est différent de 0 ou supérieur à 3 *)"
   ]
  },
  {
   "cell_type": "markdown",
   "id": "09d5c34c",
   "metadata": {},
   "source": [
    "**Exercice**\n",
    "\n",
    "1. Quelle est la valeur du code suivant?\n",
    "```ocaml\n",
    "let a = 42 in\n",
    "not (a = 42 && (a < 10 || a > 30))\n",
    "```\n",
    "2. Comment aurait-on pu écrire `not (a = 42 && (a < 10 || a > 30))` sans `not`?\n",
    "3. Écrire une fonction `xor : bool -> bool -> bool` telle que `xor a b` renvoie le \"ou exclusif\" de `a` et `b`, c'est à dire `true` si `a` ou `b` est `true`, mais pas les deux."
   ]
  },
  {
   "cell_type": "markdown",
   "id": "4eacaa20",
   "metadata": {},
   "source": [
    "## Condition if\n",
    "\n",
    "On peut écrire une condition `if` de la façon suivante en OCaml :\n",
    "```ocaml\n",
    "if ... then ... else ...\n",
    "```\n",
    "La condition du `if` doit être un booléen. Si la condition est vraie, le `then` est exécuté et sa valeur est renvoyé. Sinon, c'est la valeur du `else` qui est renvoyé :  "
   ]
  },
  {
   "cell_type": "code",
   "execution_count": 9,
   "id": "2afc79a6",
   "metadata": {
    "execution": {
     "iopub.execute_input": "2021-09-09T12:14:53.503956Z",
     "iopub.status.busy": "2021-09-09T12:14:53.503344Z",
     "iopub.status.idle": "2021-09-09T12:14:53.505878Z",
     "shell.execute_reply": "2021-09-09T12:14:53.506360Z"
    }
   },
   "outputs": [
    {
     "data": {
      "text/plain": [
       "- : int = 24\n"
      ]
     },
     "execution_count": 9,
     "metadata": {},
     "output_type": "execute_result"
    }
   ],
   "source": [
    "if 1 = 2 then 42 else 24"
   ]
  },
  {
   "cell_type": "markdown",
   "id": "00d1bb29",
   "metadata": {},
   "source": [
    "Définissons par exemple la fonction valeur absolue ($x \\longmapsto \\vert x \\vert$) :"
   ]
  },
  {
   "cell_type": "code",
   "execution_count": 10,
   "id": "25887c42",
   "metadata": {
    "execution": {
     "iopub.execute_input": "2021-09-09T12:14:53.508419Z",
     "iopub.status.busy": "2021-09-09T12:14:53.507825Z",
     "iopub.status.idle": "2021-09-09T12:14:53.511066Z",
     "shell.execute_reply": "2021-09-09T12:14:53.510517Z"
    },
    "tags": []
   },
   "outputs": [
    {
     "data": {
      "text/plain": [
       "val abs : float -> float = <fun>\n"
      ]
     },
     "execution_count": 10,
     "metadata": {},
     "output_type": "execute_result"
    }
   ],
   "source": [
    "let abs x =\n",
    "    if x < 0. then -. x\n",
    "    else x"
   ]
  },
  {
   "cell_type": "markdown",
   "id": "e0d1d0bd",
   "metadata": {},
   "source": [
    "Rappelons qu'il n'y a pas de `return` en OCaml : c'est la dernière expression calculée par la fonction qui est renvoyée. Ainsi `abs x` renvoie `-x` si `x` est négatif et `x` sinon.  "
   ]
  },
  {
   "cell_type": "code",
   "execution_count": 11,
   "id": "abe620d3",
   "metadata": {
    "execution": {
     "iopub.execute_input": "2021-09-09T12:14:53.513143Z",
     "iopub.status.busy": "2021-09-09T12:14:53.512516Z",
     "iopub.status.idle": "2021-09-09T12:14:53.514571Z",
     "shell.execute_reply": "2021-09-09T12:14:53.515052Z"
    },
    "tags": []
   },
   "outputs": [
    {
     "data": {
      "text/plain": [
       "- : float = 2.718\n"
      ]
     },
     "execution_count": 11,
     "metadata": {},
     "output_type": "execute_result"
    }
   ],
   "source": [
    "abs (-2.718)  (* je mets des parenthèses à cause du - *)"
   ]
  },
  {
   "cell_type": "markdown",
   "id": "90aae449",
   "metadata": {},
   "source": [
    "Pour plus de lisibilité on sautera une ligne avant `then` et `else`, sauf si le contenu du `if` est très court."
   ]
  },
  {
   "cell_type": "markdown",
   "id": "5fb012d5",
   "metadata": {},
   "source": [
    "Dans un `if ... then ... else ...`, les valeurs dans le `then` et dans le `else` doivent être de même type :"
   ]
  },
  {
   "cell_type": "code",
   "execution_count": 12,
   "id": "e17b8f48",
   "metadata": {
    "execution": {
     "iopub.execute_input": "2021-09-09T12:14:53.517143Z",
     "iopub.status.busy": "2021-09-09T12:14:53.516571Z",
     "iopub.status.idle": "2021-09-09T12:14:53.518428Z",
     "shell.execute_reply": "2021-09-09T12:14:53.518974Z"
    }
   },
   "outputs": [
    {
     "ename": "error",
     "evalue": "compile_error",
     "output_type": "error",
     "traceback": [
      "File \"[12]\", line 2, characters 5-9:\n2 | else 3.14  (* impossible d'avoir 2 types différents dans le then et else *)\n         ^^^^\nError: This expression has type float but an expression was expected of type\n         int\n"
     ]
    }
   ],
   "source": [
    "if 1 = 1 then 2\n",
    "else 3.14  (* impossible d'avoir 2 types différents dans le then et else *)"
   ]
  },
  {
   "cell_type": "markdown",
   "id": "c6d29940",
   "metadata": {},
   "source": [
    "La valeur renvoyée par `if ... then ... else ...` peut être stockée dans une variable :"
   ]
  },
  {
   "cell_type": "code",
   "execution_count": 13,
   "id": "10476f2e",
   "metadata": {
    "execution": {
     "iopub.execute_input": "2021-09-09T12:14:53.521039Z",
     "iopub.status.busy": "2021-09-09T12:14:53.520460Z",
     "iopub.status.idle": "2021-09-09T12:14:53.523491Z",
     "shell.execute_reply": "2021-09-09T12:14:53.522980Z"
    }
   },
   "outputs": [
    {
     "data": {
      "text/plain": [
       "- : int = 5\n"
      ]
     },
     "execution_count": 13,
     "metadata": {},
     "output_type": "execute_result"
    }
   ],
   "source": [
    "let a = -5 in\n",
    "let b = if a > 0 then a else -a in (* on pourrait aussi calculer une valeur absolue comme ça *) \n",
    "b  (* b vaut 5 *)"
   ]
  },
  {
   "cell_type": "markdown",
   "id": "25cdd6f9",
   "metadata": {},
   "source": [
    "**Exercice** Définir les fonctions suivantes en OCaml :  \n",
    "1.\n",
    "\n",
    "<img src=\"img/fonctions_ex1.png\" width=\"500\"/>\n",
    "\n",
    "2. \n",
    "\n",
    "<img src=\"img/fonctions_ex2.png\" width=\"500\"/>\n",
    "\n",
    "3. \n",
    "\n",
    "<img src=\"img/fonctions_ex3.png\" width=\"500\"/>\n"
   ]
  },
  {
   "cell_type": "markdown",
   "id": "7a16bac9",
   "metadata": {},
   "source": [
    "**Exercice** Écrire une fonction `n_solutions : float -> float -> float -> int` telle que `n_solutions a b c` renvoie le nombre de solutions de l'équation $ax^2 + bx + c$."
   ]
  },
  {
   "cell_type": "markdown",
   "id": "ff144810",
   "metadata": {},
   "source": [
    "# Récursivité\n",
    "\n",
    "La récursivité est la possibilité pour une fonction de s'appeller soi-même. En général, il y a deux étapes pour écrire une fonction récursive :\n",
    "1. Un **cas de base** où la fonction renvoie directement une valeur.\n",
    "2. Un **cas général** où la fonction s'appelle sur des paramètres \"plus petits\".\n",
    "\n",
    "En OCaml, une fonction récursive doit être définie par `let rec ...`. Voici un exemple :"
   ]
  },
  {
   "cell_type": "code",
   "execution_count": 1,
   "id": "48b3caef",
   "metadata": {
    "execution": {
     "iopub.execute_input": "2021-09-09T19:56:16.432530Z",
     "iopub.status.busy": "2021-09-09T19:56:16.431959Z",
     "iopub.status.idle": "2021-09-09T19:56:16.439024Z",
     "shell.execute_reply": "2021-09-09T19:56:16.438561Z"
    },
    "tags": []
   },
   "outputs": [
    {
     "data": {
      "text/plain": [
       "val f : int -> unit = <fun>\n"
      ]
     },
     "execution_count": 1,
     "metadata": {},
     "output_type": "execute_result"
    }
   ],
   "source": [
    "let rec f x = (* exemple de fonction récursive *)\n",
    "    if x = 0 then print_newline () (* cas de base *)\n",
    "    else (print_int x; \n",
    "          f (x - 1)) (* cas général *)"
   ]
  },
  {
   "cell_type": "markdown",
   "id": "ccfdd353",
   "metadata": {},
   "source": [
    "`f x` affiche un retour à la ligne si `x` est égal à 0, et sinon affiche `x` puis appelle `f (x - 1)`."
   ]
  },
  {
   "cell_type": "markdown",
   "id": "68900514",
   "metadata": {},
   "source": [
    "Essayons cette fonction :"
   ]
  },
  {
   "cell_type": "code",
   "execution_count": 2,
   "id": "294b457c",
   "metadata": {
    "execution": {
     "iopub.execute_input": "2021-09-09T19:56:16.440735Z",
     "iopub.status.busy": "2021-09-09T19:56:16.440280Z",
     "iopub.status.idle": "2021-09-09T19:56:16.446603Z",
     "shell.execute_reply": "2021-09-09T19:56:16.446205Z"
    },
    "tags": []
   },
   "outputs": [
    {
     "data": {
      "text/plain": [
       "- : unit = ()\n"
      ]
     },
     "execution_count": 2,
     "metadata": {},
     "output_type": "execute_result"
    },
    {
     "name": "stdout",
     "output_type": "stream",
     "text": [
      "21\n"
     ]
    }
   ],
   "source": [
    "f 2"
   ]
  },
  {
   "cell_type": "markdown",
   "id": "3b97a7fc",
   "metadata": {},
   "source": [
    "Voici ce qui se passe lors de cet appel `f 2` :  \n",
    "\n",
    "1. On regarde si `2 = 0`, ce qui est faux. On passe donc dans le `else`.\n",
    "2. On affiche `2` avec `print_int x`.\n",
    "3. On appelle `f` sur la valeur 1. Le calcul de `f 2` se met en pause et on exécute `f 1`. Quand `f 1` sera terminé, l'appel de `f 2` continuera et `f 1` sera remplacé par sa valeur de retour. \n",
    "4. L'exécution de `f 1` affiche `1` puis appelle `f 0`. Le calcul de `f 1` se met en pause et on exécute `f 0`. Quand `f 0` sera terminé, l'appel de `f 2` continuera et `f 0` sera remplacé par sa valeur de retour.\n",
    "5. `f 0` exécute `print_newline ()` et s'arrête (en renvoyant `()`).\n",
    "6. L'exécution de `f 1` reprend et `f 1` s'arrête.\n",
    "7. L'exécution de `f 2` reprend et `f 2` s'arrête."
   ]
  },
  {
   "cell_type": "markdown",
   "id": "cdfa53c0",
   "metadata": {},
   "source": [
    "Vous pouvez visualiser l'exécution d'un code similaire en Python avec [Python Tutor](http://www.pythontutor.com/visualize.html#code=def%20f%28n%29%3A%0A%20%20%20%20if%20n%20%3D%3D%200%3A%0A%20%20%20%20%20%20%20%20return%0A%20%20%20%20print%28n%29%0A%20%20%20%20f%28n-1%29%0A%0Af%284%29&cumulative=false&curInstr=0&heapPrimitives=nevernest&mode=display&origin=opt-frontend.js&py=3&rawInputLstJSON=%5B%5D&textReferences=false). Il est important de bien comprendre comment les appels récursifs s'effectuent."
   ]
  },
  {
   "cell_type": "markdown",
   "id": "74931749",
   "metadata": {},
   "source": [
    "Un exemple classique d'utilisation de la récursivité est le calcul de la factorielle d'un entier $n$, définie par $n! = n \\times (n - 1) \\times ... \\times 2 \\times 1$.  \n",
    "Pour définir une fonction récursive calculant $n!$ on a besoin de deux choses :\n",
    "- **Cas de base**  : si $n = 0$, on peut renvoyer directement 1 (par convention $0! = 1$), sans appel récursif.\n",
    "- **Cas général/récurrence** : si $n$ est quelconque, il faut rammener le calcul de $n!$ à un calcul d'une factorielle plus petite (de façon à se rapprocher du cas de base). Pour cela, on peut remarquer que $n! = n\\times (n-1)!$ et donc que calculer $(n-1)!$ permet d'en déduire $n!$.  \n",
    "On en déduit le code suivant :"
   ]
  },
  {
   "cell_type": "code",
   "execution_count": 3,
   "id": "e0721039",
   "metadata": {
    "execution": {
     "iopub.execute_input": "2021-09-09T19:56:16.448549Z",
     "iopub.status.busy": "2021-09-09T19:56:16.448043Z",
     "iopub.status.idle": "2021-09-09T19:56:16.451168Z",
     "shell.execute_reply": "2021-09-09T19:56:16.451550Z"
    }
   },
   "outputs": [
    {
     "data": {
      "text/plain": [
       "val fact : int -> int = <fun>\n"
      ]
     },
     "execution_count": 3,
     "metadata": {},
     "output_type": "execute_result"
    }
   ],
   "source": [
    "let rec fact n =\n",
    "    if n = 0 then 1 (* par convention 0! = 1 *)\n",
    "    else n*fact (n - 1)"
   ]
  },
  {
   "cell_type": "code",
   "execution_count": 4,
   "id": "de9cf453",
   "metadata": {
    "execution": {
     "iopub.execute_input": "2021-09-09T19:56:16.453603Z",
     "iopub.status.busy": "2021-09-09T19:56:16.453098Z",
     "iopub.status.idle": "2021-09-09T19:56:16.455734Z",
     "shell.execute_reply": "2021-09-09T19:56:16.455285Z"
    }
   },
   "outputs": [
    {
     "data": {
      "text/plain": [
       "- : int = 24\n"
      ]
     },
     "execution_count": 4,
     "metadata": {},
     "output_type": "execute_result"
    }
   ],
   "source": [
    "fact 4"
   ]
  },
  {
   "cell_type": "markdown",
   "id": "d8d5f678",
   "metadata": {},
   "source": [
    "**Remarque** : Si on oublie le cas de base (`if n = 0`) la fonction ne s'arrête jamais (`fact 0` appelerait `fact (-1)` qui appelerait `fact (-2)` et ainsi de suite...) !"
   ]
  },
  {
   "cell_type": "markdown",
   "id": "ec68dc02",
   "metadata": {},
   "source": [
    "Écrire une fonction récursive ressemble beaucoup à écrire une démonstration mathématiques par récurrence et d'ailleurs on utilisera souvent une démonstration par récurrence pour démontrer qu'une fonction récursive est correcte, c'est à dire renvoie bien la bonne valeur.  \n",
    "Par exemple, pour démontrer que `fact` est correcte, on peut poser l'hypothèse de récurrence :\n",
    "$$\\mathcal{H}(n) : \\text{fact } n \\text{ renvoie } n!$$\n",
    "Preuve :\n",
    "1. $\\mathcal{H}(0)$ est vraie car `fact 0` renvoie 1 et, par définition, $0! = 1$.\n",
    "1. Soit $n$ un entier strictement positif. Supposons $\\mathcal{H}(n - 1)$ et montrons $\\mathcal{H}(n)$.  \n",
    "Comme $n > 0$, `fact n` renvoie `n*fact (n - 1)`. D'après $\\mathcal{H}(n - 1)$, `fact (n - 1)` renvoie $(n - 1)!$. Donc `fact n` renvoie $n(n - 1)! = n!$, ce qui démontre $\\mathcal{H}(n)$.  \n",
    "D'après le principe de récurrence, $\\mathcal{H}(n)$ est vraie pour tout $n \\in \\mathbb{N}$. "
   ]
  },
  {
   "cell_type": "markdown",
   "id": "b8ddfb6c",
   "metadata": {},
   "source": [
    "**Exercice** : Qu'affiche le code suivant? Le deviner puis exécuter le code pour vérifier.\n",
    "```ocaml\n",
    "let rec f x =\n",
    "    if x = 0 then print_newline ()\n",
    "    else (f (x - 1);\n",
    "          print_int x) in\n",
    "f 5    \n",
    "```"
   ]
  },
  {
   "cell_type": "markdown",
   "id": "126d3bbf",
   "metadata": {},
   "source": [
    "**Exercice** : \n",
    "1. Écrire une fonction récursive pour calculer la somme des $n$ premiers entiers $S(n) = 1 + 2 + ... + (n - 1)$.\n",
    "2. Quelle formule connaissez-vous pour calculer $S(n)$? En déduire une autre fonction (non récursive) pour calculer cette valeur. Vérifier sur des exemples que les deux fonctions donnent la même valeur. "
   ]
  },
  {
   "cell_type": "markdown",
   "id": "984d2d0d",
   "metadata": {},
   "source": [
    "Une application classique de la récursivité est le calcul des termes d'une suite récurrente.  \n",
    "Par exemple :\n",
    "$$\\begin{cases} \n",
    "u_{n} = 3u_{n-1} + 2, \\text{si } n > 0\\\\\n",
    "u_0 = 5\n",
    "\\end{cases}$$"
   ]
  },
  {
   "cell_type": "markdown",
   "id": "c4a496bb",
   "metadata": {},
   "source": [
    "Cette définition par récurrence se traduit naturellement en fonction récursive :"
   ]
  },
  {
   "cell_type": "code",
   "execution_count": 5,
   "id": "fc1b5a65",
   "metadata": {
    "execution": {
     "iopub.execute_input": "2021-09-09T19:56:16.457781Z",
     "iopub.status.busy": "2021-09-09T19:56:16.457314Z",
     "iopub.status.idle": "2021-09-09T19:56:16.461161Z",
     "shell.execute_reply": "2021-09-09T19:56:16.460715Z"
    }
   },
   "outputs": [
    {
     "data": {
      "text/plain": [
       "val u : int -> int = <fun>\n"
      ]
     },
     "execution_count": 5,
     "metadata": {},
     "output_type": "execute_result"
    }
   ],
   "source": [
    "let rec u n = \n",
    "    if n = 0 then 5\n",
    "    else 3*(u (n - 1)) + 2"
   ]
  },
  {
   "cell_type": "code",
   "execution_count": 6,
   "id": "47f7e9d0",
   "metadata": {
    "execution": {
     "iopub.execute_input": "2021-09-09T19:56:16.462892Z",
     "iopub.status.busy": "2021-09-09T19:56:16.462418Z",
     "iopub.status.idle": "2021-09-09T19:56:16.464784Z",
     "shell.execute_reply": "2021-09-09T19:56:16.464376Z"
    }
   },
   "outputs": [
    {
     "data": {
      "text/plain": [
       "- : int = 354293\n"
      ]
     },
     "execution_count": 6,
     "metadata": {},
     "output_type": "execute_result"
    }
   ],
   "source": [
    "u 10"
   ]
  },
  {
   "cell_type": "markdown",
   "id": "c3db550d",
   "metadata": {},
   "source": [
    "**Exercice** : calculer $v_{10}$, où $v_n$ est définie par\n",
    "$$\\begin{cases} \n",
    "v_{n+1} = \\sqrt{v_{n}} + 4, \\text{si } n > 0\\\\\n",
    "v_1 = 5\n",
    "\\end{cases}$$"
   ]
  },
  {
   "cell_type": "markdown",
   "id": "a6f1fb1c",
   "metadata": {},
   "source": [
    "Un autre exemple classique est la suite de Fibonacci :\n",
    "$$u_0 = 1$$\n",
    "$$u_1 = 1$$\n",
    "$$u_n = u_{n - 1} + u_{n - 2}$$\n",
    "\n",
    "On pourrait l'implémenter de la façon suivante :"
   ]
  },
  {
   "cell_type": "code",
   "execution_count": 7,
   "id": "1e5bdb29",
   "metadata": {
    "execution": {
     "iopub.execute_input": "2021-09-09T19:56:16.466704Z",
     "iopub.status.busy": "2021-09-09T19:56:16.466228Z",
     "iopub.status.idle": "2021-09-09T19:56:16.471843Z",
     "shell.execute_reply": "2021-09-09T19:56:16.471436Z"
    }
   },
   "outputs": [
    {
     "data": {
      "text/plain": [
       "- : int = 89\n"
      ]
     },
     "execution_count": 7,
     "metadata": {},
     "output_type": "execute_result"
    }
   ],
   "source": [
    "let rec fibo n =\n",
    "    if n <= 1 then 1\n",
    "    else fibo (n - 1) + fibo (n - 2) in\n",
    "fibo 10"
   ]
  },
  {
   "cell_type": "markdown",
   "id": "ff7c5b7c",
   "metadata": {},
   "source": [
    "**Attention : cette méthode est très inefficace. Pour s'en convaincre, regardons visuellement les appels récursifs de fibo :**\n",
    "\n",
    "\\begin{figure} \n\\centering \n\\includegraphics[width=500pt]{img/fibo.png} \n\\end{figure}\n",
    "\n",
    "Il y a de nombreux calculs inutiles : par exemple, `fibo 3` est appelé 2 fois et `fibo 2` est appelé 3 fois, ce qui est inefficace. \n",
    "\n",
    "**Exercice** : Montrer que le nombre d'appels récursifs pour calculer `fibo n` est exponentiel en $n$ (c'est à dire supérieur à $a^n$ pour un certain $a$ indépendant de $n$).\n",
    "\n",
    "Il est possible d'éviter ces appels inutiles en utilisant un **accumulateur**. Un accumulateur est un argument d'une fonction récursive que l'on va utiliser pour construire le résultat final. L'accumulateur est modifié à chaque appel récursif."
   ]
  },
  {
   "cell_type": "code",
   "execution_count": 8,
   "id": "83f894c0",
   "metadata": {
    "execution": {
     "iopub.execute_input": "2021-09-09T19:56:16.473684Z",
     "iopub.status.busy": "2021-09-09T19:56:16.473207Z",
     "iopub.status.idle": "2021-09-09T19:56:16.477474Z",
     "shell.execute_reply": "2021-09-09T19:56:16.477858Z"
    }
   },
   "outputs": [
    {
     "data": {
      "text/plain": [
       "- : int = 89\n"
      ]
     },
     "execution_count": 8,
     "metadata": {},
     "output_type": "execute_result"
    }
   ],
   "source": [
    "let rec fibo2 n a b =\n",
    "  if n = 0 then b\n",
    "  else fibo2 (n - 1) (a + b) a in\n",
    "fibo2 10 1 1"
   ]
  },
  {
   "cell_type": "markdown",
   "id": "a45e5355",
   "metadata": {},
   "source": [
    "On verra aussi plus tard une technique de **mémoïsation** permettant d'éviter de faire 2x le même appel récursif, de façon systématique.\n",
    "\n",
    "Bien sûr, on pourrait aussi utiliser une boucle `for` en stockant les deux derniers termes de la suite dans des variables, mais l'objectif ici est de s'entraîner à penser récursivement.  "
   ]
  },
  {
   "cell_type": "markdown",
   "id": "53b0d4f4",
   "metadata": {},
   "source": [
    "# Sous-fonction récursive\n",
    "\n",
    "Quand on souhaite écrire une fonction `f x` en utilisant une méthode récursive mais que `x` doit être accessible dans les appels récursifs, on peut utiliser une sous-fonction récursive dans `f`, et `f` se contentera d'appeler cette fonction.  \n",
    "\n",
    "Par exemple, pour savoir si un entier est premier :"
   ]
  },
  {
   "cell_type": "code",
   "execution_count": 9,
   "id": "8d243243",
   "metadata": {
    "execution": {
     "iopub.execute_input": "2021-09-09T19:56:16.479766Z",
     "iopub.status.busy": "2021-09-09T19:56:16.479284Z",
     "iopub.status.idle": "2021-09-09T19:56:16.482828Z",
     "shell.execute_reply": "2021-09-09T19:56:16.483141Z"
    }
   },
   "outputs": [
    {
     "data": {
      "text/plain": [
       "val premier : int -> bool = <fun>\n"
      ]
     },
     "execution_count": 9,
     "metadata": {},
     "output_type": "execute_result"
    }
   ],
   "source": [
    "let premier n =\n",
    "    let rec f k =  (* renvoie true si n n'a pas de diviseurs entre 2 et k *)\n",
    "        if k = 1 then true  (* on a regardé tous les diviseurs potentiels *)\n",
    "        else if n mod k = 0 then false  (* si k divise n *)\n",
    "        else f (k - 1) in (* vérifie que n n'a pas de diviseurs entre 2 et k *)\n",
    "    f (n - 1)  (* teste si n a un diviseur entre 2 et n - 1 *)"
   ]
  },
  {
   "cell_type": "code",
   "execution_count": 10,
   "id": "36e5a80d",
   "metadata": {
    "execution": {
     "iopub.execute_input": "2021-09-09T19:56:16.484709Z",
     "iopub.status.busy": "2021-09-09T19:56:16.484231Z",
     "iopub.status.idle": "2021-09-09T19:56:16.487479Z",
     "shell.execute_reply": "2021-09-09T19:56:16.487860Z"
    }
   },
   "outputs": [
    {
     "data": {
      "text/plain": [
       "- : bool = true\n"
      ]
     },
     "execution_count": 10,
     "metadata": {},
     "output_type": "execute_result"
    }
   ],
   "source": [
    "premier 2 && premier 3 && not (premier 4)  (* test *)"
   ]
  },
  {
   "cell_type": "code",
   "execution_count": null,
   "id": "35fb2eee",
   "metadata": {},
   "outputs": [],
   "source": []
  },
  {
   "cell_type": "markdown",
   "id": "9bb82308-e837-44ec-a407-4ae91eccb90d",
   "metadata": {},
   "source": [
    "Comme en Python, OCaml a deux boucles permettants de répéter des instructions : `for` et `while`."
   ]
  },
  {
   "cell_type": "markdown",
   "id": "c8480667-a0cd-4e80-9359-47a2ea36fef6",
   "metadata": {},
   "source": [
    "# Boucle for\n",
    "\n",
    "Pour répéter `instructions` pour des valeurs de `i` allant de `a` à `b` **inclus** (contrairement à Python) :\n",
    "```ocaml\n",
    "for i=a to b do\n",
    "    instructions\n",
    "done\n",
    "```"
   ]
  },
  {
   "cell_type": "code",
   "execution_count": 1,
   "id": "b318dc04-cf55-47e9-9227-1869d2e8f12d",
   "metadata": {
    "execution": {
     "iopub.execute_input": "2021-08-15T12:30:29.545788Z",
     "iopub.status.busy": "2021-08-15T12:30:29.544074Z",
     "iopub.status.idle": "2021-08-15T12:30:29.555050Z",
     "shell.execute_reply": "2021-08-15T12:30:29.553453Z"
    }
   },
   "outputs": [
    {
     "name": "stdout",
     "output_type": "stream",
     "text": [
      "012345\n"
     ]
    },
    {
     "data": {
      "text/plain": [
       "- : unit = ()\n"
      ]
     },
     "execution_count": 1,
     "metadata": {},
     "output_type": "execute_result"
    }
   ],
   "source": [
    "for i=0 to 5 do\n",
    "    print_int i\n",
    "done;\n",
    "print_newline()"
   ]
  },
  {
   "cell_type": "markdown",
   "id": "b37c0d58-d682-4b9a-8014-fb0a8b858cd1",
   "metadata": {
    "tags": []
   },
   "source": [
    "**Exercice** : Combien de fois est répété `for i=a to b do ...`? (c'est-à-dire : combien y a t-il d'entiers de $a$ à $b$ inclus?)"
   ]
  },
  {
   "cell_type": "markdown",
   "id": "86c7d42c-fbd4-4c1e-b256-7f23b4cb1ca8",
   "metadata": {},
   "source": [
    "**Exercice** : Écrire une fonction pour calculer la somme des carrés des $n$ premiers entiers en utilisant un `for`, puis une fonction récursive."
   ]
  },
  {
   "cell_type": "markdown",
   "id": "c14b9b96-86ec-48cd-954d-cd5e04d77439",
   "metadata": {},
   "source": [
    "Comme on le voit sur l'exercice précédent, il est général plus clair et concis d'écrire une fonction récursive en OCaml. De manière générale, il ne faut pas abuser des références et boucles et s'entraîner à penser et écrire récursivement."
   ]
  },
  {
   "cell_type": "markdown",
   "id": "b4df2649-252f-4b70-ab68-8448b19589f7",
   "metadata": {},
   "source": [
    "Une variante de la boucle `for` avec `downto` permet d'énumérer \"à l'envers\" :"
   ]
  },
  {
   "cell_type": "code",
   "execution_count": 2,
   "id": "3151f681-4a39-40cb-bcd0-2e85a64b0a20",
   "metadata": {
    "execution": {
     "iopub.execute_input": "2021-08-15T12:30:29.562445Z",
     "iopub.status.busy": "2021-08-15T12:30:29.560807Z",
     "iopub.status.idle": "2021-08-15T12:30:29.568744Z",
     "shell.execute_reply": "2021-08-15T12:30:29.567712Z"
    }
   },
   "outputs": [
    {
     "name": "stdout",
     "output_type": "stream",
     "text": [
      "543210\n"
     ]
    },
    {
     "data": {
      "text/plain": [
       "- : unit = ()\n"
      ]
     },
     "execution_count": 2,
     "metadata": {},
     "output_type": "execute_result"
    }
   ],
   "source": [
    "for i=5 downto 0 do\n",
    "    print_int i\n",
    "done;\n",
    "print_newline()"
   ]
  },
  {
   "cell_type": "markdown",
   "id": "bd77fa8b-662f-468b-b223-ae17be3f2ec5",
   "metadata": {},
   "source": [
    "# Boucle while\n",
    "\n",
    "Pour répéter `instructions` tant que `condition` est vraie :\n",
    "```ocaml\n",
    "while condition do\n",
    "    instructions\n",
    "done\n",
    "```"
   ]
  },
  {
   "cell_type": "markdown",
   "id": "e85f2a65-bc6c-48cf-92c0-47f2f02cc431",
   "metadata": {},
   "source": [
    "En guise d'illustration, considérons l'algorithme d'Euclide pour le calcul du PGCD de deux entiers $a$ et $b$. Cet algorithme consiste à répéter les opérations suivantes tant que $b \\neq 0$ :\n",
    "- Calculer le reste $r$ de la division euclidienne de $a$ par $b$.\n",
    "- Remplacer $a$ par $b$ et $b$ par $r$.\n",
    "\n",
    "Quand $b = 0$, on peut montrer que la valeur de $a$ est le PGCD de $a$ et $b$.\n",
    "\n",
    "Voici le code OCaml correspondant avec une boucle `while` :"
   ]
  },
  {
   "cell_type": "code",
   "execution_count": 3,
   "id": "3c493503-caa8-46c5-a4c3-e43019d0ef92",
   "metadata": {
    "execution": {
     "iopub.execute_input": "2021-08-15T12:30:29.572086Z",
     "iopub.status.busy": "2021-08-15T12:30:29.571266Z",
     "iopub.status.idle": "2021-08-15T12:30:29.579399Z",
     "shell.execute_reply": "2021-08-15T12:30:29.578918Z"
    }
   },
   "outputs": [
    {
     "data": {
      "text/plain": [
       "val pgcd : int -> int -> int = <fun>\n"
      ]
     },
     "execution_count": 3,
     "metadata": {},
     "output_type": "execute_result"
    },
    {
     "data": {
      "text/plain": [
       "- : int = 6\n"
      ]
     },
     "execution_count": 3,
     "metadata": {},
     "output_type": "execute_result"
    }
   ],
   "source": [
    "let pgcd a b =\n",
    "    let q = ref a in\n",
    "    let r = ref b in\n",
    "    while !r <> 0 do\n",
    "        let tmp = !q in (* on a besoin de l'ancienne valeur de q pour calculer le nouveau r *)\n",
    "        q := !r;\n",
    "        r := tmp mod !r\n",
    "    done;\n",
    "    !q;;\n",
    "    \n",
    "pgcd 30 12;;"
   ]
  },
  {
   "cell_type": "markdown",
   "id": "03f3f539-62b3-469f-bc50-faf08294ac69",
   "metadata": {},
   "source": [
    "Voici ce que cela donnerait avec une fonction récursive (encore une fois c'est beaucoup plus simple en récursif!) :"
   ]
  },
  {
   "cell_type": "code",
   "execution_count": 4,
   "id": "a290bd15-6f3c-4b6c-8e2c-bffb1d4991c1",
   "metadata": {
    "execution": {
     "iopub.execute_input": "2021-08-15T12:30:29.581710Z",
     "iopub.status.busy": "2021-08-15T12:30:29.581179Z",
     "iopub.status.idle": "2021-08-15T12:30:29.585562Z",
     "shell.execute_reply": "2021-08-15T12:30:29.585150Z"
    }
   },
   "outputs": [
    {
     "data": {
      "text/plain": [
       "val pgcd : int -> int -> int = <fun>\n"
      ]
     },
     "execution_count": 4,
     "metadata": {},
     "output_type": "execute_result"
    },
    {
     "data": {
      "text/plain": [
       "- : int = 6\n"
      ]
     },
     "execution_count": 4,
     "metadata": {},
     "output_type": "execute_result"
    }
   ],
   "source": [
    "let rec pgcd a b =\n",
    "    if b = 0 then a\n",
    "    else pgcd b (a mod b);;\n",
    "\n",
    "pgcd 30 12;;"
   ]
  },
  {
   "cell_type": "markdown",
   "id": "c721e0de-82ae-4da2-9ca4-cba1caa9cf7b",
   "metadata": {},
   "source": [
    "**Exercice**  \n",
    "Soit $a \\in \\mathbb{N}$. La suite de Syracuse est définie par $s_0 = a$ et\n",
    "$$s_{n+1} =\n",
    "\\begin{cases} \n",
    "     \\frac{s_n}{2}, \\text{si } n \\text{ est pair}\\\\\n",
    "    3s_n + 1, \\text{sinon}\\\\\n",
    "\\end{cases}$$\n",
    "Écrire une fonction `temps_vol` ayant $a$ en argument et renvoyant le premier indice $n$ tel que $s_0 = a$ et $s_n = 0$."
   ]
  },
  {
   "cell_type": "code",
   "execution_count": 5,
   "id": "303d087c-f11e-45db-bc27-324569320d6d",
   "metadata": {
    "execution": {
     "iopub.execute_input": "2021-08-15T12:30:29.587485Z",
     "iopub.status.busy": "2021-08-15T12:30:29.587026Z",
     "iopub.status.idle": "2021-08-15T12:30:29.594554Z",
     "shell.execute_reply": "2021-08-15T12:30:29.594169Z"
    }
   },
   "outputs": [
    {
     "data": {
      "text/plain": [
       "- : int = 6\n"
      ]
     },
     "execution_count": 5,
     "metadata": {},
     "output_type": "execute_result"
    }
   ],
   "source": [
    "let temps_vol a = \n",
    "    let t = ref 0 in\n",
    "    let s = ref a in\n",
    "    while !s <> 1 do\n",
    "        incr t;\n",
    "        s := if !s mod 2 = 0 then !s/2 else 3* !s + 1\n",
    "    done;\n",
    "    !t in\n",
    "temps_vol 10"
   ]
  },
  {
   "cell_type": "code",
   "execution_count": null,
   "id": "cfa46f4f-2ae2-4137-a4fe-0413e19ef636",
   "metadata": {},
   "outputs": [],
   "source": []
  }
 ],
 "metadata": {
  "jupytext": {
   "cell_metadata_filter": "-all",
   "main_language": "ocaml",
   "notebook_metadata_filter": "-all"
  },
  "kernelspec": {
   "display_name": "OCaml default",
   "language": "OCaml",
   "name": "ocaml-jupyter"
  },
  "language_info": {
   "codemirror_mode": "text/x-ocaml",
   "file_extension": ".ml",
   "mimetype": "text/x-ocaml",
   "name": "OCaml",
   "nbconverter_exporter": null,
   "pygments_lexer": "OCaml",
   "version": "4.08.1"
  },
  "title": "OCaml"
 },
 "nbformat": 4,
 "nbformat_minor": 5
}

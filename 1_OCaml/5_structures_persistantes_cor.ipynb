{
 "cells": [
  {
   "cell_type": "markdown",
   "metadata": {
    "jp-MarkdownHeadingCollapsed": true,
    "tags": []
   },
   "source": [
    "# Structures de données persistantes\n",
    "\n",
    "Une **structure de donnée** permet de stocker un ensemble d'éléments et de faire certaines opérations sur ces éléments.  \n",
    "<center><mark>Une structure est persistante (ou encore : non mutable) s'il est impossible de modifier ses éléments.</mark></center>\n",
    "\n",
    "OCaml possède principalement 3 structures persistantes :\n",
    "- **tuple**, ou $n$-uplets\n",
    "- **list**, les plus utilisées\n",
    "- **string**, pour les chaînes de caractères"
   ]
  },
  {
   "cell_type": "markdown",
   "metadata": {},
   "source": [
    "## $n$-uplet (tuple)\n",
    "\n",
    "Un $n$-uplet est défini comme en mathématiques. Par exemple, un $2$-uplet est un couple (qui réprésente par exemple un point dans le plan $\\mathbb{R}^2$ :"
   ]
  },
  {
   "cell_type": "code",
   "execution_count": 1,
   "metadata": {
    "execution": {
     "iopub.execute_input": "2021-09-17T20:06:37.280805Z",
     "iopub.status.busy": "2021-09-17T20:06:37.280116Z",
     "iopub.status.idle": "2021-09-17T20:06:37.284149Z",
     "shell.execute_reply": "2021-09-17T20:06:37.283523Z"
    }
   },
   "outputs": [
    {
     "data": {
      "text/plain": [
       "val point : float * float = (1.75, 2.5)\n"
      ]
     },
     "execution_count": 1,
     "metadata": {},
     "output_type": "execute_result"
    }
   ],
   "source": [
    "let point = (1.75, 2.5)  (* un couple de 2 flottants *)"
   ]
  },
  {
   "cell_type": "markdown",
   "metadata": {},
   "source": [
    "OCaml nous répond que `point` est de type `float*float`, ce qui signifie un couple de 2 `float.`  \n",
    "On peut récupérer les coordonnées d'un $n$-uplet de la façon suivante :"
   ]
  },
  {
   "cell_type": "code",
   "execution_count": 2,
   "metadata": {
    "execution": {
     "iopub.execute_input": "2021-09-17T20:06:37.286187Z",
     "iopub.status.busy": "2021-09-17T20:06:37.285605Z",
     "iopub.status.idle": "2021-09-17T20:06:37.291063Z",
     "shell.execute_reply": "2021-09-17T20:06:37.290600Z"
    }
   },
   "outputs": [
    {
     "data": {
      "text/plain": [
       "val a : float = 1.75\n",
       "val b : float = 2.5\n"
      ]
     },
     "execution_count": 2,
     "metadata": {},
     "output_type": "execute_result"
    }
   ],
   "source": [
    "let (a, b) = point  (* met la 1ère coordonnée de point dans a et la 2ème dans b *)"
   ]
  },
  {
   "cell_type": "markdown",
   "metadata": {},
   "source": [
    "Dans le cas d'un couple, on peut aussi récupérer le 1er et 2ème élement avec les fonctions `fst` et `snd` :"
   ]
  },
  {
   "cell_type": "code",
   "execution_count": 3,
   "metadata": {
    "execution": {
     "iopub.execute_input": "2021-09-17T20:06:37.293071Z",
     "iopub.status.busy": "2021-09-17T20:06:37.292448Z",
     "iopub.status.idle": "2021-09-17T20:06:37.295389Z",
     "shell.execute_reply": "2021-09-17T20:06:37.295807Z"
    }
   },
   "outputs": [
    {
     "data": {
      "text/plain": [
       "- : float = 1.75\n"
      ]
     },
     "execution_count": 3,
     "metadata": {},
     "output_type": "execute_result"
    }
   ],
   "source": [
    "fst point;;\n",
    "snd point;;"
   ]
  },
  {
   "cell_type": "markdown",
   "metadata": {},
   "source": [
    "**Exercice** À votre avis, quels sont les types de `fst` et `snd` ? Vérifier avec OCaml."
   ]
  },
  {
   "cell_type": "markdown",
   "metadata": {},
   "source": [
    "Dans une fonction, on peut aussi décomposer directement le tuple en argument de la fonction :"
   ]
  },
  {
   "cell_type": "code",
   "execution_count": 4,
   "metadata": {
    "execution": {
     "iopub.execute_input": "2021-09-17T20:06:37.299343Z",
     "iopub.status.busy": "2021-09-17T20:06:37.297596Z",
     "iopub.status.idle": "2021-09-17T20:06:37.301482Z",
     "shell.execute_reply": "2021-09-17T20:06:37.302434Z"
    }
   },
   "outputs": [
    {
     "data": {
      "text/plain": [
       "val mid : float * float -> float * float -> float * float = <fun>\n"
      ]
     },
     "execution_count": 4,
     "metadata": {},
     "output_type": "execute_result"
    }
   ],
   "source": [
    "let mid (x1, y1) (x2, y2) = (* renvoie le milieu des deux points *)\n",
    "  (x1 +. x2) /. 2., (y1 +. y2) /. 2."
   ]
  },
  {
   "cell_type": "markdown",
   "metadata": {},
   "source": [
    "Les parenthèses sont en fait faculatitives autour d'un tuple : l'instruction précédente est donc équivalente à `let a, b = point`. De plus, attention à utiliser `.` et pas `,` pour des flottants, sinon on obtient un tuple :"
   ]
  },
  {
   "cell_type": "code",
   "execution_count": 5,
   "metadata": {
    "execution": {
     "iopub.execute_input": "2021-09-17T20:06:37.304415Z",
     "iopub.status.busy": "2021-09-17T20:06:37.303864Z",
     "iopub.status.idle": "2021-09-17T20:06:37.306048Z",
     "shell.execute_reply": "2021-09-17T20:06:37.306552Z"
    }
   },
   "outputs": [
    {
     "data": {
      "text/plain": [
       "- : int * int = (3, 14)\n"
      ]
     },
     "execution_count": 5,
     "metadata": {},
     "output_type": "execute_result"
    }
   ],
   "source": [
    "3,14  (* Attention : c'est un tuple et non pas un flottant *)"
   ]
  },
  {
   "cell_type": "markdown",
   "metadata": {},
   "source": [
    "Un $n$-uplets peut contenir des contenir des éléments de types différents :"
   ]
  },
  {
   "cell_type": "code",
   "execution_count": 6,
   "metadata": {
    "execution": {
     "iopub.execute_input": "2021-09-17T20:06:37.308485Z",
     "iopub.status.busy": "2021-09-17T20:06:37.307950Z",
     "iopub.status.idle": "2021-09-17T20:06:37.311401Z",
     "shell.execute_reply": "2021-09-17T20:06:37.311873Z"
    }
   },
   "outputs": [
    {
     "data": {
      "text/plain": [
       "val t : int * float * bool = (1, 2.2, true)\n"
      ]
     },
     "execution_count": 6,
     "metadata": {},
     "output_type": "execute_result"
    }
   ],
   "source": [
    "let t = (1, 2.2, true)  (* un triple contenant un entier, un flottant et un booléen *)"
   ]
  },
  {
   "cell_type": "markdown",
   "metadata": {},
   "source": [
    "Deux tuples sont égaux s'ils sont de même taille et que les composantes sont égales 2 à 2 :"
   ]
  },
  {
   "cell_type": "code",
   "execution_count": 7,
   "metadata": {
    "execution": {
     "iopub.execute_input": "2021-09-17T20:06:37.313856Z",
     "iopub.status.busy": "2021-09-17T20:06:37.313353Z",
     "iopub.status.idle": "2021-09-17T20:06:37.318849Z",
     "shell.execute_reply": "2021-09-17T20:06:37.318249Z"
    }
   },
   "outputs": [
    {
     "data": {
      "text/plain": [
       "- : bool = true\n"
      ]
     },
     "execution_count": 7,
     "metadata": {},
     "output_type": "execute_result"
    },
    {
     "data": {
      "text/plain": [
       "- : bool = false\n"
      ]
     },
     "execution_count": 7,
     "metadata": {},
     "output_type": "execute_result"
    }
   ],
   "source": [
    "(1, 2) = (1, 2);;\n",
    "(1, 2) = (1, 3);;"
   ]
  },
  {
   "cell_type": "markdown",
   "metadata": {},
   "source": [
    "**Exercice** : On représente un nombre complexe par un couple de flottants (composé de la partie réelle et partie imaginaire).\n",
    "1. Définir $1 - 2i$ sous forme de couple.  \n",
    "2. Définir une fonction `conjugue : float*float -> float*float` renvoyant le conjugué $\\bar{z}$ d'un nombre complexe $z$.  \n",
    "3. Écrire une fonction `add` qui prend deux nombres complexes $z_1$ et $z_2$ en arguments et renvoie $z_1 + z_2$.  \n",
    "4. Écrire une fonction `mul` qui multiplie deux nombres complexes en arguments.  \n",
    "5. Écrire une fonction `div` qui divise deux nombres complexes en arguments (on utilisera la multiplication par le conjugué : $\\frac{a + ib}{c + id} = \\frac{(a + ib)(c - id)}{(c + id)(c - id)} = \\frac{ac + bd + i(bc - ad)}{c^2 - d^2}$"
   ]
  },
  {
   "cell_type": "code",
   "execution_count": 8,
   "metadata": {
    "execution": {
     "iopub.execute_input": "2021-09-17T20:06:37.321011Z",
     "iopub.status.busy": "2021-09-17T20:06:37.320368Z",
     "iopub.status.idle": "2021-09-17T20:06:37.341620Z",
     "shell.execute_reply": "2021-09-17T20:06:37.341007Z"
    },
    "tags": [
     "cor"
    ]
   },
   "outputs": [
    {
     "data": {
      "text/plain": [
       "val z : float * float = (1., -2.)\n"
      ]
     },
     "execution_count": 8,
     "metadata": {},
     "output_type": "execute_result"
    },
    {
     "data": {
      "text/plain": [
       "val conjugue : 'a * float -> 'a * float = <fun>\n"
      ]
     },
     "execution_count": 8,
     "metadata": {},
     "output_type": "execute_result"
    },
    {
     "data": {
      "text/plain": [
       "- : float * float = (1., 2.)\n"
      ]
     },
     "execution_count": 8,
     "metadata": {},
     "output_type": "execute_result"
    },
    {
     "data": {
      "text/plain": [
       "- : float * float = (2., -4.)\n"
      ]
     },
     "execution_count": 8,
     "metadata": {},
     "output_type": "execute_result"
    },
    {
     "data": {
      "text/plain": [
       "- : float * float = (-3., -4.)\n"
      ]
     },
     "execution_count": 8,
     "metadata": {},
     "output_type": "execute_result"
    },
    {
     "data": {
      "text/plain": [
       "- : float * float = (1., 0.)\n"
      ]
     },
     "execution_count": 8,
     "metadata": {},
     "output_type": "execute_result"
    }
   ],
   "source": [
    "(* 1. *)\n",
    "let z = (1., -.2.);;\n",
    "\n",
    "(* 2. *)\n",
    "let conjugue (a, b) = \n",
    "  (a, -.b);;\n",
    "conjugue z;;\n",
    "\n",
    "(* 3. *)\n",
    "let add z1 z2 =\n",
    "  (fst z1 +. fst z2, snd z1 +. snd z2) in\n",
    "add z z;;  (* z + z = 2 - 4i *)\n",
    "\n",
    "(* 4. *)\n",
    "let mul z1 z2 =\n",
    "  let re1, im1 = z1 in  (* pour simplifier les calculs *)\n",
    "  let re2, im2 = z2 in \n",
    "  (re1*.re2 -. im1*.im2, re1*.im2 +. re2*.im1) in\n",
    "mul z z;;  (* z*z = (1 - 2i)(1 - 2i) = 1 - 4 - 2i - 2i = -3 - 4i*)\n",
    "\n",
    "(* 5. *)\n",
    "let div z1 z2 =\n",
    "  let a, b = z1 in  (* pour simplifier les calculs *)\n",
    "  let c, d = z2 in\n",
    "  let denom = c*.c +. d*.d in\n",
    "  ((a*.c +. b*.d)/.denom, (b*.c -. a*.d)/.denom) in\n",
    "div z z;;  (* z/z = 1 *)"
   ]
  },
  {
   "cell_type": "markdown",
   "metadata": {},
   "source": [
    "Une des utilités des tuples et de permettre de renvoyer plusieurs résultats par une fonction (on les renvoie sous forme de tuple)."
   ]
  },
  {
   "cell_type": "markdown",
   "metadata": {},
   "source": [
    "## Listes"
   ]
  },
  {
   "cell_type": "markdown",
   "metadata": {},
   "source": [
    "Une liste se définie avec des crochets (`[...]`), les éléments étant séparés par des point-virgules (`;`) :"
   ]
  },
  {
   "cell_type": "code",
   "execution_count": 9,
   "metadata": {
    "execution": {
     "iopub.execute_input": "2021-09-17T20:06:37.344174Z",
     "iopub.status.busy": "2021-09-17T20:06:37.343572Z",
     "iopub.status.idle": "2021-09-17T20:06:37.346543Z",
     "shell.execute_reply": "2021-09-17T20:06:37.347009Z"
    }
   },
   "outputs": [
    {
     "data": {
      "text/plain": [
       "- : int list = [1; 7; -1]\n"
      ]
     },
     "execution_count": 9,
     "metadata": {},
     "output_type": "execute_result"
    }
   ],
   "source": [
    "[1; 7; -1]  (* liste composée de 3 entiers *)"
   ]
  },
  {
   "cell_type": "markdown",
   "metadata": {},
   "source": [
    "OCaml nous indique qu'il s'agit d'une valeur de type `int list`, c'est à dire liste d'entiers. Voici d'autres exemples de listes :"
   ]
  },
  {
   "cell_type": "code",
   "execution_count": 10,
   "metadata": {
    "execution": {
     "iopub.execute_input": "2021-09-17T20:06:37.349206Z",
     "iopub.status.busy": "2021-09-17T20:06:37.348513Z",
     "iopub.status.idle": "2021-09-17T20:06:37.351768Z",
     "shell.execute_reply": "2021-09-17T20:06:37.351243Z"
    }
   },
   "outputs": [
    {
     "data": {
      "text/plain": [
       "- : float list = [3.14; 2.718]\n"
      ]
     },
     "execution_count": 10,
     "metadata": {},
     "output_type": "execute_result"
    }
   ],
   "source": [
    "[3.14; 2.718]  (* liste de 2 flottants *)"
   ]
  },
  {
   "cell_type": "code",
   "execution_count": 11,
   "metadata": {
    "execution": {
     "iopub.execute_input": "2021-09-17T20:06:37.354627Z",
     "iopub.status.busy": "2021-09-17T20:06:37.354032Z",
     "iopub.status.idle": "2021-09-17T20:06:37.356617Z",
     "shell.execute_reply": "2021-09-17T20:06:37.356023Z"
    }
   },
   "outputs": [
    {
     "data": {
      "text/plain": [
       "- : 'a list = []\n"
      ]
     },
     "execution_count": 11,
     "metadata": {},
     "output_type": "execute_result"
    }
   ],
   "source": [
    "[]  (* liste vide *)"
   ]
  },
  {
   "cell_type": "markdown",
   "metadata": {},
   "source": [
    "Par contre, on ne peut pas avoir plusieurs types différents dans la même liste :"
   ]
  },
  {
   "cell_type": "code",
   "execution_count": 12,
   "metadata": {
    "execution": {
     "iopub.execute_input": "2021-09-17T20:06:37.358611Z",
     "iopub.status.busy": "2021-09-17T20:06:37.358030Z",
     "iopub.status.idle": "2021-09-17T20:06:37.360743Z",
     "shell.execute_reply": "2021-09-17T20:06:37.361221Z"
    }
   },
   "outputs": [
    {
     "ename": "error",
     "evalue": "compile_error",
     "output_type": "error",
     "traceback": [
      "File \"[12]\", line 1, characters 7-8:\n1 | [3.14; 2]\n           ^\nError: This expression has type int but an expression was expected of type\n         float\n"
     ]
    }
   ],
   "source": [
    "[3.14; 2]"
   ]
  },
  {
   "cell_type": "markdown",
   "metadata": {},
   "source": [
    "L'instruction <mark>`e::l` renvoie une liste obtenue à partir de l en ajoutant l'élément e au début</mark> :"
   ]
  },
  {
   "cell_type": "code",
   "execution_count": 13,
   "metadata": {
    "execution": {
     "iopub.execute_input": "2021-09-17T20:06:37.363176Z",
     "iopub.status.busy": "2021-09-17T20:06:37.362614Z",
     "iopub.status.idle": "2021-09-17T20:06:37.365643Z",
     "shell.execute_reply": "2021-09-17T20:06:37.365135Z"
    }
   },
   "outputs": [
    {
     "data": {
      "text/plain": [
       "- : int list = [1; 2; 3]\n"
      ]
     },
     "execution_count": 13,
     "metadata": {},
     "output_type": "execute_result"
    }
   ],
   "source": [
    "1::[2; 3]  (* ajoute 1 au début de la liste [2; 3] *)"
   ]
  },
  {
   "cell_type": "markdown",
   "metadata": {},
   "source": [
    "**Attention** : <mark>cons (`::`) renvoie une nouvelle liste, mais ne modifie pas celle à droite</mark>. Par exemple :"
   ]
  },
  {
   "cell_type": "code",
   "execution_count": 14,
   "metadata": {
    "execution": {
     "iopub.execute_input": "2021-09-17T20:06:37.367543Z",
     "iopub.status.busy": "2021-09-17T20:06:37.366994Z",
     "iopub.status.idle": "2021-09-17T20:06:37.372567Z",
     "shell.execute_reply": "2021-09-17T20:06:37.370577Z"
    }
   },
   "outputs": [
    {
     "data": {
      "text/plain": [
       "val l : int list = [1; 2; 3]\n"
      ]
     },
     "execution_count": 14,
     "metadata": {},
     "output_type": "execute_result"
    },
    {
     "data": {
      "text/plain": [
       "- : int list = [0; 1; 2; 3]\n"
      ]
     },
     "execution_count": 14,
     "metadata": {},
     "output_type": "execute_result"
    },
    {
     "data": {
      "text/plain": [
       "- : int list = [1; 2; 3]\n"
      ]
     },
     "execution_count": 14,
     "metadata": {},
     "output_type": "execute_result"
    }
   ],
   "source": [
    "let l = [1; 2; 3];;\n",
    "0::l;;  (* donne une nouvelle liste *)\n",
    "l;;  (* l n'a pas été modifiée *)"
   ]
  },
  {
   "cell_type": "markdown",
   "metadata": {},
   "source": [
    "Si on veut ajouter un élément à une liste, il faut donc construire une nouvelle liste :"
   ]
  },
  {
   "cell_type": "code",
   "execution_count": 15,
   "metadata": {
    "execution": {
     "iopub.execute_input": "2021-09-17T20:06:37.375060Z",
     "iopub.status.busy": "2021-09-17T20:06:37.374038Z",
     "iopub.status.idle": "2021-09-17T20:06:37.376958Z",
     "shell.execute_reply": "2021-09-17T20:06:37.376436Z"
    }
   },
   "outputs": [
    {
     "data": {
      "text/plain": [
       "val l2 : int list = [0; 1; 2; 3]\n"
      ]
     },
     "execution_count": 15,
     "metadata": {},
     "output_type": "execute_result"
    }
   ],
   "source": [
    "let l2 = 0::l;;  (* l2 est une nouvelle liste obtenue à partir de l en rajoutant 0 *)"
   ]
  },
  {
   "cell_type": "markdown",
   "metadata": {},
   "source": [
    "**Attention** On ne peut pas ajouter simplement d'élément à la fin d'une liste (il faudrait parcourir récursivement chaque élément de la liste jusqu'à la fin, ce qui est inefficace). "
   ]
  },
  {
   "cell_type": "markdown",
   "metadata": {},
   "source": [
    "On peut se servir de `::` pour construire une liste élément par élément, avec une fonction récursive :"
   ]
  },
  {
   "cell_type": "code",
   "execution_count": 16,
   "metadata": {
    "execution": {
     "iopub.execute_input": "2021-09-17T20:06:37.379300Z",
     "iopub.status.busy": "2021-09-17T20:06:37.378478Z",
     "iopub.status.idle": "2021-09-17T20:06:37.385994Z",
     "shell.execute_reply": "2021-09-17T20:06:37.385507Z"
    }
   },
   "outputs": [
    {
     "data": {
      "text/plain": [
       "val range : int -> int list = <fun>\n"
      ]
     },
     "execution_count": 16,
     "metadata": {},
     "output_type": "execute_result"
    },
    {
     "data": {
      "text/plain": [
       "- : int list = [5; 4; 3; 2; 1]\n"
      ]
     },
     "execution_count": 16,
     "metadata": {},
     "output_type": "execute_result"
    }
   ],
   "source": [
    "let rec range n =  (* renvoie la liste des entiers de 1 à n (à l'envers) *)\n",
    "  if n = 0 then []  (* cas de base *)\n",
    "  else n::range (n-1);;\n",
    "  \n",
    "range 5"
   ]
  },
  {
   "cell_type": "markdown",
   "metadata": {},
   "source": [
    "**Exercice** : Écrire une fonction `pairs : int -> int list` telle que `pairs n` renvoie la liste des entiers pairs entre $0$ et $2n$ (inclus)."
   ]
  },
  {
   "cell_type": "code",
   "execution_count": 17,
   "metadata": {
    "execution": {
     "iopub.execute_input": "2021-09-17T20:06:37.388093Z",
     "iopub.status.busy": "2021-09-17T20:06:37.387515Z",
     "iopub.status.idle": "2021-09-17T20:06:37.391774Z",
     "shell.execute_reply": "2021-09-17T20:06:37.391323Z"
    },
    "tags": [
     "cor"
    ]
   },
   "outputs": [
    {
     "data": {
      "text/plain": [
       "val pairs : int -> int list = <fun>\n"
      ]
     },
     "execution_count": 17,
     "metadata": {},
     "output_type": "execute_result"
    },
    {
     "data": {
      "text/plain": [
       "- : int list = [6; 4; 2; 0]\n"
      ]
     },
     "execution_count": 17,
     "metadata": {},
     "output_type": "execute_result"
    }
   ],
   "source": [
    "let rec pairs n = \n",
    "  if n < 0 then []\n",
    "  else n::pairs (n - 2);;\n",
    "\n",
    "pairs 6"
   ]
  },
  {
   "cell_type": "markdown",
   "metadata": {},
   "source": [
    "## Pattern matching (filtrage)"
   ]
  },
  {
   "cell_type": "markdown",
   "metadata": {},
   "source": [
    "### Pattern matching simple"
   ]
  },
  {
   "cell_type": "markdown",
   "metadata": {},
   "source": [
    "La façon classique de parcourir une liste `l` en OCaml est d'utiliser un **pattern matching**, qui consiste à regarder la forme de `l` :\n",
    "- soit `l` est vide (cas de base)\n",
    "- soit `l` contient un premier élément (la tête), puis le reste de la liste (la queue)\n",
    "\n",
    "Voici la syntaxe OCaml :"
   ]
  },
  {
   "cell_type": "code",
   "execution_count": 18,
   "metadata": {
    "execution": {
     "iopub.execute_input": "2021-09-17T20:06:37.394489Z",
     "iopub.status.busy": "2021-09-17T20:06:37.393483Z",
     "iopub.status.idle": "2021-09-17T20:06:37.396361Z",
     "shell.execute_reply": "2021-09-17T20:06:37.395887Z"
    }
   },
   "outputs": [
    {
     "data": {
      "text/plain": [
       "val l : int list = [1; 2; 3]\n"
      ]
     },
     "execution_count": 18,
     "metadata": {},
     "output_type": "execute_result"
    }
   ],
   "source": [
    "let l = [1; 2; 3]"
   ]
  },
  {
   "cell_type": "code",
   "execution_count": 19,
   "metadata": {
    "execution": {
     "iopub.execute_input": "2021-09-17T20:06:37.398438Z",
     "iopub.status.busy": "2021-09-17T20:06:37.397913Z",
     "iopub.status.idle": "2021-09-17T20:06:37.401114Z",
     "shell.execute_reply": "2021-09-17T20:06:37.400604Z"
    }
   },
   "outputs": [
    {
     "data": {
      "text/plain": [
       "- : int = 1\n"
      ]
     },
     "execution_count": 19,
     "metadata": {},
     "output_type": "execute_result"
    }
   ],
   "source": [
    "match l with\n",
    "  | [] -> 0  (* si l est vide, on renvoie 0 *)\n",
    "  | e::q -> e  (* sinon l est de la forme e::q, on renvoie e *)"
   ]
  },
  {
   "cell_type": "markdown",
   "metadata": {},
   "source": [
    "Comme `l` est non-vide, on passe dans le 2ème cas du match et on affiche le premier élément de `l`. Essayez de mettre une liste vide à la place de `l` dans le `match` précédent pour voir la différence."
   ]
  },
  {
   "cell_type": "markdown",
   "metadata": {},
   "source": [
    "La plupart du temps, <mark>on utilise un `match` dans une fonction récursive ayant une liste en argument</mark>. Voici par exemple une fonction récursive pour calculer le nombre d'éléments d'une liste :"
   ]
  },
  {
   "cell_type": "code",
   "execution_count": 20,
   "metadata": {
    "execution": {
     "iopub.execute_input": "2021-09-17T20:06:37.403302Z",
     "iopub.status.busy": "2021-09-17T20:06:37.402750Z",
     "iopub.status.idle": "2021-09-17T20:06:37.407123Z",
     "shell.execute_reply": "2021-09-17T20:06:37.406643Z"
    }
   },
   "outputs": [
    {
     "data": {
      "text/plain": [
       "val taille : 'a list -> int = <fun>\n"
      ]
     },
     "execution_count": 20,
     "metadata": {},
     "output_type": "execute_result"
    },
    {
     "data": {
      "text/plain": [
       "- : int = 3\n"
      ]
     },
     "execution_count": 20,
     "metadata": {},
     "output_type": "execute_result"
    }
   ],
   "source": [
    "let rec taille l = match l with\n",
    "  | [] -> 0  (* une liste vide est de taille 0 *)\n",
    "  | e::q -> 1 + taille q;;  (* sinon l contient e + tous les éléments de q *)\n",
    "\n",
    "taille l;;  (* vérification *)"
   ]
  },
  {
   "cell_type": "markdown",
   "metadata": {},
   "source": [
    "**Remarque** : OCaml nous dit que `taille` est de type `'a list -> int`. `'a` signifie \"n'importe quel type\". Il n'y a donc pas de contrainte sur le type des éléments de la liste `l` en argument."
   ]
  },
  {
   "cell_type": "markdown",
   "metadata": {},
   "source": [
    "**Remarque** : quand une fonction possède un seul argument qui est une liste, on peut écrire `let f = function ...` au lieu de `let f l = match l with ...`. Par exemple on peut réécrire la fonction `taille` précédente :"
   ]
  },
  {
   "cell_type": "code",
   "execution_count": 21,
   "metadata": {
    "execution": {
     "iopub.execute_input": "2021-09-17T20:06:37.409174Z",
     "iopub.status.busy": "2021-09-17T20:06:37.408583Z",
     "iopub.status.idle": "2021-09-17T20:06:37.414346Z",
     "shell.execute_reply": "2021-09-17T20:06:37.413871Z"
    }
   },
   "outputs": [
    {
     "data": {
      "text/plain": [
       "val taille : 'a list -> int = <fun>\n"
      ]
     },
     "execution_count": 21,
     "metadata": {},
     "output_type": "execute_result"
    }
   ],
   "source": [
    "let rec taille = function  (* même chose que let taille l = match l with ... *)\n",
    "  | [] -> 0\n",
    "  | e::q -> 1 + taille q;;"
   ]
  },
  {
   "cell_type": "markdown",
   "metadata": {},
   "source": [
    "**Exercice** : \n",
    "1. Écrire une fonction `somme : int list -> int` pour calculer la somme des termes d'une liste. Par exemple, `somme [4; 7; 3]` doit renvoyer $14$.\n",
    "2. Réutiliser la fonction `range` ci-dessus pour calculer la somme des entiers de $1$ à $n$."
   ]
  },
  {
   "cell_type": "code",
   "execution_count": 22,
   "metadata": {
    "execution": {
     "iopub.execute_input": "2021-09-17T20:06:37.416411Z",
     "iopub.status.busy": "2021-09-17T20:06:37.415881Z",
     "iopub.status.idle": "2021-09-17T20:06:37.422855Z",
     "shell.execute_reply": "2021-09-17T20:06:37.421633Z"
    },
    "tags": [
     "cor"
    ]
   },
   "outputs": [
    {
     "data": {
      "text/plain": [
       "val somme : int list -> int = <fun>\n"
      ]
     },
     "execution_count": 22,
     "metadata": {},
     "output_type": "execute_result"
    },
    {
     "data": {
      "text/plain": [
       "- : int = 14\n"
      ]
     },
     "execution_count": 22,
     "metadata": {},
     "output_type": "execute_result"
    },
    {
     "data": {
      "text/plain": [
       "val somme_gauss : int -> int = <fun>\n"
      ]
     },
     "execution_count": 22,
     "metadata": {},
     "output_type": "execute_result"
    },
    {
     "data": {
      "text/plain": [
       "- : int = 10\n"
      ]
     },
     "execution_count": 22,
     "metadata": {},
     "output_type": "execute_result"
    }
   ],
   "source": [
    "(* 1. *)\n",
    "let rec somme l = match l with\n",
    "  | [] -> 0\n",
    "  | e::q -> e + somme q;;\n",
    "\n",
    "somme [4; 7; 3]\n",
    "\n",
    "(* 2. *)\n",
    "let somme_gauss n =\n",
    "  somme (range n);;\n",
    "\n",
    "somme_gauss 4;;  (* 4 + 3 + 2 + 1 *)"
   ]
  },
  {
   "cell_type": "markdown",
   "metadata": {},
   "source": [
    "**Exercice** : Écrire une fonction `maximum` permettant de renvoyer le plus grand élément d'une liste d'entiers."
   ]
  },
  {
   "cell_type": "code",
   "execution_count": 23,
   "metadata": {
    "execution": {
     "iopub.execute_input": "2021-09-17T20:06:37.425029Z",
     "iopub.status.busy": "2021-09-17T20:06:37.424416Z",
     "iopub.status.idle": "2021-09-17T20:06:37.431950Z",
     "shell.execute_reply": "2021-09-17T20:06:37.431421Z"
    },
    "tags": [
     "cor"
    ]
   },
   "outputs": [
    {
     "data": {
      "text/plain": [
       "val maximum : int list -> int = <fun>\n"
      ]
     },
     "execution_count": 23,
     "metadata": {},
     "output_type": "execute_result"
    },
    {
     "data": {
      "text/plain": [
       "val maximum : int list -> int = <fun>\n"
      ]
     },
     "execution_count": 23,
     "metadata": {},
     "output_type": "execute_result"
    },
    {
     "data": {
      "text/plain": [
       "- : int = 4\n"
      ]
     },
     "execution_count": 23,
     "metadata": {},
     "output_type": "execute_result"
    }
   ],
   "source": [
    "let rec maximum l = match l with\n",
    "    | [] -> min_int  (* par convention, le max d'un ensemble vide est -infini *)\n",
    "                     (* c'est pratique pour que n'importe quelle valeur remplace -infini *)\n",
    "    | e::q -> max e (maximum l);;  (* en utilisant la fonction max *)\n",
    "    \n",
    "let rec maximum l = match l with\n",
    "    | [] -> min_int\n",
    "    | e::q -> let m = maximum q in  (* sans utiliser la fonction max *)\n",
    "        if e > m then e\n",
    "        else m;;\n",
    "        \n",
    "maximum [1; 4; 2; 3]"
   ]
  },
  {
   "cell_type": "markdown",
   "metadata": {},
   "source": [
    "### Pattern matching plus avancé\n",
    "\n",
    "Un pattern matching peut aussi permettre de décomposer sous d'autres formes :"
   ]
  },
  {
   "cell_type": "code",
   "execution_count": 24,
   "metadata": {
    "execution": {
     "iopub.execute_input": "2021-09-17T20:06:37.434143Z",
     "iopub.status.busy": "2021-09-17T20:06:37.433561Z",
     "iopub.status.idle": "2021-09-17T20:06:37.442864Z",
     "shell.execute_reply": "2021-09-17T20:06:37.439095Z"
    }
   },
   "outputs": [
    {
     "name": "stderr",
     "output_type": "stream",
     "text": [
      "File \"[24]\", line 1, characters 17-96:\n",
      "1 | .................match l with  (* renvoie le 2ème élément d'une liste  *)\n",
      "2 |   | e1::e2::q -> e2...................................................................................................\n",
      "Warning 8: this pattern-matching is not exhaustive.\n",
      "Here is an example of a case that is not matched:\n",
      "(_::[]|[])\n"
     ]
    },
    {
     "data": {
      "text/plain": [
       "val deuxieme : 'a list -> 'a = <fun>\n"
      ]
     },
     "execution_count": 24,
     "metadata": {},
     "output_type": "execute_result"
    },
    {
     "data": {
      "text/plain": [
       "- : int = 7\n"
      ]
     },
     "execution_count": 24,
     "metadata": {},
     "output_type": "execute_result"
    }
   ],
   "source": [
    "let deuxieme l = match l with  (* renvoie le 2ème élément d'une liste  *)\n",
    "  | e1::e2::q -> e2;;  (* décompose la liste en le 1er élément e1, le 2ème e2 et la liste des autres éléments *)\n",
    "\n",
    "deuxieme [4; 7; 3]"
   ]
  },
  {
   "cell_type": "markdown",
   "metadata": {},
   "source": [
    "**Remarque** : OCaml nous dit que notre pattern matching ne couvre pas tous les cas. En effet, notre fonction ne dit pas quoi faire dans le cas où `l` contient 0 ou 1 élément. Il s'agit cependant d'un warning et pas d'une erreur, ce qui veut dire que OCaml exécute quand même l'instruction mais nous prévient d'un problème potentiel."
   ]
  },
  {
   "cell_type": "code",
   "execution_count": 25,
   "metadata": {
    "execution": {
     "iopub.execute_input": "2021-09-17T20:06:37.445141Z",
     "iopub.status.busy": "2021-09-17T20:06:37.444515Z",
     "iopub.status.idle": "2021-09-17T20:06:37.764994Z",
     "shell.execute_reply": "2021-09-17T20:06:37.764408Z"
    }
   },
   "outputs": [
    {
     "ename": "error",
     "evalue": "runtime_error",
     "output_type": "error",
     "traceback": [
      "\u001b[31mException: Match_failure (\"[24]\", 1, 17).\nCalled from file \"toplevel/toploop.ml\", line 208, characters 17-27\n\u001b[0m"
     ]
    }
   ],
   "source": [
    "deuxieme []  (* donne une exception *)"
   ]
  },
  {
   "cell_type": "markdown",
   "metadata": {},
   "source": [
    "Voici comment on peut considérer tous les cas possibles :"
   ]
  },
  {
   "cell_type": "code",
   "execution_count": 26,
   "metadata": {
    "execution": {
     "iopub.execute_input": "2021-09-17T20:06:37.767499Z",
     "iopub.status.busy": "2021-09-17T20:06:37.766678Z",
     "iopub.status.idle": "2021-09-17T20:06:37.772276Z",
     "shell.execute_reply": "2021-09-17T20:06:37.771023Z"
    }
   },
   "outputs": [
    {
     "data": {
      "text/plain": [
       "exception NotDefined\n"
      ]
     },
     "execution_count": 26,
     "metadata": {},
     "output_type": "execute_result"
    },
    {
     "data": {
      "text/plain": [
       "val deuxieme : 'a list -> 'a = <fun>\n"
      ]
     },
     "execution_count": 26,
     "metadata": {},
     "output_type": "execute_result"
    },
    {
     "data": {
      "text/plain": [
       "- : int = 7\n"
      ]
     },
     "execution_count": 26,
     "metadata": {},
     "output_type": "execute_result"
    }
   ],
   "source": [
    "exception NotDefined;;\n",
    "\n",
    "let deuxieme l = match l with  (* renvoie le 2ème élément d'une liste  *)\n",
    "  | [] -> raise NotDefined  (* cas où la liste est vide *)\n",
    "  | [e] -> raise NotDefined  (* cas où la liste n'a qu'un élément **)\n",
    "  | e1::e2::q -> e2;;  (* cas où la liste a au moins 2 éléments *)\n",
    "\n",
    "deuxieme [4; 7; 3]"
   ]
  },
  {
   "cell_type": "markdown",
   "metadata": {},
   "source": [
    "On peut aussi utiliser underscore (`_`) dans un `match` pour signifier \"dans tous les cas\". Par exemple, on peut regrouper les deux premiers cas de `deuxieme` :"
   ]
  },
  {
   "cell_type": "code",
   "execution_count": 27,
   "metadata": {
    "execution": {
     "iopub.execute_input": "2021-09-17T20:06:37.774374Z",
     "iopub.status.busy": "2021-09-17T20:06:37.773840Z",
     "iopub.status.idle": "2021-09-17T20:06:37.777073Z",
     "shell.execute_reply": "2021-09-17T20:06:37.776591Z"
    }
   },
   "outputs": [
    {
     "data": {
      "text/plain": [
       "val deuxieme : 'a list -> 'a = <fun>\n"
      ]
     },
     "execution_count": 27,
     "metadata": {},
     "output_type": "execute_result"
    }
   ],
   "source": [
    "let deuxieme l = match l with\n",
    "| e1::e2::q -> e2\n",
    "| _ -> raise NotDefined  (* dans tous les autres cas *)"
   ]
  },
  {
   "cell_type": "markdown",
   "metadata": {},
   "source": [
    "Comme <mark>un match considère les cas de haut en bas</mark>, il faut mettre `| _ ->` en dernier sinon l'autre cas ne serait jamais exécuté.  \n",
    "**Remarque** underscore est aussi utilisé lorsque l'on ne souhaite pas nommer une variable (comme en Python) :"
   ]
  },
  {
   "cell_type": "code",
   "execution_count": 28,
   "metadata": {
    "execution": {
     "iopub.execute_input": "2021-09-17T20:06:37.779637Z",
     "iopub.status.busy": "2021-09-17T20:06:37.778606Z",
     "iopub.status.idle": "2021-09-17T20:06:37.781475Z",
     "shell.execute_reply": "2021-09-17T20:06:37.780997Z"
    }
   },
   "outputs": [
    {
     "data": {
      "text/plain": [
       "- : int = 1\n"
      ]
     },
     "execution_count": 28,
     "metadata": {},
     "output_type": "execute_result"
    }
   ],
   "source": [
    "let p = (1, 2) in\n",
    "let x, _ = p in   (* récupère seulement x *)\n",
    "x"
   ]
  },
  {
   "cell_type": "code",
   "execution_count": 29,
   "metadata": {
    "execution": {
     "iopub.execute_input": "2021-09-17T20:06:37.784835Z",
     "iopub.status.busy": "2021-09-17T20:06:37.784201Z",
     "iopub.status.idle": "2021-09-17T20:06:37.786594Z",
     "shell.execute_reply": "2021-09-17T20:06:37.785352Z"
    }
   },
   "outputs": [
    {
     "data": {
      "text/plain": [
       "- : unit = ()\n"
      ]
     },
     "execution_count": 29,
     "metadata": {},
     "output_type": "execute_result"
    }
   ],
   "source": [
    "for _=0 to 5 do  (* autre exemple : exécuter 6 fois un for sans utiliser de variable*)\n",
    "  ()\n",
    "done"
   ]
  },
  {
   "cell_type": "markdown",
   "metadata": {},
   "source": [
    "**Exercice** : Écrire une fonction `split : 'a list -> 'a list * 'a list` pour séparer une liste en deux listes de même taille (à 1 près). Les éléments d'indices pairs seront dans la 1ère liste, les autres dans la 2ème liste."
   ]
  },
  {
   "cell_type": "code",
   "execution_count": 30,
   "metadata": {
    "execution": {
     "iopub.execute_input": "2021-09-17T20:06:37.788716Z",
     "iopub.status.busy": "2021-09-17T20:06:37.788133Z",
     "iopub.status.idle": "2021-09-17T20:06:37.796382Z",
     "shell.execute_reply": "2021-09-17T20:06:37.795894Z"
    },
    "tags": [
     "cor"
    ]
   },
   "outputs": [
    {
     "data": {
      "text/plain": [
       "- : int list * int list = ([1; 3], [2; 4])\n"
      ]
     },
     "execution_count": 30,
     "metadata": {},
     "output_type": "execute_result"
    }
   ],
   "source": [
    "let rec split l = match l with\n",
    "    | [] -> [], []\n",
    "    | [e] -> [e], []  (* si la liste n'a qu'un élément e *)\n",
    "    | e1::e2::q -> let q1, q2 = split q in\n",
    "                   e1::q1, e2::q2 in\n",
    "split [1; 2; 3; 4]                "
   ]
  },
  {
   "cell_type": "markdown",
   "metadata": {},
   "source": [
    "**Exercice** Écrire une fonction `concat : 'a list -> 'a list -> 'a list` renvoyant une liste composée des deux listes en argument, l'une après l'autre.  "
   ]
  },
  {
   "cell_type": "code",
   "execution_count": 31,
   "metadata": {
    "execution": {
     "iopub.execute_input": "2021-09-17T20:06:37.798544Z",
     "iopub.status.busy": "2021-09-17T20:06:37.797995Z",
     "iopub.status.idle": "2021-09-17T20:06:37.805826Z",
     "shell.execute_reply": "2021-09-17T20:06:37.805197Z"
    },
    "tags": [
     "cor"
    ]
   },
   "outputs": [
    {
     "data": {
      "text/plain": [
       "- : int list = [1; 2; 3; 4]\n"
      ]
     },
     "execution_count": 31,
     "metadata": {},
     "output_type": "execute_result"
    }
   ],
   "source": [
    "let rec concat l1 l2 = match l1 with (* ici il est préférable de faire un match sur l1 seulement *)\n",
    "    | [] -> l2\n",
    "    | e::q -> e::concat q l2 in\n",
    "concat [1; 2] [3; 4]"
   ]
  },
  {
   "cell_type": "markdown",
   "metadata": {},
   "source": [
    "**Remarque** La fonction de l'exercice précédent existe déjà avec l'opérateur `@` :"
   ]
  },
  {
   "cell_type": "code",
   "execution_count": 32,
   "metadata": {
    "execution": {
     "iopub.execute_input": "2021-09-17T20:06:37.808219Z",
     "iopub.status.busy": "2021-09-17T20:06:37.807641Z",
     "iopub.status.idle": "2021-09-17T20:06:37.811604Z",
     "shell.execute_reply": "2021-09-17T20:06:37.811075Z"
    }
   },
   "outputs": [
    {
     "data": {
      "text/plain": [
       "- : int list = [1; 2; 3; 4; 5]\n"
      ]
     },
     "execution_count": 32,
     "metadata": {},
     "output_type": "execute_result"
    }
   ],
   "source": [
    "[1; 2; 3] @ [4; 5] (* concatène les deux listes et en renvoie une nouvelle *)"
   ]
  },
  {
   "cell_type": "markdown",
   "metadata": {},
   "source": [
    "Il est possible de décomposer plusieurs valeurs dans le même `match`, en les mettant sous forme de tuple :"
   ]
  },
  {
   "cell_type": "code",
   "execution_count": 33,
   "metadata": {
    "execution": {
     "iopub.execute_input": "2021-09-17T20:06:37.818199Z",
     "iopub.status.busy": "2021-09-17T20:06:37.817117Z",
     "iopub.status.idle": "2021-09-17T20:06:37.819991Z",
     "shell.execute_reply": "2021-09-17T20:06:37.819514Z"
    }
   },
   "outputs": [
    {
     "data": {
      "text/plain": [
       "val egal : 'a list -> 'a list -> bool = <fun>\n"
      ]
     },
     "execution_count": 33,
     "metadata": {},
     "output_type": "execute_result"
    }
   ],
   "source": [
    "let rec egal l1 l2 = match l1, l2 with  (* teste si l1 = l2 *)\n",
    "  | [], [] -> true\n",
    "  | e::q, [] -> false  (* l1 est non vide et l2 est vide *)\n",
    "  | [], e::q -> false  (* l1 est vide et l2 est non vide *)\n",
    "  | e1::q1, e2::q2 -> e1 = e2 && egal q1 q2;;"
   ]
  },
  {
   "cell_type": "code",
   "execution_count": 34,
   "metadata": {
    "execution": {
     "iopub.execute_input": "2021-09-17T20:06:37.822032Z",
     "iopub.status.busy": "2021-09-17T20:06:37.821495Z",
     "iopub.status.idle": "2021-09-17T20:06:37.828224Z",
     "shell.execute_reply": "2021-09-17T20:06:37.827671Z"
    }
   },
   "outputs": [
    {
     "data": {
      "text/plain": [
       "- : bool = true\n"
      ]
     },
     "execution_count": 34,
     "metadata": {},
     "output_type": "execute_result"
    },
    {
     "data": {
      "text/plain": [
       "- : bool = false\n"
      ]
     },
     "execution_count": 34,
     "metadata": {},
     "output_type": "execute_result"
    }
   ],
   "source": [
    "egal [1; 2; 3] [1; 2; 3];;\n",
    "egal [1; 2; 3] [1; 2];;"
   ]
  },
  {
   "cell_type": "markdown",
   "metadata": {},
   "source": [
    "### when\n",
    "\n",
    "`when` permet de mettre une condition sur un cas d'un pattern matching. Il peut remplacer un `if`. Par exemple :"
   ]
  },
  {
   "cell_type": "code",
   "execution_count": 35,
   "metadata": {
    "execution": {
     "iopub.execute_input": "2021-09-17T20:06:37.832976Z",
     "iopub.status.busy": "2021-09-17T20:06:37.832236Z",
     "iopub.status.idle": "2021-09-17T20:06:37.834818Z",
     "shell.execute_reply": "2021-09-17T20:06:37.833515Z"
    }
   },
   "outputs": [
    {
     "data": {
      "text/plain": [
       "val positifs : int list -> int list = <fun>\n"
      ]
     },
     "execution_count": 35,
     "metadata": {},
     "output_type": "execute_result"
    }
   ],
   "source": [
    "let rec positifs l = match l with  (* renvoie la liste des éléments positifs de l *)\n",
    "  | [] -> []\n",
    "  | e::q when e > 0 -> e::positifs q  (* on rajoute e à la liste de retour s'il est positif *)\n",
    "  | e::q -> positifs q;;  (* sinon on ajoute seulement les éléments positifs de q *) "
   ]
  },
  {
   "cell_type": "markdown",
   "metadata": {},
   "source": [
    "## Accumulateur de liste \n",
    "\n",
    "Écrivons une fonction récursive `rev` pour inverser les éléments d'une liste. La méthode classique utilise un **accumulateur** (qu'on avait déjà utilisé pour calculer les termes de la suite de Fibonacci)."
   ]
  },
  {
   "cell_type": "code",
   "execution_count": 36,
   "metadata": {
    "execution": {
     "iopub.execute_input": "2021-09-17T20:06:37.837926Z",
     "iopub.status.busy": "2021-09-17T20:06:37.837113Z",
     "iopub.status.idle": "2021-09-17T20:06:37.841403Z",
     "shell.execute_reply": "2021-09-17T20:06:37.840862Z"
    }
   },
   "outputs": [
    {
     "data": {
      "text/plain": [
       "val rev : 'a list -> 'a list -> 'a list = <fun>\n"
      ]
     },
     "execution_count": 36,
     "metadata": {},
     "output_type": "execute_result"
    },
    {
     "data": {
      "text/plain": [
       "- : int list = [3; 2; 1]\n"
      ]
     },
     "execution_count": 36,
     "metadata": {},
     "output_type": "execute_result"
    }
   ],
   "source": [
    "let rec rev acc l = match l with  (* acc va servir à construire le résultat (la liste à l'envers) *)\n",
    "  | [] -> acc\n",
    "  | e::q -> rev (e::acc) q;;\n",
    "\n",
    "  rev [] [1; 2; 3]  (* test *)"
   ]
  },
  {
   "cell_type": "markdown",
   "metadata": {},
   "source": [
    "Dans l'appel `rev [] l`, le premier élément `x` de `l` est celui qui est ajouté en premier à l'accumulateur et, comme tous les éléments suivants de `l` sont ajoutés au début de l'accumulateur (donc avant `x`), `x` se retrouve à la fin de l'accumulateur quand `rev` arrive sur le cas de base.  \n",
    "Le premier élément `x` se retrouve donc en dernier de l'accumulateur : on a bien inversé les éléments de `l`."
   ]
  }
 ],
 "metadata": {
  "interpreter": {
   "hash": "e8ada90d8a4953add78c43ca2aaed97b05f90e5c9cd24e11fb017c04e906ecda"
  },
  "kernelspec": {
   "display_name": "OCaml default",
   "language": "OCaml",
   "name": "ocaml-jupyter"
  },
  "language_info": {
   "codemirror_mode": "text/x-ocaml",
   "file_extension": ".ml",
   "mimetype": "text/x-ocaml",
   "name": "OCaml",
   "nbconverter_exporter": null,
   "pygments_lexer": "OCaml",
   "version": "4.08.1"
  },
  "title": "Structures de données de base"
 },
 "nbformat": 4,
 "nbformat_minor": 4
}

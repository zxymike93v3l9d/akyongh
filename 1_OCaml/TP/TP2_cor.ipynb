{
 "cells": [
  {
   "cell_type": "markdown",
   "id": "cd6c5049",
   "metadata": {},
   "source": [
    "# TP 2 : récursivité et conditions\n",
    "\n",
    "Dans tout le TP, il est interdit d'utiliser des boucles (pas de `for` ni `while`).\n",
    "\n",
    "Rappel : pensez à tester toutes vos fonctions sur des exemples."
   ]
  },
  {
   "cell_type": "markdown",
   "id": "b6a88cd1",
   "metadata": {},
   "source": [
    "## Petites questions\n",
    "\n",
    "1. Définir une fonction `divise` telle que `divise a b` renvoie `true` si  `a` divise `b`, `false` sinon. Il est interdit d'utiliser `if`.\n",
    "2. Définir une fonction récursive `somme` telle que `somme n` renvoie $\\sum_{k=1}^n k^2$.\n",
    "3. Définir une fonction récursive `u` telle que `u n` renvoie $u_n$ définie par :\n",
    "$$u_0 = 42$$\n",
    "$$u_{n} = 3\\sqrt{u_{n - 1}} + 2$$\n",
    "4. Définir une fonction récursive `v` telle que `v a n` renvoie $v_n$ définie par (on fera attention à n'utiliser qu'un appel récursif) :\n",
    "$$v_0 = a$$\n",
    "$$v_{n + 1} = \\frac{1}{2}(v_n + \\frac{a}{v_n})$$\n",
    "5. Calculer `v a n` pour plusieurs valeurs de `a` et de `n` : que peut-on conjecturer sur la limite de $v_n$ ? Optionnel : le démontrer.  \n",
    "6. Soient $a$ et $b$ deux entiers et $q, r$ le quotient et reste de la division euclidienne de $a$ par $b$ ($a = bq + r$). En utilisant le fait que $PGCD(a, b)$ = $PGCD(b, r)$, écrire une fonction `euclide` telle que `euclide a b` renvoie le PGCD de $a$ et $b$."
   ]
  },
  {
   "cell_type": "code",
   "execution_count": 1,
   "id": "5dafe121",
   "metadata": {
    "execution": {
     "iopub.execute_input": "2021-09-22T18:41:50.519819Z",
     "iopub.status.busy": "2021-09-22T18:41:50.519037Z",
     "iopub.status.idle": "2021-09-22T18:41:50.534393Z",
     "shell.execute_reply": "2021-09-22T18:41:50.534757Z"
    },
    "tags": [
     "cor"
    ]
   },
   "outputs": [
    {
     "data": {
      "text/plain": [
       "val divise : int -> int -> bool = <fun>\n"
      ]
     },
     "execution_count": 1,
     "metadata": {},
     "output_type": "execute_result"
    },
    {
     "data": {
      "text/plain": [
       "val somme : int -> int = <fun>\n"
      ]
     },
     "execution_count": 1,
     "metadata": {},
     "output_type": "execute_result"
    },
    {
     "data": {
      "text/plain": [
       "val u : int -> float = <fun>\n"
      ]
     },
     "execution_count": 1,
     "metadata": {},
     "output_type": "execute_result"
    },
    {
     "data": {
      "text/plain": [
       "val u : float -> int -> float = <fun>\n"
      ]
     },
     "execution_count": 1,
     "metadata": {},
     "output_type": "execute_result"
    },
    {
     "data": {
      "text/plain": [
       "- : float = 3.00000000139698386\n"
      ]
     },
     "execution_count": 1,
     "metadata": {},
     "output_type": "execute_result"
    },
    {
     "data": {
      "text/plain": [
       "- : float = 5.00002317825394904\n"
      ]
     },
     "execution_count": 1,
     "metadata": {},
     "output_type": "execute_result"
    },
    {
     "data": {
      "text/plain": [
       "val euclide : int -> int -> int = <fun>\n"
      ]
     },
     "execution_count": 1,
     "metadata": {},
     "output_type": "execute_result"
    }
   ],
   "source": [
    "(* ici j'utilise assert pour tester les fonctions et let () = ... pour éviter d'afficher des unit partout *)\n",
    "\n",
    "(* 1. *)\n",
    "let divise a b =\n",
    "    b mod a = 0;;\n",
    "let () = assert (divise 14 42 && not (divise 3 7));;\n",
    "\n",
    "(* 2. *)\n",
    "let rec somme n = \n",
    "    if n = 0 then 0\n",
    "    else n*n + somme (n - 1);;\n",
    "let () = assert (somme 3 = 1 + 4 + 9)\n",
    "\n",
    "(* 3. *)\n",
    "let rec u n =\n",
    "    if n = 0 then 42. (* doit renvoyer un float à cause de la racine *)\n",
    "    else 3.*.(u (n - 1))**0.5 +. 2.;;\n",
    "    \n",
    "(* 4. *)\n",
    "let rec u a n =\n",
    "    if n = 0 then a\n",
    "    else let un = u a (n - 1) in\n",
    "    (un +. a/.un)/.2.;;\n",
    "u 9. 5;;\n",
    "u 25. 5;;\n",
    "\n",
    "(* 5 *)\n",
    "(* la limite de u a est racine de a (il s'agit de la suite de Héron) *)\n",
    "\n",
    "(* 6 *)\n",
    "let rec euclide a b = \n",
    "    if b = 0 then a  (* le PGCD est le dernier reste non nul *)\n",
    "    else euclide b (a mod b);; (* formule de l'énoncé *)\n",
    "let () = assert (euclide 21 6 = 3)"
   ]
  },
  {
   "cell_type": "markdown",
   "id": "a97ae36f",
   "metadata": {},
   "source": [
    "## Exponentiation rapide\n",
    "\n",
    "1. Écrire une fonction récursive `puissance` naïve (c'est à dire très simple) telle que `puissance a n` renvoie $a^n$. Combien effectue t-elle de multiplications (en fonction de n) ?\n",
    "2. Écrire une fonction récursive `exp_rapide` pour calculer $a^n$, en utilisant les relations suivantes :\n",
    "$$ \n",
    "\\begin{cases} \n",
    "a^n = (a^{\\frac{n}{2}})^2 ~~~~~~~~~\\text{si }n\\text{ est pair}\\\\\n",
    "a^{n} = a \\times (a^{\\frac{n-1}{2}})^2 ~~~~~\\text{sinon}\n",
    "\\end{cases}\n",
    "$$\n",
    "**Attention** : pour mettre au carré, utiliser une variable plutôt que faire 2 appels récursifs, ce qui augmenterait beaucoup le nombre d'opérations.  \n",
    "**Remarque** : On montrera plus tard que cette 2ème version demande de l'ordre de $\\ln(n)$ multiplications seulement."
   ]
  },
  {
   "cell_type": "code",
   "execution_count": 2,
   "id": "5cefa5ae",
   "metadata": {
    "execution": {
     "iopub.execute_input": "2021-09-22T18:41:50.536766Z",
     "iopub.status.busy": "2021-09-22T18:41:50.536309Z",
     "iopub.status.idle": "2021-09-22T18:41:50.545876Z",
     "shell.execute_reply": "2021-09-22T18:41:50.546264Z"
    },
    "tags": [
     "cor"
    ]
   },
   "outputs": [
    {
     "data": {
      "text/plain": [
       "val puissance : int -> int -> int = <fun>\n"
      ]
     },
     "execution_count": 2,
     "metadata": {},
     "output_type": "execute_result"
    },
    {
     "data": {
      "text/plain": [
       "val exp_rapide : int -> int -> int = <fun>\n"
      ]
     },
     "execution_count": 2,
     "metadata": {},
     "output_type": "execute_result"
    },
    {
     "data": {
      "text/plain": [
       "- : bool = true\n"
      ]
     },
     "execution_count": 2,
     "metadata": {},
     "output_type": "execute_result"
    }
   ],
   "source": [
    "(* 1. *)\n",
    "let rec puissance a n =\n",
    "    if n = 0 then 1\n",
    "    else a * puissance a (n - 1);;\n",
    "let () = assert (puissance 2 10 = 1024);;\n",
    "(* puissance a n effectue autant de multiplication que d'appels récursifs, c'est à dire n - 1 *)\n",
    "\n",
    "(* 2. *)\n",
    "let rec exp_rapide a n =\n",
    "    if n = 0 then 1\n",
    "    else let b = exp_rapide a (n/2) in (* pour éviter de faire 2 appels récursifs *)\n",
    "    if n mod 2 = 0 then b*b\n",
    "    else a*b*b;; (* si n est impair, n/2 et (n - 1)/2 ont la même valeur en OCaml donc on peut utiliser b aussi *)\n",
    "let () = assert (exp_rapide 2 10 = 1024);;\n",
    "exp_rapide 2 10 = 1024"
   ]
  },
  {
   "cell_type": "markdown",
   "id": "75368c6a",
   "metadata": {},
   "source": [
    "# Accumulateur\n",
    "\n",
    "On a vu dans le cours sur la récursivité (avec l'exemple de la suite de Fibonacci) qu'un accumulateur est un argument que l'on ajoute à une fonction pour calculer sa valeur de retour.  \n",
    "1. Écrire une fonction `fact` telle que `fact acc n` renvoie `n`!, en utilisant `acc` comme accumulateur. Voici à quoi va ressemble `fact` :\n",
    "```ocaml\n",
    "let rec fact acc n =\n",
    "    if n = 0 then acc  (* on renvoie l'accumulateur qui contient le résultat *)\n",
    "    else fact ... (* appel récursif en modifiant l'accumulateur *)\n",
    "```\n",
    "2. En utilisant `fact` et l'application partielle de fonction, définir `f : int -> int` renvoyant la factoielle d'un entier.\n",
    "\n",
    "**Remarque** : le but ici est juste de vous entraîner à savoir utiliser un accumulateur, qui sont parfois utiles (comme pour la fonction `fibo` du cours). En DS ou concours on évitera d'utiliser un accumulateur lorsqu'il y en a pas besoin (comme pour la fonction `fact`...), car cela rend le code plus compliqué.  "
   ]
  },
  {
   "cell_type": "code",
   "execution_count": 3,
   "id": "6fbc748c",
   "metadata": {
    "execution": {
     "iopub.execute_input": "2021-09-22T18:41:50.548194Z",
     "iopub.status.busy": "2021-09-22T18:41:50.547709Z",
     "iopub.status.idle": "2021-09-22T18:41:50.552700Z",
     "shell.execute_reply": "2021-09-22T18:41:50.552280Z"
    },
    "tags": [
     "cor"
    ]
   },
   "outputs": [
    {
     "data": {
      "text/plain": [
       "val fact : int -> int -> int = <fun>\n"
      ]
     },
     "execution_count": 3,
     "metadata": {},
     "output_type": "execute_result"
    },
    {
     "data": {
      "text/plain": [
       "val f : int -> int = <fun>\n"
      ]
     },
     "execution_count": 3,
     "metadata": {},
     "output_type": "execute_result"
    }
   ],
   "source": [
    "(* 1. *)\n",
    "let rec fact acc n =\n",
    " if n = 0 then acc  (* on renvoie l'accumulateur qui contient le résultat *)\n",
    " else fact (n * acc) (n - 1);;\n",
    " let () = assert (fact 1 4 = 2*3*4)\n",
    " \n",
    "(* 2. *)\n",
    "let f = fact 1"
   ]
  },
  {
   "cell_type": "markdown",
   "id": "901c5707",
   "metadata": {},
   "source": [
    "## Temps de vol de la suite de Syracuse\n",
    "\n",
    "La suite de Syracuse d'un entier $a$ est définie par :  \n",
    "$$u_0 = a$$\n",
    "$$u_{n+1} =\n",
    "\\begin{cases} \n",
    "     \\frac{u_n}{2}, \\text{si } u_n \\text{ est pair}\\\\\n",
    "    3u_n + 1, \\text{sinon}\\\\\n",
    "\\end{cases}$$\n",
    "\n",
    "Le temps de vol de $(u_n)_n$ est le plus petit entier $t$ tel que $u_t = 1$.  \n",
    "\n",
    "1. Écrire une fonction récursive `temps_vol` telle que `temps_vol a` renvoie le temps de vol de $(u_n)_n$ (où $u_0 = a$)."
   ]
  },
  {
   "cell_type": "code",
   "execution_count": 4,
   "id": "0c2630d9",
   "metadata": {
    "execution": {
     "iopub.execute_input": "2021-09-22T18:41:50.554610Z",
     "iopub.status.busy": "2021-09-22T18:41:50.554108Z",
     "iopub.status.idle": "2021-09-22T18:41:50.560079Z",
     "shell.execute_reply": "2021-09-22T18:41:50.559633Z"
    },
    "tags": [
     "cor"
    ]
   },
   "outputs": [
    {
     "data": {
      "text/plain": [
       "- : int = 9\n"
      ]
     },
     "execution_count": 4,
     "metadata": {},
     "output_type": "execute_result"
    }
   ],
   "source": [
    "let rec temps_vol a =\n",
    "    if a = 1 then 0\n",
    "    else if a mod 2 = 0 then 1 + temps_vol (a / 2)\n",
    "    else 1 + temps_vol (3*a + 1) in\n",
    "temps_vol 13"
   ]
  },
  {
   "cell_type": "markdown",
   "id": "b1f40ccf",
   "metadata": {},
   "source": [
    "## Fonction mystérieuse\n",
    "\n",
    "Tester la fonction suivante pour des $n$ entre $0$ et $100$, conjecturer un théorème et prouvez-le par récurrence."
   ]
  },
  {
   "cell_type": "code",
   "execution_count": 5,
   "id": "f9d20a0c",
   "metadata": {
    "execution": {
     "iopub.execute_input": "2021-09-22T18:41:50.562099Z",
     "iopub.status.busy": "2021-09-22T18:41:50.561585Z",
     "iopub.status.idle": "2021-09-22T18:41:50.564847Z",
     "shell.execute_reply": "2021-09-22T18:41:50.564398Z"
    }
   },
   "outputs": [
    {
     "data": {
      "text/plain": [
       "val f : int -> int = <fun>\n"
      ]
     },
     "execution_count": 5,
     "metadata": {},
     "output_type": "execute_result"
    }
   ],
   "source": [
    "let rec f n =\n",
    "    if n > 100 then n - 10 \n",
    "    else f (f (n + 11)) ;;"
   ]
  },
  {
   "cell_type": "code",
   "execution_count": 6,
   "id": "917b9bcf",
   "metadata": {
    "execution": {
     "iopub.execute_input": "2021-09-22T18:41:50.566785Z",
     "iopub.status.busy": "2021-09-22T18:41:50.566312Z",
     "iopub.status.idle": "2021-09-22T18:41:50.569921Z",
     "shell.execute_reply": "2021-09-22T18:41:50.569459Z"
    },
    "tags": [
     "cor"
    ]
   },
   "outputs": [
    {
     "data": {
      "text/plain": [
       "- : int * int * int * int * int = (91, 91, 91, 91, 91)\n"
      ]
     },
     "execution_count": 6,
     "metadata": {},
     "output_type": "execute_result"
    }
   ],
   "source": [
    "f 81, f 42, f 0, f 4, f 91  (* la fonction semble toujours renvoyer 91 *)"
   ]
  },
  {
   "cell_type": "markdown",
   "id": "1f1c0f11",
   "metadata": {
    "tags": [
     "cor"
    ]
   },
   "source": [
    "Soit $\\mathcal H(n) : $ \"`f n` renvoie 91\".  \n",
    "Montrons $\\mathcal H(n), \\forall n \\in \\{0, ..., 100\\}$ par récurrence forte décroissante. C'est à dire qu'il faut montrer :\n",
    "- $\\mathcal H(100)$ (**cas de base**) : c'est vrai car `f 100` renvoie `f (f 111)` qui donne `f (101)` qui donne $91$.\n",
    "- ($\\forall k > n, \\mathcal H(k)$) $\\implies \\mathcal H(n)$) (**hérédité**)  \n",
    "Pour cela, fixons $n \\in \\{1, ..., 100\\}$ et supposons $\\forall k > n, \\mathcal H(k)$.  \n",
    "L'appel `f n` renvoie `f (f (n + 11))`. Il y a alors deux cas :  \n",
    "    1. $\\underline{n + 11 \\leq 100}$ (c'est à dire $n \\leq 91$) : alors, par $\\mathcal H(n + 11)$, `f (n + 11)` renvoie $91$. Comme `f 91` vaut $91$ (d'après les tests de la cellule précédente), on en conclut que `f n` renvoie $91$, donc que $\\mathcal H(n)$ est vraie.\n",
    "    2. $\\underline{n + 11 > 100}$ (c'est à dire $n > 91$) : alors `f (n + 11)` renvoie `n + 11 - 10 = n + 1`. D'après $\\mathcal H(n + 1)$, `f (n + 1)` renvoie $91$. Donc `f (f (n + 11))` renvoie $91$.  \n",
    "\n",
    "**Conclusion** : $\\mathcal H(n)$ est vraie, pour tout $ n \\in \\{0, ..., 100\\}$"
   ]
  },
  {
   "cell_type": "markdown",
   "id": "8233b654",
   "metadata": {},
   "source": [
    "## Fonctions mutuellement récursives\n",
    "\n",
    "Il est possible de définir simultanément deux fonctions `f` et `g`, dépendant l'une de l'autre avec `and` :\n",
    "```ocaml\n",
    "let rec f x = ... and g y = ... in ...\n",
    "```\n",
    "\n",
    "Écrire deux fonctions `u` et `v` permettant de calculer le $n$ième terme des suites définies par :\n",
    "$$u_0 = 2$$\n",
    "$$v_0 = 3$$\n",
    "$$u_{n + 1} = u_n - u_n v_n$$\n",
    "$$v_{n + 1} = v_n + u_n v_n$$"
   ]
  },
  {
   "cell_type": "code",
   "execution_count": 7,
   "id": "d1055e92",
   "metadata": {
    "execution": {
     "iopub.execute_input": "2021-09-22T18:41:50.571949Z",
     "iopub.status.busy": "2021-09-22T18:41:50.571471Z",
     "iopub.status.idle": "2021-09-22T18:41:50.579211Z",
     "shell.execute_reply": "2021-09-22T18:41:50.578799Z"
    },
    "tags": [
     "cor"
    ]
   },
   "outputs": [
    {
     "data": {
      "text/plain": [
       "val u : int -> int = <fun>\n",
       "val v : int -> int = <fun>\n"
      ]
     },
     "execution_count": 7,
     "metadata": {},
     "output_type": "execute_result"
    }
   ],
   "source": [
    "let rec u n = \n",
    "    if n = 0 then 2\n",
    "    else let un = u (n - 1) in (* pour éviter de faire 2 appels identiques *)\n",
    "    un - un*v (n - 1)\n",
    "and v n =\n",
    "    if n = 0 then 3\n",
    "    else let vn = v (n - 1) in\n",
    "    vn + (u (n - 1))*vn"
   ]
  },
  {
   "cell_type": "markdown",
   "id": "34437883",
   "metadata": {},
   "source": [
    "## Retour sur les tours de Hanoi\n",
    "\n",
    "**Remarque** : le problème des tours de Hanoi a déjà été vu en stage, mais on le refait ici en OCaml. En outre, il est utile de réactiver sa mémoire pour se souvenir des méthodes et il m'arrivera pendant l'année de redonner des exercices déjà posés."
   ]
  },
  {
   "cell_type": "markdown",
   "id": "0c04d89d",
   "metadata": {},
   "source": [
    "![](../img/hanoi.png)\n",
    "\n",
    "$n$ disques sont posés sur la tige à gauche. L'objectif est de déplacer tous les disques sur la tige à droite :\n",
    "\n",
    "![](../img/hanoi2.png)\n",
    "\n",
    "Règles du jeu :\n",
    "\n",
    "- On ne peut déplacer qu'un disque à la fois (celui tout en haut), sur une autre tige.\n",
    "- Il est interdit de poser un disque sur un autre plus petit.\n",
    "\n",
    "Exemple de premier déplacement valide :\n",
    "\n",
    "![](../img/hanoi3.png)\n",
    "\n",
    "On souhaite écrire une fonction récursive `hanoi` telle que `hanoi n tige1 tige2` affiche une suite de déplacements (avec des `print_int`) permettant de déplacer $n$ disques depuis `tige1` vers `tige2`. On supposera que les tiges sont numérotées 0, 1, 2 (de gauche à droite).\n",
    "\n",
    "1. Supposons que vous sachiez déplacer $n-1$ disques d'une tige à une autre. Comment déplacer $n$ disques d'une tige à une autre ?\n",
    "2. Écrire `hanoi`.  \n",
    "Pour afficher les déplacements on pourra utiliser `print_string`, `^` (pour concaténer 2 chaînes de caractères), `\\n` (pour un saut de ligne) et `print_newline ()` à la fin pour tout afficher."
   ]
  },
  {
   "cell_type": "markdown",
   "id": "4fecba65",
   "metadata": {},
   "source": [
    "1. Pour déplacer $n$ disques de la tige 0 à la tige 2 :\n",
    "- On déplace récursivement $n - 1$ disques de 0 vers 1.\n",
    "- On déplace 1 disque (le plus gros) de 0 vers 2.\n",
    "- On déplace récursivement $n - 1$ disques de 1 vers 2."
   ]
  },
  {
   "cell_type": "code",
   "execution_count": 8,
   "id": "2cda29b3",
   "metadata": {
    "execution": {
     "iopub.execute_input": "2021-09-22T18:41:50.581326Z",
     "iopub.status.busy": "2021-09-22T18:41:50.580836Z",
     "iopub.status.idle": "2021-09-22T18:41:50.594811Z",
     "shell.execute_reply": "2021-09-22T18:41:50.589637Z"
    },
    "tags": [
     "cor"
    ]
   },
   "outputs": [
    {
     "name": "stdout",
     "output_type": "stream",
     "text": [
      "0 -> 2\n",
      "0 -> 1\n",
      "2 -> 1\n",
      "0 -> 2\n",
      "1 -> 0\n",
      "1 -> 2\n",
      "0 -> 2\n",
      "\n"
     ]
    },
    {
     "data": {
      "text/plain": [
       "- : unit = ()\n"
      ]
     },
     "execution_count": 8,
     "metadata": {},
     "output_type": "execute_result"
    }
   ],
   "source": [
    "let rec hanoi n tige1 tige2 =\n",
    "  if n = 0 then () (* aucun déplacement à faire *)\n",
    "  else (let tige_intermediaire = 3 - tige1 - tige2 in (* on utilise le fait que la somme des 3 tiges vaut 3 *)\n",
    "        hanoi (n - 1) tige1 tige_intermediaire;\n",
    "        print_string ((string_of_int tige1)^\" -> \"^(string_of_int tige2)^\"\\n\");\n",
    "        hanoi (n - 1) tige_intermediaire tige2) in\n",
    "hanoi 3 0 2;\n",
    "print_newline ();;"
   ]
  }
 ],
 "metadata": {
  "kernelspec": {
   "display_name": "OCaml default",
   "language": "OCaml",
   "name": "ocaml-jupyter"
  },
  "language_info": {
   "codemirror_mode": "text/x-ocaml",
   "file_extension": ".ml",
   "mimetype": "text/x-ocaml",
   "name": "OCaml",
   "nbconverter_exporter": null,
   "pygments_lexer": "OCaml",
   "version": "4.08.1"
  }
 },
 "nbformat": 4,
 "nbformat_minor": 5
}

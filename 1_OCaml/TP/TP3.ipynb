{
 "cells": [
  {
   "cell_type": "markdown",
   "metadata": {},
   "source": [
    "# TP 3 : boucles, structures (tuples, listes, array)"
   ]
  },
  {
   "cell_type": "markdown",
   "metadata": {},
   "source": [
    "## Petites questions\n",
    "\n",
    "1. Ecrire une fonction `fact : int -> int` telle que `fact n` renvoie $n!$ (=$n\\times (n-1)\\times ... \\times 2 \\times 1$), en utilisant une boucle.\n",
    "2. Ecrire une fonction `taille : 'a list -> int` pour calculer le nombre d'élements d'une liste (déjà fait dans le cours mais il faut savoir le refaire).\n",
    "3. Ecrire une fonction `somme : float list -> int` pour calculer la somme des élements d'une liste (déjà fait dans le cours mais il faut savoir le refaire).\n",
    "4. Ecrire une fonction `moyenne : float list -> float` pour calculer la moyenne des élements d'une liste (on pourra utiliser les deux fonctions précédentes et `float_of_int`).\n",
    "5. Ecrire une fonction `positif : int list -> bool` pour déterminer si tous les éléments d'une liste sont positifs.\n",
    "6. Ecrire une fonction `oppose : int list -> int list` telle que `oppose l` renvoie une liste contenant l'opposé de chaque élément de `l`. Par exemple, `oppose [1; 2; 3]` renvoie `[-1; -2; -3]`."
   ]
  },
  {
   "cell_type": "markdown",
   "metadata": {},
   "source": [
    "## Bezout\n",
    "\n",
    "Ecrire une fonction récursive `bezout : int -> int -> int*int*int` telle que `bezout a b` renvoie un triplet `(d, u, v)` tel que `d` est le PGCD de `a` et `b` et `u`, `v` vérifient `au + bv = d` (coefficients de Bézout).  \n",
    "Pour cela, on appelera récursivement `bezout b r` où $q$ est le quotient et $r$ le reste de la division euclidienne de $a$ par $b$ (on a donc $a = bq + r$). `bezout b r` donne un triplet $(d, u', v')$ et on essaiera d'exprimer $u, v$ en fonction de $u'$, $v'$ (on pourra sortir une feuille pour chercher une relation)."
   ]
  },
  {
   "cell_type": "markdown",
   "metadata": {},
   "source": [
    "## Nombres premiers\n",
    "\n",
    "1. Ecrire une fonction `premier : int -> bool` déterminant si un entier est premier.\n",
    "2. En déduire une fonction `tous_premiers : int -> int list` telle que `tous_premiers n` renvoie la liste des nombres premiers entre $2$ et $n$."
   ]
  }
 ],
 "metadata": {
  "kernelspec": {
   "display_name": "OCaml default",
   "language": "OCaml",
   "name": "ocaml-jupyter"
  },
  "language_info": {
   "codemirror_mode": "text/x-ocaml",
   "file_extension": ".ml",
   "mimetype": "text/x-ocaml",
   "name": "OCaml",
   "nbconverter_exporter": null,
   "pygments_lexer": "OCaml",
   "version": "4.08.1"
  }
 },
 "nbformat": 4,
 "nbformat_minor": 4
}

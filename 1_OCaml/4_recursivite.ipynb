{
 "cells": [
  {
   "cell_type": "markdown",
   "id": "6e1479f1",
   "metadata": {},
   "source": [
    "# Récursivité\n",
    "\n",
    "La récursivité est la possibilité pour une fonction de s'appeller soi-même. En général, il y a deux étapes pour écrire une fonction récursive :\n",
    "1. Un **cas de base** où la fonction renvoie directement une valeur.\n",
    "2. Un **cas général** où la fonction s'appelle sur des paramètres \"plus petits\".\n",
    "\n",
    "En OCaml, une fonction récursive doit être définie par `let rec ...`. Voici un exemple :"
   ]
  },
  {
   "cell_type": "code",
   "execution_count": 1,
   "id": "104978a3",
   "metadata": {
    "execution": {
     "iopub.execute_input": "2021-09-09T19:25:50.261493Z",
     "iopub.status.busy": "2021-09-09T19:25:50.260693Z",
     "iopub.status.idle": "2021-09-09T19:25:50.268031Z",
     "shell.execute_reply": "2021-09-09T19:25:50.268559Z"
    },
    "tags": []
   },
   "outputs": [
    {
     "data": {
      "text/plain": [
       "val f : int -> unit = <fun>\n"
      ]
     },
     "execution_count": 1,
     "metadata": {},
     "output_type": "execute_result"
    }
   ],
   "source": [
    "let rec f x = (* exemple de fonction récursive *)\n",
    "    if x = 0 then print_newline () (* cas de base *)\n",
    "    else (print_int x; \n",
    "          f (x - 1)) (* cas général *)"
   ]
  },
  {
   "cell_type": "markdown",
   "id": "d3f7a798",
   "metadata": {},
   "source": [
    "`f x` affiche un retour à la ligne si `x` est égal à 0, et sinon affiche `x` puis appelle `f (x - 1)`."
   ]
  },
  {
   "cell_type": "markdown",
   "id": "df75d494",
   "metadata": {},
   "source": [
    "Essayons cette fonction :"
   ]
  },
  {
   "cell_type": "code",
   "execution_count": 2,
   "id": "08ee4771",
   "metadata": {
    "execution": {
     "iopub.execute_input": "2021-09-09T19:25:50.271075Z",
     "iopub.status.busy": "2021-09-09T19:25:50.270440Z",
     "iopub.status.idle": "2021-09-09T19:25:50.275085Z",
     "shell.execute_reply": "2021-09-09T19:25:50.274546Z"
    },
    "tags": []
   },
   "outputs": [
    {
     "data": {
      "text/plain": [
       "- : unit = ()\n"
      ]
     },
     "execution_count": 2,
     "metadata": {},
     "output_type": "execute_result"
    }
   ],
   "source": [
    "f 2"
   ]
  },
  {
   "cell_type": "markdown",
   "id": "5dd65dd1",
   "metadata": {},
   "source": [
    "Voici ce qui se passe lors de cet appel `f 2` :  \n",
    "\n",
    "1. On regarde si `2 = 0`, ce qui est faux. On passe donc dans le `else`.\n",
    "2. On affiche `2` avec `print_int x`.\n",
    "3. On appelle `f` sur la valeur 1. Le calcul de `f 2` se met en pause et on exécute `f 1`. Quand `f 1` sera terminé, l'appel de `f 2` continuera et `f 1` sera remplacé par sa valeur de retour. \n",
    "4. L'exécution de `f 1` affiche `1` puis appelle `f 0`. Le calcul de `f 1` se met en pause et on exécute `f 0`. Quand `f 0` sera terminé, l'appel de `f 2` continuera et `f 0` sera remplacé par sa valeur de retour.\n",
    "5. `f 0` exécute `print_newline ()` et s'arrête (en renvoyant `()`).\n",
    "6. L'exécution de `f 1` reprend et `f 1` s'arrête.\n",
    "7. L'exécution de `f 2` reprend et `f 2` s'arrête."
   ]
  },
  {
   "cell_type": "markdown",
   "id": "9bd3108c",
   "metadata": {},
   "source": [
    "Vous pouvez visualiser l'exécution d'un code similaire en Python avec [Python Tutor](http://www.pythontutor.com/visualize.html#code=def%20f%28n%29%3A%0A%20%20%20%20if%20n%20%3D%3D%200%3A%0A%20%20%20%20%20%20%20%20return%0A%20%20%20%20print%28n%29%0A%20%20%20%20f%28n-1%29%0A%0Af%284%29&cumulative=false&curInstr=0&heapPrimitives=nevernest&mode=display&origin=opt-frontend.js&py=3&rawInputLstJSON=%5B%5D&textReferences=false). Il est important de bien comprendre comment les appels récursifs s'effectuent."
   ]
  },
  {
   "cell_type": "markdown",
   "id": "74ebae39",
   "metadata": {},
   "source": [
    "Un exemple classique d'utilisation de la récursivité est le calcul de la factorielle d'un entier $n$, définie par $n! = n \\times (n - 1) \\times ... \\times 2 \\times 1$.  \n",
    "Pour définir une fonction récursive calculant $n!$ on a besoin de deux choses :\n",
    "- **Cas de base**  : si $n = 0$, on peut renvoyer directement 1 (par convention $0! = 1$), sans appel récursif.\n",
    "- **Cas général/récurrence** : si $n$ est quelconque, il faut rammener le calcul de $n!$ à un calcul d'une factorielle plus petite (de façon à se rapprocher du cas de base). Pour cela, on peut remarquer que $n! = n\\times (n-1)!$ et donc que calculer $(n-1)!$ permet d'en déduire $n!$.  \n",
    "On en déduit le code suivant :"
   ]
  },
  {
   "cell_type": "code",
   "execution_count": 3,
   "id": "42bd88e7",
   "metadata": {
    "execution": {
     "iopub.execute_input": "2021-09-09T19:25:50.277806Z",
     "iopub.status.busy": "2021-09-09T19:25:50.277107Z",
     "iopub.status.idle": "2021-09-09T19:25:50.280151Z",
     "shell.execute_reply": "2021-09-09T19:25:50.280603Z"
    }
   },
   "outputs": [
    {
     "data": {
      "text/plain": [
       "val fact : int -> int = <fun>\n"
      ]
     },
     "execution_count": 3,
     "metadata": {},
     "output_type": "execute_result"
    }
   ],
   "source": [
    "let rec fact n =\n",
    "    if n = 0 then 1 (* par convention 0! = 1 *)\n",
    "    else n*fact (n - 1)"
   ]
  },
  {
   "cell_type": "code",
   "execution_count": 4,
   "id": "b522ce82",
   "metadata": {
    "execution": {
     "iopub.execute_input": "2021-09-09T19:25:50.282949Z",
     "iopub.status.busy": "2021-09-09T19:25:50.282134Z",
     "iopub.status.idle": "2021-09-09T19:25:50.284937Z",
     "shell.execute_reply": "2021-09-09T19:25:50.285385Z"
    }
   },
   "outputs": [
    {
     "data": {
      "text/plain": [
       "- : int = 24\n"
      ]
     },
     "execution_count": 4,
     "metadata": {},
     "output_type": "execute_result"
    }
   ],
   "source": [
    "fact 4"
   ]
  },
  {
   "cell_type": "markdown",
   "id": "011f24ec",
   "metadata": {},
   "source": [
    "**Remarque** : Si on oublie le cas de base (`if n = 0`) la fonction ne s'arrête jamais (`fact 0` appelerait `fact (-1)` qui appelerait `fact (-2)` et ainsi de suite...) !"
   ]
  },
  {
   "cell_type": "markdown",
   "id": "a21d8170",
   "metadata": {},
   "source": [
    "Écrire une fonction récursive ressemble beaucoup à écrire une démonstration mathématiques par récurrence et d'ailleurs on utilisera souvent une démonstration par récurrence pour démontrer qu'une fonction récursive est correcte, c'est à dire renvoie bien la bonne valeur.  \n",
    "Par exemple, pour démontrer que `fact` est correcte, on peut poser l'hypothèse de récurrence :\n",
    "$$\\mathcal{H}(n) : \\text{fact } n \\text{ renvoie } n!$$\n",
    "Preuve :\n",
    "1. $\\mathcal{H}(0)$ est vraie car `fact 0` renvoie 1 et, par définition, $0! = 1$.\n",
    "1. Soit $n$ un entier strictement positif. Supposons $\\mathcal{H}(n - 1)$ et montrons $\\mathcal{H}(n)$.  \n",
    "Comme $n > 0$, `fact n` renvoie `n*fact (n - 1)`. D'après $\\mathcal{H}(n - 1)$, `fact (n - 1)` renvoie $(n - 1)!$. Donc `fact n` renvoie $n(n - 1)! = n!$, ce qui démontre $\\mathcal{H}(n)$.  \n",
    "D'après le principe de récurrence, $\\mathcal{H}(n)$ est vraie pour tout $n \\in \\mathbb{N}$. "
   ]
  },
  {
   "cell_type": "markdown",
   "id": "4a724e87",
   "metadata": {},
   "source": [
    "**Exercice** : Qu'affiche le code suivant? Le deviner puis exécuter le code pour vérifier.\n",
    "```ocaml\n",
    "let rec f x =\n",
    "    if x = 0 then print_newline ()\n",
    "    else (f (x - 1);\n",
    "          print_int x) in\n",
    "f 5    \n",
    "```"
   ]
  },
  {
   "cell_type": "markdown",
   "id": "909b582a",
   "metadata": {},
   "source": [
    "**Exercice** : \n",
    "1. Écrire une fonction récursive pour calculer la somme des $n$ premiers entiers $S(n) = 1 + 2 + ... + (n - 1)$.\n",
    "2. Quelle formule connaissez-vous pour calculer $S(n)$? En déduire une autre fonction (non récursive) pour calculer cette valeur. Vérifier sur des exemples que les deux fonctions donnent la même valeur. "
   ]
  },
  {
   "cell_type": "markdown",
   "id": "74e310a4",
   "metadata": {},
   "source": [
    "Une application classique de la récursivité est le calcul des termes d'une suite récurrente.  \n",
    "Par exemple :\n",
    "$$\\begin{cases} \n",
    "u_{n} = 3u_{n-1} + 2, \\text{si } n > 0\\\\\n",
    "u_0 = 5\n",
    "\\end{cases}$$"
   ]
  },
  {
   "cell_type": "markdown",
   "id": "12107128",
   "metadata": {},
   "source": [
    "Cette définition par récurrence se traduit naturellement en fonction récursive :"
   ]
  },
  {
   "cell_type": "code",
   "execution_count": 5,
   "id": "6d66106d",
   "metadata": {
    "execution": {
     "iopub.execute_input": "2021-09-09T19:25:50.287947Z",
     "iopub.status.busy": "2021-09-09T19:25:50.287274Z",
     "iopub.status.idle": "2021-09-09T19:25:50.291730Z",
     "shell.execute_reply": "2021-09-09T19:25:50.291229Z"
    }
   },
   "outputs": [
    {
     "data": {
      "text/plain": [
       "val u : int -> int = <fun>\n"
      ]
     },
     "execution_count": 5,
     "metadata": {},
     "output_type": "execute_result"
    }
   ],
   "source": [
    "let rec u n = \n",
    "    if n = 0 then 5\n",
    "    else 3*(u (n - 1)) + 2"
   ]
  },
  {
   "cell_type": "code",
   "execution_count": 6,
   "id": "88175009",
   "metadata": {
    "execution": {
     "iopub.execute_input": "2021-09-09T19:25:50.293853Z",
     "iopub.status.busy": "2021-09-09T19:25:50.293181Z",
     "iopub.status.idle": "2021-09-09T19:25:50.295280Z",
     "shell.execute_reply": "2021-09-09T19:25:50.295857Z"
    }
   },
   "outputs": [
    {
     "data": {
      "text/plain": [
       "- : int = 354293\n"
      ]
     },
     "execution_count": 6,
     "metadata": {},
     "output_type": "execute_result"
    }
   ],
   "source": [
    "u 10"
   ]
  },
  {
   "cell_type": "markdown",
   "id": "a8f72767",
   "metadata": {},
   "source": [
    "**Exercice** : calculer $v_{10}$, où $v_n$ est définie par\n",
    "$$\\begin{cases} \n",
    "v_{n+1} = \\sqrt{v_{n}} + 4, \\text{si } n > 0\\\\\n",
    "v_1 = 5\n",
    "\\end{cases}$$"
   ]
  },
  {
   "cell_type": "markdown",
   "id": "091a292f",
   "metadata": {},
   "source": [
    "Un autre exemple classique est la suite de Fibonacci :\n",
    "$$u_0 = 1$$\n",
    "$$u_1 = 1$$\n",
    "$$u_n = u_{n - 1} + u_{n - 2}$$\n",
    "\n",
    "On pourrait l'implémenter de cette façn là :"
   ]
  },
  {
   "cell_type": "code",
   "execution_count": 7,
   "id": "37128212",
   "metadata": {
    "execution": {
     "iopub.execute_input": "2021-09-09T19:25:50.298186Z",
     "iopub.status.busy": "2021-09-09T19:25:50.297553Z",
     "iopub.status.idle": "2021-09-09T19:25:50.302323Z",
     "shell.execute_reply": "2021-09-09T19:25:50.302882Z"
    }
   },
   "outputs": [
    {
     "data": {
      "text/plain": [
       "val fibo : int -> int = <fun>\n"
      ]
     },
     "execution_count": 7,
     "metadata": {},
     "output_type": "execute_result"
    }
   ],
   "source": [
    "let rec fibo n =\n",
    "    if n <= 1 then 1\n",
    "    else fibo (n - 1) + fibo (n - 1)"
   ]
  },
  {
   "cell_type": "code",
   "execution_count": 8,
   "id": "7db572b4",
   "metadata": {
    "execution": {
     "iopub.execute_input": "2021-09-09T19:25:50.305320Z",
     "iopub.status.busy": "2021-09-09T19:25:50.304510Z",
     "iopub.status.idle": "2021-09-09T19:25:50.308080Z",
     "shell.execute_reply": "2021-09-09T19:25:50.307328Z"
    }
   },
   "outputs": [
    {
     "data": {
      "text/plain": [
       "- : int = 512\n"
      ]
     },
     "execution_count": 8,
     "metadata": {},
     "output_type": "execute_result"
    }
   ],
   "source": [
    "fibo 10"
   ]
  },
  {
   "cell_type": "markdown",
   "id": "eec09605",
   "metadata": {},
   "source": [
    "**Attention : cette méthode est très inefficace. Pour s'en convaincre, regardons visuellement les appels récursifs de fibo :**\n",
    "\n",
    "<center><img src=img/fibo.png width=500></center>\n",
    "\n",
    "Il y a de nombreux calculs inutiles : par exemple, `fibo 3` est appelé 2 fois et `fibo 2` est appelé 3 fois, ce qui est inefficace. On verra plus tard une technique de **mémoïsation** pour éviter de faire 2x le même appel récursif. On pourra aussi utiliser une boucle `for` en stockant les deux derniers termes de la suite dans des variables.\n",
    "\n",
    "**Exercice** : Montrer que le nombre d'appels récursifs pour calculer `fibo n` est exponentiel en $n$ (c'est à dire supérieur à $a^n$ pour un certain $a$ indépendant de $n$)."
   ]
  },
  {
   "cell_type": "markdown",
   "id": "482db68f-68df-4121-ae76-58f9cec1a7f0",
   "metadata": {},
   "source": [
    "# Sous-fonction récursive\n",
    "\n",
    "Quand on souhaite écrire une fonction `f x` en utilisant une méthode récursive mais que `x` doit être accessible dans les appels récursifs, on peut utiliser une sous-fonction récursive dans `f`, et `f` se contentera d'appeler cette fonction.  \n",
    "\n",
    "Par exemple, pour savoir si un entier est premier :"
   ]
  },
  {
   "cell_type": "code",
   "execution_count": 9,
   "id": "e9feebc6-23b6-4fe2-9e60-03213243113c",
   "metadata": {
    "execution": {
     "iopub.execute_input": "2021-09-09T19:25:50.310341Z",
     "iopub.status.busy": "2021-09-09T19:25:50.309706Z",
     "iopub.status.idle": "2021-09-09T19:25:50.314725Z",
     "shell.execute_reply": "2021-09-09T19:25:50.314204Z"
    }
   },
   "outputs": [
    {
     "data": {
      "text/plain": [
       "val premier : int -> bool = <fun>\n"
      ]
     },
     "execution_count": 9,
     "metadata": {},
     "output_type": "execute_result"
    }
   ],
   "source": [
    "let premier n =\n",
    "    let rec f k =  (* renvoie true si n n'a pas de diviseurs entre 2 et k *)\n",
    "        if k = 1 then true  (* on a regardé tous les diviseurs potentiels *)\n",
    "        else if n mod k = 0 then false  (* si k divise n *)\n",
    "        else f (k - 1) in (* vérifie que n n'a pas de diviseurs entre 2 et k *)\n",
    "    f (n - 1)  (* teste si n a un diviseur entre 2 et n - 1 *)"
   ]
  },
  {
   "cell_type": "code",
   "execution_count": 10,
   "id": "f5ebfe14-018b-42b4-90ed-2b93f8af4a37",
   "metadata": {
    "execution": {
     "iopub.execute_input": "2021-09-09T19:25:50.317040Z",
     "iopub.status.busy": "2021-09-09T19:25:50.316451Z",
     "iopub.status.idle": "2021-09-09T19:25:50.320054Z",
     "shell.execute_reply": "2021-09-09T19:25:50.320629Z"
    }
   },
   "outputs": [
    {
     "data": {
      "text/plain": [
       "- : bool = true\n"
      ]
     },
     "execution_count": 10,
     "metadata": {},
     "output_type": "execute_result"
    }
   ],
   "source": [
    "premier 2 && premier 3 && not (premier 4)  (* test *)"
   ]
  },
  {
   "cell_type": "code",
   "execution_count": null,
   "id": "d8142e77-fa7a-47b9-a734-0e3e4e9d9c15",
   "metadata": {},
   "outputs": [],
   "source": []
  }
 ],
 "metadata": {
  "jupytext": {
   "cell_metadata_filter": "-all",
   "main_language": "ocaml",
   "notebook_metadata_filter": "-all"
  },
  "kernelspec": {
   "display_name": "OCaml default",
   "language": "OCaml",
   "name": "ocaml-jupyter"
  },
  "language_info": {
   "codemirror_mode": "text/x-ocaml",
   "file_extension": ".ml",
   "mimetype": "text/x-ocaml",
   "name": "OCaml",
   "nbconverter_exporter": null,
   "pygments_lexer": "OCaml",
   "version": "4.08.1"
  },
  "title": "Récursivité"
 },
 "nbformat": 4,
 "nbformat_minor": 5
}

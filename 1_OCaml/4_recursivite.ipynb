{
 "cells": [
  {
   "cell_type": "markdown",
   "id": "0f4a5a31",
   "metadata": {},
   "source": [
    "# Récursivité\n",
    "\n",
    "La récursivité est la possibilité pour une fonction de s'appeller soi-même. En général, il y a deux étapes pour écrire une fonction récursive :\n",
    "1. Un **cas de base** où la fonction renvoie directement une valeur.\n",
    "2. Un **cas général** où la fonction s'appelle sur des paramètres \"plus petits\".\n",
    "\n",
    "En OCaml, une fonction récursive doit être définie par `let rec ...`. Voici un exemple :"
   ]
  },
  {
   "cell_type": "code",
   "execution_count": 1,
   "id": "9acfb78d",
   "metadata": {
    "execution": {
     "iopub.execute_input": "2021-08-14T14:58:25.892951Z",
     "iopub.status.busy": "2021-08-14T14:58:25.892558Z",
     "iopub.status.idle": "2021-08-14T14:58:25.894743Z",
     "shell.execute_reply": "2021-08-14T14:58:25.894339Z"
    },
    "tags": []
   },
   "outputs": [
    {
     "data": {
      "text/plain": [
       "val f : int -> unit = <fun>\n"
      ]
     },
     "execution_count": 1,
     "metadata": {},
     "output_type": "execute_result"
    }
   ],
   "source": [
    "let rec f x = (* exemple de fonction récursive *)\n",
    "    if x = 0 then print_newline () (* cas de base *)\n",
    "    else (print_int x; \n",
    "          f (x - 1)) (* cas général *)"
   ]
  },
  {
   "cell_type": "markdown",
   "id": "36431a0c-357c-4801-a5a3-a97ccde2a053",
   "metadata": {},
   "source": [
    "`f x` affiche un retour à la ligne si `x` est égal à 0, et sinon affiche `x` puis appelle `f (x - 1)`."
   ]
  },
  {
   "cell_type": "markdown",
   "id": "a05b1b8e-7433-44f8-918f-4d7c70a488b7",
   "metadata": {},
   "source": [
    "Essayons cette fonction :"
   ]
  },
  {
   "cell_type": "code",
   "execution_count": 2,
   "id": "d8690b13",
   "metadata": {
    "execution": {
     "iopub.execute_input": "2021-08-14T14:58:25.896837Z",
     "iopub.status.busy": "2021-08-14T14:58:25.896405Z",
     "iopub.status.idle": "2021-08-14T14:58:25.898636Z",
     "shell.execute_reply": "2021-08-14T14:58:25.898279Z"
    },
    "tags": []
   },
   "outputs": [
    {
     "name": "stdout",
     "output_type": "stream",
     "text": [
      "21\n"
     ]
    },
    {
     "data": {
      "text/plain": [
       "- : unit = ()\n"
      ]
     },
     "execution_count": 2,
     "metadata": {},
     "output_type": "execute_result"
    }
   ],
   "source": [
    "f 2"
   ]
  },
  {
   "cell_type": "markdown",
   "id": "5057613f-1836-4956-93d5-0e79ae9899dd",
   "metadata": {},
   "source": [
    "Voici ce qui se passe lors de cet appel `f 2` :\n",
    "1. On regarde si `2 = 0`, ce qui est faux. On passe donc dans le `else`.\n",
    "2. On affiche `2` avec `print_int x`.\n",
    "3. On appelle `f` sur la valeur 1. Le calcul de `f 2` se met en pause et on exécute `f 1`. Quand `f 1` sera terminé, l'appel de `f 2` continuera et `f 1` sera remplacé par sa valeur de retour. \n",
    "4. L'exécution de `f 1` affiche `1` puis appelle `f 0`. Le calcul de `f 1` se met en pause et on exécute `f 0`. Quand `f 0` sera terminé, l'appel de `f 2` continuera et `f 0` sera remplacé par sa valeur de retour.\n",
    "5. `f 0` exécute `print_newline ()` et s'arrête (en renvoyant `()`).\n",
    "6. L'exécution de `f 1` reprend et `f 1` s'arrête.\n",
    "7. L'exécution de `f 2` reprend et `f 2` s'arrête."
   ]
  },
  {
   "cell_type": "markdown",
   "id": "5e70e65d-1aa9-4930-8dca-f9d0cb8e6e5f",
   "metadata": {},
   "source": [
    "Vous pouvez visualiser l'exécution d'un code similaire en Python avec [Python Tutor](http://www.pythontutor.com/visualize.html#code=def%20f%28n%29%3A%0A%20%20%20%20if%20n%20%3D%3D%200%3A%0A%20%20%20%20%20%20%20%20return%0A%20%20%20%20print%28n%29%0A%20%20%20%20f%28n-1%29%0A%0Af%284%29&cumulative=false&curInstr=0&heapPrimitives=nevernest&mode=display&origin=opt-frontend.js&py=3&rawInputLstJSON=%5B%5D&textReferences=false). Il est important de bien comprendre comment les appels récursifs s'effectuent."
   ]
  },
  {
   "cell_type": "markdown",
   "id": "2533b681-5697-41e9-a793-04640cb24990",
   "metadata": {},
   "source": [
    "Un exemple classique d'utilisation de la récursivité est le calcul de la factorielle d'un entier $n$, définie par $n! = n \\times (n - 1) \\times ... \\times 2 \\times 1$.  \n",
    "Pour définir une fonction récursive calculant $n!$ on a besoin de deux choses :\n",
    "- **Cas de base**  : si $n = 0$, on peut renvoyer directement 1 (par convention $0! = 1$), sans appel récursif.\n",
    "- **Cas général/récurrence** : si $n$ est quelconque, il faut rammener le calcul de $n!$ à un calcul d'une factorielle plus petite (de façon à se rapprocher du cas de base). Pour cela, on peut remarquer que $n! = n\\times (n-1)!$ et donc que calculer $(n-1)!$ permet d'en déduire $n!$.  \n",
    "On en déduit le code suivant :"
   ]
  },
  {
   "cell_type": "code",
   "execution_count": 3,
   "id": "858c83fb-ee22-4c0c-b8f5-4edc9f827b05",
   "metadata": {
    "execution": {
     "iopub.execute_input": "2021-08-14T14:58:25.900314Z",
     "iopub.status.busy": "2021-08-14T14:58:25.899968Z",
     "iopub.status.idle": "2021-08-14T14:58:25.902324Z",
     "shell.execute_reply": "2021-08-14T14:58:25.901986Z"
    }
   },
   "outputs": [
    {
     "data": {
      "text/plain": [
       "val fact : int -> int = <fun>\n"
      ]
     },
     "execution_count": 3,
     "metadata": {},
     "output_type": "execute_result"
    }
   ],
   "source": [
    "let rec fact n =\n",
    "    if n = 0 then 1 (* par convention 0! = 1 *)\n",
    "    else n*fact (n - 1)"
   ]
  },
  {
   "cell_type": "code",
   "execution_count": 4,
   "id": "acb8a475-6736-4f30-b862-1758302c3851",
   "metadata": {
    "execution": {
     "iopub.execute_input": "2021-08-14T14:58:25.903730Z",
     "iopub.status.busy": "2021-08-14T14:58:25.903378Z",
     "iopub.status.idle": "2021-08-14T14:58:25.904862Z",
     "shell.execute_reply": "2021-08-14T14:58:25.904555Z"
    }
   },
   "outputs": [
    {
     "data": {
      "text/plain": [
       "- : int = 24\n"
      ]
     },
     "execution_count": 4,
     "metadata": {},
     "output_type": "execute_result"
    }
   ],
   "source": [
    "fact 4"
   ]
  },
  {
   "cell_type": "markdown",
   "id": "171e8106-e568-4324-aa74-38d42b583ec7",
   "metadata": {},
   "source": [
    "**Remarque** : Si on oublie le cas de base (`if n = 0`) la fonction ne s'arrête jamais (`fact 0` appelerait `fact (-1)` qui appelerait `fact (-2)` et ainsi de suite...) !"
   ]
  },
  {
   "cell_type": "markdown",
   "id": "bc1495e1-65a6-4d72-bfd9-ce7bd8ca10a1",
   "metadata": {},
   "source": [
    "Écrire une fonction récursive ressemble beaucoup à écrire une démonstration mathématiques par récurrence et d'ailleurs on utilisera souvent une démonstration par récurrence pour démontrer qu'une fonction récursive est correcte, c'est à dire renvoie bien la bonne valeur.  \n",
    "Par exemple, pour démontrer que `fact` est correcte, on peut poser l'hypothèse de récurrence :\n",
    "$$\\mathcal{H}(n) : \\text{fact } n \\text{ renvoie } n!$$\n",
    "Preuve :\n",
    "1. $\\mathcal{H}(0)$ est vraie car `fact 0` renvoie 1 et, par définition, $0! = 1$.\n",
    "1. Soit $n$ un entier strictement positif. Supposons $\\mathcal{H}(n - 1)$ et montrons $\\mathcal{H}(n)$.  \n",
    "Comme $n > 0$, `fact n` renvoie `n*fact (n - 1)`. D'après $\\mathcal{H}(n - 1)$, `fact (n - 1)` renvoie $(n - 1)!$. Donc `fact n` renvoie $n(n - 1)! = n!$, ce qui démontre $\\mathcal{H}(n)$.  \n",
    "D'après le principe de récurrence, $\\mathcal{H}(n)$ est vraie pour tout $n \\in \\mathbb{N}$. "
   ]
  },
  {
   "cell_type": "markdown",
   "id": "4c7c43c0-366a-4560-9d61-7a21a631554c",
   "metadata": {},
   "source": [
    "**Exercice** : Qu'affiche le code suivant? Le deviner puis exécuter le code pour vérifier.\n",
    "```ocaml\n",
    "let rec f x =\n",
    "    if x = 0 then print_newline ()\n",
    "    else (f (x - 1);\n",
    "          print_int x) in\n",
    "f 5    \n",
    "```"
   ]
  },
  {
   "cell_type": "markdown",
   "id": "7366dca4-485e-4727-ad12-5ba4c8876205",
   "metadata": {},
   "source": [
    "**Exercice** : \n",
    "1. Écrire une fonction récursive pour calculer la somme des $n$ premiers entiers $S(n) = 1 + 2 + ... + (n - 1)$.\n",
    "2. Quelle formule connaissez-vous pour calculer $S(n)$? En déduire une autre fonction (non récursive) pour calculer cette valeur. Vérifier sur des exemples que les deux fonctions donnent la même valeur. "
   ]
  },
  {
   "cell_type": "markdown",
   "id": "48341b33-13cf-44bd-b666-134ab72479fa",
   "metadata": {},
   "source": [
    "Une application classique de la récursivité est le calcul des termes d'une suite récurrente.  \n",
    "Par exemple :\n",
    "\\begin{cases} \n",
    "u_{n} = 3u_{n-1} + 2, \\text{si } n > 0\\\\\n",
    "u_0 = 5\n",
    "\\end{cases}"
   ]
  },
  {
   "cell_type": "markdown",
   "id": "5be1da26-d831-4b58-aa53-ce0bd0cbaa4a",
   "metadata": {},
   "source": [
    "Cette définition par récurrence se traduit naturellement en fonction récursive :"
   ]
  },
  {
   "cell_type": "code",
   "execution_count": 5,
   "id": "6d4b4d23-0e53-45d4-8ea9-8f27ccd9f114",
   "metadata": {
    "execution": {
     "iopub.execute_input": "2021-08-14T14:58:25.906639Z",
     "iopub.status.busy": "2021-08-14T14:58:25.906296Z",
     "iopub.status.idle": "2021-08-14T14:58:25.908705Z",
     "shell.execute_reply": "2021-08-14T14:58:25.908403Z"
    }
   },
   "outputs": [
    {
     "data": {
      "text/plain": [
       "val u : int -> int = <fun>\n"
      ]
     },
     "execution_count": 5,
     "metadata": {},
     "output_type": "execute_result"
    }
   ],
   "source": [
    "let rec u n = \n",
    "    if n = 0 then 5\n",
    "    else 3*(u (n - 1)) + 2"
   ]
  },
  {
   "cell_type": "code",
   "execution_count": 6,
   "id": "9a1f575e-35f3-46bd-9c7e-d48bb57dd262",
   "metadata": {
    "execution": {
     "iopub.execute_input": "2021-08-14T14:58:25.910111Z",
     "iopub.status.busy": "2021-08-14T14:58:25.909774Z",
     "iopub.status.idle": "2021-08-14T14:58:25.911388Z",
     "shell.execute_reply": "2021-08-14T14:58:25.911101Z"
    }
   },
   "outputs": [
    {
     "data": {
      "text/plain": [
       "- : int = 354293\n"
      ]
     },
     "execution_count": 6,
     "metadata": {},
     "output_type": "execute_result"
    }
   ],
   "source": [
    "u 10"
   ]
  },
  {
   "cell_type": "markdown",
   "id": "565ba0cf-b52e-4ddf-bdaf-29a0262115ed",
   "metadata": {},
   "source": [
    "**Exercice** : calculer $v_{10}$, où $v_n$ est définie par\n",
    "\\begin{cases} \n",
    "v_{n+1} = \\sqrt{v_{n}} + 4, \\text{si } n > 0\\\\\n",
    "v_1 = 5\n",
    "\\end{cases}"
   ]
  },
  {
   "cell_type": "code",
   "execution_count": null,
   "id": "249784c9-04af-44fb-b1a6-5806a4b21d9b",
   "metadata": {},
   "outputs": [],
   "source": []
  }
 ],
 "metadata": {
  "jupytext": {
   "cell_metadata_filter": "-all",
   "main_language": "ocaml",
   "notebook_metadata_filter": "-all"
  },
  "kernelspec": {
   "display_name": "OCaml default",
   "language": "OCaml",
   "name": "ocaml-jupyter"
  },
  "language_info": {
   "codemirror_mode": "text/x-ocaml",
   "file_extension": ".ml",
   "mimetype": "text/x-ocaml",
   "name": "OCaml",
   "nbconverter_exporter": null,
   "pygments_lexer": "OCaml",
   "version": "4.12.0"
  }
 },
 "nbformat": 4,
 "nbformat_minor": 5
}

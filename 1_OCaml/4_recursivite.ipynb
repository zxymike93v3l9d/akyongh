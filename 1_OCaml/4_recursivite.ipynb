{
 "cells": [
  {
   "cell_type": "markdown",
   "id": "0f4a5a31",
   "metadata": {},
   "source": [
    "# Récursivité\n",
    "\n",
    "La récursivité est la possibilité pour une fonction de s'appeller soi-même. En général, il y a deux étapes pour écrire une fonction récursive :\n",
    "1. Un cas de base où la fonction renvoie directement une valeur.\n",
    "2. Un cas général où la fonction s'appelle sur des paramètres \"plus petits\".\n",
    "\n",
    "En OCaml, une fonction récursive doit être définie par `let rec ...` :"
   ]
  },
  {
   "cell_type": "code",
   "execution_count": 1,
   "id": "9acfb78d",
   "metadata": {
    "execution": {
     "iopub.execute_input": "2021-08-08T14:34:09.744960Z",
     "iopub.status.busy": "2021-08-08T14:34:09.743452Z",
     "iopub.status.idle": "2021-08-08T14:34:09.752932Z",
     "shell.execute_reply": "2021-08-08T14:34:09.751608Z"
    }
   },
   "outputs": [
    {
     "data": {
      "text/plain": [
       "val f : int -> unit = <fun>\n"
      ]
     },
     "execution_count": 1,
     "metadata": {},
     "output_type": "execute_result"
    }
   ],
   "source": [
    "let rec f x = (* exemple de fonction récursive *)\n",
    "    if x = 0 then print_newline ()\n",
    "    else (print_int x;\n",
    "          f (x - 1))"
   ]
  },
  {
   "cell_type": "code",
   "execution_count": 2,
   "id": "d8690b13",
   "metadata": {
    "execution": {
     "iopub.execute_input": "2021-08-08T14:34:09.758352Z",
     "iopub.status.busy": "2021-08-08T14:34:09.756276Z",
     "iopub.status.idle": "2021-08-08T14:34:09.764192Z",
     "shell.execute_reply": "2021-08-08T14:34:09.761571Z"
    }
   },
   "outputs": [
    {
     "name": "stdout",
     "output_type": "stream",
     "text": [
      "321\n"
     ]
    },
    {
     "data": {
      "text/plain": [
       "- : unit = ()\n"
      ]
     },
     "execution_count": 2,
     "metadata": {},
     "output_type": "execute_result"
    }
   ],
   "source": [
    "f 3"
   ]
  },
  {
   "cell_type": "code",
   "execution_count": 3,
   "id": "3b2ba859",
   "metadata": {
    "execution": {
     "iopub.execute_input": "2021-08-08T14:34:09.767911Z",
     "iopub.status.busy": "2021-08-08T14:34:09.766703Z",
     "iopub.status.idle": "2021-08-08T14:34:09.771593Z",
     "shell.execute_reply": "2021-08-08T14:34:09.770996Z"
    }
   },
   "outputs": [
    {
     "name": "stdout",
     "output_type": "stream",
     "text": [
      "3234\n"
     ]
    },
    {
     "data": {
      "text/plain": [
       "- : unit = ()\n"
      ]
     },
     "execution_count": 3,
     "metadata": {},
     "output_type": "execute_result"
    }
   ],
   "source": [
    "print_int 3234; print_newline ()"
   ]
  },
  {
   "cell_type": "code",
   "execution_count": null,
   "id": "9b3ffd06",
   "metadata": {},
   "outputs": [],
   "source": []
  }
 ],
 "metadata": {
  "jupytext": {
   "cell_metadata_filter": "-all",
   "main_language": "ocaml",
   "notebook_metadata_filter": "-all"
  },
  "language_info": {
   "codemirror_mode": "text/x-ocaml",
   "file_extension": ".ml",
   "mimetype": "text/x-ocaml",
   "name": "OCaml",
   "nbconverter_exporter": null,
   "pygments_lexer": "OCaml",
   "version": "4.12.0"
  }
 },
 "nbformat": 4,
 "nbformat_minor": 5
}

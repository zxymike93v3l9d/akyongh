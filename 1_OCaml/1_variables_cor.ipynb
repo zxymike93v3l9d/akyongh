{
 "cells": [
  {
   "cell_type": "markdown",
   "id": "eccaf036",
   "metadata": {},
   "source": [
    "# Définition d'une variable\n",
    "\n",
    "Une variable possède 3 propriétés:  \n",
    "- un nom (exemple : `x`)  \n",
    "- une valeur (exemple : 42)  \n",
    "- un type (exemple : entier)\n",
    "\n",
    "En OCaml, on définit une variable de la façon suivante :\n",
    "```ocaml\n",
    "let variable = valeur\n",
    "```\n",
    "\n",
    "Par exemple, pour définir une variable `x` valant 42 :"
   ]
  },
  {
   "cell_type": "code",
   "execution_count": 1,
   "id": "87a2bac7",
   "metadata": {
    "execution": {
     "iopub.execute_input": "2021-09-08T13:57:50.932681Z",
     "iopub.status.busy": "2021-09-08T13:57:50.932005Z",
     "iopub.status.idle": "2021-09-08T13:57:50.934696Z",
     "shell.execute_reply": "2021-09-08T13:57:50.933221Z"
    },
    "tags": []
   },
   "outputs": [
    {
     "data": {
      "text/plain": [
       "val x : int = 42\n"
      ]
     },
     "execution_count": 1,
     "metadata": {},
     "output_type": "execute_result"
    }
   ],
   "source": [
    "let x = 42"
   ]
  },
  {
   "cell_type": "markdown",
   "id": "7e79ce60",
   "metadata": {},
   "source": [
    "OCaml nous répond que `x` a pour valeur 42 et est de type `int` (*integer*, c'est à dire entier).\n",
    "La variable `x` est ici définie globalement, c'est à dire accessible partout dans ce notebook.\n",
    "\n",
    "On peut alors faire des calculs avec la valeur de `x` :"
   ]
  },
  {
   "cell_type": "code",
   "execution_count": 2,
   "id": "80db92c1",
   "metadata": {
    "execution": {
     "iopub.execute_input": "2021-09-08T13:57:50.936717Z",
     "iopub.status.busy": "2021-09-08T13:57:50.936156Z",
     "iopub.status.idle": "2021-09-08T13:57:50.940319Z",
     "shell.execute_reply": "2021-09-08T13:57:50.939851Z"
    },
    "tags": []
   },
   "outputs": [
    {
     "data": {
      "text/plain": [
       "- : int = 124\n"
      ]
     },
     "execution_count": 2,
     "metadata": {},
     "output_type": "execute_result"
    }
   ],
   "source": [
    "3*x - 2 (* OCaml remplace x par 42 et fait le calcul *)"
   ]
  },
  {
   "cell_type": "markdown",
   "id": "a5f2a543",
   "metadata": {},
   "source": [
    "Il est possible d'avoir une expression (un calcul) à droite d'une définition :"
   ]
  },
  {
   "cell_type": "code",
   "execution_count": 3,
   "id": "d75dcc46",
   "metadata": {
    "execution": {
     "iopub.execute_input": "2021-09-08T13:57:50.942385Z",
     "iopub.status.busy": "2021-09-08T13:57:50.941747Z",
     "iopub.status.idle": "2021-09-08T13:57:50.944775Z",
     "shell.execute_reply": "2021-09-08T13:57:50.944285Z"
    },
    "tags": []
   },
   "outputs": [
    {
     "data": {
      "text/plain": [
       "val a : int = 10\n"
      ]
     },
     "execution_count": 3,
     "metadata": {},
     "output_type": "execute_result"
    }
   ],
   "source": [
    "let a = 1 + 2 + 3 + 4 (* la valeur à droite de = est calculée puis mise dans a *)"
   ]
  },
  {
   "cell_type": "markdown",
   "id": "df0ea559",
   "metadata": {},
   "source": [
    "**Exercice** : définissez une variable $a$ égale à 752. Puis définissez une variable $b$ égale à $54a$.    \n",
    "Rappel : vous pouvez appuyer sur la touche B pour faire apparaître une case de code et répondre dedans. Ici vous pouvez utiliser deux cases, ou séparer les deux instructions avec ` ;;`."
   ]
  },
  {
   "cell_type": "code",
   "execution_count": 4,
   "id": "fa618aa3-5952-4d83-9249-f5323516e3d9",
   "metadata": {
    "execution": {
     "iopub.execute_input": "2021-09-08T13:57:50.946697Z",
     "iopub.status.busy": "2021-09-08T13:57:50.946154Z",
     "iopub.status.idle": "2021-09-08T13:57:50.949141Z",
     "shell.execute_reply": "2021-09-08T13:57:50.950401Z"
    },
    "tags": [
     "cor"
    ]
   },
   "outputs": [
    {
     "data": {
      "text/plain": [
       "val a : int = 752\n"
      ]
     },
     "execution_count": 4,
     "metadata": {},
     "output_type": "execute_result"
    }
   ],
   "source": [
    "let a = 752;;\n",
    "let b = 54*a;;\n",
    "b"
   ]
  },
  {
   "cell_type": "markdown",
   "id": "23674f52",
   "metadata": {},
   "source": [
    "# Variables locales\n",
    "\n",
    "Il est possible de définir une variable locale en utilisant la forme `let y = ... in ...`  \n",
    "`y` est alors seulement après le in `...`"
   ]
  },
  {
   "cell_type": "code",
   "execution_count": 5,
   "id": "b2926e27",
   "metadata": {
    "execution": {
     "iopub.execute_input": "2021-09-08T13:57:50.953295Z",
     "iopub.status.busy": "2021-09-08T13:57:50.952601Z",
     "iopub.status.idle": "2021-09-08T13:57:50.954966Z",
     "shell.execute_reply": "2021-09-08T13:57:50.953830Z"
    },
    "tags": []
   },
   "outputs": [
    {
     "data": {
      "text/plain": [
       "- : int = -1\n"
      ]
     },
     "execution_count": 5,
     "metadata": {},
     "output_type": "execute_result"
    }
   ],
   "source": [
    "let y = -1 in y (* y est accessible dans le in *)"
   ]
  },
  {
   "cell_type": "code",
   "execution_count": 6,
   "id": "2e43ec85",
   "metadata": {
    "execution": {
     "iopub.execute_input": "2021-09-08T13:57:50.956821Z",
     "iopub.status.busy": "2021-09-08T13:57:50.956277Z",
     "iopub.status.idle": "2021-09-08T13:57:50.958283Z",
     "shell.execute_reply": "2021-09-08T13:57:50.958678Z"
    },
    "tags": []
   },
   "outputs": [
    {
     "ename": "error",
     "evalue": "compile_error",
     "output_type": "error",
     "traceback": [
      "File \"[6]\", line 1, characters 0-1:\n1 | y (* utiliser y ici donne une erreur  *)\n    ^\nError: Unbound value y\n"
     ]
    }
   ],
   "source": [
    "y (* utiliser y ici donne une erreur  *)"
   ]
  },
  {
   "cell_type": "markdown",
   "id": "856715be",
   "metadata": {
    "tags": []
   },
   "source": [
    "**Exercice** : en utilisant `let ... in ... `, définissez une variable $a$ égale à $752$, puis définissez une variable $b$ égale à $54a$.    "
   ]
  },
  {
   "cell_type": "code",
   "execution_count": 7,
   "id": "54169267-4ad4-4383-9814-4203ef17e639",
   "metadata": {
    "execution": {
     "iopub.execute_input": "2021-09-08T13:57:50.960760Z",
     "iopub.status.busy": "2021-09-08T13:57:50.960205Z",
     "iopub.status.idle": "2021-09-08T13:57:50.963161Z",
     "shell.execute_reply": "2021-09-08T13:57:50.962653Z"
    },
    "tags": [
     "cor"
    ]
   },
   "outputs": [
    {
     "data": {
      "text/plain": [
       "- : int = 40608\n"
      ]
     },
     "execution_count": 7,
     "metadata": {},
     "output_type": "execute_result"
    }
   ],
   "source": [
    "let a = 752 in\n",
    "let b = 54*a in\n",
    "b"
   ]
  },
  {
   "cell_type": "markdown",
   "id": "1fb3eee6",
   "metadata": {},
   "source": [
    "**Remarque** Il est possible d'utiliser des parenthèses ou `begin ... end` pour délimiter le in :\n",
    "```ocaml\n",
    "let a = 3 in\n",
    "(\n",
    "...\n",
    ")\n",
    "```"
   ]
  },
  {
   "cell_type": "markdown",
   "id": "de9cd134",
   "metadata": {
    "tags": []
   },
   "source": [
    "\n",
    "# Opérations numériques\n",
    "\n",
    "Nous avons déjà vu l'addition et la soustraction de 2 entiers. Il est aussi possible de multiplier :"
   ]
  },
  {
   "cell_type": "code",
   "execution_count": 8,
   "id": "357172eb",
   "metadata": {
    "execution": {
     "iopub.execute_input": "2021-09-08T13:57:50.965059Z",
     "iopub.status.busy": "2021-09-08T13:57:50.964530Z",
     "iopub.status.idle": "2021-09-08T13:57:50.966501Z",
     "shell.execute_reply": "2021-09-08T13:57:50.966917Z"
    }
   },
   "outputs": [
    {
     "data": {
      "text/plain": [
       "- : int = 42\n"
      ]
     },
     "execution_count": 8,
     "metadata": {},
     "output_type": "execute_result"
    }
   ],
   "source": [
    "3 * 14"
   ]
  },
  {
   "cell_type": "markdown",
   "id": "1abd389c",
   "metadata": {},
   "source": [
    "On peut effectuer la division **entière** (ou encore : [quotient de la division euclidienne](https://fr.wikipedia.org/wiki/Division_euclidienne)) de 2 entiers :"
   ]
  },
  {
   "cell_type": "code",
   "execution_count": 9,
   "id": "ea8da468",
   "metadata": {
    "execution": {
     "iopub.execute_input": "2021-09-08T13:57:50.968801Z",
     "iopub.status.busy": "2021-09-08T13:57:50.968268Z",
     "iopub.status.idle": "2021-09-08T13:57:50.970497Z",
     "shell.execute_reply": "2021-09-08T13:57:50.970910Z"
    }
   },
   "outputs": [
    {
     "data": {
      "text/plain": [
       "- : int = 1\n"
      ]
     },
     "execution_count": 9,
     "metadata": {},
     "output_type": "execute_result"
    }
   ],
   "source": [
    "3 / 2 (* division entière *)"
   ]
  },
  {
   "cell_type": "markdown",
   "id": "6f3cfb26",
   "metadata": {},
   "source": [
    "La division entière de $x$ par $y$ est, par définition, la partie entière de $\\frac{x}{y}$.  \n",
    "Dans l'exemple ci-dessus, `3 / 2` est donc la partie entière de $\\frac{3}{2} = 1.5$, c'est à dire $1$. \n",
    "\n",
    "**Attention** : la division entière ` 3 / 2`  en OCaml correspond à ` 3 // 2 ` en Python."
   ]
  },
  {
   "cell_type": "markdown",
   "id": "95d7f683",
   "metadata": {},
   "source": [
    "En plus des entiers (`int`), OCaml permet de définir des nombres à virgules (`float`, pour flottant) :"
   ]
  },
  {
   "cell_type": "code",
   "execution_count": 10,
   "id": "dc947292",
   "metadata": {
    "execution": {
     "iopub.execute_input": "2021-09-08T13:57:50.972829Z",
     "iopub.status.busy": "2021-09-08T13:57:50.972302Z",
     "iopub.status.idle": "2021-09-08T13:57:50.975346Z",
     "shell.execute_reply": "2021-09-08T13:57:50.974855Z"
    }
   },
   "outputs": [
    {
     "data": {
      "text/plain": [
       "val pi : float = 3.141592\n"
      ]
     },
     "execution_count": 10,
     "metadata": {},
     "output_type": "execute_result"
    }
   ],
   "source": [
    "let pi = 3.141592"
   ]
  },
  {
   "cell_type": "markdown",
   "id": "8d05b1a0",
   "metadata": {},
   "source": [
    "Les opérateurs d'addition, soustraction, multiplication, division doivent s'utiliser avec un `.` (point). Par exemple :"
   ]
  },
  {
   "cell_type": "code",
   "execution_count": 11,
   "id": "bf5c9ce0",
   "metadata": {
    "execution": {
     "iopub.execute_input": "2021-09-08T13:57:50.977279Z",
     "iopub.status.busy": "2021-09-08T13:57:50.976751Z",
     "iopub.status.idle": "2021-09-08T13:57:50.978502Z",
     "shell.execute_reply": "2021-09-08T13:57:50.978912Z"
    }
   },
   "outputs": [
    {
     "data": {
      "text/plain": [
       "- : float = 5.759592\n"
      ]
     },
     "execution_count": 11,
     "metadata": {},
     "output_type": "execute_result"
    }
   ],
   "source": [
    "pi +. 2.618 (* noter le . après + *)"
   ]
  },
  {
   "cell_type": "markdown",
   "id": "d4d67bb9",
   "metadata": {},
   "source": [
    "**Attention** : c'est le point (.) et non pas la virgule qui est utilisé pour les flottants."
   ]
  },
  {
   "cell_type": "markdown",
   "id": "8e80f681",
   "metadata": {},
   "source": [
    "Il est possible de calculer $x^y$, où $x$ et $y$ sont des **flottants** avec `**` :"
   ]
  },
  {
   "cell_type": "code",
   "execution_count": 12,
   "id": "b2f6b5f9",
   "metadata": {
    "execution": {
     "iopub.execute_input": "2021-09-08T13:57:50.981064Z",
     "iopub.status.busy": "2021-09-08T13:57:50.980491Z",
     "iopub.status.idle": "2021-09-08T13:57:50.983827Z",
     "shell.execute_reply": "2021-09-08T13:57:50.983334Z"
    }
   },
   "outputs": [
    {
     "data": {
      "text/plain": [
       "- : float = 23.0963461891915607\n"
      ]
     },
     "execution_count": 12,
     "metadata": {},
     "output_type": "execute_result"
    }
   ],
   "source": [
    "2.718 ** 3.14 (* x puissance y *)"
   ]
  },
  {
   "cell_type": "markdown",
   "id": "99d21b75",
   "metadata": {},
   "source": [
    "Il n'est pas possible d'utiliser `**` sur des `int`. Par contre on peut utiliser 4.0 ou 4. au lieu de 4 pour avoir des flottants et utiliser `**` : "
   ]
  },
  {
   "cell_type": "code",
   "execution_count": 13,
   "id": "56859fb1",
   "metadata": {
    "execution": {
     "iopub.execute_input": "2021-09-08T13:57:50.985666Z",
     "iopub.status.busy": "2021-09-08T13:57:50.985132Z",
     "iopub.status.idle": "2021-09-08T13:57:50.986982Z",
     "shell.execute_reply": "2021-09-08T13:57:50.987423Z"
    }
   },
   "outputs": [
    {
     "data": {
      "text/plain": [
       "- : float = 1024.\n"
      ]
     },
     "execution_count": 13,
     "metadata": {},
     "output_type": "execute_result"
    }
   ],
   "source": [
    "2. ** 10."
   ]
  },
  {
   "cell_type": "markdown",
   "id": "bed54edc",
   "metadata": {},
   "source": [
    "**Exercice**\n",
    "1. Stocker la valeur $42^2$ dans une variable $a$, en utilisant `*`.\n",
    "2. En déduire la valeur de $42^4$.\n",
    "3. Calculer la valeur de $2^{10}$ en utilisant le moins de multiplications possibles."
   ]
  },
  {
   "cell_type": "code",
   "execution_count": 14,
   "id": "3c446d61",
   "metadata": {
    "execution": {
     "iopub.execute_input": "2021-09-08T13:57:50.989261Z",
     "iopub.status.busy": "2021-09-08T13:57:50.988720Z",
     "iopub.status.idle": "2021-09-08T13:57:50.993034Z",
     "shell.execute_reply": "2021-09-08T13:57:50.993475Z"
    },
    "tags": [
     "cor"
    ]
   },
   "outputs": [
    {
     "data": {
      "text/plain": [
       "val a : int = 1764\n"
      ]
     },
     "execution_count": 14,
     "metadata": {},
     "output_type": "execute_result"
    },
    {
     "data": {
      "text/plain": [
       "- : int = 3111696\n"
      ]
     },
     "execution_count": 14,
     "metadata": {},
     "output_type": "execute_result"
    }
   ],
   "source": [
    "(* 1. *) \n",
    "let a = 42*42;;\n",
    "\n",
    "\n",
    "(* 2. *)\n",
    "a*a;;\n",
    "\n",
    "(* 3. *)\n",
    "let deux_puiss_2 = 2*2 in\n",
    "let deux_puiss_4 = deux_puiss_2*deux_puiss_2 in\n",
    "let deux_puiss_8 = deux_puiss_4*deux_puiss_4 in\n",
    "deux_puiss_8 * deux_puiss_2;; (* calcul de 2 puissance 10 en 4 multiplications *)"
   ]
  },
  {
   "cell_type": "markdown",
   "id": "8cec63ad",
   "metadata": {},
   "source": [
    "**Exercice**\n",
    "\n",
    "1. Stocker dans 3 variables $a$, $b$, $c$ les valeurs 2, 5 et 3. On pourra utiliser let a, b, c = ..., ..., ... pour définir 3 variable simultanément. \n",
    "2. Stocker dans une variable $delta$ le discriminant de l'équation $ax^2 + bx + c = 0$.\n",
    "3. Calculer toutes les solutions de l'équation précédente."
   ]
  },
  {
   "cell_type": "code",
   "execution_count": 15,
   "id": "430357b2",
   "metadata": {
    "execution": {
     "iopub.execute_input": "2021-09-08T13:57:50.995560Z",
     "iopub.status.busy": "2021-09-08T13:57:50.995034Z",
     "iopub.status.idle": "2021-09-08T13:57:50.999030Z",
     "shell.execute_reply": "2021-09-08T13:57:50.998591Z"
    },
    "tags": [
     "cor"
    ]
   },
   "outputs": [
    {
     "data": {
      "text/plain": [
       "val a : float = 2.\n",
       "val b : float = 6.\n",
       "val c : float = 3.\n"
      ]
     },
     "execution_count": 15,
     "metadata": {},
     "output_type": "execute_result"
    }
   ],
   "source": [
    "(* 1. *)\n",
    "let a, b, c = 2., 6., 3.;;"
   ]
  },
  {
   "cell_type": "code",
   "execution_count": 16,
   "id": "b4e2314f",
   "metadata": {
    "execution": {
     "iopub.execute_input": "2021-09-08T13:57:51.001405Z",
     "iopub.status.busy": "2021-09-08T13:57:51.000892Z",
     "iopub.status.idle": "2021-09-08T13:57:51.003319Z",
     "shell.execute_reply": "2021-09-08T13:57:51.003789Z"
    },
    "tags": [
     "cor"
    ]
   },
   "outputs": [
    {
     "data": {
      "text/plain": [
       "val delta : float = 12.\n"
      ]
     },
     "execution_count": 16,
     "metadata": {},
     "output_type": "execute_result"
    }
   ],
   "source": [
    "(* 2. *)\n",
    "let delta = b**2. -. 4.*.a*.c;;"
   ]
  },
  {
   "cell_type": "code",
   "execution_count": 17,
   "id": "a52080b6",
   "metadata": {
    "execution": {
     "iopub.execute_input": "2021-09-08T13:57:51.005526Z",
     "iopub.status.busy": "2021-09-08T13:57:51.004993Z",
     "iopub.status.idle": "2021-09-08T13:57:51.010066Z",
     "shell.execute_reply": "2021-09-08T13:57:51.009449Z"
    },
    "tags": [
     "cor"
    ]
   },
   "outputs": [
    {
     "data": {
      "text/plain": [
       "- : float = -2.36602540378443837\n"
      ]
     },
     "execution_count": 17,
     "metadata": {},
     "output_type": "execute_result"
    },
    {
     "data": {
      "text/plain": [
       "- : float = -0.633974596215561403\n"
      ]
     },
     "execution_count": 17,
     "metadata": {},
     "output_type": "execute_result"
    }
   ],
   "source": [
    "(* 3. Le discriminant étant positif, il y a deux solutions égales à : *)\n",
    "(-.b -. sqrt delta)/.(2.*.a);;\n",
    "(-.b +. sqrt delta)/.(2.*.a);;"
   ]
  },
  {
   "cell_type": "markdown",
   "id": "334144c0",
   "metadata": {},
   "source": [
    "Une autre opération importante est le **modulo** (ou : [reste de la division euclidienne](https://fr.wikipedia.org/wiki/Division_euclidienne)) de 2 entiers `a` et `b`, notée `a mod b` en OCaml. Mathématiquement, il s'agit de l'entier $r$ vérifiant :\n",
    "$$a = bq + r$$\n",
    "$$0 \\leq r < b$$\n",
    "\n",
    "($q$ est le quotient, égal à `a / b` en OCaml)  \n",
    "Cette opération `mod` sert notamment à tester la divisibilité : `a` est divisible par `b` si et seulement si `a mod b = 0`."
   ]
  },
  {
   "cell_type": "markdown",
   "id": "19f53d4b",
   "metadata": {},
   "source": [
    "**Exercice** : Est-ce que 527 est divisible par 17?"
   ]
  },
  {
   "cell_type": "code",
   "execution_count": 18,
   "id": "02adba27",
   "metadata": {
    "execution": {
     "iopub.execute_input": "2021-09-08T13:57:51.011969Z",
     "iopub.status.busy": "2021-09-08T13:57:51.011421Z",
     "iopub.status.idle": "2021-09-08T13:57:51.013202Z",
     "shell.execute_reply": "2021-09-08T13:57:51.013633Z"
    },
    "tags": [
     "cor"
    ]
   },
   "outputs": [
    {
     "data": {
      "text/plain": [
       "- : int = 0\n"
      ]
     },
     "execution_count": 18,
     "metadata": {},
     "output_type": "execute_result"
    }
   ],
   "source": [
    "527 mod 17 (* c'est égal à 0 donc 17 divise bien 527 *)"
   ]
  },
  {
   "cell_type": "markdown",
   "id": "5c0f37e1",
   "metadata": {},
   "source": [
    "# Overflow\n",
    "\n",
    "L'ordinateur stocke toutes les variables dans la mémoire RAM de l'ordinateur, en binaire (suite de 0 et de 1). Comme la mémoire RAM sur un ordinateur n'est pas infinie, on ne peut pas stocker des nombres de taille arbitraire.  \n",
    "`max_int` est le plus grand entier que l'on peut stocker dans une variable :"
   ]
  },
  {
   "cell_type": "code",
   "execution_count": 19,
   "id": "49a4fbe9",
   "metadata": {
    "execution": {
     "iopub.execute_input": "2021-09-08T13:57:51.015379Z",
     "iopub.status.busy": "2021-09-08T13:57:51.014861Z",
     "iopub.status.idle": "2021-09-08T13:57:51.017083Z",
     "shell.execute_reply": "2021-09-08T13:57:51.016625Z"
    }
   },
   "outputs": [
    {
     "data": {
      "text/plain": [
       "- : int = 4611686018427387903\n"
      ]
     },
     "execution_count": 19,
     "metadata": {},
     "output_type": "execute_result"
    }
   ],
   "source": [
    "max_int"
   ]
  },
  {
   "cell_type": "markdown",
   "id": "c3514b04",
   "metadata": {},
   "source": [
    "Si on dépasse cet entier (ce qu'on appelle **integer overflow**), on tombe sur le plus petit entier représentable :"
   ]
  },
  {
   "cell_type": "code",
   "execution_count": 20,
   "id": "9cc49c34",
   "metadata": {
    "execution": {
     "iopub.execute_input": "2021-09-08T13:57:51.018818Z",
     "iopub.status.busy": "2021-09-08T13:57:51.018290Z",
     "iopub.status.idle": "2021-09-08T13:57:51.020178Z",
     "shell.execute_reply": "2021-09-08T13:57:51.020647Z"
    },
    "tags": []
   },
   "outputs": [
    {
     "data": {
      "text/plain": [
       "- : int = -4611686018427387904\n"
      ]
     },
     "execution_count": 20,
     "metadata": {},
     "output_type": "execute_result"
    }
   ],
   "source": [
    "max_int + 1"
   ]
  },
  {
   "cell_type": "markdown",
   "id": "db3ae6be",
   "metadata": {},
   "source": [
    "Le dépassement d'entier est une source fréquente de bug, qui a causé par exemple le [crash de la fusée Ariane 5](https://fr.wikipedia.org/wiki/Vol_501_d%27Ariane_5)."
   ]
  },
  {
   "cell_type": "markdown",
   "id": "5cb379e4",
   "metadata": {},
   "source": [
    "Les float sont également limités :"
   ]
  },
  {
   "cell_type": "code",
   "execution_count": 21,
   "id": "e22162bf",
   "metadata": {
    "execution": {
     "iopub.execute_input": "2021-09-08T13:57:51.022442Z",
     "iopub.status.busy": "2021-09-08T13:57:51.021924Z",
     "iopub.status.idle": "2021-09-08T13:57:51.024647Z",
     "shell.execute_reply": "2021-09-08T13:57:51.024191Z"
    }
   },
   "outputs": [
    {
     "data": {
      "text/plain": [
       "- : float = 1.79769313486231571e+308\n"
      ]
     },
     "execution_count": 21,
     "metadata": {},
     "output_type": "execute_result"
    }
   ],
   "source": [
    "max_float"
   ]
  },
  {
   "cell_type": "markdown",
   "id": "f1532ae0",
   "metadata": {},
   "source": [
    "Les flottants sont codées suivant la norme [IEEE754](https://fr.wikipedia.org/wiki/IEEE_754) sous la forme scientifique en utilisant 64 bits (sur un processeur 64 bits) dont 52 bits pour les chiffres après la virgule.  \n",
    "La précision des flottants est donc limitée : par exemple, on ne peut pas stocker $\\sqrt{2}$ ou $\\pi$ de façon exacte sur l'ordinateur puisqu'il s'agit de nombres irrationnels (c'est à dire avec une infinité de décimales, qui ne se répètent pas).  "
   ]
  },
  {
   "cell_type": "code",
   "execution_count": 22,
   "id": "4656b3ed",
   "metadata": {
    "execution": {
     "iopub.execute_input": "2021-09-08T13:57:51.026383Z",
     "iopub.status.busy": "2021-09-08T13:57:51.025853Z",
     "iopub.status.idle": "2021-09-08T13:57:51.027690Z",
     "shell.execute_reply": "2021-09-08T13:57:51.028119Z"
    }
   },
   "outputs": [
    {
     "data": {
      "text/plain": [
       "- : float = 1.41421356237309515\n"
      ]
     },
     "execution_count": 22,
     "metadata": {},
     "output_type": "execute_result"
    }
   ],
   "source": [
    "2.**0.5 (* seulement une partie des décimales est stockée *)"
   ]
  },
  {
   "cell_type": "code",
   "execution_count": 23,
   "id": "f5244935",
   "metadata": {
    "execution": {
     "iopub.execute_input": "2021-09-08T13:57:51.029782Z",
     "iopub.status.busy": "2021-09-08T13:57:51.029264Z",
     "iopub.status.idle": "2021-09-08T13:57:51.032254Z",
     "shell.execute_reply": "2021-09-08T13:57:51.031799Z"
    }
   },
   "outputs": [
    {
     "data": {
      "text/plain": [
       "- : float = 2.00000000000000044\n"
      ]
     },
     "execution_count": 23,
     "metadata": {},
     "output_type": "execute_result"
    }
   ],
   "source": [
    "(2.**0.5)**2.0  (* ne donne pas 2.0 à cause des erreurs d'arrondis *)"
   ]
  },
  {
   "cell_type": "markdown",
   "id": "ebe669d3",
   "metadata": {},
   "source": [
    "Le calcul de $\\sqrt 2$ par OCaml s'arrête à la 16ème décimale (ce qui correspond à 52 bits après la virgules, puisque $2^{-52}$ est du même ordre de grandeur que $10^{-16}$). Ce nombre $2^{-52}$ est appelé **epsilon machine**."
   ]
  },
  {
   "cell_type": "markdown",
   "id": "3f262a3d",
   "metadata": {},
   "source": [
    "Autre exemple :"
   ]
  },
  {
   "cell_type": "code",
   "execution_count": 24,
   "id": "e76ede5e",
   "metadata": {
    "execution": {
     "iopub.execute_input": "2021-09-08T13:57:51.033919Z",
     "iopub.status.busy": "2021-09-08T13:57:51.033434Z",
     "iopub.status.idle": "2021-09-08T13:57:51.035105Z",
     "shell.execute_reply": "2021-09-08T13:57:51.035595Z"
    }
   },
   "outputs": [
    {
     "data": {
      "text/plain": [
       "- : float = 0.300000000000000044\n"
      ]
     },
     "execution_count": 24,
     "metadata": {},
     "output_type": "execute_result"
    }
   ],
   "source": [
    "0.1 +. 0.2  (* ne donne pas 0.3 *)"
   ]
  },
  {
   "cell_type": "markdown",
   "id": "a0d05f1e",
   "metadata": {},
   "source": [
    "`O.1` n'étant pas représentable de façon exacte en base 2, il est tronqué et engendre des erreurs d'arrondis."
   ]
  },
  {
   "cell_type": "markdown",
   "id": "e7003cf5",
   "metadata": {},
   "source": [
    "La plus grande valeur de l'exposant est 1023 :"
   ]
  },
  {
   "cell_type": "code",
   "execution_count": 25,
   "id": "307e41ff",
   "metadata": {
    "execution": {
     "iopub.execute_input": "2021-09-08T13:57:51.040707Z",
     "iopub.status.busy": "2021-09-08T13:57:51.040140Z",
     "iopub.status.idle": "2021-09-08T13:57:51.042339Z",
     "shell.execute_reply": "2021-09-08T13:57:51.041895Z"
    }
   },
   "outputs": [
    {
     "data": {
      "text/plain": [
       "- : float = 8.98846567431158e+307\n"
      ]
     },
     "execution_count": 25,
     "metadata": {},
     "output_type": "execute_result"
    }
   ],
   "source": [
    "2.**1023."
   ]
  },
  {
   "cell_type": "code",
   "execution_count": 26,
   "id": "ee31c36d",
   "metadata": {
    "execution": {
     "iopub.execute_input": "2021-09-08T13:57:51.044003Z",
     "iopub.status.busy": "2021-09-08T13:57:51.043456Z",
     "iopub.status.idle": "2021-09-08T13:57:51.045284Z",
     "shell.execute_reply": "2021-09-08T13:57:51.045682Z"
    }
   },
   "outputs": [
    {
     "data": {
      "text/plain": [
       "- : float = infinity\n"
      ]
     },
     "execution_count": 26,
     "metadata": {},
     "output_type": "execute_result"
    }
   ],
   "source": [
    "2.**1024."
   ]
  },
  {
   "cell_type": "markdown",
   "id": "dd2b6558",
   "metadata": {
    "tags": []
   },
   "source": [
    "# Unit\n",
    "\n",
    "Il existe une valeur spéciale `()` qui signifie \"rien\" (un peu comme le None de Python). Le type de `()` est `unit`. Par exemple, afficher un entier avec `print_int` fait un effet de bord (affichage sur l'écran) mais ne renvoie pas de valeur :"
   ]
  },
  {
   "cell_type": "code",
   "execution_count": 27,
   "id": "a36f0f70",
   "metadata": {
    "execution": {
     "iopub.execute_input": "2021-09-08T13:57:51.047331Z",
     "iopub.status.busy": "2021-09-08T13:57:51.046849Z",
     "iopub.status.idle": "2021-09-08T13:57:51.048545Z",
     "shell.execute_reply": "2021-09-08T13:57:51.049002Z"
    }
   },
   "outputs": [
    {
     "data": {
      "text/plain": [
       "- : unit = ()\n"
      ]
     },
     "execution_count": 27,
     "metadata": {},
     "output_type": "execute_result"
    }
   ],
   "source": [
    "print_int 42"
   ]
  },
  {
   "cell_type": "markdown",
   "id": "a9ce126e",
   "metadata": {},
   "source": [
    "Pour que le résultat s'affiche, il faut revenir à la ligne avec `print_newline` :"
   ]
  },
  {
   "cell_type": "code",
   "execution_count": 28,
   "id": "0da07d6f",
   "metadata": {
    "execution": {
     "iopub.execute_input": "2021-09-08T13:57:51.051573Z",
     "iopub.status.busy": "2021-09-08T13:57:51.051021Z",
     "iopub.status.idle": "2021-09-08T13:57:51.053298Z",
     "shell.execute_reply": "2021-09-08T13:57:51.052853Z"
    }
   },
   "outputs": [
    {
     "data": {
      "text/plain": [
       "- : unit = ()\n"
      ]
     },
     "execution_count": 28,
     "metadata": {},
     "output_type": "execute_result"
    }
   ],
   "source": [
    "print_newline ()"
   ]
  },
  {
   "cell_type": "markdown",
   "id": "c5a7f626",
   "metadata": {},
   "source": [
    "On verra dans un prochain cours le fonctionnement plus détaillé de `print_newline`."
   ]
  },
  {
   "cell_type": "markdown",
   "id": "657b5708",
   "metadata": {},
   "source": [
    "Il aurait été possible de combiner ces deux instructions avec `;`, qui permet d'exécuter consécutivement plusieurs instructions :"
   ]
  },
  {
   "cell_type": "code",
   "execution_count": 29,
   "id": "6665d882",
   "metadata": {
    "execution": {
     "iopub.execute_input": "2021-09-08T13:57:51.055454Z",
     "iopub.status.busy": "2021-09-08T13:57:51.054923Z",
     "iopub.status.idle": "2021-09-08T13:57:51.056717Z",
     "shell.execute_reply": "2021-09-08T13:57:51.057133Z"
    }
   },
   "outputs": [
    {
     "data": {
      "text/plain": [
       "- : unit = ()\n"
      ]
     },
     "execution_count": 29,
     "metadata": {},
     "output_type": "execute_result"
    }
   ],
   "source": [
    "print_int 31;\n",
    "print_newline ()"
   ]
  },
  {
   "cell_type": "markdown",
   "id": "fb3d24fd",
   "metadata": {},
   "source": [
    "`;;` est similaire à `;`, mais permet de séparer complètement plusieurs instructions, ce qui signifie que les variables définies avec `in` ne sont plus accessibles :"
   ]
  },
  {
   "cell_type": "code",
   "execution_count": 30,
   "id": "dc70b378",
   "metadata": {
    "execution": {
     "iopub.execute_input": "2021-09-08T13:57:51.059113Z",
     "iopub.status.busy": "2021-09-08T13:57:51.058605Z",
     "iopub.status.idle": "2021-09-08T13:57:51.060920Z",
     "shell.execute_reply": "2021-09-08T13:57:51.060398Z"
    }
   },
   "outputs": [
    {
     "data": {
      "text/plain": [
       "- : int = 3\n"
      ]
     },
     "execution_count": 30,
     "metadata": {},
     "output_type": "execute_result"
    }
   ],
   "source": [
    "let a = 3 in\n",
    "print_int a;\n",
    "a (* a reste accessible : il est toujours dans le in *)"
   ]
  },
  {
   "cell_type": "code",
   "execution_count": 31,
   "id": "0166a2bd",
   "metadata": {
    "execution": {
     "iopub.execute_input": "2021-09-08T13:57:51.062611Z",
     "iopub.status.busy": "2021-09-08T13:57:51.062107Z",
     "iopub.status.idle": "2021-09-08T13:57:51.064455Z",
     "shell.execute_reply": "2021-09-08T13:57:51.064851Z"
    }
   },
   "outputs": [
    {
     "data": {
      "text/plain": [
       "- : unit = ()\n"
      ]
     },
     "execution_count": 31,
     "metadata": {},
     "output_type": "execute_result"
    }
   ],
   "source": [
    "let a = 3 in\n",
    "print_int a;;\n",
    "a;; (* a n'est pas accessible ici *)"
   ]
  },
  {
   "cell_type": "markdown",
   "id": "99f93ff8",
   "metadata": {
    "tags": []
   },
   "source": [
    "# Présentation du code\n",
    "\n",
    "Contrairement à Python, l'indentation du code n'a pas d'importance en OCaml. En effet les espaces et sauts de lignes sont ignorés :"
   ]
  },
  {
   "cell_type": "code",
   "execution_count": 32,
   "id": "cbde07d9",
   "metadata": {
    "execution": {
     "iopub.execute_input": "2021-09-08T13:57:51.066734Z",
     "iopub.status.busy": "2021-09-08T13:57:51.066247Z",
     "iopub.status.idle": "2021-09-08T13:57:51.068298Z",
     "shell.execute_reply": "2021-09-08T13:57:51.067876Z"
    }
   },
   "outputs": [
    {
     "data": {
      "text/plain": [
       "val a : int = 6\n"
      ]
     },
     "execution_count": 32,
     "metadata": {},
     "output_type": "execute_result"
    }
   ],
   "source": [
    "let a \n",
    "  = \n",
    "      6 (* indentation n'importe comment *)"
   ]
  },
  {
   "cell_type": "markdown",
   "id": "a1fbad97",
   "metadata": {},
   "source": [
    "On veillera toutefois à écrire du code aussi clair et lisible que possible."
   ]
  },
  {
   "cell_type": "markdown",
   "id": "dea2c6a2",
   "metadata": {},
   "source": [
    "# Réferences\n",
    "\n",
    "Contrairement à ce que son nom l'indique, une variable définie comme on l'a fait jusqu'à maintenant est en fait... **constante** :"
   ]
  },
  {
   "cell_type": "code",
   "execution_count": 33,
   "id": "b2054561",
   "metadata": {
    "execution": {
     "iopub.execute_input": "2021-09-08T13:57:51.069954Z",
     "iopub.status.busy": "2021-09-08T13:57:51.069463Z",
     "iopub.status.idle": "2021-09-08T13:57:51.073878Z",
     "shell.execute_reply": "2021-09-08T13:57:51.074275Z"
    }
   },
   "outputs": [
    {
     "data": {
      "text/plain": [
       "val x : int = 3\n"
      ]
     },
     "execution_count": 33,
     "metadata": {},
     "output_type": "execute_result"
    }
   ],
   "source": [
    "let x = 3;;\n",
    "x = 4;; (* ceci ne MODIFIE pas x, mais teste si la valeur de x est 4 *)\n",
    "x;; (* x vaut toujours 3 : il ne peut pas être modifié *)"
   ]
  },
  {
   "cell_type": "markdown",
   "id": "bc83bd2e",
   "metadata": {},
   "source": [
    "Pour pouvoir modifier une variable, on peut utiliser une **référence**.\n",
    "Pour définir une référence on utilise `ref` :\n",
    "```ocaml\n",
    "let variable = ref valeur (* définition d'une référence *)\n",
    "```\n",
    "Pour modifier une référence on utilise `:=` :\n",
    "```ocaml\n",
    "variable := valeur (* modification d'une référence *)\n",
    "```\n",
    "Pour obtenir la valeur d'une référence on utilise `!` :\n",
    "```ocaml\n",
    "!variable (* donne la valeur d'une référence *)\n",
    "```"
   ]
  },
  {
   "cell_type": "code",
   "execution_count": 34,
   "id": "d4bde09e",
   "metadata": {
    "execution": {
     "iopub.execute_input": "2021-09-08T13:57:51.076649Z",
     "iopub.status.busy": "2021-09-08T13:57:51.076170Z",
     "iopub.status.idle": "2021-09-08T13:57:51.079638Z",
     "shell.execute_reply": "2021-09-08T13:57:51.079201Z"
    },
    "tags": []
   },
   "outputs": [
    {
     "data": {
      "text/plain": [
       "val x : int ref = {contents = 3}\n"
      ]
     },
     "execution_count": 34,
     "metadata": {},
     "output_type": "execute_result"
    },
    {
     "data": {
      "text/plain": [
       "- : unit = ()\n"
      ]
     },
     "execution_count": 34,
     "metadata": {},
     "output_type": "execute_result"
    },
    {
     "data": {
      "text/plain": [
       "- : int = 4\n"
      ]
     },
     "execution_count": 34,
     "metadata": {},
     "output_type": "execute_result"
    }
   ],
   "source": [
    "let x = ref 3;; (* définie une variable x qui \"pointe\" vers un emplacement mémoire contenant 3 *)\n",
    "x := 4;; (* modifie la valeur pointé par x avec := *)\n",
    "!x;; (* la valeur a bien été modifiée *)"
   ]
  },
  {
   "cell_type": "markdown",
   "id": "169a075f",
   "metadata": {},
   "source": [
    "On remarque que l'instruction `x := 4` a pour valeur de retour `()` : c'est un effet de bord qui modifie `x` mais ne renvoie pas de résultat."
   ]
  },
  {
   "cell_type": "markdown",
   "id": "593e5f9e",
   "metadata": {},
   "source": [
    "**Exercice** : Que valent `!x` et `!y` après avoir exécuté le bout de code suivant? À quoi sert ce code?\n",
    "```ocaml\n",
    "let x = ref 5;;\n",
    "let y = ref 27;;\n",
    "x := !x + !y;\n",
    "y := !x - !y;\n",
    "x := !x - !y\n",
    "```"
   ]
  },
  {
   "cell_type": "code",
   "execution_count": 35,
   "id": "fc8a2bcb",
   "metadata": {
    "execution": {
     "iopub.execute_input": "2021-09-08T13:57:51.081518Z",
     "iopub.status.busy": "2021-09-08T13:57:51.081036Z",
     "iopub.status.idle": "2021-09-08T13:57:51.087349Z",
     "shell.execute_reply": "2021-09-08T13:57:51.086900Z"
    },
    "tags": [
     "cor"
    ]
   },
   "outputs": [
    {
     "data": {
      "text/plain": [
       "- : int * int = (27, 5)\n"
      ]
     },
     "execution_count": 35,
     "metadata": {},
     "output_type": "execute_result"
    }
   ],
   "source": [
    "let x = ref 5 in\n",
    "let y = ref 27 in\n",
    "x := !x + !y;\n",
    "y := !x - !y;\n",
    "x := !x - !y;\n",
    "!x, !y;; (* x vaut 27, y vaut 5 : ce bout de code échange les valeurs de x et y *)"
   ]
  },
  {
   "cell_type": "markdown",
   "id": "caf92546",
   "metadata": {},
   "source": [
    "**Remarque** : utiliser des `ref` rend souvent le code plus compliqué, on n'en utilisera que lorsque c'est nécessaire."
   ]
  }
 ],
 "metadata": {
  "kernelspec": {
   "display_name": "OCaml default",
   "language": "OCaml",
   "name": "ocaml-jupyter"
  },
  "language_info": {
   "codemirror_mode": "text/x-ocaml",
   "file_extension": ".ml",
   "mimetype": "text/x-ocaml",
   "name": "OCaml",
   "nbconverter_exporter": null,
   "pygments_lexer": "OCaml",
   "version": "4.08.1"
  },
  "title": "Variables"
 },
 "nbformat": 4,
 "nbformat_minor": 5
}

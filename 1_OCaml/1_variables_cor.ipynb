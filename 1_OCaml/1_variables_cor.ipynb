{
 "cells": [
  {
   "cell_type": "markdown",
   "id": "84039bac",
   "metadata": {},
   "source": [
    "# Définition d'une variable\n",
    "\n",
    "Une variable possède 3 propriétés:\n",
    "- un nom (exemple : `x`)\n",
    "- une valeur (exemple : 42)\n",
    "- un type (exemple : entier)\n",
    "\n",
    "En OCaml, on définit une variable de la façon suivante :\n",
    "```ocaml\n",
    "let variable = valeur\n",
    "```\n",
    "\n",
    "Par exemple, pour définir une variable `x` valant 42 :"
   ]
  },
  {
   "cell_type": "code",
   "execution_count": 1,
   "id": "523f48ef",
   "metadata": {
    "execution": {
     "iopub.execute_input": "2021-08-10T13:28:52.692211Z",
     "iopub.status.busy": "2021-08-10T13:28:52.690608Z",
     "iopub.status.idle": "2021-08-10T13:28:52.697713Z",
     "shell.execute_reply": "2021-08-10T13:28:52.696269Z"
    }
   },
   "outputs": [
    {
     "data": {
      "text/plain": [
       "val x : int = 42\n"
      ]
     },
     "execution_count": 1,
     "metadata": {},
     "output_type": "execute_result"
    }
   ],
   "source": [
    "let x = 42"
   ]
  },
  {
   "cell_type": "markdown",
   "id": "6a148317",
   "metadata": {},
   "source": [
    "OCaml nous répond que `x` a pour valeur 42 et est de type `int` (*integer*, c'est à dire entier).\n",
    "La variable `x` est ici définie globalement, c'est à dire accessible partout dans ce notebook.\n",
    "\n",
    "On peut alors faire des calculs avec la valeur de `x` :"
   ]
  },
  {
   "cell_type": "code",
   "execution_count": 2,
   "id": "50abac9e",
   "metadata": {
    "execution": {
     "iopub.execute_input": "2021-08-10T13:28:52.704198Z",
     "iopub.status.busy": "2021-08-10T13:28:52.702695Z",
     "iopub.status.idle": "2021-08-10T13:28:52.710165Z",
     "shell.execute_reply": "2021-08-10T13:28:52.708850Z"
    }
   },
   "outputs": [
    {
     "data": {
      "text/plain": [
       "- : int = 124\n"
      ]
     },
     "execution_count": 2,
     "metadata": {},
     "output_type": "execute_result"
    }
   ],
   "source": [
    "3*x - 2 (* OCaml remplace x par 42 et fait le calcul *)"
   ]
  },
  {
   "cell_type": "markdown",
   "id": "d974eedf",
   "metadata": {},
   "source": [
    "Il est possible d'avoir une expression (un calcul) à droite d'une définition :"
   ]
  },
  {
   "cell_type": "code",
   "execution_count": 3,
   "id": "e27944ae",
   "metadata": {
    "execution": {
     "iopub.execute_input": "2021-08-10T13:28:52.716211Z",
     "iopub.status.busy": "2021-08-10T13:28:52.714036Z",
     "iopub.status.idle": "2021-08-10T13:28:52.721424Z",
     "shell.execute_reply": "2021-08-10T13:28:52.720557Z"
    }
   },
   "outputs": [
    {
     "data": {
      "text/plain": [
       "val a : int = 10\n"
      ]
     },
     "execution_count": 3,
     "metadata": {},
     "output_type": "execute_result"
    }
   ],
   "source": [
    "let a = 1 + 2 + 3 + 4 (* la valeur à droite de = est calculée puis mise dans a *)"
   ]
  },
  {
   "cell_type": "markdown",
   "id": "4a005abd",
   "metadata": {},
   "source": [
    "# Variable locale\n",
    "\n",
    "Il est possible de définir une variable locale en utilisant la forme `let y = in ...`  \n",
    "`y` est alors seulement accessible dans `...`"
   ]
  },
  {
   "cell_type": "code",
   "execution_count": 4,
   "id": "1654111c",
   "metadata": {
    "execution": {
     "iopub.execute_input": "2021-08-10T13:28:52.725610Z",
     "iopub.status.busy": "2021-08-10T13:28:52.724608Z",
     "iopub.status.idle": "2021-08-10T13:28:52.728822Z",
     "shell.execute_reply": "2021-08-10T13:28:52.728006Z"
    }
   },
   "outputs": [
    {
     "data": {
      "text/plain": [
       "- : int = -1\n"
      ]
     },
     "execution_count": 4,
     "metadata": {},
     "output_type": "execute_result"
    }
   ],
   "source": [
    "let y = -1 in y (* y est accessible dans le in *)"
   ]
  },
  {
   "cell_type": "code",
   "execution_count": 5,
   "id": "96d6f5cd",
   "metadata": {
    "execution": {
     "iopub.execute_input": "2021-08-10T13:28:52.731428Z",
     "iopub.status.busy": "2021-08-10T13:28:52.730706Z",
     "iopub.status.idle": "2021-08-10T13:28:52.733822Z",
     "shell.execute_reply": "2021-08-10T13:28:52.733154Z"
    },
    "tags": []
   },
   "outputs": [
    {
     "ename": "error",
     "evalue": "compile_error",
     "output_type": "error",
     "traceback": [
      "File \"[5]\", line 1, characters 0-1:\n1 | y (* utiliser y ici donne une erreur  *)\n    ^\nError: Unbound value y\n"
     ]
    }
   ],
   "source": [
    "y (* utiliser y ici donne une erreur  *)"
   ]
  },
  {
   "cell_type": "markdown",
   "id": "8c1c3de2",
   "metadata": {},
   "source": [
    "# Variables numériques\n",
    "\n",
    "Nous avons déjà vu l'addition et la soustraction de 2 entiers. Il est aussi possible de multiplier :"
   ]
  },
  {
   "cell_type": "code",
   "execution_count": 6,
   "id": "87d60ba6",
   "metadata": {
    "execution": {
     "iopub.execute_input": "2021-08-10T13:28:52.736241Z",
     "iopub.status.busy": "2021-08-10T13:28:52.735606Z",
     "iopub.status.idle": "2021-08-10T13:28:52.737702Z",
     "shell.execute_reply": "2021-08-10T13:28:52.738203Z"
    }
   },
   "outputs": [
    {
     "data": {
      "text/plain": [
       "- : int = 42\n"
      ]
     },
     "execution_count": 6,
     "metadata": {},
     "output_type": "execute_result"
    }
   ],
   "source": [
    "3 * 14"
   ]
  },
  {
   "cell_type": "markdown",
   "id": "15758516",
   "metadata": {},
   "source": [
    "On peut effectuer la division **entière** de 2 entiers :"
   ]
  },
  {
   "cell_type": "code",
   "execution_count": 7,
   "id": "ce8045bf",
   "metadata": {
    "execution": {
     "iopub.execute_input": "2021-08-10T13:28:52.740226Z",
     "iopub.status.busy": "2021-08-10T13:28:52.739672Z",
     "iopub.status.idle": "2021-08-10T13:28:52.741456Z",
     "shell.execute_reply": "2021-08-10T13:28:52.741795Z"
    }
   },
   "outputs": [
    {
     "data": {
      "text/plain": [
       "- : int = 1\n"
      ]
     },
     "execution_count": 7,
     "metadata": {},
     "output_type": "execute_result"
    }
   ],
   "source": [
    "3 / 2 (* division entière *)"
   ]
  },
  {
   "cell_type": "markdown",
   "id": "a58a7552",
   "metadata": {},
   "source": [
    "La division entière de $x$ par $y$ est, par définition, la partie entière de $\\frac{x}{y}$.  \n",
    "Dans l'exemple ci-dessus, `3 / 2` est donc la partie entière de $\\frac{3}{2} = 1.5$, c'est à dire $1$. "
   ]
  },
  {
   "cell_type": "markdown",
   "id": "2629eb71",
   "metadata": {},
   "source": [
    "En plus des entiers (`int`), OCaml permet de définir des nombres à virgules (`float`, pour flottant) :"
   ]
  },
  {
   "cell_type": "code",
   "execution_count": 8,
   "id": "0edefa75",
   "metadata": {
    "execution": {
     "iopub.execute_input": "2021-08-10T13:28:52.743541Z",
     "iopub.status.busy": "2021-08-10T13:28:52.743106Z",
     "iopub.status.idle": "2021-08-10T13:28:52.744599Z",
     "shell.execute_reply": "2021-08-10T13:28:52.744915Z"
    }
   },
   "outputs": [
    {
     "data": {
      "text/plain": [
       "val pi : float = 3.141592\n"
      ]
     },
     "execution_count": 8,
     "metadata": {},
     "output_type": "execute_result"
    }
   ],
   "source": [
    "let pi = 3.141592"
   ]
  },
  {
   "cell_type": "markdown",
   "id": "91ccc87f",
   "metadata": {},
   "source": [
    "Les opérateurs d'addition, soustraction, multiplication, division doivent s'utiliser avec un `.` (point). Par exemple :"
   ]
  },
  {
   "cell_type": "code",
   "execution_count": 9,
   "id": "a4a3d015",
   "metadata": {
    "execution": {
     "iopub.execute_input": "2021-08-10T13:28:52.746408Z",
     "iopub.status.busy": "2021-08-10T13:28:52.746024Z",
     "iopub.status.idle": "2021-08-10T13:28:52.747537Z",
     "shell.execute_reply": "2021-08-10T13:28:52.747853Z"
    }
   },
   "outputs": [
    {
     "data": {
      "text/plain": [
       "- : float = 5.759592\n"
      ]
     },
     "execution_count": 9,
     "metadata": {},
     "output_type": "execute_result"
    }
   ],
   "source": [
    "pi +. 2.618 (* noter le . après + *)"
   ]
  },
  {
   "cell_type": "markdown",
   "id": "f515bb2e",
   "metadata": {},
   "source": [
    "Attention : c'est le point (.) et non pas la virgule qui est utilisé pour les flottants.\n",
    "\n",
    "\n"
   ]
  },
  {
   "cell_type": "markdown",
   "id": "0f6be1a5",
   "metadata": {},
   "source": [
    "Il est possible de calculer $x^y$, où $x$ et $y$ sont des **flottants** avec `**` :"
   ]
  },
  {
   "cell_type": "code",
   "execution_count": 10,
   "id": "6971d9a5",
   "metadata": {
    "execution": {
     "iopub.execute_input": "2021-08-10T13:28:52.749650Z",
     "iopub.status.busy": "2021-08-10T13:28:52.749157Z",
     "iopub.status.idle": "2021-08-10T13:28:52.751853Z",
     "shell.execute_reply": "2021-08-10T13:28:52.751534Z"
    }
   },
   "outputs": [
    {
     "data": {
      "text/plain": [
       "- : float = 23.0963461891915607\n"
      ]
     },
     "execution_count": 10,
     "metadata": {},
     "output_type": "execute_result"
    }
   ],
   "source": [
    "2.718 ** 3.14 (* x puissance y *)"
   ]
  },
  {
   "cell_type": "markdown",
   "id": "0e0f9fcc",
   "metadata": {},
   "source": [
    "Il n'est pas possible d'utiliser `**` sur des `int`. Par contre on peut utiliser 4.0 ou 4. au lieu de 4 pour avoir des flottants et utiliser `**` : "
   ]
  },
  {
   "cell_type": "code",
   "execution_count": 11,
   "id": "ed9b1f29",
   "metadata": {
    "execution": {
     "iopub.execute_input": "2021-08-10T13:28:52.753501Z",
     "iopub.status.busy": "2021-08-10T13:28:52.752949Z",
     "iopub.status.idle": "2021-08-10T13:28:52.755580Z",
     "shell.execute_reply": "2021-08-10T13:28:52.755273Z"
    }
   },
   "outputs": [
    {
     "data": {
      "text/plain": [
       "- : float = 1024.\n"
      ]
     },
     "execution_count": 11,
     "metadata": {},
     "output_type": "execute_result"
    }
   ],
   "source": [
    "2. ** 10."
   ]
  },
  {
   "cell_type": "markdown",
   "id": "88c0b254",
   "metadata": {},
   "source": [
    "**Exercice 1**\n",
    "1. Stocker la valeur $42^2$ dans une variable $a$, en utilisant `*`.\n",
    "2. En déduire la valeur de $42^4$.\n",
    "3. Calculer la valeur de $2^{10}$ en utilisant le moins de multiplications possibles."
   ]
  },
  {
   "cell_type": "code",
   "execution_count": 12,
   "id": "c91018af-06df-4bc2-8aa5-77960586b861",
   "metadata": {
    "execution": {
     "iopub.execute_input": "2021-08-10T13:28:52.756924Z",
     "iopub.status.busy": "2021-08-10T13:28:52.756598Z",
     "iopub.status.idle": "2021-08-10T13:28:52.759686Z",
     "shell.execute_reply": "2021-08-10T13:28:52.759380Z"
    },
    "tags": [
     "cor"
    ]
   },
   "outputs": [
    {
     "data": {
      "text/plain": [
       "val a : int = 1764\n"
      ]
     },
     "execution_count": 12,
     "metadata": {},
     "output_type": "execute_result"
    },
    {
     "data": {
      "text/plain": [
       "- : int = 3111696\n"
      ]
     },
     "execution_count": 12,
     "metadata": {},
     "output_type": "execute_result"
    },
    {
     "data": {
      "text/plain": [
       "- : int = 1024\n"
      ]
     },
     "execution_count": 12,
     "metadata": {},
     "output_type": "execute_result"
    }
   ],
   "source": [
    "(* 1. *) \n",
    "let a = 42*42;;\n",
    "\n",
    "\n",
    "(* 2. *)\n",
    "a*a;;\n",
    "\n",
    "(* 3. *)\n",
    "let deux_puiss_2 = 2*2 in\n",
    "let deux_puiss_4 = deux_puiss_2*deux_puiss_2 in\n",
    "let deux_puiss_8 = deux_puiss_4*deux_puiss_4 in\n",
    "deux_puiss_8 * deux_puiss_2;; (* calcul de 2 puissance 10 en 4 multiplications *)"
   ]
  },
  {
   "cell_type": "markdown",
   "id": "e3026055",
   "metadata": {},
   "source": [
    "**Exercice 2**\n",
    "\n",
    "1. Stocker dans 3 variables $a$, $b$, $c$ les valeurs 2, 5 et 3. On pourra utiliser let a, b, c = ..., ..., ... pour définir 3 variable simultanément. \n",
    "2. Stocker dans une variable $delta$ le discriminant de l'équation $ax^2 + bx + c = 0$.\n",
    "3. Calculer toutes les solutions de l'équation précédente."
   ]
  },
  {
   "cell_type": "code",
   "execution_count": 13,
   "id": "5b247ecd-399c-4642-b1fe-33d918145f41",
   "metadata": {
    "execution": {
     "iopub.execute_input": "2021-08-10T13:28:52.761022Z",
     "iopub.status.busy": "2021-08-10T13:28:52.760696Z",
     "iopub.status.idle": "2021-08-10T13:28:52.766888Z",
     "shell.execute_reply": "2021-08-10T13:28:52.766478Z"
    },
    "tags": [
     "cor"
    ]
   },
   "outputs": [
    {
     "data": {
      "text/plain": [
       "val a : float = 2.\n",
       "val b : float = 6.\n",
       "val c : float = 3.\n"
      ]
     },
     "execution_count": 13,
     "metadata": {},
     "output_type": "execute_result"
    },
    {
     "data": {
      "text/plain": [
       "val delta : float = 12.\n"
      ]
     },
     "execution_count": 13,
     "metadata": {},
     "output_type": "execute_result"
    },
    {
     "data": {
      "text/plain": [
       "- : float = -2.36602540378443837\n"
      ]
     },
     "execution_count": 13,
     "metadata": {},
     "output_type": "execute_result"
    },
    {
     "data": {
      "text/plain": [
       "- : float = -0.633974596215561403\n"
      ]
     },
     "execution_count": 13,
     "metadata": {},
     "output_type": "execute_result"
    }
   ],
   "source": [
    "(* 1. *)\n",
    "let a, b, c = 2., 6., 3.;;\n",
    "\n",
    "(* 2. *)\n",
    "let delta = b**2. -. 4.*.a*.c;;\n",
    "\n",
    "(* 3. Le discriminant étant positif, il y a deux solutions égales à : *)\n",
    "(-.b -. sqrt delta)/.(2.*.a);;\n",
    "(-.b +. sqrt delta)/.(2.*.a);;"
   ]
  },
  {
   "cell_type": "markdown",
   "id": "9ad989bc",
   "metadata": {},
   "source": [
    "# Overflow\n",
    "\n",
    "L'ordinateur stocke "
   ]
  },
  {
   "cell_type": "code",
   "execution_count": 14,
   "id": "28534285",
   "metadata": {
    "execution": {
     "iopub.execute_input": "2021-08-10T13:28:52.768459Z",
     "iopub.status.busy": "2021-08-10T13:28:52.768133Z",
     "iopub.status.idle": "2021-08-10T13:28:52.769676Z",
     "shell.execute_reply": "2021-08-10T13:28:52.769401Z"
    }
   },
   "outputs": [
    {
     "data": {
      "text/plain": [
       "- : int = -4611686018427387904\n"
      ]
     },
     "execution_count": 14,
     "metadata": {},
     "output_type": "execute_result"
    }
   ],
   "source": [
    "max_int+1"
   ]
  },
  {
   "cell_type": "markdown",
   "id": "fd990a06",
   "metadata": {
    "tags": []
   },
   "source": [
    "# Unit\n",
    "\n",
    "Il existe une valeur spéciale `()` qui signifie \"rien\" (un peu comme le None de Python). Le type de `()` est `unit`. Par exemple, afficher un entier avec `print_int` fait un effet de bord (affichage sur l'écran) mais ne renvoie pas de valeur :"
   ]
  },
  {
   "cell_type": "code",
   "execution_count": 15,
   "id": "065f7a46-d0cf-432c-ad2f-4044f1aafe7e",
   "metadata": {
    "execution": {
     "iopub.execute_input": "2021-08-10T13:28:52.770982Z",
     "iopub.status.busy": "2021-08-10T13:28:52.770656Z",
     "iopub.status.idle": "2021-08-10T13:28:52.771802Z",
     "shell.execute_reply": "2021-08-10T13:28:52.772071Z"
    }
   },
   "outputs": [
    {
     "data": {
      "text/plain": [
       "- : unit = ()\n"
      ]
     },
     "execution_count": 15,
     "metadata": {},
     "output_type": "execute_result"
    }
   ],
   "source": [
    "print_int 42"
   ]
  },
  {
   "cell_type": "markdown",
   "id": "468a2284-5bfa-4b6d-9011-701392ad0012",
   "metadata": {},
   "source": [
    "Pour que le résultat s'affiche, il faut revenir à la ligne avec `print_newline` :"
   ]
  },
  {
   "cell_type": "code",
   "execution_count": 16,
   "id": "cbb2a1a4-802a-4416-be68-d66b1bb73cde",
   "metadata": {
    "execution": {
     "iopub.execute_input": "2021-08-10T13:28:52.773373Z",
     "iopub.status.busy": "2021-08-10T13:28:52.773050Z",
     "iopub.status.idle": "2021-08-10T13:28:52.774847Z",
     "shell.execute_reply": "2021-08-10T13:28:52.774566Z"
    }
   },
   "outputs": [
    {
     "name": "stdout",
     "output_type": "stream",
     "text": [
      "42\n"
     ]
    },
    {
     "data": {
      "text/plain": [
       "- : unit = ()\n"
      ]
     },
     "execution_count": 16,
     "metadata": {},
     "output_type": "execute_result"
    }
   ],
   "source": [
    "print_newline ()"
   ]
  },
  {
   "cell_type": "markdown",
   "id": "db927d3b-bd1f-4738-afe8-0e880c486d3f",
   "metadata": {},
   "source": [
    "On verra dans un prochain cours le fonctionnement plus détaillé de `print_newline`."
   ]
  },
  {
   "cell_type": "markdown",
   "id": "ad1b10a8-8bb9-45be-a171-4d872f1059c9",
   "metadata": {},
   "source": [
    "Il aurait été possible de combiner ces deux instructions avec `;`, qui permet d'exécuter consécutivement plusieurs instructions :"
   ]
  },
  {
   "cell_type": "code",
   "execution_count": 17,
   "id": "fbbe2b92-04bf-4c3c-86d0-1942363122db",
   "metadata": {
    "execution": {
     "iopub.execute_input": "2021-08-10T13:28:52.776191Z",
     "iopub.status.busy": "2021-08-10T13:28:52.775866Z",
     "iopub.status.idle": "2021-08-10T13:28:52.777769Z",
     "shell.execute_reply": "2021-08-10T13:28:52.777487Z"
    }
   },
   "outputs": [
    {
     "name": "stdout",
     "output_type": "stream",
     "text": [
      "31\n"
     ]
    },
    {
     "data": {
      "text/plain": [
       "- : unit = ()\n"
      ]
     },
     "execution_count": 17,
     "metadata": {},
     "output_type": "execute_result"
    }
   ],
   "source": [
    "print_int 31;\n",
    "print_newline ()"
   ]
  },
  {
   "cell_type": "markdown",
   "id": "e087eb2d-b8ce-4f10-9ba6-52ad16fa2fee",
   "metadata": {},
   "source": [
    "`;;` est similaire à `;`, mais permet de séparer complètement plusieurs instructions, ce qui signifie que les variables définies avec `in` ne sont plus accessibles :"
   ]
  },
  {
   "cell_type": "code",
   "execution_count": 18,
   "id": "1e6441a3-c4d3-46cf-90d9-d7b55cb4afac",
   "metadata": {
    "execution": {
     "iopub.execute_input": "2021-08-10T13:28:52.779070Z",
     "iopub.status.busy": "2021-08-10T13:28:52.778734Z",
     "iopub.status.idle": "2021-08-10T13:28:52.780381Z",
     "shell.execute_reply": "2021-08-10T13:28:52.780105Z"
    }
   },
   "outputs": [
    {
     "data": {
      "text/plain": [
       "- : int = 3\n"
      ]
     },
     "execution_count": 18,
     "metadata": {},
     "output_type": "execute_result"
    }
   ],
   "source": [
    "let a = 3 in\n",
    "print_int a;\n",
    "a (* a reste accessible : il est toujours dans le in *)"
   ]
  },
  {
   "cell_type": "code",
   "execution_count": 19,
   "id": "8aa79195-bc07-4f00-adc1-ec07f419fec9",
   "metadata": {
    "execution": {
     "iopub.execute_input": "2021-08-10T13:28:52.781664Z",
     "iopub.status.busy": "2021-08-10T13:28:52.781307Z",
     "iopub.status.idle": "2021-08-10T13:28:52.784736Z",
     "shell.execute_reply": "2021-08-10T13:28:52.784994Z"
    }
   },
   "outputs": [
    {
     "data": {
      "text/plain": [
       "- : unit = ()\n"
      ]
     },
     "execution_count": 19,
     "metadata": {},
     "output_type": "execute_result"
    }
   ],
   "source": [
    "let a = 3 in\n",
    "print_int a;;\n",
    "a;; (* a n'est pas accessible ici *)"
   ]
  },
  {
   "cell_type": "markdown",
   "id": "2ba40949",
   "metadata": {
    "tags": []
   },
   "source": [
    "# Présentation du code\n",
    "\n",
    "Contrairement à Python, l'indentation du code n'a pas d'importance en OCaml. En effet les espaces et sauts de lignes sont ignorés :"
   ]
  },
  {
   "cell_type": "code",
   "execution_count": 20,
   "id": "0301b9c7-8add-4140-824c-111d91bcd28c",
   "metadata": {
    "execution": {
     "iopub.execute_input": "2021-08-10T13:28:52.786315Z",
     "iopub.status.busy": "2021-08-10T13:28:52.785997Z",
     "iopub.status.idle": "2021-08-10T13:28:52.787397Z",
     "shell.execute_reply": "2021-08-10T13:28:52.787105Z"
    }
   },
   "outputs": [
    {
     "data": {
      "text/plain": [
       "val a : int = 6\n"
      ]
     },
     "execution_count": 20,
     "metadata": {},
     "output_type": "execute_result"
    }
   ],
   "source": [
    "let a \n",
    "  = \n",
    "      6 (* indentation n'importe comment *)"
   ]
  },
  {
   "cell_type": "markdown",
   "id": "0811f4f4-03db-4f38-aa07-3d20ae5cb28b",
   "metadata": {},
   "source": [
    "On veillera toutefois à écrire du code aussi clair et lisible que possible."
   ]
  },
  {
   "cell_type": "code",
   "execution_count": 21,
   "id": "995afaee-43da-4865-b3fe-cfe882bd36de",
   "metadata": {
    "execution": {
     "iopub.execute_input": "2021-08-10T13:28:52.788706Z",
     "iopub.status.busy": "2021-08-10T13:28:52.788381Z",
     "iopub.status.idle": "2021-08-10T13:28:52.789744Z",
     "shell.execute_reply": "2021-08-10T13:28:52.789474Z"
    }
   },
   "outputs": [
    {
     "data": {
      "text/plain": [
       "- : unit = ()\n"
      ]
     },
     "execution_count": 21,
     "metadata": {},
     "output_type": "execute_result"
    }
   ],
   "source": [
    "()"
   ]
  },
  {
   "cell_type": "markdown",
   "id": "b5be8d9d-e0ba-4b1e-bd33-fcd7644c5f3f",
   "metadata": {},
   "source": [
    "Par exemple, une instruction qui fait un effet de bord (un effet en dehors de l'instruction, par exemple afficher un résultat) sans calculer de résultat aura pour valeur `()`."
   ]
  },
  {
   "cell_type": "markdown",
   "id": "0f00a4cd-8749-449b-8e5a-c81f1f4e58b8",
   "metadata": {},
   "source": [
    "# Réference\n",
    "\n",
    "Contrairement à ce que son nom l'indique, une variable définie comme on l'a fait jusqu'à maintenant est en fait... **constante** :"
   ]
  },
  {
   "cell_type": "code",
   "execution_count": 22,
   "id": "106760d1-b767-40dd-8f35-f6a916097dfa",
   "metadata": {
    "execution": {
     "iopub.execute_input": "2021-08-10T13:28:52.791129Z",
     "iopub.status.busy": "2021-08-10T13:28:52.790754Z",
     "iopub.status.idle": "2021-08-10T13:28:52.793033Z",
     "shell.execute_reply": "2021-08-10T13:28:52.792749Z"
    }
   },
   "outputs": [
    {
     "data": {
      "text/plain": [
       "val x : int = 3\n"
      ]
     },
     "execution_count": 22,
     "metadata": {},
     "output_type": "execute_result"
    },
    {
     "data": {
      "text/plain": [
       "- : bool = false\n"
      ]
     },
     "execution_count": 22,
     "metadata": {},
     "output_type": "execute_result"
    },
    {
     "data": {
      "text/plain": [
       "- : int = 3\n"
      ]
     },
     "execution_count": 22,
     "metadata": {},
     "output_type": "execute_result"
    }
   ],
   "source": [
    "let x = 3;;\n",
    "x = 4;; (* ceci ne MODIFIE pas x, mais teste si la valeur de x est 4 *)\n",
    "x;; (* x vaut toujours 3 : il ne peut pas être modifié *)"
   ]
  },
  {
   "cell_type": "markdown",
   "id": "4a660d9e-e570-4a11-9dbe-4dc8849f9672",
   "metadata": {},
   "source": [
    "Pour pouvoir modifier une variable, on peut utiliser une **référence**.\n",
    "Pour définir une référence on utilise `ref` :\n",
    "```ocaml\n",
    "let variable = ref valeur (* définition d'une référence *)\n",
    "```\n",
    "Pour modifier une référence on utilise `:=` :\n",
    "```ocaml\n",
    "variable := valeur (* modification d'une référence *)\n",
    "```\n",
    "Pour obtenir la valeur d'une référence on utilise `!` :\n",
    "```ocaml\n",
    "!variable (* donne la valeur d'une référence *)\n",
    "```"
   ]
  },
  {
   "cell_type": "code",
   "execution_count": 23,
   "id": "0cfa6e42-1c18-4156-a5e0-34c3e4957dd3",
   "metadata": {
    "execution": {
     "iopub.execute_input": "2021-08-10T13:28:52.794345Z",
     "iopub.status.busy": "2021-08-10T13:28:52.794018Z",
     "iopub.status.idle": "2021-08-10T13:28:52.796480Z",
     "shell.execute_reply": "2021-08-10T13:28:52.796747Z"
    },
    "tags": []
   },
   "outputs": [
    {
     "data": {
      "text/plain": [
       "val x : int ref = {contents = 3}\n"
      ]
     },
     "execution_count": 23,
     "metadata": {},
     "output_type": "execute_result"
    },
    {
     "data": {
      "text/plain": [
       "- : unit = ()\n"
      ]
     },
     "execution_count": 23,
     "metadata": {},
     "output_type": "execute_result"
    },
    {
     "data": {
      "text/plain": [
       "- : int = 4\n"
      ]
     },
     "execution_count": 23,
     "metadata": {},
     "output_type": "execute_result"
    }
   ],
   "source": [
    "let x = ref 3;; (* définie une variable x qui \"pointe\" vers un emplacement mémoire contenant 3 *)\n",
    "x := 4;; (* modifie la valeur pointé par x avec := *)\n",
    "!x;; (* la valeur a bien été modifiée *)"
   ]
  },
  {
   "cell_type": "markdown",
   "id": "1e167ce0-cafa-49e9-8932-a069507d883b",
   "metadata": {},
   "source": [
    "On remarque que l'instruction `x := 4` a pour valeur de retour `()` : c'est un effet de bord qui modifie `x` mais ne renvoie pas de résultat."
   ]
  },
  {
   "cell_type": "markdown",
   "id": "eea3cb7b-a13d-4d69-84cf-94c97841ac6a",
   "metadata": {},
   "source": [
    "**Exercice** : Que valent `!x` et `!y` après avoir exécuté le bout de code suivant? À quoi sert ce code?\n",
    "```ocaml\n",
    "let x = ref 5;;\n",
    "let y = ref 27;;\n",
    "x := !x + !y;\n",
    "y := !x - !y;\n",
    "x := !x - !y\n",
    "```"
   ]
  },
  {
   "cell_type": "code",
   "execution_count": 24,
   "id": "bdaabd57-46c9-4332-b143-938ab957a183",
   "metadata": {
    "execution": {
     "iopub.execute_input": "2021-08-10T13:28:52.798096Z",
     "iopub.status.busy": "2021-08-10T13:28:52.797761Z",
     "iopub.status.idle": "2021-08-10T13:28:52.803237Z",
     "shell.execute_reply": "2021-08-10T13:28:52.802919Z"
    },
    "tags": [
     "cor"
    ]
   },
   "outputs": [
    {
     "data": {
      "text/plain": [
       "- : int * int = (27, 5)\n"
      ]
     },
     "execution_count": 24,
     "metadata": {},
     "output_type": "execute_result"
    }
   ],
   "source": [
    "let x = ref 5 in\n",
    "let y = ref 27 in\n",
    "x := !x + !y;\n",
    "y := !x - !y;\n",
    "x := !x - !y;\n",
    "!x, !y;; (* x vaut 27, y vaut 5 : ce bout de code échange les valeurs de x et y *)"
   ]
  },
  {
   "cell_type": "markdown",
   "id": "bfec9a5e-e339-4c98-b323-60f271686f12",
   "metadata": {},
   "source": [
    "**Remarque** : utiliser des `ref` rend souvent le code plus compliqué, on n'en utilisera que lorsque c'est nécessaire."
   ]
  },
  {
   "cell_type": "code",
   "execution_count": 25,
   "id": "c78af6d5",
   "metadata": {
    "execution": {
     "iopub.execute_input": "2021-08-10T13:28:52.804577Z",
     "iopub.status.busy": "2021-08-10T13:28:52.804252Z",
     "iopub.status.idle": "2021-08-10T13:28:52.805626Z",
     "shell.execute_reply": "2021-08-10T13:28:52.805356Z"
    }
   },
   "outputs": [
    {
     "data": {
      "text/plain": [
       "val a : int = 3\n"
      ]
     },
     "execution_count": 25,
     "metadata": {},
     "output_type": "execute_result"
    }
   ],
   "source": [
    "let a \n",
    "  =\n",
    "3"
   ]
  },
  {
   "cell_type": "markdown",
   "id": "ebc4e055",
   "metadata": {},
   "source": [
    " Il est cependant très important d'avoir un code lisible et aéré, et ce sera pris en compte dans la notation (même si ça n'apparaît pas toujours explicitement).\n"
   ]
  },
  {
   "cell_type": "markdown",
   "id": "f1f299d2",
   "metadata": {},
   "source": [
    "Pour séparer deux instructions consécutives (ce qui arrivera rarement, on aurait plus souvent des instructions imbriquées avec `in`), on utilisera `;`."
   ]
  }
 ],
 "metadata": {
  "kernelspec": {
   "display_name": "OCaml default",
   "language": "OCaml",
   "name": "ocaml-jupyter"
  },
  "language_info": {
   "codemirror_mode": "text/x-ocaml",
   "file_extension": ".ml",
   "mimetype": "text/x-ocaml",
   "name": "OCaml",
   "nbconverter_exporter": null,
   "pygments_lexer": "OCaml",
   "version": "4.12.0"
  }
 },
 "nbformat": 4,
 "nbformat_minor": 5
}

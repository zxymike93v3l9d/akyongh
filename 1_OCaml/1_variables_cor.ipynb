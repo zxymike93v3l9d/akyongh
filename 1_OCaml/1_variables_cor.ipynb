{
 "cells": [
  {
   "cell_type": "markdown",
   "id": "776f6cdc",
   "metadata": {},
   "source": [
    "# Variables"
   ]
  },
  {
   "cell_type": "markdown",
   "id": "9e1082fe",
   "metadata": {},
   "source": [
    "## Définition d'une variable\n",
    "\n",
    "Une variable possède 3 propriétés:  \n",
    "- un nom (exemple : `x`)  \n",
    "- une valeur (exemple : 42)  \n",
    "- un type (exemple : entier)\n",
    "\n",
    "En OCaml, on définit une variable de la façon suivante :\n",
    "```ocaml\n",
    "let variable = valeur\n",
    "```\n",
    "\n",
    "Par exemple, pour définir une variable `x` valant 42 :"
   ]
  },
  {
   "cell_type": "code",
   "execution_count": 1,
   "id": "83e8a6e2",
   "metadata": {
    "execution": {
     "iopub.execute_input": "2021-09-08T17:05:27.882340Z",
     "iopub.status.busy": "2021-09-08T17:05:27.881535Z",
     "iopub.status.idle": "2021-09-08T17:05:27.884204Z",
     "shell.execute_reply": "2021-09-08T17:05:27.882802Z"
    },
    "tags": []
   },
   "outputs": [
    {
     "data": {
      "text/plain": [
       "val x : int = 42\n"
      ]
     },
     "execution_count": 1,
     "metadata": {},
     "output_type": "execute_result"
    }
   ],
   "source": [
    "let x = 42"
   ]
  },
  {
   "cell_type": "markdown",
   "id": "b31b89c0",
   "metadata": {},
   "source": [
    "OCaml nous répond que `x` a pour valeur 42 et est de type `int` (*integer*, c'est à dire entier).\n",
    "La variable `x` est ici définie globalement, c'est à dire accessible partout dans ce notebook.\n",
    "\n",
    "On peut alors faire des calculs avec la valeur de `x` :"
   ]
  },
  {
   "cell_type": "code",
   "execution_count": 2,
   "id": "3743bfc3",
   "metadata": {
    "execution": {
     "iopub.execute_input": "2021-09-08T17:05:27.886492Z",
     "iopub.status.busy": "2021-09-08T17:05:27.886080Z",
     "iopub.status.idle": "2021-09-08T17:05:27.890357Z",
     "shell.execute_reply": "2021-09-08T17:05:27.890023Z"
    },
    "tags": []
   },
   "outputs": [
    {
     "data": {
      "text/plain": [
       "- : int = 124\n"
      ]
     },
     "execution_count": 2,
     "metadata": {},
     "output_type": "execute_result"
    }
   ],
   "source": [
    "3*x - 2 (* OCaml remplace x par 42 et fait le calcul *)"
   ]
  },
  {
   "cell_type": "markdown",
   "id": "74991187",
   "metadata": {},
   "source": [
    "Il est possible d'avoir une expression (un calcul) à droite d'une définition :"
   ]
  },
  {
   "cell_type": "code",
   "execution_count": 3,
   "id": "c127da73",
   "metadata": {
    "execution": {
     "iopub.execute_input": "2021-09-08T17:05:27.891940Z",
     "iopub.status.busy": "2021-09-08T17:05:27.891394Z",
     "iopub.status.idle": "2021-09-08T17:05:27.893972Z",
     "shell.execute_reply": "2021-09-08T17:05:27.893551Z"
    },
    "tags": []
   },
   "outputs": [
    {
     "data": {
      "text/plain": [
       "val a : int = 10\n"
      ]
     },
     "execution_count": 3,
     "metadata": {},
     "output_type": "execute_result"
    }
   ],
   "source": [
    "let a = 1 + 2 + 3 + 4 (* la valeur à droite de = est calculée puis mise dans a *)"
   ]
  },
  {
   "cell_type": "markdown",
   "id": "bbba5935",
   "metadata": {},
   "source": [
    "**Exercice** : définissez une variable $a$ égale à 752. Puis définissez une variable $b$ égale à $54a$.    \n",
    "Rappel : vous pouvez appuyer sur la touche B pour faire apparaître une case de code et répondre dedans. Ici vous pouvez utiliser deux cases, ou séparer les deux instructions avec ` ;;`."
   ]
  },
  {
   "cell_type": "code",
   "execution_count": 4,
   "id": "debb3e7e",
   "metadata": {
    "execution": {
     "iopub.execute_input": "2021-09-08T17:05:27.896659Z",
     "iopub.status.busy": "2021-09-08T17:05:27.894984Z",
     "iopub.status.idle": "2021-09-08T17:05:27.899093Z",
     "shell.execute_reply": "2021-09-08T17:05:27.897653Z"
    },
    "tags": [
     "cor"
    ]
   },
   "outputs": [
    {
     "data": {
      "text/plain": [
       "val a : int = 752\n"
      ]
     },
     "execution_count": 4,
     "metadata": {},
     "output_type": "execute_result"
    },
    {
     "data": {
      "text/plain": [
       "val b : int = 40608\n"
      ]
     },
     "execution_count": 4,
     "metadata": {},
     "output_type": "execute_result"
    },
    {
     "data": {
      "text/plain": [
       "- : int = 40608\n"
      ]
     },
     "execution_count": 4,
     "metadata": {},
     "output_type": "execute_result"
    }
   ],
   "source": [
    "let a = 752;;\n",
    "let b = 54*a;;\n",
    "b"
   ]
  },
  {
   "cell_type": "markdown",
   "id": "2b19cb8e",
   "metadata": {},
   "source": [
    "## Variables locales\n",
    "\n",
    "Il est possible de définir une variable locale en utilisant la forme `let y = ... in ...`  \n",
    "`y` est alors seulement après le in `...`"
   ]
  },
  {
   "cell_type": "code",
   "execution_count": 5,
   "id": "066a9cf3",
   "metadata": {
    "execution": {
     "iopub.execute_input": "2021-09-08T17:05:27.901096Z",
     "iopub.status.busy": "2021-09-08T17:05:27.900212Z",
     "iopub.status.idle": "2021-09-08T17:05:27.902452Z",
     "shell.execute_reply": "2021-09-08T17:05:27.902100Z"
    },
    "tags": []
   },
   "outputs": [
    {
     "data": {
      "text/plain": [
       "- : int = -1\n"
      ]
     },
     "execution_count": 5,
     "metadata": {},
     "output_type": "execute_result"
    }
   ],
   "source": [
    "let y = -1 in y (* y est accessible dans le in *)"
   ]
  },
  {
   "cell_type": "code",
   "execution_count": 6,
   "id": "c7d449d0",
   "metadata": {
    "execution": {
     "iopub.execute_input": "2021-09-08T17:05:27.904216Z",
     "iopub.status.busy": "2021-09-08T17:05:27.903413Z",
     "iopub.status.idle": "2021-09-08T17:05:27.905524Z",
     "shell.execute_reply": "2021-09-08T17:05:27.905172Z"
    },
    "tags": []
   },
   "outputs": [
    {
     "ename": "error",
     "evalue": "compile_error",
     "output_type": "error",
     "traceback": [
      "File \"[6]\", line 1, characters 0-1:\n1 | y (* utiliser y ici donne une erreur  *)\n    ^\nError: Unbound value y\n"
     ]
    }
   ],
   "source": [
    "y (* utiliser y ici donne une erreur  *)"
   ]
  },
  {
   "cell_type": "markdown",
   "id": "afcc3878",
   "metadata": {
    "tags": []
   },
   "source": [
    "**Exercice** : en utilisant `let ... in ... `, définissez une variable $a$ égale à $752$, puis définissez une variable $b$ égale à $54a$.    "
   ]
  },
  {
   "cell_type": "code",
   "execution_count": 7,
   "id": "2ef02848",
   "metadata": {
    "execution": {
     "iopub.execute_input": "2021-09-08T17:05:27.907980Z",
     "iopub.status.busy": "2021-09-08T17:05:27.906658Z",
     "iopub.status.idle": "2021-09-08T17:05:27.909303Z",
     "shell.execute_reply": "2021-09-08T17:05:27.908953Z"
    },
    "tags": [
     "cor"
    ]
   },
   "outputs": [
    {
     "data": {
      "text/plain": [
       "- : int = 40608\n"
      ]
     },
     "execution_count": 7,
     "metadata": {},
     "output_type": "execute_result"
    }
   ],
   "source": [
    "let a = 752 in\n",
    "let b = 54*a in\n",
    "b"
   ]
  },
  {
   "cell_type": "markdown",
   "id": "cffcda48",
   "metadata": {},
   "source": [
    "**Remarque** Il est possible d'utiliser des parenthèses ou `begin ... end` pour délimiter le in :\n",
    "```ocaml\n",
    "let a = 3 in\n",
    "(\n",
    "...\n",
    ")\n",
    "```"
   ]
  },
  {
   "cell_type": "markdown",
   "id": "5df89968",
   "metadata": {
    "tags": []
   },
   "source": [
    "\n",
    "## Opérations numériques\n",
    "\n",
    "Nous avons déjà vu l'addition et la soustraction de 2 entiers. Il est aussi possible de multiplier :"
   ]
  },
  {
   "cell_type": "code",
   "execution_count": 8,
   "id": "dfeba229",
   "metadata": {
    "execution": {
     "iopub.execute_input": "2021-09-08T17:05:27.911366Z",
     "iopub.status.busy": "2021-09-08T17:05:27.910424Z",
     "iopub.status.idle": "2021-09-08T17:05:27.912710Z",
     "shell.execute_reply": "2021-09-08T17:05:27.912362Z"
    }
   },
   "outputs": [
    {
     "data": {
      "text/plain": [
       "- : int = 42\n"
      ]
     },
     "execution_count": 8,
     "metadata": {},
     "output_type": "execute_result"
    }
   ],
   "source": [
    "3 * 14"
   ]
  },
  {
   "cell_type": "markdown",
   "id": "83867596",
   "metadata": {},
   "source": [
    "On peut effectuer la division **entière** (ou encore : [quotient de la division euclidienne](https://fr.wikipedia.org/wiki/Division_euclidienne)) de 2 entiers :"
   ]
  },
  {
   "cell_type": "code",
   "execution_count": 9,
   "id": "c90c9324",
   "metadata": {
    "execution": {
     "iopub.execute_input": "2021-09-08T17:05:27.914161Z",
     "iopub.status.busy": "2021-09-08T17:05:27.913754Z",
     "iopub.status.idle": "2021-09-08T17:05:27.915500Z",
     "shell.execute_reply": "2021-09-08T17:05:27.915828Z"
    }
   },
   "outputs": [
    {
     "data": {
      "text/plain": [
       "- : int = 1\n"
      ]
     },
     "execution_count": 9,
     "metadata": {},
     "output_type": "execute_result"
    }
   ],
   "source": [
    "3 / 2 (* division entière *)"
   ]
  },
  {
   "cell_type": "markdown",
   "id": "eafcae74",
   "metadata": {},
   "source": [
    "La division entière de $x$ par $y$ est, par définition, la partie entière de $\\frac{x}{y}$.  \n",
    "Dans l'exemple ci-dessus, `3 / 2` est donc la partie entière de $\\frac{3}{2} = 1.5$, c'est à dire $1$. \n",
    "\n",
    "**Attention** : la division entière ` 3 / 2`  en OCaml correspond à ` 3 // 2 ` en Python."
   ]
  },
  {
   "cell_type": "markdown",
   "id": "b7531308",
   "metadata": {},
   "source": [
    "En plus des entiers (`int`), OCaml permet de définir des nombres à virgules (`float`, pour flottant) :"
   ]
  },
  {
   "cell_type": "code",
   "execution_count": 10,
   "id": "81346831",
   "metadata": {
    "execution": {
     "iopub.execute_input": "2021-09-08T17:05:27.918452Z",
     "iopub.status.busy": "2021-09-08T17:05:27.916966Z",
     "iopub.status.idle": "2021-09-08T17:05:27.919936Z",
     "shell.execute_reply": "2021-09-08T17:05:27.919587Z"
    }
   },
   "outputs": [
    {
     "data": {
      "text/plain": [
       "val pi : float = 3.141592\n"
      ]
     },
     "execution_count": 10,
     "metadata": {},
     "output_type": "execute_result"
    }
   ],
   "source": [
    "let pi = 3.141592"
   ]
  },
  {
   "cell_type": "markdown",
   "id": "2bf9cd98",
   "metadata": {},
   "source": [
    "Les opérateurs d'addition, soustraction, multiplication, division doivent s'utiliser avec un `.` (point). Par exemple :"
   ]
  },
  {
   "cell_type": "code",
   "execution_count": 11,
   "id": "21ebd2b0",
   "metadata": {
    "execution": {
     "iopub.execute_input": "2021-09-08T17:05:27.921612Z",
     "iopub.status.busy": "2021-09-08T17:05:27.921042Z",
     "iopub.status.idle": "2021-09-08T17:05:27.922770Z",
     "shell.execute_reply": "2021-09-08T17:05:27.923090Z"
    }
   },
   "outputs": [
    {
     "data": {
      "text/plain": [
       "- : float = 5.759592\n"
      ]
     },
     "execution_count": 11,
     "metadata": {},
     "output_type": "execute_result"
    }
   ],
   "source": [
    "pi +. 2.618 (* noter le . après + *)"
   ]
  },
  {
   "cell_type": "markdown",
   "id": "2a8a2cab",
   "metadata": {},
   "source": [
    "**Attention** : c'est le point (.) et non pas la virgule qui est utilisé pour les flottants."
   ]
  },
  {
   "cell_type": "markdown",
   "id": "d6b35d4e",
   "metadata": {},
   "source": [
    "Il est possible de calculer $x^y$, où $x$ et $y$ sont des **flottants** avec `**` :"
   ]
  },
  {
   "cell_type": "code",
   "execution_count": 12,
   "id": "42ebb28d",
   "metadata": {
    "execution": {
     "iopub.execute_input": "2021-09-08T17:05:27.924628Z",
     "iopub.status.busy": "2021-09-08T17:05:27.924230Z",
     "iopub.status.idle": "2021-09-08T17:05:27.927576Z",
     "shell.execute_reply": "2021-09-08T17:05:27.928068Z"
    }
   },
   "outputs": [
    {
     "data": {
      "text/plain": [
       "- : float = 23.0963461891915607\n"
      ]
     },
     "execution_count": 12,
     "metadata": {},
     "output_type": "execute_result"
    }
   ],
   "source": [
    "2.718 ** 3.14 (* x puissance y *)"
   ]
  },
  {
   "cell_type": "markdown",
   "id": "e91e5f7b",
   "metadata": {},
   "source": [
    "Il n'est pas possible d'utiliser `**` sur des `int`. Par contre on peut utiliser 4.0 ou 4. au lieu de 4 pour avoir des flottants et utiliser `**` : "
   ]
  },
  {
   "cell_type": "code",
   "execution_count": 13,
   "id": "479ac46b",
   "metadata": {
    "execution": {
     "iopub.execute_input": "2021-09-08T17:05:27.929485Z",
     "iopub.status.busy": "2021-09-08T17:05:27.929087Z",
     "iopub.status.idle": "2021-09-08T17:05:27.930755Z",
     "shell.execute_reply": "2021-09-08T17:05:27.931077Z"
    }
   },
   "outputs": [
    {
     "data": {
      "text/plain": [
       "- : float = 1024.\n"
      ]
     },
     "execution_count": 13,
     "metadata": {},
     "output_type": "execute_result"
    }
   ],
   "source": [
    "2. ** 10."
   ]
  },
  {
   "cell_type": "markdown",
   "id": "9ef3d008",
   "metadata": {},
   "source": [
    "**Exercice**\n",
    "1. Stocker la valeur $42^2$ dans une variable $a$, en utilisant `*`.\n",
    "2. En déduire la valeur de $42^4$.\n",
    "3. Calculer la valeur de $2^{10}$ en utilisant le moins de multiplications possibles."
   ]
  },
  {
   "cell_type": "code",
   "execution_count": 14,
   "id": "edca83a8",
   "metadata": {
    "execution": {
     "iopub.execute_input": "2021-09-08T17:05:27.932603Z",
     "iopub.status.busy": "2021-09-08T17:05:27.932197Z",
     "iopub.status.idle": "2021-09-08T17:05:27.937295Z",
     "shell.execute_reply": "2021-09-08T17:05:27.936413Z"
    },
    "tags": [
     "cor"
    ]
   },
   "outputs": [
    {
     "data": {
      "text/plain": [
       "val a : int = 1764\n"
      ]
     },
     "execution_count": 14,
     "metadata": {},
     "output_type": "execute_result"
    },
    {
     "data": {
      "text/plain": [
       "- : int = 3111696\n"
      ]
     },
     "execution_count": 14,
     "metadata": {},
     "output_type": "execute_result"
    },
    {
     "data": {
      "text/plain": [
       "- : int = 1024\n"
      ]
     },
     "execution_count": 14,
     "metadata": {},
     "output_type": "execute_result"
    }
   ],
   "source": [
    "(* 1. *) \n",
    "let a = 42*42;;\n",
    "\n",
    "\n",
    "(* 2. *)\n",
    "a*a;;\n",
    "\n",
    "(* 3. *)\n",
    "let deux_puiss_2 = 2*2 in\n",
    "let deux_puiss_4 = deux_puiss_2*deux_puiss_2 in\n",
    "let deux_puiss_8 = deux_puiss_4*deux_puiss_4 in\n",
    "deux_puiss_8 * deux_puiss_2;; (* calcul de 2 puissance 10 en 4 multiplications *)"
   ]
  },
  {
   "cell_type": "markdown",
   "id": "7e22e588",
   "metadata": {},
   "source": [
    "**Exercice**\n",
    "\n",
    "1. Stocker dans 3 variables $a$, $b$, $c$ les valeurs 2, 5 et 3. On pourra utiliser let a, b, c = ..., ..., ... pour définir 3 variable simultanément. \n",
    "2. Stocker dans une variable $delta$ le discriminant de l'équation $ax^2 + bx + c = 0$.\n",
    "3. Calculer toutes les solutions de l'équation précédente."
   ]
  },
  {
   "cell_type": "code",
   "execution_count": 15,
   "id": "14d49f27",
   "metadata": {
    "execution": {
     "iopub.execute_input": "2021-09-08T17:05:27.938799Z",
     "iopub.status.busy": "2021-09-08T17:05:27.938399Z",
     "iopub.status.idle": "2021-09-08T17:05:27.942584Z",
     "shell.execute_reply": "2021-09-08T17:05:27.942252Z"
    },
    "tags": [
     "cor"
    ]
   },
   "outputs": [
    {
     "data": {
      "text/plain": [
       "val a : float = 2.\n",
       "val b : float = 6.\n",
       "val c : float = 3.\n"
      ]
     },
     "execution_count": 15,
     "metadata": {},
     "output_type": "execute_result"
    }
   ],
   "source": [
    "(* 1. *)\n",
    "let a, b, c = 2., 6., 3.;;"
   ]
  },
  {
   "cell_type": "code",
   "execution_count": 16,
   "id": "9105e30e",
   "metadata": {
    "execution": {
     "iopub.execute_input": "2021-09-08T17:05:27.944047Z",
     "iopub.status.busy": "2021-09-08T17:05:27.943651Z",
     "iopub.status.idle": "2021-09-08T17:05:27.946183Z",
     "shell.execute_reply": "2021-09-08T17:05:27.945847Z"
    },
    "tags": [
     "cor"
    ]
   },
   "outputs": [
    {
     "data": {
      "text/plain": [
       "val delta : float = 12.\n"
      ]
     },
     "execution_count": 16,
     "metadata": {},
     "output_type": "execute_result"
    }
   ],
   "source": [
    "(* 2. *)\n",
    "let delta = b**2. -. 4.*.a*.c;;"
   ]
  },
  {
   "cell_type": "code",
   "execution_count": 17,
   "id": "4e20d7ee",
   "metadata": {
    "execution": {
     "iopub.execute_input": "2021-09-08T17:05:27.947662Z",
     "iopub.status.busy": "2021-09-08T17:05:27.947260Z",
     "iopub.status.idle": "2021-09-08T17:05:27.951326Z",
     "shell.execute_reply": "2021-09-08T17:05:27.951653Z"
    },
    "tags": [
     "cor"
    ]
   },
   "outputs": [
    {
     "data": {
      "text/plain": [
       "- : float = -2.36602540378443837\n"
      ]
     },
     "execution_count": 17,
     "metadata": {},
     "output_type": "execute_result"
    },
    {
     "data": {
      "text/plain": [
       "- : float = -0.633974596215561403\n"
      ]
     },
     "execution_count": 17,
     "metadata": {},
     "output_type": "execute_result"
    }
   ],
   "source": [
    "(* 3. Le discriminant étant positif, il y a deux solutions égales à : *)\n",
    "(-.b -. sqrt delta)/.(2.*.a);;\n",
    "(-.b +. sqrt delta)/.(2.*.a);;"
   ]
  },
  {
   "cell_type": "markdown",
   "id": "bc3ecc0e",
   "metadata": {},
   "source": [
    "Une autre opération importante est le **modulo** (ou : [reste de la division euclidienne](https://fr.wikipedia.org/wiki/Division_euclidienne)) de 2 entiers `a` et `b`, notée `a mod b` en OCaml. Mathématiquement, il s'agit de l'entier $r$ vérifiant :\n",
    "$$a = bq + r$$\n",
    "$$0 \\leq r < b$$\n",
    "\n",
    "($q$ est le quotient, égal à `a / b` en OCaml)  \n",
    "Cette opération `mod` sert notamment à tester la divisibilité : `a` est divisible par `b` si et seulement si `a mod b = 0`."
   ]
  },
  {
   "cell_type": "markdown",
   "id": "bf77b041",
   "metadata": {},
   "source": [
    "**Exercice** : Est-ce que 527 est divisible par 17?"
   ]
  },
  {
   "cell_type": "code",
   "execution_count": 18,
   "id": "0fcab2f0",
   "metadata": {
    "execution": {
     "iopub.execute_input": "2021-09-08T17:05:27.953200Z",
     "iopub.status.busy": "2021-09-08T17:05:27.952802Z",
     "iopub.status.idle": "2021-09-08T17:05:27.954450Z",
     "shell.execute_reply": "2021-09-08T17:05:27.954751Z"
    },
    "tags": [
     "cor"
    ]
   },
   "outputs": [
    {
     "data": {
      "text/plain": [
       "- : int = 0\n"
      ]
     },
     "execution_count": 18,
     "metadata": {},
     "output_type": "execute_result"
    }
   ],
   "source": [
    "527 mod 17 (* c'est égal à 0 donc 17 divise bien 527 *)"
   ]
  },
  {
   "cell_type": "markdown",
   "id": "3fc0ece0",
   "metadata": {},
   "source": [
    "## Overflow\n",
    "\n",
    "L'ordinateur stocke toutes les variables dans la mémoire RAM de l'ordinateur, en binaire (suite de 0 et de 1). Comme la mémoire RAM sur un ordinateur n'est pas infinie, on ne peut pas stocker des nombres de taille arbitraire.  \n",
    "`max_int` est le plus grand entier que l'on peut stocker dans une variable :"
   ]
  },
  {
   "cell_type": "code",
   "execution_count": 19,
   "id": "50dad681",
   "metadata": {
    "execution": {
     "iopub.execute_input": "2021-09-08T17:05:27.956151Z",
     "iopub.status.busy": "2021-09-08T17:05:27.955757Z",
     "iopub.status.idle": "2021-09-08T17:05:27.957109Z",
     "shell.execute_reply": "2021-09-08T17:05:27.957409Z"
    }
   },
   "outputs": [
    {
     "data": {
      "text/plain": [
       "- : int = 4611686018427387903\n"
      ]
     },
     "execution_count": 19,
     "metadata": {},
     "output_type": "execute_result"
    }
   ],
   "source": [
    "max_int"
   ]
  },
  {
   "cell_type": "markdown",
   "id": "6e009187",
   "metadata": {},
   "source": [
    "Si on dépasse cet entier (ce qu'on appelle **integer overflow**), on tombe sur le plus petit entier représentable :"
   ]
  },
  {
   "cell_type": "code",
   "execution_count": 20,
   "id": "f50ef67f",
   "metadata": {
    "execution": {
     "iopub.execute_input": "2021-09-08T17:05:27.958808Z",
     "iopub.status.busy": "2021-09-08T17:05:27.958416Z",
     "iopub.status.idle": "2021-09-08T17:05:27.960031Z",
     "shell.execute_reply": "2021-09-08T17:05:27.960354Z"
    },
    "tags": []
   },
   "outputs": [
    {
     "data": {
      "text/plain": [
       "- : int = -4611686018427387904\n"
      ]
     },
     "execution_count": 20,
     "metadata": {},
     "output_type": "execute_result"
    }
   ],
   "source": [
    "max_int + 1"
   ]
  },
  {
   "cell_type": "markdown",
   "id": "e2d08858",
   "metadata": {},
   "source": [
    "Le dépassement d'entier est une source fréquente de bug, qui a causé par exemple le [crash de la fusée Ariane 5](https://fr.wikipedia.org/wiki/Vol_501_d%27Ariane_5)."
   ]
  },
  {
   "cell_type": "markdown",
   "id": "1522e4a9",
   "metadata": {},
   "source": [
    "Les float sont également limités :"
   ]
  },
  {
   "cell_type": "code",
   "execution_count": 21,
   "id": "ca5e7459",
   "metadata": {
    "execution": {
     "iopub.execute_input": "2021-09-08T17:05:27.961806Z",
     "iopub.status.busy": "2021-09-08T17:05:27.961390Z",
     "iopub.status.idle": "2021-09-08T17:05:27.962764Z",
     "shell.execute_reply": "2021-09-08T17:05:27.963084Z"
    }
   },
   "outputs": [
    {
     "data": {
      "text/plain": [
       "- : float = 1.79769313486231571e+308\n"
      ]
     },
     "execution_count": 21,
     "metadata": {},
     "output_type": "execute_result"
    }
   ],
   "source": [
    "max_float"
   ]
  },
  {
   "cell_type": "markdown",
   "id": "f4423e2b",
   "metadata": {},
   "source": [
    "Les flottants sont codées suivant la norme [IEEE754](https://fr.wikipedia.org/wiki/IEEE_754) sous la forme scientifique en utilisant 64 bits (sur un processeur 64 bits) dont 52 bits pour les chiffres après la virgule.  \n",
    "La précision des flottants est donc limitée : par exemple, on ne peut pas stocker $\\sqrt{2}$ ou $\\pi$ de façon exacte sur l'ordinateur puisqu'il s'agit de nombres irrationnels (c'est à dire avec une infinité de décimales, qui ne se répètent pas).  "
   ]
  },
  {
   "cell_type": "code",
   "execution_count": 22,
   "id": "f3b6c47c",
   "metadata": {
    "execution": {
     "iopub.execute_input": "2021-09-08T17:05:27.964475Z",
     "iopub.status.busy": "2021-09-08T17:05:27.964083Z",
     "iopub.status.idle": "2021-09-08T17:05:27.965771Z",
     "shell.execute_reply": "2021-09-08T17:05:27.966095Z"
    }
   },
   "outputs": [
    {
     "data": {
      "text/plain": [
       "- : float = 1.41421356237309515\n"
      ]
     },
     "execution_count": 22,
     "metadata": {},
     "output_type": "execute_result"
    }
   ],
   "source": [
    "2.**0.5 (* seulement une partie des décimales est stockée *)"
   ]
  },
  {
   "cell_type": "code",
   "execution_count": 23,
   "id": "9c653f15",
   "metadata": {
    "execution": {
     "iopub.execute_input": "2021-09-08T17:05:27.967450Z",
     "iopub.status.busy": "2021-09-08T17:05:27.967054Z",
     "iopub.status.idle": "2021-09-08T17:05:27.969395Z",
     "shell.execute_reply": "2021-09-08T17:05:27.969732Z"
    }
   },
   "outputs": [
    {
     "data": {
      "text/plain": [
       "- : float = 2.00000000000000044\n"
      ]
     },
     "execution_count": 23,
     "metadata": {},
     "output_type": "execute_result"
    }
   ],
   "source": [
    "(2.**0.5)**2.0  (* ne donne pas 2.0 à cause des erreurs d'arrondis *)"
   ]
  },
  {
   "cell_type": "markdown",
   "id": "bd7d6206",
   "metadata": {},
   "source": [
    "Le calcul de $\\sqrt 2$ par OCaml s'arrête à la 16ème décimale (ce qui correspond à 52 bits après la virgules, puisque $2^{-52}$ est du même ordre de grandeur que $10^{-16}$). Ce nombre $2^{-52}$ est appelé **epsilon machine**."
   ]
  },
  {
   "cell_type": "markdown",
   "id": "5b68057f",
   "metadata": {},
   "source": [
    "Autre exemple :"
   ]
  },
  {
   "cell_type": "code",
   "execution_count": 24,
   "id": "a1793902",
   "metadata": {
    "execution": {
     "iopub.execute_input": "2021-09-08T17:05:27.971158Z",
     "iopub.status.busy": "2021-09-08T17:05:27.970768Z",
     "iopub.status.idle": "2021-09-08T17:05:27.972415Z",
     "shell.execute_reply": "2021-09-08T17:05:27.972736Z"
    }
   },
   "outputs": [
    {
     "data": {
      "text/plain": [
       "- : float = 0.300000000000000044\n"
      ]
     },
     "execution_count": 24,
     "metadata": {},
     "output_type": "execute_result"
    }
   ],
   "source": [
    "0.1 +. 0.2  (* ne donne pas 0.3 *)"
   ]
  },
  {
   "cell_type": "markdown",
   "id": "dbb66708",
   "metadata": {},
   "source": [
    "`O.1` n'étant pas représentable de façon exacte en base 2, il est tronqué et engendre des erreurs d'arrondis."
   ]
  },
  {
   "cell_type": "markdown",
   "id": "b182cbfa",
   "metadata": {},
   "source": [
    "La plus grande valeur de l'exposant est 1023 :"
   ]
  },
  {
   "cell_type": "code",
   "execution_count": 25,
   "id": "080eefe1",
   "metadata": {
    "execution": {
     "iopub.execute_input": "2021-09-08T17:05:27.974172Z",
     "iopub.status.busy": "2021-09-08T17:05:27.973774Z",
     "iopub.status.idle": "2021-09-08T17:05:27.975421Z",
     "shell.execute_reply": "2021-09-08T17:05:27.975740Z"
    }
   },
   "outputs": [
    {
     "data": {
      "text/plain": [
       "- : float = 8.98846567431158e+307\n"
      ]
     },
     "execution_count": 25,
     "metadata": {},
     "output_type": "execute_result"
    }
   ],
   "source": [
    "2.**1023."
   ]
  },
  {
   "cell_type": "code",
   "execution_count": 26,
   "id": "23295b88",
   "metadata": {
    "execution": {
     "iopub.execute_input": "2021-09-08T17:05:27.977084Z",
     "iopub.status.busy": "2021-09-08T17:05:27.976693Z",
     "iopub.status.idle": "2021-09-08T17:05:27.978369Z",
     "shell.execute_reply": "2021-09-08T17:05:27.978667Z"
    }
   },
   "outputs": [
    {
     "data": {
      "text/plain": [
       "- : float = infinity\n"
      ]
     },
     "execution_count": 26,
     "metadata": {},
     "output_type": "execute_result"
    }
   ],
   "source": [
    "2.**1024."
   ]
  },
  {
   "cell_type": "markdown",
   "id": "575890b1",
   "metadata": {
    "tags": []
   },
   "source": [
    "## Unit\n",
    "\n",
    "Il existe une valeur spéciale `()` qui signifie \"rien\" (un peu comme le None de Python). Le type de `()` est `unit`. Par exemple, afficher un entier avec `print_int` fait un effet de bord (affichage sur l'écran) mais ne renvoie pas de valeur :"
   ]
  },
  {
   "cell_type": "code",
   "execution_count": 27,
   "id": "92c26d83",
   "metadata": {
    "execution": {
     "iopub.execute_input": "2021-09-08T17:05:27.980054Z",
     "iopub.status.busy": "2021-09-08T17:05:27.979656Z",
     "iopub.status.idle": "2021-09-08T17:05:27.981313Z",
     "shell.execute_reply": "2021-09-08T17:05:27.981630Z"
    }
   },
   "outputs": [
    {
     "data": {
      "text/plain": [
       "- : unit = ()\n"
      ]
     },
     "execution_count": 27,
     "metadata": {},
     "output_type": "execute_result"
    }
   ],
   "source": [
    "print_int 42"
   ]
  },
  {
   "cell_type": "markdown",
   "id": "3dc657a1",
   "metadata": {},
   "source": [
    "Pour que le résultat s'affiche, il faut revenir à la ligne avec `print_newline` :"
   ]
  },
  {
   "cell_type": "code",
   "execution_count": 28,
   "id": "ccc4f5df",
   "metadata": {
    "execution": {
     "iopub.execute_input": "2021-09-08T17:05:27.983027Z",
     "iopub.status.busy": "2021-09-08T17:05:27.982631Z",
     "iopub.status.idle": "2021-09-08T17:05:27.984323Z",
     "shell.execute_reply": "2021-09-08T17:05:27.984620Z"
    }
   },
   "outputs": [
    {
     "data": {
      "text/plain": [
       "- : unit = ()\n"
      ]
     },
     "execution_count": 28,
     "metadata": {},
     "output_type": "execute_result"
    }
   ],
   "source": [
    "print_newline ()"
   ]
  },
  {
   "cell_type": "markdown",
   "id": "18cd25f0",
   "metadata": {},
   "source": [
    "On verra dans un prochain cours le fonctionnement plus détaillé de `print_newline`."
   ]
  },
  {
   "cell_type": "markdown",
   "id": "f3db3dc6",
   "metadata": {},
   "source": [
    "Il aurait été possible de combiner ces deux instructions avec `;`, qui permet d'exécuter consécutivement plusieurs instructions :"
   ]
  },
  {
   "cell_type": "code",
   "execution_count": 29,
   "id": "61d5e036",
   "metadata": {
    "execution": {
     "iopub.execute_input": "2021-09-08T17:05:27.986235Z",
     "iopub.status.busy": "2021-09-08T17:05:27.985845Z",
     "iopub.status.idle": "2021-09-08T17:05:27.987617Z",
     "shell.execute_reply": "2021-09-08T17:05:27.987915Z"
    }
   },
   "outputs": [
    {
     "data": {
      "text/plain": [
       "- : unit = ()\n"
      ]
     },
     "execution_count": 29,
     "metadata": {},
     "output_type": "execute_result"
    }
   ],
   "source": [
    "print_int 31;\n",
    "print_newline ()"
   ]
  },
  {
   "cell_type": "markdown",
   "id": "74e4b538",
   "metadata": {},
   "source": [
    "`;;` est similaire à `;`, mais permet de séparer complètement plusieurs instructions, ce qui signifie que les variables définies avec `in` ne sont plus accessibles :"
   ]
  },
  {
   "cell_type": "code",
   "execution_count": 30,
   "id": "c66e1a54",
   "metadata": {
    "execution": {
     "iopub.execute_input": "2021-09-08T17:05:27.989455Z",
     "iopub.status.busy": "2021-09-08T17:05:27.989070Z",
     "iopub.status.idle": "2021-09-08T17:05:27.990739Z",
     "shell.execute_reply": "2021-09-08T17:05:27.991061Z"
    }
   },
   "outputs": [
    {
     "data": {
      "text/plain": [
       "- : int = 3\n"
      ]
     },
     "execution_count": 30,
     "metadata": {},
     "output_type": "execute_result"
    }
   ],
   "source": [
    "let a = 3 in\n",
    "print_int a;\n",
    "a (* a reste accessible : il est toujours dans le in *)"
   ]
  },
  {
   "cell_type": "code",
   "execution_count": 31,
   "id": "c24a01e9",
   "metadata": {
    "execution": {
     "iopub.execute_input": "2021-09-08T17:05:27.992416Z",
     "iopub.status.busy": "2021-09-08T17:05:27.992017Z",
     "iopub.status.idle": "2021-09-08T17:05:27.994619Z",
     "shell.execute_reply": "2021-09-08T17:05:27.994274Z"
    }
   },
   "outputs": [
    {
     "data": {
      "text/plain": [
       "- : unit = ()\n"
      ]
     },
     "execution_count": 31,
     "metadata": {},
     "output_type": "execute_result"
    },
    {
     "data": {
      "text/plain": [
       "- : float = 2.\n"
      ]
     },
     "execution_count": 31,
     "metadata": {},
     "output_type": "execute_result"
    }
   ],
   "source": [
    "let a = 3 in\n",
    "print_int a;;\n",
    "a;; (* a n'est pas accessible ici *)"
   ]
  },
  {
   "cell_type": "markdown",
   "id": "88654b7e",
   "metadata": {
    "tags": []
   },
   "source": [
    "## Présentation du code\n",
    "\n",
    "Contrairement à Python, l'indentation du code n'a pas d'importance en OCaml. En effet les espaces et sauts de lignes sont ignorés :"
   ]
  },
  {
   "cell_type": "code",
   "execution_count": 32,
   "id": "18f00c2a",
   "metadata": {
    "execution": {
     "iopub.execute_input": "2021-09-08T17:05:27.995992Z",
     "iopub.status.busy": "2021-09-08T17:05:27.995593Z",
     "iopub.status.idle": "2021-09-08T17:05:27.997169Z",
     "shell.execute_reply": "2021-09-08T17:05:27.997491Z"
    }
   },
   "outputs": [
    {
     "data": {
      "text/plain": [
       "val a : int = 6\n"
      ]
     },
     "execution_count": 32,
     "metadata": {},
     "output_type": "execute_result"
    }
   ],
   "source": [
    "let a \n",
    "  = \n",
    "      6 (* indentation n'importe comment *)"
   ]
  },
  {
   "cell_type": "markdown",
   "id": "e5173153",
   "metadata": {},
   "source": [
    "On veillera toutefois à écrire du code aussi clair et lisible que possible."
   ]
  },
  {
   "cell_type": "markdown",
   "id": "86533b2d",
   "metadata": {},
   "source": [
    "## Réferences\n",
    "\n",
    "Contrairement à ce que son nom l'indique, une variable définie comme on l'a fait jusqu'à maintenant est en fait... **constante** :"
   ]
  },
  {
   "cell_type": "code",
   "execution_count": 33,
   "id": "6bc2d8f0",
   "metadata": {
    "execution": {
     "iopub.execute_input": "2021-09-08T17:05:27.998942Z",
     "iopub.status.busy": "2021-09-08T17:05:27.998546Z",
     "iopub.status.idle": "2021-09-08T17:05:28.004556Z",
     "shell.execute_reply": "2021-09-08T17:05:28.003128Z"
    }
   },
   "outputs": [
    {
     "data": {
      "text/plain": [
       "val x : int = 3\n"
      ]
     },
     "execution_count": 33,
     "metadata": {},
     "output_type": "execute_result"
    },
    {
     "data": {
      "text/plain": [
       "- : bool = false\n"
      ]
     },
     "execution_count": 33,
     "metadata": {},
     "output_type": "execute_result"
    },
    {
     "data": {
      "text/plain": [
       "- : int = 3\n"
      ]
     },
     "execution_count": 33,
     "metadata": {},
     "output_type": "execute_result"
    }
   ],
   "source": [
    "let x = 3;;\n",
    "x = 4;; (* ceci ne MODIFIE pas x, mais teste si la valeur de x est 4 *)\n",
    "x;; (* x vaut toujours 3 : il ne peut pas être modifié *)"
   ]
  },
  {
   "cell_type": "markdown",
   "id": "0fd16771",
   "metadata": {},
   "source": [
    "Pour pouvoir modifier une variable, on peut utiliser une **référence**.\n",
    "Pour définir une référence on utilise `ref` :\n",
    "```ocaml\n",
    "let variable = ref valeur (* définition d'une référence *)\n",
    "```\n",
    "Pour modifier une référence on utilise `:=` :\n",
    "```ocaml\n",
    "variable := valeur (* modification d'une référence *)\n",
    "```\n",
    "Pour obtenir la valeur d'une référence on utilise `!` :\n",
    "```ocaml\n",
    "!variable (* donne la valeur d'une référence *)\n",
    "```"
   ]
  },
  {
   "cell_type": "code",
   "execution_count": 34,
   "id": "d8c2d8e1",
   "metadata": {
    "execution": {
     "iopub.execute_input": "2021-09-08T17:05:28.005982Z",
     "iopub.status.busy": "2021-09-08T17:05:28.005560Z",
     "iopub.status.idle": "2021-09-08T17:05:28.009435Z",
     "shell.execute_reply": "2021-09-08T17:05:28.009061Z"
    },
    "tags": []
   },
   "outputs": [
    {
     "data": {
      "text/plain": [
       "val x : int ref = {contents = 3}\n"
      ]
     },
     "execution_count": 34,
     "metadata": {},
     "output_type": "execute_result"
    },
    {
     "data": {
      "text/plain": [
       "- : unit = ()\n"
      ]
     },
     "execution_count": 34,
     "metadata": {},
     "output_type": "execute_result"
    },
    {
     "data": {
      "text/plain": [
       "- : int = 4\n"
      ]
     },
     "execution_count": 34,
     "metadata": {},
     "output_type": "execute_result"
    }
   ],
   "source": [
    "let x = ref 3;; (* définie une variable x qui \"pointe\" vers un emplacement mémoire contenant 3 *)\n",
    "x := 4;; (* modifie la valeur pointé par x avec := *)\n",
    "!x;; (* la valeur a bien été modifiée *)"
   ]
  },
  {
   "cell_type": "markdown",
   "id": "6c95da1f",
   "metadata": {},
   "source": [
    "On remarque que l'instruction `x := 4` a pour valeur de retour `()` : c'est un effet de bord qui modifie `x` mais ne renvoie pas de résultat."
   ]
  },
  {
   "cell_type": "markdown",
   "id": "02b9218a",
   "metadata": {},
   "source": [
    "**Exercice** : Que valent `!x` et `!y` après avoir exécuté le bout de code suivant? À quoi sert ce code?\n",
    "```ocaml\n",
    "let x = ref 5;;\n",
    "let y = ref 27;;\n",
    "x := !x + !y;\n",
    "y := !x - !y;\n",
    "x := !x - !y\n",
    "```"
   ]
  },
  {
   "cell_type": "code",
   "execution_count": 35,
   "id": "24a9d83c",
   "metadata": {
    "execution": {
     "iopub.execute_input": "2021-09-08T17:05:28.010940Z",
     "iopub.status.busy": "2021-09-08T17:05:28.010489Z",
     "iopub.status.idle": "2021-09-08T17:05:28.017219Z",
     "shell.execute_reply": "2021-09-08T17:05:28.016851Z"
    },
    "tags": [
     "cor"
    ]
   },
   "outputs": [
    {
     "data": {
      "text/plain": [
       "- : int * int = (27, 5)\n"
      ]
     },
     "execution_count": 35,
     "metadata": {},
     "output_type": "execute_result"
    }
   ],
   "source": [
    "let x = ref 5 in\n",
    "let y = ref 27 in\n",
    "x := !x + !y;\n",
    "y := !x - !y;\n",
    "x := !x - !y;\n",
    "!x, !y;; (* x vaut 27, y vaut 5 : ce bout de code échange les valeurs de x et y *)"
   ]
  },
  {
   "cell_type": "markdown",
   "id": "ee3c0c14",
   "metadata": {},
   "source": [
    "**Remarque** : utiliser des `ref` rend souvent le code plus compliqué, on n'en utilisera que lorsque c'est nécessaire."
   ]
  }
 ],
 "metadata": {
  "kernelspec": {
   "display_name": "OCaml default",
   "language": "OCaml",
   "name": "ocaml-jupyter"
  },
  "language_info": {
   "codemirror_mode": "text/x-ocaml",
   "file_extension": ".ml",
   "mimetype": "text/x-ocaml",
   "name": "OCaml",
   "nbconverter_exporter": null,
   "pygments_lexer": "OCaml",
   "version": "4.08.1"
  },
  "title": "OCaml"
 },
 "nbformat": 4,
 "nbformat_minor": 5
}

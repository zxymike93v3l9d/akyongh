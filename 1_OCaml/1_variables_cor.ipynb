{
 "cells": [
  {
   "cell_type": "markdown",
   "id": "0bad3609",
   "metadata": {},
   "source": [
    "# Variables"
   ]
  },
  {
   "cell_type": "markdown",
   "id": "ddbfc2fc",
   "metadata": {},
   "source": [
    "## Définition d'une variable\n",
    "\n",
    "Une variable possède 3 propriétés:  \n",
    "- un nom (exemple : `x`)  \n",
    "- une valeur (exemple : 42)  \n",
    "- un type (exemple : entier)\n",
    "\n",
    "En OCaml, on définit une variable de la façon suivante :\n",
    "```ocaml\n",
    "let variable = valeur\n",
    "```\n",
    "\n",
    "Par exemple, pour définir une variable `x` valant 42 :"
   ]
  },
  {
   "cell_type": "code",
   "execution_count": 1,
   "id": "5c19fb1f",
   "metadata": {
    "execution": {
     "iopub.execute_input": "2021-09-09T12:09:07.059531Z",
     "iopub.status.busy": "2021-09-09T12:09:07.059083Z",
     "iopub.status.idle": "2021-09-09T12:09:07.061351Z",
     "shell.execute_reply": "2021-09-09T12:09:07.060919Z"
    },
    "tags": []
   },
   "outputs": [
    {
     "data": {
      "text/plain": [
       "val x : int = 42\n"
      ]
     },
     "execution_count": 1,
     "metadata": {},
     "output_type": "execute_result"
    }
   ],
   "source": [
    "let x = 42"
   ]
  },
  {
   "cell_type": "markdown",
   "id": "48b280c7",
   "metadata": {},
   "source": [
    "OCaml nous répond que `x` a pour valeur 42 et est de type `int` (*integer*, c'est à dire entier).\n",
    "La variable `x` est ici définie globalement, c'est à dire accessible partout dans ce notebook.\n",
    "\n",
    "On peut alors faire des calculs avec la valeur de `x` :"
   ]
  },
  {
   "cell_type": "code",
   "execution_count": 2,
   "id": "a40e0182",
   "metadata": {
    "execution": {
     "iopub.execute_input": "2021-09-09T12:09:07.063988Z",
     "iopub.status.busy": "2021-09-09T12:09:07.063580Z",
     "iopub.status.idle": "2021-09-09T12:09:07.066195Z",
     "shell.execute_reply": "2021-09-09T12:09:07.065846Z"
    },
    "tags": []
   },
   "outputs": [
    {
     "data": {
      "text/plain": [
       "- : int = 124\n"
      ]
     },
     "execution_count": 2,
     "metadata": {},
     "output_type": "execute_result"
    }
   ],
   "source": [
    "3*x - 2 (* OCaml remplace x par 42 et fait le calcul *)"
   ]
  },
  {
   "cell_type": "markdown",
   "id": "475e7a55",
   "metadata": {},
   "source": [
    "Il est possible d'avoir une expression (un calcul) à droite d'une définition :"
   ]
  },
  {
   "cell_type": "code",
   "execution_count": 3,
   "id": "4d75eb15",
   "metadata": {
    "execution": {
     "iopub.execute_input": "2021-09-09T12:09:07.067652Z",
     "iopub.status.busy": "2021-09-09T12:09:07.067249Z",
     "iopub.status.idle": "2021-09-09T12:09:07.069401Z",
     "shell.execute_reply": "2021-09-09T12:09:07.069721Z"
    },
    "tags": []
   },
   "outputs": [
    {
     "data": {
      "text/plain": [
       "val a : int = 10\n"
      ]
     },
     "execution_count": 3,
     "metadata": {},
     "output_type": "execute_result"
    }
   ],
   "source": [
    "let a = 1 + 2 + 3 + 4 (* la valeur à droite de = est calculée puis mise dans a *)"
   ]
  },
  {
   "cell_type": "markdown",
   "id": "4e7a7fc8",
   "metadata": {},
   "source": [
    "**Exercice** : définissez une variable $a$ égale à 752. Puis définissez une variable $b$ égale à $54a$.    \n",
    "Rappel : vous pouvez appuyer sur la touche B pour faire apparaître une case de code et répondre dedans. Ici vous pouvez utiliser deux cases, ou séparer les deux instructions avec ` ;;`."
   ]
  },
  {
   "cell_type": "code",
   "execution_count": 4,
   "id": "c9dd4257",
   "metadata": {
    "execution": {
     "iopub.execute_input": "2021-09-09T12:09:07.071284Z",
     "iopub.status.busy": "2021-09-09T12:09:07.070872Z",
     "iopub.status.idle": "2021-09-09T12:09:07.073502Z",
     "shell.execute_reply": "2021-09-09T12:09:07.073154Z"
    },
    "tags": [
     "cor"
    ]
   },
   "outputs": [
    {
     "data": {
      "text/plain": [
       "val a : int = 752\n"
      ]
     },
     "execution_count": 4,
     "metadata": {},
     "output_type": "execute_result"
    },
    {
     "data": {
      "text/plain": [
       "val b : int = 40608\n"
      ]
     },
     "execution_count": 4,
     "metadata": {},
     "output_type": "execute_result"
    }
   ],
   "source": [
    "let a = 752;;\n",
    "let b = 54*a;;"
   ]
  },
  {
   "cell_type": "markdown",
   "id": "595a839d",
   "metadata": {},
   "source": [
    "## Variables locales\n",
    "\n",
    "Il est possible de définir une variable locale en utilisant la forme `let y = ... in ...`  \n",
    "`y` existe est alors seulement dans le in (`...`)"
   ]
  },
  {
   "cell_type": "code",
   "execution_count": 5,
   "id": "3ece5b7d",
   "metadata": {
    "execution": {
     "iopub.execute_input": "2021-09-09T12:09:07.074924Z",
     "iopub.status.busy": "2021-09-09T12:09:07.074520Z",
     "iopub.status.idle": "2021-09-09T12:09:07.076183Z",
     "shell.execute_reply": "2021-09-09T12:09:07.076502Z"
    },
    "tags": []
   },
   "outputs": [
    {
     "data": {
      "text/plain": [
       "- : int = -1\n"
      ]
     },
     "execution_count": 5,
     "metadata": {},
     "output_type": "execute_result"
    }
   ],
   "source": [
    "let y = -1 in y (* y est accessible dans le in *)"
   ]
  },
  {
   "cell_type": "code",
   "execution_count": 6,
   "id": "af172757",
   "metadata": {
    "execution": {
     "iopub.execute_input": "2021-09-09T12:09:07.078024Z",
     "iopub.status.busy": "2021-09-09T12:09:07.077630Z",
     "iopub.status.idle": "2021-09-09T12:09:07.079290Z",
     "shell.execute_reply": "2021-09-09T12:09:07.079610Z"
    },
    "tags": []
   },
   "outputs": [
    {
     "ename": "error",
     "evalue": "compile_error",
     "output_type": "error",
     "traceback": [
      "File \"[6]\", line 1, characters 0-1:\n1 | y (* utiliser y ici donne une erreur  *)\n    ^\nError: Unbound value y\n"
     ]
    }
   ],
   "source": [
    "y (* utiliser y ici donne une erreur  *)"
   ]
  },
  {
   "cell_type": "markdown",
   "id": "5458fd3d",
   "metadata": {
    "tags": []
   },
   "source": [
    "**Exercice** : en utilisant `let ... in ... `, définissez une variable $a$ égale à $752$, puis définissez une variable $b$ égale à $54a$.    "
   ]
  },
  {
   "cell_type": "code",
   "execution_count": 7,
   "id": "5713b58f",
   "metadata": {
    "execution": {
     "iopub.execute_input": "2021-09-09T12:09:07.081165Z",
     "iopub.status.busy": "2021-09-09T12:09:07.080741Z",
     "iopub.status.idle": "2021-09-09T12:09:07.082880Z",
     "shell.execute_reply": "2021-09-09T12:09:07.083200Z"
    },
    "tags": [
     "cor"
    ]
   },
   "outputs": [
    {
     "data": {
      "text/plain": [
       "- : int = 40608\n"
      ]
     },
     "execution_count": 7,
     "metadata": {},
     "output_type": "execute_result"
    }
   ],
   "source": [
    "let a = 752 in\n",
    "let b = 54*a in\n",
    "b"
   ]
  },
  {
   "cell_type": "markdown",
   "id": "c37050eb",
   "metadata": {},
   "source": [
    "**Remarque** Il est possible d'utiliser des parenthèses ou `begin ... end` pour délimiter le in :\n",
    "```ocaml\n",
    "let a = 3 in\n",
    "(\n",
    "...\n",
    ")\n",
    "```"
   ]
  },
  {
   "cell_type": "markdown",
   "id": "c66fcdfd",
   "metadata": {
    "tags": []
   },
   "source": [
    "\n",
    "## Opérations numériques\n",
    "\n",
    "Nous avons déjà vu l'addition et la soustraction de 2 entiers. Il est aussi possible de multiplier :"
   ]
  },
  {
   "cell_type": "code",
   "execution_count": 8,
   "id": "8c59015a",
   "metadata": {
    "execution": {
     "iopub.execute_input": "2021-09-09T12:09:07.084764Z",
     "iopub.status.busy": "2021-09-09T12:09:07.084356Z",
     "iopub.status.idle": "2021-09-09T12:09:07.086124Z",
     "shell.execute_reply": "2021-09-09T12:09:07.086444Z"
    }
   },
   "outputs": [
    {
     "data": {
      "text/plain": [
       "- : int = 42\n"
      ]
     },
     "execution_count": 8,
     "metadata": {},
     "output_type": "execute_result"
    }
   ],
   "source": [
    "3 * 14"
   ]
  },
  {
   "cell_type": "markdown",
   "id": "472d1723",
   "metadata": {},
   "source": [
    "On peut effectuer la division **entière** (ou encore : [quotient de la division euclidienne](https://fr.wikipedia.org/wiki/Division_euclidienne)) de 2 entiers :"
   ]
  },
  {
   "cell_type": "code",
   "execution_count": 9,
   "id": "26d23045",
   "metadata": {
    "execution": {
     "iopub.execute_input": "2021-09-09T12:09:07.087975Z",
     "iopub.status.busy": "2021-09-09T12:09:07.087567Z",
     "iopub.status.idle": "2021-09-09T12:09:07.089347Z",
     "shell.execute_reply": "2021-09-09T12:09:07.089650Z"
    }
   },
   "outputs": [
    {
     "data": {
      "text/plain": [
       "- : int = 1\n"
      ]
     },
     "execution_count": 9,
     "metadata": {},
     "output_type": "execute_result"
    }
   ],
   "source": [
    "3 / 2 (* division entière *)"
   ]
  },
  {
   "cell_type": "markdown",
   "id": "622bc242",
   "metadata": {},
   "source": [
    "La division entière de $x$ par $y$ est, par définition, la partie entière de $\\frac{x}{y}$.  \n",
    "Dans l'exemple ci-dessus, `3 / 2` est donc la partie entière de $\\frac{3}{2} = 1.5$, c'est à dire $1$. \n",
    "\n",
    "**Attention** : la division entière ` 3 / 2`  en OCaml correspond à ` 3 // 2 ` en Python."
   ]
  },
  {
   "cell_type": "markdown",
   "id": "5466c311",
   "metadata": {},
   "source": [
    "En plus des entiers (`int`), OCaml permet de définir des nombres à virgules (`float`, pour flottant) :"
   ]
  },
  {
   "cell_type": "code",
   "execution_count": 10,
   "id": "012200bb",
   "metadata": {
    "execution": {
     "iopub.execute_input": "2021-09-09T12:09:07.091223Z",
     "iopub.status.busy": "2021-09-09T12:09:07.090823Z",
     "iopub.status.idle": "2021-09-09T12:09:07.092413Z",
     "shell.execute_reply": "2021-09-09T12:09:07.092712Z"
    }
   },
   "outputs": [
    {
     "data": {
      "text/plain": [
       "val pi : float = 3.141592\n"
      ]
     },
     "execution_count": 10,
     "metadata": {},
     "output_type": "execute_result"
    }
   ],
   "source": [
    "let pi = 3.141592"
   ]
  },
  {
   "cell_type": "markdown",
   "id": "b9ff812b",
   "metadata": {},
   "source": [
    "Les opérateurs d'addition, soustraction, multiplication, division doivent s'utiliser avec un `.` (point). Par exemple :"
   ]
  },
  {
   "cell_type": "code",
   "execution_count": 11,
   "id": "27a90c91",
   "metadata": {
    "execution": {
     "iopub.execute_input": "2021-09-09T12:09:07.094263Z",
     "iopub.status.busy": "2021-09-09T12:09:07.093852Z",
     "iopub.status.idle": "2021-09-09T12:09:07.096245Z",
     "shell.execute_reply": "2021-09-09T12:09:07.096566Z"
    }
   },
   "outputs": [
    {
     "data": {
      "text/plain": [
       "- : float = 5.759592\n"
      ]
     },
     "execution_count": 11,
     "metadata": {},
     "output_type": "execute_result"
    }
   ],
   "source": [
    "pi +. 2.618 (* noter le . après + *)"
   ]
  },
  {
   "cell_type": "markdown",
   "id": "5ac8b0bb",
   "metadata": {},
   "source": [
    "**Attention** : c'est le point (.) et non pas la virgule qui est utilisé pour les flottants."
   ]
  },
  {
   "cell_type": "markdown",
   "id": "21f7489d",
   "metadata": {},
   "source": [
    "Il est possible de calculer $x^y$, où $x$ et $y$ sont des **flottants** avec `**` :"
   ]
  },
  {
   "cell_type": "code",
   "execution_count": 12,
   "id": "01443cdb",
   "metadata": {
    "execution": {
     "iopub.execute_input": "2021-09-09T12:09:07.098082Z",
     "iopub.status.busy": "2021-09-09T12:09:07.097682Z",
     "iopub.status.idle": "2021-09-09T12:09:07.100244Z",
     "shell.execute_reply": "2021-09-09T12:09:07.100564Z"
    }
   },
   "outputs": [
    {
     "data": {
      "text/plain": [
       "- : float = 23.0963461891915607\n"
      ]
     },
     "execution_count": 12,
     "metadata": {},
     "output_type": "execute_result"
    }
   ],
   "source": [
    "2.718 ** 3.14 (* x puissance y *)"
   ]
  },
  {
   "cell_type": "markdown",
   "id": "d665a228",
   "metadata": {},
   "source": [
    "Il n'est pas possible d'utiliser `**` sur des `int`. Par contre on peut utiliser 4.0 ou 4. au lieu de 4 pour avoir des flottants et utiliser `**` : "
   ]
  },
  {
   "cell_type": "code",
   "execution_count": 13,
   "id": "c610707e",
   "metadata": {
    "execution": {
     "iopub.execute_input": "2021-09-09T12:09:07.102666Z",
     "iopub.status.busy": "2021-09-09T12:09:07.102266Z",
     "iopub.status.idle": "2021-09-09T12:09:07.103922Z",
     "shell.execute_reply": "2021-09-09T12:09:07.104241Z"
    }
   },
   "outputs": [
    {
     "data": {
      "text/plain": [
       "- : float = 1024.\n"
      ]
     },
     "execution_count": 13,
     "metadata": {},
     "output_type": "execute_result"
    }
   ],
   "source": [
    "2. ** 10."
   ]
  },
  {
   "cell_type": "markdown",
   "id": "eb9eff75",
   "metadata": {},
   "source": [
    "**Exercice**\n",
    "1. Stocker la valeur $42^2$ dans une variable $a$, en utilisant `*`.\n",
    "2. En déduire la valeur de $42^4$.\n",
    "3. Calculer la valeur de $2^{10}$ en utilisant le moins de multiplications possibles."
   ]
  },
  {
   "cell_type": "code",
   "execution_count": 14,
   "id": "a79bab55",
   "metadata": {
    "execution": {
     "iopub.execute_input": "2021-09-09T12:09:07.105787Z",
     "iopub.status.busy": "2021-09-09T12:09:07.105382Z",
     "iopub.status.idle": "2021-09-09T12:09:07.109367Z",
     "shell.execute_reply": "2021-09-09T12:09:07.109712Z"
    },
    "tags": [
     "cor"
    ]
   },
   "outputs": [
    {
     "data": {
      "text/plain": [
       "val a : int = 1764\n"
      ]
     },
     "execution_count": 14,
     "metadata": {},
     "output_type": "execute_result"
    }
   ],
   "source": [
    "(* 1. *) \n",
    "let a = 42*42;;\n",
    "\n",
    "\n",
    "(* 2. *)\n",
    "a*a;;\n",
    "\n",
    "(* 3. *)\n",
    "let deux_puiss_2 = 2*2 in\n",
    "let deux_puiss_4 = deux_puiss_2*deux_puiss_2 in\n",
    "let deux_puiss_8 = deux_puiss_4*deux_puiss_4 in\n",
    "deux_puiss_8 * deux_puiss_2;; (* calcul de 2 puissance 10 en 4 multiplications *)"
   ]
  },
  {
   "cell_type": "markdown",
   "id": "8a66a36e",
   "metadata": {},
   "source": [
    "**Exercice**\n",
    "\n",
    "1. Stocker dans 3 variables $a$, $b$, $c$ les valeurs 2, 5 et 3. On pourra utiliser let a, b, c = ..., ..., ... pour définir 3 variable simultanément. \n",
    "2. Stocker dans une variable $delta$ le discriminant de l'équation $ax^2 + bx + c = 0$.\n",
    "3. Calculer toutes les solutions de l'équation précédente."
   ]
  },
  {
   "cell_type": "code",
   "execution_count": 15,
   "id": "2e8d5f19",
   "metadata": {
    "execution": {
     "iopub.execute_input": "2021-09-09T12:09:07.111638Z",
     "iopub.status.busy": "2021-09-09T12:09:07.111255Z",
     "iopub.status.idle": "2021-09-09T12:09:07.114521Z",
     "shell.execute_reply": "2021-09-09T12:09:07.114171Z"
    },
    "tags": [
     "cor"
    ]
   },
   "outputs": [
    {
     "data": {
      "text/plain": [
       "val a : float = 2.\n",
       "val b : float = 6.\n",
       "val c : float = 3.\n"
      ]
     },
     "execution_count": 15,
     "metadata": {},
     "output_type": "execute_result"
    }
   ],
   "source": [
    "(* 1. *)\n",
    "let a, b, c = 2., 6., 3.;;"
   ]
  },
  {
   "cell_type": "code",
   "execution_count": 16,
   "id": "62c0e5e7",
   "metadata": {
    "execution": {
     "iopub.execute_input": "2021-09-09T12:09:07.116074Z",
     "iopub.status.busy": "2021-09-09T12:09:07.115674Z",
     "iopub.status.idle": "2021-09-09T12:09:07.117964Z",
     "shell.execute_reply": "2021-09-09T12:09:07.117589Z"
    },
    "tags": [
     "cor"
    ]
   },
   "outputs": [
    {
     "data": {
      "text/plain": [
       "val delta : float = 12.\n"
      ]
     },
     "execution_count": 16,
     "metadata": {},
     "output_type": "execute_result"
    }
   ],
   "source": [
    "(* 2. *)\n",
    "let delta = b**2. -. 4.*.a*.c;;"
   ]
  },
  {
   "cell_type": "code",
   "execution_count": 17,
   "id": "23c643b8",
   "metadata": {
    "execution": {
     "iopub.execute_input": "2021-09-09T12:09:07.119444Z",
     "iopub.status.busy": "2021-09-09T12:09:07.119041Z",
     "iopub.status.idle": "2021-09-09T12:09:07.123118Z",
     "shell.execute_reply": "2021-09-09T12:09:07.123441Z"
    },
    "tags": [
     "cor"
    ]
   },
   "outputs": [
    {
     "data": {
      "text/plain": [
       "- : float = -2.36602540378443837\n"
      ]
     },
     "execution_count": 17,
     "metadata": {},
     "output_type": "execute_result"
    },
    {
     "data": {
      "text/plain": [
       "- : float = -0.633974596215561403\n"
      ]
     },
     "execution_count": 17,
     "metadata": {},
     "output_type": "execute_result"
    }
   ],
   "source": [
    "(* 3. Le discriminant étant positif, il y a deux solutions égales à : *)\n",
    "(-.b -. sqrt delta)/.(2.*.a);;\n",
    "(-.b +. sqrt delta)/.(2.*.a);;"
   ]
  },
  {
   "cell_type": "markdown",
   "id": "51e0c3d9",
   "metadata": {},
   "source": [
    "Une autre opération importante est le **modulo** (ou : [reste de la division euclidienne](https://fr.wikipedia.org/wiki/Division_euclidienne)) de 2 entiers `a` et `b`, notée `a mod b` en OCaml. Mathématiquement, il s'agit de l'entier $r$ vérifiant :\n",
    "$$a = bq + r$$\n",
    "$$0 \\leq r < b$$\n",
    "\n",
    "($q$ est le quotient, égal à `a / b` en OCaml)  \n",
    "Cette opération `mod` sert notamment à tester la divisibilité : `a` est divisible par `b` si et seulement si `a mod b = 0`."
   ]
  },
  {
   "cell_type": "markdown",
   "id": "f4e60e6f",
   "metadata": {},
   "source": [
    "**Exercice** : Est-ce que 527 est divisible par 17?"
   ]
  },
  {
   "cell_type": "code",
   "execution_count": 18,
   "id": "5bed4699",
   "metadata": {
    "execution": {
     "iopub.execute_input": "2021-09-09T12:09:07.125037Z",
     "iopub.status.busy": "2021-09-09T12:09:07.124609Z",
     "iopub.status.idle": "2021-09-09T12:09:07.126263Z",
     "shell.execute_reply": "2021-09-09T12:09:07.126584Z"
    },
    "tags": [
     "cor"
    ]
   },
   "outputs": [
    {
     "data": {
      "text/plain": [
       "- : int = 0\n"
      ]
     },
     "execution_count": 18,
     "metadata": {},
     "output_type": "execute_result"
    }
   ],
   "source": [
    "527 mod 17 (* c'est égal à 0 donc 17 divise bien 527 *)"
   ]
  },
  {
   "cell_type": "markdown",
   "id": "108c8a97",
   "metadata": {},
   "source": [
    "## Overflow\n",
    "\n",
    "L'ordinateur stocke toutes les variables dans la mémoire RAM de l'ordinateur, en binaire (suite de 0 et de 1). Comme la mémoire RAM sur un ordinateur n'est pas infinie, on ne peut pas stocker des nombres de taille arbitraire.  \n",
    "`max_int` est le plus grand entier que l'on peut stocker dans une variable :"
   ]
  },
  {
   "cell_type": "code",
   "execution_count": 19,
   "id": "0920b14d",
   "metadata": {
    "execution": {
     "iopub.execute_input": "2021-09-09T12:09:07.128101Z",
     "iopub.status.busy": "2021-09-09T12:09:07.127703Z",
     "iopub.status.idle": "2021-09-09T12:09:07.129098Z",
     "shell.execute_reply": "2021-09-09T12:09:07.129422Z"
    }
   },
   "outputs": [
    {
     "data": {
      "text/plain": [
       "- : int = 4611686018427387903\n"
      ]
     },
     "execution_count": 19,
     "metadata": {},
     "output_type": "execute_result"
    }
   ],
   "source": [
    "max_int"
   ]
  },
  {
   "cell_type": "markdown",
   "id": "30655bba",
   "metadata": {},
   "source": [
    "Si on dépasse cet entier (ce qu'on appelle **integer overflow**), on tombe sur le plus petit entier représentable :"
   ]
  },
  {
   "cell_type": "code",
   "execution_count": 20,
   "id": "244a845d",
   "metadata": {
    "execution": {
     "iopub.execute_input": "2021-09-09T12:09:07.131128Z",
     "iopub.status.busy": "2021-09-09T12:09:07.130711Z",
     "iopub.status.idle": "2021-09-09T12:09:07.132095Z",
     "shell.execute_reply": "2021-09-09T12:09:07.132414Z"
    },
    "tags": []
   },
   "outputs": [
    {
     "data": {
      "text/plain": [
       "- : int = -4611686018427387904\n"
      ]
     },
     "execution_count": 20,
     "metadata": {},
     "output_type": "execute_result"
    }
   ],
   "source": [
    "max_int + 1"
   ]
  },
  {
   "cell_type": "markdown",
   "id": "174dd0a0",
   "metadata": {},
   "source": [
    "Le dépassement d'entier est une source fréquente de bug, qui a causé par exemple le [crash de la fusée Ariane 5](https://fr.wikipedia.org/wiki/Vol_501_d%27Ariane_5)."
   ]
  },
  {
   "cell_type": "markdown",
   "id": "996f5fae",
   "metadata": {},
   "source": [
    "Les float sont également limités :"
   ]
  },
  {
   "cell_type": "code",
   "execution_count": 21,
   "id": "7be3025d",
   "metadata": {
    "execution": {
     "iopub.execute_input": "2021-09-09T12:09:07.133949Z",
     "iopub.status.busy": "2021-09-09T12:09:07.133554Z",
     "iopub.status.idle": "2021-09-09T12:09:07.134922Z",
     "shell.execute_reply": "2021-09-09T12:09:07.135242Z"
    }
   },
   "outputs": [
    {
     "data": {
      "text/plain": [
       "- : float = 1.79769313486231571e+308\n"
      ]
     },
     "execution_count": 21,
     "metadata": {},
     "output_type": "execute_result"
    }
   ],
   "source": [
    "max_float"
   ]
  },
  {
   "cell_type": "markdown",
   "id": "88206745",
   "metadata": {},
   "source": [
    "Les flottants sont codées suivant la norme [IEEE754](https://fr.wikipedia.org/wiki/IEEE_754) sous la forme scientifique en utilisant 64 bits (sur un processeur 64 bits) dont 52 bits pour les chiffres après la virgule.  \n",
    "La précision des flottants est donc limitée : par exemple, on ne peut pas stocker $\\sqrt{2}$ ou $\\pi$ de façon exacte sur l'ordinateur puisqu'il s'agit de nombres irrationnels (c'est à dire avec une infinité de décimales, qui ne se répètent pas).  "
   ]
  },
  {
   "cell_type": "code",
   "execution_count": 22,
   "id": "c85869f6",
   "metadata": {
    "execution": {
     "iopub.execute_input": "2021-09-09T12:09:07.136647Z",
     "iopub.status.busy": "2021-09-09T12:09:07.136249Z",
     "iopub.status.idle": "2021-09-09T12:09:07.137936Z",
     "shell.execute_reply": "2021-09-09T12:09:07.138236Z"
    }
   },
   "outputs": [
    {
     "data": {
      "text/plain": [
       "- : float = 1.41421356237309515\n"
      ]
     },
     "execution_count": 22,
     "metadata": {},
     "output_type": "execute_result"
    }
   ],
   "source": [
    "2.**0.5 (* seulement une partie des décimales est stockée *)"
   ]
  },
  {
   "cell_type": "code",
   "execution_count": 23,
   "id": "147fee71",
   "metadata": {
    "execution": {
     "iopub.execute_input": "2021-09-09T12:09:07.139620Z",
     "iopub.status.busy": "2021-09-09T12:09:07.139214Z",
     "iopub.status.idle": "2021-09-09T12:09:07.141047Z",
     "shell.execute_reply": "2021-09-09T12:09:07.141371Z"
    }
   },
   "outputs": [
    {
     "data": {
      "text/plain": [
       "- : float = 2.00000000000000044\n"
      ]
     },
     "execution_count": 23,
     "metadata": {},
     "output_type": "execute_result"
    }
   ],
   "source": [
    "(2.**0.5)**2.0  (* ne donne pas 2.0 à cause des erreurs d'arrondis *)"
   ]
  },
  {
   "cell_type": "markdown",
   "id": "15e2eebc",
   "metadata": {},
   "source": [
    "Le calcul de $\\sqrt 2$ par OCaml s'arrête à la 16ème décimale (ce qui correspond à 52 bits après la virgules, puisque $2^{-52}$ est du même ordre de grandeur que $10^{-16}$). Ce nombre $2^{-52}$ est appelé **epsilon machine**."
   ]
  },
  {
   "cell_type": "markdown",
   "id": "ed992bd3",
   "metadata": {},
   "source": [
    "Autre exemple :"
   ]
  },
  {
   "cell_type": "code",
   "execution_count": 24,
   "id": "97c6298a",
   "metadata": {
    "execution": {
     "iopub.execute_input": "2021-09-09T12:09:07.142803Z",
     "iopub.status.busy": "2021-09-09T12:09:07.142407Z",
     "iopub.status.idle": "2021-09-09T12:09:07.144067Z",
     "shell.execute_reply": "2021-09-09T12:09:07.144367Z"
    }
   },
   "outputs": [
    {
     "data": {
      "text/plain": [
       "- : float = 0.300000000000000044\n"
      ]
     },
     "execution_count": 24,
     "metadata": {},
     "output_type": "execute_result"
    }
   ],
   "source": [
    "0.1 +. 0.2  (* ne donne pas 0.3 *)"
   ]
  },
  {
   "cell_type": "markdown",
   "id": "f8f5c2b5",
   "metadata": {},
   "source": [
    "`O.1` n'étant pas représentable de façon exacte en base 2, il est tronqué et engendre des erreurs d'arrondis."
   ]
  },
  {
   "cell_type": "markdown",
   "id": "b3d90e60",
   "metadata": {},
   "source": [
    "La plus grande valeur de l'exposant est 1023 :"
   ]
  },
  {
   "cell_type": "code",
   "execution_count": 25,
   "id": "b97f2f14",
   "metadata": {
    "execution": {
     "iopub.execute_input": "2021-09-09T12:09:07.145839Z",
     "iopub.status.busy": "2021-09-09T12:09:07.145429Z",
     "iopub.status.idle": "2021-09-09T12:09:07.147072Z",
     "shell.execute_reply": "2021-09-09T12:09:07.147374Z"
    }
   },
   "outputs": [
    {
     "data": {
      "text/plain": [
       "- : float = 8.98846567431158e+307\n"
      ]
     },
     "execution_count": 25,
     "metadata": {},
     "output_type": "execute_result"
    }
   ],
   "source": [
    "2.**1023."
   ]
  },
  {
   "cell_type": "code",
   "execution_count": 26,
   "id": "3bc331fc",
   "metadata": {
    "execution": {
     "iopub.execute_input": "2021-09-09T12:09:07.148741Z",
     "iopub.status.busy": "2021-09-09T12:09:07.148338Z",
     "iopub.status.idle": "2021-09-09T12:09:07.149978Z",
     "shell.execute_reply": "2021-09-09T12:09:07.150279Z"
    }
   },
   "outputs": [
    {
     "data": {
      "text/plain": [
       "- : float = infinity\n"
      ]
     },
     "execution_count": 26,
     "metadata": {},
     "output_type": "execute_result"
    }
   ],
   "source": [
    "2.**1024."
   ]
  },
  {
   "cell_type": "markdown",
   "id": "8242f383",
   "metadata": {
    "tags": []
   },
   "source": [
    "## Unit\n",
    "\n",
    "Il existe une valeur spéciale `()` qui signifie \"rien\" (un peu comme le None de Python). Le type de `()` est `unit`. Par exemple, afficher un entier avec `print_int` fait un effet de bord (affichage sur l'écran) mais ne renvoie pas de valeur :"
   ]
  },
  {
   "cell_type": "code",
   "execution_count": 27,
   "id": "631892fb",
   "metadata": {
    "execution": {
     "iopub.execute_input": "2021-09-09T12:09:07.151681Z",
     "iopub.status.busy": "2021-09-09T12:09:07.151284Z",
     "iopub.status.idle": "2021-09-09T12:09:07.152956Z",
     "shell.execute_reply": "2021-09-09T12:09:07.153259Z"
    }
   },
   "outputs": [
    {
     "data": {
      "text/plain": [
       "- : unit = ()\n"
      ]
     },
     "execution_count": 27,
     "metadata": {},
     "output_type": "execute_result"
    }
   ],
   "source": [
    "print_int 42"
   ]
  },
  {
   "cell_type": "markdown",
   "id": "cb76963f",
   "metadata": {},
   "source": [
    "Pour que le résultat s'affiche, il faut revenir à la ligne avec `print_newline` :"
   ]
  },
  {
   "cell_type": "code",
   "execution_count": 28,
   "id": "71336087",
   "metadata": {
    "execution": {
     "iopub.execute_input": "2021-09-09T12:09:07.154663Z",
     "iopub.status.busy": "2021-09-09T12:09:07.154264Z",
     "iopub.status.idle": "2021-09-09T12:09:07.155967Z",
     "shell.execute_reply": "2021-09-09T12:09:07.156273Z"
    }
   },
   "outputs": [
    {
     "data": {
      "text/plain": [
       "- : unit = ()\n"
      ]
     },
     "execution_count": 28,
     "metadata": {},
     "output_type": "execute_result"
    }
   ],
   "source": [
    "print_newline ()"
   ]
  },
  {
   "cell_type": "markdown",
   "id": "18c29199",
   "metadata": {},
   "source": [
    "On verra dans un prochain cours le fonctionnement plus détaillé de `print_newline`."
   ]
  },
  {
   "cell_type": "markdown",
   "id": "2cff67a5",
   "metadata": {},
   "source": [
    "Il aurait été possible de combiner ces deux instructions avec `;`, qui permet d'exécuter consécutivement plusieurs instructions :"
   ]
  },
  {
   "cell_type": "code",
   "execution_count": 29,
   "id": "7cf87963",
   "metadata": {
    "execution": {
     "iopub.execute_input": "2021-09-09T12:09:07.157924Z",
     "iopub.status.busy": "2021-09-09T12:09:07.157534Z",
     "iopub.status.idle": "2021-09-09T12:09:07.159281Z",
     "shell.execute_reply": "2021-09-09T12:09:07.159580Z"
    }
   },
   "outputs": [
    {
     "data": {
      "text/plain": [
       "- : unit = ()\n"
      ]
     },
     "execution_count": 29,
     "metadata": {},
     "output_type": "execute_result"
    }
   ],
   "source": [
    "print_int 31;\n",
    "print_newline ()"
   ]
  },
  {
   "cell_type": "markdown",
   "id": "4f75ff6c",
   "metadata": {},
   "source": [
    "`;;` est similaire à `;`, mais permet de séparer complètement plusieurs instructions, ce qui signifie que les variables définies avec `in` ne sont plus accessibles :"
   ]
  },
  {
   "cell_type": "code",
   "execution_count": 30,
   "id": "d7a23b56",
   "metadata": {
    "execution": {
     "iopub.execute_input": "2021-09-09T12:09:07.161173Z",
     "iopub.status.busy": "2021-09-09T12:09:07.160759Z",
     "iopub.status.idle": "2021-09-09T12:09:07.162415Z",
     "shell.execute_reply": "2021-09-09T12:09:07.162717Z"
    }
   },
   "outputs": [
    {
     "data": {
      "text/plain": [
       "- : int = 3\n"
      ]
     },
     "execution_count": 30,
     "metadata": {},
     "output_type": "execute_result"
    }
   ],
   "source": [
    "let a = 3 in\n",
    "print_int a;\n",
    "a (* a reste accessible : il est toujours dans le in *)"
   ]
  },
  {
   "cell_type": "code",
   "execution_count": 31,
   "id": "e227b54e",
   "metadata": {
    "execution": {
     "iopub.execute_input": "2021-09-09T12:09:07.164085Z",
     "iopub.status.busy": "2021-09-09T12:09:07.163684Z",
     "iopub.status.idle": "2021-09-09T12:09:07.166274Z",
     "shell.execute_reply": "2021-09-09T12:09:07.165926Z"
    }
   },
   "outputs": [
    {
     "data": {
      "text/plain": [
       "- : unit = ()\n"
      ]
     },
     "execution_count": 31,
     "metadata": {},
     "output_type": "execute_result"
    },
    {
     "data": {
      "text/plain": [
       "- : float = 2.\n"
      ]
     },
     "execution_count": 31,
     "metadata": {},
     "output_type": "execute_result"
    }
   ],
   "source": [
    "let a = 3 in\n",
    "print_int a;;\n",
    "a;; (* a n'est pas accessible ici *)"
   ]
  },
  {
   "cell_type": "markdown",
   "id": "0ffb5b11",
   "metadata": {
    "tags": []
   },
   "source": [
    "## Présentation du code\n",
    "\n",
    "Contrairement à Python, l'indentation du code n'a pas d'importance en OCaml. En effet les espaces et sauts de lignes sont ignorés :"
   ]
  },
  {
   "cell_type": "code",
   "execution_count": 32,
   "id": "06b7b483",
   "metadata": {
    "execution": {
     "iopub.execute_input": "2021-09-09T12:09:07.167667Z",
     "iopub.status.busy": "2021-09-09T12:09:07.167267Z",
     "iopub.status.idle": "2021-09-09T12:09:07.168821Z",
     "shell.execute_reply": "2021-09-09T12:09:07.169133Z"
    }
   },
   "outputs": [
    {
     "data": {
      "text/plain": [
       "val a : int = 6\n"
      ]
     },
     "execution_count": 32,
     "metadata": {},
     "output_type": "execute_result"
    }
   ],
   "source": [
    "let a \n",
    "  = \n",
    "      6 (* indentation n'importe comment *)"
   ]
  },
  {
   "cell_type": "markdown",
   "id": "03e784da",
   "metadata": {},
   "source": [
    "On veillera toutefois à écrire du code aussi clair et lisible que possible."
   ]
  },
  {
   "cell_type": "markdown",
   "id": "73f56e65",
   "metadata": {},
   "source": [
    "## Réferences\n",
    "\n",
    "Contrairement à ce que son nom l'indique, une variable définie comme on l'a fait jusqu'à maintenant est en fait... **constante** :"
   ]
  },
  {
   "cell_type": "code",
   "execution_count": 33,
   "id": "f73426e8",
   "metadata": {
    "execution": {
     "iopub.execute_input": "2021-09-09T12:09:07.170597Z",
     "iopub.status.busy": "2021-09-09T12:09:07.170196Z",
     "iopub.status.idle": "2021-09-09T12:09:07.174655Z",
     "shell.execute_reply": "2021-09-09T12:09:07.174975Z"
    }
   },
   "outputs": [
    {
     "data": {
      "text/plain": [
       "val x : int = 3\n"
      ]
     },
     "execution_count": 33,
     "metadata": {},
     "output_type": "execute_result"
    },
    {
     "data": {
      "text/plain": [
       "- : bool = false\n"
      ]
     },
     "execution_count": 33,
     "metadata": {},
     "output_type": "execute_result"
    }
   ],
   "source": [
    "let x = 3;;\n",
    "x = 4;; (* ceci ne MODIFIE pas x, mais teste si la valeur de x est 4 *)\n",
    "x;; (* x vaut toujours 3 : il ne peut pas être modifié *)"
   ]
  },
  {
   "cell_type": "markdown",
   "id": "4cffcfdb",
   "metadata": {},
   "source": [
    "Pour pouvoir modifier une variable, on peut utiliser une **référence**.\n",
    "Pour définir une référence on utilise `ref` :\n",
    "```ocaml\n",
    "let variable = ref valeur (* définition d'une référence *)\n",
    "```\n",
    "Pour modifier une référence on utilise `:=` :\n",
    "```ocaml\n",
    "variable := valeur (* modification d'une référence *)\n",
    "```\n",
    "Pour obtenir la valeur d'une référence on utilise `!` :\n",
    "```ocaml\n",
    "!variable (* donne la valeur d'une référence *)\n",
    "```"
   ]
  },
  {
   "cell_type": "code",
   "execution_count": 34,
   "id": "80daeba0",
   "metadata": {
    "execution": {
     "iopub.execute_input": "2021-09-09T12:09:07.176546Z",
     "iopub.status.busy": "2021-09-09T12:09:07.176157Z",
     "iopub.status.idle": "2021-09-09T12:09:07.179155Z",
     "shell.execute_reply": "2021-09-09T12:09:07.179484Z"
    },
    "tags": []
   },
   "outputs": [
    {
     "data": {
      "text/plain": [
       "val x : int ref = {contents = 3}\n"
      ]
     },
     "execution_count": 34,
     "metadata": {},
     "output_type": "execute_result"
    },
    {
     "data": {
      "text/plain": [
       "- : unit = ()\n"
      ]
     },
     "execution_count": 34,
     "metadata": {},
     "output_type": "execute_result"
    }
   ],
   "source": [
    "let x = ref 3;; (* définie une variable x qui \"pointe\" vers un emplacement mémoire contenant 3 *)\n",
    "x := 4;; (* modifie la valeur pointé par x avec := *)\n",
    "!x;; (* la valeur a bien été modifiée *)"
   ]
  },
  {
   "cell_type": "markdown",
   "id": "71389f1a",
   "metadata": {},
   "source": [
    "On remarque que l'instruction `x := 4` a pour valeur de retour `()` : c'est un effet de bord qui modifie `x` mais ne renvoie pas de résultat."
   ]
  },
  {
   "cell_type": "markdown",
   "id": "55b94915",
   "metadata": {},
   "source": [
    "**Exercice** : Que valent `!x` et `!y` après avoir exécuté le bout de code suivant? À quoi sert ce code?\n",
    "```ocaml\n",
    "let x = ref 5;;\n",
    "let y = ref 27;;\n",
    "x := !x + !y;\n",
    "y := !x - !y;\n",
    "x := !x - !y\n",
    "```"
   ]
  },
  {
   "cell_type": "code",
   "execution_count": 35,
   "id": "83f31915",
   "metadata": {
    "execution": {
     "iopub.execute_input": "2021-09-09T12:09:07.181122Z",
     "iopub.status.busy": "2021-09-09T12:09:07.180702Z",
     "iopub.status.idle": "2021-09-09T12:09:07.187317Z",
     "shell.execute_reply": "2021-09-09T12:09:07.186940Z"
    },
    "tags": [
     "cor"
    ]
   },
   "outputs": [
    {
     "data": {
      "text/plain": [
       "- : int * int = (27, 5)\n"
      ]
     },
     "execution_count": 35,
     "metadata": {},
     "output_type": "execute_result"
    }
   ],
   "source": [
    "let x = ref 5 in\n",
    "let y = ref 27 in\n",
    "x := !x + !y;\n",
    "y := !x - !y;\n",
    "x := !x - !y;\n",
    "!x, !y;; (* x vaut 27, y vaut 5 : ce bout de code échange les valeurs de x et y *)"
   ]
  },
  {
   "cell_type": "markdown",
   "id": "ec5cf7cc",
   "metadata": {},
   "source": [
    "**Remarque** : utiliser des `ref` rend souvent le code plus compliqué, on n'en utilisera que lorsque c'est nécessaire."
   ]
  }
 ],
 "metadata": {
  "kernelspec": {
   "display_name": "OCaml default",
   "language": "OCaml",
   "name": "ocaml-jupyter"
  },
  "language_info": {
   "codemirror_mode": "text/x-ocaml",
   "file_extension": ".ml",
   "mimetype": "text/x-ocaml",
   "name": "OCaml",
   "nbconverter_exporter": null,
   "pygments_lexer": "OCaml",
   "version": "4.08.1"
  },
  "title": "OCaml"
 },
 "nbformat": 4,
 "nbformat_minor": 5
}

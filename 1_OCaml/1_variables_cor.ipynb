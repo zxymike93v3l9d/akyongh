{
 "cells": [
  {
   "cell_type": "markdown",
   "id": "3df5ef2b",
   "metadata": {},
   "source": [
    "# Variables"
   ]
  },
  {
   "cell_type": "markdown",
   "id": "81757502",
   "metadata": {},
   "source": [
    "## Définition d'une variable\n",
    "\n",
    "Une variable possède 3 propriétés:  \n",
    "- un nom (exemple : `x`)  \n",
    "- une valeur (exemple : 42)  \n",
    "- un type (exemple : entier)\n",
    "\n",
    "En OCaml, on définit une variable de la façon suivante :\n",
    "```ocaml\n",
    "let variable = valeur\n",
    "```\n",
    "\n",
    "Par exemple, pour définir une variable `x` valant 42 :"
   ]
  },
  {
   "cell_type": "code",
   "execution_count": 1,
   "id": "6e863240",
   "metadata": {
    "execution": {
     "iopub.execute_input": "2021-09-11T11:44:17.580268Z",
     "iopub.status.busy": "2021-09-11T11:44:17.579601Z",
     "iopub.status.idle": "2021-09-11T11:44:17.582671Z",
     "shell.execute_reply": "2021-09-11T11:44:17.580770Z"
    },
    "tags": []
   },
   "outputs": [
    {
     "data": {
      "text/plain": [
       "val x : int = 42\n"
      ]
     },
     "execution_count": 1,
     "metadata": {},
     "output_type": "execute_result"
    }
   ],
   "source": [
    "let x = 42"
   ]
  },
  {
   "cell_type": "markdown",
   "id": "bf9c4a9f",
   "metadata": {},
   "source": [
    "OCaml nous répond que `x` a pour valeur 42 et est de type `int` (*integer*, c'est à dire entier).\n",
    "La variable `x` est ici définie globalement, c'est à dire accessible partout dans ce notebook.\n",
    "\n",
    "On peut alors faire des calculs avec la valeur de `x` :"
   ]
  },
  {
   "cell_type": "code",
   "execution_count": 2,
   "id": "bb370a1b",
   "metadata": {
    "execution": {
     "iopub.execute_input": "2021-09-11T11:44:17.585896Z",
     "iopub.status.busy": "2021-09-11T11:44:17.585396Z",
     "iopub.status.idle": "2021-09-11T11:44:17.588487Z",
     "shell.execute_reply": "2021-09-11T11:44:17.588093Z"
    },
    "tags": []
   },
   "outputs": [
    {
     "data": {
      "text/plain": [
       "- : int = 124\n"
      ]
     },
     "execution_count": 2,
     "metadata": {},
     "output_type": "execute_result"
    }
   ],
   "source": [
    "3*x - 2 (* OCaml remplace x par 42 et fait le calcul *)"
   ]
  },
  {
   "cell_type": "markdown",
   "id": "7c89c544",
   "metadata": {},
   "source": [
    "Il est possible d'avoir une expression (un calcul) à droite d'une définition :"
   ]
  },
  {
   "cell_type": "code",
   "execution_count": 3,
   "id": "65826839",
   "metadata": {
    "execution": {
     "iopub.execute_input": "2021-09-11T11:44:17.591388Z",
     "iopub.status.busy": "2021-09-11T11:44:17.589699Z",
     "iopub.status.idle": "2021-09-11T11:44:17.593525Z",
     "shell.execute_reply": "2021-09-11T11:44:17.592916Z"
    },
    "tags": []
   },
   "outputs": [
    {
     "data": {
      "text/plain": [
       "val a : int = 10\n"
      ]
     },
     "execution_count": 3,
     "metadata": {},
     "output_type": "execute_result"
    }
   ],
   "source": [
    "let a = 1 + 2 + 3 + 4 (* la valeur à droite de = est calculée puis mise dans a *)"
   ]
  },
  {
   "cell_type": "markdown",
   "id": "01983c09",
   "metadata": {},
   "source": [
    "**Exercice** : définissez une variable $a$ égale à 752. Puis définissez une variable $b$ égale à $54a$.    \n",
    "Rappel : vous pouvez appuyer sur la touche B pour faire apparaître une case de code et répondre dedans. Ici vous pouvez utiliser deux cases, ou séparer les deux instructions avec ` ;;`."
   ]
  },
  {
   "cell_type": "code",
   "execution_count": 4,
   "id": "1418af88",
   "metadata": {
    "execution": {
     "iopub.execute_input": "2021-09-11T11:44:17.595422Z",
     "iopub.status.busy": "2021-09-11T11:44:17.594941Z",
     "iopub.status.idle": "2021-09-11T11:44:17.597680Z",
     "shell.execute_reply": "2021-09-11T11:44:17.597142Z"
    },
    "tags": [
     "cor"
    ]
   },
   "outputs": [
    {
     "data": {
      "text/plain": [
       "val a : int = 752\n"
      ]
     },
     "execution_count": 4,
     "metadata": {},
     "output_type": "execute_result"
    }
   ],
   "source": [
    "let a = 752;;\n",
    "let b = 54*a;;"
   ]
  },
  {
   "cell_type": "markdown",
   "id": "6bc06f06",
   "metadata": {},
   "source": [
    "## Variables locales\n",
    "\n",
    "Il est possible de définir une **variable locale** en utilisant la forme `let y = ... in ...`  \n",
    "`y` existe est alors seulement dans le in (`...`)"
   ]
  },
  {
   "cell_type": "code",
   "execution_count": 5,
   "id": "8b559631",
   "metadata": {
    "execution": {
     "iopub.execute_input": "2021-09-11T11:44:17.600200Z",
     "iopub.status.busy": "2021-09-11T11:44:17.599417Z",
     "iopub.status.idle": "2021-09-11T11:44:17.602225Z",
     "shell.execute_reply": "2021-09-11T11:44:17.600703Z"
    },
    "tags": []
   },
   "outputs": [
    {
     "data": {
      "text/plain": [
       "- : int = -1\n"
      ]
     },
     "execution_count": 5,
     "metadata": {},
     "output_type": "execute_result"
    }
   ],
   "source": [
    "let y = -1 in y (* y est accessible dans le in *)"
   ]
  },
  {
   "cell_type": "code",
   "execution_count": 6,
   "id": "94b6bb9a",
   "metadata": {
    "execution": {
     "iopub.execute_input": "2021-09-11T11:44:17.604716Z",
     "iopub.status.busy": "2021-09-11T11:44:17.603870Z",
     "iopub.status.idle": "2021-09-11T11:44:17.607226Z",
     "shell.execute_reply": "2021-09-11T11:44:17.606388Z"
    },
    "tags": []
   },
   "outputs": [
    {
     "ename": "error",
     "evalue": "compile_error",
     "output_type": "error",
     "traceback": [
      "File \"[6]\", line 1, characters 0-1:\n1 | y (* utiliser y ici donne une erreur  *)\n    ^\nError: Unbound value y\n"
     ]
    }
   ],
   "source": [
    "y (* utiliser y ici donne une erreur  *)"
   ]
  },
  {
   "cell_type": "markdown",
   "id": "b616b9c5",
   "metadata": {
    "tags": []
   },
   "source": [
    "**Exercice** : en utilisant `let ... in ... `, définissez une variable $a$ égale à $752$, puis définissez une variable $b$ égale à $54a$.    "
   ]
  },
  {
   "cell_type": "code",
   "execution_count": 7,
   "id": "ce4b22f9",
   "metadata": {
    "execution": {
     "iopub.execute_input": "2021-09-11T11:44:17.609147Z",
     "iopub.status.busy": "2021-09-11T11:44:17.608537Z",
     "iopub.status.idle": "2021-09-11T11:44:17.611167Z",
     "shell.execute_reply": "2021-09-11T11:44:17.610746Z"
    },
    "tags": [
     "cor"
    ]
   },
   "outputs": [
    {
     "data": {
      "text/plain": [
       "- : int = 40608\n"
      ]
     },
     "execution_count": 7,
     "metadata": {},
     "output_type": "execute_result"
    }
   ],
   "source": [
    "let a = 752 in\n",
    "let b = 54*a in\n",
    "b"
   ]
  },
  {
   "cell_type": "markdown",
   "id": "b23f738a",
   "metadata": {},
   "source": [
    "**Remarque** Il est possible d'utiliser des parenthèses ou `begin ... end` pour délimiter le in :\n",
    "```ocaml\n",
    "let a = 3 in\n",
    "(\n",
    "...\n",
    ")\n",
    "```"
   ]
  },
  {
   "cell_type": "markdown",
   "id": "f94cdf55",
   "metadata": {
    "tags": []
   },
   "source": [
    "\n",
    "## Opérations numériques\n",
    "\n",
    "Nous avons déjà vu l'addition et la soustraction de 2 entiers. Il est aussi possible de multiplier :"
   ]
  },
  {
   "cell_type": "code",
   "execution_count": 8,
   "id": "300650ad",
   "metadata": {
    "execution": {
     "iopub.execute_input": "2021-09-11T11:44:17.613692Z",
     "iopub.status.busy": "2021-09-11T11:44:17.612992Z",
     "iopub.status.idle": "2021-09-11T11:44:17.615712Z",
     "shell.execute_reply": "2021-09-11T11:44:17.615115Z"
    }
   },
   "outputs": [
    {
     "data": {
      "text/plain": [
       "- : int = 42\n"
      ]
     },
     "execution_count": 8,
     "metadata": {},
     "output_type": "execute_result"
    }
   ],
   "source": [
    "3 * 14"
   ]
  },
  {
   "cell_type": "markdown",
   "id": "1173f7ac",
   "metadata": {},
   "source": [
    "On peut effectuer la division **entière** (ou encore : [quotient de la division euclidienne](https://fr.wikipedia.org/wiki/Division_euclidienne)) de 2 entiers :"
   ]
  },
  {
   "cell_type": "code",
   "execution_count": 9,
   "id": "86952869",
   "metadata": {
    "execution": {
     "iopub.execute_input": "2021-09-11T11:44:17.617612Z",
     "iopub.status.busy": "2021-09-11T11:44:17.616990Z",
     "iopub.status.idle": "2021-09-11T11:44:17.619212Z",
     "shell.execute_reply": "2021-09-11T11:44:17.618794Z"
    }
   },
   "outputs": [
    {
     "data": {
      "text/plain": [
       "- : int = 1\n"
      ]
     },
     "execution_count": 9,
     "metadata": {},
     "output_type": "execute_result"
    }
   ],
   "source": [
    "3 / 2 (* division entière *)"
   ]
  },
  {
   "cell_type": "markdown",
   "id": "2e358d83",
   "metadata": {},
   "source": [
    "La division entière de $x$ par $y$ est, par définition, la partie entière de $\\frac{x}{y}$.  \n",
    "Dans l'exemple ci-dessus, `3 / 2` est donc la partie entière de $\\frac{3}{2} = 1.5$, c'est à dire $1$. \n",
    "\n",
    "**Attention** : la division entière ` 3 / 2`  en OCaml correspond à ` 3 // 2 ` en Python."
   ]
  },
  {
   "cell_type": "markdown",
   "id": "1aa30664",
   "metadata": {},
   "source": [
    "En plus des entiers (`int`), OCaml permet de définir des nombres à virgules (`float`, pour flottant) :"
   ]
  },
  {
   "cell_type": "code",
   "execution_count": 10,
   "id": "adbf1739",
   "metadata": {
    "execution": {
     "iopub.execute_input": "2021-09-11T11:44:17.621262Z",
     "iopub.status.busy": "2021-09-11T11:44:17.620506Z",
     "iopub.status.idle": "2021-09-11T11:44:17.623366Z",
     "shell.execute_reply": "2021-09-11T11:44:17.622727Z"
    }
   },
   "outputs": [
    {
     "data": {
      "text/plain": [
       "val pi : float = 3.141592\n"
      ]
     },
     "execution_count": 10,
     "metadata": {},
     "output_type": "execute_result"
    }
   ],
   "source": [
    "let pi = 3.141592"
   ]
  },
  {
   "cell_type": "markdown",
   "id": "5a9eaee1",
   "metadata": {},
   "source": [
    "Les opérateurs d'addition, soustraction, multiplication, division doivent s'utiliser avec un `.` (point). Par exemple :"
   ]
  },
  {
   "cell_type": "code",
   "execution_count": 11,
   "id": "092c20f5",
   "metadata": {
    "execution": {
     "iopub.execute_input": "2021-09-11T11:44:17.625384Z",
     "iopub.status.busy": "2021-09-11T11:44:17.624812Z",
     "iopub.status.idle": "2021-09-11T11:44:17.627828Z",
     "shell.execute_reply": "2021-09-11T11:44:17.627430Z"
    }
   },
   "outputs": [
    {
     "data": {
      "text/plain": [
       "- : float = 5.759592\n"
      ]
     },
     "execution_count": 11,
     "metadata": {},
     "output_type": "execute_result"
    }
   ],
   "source": [
    "pi +. 2.618 (* noter le . après + *)"
   ]
  },
  {
   "cell_type": "markdown",
   "id": "728b3e8d",
   "metadata": {},
   "source": [
    "**Attention** : c'est le point (.) et non pas la virgule qui est utilisé pour les flottants."
   ]
  },
  {
   "cell_type": "markdown",
   "id": "d87577ca",
   "metadata": {},
   "source": [
    "Il est possible de calculer $x^y$, où $x$ et $y$ sont des **flottants** avec `**` :"
   ]
  },
  {
   "cell_type": "code",
   "execution_count": 12,
   "id": "09a49e13",
   "metadata": {
    "execution": {
     "iopub.execute_input": "2021-09-11T11:44:17.630118Z",
     "iopub.status.busy": "2021-09-11T11:44:17.629454Z",
     "iopub.status.idle": "2021-09-11T11:44:17.633894Z",
     "shell.execute_reply": "2021-09-11T11:44:17.634387Z"
    }
   },
   "outputs": [
    {
     "data": {
      "text/plain": [
       "- : float = 23.0963461891915607\n"
      ]
     },
     "execution_count": 12,
     "metadata": {},
     "output_type": "execute_result"
    }
   ],
   "source": [
    "2.718 ** 3.14 (* x puissance y *)"
   ]
  },
  {
   "cell_type": "markdown",
   "id": "b29318a7",
   "metadata": {},
   "source": [
    "Il n'est pas possible d'utiliser `**` sur des `int`. Par contre on peut utiliser 4.0 ou 4. au lieu de 4 pour avoir des flottants et utiliser `**` : "
   ]
  },
  {
   "cell_type": "code",
   "execution_count": 13,
   "id": "89a299f2",
   "metadata": {
    "execution": {
     "iopub.execute_input": "2021-09-11T11:44:17.637077Z",
     "iopub.status.busy": "2021-09-11T11:44:17.636608Z",
     "iopub.status.idle": "2021-09-11T11:44:17.638585Z",
     "shell.execute_reply": "2021-09-11T11:44:17.638161Z"
    }
   },
   "outputs": [
    {
     "data": {
      "text/plain": [
       "- : float = 1024.\n"
      ]
     },
     "execution_count": 13,
     "metadata": {},
     "output_type": "execute_result"
    }
   ],
   "source": [
    "2. ** 10."
   ]
  },
  {
   "cell_type": "markdown",
   "id": "68509663",
   "metadata": {},
   "source": [
    "**Exercice**\n",
    "1. Stocker la valeur $42^2$ dans une variable $a$, en utilisant `*`.\n",
    "2. En déduire la valeur de $42^4$.\n",
    "3. Calculer la valeur de $2^{10}$ en utilisant le moins de multiplications possibles."
   ]
  },
  {
   "cell_type": "code",
   "execution_count": 14,
   "id": "69b9f4e2",
   "metadata": {
    "execution": {
     "iopub.execute_input": "2021-09-11T11:44:17.640136Z",
     "iopub.status.busy": "2021-09-11T11:44:17.639679Z",
     "iopub.status.idle": "2021-09-11T11:44:17.643574Z",
     "shell.execute_reply": "2021-09-11T11:44:17.644119Z"
    },
    "tags": [
     "cor"
    ]
   },
   "outputs": [
    {
     "data": {
      "text/plain": [
       "val a : int = 1764\n"
      ]
     },
     "execution_count": 14,
     "metadata": {},
     "output_type": "execute_result"
    }
   ],
   "source": [
    "(* 1. *) \n",
    "let a = 42*42;;\n",
    "\n",
    "\n",
    "(* 2. *)\n",
    "a*a;;\n",
    "\n",
    "(* 3. *)\n",
    "let deux_puiss_2 = 2*2 in\n",
    "let deux_puiss_4 = deux_puiss_2*deux_puiss_2 in\n",
    "let deux_puiss_8 = deux_puiss_4*deux_puiss_4 in\n",
    "deux_puiss_8 * deux_puiss_2;; (* calcul de 2 puissance 10 en 4 multiplications *)"
   ]
  },
  {
   "cell_type": "markdown",
   "id": "40a857a6",
   "metadata": {},
   "source": [
    "**Exercice**\n",
    "\n",
    "1. Stocker dans 3 variables $a$, $b$, $c$ les valeurs 2, 5 et 3. On pourra utiliser let a, b, c = ..., ..., ... pour définir 3 variable simultanément. \n",
    "2. Stocker dans une variable $delta$ le discriminant de l'équation $ax^2 + bx + c = 0$.\n",
    "3. Calculer toutes les solutions de l'équation précédente."
   ]
  },
  {
   "cell_type": "code",
   "execution_count": 15,
   "id": "a79e7f49",
   "metadata": {
    "execution": {
     "iopub.execute_input": "2021-09-11T11:44:17.646982Z",
     "iopub.status.busy": "2021-09-11T11:44:17.646457Z",
     "iopub.status.idle": "2021-09-11T11:44:17.649545Z",
     "shell.execute_reply": "2021-09-11T11:44:17.649130Z"
    },
    "tags": [
     "cor"
    ]
   },
   "outputs": [
    {
     "data": {
      "text/plain": [
       "val a : float = 2.\n",
       "val b : float = 6.\n",
       "val c : float = 3.\n"
      ]
     },
     "execution_count": 15,
     "metadata": {},
     "output_type": "execute_result"
    }
   ],
   "source": [
    "(* 1. *)\n",
    "let a, b, c = 2., 6., 3.;;"
   ]
  },
  {
   "cell_type": "code",
   "execution_count": 16,
   "id": "a6605ce3",
   "metadata": {
    "execution": {
     "iopub.execute_input": "2021-09-11T11:44:17.651463Z",
     "iopub.status.busy": "2021-09-11T11:44:17.650890Z",
     "iopub.status.idle": "2021-09-11T11:44:17.653348Z",
     "shell.execute_reply": "2021-09-11T11:44:17.653733Z"
    },
    "tags": [
     "cor"
    ]
   },
   "outputs": [
    {
     "data": {
      "text/plain": [
       "val delta : float = 12.\n"
      ]
     },
     "execution_count": 16,
     "metadata": {},
     "output_type": "execute_result"
    }
   ],
   "source": [
    "(* 2. *)\n",
    "let delta = b**2. -. 4.*.a*.c;;"
   ]
  },
  {
   "cell_type": "code",
   "execution_count": 17,
   "id": "d86efe43",
   "metadata": {
    "execution": {
     "iopub.execute_input": "2021-09-11T11:44:17.655481Z",
     "iopub.status.busy": "2021-09-11T11:44:17.655030Z",
     "iopub.status.idle": "2021-09-11T11:44:17.659555Z",
     "shell.execute_reply": "2021-09-11T11:44:17.659035Z"
    },
    "tags": [
     "cor"
    ]
   },
   "outputs": [
    {
     "data": {
      "text/plain": [
       "- : float = -2.36602540378443837\n"
      ]
     },
     "execution_count": 17,
     "metadata": {},
     "output_type": "execute_result"
    },
    {
     "data": {
      "text/plain": [
       "- : float = -0.633974596215561403\n"
      ]
     },
     "execution_count": 17,
     "metadata": {},
     "output_type": "execute_result"
    }
   ],
   "source": [
    "(* 3. Le discriminant étant positif, il y a deux solutions égales à : *)\n",
    "(-.b -. sqrt delta)/.(2.*.a);;\n",
    "(-.b +. sqrt delta)/.(2.*.a);;"
   ]
  },
  {
   "cell_type": "markdown",
   "id": "222172fd",
   "metadata": {},
   "source": [
    "Une autre opération importante est le **modulo** (ou : [reste de la division euclidienne](https://fr.wikipedia.org/wiki/Division_euclidienne)) de 2 entiers `a` et `b`, notée `a mod b` en OCaml. Mathématiquement, il s'agit de l'entier $r$ vérifiant :\n",
    "$$a = bq + r$$\n",
    "$$0 \\leq r < b$$\n",
    "\n",
    "($q$ est le quotient, égal à `a / b` en OCaml)  \n",
    "Cette opération `mod` sert notamment à tester la divisibilité : `a` est divisible par `b` si et seulement si `a mod b = 0`."
   ]
  },
  {
   "cell_type": "markdown",
   "id": "72c60372",
   "metadata": {},
   "source": [
    "**Exercice** : Est-ce que 527 est divisible par 17?"
   ]
  },
  {
   "cell_type": "code",
   "execution_count": 18,
   "id": "5b742077",
   "metadata": {
    "execution": {
     "iopub.execute_input": "2021-09-11T11:44:17.661601Z",
     "iopub.status.busy": "2021-09-11T11:44:17.661096Z",
     "iopub.status.idle": "2021-09-11T11:44:17.663044Z",
     "shell.execute_reply": "2021-09-11T11:44:17.663419Z"
    },
    "tags": [
     "cor"
    ]
   },
   "outputs": [
    {
     "data": {
      "text/plain": [
       "- : int = 0\n"
      ]
     },
     "execution_count": 18,
     "metadata": {},
     "output_type": "execute_result"
    }
   ],
   "source": [
    "527 mod 17 (* c'est égal à 0 donc 17 divise bien 527 *)"
   ]
  },
  {
   "cell_type": "markdown",
   "id": "ebd01015",
   "metadata": {},
   "source": [
    "## Overflow\n",
    "\n",
    "L'ordinateur stocke toutes les variables dans la mémoire RAM de l'ordinateur, en binaire (suite de 0 et de 1). Comme la mémoire RAM sur un ordinateur n'est pas infinie, on ne peut pas stocker des nombres de taille arbitraire.  \n",
    "`max_int` est le plus grand entier que l'on peut stocker dans une variable :"
   ]
  },
  {
   "cell_type": "code",
   "execution_count": 19,
   "id": "f7eb378d",
   "metadata": {
    "execution": {
     "iopub.execute_input": "2021-09-11T11:44:17.664955Z",
     "iopub.status.busy": "2021-09-11T11:44:17.664507Z",
     "iopub.status.idle": "2021-09-11T11:44:17.666891Z",
     "shell.execute_reply": "2021-09-11T11:44:17.666318Z"
    }
   },
   "outputs": [
    {
     "data": {
      "text/plain": [
       "- : int = 4611686018427387903\n"
      ]
     },
     "execution_count": 19,
     "metadata": {},
     "output_type": "execute_result"
    }
   ],
   "source": [
    "max_int"
   ]
  },
  {
   "cell_type": "markdown",
   "id": "2c0d5025",
   "metadata": {},
   "source": [
    "Si on dépasse cet entier (ce qu'on appelle **integer overflow**), on tombe sur le plus petit entier représentable :"
   ]
  },
  {
   "cell_type": "code",
   "execution_count": 20,
   "id": "1846de0d",
   "metadata": {
    "execution": {
     "iopub.execute_input": "2021-09-11T11:44:17.668699Z",
     "iopub.status.busy": "2021-09-11T11:44:17.668209Z",
     "iopub.status.idle": "2021-09-11T11:44:17.669896Z",
     "shell.execute_reply": "2021-09-11T11:44:17.670285Z"
    },
    "tags": []
   },
   "outputs": [
    {
     "data": {
      "text/plain": [
       "- : int = -4611686018427387904\n"
      ]
     },
     "execution_count": 20,
     "metadata": {},
     "output_type": "execute_result"
    }
   ],
   "source": [
    "max_int + 1"
   ]
  },
  {
   "cell_type": "markdown",
   "id": "c1501f83",
   "metadata": {},
   "source": [
    "Le dépassement d'entier est une source fréquente de bug, qui a causé par exemple le [crash de la fusée Ariane 5](https://fr.wikipedia.org/wiki/Vol_501_d%27Ariane_5)."
   ]
  },
  {
   "cell_type": "markdown",
   "id": "0e37e0fe",
   "metadata": {},
   "source": [
    "Les float sont également limités :"
   ]
  },
  {
   "cell_type": "code",
   "execution_count": 21,
   "id": "e8b05429",
   "metadata": {
    "execution": {
     "iopub.execute_input": "2021-09-11T11:44:17.672423Z",
     "iopub.status.busy": "2021-09-11T11:44:17.671727Z",
     "iopub.status.idle": "2021-09-11T11:44:17.674232Z",
     "shell.execute_reply": "2021-09-11T11:44:17.673764Z"
    }
   },
   "outputs": [
    {
     "data": {
      "text/plain": [
       "- : float = 1.79769313486231571e+308\n"
      ]
     },
     "execution_count": 21,
     "metadata": {},
     "output_type": "execute_result"
    }
   ],
   "source": [
    "max_float"
   ]
  },
  {
   "cell_type": "markdown",
   "id": "fc222d44",
   "metadata": {},
   "source": [
    "Les flottants sont codées suivant la norme [IEEE754](https://fr.wikipedia.org/wiki/IEEE_754) sous la forme scientifique en utilisant 64 bits (sur un processeur 64 bits) dont 52 bits pour les chiffres après la virgule.  \n",
    "La précision des flottants est donc limitée : par exemple, on ne peut pas stocker $\\sqrt{2}$ ou $\\pi$ de façon exacte sur l'ordinateur puisqu'il s'agit de nombres irrationnels (c'est à dire avec une infinité de décimales, qui ne se répètent pas).  "
   ]
  },
  {
   "cell_type": "code",
   "execution_count": 22,
   "id": "d5bcb2df",
   "metadata": {
    "execution": {
     "iopub.execute_input": "2021-09-11T11:44:17.676434Z",
     "iopub.status.busy": "2021-09-11T11:44:17.675847Z",
     "iopub.status.idle": "2021-09-11T11:44:17.677687Z",
     "shell.execute_reply": "2021-09-11T11:44:17.678123Z"
    }
   },
   "outputs": [
    {
     "data": {
      "text/plain": [
       "- : float = 1.41421356237309515\n"
      ]
     },
     "execution_count": 22,
     "metadata": {},
     "output_type": "execute_result"
    }
   ],
   "source": [
    "2.**0.5 (* seulement une partie des décimales est stockée *)"
   ]
  },
  {
   "cell_type": "code",
   "execution_count": 23,
   "id": "13167dfc",
   "metadata": {
    "execution": {
     "iopub.execute_input": "2021-09-11T11:44:17.679857Z",
     "iopub.status.busy": "2021-09-11T11:44:17.679308Z",
     "iopub.status.idle": "2021-09-11T11:44:17.682254Z",
     "shell.execute_reply": "2021-09-11T11:44:17.681645Z"
    }
   },
   "outputs": [
    {
     "data": {
      "text/plain": [
       "- : float = 2.00000000000000044\n"
      ]
     },
     "execution_count": 23,
     "metadata": {},
     "output_type": "execute_result"
    }
   ],
   "source": [
    "(2.**0.5)**2.0  (* ne donne pas 2.0 à cause des erreurs d'arrondis *)"
   ]
  },
  {
   "cell_type": "markdown",
   "id": "f6ab69ed",
   "metadata": {},
   "source": [
    "Le calcul de $\\sqrt 2$ par OCaml s'arrête à la 16ème décimale (ce qui correspond à 52 bits après la virgules, puisque $2^{-52}$ est du même ordre de grandeur que $10^{-16}$). Ce nombre $2^{-52}$ est appelé **epsilon machine**."
   ]
  },
  {
   "cell_type": "markdown",
   "id": "4adad52b",
   "metadata": {},
   "source": [
    "Autre exemple :"
   ]
  },
  {
   "cell_type": "code",
   "execution_count": 24,
   "id": "8fe2983c",
   "metadata": {
    "execution": {
     "iopub.execute_input": "2021-09-11T11:44:17.684257Z",
     "iopub.status.busy": "2021-09-11T11:44:17.683665Z",
     "iopub.status.idle": "2021-09-11T11:44:17.685347Z",
     "shell.execute_reply": "2021-09-11T11:44:17.685722Z"
    }
   },
   "outputs": [
    {
     "data": {
      "text/plain": [
       "- : float = 0.300000000000000044\n"
      ]
     },
     "execution_count": 24,
     "metadata": {},
     "output_type": "execute_result"
    }
   ],
   "source": [
    "0.1 +. 0.2  (* ne donne pas 0.3 *)"
   ]
  },
  {
   "cell_type": "markdown",
   "id": "0df5fd42",
   "metadata": {},
   "source": [
    "`O.1` n'étant pas représentable de façon exacte en base 2, il est tronqué et engendre des erreurs d'arrondis."
   ]
  },
  {
   "cell_type": "markdown",
   "id": "c16dd0e6",
   "metadata": {},
   "source": [
    "La plus grande valeur de l'exposant est 1023 :"
   ]
  },
  {
   "cell_type": "code",
   "execution_count": 25,
   "id": "eec5b603",
   "metadata": {
    "execution": {
     "iopub.execute_input": "2021-09-11T11:44:17.687426Z",
     "iopub.status.busy": "2021-09-11T11:44:17.686979Z",
     "iopub.status.idle": "2021-09-11T11:44:17.688731Z",
     "shell.execute_reply": "2021-09-11T11:44:17.689243Z"
    }
   },
   "outputs": [
    {
     "data": {
      "text/plain": [
       "- : float = 8.98846567431158e+307\n"
      ]
     },
     "execution_count": 25,
     "metadata": {},
     "output_type": "execute_result"
    }
   ],
   "source": [
    "2.**1023."
   ]
  },
  {
   "cell_type": "code",
   "execution_count": 26,
   "id": "666cd4a0",
   "metadata": {
    "execution": {
     "iopub.execute_input": "2021-09-11T11:44:17.691205Z",
     "iopub.status.busy": "2021-09-11T11:44:17.690584Z",
     "iopub.status.idle": "2021-09-11T11:44:17.694029Z",
     "shell.execute_reply": "2021-09-11T11:44:17.694505Z"
    }
   },
   "outputs": [
    {
     "data": {
      "text/plain": [
       "- : float = infinity\n"
      ]
     },
     "execution_count": 26,
     "metadata": {},
     "output_type": "execute_result"
    }
   ],
   "source": [
    "2.**1024."
   ]
  },
  {
   "cell_type": "markdown",
   "id": "de95876e",
   "metadata": {
    "tags": []
   },
   "source": [
    "## Unit\n",
    "\n",
    "Il existe une valeur spéciale `()` qui signifie \"rien\" (un peu comme le None de Python). Le type de `()` est `unit`. Par exemple, afficher un entier avec `print_int` fait un effet de bord (affichage sur l'écran) mais ne renvoie pas de valeur :"
   ]
  },
  {
   "cell_type": "code",
   "execution_count": 27,
   "id": "0297fea6",
   "metadata": {
    "execution": {
     "iopub.execute_input": "2021-09-11T11:44:17.696847Z",
     "iopub.status.busy": "2021-09-11T11:44:17.696134Z",
     "iopub.status.idle": "2021-09-11T11:44:17.698165Z",
     "shell.execute_reply": "2021-09-11T11:44:17.698580Z"
    }
   },
   "outputs": [
    {
     "data": {
      "text/plain": [
       "- : unit = ()\n"
      ]
     },
     "execution_count": 27,
     "metadata": {},
     "output_type": "execute_result"
    }
   ],
   "source": [
    "print_int 42"
   ]
  },
  {
   "cell_type": "markdown",
   "id": "38c7a552",
   "metadata": {},
   "source": [
    "Pour que le résultat s'affiche, il faut revenir à la ligne avec `print_newline` :"
   ]
  },
  {
   "cell_type": "code",
   "execution_count": 28,
   "id": "8cc25882",
   "metadata": {
    "execution": {
     "iopub.execute_input": "2021-09-11T11:44:17.700161Z",
     "iopub.status.busy": "2021-09-11T11:44:17.699701Z",
     "iopub.status.idle": "2021-09-11T11:44:17.703083Z",
     "shell.execute_reply": "2021-09-11T11:44:17.702409Z"
    }
   },
   "outputs": [
    {
     "name": "stdout",
     "output_type": "stream",
     "text": [
      "42\n"
     ]
    },
    {
     "data": {
      "text/plain": [
       "- : unit = ()\n"
      ]
     },
     "execution_count": 28,
     "metadata": {},
     "output_type": "execute_result"
    }
   ],
   "source": [
    "print_newline ()"
   ]
  },
  {
   "cell_type": "markdown",
   "id": "286f238c",
   "metadata": {},
   "source": [
    "On verra dans un prochain cours le fonctionnement plus détaillé de `print_newline`."
   ]
  },
  {
   "cell_type": "markdown",
   "id": "5e205e21",
   "metadata": {},
   "source": [
    "Il aurait été possible de combiner ces deux instructions avec `;`, qui permet d'exécuter consécutivement plusieurs instructions :"
   ]
  },
  {
   "cell_type": "code",
   "execution_count": 29,
   "id": "23f79f60",
   "metadata": {
    "execution": {
     "iopub.execute_input": "2021-09-11T11:44:17.704847Z",
     "iopub.status.busy": "2021-09-11T11:44:17.704380Z",
     "iopub.status.idle": "2021-09-11T11:44:17.707215Z",
     "shell.execute_reply": "2021-09-11T11:44:17.707741Z"
    }
   },
   "outputs": [
    {
     "name": "stdout",
     "output_type": "stream",
     "text": [
      "31\n"
     ]
    },
    {
     "data": {
      "text/plain": [
       "- : unit = ()\n"
      ]
     },
     "execution_count": 29,
     "metadata": {},
     "output_type": "execute_result"
    }
   ],
   "source": [
    "print_int 31;\n",
    "print_newline ()"
   ]
  },
  {
   "cell_type": "markdown",
   "id": "d8359f90",
   "metadata": {},
   "source": [
    "`;;` est similaire à `;`, mais permet de séparer complètement plusieurs instructions, ce qui signifie que les variables définies avec `in` ne sont plus accessibles :"
   ]
  },
  {
   "cell_type": "code",
   "execution_count": 30,
   "id": "9ed93bb2",
   "metadata": {
    "execution": {
     "iopub.execute_input": "2021-09-11T11:44:17.709472Z",
     "iopub.status.busy": "2021-09-11T11:44:17.709010Z",
     "iopub.status.idle": "2021-09-11T11:44:17.710866Z",
     "shell.execute_reply": "2021-09-11T11:44:17.711313Z"
    }
   },
   "outputs": [
    {
     "data": {
      "text/plain": [
       "- : int = 3\n"
      ]
     },
     "execution_count": 30,
     "metadata": {},
     "output_type": "execute_result"
    }
   ],
   "source": [
    "let a = 3 in\n",
    "print_int a;\n",
    "a (* a reste accessible : il est toujours dans le in *)"
   ]
  },
  {
   "cell_type": "code",
   "execution_count": 31,
   "id": "b97107f8",
   "metadata": {
    "execution": {
     "iopub.execute_input": "2021-09-11T11:44:17.713622Z",
     "iopub.status.busy": "2021-09-11T11:44:17.712980Z",
     "iopub.status.idle": "2021-09-11T11:44:17.715856Z",
     "shell.execute_reply": "2021-09-11T11:44:17.716327Z"
    }
   },
   "outputs": [
    {
     "data": {
      "text/plain": [
       "- : unit = ()\n"
      ]
     },
     "execution_count": 31,
     "metadata": {},
     "output_type": "execute_result"
    },
    {
     "data": {
      "text/plain": [
       "- : float = 2.\n"
      ]
     },
     "execution_count": 31,
     "metadata": {},
     "output_type": "execute_result"
    }
   ],
   "source": [
    "let a = 3 in\n",
    "print_int a;;\n",
    "a;; (* a n'est pas accessible ici *)"
   ]
  },
  {
   "cell_type": "markdown",
   "id": "2aa46919",
   "metadata": {
    "tags": []
   },
   "source": [
    "## Présentation du code\n",
    "\n",
    "Contrairement à Python, l'indentation du code n'a pas d'importance en OCaml. En effet les espaces et sauts de lignes sont ignorés :"
   ]
  },
  {
   "cell_type": "code",
   "execution_count": 32,
   "id": "01b97afe",
   "metadata": {
    "execution": {
     "iopub.execute_input": "2021-09-11T11:44:17.718021Z",
     "iopub.status.busy": "2021-09-11T11:44:17.717516Z",
     "iopub.status.idle": "2021-09-11T11:44:17.719606Z",
     "shell.execute_reply": "2021-09-11T11:44:17.719228Z"
    }
   },
   "outputs": [
    {
     "data": {
      "text/plain": [
       "val a : int = 6\n"
      ]
     },
     "execution_count": 32,
     "metadata": {},
     "output_type": "execute_result"
    }
   ],
   "source": [
    "let a \n",
    "  = \n",
    "      6 (* indentation n'importe comment *)"
   ]
  },
  {
   "cell_type": "markdown",
   "id": "e998b22e",
   "metadata": {},
   "source": [
    "On veillera toutefois à écrire du code aussi clair et lisible que possible."
   ]
  },
  {
   "cell_type": "markdown",
   "id": "6e4d2dde",
   "metadata": {},
   "source": [
    "## Réferences\n",
    "\n",
    "Contrairement à ce que son nom l'indique, une variable définie comme on l'a fait jusqu'à maintenant est en fait... **constante** :"
   ]
  },
  {
   "cell_type": "code",
   "execution_count": 33,
   "id": "a15b71a1",
   "metadata": {
    "execution": {
     "iopub.execute_input": "2021-09-11T11:44:17.721330Z",
     "iopub.status.busy": "2021-09-11T11:44:17.720804Z",
     "iopub.status.idle": "2021-09-11T11:44:17.727237Z",
     "shell.execute_reply": "2021-09-11T11:44:17.726793Z"
    }
   },
   "outputs": [
    {
     "data": {
      "text/plain": [
       "val x : int = 3\n"
      ]
     },
     "execution_count": 33,
     "metadata": {},
     "output_type": "execute_result"
    },
    {
     "data": {
      "text/plain": [
       "- : bool = false\n"
      ]
     },
     "execution_count": 33,
     "metadata": {},
     "output_type": "execute_result"
    },
    {
     "data": {
      "text/plain": [
       "- : int = 3\n"
      ]
     },
     "execution_count": 33,
     "metadata": {},
     "output_type": "execute_result"
    }
   ],
   "source": [
    "let x = 3;;\n",
    "x = 4;; (* ceci ne MODIFIE pas x, mais teste si la valeur de x est 4 *)\n",
    "x;; (* x vaut toujours 3 : il ne peut pas être modifié *)"
   ]
  },
  {
   "cell_type": "markdown",
   "id": "ec11ce76",
   "metadata": {},
   "source": [
    "Pour pouvoir modifier une variable, on peut utiliser une **référence**.\n",
    "Pour définir une référence on utilise `ref` :\n",
    "```ocaml\n",
    "let variable = ref valeur (* définition d'une référence *)\n",
    "```\n",
    "Pour modifier une référence on utilise `:=` :\n",
    "```ocaml\n",
    "variable := valeur (* modification d'une référence *)\n",
    "```\n",
    "Pour obtenir la valeur d'une référence on utilise `!` :\n",
    "```ocaml\n",
    "!variable (* donne la valeur d'une référence *)\n",
    "```"
   ]
  },
  {
   "cell_type": "code",
   "execution_count": 34,
   "id": "6b1275ed",
   "metadata": {
    "execution": {
     "iopub.execute_input": "2021-09-11T11:44:17.731189Z",
     "iopub.status.busy": "2021-09-11T11:44:17.730717Z",
     "iopub.status.idle": "2021-09-11T11:44:17.734682Z",
     "shell.execute_reply": "2021-09-11T11:44:17.732270Z"
    },
    "tags": []
   },
   "outputs": [
    {
     "data": {
      "text/plain": [
       "val x : int ref = {contents = 3}\n"
      ]
     },
     "execution_count": 34,
     "metadata": {},
     "output_type": "execute_result"
    },
    {
     "data": {
      "text/plain": [
       "- : unit = ()\n"
      ]
     },
     "execution_count": 34,
     "metadata": {},
     "output_type": "execute_result"
    },
    {
     "data": {
      "text/plain": [
       "- : int = 4\n"
      ]
     },
     "execution_count": 34,
     "metadata": {},
     "output_type": "execute_result"
    }
   ],
   "source": [
    "let x = ref 3;; (* définie une variable x qui \"pointe\" vers un emplacement mémoire contenant 3 *)\n",
    "x := 4;; (* modifie la valeur pointé par x avec := *)\n",
    "!x;; (* la valeur a bien été modifiée *)"
   ]
  },
  {
   "cell_type": "markdown",
   "id": "0effc1f7",
   "metadata": {},
   "source": [
    "On remarque que l'instruction `x := 4` a pour valeur de retour `()` : c'est un effet de bord qui modifie `x` mais ne renvoie pas de résultat."
   ]
  },
  {
   "cell_type": "markdown",
   "id": "9ce43036",
   "metadata": {},
   "source": [
    "Une référence `a` stocke en fait une adresse mémoire. La valeur de `a` est stockée dans cette adresse mémoire (et c'est cette valeur qui est modifiée avec `a := ...`).  \n",
    "**Remarque** : on reverra cette idée avec les pointeurs en C.\n",
    "\n",
    "<center><img src=img/ref.drawio.png width=300></center>"
   ]
  },
  {
   "cell_type": "markdown",
   "id": "7bef9c4d",
   "metadata": {},
   "source": [
    "**Exercice** : Que valent `!x` et `!y` après avoir exécuté le bout de code suivant? À quoi sert ce code?\n",
    "```ocaml\n",
    "let x = ref 5;;\n",
    "let y = ref 27;;\n",
    "x := !x + !y;\n",
    "y := !x - !y;\n",
    "x := !x - !y\n",
    "```"
   ]
  },
  {
   "cell_type": "code",
   "execution_count": 35,
   "id": "37aafd4a",
   "metadata": {
    "execution": {
     "iopub.execute_input": "2021-09-11T11:44:17.736625Z",
     "iopub.status.busy": "2021-09-11T11:44:17.736168Z",
     "iopub.status.idle": "2021-09-11T11:44:17.743402Z",
     "shell.execute_reply": "2021-09-11T11:44:17.742829Z"
    },
    "tags": [
     "cor"
    ]
   },
   "outputs": [
    {
     "data": {
      "text/plain": [
       "- : int * int = (27, 5)\n"
      ]
     },
     "execution_count": 35,
     "metadata": {},
     "output_type": "execute_result"
    }
   ],
   "source": [
    "let x = ref 5 in\n",
    "let y = ref 27 in\n",
    "x := !x + !y;\n",
    "y := !x - !y;\n",
    "x := !x - !y;\n",
    "!x, !y;; (* x vaut 27, y vaut 5 : ce bout de code échange les valeurs de x et y *)"
   ]
  },
  {
   "cell_type": "markdown",
   "id": "07034526",
   "metadata": {},
   "source": [
    "**Remarque** : utiliser des `ref` rend souvent le code plus compliqué, on n'en utilisera que lorsque c'est nécessaire."
   ]
  }
 ],
 "metadata": {
  "kernelspec": {
   "display_name": "OCaml default",
   "language": "OCaml",
   "name": "ocaml-jupyter"
  },
  "language_info": {
   "codemirror_mode": "text/x-ocaml",
   "file_extension": ".ml",
   "mimetype": "text/x-ocaml",
   "name": "OCaml",
   "nbconverter_exporter": null,
   "pygments_lexer": "OCaml",
   "version": "4.08.1"
  },
  "title": "OCaml"
 },
 "nbformat": 4,
 "nbformat_minor": 5
}

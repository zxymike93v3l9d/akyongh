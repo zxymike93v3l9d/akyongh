{
 "cells": [
  {
   "cell_type": "markdown",
   "id": "220f2a49",
   "metadata": {},
   "source": [
    "# Variables"
   ]
  },
  {
   "cell_type": "markdown",
   "id": "9ada2293",
   "metadata": {},
   "source": [
    "## Définition d'une variable\n",
    "\n",
    "Une variable possède 3 propriétés:  \n",
    "- un nom (exemple : `x`)  \n",
    "- une valeur (exemple : 42)  \n",
    "- un type (exemple : entier)\n",
    "\n",
    "En OCaml, on définit une variable de la façon suivante :\n",
    "```ocaml\n",
    "let variable = valeur\n",
    "```\n",
    "\n",
    "Par exemple, pour définir une variable `x` valant 42 :"
   ]
  },
  {
   "cell_type": "code",
   "execution_count": 1,
   "id": "bfe6bbb0",
   "metadata": {
    "execution": {
     "iopub.execute_input": "2021-09-09T12:14:51.440450Z",
     "iopub.status.busy": "2021-09-09T12:14:51.439886Z",
     "iopub.status.idle": "2021-09-09T12:14:51.442525Z",
     "shell.execute_reply": "2021-09-09T12:14:51.440988Z"
    },
    "tags": []
   },
   "outputs": [
    {
     "data": {
      "text/plain": [
       "val x : int = 42\n"
      ]
     },
     "execution_count": 1,
     "metadata": {},
     "output_type": "execute_result"
    }
   ],
   "source": [
    "let x = 42"
   ]
  },
  {
   "cell_type": "markdown",
   "id": "fa45ee3d",
   "metadata": {},
   "source": [
    "OCaml nous répond que `x` a pour valeur 42 et est de type `int` (*integer*, c'est à dire entier).\n",
    "La variable `x` est ici définie globalement, c'est à dire accessible partout dans ce notebook.\n",
    "\n",
    "On peut alors faire des calculs avec la valeur de `x` :"
   ]
  },
  {
   "cell_type": "code",
   "execution_count": 2,
   "id": "89d34b9b",
   "metadata": {
    "execution": {
     "iopub.execute_input": "2021-09-09T12:14:51.445196Z",
     "iopub.status.busy": "2021-09-09T12:14:51.444714Z",
     "iopub.status.idle": "2021-09-09T12:14:51.446440Z",
     "shell.execute_reply": "2021-09-09T12:14:51.447335Z"
    },
    "tags": []
   },
   "outputs": [
    {
     "data": {
      "text/plain": [
       "- : int = 124\n"
      ]
     },
     "execution_count": 2,
     "metadata": {},
     "output_type": "execute_result"
    }
   ],
   "source": [
    "3*x - 2 (* OCaml remplace x par 42 et fait le calcul *)"
   ]
  },
  {
   "cell_type": "markdown",
   "id": "59f8d11d",
   "metadata": {},
   "source": [
    "Il est possible d'avoir une expression (un calcul) à droite d'une définition :"
   ]
  },
  {
   "cell_type": "code",
   "execution_count": 3,
   "id": "d76a9ed6",
   "metadata": {
    "execution": {
     "iopub.execute_input": "2021-09-09T12:14:51.449357Z",
     "iopub.status.busy": "2021-09-09T12:14:51.448647Z",
     "iopub.status.idle": "2021-09-09T12:14:51.452022Z",
     "shell.execute_reply": "2021-09-09T12:14:51.451575Z"
    },
    "tags": []
   },
   "outputs": [
    {
     "data": {
      "text/plain": [
       "val a : int = 10\n"
      ]
     },
     "execution_count": 3,
     "metadata": {},
     "output_type": "execute_result"
    }
   ],
   "source": [
    "let a = 1 + 2 + 3 + 4 (* la valeur à droite de = est calculée puis mise dans a *)"
   ]
  },
  {
   "cell_type": "markdown",
   "id": "efa3a262",
   "metadata": {},
   "source": [
    "**Exercice** : définissez une variable $a$ égale à 752. Puis définissez une variable $b$ égale à $54a$.    \n",
    "Rappel : vous pouvez appuyer sur la touche B pour faire apparaître une case de code et répondre dedans. Ici vous pouvez utiliser deux cases, ou séparer les deux instructions avec ` ;;`."
   ]
  },
  {
   "cell_type": "code",
   "execution_count": 4,
   "id": "6317bbda",
   "metadata": {
    "execution": {
     "iopub.execute_input": "2021-09-09T12:14:51.454607Z",
     "iopub.status.busy": "2021-09-09T12:14:51.453246Z",
     "iopub.status.idle": "2021-09-09T12:14:51.456839Z",
     "shell.execute_reply": "2021-09-09T12:14:51.455790Z"
    },
    "tags": [
     "cor"
    ]
   },
   "outputs": [
    {
     "data": {
      "text/plain": [
       "val a : int = 752\n"
      ]
     },
     "execution_count": 4,
     "metadata": {},
     "output_type": "execute_result"
    },
    {
     "data": {
      "text/plain": [
       "val b : int = 40608\n"
      ]
     },
     "execution_count": 4,
     "metadata": {},
     "output_type": "execute_result"
    }
   ],
   "source": [
    "let a = 752;;\n",
    "let b = 54*a;;"
   ]
  },
  {
   "cell_type": "markdown",
   "id": "02a116b8",
   "metadata": {},
   "source": [
    "## Variables locales\n",
    "\n",
    "Il est possible de définir une variable locale en utilisant la forme `let y = ... in ...`  \n",
    "`y` existe est alors seulement dans le in (`...`)"
   ]
  },
  {
   "cell_type": "code",
   "execution_count": 5,
   "id": "eb3b0d38",
   "metadata": {
    "execution": {
     "iopub.execute_input": "2021-09-09T12:14:51.459047Z",
     "iopub.status.busy": "2021-09-09T12:14:51.458259Z",
     "iopub.status.idle": "2021-09-09T12:14:51.460628Z",
     "shell.execute_reply": "2021-09-09T12:14:51.460204Z"
    },
    "tags": []
   },
   "outputs": [
    {
     "data": {
      "text/plain": [
       "- : int = -1\n"
      ]
     },
     "execution_count": 5,
     "metadata": {},
     "output_type": "execute_result"
    }
   ],
   "source": [
    "let y = -1 in y (* y est accessible dans le in *)"
   ]
  },
  {
   "cell_type": "code",
   "execution_count": 6,
   "id": "329f9826",
   "metadata": {
    "execution": {
     "iopub.execute_input": "2021-09-09T12:14:51.462561Z",
     "iopub.status.busy": "2021-09-09T12:14:51.461863Z",
     "iopub.status.idle": "2021-09-09T12:14:51.464165Z",
     "shell.execute_reply": "2021-09-09T12:14:51.463142Z"
    },
    "tags": []
   },
   "outputs": [
    {
     "ename": "error",
     "evalue": "compile_error",
     "output_type": "error",
     "traceback": [
      "File \"[6]\", line 1, characters 0-1:\n1 | y (* utiliser y ici donne une erreur  *)\n    ^\nError: Unbound value y\n"
     ]
    }
   ],
   "source": [
    "y (* utiliser y ici donne une erreur  *)"
   ]
  },
  {
   "cell_type": "markdown",
   "id": "ea976cba",
   "metadata": {
    "tags": []
   },
   "source": [
    "**Exercice** : en utilisant `let ... in ... `, définissez une variable $a$ égale à $752$, puis définissez une variable $b$ égale à $54a$.    "
   ]
  },
  {
   "cell_type": "code",
   "execution_count": 7,
   "id": "75cc2d00",
   "metadata": {
    "execution": {
     "iopub.execute_input": "2021-09-09T12:14:51.466879Z",
     "iopub.status.busy": "2021-09-09T12:14:51.465448Z",
     "iopub.status.idle": "2021-09-09T12:14:51.468488Z",
     "shell.execute_reply": "2021-09-09T12:14:51.468054Z"
    },
    "tags": [
     "cor"
    ]
   },
   "outputs": [
    {
     "data": {
      "text/plain": [
       "- : int = 40608\n"
      ]
     },
     "execution_count": 7,
     "metadata": {},
     "output_type": "execute_result"
    }
   ],
   "source": [
    "let a = 752 in\n",
    "let b = 54*a in\n",
    "b"
   ]
  },
  {
   "cell_type": "markdown",
   "id": "2aea8159",
   "metadata": {},
   "source": [
    "**Remarque** Il est possible d'utiliser des parenthèses ou `begin ... end` pour délimiter le in :\n",
    "```ocaml\n",
    "let a = 3 in\n",
    "(\n",
    "...\n",
    ")\n",
    "```"
   ]
  },
  {
   "cell_type": "markdown",
   "id": "e84a39a3",
   "metadata": {
    "tags": []
   },
   "source": [
    "\n",
    "## Opérations numériques\n",
    "\n",
    "Nous avons déjà vu l'addition et la soustraction de 2 entiers. Il est aussi possible de multiplier :"
   ]
  },
  {
   "cell_type": "code",
   "execution_count": 8,
   "id": "7c924c15",
   "metadata": {
    "execution": {
     "iopub.execute_input": "2021-09-09T12:14:51.471699Z",
     "iopub.status.busy": "2021-09-09T12:14:51.470801Z",
     "iopub.status.idle": "2021-09-09T12:14:51.473354Z",
     "shell.execute_reply": "2021-09-09T12:14:51.472905Z"
    }
   },
   "outputs": [
    {
     "data": {
      "text/plain": [
       "- : int = 42\n"
      ]
     },
     "execution_count": 8,
     "metadata": {},
     "output_type": "execute_result"
    }
   ],
   "source": [
    "3 * 14"
   ]
  },
  {
   "cell_type": "markdown",
   "id": "1cbefc66",
   "metadata": {},
   "source": [
    "On peut effectuer la division **entière** (ou encore : [quotient de la division euclidienne](https://fr.wikipedia.org/wiki/Division_euclidienne)) de 2 entiers :"
   ]
  },
  {
   "cell_type": "code",
   "execution_count": 9,
   "id": "b8aa0cea",
   "metadata": {
    "execution": {
     "iopub.execute_input": "2021-09-09T12:14:51.475467Z",
     "iopub.status.busy": "2021-09-09T12:14:51.474564Z",
     "iopub.status.idle": "2021-09-09T12:14:51.477009Z",
     "shell.execute_reply": "2021-09-09T12:14:51.476590Z"
    }
   },
   "outputs": [
    {
     "data": {
      "text/plain": [
       "- : int = 1\n"
      ]
     },
     "execution_count": 9,
     "metadata": {},
     "output_type": "execute_result"
    }
   ],
   "source": [
    "3 / 2 (* division entière *)"
   ]
  },
  {
   "cell_type": "markdown",
   "id": "eb005d4a",
   "metadata": {},
   "source": [
    "La division entière de $x$ par $y$ est, par définition, la partie entière de $\\frac{x}{y}$.  \n",
    "Dans l'exemple ci-dessus, `3 / 2` est donc la partie entière de $\\frac{3}{2} = 1.5$, c'est à dire $1$. \n",
    "\n",
    "**Attention** : la division entière ` 3 / 2`  en OCaml correspond à ` 3 // 2 ` en Python."
   ]
  },
  {
   "cell_type": "markdown",
   "id": "b0edc1ec",
   "metadata": {},
   "source": [
    "En plus des entiers (`int`), OCaml permet de définir des nombres à virgules (`float`, pour flottant) :"
   ]
  },
  {
   "cell_type": "code",
   "execution_count": 10,
   "id": "f42ed5cd",
   "metadata": {
    "execution": {
     "iopub.execute_input": "2021-09-09T12:14:51.479510Z",
     "iopub.status.busy": "2021-09-09T12:14:51.478221Z",
     "iopub.status.idle": "2021-09-09T12:14:51.481066Z",
     "shell.execute_reply": "2021-09-09T12:14:51.480648Z"
    }
   },
   "outputs": [
    {
     "data": {
      "text/plain": [
       "val pi : float = 3.141592\n"
      ]
     },
     "execution_count": 10,
     "metadata": {},
     "output_type": "execute_result"
    }
   ],
   "source": [
    "let pi = 3.141592"
   ]
  },
  {
   "cell_type": "markdown",
   "id": "c02d497b",
   "metadata": {},
   "source": [
    "Les opérateurs d'addition, soustraction, multiplication, division doivent s'utiliser avec un `.` (point). Par exemple :"
   ]
  },
  {
   "cell_type": "code",
   "execution_count": 11,
   "id": "5401c6ea",
   "metadata": {
    "execution": {
     "iopub.execute_input": "2021-09-09T12:14:51.482706Z",
     "iopub.status.busy": "2021-09-09T12:14:51.482229Z",
     "iopub.status.idle": "2021-09-09T12:14:51.485226Z",
     "shell.execute_reply": "2021-09-09T12:14:51.484797Z"
    }
   },
   "outputs": [
    {
     "data": {
      "text/plain": [
       "- : float = 5.759592\n"
      ]
     },
     "execution_count": 11,
     "metadata": {},
     "output_type": "execute_result"
    }
   ],
   "source": [
    "pi +. 2.618 (* noter le . après + *)"
   ]
  },
  {
   "cell_type": "markdown",
   "id": "66a31c5f",
   "metadata": {},
   "source": [
    "**Attention** : c'est le point (.) et non pas la virgule qui est utilisé pour les flottants."
   ]
  },
  {
   "cell_type": "markdown",
   "id": "0edc854b",
   "metadata": {},
   "source": [
    "Il est possible de calculer $x^y$, où $x$ et $y$ sont des **flottants** avec `**` :"
   ]
  },
  {
   "cell_type": "code",
   "execution_count": 12,
   "id": "7e2c81cf",
   "metadata": {
    "execution": {
     "iopub.execute_input": "2021-09-09T12:14:51.488146Z",
     "iopub.status.busy": "2021-09-09T12:14:51.486435Z",
     "iopub.status.idle": "2021-09-09T12:14:51.489942Z",
     "shell.execute_reply": "2021-09-09T12:14:51.489449Z"
    }
   },
   "outputs": [
    {
     "data": {
      "text/plain": [
       "- : float = 23.0963461891915607\n"
      ]
     },
     "execution_count": 12,
     "metadata": {},
     "output_type": "execute_result"
    }
   ],
   "source": [
    "2.718 ** 3.14 (* x puissance y *)"
   ]
  },
  {
   "cell_type": "markdown",
   "id": "7a3c77af",
   "metadata": {},
   "source": [
    "Il n'est pas possible d'utiliser `**` sur des `int`. Par contre on peut utiliser 4.0 ou 4. au lieu de 4 pour avoir des flottants et utiliser `**` : "
   ]
  },
  {
   "cell_type": "code",
   "execution_count": 13,
   "id": "eb5d3af8",
   "metadata": {
    "execution": {
     "iopub.execute_input": "2021-09-09T12:14:51.491944Z",
     "iopub.status.busy": "2021-09-09T12:14:51.491168Z",
     "iopub.status.idle": "2021-09-09T12:14:51.493986Z",
     "shell.execute_reply": "2021-09-09T12:14:51.493563Z"
    }
   },
   "outputs": [
    {
     "data": {
      "text/plain": [
       "- : float = 1024.\n"
      ]
     },
     "execution_count": 13,
     "metadata": {},
     "output_type": "execute_result"
    }
   ],
   "source": [
    "2. ** 10."
   ]
  },
  {
   "cell_type": "markdown",
   "id": "568bdda4",
   "metadata": {},
   "source": [
    "**Exercice**\n",
    "1. Stocker la valeur $42^2$ dans une variable $a$, en utilisant `*`.\n",
    "2. En déduire la valeur de $42^4$.\n",
    "3. Calculer la valeur de $2^{10}$ en utilisant le moins de multiplications possibles."
   ]
  },
  {
   "cell_type": "code",
   "execution_count": 14,
   "id": "cd75a01e",
   "metadata": {
    "execution": {
     "iopub.execute_input": "2021-09-09T12:14:51.495638Z",
     "iopub.status.busy": "2021-09-09T12:14:51.495161Z",
     "iopub.status.idle": "2021-09-09T12:14:51.499557Z",
     "shell.execute_reply": "2021-09-09T12:14:51.499965Z"
    },
    "tags": [
     "cor"
    ]
   },
   "outputs": [
    {
     "data": {
      "text/plain": [
       "val a : int = 1764\n"
      ]
     },
     "execution_count": 14,
     "metadata": {},
     "output_type": "execute_result"
    }
   ],
   "source": [
    "(* 1. *) \n",
    "let a = 42*42;;\n",
    "\n",
    "\n",
    "(* 2. *)\n",
    "a*a;;\n",
    "\n",
    "(* 3. *)\n",
    "let deux_puiss_2 = 2*2 in\n",
    "let deux_puiss_4 = deux_puiss_2*deux_puiss_2 in\n",
    "let deux_puiss_8 = deux_puiss_4*deux_puiss_4 in\n",
    "deux_puiss_8 * deux_puiss_2;; (* calcul de 2 puissance 10 en 4 multiplications *)"
   ]
  },
  {
   "cell_type": "markdown",
   "id": "b6284cfc",
   "metadata": {},
   "source": [
    "**Exercice**\n",
    "\n",
    "1. Stocker dans 3 variables $a$, $b$, $c$ les valeurs 2, 5 et 3. On pourra utiliser let a, b, c = ..., ..., ... pour définir 3 variable simultanément. \n",
    "2. Stocker dans une variable $delta$ le discriminant de l'équation $ax^2 + bx + c = 0$.\n",
    "3. Calculer toutes les solutions de l'équation précédente."
   ]
  },
  {
   "cell_type": "code",
   "execution_count": 15,
   "id": "09f645c8",
   "metadata": {
    "execution": {
     "iopub.execute_input": "2021-09-09T12:14:51.502301Z",
     "iopub.status.busy": "2021-09-09T12:14:51.501830Z",
     "iopub.status.idle": "2021-09-09T12:14:51.505200Z",
     "shell.execute_reply": "2021-09-09T12:14:51.504779Z"
    },
    "tags": [
     "cor"
    ]
   },
   "outputs": [
    {
     "data": {
      "text/plain": [
       "val a : float = 2.\n",
       "val b : float = 6.\n",
       "val c : float = 3.\n"
      ]
     },
     "execution_count": 15,
     "metadata": {},
     "output_type": "execute_result"
    }
   ],
   "source": [
    "(* 1. *)\n",
    "let a, b, c = 2., 6., 3.;;"
   ]
  },
  {
   "cell_type": "code",
   "execution_count": 16,
   "id": "6b8c34db",
   "metadata": {
    "execution": {
     "iopub.execute_input": "2021-09-09T12:14:51.506818Z",
     "iopub.status.busy": "2021-09-09T12:14:51.506340Z",
     "iopub.status.idle": "2021-09-09T12:14:51.509143Z",
     "shell.execute_reply": "2021-09-09T12:14:51.508518Z"
    },
    "tags": [
     "cor"
    ]
   },
   "outputs": [
    {
     "data": {
      "text/plain": [
       "val delta : float = 12.\n"
      ]
     },
     "execution_count": 16,
     "metadata": {},
     "output_type": "execute_result"
    }
   ],
   "source": [
    "(* 2. *)\n",
    "let delta = b**2. -. 4.*.a*.c;;"
   ]
  },
  {
   "cell_type": "code",
   "execution_count": 17,
   "id": "be4d716c",
   "metadata": {
    "execution": {
     "iopub.execute_input": "2021-09-09T12:14:51.510951Z",
     "iopub.status.busy": "2021-09-09T12:14:51.510468Z",
     "iopub.status.idle": "2021-09-09T12:14:51.514441Z",
     "shell.execute_reply": "2021-09-09T12:14:51.514838Z"
    },
    "tags": [
     "cor"
    ]
   },
   "outputs": [
    {
     "data": {
      "text/plain": [
       "- : float = -2.36602540378443837\n"
      ]
     },
     "execution_count": 17,
     "metadata": {},
     "output_type": "execute_result"
    },
    {
     "data": {
      "text/plain": [
       "- : float = -0.633974596215561403\n"
      ]
     },
     "execution_count": 17,
     "metadata": {},
     "output_type": "execute_result"
    }
   ],
   "source": [
    "(* 3. Le discriminant étant positif, il y a deux solutions égales à : *)\n",
    "(-.b -. sqrt delta)/.(2.*.a);;\n",
    "(-.b +. sqrt delta)/.(2.*.a);;"
   ]
  },
  {
   "cell_type": "markdown",
   "id": "02b73139",
   "metadata": {},
   "source": [
    "Une autre opération importante est le **modulo** (ou : [reste de la division euclidienne](https://fr.wikipedia.org/wiki/Division_euclidienne)) de 2 entiers `a` et `b`, notée `a mod b` en OCaml. Mathématiquement, il s'agit de l'entier $r$ vérifiant :\n",
    "$$a = bq + r$$\n",
    "$$0 \\leq r < b$$\n",
    "\n",
    "($q$ est le quotient, égal à `a / b` en OCaml)  \n",
    "Cette opération `mod` sert notamment à tester la divisibilité : `a` est divisible par `b` si et seulement si `a mod b = 0`."
   ]
  },
  {
   "cell_type": "markdown",
   "id": "205f62d9",
   "metadata": {},
   "source": [
    "**Exercice** : Est-ce que 527 est divisible par 17?"
   ]
  },
  {
   "cell_type": "code",
   "execution_count": 18,
   "id": "ce3050d2",
   "metadata": {
    "execution": {
     "iopub.execute_input": "2021-09-09T12:14:51.516505Z",
     "iopub.status.busy": "2021-09-09T12:14:51.516025Z",
     "iopub.status.idle": "2021-09-09T12:14:51.517713Z",
     "shell.execute_reply": "2021-09-09T12:14:51.518107Z"
    },
    "tags": [
     "cor"
    ]
   },
   "outputs": [
    {
     "data": {
      "text/plain": [
       "- : int = 0\n"
      ]
     },
     "execution_count": 18,
     "metadata": {},
     "output_type": "execute_result"
    }
   ],
   "source": [
    "527 mod 17 (* c'est égal à 0 donc 17 divise bien 527 *)"
   ]
  },
  {
   "cell_type": "markdown",
   "id": "92fe3c0c",
   "metadata": {},
   "source": [
    "## Overflow\n",
    "\n",
    "L'ordinateur stocke toutes les variables dans la mémoire RAM de l'ordinateur, en binaire (suite de 0 et de 1). Comme la mémoire RAM sur un ordinateur n'est pas infinie, on ne peut pas stocker des nombres de taille arbitraire.  \n",
    "`max_int` est le plus grand entier que l'on peut stocker dans une variable :"
   ]
  },
  {
   "cell_type": "code",
   "execution_count": 19,
   "id": "788274dc",
   "metadata": {
    "execution": {
     "iopub.execute_input": "2021-09-09T12:14:51.519844Z",
     "iopub.status.busy": "2021-09-09T12:14:51.519347Z",
     "iopub.status.idle": "2021-09-09T12:14:51.521530Z",
     "shell.execute_reply": "2021-09-09T12:14:51.521088Z"
    }
   },
   "outputs": [
    {
     "data": {
      "text/plain": [
       "- : int = 4611686018427387903\n"
      ]
     },
     "execution_count": 19,
     "metadata": {},
     "output_type": "execute_result"
    }
   ],
   "source": [
    "max_int"
   ]
  },
  {
   "cell_type": "markdown",
   "id": "95a18cc2",
   "metadata": {},
   "source": [
    "Si on dépasse cet entier (ce qu'on appelle **integer overflow**), on tombe sur le plus petit entier représentable :"
   ]
  },
  {
   "cell_type": "code",
   "execution_count": 20,
   "id": "c57d090e",
   "metadata": {
    "execution": {
     "iopub.execute_input": "2021-09-09T12:14:51.523133Z",
     "iopub.status.busy": "2021-09-09T12:14:51.522649Z",
     "iopub.status.idle": "2021-09-09T12:14:51.524346Z",
     "shell.execute_reply": "2021-09-09T12:14:51.524739Z"
    },
    "tags": []
   },
   "outputs": [
    {
     "data": {
      "text/plain": [
       "- : int = -4611686018427387904\n"
      ]
     },
     "execution_count": 20,
     "metadata": {},
     "output_type": "execute_result"
    }
   ],
   "source": [
    "max_int + 1"
   ]
  },
  {
   "cell_type": "markdown",
   "id": "16dd0072",
   "metadata": {},
   "source": [
    "Le dépassement d'entier est une source fréquente de bug, qui a causé par exemple le [crash de la fusée Ariane 5](https://fr.wikipedia.org/wiki/Vol_501_d%27Ariane_5)."
   ]
  },
  {
   "cell_type": "markdown",
   "id": "baeadd19",
   "metadata": {},
   "source": [
    "Les float sont également limités :"
   ]
  },
  {
   "cell_type": "code",
   "execution_count": 21,
   "id": "d6eab16b",
   "metadata": {
    "execution": {
     "iopub.execute_input": "2021-09-09T12:14:51.526386Z",
     "iopub.status.busy": "2021-09-09T12:14:51.525914Z",
     "iopub.status.idle": "2021-09-09T12:14:51.527920Z",
     "shell.execute_reply": "2021-09-09T12:14:51.527492Z"
    }
   },
   "outputs": [
    {
     "data": {
      "text/plain": [
       "- : float = 1.79769313486231571e+308\n"
      ]
     },
     "execution_count": 21,
     "metadata": {},
     "output_type": "execute_result"
    }
   ],
   "source": [
    "max_float"
   ]
  },
  {
   "cell_type": "markdown",
   "id": "e7a54e90",
   "metadata": {},
   "source": [
    "Les flottants sont codées suivant la norme [IEEE754](https://fr.wikipedia.org/wiki/IEEE_754) sous la forme scientifique en utilisant 64 bits (sur un processeur 64 bits) dont 52 bits pour les chiffres après la virgule.  \n",
    "La précision des flottants est donc limitée : par exemple, on ne peut pas stocker $\\sqrt{2}$ ou $\\pi$ de façon exacte sur l'ordinateur puisqu'il s'agit de nombres irrationnels (c'est à dire avec une infinité de décimales, qui ne se répètent pas).  "
   ]
  },
  {
   "cell_type": "code",
   "execution_count": 22,
   "id": "31898265",
   "metadata": {
    "execution": {
     "iopub.execute_input": "2021-09-09T12:14:51.530201Z",
     "iopub.status.busy": "2021-09-09T12:14:51.529037Z",
     "iopub.status.idle": "2021-09-09T12:14:51.531774Z",
     "shell.execute_reply": "2021-09-09T12:14:51.532210Z"
    }
   },
   "outputs": [
    {
     "data": {
      "text/plain": [
       "- : float = 1.41421356237309515\n"
      ]
     },
     "execution_count": 22,
     "metadata": {},
     "output_type": "execute_result"
    }
   ],
   "source": [
    "2.**0.5 (* seulement une partie des décimales est stockée *)"
   ]
  },
  {
   "cell_type": "code",
   "execution_count": 23,
   "id": "4df5d80a",
   "metadata": {
    "execution": {
     "iopub.execute_input": "2021-09-09T12:14:51.533783Z",
     "iopub.status.busy": "2021-09-09T12:14:51.533285Z",
     "iopub.status.idle": "2021-09-09T12:14:51.535591Z",
     "shell.execute_reply": "2021-09-09T12:14:51.536006Z"
    }
   },
   "outputs": [
    {
     "data": {
      "text/plain": [
       "- : float = 2.00000000000000044\n"
      ]
     },
     "execution_count": 23,
     "metadata": {},
     "output_type": "execute_result"
    }
   ],
   "source": [
    "(2.**0.5)**2.0  (* ne donne pas 2.0 à cause des erreurs d'arrondis *)"
   ]
  },
  {
   "cell_type": "markdown",
   "id": "da635f7b",
   "metadata": {},
   "source": [
    "Le calcul de $\\sqrt 2$ par OCaml s'arrête à la 16ème décimale (ce qui correspond à 52 bits après la virgules, puisque $2^{-52}$ est du même ordre de grandeur que $10^{-16}$). Ce nombre $2^{-52}$ est appelé **epsilon machine**."
   ]
  },
  {
   "cell_type": "markdown",
   "id": "04cca671",
   "metadata": {},
   "source": [
    "Autre exemple :"
   ]
  },
  {
   "cell_type": "code",
   "execution_count": 24,
   "id": "1723f8cc",
   "metadata": {
    "execution": {
     "iopub.execute_input": "2021-09-09T12:14:51.537722Z",
     "iopub.status.busy": "2021-09-09T12:14:51.537228Z",
     "iopub.status.idle": "2021-09-09T12:14:51.538898Z",
     "shell.execute_reply": "2021-09-09T12:14:51.539388Z"
    }
   },
   "outputs": [
    {
     "data": {
      "text/plain": [
       "- : float = 0.300000000000000044\n"
      ]
     },
     "execution_count": 24,
     "metadata": {},
     "output_type": "execute_result"
    }
   ],
   "source": [
    "0.1 +. 0.2  (* ne donne pas 0.3 *)"
   ]
  },
  {
   "cell_type": "markdown",
   "id": "def768b9",
   "metadata": {},
   "source": [
    "`O.1` n'étant pas représentable de façon exacte en base 2, il est tronqué et engendre des erreurs d'arrondis."
   ]
  },
  {
   "cell_type": "markdown",
   "id": "74df4f55",
   "metadata": {},
   "source": [
    "La plus grande valeur de l'exposant est 1023 :"
   ]
  },
  {
   "cell_type": "code",
   "execution_count": 25,
   "id": "da8a8cc1",
   "metadata": {
    "execution": {
     "iopub.execute_input": "2021-09-09T12:14:51.541116Z",
     "iopub.status.busy": "2021-09-09T12:14:51.540601Z",
     "iopub.status.idle": "2021-09-09T12:14:51.542881Z",
     "shell.execute_reply": "2021-09-09T12:14:51.543424Z"
    }
   },
   "outputs": [
    {
     "data": {
      "text/plain": [
       "- : float = 8.98846567431158e+307\n"
      ]
     },
     "execution_count": 25,
     "metadata": {},
     "output_type": "execute_result"
    }
   ],
   "source": [
    "2.**1023."
   ]
  },
  {
   "cell_type": "code",
   "execution_count": 26,
   "id": "5763be0c",
   "metadata": {
    "execution": {
     "iopub.execute_input": "2021-09-09T12:14:51.545004Z",
     "iopub.status.busy": "2021-09-09T12:14:51.544531Z",
     "iopub.status.idle": "2021-09-09T12:14:51.546188Z",
     "shell.execute_reply": "2021-09-09T12:14:51.546576Z"
    }
   },
   "outputs": [
    {
     "data": {
      "text/plain": [
       "- : float = infinity\n"
      ]
     },
     "execution_count": 26,
     "metadata": {},
     "output_type": "execute_result"
    }
   ],
   "source": [
    "2.**1024."
   ]
  },
  {
   "cell_type": "markdown",
   "id": "e13299b2",
   "metadata": {
    "tags": []
   },
   "source": [
    "## Unit\n",
    "\n",
    "Il existe une valeur spéciale `()` qui signifie \"rien\" (un peu comme le None de Python). Le type de `()` est `unit`. Par exemple, afficher un entier avec `print_int` fait un effet de bord (affichage sur l'écran) mais ne renvoie pas de valeur :"
   ]
  },
  {
   "cell_type": "code",
   "execution_count": 27,
   "id": "feff36be",
   "metadata": {
    "execution": {
     "iopub.execute_input": "2021-09-09T12:14:51.548168Z",
     "iopub.status.busy": "2021-09-09T12:14:51.547697Z",
     "iopub.status.idle": "2021-09-09T12:14:51.549642Z",
     "shell.execute_reply": "2021-09-09T12:14:51.550055Z"
    }
   },
   "outputs": [
    {
     "data": {
      "text/plain": [
       "- : unit = ()\n"
      ]
     },
     "execution_count": 27,
     "metadata": {},
     "output_type": "execute_result"
    }
   ],
   "source": [
    "print_int 42"
   ]
  },
  {
   "cell_type": "markdown",
   "id": "3098d618",
   "metadata": {},
   "source": [
    "Pour que le résultat s'affiche, il faut revenir à la ligne avec `print_newline` :"
   ]
  },
  {
   "cell_type": "code",
   "execution_count": 28,
   "id": "0b221cf8",
   "metadata": {
    "execution": {
     "iopub.execute_input": "2021-09-09T12:14:51.551724Z",
     "iopub.status.busy": "2021-09-09T12:14:51.551191Z",
     "iopub.status.idle": "2021-09-09T12:14:51.553001Z",
     "shell.execute_reply": "2021-09-09T12:14:51.553370Z"
    }
   },
   "outputs": [
    {
     "data": {
      "text/plain": [
       "- : unit = ()\n"
      ]
     },
     "execution_count": 28,
     "metadata": {},
     "output_type": "execute_result"
    }
   ],
   "source": [
    "print_newline ()"
   ]
  },
  {
   "cell_type": "markdown",
   "id": "5b8e5f69",
   "metadata": {},
   "source": [
    "On verra dans un prochain cours le fonctionnement plus détaillé de `print_newline`."
   ]
  },
  {
   "cell_type": "markdown",
   "id": "3d7698ba",
   "metadata": {},
   "source": [
    "Il aurait été possible de combiner ces deux instructions avec `;`, qui permet d'exécuter consécutivement plusieurs instructions :"
   ]
  },
  {
   "cell_type": "code",
   "execution_count": 29,
   "id": "60ed75c4",
   "metadata": {
    "execution": {
     "iopub.execute_input": "2021-09-09T12:14:51.555433Z",
     "iopub.status.busy": "2021-09-09T12:14:51.554965Z",
     "iopub.status.idle": "2021-09-09T12:14:51.556639Z",
     "shell.execute_reply": "2021-09-09T12:14:51.557050Z"
    }
   },
   "outputs": [
    {
     "data": {
      "text/plain": [
       "- : unit = ()\n"
      ]
     },
     "execution_count": 29,
     "metadata": {},
     "output_type": "execute_result"
    }
   ],
   "source": [
    "print_int 31;\n",
    "print_newline ()"
   ]
  },
  {
   "cell_type": "markdown",
   "id": "54080a94",
   "metadata": {},
   "source": [
    "`;;` est similaire à `;`, mais permet de séparer complètement plusieurs instructions, ce qui signifie que les variables définies avec `in` ne sont plus accessibles :"
   ]
  },
  {
   "cell_type": "code",
   "execution_count": 30,
   "id": "c3685b2b",
   "metadata": {
    "execution": {
     "iopub.execute_input": "2021-09-09T12:14:51.559225Z",
     "iopub.status.busy": "2021-09-09T12:14:51.558697Z",
     "iopub.status.idle": "2021-09-09T12:14:51.560617Z",
     "shell.execute_reply": "2021-09-09T12:14:51.561057Z"
    }
   },
   "outputs": [
    {
     "data": {
      "text/plain": [
       "- : int = 3\n"
      ]
     },
     "execution_count": 30,
     "metadata": {},
     "output_type": "execute_result"
    }
   ],
   "source": [
    "let a = 3 in\n",
    "print_int a;\n",
    "a (* a reste accessible : il est toujours dans le in *)"
   ]
  },
  {
   "cell_type": "code",
   "execution_count": 31,
   "id": "1e67cfd3",
   "metadata": {
    "execution": {
     "iopub.execute_input": "2021-09-09T12:14:51.562671Z",
     "iopub.status.busy": "2021-09-09T12:14:51.562199Z",
     "iopub.status.idle": "2021-09-09T12:14:51.564324Z",
     "shell.execute_reply": "2021-09-09T12:14:51.564715Z"
    }
   },
   "outputs": [
    {
     "data": {
      "text/plain": [
       "- : unit = ()\n"
      ]
     },
     "execution_count": 31,
     "metadata": {},
     "output_type": "execute_result"
    }
   ],
   "source": [
    "let a = 3 in\n",
    "print_int a;;\n",
    "a;; (* a n'est pas accessible ici *)"
   ]
  },
  {
   "cell_type": "markdown",
   "id": "86f50d93",
   "metadata": {
    "tags": []
   },
   "source": [
    "## Présentation du code\n",
    "\n",
    "Contrairement à Python, l'indentation du code n'a pas d'importance en OCaml. En effet les espaces et sauts de lignes sont ignorés :"
   ]
  },
  {
   "cell_type": "code",
   "execution_count": 32,
   "id": "9963eab2",
   "metadata": {
    "execution": {
     "iopub.execute_input": "2021-09-09T12:14:51.566586Z",
     "iopub.status.busy": "2021-09-09T12:14:51.566113Z",
     "iopub.status.idle": "2021-09-09T12:14:51.568294Z",
     "shell.execute_reply": "2021-09-09T12:14:51.567791Z"
    }
   },
   "outputs": [
    {
     "data": {
      "text/plain": [
       "val a : int = 6\n"
      ]
     },
     "execution_count": 32,
     "metadata": {},
     "output_type": "execute_result"
    }
   ],
   "source": [
    "let a \n",
    "  = \n",
    "      6 (* indentation n'importe comment *)"
   ]
  },
  {
   "cell_type": "markdown",
   "id": "b7a6f658",
   "metadata": {},
   "source": [
    "On veillera toutefois à écrire du code aussi clair et lisible que possible."
   ]
  },
  {
   "cell_type": "markdown",
   "id": "15c2f7ab",
   "metadata": {},
   "source": [
    "## Réferences\n",
    "\n",
    "Contrairement à ce que son nom l'indique, une variable définie comme on l'a fait jusqu'à maintenant est en fait... **constante** :"
   ]
  },
  {
   "cell_type": "code",
   "execution_count": 33,
   "id": "24df7dd1",
   "metadata": {
    "execution": {
     "iopub.execute_input": "2021-09-09T12:14:51.570450Z",
     "iopub.status.busy": "2021-09-09T12:14:51.569894Z",
     "iopub.status.idle": "2021-09-09T12:14:51.575021Z",
     "shell.execute_reply": "2021-09-09T12:14:51.575412Z"
    }
   },
   "outputs": [
    {
     "data": {
      "text/plain": [
       "val x : int = 3\n"
      ]
     },
     "execution_count": 33,
     "metadata": {},
     "output_type": "execute_result"
    }
   ],
   "source": [
    "let x = 3;;\n",
    "x = 4;; (* ceci ne MODIFIE pas x, mais teste si la valeur de x est 4 *)\n",
    "x;; (* x vaut toujours 3 : il ne peut pas être modifié *)"
   ]
  },
  {
   "cell_type": "markdown",
   "id": "adb42820",
   "metadata": {},
   "source": [
    "Pour pouvoir modifier une variable, on peut utiliser une **référence**.\n",
    "Pour définir une référence on utilise `ref` :\n",
    "```ocaml\n",
    "let variable = ref valeur (* définition d'une référence *)\n",
    "```\n",
    "Pour modifier une référence on utilise `:=` :\n",
    "```ocaml\n",
    "variable := valeur (* modification d'une référence *)\n",
    "```\n",
    "Pour obtenir la valeur d'une référence on utilise `!` :\n",
    "```ocaml\n",
    "!variable (* donne la valeur d'une référence *)\n",
    "```"
   ]
  },
  {
   "cell_type": "code",
   "execution_count": 34,
   "id": "ce368341",
   "metadata": {
    "execution": {
     "iopub.execute_input": "2021-09-09T12:14:51.577779Z",
     "iopub.status.busy": "2021-09-09T12:14:51.577248Z",
     "iopub.status.idle": "2021-09-09T12:14:51.581114Z",
     "shell.execute_reply": "2021-09-09T12:14:51.581592Z"
    },
    "tags": []
   },
   "outputs": [
    {
     "data": {
      "text/plain": [
       "val x : int ref = {contents = 3}\n"
      ]
     },
     "execution_count": 34,
     "metadata": {},
     "output_type": "execute_result"
    },
    {
     "data": {
      "text/plain": [
       "- : unit = ()\n"
      ]
     },
     "execution_count": 34,
     "metadata": {},
     "output_type": "execute_result"
    },
    {
     "data": {
      "text/plain": [
       "- : int = 4\n"
      ]
     },
     "execution_count": 34,
     "metadata": {},
     "output_type": "execute_result"
    }
   ],
   "source": [
    "let x = ref 3;; (* définie une variable x qui \"pointe\" vers un emplacement mémoire contenant 3 *)\n",
    "x := 4;; (* modifie la valeur pointé par x avec := *)\n",
    "!x;; (* la valeur a bien été modifiée *)"
   ]
  },
  {
   "cell_type": "markdown",
   "id": "cda9a2c8",
   "metadata": {},
   "source": [
    "On remarque que l'instruction `x := 4` a pour valeur de retour `()` : c'est un effet de bord qui modifie `x` mais ne renvoie pas de résultat."
   ]
  },
  {
   "cell_type": "markdown",
   "id": "abb7f404-b0c5-4d59-b9e6-d4363376bc6b",
   "metadata": {},
   "source": [
    "Une référence `a` stocke en fait une adresse mémoire. La valeur de `a` est stockée dans cette adresse mémoire (et c'est cette valeur qui est modifiée avec `a := ...`).  \n",
    "**Remarque** : on reverra cette idée avec les pointeurs en C.\n",
    "\n",
    "<center><img src=img/ref.drawio.png width=300></center>"
   ]
  },
  {
   "cell_type": "markdown",
   "id": "b75bf5ae",
   "metadata": {},
   "source": [
    "**Exercice** : Que valent `!x` et `!y` après avoir exécuté le bout de code suivant? À quoi sert ce code?\n",
    "```ocaml\n",
    "let x = ref 5;;\n",
    "let y = ref 27;;\n",
    "x := !x + !y;\n",
    "y := !x - !y;\n",
    "x := !x - !y\n",
    "```"
   ]
  },
  {
   "cell_type": "code",
   "execution_count": 35,
   "id": "9e13cabe",
   "metadata": {
    "execution": {
     "iopub.execute_input": "2021-09-09T12:14:51.583516Z",
     "iopub.status.busy": "2021-09-09T12:14:51.582982Z",
     "iopub.status.idle": "2021-09-09T12:14:51.591468Z",
     "shell.execute_reply": "2021-09-09T12:14:51.590982Z"
    },
    "tags": [
     "cor"
    ]
   },
   "outputs": [
    {
     "data": {
      "text/plain": [
       "- : int * int = (27, 5)\n"
      ]
     },
     "execution_count": 35,
     "metadata": {},
     "output_type": "execute_result"
    }
   ],
   "source": [
    "let x = ref 5 in\n",
    "let y = ref 27 in\n",
    "x := !x + !y;\n",
    "y := !x - !y;\n",
    "x := !x - !y;\n",
    "!x, !y;; (* x vaut 27, y vaut 5 : ce bout de code échange les valeurs de x et y *)"
   ]
  },
  {
   "cell_type": "markdown",
   "id": "45e2f5da",
   "metadata": {},
   "source": [
    "**Remarque** : utiliser des `ref` rend souvent le code plus compliqué, on n'en utilisera que lorsque c'est nécessaire."
   ]
  }
 ],
 "metadata": {
  "kernelspec": {
   "display_name": "OCaml default",
   "language": "OCaml",
   "name": "ocaml-jupyter"
  },
  "language_info": {
   "codemirror_mode": "text/x-ocaml",
   "file_extension": ".ml",
   "mimetype": "text/x-ocaml",
   "name": "OCaml",
   "nbconverter_exporter": null,
   "pygments_lexer": "OCaml",
   "version": "4.08.1"
  },
  "title": "OCaml"
 },
 "nbformat": 4,
 "nbformat_minor": 5
}

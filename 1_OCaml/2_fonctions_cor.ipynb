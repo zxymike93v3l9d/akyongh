{
 "cells": [
  {
   "cell_type": "markdown",
   "id": "02f245dc",
   "metadata": {},
   "source": [
    "# Fonctions"
   ]
  },
  {
   "cell_type": "markdown",
   "id": "1a8ddcb8",
   "metadata": {},
   "source": [
    "## Utiliser une fonction\n",
    "\n",
    "OCaml est un langage fonctionnel, ce qui signifie que :\n",
    "- les fonctions y occupent une place importante et peuvent être manipulées un peu comme des variables\n",
    "- les fonctions sont censées ne pas effectuer d'effet de bord, c'est à dire d'action sur l'extérieur de la fonction (pas de modification de variable globale, pas d'écriture dans un fichier...)\n",
    "\n",
    "Pour utiliser une fonction `f` sur une valeur `x`, on écrira simplement `f x` (et non pas `f(x)`).  \n",
    "\n",
    "Un certain nombre de fonctions sont déjà définies en OCaml. Par exemple, la racine carrée : "
   ]
  },
  {
   "cell_type": "code",
   "execution_count": 1,
   "id": "b7f58f98",
   "metadata": {
    "execution": {
     "iopub.execute_input": "2021-09-21T17:09:39.048149Z",
     "iopub.status.busy": "2021-09-21T17:09:39.047605Z",
     "iopub.status.idle": "2021-09-21T17:09:39.049908Z",
     "shell.execute_reply": "2021-09-21T17:09:39.050303Z"
    },
    "tags": []
   },
   "outputs": [
    {
     "data": {
      "text/plain": [
       "- : float = 1.41421356237309515\n"
      ]
     },
     "execution_count": 1,
     "metadata": {},
     "output_type": "execute_result"
    }
   ],
   "source": [
    "sqrt 2.0 (* renvoie une approximation de racine de 2 *)"
   ]
  },
  {
   "cell_type": "markdown",
   "id": "d5fa5b08",
   "metadata": {},
   "source": [
    "Chaque fonction possède une **signature**, qui donne les types des paramètres (valeurs en entrée de la fonction) et le type de la valeur de retour."
   ]
  },
  {
   "cell_type": "code",
   "execution_count": 2,
   "id": "d1e460b9",
   "metadata": {
    "execution": {
     "iopub.execute_input": "2021-09-21T17:09:39.052615Z",
     "iopub.status.busy": "2021-09-21T17:09:39.051798Z",
     "iopub.status.idle": "2021-09-21T17:09:39.056923Z",
     "shell.execute_reply": "2021-09-21T17:09:39.056261Z"
    },
    "tags": []
   },
   "outputs": [
    {
     "data": {
      "text/plain": [
       "- : float -> float = <fun>\n"
      ]
     },
     "execution_count": 2,
     "metadata": {},
     "output_type": "execute_result"
    }
   ],
   "source": [
    "sqrt"
   ]
  },
  {
   "cell_type": "markdown",
   "id": "9e718e60",
   "metadata": {},
   "source": [
    "`float -> float` signifie que `sqrt` est une fonction qui prend un flottant en entrée et renvoie un flottant. On ne peut donc pas l'appliquer sur un entier :"
   ]
  },
  {
   "cell_type": "code",
   "execution_count": 3,
   "id": "cc5a0ed2",
   "metadata": {
    "execution": {
     "iopub.execute_input": "2021-09-21T17:09:39.059247Z",
     "iopub.status.busy": "2021-09-21T17:09:39.058648Z",
     "iopub.status.idle": "2021-09-21T17:09:39.061012Z",
     "shell.execute_reply": "2021-09-21T17:09:39.061505Z"
    },
    "tags": []
   },
   "outputs": [
    {
     "ename": "error",
     "evalue": "compile_error",
     "output_type": "error",
     "traceback": [
      "File \"[3]\", line 1, characters 5-6:\n1 | sqrt 2 (* erreur : on donne un entier à sqrt qui attend un flottant *)\n         ^\nError: This expression has type int but an expression was expected of type\n         float\n"
     ]
    }
   ],
   "source": [
    "sqrt 2 (* erreur : on donne un entier à sqrt qui attend un flottant *)"
   ]
  },
  {
   "cell_type": "markdown",
   "id": "5ee0012d",
   "metadata": {},
   "source": [
    "## Définir une fonction"
   ]
  },
  {
   "cell_type": "markdown",
   "id": "c8935d19",
   "metadata": {},
   "source": [
    "En OCaml, une fonction se définie de la façon suivante :\n",
    "```ocaml\n",
    "let nom_fonction nom_argument = ... \n",
    "```\n",
    "où `...` est le corps de la fonction, c'est à dire ce qui est exécuté lorsqu'on utilise la fonction. \n",
    "\n",
    "**La valeur renvoyée par la fonction est celle de la dernière instruction (pas besoin de `return`)**."
   ]
  },
  {
   "cell_type": "markdown",
   "id": "b81178b7",
   "metadata": {},
   "source": [
    "Définissons par exemple la fonction $f: x \\longmapsto 2x$ :"
   ]
  },
  {
   "cell_type": "code",
   "execution_count": 4,
   "id": "11d06800",
   "metadata": {
    "execution": {
     "iopub.execute_input": "2021-09-21T17:09:39.063708Z",
     "iopub.status.busy": "2021-09-21T17:09:39.063154Z",
     "iopub.status.idle": "2021-09-21T17:09:39.066001Z",
     "shell.execute_reply": "2021-09-21T17:09:39.065549Z"
    },
    "tags": []
   },
   "outputs": [
    {
     "data": {
      "text/plain": [
       "val f : int -> int = <fun>\n"
      ]
     },
     "execution_count": 4,
     "metadata": {},
     "output_type": "execute_result"
    }
   ],
   "source": [
    "let f x = 2*x"
   ]
  },
  {
   "cell_type": "markdown",
   "id": "2422db92",
   "metadata": {},
   "source": [
    "OCaml nous dit que `f` est de type `int -> int`, ce qui signifie que `f` prend un entier en entrée et renvoie un entier en sortie. Ceci est similaire à la notation mathématique $f : \\mathbb{N} \\longrightarrow \\mathbb{N}$.\n",
    "\n",
    "On peut ensuite utiliser `f` et récupérer la valeur de retour :"
   ]
  },
  {
   "cell_type": "code",
   "execution_count": 5,
   "id": "44780001",
   "metadata": {
    "execution": {
     "iopub.execute_input": "2021-09-21T17:09:39.067825Z",
     "iopub.status.busy": "2021-09-21T17:09:39.067292Z",
     "iopub.status.idle": "2021-09-21T17:09:39.069149Z",
     "shell.execute_reply": "2021-09-21T17:09:39.069609Z"
    }
   },
   "outputs": [
    {
     "data": {
      "text/plain": [
       "- : int = 6\n"
      ]
     },
     "execution_count": 5,
     "metadata": {},
     "output_type": "execute_result"
    }
   ],
   "source": [
    "f 3"
   ]
  },
  {
   "cell_type": "markdown",
   "id": "b97329b1",
   "metadata": {},
   "source": [
    "Notons que `x` est une variable **muette** : elle n'existe qu'à l'intérieur de `f`, n'a aucun rapport avec une variable `x` définie précédemment et la fonction suivante définit exactement la même fonction :"
   ]
  },
  {
   "cell_type": "code",
   "execution_count": 6,
   "id": "9ecd5e93",
   "metadata": {
    "execution": {
     "iopub.execute_input": "2021-09-21T17:09:39.071544Z",
     "iopub.status.busy": "2021-09-21T17:09:39.070852Z",
     "iopub.status.idle": "2021-09-21T17:09:39.074336Z",
     "shell.execute_reply": "2021-09-21T17:09:39.073874Z"
    },
    "tags": []
   },
   "outputs": [
    {
     "data": {
      "text/plain": [
       "val f : int -> int = <fun>\n"
      ]
     },
     "execution_count": 6,
     "metadata": {},
     "output_type": "execute_result"
    }
   ],
   "source": [
    "let f y = 2*y (* peu importe le nom de la variable muette y *)"
   ]
  },
  {
   "cell_type": "markdown",
   "id": "6baca662",
   "metadata": {},
   "source": [
    "Maintenant que `f` est définie, on peut calculer $f(3)$ :"
   ]
  },
  {
   "cell_type": "code",
   "execution_count": 7,
   "id": "dc6ed765",
   "metadata": {
    "execution": {
     "iopub.execute_input": "2021-09-21T17:09:39.076229Z",
     "iopub.status.busy": "2021-09-21T17:09:39.075684Z",
     "iopub.status.idle": "2021-09-21T17:09:39.077383Z",
     "shell.execute_reply": "2021-09-21T17:09:39.077777Z"
    },
    "tags": []
   },
   "outputs": [
    {
     "data": {
      "text/plain": [
       "- : int = 6\n"
      ]
     },
     "execution_count": 7,
     "metadata": {},
     "output_type": "execute_result"
    }
   ],
   "source": [
    "f 3"
   ]
  },
  {
   "cell_type": "markdown",
   "id": "26336cd6",
   "metadata": {},
   "source": [
    "**Exercice** : définir la fonction $f : x \\longmapsto \\frac{1}{\\sqrt{1 + x^2}}$ en OCaml."
   ]
  },
  {
   "cell_type": "code",
   "execution_count": 8,
   "id": "92b5d677",
   "metadata": {
    "execution": {
     "iopub.execute_input": "2021-09-21T17:09:39.079546Z",
     "iopub.status.busy": "2021-09-21T17:09:39.079006Z",
     "iopub.status.idle": "2021-09-21T17:09:39.083284Z",
     "shell.execute_reply": "2021-09-21T17:09:39.082726Z"
    },
    "tags": [
     "cor"
    ]
   },
   "outputs": [
    {
     "data": {
      "text/plain": [
       "val f : float -> float = <fun>\n"
      ]
     },
     "execution_count": 8,
     "metadata": {},
     "output_type": "execute_result"
    }
   ],
   "source": [
    "let f x = 1./.(1. +. x**2.)**0.5"
   ]
  },
  {
   "cell_type": "markdown",
   "id": "8ef8c223",
   "metadata": {},
   "source": [
    "Comme pour les variables, il est possible d'utiliser `in` pour spécifier la portée d'une fonction $g$"
   ]
  },
  {
   "cell_type": "code",
   "execution_count": 9,
   "id": "9185da4f",
   "metadata": {
    "execution": {
     "iopub.execute_input": "2021-09-21T17:09:39.085061Z",
     "iopub.status.busy": "2021-09-21T17:09:39.084529Z",
     "iopub.status.idle": "2021-09-21T17:09:39.087411Z",
     "shell.execute_reply": "2021-09-21T17:09:39.086970Z"
    },
    "tags": []
   },
   "outputs": [
    {
     "data": {
      "text/plain": [
       "- : int = 1\n"
      ]
     },
     "execution_count": 9,
     "metadata": {},
     "output_type": "execute_result"
    }
   ],
   "source": [
    "let g x = x + 1 in\n",
    "g 0  (* g est utilisable seulement dans le in *)"
   ]
  },
  {
   "cell_type": "markdown",
   "id": "9966181c",
   "metadata": {},
   "source": [
    "**Exercice** Donner la valeur de l'expression suivante :\n",
    "```ocaml\n",
    "let h x = f x + 1 in\n",
    "h 3\n",
    "```"
   ]
  },
  {
   "cell_type": "code",
   "execution_count": 10,
   "id": "95921c12",
   "metadata": {
    "execution": {
     "iopub.execute_input": "2021-09-21T17:09:39.089509Z",
     "iopub.status.busy": "2021-09-21T17:09:39.088912Z",
     "iopub.status.idle": "2021-09-21T17:09:39.090879Z",
     "shell.execute_reply": "2021-09-21T17:09:39.091222Z"
    },
    "tags": [
     "cor"
    ]
   },
   "outputs": [
    {
     "ename": "error",
     "evalue": "compile_error",
     "output_type": "error",
     "traceback": [
      "File \"[10]\", line 1, characters 10-13:\n1 | let h x = f x + 1 in (* x est remplacé par 3, f x est remplacé par 6 *)\n              ^^^\nError: This expression has type float but an expression was expected of type\n         int\n"
     ]
    }
   ],
   "source": [
    "let h x = f x + 1 in (* x est remplacé par 3, f x est remplacé par 6 *)\n",
    "h 3"
   ]
  },
  {
   "cell_type": "markdown",
   "id": "f95d6e1f",
   "metadata": {},
   "source": [
    "## Fonctions anonymes"
   ]
  },
  {
   "cell_type": "markdown",
   "id": "065b481a",
   "metadata": {},
   "source": [
    "Quand on a besoin d'utiliser une fonction une seule fois, on peut définir une fonction anonyme (sans nom) avec `fun`. C'est l'équivalent de `lambda` en Python."
   ]
  },
  {
   "cell_type": "code",
   "execution_count": 11,
   "id": "2c3e953c",
   "metadata": {
    "execution": {
     "iopub.execute_input": "2021-09-21T17:09:39.093405Z",
     "iopub.status.busy": "2021-09-21T17:09:39.092701Z",
     "iopub.status.idle": "2021-09-21T17:09:39.095984Z",
     "shell.execute_reply": "2021-09-21T17:09:39.095341Z"
    },
    "tags": []
   },
   "outputs": [
    {
     "data": {
      "text/plain": [
       "- : int -> int = <fun>\n"
      ]
     },
     "execution_count": 11,
     "metadata": {},
     "output_type": "execute_result"
    }
   ],
   "source": [
    "fun x -> x*2 (* définition d'une fonction anonyme *)"
   ]
  },
  {
   "cell_type": "code",
   "execution_count": 12,
   "id": "29941e50",
   "metadata": {
    "execution": {
     "iopub.execute_input": "2021-09-21T17:09:39.097745Z",
     "iopub.status.busy": "2021-09-21T17:09:39.097274Z",
     "iopub.status.idle": "2021-09-21T17:09:39.100464Z",
     "shell.execute_reply": "2021-09-21T17:09:39.100036Z"
    },
    "tags": []
   },
   "outputs": [
    {
     "data": {
      "text/plain": [
       "- : int = 6\n"
      ]
     },
     "execution_count": 12,
     "metadata": {},
     "output_type": "execute_result"
    }
   ],
   "source": [
    "(fun x -> x*2) 3 (* applique une fonction anonyme sur la valeur 3 *)"
   ]
  },
  {
   "cell_type": "markdown",
   "id": "ad76a2dc",
   "metadata": {},
   "source": [
    "**Remarque** : les deux définitions suivantes sont en fait complètement équivalentes.\n",
    "```ocaml\n",
    "let f x = ...\n",
    "```\n",
    "```ocaml\n",
    "let f = fun x -> ...\n",
    "```\n",
    "\n",
    "Par exemple, on peut définir la fonction $f : x \\longmapsto 2 \\sqrt{x}$ comme ceci :"
   ]
  },
  {
   "cell_type": "code",
   "execution_count": 13,
   "id": "8c8fe9f6",
   "metadata": {
    "execution": {
     "iopub.execute_input": "2021-09-21T17:09:39.102213Z",
     "iopub.status.busy": "2021-09-21T17:09:39.101755Z",
     "iopub.status.idle": "2021-09-21T17:09:39.104627Z",
     "shell.execute_reply": "2021-09-21T17:09:39.104226Z"
    }
   },
   "outputs": [
    {
     "data": {
      "text/plain": [
       "val f : float -> float = <fun>\n"
      ]
     },
     "execution_count": 13,
     "metadata": {},
     "output_type": "execute_result"
    }
   ],
   "source": [
    "let f = fun x -> 2.0*.x**0.5"
   ]
  },
  {
   "cell_type": "markdown",
   "id": "14924f9c",
   "metadata": {},
   "source": [
    "**Remarque** : On peut aussi définir une fonction avec `function x -> ...` mais `fun` est légèrement plus simple d'utilisation."
   ]
  },
  {
   "cell_type": "markdown",
   "id": "4b879d07",
   "metadata": {},
   "source": [
    "## Fonctions de plusieurs variables"
   ]
  },
  {
   "cell_type": "markdown",
   "id": "ca03111b",
   "metadata": {},
   "source": [
    "Il est possible de définir des fonctions avec plusieurs paramètres, par exemple :"
   ]
  },
  {
   "cell_type": "code",
   "execution_count": 14,
   "id": "6149d469",
   "metadata": {
    "execution": {
     "iopub.execute_input": "2021-09-21T17:09:39.106632Z",
     "iopub.status.busy": "2021-09-21T17:09:39.106086Z",
     "iopub.status.idle": "2021-09-21T17:09:39.108987Z",
     "shell.execute_reply": "2021-09-21T17:09:39.108540Z"
    },
    "lines_to_next_cell": 0,
    "tags": []
   },
   "outputs": [
    {
     "data": {
      "text/plain": [
       "val sum : int -> int -> int = <fun>\n"
      ]
     },
     "execution_count": 14,
     "metadata": {},
     "output_type": "execute_result"
    }
   ],
   "source": [
    "let sum x y = x + y"
   ]
  },
  {
   "cell_type": "code",
   "execution_count": 15,
   "id": "b82a7f37",
   "metadata": {
    "execution": {
     "iopub.execute_input": "2021-09-21T17:09:39.110786Z",
     "iopub.status.busy": "2021-09-21T17:09:39.110287Z",
     "iopub.status.idle": "2021-09-21T17:09:39.112008Z",
     "shell.execute_reply": "2021-09-21T17:09:39.112405Z"
    },
    "tags": []
   },
   "outputs": [
    {
     "data": {
      "text/plain": [
       "- : int = 7\n"
      ]
     },
     "execution_count": 15,
     "metadata": {},
     "output_type": "execute_result"
    }
   ],
   "source": [
    "sum 3 4 (* renvoie 3 + 4 *)"
   ]
  },
  {
   "cell_type": "markdown",
   "id": "abc0f97e",
   "metadata": {},
   "source": [
    "Le type de `sum` est `int -> int -> int`, ce qui peut paraître étrange. C'est équivalent à `int -> (int -> int)`, ce qui signifie que `sum` prend en entier en argument et renvoie une valeur de type `int -> int` (c'est à dire une fonction).  \n",
    "En effet :"
   ]
  },
  {
   "cell_type": "code",
   "execution_count": 16,
   "id": "327596d2",
   "metadata": {
    "execution": {
     "iopub.execute_input": "2021-09-21T17:09:39.114392Z",
     "iopub.status.busy": "2021-09-21T17:09:39.113904Z",
     "iopub.status.idle": "2021-09-21T17:09:39.117271Z",
     "shell.execute_reply": "2021-09-21T17:09:39.117847Z"
    },
    "tags": []
   },
   "outputs": [
    {
     "data": {
      "text/plain": [
       "- : int -> int = <fun>\n"
      ]
     },
     "execution_count": 16,
     "metadata": {},
     "output_type": "execute_result"
    }
   ],
   "source": [
    "sum 3"
   ]
  },
  {
   "cell_type": "markdown",
   "id": "785a8730",
   "metadata": {},
   "source": [
    "`sum 3` est une fonction qui prend en argument un entier `y` et qui renvoie `3 + y`, ce qu'on peut vérifier :"
   ]
  },
  {
   "cell_type": "code",
   "execution_count": 17,
   "id": "1801d41d",
   "metadata": {
    "execution": {
     "iopub.execute_input": "2021-09-21T17:09:39.119546Z",
     "iopub.status.busy": "2021-09-21T17:09:39.118996Z",
     "iopub.status.idle": "2021-09-21T17:09:39.121521Z",
     "shell.execute_reply": "2021-09-21T17:09:39.121121Z"
    },
    "tags": []
   },
   "outputs": [
    {
     "data": {
      "text/plain": [
       "- : int = 7\n"
      ]
     },
     "execution_count": 17,
     "metadata": {},
     "output_type": "execute_result"
    }
   ],
   "source": [
    "let f = sum 3 in (* f est une fonction *)\n",
    "f 4 (* renvoie sum 3 4, c'est à dire 7 *)"
   ]
  },
  {
   "cell_type": "markdown",
   "id": "887542f4",
   "metadata": {},
   "source": [
    "En fait, OCaml transforme automatiquement une fonction de plusieurs variables en une suite de fonctions à une variable (c'est ce qu'on appelle la **curryfication**) :"
   ]
  },
  {
   "cell_type": "code",
   "execution_count": 18,
   "id": "f721982d",
   "metadata": {
    "execution": {
     "iopub.execute_input": "2021-09-21T17:09:39.123301Z",
     "iopub.status.busy": "2021-09-21T17:09:39.122668Z",
     "iopub.status.idle": "2021-09-21T17:09:39.125261Z",
     "shell.execute_reply": "2021-09-21T17:09:39.124870Z"
    }
   },
   "outputs": [
    {
     "data": {
      "text/plain": [
       "val sum : int -> int -> int = <fun>\n"
      ]
     },
     "execution_count": 18,
     "metadata": {},
     "output_type": "execute_result"
    }
   ],
   "source": [
    "let sum = fun x -> (fun y -> x + y) (* OCaml transforme la définition de sum ci-dessus en celle-ci *)"
   ]
  },
  {
   "cell_type": "code",
   "execution_count": 19,
   "id": "421de235",
   "metadata": {
    "execution": {
     "iopub.execute_input": "2021-09-21T17:09:39.126912Z",
     "iopub.status.busy": "2021-09-21T17:09:39.126404Z",
     "iopub.status.idle": "2021-09-21T17:09:39.128803Z",
     "shell.execute_reply": "2021-09-21T17:09:39.128321Z"
    }
   },
   "outputs": [
    {
     "data": {
      "text/plain": [
       "- : int = 5\n"
      ]
     },
     "execution_count": 19,
     "metadata": {},
     "output_type": "execute_result"
    }
   ],
   "source": [
    "(sum 2) 3  (* le calcul effectué par OCaml lorsqu'on écrit sum 2 3 *)"
   ]
  },
  {
   "cell_type": "markdown",
   "id": "59c88c00",
   "metadata": {},
   "source": [
    "La possibilité d'appliquer une fonction seulement sur certains arguments s'appelle l'**application partielle** de fonction. C'est un des avantages d'OCaml par rapport à Python.  "
   ]
  },
  {
   "cell_type": "markdown",
   "id": "00f9a41c",
   "metadata": {},
   "source": [
    "De la même façon, une fonction OCaml à 3 arguments sera de type `... -> ... -> ... -> ...`."
   ]
  },
  {
   "cell_type": "markdown",
   "id": "6a3c8a7c",
   "metadata": {},
   "source": [
    "Une fonction peut aussi avoir aucune valeur en entrée. Dans ce cas, on lui donne l'argument `()` (de type unit). C'est le cas par exemple de `print_newline`, qui saute une ligne : "
   ]
  },
  {
   "cell_type": "code",
   "execution_count": 20,
   "id": "74b41c6f",
   "metadata": {
    "execution": {
     "iopub.execute_input": "2021-09-21T17:09:39.130960Z",
     "iopub.status.busy": "2021-09-21T17:09:39.130402Z",
     "iopub.status.idle": "2021-09-21T17:09:39.135940Z",
     "shell.execute_reply": "2021-09-21T17:09:39.133835Z"
    }
   },
   "outputs": [
    {
     "name": "stdout",
     "output_type": "stream",
     "text": [
      "0\n",
      "1\n"
     ]
    },
    {
     "data": {
      "text/plain": [
       "- : unit = ()\n"
      ]
     },
     "execution_count": 20,
     "metadata": {},
     "output_type": "execute_result"
    }
   ],
   "source": [
    "print_int 0;\n",
    "print_newline ();\n",
    "print_int 1;\n",
    "print_newline ();"
   ]
  },
  {
   "cell_type": "markdown",
   "id": "d05a16e5",
   "metadata": {},
   "source": [
    "## Polymorphisme"
   ]
  },
  {
   "cell_type": "markdown",
   "id": "60828939",
   "metadata": {},
   "source": [
    "Reprenons notre 1er exemple de fonction :"
   ]
  },
  {
   "cell_type": "code",
   "execution_count": 21,
   "id": "5b5975f4",
   "metadata": {
    "execution": {
     "iopub.execute_input": "2021-09-21T17:09:39.137931Z",
     "iopub.status.busy": "2021-09-21T17:09:39.137310Z",
     "iopub.status.idle": "2021-09-21T17:09:39.139316Z",
     "shell.execute_reply": "2021-09-21T17:09:39.139909Z"
    }
   },
   "outputs": [
    {
     "data": {
      "text/plain": [
       "val f : int -> int = <fun>\n"
      ]
     },
     "execution_count": 21,
     "metadata": {},
     "output_type": "execute_result"
    }
   ],
   "source": [
    "let f x = 2*x"
   ]
  },
  {
   "cell_type": "markdown",
   "id": "4db0ade3",
   "metadata": {},
   "source": [
    "OCaml sait que l'argument `x` de `f` est un `int` car on utilise l'opérateur `*` qui ne s'utilise que sur des entiers. Mais dans certaines fonctions, il n'y a pas de contrainte de type :"
   ]
  },
  {
   "cell_type": "code",
   "execution_count": 22,
   "id": "d4355e63",
   "metadata": {
    "execution": {
     "iopub.execute_input": "2021-09-21T17:09:39.141870Z",
     "iopub.status.busy": "2021-09-21T17:09:39.141237Z",
     "iopub.status.idle": "2021-09-21T17:09:39.143296Z",
     "shell.execute_reply": "2021-09-21T17:09:39.143797Z"
    }
   },
   "outputs": [
    {
     "data": {
      "text/plain": [
       "val id : 'a -> 'a = <fun>\n"
      ]
     },
     "execution_count": 22,
     "metadata": {},
     "output_type": "execute_result"
    }
   ],
   "source": [
    "let id x = x"
   ]
  },
  {
   "cell_type": "markdown",
   "id": "19c37a8c",
   "metadata": {},
   "source": [
    "Cette fonction `id` (pour identité) renvoie son argument sans le modifier. Comme aucune opération n'est appliquée sur `x`, il n'y a pas de contrainte sur son type. OCaml utilise alors `'a` pour désigner le type quelconque de `x`.  \n",
    "Notons que le type de retour de `id` est `'a` également : OCaml nous dit que `id` renvoie une valeur du même type que l'argument."
   ]
  },
  {
   "cell_type": "markdown",
   "id": "2994b621",
   "metadata": {},
   "source": [
    "**Exercice** : donner le type des fonctions suivantes  \n",
    "```ocaml\n",
    " let f x = 42\n",
    "```\n",
    "```ocaml\n",
    " let f x y = y\n",
    "```\n",
    "```ocaml\n",
    " let g x y f = x + f y\n",
    " ```"
   ]
  },
  {
   "cell_type": "code",
   "execution_count": 23,
   "id": "2b720bd2",
   "metadata": {
    "execution": {
     "iopub.execute_input": "2021-09-21T17:09:39.145894Z",
     "iopub.status.busy": "2021-09-21T17:09:39.145305Z",
     "iopub.status.idle": "2021-09-21T17:09:39.147169Z",
     "shell.execute_reply": "2021-09-21T17:09:39.147618Z"
    },
    "tags": [
     "cor"
    ]
   },
   "outputs": [
    {
     "data": {
      "text/plain": [
       "val f : 'a -> int = <fun>\n"
      ]
     },
     "execution_count": 23,
     "metadata": {},
     "output_type": "execute_result"
    }
   ],
   "source": [
    "let f x = 42;; \n",
    "(* x est quelconque ('a) et le type de retour est int *)\n",
    "(* donc f est de type 'a -> int *)"
   ]
  },
  {
   "cell_type": "code",
   "execution_count": 24,
   "id": "e69ebd55",
   "metadata": {
    "execution": {
     "iopub.execute_input": "2021-09-21T17:09:39.149292Z",
     "iopub.status.busy": "2021-09-21T17:09:39.148790Z",
     "iopub.status.idle": "2021-09-21T17:09:39.150706Z",
     "shell.execute_reply": "2021-09-21T17:09:39.151120Z"
    }
   },
   "outputs": [
    {
     "data": {
      "text/plain": [
       "val f : 'a -> 'b -> 'b = <fun>\n"
      ]
     },
     "execution_count": 24,
     "metadata": {},
     "output_type": "execute_result"
    }
   ],
   "source": [
    "let f x y = y;; \n",
    "(* x est quelconque ('a), y aussi ('b) mais le type de retour est le même que y ('b) *)\n",
    "(* donc f est de type 'a -> 'b -> 'b *)"
   ]
  },
  {
   "cell_type": "code",
   "execution_count": 25,
   "id": "fd04372f",
   "metadata": {
    "execution": {
     "iopub.execute_input": "2021-09-21T17:09:39.152821Z",
     "iopub.status.busy": "2021-09-21T17:09:39.152280Z",
     "iopub.status.idle": "2021-09-21T17:09:39.155587Z",
     "shell.execute_reply": "2021-09-21T17:09:39.155112Z"
    }
   },
   "outputs": [
    {
     "data": {
      "text/plain": [
       "val g : int -> 'a -> ('a -> int) -> int = <fun>\n"
      ]
     },
     "execution_count": 25,
     "metadata": {},
     "output_type": "execute_result"
    }
   ],
   "source": [
    "let g x y f = x + f y;; \n",
    "(* x est un int, à cause du + *)\n",
    "(* y est quelconque ('a) *)\n",
    "(* f est une fonction qui prend un y (de type 'a) et renvoie un int, à cause du + *)\n",
    "(* donc f est de type int -> 'a -> ()*)"
   ]
  },
  {
   "cell_type": "markdown",
   "id": "aebbb441",
   "metadata": {},
   "source": [
    "## Fonction comme argument\n",
    "\n",
    "Il est possible d'utiliser une fonction en argument d'une autre fonction. Par exemple, la fonction suivante évalue une autre fonction en la valeur 0 :"
   ]
  },
  {
   "cell_type": "code",
   "execution_count": 26,
   "id": "b46d146e",
   "metadata": {
    "execution": {
     "iopub.execute_input": "2021-09-21T17:09:39.157340Z",
     "iopub.status.busy": "2021-09-21T17:09:39.156854Z",
     "iopub.status.idle": "2021-09-21T17:09:39.158669Z",
     "shell.execute_reply": "2021-09-21T17:09:39.159151Z"
    }
   },
   "outputs": [
    {
     "data": {
      "text/plain": [
       "val eval : (int -> 'a) -> 'a = <fun>\n"
      ]
     },
     "execution_count": 26,
     "metadata": {},
     "output_type": "execute_result"
    }
   ],
   "source": [
    "let eval f =\n",
    "f 0"
   ]
  },
  {
   "cell_type": "code",
   "execution_count": 27,
   "id": "dc6cc8be",
   "metadata": {
    "execution": {
     "iopub.execute_input": "2021-09-21T17:09:39.160885Z",
     "iopub.status.busy": "2021-09-21T17:09:39.160352Z",
     "iopub.status.idle": "2021-09-21T17:09:39.163561Z",
     "shell.execute_reply": "2021-09-21T17:09:39.162977Z"
    }
   },
   "outputs": [
    {
     "data": {
      "text/plain": [
       "- : int = 7\n"
      ]
     },
     "execution_count": 27,
     "metadata": {},
     "output_type": "execute_result"
    }
   ],
   "source": [
    "let f x = 3*x + 7 in\n",
    "eval f"
   ]
  },
  {
   "cell_type": "markdown",
   "id": "f47a7eaa",
   "metadata": {},
   "source": [
    "**Exercice** : \n",
    "1. On définit une fonction `h` :\n",
    "```ocaml\n",
    "let h f g x = f (g x)\n",
    "```\n",
    "Donner la valeur de l'expression :\n",
    "```ocaml\n",
    "h (fun x -> x*x) (fun x -> x + 1) 3\n",
    "```\n",
    "2. Donner le type de `h`.\n",
    "3. À quoi sert `h`? Comment cette opération s'appelle-t-elle mathématiquement?"
   ]
  },
  {
   "cell_type": "code",
   "execution_count": 28,
   "id": "413c94a5",
   "metadata": {
    "execution": {
     "iopub.execute_input": "2021-09-21T17:09:39.165362Z",
     "iopub.status.busy": "2021-09-21T17:09:39.164818Z",
     "iopub.status.idle": "2021-09-21T17:09:39.169271Z",
     "shell.execute_reply": "2021-09-21T17:09:39.168761Z"
    },
    "tags": [
     "cor"
    ]
   },
   "outputs": [
    {
     "data": {
      "text/plain": [
       "val h : ('a -> 'b) -> ('c -> 'a) -> 'c -> 'b = <fun>\n"
      ]
     },
     "execution_count": 28,
     "metadata": {},
     "output_type": "execute_result"
    },
    {
     "data": {
      "text/plain": [
       "- : int = 16\n"
      ]
     },
     "execution_count": 28,
     "metadata": {},
     "output_type": "execute_result"
    }
   ],
   "source": [
    "(* 1. et 2. *)\n",
    "let h f g x = f (g x);; \n",
    "h (fun x -> x*x) (fun x -> x + 1) 3;;"
   ]
  },
  {
   "cell_type": "markdown",
   "id": "06eefd36",
   "metadata": {
    "tags": [
     "cor"
    ]
   },
   "source": [
    "3. `h` compose deux fonctions `f` et `g` : `h f g` est une fonction équivalent à $f \\circ g$."
   ]
  },
  {
   "cell_type": "markdown",
   "id": "8da4c330",
   "metadata": {
    "tags": []
   },
   "source": [
    "## Variable locale à une fonction"
   ]
  },
  {
   "cell_type": "markdown",
   "id": "df5bc576",
   "metadata": {},
   "source": [
    "Il est possible de définir une variable dans une fonction :"
   ]
  },
  {
   "cell_type": "code",
   "execution_count": 29,
   "id": "367861d1",
   "metadata": {
    "execution": {
     "iopub.execute_input": "2021-09-21T17:09:39.171043Z",
     "iopub.status.busy": "2021-09-21T17:09:39.170539Z",
     "iopub.status.idle": "2021-09-21T17:09:39.175615Z",
     "shell.execute_reply": "2021-09-21T17:09:39.175139Z"
    },
    "tags": []
   },
   "outputs": [
    {
     "data": {
      "text/plain": [
       "val pow4 : int -> int = <fun>\n"
      ]
     },
     "execution_count": 29,
     "metadata": {},
     "output_type": "execute_result"
    }
   ],
   "source": [
    "let pow4 x = (* je saute une ligne ici pour plus de lisibilité *)\n",
    "    let y = x*x in  (* y est utilisable seulement dans pow4 *)\n",
    "    y*y (* renvoie x puissance 4 *)"
   ]
  },
  {
   "cell_type": "code",
   "execution_count": 30,
   "id": "c151c594",
   "metadata": {
    "execution": {
     "iopub.execute_input": "2021-09-21T17:09:39.177520Z",
     "iopub.status.busy": "2021-09-21T17:09:39.176849Z",
     "iopub.status.idle": "2021-09-21T17:09:39.179090Z",
     "shell.execute_reply": "2021-09-21T17:09:39.178679Z"
    },
    "tags": []
   },
   "outputs": [
    {
     "data": {
      "text/plain": [
       "- : int = 16\n"
      ]
     },
     "execution_count": 30,
     "metadata": {},
     "output_type": "execute_result"
    }
   ],
   "source": [
    "pow4 2 (* test de notre fonction *)"
   ]
  },
  {
   "cell_type": "markdown",
   "id": "7613e38d",
   "metadata": {
    "tags": []
   },
   "source": [
    "On peut aussi définir une fonction à l'intérieur d'une fonction. Par exemple, on peut définir $f: x \\longmapsto 2x + \\sqrt{2(x + 1)}$ en utilisant une fonction locale $g : y \\longmapsto 2y$ :"
   ]
  },
  {
   "cell_type": "code",
   "execution_count": 31,
   "id": "1d5db78a",
   "metadata": {
    "execution": {
     "iopub.execute_input": "2021-09-21T17:09:39.180819Z",
     "iopub.status.busy": "2021-09-21T17:09:39.180335Z",
     "iopub.status.idle": "2021-09-21T17:09:39.183275Z",
     "shell.execute_reply": "2021-09-21T17:09:39.182799Z"
    }
   },
   "outputs": [
    {
     "data": {
      "text/plain": [
       "val f : float -> float = <fun>\n"
      ]
     },
     "execution_count": 31,
     "metadata": {},
     "output_type": "execute_result"
    }
   ],
   "source": [
    "let f x = \n",
    "    let g y = 2.*.y in (* g n'est utilisable que dans f *)\n",
    "    g x +. (g (x +. 1.))**0.5"
   ]
  },
  {
   "cell_type": "code",
   "execution_count": 32,
   "id": "f5e4551e",
   "metadata": {
    "execution": {
     "iopub.execute_input": "2021-09-21T17:09:39.185352Z",
     "iopub.status.busy": "2021-09-21T17:09:39.184846Z",
     "iopub.status.idle": "2021-09-21T17:09:39.186940Z",
     "shell.execute_reply": "2021-09-21T17:09:39.186461Z"
    }
   },
   "outputs": [
    {
     "data": {
      "text/plain": [
       "- : float = 4.\n"
      ]
     },
     "execution_count": 32,
     "metadata": {},
     "output_type": "execute_result"
    }
   ],
   "source": [
    "f 1."
   ]
  },
  {
   "cell_type": "markdown",
   "id": "6b35340a",
   "metadata": {},
   "source": [
    "**Exercice** : Écrire une fonction `swap` qui échange les valeurs de 2 références en argument.  \n",
    "`swap` doit être de type `'a ref -> 'a ref -> unit`, ce qui signifie que `swap` a deux références en argument, sur des valeurs de même type `'a`, et ne renvoie pas de valeur.  \n",
    "On rappelle les opérations sur les références :  \n",
    "- Définir une référence (locale) : `let a = ref 5 in ...`\n",
    "- Obtenir la valeur d'une référence : `!a`\n",
    "- Modifier une référence : `a := 7`  \n",
    "\n",
    "**Remarque importante** : Lorsque l'on modifie une référence (ou un autre objet impératif, comme un tableau) qui est l'argument d'une fonction, on la modifie aussi à l'extérieur de la fonction. C'est ce qu'on appelle un **passage par référence**.  "
   ]
  },
  {
   "cell_type": "code",
   "execution_count": 33,
   "id": "9e00d5c0",
   "metadata": {
    "execution": {
     "iopub.execute_input": "2021-09-21T17:09:39.189003Z",
     "iopub.status.busy": "2021-09-21T17:09:39.188287Z",
     "iopub.status.idle": "2021-09-21T17:09:39.194660Z",
     "shell.execute_reply": "2021-09-21T17:09:39.193919Z"
    },
    "tags": [
     "cor"
    ]
   },
   "outputs": [
    {
     "data": {
      "text/plain": [
       "val swap : 'a ref -> 'a ref -> unit = <fun>\n"
      ]
     },
     "execution_count": 33,
     "metadata": {},
     "output_type": "execute_result"
    },
    {
     "data": {
      "text/plain": [
       "- : int ref * int ref = ({contents = 2}, {contents = 1})\n"
      ]
     },
     "execution_count": 33,
     "metadata": {},
     "output_type": "execute_result"
    }
   ],
   "source": [
    "(* 2. *)\n",
    "let swap x y =\n",
    "    let tmp = !y in\n",
    "    y := !x;\n",
    "    x := tmp;;\n",
    "\n",
    "let x = ref 1 in\n",
    "let y = ref 2 in\n",
    "swap x y;\n",
    "x, y;;"
   ]
  }
 ],
 "metadata": {
  "kernelspec": {
   "display_name": "OCaml default",
   "language": "OCaml",
   "name": "ocaml-jupyter"
  },
  "language_info": {
   "codemirror_mode": "text/x-ocaml",
   "file_extension": ".ml",
   "mimetype": "text/x-ocaml",
   "name": "OCaml",
   "nbconverter_exporter": null,
   "pygments_lexer": "OCaml",
   "version": "4.08.1"
  },
  "title": "Fonctions"
 },
 "nbformat": 4,
 "nbformat_minor": 5
}

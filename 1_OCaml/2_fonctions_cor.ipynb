{
 "cells": [
  {
   "cell_type": "markdown",
   "id": "1332f499",
   "metadata": {},
   "source": [
    "# Fonctions"
   ]
  },
  {
   "cell_type": "markdown",
   "id": "03bdb839",
   "metadata": {},
   "source": [
    "## Utiliser une fonction\n",
    "\n",
    "OCaml est un langage fonctionnel, ce qui signifie que :\n",
    "- les fonctions y occupent une place importante et peuvent être manipulées un peu comme des variables\n",
    "- les fonctions sont censées ne pas effectuer d'effet de bord, c'est à dire d'action sur l'extérieur de la fonction (pas de modification de variable globale, pas d'écriture dans un fichier...)\n",
    "\n",
    "Pour utiliser une fonction `f` sur une valeur `x`, on écrira simplement `f x` (et non pas `f(x)`).  \n",
    "\n",
    "Un certain nombre de fonctions sont déjà définies en OCaml. Par exemple, la racine carrée : "
   ]
  },
  {
   "cell_type": "code",
   "execution_count": 1,
   "id": "691d02f0",
   "metadata": {
    "execution": {
     "iopub.execute_input": "2021-09-11T11:44:23.701188Z",
     "iopub.status.busy": "2021-09-11T11:44:23.699912Z",
     "iopub.status.idle": "2021-09-11T11:44:23.702761Z",
     "shell.execute_reply": "2021-09-11T11:44:23.700510Z"
    },
    "tags": []
   },
   "outputs": [
    {
     "data": {
      "text/plain": [
       "- : float = 1.41421356237309515\n"
      ]
     },
     "execution_count": 1,
     "metadata": {},
     "output_type": "execute_result"
    }
   ],
   "source": [
    "sqrt 2.0 (* renvoie une approximation de racine de 2 *)"
   ]
  },
  {
   "cell_type": "markdown",
   "id": "a8a06bdf",
   "metadata": {},
   "source": [
    "Chaque fonction possède une **signature**, qui donne les types des paramètres (valeurs en entrée de la fonction) et le type de la valeur de retour."
   ]
  },
  {
   "cell_type": "code",
   "execution_count": 2,
   "id": "64b58df7",
   "metadata": {
    "execution": {
     "iopub.execute_input": "2021-09-11T11:44:23.705580Z",
     "iopub.status.busy": "2021-09-11T11:44:23.704961Z",
     "iopub.status.idle": "2021-09-11T11:44:23.707851Z",
     "shell.execute_reply": "2021-09-11T11:44:23.707362Z"
    },
    "tags": []
   },
   "outputs": [
    {
     "data": {
      "text/plain": [
       "- : float -> float = <fun>\n"
      ]
     },
     "execution_count": 2,
     "metadata": {},
     "output_type": "execute_result"
    }
   ],
   "source": [
    "sqrt"
   ]
  },
  {
   "cell_type": "markdown",
   "id": "a135a390",
   "metadata": {},
   "source": [
    "`float -> float` signifie que `sqrt` est une fonction qui prend un flottant en entrée et renvoie un flottant. On ne peut donc pas l'appliquer sur un entier :"
   ]
  },
  {
   "cell_type": "code",
   "execution_count": 3,
   "id": "aa5395d0",
   "metadata": {
    "execution": {
     "iopub.execute_input": "2021-09-11T11:44:23.710018Z",
     "iopub.status.busy": "2021-09-11T11:44:23.709381Z",
     "iopub.status.idle": "2021-09-11T11:44:23.711564Z",
     "shell.execute_reply": "2021-09-11T11:44:23.712055Z"
    },
    "tags": []
   },
   "outputs": [
    {
     "ename": "error",
     "evalue": "compile_error",
     "output_type": "error",
     "traceback": [
      "File \"[3]\", line 1, characters 5-6:\n1 | sqrt 2 (* erreur : on donne un entier à sqrt qui attend un flottant *)\n         ^\nError: This expression has type int but an expression was expected of type\n         float\n"
     ]
    }
   ],
   "source": [
    "sqrt 2 (* erreur : on donne un entier à sqrt qui attend un flottant *)"
   ]
  },
  {
   "cell_type": "markdown",
   "id": "737cd91e",
   "metadata": {},
   "source": [
    "## Définir une fonction"
   ]
  },
  {
   "cell_type": "markdown",
   "id": "b7da3285",
   "metadata": {},
   "source": [
    "En OCaml, une fonction se définie de la façon suivante :\n",
    "```ocaml\n",
    "let nom_fonction nom_argument = ... \n",
    "```\n",
    "où `...` est le corps de la fonction, c'est à dire ce qui est exécuté lorsqu'on utilise la fonction. \n",
    "\n",
    "**La valeur renvoyée par la fonction est celle de la dernière instruction (pas besoin de `return`)**."
   ]
  },
  {
   "cell_type": "markdown",
   "id": "08bbe4a6",
   "metadata": {},
   "source": [
    "Définissons par exemple la fonction $f: x \\longmapsto 2x$ :"
   ]
  },
  {
   "cell_type": "code",
   "execution_count": 4,
   "id": "5e6e80e3",
   "metadata": {
    "execution": {
     "iopub.execute_input": "2021-09-11T11:44:23.714222Z",
     "iopub.status.busy": "2021-09-11T11:44:23.713666Z",
     "iopub.status.idle": "2021-09-11T11:44:23.716354Z",
     "shell.execute_reply": "2021-09-11T11:44:23.716769Z"
    },
    "tags": []
   },
   "outputs": [
    {
     "data": {
      "text/plain": [
       "val f : int -> int = <fun>\n"
      ]
     },
     "execution_count": 4,
     "metadata": {},
     "output_type": "execute_result"
    }
   ],
   "source": [
    "let f x = 2*x"
   ]
  },
  {
   "cell_type": "markdown",
   "id": "713b199d",
   "metadata": {},
   "source": [
    "OCaml nous dit que `f` est de type `int -> int`, ce qui signifie que `f` prend un entier en entrée et renvoie un entier en sortie. Ceci est similaire à la notation mathématique $f : \\mathbb{N} \\longrightarrow \\mathbb{N}$.\n",
    "\n",
    "On peut ensuite utiliser `f` et récupérer la valeur de retour :"
   ]
  },
  {
   "cell_type": "code",
   "execution_count": 5,
   "id": "ac6e6215",
   "metadata": {
    "execution": {
     "iopub.execute_input": "2021-09-11T11:44:23.718753Z",
     "iopub.status.busy": "2021-09-11T11:44:23.718194Z",
     "iopub.status.idle": "2021-09-11T11:44:23.720450Z",
     "shell.execute_reply": "2021-09-11T11:44:23.720852Z"
    }
   },
   "outputs": [
    {
     "data": {
      "text/plain": [
       "- : int = 6\n"
      ]
     },
     "execution_count": 5,
     "metadata": {},
     "output_type": "execute_result"
    }
   ],
   "source": [
    "f 3"
   ]
  },
  {
   "cell_type": "markdown",
   "id": "897ce06c",
   "metadata": {},
   "source": [
    "Notons que `x` est une variable **muette** : elle n'existe qu'à l'intérieur de `f`, n'a aucun rapport avec une variable `x` définie précédemment et la fonction suivante définit exactement la même fonction :"
   ]
  },
  {
   "cell_type": "code",
   "execution_count": 6,
   "id": "3af1327b",
   "metadata": {
    "execution": {
     "iopub.execute_input": "2021-09-11T11:44:23.722853Z",
     "iopub.status.busy": "2021-09-11T11:44:23.722289Z",
     "iopub.status.idle": "2021-09-11T11:44:23.725360Z",
     "shell.execute_reply": "2021-09-11T11:44:23.724800Z"
    },
    "tags": []
   },
   "outputs": [
    {
     "data": {
      "text/plain": [
       "val f : int -> int = <fun>\n"
      ]
     },
     "execution_count": 6,
     "metadata": {},
     "output_type": "execute_result"
    }
   ],
   "source": [
    "let f y = 2*y (* peu importe le nom de la variable muette y *)"
   ]
  },
  {
   "cell_type": "markdown",
   "id": "c78a0fdc",
   "metadata": {},
   "source": [
    "Maintenant que `f` est définie, on peut calculer $f(3)$ :"
   ]
  },
  {
   "cell_type": "code",
   "execution_count": 7,
   "id": "7ebb07e7",
   "metadata": {
    "execution": {
     "iopub.execute_input": "2021-09-11T11:44:23.727230Z",
     "iopub.status.busy": "2021-09-11T11:44:23.726715Z",
     "iopub.status.idle": "2021-09-11T11:44:23.728958Z",
     "shell.execute_reply": "2021-09-11T11:44:23.729400Z"
    },
    "tags": []
   },
   "outputs": [
    {
     "data": {
      "text/plain": [
       "- : int = 6\n"
      ]
     },
     "execution_count": 7,
     "metadata": {},
     "output_type": "execute_result"
    }
   ],
   "source": [
    "f 3"
   ]
  },
  {
   "cell_type": "markdown",
   "id": "a9d703bb",
   "metadata": {},
   "source": [
    "**Exercice** : définir la fonction $f : x \\longmapsto \\frac{1}{\\sqrt{1 + x^2}}$ en OCaml."
   ]
  },
  {
   "cell_type": "code",
   "execution_count": 8,
   "id": "d24b2785",
   "metadata": {
    "execution": {
     "iopub.execute_input": "2021-09-11T11:44:23.731487Z",
     "iopub.status.busy": "2021-09-11T11:44:23.730946Z",
     "iopub.status.idle": "2021-09-11T11:44:23.735661Z",
     "shell.execute_reply": "2021-09-11T11:44:23.735166Z"
    },
    "tags": [
     "cor"
    ]
   },
   "outputs": [
    {
     "data": {
      "text/plain": [
       "val f : float -> float = <fun>\n"
      ]
     },
     "execution_count": 8,
     "metadata": {},
     "output_type": "execute_result"
    }
   ],
   "source": [
    "let f x = 1./.(1. +. x**2.)**0.5"
   ]
  },
  {
   "cell_type": "markdown",
   "id": "2d6c4717",
   "metadata": {},
   "source": [
    "Comme pour les variables, il est possible d'utiliser `in` pour spécifier la portée d'une fonction $g$"
   ]
  },
  {
   "cell_type": "code",
   "execution_count": 9,
   "id": "a75a20ac",
   "metadata": {
    "execution": {
     "iopub.execute_input": "2021-09-11T11:44:23.737720Z",
     "iopub.status.busy": "2021-09-11T11:44:23.737093Z",
     "iopub.status.idle": "2021-09-11T11:44:23.740559Z",
     "shell.execute_reply": "2021-09-11T11:44:23.739912Z"
    },
    "tags": []
   },
   "outputs": [
    {
     "data": {
      "text/plain": [
       "- : int = 1\n"
      ]
     },
     "execution_count": 9,
     "metadata": {},
     "output_type": "execute_result"
    }
   ],
   "source": [
    "let g x = x + 1 in\n",
    "g 0  (* g est utilisable seulement dans le in *)"
   ]
  },
  {
   "cell_type": "markdown",
   "id": "5b244fdd",
   "metadata": {},
   "source": [
    "**Exercice** Donner la valeur de l'expression suivante :\n",
    "```ocaml\n",
    "let h x = f x + 1 in\n",
    "h 3\n",
    "```"
   ]
  },
  {
   "cell_type": "code",
   "execution_count": 10,
   "id": "6356fee1",
   "metadata": {
    "execution": {
     "iopub.execute_input": "2021-09-11T11:44:23.742681Z",
     "iopub.status.busy": "2021-09-11T11:44:23.742075Z",
     "iopub.status.idle": "2021-09-11T11:44:23.744726Z",
     "shell.execute_reply": "2021-09-11T11:44:23.744281Z"
    },
    "tags": [
     "cor"
    ]
   },
   "outputs": [
    {
     "ename": "error",
     "evalue": "compile_error",
     "output_type": "error",
     "traceback": [
      "File \"[10]\", line 1, characters 10-13:\n1 | let h x = f x + 1 in (* x est remplacé par 3, f x est remplacé par 6 *)\n              ^^^\nError: This expression has type float but an expression was expected of type\n         int\n"
     ]
    }
   ],
   "source": [
    "let h x = f x + 1 in (* x est remplacé par 3, f x est remplacé par 6 *)\n",
    "h 3"
   ]
  },
  {
   "cell_type": "markdown",
   "id": "ae46bcd1",
   "metadata": {},
   "source": [
    "## Fonctions anonymes"
   ]
  },
  {
   "cell_type": "markdown",
   "id": "505376f5",
   "metadata": {},
   "source": [
    "Quand on a besoin d'utiliser une fonction une seule fois, on peut définir une fonction anonyme (sans nom) avec `fun`. C'est l'équivalent de `lambda` en Python."
   ]
  },
  {
   "cell_type": "code",
   "execution_count": 11,
   "id": "fe98e91e",
   "metadata": {
    "execution": {
     "iopub.execute_input": "2021-09-11T11:44:23.746734Z",
     "iopub.status.busy": "2021-09-11T11:44:23.746128Z",
     "iopub.status.idle": "2021-09-11T11:44:23.749291Z",
     "shell.execute_reply": "2021-09-11T11:44:23.748796Z"
    },
    "tags": []
   },
   "outputs": [
    {
     "data": {
      "text/plain": [
       "- : int -> int = <fun>\n"
      ]
     },
     "execution_count": 11,
     "metadata": {},
     "output_type": "execute_result"
    }
   ],
   "source": [
    "fun x -> x*2 (* définition d'une fonction anonyme *)"
   ]
  },
  {
   "cell_type": "code",
   "execution_count": 12,
   "id": "2aec02b6",
   "metadata": {
    "execution": {
     "iopub.execute_input": "2021-09-11T11:44:23.751355Z",
     "iopub.status.busy": "2021-09-11T11:44:23.750711Z",
     "iopub.status.idle": "2021-09-11T11:44:23.753072Z",
     "shell.execute_reply": "2021-09-11T11:44:23.753556Z"
    },
    "tags": []
   },
   "outputs": [
    {
     "data": {
      "text/plain": [
       "- : int = 6\n"
      ]
     },
     "execution_count": 12,
     "metadata": {},
     "output_type": "execute_result"
    }
   ],
   "source": [
    "(fun x -> x*2) 3 (* applique une fonction anonyme sur la valeur 3 *)"
   ]
  },
  {
   "cell_type": "markdown",
   "id": "080eecab",
   "metadata": {},
   "source": [
    "**Remarque** : les deux définitions suivantes sont en fait complètement équivalentes.\n",
    "```ocaml\n",
    "let f x = ...\n",
    "```\n",
    "```ocaml\n",
    "let f = fun x -> ...\n",
    "```\n",
    "\n",
    "Par exemple, on peut définir la fonction $f : x \\longmapsto 2 \\sqrt{x}$ comme ceci :"
   ]
  },
  {
   "cell_type": "code",
   "execution_count": 13,
   "id": "07ba991d",
   "metadata": {
    "execution": {
     "iopub.execute_input": "2021-09-11T11:44:23.756528Z",
     "iopub.status.busy": "2021-09-11T11:44:23.755996Z",
     "iopub.status.idle": "2021-09-11T11:44:23.759173Z",
     "shell.execute_reply": "2021-09-11T11:44:23.758604Z"
    }
   },
   "outputs": [
    {
     "data": {
      "text/plain": [
       "val f : float -> float = <fun>\n"
      ]
     },
     "execution_count": 13,
     "metadata": {},
     "output_type": "execute_result"
    }
   ],
   "source": [
    "let f = fun x -> 2.0*.x**0.5"
   ]
  },
  {
   "cell_type": "markdown",
   "id": "a1f77278",
   "metadata": {},
   "source": [
    "**Remarque** : On peut aussi définir une fonction avec `function x -> ...` mais `fun` est légèrement plus simple d'utilisation."
   ]
  },
  {
   "cell_type": "markdown",
   "id": "52fb4219",
   "metadata": {},
   "source": [
    "## Fonctions de plusieurs variables"
   ]
  },
  {
   "cell_type": "markdown",
   "id": "ab6f8375",
   "metadata": {},
   "source": [
    "Il est possible de définir des fonctions avec plusieurs paramètres, par exemple :"
   ]
  },
  {
   "cell_type": "code",
   "execution_count": 14,
   "id": "dfcdc94e",
   "metadata": {
    "execution": {
     "iopub.execute_input": "2021-09-11T11:44:23.761579Z",
     "iopub.status.busy": "2021-09-11T11:44:23.760923Z",
     "iopub.status.idle": "2021-09-11T11:44:23.763625Z",
     "shell.execute_reply": "2021-09-11T11:44:23.763180Z"
    },
    "lines_to_next_cell": 0,
    "tags": []
   },
   "outputs": [
    {
     "data": {
      "text/plain": [
       "val sum : int -> int -> int = <fun>\n"
      ]
     },
     "execution_count": 14,
     "metadata": {},
     "output_type": "execute_result"
    }
   ],
   "source": [
    "let sum x y = x + y"
   ]
  },
  {
   "cell_type": "code",
   "execution_count": 15,
   "id": "dee2d837",
   "metadata": {
    "execution": {
     "iopub.execute_input": "2021-09-11T11:44:23.765655Z",
     "iopub.status.busy": "2021-09-11T11:44:23.765078Z",
     "iopub.status.idle": "2021-09-11T11:44:23.767132Z",
     "shell.execute_reply": "2021-09-11T11:44:23.767647Z"
    },
    "tags": []
   },
   "outputs": [
    {
     "data": {
      "text/plain": [
       "- : int = 7\n"
      ]
     },
     "execution_count": 15,
     "metadata": {},
     "output_type": "execute_result"
    }
   ],
   "source": [
    "sum 3 4 (* renvoie 3 + 4 *)"
   ]
  },
  {
   "cell_type": "markdown",
   "id": "8f7c8fa6",
   "metadata": {},
   "source": [
    "Le type de `sum` est `int -> int -> int`, ce qui peut paraître étrange. C'est équivalent à `int -> (int -> int)`, ce qui signifie que `sum` prend en entier en argument et renvoie une valeur de type `int -> int` (c'est à dire une fonction).  \n",
    "En effet :"
   ]
  },
  {
   "cell_type": "code",
   "execution_count": 16,
   "id": "54150b22",
   "metadata": {
    "execution": {
     "iopub.execute_input": "2021-09-11T11:44:23.769816Z",
     "iopub.status.busy": "2021-09-11T11:44:23.769232Z",
     "iopub.status.idle": "2021-09-11T11:44:23.773855Z",
     "shell.execute_reply": "2021-09-11T11:44:23.773328Z"
    },
    "tags": []
   },
   "outputs": [
    {
     "data": {
      "text/plain": [
       "- : int -> int = <fun>\n"
      ]
     },
     "execution_count": 16,
     "metadata": {},
     "output_type": "execute_result"
    }
   ],
   "source": [
    "sum 3"
   ]
  },
  {
   "cell_type": "markdown",
   "id": "4ddba400",
   "metadata": {},
   "source": [
    "`sum 3` est une fonction qui prend en argument un entier `y` et qui renvoie `3 + y`, ce qu'on peut vérifier :"
   ]
  },
  {
   "cell_type": "code",
   "execution_count": 17,
   "id": "a30c647c",
   "metadata": {
    "execution": {
     "iopub.execute_input": "2021-09-11T11:44:23.775834Z",
     "iopub.status.busy": "2021-09-11T11:44:23.775277Z",
     "iopub.status.idle": "2021-09-11T11:44:23.777561Z",
     "shell.execute_reply": "2021-09-11T11:44:23.778008Z"
    },
    "tags": []
   },
   "outputs": [
    {
     "data": {
      "text/plain": [
       "- : int = 7\n"
      ]
     },
     "execution_count": 17,
     "metadata": {},
     "output_type": "execute_result"
    }
   ],
   "source": [
    "let f = sum 3 in (* f est une fonction *)\n",
    "f 4 (* renvoie sum 3 4, c'est à dire 7 *)"
   ]
  },
  {
   "cell_type": "markdown",
   "id": "0ae9a168",
   "metadata": {},
   "source": [
    "En fait, OCaml transforme automatiquement une fonction de plusieurs variables en une suite de fonctions à une variable (c'est ce qu'on appelle la **curryfication**) :"
   ]
  },
  {
   "cell_type": "code",
   "execution_count": 18,
   "id": "19e93f7a",
   "metadata": {
    "execution": {
     "iopub.execute_input": "2021-09-11T11:44:23.780073Z",
     "iopub.status.busy": "2021-09-11T11:44:23.779530Z",
     "iopub.status.idle": "2021-09-11T11:44:23.784177Z",
     "shell.execute_reply": "2021-09-11T11:44:23.783673Z"
    }
   },
   "outputs": [
    {
     "data": {
      "text/plain": [
       "val sum : int -> int -> int = <fun>\n"
      ]
     },
     "execution_count": 18,
     "metadata": {},
     "output_type": "execute_result"
    }
   ],
   "source": [
    "let sum = fun x -> (fun y -> x + y) (* OCaml transforme la définition de sum ci-dessus en celle-ci *)"
   ]
  },
  {
   "cell_type": "code",
   "execution_count": 19,
   "id": "75e64bf0",
   "metadata": {
    "execution": {
     "iopub.execute_input": "2021-09-11T11:44:23.786171Z",
     "iopub.status.busy": "2021-09-11T11:44:23.785643Z",
     "iopub.status.idle": "2021-09-11T11:44:23.787591Z",
     "shell.execute_reply": "2021-09-11T11:44:23.788007Z"
    }
   },
   "outputs": [
    {
     "data": {
      "text/plain": [
       "- : int = 5\n"
      ]
     },
     "execution_count": 19,
     "metadata": {},
     "output_type": "execute_result"
    }
   ],
   "source": [
    "(sum 2) 3  (* le calcul effectué par OCaml lorsqu'on écrit sum 2 3 *)"
   ]
  },
  {
   "cell_type": "markdown",
   "id": "1df66138",
   "metadata": {},
   "source": [
    "La possibilité d'appliquer une fonction seulement sur certains arguments s'appelle l'**application partielle** de fonction. C'est un des avantages d'OCaml par rapport à Python.  "
   ]
  },
  {
   "cell_type": "markdown",
   "id": "07eb7e2c",
   "metadata": {},
   "source": [
    "De la même façon, une fonction OCaml à 3 arguments sera de type `... -> ... -> ... -> ...`."
   ]
  },
  {
   "cell_type": "markdown",
   "id": "88058791",
   "metadata": {},
   "source": [
    "**Exercice** : Écrire une fonction `delta : float -> float -> float -> float` telle que `delta a b c` renvoie le discriminant de l'équation $ax^2 + bx + c = 0$."
   ]
  },
  {
   "cell_type": "code",
   "execution_count": 20,
   "id": "feed491b",
   "metadata": {
    "execution": {
     "iopub.execute_input": "2021-09-11T11:44:23.789880Z",
     "iopub.status.busy": "2021-09-11T11:44:23.789378Z",
     "iopub.status.idle": "2021-09-11T11:44:23.793060Z",
     "shell.execute_reply": "2021-09-11T11:44:23.792494Z"
    },
    "tags": [
     "cor"
    ]
   },
   "outputs": [
    {
     "data": {
      "text/plain": [
       "val delta : float -> float -> float -> float = <fun>\n"
      ]
     },
     "execution_count": 20,
     "metadata": {},
     "output_type": "execute_result"
    }
   ],
   "source": [
    "let delta a b c = b**2. -. 4.*.a*.c"
   ]
  },
  {
   "cell_type": "markdown",
   "id": "aac4fe5f",
   "metadata": {},
   "source": [
    "Une fonction peut aussi avoir aucune valeur en entrée. Dans ce cas, on lui donne l'argument `()` (de type unit). C'est le cas par exemple de `print_newline`, qui saute une ligne : "
   ]
  },
  {
   "cell_type": "code",
   "execution_count": 21,
   "id": "3f6adf3a",
   "metadata": {
    "execution": {
     "iopub.execute_input": "2021-09-11T11:44:23.795207Z",
     "iopub.status.busy": "2021-09-11T11:44:23.794655Z",
     "iopub.status.idle": "2021-09-11T11:44:23.799461Z",
     "shell.execute_reply": "2021-09-11T11:44:23.797743Z"
    }
   },
   "outputs": [
    {
     "name": "stdout",
     "output_type": "stream",
     "text": [
      "0\n",
      "1\n"
     ]
    },
    {
     "data": {
      "text/plain": [
       "- : unit = ()\n"
      ]
     },
     "execution_count": 21,
     "metadata": {},
     "output_type": "execute_result"
    }
   ],
   "source": [
    "print_int 0;\n",
    "print_newline ();\n",
    "print_int 1;\n",
    "print_newline ();"
   ]
  },
  {
   "cell_type": "markdown",
   "id": "4b77a39b",
   "metadata": {},
   "source": [
    "## Polymorphisme"
   ]
  },
  {
   "cell_type": "markdown",
   "id": "6b90e5e2",
   "metadata": {},
   "source": [
    "Reprenons notre 1er exemple de fonction :"
   ]
  },
  {
   "cell_type": "code",
   "execution_count": 22,
   "id": "786adb1f",
   "metadata": {
    "execution": {
     "iopub.execute_input": "2021-09-11T11:44:23.802023Z",
     "iopub.status.busy": "2021-09-11T11:44:23.800850Z",
     "iopub.status.idle": "2021-09-11T11:44:23.803497Z",
     "shell.execute_reply": "2021-09-11T11:44:23.803907Z"
    }
   },
   "outputs": [
    {
     "data": {
      "text/plain": [
       "val f : int -> int = <fun>\n"
      ]
     },
     "execution_count": 22,
     "metadata": {},
     "output_type": "execute_result"
    }
   ],
   "source": [
    "let f x = 2*x"
   ]
  },
  {
   "cell_type": "markdown",
   "id": "892d5cdd",
   "metadata": {},
   "source": [
    "OCaml sait que l'argument `x` de `f` est un `int` car on utilise l'opérateur `*` qui ne s'utilise que sur des entiers. Mais dans certaines fonctions, il n'y a pas de contrainte de type :"
   ]
  },
  {
   "cell_type": "code",
   "execution_count": 23,
   "id": "f1176a1a",
   "metadata": {
    "execution": {
     "iopub.execute_input": "2021-09-11T11:44:23.805952Z",
     "iopub.status.busy": "2021-09-11T11:44:23.805327Z",
     "iopub.status.idle": "2021-09-11T11:44:23.807770Z",
     "shell.execute_reply": "2021-09-11T11:44:23.808192Z"
    }
   },
   "outputs": [
    {
     "data": {
      "text/plain": [
       "val id : 'a -> 'a = <fun>\n"
      ]
     },
     "execution_count": 23,
     "metadata": {},
     "output_type": "execute_result"
    }
   ],
   "source": [
    "let id x = x"
   ]
  },
  {
   "cell_type": "markdown",
   "id": "ebf0f5c7",
   "metadata": {},
   "source": [
    "Cette fonction `id` (pour identité) renvoie son argument sans le modifier. Comme aucune opération n'est appliquée sur `x`, il n'y a pas de contrainte sur son type. OCaml utilise alors `'a` pour désigner le type quelconque de `x`.  \n",
    "Notons que le type de retour de `id` est `'a` également : OCaml nous dit que `id` renvoie une valeur du même type que l'argument."
   ]
  },
  {
   "cell_type": "markdown",
   "id": "8f09d1c6",
   "metadata": {},
   "source": [
    "**Exercice** : donner le type des fonctions suivantes  \n",
    "```ocaml\n",
    " let f x = 42\n",
    "```\n",
    "```ocaml\n",
    " let f x y = y\n",
    "```\n",
    "```ocaml\n",
    " let g x y f = x + f y\n",
    " ```"
   ]
  },
  {
   "cell_type": "code",
   "execution_count": 24,
   "id": "f28393ba",
   "metadata": {
    "execution": {
     "iopub.execute_input": "2021-09-11T11:44:23.810269Z",
     "iopub.status.busy": "2021-09-11T11:44:23.809737Z",
     "iopub.status.idle": "2021-09-11T11:44:23.811691Z",
     "shell.execute_reply": "2021-09-11T11:44:23.812135Z"
    },
    "tags": [
     "cor"
    ]
   },
   "outputs": [
    {
     "data": {
      "text/plain": [
       "val f : 'a -> int = <fun>\n"
      ]
     },
     "execution_count": 24,
     "metadata": {},
     "output_type": "execute_result"
    }
   ],
   "source": [
    "let f x = 42;; \n",
    "(* x est quelconque ('a) et le type de retour est int *)\n",
    "(* donc f est de type 'a -> int *)"
   ]
  },
  {
   "cell_type": "code",
   "execution_count": 25,
   "id": "c8646d79",
   "metadata": {
    "execution": {
     "iopub.execute_input": "2021-09-11T11:44:23.813987Z",
     "iopub.status.busy": "2021-09-11T11:44:23.813443Z",
     "iopub.status.idle": "2021-09-11T11:44:23.815490Z",
     "shell.execute_reply": "2021-09-11T11:44:23.816032Z"
    }
   },
   "outputs": [
    {
     "data": {
      "text/plain": [
       "val f : 'a -> 'b -> 'b = <fun>\n"
      ]
     },
     "execution_count": 25,
     "metadata": {},
     "output_type": "execute_result"
    }
   ],
   "source": [
    "let f x y = y;; \n",
    "(* x est quelconque ('a), y aussi ('b) mais le type de retour est le même que y ('b) *)\n",
    "(* donc f est de type 'a -> 'b -> 'b *)"
   ]
  },
  {
   "cell_type": "code",
   "execution_count": 26,
   "id": "d70bb4be",
   "metadata": {
    "execution": {
     "iopub.execute_input": "2021-09-11T11:44:23.817857Z",
     "iopub.status.busy": "2021-09-11T11:44:23.817317Z",
     "iopub.status.idle": "2021-09-11T11:44:23.820609Z",
     "shell.execute_reply": "2021-09-11T11:44:23.820096Z"
    }
   },
   "outputs": [
    {
     "data": {
      "text/plain": [
       "val g : int -> 'a -> ('a -> int) -> int = <fun>\n"
      ]
     },
     "execution_count": 26,
     "metadata": {},
     "output_type": "execute_result"
    }
   ],
   "source": [
    "let g x y f = x + f y;; \n",
    "(* x est un int, à cause du + *)\n",
    "(* y est quelconque ('a) *)\n",
    "(* f est une fonction qui prend un y (de type 'a) et renvoie un int, à cause du + *)\n",
    "(* donc f est de type int -> 'a -> ()*)"
   ]
  },
  {
   "cell_type": "markdown",
   "id": "09b0d18f",
   "metadata": {},
   "source": [
    "## Fonction comme argument\n",
    "\n",
    "Il est possible d'utiliser une fonction en argument d'une autre fonction. Par exemple, la fonction suivante évalue une autre fonction en la valeur 0 :"
   ]
  },
  {
   "cell_type": "code",
   "execution_count": 27,
   "id": "983476be",
   "metadata": {
    "execution": {
     "iopub.execute_input": "2021-09-11T11:44:23.822791Z",
     "iopub.status.busy": "2021-09-11T11:44:23.822068Z",
     "iopub.status.idle": "2021-09-11T11:44:23.824066Z",
     "shell.execute_reply": "2021-09-11T11:44:23.824498Z"
    }
   },
   "outputs": [
    {
     "data": {
      "text/plain": [
       "val eval : (int -> 'a) -> 'a = <fun>\n"
      ]
     },
     "execution_count": 27,
     "metadata": {},
     "output_type": "execute_result"
    }
   ],
   "source": [
    "let eval f =\n",
    "f 0"
   ]
  },
  {
   "cell_type": "code",
   "execution_count": 28,
   "id": "d98e7cae",
   "metadata": {
    "execution": {
     "iopub.execute_input": "2021-09-11T11:44:23.826199Z",
     "iopub.status.busy": "2021-09-11T11:44:23.825690Z",
     "iopub.status.idle": "2021-09-11T11:44:23.829041Z",
     "shell.execute_reply": "2021-09-11T11:44:23.828526Z"
    }
   },
   "outputs": [
    {
     "data": {
      "text/plain": [
       "- : int = 7\n"
      ]
     },
     "execution_count": 28,
     "metadata": {},
     "output_type": "execute_result"
    }
   ],
   "source": [
    "let f x = 3*x + 7 in\n",
    "eval f"
   ]
  },
  {
   "cell_type": "markdown",
   "id": "7ab2421c",
   "metadata": {},
   "source": [
    "**Exercice** : \n",
    "1. On définit une fonction `h` :\n",
    "```ocaml\n",
    "let h f g x = f (g x)\n",
    "```\n",
    "Donner la valeur de l'expression :\n",
    "```ocaml\n",
    "h (fun x -> x*x) (fun x -> x + 1) 3\n",
    "```\n",
    "2. Donner le type de `h`.\n",
    "3. À quoi sert `h`? Comment cette opération s'appelle-t-elle mathématiquement?"
   ]
  },
  {
   "cell_type": "code",
   "execution_count": 29,
   "id": "91869bc2",
   "metadata": {
    "execution": {
     "iopub.execute_input": "2021-09-11T11:44:23.830830Z",
     "iopub.status.busy": "2021-09-11T11:44:23.830328Z",
     "iopub.status.idle": "2021-09-11T11:44:23.837162Z",
     "shell.execute_reply": "2021-09-11T11:44:23.836689Z"
    },
    "tags": [
     "cor"
    ]
   },
   "outputs": [
    {
     "data": {
      "text/plain": [
       "val h : ('a -> 'b) -> ('c -> 'a) -> 'c -> 'b = <fun>\n"
      ]
     },
     "execution_count": 29,
     "metadata": {},
     "output_type": "execute_result"
    },
    {
     "data": {
      "text/plain": [
       "- : int = 16\n"
      ]
     },
     "execution_count": 29,
     "metadata": {},
     "output_type": "execute_result"
    }
   ],
   "source": [
    "(* 1. et 2. *)\n",
    "let h f g x = f (g x);; \n",
    "h (fun x -> x*x) (fun x -> x + 1) 3;;"
   ]
  },
  {
   "cell_type": "markdown",
   "id": "4b391498",
   "metadata": {
    "tags": [
     "cor"
    ]
   },
   "source": [
    "3. `h` compose deux fonctions `f` et `g` : `h f g` est une fonction équivalent à $f \\circ g$."
   ]
  },
  {
   "cell_type": "markdown",
   "id": "b80de1a0",
   "metadata": {
    "tags": []
   },
   "source": [
    "## Variable locale à une fonction"
   ]
  },
  {
   "cell_type": "markdown",
   "id": "74319d79",
   "metadata": {},
   "source": [
    "Il est possible de définir une variable dans une fonction :"
   ]
  },
  {
   "cell_type": "code",
   "execution_count": 30,
   "id": "f11b90d0",
   "metadata": {
    "execution": {
     "iopub.execute_input": "2021-09-11T11:44:23.839260Z",
     "iopub.status.busy": "2021-09-11T11:44:23.838780Z",
     "iopub.status.idle": "2021-09-11T11:44:23.841893Z",
     "shell.execute_reply": "2021-09-11T11:44:23.841198Z"
    },
    "tags": []
   },
   "outputs": [
    {
     "data": {
      "text/plain": [
       "val pow4 : int -> int = <fun>\n"
      ]
     },
     "execution_count": 30,
     "metadata": {},
     "output_type": "execute_result"
    }
   ],
   "source": [
    "let pow4 x = (* je saute une ligne ici pour plus de lisibilité *)\n",
    "    let y = x*x in  (* y est utilisable seulement dans pow4 *)\n",
    "    y*y (* renvoie x puissance 4 *)"
   ]
  },
  {
   "cell_type": "code",
   "execution_count": 31,
   "id": "1c72869a",
   "metadata": {
    "execution": {
     "iopub.execute_input": "2021-09-11T11:44:23.843669Z",
     "iopub.status.busy": "2021-09-11T11:44:23.843067Z",
     "iopub.status.idle": "2021-09-11T11:44:23.845070Z",
     "shell.execute_reply": "2021-09-11T11:44:23.845623Z"
    },
    "tags": []
   },
   "outputs": [
    {
     "data": {
      "text/plain": [
       "- : int = 16\n"
      ]
     },
     "execution_count": 31,
     "metadata": {},
     "output_type": "execute_result"
    }
   ],
   "source": [
    "pow4 2 (* test de notre fonction *)"
   ]
  },
  {
   "cell_type": "markdown",
   "id": "193da8e3",
   "metadata": {
    "tags": []
   },
   "source": [
    "On peut aussi définir une fonction à l'intérieur d'une fonction. Par exemple, on peut définir $f: x \\longmapsto 2x + \\sqrt{2(x + 1)}$ en utilisant une fonction locale $g : y \\longmapsto 2y$ :"
   ]
  },
  {
   "cell_type": "code",
   "execution_count": 32,
   "id": "20b1c817",
   "metadata": {
    "execution": {
     "iopub.execute_input": "2021-09-11T11:44:23.847833Z",
     "iopub.status.busy": "2021-09-11T11:44:23.847310Z",
     "iopub.status.idle": "2021-09-11T11:44:23.851410Z",
     "shell.execute_reply": "2021-09-11T11:44:23.850694Z"
    }
   },
   "outputs": [
    {
     "data": {
      "text/plain": [
       "val f : float -> float = <fun>\n"
      ]
     },
     "execution_count": 32,
     "metadata": {},
     "output_type": "execute_result"
    }
   ],
   "source": [
    "let f x = \n",
    "    let g y = 2.*.y in (* g n'est utilisable que dans f *)\n",
    "    g x +. (g (x +. 1.))**0.5"
   ]
  },
  {
   "cell_type": "code",
   "execution_count": 33,
   "id": "d7a6859f",
   "metadata": {
    "execution": {
     "iopub.execute_input": "2021-09-11T11:44:23.853742Z",
     "iopub.status.busy": "2021-09-11T11:44:23.853052Z",
     "iopub.status.idle": "2021-09-11T11:44:23.855068Z",
     "shell.execute_reply": "2021-09-11T11:44:23.855489Z"
    }
   },
   "outputs": [
    {
     "data": {
      "text/plain": [
       "- : float = 4.\n"
      ]
     },
     "execution_count": 33,
     "metadata": {},
     "output_type": "execute_result"
    }
   ],
   "source": [
    "f 1."
   ]
  },
  {
   "cell_type": "markdown",
   "id": "045bf527",
   "metadata": {},
   "source": [
    "**Exercice** : Écrire une fonction `swap` qui échange les valeurs de 2 références en argument.  \n",
    "`swap` doit être de type `'a ref -> 'a ref -> unit`, ce qui signifie que `swap` a deux références en argument, sur des valeurs de même type `'a`, et ne renvoie pas de valeur.  \n",
    "On rappelle les opérations sur les références :  \n",
    "- Définir une référence (locale) : `let a = ref 5 in ...`\n",
    "- Obtenir la valeur d'une référence : `!a`\n",
    "- Modifier une référence : `a := 7`  \n",
    "\n",
    "**Remarque importante** : Lorsque l'on modifie une référence (ou un autre objet impératif, comme un tableau) qui est l'argument d'une fonction, on la modifie aussi à l'extérieur de la fonction. C'est ce qu'on appelle un **passage par référence**.  "
   ]
  },
  {
   "cell_type": "code",
   "execution_count": 34,
   "id": "783232af",
   "metadata": {
    "execution": {
     "iopub.execute_input": "2021-09-11T11:44:23.857318Z",
     "iopub.status.busy": "2021-09-11T11:44:23.856784Z",
     "iopub.status.idle": "2021-09-11T11:44:23.865042Z",
     "shell.execute_reply": "2021-09-11T11:44:23.864456Z"
    },
    "tags": [
     "cor"
    ]
   },
   "outputs": [
    {
     "data": {
      "text/plain": [
       "val swap : 'a ref -> 'a ref -> unit = <fun>\n"
      ]
     },
     "execution_count": 34,
     "metadata": {},
     "output_type": "execute_result"
    },
    {
     "data": {
      "text/plain": [
       "- : int ref * int ref = ({contents = 2}, {contents = 1})\n"
      ]
     },
     "execution_count": 34,
     "metadata": {},
     "output_type": "execute_result"
    }
   ],
   "source": [
    "(* 2. *)\n",
    "let swap x y =\n",
    "    let tmp = !y in\n",
    "    y := !x;\n",
    "    x := tmp;;\n",
    "\n",
    "let x = ref 1 in\n",
    "let y = ref 2 in\n",
    "swap x y;\n",
    "x, y;;"
   ]
  }
 ],
 "metadata": {
  "kernelspec": {
   "display_name": "OCaml default",
   "language": "OCaml",
   "name": "ocaml-jupyter"
  },
  "language_info": {
   "codemirror_mode": "text/x-ocaml",
   "file_extension": ".ml",
   "mimetype": "text/x-ocaml",
   "name": "OCaml",
   "nbconverter_exporter": null,
   "pygments_lexer": "OCaml",
   "version": "4.08.1"
  },
  "title": "Fonctions"
 },
 "nbformat": 4,
 "nbformat_minor": 5
}

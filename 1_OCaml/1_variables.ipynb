{
 "cells": [
  {
   "cell_type": "markdown",
   "id": "70843852",
   "metadata": {},
   "source": [
    "# Définition d'une variable\n",
    "\n",
    "Une variable possède 3 propriétés:\n",
    "- un nom (exemple : `x`)\n",
    "- une valeur (exemple : 42)\n",
    "- un type (exemple : entier)\n",
    "\n",
    "En OCaml, on définit une variable de la façon suivante :\n",
    "```ocaml\n",
    "let variable = valeur\n",
    "```\n",
    "\n",
    "Par exemple, pour définir une variable `x` valant 42 :"
   ]
  },
  {
   "cell_type": "code",
   "execution_count": 1,
   "id": "deb02229",
   "metadata": {
    "execution": {
     "iopub.execute_input": "2021-08-09T12:45:44.095290Z",
     "iopub.status.busy": "2021-08-09T12:45:44.092433Z",
     "iopub.status.idle": "2021-08-09T12:45:44.103161Z",
     "shell.execute_reply": "2021-08-09T12:45:44.097345Z"
    }
   },
   "outputs": [
    {
     "data": {
      "text/plain": [
       "val x : int = 42\n"
      ]
     },
     "execution_count": 1,
     "metadata": {},
     "output_type": "execute_result"
    }
   ],
   "source": [
    "let x = 42"
   ]
  },
  {
   "cell_type": "markdown",
   "id": "84f8634c",
   "metadata": {},
   "source": [
    "OCaml nous répond que `x` a pour valeur 42 et est de type `int` (*integer*, c'est à dire entier).\n",
    "La variable `x` est ici définie globalement, c'est à dire accessible partout dans ce notebook.\n",
    "\n",
    "On peut alors faire des calculs avec la valeur de `x` :"
   ]
  },
  {
   "cell_type": "code",
   "execution_count": 2,
   "id": "31cc0ae3",
   "metadata": {
    "execution": {
     "iopub.execute_input": "2021-08-09T12:45:44.108817Z",
     "iopub.status.busy": "2021-08-09T12:45:44.107171Z",
     "iopub.status.idle": "2021-08-09T12:45:44.112824Z",
     "shell.execute_reply": "2021-08-09T12:45:44.113655Z"
    }
   },
   "outputs": [
    {
     "data": {
      "text/plain": [
       "- : int = 124\n"
      ]
     },
     "execution_count": 2,
     "metadata": {},
     "output_type": "execute_result"
    }
   ],
   "source": [
    "3*x - 2 (* OCaml remplace x par 42 et fait le calcul *)"
   ]
  },
  {
   "cell_type": "markdown",
   "id": "8ac4ead3",
   "metadata": {},
   "source": [
    "Il est possible d'avoir une expression (un calcul) à droite d'une définition :"
   ]
  },
  {
   "cell_type": "code",
   "execution_count": 3,
   "id": "c2244f0a",
   "metadata": {
    "execution": {
     "iopub.execute_input": "2021-08-09T12:45:44.117367Z",
     "iopub.status.busy": "2021-08-09T12:45:44.116384Z",
     "iopub.status.idle": "2021-08-09T12:45:44.119582Z",
     "shell.execute_reply": "2021-08-09T12:45:44.120202Z"
    }
   },
   "outputs": [
    {
     "data": {
      "text/plain": [
       "val a : int = 10\n"
      ]
     },
     "execution_count": 3,
     "metadata": {},
     "output_type": "execute_result"
    }
   ],
   "source": [
    "let a = 1 + 2 + 3 + 4 (* la valeur à droite de = est calculée puis mise dans a *)"
   ]
  },
  {
   "cell_type": "markdown",
   "id": "5f520935",
   "metadata": {},
   "source": [
    "# Variables locales\n",
    "\n",
    "Il est possible de définir une variable locale en utilisant la forme `let y = in ...`  \n",
    "`y` est alors seulement accessible dans `...`"
   ]
  },
  {
   "cell_type": "code",
   "execution_count": 4,
   "id": "e846f94b",
   "metadata": {
    "execution": {
     "iopub.execute_input": "2021-08-09T12:45:44.122911Z",
     "iopub.status.busy": "2021-08-09T12:45:44.122290Z",
     "iopub.status.idle": "2021-08-09T12:45:44.124942Z",
     "shell.execute_reply": "2021-08-09T12:45:44.124414Z"
    }
   },
   "outputs": [
    {
     "data": {
      "text/plain": [
       "- : int = -1\n"
      ]
     },
     "execution_count": 4,
     "metadata": {},
     "output_type": "execute_result"
    }
   ],
   "source": [
    "let y = -1 in y (* y est accessible dans le in *)"
   ]
  },
  {
   "cell_type": "code",
   "execution_count": 5,
   "id": "b0c96260",
   "metadata": {
    "execution": {
     "iopub.execute_input": "2021-08-09T12:45:44.127397Z",
     "iopub.status.busy": "2021-08-09T12:45:44.126803Z",
     "iopub.status.idle": "2021-08-09T12:45:44.129047Z",
     "shell.execute_reply": "2021-08-09T12:45:44.128598Z"
    },
    "tags": []
   },
   "outputs": [
    {
     "ename": "error",
     "evalue": "compile_error",
     "output_type": "error",
     "traceback": [
      "File \"[5]\", line 1, characters 0-1:\n1 | y (* utiliser y ici donne une erreur  *)\n    ^\nError: Unbound value y\n"
     ]
    }
   ],
   "source": [
    "y (* utiliser y ici donne une erreur  *)"
   ]
  },
  {
   "cell_type": "markdown",
   "id": "84b1a9e9",
   "metadata": {},
   "source": [
    "# Variables numériques\n",
    "\n",
    "Nous avons déjà vu l'addition et la soustraction de 2 entiers. Il est aussi possible de multiplier :"
   ]
  },
  {
   "cell_type": "code",
   "execution_count": 6,
   "id": "99a33358",
   "metadata": {
    "execution": {
     "iopub.execute_input": "2021-08-09T12:45:44.131083Z",
     "iopub.status.busy": "2021-08-09T12:45:44.130552Z",
     "iopub.status.idle": "2021-08-09T12:45:44.132737Z",
     "shell.execute_reply": "2021-08-09T12:45:44.132358Z"
    }
   },
   "outputs": [
    {
     "data": {
      "text/plain": [
       "- : int = 42\n"
      ]
     },
     "execution_count": 6,
     "metadata": {},
     "output_type": "execute_result"
    }
   ],
   "source": [
    "3 * 14"
   ]
  },
  {
   "cell_type": "markdown",
   "id": "adbc316f",
   "metadata": {},
   "source": [
    "On peut effectuer la division **entière** de 2 entiers :"
   ]
  },
  {
   "cell_type": "code",
   "execution_count": 7,
   "id": "88991148",
   "metadata": {
    "execution": {
     "iopub.execute_input": "2021-08-09T12:45:44.134505Z",
     "iopub.status.busy": "2021-08-09T12:45:44.134054Z",
     "iopub.status.idle": "2021-08-09T12:45:44.135566Z",
     "shell.execute_reply": "2021-08-09T12:45:44.135926Z"
    }
   },
   "outputs": [
    {
     "data": {
      "text/plain": [
       "- : int = 1\n"
      ]
     },
     "execution_count": 7,
     "metadata": {},
     "output_type": "execute_result"
    }
   ],
   "source": [
    "3 / 2 (* division entière *)"
   ]
  },
  {
   "cell_type": "markdown",
   "id": "1ba9f6ce",
   "metadata": {},
   "source": [
    "La division entière de $x$ par $y$ est, par définition, la partie entière de $\\frac{x}{y}$.  \n",
    "Dans l'exemple ci-dessus, `3 / 2` est donc la partie entière de $\\frac{3}{2} = 1.5$, c'est à dire $1$. "
   ]
  },
  {
   "cell_type": "markdown",
   "id": "82f61b6b",
   "metadata": {},
   "source": [
    "En plus des entiers (`int`), OCaml permet de définir des nombres à virgules (`float`, pour flottant) :"
   ]
  },
  {
   "cell_type": "code",
   "execution_count": 8,
   "id": "e60dbb49",
   "metadata": {
    "execution": {
     "iopub.execute_input": "2021-08-09T12:45:44.137657Z",
     "iopub.status.busy": "2021-08-09T12:45:44.137272Z",
     "iopub.status.idle": "2021-08-09T12:45:44.138912Z",
     "shell.execute_reply": "2021-08-09T12:45:44.138572Z"
    }
   },
   "outputs": [
    {
     "data": {
      "text/plain": [
       "val pi : float = 3.141592\n"
      ]
     },
     "execution_count": 8,
     "metadata": {},
     "output_type": "execute_result"
    }
   ],
   "source": [
    "let pi = 3.141592"
   ]
  },
  {
   "cell_type": "markdown",
   "id": "64cbcdfe",
   "metadata": {},
   "source": [
    "Les opérateurs d'addition, soustraction, multiplication, division doivent s'utiliser avec un `.` (point). Par exemple :"
   ]
  },
  {
   "cell_type": "code",
   "execution_count": 9,
   "id": "0bd4bdc8",
   "metadata": {
    "execution": {
     "iopub.execute_input": "2021-08-09T12:45:44.140475Z",
     "iopub.status.busy": "2021-08-09T12:45:44.140084Z",
     "iopub.status.idle": "2021-08-09T12:45:44.141461Z",
     "shell.execute_reply": "2021-08-09T12:45:44.141781Z"
    }
   },
   "outputs": [
    {
     "data": {
      "text/plain": [
       "- : float = 5.759592\n"
      ]
     },
     "execution_count": 9,
     "metadata": {},
     "output_type": "execute_result"
    }
   ],
   "source": [
    "pi +. 2.618 (* noter le . après + *)"
   ]
  },
  {
   "cell_type": "markdown",
   "id": "35a6f97f",
   "metadata": {},
   "source": [
    "Attention : c'est le point (.) et non pas la virgule qui est utilisé pour les flottants.\n",
    "\n",
    "\n"
   ]
  },
  {
   "cell_type": "markdown",
   "id": "1885ea8c",
   "metadata": {},
   "source": [
    "Il est possible de calculer $x^y$, où $x$ et $y$ sont des **flottants** avec `**` :"
   ]
  },
  {
   "cell_type": "code",
   "execution_count": 10,
   "id": "771b96bc",
   "metadata": {
    "execution": {
     "iopub.execute_input": "2021-08-09T12:45:44.143292Z",
     "iopub.status.busy": "2021-08-09T12:45:44.142927Z",
     "iopub.status.idle": "2021-08-09T12:45:44.145239Z",
     "shell.execute_reply": "2021-08-09T12:45:44.144945Z"
    }
   },
   "outputs": [
    {
     "data": {
      "text/plain": [
       "- : float = 23.0963461891915607\n"
      ]
     },
     "execution_count": 10,
     "metadata": {},
     "output_type": "execute_result"
    }
   ],
   "source": [
    "2.718 ** 3.14 (* x puissance y *)"
   ]
  },
  {
   "cell_type": "markdown",
   "id": "da52437a",
   "metadata": {},
   "source": [
    "Il n'est pas possible d'utiliser `**` sur des `int`. Par contre on peut utiliser 4.0 ou 4. au lieu de 4 pour avoir des flottants et utiliser `**` : "
   ]
  },
  {
   "cell_type": "code",
   "execution_count": 11,
   "id": "5017d3ab",
   "metadata": {
    "execution": {
     "iopub.execute_input": "2021-08-09T12:45:44.146651Z",
     "iopub.status.busy": "2021-08-09T12:45:44.146285Z",
     "iopub.status.idle": "2021-08-09T12:45:44.147916Z",
     "shell.execute_reply": "2021-08-09T12:45:44.148180Z"
    }
   },
   "outputs": [
    {
     "data": {
      "text/plain": [
       "- : float = 1024.\n"
      ]
     },
     "execution_count": 11,
     "metadata": {},
     "output_type": "execute_result"
    }
   ],
   "source": [
    "2. ** 10."
   ]
  },
  {
   "cell_type": "markdown",
   "id": "b0fea055",
   "metadata": {},
   "source": [
    "**Exercice 1**\n",
    "1. Stocker la valeur $42^2$ dans une variable $a$, en utilisant `*`.\n",
    "2. En déduire la valeur de $42^4$.\n",
    "3. Calculer la valeur de $2^{10}$ en utilisant le moins de multiplications possibles."
   ]
  },
  {
   "cell_type": "markdown",
   "id": "13288607",
   "metadata": {},
   "source": [
    "**Exercice 2**\n",
    "\n",
    "1. Stocker dans 3 variables $a$, $b$, $c$ les valeurs 2, 5 et 3. On pourra utiliser let a, b, c = ..., ..., ... pour définir 3 variable simultanément. \n",
    "2. Stocker dans une variable $delta$ le discriminant de l'équation $ax^2 + bx + c = 0$.\n",
    "3. Calculer toutes les solutions de l'équation précédente."
   ]
  },
  {
   "cell_type": "markdown",
   "id": "ca9af700",
   "metadata": {},
   "source": [
    "# Overflow\n",
    "\n",
    "L'ordinateur stocke "
   ]
  },
  {
   "cell_type": "code",
   "execution_count": 14,
   "id": "0b5fe175",
   "metadata": {
    "execution": {
     "iopub.execute_input": "2021-08-09T12:45:44.160934Z",
     "iopub.status.busy": "2021-08-09T12:45:44.160614Z",
     "iopub.status.idle": "2021-08-09T12:45:44.161708Z",
     "shell.execute_reply": "2021-08-09T12:45:44.161968Z"
    }
   },
   "outputs": [
    {
     "data": {
      "text/plain": [
       "- : int = -4611686018427387904\n"
      ]
     },
     "execution_count": 14,
     "metadata": {},
     "output_type": "execute_result"
    }
   ],
   "source": [
    "max_int+1"
   ]
  },
  {
   "cell_type": "markdown",
   "id": "a67eed3c",
   "metadata": {
    "tags": []
   },
   "source": [
    "# Unit\n",
    "\n",
    "Il existe une valeur spéciale `()` qui signifie \"rien\" (un peu comme le None de Python). Le type de `()` est `unit`. Par exemple, afficher un entier avec `print_int` fait un effet de bord (affichage sur l'écran) mais ne renvoie pas de valeur :"
   ]
  },
  {
   "cell_type": "code",
   "execution_count": 33,
   "id": "5f7dd049",
   "metadata": {},
   "outputs": [
    {
     "data": {
      "text/plain": [
       "- : unit = ()\n"
      ]
     },
     "execution_count": 33,
     "metadata": {},
     "output_type": "execute_result"
    }
   ],
   "source": [
    "print_int 42"
   ]
  },
  {
   "cell_type": "markdown",
   "id": "5a336c02",
   "metadata": {},
   "source": [
    "Pour que le résultat s'affiche, il faut revenir à la ligne avec `print_newline` :"
   ]
  },
  {
   "cell_type": "code",
   "execution_count": 34,
   "id": "c5680761",
   "metadata": {},
   "outputs": [
    {
     "name": "stdout",
     "output_type": "stream",
     "text": [
      "42\n"
     ]
    },
    {
     "data": {
      "text/plain": [
       "- : unit = ()\n"
      ]
     },
     "execution_count": 34,
     "metadata": {},
     "output_type": "execute_result"
    }
   ],
   "source": [
    "print_newline ()"
   ]
  },
  {
   "cell_type": "markdown",
   "id": "2e9412cc",
   "metadata": {},
   "source": [
    "On verra dans un prochain cours le fonctionnement plus détaillé de `print_newline`."
   ]
  },
  {
   "cell_type": "markdown",
   "id": "c4ad4b50",
   "metadata": {},
   "source": [
    "Il aurait été possible de combiner ces deux instructions avec `;`, qui permet d'exécuter consécutivement plusieurs instructions :"
   ]
  },
  {
   "cell_type": "code",
   "execution_count": 37,
   "id": "811e9bf3",
   "metadata": {},
   "outputs": [
    {
     "name": "stdout",
     "output_type": "stream",
     "text": [
      "31\n"
     ]
    },
    {
     "data": {
      "text/plain": [
       "- : unit = ()\n"
      ]
     },
     "execution_count": 37,
     "metadata": {},
     "output_type": "execute_result"
    }
   ],
   "source": [
    "print_int 31;\n",
    "print_newline ()"
   ]
  },
  {
   "cell_type": "markdown",
   "id": "fec3ce4c",
   "metadata": {},
   "source": [
    "`;;` est similaire à `;`, mais permet de séparer complètement plusieurs instructions, ce qui signifie que les variables définies avec `in` ne sont plus accessibles :"
   ]
  },
  {
   "cell_type": "code",
   "execution_count": 43,
   "id": "ae48b591",
   "metadata": {},
   "outputs": [
    {
     "data": {
      "text/plain": [
       "- : int = 3\n"
      ]
     },
     "execution_count": 43,
     "metadata": {},
     "output_type": "execute_result"
    }
   ],
   "source": [
    "let a = 3 in\n",
    "print_int a;\n",
    "a (* a reste accessible : il est toujours dans le in *)"
   ]
  },
  {
   "cell_type": "code",
   "execution_count": 46,
   "id": "8ff5bc80",
   "metadata": {},
   "outputs": [
    {
     "data": {
      "text/plain": [
       "- : unit = ()\n"
      ]
     },
     "execution_count": 46,
     "metadata": {},
     "output_type": "execute_result"
    },
    {
     "data": {
      "text/plain": [
       "- : int = 6\n"
      ]
     },
     "execution_count": 46,
     "metadata": {},
     "output_type": "execute_result"
    }
   ],
   "source": [
    "let a = 3 in\n",
    "print_int a;;\n",
    "a;; (* a n'est pas accessible ici *)"
   ]
  },
  {
   "cell_type": "markdown",
   "id": "b03f640e",
   "metadata": {
    "tags": []
   },
   "source": [
    "# Présentation du code\n",
    "\n",
    "Contrairement à Python, l'indentation du code n'a pas d'importance en OCaml. En effet les espaces et sauts de lignes sont ignorés :"
   ]
  },
  {
   "cell_type": "code",
   "execution_count": 32,
   "id": "7395abbd",
   "metadata": {},
   "outputs": [
    {
     "data": {
      "text/plain": [
       "val a : int = 6\n"
      ]
     },
     "execution_count": 32,
     "metadata": {},
     "output_type": "execute_result"
    }
   ],
   "source": [
    "let a \n",
    "  = \n",
    "      6 (* indentation n'importe comment *)"
   ]
  },
  {
   "cell_type": "markdown",
   "id": "2e6fcdd4",
   "metadata": {},
   "source": [
    "On veillera toutefois à écrire du code aussi clair et lisible que possible."
   ]
  },
  {
   "cell_type": "markdown",
   "id": "a7e310df",
   "metadata": {},
   "source": [
    "# Réferences\n",
    "\n",
    "Contrairement à ce que son nom l'indique, une variable définie comme on l'a fait jusqu'à maintenant est en fait... **constante** :"
   ]
  },
  {
   "cell_type": "code",
   "execution_count": 5,
   "id": "afde3736",
   "metadata": {},
   "outputs": [
    {
     "data": {
      "text/plain": [
       "val x : int = 3\n"
      ]
     },
     "execution_count": 5,
     "metadata": {},
     "output_type": "execute_result"
    },
    {
     "data": {
      "text/plain": [
       "- : bool = false\n"
      ]
     },
     "execution_count": 5,
     "metadata": {},
     "output_type": "execute_result"
    },
    {
     "data": {
      "text/plain": [
       "- : int = 3\n"
      ]
     },
     "execution_count": 5,
     "metadata": {},
     "output_type": "execute_result"
    }
   ],
   "source": [
    "let x = 3;;\n",
    "x = 4;; (* ceci ne MODIFIE pas x, mais teste si la valeur de x est 4 *)\n",
    "x;; (* x vaut toujours 3 : il ne peut pas être modifié *)"
   ]
  },
  {
   "cell_type": "markdown",
   "id": "f4820799",
   "metadata": {},
   "source": [
    "Pour pouvoir modifier une variable, on peut utiliser une **référence**.\n",
    "Pour définir une référence on utilise `ref` :\n",
    "```ocaml\n",
    "let variable = ref valeur (* définition d'une référence *)\n",
    "```\n",
    "Pour modifier une référence on utilise `:=` :\n",
    "```ocaml\n",
    "variable := valeur (* modification d'une référence *)\n",
    "```\n",
    "Pour obtenir la valeur d'une référence on utilise `!` :\n",
    "```ocaml\n",
    "!variable (* donne la valeur d'une référence *)\n",
    "```"
   ]
  },
  {
   "cell_type": "code",
   "execution_count": 10,
   "id": "52f2e5fa",
   "metadata": {
    "tags": []
   },
   "outputs": [
    {
     "data": {
      "text/plain": [
       "val x : int ref = {contents = 3}\n"
      ]
     },
     "execution_count": 10,
     "metadata": {},
     "output_type": "execute_result"
    },
    {
     "data": {
      "text/plain": [
       "- : unit = ()\n"
      ]
     },
     "execution_count": 10,
     "metadata": {},
     "output_type": "execute_result"
    },
    {
     "data": {
      "text/plain": [
       "- : int = 4\n"
      ]
     },
     "execution_count": 10,
     "metadata": {},
     "output_type": "execute_result"
    }
   ],
   "source": [
    "let x = ref 3;; (* définie une variable x qui \"pointe\" vers un emplacement mémoire contenant 3 *)\n",
    "x := 4;; (* modifie la valeur pointé par x avec := *)\n",
    "!x;; (* la valeur a bien été modifiée *)"
   ]
  },
  {
   "cell_type": "markdown",
   "id": "67b4139e",
   "metadata": {},
   "source": [
    "On remarque que l'instruction `x := 4` a pour valeur de retour `()` : c'est un effet de bord qui modifie `x` mais ne renvoie pas de résultat."
   ]
  },
  {
   "cell_type": "markdown",
   "id": "6af42e25",
   "metadata": {},
   "source": [
    "**Exercice** : Que valent `!x` et `!y` après avoir exécuté le bout de code suivant? À quoi sert ce code?\n",
    "```ocaml\n",
    "let x = ref 5;;\n",
    "let y = ref 27;;\n",
    "x := !x + !y;\n",
    "y := !x - !y;\n",
    "x := !x - !y\n",
    "```"
   ]
  },
  {
   "cell_type": "markdown",
   "id": "dacbae8c",
   "metadata": {},
   "source": [
    "**Remarque** : utiliser des `ref` rend souvent le code plus compliqué, on n'en utilisera que lorsque c'est nécessaire."
   ]
  }
 ],
 "metadata": {
  "kernelspec": {
   "display_name": "OCaml default",
   "language": "OCaml",
   "name": "ocaml-jupyter"
  },
  "language_info": {
   "codemirror_mode": "text/x-ocaml",
   "file_extension": ".ml",
   "mimetype": "text/x-ocaml",
   "name": "OCaml",
   "nbconverter_exporter": null,
   "pygments_lexer": "OCaml",
   "version": "4.12.0"
  }
 },
 "nbformat": 4,
 "nbformat_minor": 5
}

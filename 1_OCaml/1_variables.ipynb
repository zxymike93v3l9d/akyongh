{
 "cells": [
  {
   "cell_type": "markdown",
   "id": "eccaf036",
   "metadata": {},
   "source": [
    "# Définition d'une variable\n",
    "\n",
    "Une variable possède 3 propriétés:  \n",
    "- un nom (exemple : `x`)  \n",
    "- une valeur (exemple : 42)  \n",
    "- un type (exemple : entier)\n",
    "\n",
    "En OCaml, on définit une variable de la façon suivante :\n",
    "```ocaml\n",
    "let variable = valeur\n",
    "```\n",
    "\n",
    "Par exemple, pour définir une variable `x` valant 42 :"
   ]
  },
  {
   "cell_type": "code",
   "execution_count": 1,
   "id": "87a2bac7",
   "metadata": {
    "execution": {
     "iopub.execute_input": "2021-09-08T08:44:22.451038Z",
     "iopub.status.busy": "2021-09-08T08:44:22.450550Z",
     "iopub.status.idle": "2021-09-08T08:44:22.452813Z",
     "shell.execute_reply": "2021-09-08T08:44:22.452368Z"
    },
    "tags": []
   },
   "outputs": [
    {
     "data": {
      "text/plain": [
       "val x : int = 42\n"
      ]
     },
     "execution_count": 1,
     "metadata": {},
     "output_type": "execute_result"
    }
   ],
   "source": [
    "let x = 42"
   ]
  },
  {
   "cell_type": "markdown",
   "id": "7e79ce60",
   "metadata": {},
   "source": [
    "OCaml nous répond que `x` a pour valeur 42 et est de type `int` (*integer*, c'est à dire entier).\n",
    "La variable `x` est ici définie globalement, c'est à dire accessible partout dans ce notebook.\n",
    "\n",
    "On peut alors faire des calculs avec la valeur de `x` :"
   ]
  },
  {
   "cell_type": "code",
   "execution_count": 2,
   "id": "80db92c1",
   "metadata": {
    "execution": {
     "iopub.execute_input": "2021-09-08T08:44:22.456897Z",
     "iopub.status.busy": "2021-09-08T08:44:22.456319Z",
     "iopub.status.idle": "2021-09-08T08:44:22.458944Z",
     "shell.execute_reply": "2021-09-08T08:44:22.458587Z"
    },
    "tags": []
   },
   "outputs": [
    {
     "data": {
      "text/plain": [
       "- : int = 124\n"
      ]
     },
     "execution_count": 2,
     "metadata": {},
     "output_type": "execute_result"
    }
   ],
   "source": [
    "3*x - 2 (* OCaml remplace x par 42 et fait le calcul *)"
   ]
  },
  {
   "cell_type": "markdown",
   "id": "a5f2a543",
   "metadata": {},
   "source": [
    "Il est possible d'avoir une expression (un calcul) à droite d'une définition :"
   ]
  },
  {
   "cell_type": "code",
   "execution_count": 3,
   "id": "d75dcc46",
   "metadata": {
    "execution": {
     "iopub.execute_input": "2021-09-08T08:44:22.460472Z",
     "iopub.status.busy": "2021-09-08T08:44:22.460055Z",
     "iopub.status.idle": "2021-09-08T08:44:22.462636Z",
     "shell.execute_reply": "2021-09-08T08:44:22.462250Z"
    },
    "tags": []
   },
   "outputs": [
    {
     "data": {
      "text/plain": [
       "val a : int = 10\n"
      ]
     },
     "execution_count": 3,
     "metadata": {},
     "output_type": "execute_result"
    }
   ],
   "source": [
    "let a = 1 + 2 + 3 + 4 (* la valeur à droite de = est calculée puis mise dans a *)"
   ]
  },
  {
   "cell_type": "markdown",
   "id": "df0ea559",
   "metadata": {},
   "source": [
    "**Exercice** : définissez une variable $a$ égale à 752. Puis définissez une variable $b$ égale à $54a$.    \n",
    "Rappel : vous pouvez appuyer sur la touche B pour faire apparaître une case de code et répondre dedans. Ici vous pouvez utiliser deux cases, ou séparer les deux instructions avec ` ;;`."
   ]
  },
  {
   "cell_type": "markdown",
   "id": "23674f52",
   "metadata": {},
   "source": [
    "# Variables locales\n",
    "\n",
    "Il est possible de définir une variable locale en utilisant la forme `let y = ... in ...`  \n",
    "`y` est alors seulement après le in `...`"
   ]
  },
  {
   "cell_type": "code",
   "execution_count": 4,
   "id": "b2926e27",
   "metadata": {
    "execution": {
     "iopub.execute_input": "2021-09-08T08:44:22.464204Z",
     "iopub.status.busy": "2021-09-08T08:44:22.463774Z",
     "iopub.status.idle": "2021-09-08T08:44:22.465548Z",
     "shell.execute_reply": "2021-09-08T08:44:22.465873Z"
    },
    "tags": []
   },
   "outputs": [
    {
     "data": {
      "text/plain": [
       "- : int = -1\n"
      ]
     },
     "execution_count": 4,
     "metadata": {},
     "output_type": "execute_result"
    }
   ],
   "source": [
    "let y = -1 in y (* y est accessible dans le in *)"
   ]
  },
  {
   "cell_type": "code",
   "execution_count": 5,
   "id": "2e43ec85",
   "metadata": {
    "execution": {
     "iopub.execute_input": "2021-09-08T08:44:22.467410Z",
     "iopub.status.busy": "2021-09-08T08:44:22.467004Z",
     "iopub.status.idle": "2021-09-08T08:44:22.468664Z",
     "shell.execute_reply": "2021-09-08T08:44:22.468987Z"
    },
    "tags": []
   },
   "outputs": [
    {
     "ename": "error",
     "evalue": "compile_error",
     "output_type": "error",
     "traceback": [
      "File \"[5]\", line 1, characters 0-1:\n1 | y (* utiliser y ici donne une erreur  *)\n    ^\nError: Unbound value y\n"
     ]
    }
   ],
   "source": [
    "y (* utiliser y ici donne une erreur  *)"
   ]
  },
  {
   "cell_type": "markdown",
   "id": "856715be",
   "metadata": {
    "tags": []
   },
   "source": [
    "**Exercice** : en utilisant `let ... in ... `, définissez une variable $a$ égale à $752$, puis définissez une variable $b$ égale à $54a$.    "
   ]
  },
  {
   "cell_type": "markdown",
   "id": "1fb3eee6",
   "metadata": {},
   "source": [
    "**Remarque** Il est possible d'utiliser des parenthèses ou `begin ... end` pour délimiter le in :\n",
    "```ocaml\n",
    "let a = 3 in\n",
    "(\n",
    "...\n",
    ")\n",
    "```"
   ]
  },
  {
   "cell_type": "markdown",
   "id": "de9cd134",
   "metadata": {
    "tags": []
   },
   "source": [
    "\n",
    "# Opérations numériques\n",
    "\n",
    "Nous avons déjà vu l'addition et la soustraction de 2 entiers. Il est aussi possible de multiplier :"
   ]
  },
  {
   "cell_type": "code",
   "execution_count": 6,
   "id": "357172eb",
   "metadata": {
    "execution": {
     "iopub.execute_input": "2021-09-08T08:44:22.470589Z",
     "iopub.status.busy": "2021-09-08T08:44:22.470189Z",
     "iopub.status.idle": "2021-09-08T08:44:22.471965Z",
     "shell.execute_reply": "2021-09-08T08:44:22.472292Z"
    }
   },
   "outputs": [
    {
     "data": {
      "text/plain": [
       "- : int = 42\n"
      ]
     },
     "execution_count": 6,
     "metadata": {},
     "output_type": "execute_result"
    }
   ],
   "source": [
    "3 * 14"
   ]
  },
  {
   "cell_type": "markdown",
   "id": "1abd389c",
   "metadata": {},
   "source": [
    "On peut effectuer la division **entière** (ou encore : [quotient de la division euclidienne](https://fr.wikipedia.org/wiki/Division_euclidienne)) de 2 entiers :"
   ]
  },
  {
   "cell_type": "code",
   "execution_count": 7,
   "id": "ea8da468",
   "metadata": {
    "execution": {
     "iopub.execute_input": "2021-09-08T08:44:22.473709Z",
     "iopub.status.busy": "2021-09-08T08:44:22.473305Z",
     "iopub.status.idle": "2021-09-08T08:44:22.475068Z",
     "shell.execute_reply": "2021-09-08T08:44:22.475368Z"
    }
   },
   "outputs": [
    {
     "data": {
      "text/plain": [
       "- : int = 1\n"
      ]
     },
     "execution_count": 7,
     "metadata": {},
     "output_type": "execute_result"
    }
   ],
   "source": [
    "3 / 2 (* division entière *)"
   ]
  },
  {
   "cell_type": "markdown",
   "id": "6f3cfb26",
   "metadata": {},
   "source": [
    "La division entière de $x$ par $y$ est, par définition, la partie entière de $\\frac{x}{y}$.  \n",
    "Dans l'exemple ci-dessus, `3 / 2` est donc la partie entière de $\\frac{3}{2} = 1.5$, c'est à dire $1$. \n",
    "\n",
    "**Attention** : la division entière ` 3 / 2`  en OCaml correspond à ` 3 // 2 ` en Python."
   ]
  },
  {
   "cell_type": "markdown",
   "id": "95d7f683",
   "metadata": {},
   "source": [
    "En plus des entiers (`int`), OCaml permet de définir des nombres à virgules (`float`, pour flottant) :"
   ]
  },
  {
   "cell_type": "code",
   "execution_count": 8,
   "id": "dc947292",
   "metadata": {
    "execution": {
     "iopub.execute_input": "2021-09-08T08:44:22.478350Z",
     "iopub.status.busy": "2021-09-08T08:44:22.476538Z",
     "iopub.status.idle": "2021-09-08T08:44:22.479659Z",
     "shell.execute_reply": "2021-09-08T08:44:22.479310Z"
    }
   },
   "outputs": [
    {
     "data": {
      "text/plain": [
       "val pi : float = 3.141592\n"
      ]
     },
     "execution_count": 8,
     "metadata": {},
     "output_type": "execute_result"
    }
   ],
   "source": [
    "let pi = 3.141592"
   ]
  },
  {
   "cell_type": "markdown",
   "id": "8d05b1a0",
   "metadata": {},
   "source": [
    "Les opérateurs d'addition, soustraction, multiplication, division doivent s'utiliser avec un `.` (point). Par exemple :"
   ]
  },
  {
   "cell_type": "code",
   "execution_count": 9,
   "id": "bf5c9ce0",
   "metadata": {
    "execution": {
     "iopub.execute_input": "2021-09-08T08:44:22.481187Z",
     "iopub.status.busy": "2021-09-08T08:44:22.480786Z",
     "iopub.status.idle": "2021-09-08T08:44:22.482629Z",
     "shell.execute_reply": "2021-09-08T08:44:22.482952Z"
    }
   },
   "outputs": [
    {
     "data": {
      "text/plain": [
       "- : float = 5.759592\n"
      ]
     },
     "execution_count": 9,
     "metadata": {},
     "output_type": "execute_result"
    }
   ],
   "source": [
    "pi +. 2.618 (* noter le . après + *)"
   ]
  },
  {
   "cell_type": "markdown",
   "id": "d4d67bb9",
   "metadata": {},
   "source": [
    "**Attention** : c'est le point (.) et non pas la virgule qui est utilisé pour les flottants."
   ]
  },
  {
   "cell_type": "markdown",
   "id": "8e80f681",
   "metadata": {},
   "source": [
    "Il est possible de calculer $x^y$, où $x$ et $y$ sont des **flottants** avec `**` :"
   ]
  },
  {
   "cell_type": "code",
   "execution_count": 10,
   "id": "b2f6b5f9",
   "metadata": {
    "execution": {
     "iopub.execute_input": "2021-09-08T08:44:22.484776Z",
     "iopub.status.busy": "2021-09-08T08:44:22.484363Z",
     "iopub.status.idle": "2021-09-08T08:44:22.488248Z",
     "shell.execute_reply": "2021-09-08T08:44:22.487876Z"
    }
   },
   "outputs": [
    {
     "data": {
      "text/plain": [
       "- : float = 23.0963461891915607\n"
      ]
     },
     "execution_count": 10,
     "metadata": {},
     "output_type": "execute_result"
    }
   ],
   "source": [
    "2.718 ** 3.14 (* x puissance y *)"
   ]
  },
  {
   "cell_type": "markdown",
   "id": "99d21b75",
   "metadata": {},
   "source": [
    "Il n'est pas possible d'utiliser `**` sur des `int`. Par contre on peut utiliser 4.0 ou 4. au lieu de 4 pour avoir des flottants et utiliser `**` : "
   ]
  },
  {
   "cell_type": "code",
   "execution_count": 11,
   "id": "56859fb1",
   "metadata": {
    "execution": {
     "iopub.execute_input": "2021-09-08T08:44:22.489734Z",
     "iopub.status.busy": "2021-09-08T08:44:22.489341Z",
     "iopub.status.idle": "2021-09-08T08:44:22.491087Z",
     "shell.execute_reply": "2021-09-08T08:44:22.491410Z"
    }
   },
   "outputs": [
    {
     "data": {
      "text/plain": [
       "- : float = 1024.\n"
      ]
     },
     "execution_count": 11,
     "metadata": {},
     "output_type": "execute_result"
    }
   ],
   "source": [
    "2. ** 10."
   ]
  },
  {
   "cell_type": "markdown",
   "id": "bed54edc",
   "metadata": {},
   "source": [
    "**Exercice**\n",
    "1. Stocker la valeur $42^2$ dans une variable $a$, en utilisant `*`.\n",
    "2. En déduire la valeur de $42^4$.\n",
    "3. Calculer la valeur de $2^{10}$ en utilisant le moins de multiplications possibles."
   ]
  },
  {
   "cell_type": "markdown",
   "id": "8cec63ad",
   "metadata": {},
   "source": [
    "**Exercice**\n",
    "\n",
    "1. Stocker dans 3 variables $a$, $b$, $c$ les valeurs 2, 5 et 3. On pourra utiliser let a, b, c = ..., ..., ... pour définir 3 variable simultanément. \n",
    "2. Stocker dans une variable $delta$ le discriminant de l'équation $ax^2 + bx + c = 0$.\n",
    "3. Calculer toutes les solutions de l'équation précédente."
   ]
  },
  {
   "cell_type": "markdown",
   "id": "334144c0",
   "metadata": {},
   "source": [
    "Une autre opération importante est le **modulo** (ou : [reste de la division euclidienne](https://fr.wikipedia.org/wiki/Division_euclidienne)) de 2 entiers `a` et `b`, notée `a mod b` en OCaml. Mathématiquement, il s'agit de l'entier $r$ vérifiant :\n",
    "$$a = bq + r$$\n",
    "$$0 \\leq r < b$$\n",
    "\n",
    "($q$ est le quotient, égal à `a / b` en OCaml)  \n",
    "Cette opération `mod` sert notamment à tester la divisibilité : `a` est divisible par `b` si et seulement si `a mod b = 0`."
   ]
  },
  {
   "cell_type": "markdown",
   "id": "19f53d4b",
   "metadata": {},
   "source": [
    "**Exercice** : Est-ce que 527 est divisible par 17?"
   ]
  },
  {
   "cell_type": "markdown",
   "id": "5c0f37e1",
   "metadata": {},
   "source": [
    "# Overflow\n",
    "\n",
    "L'ordinateur stocke toutes les variables dans la mémoire RAM de l'ordinateur, en binaire (suite de 0 et de 1). Comme la mémoire RAM sur un ordinateur n'est pas infinie, on ne peut pas stocker des nombres de taille arbitraire.  \n",
    "`max_int` est le plus grand entier que l'on peut stocker dans une variable :"
   ]
  },
  {
   "cell_type": "code",
   "execution_count": 12,
   "id": "49a4fbe9",
   "metadata": {
    "execution": {
     "iopub.execute_input": "2021-09-08T08:44:22.493085Z",
     "iopub.status.busy": "2021-09-08T08:44:22.492687Z",
     "iopub.status.idle": "2021-09-08T08:44:22.493999Z",
     "shell.execute_reply": "2021-09-08T08:44:22.494388Z"
    }
   },
   "outputs": [
    {
     "data": {
      "text/plain": [
       "- : int = 4611686018427387903\n"
      ]
     },
     "execution_count": 12,
     "metadata": {},
     "output_type": "execute_result"
    }
   ],
   "source": [
    "max_int"
   ]
  },
  {
   "cell_type": "markdown",
   "id": "c3514b04",
   "metadata": {},
   "source": [
    "Si on dépasse cet entier (ce qu'on appelle **integer overflow**), on tombe sur le plus petit entier représentable :"
   ]
  },
  {
   "cell_type": "code",
   "execution_count": 13,
   "id": "9cc49c34",
   "metadata": {
    "execution": {
     "iopub.execute_input": "2021-09-08T08:44:22.495804Z",
     "iopub.status.busy": "2021-09-08T08:44:22.495399Z",
     "iopub.status.idle": "2021-09-08T08:44:22.497056Z",
     "shell.execute_reply": "2021-09-08T08:44:22.497580Z"
    },
    "tags": []
   },
   "outputs": [
    {
     "data": {
      "text/plain": [
       "- : int = -4611686018427387904\n"
      ]
     },
     "execution_count": 13,
     "metadata": {},
     "output_type": "execute_result"
    }
   ],
   "source": [
    "max_int + 1"
   ]
  },
  {
   "cell_type": "markdown",
   "id": "db3ae6be",
   "metadata": {},
   "source": [
    "Le dépassement d'entier est une source fréquente de bug, qui a causé par exemple le [crash de la fusée Ariane 5](https://fr.wikipedia.org/wiki/Vol_501_d%27Ariane_5)."
   ]
  },
  {
   "cell_type": "markdown",
   "id": "5cb379e4",
   "metadata": {},
   "source": [
    "Les float sont également limités :"
   ]
  },
  {
   "cell_type": "code",
   "execution_count": 14,
   "id": "e22162bf",
   "metadata": {
    "execution": {
     "iopub.execute_input": "2021-09-08T08:44:22.499263Z",
     "iopub.status.busy": "2021-09-08T08:44:22.498864Z",
     "iopub.status.idle": "2021-09-08T08:44:22.500297Z",
     "shell.execute_reply": "2021-09-08T08:44:22.500636Z"
    }
   },
   "outputs": [
    {
     "data": {
      "text/plain": [
       "- : float = 1.79769313486231571e+308\n"
      ]
     },
     "execution_count": 14,
     "metadata": {},
     "output_type": "execute_result"
    }
   ],
   "source": [
    "max_float"
   ]
  },
  {
   "cell_type": "markdown",
   "id": "f1532ae0",
   "metadata": {},
   "source": [
    "Les flottants sont codées suivant la norme [IEEE754](https://fr.wikipedia.org/wiki/IEEE_754) sous la forme scientifique en utilisant 64 bits (sur un processeur 64 bits) dont 52 bits pour les chiffres après la virgule.  \n",
    "La précision des flottants est donc limitée : par exemple, on ne peut pas stocker $\\sqrt{2}$ ou $\\pi$ de façon exacte sur l'ordinateur puisqu'il s'agit de nombres irrationnels (c'est à dire avec une infinité de décimales, qui ne se répètent pas).  "
   ]
  },
  {
   "cell_type": "code",
   "execution_count": 15,
   "id": "4656b3ed",
   "metadata": {
    "execution": {
     "iopub.execute_input": "2021-09-08T08:44:22.502201Z",
     "iopub.status.busy": "2021-09-08T08:44:22.501802Z",
     "iopub.status.idle": "2021-09-08T08:44:22.503515Z",
     "shell.execute_reply": "2021-09-08T08:44:22.503858Z"
    }
   },
   "outputs": [
    {
     "data": {
      "text/plain": [
       "- : float = 1.41421356237309515\n"
      ]
     },
     "execution_count": 15,
     "metadata": {},
     "output_type": "execute_result"
    }
   ],
   "source": [
    "2.**0.5 (* seulement une partie des décimales est stockée *)"
   ]
  },
  {
   "cell_type": "code",
   "execution_count": 16,
   "id": "f5244935",
   "metadata": {
    "execution": {
     "iopub.execute_input": "2021-09-08T08:44:22.505507Z",
     "iopub.status.busy": "2021-09-08T08:44:22.505105Z",
     "iopub.status.idle": "2021-09-08T08:44:22.507316Z",
     "shell.execute_reply": "2021-09-08T08:44:22.506941Z"
    }
   },
   "outputs": [
    {
     "data": {
      "text/plain": [
       "- : float = 2.00000000000000044\n"
      ]
     },
     "execution_count": 16,
     "metadata": {},
     "output_type": "execute_result"
    }
   ],
   "source": [
    "(2.**0.5)**2.0  (* ne donne pas 2.0 à cause des erreurs d'arrondis *)"
   ]
  },
  {
   "cell_type": "markdown",
   "id": "ebe669d3",
   "metadata": {},
   "source": [
    "Le calcul de $\\sqrt 2$ par OCaml s'arrête à la 16ème décimale (ce qui correspond à 52 bits après la virgules, puisque $2^{-52}$ est du même ordre de grandeur que $10^{-16}$). Ce nombre $2^{-52}$ est appelé **epsilon machine**."
   ]
  },
  {
   "cell_type": "markdown",
   "id": "3f262a3d",
   "metadata": {},
   "source": [
    "Autre exemple :"
   ]
  },
  {
   "cell_type": "code",
   "execution_count": 17,
   "id": "e76ede5e",
   "metadata": {
    "execution": {
     "iopub.execute_input": "2021-09-08T08:44:22.509068Z",
     "iopub.status.busy": "2021-09-08T08:44:22.508644Z",
     "iopub.status.idle": "2021-09-08T08:44:22.510264Z",
     "shell.execute_reply": "2021-09-08T08:44:22.510588Z"
    }
   },
   "outputs": [
    {
     "data": {
      "text/plain": [
       "- : float = 0.300000000000000044\n"
      ]
     },
     "execution_count": 17,
     "metadata": {},
     "output_type": "execute_result"
    }
   ],
   "source": [
    "0.1 +. 0.2  (* ne donne pas 0.3 *)"
   ]
  },
  {
   "cell_type": "markdown",
   "id": "a0d05f1e",
   "metadata": {},
   "source": [
    "`O.1` n'étant pas représentable de façon exacte en base 2, il est tronqué et engendre des erreurs d'arrondis."
   ]
  },
  {
   "cell_type": "markdown",
   "id": "e7003cf5",
   "metadata": {},
   "source": [
    "La plus grande valeur de l'exposant est 1023 :"
   ]
  },
  {
   "cell_type": "code",
   "execution_count": 18,
   "id": "307e41ff",
   "metadata": {
    "execution": {
     "iopub.execute_input": "2021-09-08T08:44:22.512168Z",
     "iopub.status.busy": "2021-09-08T08:44:22.511746Z",
     "iopub.status.idle": "2021-09-08T08:44:22.513447Z",
     "shell.execute_reply": "2021-09-08T08:44:22.513768Z"
    }
   },
   "outputs": [
    {
     "data": {
      "text/plain": [
       "- : float = 8.98846567431158e+307\n"
      ]
     },
     "execution_count": 18,
     "metadata": {},
     "output_type": "execute_result"
    }
   ],
   "source": [
    "2.**1023."
   ]
  },
  {
   "cell_type": "code",
   "execution_count": 19,
   "id": "ee31c36d",
   "metadata": {
    "execution": {
     "iopub.execute_input": "2021-09-08T08:44:22.515247Z",
     "iopub.status.busy": "2021-09-08T08:44:22.514851Z",
     "iopub.status.idle": "2021-09-08T08:44:22.516543Z",
     "shell.execute_reply": "2021-09-08T08:44:22.516849Z"
    }
   },
   "outputs": [
    {
     "data": {
      "text/plain": [
       "- : float = infinity\n"
      ]
     },
     "execution_count": 19,
     "metadata": {},
     "output_type": "execute_result"
    }
   ],
   "source": [
    "2.**1024."
   ]
  },
  {
   "cell_type": "markdown",
   "id": "dd2b6558",
   "metadata": {
    "tags": []
   },
   "source": [
    "# Unit\n",
    "\n",
    "Il existe une valeur spéciale `()` qui signifie \"rien\" (un peu comme le None de Python). Le type de `()` est `unit`. Par exemple, afficher un entier avec `print_int` fait un effet de bord (affichage sur l'écran) mais ne renvoie pas de valeur :"
   ]
  },
  {
   "cell_type": "code",
   "execution_count": 20,
   "id": "a36f0f70",
   "metadata": {
    "execution": {
     "iopub.execute_input": "2021-09-08T08:44:22.518393Z",
     "iopub.status.busy": "2021-09-08T08:44:22.517996Z",
     "iopub.status.idle": "2021-09-08T08:44:22.519676Z",
     "shell.execute_reply": "2021-09-08T08:44:22.520007Z"
    }
   },
   "outputs": [
    {
     "data": {
      "text/plain": [
       "- : unit = ()\n"
      ]
     },
     "execution_count": 20,
     "metadata": {},
     "output_type": "execute_result"
    }
   ],
   "source": [
    "print_int 42"
   ]
  },
  {
   "cell_type": "markdown",
   "id": "a9ce126e",
   "metadata": {},
   "source": [
    "Pour que le résultat s'affiche, il faut revenir à la ligne avec `print_newline` :"
   ]
  },
  {
   "cell_type": "code",
   "execution_count": 21,
   "id": "0da07d6f",
   "metadata": {
    "execution": {
     "iopub.execute_input": "2021-09-08T08:44:22.521712Z",
     "iopub.status.busy": "2021-09-08T08:44:22.521339Z",
     "iopub.status.idle": "2021-09-08T08:44:22.525341Z",
     "shell.execute_reply": "2021-09-08T08:44:22.525663Z"
    }
   },
   "outputs": [
    {
     "name": "stdout",
     "output_type": "stream",
     "text": [
      "42\n"
     ]
    },
    {
     "data": {
      "text/plain": [
       "- : unit = ()\n"
      ]
     },
     "execution_count": 21,
     "metadata": {},
     "output_type": "execute_result"
    }
   ],
   "source": [
    "print_newline ()"
   ]
  },
  {
   "cell_type": "markdown",
   "id": "c5a7f626",
   "metadata": {},
   "source": [
    "On verra dans un prochain cours le fonctionnement plus détaillé de `print_newline`."
   ]
  },
  {
   "cell_type": "markdown",
   "id": "657b5708",
   "metadata": {},
   "source": [
    "Il aurait été possible de combiner ces deux instructions avec `;`, qui permet d'exécuter consécutivement plusieurs instructions :"
   ]
  },
  {
   "cell_type": "code",
   "execution_count": 22,
   "id": "6665d882",
   "metadata": {
    "execution": {
     "iopub.execute_input": "2021-09-08T08:44:22.527102Z",
     "iopub.status.busy": "2021-09-08T08:44:22.526707Z",
     "iopub.status.idle": "2021-09-08T08:44:22.529636Z",
     "shell.execute_reply": "2021-09-08T08:44:22.528723Z"
    }
   },
   "outputs": [
    {
     "name": "stdout",
     "output_type": "stream",
     "text": [
      "31\n"
     ]
    },
    {
     "data": {
      "text/plain": [
       "- : unit = ()\n"
      ]
     },
     "execution_count": 22,
     "metadata": {},
     "output_type": "execute_result"
    }
   ],
   "source": [
    "print_int 31;\n",
    "print_newline ()"
   ]
  },
  {
   "cell_type": "markdown",
   "id": "fb3d24fd",
   "metadata": {},
   "source": [
    "`;;` est similaire à `;`, mais permet de séparer complètement plusieurs instructions, ce qui signifie que les variables définies avec `in` ne sont plus accessibles :"
   ]
  },
  {
   "cell_type": "code",
   "execution_count": 23,
   "id": "dc70b378",
   "metadata": {
    "execution": {
     "iopub.execute_input": "2021-09-08T08:44:22.531031Z",
     "iopub.status.busy": "2021-09-08T08:44:22.530638Z",
     "iopub.status.idle": "2021-09-08T08:44:22.532936Z",
     "shell.execute_reply": "2021-09-08T08:44:22.532558Z"
    }
   },
   "outputs": [
    {
     "data": {
      "text/plain": [
       "- : int = 3\n"
      ]
     },
     "execution_count": 23,
     "metadata": {},
     "output_type": "execute_result"
    }
   ],
   "source": [
    "let a = 3 in\n",
    "print_int a;\n",
    "a (* a reste accessible : il est toujours dans le in *)"
   ]
  },
  {
   "cell_type": "code",
   "execution_count": 24,
   "id": "0166a2bd",
   "metadata": {
    "execution": {
     "iopub.execute_input": "2021-09-08T08:44:22.534301Z",
     "iopub.status.busy": "2021-09-08T08:44:22.533895Z",
     "iopub.status.idle": "2021-09-08T08:44:22.536528Z",
     "shell.execute_reply": "2021-09-08T08:44:22.536178Z"
    }
   },
   "outputs": [
    {
     "data": {
      "text/plain": [
       "- : unit = ()\n"
      ]
     },
     "execution_count": 24,
     "metadata": {},
     "output_type": "execute_result"
    },
    {
     "data": {
      "text/plain": [
       "- : int = 10\n"
      ]
     },
     "execution_count": 24,
     "metadata": {},
     "output_type": "execute_result"
    }
   ],
   "source": [
    "let a = 3 in\n",
    "print_int a;;\n",
    "a;; (* a n'est pas accessible ici *)"
   ]
  },
  {
   "cell_type": "markdown",
   "id": "99f93ff8",
   "metadata": {
    "tags": []
   },
   "source": [
    "# Présentation du code\n",
    "\n",
    "Contrairement à Python, l'indentation du code n'a pas d'importance en OCaml. En effet les espaces et sauts de lignes sont ignorés :"
   ]
  },
  {
   "cell_type": "code",
   "execution_count": 25,
   "id": "cbde07d9",
   "metadata": {
    "execution": {
     "iopub.execute_input": "2021-09-08T08:44:22.537917Z",
     "iopub.status.busy": "2021-09-08T08:44:22.537521Z",
     "iopub.status.idle": "2021-09-08T08:44:22.539765Z",
     "shell.execute_reply": "2021-09-08T08:44:22.539390Z"
    }
   },
   "outputs": [
    {
     "data": {
      "text/plain": [
       "val a : int = 6\n"
      ]
     },
     "execution_count": 25,
     "metadata": {},
     "output_type": "execute_result"
    }
   ],
   "source": [
    "let a \n",
    "  = \n",
    "      6 (* indentation n'importe comment *)"
   ]
  },
  {
   "cell_type": "markdown",
   "id": "a1fbad97",
   "metadata": {},
   "source": [
    "On veillera toutefois à écrire du code aussi clair et lisible que possible."
   ]
  },
  {
   "cell_type": "markdown",
   "id": "dea2c6a2",
   "metadata": {},
   "source": [
    "# Réferences\n",
    "\n",
    "Contrairement à ce que son nom l'indique, une variable définie comme on l'a fait jusqu'à maintenant est en fait... **constante** :"
   ]
  },
  {
   "cell_type": "code",
   "execution_count": 26,
   "id": "b2054561",
   "metadata": {
    "execution": {
     "iopub.execute_input": "2021-09-08T08:44:22.541228Z",
     "iopub.status.busy": "2021-09-08T08:44:22.540832Z",
     "iopub.status.idle": "2021-09-08T08:44:22.543235Z",
     "shell.execute_reply": "2021-09-08T08:44:22.543556Z"
    }
   },
   "outputs": [
    {
     "data": {
      "text/plain": [
       "val x : int = 3\n"
      ]
     },
     "execution_count": 26,
     "metadata": {},
     "output_type": "execute_result"
    }
   ],
   "source": [
    "let x = 3;;\n",
    "x = 4;; (* ceci ne MODIFIE pas x, mais teste si la valeur de x est 4 *)\n",
    "x;; (* x vaut toujours 3 : il ne peut pas être modifié *)"
   ]
  },
  {
   "cell_type": "markdown",
   "id": "bc83bd2e",
   "metadata": {},
   "source": [
    "Pour pouvoir modifier une variable, on peut utiliser une **référence**.\n",
    "Pour définir une référence on utilise `ref` :\n",
    "```ocaml\n",
    "let variable = ref valeur (* définition d'une référence *)\n",
    "```\n",
    "Pour modifier une référence on utilise `:=` :\n",
    "```ocaml\n",
    "variable := valeur (* modification d'une référence *)\n",
    "```\n",
    "Pour obtenir la valeur d'une référence on utilise `!` :\n",
    "```ocaml\n",
    "!variable (* donne la valeur d'une référence *)\n",
    "```"
   ]
  },
  {
   "cell_type": "code",
   "execution_count": 27,
   "id": "d4bde09e",
   "metadata": {
    "execution": {
     "iopub.execute_input": "2021-09-08T08:44:22.545516Z",
     "iopub.status.busy": "2021-09-08T08:44:22.545128Z",
     "iopub.status.idle": "2021-09-08T08:44:22.547776Z",
     "shell.execute_reply": "2021-09-08T08:44:22.548123Z"
    },
    "tags": []
   },
   "outputs": [
    {
     "data": {
      "text/plain": [
       "val x : int ref = {contents = 3}\n"
      ]
     },
     "execution_count": 27,
     "metadata": {},
     "output_type": "execute_result"
    }
   ],
   "source": [
    "let x = ref 3;; (* définie une variable x qui \"pointe\" vers un emplacement mémoire contenant 3 *)\n",
    "x := 4;; (* modifie la valeur pointé par x avec := *)\n",
    "!x;; (* la valeur a bien été modifiée *)"
   ]
  },
  {
   "cell_type": "markdown",
   "id": "169a075f",
   "metadata": {},
   "source": [
    "On remarque que l'instruction `x := 4` a pour valeur de retour `()` : c'est un effet de bord qui modifie `x` mais ne renvoie pas de résultat."
   ]
  },
  {
   "cell_type": "markdown",
   "id": "593e5f9e",
   "metadata": {},
   "source": [
    "**Exercice** : Que valent `!x` et `!y` après avoir exécuté le bout de code suivant? À quoi sert ce code?\n",
    "```ocaml\n",
    "let x = ref 5;;\n",
    "let y = ref 27;;\n",
    "x := !x + !y;\n",
    "y := !x - !y;\n",
    "x := !x - !y\n",
    "```"
   ]
  },
  {
   "cell_type": "markdown",
   "id": "caf92546",
   "metadata": {},
   "source": [
    "**Remarque** : utiliser des `ref` rend souvent le code plus compliqué, on n'en utilisera que lorsque c'est nécessaire."
   ]
  }
 ],
 "metadata": {
  "kernelspec": {
   "display_name": "OCaml default",
   "language": "OCaml",
   "name": "ocaml-jupyter"
  },
  "language_info": {
   "codemirror_mode": "text/x-ocaml",
   "file_extension": ".ml",
   "mimetype": "text/x-ocaml",
   "name": "OCaml",
   "nbconverter_exporter": null,
   "pygments_lexer": "OCaml",
   "version": "4.08.1"
  },
  "title": "Variables"
 },
 "nbformat": 4,
 "nbformat_minor": 5
}

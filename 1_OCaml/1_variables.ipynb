{
 "cells": [
  {
   "cell_type": "markdown",
   "id": "8186b567",
   "metadata": {},
   "source": [
    "# Variables\n",
    "\n",
    "## Définition\n",
    "\n",
    "Une variable possède 3 propriétés:\n",
    "- un nom (exemple : `x`)\n",
    "- une valeur (exemple : 42)\n",
    "- un type (exemple : entier)\n",
    "\n",
    "En OCaml, on définit une variable de la façon suivante :\n",
    "```ocaml\n",
    "let variable = valeur\n",
    "```\n",
    "\n",
    "Par exemple, pour définir une variable `x` valant 42 :"
   ]
  },
  {
   "cell_type": "code",
   "execution_count": null,
   "id": "1996c86a",
   "metadata": {},
   "outputs": [],
   "source": [
    "let x = 42"
   ]
  },
  {
   "cell_type": "markdown",
   "id": "c9899149",
   "metadata": {},
   "source": [
    "OCaml nous répond que `x` a pour valeur 42 et est de type `int` (*integer*, c'est à dire entier).\n",
    "La variable `x` est ici définie globalement, c'est à dire accessible partout dans ce notebook.\n",
    "\n",
    "On peut alors faire des calculs avec la valeur de `x` :"
   ]
  },
  {
   "cell_type": "code",
   "execution_count": null,
   "id": "58459273",
   "metadata": {},
   "outputs": [],
   "source": [
    "3*x - 2 (* OCaml remplace x par 42 et fait le calcul *)"
   ]
  },
  {
   "cell_type": "markdown",
   "id": "13a4d2d6",
   "metadata": {},
   "source": [
    "Il est possible d'avoir une expression (un calcul) à droite d'une définition :"
   ]
  },
  {
   "cell_type": "code",
   "execution_count": null,
   "id": "b0e5e534",
   "metadata": {},
   "outputs": [],
   "source": [
    "let a = 1 + 2 + 3 + 4 (* la valeur à droite de = est calculée puis mise dans a *)"
   ]
  },
  {
   "cell_type": "markdown",
   "id": "1aa5e4ed",
   "metadata": {},
   "source": [
    "## Variable locale\n",
    "\n",
    "Il est possible de définir une variable locale en utilisant la forme `let y = in ...`  \n",
    "`y` est alors seulement accessible dans `...`"
   ]
  },
  {
   "cell_type": "code",
   "execution_count": null,
   "id": "a434f561",
   "metadata": {},
   "outputs": [],
   "source": [
    "let y = -1 in y (* y est accessible dans le in *)"
   ]
  },
  {
   "cell_type": "code",
   "execution_count": null,
   "id": "4a3a195a",
   "metadata": {},
   "outputs": [],
   "source": [
    "(* utiliser y ici donnerait une erreur  *)"
   ]
  },
  {
   "cell_type": "markdown",
   "id": "16c1da73",
   "metadata": {},
   "source": [
    "## Variables numériques\n",
    "\n",
    "Nous avons déjà vu l'addition et la soustraction de 2 entiers. Il est aussi possible de multiplier :"
   ]
  },
  {
   "cell_type": "code",
   "execution_count": null,
   "id": "9296fce1",
   "metadata": {},
   "outputs": [],
   "source": [
    "3 * 14"
   ]
  },
  {
   "cell_type": "markdown",
   "id": "24d965c3",
   "metadata": {},
   "source": [
    "On peut effectuer la division **entière** de 2 entiers :"
   ]
  },
  {
   "cell_type": "code",
   "execution_count": null,
   "id": "dbc2189d",
   "metadata": {},
   "outputs": [],
   "source": [
    "3 / 2 (* division entière *)"
   ]
  },
  {
   "cell_type": "markdown",
   "id": "9aa60734",
   "metadata": {},
   "source": [
    "La division entière de $x$ par $y$ est, par définition, la partie entière de $\\frac{x}{y}$.  \n",
    "Dans l'exemple ci-dessus, `3 / 2` est donc la partie entière de $\\frac{3}{2} = 1.5$, c'est à dire $1$. "
   ]
  },
  {
   "cell_type": "markdown",
   "id": "921ff784",
   "metadata": {},
   "source": [
    "En plus des entiers (`int`), OCaml permet de définir des nombres à virgules (`float`, pour flottant) :"
   ]
  },
  {
   "cell_type": "code",
   "execution_count": null,
   "id": "6fb10a81",
   "metadata": {},
   "outputs": [],
   "source": [
    "let pi = 3.141592"
   ]
  },
  {
   "cell_type": "markdown",
   "id": "42310759",
   "metadata": {},
   "source": [
    "Les opérateurs d'addition, soustraction, multiplication, division doivent s'utiliser avec un `.` (point). Par exemple :"
   ]
  },
  {
   "cell_type": "code",
   "execution_count": null,
   "id": "c82f75e4",
   "metadata": {},
   "outputs": [],
   "source": [
    "pi +. 2.618 (* noter le . après + *)"
   ]
  },
  {
   "cell_type": "markdown",
   "id": "1972a630",
   "metadata": {},
   "source": [
    "Attention : c'est le point (.) et non pas la virgule qui est utilisé pour les flottants.\n",
    "\n",
    "\n"
   ]
  },
  {
   "cell_type": "markdown",
   "id": "7b474233",
   "metadata": {},
   "source": [
    "Il est possible de calculer $x^y$, où $x$ et $y$ sont des **flottants** avec `**` :"
   ]
  },
  {
   "cell_type": "code",
   "execution_count": null,
   "id": "37f1442b",
   "metadata": {},
   "outputs": [],
   "source": [
    "2.718**3.14 (* x puissance y *)"
   ]
  },
  {
   "cell_type": "markdown",
   "id": "00a2f157",
   "metadata": {},
   "source": [
    "Il n'est pas possible d'utiliser `**` sur des entiers. Pour calculer la puissance d'un entier par un autre, on verra plus tard un algorithme appelé **exponentiation rapide**."
   ]
  },
  {
   "cell_type": "markdown",
   "id": "c1b9f109",
   "metadata": {},
   "source": [
    "**Exercice 1**\n",
    "1. Stocker la valeur $42^2$ dans une variable $a$, en utilisant `*`.\n",
    "2. En déduire la valeur de $42^4$.\n",
    "3. Calculer la valeur de $2^{10}$ en utilisant le moins de multiplications possibles."
   ]
  },
  {
   "cell_type": "markdown",
   "id": "9af39a90",
   "metadata": {},
   "source": [
    "**Exercice 2**\n",
    "\n",
    "1. Stocker dans 3 variables $a$, $b$, $c$ les valeurs 2, 5 et 3. On pourra utiliser let a, b, c = ..., ..., ... pour définir 3 variable simultanément. \n",
    "2. Stocker dans une variable $delta$ le discriminant de l'équation $ax^2 + bx + c = 0$.\n",
    "3. Calculer toutes les solutions de l'équation précédente."
   ]
  },
  {
   "cell_type": "markdown",
   "id": "f5c64fa0",
   "metadata": {},
   "source": [
    "## Overflow\n",
    "\n",
    "L'ordinateur stocke "
   ]
  },
  {
   "cell_type": "code",
   "execution_count": null,
   "id": "d1837be7",
   "metadata": {},
   "outputs": [],
   "source": [
    "max_int+1"
   ]
  },
  {
   "cell_type": "markdown",
   "id": "40392dc7",
   "metadata": {},
   "source": [
    "## Booléens"
   ]
  },
  {
   "cell_type": "markdown",
   "id": "74204061",
   "metadata": {},
   "source": [
    "Une valeur booléenne est soit true (vrai) soit false (faux). Par exemple, on peut tester l'égalité de deux valeurs avec `=` :"
   ]
  },
  {
   "cell_type": "code",
   "execution_count": null,
   "id": "cb89686d",
   "metadata": {},
   "outputs": [],
   "source": [
    "3 = 1 + 2"
   ]
  },
  {
   "cell_type": "markdown",
   "id": "4b1384d2",
   "metadata": {},
   "source": [
    "On peut comparer des valeurs numériques avec `<` (inférieur strict), `>`, `<=` (inférieur ou égal), `>=`, `<>` (différent)... :"
   ]
  },
  {
   "cell_type": "code",
   "execution_count": null,
   "id": "4a21e3c7",
   "metadata": {},
   "outputs": [],
   "source": [
    "2 < 1"
   ]
  },
  {
   "cell_type": "markdown",
   "id": "8792adc9",
   "metadata": {},
   "source": [
    "Les opérateurs `&&` (et), `||` (ou), `not` permettent de combiner des conditions :"
   ]
  },
  {
   "cell_type": "code",
   "execution_count": null,
   "id": "6afc6e8f",
   "metadata": {},
   "outputs": [],
   "source": [
    "1 < 2 && 2 < 3"
   ]
  },
  {
   "cell_type": "code",
   "execution_count": null,
   "id": "1a078358",
   "metadata": {},
   "outputs": [],
   "source": [
    "let a = 0 in\n",
    "a <> 0 || a > 3 (* test si a est différent de 0 ou supérieur à 3 *)"
   ]
  },
  {
   "cell_type": "markdown",
   "id": "9154431e",
   "metadata": {},
   "source": [
    "**Exercice**\n",
    "\n",
    "1. Quelle est la valeur du code suivant?\n",
    "```ocaml\n",
    "let a = 42 in\n",
    "not (a = 12 && (a < 10 || a > 30))\n",
    "```\n",
    "2. Comment aurait-on pu écrire `not (a = 12 && (a < 10 || a > 30))` sans `not`?"
   ]
  },
  {
   "cell_type": "markdown",
   "id": "69f2d0ac",
   "metadata": {},
   "source": [
    "## Présentation du code\n",
    "\n",
    "Contrairement à Python, l'indentation du code n'a pas d'importance en OCaml. En effet les espaces et sauts de lignes sont ignorés :"
   ]
  },
  {
   "cell_type": "code",
   "execution_count": null,
   "id": "f56911cc",
   "metadata": {},
   "outputs": [],
   "source": [
    "let a \n",
    "  =\n",
    "3"
   ]
  },
  {
   "cell_type": "markdown",
   "id": "2aeab719",
   "metadata": {},
   "source": [
    " Il est cependant très important d'avoir un code lisible et aéré, et ce sera pris en compte dans la notation (même si ça n'apparaît pas toujours explicitement).\n"
   ]
  },
  {
   "cell_type": "markdown",
   "id": "e4cc4864",
   "metadata": {},
   "source": [
    "Pour séparer deux instructions consécutives (ce qui arrivera rarement, on aurait plus souvent des instructions imbriquées avec `in`), on utilisera `;`."
   ]
  }
 ],
 "metadata": {
  "kernelspec": {
   "display_name": "OCaml default",
   "language": "OCaml",
   "name": "ocaml-jupyter"
  }
 },
 "nbformat": 4,
 "nbformat_minor": 5
}

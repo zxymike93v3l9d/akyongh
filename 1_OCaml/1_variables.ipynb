{
 "cells": [
  {
   "cell_type": "markdown",
   "id": "9700ac51",
   "metadata": {},
   "source": [
    "# Définition d'une variable\n",
    "\n",
    "Une variable possède 3 propriétés:\n",
    "- un nom (exemple : `x`)\n",
    "- une valeur (exemple : 42)\n",
    "- un type (exemple : entier)\n",
    "\n",
    "En OCaml, on définit une variable de la façon suivante :\n",
    "```ocaml\n",
    "let variable = valeur\n",
    "```\n",
    "\n",
    "Par exemple, pour définir une variable `x` valant 42 :"
   ]
  },
  {
   "cell_type": "code",
   "execution_count": 1,
   "id": "2d488f9f",
   "metadata": {
    "execution": {
     "iopub.execute_input": "2021-09-03T13:42:44.812653Z",
     "iopub.status.busy": "2021-09-03T13:42:44.812069Z",
     "iopub.status.idle": "2021-09-03T13:42:44.814852Z",
     "shell.execute_reply": "2021-09-03T13:42:44.813168Z"
    },
    "tags": []
   },
   "outputs": [
    {
     "data": {
      "text/plain": [
       "val x : int = 42\n"
      ]
     },
     "execution_count": 1,
     "metadata": {},
     "output_type": "execute_result"
    }
   ],
   "source": [
    "let x = 42"
   ]
  },
  {
   "cell_type": "markdown",
   "id": "bb72114b",
   "metadata": {},
   "source": [
    "OCaml nous répond que `x` a pour valeur 42 et est de type `int` (*integer*, c'est à dire entier).\n",
    "La variable `x` est ici définie globalement, c'est à dire accessible partout dans ce notebook.\n",
    "\n",
    "On peut alors faire des calculs avec la valeur de `x` :"
   ]
  },
  {
   "cell_type": "code",
   "execution_count": 2,
   "id": "5c3c0df5",
   "metadata": {
    "execution": {
     "iopub.execute_input": "2021-09-03T13:42:44.817200Z",
     "iopub.status.busy": "2021-09-03T13:42:44.816652Z",
     "iopub.status.idle": "2021-09-03T13:42:44.818937Z",
     "shell.execute_reply": "2021-09-03T13:42:44.819365Z"
    },
    "tags": []
   },
   "outputs": [
    {
     "data": {
      "text/plain": [
       "- : int = 124\n"
      ]
     },
     "execution_count": 2,
     "metadata": {},
     "output_type": "execute_result"
    }
   ],
   "source": [
    "3*x - 2 (* OCaml remplace x par 42 et fait le calcul *)"
   ]
  },
  {
   "cell_type": "markdown",
   "id": "30230e73",
   "metadata": {},
   "source": [
    "Il est possible d'avoir une expression (un calcul) à droite d'une définition :"
   ]
  },
  {
   "cell_type": "code",
   "execution_count": 3,
   "id": "a4898b22",
   "metadata": {
    "execution": {
     "iopub.execute_input": "2021-09-03T13:42:44.822178Z",
     "iopub.status.busy": "2021-09-03T13:42:44.821524Z",
     "iopub.status.idle": "2021-09-03T13:42:44.823929Z",
     "shell.execute_reply": "2021-09-03T13:42:44.824356Z"
    },
    "tags": []
   },
   "outputs": [
    {
     "data": {
      "text/plain": [
       "val a : int = 10\n"
      ]
     },
     "execution_count": 3,
     "metadata": {},
     "output_type": "execute_result"
    }
   ],
   "source": [
    "let a = 1 + 2 + 3 + 4 (* la valeur à droite de = est calculée puis mise dans a *)"
   ]
  },
  {
   "cell_type": "markdown",
   "id": "b3d25aa1-6f8b-4d09-8835-3507400fde32",
   "metadata": {},
   "source": [
    "**Exercice** : définissez une variable $a$ égale à 752. Puis définissez une variable $b$ égale à $54a$.    \n",
    "Rappel : vous pouvez appuyer sur la touche B pour faire apparaître une case de code et répondre dedans. Ici vous pouvez utiliser deux cases, ou séparer les deux instructions avec ` ;;`."
   ]
  },
  {
   "cell_type": "markdown",
   "id": "87f1114f",
   "metadata": {},
   "source": [
    "# Variables locales\n",
    "\n",
    "Il est possible de définir une variable locale en utilisant la forme `let y = ... in ...`  \n",
    "`y` est alors seulement après le in `...`"
   ]
  },
  {
   "cell_type": "code",
   "execution_count": 4,
   "id": "37cdaa7a",
   "metadata": {
    "execution": {
     "iopub.execute_input": "2021-09-03T13:42:44.826801Z",
     "iopub.status.busy": "2021-09-03T13:42:44.826266Z",
     "iopub.status.idle": "2021-09-03T13:42:44.828400Z",
     "shell.execute_reply": "2021-09-03T13:42:44.828993Z"
    },
    "tags": []
   },
   "outputs": [
    {
     "data": {
      "text/plain": [
       "- : int = -1\n"
      ]
     },
     "execution_count": 4,
     "metadata": {},
     "output_type": "execute_result"
    }
   ],
   "source": [
    "let y = -1 in y (* y est accessible dans le in *)"
   ]
  },
  {
   "cell_type": "code",
   "execution_count": 5,
   "id": "af942256",
   "metadata": {
    "execution": {
     "iopub.execute_input": "2021-09-03T13:42:44.831659Z",
     "iopub.status.busy": "2021-09-03T13:42:44.830781Z",
     "iopub.status.idle": "2021-09-03T13:42:44.834381Z",
     "shell.execute_reply": "2021-09-03T13:42:44.833651Z"
    },
    "tags": []
   },
   "outputs": [
    {
     "ename": "error",
     "evalue": "compile_error",
     "output_type": "error",
     "traceback": [
      "File \"[5]\", line 1, characters 0-1:\n1 | y (* utiliser y ici donne une erreur  *)\n    ^\nError: Unbound value y\n"
     ]
    }
   ],
   "source": [
    "y (* utiliser y ici donne une erreur  *)"
   ]
  },
  {
   "cell_type": "markdown",
   "id": "523c2ac6-8613-42a0-bcda-dfca1f370498",
   "metadata": {
    "tags": []
   },
   "source": [
    "**Exercice** : en utilisant `let ... in ... `, définissez une variable $a$ égale à $752$, puis définissez une variable $b$ égale à $54a$.    "
   ]
  },
  {
   "cell_type": "markdown",
   "id": "cbd5aca6-0d30-4f0b-8ed2-be2fc82d0f70",
   "metadata": {},
   "source": [
    "**Remarque** Il est possible d'utiliser des parenthèses ou `begin ... end` pour délimiter le in :\n",
    "```ocaml\n",
    "let a = 3 in\n",
    "(\n",
    "...\n",
    ")\n",
    "```"
   ]
  },
  {
   "cell_type": "markdown",
   "id": "c367ce66",
   "metadata": {
    "tags": []
   },
   "source": [
    "\n",
    "# Opérations numériques\n",
    "\n",
    "Nous avons déjà vu l'addition et la soustraction de 2 entiers. Il est aussi possible de multiplier :"
   ]
  },
  {
   "cell_type": "code",
   "execution_count": 6,
   "id": "08d3a74b",
   "metadata": {
    "execution": {
     "iopub.execute_input": "2021-09-03T13:42:44.837505Z",
     "iopub.status.busy": "2021-09-03T13:42:44.836706Z",
     "iopub.status.idle": "2021-09-03T13:42:44.839767Z",
     "shell.execute_reply": "2021-09-03T13:42:44.839276Z"
    }
   },
   "outputs": [
    {
     "data": {
      "text/plain": [
       "- : int = 42\n"
      ]
     },
     "execution_count": 6,
     "metadata": {},
     "output_type": "execute_result"
    }
   ],
   "source": [
    "3 * 14"
   ]
  },
  {
   "cell_type": "markdown",
   "id": "9ae68e72",
   "metadata": {},
   "source": [
    "On peut effectuer la division **entière** (ou encore : [quotient de la division euclidienne](https://fr.wikipedia.org/wiki/Division_euclidienne)) de 2 entiers :"
   ]
  },
  {
   "cell_type": "code",
   "execution_count": 7,
   "id": "9d701028",
   "metadata": {
    "execution": {
     "iopub.execute_input": "2021-09-03T13:42:44.842338Z",
     "iopub.status.busy": "2021-09-03T13:42:44.841688Z",
     "iopub.status.idle": "2021-09-03T13:42:44.844105Z",
     "shell.execute_reply": "2021-09-03T13:42:44.843624Z"
    }
   },
   "outputs": [
    {
     "data": {
      "text/plain": [
       "- : int = 1\n"
      ]
     },
     "execution_count": 7,
     "metadata": {},
     "output_type": "execute_result"
    }
   ],
   "source": [
    "3 / 2 (* division entière *)"
   ]
  },
  {
   "cell_type": "markdown",
   "id": "7f969a44",
   "metadata": {},
   "source": [
    "La division entière de $x$ par $y$ est, par définition, la partie entière de $\\frac{x}{y}$.  \n",
    "Dans l'exemple ci-dessus, `3 / 2` est donc la partie entière de $\\frac{3}{2} = 1.5$, c'est à dire $1$. \n",
    "\n",
    "**Attention** : la division entière ` 3 / 2`  en OCaml correspond à ` 3 // 2 ` en Python."
   ]
  },
  {
   "cell_type": "markdown",
   "id": "e2d777cc",
   "metadata": {},
   "source": [
    "En plus des entiers (`int`), OCaml permet de définir des nombres à virgules (`float`, pour flottant) :"
   ]
  },
  {
   "cell_type": "code",
   "execution_count": 8,
   "id": "f3a18c61",
   "metadata": {
    "execution": {
     "iopub.execute_input": "2021-09-03T13:42:44.846197Z",
     "iopub.status.busy": "2021-09-03T13:42:44.845676Z",
     "iopub.status.idle": "2021-09-03T13:42:44.848032Z",
     "shell.execute_reply": "2021-09-03T13:42:44.848634Z"
    }
   },
   "outputs": [
    {
     "data": {
      "text/plain": [
       "val pi : float = 3.141592\n"
      ]
     },
     "execution_count": 8,
     "metadata": {},
     "output_type": "execute_result"
    }
   ],
   "source": [
    "let pi = 3.141592"
   ]
  },
  {
   "cell_type": "markdown",
   "id": "4b7701de",
   "metadata": {},
   "source": [
    "Les opérateurs d'addition, soustraction, multiplication, division doivent s'utiliser avec un `.` (point). Par exemple :"
   ]
  },
  {
   "cell_type": "code",
   "execution_count": 9,
   "id": "28fcb371",
   "metadata": {
    "execution": {
     "iopub.execute_input": "2021-09-03T13:42:44.851314Z",
     "iopub.status.busy": "2021-09-03T13:42:44.850648Z",
     "iopub.status.idle": "2021-09-03T13:42:44.853157Z",
     "shell.execute_reply": "2021-09-03T13:42:44.852707Z"
    }
   },
   "outputs": [
    {
     "data": {
      "text/plain": [
       "- : float = 5.759592\n"
      ]
     },
     "execution_count": 9,
     "metadata": {},
     "output_type": "execute_result"
    }
   ],
   "source": [
    "pi +. 2.618 (* noter le . après + *)"
   ]
  },
  {
   "cell_type": "markdown",
   "id": "98a76503",
   "metadata": {},
   "source": [
    "**Attention** : c'est le point (.) et non pas la virgule qui est utilisé pour les flottants."
   ]
  },
  {
   "cell_type": "markdown",
   "id": "06e8d61d",
   "metadata": {},
   "source": [
    "Il est possible de calculer $x^y$, où $x$ et $y$ sont des **flottants** avec `**` :"
   ]
  },
  {
   "cell_type": "code",
   "execution_count": 10,
   "id": "24a616e4",
   "metadata": {
    "execution": {
     "iopub.execute_input": "2021-09-03T13:42:44.854972Z",
     "iopub.status.busy": "2021-09-03T13:42:44.854582Z",
     "iopub.status.idle": "2021-09-03T13:42:44.858234Z",
     "shell.execute_reply": "2021-09-03T13:42:44.857821Z"
    }
   },
   "outputs": [
    {
     "data": {
      "text/plain": [
       "- : float = 23.0963461891915607\n"
      ]
     },
     "execution_count": 10,
     "metadata": {},
     "output_type": "execute_result"
    }
   ],
   "source": [
    "2.718 ** 3.14 (* x puissance y *)"
   ]
  },
  {
   "cell_type": "markdown",
   "id": "78e700d6",
   "metadata": {},
   "source": [
    "Il n'est pas possible d'utiliser `**` sur des `int`. Par contre on peut utiliser 4.0 ou 4. au lieu de 4 pour avoir des flottants et utiliser `**` : "
   ]
  },
  {
   "cell_type": "code",
   "execution_count": 11,
   "id": "9220c873",
   "metadata": {
    "execution": {
     "iopub.execute_input": "2021-09-03T13:42:44.859826Z",
     "iopub.status.busy": "2021-09-03T13:42:44.859468Z",
     "iopub.status.idle": "2021-09-03T13:42:44.861268Z",
     "shell.execute_reply": "2021-09-03T13:42:44.860950Z"
    }
   },
   "outputs": [
    {
     "data": {
      "text/plain": [
       "- : float = 1024.\n"
      ]
     },
     "execution_count": 11,
     "metadata": {},
     "output_type": "execute_result"
    }
   ],
   "source": [
    "2. ** 10."
   ]
  },
  {
   "cell_type": "markdown",
   "id": "d6450f87",
   "metadata": {},
   "source": [
    "**Exercice**\n",
    "1. Stocker la valeur $42^2$ dans une variable $a$, en utilisant `*`.\n",
    "2. En déduire la valeur de $42^4$.\n",
    "3. Calculer la valeur de $2^{10}$ en utilisant le moins de multiplications possibles."
   ]
  },
  {
   "cell_type": "markdown",
   "id": "d50f455c",
   "metadata": {},
   "source": [
    "**Exercice**\n",
    "\n",
    "1. Stocker dans 3 variables $a$, $b$, $c$ les valeurs 2, 5 et 3. On pourra utiliser let a, b, c = ..., ..., ... pour définir 3 variable simultanément. \n",
    "2. Stocker dans une variable $delta$ le discriminant de l'équation $ax^2 + bx + c = 0$.\n",
    "3. Calculer toutes les solutions de l'équation précédente."
   ]
  },
  {
   "cell_type": "markdown",
   "id": "98cf2ce8",
   "metadata": {},
   "source": [
    "Une autre opération importante est le **modulo** (ou : [reste de la division euclidienne](https://fr.wikipedia.org/wiki/Division_euclidienne)) de 2 entiers `a` et `b`, notée `a mod b` en OCaml. Mathématiquement, il s'agit de l'entier $r$ vérifiant :\n",
    "$$a = bq + r$$\n",
    "$$0 \\leq r < b$$\n",
    "\n",
    "($q$ est le quotient, égal à `a / b` en OCaml)  \n",
    "Cette opération `mod` sert notamment à tester la divisibilité : `a` est divisible par `b` si et seulement si `a mod b = 0`."
   ]
  },
  {
   "cell_type": "markdown",
   "id": "ec1a63cb",
   "metadata": {},
   "source": [
    "**Exercice** : Est-ce que 527 est divisible par 17?"
   ]
  },
  {
   "cell_type": "markdown",
   "id": "d4c97db8",
   "metadata": {},
   "source": [
    "# Overflow\n",
    "\n",
    "L'ordinateur stocke toutes les variables dans la mémoire RAM de l'ordinateur, en binaire (suite de 0 et de 1). Comme la mémoire RAM sur un ordinateur n'est pas infinie, on ne peut pas stocker des nombres de taille arbitraire.  \n",
    "`max_int` est le plus grand entier que l'on peut stocker dans une variable :"
   ]
  },
  {
   "cell_type": "code",
   "execution_count": 12,
   "id": "2d27026a",
   "metadata": {
    "execution": {
     "iopub.execute_input": "2021-09-03T13:42:44.862949Z",
     "iopub.status.busy": "2021-09-03T13:42:44.862603Z",
     "iopub.status.idle": "2021-09-03T13:42:44.864119Z",
     "shell.execute_reply": "2021-09-03T13:42:44.863728Z"
    }
   },
   "outputs": [
    {
     "data": {
      "text/plain": [
       "- : int = 4611686018427387903\n"
      ]
     },
     "execution_count": 12,
     "metadata": {},
     "output_type": "execute_result"
    }
   ],
   "source": [
    "max_int"
   ]
  },
  {
   "cell_type": "markdown",
   "id": "90d73484",
   "metadata": {},
   "source": [
    "Si on dépasse cet entier (ce qu'on appelle **integer overflow**), on tombe sur le plus petit entier représentable :"
   ]
  },
  {
   "cell_type": "code",
   "execution_count": 13,
   "id": "6c0c3717",
   "metadata": {
    "execution": {
     "iopub.execute_input": "2021-09-03T13:42:44.866347Z",
     "iopub.status.busy": "2021-09-03T13:42:44.866009Z",
     "iopub.status.idle": "2021-09-03T13:42:44.867549Z",
     "shell.execute_reply": "2021-09-03T13:42:44.867256Z"
    },
    "tags": []
   },
   "outputs": [
    {
     "data": {
      "text/plain": [
       "- : int = -4611686018427387904\n"
      ]
     },
     "execution_count": 13,
     "metadata": {},
     "output_type": "execute_result"
    }
   ],
   "source": [
    "max_int + 1"
   ]
  },
  {
   "cell_type": "markdown",
   "id": "073fe033",
   "metadata": {},
   "source": [
    "Le dépassement d'entier est une source fréquente de bug, qui a causé par exemple le [crash de la fusée Ariane 5](https://fr.wikipedia.org/wiki/Vol_501_d%27Ariane_5)."
   ]
  },
  {
   "cell_type": "markdown",
   "id": "45f4b2f7",
   "metadata": {},
   "source": [
    "Les float sont également limités :"
   ]
  },
  {
   "cell_type": "code",
   "execution_count": 14,
   "id": "f864387f",
   "metadata": {
    "execution": {
     "iopub.execute_input": "2021-09-03T13:42:44.869064Z",
     "iopub.status.busy": "2021-09-03T13:42:44.868691Z",
     "iopub.status.idle": "2021-09-03T13:42:44.870123Z",
     "shell.execute_reply": "2021-09-03T13:42:44.869833Z"
    }
   },
   "outputs": [
    {
     "data": {
      "text/plain": [
       "- : float = 1.79769313486231571e+308\n"
      ]
     },
     "execution_count": 14,
     "metadata": {},
     "output_type": "execute_result"
    }
   ],
   "source": [
    "max_float"
   ]
  },
  {
   "cell_type": "markdown",
   "id": "9c49b7f3",
   "metadata": {},
   "source": [
    "Les flottants sont codées suivant la norme [IEEE754](https://fr.wikipedia.org/wiki/IEEE_754) sous la forme scientifique en utilisant 64 bits (sur un processeur 64 bits) dont 52 bits pour les chiffres après la virgule.  \n",
    "La précision des flottants est donc limitée : par exemple, on ne peut pas stocker $\\sqrt{2}$ ou $\\pi$ de façon exacte sur l'ordinateur puisqu'il s'agit de nombres irrationnels (c'est à dire avec une infinité de décimales, qui ne se répètent pas).  "
   ]
  },
  {
   "cell_type": "code",
   "execution_count": 15,
   "id": "ed9cc1f8",
   "metadata": {
    "execution": {
     "iopub.execute_input": "2021-09-03T13:42:44.871525Z",
     "iopub.status.busy": "2021-09-03T13:42:44.871201Z",
     "iopub.status.idle": "2021-09-03T13:42:44.872757Z",
     "shell.execute_reply": "2021-09-03T13:42:44.872447Z"
    }
   },
   "outputs": [
    {
     "data": {
      "text/plain": [
       "- : float = 1.41421356237309515\n"
      ]
     },
     "execution_count": 15,
     "metadata": {},
     "output_type": "execute_result"
    }
   ],
   "source": [
    "2.**0.5 (* seulement une partie des décimales est stockée *)"
   ]
  },
  {
   "cell_type": "code",
   "execution_count": 16,
   "id": "dbd9c466-71ba-4a33-9791-53f7857781b1",
   "metadata": {
    "execution": {
     "iopub.execute_input": "2021-09-03T13:42:44.874252Z",
     "iopub.status.busy": "2021-09-03T13:42:44.873923Z",
     "iopub.status.idle": "2021-09-03T13:42:44.875744Z",
     "shell.execute_reply": "2021-09-03T13:42:44.875431Z"
    }
   },
   "outputs": [
    {
     "data": {
      "text/plain": [
       "- : float = 2.00000000000000044\n"
      ]
     },
     "execution_count": 16,
     "metadata": {},
     "output_type": "execute_result"
    }
   ],
   "source": [
    "(2.**0.5)**2.0  (* ne donne pas 2.0 à cause des erreurs d'arrondis *)"
   ]
  },
  {
   "cell_type": "markdown",
   "id": "725dad78",
   "metadata": {},
   "source": [
    "Le calcul de $\\sqrt 2$ par OCaml s'arrête à la 16ème décimale (ce qui correspond à 52 bits après la virgules, puisque $2^{-52}$ est du même ordre de grandeur que $10^{-16}$). Ce nombre $2^{-52}$ est appelé **epsilon machine**."
   ]
  },
  {
   "cell_type": "markdown",
   "id": "3c806718-13a0-4d98-9d7b-fbcc14fb3ec3",
   "metadata": {},
   "source": [
    "Autre exemple :"
   ]
  },
  {
   "cell_type": "code",
   "execution_count": 17,
   "id": "cc17760b-43d6-4b4a-9f03-f5927b8dd38b",
   "metadata": {
    "execution": {
     "iopub.execute_input": "2021-09-03T13:42:44.877274Z",
     "iopub.status.busy": "2021-09-03T13:42:44.876941Z",
     "iopub.status.idle": "2021-09-03T13:42:44.878476Z",
     "shell.execute_reply": "2021-09-03T13:42:44.878173Z"
    }
   },
   "outputs": [
    {
     "data": {
      "text/plain": [
       "- : float = 0.300000000000000044\n"
      ]
     },
     "execution_count": 17,
     "metadata": {},
     "output_type": "execute_result"
    }
   ],
   "source": [
    "0.1 +. 0.2  (* ne donne pas 0.3 *)"
   ]
  },
  {
   "cell_type": "markdown",
   "id": "811f4596-f017-4326-bc87-ec3e20c9fe55",
   "metadata": {},
   "source": [
    "`O.1` n'étant pas représentable de façon exacte en base 2, il n'est pas stocké de façon exact. On voit donc que même sur des calculs simples, le résutat est approché sur les flottants."
   ]
  },
  {
   "cell_type": "markdown",
   "id": "e911e851-6874-4276-8bc3-e5ac58f15b3b",
   "metadata": {},
   "source": [
    "La plus grande valeur de l'exposant est 1023 :"
   ]
  },
  {
   "cell_type": "code",
   "execution_count": 18,
   "id": "874a3f97",
   "metadata": {
    "execution": {
     "iopub.execute_input": "2021-09-03T13:42:44.880081Z",
     "iopub.status.busy": "2021-09-03T13:42:44.879578Z",
     "iopub.status.idle": "2021-09-03T13:42:44.881523Z",
     "shell.execute_reply": "2021-09-03T13:42:44.882053Z"
    }
   },
   "outputs": [
    {
     "data": {
      "text/plain": [
       "- : float = 8.98846567431158e+307\n"
      ]
     },
     "execution_count": 18,
     "metadata": {},
     "output_type": "execute_result"
    }
   ],
   "source": [
    "2.**1023."
   ]
  },
  {
   "cell_type": "code",
   "execution_count": 19,
   "id": "c2b6863a",
   "metadata": {
    "execution": {
     "iopub.execute_input": "2021-09-03T13:42:44.883798Z",
     "iopub.status.busy": "2021-09-03T13:42:44.883398Z",
     "iopub.status.idle": "2021-09-03T13:42:44.884716Z",
     "shell.execute_reply": "2021-09-03T13:42:44.885034Z"
    }
   },
   "outputs": [
    {
     "data": {
      "text/plain": [
       "- : float = infinity\n"
      ]
     },
     "execution_count": 19,
     "metadata": {},
     "output_type": "execute_result"
    }
   ],
   "source": [
    "2.**1024."
   ]
  },
  {
   "cell_type": "markdown",
   "id": "f24e07c4",
   "metadata": {
    "tags": []
   },
   "source": [
    "# Unit\n",
    "\n",
    "Il existe une valeur spéciale `()` qui signifie \"rien\" (un peu comme le None de Python). Le type de `()` est `unit`. Par exemple, afficher un entier avec `print_int` fait un effet de bord (affichage sur l'écran) mais ne renvoie pas de valeur :"
   ]
  },
  {
   "cell_type": "code",
   "execution_count": 20,
   "id": "db5cc07b",
   "metadata": {
    "execution": {
     "iopub.execute_input": "2021-09-03T13:42:44.886455Z",
     "iopub.status.busy": "2021-09-03T13:42:44.886129Z",
     "iopub.status.idle": "2021-09-03T13:42:44.887664Z",
     "shell.execute_reply": "2021-09-03T13:42:44.887390Z"
    }
   },
   "outputs": [
    {
     "data": {
      "text/plain": [
       "- : unit = ()\n"
      ]
     },
     "execution_count": 20,
     "metadata": {},
     "output_type": "execute_result"
    }
   ],
   "source": [
    "print_int 42"
   ]
  },
  {
   "cell_type": "markdown",
   "id": "717f0ae0",
   "metadata": {},
   "source": [
    "Pour que le résultat s'affiche, il faut revenir à la ligne avec `print_newline` :"
   ]
  },
  {
   "cell_type": "code",
   "execution_count": 21,
   "id": "91688665",
   "metadata": {
    "execution": {
     "iopub.execute_input": "2021-09-03T13:42:44.889119Z",
     "iopub.status.busy": "2021-09-03T13:42:44.888740Z",
     "iopub.status.idle": "2021-09-03T13:42:44.891864Z",
     "shell.execute_reply": "2021-09-03T13:42:44.891551Z"
    }
   },
   "outputs": [
    {
     "name": "stdout",
     "output_type": "stream",
     "text": [
      "42\n"
     ]
    },
    {
     "data": {
      "text/plain": [
       "- : unit = ()\n"
      ]
     },
     "execution_count": 21,
     "metadata": {},
     "output_type": "execute_result"
    }
   ],
   "source": [
    "print_newline ()"
   ]
  },
  {
   "cell_type": "markdown",
   "id": "00e03453",
   "metadata": {},
   "source": [
    "On verra dans un prochain cours le fonctionnement plus détaillé de `print_newline`."
   ]
  },
  {
   "cell_type": "markdown",
   "id": "a3d769fa",
   "metadata": {},
   "source": [
    "Il aurait été possible de combiner ces deux instructions avec `;`, qui permet d'exécuter consécutivement plusieurs instructions :"
   ]
  },
  {
   "cell_type": "code",
   "execution_count": 22,
   "id": "3f446468",
   "metadata": {
    "execution": {
     "iopub.execute_input": "2021-09-03T13:42:44.893456Z",
     "iopub.status.busy": "2021-09-03T13:42:44.893052Z",
     "iopub.status.idle": "2021-09-03T13:42:44.894961Z",
     "shell.execute_reply": "2021-09-03T13:42:44.894669Z"
    }
   },
   "outputs": [
    {
     "name": "stdout",
     "output_type": "stream",
     "text": [
      "31\n"
     ]
    },
    {
     "data": {
      "text/plain": [
       "- : unit = ()\n"
      ]
     },
     "execution_count": 22,
     "metadata": {},
     "output_type": "execute_result"
    }
   ],
   "source": [
    "print_int 31;\n",
    "print_newline ()"
   ]
  },
  {
   "cell_type": "markdown",
   "id": "9f9a7adb",
   "metadata": {},
   "source": [
    "`;;` est similaire à `;`, mais permet de séparer complètement plusieurs instructions, ce qui signifie que les variables définies avec `in` ne sont plus accessibles :"
   ]
  },
  {
   "cell_type": "code",
   "execution_count": 23,
   "id": "51c67fe1",
   "metadata": {
    "execution": {
     "iopub.execute_input": "2021-09-03T13:42:44.896295Z",
     "iopub.status.busy": "2021-09-03T13:42:44.895968Z",
     "iopub.status.idle": "2021-09-03T13:42:44.897426Z",
     "shell.execute_reply": "2021-09-03T13:42:44.897709Z"
    }
   },
   "outputs": [
    {
     "data": {
      "text/plain": [
       "- : int = 3\n"
      ]
     },
     "execution_count": 23,
     "metadata": {},
     "output_type": "execute_result"
    }
   ],
   "source": [
    "let a = 3 in\n",
    "print_int a;\n",
    "a (* a reste accessible : il est toujours dans le in *)"
   ]
  },
  {
   "cell_type": "code",
   "execution_count": 24,
   "id": "904f413a",
   "metadata": {
    "execution": {
     "iopub.execute_input": "2021-09-03T13:42:44.899238Z",
     "iopub.status.busy": "2021-09-03T13:42:44.898878Z",
     "iopub.status.idle": "2021-09-03T13:42:44.901218Z",
     "shell.execute_reply": "2021-09-03T13:42:44.900920Z"
    }
   },
   "outputs": [
    {
     "data": {
      "text/plain": [
       "- : unit = ()\n"
      ]
     },
     "execution_count": 24,
     "metadata": {},
     "output_type": "execute_result"
    },
    {
     "data": {
      "text/plain": [
       "- : int = 10\n"
      ]
     },
     "execution_count": 24,
     "metadata": {},
     "output_type": "execute_result"
    }
   ],
   "source": [
    "let a = 3 in\n",
    "print_int a;;\n",
    "a;; (* a n'est pas accessible ici *)"
   ]
  },
  {
   "cell_type": "markdown",
   "id": "c110ff3f",
   "metadata": {
    "tags": []
   },
   "source": [
    "# Présentation du code\n",
    "\n",
    "Contrairement à Python, l'indentation du code n'a pas d'importance en OCaml. En effet les espaces et sauts de lignes sont ignorés :"
   ]
  },
  {
   "cell_type": "code",
   "execution_count": 25,
   "id": "226418d6",
   "metadata": {
    "execution": {
     "iopub.execute_input": "2021-09-03T13:42:44.903707Z",
     "iopub.status.busy": "2021-09-03T13:42:44.903092Z",
     "iopub.status.idle": "2021-09-03T13:42:44.904490Z",
     "shell.execute_reply": "2021-09-03T13:42:44.903385Z"
    }
   },
   "outputs": [
    {
     "data": {
      "text/plain": [
       "val a : int = 6\n"
      ]
     },
     "execution_count": 25,
     "metadata": {},
     "output_type": "execute_result"
    }
   ],
   "source": [
    "let a \n",
    "  = \n",
    "      6 (* indentation n'importe comment *)"
   ]
  },
  {
   "cell_type": "markdown",
   "id": "d15a60b9",
   "metadata": {},
   "source": [
    "On veillera toutefois à écrire du code aussi clair et lisible que possible."
   ]
  },
  {
   "cell_type": "markdown",
   "id": "02c94aeb",
   "metadata": {},
   "source": [
    "# Réferences\n",
    "\n",
    "Contrairement à ce que son nom l'indique, une variable définie comme on l'a fait jusqu'à maintenant est en fait... **constante** :"
   ]
  },
  {
   "cell_type": "code",
   "execution_count": 26,
   "id": "42eeff39",
   "metadata": {
    "execution": {
     "iopub.execute_input": "2021-09-03T13:42:44.906090Z",
     "iopub.status.busy": "2021-09-03T13:42:44.905741Z",
     "iopub.status.idle": "2021-09-03T13:42:44.908208Z",
     "shell.execute_reply": "2021-09-03T13:42:44.907903Z"
    }
   },
   "outputs": [
    {
     "data": {
      "text/plain": [
       "val x : int = 3\n"
      ]
     },
     "execution_count": 26,
     "metadata": {},
     "output_type": "execute_result"
    },
    {
     "data": {
      "text/plain": [
       "- : bool = false\n"
      ]
     },
     "execution_count": 26,
     "metadata": {},
     "output_type": "execute_result"
    },
    {
     "data": {
      "text/plain": [
       "- : int = 3\n"
      ]
     },
     "execution_count": 26,
     "metadata": {},
     "output_type": "execute_result"
    }
   ],
   "source": [
    "let x = 3;;\n",
    "x = 4;; (* ceci ne MODIFIE pas x, mais teste si la valeur de x est 4 *)\n",
    "x;; (* x vaut toujours 3 : il ne peut pas être modifié *)"
   ]
  },
  {
   "cell_type": "markdown",
   "id": "b748d8e2",
   "metadata": {},
   "source": [
    "Pour pouvoir modifier une variable, on peut utiliser une **référence**.\n",
    "Pour définir une référence on utilise `ref` :\n",
    "```ocaml\n",
    "let variable = ref valeur (* définition d'une référence *)\n",
    "```\n",
    "Pour modifier une référence on utilise `:=` :\n",
    "```ocaml\n",
    "variable := valeur (* modification d'une référence *)\n",
    "```\n",
    "Pour obtenir la valeur d'une référence on utilise `!` :\n",
    "```ocaml\n",
    "!variable (* donne la valeur d'une référence *)\n",
    "```"
   ]
  },
  {
   "cell_type": "code",
   "execution_count": 27,
   "id": "cde554cf",
   "metadata": {
    "execution": {
     "iopub.execute_input": "2021-09-03T13:42:44.909910Z",
     "iopub.status.busy": "2021-09-03T13:42:44.909455Z",
     "iopub.status.idle": "2021-09-03T13:42:44.911860Z",
     "shell.execute_reply": "2021-09-03T13:42:44.912129Z"
    },
    "tags": []
   },
   "outputs": [
    {
     "data": {
      "text/plain": [
       "val x : int ref = {contents = 3}\n"
      ]
     },
     "execution_count": 27,
     "metadata": {},
     "output_type": "execute_result"
    },
    {
     "data": {
      "text/plain": [
       "- : unit = ()\n"
      ]
     },
     "execution_count": 27,
     "metadata": {},
     "output_type": "execute_result"
    },
    {
     "data": {
      "text/plain": [
       "- : int = 4\n"
      ]
     },
     "execution_count": 27,
     "metadata": {},
     "output_type": "execute_result"
    }
   ],
   "source": [
    "let x = ref 3;; (* définie une variable x qui \"pointe\" vers un emplacement mémoire contenant 3 *)\n",
    "x := 4;; (* modifie la valeur pointé par x avec := *)\n",
    "!x;; (* la valeur a bien été modifiée *)"
   ]
  },
  {
   "cell_type": "markdown",
   "id": "f5a32f34",
   "metadata": {},
   "source": [
    "On remarque que l'instruction `x := 4` a pour valeur de retour `()` : c'est un effet de bord qui modifie `x` mais ne renvoie pas de résultat."
   ]
  },
  {
   "cell_type": "markdown",
   "id": "0fd842e1",
   "metadata": {},
   "source": [
    "**Exercice** : Que valent `!x` et `!y` après avoir exécuté le bout de code suivant? À quoi sert ce code?\n",
    "```ocaml\n",
    "let x = ref 5;;\n",
    "let y = ref 27;;\n",
    "x := !x + !y;\n",
    "y := !x - !y;\n",
    "x := !x - !y\n",
    "```"
   ]
  },
  {
   "cell_type": "markdown",
   "id": "f7b1117f",
   "metadata": {},
   "source": [
    "**Remarque** : utiliser des `ref` rend souvent le code plus compliqué, on n'en utilisera que lorsque c'est nécessaire."
   ]
  }
 ],
 "metadata": {
  "kernelspec": {
   "display_name": "OCaml default",
   "language": "OCaml",
   "name": "ocaml-jupyter"
  },
  "language_info": {
   "codemirror_mode": "text/x-ocaml",
   "file_extension": ".ml",
   "mimetype": "text/x-ocaml",
   "name": "OCaml",
   "nbconverter_exporter": null,
   "pygments_lexer": "OCaml",
   "version": "4.08.1"
  }
 },
 "nbformat": 4,
 "nbformat_minor": 5
}

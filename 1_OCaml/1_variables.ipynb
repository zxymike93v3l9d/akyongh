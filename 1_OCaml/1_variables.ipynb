{
 "cells": [
  {
   "cell_type": "markdown",
   "id": "9700ac51",
   "metadata": {},
   "source": [
    "# Définition d'une variable\n",
    "\n",
    "Une variable possède 3 propriétés:\n",
    "- un nom (exemple : `x`)\n",
    "- une valeur (exemple : 42)\n",
    "- un type (exemple : entier)\n",
    "\n",
    "En OCaml, on définit une variable de la façon suivante :\n",
    "```ocaml\n",
    "let variable = valeur\n",
    "```\n",
    "\n",
    "Par exemple, pour définir une variable `x` valant 42 :"
   ]
  },
  {
   "cell_type": "code",
   "execution_count": 1,
   "id": "2d488f9f",
   "metadata": {
    "execution": {
     "iopub.execute_input": "2021-09-02T08:47:01.210090Z",
     "iopub.status.busy": "2021-09-02T08:47:01.208288Z",
     "iopub.status.idle": "2021-09-02T08:47:01.218019Z",
     "shell.execute_reply": "2021-09-02T08:47:01.211759Z"
    }
   },
   "outputs": [
    {
     "data": {
      "text/plain": [
       "val x : int = 42\n"
      ]
     },
     "execution_count": 1,
     "metadata": {},
     "output_type": "execute_result"
    }
   ],
   "source": [
    "let x = 42"
   ]
  },
  {
   "cell_type": "markdown",
   "id": "bb72114b",
   "metadata": {},
   "source": [
    "OCaml nous répond que `x` a pour valeur 42 et est de type `int` (*integer*, c'est à dire entier).\n",
    "La variable `x` est ici définie globalement, c'est à dire accessible partout dans ce notebook.\n",
    "\n",
    "On peut alors faire des calculs avec la valeur de `x` :"
   ]
  },
  {
   "cell_type": "code",
   "execution_count": 2,
   "id": "5c3c0df5",
   "metadata": {
    "execution": {
     "iopub.execute_input": "2021-09-02T08:47:01.223953Z",
     "iopub.status.busy": "2021-09-02T08:47:01.222515Z",
     "iopub.status.idle": "2021-09-02T08:47:01.228732Z",
     "shell.execute_reply": "2021-09-02T08:47:01.229965Z"
    }
   },
   "outputs": [
    {
     "data": {
      "text/plain": [
       "- : int = 124\n"
      ]
     },
     "execution_count": 2,
     "metadata": {},
     "output_type": "execute_result"
    }
   ],
   "source": [
    "3*x - 2 (* OCaml remplace x par 42 et fait le calcul *)"
   ]
  },
  {
   "cell_type": "markdown",
   "id": "30230e73",
   "metadata": {},
   "source": [
    "Il est possible d'avoir une expression (un calcul) à droite d'une définition :"
   ]
  },
  {
   "cell_type": "code",
   "execution_count": 3,
   "id": "a4898b22",
   "metadata": {
    "execution": {
     "iopub.execute_input": "2021-09-02T08:47:01.234205Z",
     "iopub.status.busy": "2021-09-02T08:47:01.233127Z",
     "iopub.status.idle": "2021-09-02T08:47:01.237036Z",
     "shell.execute_reply": "2021-09-02T08:47:01.237690Z"
    }
   },
   "outputs": [
    {
     "data": {
      "text/plain": [
       "val a : int = 10\n"
      ]
     },
     "execution_count": 3,
     "metadata": {},
     "output_type": "execute_result"
    }
   ],
   "source": [
    "let a = 1 + 2 + 3 + 4 (* la valeur à droite de = est calculée puis mise dans a *)"
   ]
  },
  {
   "cell_type": "markdown",
   "id": "b3d25aa1-6f8b-4d09-8835-3507400fde32",
   "metadata": {},
   "source": [
    "**Exercice** : définissez une variable $a$ égale à 752. Puis définissez une variable $b$ égale à $54a$.    \n",
    "Rappel : vous pouvez appuyer sur la touche B pour faire apparaître une case de code et répondre dedans. Ici vous pouvez utiliser deux cases, ou séparer les deux instructions avec ` ;;`."
   ]
  },
  {
   "cell_type": "markdown",
   "id": "87f1114f",
   "metadata": {},
   "source": [
    "# Variables locales\n",
    "\n",
    "Il est possible de définir une variable locale en utilisant la forme `let y = in ...`  \n",
    "`y` est alors seulement accessible dans `...`"
   ]
  },
  {
   "cell_type": "code",
   "execution_count": 4,
   "id": "37cdaa7a",
   "metadata": {
    "execution": {
     "iopub.execute_input": "2021-09-02T08:47:01.240759Z",
     "iopub.status.busy": "2021-09-02T08:47:01.240132Z",
     "iopub.status.idle": "2021-09-02T08:47:01.242338Z",
     "shell.execute_reply": "2021-09-02T08:47:01.242841Z"
    }
   },
   "outputs": [
    {
     "data": {
      "text/plain": [
       "- : int = -1\n"
      ]
     },
     "execution_count": 4,
     "metadata": {},
     "output_type": "execute_result"
    }
   ],
   "source": [
    "let y = -1 in y (* y est accessible dans le in *)"
   ]
  },
  {
   "cell_type": "code",
   "execution_count": 5,
   "id": "af942256",
   "metadata": {
    "execution": {
     "iopub.execute_input": "2021-09-02T08:47:01.245112Z",
     "iopub.status.busy": "2021-09-02T08:47:01.244562Z",
     "iopub.status.idle": "2021-09-02T08:47:01.247840Z",
     "shell.execute_reply": "2021-09-02T08:47:01.247147Z"
    },
    "tags": []
   },
   "outputs": [
    {
     "ename": "error",
     "evalue": "compile_error",
     "output_type": "error",
     "traceback": [
      "File \"[5]\", line 1, characters 0-1:\n1 | y (* utiliser y ici donne une erreur  *)\n    ^\nError: Unbound value y\n"
     ]
    }
   ],
   "source": [
    "y (* utiliser y ici donne une erreur  *)"
   ]
  },
  {
   "cell_type": "markdown",
   "id": "523c2ac6-8613-42a0-bcda-dfca1f370498",
   "metadata": {},
   "source": [
    "**Exercice** : en utilisant `let ... in ... `, définissez une variable $a$ égale à $752$, puis définissez une variable $b$ égale à $54a$.    "
   ]
  },
  {
   "cell_type": "markdown",
   "id": "c367ce66",
   "metadata": {
    "tags": []
   },
   "source": [
    "\n",
    "# Opérations numériques\n",
    "\n",
    "Nous avons déjà vu l'addition et la soustraction de 2 entiers. Il est aussi possible de multiplier :"
   ]
  },
  {
   "cell_type": "code",
   "execution_count": 6,
   "id": "08d3a74b",
   "metadata": {
    "execution": {
     "iopub.execute_input": "2021-09-02T08:47:01.250102Z",
     "iopub.status.busy": "2021-09-02T08:47:01.249630Z",
     "iopub.status.idle": "2021-09-02T08:47:01.251820Z",
     "shell.execute_reply": "2021-09-02T08:47:01.251449Z"
    }
   },
   "outputs": [
    {
     "data": {
      "text/plain": [
       "- : int = 42\n"
      ]
     },
     "execution_count": 6,
     "metadata": {},
     "output_type": "execute_result"
    }
   ],
   "source": [
    "3 * 14"
   ]
  },
  {
   "cell_type": "markdown",
   "id": "9ae68e72",
   "metadata": {},
   "source": [
    "On peut effectuer la division **entière** (ou encore : [quotient de la division euclidienne](https://fr.wikipedia.org/wiki/Division_euclidienne)) de 2 entiers :"
   ]
  },
  {
   "cell_type": "code",
   "execution_count": 7,
   "id": "9d701028",
   "metadata": {
    "execution": {
     "iopub.execute_input": "2021-09-02T08:47:01.253631Z",
     "iopub.status.busy": "2021-09-02T08:47:01.253178Z",
     "iopub.status.idle": "2021-09-02T08:47:01.255177Z",
     "shell.execute_reply": "2021-09-02T08:47:01.255473Z"
    }
   },
   "outputs": [
    {
     "data": {
      "text/plain": [
       "- : int = 1\n"
      ]
     },
     "execution_count": 7,
     "metadata": {},
     "output_type": "execute_result"
    }
   ],
   "source": [
    "3 / 2 (* division entière *)"
   ]
  },
  {
   "cell_type": "markdown",
   "id": "7f969a44",
   "metadata": {},
   "source": [
    "La division entière de $x$ par $y$ est, par définition, la partie entière de $\\frac{x}{y}$.  \n",
    "Dans l'exemple ci-dessus, `3 / 2` est donc la partie entière de $\\frac{3}{2} = 1.5$, c'est à dire $1$. \n",
    "\n",
    "**Attention** : la division entière ` 3 / 2`  en OCaml correspond à ` 3 // 2 ` en Python."
   ]
  },
  {
   "cell_type": "markdown",
   "id": "e2d777cc",
   "metadata": {},
   "source": [
    "En plus des entiers (`int`), OCaml permet de définir des nombres à virgules (`float`, pour flottant) :"
   ]
  },
  {
   "cell_type": "code",
   "execution_count": 8,
   "id": "f3a18c61",
   "metadata": {
    "execution": {
     "iopub.execute_input": "2021-09-02T08:47:01.257200Z",
     "iopub.status.busy": "2021-09-02T08:47:01.256814Z",
     "iopub.status.idle": "2021-09-02T08:47:01.258482Z",
     "shell.execute_reply": "2021-09-02T08:47:01.258140Z"
    }
   },
   "outputs": [
    {
     "data": {
      "text/plain": [
       "val pi : float = 3.141592\n"
      ]
     },
     "execution_count": 8,
     "metadata": {},
     "output_type": "execute_result"
    }
   ],
   "source": [
    "let pi = 3.141592"
   ]
  },
  {
   "cell_type": "markdown",
   "id": "4b7701de",
   "metadata": {},
   "source": [
    "Les opérateurs d'addition, soustraction, multiplication, division doivent s'utiliser avec un `.` (point). Par exemple :"
   ]
  },
  {
   "cell_type": "code",
   "execution_count": 9,
   "id": "28fcb371",
   "metadata": {
    "execution": {
     "iopub.execute_input": "2021-09-02T08:47:01.260038Z",
     "iopub.status.busy": "2021-09-02T08:47:01.259696Z",
     "iopub.status.idle": "2021-09-02T08:47:01.261412Z",
     "shell.execute_reply": "2021-09-02T08:47:01.261108Z"
    }
   },
   "outputs": [
    {
     "data": {
      "text/plain": [
       "- : float = 5.759592\n"
      ]
     },
     "execution_count": 9,
     "metadata": {},
     "output_type": "execute_result"
    }
   ],
   "source": [
    "pi +. 2.618 (* noter le . après + *)"
   ]
  },
  {
   "cell_type": "markdown",
   "id": "98a76503",
   "metadata": {},
   "source": [
    "**Attention** : c'est le point (.) et non pas la virgule qui est utilisé pour les flottants."
   ]
  },
  {
   "cell_type": "markdown",
   "id": "06e8d61d",
   "metadata": {},
   "source": [
    "Il est possible de calculer $x^y$, où $x$ et $y$ sont des **flottants** avec `**` :"
   ]
  },
  {
   "cell_type": "code",
   "execution_count": 10,
   "id": "24a616e4",
   "metadata": {
    "execution": {
     "iopub.execute_input": "2021-09-02T08:47:01.263453Z",
     "iopub.status.busy": "2021-09-02T08:47:01.262885Z",
     "iopub.status.idle": "2021-09-02T08:47:01.265277Z",
     "shell.execute_reply": "2021-09-02T08:47:01.265598Z"
    }
   },
   "outputs": [
    {
     "data": {
      "text/plain": [
       "- : float = 23.0963461891915607\n"
      ]
     },
     "execution_count": 10,
     "metadata": {},
     "output_type": "execute_result"
    }
   ],
   "source": [
    "2.718 ** 3.14 (* x puissance y *)"
   ]
  },
  {
   "cell_type": "markdown",
   "id": "78e700d6",
   "metadata": {},
   "source": [
    "Il n'est pas possible d'utiliser `**` sur des `int`. Par contre on peut utiliser 4.0 ou 4. au lieu de 4 pour avoir des flottants et utiliser `**` : "
   ]
  },
  {
   "cell_type": "code",
   "execution_count": 11,
   "id": "9220c873",
   "metadata": {
    "execution": {
     "iopub.execute_input": "2021-09-02T08:47:01.267053Z",
     "iopub.status.busy": "2021-09-02T08:47:01.266704Z",
     "iopub.status.idle": "2021-09-02T08:47:01.267828Z",
     "shell.execute_reply": "2021-09-02T08:47:01.268089Z"
    }
   },
   "outputs": [
    {
     "data": {
      "text/plain": [
       "- : float = 1024.\n"
      ]
     },
     "execution_count": 11,
     "metadata": {},
     "output_type": "execute_result"
    }
   ],
   "source": [
    "2. ** 10."
   ]
  },
  {
   "cell_type": "markdown",
   "id": "d6450f87",
   "metadata": {},
   "source": [
    "**Exercice**\n",
    "1. Stocker la valeur $42^2$ dans une variable $a$, en utilisant `*`.\n",
    "2. En déduire la valeur de $42^4$.\n",
    "3. Calculer la valeur de $2^{10}$ en utilisant le moins de multiplications possibles."
   ]
  },
  {
   "cell_type": "markdown",
   "id": "d50f455c",
   "metadata": {},
   "source": [
    "**Exercice**\n",
    "\n",
    "1. Stocker dans 3 variables $a$, $b$, $c$ les valeurs 2, 5 et 3. On pourra utiliser let a, b, c = ..., ..., ... pour définir 3 variable simultanément. \n",
    "2. Stocker dans une variable $delta$ le discriminant de l'équation $ax^2 + bx + c = 0$.\n",
    "3. Calculer toutes les solutions de l'équation précédente."
   ]
  },
  {
   "cell_type": "markdown",
   "id": "98cf2ce8",
   "metadata": {},
   "source": [
    "Une autre opération importante est le **modulo** (ou : [reste de la division euclidienne](https://fr.wikipedia.org/wiki/Division_euclidienne)) de 2 entiers `a` et `b`, notée `a mod b` en OCaml. Mathématiquement, il s'agit de l'entier $r$ vérifiant :\n",
    "$$a = bq + r$$\n",
    "$$0 \\leq r < b$$\n",
    "\n",
    "Cette opération `mod` sert notamment à tester la divisibilité : `a` est divisible par `b` si et seulement si `a mod b = 0`."
   ]
  },
  {
   "cell_type": "markdown",
   "id": "ec1a63cb",
   "metadata": {},
   "source": [
    "**Exercice** : Est-ce que 527 est divisible par 17?"
   ]
  },
  {
   "cell_type": "markdown",
   "id": "d4c97db8",
   "metadata": {},
   "source": [
    "# Overflow\n",
    "\n",
    "L'ordinateur stocke toutes les variables dans la mémoire RAM de l'ordinateur, en binaire (suite de 0 et de 1). Comme la mémoire RAM sur un ordinateur n'est pas finie, on ne peut pas stocker des nombres de taille arbitraire. Ainsi, `max_int` est le plus grand entier que l'on peut stocker dans une variable :"
   ]
  },
  {
   "cell_type": "code",
   "execution_count": 12,
   "id": "2d27026a",
   "metadata": {
    "execution": {
     "iopub.execute_input": "2021-09-02T08:47:01.269777Z",
     "iopub.status.busy": "2021-09-02T08:47:01.269290Z",
     "iopub.status.idle": "2021-09-02T08:47:01.270821Z",
     "shell.execute_reply": "2021-09-02T08:47:01.270541Z"
    }
   },
   "outputs": [
    {
     "data": {
      "text/plain": [
       "- : int = 4611686018427387903\n"
      ]
     },
     "execution_count": 12,
     "metadata": {},
     "output_type": "execute_result"
    }
   ],
   "source": [
    "max_int"
   ]
  },
  {
   "cell_type": "markdown",
   "id": "90d73484",
   "metadata": {},
   "source": [
    "Si on dépasse cet entier (ce qu'on appelle **integer overflow**), on tombe sur le plus petit entier représentable :"
   ]
  },
  {
   "cell_type": "code",
   "execution_count": 13,
   "id": "6c0c3717",
   "metadata": {
    "execution": {
     "iopub.execute_input": "2021-09-02T08:47:01.272574Z",
     "iopub.status.busy": "2021-09-02T08:47:01.272250Z",
     "iopub.status.idle": "2021-09-02T08:47:01.273376Z",
     "shell.execute_reply": "2021-09-02T08:47:01.273652Z"
    },
    "tags": []
   },
   "outputs": [
    {
     "data": {
      "text/plain": [
       "- : int = -4611686018427387904\n"
      ]
     },
     "execution_count": 13,
     "metadata": {},
     "output_type": "execute_result"
    }
   ],
   "source": [
    "max_int + 1"
   ]
  },
  {
   "cell_type": "markdown",
   "id": "073fe033",
   "metadata": {},
   "source": [
    "C'est une source fréquente de bug, qui a causé par exemple le [crash de la fusée Ariane 5](https://fr.wikipedia.org/wiki/Vol_501_d%27Ariane_5)."
   ]
  },
  {
   "cell_type": "markdown",
   "id": "45f4b2f7",
   "metadata": {},
   "source": [
    "Les float sont également limités :"
   ]
  },
  {
   "cell_type": "code",
   "execution_count": 14,
   "id": "f864387f",
   "metadata": {
    "execution": {
     "iopub.execute_input": "2021-09-02T08:47:01.275068Z",
     "iopub.status.busy": "2021-09-02T08:47:01.274746Z",
     "iopub.status.idle": "2021-09-02T08:47:01.276093Z",
     "shell.execute_reply": "2021-09-02T08:47:01.275813Z"
    }
   },
   "outputs": [
    {
     "data": {
      "text/plain": [
       "- : float = 1.79769313486231571e+308\n"
      ]
     },
     "execution_count": 14,
     "metadata": {},
     "output_type": "execute_result"
    }
   ],
   "source": [
    "max_float"
   ]
  },
  {
   "cell_type": "markdown",
   "id": "9c49b7f3",
   "metadata": {},
   "source": [
    "Les flottants sont codées suivant la norme [IEEE754](https://fr.wikipedia.org/wiki/IEEE_754) en utilisant 64 bits (sur un processeur 64 bits) dont 52 bits pour les chiffres après la virgule.  \n",
    "La précision des flottants est donc limitée : par exemple, on ne peut pas stocker $\\sqrt{2}$ ou $\\pi$ de façon exacte sur l'ordinateur puisqu'il s'agit de nombres irrationnels (c'est à dire avec une infinité de décimales, qui ne se répètent pas).  "
   ]
  },
  {
   "cell_type": "code",
   "execution_count": 15,
   "id": "ed9cc1f8",
   "metadata": {
    "execution": {
     "iopub.execute_input": "2021-09-02T08:47:01.277519Z",
     "iopub.status.busy": "2021-09-02T08:47:01.277141Z",
     "iopub.status.idle": "2021-09-02T08:47:01.278392Z",
     "shell.execute_reply": "2021-09-02T08:47:01.278698Z"
    }
   },
   "outputs": [
    {
     "data": {
      "text/plain": [
       "- : float = 1.41421356237309515\n"
      ]
     },
     "execution_count": 15,
     "metadata": {},
     "output_type": "execute_result"
    }
   ],
   "source": [
    "2.**0.5 (* seulement une partie des décimales est stockée *)"
   ]
  },
  {
   "cell_type": "markdown",
   "id": "725dad78",
   "metadata": {},
   "source": [
    "Le calcul de $\\sqrt 2$ par OCaml s'arrête à la 16ème décimale (ce qui correspond à 52 bits après la virgules, puisque $2^{-52}$ est du même ordre de grandeur que $10^{-16}$)."
   ]
  },
  {
   "cell_type": "markdown",
   "id": "c2ba0d7c",
   "metadata": {},
   "source": [
    "Pour cette raison, il faut faire attention aux **erreurs d'arrondis** sur le flottants."
   ]
  },
  {
   "cell_type": "code",
   "execution_count": 16,
   "id": "e838c0fa",
   "metadata": {
    "execution": {
     "iopub.execute_input": "2021-09-02T08:47:01.280127Z",
     "iopub.status.busy": "2021-09-02T08:47:01.279813Z",
     "iopub.status.idle": "2021-09-02T08:47:01.281168Z",
     "shell.execute_reply": "2021-09-02T08:47:01.281481Z"
    }
   },
   "outputs": [
    {
     "data": {
      "text/plain": [
       "- : bool = false\n"
      ]
     },
     "execution_count": 16,
     "metadata": {},
     "output_type": "execute_result"
    }
   ],
   "source": [
    "1.0 +. 2.0 == 3.0 (* faux à cause des erreurs d'arrondis *)"
   ]
  },
  {
   "cell_type": "markdown",
   "id": "2fcdc173",
   "metadata": {},
   "source": [
    "Le calcul `1.0 +. 2.0` ne donne pas exactement 3 à cause des erreurs d'arrondis."
   ]
  },
  {
   "cell_type": "code",
   "execution_count": 17,
   "id": "874a3f97",
   "metadata": {
    "execution": {
     "iopub.execute_input": "2021-09-02T08:47:01.282858Z",
     "iopub.status.busy": "2021-09-02T08:47:01.282532Z",
     "iopub.status.idle": "2021-09-02T08:47:01.283616Z",
     "shell.execute_reply": "2021-09-02T08:47:01.283872Z"
    }
   },
   "outputs": [
    {
     "data": {
      "text/plain": [
       "- : float = 9007199254740992.\n"
      ]
     },
     "execution_count": 17,
     "metadata": {},
     "output_type": "execute_result"
    }
   ],
   "source": [
    "2.**53."
   ]
  },
  {
   "cell_type": "code",
   "execution_count": 18,
   "id": "c2b6863a",
   "metadata": {
    "execution": {
     "iopub.execute_input": "2021-09-02T08:47:01.285191Z",
     "iopub.status.busy": "2021-09-02T08:47:01.284875Z",
     "iopub.status.idle": "2021-09-02T08:47:01.286179Z",
     "shell.execute_reply": "2021-09-02T08:47:01.286438Z"
    }
   },
   "outputs": [
    {
     "data": {
      "text/plain": [
       "- : float = 9007199254740992.\n"
      ]
     },
     "execution_count": 18,
     "metadata": {},
     "output_type": "execute_result"
    }
   ],
   "source": [
    "2.**53. +. 1."
   ]
  },
  {
   "cell_type": "markdown",
   "id": "f24e07c4",
   "metadata": {
    "tags": []
   },
   "source": [
    "# Unit\n",
    "\n",
    "Il existe une valeur spéciale `()` qui signifie \"rien\" (un peu comme le None de Python). Le type de `()` est `unit`. Par exemple, afficher un entier avec `print_int` fait un effet de bord (affichage sur l'écran) mais ne renvoie pas de valeur :"
   ]
  },
  {
   "cell_type": "code",
   "execution_count": 19,
   "id": "db5cc07b",
   "metadata": {
    "execution": {
     "iopub.execute_input": "2021-09-02T08:47:01.287794Z",
     "iopub.status.busy": "2021-09-02T08:47:01.287474Z",
     "iopub.status.idle": "2021-09-02T08:47:01.288541Z",
     "shell.execute_reply": "2021-09-02T08:47:01.288796Z"
    }
   },
   "outputs": [
    {
     "data": {
      "text/plain": [
       "- : unit = ()\n"
      ]
     },
     "execution_count": 19,
     "metadata": {},
     "output_type": "execute_result"
    }
   ],
   "source": [
    "print_int 42"
   ]
  },
  {
   "cell_type": "markdown",
   "id": "717f0ae0",
   "metadata": {},
   "source": [
    "Pour que le résultat s'affiche, il faut revenir à la ligne avec `print_newline` :"
   ]
  },
  {
   "cell_type": "code",
   "execution_count": 20,
   "id": "91688665",
   "metadata": {
    "execution": {
     "iopub.execute_input": "2021-09-02T08:47:01.290155Z",
     "iopub.status.busy": "2021-09-02T08:47:01.289840Z",
     "iopub.status.idle": "2021-09-02T08:47:01.292163Z",
     "shell.execute_reply": "2021-09-02T08:47:01.291894Z"
    }
   },
   "outputs": [
    {
     "name": "stdout",
     "output_type": "stream",
     "text": [
      "42\n"
     ]
    },
    {
     "data": {
      "text/plain": [
       "- : unit = ()\n"
      ]
     },
     "execution_count": 20,
     "metadata": {},
     "output_type": "execute_result"
    }
   ],
   "source": [
    "print_newline ()"
   ]
  },
  {
   "cell_type": "markdown",
   "id": "00e03453",
   "metadata": {},
   "source": [
    "On verra dans un prochain cours le fonctionnement plus détaillé de `print_newline`."
   ]
  },
  {
   "cell_type": "markdown",
   "id": "a3d769fa",
   "metadata": {},
   "source": [
    "Il aurait été possible de combiner ces deux instructions avec `;`, qui permet d'exécuter consécutivement plusieurs instructions :"
   ]
  },
  {
   "cell_type": "code",
   "execution_count": 21,
   "id": "3f446468",
   "metadata": {
    "execution": {
     "iopub.execute_input": "2021-09-02T08:47:01.293588Z",
     "iopub.status.busy": "2021-09-02T08:47:01.293257Z",
     "iopub.status.idle": "2021-09-02T08:47:01.295226Z",
     "shell.execute_reply": "2021-09-02T08:47:01.294889Z"
    }
   },
   "outputs": [
    {
     "name": "stdout",
     "output_type": "stream",
     "text": [
      "31\n"
     ]
    },
    {
     "data": {
      "text/plain": [
       "- : unit = ()\n"
      ]
     },
     "execution_count": 21,
     "metadata": {},
     "output_type": "execute_result"
    }
   ],
   "source": [
    "print_int 31;\n",
    "print_newline ()"
   ]
  },
  {
   "cell_type": "markdown",
   "id": "9f9a7adb",
   "metadata": {},
   "source": [
    "`;;` est similaire à `;`, mais permet de séparer complètement plusieurs instructions, ce qui signifie que les variables définies avec `in` ne sont plus accessibles :"
   ]
  },
  {
   "cell_type": "code",
   "execution_count": 22,
   "id": "51c67fe1",
   "metadata": {
    "execution": {
     "iopub.execute_input": "2021-09-02T08:47:01.296951Z",
     "iopub.status.busy": "2021-09-02T08:47:01.296621Z",
     "iopub.status.idle": "2021-09-02T08:47:01.297782Z",
     "shell.execute_reply": "2021-09-02T08:47:01.298041Z"
    }
   },
   "outputs": [
    {
     "data": {
      "text/plain": [
       "- : int = 3\n"
      ]
     },
     "execution_count": 22,
     "metadata": {},
     "output_type": "execute_result"
    }
   ],
   "source": [
    "let a = 3 in\n",
    "print_int a;\n",
    "a (* a reste accessible : il est toujours dans le in *)"
   ]
  },
  {
   "cell_type": "code",
   "execution_count": 23,
   "id": "904f413a",
   "metadata": {
    "execution": {
     "iopub.execute_input": "2021-09-02T08:47:01.299433Z",
     "iopub.status.busy": "2021-09-02T08:47:01.299109Z",
     "iopub.status.idle": "2021-09-02T08:47:01.301149Z",
     "shell.execute_reply": "2021-09-02T08:47:01.300864Z"
    }
   },
   "outputs": [
    {
     "data": {
      "text/plain": [
       "- : unit = ()\n"
      ]
     },
     "execution_count": 23,
     "metadata": {},
     "output_type": "execute_result"
    },
    {
     "data": {
      "text/plain": [
       "- : int = 10\n"
      ]
     },
     "execution_count": 23,
     "metadata": {},
     "output_type": "execute_result"
    }
   ],
   "source": [
    "let a = 3 in\n",
    "print_int a;;\n",
    "a;; (* a n'est pas accessible ici *)"
   ]
  },
  {
   "cell_type": "markdown",
   "id": "c110ff3f",
   "metadata": {
    "tags": []
   },
   "source": [
    "# Présentation du code\n",
    "\n",
    "Contrairement à Python, l'indentation du code n'a pas d'importance en OCaml. En effet les espaces et sauts de lignes sont ignorés :"
   ]
  },
  {
   "cell_type": "code",
   "execution_count": 24,
   "id": "226418d6",
   "metadata": {
    "execution": {
     "iopub.execute_input": "2021-09-02T08:47:01.302563Z",
     "iopub.status.busy": "2021-09-02T08:47:01.302235Z",
     "iopub.status.idle": "2021-09-02T08:47:01.303648Z",
     "shell.execute_reply": "2021-09-02T08:47:01.303362Z"
    }
   },
   "outputs": [
    {
     "data": {
      "text/plain": [
       "val a : int = 6\n"
      ]
     },
     "execution_count": 24,
     "metadata": {},
     "output_type": "execute_result"
    }
   ],
   "source": [
    "let a \n",
    "  = \n",
    "      6 (* indentation n'importe comment *)"
   ]
  },
  {
   "cell_type": "markdown",
   "id": "d15a60b9",
   "metadata": {},
   "source": [
    "On veillera toutefois à écrire du code aussi clair et lisible que possible."
   ]
  },
  {
   "cell_type": "markdown",
   "id": "02c94aeb",
   "metadata": {},
   "source": [
    "# Réferences\n",
    "\n",
    "Contrairement à ce que son nom l'indique, une variable définie comme on l'a fait jusqu'à maintenant est en fait... **constante** :"
   ]
  },
  {
   "cell_type": "code",
   "execution_count": 25,
   "id": "42eeff39",
   "metadata": {
    "execution": {
     "iopub.execute_input": "2021-09-02T08:47:01.306144Z",
     "iopub.status.busy": "2021-09-02T08:47:01.304750Z",
     "iopub.status.idle": "2021-09-02T08:47:01.308033Z",
     "shell.execute_reply": "2021-09-02T08:47:01.306886Z"
    }
   },
   "outputs": [
    {
     "data": {
      "text/plain": [
       "val x : int = 3\n"
      ]
     },
     "execution_count": 25,
     "metadata": {},
     "output_type": "execute_result"
    },
    {
     "data": {
      "text/plain": [
       "- : bool = false\n"
      ]
     },
     "execution_count": 25,
     "metadata": {},
     "output_type": "execute_result"
    },
    {
     "data": {
      "text/plain": [
       "- : int = 3\n"
      ]
     },
     "execution_count": 25,
     "metadata": {},
     "output_type": "execute_result"
    }
   ],
   "source": [
    "let x = 3;;\n",
    "x = 4;; (* ceci ne MODIFIE pas x, mais teste si la valeur de x est 4 *)\n",
    "x;; (* x vaut toujours 3 : il ne peut pas être modifié *)"
   ]
  },
  {
   "cell_type": "markdown",
   "id": "b748d8e2",
   "metadata": {},
   "source": [
    "Pour pouvoir modifier une variable, on peut utiliser une **référence**.\n",
    "Pour définir une référence on utilise `ref` :\n",
    "```ocaml\n",
    "let variable = ref valeur (* définition d'une référence *)\n",
    "```\n",
    "Pour modifier une référence on utilise `:=` :\n",
    "```ocaml\n",
    "variable := valeur (* modification d'une référence *)\n",
    "```\n",
    "Pour obtenir la valeur d'une référence on utilise `!` :\n",
    "```ocaml\n",
    "!variable (* donne la valeur d'une référence *)\n",
    "```"
   ]
  },
  {
   "cell_type": "code",
   "execution_count": 26,
   "id": "cde554cf",
   "metadata": {
    "execution": {
     "iopub.execute_input": "2021-09-02T08:47:01.309453Z",
     "iopub.status.busy": "2021-09-02T08:47:01.309118Z",
     "iopub.status.idle": "2021-09-02T08:47:01.311809Z",
     "shell.execute_reply": "2021-09-02T08:47:01.311506Z"
    },
    "tags": []
   },
   "outputs": [
    {
     "data": {
      "text/plain": [
       "val x : int ref = {contents = 3}\n"
      ]
     },
     "execution_count": 26,
     "metadata": {},
     "output_type": "execute_result"
    },
    {
     "data": {
      "text/plain": [
       "- : unit = ()\n"
      ]
     },
     "execution_count": 26,
     "metadata": {},
     "output_type": "execute_result"
    },
    {
     "data": {
      "text/plain": [
       "- : int = 4\n"
      ]
     },
     "execution_count": 26,
     "metadata": {},
     "output_type": "execute_result"
    }
   ],
   "source": [
    "let x = ref 3;; (* définie une variable x qui \"pointe\" vers un emplacement mémoire contenant 3 *)\n",
    "x := 4;; (* modifie la valeur pointé par x avec := *)\n",
    "!x;; (* la valeur a bien été modifiée *)"
   ]
  },
  {
   "cell_type": "markdown",
   "id": "f5a32f34",
   "metadata": {},
   "source": [
    "On remarque que l'instruction `x := 4` a pour valeur de retour `()` : c'est un effet de bord qui modifie `x` mais ne renvoie pas de résultat."
   ]
  },
  {
   "cell_type": "markdown",
   "id": "0fd842e1",
   "metadata": {},
   "source": [
    "**Exercice** : Que valent `!x` et `!y` après avoir exécuté le bout de code suivant? À quoi sert ce code?\n",
    "```ocaml\n",
    "let x = ref 5;;\n",
    "let y = ref 27;;\n",
    "x := !x + !y;\n",
    "y := !x - !y;\n",
    "x := !x - !y\n",
    "```"
   ]
  },
  {
   "cell_type": "markdown",
   "id": "f7b1117f",
   "metadata": {},
   "source": [
    "**Remarque** : utiliser des `ref` rend souvent le code plus compliqué, on n'en utilisera que lorsque c'est nécessaire."
   ]
  }
 ],
 "metadata": {
  "kernelspec": {
   "display_name": "OCaml default",
   "language": "OCaml",
   "name": "ocaml-jupyter"
  },
  "language_info": {
   "codemirror_mode": "text/x-ocaml",
   "file_extension": ".ml",
   "mimetype": "text/x-ocaml",
   "name": "OCaml",
   "nbconverter_exporter": null,
   "pygments_lexer": "OCaml",
   "version": "4.08.1"
  }
 },
 "nbformat": 4,
 "nbformat_minor": 5
}

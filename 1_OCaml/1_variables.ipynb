{
 "cells": [
  {
   "cell_type": "markdown",
   "id": "84039bac",
   "metadata": {},
   "source": [
    "# Définition d'une variable\n",
    "\n",
    "Une variable possède 3 propriétés:\n",
    "- un nom (exemple : `x`)\n",
    "- une valeur (exemple : 42)\n",
    "- un type (exemple : entier)\n",
    "\n",
    "En OCaml, on définit une variable de la façon suivante :\n",
    "```ocaml\n",
    "let variable = valeur\n",
    "```\n",
    "\n",
    "Par exemple, pour définir une variable `x` valant 42 :"
   ]
  },
  {
   "cell_type": "code",
   "execution_count": 1,
   "id": "523f48ef",
   "metadata": {
    "execution": {
     "iopub.execute_input": "2021-08-08T14:34:02.489425Z",
     "iopub.status.busy": "2021-08-08T14:34:02.489002Z",
     "iopub.status.idle": "2021-08-08T14:34:02.490909Z",
     "shell.execute_reply": "2021-08-08T14:34:02.490599Z"
    }
   },
   "outputs": [
    {
     "data": {
      "text/plain": [
       "val x : int = 42\n"
      ]
     },
     "execution_count": 1,
     "metadata": {},
     "output_type": "execute_result"
    }
   ],
   "source": [
    "let x = 42"
   ]
  },
  {
   "cell_type": "markdown",
   "id": "6a148317",
   "metadata": {},
   "source": [
    "OCaml nous répond que `x` a pour valeur 42 et est de type `int` (*integer*, c'est à dire entier).\n",
    "La variable `x` est ici définie globalement, c'est à dire accessible partout dans ce notebook.\n",
    "\n",
    "On peut alors faire des calculs avec la valeur de `x` :"
   ]
  },
  {
   "cell_type": "code",
   "execution_count": 2,
   "id": "50abac9e",
   "metadata": {
    "execution": {
     "iopub.execute_input": "2021-08-08T14:34:02.492260Z",
     "iopub.status.busy": "2021-08-08T14:34:02.491932Z",
     "iopub.status.idle": "2021-08-08T14:34:02.493669Z",
     "shell.execute_reply": "2021-08-08T14:34:02.493346Z"
    }
   },
   "outputs": [
    {
     "data": {
      "text/plain": [
       "- : int = 124\n"
      ]
     },
     "execution_count": 2,
     "metadata": {},
     "output_type": "execute_result"
    }
   ],
   "source": [
    "3*x - 2 (* OCaml remplace x par 42 et fait le calcul *)"
   ]
  },
  {
   "cell_type": "markdown",
   "id": "d974eedf",
   "metadata": {},
   "source": [
    "Il est possible d'avoir une expression (un calcul) à droite d'une définition :"
   ]
  },
  {
   "cell_type": "code",
   "execution_count": 3,
   "id": "e27944ae",
   "metadata": {
    "execution": {
     "iopub.execute_input": "2021-08-08T14:34:02.495107Z",
     "iopub.status.busy": "2021-08-08T14:34:02.494758Z",
     "iopub.status.idle": "2021-08-08T14:34:02.496507Z",
     "shell.execute_reply": "2021-08-08T14:34:02.496220Z"
    }
   },
   "outputs": [
    {
     "data": {
      "text/plain": [
       "val a : int = 10\n"
      ]
     },
     "execution_count": 3,
     "metadata": {},
     "output_type": "execute_result"
    }
   ],
   "source": [
    "let a = 1 + 2 + 3 + 4 (* la valeur à droite de = est calculée puis mise dans a *)"
   ]
  },
  {
   "cell_type": "markdown",
   "id": "4a005abd",
   "metadata": {},
   "source": [
    "# Variable locale\n",
    "\n",
    "Il est possible de définir une variable locale en utilisant la forme `let y = in ...`  \n",
    "`y` est alors seulement accessible dans `...`"
   ]
  },
  {
   "cell_type": "code",
   "execution_count": 4,
   "id": "1654111c",
   "metadata": {
    "execution": {
     "iopub.execute_input": "2021-08-08T14:34:02.497896Z",
     "iopub.status.busy": "2021-08-08T14:34:02.497513Z",
     "iopub.status.idle": "2021-08-08T14:34:02.499025Z",
     "shell.execute_reply": "2021-08-08T14:34:02.498725Z"
    }
   },
   "outputs": [
    {
     "data": {
      "text/plain": [
       "- : int = -1\n"
      ]
     },
     "execution_count": 4,
     "metadata": {},
     "output_type": "execute_result"
    }
   ],
   "source": [
    "let y = -1 in y (* y est accessible dans le in *)"
   ]
  },
  {
   "cell_type": "code",
   "execution_count": 5,
   "id": "96d6f5cd",
   "metadata": {
    "execution": {
     "iopub.execute_input": "2021-08-08T14:34:02.500538Z",
     "iopub.status.busy": "2021-08-08T14:34:02.500089Z",
     "iopub.status.idle": "2021-08-08T14:34:02.501236Z",
     "shell.execute_reply": "2021-08-08T14:34:02.500904Z"
    }
   },
   "outputs": [],
   "source": [
    "(* utiliser y ici donnerait une erreur  *)"
   ]
  },
  {
   "cell_type": "markdown",
   "id": "8c1c3de2",
   "metadata": {},
   "source": [
    "# Variables numériques\n",
    "\n",
    "Nous avons déjà vu l'addition et la soustraction de 2 entiers. Il est aussi possible de multiplier :"
   ]
  },
  {
   "cell_type": "code",
   "execution_count": 6,
   "id": "87d60ba6",
   "metadata": {
    "execution": {
     "iopub.execute_input": "2021-08-08T14:34:02.502745Z",
     "iopub.status.busy": "2021-08-08T14:34:02.502336Z",
     "iopub.status.idle": "2021-08-08T14:34:02.503979Z",
     "shell.execute_reply": "2021-08-08T14:34:02.503651Z"
    }
   },
   "outputs": [
    {
     "data": {
      "text/plain": [
       "- : int = 42\n"
      ]
     },
     "execution_count": 6,
     "metadata": {},
     "output_type": "execute_result"
    }
   ],
   "source": [
    "3 * 14"
   ]
  },
  {
   "cell_type": "markdown",
   "id": "15758516",
   "metadata": {},
   "source": [
    "On peut effectuer la division **entière** de 2 entiers :"
   ]
  },
  {
   "cell_type": "code",
   "execution_count": 7,
   "id": "ce8045bf",
   "metadata": {
    "execution": {
     "iopub.execute_input": "2021-08-08T14:34:02.505575Z",
     "iopub.status.busy": "2021-08-08T14:34:02.505137Z",
     "iopub.status.idle": "2021-08-08T14:34:02.507044Z",
     "shell.execute_reply": "2021-08-08T14:34:02.506696Z"
    }
   },
   "outputs": [
    {
     "data": {
      "text/plain": [
       "- : int = 1\n"
      ]
     },
     "execution_count": 7,
     "metadata": {},
     "output_type": "execute_result"
    }
   ],
   "source": [
    "3 / 2 (* division entière *)"
   ]
  },
  {
   "cell_type": "markdown",
   "id": "a58a7552",
   "metadata": {},
   "source": [
    "La division entière de $x$ par $y$ est, par définition, la partie entière de $\\frac{x}{y}$.  \n",
    "Dans l'exemple ci-dessus, `3 / 2` est donc la partie entière de $\\frac{3}{2} = 1.5$, c'est à dire $1$. "
   ]
  },
  {
   "cell_type": "markdown",
   "id": "2629eb71",
   "metadata": {},
   "source": [
    "En plus des entiers (`int`), OCaml permet de définir des nombres à virgules (`float`, pour flottant) :"
   ]
  },
  {
   "cell_type": "code",
   "execution_count": 8,
   "id": "0edefa75",
   "metadata": {
    "execution": {
     "iopub.execute_input": "2021-08-08T14:34:02.508766Z",
     "iopub.status.busy": "2021-08-08T14:34:02.508298Z",
     "iopub.status.idle": "2021-08-08T14:34:02.510106Z",
     "shell.execute_reply": "2021-08-08T14:34:02.509747Z"
    }
   },
   "outputs": [
    {
     "data": {
      "text/plain": [
       "val pi : float = 3.141592\n"
      ]
     },
     "execution_count": 8,
     "metadata": {},
     "output_type": "execute_result"
    }
   ],
   "source": [
    "let pi = 3.141592"
   ]
  },
  {
   "cell_type": "markdown",
   "id": "91ccc87f",
   "metadata": {},
   "source": [
    "Les opérateurs d'addition, soustraction, multiplication, division doivent s'utiliser avec un `.` (point). Par exemple :"
   ]
  },
  {
   "cell_type": "code",
   "execution_count": 9,
   "id": "a4a3d015",
   "metadata": {
    "execution": {
     "iopub.execute_input": "2021-08-08T14:34:02.511759Z",
     "iopub.status.busy": "2021-08-08T14:34:02.511342Z",
     "iopub.status.idle": "2021-08-08T14:34:02.513236Z",
     "shell.execute_reply": "2021-08-08T14:34:02.512891Z"
    }
   },
   "outputs": [
    {
     "data": {
      "text/plain": [
       "- : float = 5.759592\n"
      ]
     },
     "execution_count": 9,
     "metadata": {},
     "output_type": "execute_result"
    }
   ],
   "source": [
    "pi +. 2.618 (* noter le . après + *)"
   ]
  },
  {
   "cell_type": "markdown",
   "id": "f515bb2e",
   "metadata": {},
   "source": [
    "Attention : c'est le point (.) et non pas la virgule qui est utilisé pour les flottants.\n",
    "\n",
    "\n"
   ]
  },
  {
   "cell_type": "markdown",
   "id": "0f6be1a5",
   "metadata": {},
   "source": [
    "Il est possible de calculer $x^y$, où $x$ et $y$ sont des **flottants** avec `**` :"
   ]
  },
  {
   "cell_type": "code",
   "execution_count": 10,
   "id": "6971d9a5",
   "metadata": {
    "execution": {
     "iopub.execute_input": "2021-08-08T14:34:02.514890Z",
     "iopub.status.busy": "2021-08-08T14:34:02.514475Z",
     "iopub.status.idle": "2021-08-08T14:34:02.517195Z",
     "shell.execute_reply": "2021-08-08T14:34:02.516846Z"
    }
   },
   "outputs": [
    {
     "data": {
      "text/plain": [
       "- : float = 23.0963461891915607\n"
      ]
     },
     "execution_count": 10,
     "metadata": {},
     "output_type": "execute_result"
    }
   ],
   "source": [
    "2.718 ** 3.14 (* x puissance y *)"
   ]
  },
  {
   "cell_type": "markdown",
   "id": "0e0f9fcc",
   "metadata": {},
   "source": [
    "Il n'est pas possible d'utiliser `**` sur des `int`. Par contre on peut utiliser 4.0 ou 4. au lieu de 4 pour avoir des flottants et utiliser `**` : "
   ]
  },
  {
   "cell_type": "code",
   "execution_count": 11,
   "id": "ed9b1f29",
   "metadata": {
    "execution": {
     "iopub.execute_input": "2021-08-08T14:34:02.518789Z",
     "iopub.status.busy": "2021-08-08T14:34:02.518371Z",
     "iopub.status.idle": "2021-08-08T14:34:02.520808Z",
     "shell.execute_reply": "2021-08-08T14:34:02.520408Z"
    }
   },
   "outputs": [
    {
     "data": {
      "text/plain": [
       "- : float = 1024.\n"
      ]
     },
     "execution_count": 11,
     "metadata": {},
     "output_type": "execute_result"
    }
   ],
   "source": [
    "2. ** 10."
   ]
  },
  {
   "cell_type": "markdown",
   "id": "88c0b254",
   "metadata": {},
   "source": [
    "**Exercice 1**\n",
    "1. Stocker la valeur $42^2$ dans une variable $a$, en utilisant `*`.\n",
    "2. En déduire la valeur de $42^4$.\n",
    "3. Calculer la valeur de $2^{10}$ en utilisant le moins de multiplications possibles."
   ]
  },
  {
   "cell_type": "markdown",
   "id": "e3026055",
   "metadata": {},
   "source": [
    "**Exercice 2**\n",
    "\n",
    "1. Stocker dans 3 variables $a$, $b$, $c$ les valeurs 2, 5 et 3. On pourra utiliser let a, b, c = ..., ..., ... pour définir 3 variable simultanément. \n",
    "2. Stocker dans une variable $delta$ le discriminant de l'équation $ax^2 + bx + c = 0$.\n",
    "3. Calculer toutes les solutions de l'équation précédente."
   ]
  },
  {
   "cell_type": "markdown",
   "id": "9ad989bc",
   "metadata": {},
   "source": [
    "# Overflow\n",
    "\n",
    "L'ordinateur stocke "
   ]
  },
  {
   "cell_type": "code",
   "execution_count": 12,
   "id": "28534285",
   "metadata": {
    "execution": {
     "iopub.execute_input": "2021-08-08T14:34:02.522467Z",
     "iopub.status.busy": "2021-08-08T14:34:02.522052Z",
     "iopub.status.idle": "2021-08-08T14:34:02.524153Z",
     "shell.execute_reply": "2021-08-08T14:34:02.524472Z"
    }
   },
   "outputs": [
    {
     "data": {
      "text/plain": [
       "- : int = -4611686018427387904\n"
      ]
     },
     "execution_count": 12,
     "metadata": {},
     "output_type": "execute_result"
    }
   ],
   "source": [
    "max_int+1"
   ]
  },
  {
   "cell_type": "markdown",
   "id": "fd990a06",
   "metadata": {},
   "source": [
    "# Unit"
   ]
  },
  {
   "cell_type": "markdown",
   "id": "2ba40949",
   "metadata": {},
   "source": [
    "# Présentation du code\n",
    "\n",
    "Contrairement à Python, l'indentation du code n'a pas d'importance en OCaml. En effet les espaces et sauts de lignes sont ignorés :"
   ]
  },
  {
   "cell_type": "code",
   "execution_count": 13,
   "id": "c78af6d5",
   "metadata": {
    "execution": {
     "iopub.execute_input": "2021-08-08T14:34:02.526175Z",
     "iopub.status.busy": "2021-08-08T14:34:02.525722Z",
     "iopub.status.idle": "2021-08-08T14:34:02.527517Z",
     "shell.execute_reply": "2021-08-08T14:34:02.527156Z"
    }
   },
   "outputs": [
    {
     "data": {
      "text/plain": [
       "val a : int = 3\n"
      ]
     },
     "execution_count": 13,
     "metadata": {},
     "output_type": "execute_result"
    }
   ],
   "source": [
    "let a \n",
    "  =\n",
    "3"
   ]
  },
  {
   "cell_type": "markdown",
   "id": "ebc4e055",
   "metadata": {},
   "source": [
    " Il est cependant très important d'avoir un code lisible et aéré, et ce sera pris en compte dans la notation (même si ça n'apparaît pas toujours explicitement).\n"
   ]
  },
  {
   "cell_type": "markdown",
   "id": "f1f299d2",
   "metadata": {},
   "source": [
    "Pour séparer deux instructions consécutives (ce qui arrivera rarement, on aurait plus souvent des instructions imbriquées avec `in`), on utilisera `;`."
   ]
  }
 ],
 "metadata": {
  "jupytext": {
   "formats": "md,ipynb"
  },
  "kernelspec": {
   "display_name": "OCaml default",
   "language": "OCaml",
   "name": "ocaml-jupyter"
  },
  "language_info": {
   "codemirror_mode": "text/x-ocaml",
   "file_extension": ".ml",
   "mimetype": "text/x-ocaml",
   "name": "OCaml",
   "nbconverter_exporter": null,
   "pygments_lexer": "OCaml",
   "version": "4.12.0"
  }
 },
 "nbformat": 4,
 "nbformat_minor": 5
}

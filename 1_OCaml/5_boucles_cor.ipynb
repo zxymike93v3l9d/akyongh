{
 "cells": [
  {
   "cell_type": "markdown",
   "id": "974993f1",
   "metadata": {},
   "source": [
    "# Boucles\n",
    "\n",
    "Comme en Python, OCaml a deux boucles permettants de répéter des instructions : `for` et `while`.\n",
    "\n",
    "## Boucle for\n",
    "\n",
    "Pour répéter `instructions` pour des valeurs de `i` allant de `a` à `b` **inclus** (contrairement à Python) :\n",
    "```ocaml\n",
    "for i=a to b do\n",
    "    instructions\n",
    "done\n",
    "```"
   ]
  },
  {
   "cell_type": "code",
   "execution_count": 1,
   "id": "5200fdf2",
   "metadata": {
    "execution": {
     "iopub.execute_input": "2021-09-15T16:48:01.900104Z",
     "iopub.status.busy": "2021-09-15T16:48:01.899548Z",
     "iopub.status.idle": "2021-09-15T16:48:01.904585Z",
     "shell.execute_reply": "2021-09-15T16:48:01.904123Z"
    }
   },
   "outputs": [
    {
     "name": "stdout",
     "output_type": "stream",
     "text": [
      "012345\n"
     ]
    },
    {
     "data": {
      "text/plain": [
       "- : unit = ()\n"
      ]
     },
     "execution_count": 1,
     "metadata": {},
     "output_type": "execute_result"
    }
   ],
   "source": [
    "for i=0 to 5 do\n",
    "    print_int i\n",
    "done;\n",
    "print_newline()"
   ]
  },
  {
   "cell_type": "markdown",
   "id": "1b9115b2",
   "metadata": {
    "tags": []
   },
   "source": [
    "**Exercice** : Combien de fois est répété `for i=a to b do ...`? (c'est-à-dire : combien y a t-il d'entiers de $a$ à $b$ inclus?)"
   ]
  },
  {
   "cell_type": "markdown",
   "id": "82425c6a",
   "metadata": {
    "tags": [
     "cor"
    ]
   },
   "source": [
    "$b - a + 1$ fois. Ainsi, sur la boucle `for i=0 to 5 do` précédente il y a bien 6 chiffres affichés."
   ]
  },
  {
   "cell_type": "markdown",
   "id": "e15829d2",
   "metadata": {},
   "source": [
    "**Exercice** : Écrire une fonction pour calculer la somme des carrés des $n$ premiers entiers en utilisant un `for`, puis une fonction récursive."
   ]
  },
  {
   "cell_type": "code",
   "execution_count": 2,
   "id": "002c4cce",
   "metadata": {
    "execution": {
     "iopub.execute_input": "2021-09-15T16:48:01.906311Z",
     "iopub.status.busy": "2021-09-15T16:48:01.905895Z",
     "iopub.status.idle": "2021-09-15T16:48:01.912812Z",
     "shell.execute_reply": "2021-09-15T16:48:01.913157Z"
    },
    "tags": [
     "cor"
    ]
   },
   "outputs": [
    {
     "data": {
      "text/plain": [
       "- : int = 385\n"
      ]
     },
     "execution_count": 2,
     "metadata": {},
     "output_type": "execute_result"
    },
    {
     "data": {
      "text/plain": [
       "- : int = 385\n"
      ]
     },
     "execution_count": 2,
     "metadata": {},
     "output_type": "execute_result"
    }
   ],
   "source": [
    "let somme_carre n =\n",
    "    let res = ref 0 in\n",
    "    for i=1 to n do\n",
    "        res := !res + i*i\n",
    "    done;\n",
    "    !res in\n",
    "somme_carre 10;;\n",
    "\n",
    "let rec somme_carre n =\n",
    "    if n = 1 then 1\n",
    "    else n*n + somme_carre (n-1)\n",
    "in somme_carre 10;;"
   ]
  },
  {
   "cell_type": "markdown",
   "id": "d14e0c3b",
   "metadata": {},
   "source": [
    "Comme on le voit sur l'exercice précédent, il est en général plus clair et concis d'écrire une fonction récursive en OCaml. De manière générale, il ne faut pas abuser des références et boucles et s'entraîner à penser et écrire récursivement."
   ]
  },
  {
   "cell_type": "markdown",
   "id": "9d38d6ea",
   "metadata": {},
   "source": [
    "Une variante de la boucle `for` avec `downto` permet d'énumérer \"à l'envers\" :"
   ]
  },
  {
   "cell_type": "code",
   "execution_count": 3,
   "id": "d21ac78b",
   "metadata": {
    "execution": {
     "iopub.execute_input": "2021-09-15T16:48:01.914861Z",
     "iopub.status.busy": "2021-09-15T16:48:01.914430Z",
     "iopub.status.idle": "2021-09-15T16:48:01.917720Z",
     "shell.execute_reply": "2021-09-15T16:48:01.917170Z"
    }
   },
   "outputs": [
    {
     "name": "stdout",
     "output_type": "stream",
     "text": [
      "543210\n"
     ]
    },
    {
     "data": {
      "text/plain": [
       "- : unit = ()\n"
      ]
     },
     "execution_count": 3,
     "metadata": {},
     "output_type": "execute_result"
    }
   ],
   "source": [
    "for i=5 downto 0 do\n",
    "    print_int i\n",
    "done;\n",
    "print_newline()"
   ]
  },
  {
   "cell_type": "markdown",
   "id": "27367f67",
   "metadata": {},
   "source": [
    "## Boucle while\n",
    "\n",
    "Pour répéter `instructions` tant que `condition` est vraie :\n",
    "```ocaml\n",
    "while condition do\n",
    "    instructions\n",
    "done\n",
    "```"
   ]
  },
  {
   "cell_type": "markdown",
   "id": "4cb337fb",
   "metadata": {},
   "source": [
    "En guise d'illustration, considérons l'algorithme d'Euclide pour le calcul du PGCD de deux entiers $a$ et $b$. Cet algorithme consiste à répéter les opérations suivantes tant que $b \\neq 0$ :\n",
    "- Calculer le reste $r$ de la division euclidienne de $a$ par $b$.\n",
    "- Remplacer $a$ par $b$ et $b$ par $r$.\n",
    "\n",
    "Quand $b = 0$, on peut montrer que la valeur de $a$ est le PGCD de $a$ et $b$.\n",
    "\n",
    "Voici le code OCaml correspondant avec une boucle `while` :"
   ]
  },
  {
   "cell_type": "code",
   "execution_count": 4,
   "id": "73e6df4d",
   "metadata": {
    "execution": {
     "iopub.execute_input": "2021-09-15T16:48:01.919375Z",
     "iopub.status.busy": "2021-09-15T16:48:01.918935Z",
     "iopub.status.idle": "2021-09-15T16:48:01.925071Z",
     "shell.execute_reply": "2021-09-15T16:48:01.924704Z"
    }
   },
   "outputs": [
    {
     "data": {
      "text/plain": [
       "val pgcd : int -> int -> int = <fun>\n"
      ]
     },
     "execution_count": 4,
     "metadata": {},
     "output_type": "execute_result"
    },
    {
     "data": {
      "text/plain": [
       "- : int = 6\n"
      ]
     },
     "execution_count": 4,
     "metadata": {},
     "output_type": "execute_result"
    }
   ],
   "source": [
    "let pgcd a b =\n",
    "    let q = ref a in\n",
    "    let r = ref b in\n",
    "    while !r <> 0 do\n",
    "        let reste = !q mod !r in\n",
    "        q := !r;\n",
    "        r := reste\n",
    "    done;\n",
    "    !q;;\n",
    "\n",
    "pgcd 30 12;;"
   ]
  },
  {
   "cell_type": "markdown",
   "id": "850ef40f",
   "metadata": {},
   "source": [
    "Voici ce que cela donnerait avec une fonction récursive (encore une fois c'est beaucoup plus simple en récursif!) :"
   ]
  },
  {
   "cell_type": "code",
   "execution_count": 5,
   "id": "cdc41407",
   "metadata": {
    "execution": {
     "iopub.execute_input": "2021-09-15T16:48:01.926755Z",
     "iopub.status.busy": "2021-09-15T16:48:01.926338Z",
     "iopub.status.idle": "2021-09-15T16:48:01.929153Z",
     "shell.execute_reply": "2021-09-15T16:48:01.929481Z"
    }
   },
   "outputs": [
    {
     "data": {
      "text/plain": [
       "val pgcd : int -> int -> int = <fun>\n"
      ]
     },
     "execution_count": 5,
     "metadata": {},
     "output_type": "execute_result"
    },
    {
     "data": {
      "text/plain": [
       "- : int = 6\n"
      ]
     },
     "execution_count": 5,
     "metadata": {},
     "output_type": "execute_result"
    }
   ],
   "source": [
    "let rec pgcd a b =\n",
    "    if b = 0 then a\n",
    "    else pgcd b (a mod b);;\n",
    "\n",
    "pgcd 30 12;;"
   ]
  },
  {
   "cell_type": "markdown",
   "id": "65a014c8",
   "metadata": {},
   "source": [
    "**Exercice**  \n",
    "Soit $a \\in \\mathbb{N}$. La suite de Syracuse est définie par $s_0 = a$ et\n",
    "$$s_{n+1} =\n",
    "\\begin{cases} \n",
    "     \\frac{s_n}{2}, \\text{si } s_n \\text{ est pair}\\\\\n",
    "    3s_n + 1, \\text{sinon}\\\\\n",
    "\\end{cases}$$\n",
    "Écrire une fonction `temps_vol` ayant $a$ en argument et renvoyant le premier indice $n$ tel que $s_0 = a$ et $s_n = 1$."
   ]
  },
  {
   "cell_type": "code",
   "execution_count": 6,
   "id": "7d9c5bf3",
   "metadata": {
    "execution": {
     "iopub.execute_input": "2021-09-15T16:48:01.931159Z",
     "iopub.status.busy": "2021-09-15T16:48:01.930734Z",
     "iopub.status.idle": "2021-09-15T16:48:01.938715Z",
     "shell.execute_reply": "2021-09-15T16:48:01.939025Z"
    },
    "tags": [
     "cor"
    ]
   },
   "outputs": [
    {
     "data": {
      "text/plain": [
       "- : int = 6\n"
      ]
     },
     "execution_count": 6,
     "metadata": {},
     "output_type": "execute_result"
    }
   ],
   "source": [
    "let temps_vol a = \n",
    "    let n = ref 0 in\n",
    "    let sn = ref a in\n",
    "    while !sn <> 1 do\n",
    "        incr n;  (* augmente !n de 1 *)\n",
    "        sn := if !sn mod 2 = 0 then !sn/2 else 3* !sn + 1  (* remplace sn par sn+1 *)\n",
    "    done;\n",
    "    !n in\n",
    "temps_vol 10"
   ]
  },
  {
   "cell_type": "markdown",
   "id": "06e6f13d",
   "metadata": {},
   "source": [
    "**Exercice (TP 2)** : l'écrire en récursif"
   ]
  },
  {
   "cell_type": "markdown",
   "id": "301ab424",
   "metadata": {},
   "source": [
    "## Exceptions\n",
    "\n",
    "Les exceptions sont déclenchées lorsque le programme rencontre un problème :"
   ]
  },
  {
   "cell_type": "code",
   "execution_count": 7,
   "id": "aa881834",
   "metadata": {
    "execution": {
     "iopub.execute_input": "2021-09-15T16:48:01.940878Z",
     "iopub.status.busy": "2021-09-15T16:48:01.940461Z",
     "iopub.status.idle": "2021-09-15T16:48:02.345249Z",
     "shell.execute_reply": "2021-09-15T16:48:02.344853Z"
    }
   },
   "outputs": [
    {
     "ename": "error",
     "evalue": "runtime_error",
     "output_type": "error",
     "traceback": [
      "\u001b[31mException: Division_by_zero.\nRaised by primitive operation at unknown location\nCalled from file \"toplevel/toploop.ml\", line 208, characters 17-27\n\u001b[0m"
     ]
    }
   ],
   "source": [
    "1/0"
   ]
  },
  {
   "cell_type": "markdown",
   "id": "5db4402d",
   "metadata": {},
   "source": [
    "L'exception ci-dessus est `Division_by_zero`, déclenchée lorsque l'on divise par 0.  \n",
    "Il est possible de spécifier le comportement à adopter lors d'une exception :"
   ]
  },
  {
   "cell_type": "code",
   "execution_count": 8,
   "id": "49e13b0e",
   "metadata": {
    "execution": {
     "iopub.execute_input": "2021-09-15T16:48:02.347402Z",
     "iopub.status.busy": "2021-09-15T16:48:02.346888Z",
     "iopub.status.idle": "2021-09-15T16:48:02.348687Z",
     "shell.execute_reply": "2021-09-15T16:48:02.349065Z"
    }
   },
   "outputs": [
    {
     "data": {
      "text/plain": [
       "- : int = 0\n"
      ]
     },
     "execution_count": 8,
     "metadata": {},
     "output_type": "execute_result"
    }
   ],
   "source": [
    "try 1/0\n",
    "with Division_by_zero -> 0"
   ]
  },
  {
   "cell_type": "markdown",
   "id": "6d7ebbc2",
   "metadata": {},
   "source": [
    "OCaml exécute l'instruction dans le `try` (`1/0` ici).  \n",
    "Si cette instruction ne déclenche pas l'exception `Division_by_zero`, la valeur de l'instruction est renvoyée.  \n",
    "Sinon, C'est l'instruction dans le `with` qui est exécutée et renvoyée."
   ]
  },
  {
   "cell_type": "markdown",
   "id": "2246c542",
   "metadata": {},
   "source": [
    "**Exercice** Écrire une fonction `quotient : int -> int -> int` qui renvoie le quotient `a / b` si `b` est non-nul, et `max_int` sinon."
   ]
  },
  {
   "cell_type": "code",
   "execution_count": 9,
   "id": "d78fdf28",
   "metadata": {
    "execution": {
     "iopub.execute_input": "2021-09-15T16:48:02.350922Z",
     "iopub.status.busy": "2021-09-15T16:48:02.350444Z",
     "iopub.status.idle": "2021-09-15T16:48:02.354441Z",
     "shell.execute_reply": "2021-09-15T16:48:02.354075Z"
    },
    "tags": [
     "cor"
    ]
   },
   "outputs": [
    {
     "data": {
      "text/plain": [
       "val quotient : int -> int -> int = <fun>\n"
      ]
     },
     "execution_count": 9,
     "metadata": {},
     "output_type": "execute_result"
    },
    {
     "data": {
      "text/plain": [
       "- : int = 3\n"
      ]
     },
     "execution_count": 9,
     "metadata": {},
     "output_type": "execute_result"
    },
    {
     "data": {
      "text/plain": [
       "- : int = 4611686018427387903\n"
      ]
     },
     "execution_count": 9,
     "metadata": {},
     "output_type": "execute_result"
    }
   ],
   "source": [
    "let quotient a b =\n",
    "    try a/b\n",
    "    with Division_by_zero -> max_int;;\n",
    "quotient 7 2;;\n",
    "quotient 7 0;;"
   ]
  },
  {
   "cell_type": "markdown",
   "id": "95b3f3d5",
   "metadata": {},
   "source": [
    "Un autre exemple : `assert` est une fonction qui vérifie que son argument est `true` et déclenche une exception si ce n'est pas le cas. Ceci peut servir à mettre des tests dans le code."
   ]
  },
  {
   "cell_type": "code",
   "execution_count": 10,
   "id": "891658ac",
   "metadata": {
    "execution": {
     "iopub.execute_input": "2021-09-15T16:48:02.356022Z",
     "iopub.status.busy": "2021-09-15T16:48:02.355606Z",
     "iopub.status.idle": "2021-09-15T16:48:02.357646Z",
     "shell.execute_reply": "2021-09-15T16:48:02.358046Z"
    }
   },
   "outputs": [
    {
     "ename": "error",
     "evalue": "runtime_error",
     "output_type": "error",
     "traceback": [
      "\u001b[31mException: Assert_failure (\"[10]\", 1, 0).\nCalled from file \"toplevel/toploop.ml\", line 208, characters 17-27\n\u001b[0m"
     ]
    }
   ],
   "source": [
    "assert (1 = 2)"
   ]
  },
  {
   "cell_type": "markdown",
   "id": "65db9de9",
   "metadata": {},
   "source": [
    "Il est possible de définir sa propre exception :"
   ]
  },
  {
   "cell_type": "code",
   "execution_count": 11,
   "id": "d15112fb",
   "metadata": {
    "execution": {
     "iopub.execute_input": "2021-09-15T16:48:02.359589Z",
     "iopub.status.busy": "2021-09-15T16:48:02.359152Z",
     "iopub.status.idle": "2021-09-15T16:48:02.362944Z",
     "shell.execute_reply": "2021-09-15T16:48:02.363276Z"
    }
   },
   "outputs": [
    {
     "data": {
      "text/plain": [
       "exception Overflow\n"
      ]
     },
     "execution_count": 11,
     "metadata": {},
     "output_type": "execute_result"
    }
   ],
   "source": [
    "exception Overflow;;  (* définition d'une exception Overflow qui affiche une chaîne de caractères *) \n",
    "\n",
    "let add1 n =\n",
    "    if n = max_int then raise Overflow (* pour éviter un dépassement d'entier ù) *)\n",
    "    else n + 1;;\n",
    "\n",
    "add1 42;;\n",
    "add1 max_int;;"
   ]
  },
  {
   "cell_type": "markdown",
   "id": "f8427996",
   "metadata": {},
   "source": [
    "Les exceptions peuvent aussi permettre de sortir d'une boucle (comme un `break` de Python). Même si c'est plutôt considéré comme une mauvaise pratique de programmation (car peut rendre le code plus compliqué), il y a certains cas où c'est justifié."
   ]
  },
  {
   "cell_type": "markdown",
   "id": "72ba2afb",
   "metadata": {},
   "source": [
    "**Exercice** : en utilisant une exception, écrire une fonction premier qui s'arrête dès qu'on a trouvé un diviseur."
   ]
  },
  {
   "cell_type": "code",
   "execution_count": 12,
   "id": "3cc1c564",
   "metadata": {
    "execution": {
     "iopub.execute_input": "2021-09-15T16:48:02.366368Z",
     "iopub.status.busy": "2021-09-15T16:48:02.365942Z",
     "iopub.status.idle": "2021-09-15T16:48:02.368147Z",
     "shell.execute_reply": "2021-09-15T16:48:02.368460Z"
    }
   },
   "outputs": [
    {
     "data": {
      "text/plain": [
       "exception FoundDivisor\n"
      ]
     },
     "execution_count": 12,
     "metadata": {},
     "output_type": "execute_result"
    },
    {
     "data": {
      "text/plain": [
       "val premier : int -> bool = <fun>\n"
      ]
     },
     "execution_count": 12,
     "metadata": {},
     "output_type": "execute_result"
    }
   ],
   "source": [
    "exception FoundDivisor;;\n",
    "\n",
    "let premier n =\n",
    "    try\n",
    "        for i=2 to n/2 do  (* un diviseur de n est forcément inférieur à n/2 *)\n",
    "            if n mod i = 0 then raise FoundDivisor\n",
    "        done;\n",
    "        true (* renvoyer true si on a pas trouvé de diviseur *)\n",
    "    with FoundDivisor -> false"
   ]
  },
  {
   "cell_type": "code",
   "execution_count": 13,
   "id": "30171aa0",
   "metadata": {
    "execution": {
     "iopub.execute_input": "2021-09-15T16:48:02.370074Z",
     "iopub.status.busy": "2021-09-15T16:48:02.369664Z",
     "iopub.status.idle": "2021-09-15T16:48:02.371997Z",
     "shell.execute_reply": "2021-09-15T16:48:02.372334Z"
    },
    "jupyter": {
     "source_hidden": true
    },
    "tags": [
     "cor"
    ]
   },
   "outputs": [
    {
     "data": {
      "text/plain": [
       "- : unit = ()\n"
      ]
     },
     "execution_count": 13,
     "metadata": {},
     "output_type": "execute_result"
    }
   ],
   "source": [
    "assert (premier 7 && not (premier 8))  (* vérifie que 7 est premier mais pas 8 *)\n",
    "(* pas d'erreur sur assert donc le test a marché *)"
   ]
  }
 ],
 "metadata": {
  "kernelspec": {
   "display_name": "OCaml default",
   "language": "OCaml",
   "name": "ocaml-jupyter"
  },
  "language_info": {
   "codemirror_mode": "text/x-ocaml",
   "file_extension": ".ml",
   "mimetype": "text/x-ocaml",
   "name": "OCaml",
   "nbconverter_exporter": null,
   "pygments_lexer": "OCaml",
   "version": "4.08.1"
  },
  "title": "Boucles"
 },
 "nbformat": 4,
 "nbformat_minor": 5
}

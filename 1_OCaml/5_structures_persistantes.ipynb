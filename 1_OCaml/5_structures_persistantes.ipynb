{
 "cells": [
  {
   "cell_type": "markdown",
   "metadata": {
    "jp-MarkdownHeadingCollapsed": true,
    "tags": []
   },
   "source": [
    "# Structures de données persistantes\n",
    "\n",
    "Une **structure de donnée** permet de stocker un ensemble d'éléments et de faire certaines opérations sur ces éléments.  \n",
    "<center><mark>Une structure est persistante (ou encore : non mutable) s'il est impossible de modifier ses éléments.</mark></center>\n",
    "\n",
    "OCaml possède principalement 3 structures persistantes :\n",
    "- **tuple**, ou $n$-uplets\n",
    "- **list**, les plus utilisées\n",
    "- **string**, pour les chaînes de caractères"
   ]
  },
  {
   "cell_type": "markdown",
   "metadata": {},
   "source": [
    "## $n$-uplet (tuple)\n",
    "\n",
    "Un $n$-uplet est défini comme en mathématiques. Par exemple, un $2$-uplet est un couple (qui réprésente par exemple un point dans le plan $\\mathbb{R}^2$ :"
   ]
  },
  {
   "cell_type": "code",
   "execution_count": 1,
   "metadata": {
    "execution": {
     "iopub.execute_input": "2021-09-16T21:00:10.545857Z",
     "iopub.status.busy": "2021-09-16T21:00:10.545307Z",
     "iopub.status.idle": "2021-09-16T21:00:10.549372Z",
     "shell.execute_reply": "2021-09-16T21:00:10.548914Z"
    }
   },
   "outputs": [
    {
     "data": {
      "text/plain": [
       "val point : float * float = (1.75, 2.5)\n"
      ]
     },
     "execution_count": 1,
     "metadata": {},
     "output_type": "execute_result"
    }
   ],
   "source": [
    "let point = (1.75, 2.5)  (* un couple de 2 flottants *)"
   ]
  },
  {
   "cell_type": "markdown",
   "metadata": {},
   "source": [
    "OCaml nous répond que `point` est de type `float*float`, ce qui signifie un couple de 2 `float.`  \n",
    "On peut récupérer les coordonnées d'un $n$-uplet de la façon suivante :"
   ]
  },
  {
   "cell_type": "code",
   "execution_count": 2,
   "metadata": {
    "execution": {
     "iopub.execute_input": "2021-09-16T21:00:10.552291Z",
     "iopub.status.busy": "2021-09-16T21:00:10.551837Z",
     "iopub.status.idle": "2021-09-16T21:00:10.555365Z",
     "shell.execute_reply": "2021-09-16T21:00:10.555018Z"
    }
   },
   "outputs": [
    {
     "data": {
      "text/plain": [
       "val a : float = 1.75\n",
       "val b : float = 2.5\n"
      ]
     },
     "execution_count": 2,
     "metadata": {},
     "output_type": "execute_result"
    }
   ],
   "source": [
    "let (a, b) = point  (* met la 1ère coordonnée de point dans a et la 2ème dans b *)"
   ]
  },
  {
   "cell_type": "markdown",
   "metadata": {},
   "source": [
    "Dans le cas d'un couple, on peut aussi récupérer le 1er et 2ème élement avec les fonctions `fst` et `snd` :"
   ]
  },
  {
   "cell_type": "code",
   "execution_count": 3,
   "metadata": {
    "execution": {
     "iopub.execute_input": "2021-09-16T21:00:10.558613Z",
     "iopub.status.busy": "2021-09-16T21:00:10.558210Z",
     "iopub.status.idle": "2021-09-16T21:00:10.560154Z",
     "shell.execute_reply": "2021-09-16T21:00:10.560510Z"
    }
   },
   "outputs": [
    {
     "data": {
      "text/plain": [
       "- : float = 1.75\n"
      ]
     },
     "execution_count": 3,
     "metadata": {},
     "output_type": "execute_result"
    }
   ],
   "source": [
    "fst point;;\n",
    "snd point;;"
   ]
  },
  {
   "cell_type": "markdown",
   "metadata": {},
   "source": [
    "**Exercice** À votre avis, quels sont les types de `fst` et `snd` ? Vérifier avec OCaml."
   ]
  },
  {
   "cell_type": "markdown",
   "metadata": {},
   "source": [
    "Dans une fonction, on peut aussi décomposer directement le tuple en argument de la fonction :"
   ]
  },
  {
   "cell_type": "code",
   "execution_count": 4,
   "metadata": {
    "execution": {
     "iopub.execute_input": "2021-09-16T21:00:10.564743Z",
     "iopub.status.busy": "2021-09-16T21:00:10.564319Z",
     "iopub.status.idle": "2021-09-16T21:00:10.565936Z",
     "shell.execute_reply": "2021-09-16T21:00:10.565075Z"
    }
   },
   "outputs": [
    {
     "data": {
      "text/plain": [
       "val mid : float * float -> float * float -> float * float = <fun>\n"
      ]
     },
     "execution_count": 4,
     "metadata": {},
     "output_type": "execute_result"
    }
   ],
   "source": [
    "let mid (x1, y1) (x2, y2) = (* renvoie le milieu des deux points *)\n",
    "  (x1 +. x2) /. 2., (y1 +. y2) /. 2."
   ]
  },
  {
   "cell_type": "markdown",
   "metadata": {},
   "source": [
    "Les parenthèses sont en fait faculatitives autour d'un tuple : l'instruction précédente est donc équivalente à `let a, b = point`. De plus, attention à utiliser `.` et pas `,` pour des flottants, sinon on obtient un tuple :"
   ]
  },
  {
   "cell_type": "code",
   "execution_count": 5,
   "metadata": {
    "execution": {
     "iopub.execute_input": "2021-09-16T21:00:10.567432Z",
     "iopub.status.busy": "2021-09-16T21:00:10.567077Z",
     "iopub.status.idle": "2021-09-16T21:00:10.569009Z",
     "shell.execute_reply": "2021-09-16T21:00:10.569335Z"
    }
   },
   "outputs": [
    {
     "data": {
      "text/plain": [
       "- : int * int = (3, 14)\n"
      ]
     },
     "execution_count": 5,
     "metadata": {},
     "output_type": "execute_result"
    }
   ],
   "source": [
    "3,14  (* Attention : c'est un tuple et non pas un flottant *)"
   ]
  },
  {
   "cell_type": "markdown",
   "metadata": {},
   "source": [
    "Un $n$-uplets peut contenir des contenir des éléments de types différents :"
   ]
  },
  {
   "cell_type": "code",
   "execution_count": 6,
   "metadata": {
    "execution": {
     "iopub.execute_input": "2021-09-16T21:00:10.571105Z",
     "iopub.status.busy": "2021-09-16T21:00:10.570520Z",
     "iopub.status.idle": "2021-09-16T21:00:10.573060Z",
     "shell.execute_reply": "2021-09-16T21:00:10.572712Z"
    }
   },
   "outputs": [
    {
     "data": {
      "text/plain": [
       "val t : int * float * bool = (1, 2.2, true)\n"
      ]
     },
     "execution_count": 6,
     "metadata": {},
     "output_type": "execute_result"
    }
   ],
   "source": [
    "let t = (1, 2.2, true)  (* un triple contenant un entier, un flottant et un booléen *)"
   ]
  },
  {
   "cell_type": "markdown",
   "metadata": {},
   "source": [
    "Deux tuples sont égaux s'ils sont de même taille et que les composantes sont égales 2 à 2 :"
   ]
  },
  {
   "cell_type": "code",
   "execution_count": 7,
   "metadata": {
    "execution": {
     "iopub.execute_input": "2021-09-16T21:00:10.574517Z",
     "iopub.status.busy": "2021-09-16T21:00:10.574112Z",
     "iopub.status.idle": "2021-09-16T21:00:10.578162Z",
     "shell.execute_reply": "2021-09-16T21:00:10.577761Z"
    }
   },
   "outputs": [
    {
     "data": {
      "text/plain": [
       "- : bool = true\n"
      ]
     },
     "execution_count": 7,
     "metadata": {},
     "output_type": "execute_result"
    },
    {
     "data": {
      "text/plain": [
       "- : bool = false\n"
      ]
     },
     "execution_count": 7,
     "metadata": {},
     "output_type": "execute_result"
    }
   ],
   "source": [
    "(1, 2) = (1, 2);;\n",
    "(1, 2) = (1, 3);;"
   ]
  },
  {
   "cell_type": "markdown",
   "metadata": {},
   "source": [
    "**Exercice** : On représente un nombre complexe par un couple de flottants (composé de la partie réelle et partie imaginaire).\n",
    "1. Définir $1 - 2i$ sous forme de couple.  \n",
    "2. Définir une fonction `conjugue : float*float -> float*float` renvoyant le conjugué $\\bar{z}$ d'un nombre complexe $z$.  \n",
    "3. Écrire une fonction `add` qui prend deux nombres complexes $z_1$ et $z_2$ en arguments et renvoie $z_1 + z_2$.  \n",
    "4. Écrire une fonction `mul` qui multiplie deux nombres complexes en arguments.  \n",
    "5. Écrire une fonction `div` qui divise deux nombres complexes en arguments (on utilisera la multiplication par le conjugué : $\\frac{a + ib}{c + id} = \\frac{(a + ib)(c - id)}{(c + id)(c - id)} = \\frac{ac + bd + i(bc - ad)}{c^2 - d^2}$"
   ]
  },
  {
   "cell_type": "markdown",
   "metadata": {},
   "source": [
    "Une des utilités des tuples et de permettre de renvoyer plusieurs résultats par une fonction (on les renvoie sous forme de tuple)."
   ]
  },
  {
   "cell_type": "markdown",
   "metadata": {},
   "source": [
    "## Listes"
   ]
  },
  {
   "cell_type": "markdown",
   "metadata": {},
   "source": [
    "Une liste se définie avec des crochets (`[...]`), les éléments étant séparés par des point-virgules (`;`) :"
   ]
  },
  {
   "cell_type": "code",
   "execution_count": 8,
   "metadata": {
    "execution": {
     "iopub.execute_input": "2021-09-16T21:00:10.579864Z",
     "iopub.status.busy": "2021-09-16T21:00:10.579452Z",
     "iopub.status.idle": "2021-09-16T21:00:10.581928Z",
     "shell.execute_reply": "2021-09-16T21:00:10.581606Z"
    }
   },
   "outputs": [
    {
     "data": {
      "text/plain": [
       "- : int list = [1; 7; -1]\n"
      ]
     },
     "execution_count": 8,
     "metadata": {},
     "output_type": "execute_result"
    }
   ],
   "source": [
    "[1; 7; -1]  (* liste composée de 3 entiers *)"
   ]
  },
  {
   "cell_type": "markdown",
   "metadata": {},
   "source": [
    "OCaml nous indique qu'il s'agit d'une valeur de type `int list`, c'est à dire liste d'entiers. Voici d'autres exemples de listes :"
   ]
  },
  {
   "cell_type": "code",
   "execution_count": 9,
   "metadata": {
    "execution": {
     "iopub.execute_input": "2021-09-16T21:00:10.583409Z",
     "iopub.status.busy": "2021-09-16T21:00:10.583050Z",
     "iopub.status.idle": "2021-09-16T21:00:10.585502Z",
     "shell.execute_reply": "2021-09-16T21:00:10.585164Z"
    }
   },
   "outputs": [
    {
     "data": {
      "text/plain": [
       "- : float list = [3.14; 2.718]\n"
      ]
     },
     "execution_count": 9,
     "metadata": {},
     "output_type": "execute_result"
    }
   ],
   "source": [
    "[3.14; 2.718]  (* liste de 2 flottants *)"
   ]
  },
  {
   "cell_type": "code",
   "execution_count": 10,
   "metadata": {
    "execution": {
     "iopub.execute_input": "2021-09-16T21:00:10.587043Z",
     "iopub.status.busy": "2021-09-16T21:00:10.586685Z",
     "iopub.status.idle": "2021-09-16T21:00:10.588168Z",
     "shell.execute_reply": "2021-09-16T21:00:10.588461Z"
    }
   },
   "outputs": [
    {
     "data": {
      "text/plain": [
       "- : 'a list = []\n"
      ]
     },
     "execution_count": 10,
     "metadata": {},
     "output_type": "execute_result"
    }
   ],
   "source": [
    "[]  (* liste vide *)"
   ]
  },
  {
   "cell_type": "markdown",
   "metadata": {},
   "source": [
    "Par contre, on ne peut pas avoir plusieurs types différents dans la même liste :"
   ]
  },
  {
   "cell_type": "code",
   "execution_count": 11,
   "metadata": {
    "execution": {
     "iopub.execute_input": "2021-09-16T21:00:10.589817Z",
     "iopub.status.busy": "2021-09-16T21:00:10.589457Z",
     "iopub.status.idle": "2021-09-16T21:00:10.591090Z",
     "shell.execute_reply": "2021-09-16T21:00:10.591385Z"
    }
   },
   "outputs": [
    {
     "ename": "error",
     "evalue": "compile_error",
     "output_type": "error",
     "traceback": [
      "File \"[11]\", line 1, characters 7-8:\n1 | [3.14; 2]\n           ^\nError: This expression has type int but an expression was expected of type\n         float\n"
     ]
    }
   ],
   "source": [
    "[3.14; 2]"
   ]
  },
  {
   "cell_type": "markdown",
   "metadata": {},
   "source": [
    "L'instruction <mark>`e::l` renvoie une liste obtenue à partir de l en ajoutant l'élément e au début</mark> :"
   ]
  },
  {
   "cell_type": "code",
   "execution_count": 12,
   "metadata": {
    "execution": {
     "iopub.execute_input": "2021-09-16T21:00:10.592878Z",
     "iopub.status.busy": "2021-09-16T21:00:10.592512Z",
     "iopub.status.idle": "2021-09-16T21:00:10.595353Z",
     "shell.execute_reply": "2021-09-16T21:00:10.594982Z"
    }
   },
   "outputs": [
    {
     "data": {
      "text/plain": [
       "- : int list = [1; 2; 3]\n"
      ]
     },
     "execution_count": 12,
     "metadata": {},
     "output_type": "execute_result"
    }
   ],
   "source": [
    "1::[2; 3]  (* ajoute 1 au début de la liste [2; 3] *)"
   ]
  },
  {
   "cell_type": "markdown",
   "metadata": {},
   "source": [
    "**Attention** : <mark>cons (`::`) renvoie une nouvelle liste, mais ne modifie pas celle à droite</mark>. Par exemple :"
   ]
  },
  {
   "cell_type": "code",
   "execution_count": 13,
   "metadata": {
    "execution": {
     "iopub.execute_input": "2021-09-16T21:00:10.596988Z",
     "iopub.status.busy": "2021-09-16T21:00:10.596573Z",
     "iopub.status.idle": "2021-09-16T21:00:10.599799Z",
     "shell.execute_reply": "2021-09-16T21:00:10.600113Z"
    }
   },
   "outputs": [
    {
     "data": {
      "text/plain": [
       "val l : int list = [1; 2; 3]\n"
      ]
     },
     "execution_count": 13,
     "metadata": {},
     "output_type": "execute_result"
    },
    {
     "data": {
      "text/plain": [
       "- : int list = [0; 1; 2; 3]\n"
      ]
     },
     "execution_count": 13,
     "metadata": {},
     "output_type": "execute_result"
    },
    {
     "data": {
      "text/plain": [
       "- : int list = [1; 2; 3]\n"
      ]
     },
     "execution_count": 13,
     "metadata": {},
     "output_type": "execute_result"
    }
   ],
   "source": [
    "let l = [1; 2; 3];;\n",
    "0::l;;  (* donne une nouvelle liste *)\n",
    "l;;  (* l n'a pas été modifiée *)"
   ]
  },
  {
   "cell_type": "markdown",
   "metadata": {},
   "source": [
    "Si on veut ajouter un élément à une liste, il faut donc construire une nouvelle liste :"
   ]
  },
  {
   "cell_type": "code",
   "execution_count": 14,
   "metadata": {
    "execution": {
     "iopub.execute_input": "2021-09-16T21:00:10.601637Z",
     "iopub.status.busy": "2021-09-16T21:00:10.601278Z",
     "iopub.status.idle": "2021-09-16T21:00:10.605326Z",
     "shell.execute_reply": "2021-09-16T21:00:10.604985Z"
    }
   },
   "outputs": [
    {
     "data": {
      "text/plain": [
       "val l2 : int list = [0; 1; 2; 3]\n"
      ]
     },
     "execution_count": 14,
     "metadata": {},
     "output_type": "execute_result"
    }
   ],
   "source": [
    "let l2 = 0::l;;  (* l2 est une nouvelle liste obtenue à partir de l en rajoutant 0 *)"
   ]
  },
  {
   "cell_type": "markdown",
   "metadata": {},
   "source": [
    "**Attention** On ne peut pas ajouter simplement d'élément à la fin d'une liste (il faudrait parcourir récursivement chaque élément de la liste jusqu'à la fin, ce qui est inefficace). "
   ]
  },
  {
   "cell_type": "markdown",
   "metadata": {},
   "source": [
    "On peut se servir de `::` pour construire une liste élément par élément, avec une fonction récursive :"
   ]
  },
  {
   "cell_type": "code",
   "execution_count": 15,
   "metadata": {
    "execution": {
     "iopub.execute_input": "2021-09-16T21:00:10.606816Z",
     "iopub.status.busy": "2021-09-16T21:00:10.606452Z",
     "iopub.status.idle": "2021-09-16T21:00:10.609727Z",
     "shell.execute_reply": "2021-09-16T21:00:10.610000Z"
    }
   },
   "outputs": [
    {
     "data": {
      "text/plain": [
       "val range : int -> int list = <fun>\n"
      ]
     },
     "execution_count": 15,
     "metadata": {},
     "output_type": "execute_result"
    },
    {
     "data": {
      "text/plain": [
       "- : int list = [5; 4; 3; 2; 1]\n"
      ]
     },
     "execution_count": 15,
     "metadata": {},
     "output_type": "execute_result"
    }
   ],
   "source": [
    "let rec range n =  (* renvoie la liste des entiers de 1 à n (à l'envers) *)\n",
    "  if n = 0 then []  (* cas de base *)\n",
    "  else n::range (n-1);;\n",
    "  \n",
    "range 5"
   ]
  },
  {
   "cell_type": "markdown",
   "metadata": {},
   "source": [
    "**Exercice** : Écrire une fonction `pairs : int -> int list` telle que `pairs n` renvoie la liste des entiers pairs entre $0$ et $2n$ (inclus)."
   ]
  },
  {
   "cell_type": "markdown",
   "metadata": {},
   "source": [
    "## Pattern matching"
   ]
  },
  {
   "cell_type": "markdown",
   "metadata": {},
   "source": [
    "### Pattern matching simple"
   ]
  },
  {
   "cell_type": "markdown",
   "metadata": {},
   "source": [
    "La façon classique de parcourir une liste `l` en OCaml est d'utiliser un **pattern matching**, qui consiste à regarder la forme de `l` :\n",
    "- soit `l` est vide (cas de base)\n",
    "- soit `l` contient un premier élément (la tête), puis le reste de la liste (la queue)\n",
    "\n",
    "Voici la syntaxe OCaml :"
   ]
  },
  {
   "cell_type": "code",
   "execution_count": 16,
   "metadata": {
    "execution": {
     "iopub.execute_input": "2021-09-16T21:00:10.611440Z",
     "iopub.status.busy": "2021-09-16T21:00:10.611069Z",
     "iopub.status.idle": "2021-09-16T21:00:10.613442Z",
     "shell.execute_reply": "2021-09-16T21:00:10.613101Z"
    }
   },
   "outputs": [
    {
     "data": {
      "text/plain": [
       "val l : int list = [1; 2; 3]\n"
      ]
     },
     "execution_count": 16,
     "metadata": {},
     "output_type": "execute_result"
    }
   ],
   "source": [
    "let l = [1; 2; 3]"
   ]
  },
  {
   "cell_type": "code",
   "execution_count": 17,
   "metadata": {
    "execution": {
     "iopub.execute_input": "2021-09-16T21:00:10.614743Z",
     "iopub.status.busy": "2021-09-16T21:00:10.614378Z",
     "iopub.status.idle": "2021-09-16T21:00:10.616847Z",
     "shell.execute_reply": "2021-09-16T21:00:10.617177Z"
    }
   },
   "outputs": [
    {
     "data": {
      "text/plain": [
       "- : int = 1\n"
      ]
     },
     "execution_count": 17,
     "metadata": {},
     "output_type": "execute_result"
    }
   ],
   "source": [
    "match l with\n",
    "  | [] -> 0  (* si l est vide, on renvoie 0 *)\n",
    "  | e::q -> e  (* sinon l est de la forme e::q, on renvoie e *)"
   ]
  },
  {
   "cell_type": "markdown",
   "metadata": {},
   "source": [
    "Comme `l` est non-vide, on passe dans le 2ème cas du match et on affiche le premier élément de `l`. Essayez de mettre une liste vide à la place de `l` dans le `match` précédent pour voir la différence."
   ]
  },
  {
   "cell_type": "markdown",
   "metadata": {},
   "source": [
    "La plupart du temps, <mark>on utilise un `match` dans une fonction récursive ayant une liste en argument</mark>. Voici par exemple une fonction récursive pour calculer le nombre d'éléments d'une liste :"
   ]
  },
  {
   "cell_type": "code",
   "execution_count": 18,
   "metadata": {
    "execution": {
     "iopub.execute_input": "2021-09-16T21:00:10.618822Z",
     "iopub.status.busy": "2021-09-16T21:00:10.618413Z",
     "iopub.status.idle": "2021-09-16T21:00:10.621775Z",
     "shell.execute_reply": "2021-09-16T21:00:10.621438Z"
    }
   },
   "outputs": [
    {
     "data": {
      "text/plain": [
       "val taille : 'a list -> int = <fun>\n"
      ]
     },
     "execution_count": 18,
     "metadata": {},
     "output_type": "execute_result"
    },
    {
     "data": {
      "text/plain": [
       "- : int = 3\n"
      ]
     },
     "execution_count": 18,
     "metadata": {},
     "output_type": "execute_result"
    }
   ],
   "source": [
    "let rec taille l = match l with\n",
    "  | [] -> 0  (* une liste vide est de taille 0 *)\n",
    "  | e::q -> 1 + taille q;;  (* sinon l contient e + tous les éléments de q *)\n",
    "\n",
    "taille l;;  (* vérification *)"
   ]
  },
  {
   "cell_type": "markdown",
   "metadata": {},
   "source": [
    "**Remarque** : OCaml nous dit que `taille` est de type `'a list -> int`. `'a` signifie \"n'importe quel type\". Il n'y a donc pas de contrainte sur le type des éléments de la liste `l` en argument."
   ]
  },
  {
   "cell_type": "markdown",
   "metadata": {},
   "source": [
    "**Remarque** : quand une fonction possède un seul argument qui est une liste, on peut écrire `let f = function ...` au lieu de `let f l = match l with ...`. Par exemple on peut réécrire la fonction `taille` précédente :"
   ]
  },
  {
   "cell_type": "code",
   "execution_count": 19,
   "metadata": {
    "execution": {
     "iopub.execute_input": "2021-09-16T21:00:10.623252Z",
     "iopub.status.busy": "2021-09-16T21:00:10.622838Z",
     "iopub.status.idle": "2021-09-16T21:00:10.625281Z",
     "shell.execute_reply": "2021-09-16T21:00:10.625577Z"
    }
   },
   "outputs": [
    {
     "data": {
      "text/plain": [
       "val taille : 'a list -> int = <fun>\n"
      ]
     },
     "execution_count": 19,
     "metadata": {},
     "output_type": "execute_result"
    }
   ],
   "source": [
    "let rec taille = function  (* même chose que let taille l = match l with ... *)\n",
    "  | [] -> 0\n",
    "  | e::q -> 1 + taille q;;"
   ]
  },
  {
   "cell_type": "markdown",
   "metadata": {},
   "source": [
    "**Exercice** : \n",
    "1. Écrire une fonction `somme : int list -> int` pour calculer la somme des termes d'une liste. Par exemple, `somme [4; 7; 3]` doit renvoyer $14$.\n",
    "2. Réutiliser la fonction `range` ci-dessus pour calculer la somme des entiers de $1$ à $n$."
   ]
  },
  {
   "cell_type": "markdown",
   "metadata": {},
   "source": [
    "**Exercice** : Écrire une fonction `maximum` permettant de renvoyer le plus grand élément d'une liste d'entiers."
   ]
  },
  {
   "cell_type": "markdown",
   "metadata": {},
   "source": [
    "### Pattern matching plus avancé\n",
    "\n",
    "Un pattern matching peut aussi permettre de décomposer sous d'autres formes :"
   ]
  },
  {
   "cell_type": "code",
   "execution_count": 20,
   "metadata": {
    "execution": {
     "iopub.execute_input": "2021-09-16T21:00:10.626999Z",
     "iopub.status.busy": "2021-09-16T21:00:10.626638Z",
     "iopub.status.idle": "2021-09-16T21:00:10.634310Z",
     "shell.execute_reply": "2021-09-16T21:00:10.633960Z"
    }
   },
   "outputs": [
    {
     "name": "stderr",
     "output_type": "stream",
     "text": [
      "File \"[20]\", line 1, characters 17-96:\n",
      "1 | .................match l with  (* renvoie le 2ème élément d'une liste  *)\n",
      "2 |   | e1::e2::q -> e2...................................................................................................\n",
      "Warning 8: this pattern-matching is not exhaustive.\n",
      "Here is an example of a case that is not matched:\n",
      "(_::[]|[])\n"
     ]
    },
    {
     "data": {
      "text/plain": [
       "val deuxieme : 'a list -> 'a = <fun>\n"
      ]
     },
     "execution_count": 20,
     "metadata": {},
     "output_type": "execute_result"
    },
    {
     "data": {
      "text/plain": [
       "- : int = 7\n"
      ]
     },
     "execution_count": 20,
     "metadata": {},
     "output_type": "execute_result"
    }
   ],
   "source": [
    "let deuxieme l = match l with  (* renvoie le 2ème élément d'une liste  *)\n",
    "  | e1::e2::q -> e2;;  (* décompose la liste en le 1er élément e1, le 2ème e2 et la liste des autres éléments *)\n",
    "\n",
    "deuxieme [4; 7; 3]"
   ]
  },
  {
   "cell_type": "markdown",
   "metadata": {},
   "source": [
    "**Remarque** : OCaml nous dit que notre pattern matching ne couvre pas tous les cas. En effet, notre fonction ne dit pas quoi faire dans le cas où `l` contient 0 ou 1 élément. Il s'agit cependant d'un warning et pas d'une erreur, ce qui veut dire que OCaml exécute quand même l'instruction mais nous prévient d'un problème potentiel."
   ]
  },
  {
   "cell_type": "code",
   "execution_count": 21,
   "metadata": {
    "execution": {
     "iopub.execute_input": "2021-09-16T21:00:10.635800Z",
     "iopub.status.busy": "2021-09-16T21:00:10.635386Z",
     "iopub.status.idle": "2021-09-16T21:00:11.061850Z",
     "shell.execute_reply": "2021-09-16T21:00:11.061486Z"
    }
   },
   "outputs": [
    {
     "ename": "error",
     "evalue": "runtime_error",
     "output_type": "error",
     "traceback": [
      "\u001b[31mException: Match_failure (\"[20]\", 1, 17).\nCalled from file \"toplevel/toploop.ml\", line 208, characters 17-27\n\u001b[0m"
     ]
    }
   ],
   "source": [
    "deuxieme []  (* donne une exception *)"
   ]
  },
  {
   "cell_type": "markdown",
   "metadata": {},
   "source": [
    "Voici comment on peut considérer tous les cas possibles :"
   ]
  },
  {
   "cell_type": "code",
   "execution_count": 22,
   "metadata": {
    "execution": {
     "iopub.execute_input": "2021-09-16T21:00:11.064016Z",
     "iopub.status.busy": "2021-09-16T21:00:11.063514Z",
     "iopub.status.idle": "2021-09-16T21:00:11.069117Z",
     "shell.execute_reply": "2021-09-16T21:00:11.068768Z"
    }
   },
   "outputs": [
    {
     "data": {
      "text/plain": [
       "exception NotDefined\n"
      ]
     },
     "execution_count": 22,
     "metadata": {},
     "output_type": "execute_result"
    },
    {
     "data": {
      "text/plain": [
       "val deuxieme : 'a list -> 'a = <fun>\n"
      ]
     },
     "execution_count": 22,
     "metadata": {},
     "output_type": "execute_result"
    },
    {
     "data": {
      "text/plain": [
       "- : int = 7\n"
      ]
     },
     "execution_count": 22,
     "metadata": {},
     "output_type": "execute_result"
    }
   ],
   "source": [
    "exception NotDefined;;\n",
    "\n",
    "let deuxieme l = match l with  (* renvoie le 2ème élément d'une liste  *)\n",
    "  | [] -> raise NotDefined  (* cas où la liste est vide *)\n",
    "  | [e] -> raise NotDefined  (* cas où la liste n'a qu'un élément **)\n",
    "  | e1::e2::q -> e2;;  (* cas où la liste a au moins 2 éléments *)\n",
    "\n",
    "deuxieme [4; 7; 3]"
   ]
  },
  {
   "cell_type": "markdown",
   "metadata": {},
   "source": [
    "**Exercice** : Écrire une fonction `split : 'a list -> 'a list * 'a list` pour séparer une liste en deux listes de même taille (à 1 près). Les éléments d'indices pairs seront dans la 1ère liste, les autres dans la 2ème liste."
   ]
  },
  {
   "cell_type": "markdown",
   "metadata": {},
   "source": [
    "**Exercice** Écrire une fonction `concat : 'a list -> 'a list -> 'a list` renvoyant une liste composée des deux listes en argument, l'une après l'autre.  "
   ]
  },
  {
   "cell_type": "markdown",
   "metadata": {},
   "source": [
    "**Remarque** La fonction de l'exercice précédent existe déjà avec l'opérateur `@` :"
   ]
  },
  {
   "cell_type": "code",
   "execution_count": 23,
   "metadata": {
    "execution": {
     "iopub.execute_input": "2021-09-16T21:00:11.070773Z",
     "iopub.status.busy": "2021-09-16T21:00:11.070414Z",
     "iopub.status.idle": "2021-09-16T21:00:11.072969Z",
     "shell.execute_reply": "2021-09-16T21:00:11.073261Z"
    }
   },
   "outputs": [
    {
     "data": {
      "text/plain": [
       "- : int list = [1; 2; 3; 4; 5]\n"
      ]
     },
     "execution_count": 23,
     "metadata": {},
     "output_type": "execute_result"
    }
   ],
   "source": [
    "[1; 2; 3] @ [4; 5] (* concatène les deux listes et en renvoie une nouvelle *)"
   ]
  },
  {
   "cell_type": "markdown",
   "metadata": {},
   "source": [
    "Il est possible de décomposer plusieurs valeurs dans le même `match`, en les mettant sous forme de tuple :"
   ]
  },
  {
   "cell_type": "code",
   "execution_count": 24,
   "metadata": {
    "execution": {
     "iopub.execute_input": "2021-09-16T21:00:11.074983Z",
     "iopub.status.busy": "2021-09-16T21:00:11.074608Z",
     "iopub.status.idle": "2021-09-16T21:00:11.079086Z",
     "shell.execute_reply": "2021-09-16T21:00:11.078764Z"
    }
   },
   "outputs": [
    {
     "data": {
      "text/plain": [
       "val egal : 'a list -> 'a list -> bool = <fun>\n"
      ]
     },
     "execution_count": 24,
     "metadata": {},
     "output_type": "execute_result"
    }
   ],
   "source": [
    "let rec egal l1 l2 = match l1, l2 with  (* teste si l1 = l2 *)\n",
    "  | [], [] -> true\n",
    "  | e::q, [] -> false  (* l1 est non vide et l2 est vide *)\n",
    "  | [], e::q -> false  (* l1 est vide et l2 est non vide *)\n",
    "  | e1::q1, e2::q2 -> e1 = e2 && egal q1 q2;;"
   ]
  },
  {
   "cell_type": "code",
   "execution_count": 25,
   "metadata": {
    "execution": {
     "iopub.execute_input": "2021-09-16T21:00:11.080771Z",
     "iopub.status.busy": "2021-09-16T21:00:11.080399Z",
     "iopub.status.idle": "2021-09-16T21:00:11.084871Z",
     "shell.execute_reply": "2021-09-16T21:00:11.084551Z"
    }
   },
   "outputs": [
    {
     "data": {
      "text/plain": [
       "- : bool = true\n"
      ]
     },
     "execution_count": 25,
     "metadata": {},
     "output_type": "execute_result"
    },
    {
     "data": {
      "text/plain": [
       "- : bool = false\n"
      ]
     },
     "execution_count": 25,
     "metadata": {},
     "output_type": "execute_result"
    }
   ],
   "source": [
    "egal [1; 2; 3] [1; 2; 3];;\n",
    "egal [1; 2; 3] [1; 2];;"
   ]
  },
  {
   "cell_type": "markdown",
   "metadata": {},
   "source": [
    "### when\n",
    "\n",
    "`when` permet de mettre une condition sur un cas d'un pattern matching. Il peut remplacer un `if`. Par exemple :"
   ]
  },
  {
   "cell_type": "code",
   "execution_count": 26,
   "metadata": {
    "execution": {
     "iopub.execute_input": "2021-09-16T21:00:11.086608Z",
     "iopub.status.busy": "2021-09-16T21:00:11.086206Z",
     "iopub.status.idle": "2021-09-16T21:00:11.089499Z",
     "shell.execute_reply": "2021-09-16T21:00:11.089180Z"
    }
   },
   "outputs": [
    {
     "data": {
      "text/plain": [
       "val positifs : int list -> int list = <fun>\n"
      ]
     },
     "execution_count": 26,
     "metadata": {},
     "output_type": "execute_result"
    }
   ],
   "source": [
    "let rec positifs l = match l with  (* renvoie la liste des éléments positifs de l *)\n",
    "  | [] -> []\n",
    "  | e::q when e > 0 -> e::positifs q  (* on rajoute e à la liste de retour s'il est positif *)\n",
    "  | e::q -> positifs q;;  (* sinon on ajoute seulement les éléments positifs de q *) "
   ]
  },
  {
   "cell_type": "markdown",
   "metadata": {},
   "source": [
    "## Accumulateur de liste \n",
    "\n",
    "Écrivons une fonction récursive `rev` pour inverser les éléments d'une liste. La méthode classique utilise un **accumulateur** (qu'on avait déjà utilisé pour calculer les termes de la suite de Fibonacci)."
   ]
  },
  {
   "cell_type": "code",
   "execution_count": 27,
   "metadata": {
    "execution": {
     "iopub.execute_input": "2021-09-16T21:00:11.091157Z",
     "iopub.status.busy": "2021-09-16T21:00:11.090781Z",
     "iopub.status.idle": "2021-09-16T21:00:11.095154Z",
     "shell.execute_reply": "2021-09-16T21:00:11.094811Z"
    }
   },
   "outputs": [
    {
     "data": {
      "text/plain": [
       "val rev : 'a list -> 'a list -> 'a list = <fun>\n"
      ]
     },
     "execution_count": 27,
     "metadata": {},
     "output_type": "execute_result"
    },
    {
     "data": {
      "text/plain": [
       "- : int list = [3; 2; 1]\n"
      ]
     },
     "execution_count": 27,
     "metadata": {},
     "output_type": "execute_result"
    }
   ],
   "source": [
    "let rec rev acc l = match l with  (* acc va servir à construire le résultat (la liste à l'envers) *)\n",
    "  | [] -> acc\n",
    "  | e::q -> rev (e::acc) q;;\n",
    "\n",
    "  rev [] [1; 2; 3]  (* test *)"
   ]
  },
  {
   "cell_type": "markdown",
   "metadata": {},
   "source": [
    "Dans l'appel `rev [] l`, le premier élément `x` de `l` est celui qui est ajouté en premier à l'accumulateur et, comme tous les éléments suivants de `l` sont ajoutés au début de l'accumulateur (donc avant `x`), `x` se retrouve à la fin de l'accumulateur quand `rev` arrive sur le cas de base.  \n",
    "Le premier élément `x` se retrouve donc en dernier de l'accumulateur : on a bien inversé les éléments de `l`."
   ]
  }
 ],
 "metadata": {
  "interpreter": {
   "hash": "e8ada90d8a4953add78c43ca2aaed97b05f90e5c9cd24e11fb017c04e906ecda"
  },
  "kernelspec": {
   "display_name": "OCaml default",
   "language": "OCaml",
   "name": "ocaml-jupyter"
  },
  "language_info": {
   "codemirror_mode": "text/x-ocaml",
   "file_extension": ".ml",
   "mimetype": "text/x-ocaml",
   "name": "OCaml",
   "nbconverter_exporter": null,
   "pygments_lexer": "OCaml",
   "version": "4.08.1"
  },
  "title": "Structures de données de base"
 },
 "nbformat": 4,
 "nbformat_minor": 4
}

{
 "cells": [
  {
   "cell_type": "markdown",
   "id": "92df3349",
   "metadata": {},
   "source": [
    "# Booléens"
   ]
  },
  {
   "cell_type": "markdown",
   "id": "11b30036-7503-49d4-acf4-a13e0d482899",
   "metadata": {},
   "source": [
    "Une valeur booléenne (bool) est soit true (vrai) soit false (faux). Exemple de variable de type bool : "
   ]
  },
  {
   "cell_type": "code",
   "execution_count": 1,
   "id": "36098a8b-d4c9-42cb-a810-2196bce39439",
   "metadata": {
    "execution": {
     "iopub.execute_input": "2021-09-06T09:27:58.308160Z",
     "iopub.status.busy": "2021-09-06T09:27:58.307622Z",
     "iopub.status.idle": "2021-09-06T09:27:58.309774Z",
     "shell.execute_reply": "2021-09-06T09:27:58.308592Z"
    }
   },
   "outputs": [
    {
     "data": {
      "text/plain": [
       "val a : bool = true\n"
      ]
     },
     "execution_count": 1,
     "metadata": {},
     "output_type": "execute_result"
    }
   ],
   "source": [
    "let a = true"
   ]
  },
  {
   "cell_type": "markdown",
   "id": "0547d4ea-8de2-4d9b-8f47-174a6994fcba",
   "metadata": {},
   "source": [
    "# Comparaison"
   ]
  },
  {
   "cell_type": "markdown",
   "id": "96c9393c-f275-4f39-9198-84f93851b965",
   "metadata": {},
   "source": [
    "On peut tester l'égalité de deux **valeurs** avec `=` :"
   ]
  },
  {
   "cell_type": "code",
   "execution_count": 2,
   "id": "55243ec5",
   "metadata": {
    "execution": {
     "iopub.execute_input": "2021-09-06T09:27:58.311585Z",
     "iopub.status.busy": "2021-09-06T09:27:58.311221Z",
     "iopub.status.idle": "2021-09-06T09:27:58.312876Z",
     "shell.execute_reply": "2021-09-06T09:27:58.313170Z"
    },
    "tags": []
   },
   "outputs": [
    {
     "data": {
      "text/plain": [
       "- : bool = true\n"
      ]
     },
     "execution_count": 2,
     "metadata": {},
     "output_type": "execute_result"
    }
   ],
   "source": [
    "3 = 1 + 2"
   ]
  },
  {
   "cell_type": "markdown",
   "id": "e6b4a0d8-8098-4e55-91bd-5323ace870cb",
   "metadata": {},
   "source": [
    "On peut aussi utiliser `=` sur des variables, auquel cas on compare leurs valeurs :"
   ]
  },
  {
   "cell_type": "code",
   "execution_count": 3,
   "id": "a2462707-9353-42d6-8cc0-cf8304696542",
   "metadata": {
    "execution": {
     "iopub.execute_input": "2021-09-06T09:27:58.314880Z",
     "iopub.status.busy": "2021-09-06T09:27:58.314519Z",
     "iopub.status.idle": "2021-09-06T09:27:58.316685Z",
     "shell.execute_reply": "2021-09-06T09:27:58.316377Z"
    }
   },
   "outputs": [
    {
     "data": {
      "text/plain": [
       "- : bool = false\n"
      ]
     },
     "execution_count": 3,
     "metadata": {},
     "output_type": "execute_result"
    }
   ],
   "source": [
    "let a = 3 in\n",
    "let b = 4 in\n",
    "a = b (* teste si les valeurs de a et b sont égales *)"
   ]
  },
  {
   "cell_type": "markdown",
   "id": "514d2789-92b3-4e7f-a985-7168f3b655cb",
   "metadata": {},
   "source": [
    "**Attention** : le `=`  de OCaml correspond au `==` de Python. `==` existe en OCaml, mais compare les **adresses mémoires** de 2 variables au lieu de leurs valeurs et on ne l'utilisera presque jamais."
   ]
  },
  {
   "cell_type": "markdown",
   "id": "b9a10d51",
   "metadata": {},
   "source": [
    "On peut comparer des valeurs numériques avec `<` (inférieur strict), `>`, `<=` (inférieur ou égal), `>=`, `<>` (différent)... :"
   ]
  },
  {
   "cell_type": "code",
   "execution_count": 4,
   "id": "2f24cc17",
   "metadata": {
    "execution": {
     "iopub.execute_input": "2021-09-06T09:27:58.318200Z",
     "iopub.status.busy": "2021-09-06T09:27:58.317836Z",
     "iopub.status.idle": "2021-09-06T09:27:58.319174Z",
     "shell.execute_reply": "2021-09-06T09:27:58.319464Z"
    }
   },
   "outputs": [
    {
     "data": {
      "text/plain": [
       "- : bool = false\n"
      ]
     },
     "execution_count": 4,
     "metadata": {},
     "output_type": "execute_result"
    }
   ],
   "source": [
    "2 < 1"
   ]
  },
  {
   "cell_type": "markdown",
   "id": "0b12a71a",
   "metadata": {},
   "source": [
    "Il faut obligatoirement comparer des valeurs de même type :"
   ]
  },
  {
   "cell_type": "code",
   "execution_count": 5,
   "id": "38065e88",
   "metadata": {
    "execution": {
     "iopub.execute_input": "2021-09-06T09:27:58.321097Z",
     "iopub.status.busy": "2021-09-06T09:27:58.320705Z",
     "iopub.status.idle": "2021-09-06T09:27:58.322213Z",
     "shell.execute_reply": "2021-09-06T09:27:58.322521Z"
    }
   },
   "outputs": [
    {
     "ename": "error",
     "evalue": "compile_error",
     "output_type": "error",
     "traceback": [
      "File \"[5]\", line 1, characters 6-7:\n1 | 2.4 < 3 (* on ne peut pas comparer un float avec un int *)\n          ^\nError: This expression has type int but an expression was expected of type\n         float\n"
     ]
    }
   ],
   "source": [
    "2.4 < 3 (* on ne peut pas comparer un float avec un int *)"
   ]
  },
  {
   "cell_type": "code",
   "execution_count": 6,
   "id": "fce5d12b",
   "metadata": {
    "execution": {
     "iopub.execute_input": "2021-09-06T09:27:58.324026Z",
     "iopub.status.busy": "2021-09-06T09:27:58.323671Z",
     "iopub.status.idle": "2021-09-06T09:27:58.325541Z",
     "shell.execute_reply": "2021-09-06T09:27:58.325242Z"
    }
   },
   "outputs": [
    {
     "data": {
      "text/plain": [
       "- : bool = true\n"
      ]
     },
     "execution_count": 6,
     "metadata": {},
     "output_type": "execute_result"
    }
   ],
   "source": [
    "2.4 < 3.0 (* par contre ceci fonctionne *)"
   ]
  },
  {
   "cell_type": "markdown",
   "id": "f4161e5f-466f-4730-858f-128e6b0e33bd",
   "metadata": {},
   "source": [
    "**Remarque** : pas besoin de mettre des points (.) sur `<`, `>` ..."
   ]
  },
  {
   "cell_type": "markdown",
   "id": "e701b4f3",
   "metadata": {},
   "source": [
    "Les opérateurs `&&` (et), `||` (ou), `not` permettent de combiner des conditions :"
   ]
  },
  {
   "cell_type": "code",
   "execution_count": 7,
   "id": "1bdc2910",
   "metadata": {
    "execution": {
     "iopub.execute_input": "2021-09-06T09:27:58.327039Z",
     "iopub.status.busy": "2021-09-06T09:27:58.326688Z",
     "iopub.status.idle": "2021-09-06T09:27:58.329083Z",
     "shell.execute_reply": "2021-09-06T09:27:58.328766Z"
    },
    "tags": []
   },
   "outputs": [
    {
     "data": {
      "text/plain": [
       "- : bool = true\n"
      ]
     },
     "execution_count": 7,
     "metadata": {},
     "output_type": "execute_result"
    }
   ],
   "source": [
    "1 < 2 && 2 < 3"
   ]
  },
  {
   "cell_type": "code",
   "execution_count": 8,
   "id": "f14f8ed2",
   "metadata": {
    "execution": {
     "iopub.execute_input": "2021-09-06T09:27:58.330515Z",
     "iopub.status.busy": "2021-09-06T09:27:58.330148Z",
     "iopub.status.idle": "2021-09-06T09:27:58.332559Z",
     "shell.execute_reply": "2021-09-06T09:27:58.332244Z"
    },
    "tags": []
   },
   "outputs": [
    {
     "data": {
      "text/plain": [
       "- : bool = false\n"
      ]
     },
     "execution_count": 8,
     "metadata": {},
     "output_type": "execute_result"
    }
   ],
   "source": [
    "let a = 0 in\n",
    "a <> 0 || a > 3 (* test si a est différent de 0 ou supérieur à 3 *)"
   ]
  },
  {
   "cell_type": "markdown",
   "id": "3a8302d6",
   "metadata": {},
   "source": [
    "**Exercice**\n",
    "\n",
    "1. Quelle est la valeur du code suivant?\n",
    "```ocaml\n",
    "let a = 42 in\n",
    "not (a = 12 && (a < 10 || a > 30))\n",
    "```\n",
    "2. Comment aurait-on pu écrire `not (a = 12 && (a < 10 || a > 30))` sans `not`?"
   ]
  },
  {
   "cell_type": "markdown",
   "id": "05f4cee5",
   "metadata": {},
   "source": [
    "# Condition if\n",
    "\n",
    "On peut écrire une condition `if` de la façon suivante en OCaml :\n",
    "```ocaml\n",
    "if ... then ... else ...\n",
    "```\n",
    "La condition du `if` doit être un booléen. Si la condition est vraie, le `then` est exécuté et sa valeur est renvoyé. Sinon, c'est la valeur du `else` qui est renvoyé :  "
   ]
  },
  {
   "cell_type": "code",
   "execution_count": 9,
   "id": "b6c2e3d4",
   "metadata": {
    "execution": {
     "iopub.execute_input": "2021-09-06T09:27:58.334059Z",
     "iopub.status.busy": "2021-09-06T09:27:58.333697Z",
     "iopub.status.idle": "2021-09-06T09:27:58.335937Z",
     "shell.execute_reply": "2021-09-06T09:27:58.335617Z"
    }
   },
   "outputs": [
    {
     "data": {
      "text/plain": [
       "- : int = 24\n"
      ]
     },
     "execution_count": 9,
     "metadata": {},
     "output_type": "execute_result"
    }
   ],
   "source": [
    "if 1 = 2 then 42 else 24"
   ]
  },
  {
   "cell_type": "markdown",
   "id": "d0ef9530",
   "metadata": {},
   "source": [
    "Définissons par exemple la fonction valeur absolue ($x \\longmapsto \\vert x \\vert$) :"
   ]
  },
  {
   "cell_type": "code",
   "execution_count": 10,
   "id": "7ae4d8f3",
   "metadata": {
    "execution": {
     "iopub.execute_input": "2021-09-06T09:27:58.337580Z",
     "iopub.status.busy": "2021-09-06T09:27:58.337216Z",
     "iopub.status.idle": "2021-09-06T09:27:58.339420Z",
     "shell.execute_reply": "2021-09-06T09:27:58.339060Z"
    },
    "tags": []
   },
   "outputs": [
    {
     "data": {
      "text/plain": [
       "val abs : float -> float = <fun>\n"
      ]
     },
     "execution_count": 10,
     "metadata": {},
     "output_type": "execute_result"
    }
   ],
   "source": [
    "let abs x =\n",
    "    if x < 0. then -. x\n",
    "    else x"
   ]
  },
  {
   "cell_type": "markdown",
   "id": "fa101459-dc40-43fd-a6f9-8d804e894d4f",
   "metadata": {},
   "source": [
    "Rappelons qu'il n'y a pas de `return` en OCaml : c'est la dernière expression calculée par la fonction qui est renvoyée. Ainsi `abs x` renvoie `-x` si `x` est négatif et `x` sinon.  "
   ]
  },
  {
   "cell_type": "code",
   "execution_count": 11,
   "id": "3be985a7",
   "metadata": {
    "execution": {
     "iopub.execute_input": "2021-09-06T09:27:58.340941Z",
     "iopub.status.busy": "2021-09-06T09:27:58.340567Z",
     "iopub.status.idle": "2021-09-06T09:27:58.341903Z",
     "shell.execute_reply": "2021-09-06T09:27:58.342179Z"
    },
    "tags": []
   },
   "outputs": [
    {
     "data": {
      "text/plain": [
       "- : float = 2.718\n"
      ]
     },
     "execution_count": 11,
     "metadata": {},
     "output_type": "execute_result"
    }
   ],
   "source": [
    "abs (-2.718)  (* je mets des parenthèses à cause du - *)"
   ]
  },
  {
   "cell_type": "markdown",
   "id": "cd887d79",
   "metadata": {},
   "source": [
    "Pour plus de lisibilité on sautera une ligne avant `then` et `else`, sauf si le contenu du `if` est très court."
   ]
  },
  {
   "cell_type": "markdown",
   "id": "ad545c41-c654-4191-a971-bc2ad9ba7712",
   "metadata": {},
   "source": [
    "Dans un `if ... then ... else ...`, les valeurs dans le `then` et dans le `else` doivent être de même type :"
   ]
  },
  {
   "cell_type": "code",
   "execution_count": 12,
   "id": "b426d4db-6173-4996-a084-4d9785895141",
   "metadata": {
    "execution": {
     "iopub.execute_input": "2021-09-06T09:27:58.343717Z",
     "iopub.status.busy": "2021-09-06T09:27:58.343373Z",
     "iopub.status.idle": "2021-09-06T09:27:58.344884Z",
     "shell.execute_reply": "2021-09-06T09:27:58.344611Z"
    }
   },
   "outputs": [
    {
     "ename": "error",
     "evalue": "compile_error",
     "output_type": "error",
     "traceback": [
      "File \"[12]\", line 2, characters 5-9:\n2 | else 3.14  (* impossible d'avoir 2 types différents dans le then et else *)\n         ^^^^\nError: This expression has type float but an expression was expected of type\n         int\n"
     ]
    }
   ],
   "source": [
    "if 1 = 1 then 2\n",
    "else 3.14  (* impossible d'avoir 2 types différents dans le then et else *)"
   ]
  },
  {
   "cell_type": "markdown",
   "id": "60e82818-805a-4d83-9293-aa472f56c776",
   "metadata": {},
   "source": [
    "La valeur renvoyée par `if ... then ... else ...` peut être stockée dans une variable :"
   ]
  },
  {
   "cell_type": "code",
   "execution_count": 13,
   "id": "748c9939-1cad-4425-8fa5-a77f15b9b952",
   "metadata": {
    "execution": {
     "iopub.execute_input": "2021-09-06T09:27:58.346414Z",
     "iopub.status.busy": "2021-09-06T09:27:58.345893Z",
     "iopub.status.idle": "2021-09-06T09:27:58.348304Z",
     "shell.execute_reply": "2021-09-06T09:27:58.348031Z"
    }
   },
   "outputs": [
    {
     "data": {
      "text/plain": [
       "- : int = 5\n"
      ]
     },
     "execution_count": 13,
     "metadata": {},
     "output_type": "execute_result"
    }
   ],
   "source": [
    "let a = -5 in\n",
    "let b = if a > 0 then a else -a in (* on pourrait aussi calculer une valeur absolue comme ça *) \n",
    "b  (* b vaut 5 *)"
   ]
  },
  {
   "cell_type": "markdown",
   "id": "40fdd3c8",
   "metadata": {},
   "source": [
    "**Exercice** Définir les fonctions suivantes en OCaml :  \n",
    "1.\n",
    "\n",
    "<img src=\"img/fonctions_ex1.png\" width=\"500\"/>\n",
    "\n",
    "2. \n",
    "\n",
    "<img src=\"img/fonctions_ex2.png\" width=\"500\"/>\n",
    "\n",
    "3. \n",
    "\n",
    "<img src=\"img/fonctions_ex3.png\" width=\"500\"/>\n"
   ]
  },
  {
   "cell_type": "markdown",
   "id": "68805ae9",
   "metadata": {},
   "source": [
    "**Exercice** Écrire une fonction `n_solutions : float -> float -> float -> int` telle que `n_solutions a b c` renvoie le nombre de solutions de l'équation $ax^2 + bx + c$."
   ]
  }
 ],
 "metadata": {
  "jupytext": {
   "cell_metadata_filter": "-all",
   "main_language": "ocaml",
   "notebook_metadata_filter": "-all"
  },
  "kernelspec": {
   "display_name": "OCaml default",
   "language": "OCaml",
   "name": "ocaml-jupyter"
  },
  "language_info": {
   "codemirror_mode": "text/x-ocaml",
   "file_extension": ".ml",
   "mimetype": "text/x-ocaml",
   "name": "OCaml",
   "nbconverter_exporter": null,
   "pygments_lexer": "OCaml",
   "version": "4.08.1"
  },
  "title": "Conditions"
 },
 "nbformat": 4,
 "nbformat_minor": 5
}

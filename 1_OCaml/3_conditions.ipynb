{
 "cells": [
  {
   "cell_type": "markdown",
   "id": "be84a92d",
   "metadata": {},
   "source": [
    "## Booléens"
   ]
  },
  {
   "cell_type": "markdown",
   "id": "9f5c8481",
   "metadata": {},
   "source": [
    "Une valeur booléenne (bool) est soit true (vrai) soit false (faux). Exemple de variable de type bool : "
   ]
  },
  {
   "cell_type": "code",
   "execution_count": 1,
   "id": "bfdf5383",
   "metadata": {
    "execution": {
     "iopub.execute_input": "2021-09-09T12:14:53.462741Z",
     "iopub.status.busy": "2021-09-09T12:14:53.461914Z",
     "iopub.status.idle": "2021-09-09T12:14:53.465387Z",
     "shell.execute_reply": "2021-09-09T12:14:53.463412Z"
    }
   },
   "outputs": [
    {
     "data": {
      "text/plain": [
       "val a : bool = true\n"
      ]
     },
     "execution_count": 1,
     "metadata": {},
     "output_type": "execute_result"
    }
   ],
   "source": [
    "let a = true"
   ]
  },
  {
   "cell_type": "markdown",
   "id": "f6de23a1",
   "metadata": {},
   "source": [
    "## Comparaison"
   ]
  },
  {
   "cell_type": "markdown",
   "id": "6823cb77",
   "metadata": {},
   "source": [
    "On peut tester l'égalité de deux **valeurs** avec `=` :"
   ]
  },
  {
   "cell_type": "code",
   "execution_count": 2,
   "id": "ab7b4976",
   "metadata": {
    "execution": {
     "iopub.execute_input": "2021-09-09T12:14:53.467751Z",
     "iopub.status.busy": "2021-09-09T12:14:53.467096Z",
     "iopub.status.idle": "2021-09-09T12:14:53.472585Z",
     "shell.execute_reply": "2021-09-09T12:14:53.472038Z"
    },
    "tags": []
   },
   "outputs": [
    {
     "data": {
      "text/plain": [
       "- : bool = true\n"
      ]
     },
     "execution_count": 2,
     "metadata": {},
     "output_type": "execute_result"
    }
   ],
   "source": [
    "3 = 1 + 2"
   ]
  },
  {
   "cell_type": "markdown",
   "id": "393a45b6",
   "metadata": {},
   "source": [
    "On peut aussi utiliser `=` sur des variables, auquel cas on compare leurs valeurs :"
   ]
  },
  {
   "cell_type": "code",
   "execution_count": 3,
   "id": "e8a33ba1",
   "metadata": {
    "execution": {
     "iopub.execute_input": "2021-09-09T12:14:53.474982Z",
     "iopub.status.busy": "2021-09-09T12:14:53.474208Z",
     "iopub.status.idle": "2021-09-09T12:14:53.477718Z",
     "shell.execute_reply": "2021-09-09T12:14:53.477077Z"
    }
   },
   "outputs": [
    {
     "data": {
      "text/plain": [
       "- : bool = false\n"
      ]
     },
     "execution_count": 3,
     "metadata": {},
     "output_type": "execute_result"
    }
   ],
   "source": [
    "let a = 3 in\n",
    "let b = 4 in\n",
    "a = b (* teste si les valeurs de a et b sont égales *)"
   ]
  },
  {
   "cell_type": "markdown",
   "id": "5f9269a9",
   "metadata": {},
   "source": [
    "**Attention** : le `=`  de OCaml correspond au `==` de Python. `==` existe en OCaml, mais compare les **adresses mémoires** de 2 variables au lieu de leurs valeurs et on ne l'utilisera presque jamais."
   ]
  },
  {
   "cell_type": "markdown",
   "id": "e32467c7",
   "metadata": {},
   "source": [
    "On peut comparer des valeurs numériques avec `<` (inférieur strict), `>`, `<=` (inférieur ou égal), `>=`, `<>` (différent)... :"
   ]
  },
  {
   "cell_type": "code",
   "execution_count": 4,
   "id": "ce40f3a8",
   "metadata": {
    "execution": {
     "iopub.execute_input": "2021-09-09T12:14:53.480434Z",
     "iopub.status.busy": "2021-09-09T12:14:53.479765Z",
     "iopub.status.idle": "2021-09-09T12:14:53.482257Z",
     "shell.execute_reply": "2021-09-09T12:14:53.482765Z"
    }
   },
   "outputs": [
    {
     "data": {
      "text/plain": [
       "- : bool = false\n"
      ]
     },
     "execution_count": 4,
     "metadata": {},
     "output_type": "execute_result"
    }
   ],
   "source": [
    "2 < 1"
   ]
  },
  {
   "cell_type": "markdown",
   "id": "3feaae53",
   "metadata": {},
   "source": [
    "Il faut obligatoirement comparer des valeurs de même type :"
   ]
  },
  {
   "cell_type": "code",
   "execution_count": 5,
   "id": "aabc21c1",
   "metadata": {
    "execution": {
     "iopub.execute_input": "2021-09-09T12:14:53.484941Z",
     "iopub.status.busy": "2021-09-09T12:14:53.484310Z",
     "iopub.status.idle": "2021-09-09T12:14:53.486481Z",
     "shell.execute_reply": "2021-09-09T12:14:53.486977Z"
    }
   },
   "outputs": [
    {
     "ename": "error",
     "evalue": "compile_error",
     "output_type": "error",
     "traceback": [
      "File \"[5]\", line 1, characters 6-7:\n1 | 2.4 < 3 (* on ne peut pas comparer un float avec un int *)\n          ^\nError: This expression has type int but an expression was expected of type\n         float\n"
     ]
    }
   ],
   "source": [
    "2.4 < 3 (* on ne peut pas comparer un float avec un int *)"
   ]
  },
  {
   "cell_type": "code",
   "execution_count": 6,
   "id": "49b58999",
   "metadata": {
    "execution": {
     "iopub.execute_input": "2021-09-09T12:14:53.489044Z",
     "iopub.status.busy": "2021-09-09T12:14:53.488409Z",
     "iopub.status.idle": "2021-09-09T12:14:53.491026Z",
     "shell.execute_reply": "2021-09-09T12:14:53.491526Z"
    }
   },
   "outputs": [
    {
     "data": {
      "text/plain": [
       "- : bool = true\n"
      ]
     },
     "execution_count": 6,
     "metadata": {},
     "output_type": "execute_result"
    }
   ],
   "source": [
    "2.4 < 3.0 (* par contre ceci fonctionne *)"
   ]
  },
  {
   "cell_type": "markdown",
   "id": "3027777b",
   "metadata": {},
   "source": [
    "**Remarque** : pas besoin de mettre des points (.) sur `<`, `>` ..."
   ]
  },
  {
   "cell_type": "markdown",
   "id": "d9f259e4",
   "metadata": {},
   "source": [
    "Les opérateurs `&&` (et), `||` (ou), `not` permettent de combiner des conditions :"
   ]
  },
  {
   "cell_type": "code",
   "execution_count": 7,
   "id": "9571d124",
   "metadata": {
    "execution": {
     "iopub.execute_input": "2021-09-09T12:14:53.493747Z",
     "iopub.status.busy": "2021-09-09T12:14:53.493108Z",
     "iopub.status.idle": "2021-09-09T12:14:53.496040Z",
     "shell.execute_reply": "2021-09-09T12:14:53.496543Z"
    },
    "tags": []
   },
   "outputs": [
    {
     "data": {
      "text/plain": [
       "- : bool = true\n"
      ]
     },
     "execution_count": 7,
     "metadata": {},
     "output_type": "execute_result"
    }
   ],
   "source": [
    "1 < 2 && 2 < 3"
   ]
  },
  {
   "cell_type": "code",
   "execution_count": 8,
   "id": "a51a9697",
   "metadata": {
    "execution": {
     "iopub.execute_input": "2021-09-09T12:14:53.498630Z",
     "iopub.status.busy": "2021-09-09T12:14:53.498013Z",
     "iopub.status.idle": "2021-09-09T12:14:53.501796Z",
     "shell.execute_reply": "2021-09-09T12:14:53.501196Z"
    },
    "tags": []
   },
   "outputs": [
    {
     "data": {
      "text/plain": [
       "- : bool = false\n"
      ]
     },
     "execution_count": 8,
     "metadata": {},
     "output_type": "execute_result"
    }
   ],
   "source": [
    "let a = 0 in\n",
    "a <> 0 || a > 3 (* test si a est différent de 0 ou supérieur à 3 *)"
   ]
  },
  {
   "cell_type": "markdown",
   "id": "09d5c34c",
   "metadata": {},
   "source": [
    "**Exercice**\n",
    "\n",
    "1. Quelle est la valeur du code suivant?\n",
    "```ocaml\n",
    "let a = 42 in\n",
    "not (a = 42 && (a < 10 || a > 30))\n",
    "```\n",
    "2. Comment aurait-on pu écrire `not (a = 42 && (a < 10 || a > 30))` sans `not`?\n",
    "3. Écrire une fonction `xor : bool -> bool -> bool` telle que `xor a b` renvoie le \"ou exclusif\" de `a` et `b`, c'est à dire `true` si `a` ou `b` est `true`, mais pas les deux."
   ]
  },
  {
   "cell_type": "markdown",
   "id": "4eacaa20",
   "metadata": {},
   "source": [
    "## Condition if\n",
    "\n",
    "On peut écrire une condition `if` de la façon suivante en OCaml :\n",
    "```ocaml\n",
    "if ... then ... else ...\n",
    "```\n",
    "La condition du `if` doit être un booléen. Si la condition est vraie, le `then` est exécuté et sa valeur est renvoyé. Sinon, c'est la valeur du `else` qui est renvoyé :  "
   ]
  },
  {
   "cell_type": "code",
   "execution_count": 9,
   "id": "2afc79a6",
   "metadata": {
    "execution": {
     "iopub.execute_input": "2021-09-09T12:14:53.503956Z",
     "iopub.status.busy": "2021-09-09T12:14:53.503344Z",
     "iopub.status.idle": "2021-09-09T12:14:53.505878Z",
     "shell.execute_reply": "2021-09-09T12:14:53.506360Z"
    }
   },
   "outputs": [
    {
     "data": {
      "text/plain": [
       "- : int = 24\n"
      ]
     },
     "execution_count": 9,
     "metadata": {},
     "output_type": "execute_result"
    }
   ],
   "source": [
    "if 1 = 2 then 42 else 24"
   ]
  },
  {
   "cell_type": "markdown",
   "id": "00d1bb29",
   "metadata": {},
   "source": [
    "Définissons par exemple la fonction valeur absolue ($x \\longmapsto \\vert x \\vert$) :"
   ]
  },
  {
   "cell_type": "code",
   "execution_count": 10,
   "id": "25887c42",
   "metadata": {
    "execution": {
     "iopub.execute_input": "2021-09-09T12:14:53.508419Z",
     "iopub.status.busy": "2021-09-09T12:14:53.507825Z",
     "iopub.status.idle": "2021-09-09T12:14:53.511066Z",
     "shell.execute_reply": "2021-09-09T12:14:53.510517Z"
    },
    "tags": []
   },
   "outputs": [
    {
     "data": {
      "text/plain": [
       "val abs : float -> float = <fun>\n"
      ]
     },
     "execution_count": 10,
     "metadata": {},
     "output_type": "execute_result"
    }
   ],
   "source": [
    "let abs x =\n",
    "    if x < 0. then -. x\n",
    "    else x"
   ]
  },
  {
   "cell_type": "markdown",
   "id": "e0d1d0bd",
   "metadata": {},
   "source": [
    "Rappelons qu'il n'y a pas de `return` en OCaml : c'est la dernière expression calculée par la fonction qui est renvoyée. Ainsi `abs x` renvoie `-x` si `x` est négatif et `x` sinon.  "
   ]
  },
  {
   "cell_type": "code",
   "execution_count": 11,
   "id": "abe620d3",
   "metadata": {
    "execution": {
     "iopub.execute_input": "2021-09-09T12:14:53.513143Z",
     "iopub.status.busy": "2021-09-09T12:14:53.512516Z",
     "iopub.status.idle": "2021-09-09T12:14:53.514571Z",
     "shell.execute_reply": "2021-09-09T12:14:53.515052Z"
    },
    "tags": []
   },
   "outputs": [
    {
     "data": {
      "text/plain": [
       "- : float = 2.718\n"
      ]
     },
     "execution_count": 11,
     "metadata": {},
     "output_type": "execute_result"
    }
   ],
   "source": [
    "abs (-2.718)  (* je mets des parenthèses à cause du - *)"
   ]
  },
  {
   "cell_type": "markdown",
   "id": "90aae449",
   "metadata": {},
   "source": [
    "Pour plus de lisibilité on sautera une ligne avant `then` et `else`, sauf si le contenu du `if` est très court."
   ]
  },
  {
   "cell_type": "markdown",
   "id": "5fb012d5",
   "metadata": {},
   "source": [
    "Dans un `if ... then ... else ...`, les valeurs dans le `then` et dans le `else` doivent être de même type :"
   ]
  },
  {
   "cell_type": "code",
   "execution_count": 12,
   "id": "e17b8f48",
   "metadata": {
    "execution": {
     "iopub.execute_input": "2021-09-09T12:14:53.517143Z",
     "iopub.status.busy": "2021-09-09T12:14:53.516571Z",
     "iopub.status.idle": "2021-09-09T12:14:53.518428Z",
     "shell.execute_reply": "2021-09-09T12:14:53.518974Z"
    }
   },
   "outputs": [
    {
     "ename": "error",
     "evalue": "compile_error",
     "output_type": "error",
     "traceback": [
      "File \"[12]\", line 2, characters 5-9:\n2 | else 3.14  (* impossible d'avoir 2 types différents dans le then et else *)\n         ^^^^\nError: This expression has type float but an expression was expected of type\n         int\n"
     ]
    }
   ],
   "source": [
    "if 1 = 1 then 2\n",
    "else 3.14  (* impossible d'avoir 2 types différents dans le then et else *)"
   ]
  },
  {
   "cell_type": "markdown",
   "id": "c6d29940",
   "metadata": {},
   "source": [
    "La valeur renvoyée par `if ... then ... else ...` peut être stockée dans une variable :"
   ]
  },
  {
   "cell_type": "code",
   "execution_count": 13,
   "id": "10476f2e",
   "metadata": {
    "execution": {
     "iopub.execute_input": "2021-09-09T12:14:53.521039Z",
     "iopub.status.busy": "2021-09-09T12:14:53.520460Z",
     "iopub.status.idle": "2021-09-09T12:14:53.523491Z",
     "shell.execute_reply": "2021-09-09T12:14:53.522980Z"
    }
   },
   "outputs": [
    {
     "data": {
      "text/plain": [
       "- : int = 5\n"
      ]
     },
     "execution_count": 13,
     "metadata": {},
     "output_type": "execute_result"
    }
   ],
   "source": [
    "let a = -5 in\n",
    "let b = if a > 0 then a else -a in (* on pourrait aussi calculer une valeur absolue comme ça *) \n",
    "b  (* b vaut 5 *)"
   ]
  },
  {
   "cell_type": "markdown",
   "id": "25cdd6f9",
   "metadata": {},
   "source": [
    "**Exercice** Définir les fonctions suivantes en OCaml :  \n",
    "1.\n",
    "\n",
    "<img src=\"img/fonctions_ex1.png\" width=\"500\"/>\n",
    "\n",
    "2. \n",
    "\n",
    "<img src=\"img/fonctions_ex2.png\" width=\"500\"/>\n",
    "\n",
    "3. \n",
    "\n",
    "<img src=\"img/fonctions_ex3.png\" width=\"500\"/>\n"
   ]
  },
  {
   "cell_type": "markdown",
   "id": "7a16bac9",
   "metadata": {},
   "source": [
    "**Exercice** Écrire une fonction `n_solutions : float -> float -> float -> int` telle que `n_solutions a b c` renvoie le nombre de solutions de l'équation $ax^2 + bx + c$."
   ]
  }
 ],
 "metadata": {
  "jupytext": {
   "cell_metadata_filter": "-all",
   "main_language": "ocaml",
   "notebook_metadata_filter": "-all"
  },
  "kernelspec": {
   "display_name": "OCaml default",
   "language": "OCaml",
   "name": "ocaml-jupyter"
  },
  "language_info": {
   "codemirror_mode": "text/x-ocaml",
   "file_extension": ".ml",
   "mimetype": "text/x-ocaml",
   "name": "OCaml",
   "nbconverter_exporter": null,
   "pygments_lexer": "OCaml",
   "version": "4.08.1"
  },
  "title": "Conditions"
 },
 "nbformat": 4,
 "nbformat_minor": 5
}

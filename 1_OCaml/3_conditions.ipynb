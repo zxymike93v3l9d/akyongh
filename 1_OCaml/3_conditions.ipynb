{
 "cells": [
  {
   "cell_type": "markdown",
   "id": "45ce8344",
   "metadata": {},
   "source": [
    "# Conditions\n",
    "\n",
    "On peut écrire une condition `if` de la façon suivante en OCaml :\n",
    "```ocaml\n",
    "if ... then ... else ...\n",
    "```\n",
    "La condition du `if` doit être un booléen. Si la condition est vraie, le `then` est exécuté et sa valeur est renvoyé. Sinon, c'est le `else` :  "
   ]
  },
  {
   "cell_type": "code",
   "execution_count": null,
   "id": "59eb7f1b",
   "metadata": {},
   "outputs": [],
   "source": [
    "if 1 = 2 then 42 else 24"
   ]
  },
  {
   "cell_type": "markdown",
   "id": "89d96112",
   "metadata": {},
   "source": [
    "Définissons par exemple la fonction valeur absolue ($x \\longmapsto \\vert x \\vert$) :"
   ]
  },
  {
   "cell_type": "code",
   "execution_count": null,
   "id": "5bc0ca29",
   "metadata": {},
   "outputs": [],
   "source": [
    "let abs x =\n",
    "    if x < 0 then -x\n",
    "    else x"
   ]
  },
  {
   "cell_type": "code",
   "execution_count": null,
   "id": "2c4346ac",
   "metadata": {},
   "outputs": [],
   "source": [
    "abs (-42)"
   ]
  },
  {
   "cell_type": "markdown",
   "id": "b79b573e",
   "metadata": {},
   "source": [
    "Pour plus de lisibilité on sautera une ligne avant `then` et `else`, sauf si le contenu du `if` est très court."
   ]
  },
  {
   "cell_type": "markdown",
   "id": "ab4ba123",
   "metadata": {},
   "source": [
    "**Exercice** Définir les fonctions suivantes en OCaml :  \n",
    "1.\n",
    "\n",
    "<img src=\"ex1.png\" width=\"500\"/>\n",
    "\n",
    "2. \n",
    "\n",
    "<img src=\"ex2.png\" width=\"500\"/>\n",
    "\n",
    "3. \n",
    "\n",
    "<img src=\"ex3.png\" width=\"500\"/>\n"
   ]
  },
  {
   "cell_type": "markdown",
   "id": "4b77c592",
   "metadata": {},
   "source": [
    "**Exercice** \n",
    "1. Écrire une fonction `n_solutions : float -> float -> float -> int` telle que `n_solutions a b c` renvoie le nombre de solutions de l'équation $ax^2 + bx + c$.\n",
    "2. "
   ]
  },
  {
   "cell_type": "code",
   "execution_count": null,
   "id": "92070e99",
   "metadata": {},
   "outputs": [],
   "source": [
    "let n_solutions a b c =\n",
    "    let delta = b**2. -. 4.*.a*.c in\n",
    "    if delta > 0. then 2\n",
    "    else if delta < 0. then 0\n",
    "    else 1"
   ]
  },
  {
   "cell_type": "code",
   "execution_count": null,
   "id": "137f2945",
   "metadata": {},
   "outputs": [],
   "source": [
    "n_solutions 3. 5. 2."
   ]
  },
  {
   "cell_type": "code",
   "execution_count": null,
   "id": "d4e248fb",
   "metadata": {},
   "outputs": [],
   "source": []
  }
 ],
 "metadata": {
  "jupytext": {
   "cell_metadata_filter": "-all",
   "main_language": "ocaml",
   "notebook_metadata_filter": "-all"
  }
 },
 "nbformat": 4,
 "nbformat_minor": 5
}

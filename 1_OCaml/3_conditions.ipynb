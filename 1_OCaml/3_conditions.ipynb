{
 "cells": [
  {
   "cell_type": "markdown",
   "id": "92df3349",
   "metadata": {},
   "source": [
    "# Booléens"
   ]
  },
  {
   "cell_type": "markdown",
   "id": "142d00d6",
   "metadata": {},
   "source": [
    "Une valeur booléenne est soit true (vrai) soit false (faux). Par exemple, on peut tester l'égalité de deux valeurs avec `=` :"
   ]
  },
  {
   "cell_type": "code",
   "execution_count": 1,
   "id": "55243ec5",
   "metadata": {
    "execution": {
     "iopub.execute_input": "2021-08-08T14:34:07.384163Z",
     "iopub.status.busy": "2021-08-08T14:34:07.382583Z",
     "iopub.status.idle": "2021-08-08T14:34:07.390578Z",
     "shell.execute_reply": "2021-08-08T14:34:07.389192Z"
    }
   },
   "outputs": [
    {
     "data": {
      "text/plain": [
       "- : bool = true\n"
      ]
     },
     "execution_count": 1,
     "metadata": {},
     "output_type": "execute_result"
    }
   ],
   "source": [
    "3 = 1 + 2"
   ]
  },
  {
   "cell_type": "markdown",
   "id": "b9a10d51",
   "metadata": {},
   "source": [
    "On peut comparer des valeurs numériques avec `<` (inférieur strict), `>`, `<=` (inférieur ou égal), `>=`, `<>` (différent)... :"
   ]
  },
  {
   "cell_type": "code",
   "execution_count": 2,
   "id": "2f24cc17",
   "metadata": {
    "execution": {
     "iopub.execute_input": "2021-08-08T14:34:07.395365Z",
     "iopub.status.busy": "2021-08-08T14:34:07.394077Z",
     "iopub.status.idle": "2021-08-08T14:34:07.400049Z",
     "shell.execute_reply": "2021-08-08T14:34:07.398981Z"
    }
   },
   "outputs": [
    {
     "data": {
      "text/plain": [
       "- : bool = false\n"
      ]
     },
     "execution_count": 2,
     "metadata": {},
     "output_type": "execute_result"
    }
   ],
   "source": [
    "2 < 1"
   ]
  },
  {
   "cell_type": "markdown",
   "id": "0b12a71a",
   "metadata": {},
   "source": [
    "Il faut obligatoirement comparer des valeurs de même type :"
   ]
  },
  {
   "cell_type": "code",
   "execution_count": 3,
   "id": "38065e88",
   "metadata": {
    "execution": {
     "iopub.execute_input": "2021-08-08T14:34:07.404665Z",
     "iopub.status.busy": "2021-08-08T14:34:07.403487Z",
     "iopub.status.idle": "2021-08-08T14:34:07.407700Z",
     "shell.execute_reply": "2021-08-08T14:34:07.408659Z"
    }
   },
   "outputs": [
    {
     "ename": "error",
     "evalue": "compile_error",
     "output_type": "error",
     "traceback": [
      "File \"[3]\", line 1, characters 6-7:\n1 | 2.4 < 3 (* on ne peut pas comparer un float avec un int *)\n          ^\nError: This expression has type int but an expression was expected of type\n         float\n  Hint: Did you mean `3.'?\n"
     ]
    }
   ],
   "source": [
    "2.4 < 3 (* on ne peut pas comparer un float avec un int *)"
   ]
  },
  {
   "cell_type": "code",
   "execution_count": 4,
   "id": "fce5d12b",
   "metadata": {
    "execution": {
     "iopub.execute_input": "2021-08-08T14:34:07.412963Z",
     "iopub.status.busy": "2021-08-08T14:34:07.411759Z",
     "iopub.status.idle": "2021-08-08T14:34:07.417402Z",
     "shell.execute_reply": "2021-08-08T14:34:07.416385Z"
    }
   },
   "outputs": [
    {
     "data": {
      "text/plain": [
       "- : bool = true\n"
      ]
     },
     "execution_count": 4,
     "metadata": {},
     "output_type": "execute_result"
    }
   ],
   "source": [
    "2.4 < 3.0 (* par contre ceci fonctionne *)"
   ]
  },
  {
   "cell_type": "markdown",
   "id": "e701b4f3",
   "metadata": {},
   "source": [
    "Les opérateurs `&&` (et), `||` (ou), `not` permettent de combiner des conditions :"
   ]
  },
  {
   "cell_type": "code",
   "execution_count": 5,
   "id": "1bdc2910",
   "metadata": {
    "execution": {
     "iopub.execute_input": "2021-08-08T14:34:07.421166Z",
     "iopub.status.busy": "2021-08-08T14:34:07.420300Z",
     "iopub.status.idle": "2021-08-08T14:34:07.425114Z",
     "shell.execute_reply": "2021-08-08T14:34:07.424513Z"
    }
   },
   "outputs": [
    {
     "data": {
      "text/plain": [
       "- : bool = true\n"
      ]
     },
     "execution_count": 5,
     "metadata": {},
     "output_type": "execute_result"
    }
   ],
   "source": [
    "1 < 2 && 2 < 3"
   ]
  },
  {
   "cell_type": "code",
   "execution_count": 6,
   "id": "f14f8ed2",
   "metadata": {
    "execution": {
     "iopub.execute_input": "2021-08-08T14:34:07.427565Z",
     "iopub.status.busy": "2021-08-08T14:34:07.426894Z",
     "iopub.status.idle": "2021-08-08T14:34:07.430900Z",
     "shell.execute_reply": "2021-08-08T14:34:07.430443Z"
    }
   },
   "outputs": [
    {
     "data": {
      "text/plain": [
       "- : bool = false\n"
      ]
     },
     "execution_count": 6,
     "metadata": {},
     "output_type": "execute_result"
    }
   ],
   "source": [
    "let a = 0 in\n",
    "a <> 0 || a > 3 (* test si a est différent de 0 ou supérieur à 3 *)"
   ]
  },
  {
   "cell_type": "markdown",
   "id": "3a8302d6",
   "metadata": {},
   "source": [
    "**Exercice**\n",
    "\n",
    "1. Quelle est la valeur du code suivant?\n",
    "```ocaml\n",
    "let a = 42 in\n",
    "not (a = 12 && (a < 10 || a > 30))\n",
    "```\n",
    "2. Comment aurait-on pu écrire `not (a = 12 && (a < 10 || a > 30))` sans `not`?"
   ]
  },
  {
   "cell_type": "markdown",
   "id": "05f4cee5",
   "metadata": {},
   "source": [
    "# Condition if\n",
    "\n",
    "On peut écrire une condition `if` de la façon suivante en OCaml :\n",
    "```ocaml\n",
    "if ... then ... else ...\n",
    "```\n",
    "La condition du `if` doit être un booléen. Si la condition est vraie, le `then` est exécuté et sa valeur est renvoyé. Sinon, c'est le `else` :  "
   ]
  },
  {
   "cell_type": "code",
   "execution_count": 7,
   "id": "b6c2e3d4",
   "metadata": {
    "execution": {
     "iopub.execute_input": "2021-08-08T14:34:07.433027Z",
     "iopub.status.busy": "2021-08-08T14:34:07.432468Z",
     "iopub.status.idle": "2021-08-08T14:34:07.435003Z",
     "shell.execute_reply": "2021-08-08T14:34:07.434591Z"
    }
   },
   "outputs": [
    {
     "data": {
      "text/plain": [
       "- : int = 24\n"
      ]
     },
     "execution_count": 7,
     "metadata": {},
     "output_type": "execute_result"
    }
   ],
   "source": [
    "if 1 = 2 then 42 else 24"
   ]
  },
  {
   "cell_type": "markdown",
   "id": "d0ef9530",
   "metadata": {},
   "source": [
    "Définissons par exemple la fonction valeur absolue ($x \\longmapsto \\vert x \\vert$) :"
   ]
  },
  {
   "cell_type": "code",
   "execution_count": 8,
   "id": "7ae4d8f3",
   "metadata": {
    "execution": {
     "iopub.execute_input": "2021-08-08T14:34:07.436777Z",
     "iopub.status.busy": "2021-08-08T14:34:07.436302Z",
     "iopub.status.idle": "2021-08-08T14:34:07.438981Z",
     "shell.execute_reply": "2021-08-08T14:34:07.438571Z"
    }
   },
   "outputs": [
    {
     "data": {
      "text/plain": [
       "val abs : int -> int = <fun>\n"
      ]
     },
     "execution_count": 8,
     "metadata": {},
     "output_type": "execute_result"
    }
   ],
   "source": [
    "let abs x =\n",
    "    if x < 0 then -x\n",
    "    else x"
   ]
  },
  {
   "cell_type": "code",
   "execution_count": 9,
   "id": "3be985a7",
   "metadata": {
    "execution": {
     "iopub.execute_input": "2021-08-08T14:34:07.440549Z",
     "iopub.status.busy": "2021-08-08T14:34:07.440144Z",
     "iopub.status.idle": "2021-08-08T14:34:07.441902Z",
     "shell.execute_reply": "2021-08-08T14:34:07.441546Z"
    }
   },
   "outputs": [
    {
     "data": {
      "text/plain": [
       "- : int = 42\n"
      ]
     },
     "execution_count": 9,
     "metadata": {},
     "output_type": "execute_result"
    }
   ],
   "source": [
    "abs (-42)"
   ]
  },
  {
   "cell_type": "markdown",
   "id": "cd887d79",
   "metadata": {},
   "source": [
    "Pour plus de lisibilité on sautera une ligne avant `then` et `else`, sauf si le contenu du `if` est très court."
   ]
  },
  {
   "cell_type": "markdown",
   "id": "40fdd3c8",
   "metadata": {},
   "source": [
    "**Exercice** Définir les fonctions suivantes en OCaml :  \n",
    "1.\n",
    "\n",
    "<img src=\"img/fonctions_ex1.png\" width=\"500\"/>\n",
    "\n",
    "2. \n",
    "\n",
    "<img src=\"img/fonctions_ex2.png\" width=\"500\"/>\n",
    "\n",
    "3. \n",
    "\n",
    "<img src=\"img/fonctions_ex3.png\" width=\"500\"/>\n"
   ]
  },
  {
   "cell_type": "code",
   "execution_count": 10,
   "id": "26e3fbe1",
   "metadata": {
    "execution": {
     "iopub.execute_input": "2021-08-08T14:34:07.443506Z",
     "iopub.status.busy": "2021-08-08T14:34:07.443097Z",
     "iopub.status.idle": "2021-08-08T14:34:07.445729Z",
     "shell.execute_reply": "2021-08-08T14:34:07.445394Z"
    }
   },
   "outputs": [
    {
     "data": {
      "text/plain": [
       "val f1 : float -> int = <fun>\n"
      ]
     },
     "execution_count": 10,
     "metadata": {},
     "output_type": "execute_result"
    }
   ],
   "source": [
    "let f1 x = \n",
    "    if x < 1. then 2 (* l'argument de f1 doit être un float donc il faut le comparer à un float *)\n",
    "    else 1;;"
   ]
  },
  {
   "cell_type": "code",
   "execution_count": 11,
   "id": "7a12bff7",
   "metadata": {
    "execution": {
     "iopub.execute_input": "2021-08-08T14:34:07.447284Z",
     "iopub.status.busy": "2021-08-08T14:34:07.446730Z",
     "iopub.status.idle": "2021-08-08T14:34:07.449376Z",
     "shell.execute_reply": "2021-08-08T14:34:07.449039Z"
    }
   },
   "outputs": [
    {
     "data": {
      "text/plain": [
       "val f1 : int -> int = <fun>\n"
      ]
     },
     "execution_count": 11,
     "metadata": {},
     "output_type": "execute_result"
    }
   ],
   "source": [
    "let f1 x = \n",
    "    if x < 0 then abs (x + 3) \n",
    "    else 3;;"
   ]
  },
  {
   "cell_type": "markdown",
   "id": "68805ae9",
   "metadata": {},
   "source": [
    "**Exercice** Écrire une fonction `n_solutions : float -> float -> float -> int` telle que `n_solutions a b c` renvoie le nombre de solutions de l'équation $ax^2 + bx + c$."
   ]
  },
  {
   "cell_type": "code",
   "execution_count": 12,
   "id": "0b251545",
   "metadata": {
    "execution": {
     "iopub.execute_input": "2021-08-08T14:34:07.450655Z",
     "iopub.status.busy": "2021-08-08T14:34:07.450330Z",
     "iopub.status.idle": "2021-08-08T14:34:07.453544Z",
     "shell.execute_reply": "2021-08-08T14:34:07.453244Z"
    }
   },
   "outputs": [
    {
     "data": {
      "text/plain": [
       "val n_solutions : float -> float -> float -> int = <fun>\n"
      ]
     },
     "execution_count": 12,
     "metadata": {},
     "output_type": "execute_result"
    }
   ],
   "source": [
    "let n_solutions a b c =\n",
    "    let delta = b**2. -. 4.*.a*.c in\n",
    "    if delta > 0. then 2\n",
    "    else if delta < 0. then 0\n",
    "    else 1"
   ]
  },
  {
   "cell_type": "code",
   "execution_count": 13,
   "id": "8a5b4b1e",
   "metadata": {
    "execution": {
     "iopub.execute_input": "2021-08-08T14:34:07.454812Z",
     "iopub.status.busy": "2021-08-08T14:34:07.454452Z",
     "iopub.status.idle": "2021-08-08T14:34:07.455614Z",
     "shell.execute_reply": "2021-08-08T14:34:07.455848Z"
    }
   },
   "outputs": [
    {
     "data": {
      "text/plain": [
       "- : int = 2\n"
      ]
     },
     "execution_count": 13,
     "metadata": {},
     "output_type": "execute_result"
    }
   ],
   "source": [
    "n_solutions 3. 5. 2."
   ]
  },
  {
   "cell_type": "code",
   "execution_count": null,
   "id": "dbae2813",
   "metadata": {},
   "outputs": [],
   "source": []
  }
 ],
 "metadata": {
  "jupytext": {
   "cell_metadata_filter": "-all",
   "main_language": "ocaml",
   "notebook_metadata_filter": "-all"
  },
  "language_info": {
   "codemirror_mode": "text/x-ocaml",
   "file_extension": ".ml",
   "mimetype": "text/x-ocaml",
   "name": "OCaml",
   "nbconverter_exporter": null,
   "pygments_lexer": "OCaml",
   "version": "4.12.0"
  }
 },
 "nbformat": 4,
 "nbformat_minor": 5
}

{
 "cells": [
  {
   "cell_type": "markdown",
   "metadata": {
    "jp-MarkdownHeadingCollapsed": true,
    "tags": []
   },
   "source": [
    "# Structures de données\n",
    "\n",
    "Une **structure de donnée** permet de stocker un ensemble d'éléments et de faire certaines opérations sur ces éléments.  \n",
    "Le tableau suivant résume les structures de données disponibles en OCaml, avec les méthodes les plus courantes. \n",
    "\n",
    "| | tuple | list | array | string |\n",
    "|:---:|:---:|:---:|:---:|:---:|\n",
    "| exemple | `let t = (1, true, 3.14)` | `let l = [1; 2; 3]` | `let a = [\\|1; 2; 3\\|]` | `let s = \"Hello\"` |\n",
    "| taille | taille connue à la création | utiliser une fonction récursive<br> (ou `List.length`) | `Array.length` | `String.length` |\n",
    "| décomposer | `let a, b, c = t` | `let e::q = l`  <br>ou  <br>`match l with`<br>`\\| [] -> ...`<br>  `\\| e::q -> ...` | X | X |\n",
    "| obtenir ième élément | décomposer le tuple | fonction récursive | `a.(i)` | `s.[i]` |\n",
    "| modifier élément | X | X | `a.(i) <- ...` | X |\n",
    "| ajouter élément | X | `e::l` <br>(renvoie une nouvelle liste) | X | X |\n",
    "| mutable | non | non | X | X |\n",
    "\n",
    "Nous verrons plus tard d'autres structures plus élaborées."
   ]
  },
  {
   "cell_type": "markdown",
   "metadata": {},
   "source": [
    "# $n$-uplet (tuple)\n",
    "\n",
    "Un $n$-uplet est défini comme en mathématiques. Par exemple, un $2$-uplet est un couple (qui réprésente par exemple un point dans le plan $\\mathbb{R}^2$ :"
   ]
  },
  {
   "cell_type": "code",
   "execution_count": 1,
   "metadata": {
    "execution": {
     "iopub.execute_input": "2021-09-12T19:04:03.382303Z",
     "iopub.status.busy": "2021-09-12T19:04:03.381715Z",
     "iopub.status.idle": "2021-09-12T19:04:03.386045Z",
     "shell.execute_reply": "2021-09-12T19:04:03.385540Z"
    }
   },
   "outputs": [
    {
     "data": {
      "text/plain": [
       "val point : float * float = (1.75, 2.5)\n"
      ]
     },
     "execution_count": 1,
     "metadata": {},
     "output_type": "execute_result"
    }
   ],
   "source": [
    "let point = (1.75, 2.5)  (* un couple de 2 flottants *)"
   ]
  },
  {
   "cell_type": "markdown",
   "metadata": {},
   "source": [
    "OCaml nous répond que `point` est de type `float*float`, ce qui signifie un couple de 2 `float.`  \n",
    "On peut récupérer les coordonnées d'un $n$-uplet de la façon suivante :"
   ]
  },
  {
   "cell_type": "code",
   "execution_count": 2,
   "metadata": {
    "execution": {
     "iopub.execute_input": "2021-09-12T19:04:03.389148Z",
     "iopub.status.busy": "2021-09-12T19:04:03.388630Z",
     "iopub.status.idle": "2021-09-12T19:04:03.392094Z",
     "shell.execute_reply": "2021-09-12T19:04:03.391509Z"
    }
   },
   "outputs": [
    {
     "data": {
      "text/plain": [
       "val a : float = 1.75\n",
       "val b : float = 2.5\n"
      ]
     },
     "execution_count": 2,
     "metadata": {},
     "output_type": "execute_result"
    }
   ],
   "source": [
    "let (a, b) = point  (* met la 1ère coordonnée de point dans a et la 2ème dans b *)"
   ]
  },
  {
   "cell_type": "markdown",
   "metadata": {},
   "source": [
    "Dans le cas d'un couple, on peut aussi récupérer le 1er et 2ème élement avec les fonctions `fst` et `snd` :"
   ]
  },
  {
   "cell_type": "code",
   "execution_count": 3,
   "metadata": {
    "execution": {
     "iopub.execute_input": "2021-09-12T19:04:03.394200Z",
     "iopub.status.busy": "2021-09-12T19:04:03.393398Z",
     "iopub.status.idle": "2021-09-12T19:04:03.396995Z",
     "shell.execute_reply": "2021-09-12T19:04:03.396567Z"
    }
   },
   "outputs": [
    {
     "data": {
      "text/plain": [
       "- : float = 1.75\n"
      ]
     },
     "execution_count": 3,
     "metadata": {},
     "output_type": "execute_result"
    },
    {
     "data": {
      "text/plain": [
       "- : float = 2.5\n"
      ]
     },
     "execution_count": 3,
     "metadata": {},
     "output_type": "execute_result"
    }
   ],
   "source": [
    "fst point;;\n",
    "snd point;;"
   ]
  },
  {
   "cell_type": "markdown",
   "metadata": {},
   "source": [
    "**Exercice** À votre avis, quels sont les types de `fst` et `snd` ? Vérifier avec OCaml."
   ]
  },
  {
   "cell_type": "markdown",
   "metadata": {},
   "source": [
    "Les parenthèses sont en fait faculatitives autour d'un tuple : l'instruction précédente est donc équivalente à `let a, b = point`. De plus, attention à utiliser `.` et pas `,` pour des flottants, sinon on obtient un tuple :"
   ]
  },
  {
   "cell_type": "code",
   "execution_count": 4,
   "metadata": {
    "execution": {
     "iopub.execute_input": "2021-09-12T19:04:03.407242Z",
     "iopub.status.busy": "2021-09-12T19:04:03.406392Z",
     "iopub.status.idle": "2021-09-12T19:04:03.408417Z",
     "shell.execute_reply": "2021-09-12T19:04:03.406820Z"
    }
   },
   "outputs": [
    {
     "data": {
      "text/plain": [
       "- : int * int = (3, 14)\n"
      ]
     },
     "execution_count": 4,
     "metadata": {},
     "output_type": "execute_result"
    }
   ],
   "source": [
    "3,14  (* Attention : c'est un tuple et non pas un flottant *)"
   ]
  },
  {
   "cell_type": "markdown",
   "metadata": {},
   "source": [
    "Un $n$-uplets peut contenir des contenir des éléments de types différents :"
   ]
  },
  {
   "cell_type": "code",
   "execution_count": 5,
   "metadata": {
    "execution": {
     "iopub.execute_input": "2021-09-12T19:04:03.412685Z",
     "iopub.status.busy": "2021-09-12T19:04:03.411835Z",
     "iopub.status.idle": "2021-09-12T19:04:03.413927Z",
     "shell.execute_reply": "2021-09-12T19:04:03.412239Z"
    }
   },
   "outputs": [
    {
     "data": {
      "text/plain": [
       "val t : int * float * bool = (1, 2.2, true)\n"
      ]
     },
     "execution_count": 5,
     "metadata": {},
     "output_type": "execute_result"
    }
   ],
   "source": [
    "let t = (1, 2.2, true)  (* un triple contenant un entier, un flottant et un booléen *)"
   ]
  },
  {
   "cell_type": "markdown",
   "metadata": {},
   "source": [
    "Deux tuples sont égaux s'ils sont de même taille et que les composantes sont égales 2 à 2 :"
   ]
  },
  {
   "cell_type": "code",
   "execution_count": 6,
   "metadata": {
    "execution": {
     "iopub.execute_input": "2021-09-12T19:04:03.419152Z",
     "iopub.status.busy": "2021-09-12T19:04:03.418595Z",
     "iopub.status.idle": "2021-09-12T19:04:03.421417Z",
     "shell.execute_reply": "2021-09-12T19:04:03.419600Z"
    }
   },
   "outputs": [
    {
     "data": {
      "text/plain": [
       "- : bool = true\n"
      ]
     },
     "execution_count": 6,
     "metadata": {},
     "output_type": "execute_result"
    },
    {
     "data": {
      "text/plain": [
       "- : bool = false\n"
      ]
     },
     "execution_count": 6,
     "metadata": {},
     "output_type": "execute_result"
    }
   ],
   "source": [
    "(1, 2) = (1, 2);;\n",
    "(1, 2) = (1, 3);;"
   ]
  },
  {
   "cell_type": "markdown",
   "metadata": {},
   "source": [
    "**Exercice** : Écrire une fonction `mid : float*float -> float*float -> float*float` telle que, si `p` et `q` sont deux points (des couples de flottants), `mid p q` renvoie le point au milieu du segment d'extrémités `p` et `q`."
   ]
  },
  {
   "cell_type": "markdown",
   "metadata": {},
   "source": [
    "**Exercice** : On représente un nombre complexe par un couple de flottants (composé de la partie réelle et partie imaginaire).\n",
    "1. Définir $1 - 2i$ sous forme de couple.  \n",
    "2. Définir une fonction `conjugue : float*float -> float*float` renvoyant le conjugué $\\bar{z}$ d'un nombre complexe $z$.  \n",
    "3. Écrire une fonction `add` qui prend deux nombres complexes $z_1$ et $z_2$ en arguments et renvoie $z_1 + z_2$.  \n",
    "4. Écrire une fonction `mul` qui multiplie deux nombres complexes en arguments.  \n",
    "5. Écrire une fonction `div` qui divise deux nombres complexes en arguments (on utilisera la multiplication par le conjugué : $\\frac{a + ib}{c + id} = \\frac{(a + ib)(c - id)}{(c + id)(c - id)} = \\frac{ac + bd + i(bc - ad)}{c^2 - d^2}$"
   ]
  },
  {
   "cell_type": "markdown",
   "metadata": {},
   "source": [
    "# Listes"
   ]
  },
  {
   "cell_type": "markdown",
   "metadata": {},
   "source": [
    "Une liste se définie avec des crochets (`[...]`), les éléments étant séparés par des point-virgules (`;`) :"
   ]
  },
  {
   "cell_type": "code",
   "execution_count": 7,
   "metadata": {
    "execution": {
     "iopub.execute_input": "2021-09-12T19:04:03.424928Z",
     "iopub.status.busy": "2021-09-12T19:04:03.424359Z",
     "iopub.status.idle": "2021-09-12T19:04:03.426485Z",
     "shell.execute_reply": "2021-09-12T19:04:03.425383Z"
    }
   },
   "outputs": [
    {
     "data": {
      "text/plain": [
       "- : int list = [1; 7; -1]\n"
      ]
     },
     "execution_count": 7,
     "metadata": {},
     "output_type": "execute_result"
    }
   ],
   "source": [
    "[1; 7; -1]  (* liste composée de 3 entiers *)"
   ]
  },
  {
   "cell_type": "markdown",
   "metadata": {},
   "source": [
    "OCaml nous indique qu'il s'agit d'une valeur de type `int list`, c'est à dire liste d'entiers. Voici d'autres exemples de listes :"
   ]
  },
  {
   "cell_type": "code",
   "execution_count": 8,
   "metadata": {
    "execution": {
     "iopub.execute_input": "2021-09-12T19:04:03.428164Z",
     "iopub.status.busy": "2021-09-12T19:04:03.427679Z",
     "iopub.status.idle": "2021-09-12T19:04:03.432288Z",
     "shell.execute_reply": "2021-09-12T19:04:03.431880Z"
    }
   },
   "outputs": [
    {
     "data": {
      "text/plain": [
       "- : float list = [3.14; 2.718]\n"
      ]
     },
     "execution_count": 8,
     "metadata": {},
     "output_type": "execute_result"
    },
    {
     "data": {
      "text/plain": [
       "- : 'a list = []\n"
      ]
     },
     "execution_count": 8,
     "metadata": {},
     "output_type": "execute_result"
    }
   ],
   "source": [
    "[3.14; 2.718];;  (* liste de 2 flottants *)\n",
    "[];;  (* liste vide *)"
   ]
  },
  {
   "cell_type": "markdown",
   "metadata": {},
   "source": [
    "Par contre, on ne peut pas avoir plusieurs types différents dans la même liste :"
   ]
  },
  {
   "cell_type": "code",
   "execution_count": 9,
   "metadata": {
    "execution": {
     "iopub.execute_input": "2021-09-12T19:04:03.433993Z",
     "iopub.status.busy": "2021-09-12T19:04:03.433520Z",
     "iopub.status.idle": "2021-09-12T19:04:03.436023Z",
     "shell.execute_reply": "2021-09-12T19:04:03.435617Z"
    }
   },
   "outputs": [
    {
     "ename": "error",
     "evalue": "compile_error",
     "output_type": "error",
     "traceback": [
      "File \"[9]\", line 1, characters 7-8:\n1 | [3.14; 2]\n           ^\nError: This expression has type int but an expression was expected of type\n         float\n"
     ]
    }
   ],
   "source": [
    "[3.14; 2]"
   ]
  },
  {
   "cell_type": "markdown",
   "metadata": {},
   "source": [
    "L'opérateur `::` (cons) permet d'ajouter un élément au début de la liste :"
   ]
  },
  {
   "cell_type": "code",
   "execution_count": 10,
   "metadata": {
    "execution": {
     "iopub.execute_input": "2021-09-12T19:04:03.437742Z",
     "iopub.status.busy": "2021-09-12T19:04:03.437268Z",
     "iopub.status.idle": "2021-09-12T19:04:03.440186Z",
     "shell.execute_reply": "2021-09-12T19:04:03.439764Z"
    }
   },
   "outputs": [
    {
     "data": {
      "text/plain": [
       "- : int list = [1; 2; 3]\n"
      ]
     },
     "execution_count": 10,
     "metadata": {},
     "output_type": "execute_result"
    }
   ],
   "source": [
    "1::[2; 3]  (* ajoute 1 au début de la liste [2; 3] *)"
   ]
  },
  {
   "cell_type": "markdown",
   "metadata": {},
   "source": [
    "**Attention** : `::` renvoie une nouvelle liste, mais ne modifie pas celle à droite. Par exemple :"
   ]
  },
  {
   "cell_type": "code",
   "execution_count": 11,
   "metadata": {
    "execution": {
     "iopub.execute_input": "2021-09-12T19:04:03.441937Z",
     "iopub.status.busy": "2021-09-12T19:04:03.441444Z",
     "iopub.status.idle": "2021-09-12T19:04:03.446452Z",
     "shell.execute_reply": "2021-09-12T19:04:03.447431Z"
    }
   },
   "outputs": [
    {
     "data": {
      "text/plain": [
       "val l : int list = [1; 2; 3]\n"
      ]
     },
     "execution_count": 11,
     "metadata": {},
     "output_type": "execute_result"
    }
   ],
   "source": [
    "let l = [1; 2; 3];;\n",
    "0::l;;  (* donne une nouvelle liste *)\n",
    "l;;  (* l n'a pas été modifiée *)"
   ]
  },
  {
   "cell_type": "markdown",
   "metadata": {},
   "source": [
    "Si on veut ajouter un élément à une liste, il faut donc construire une nouvelle liste :"
   ]
  },
  {
   "cell_type": "code",
   "execution_count": 12,
   "metadata": {
    "execution": {
     "iopub.execute_input": "2021-09-12T19:04:03.450421Z",
     "iopub.status.busy": "2021-09-12T19:04:03.449991Z",
     "iopub.status.idle": "2021-09-12T19:04:03.452401Z",
     "shell.execute_reply": "2021-09-12T19:04:03.452004Z"
    }
   },
   "outputs": [
    {
     "data": {
      "text/plain": [
       "val l2 : int list = [0; 1; 2; 3]\n"
      ]
     },
     "execution_count": 12,
     "metadata": {},
     "output_type": "execute_result"
    }
   ],
   "source": [
    "let l2 = 0::l;;  (* l2 est une nouvelle liste obtenue à partir de l en rajoutant 0 *)"
   ]
  },
  {
   "cell_type": "markdown",
   "metadata": {},
   "source": [
    "On peut se servir de `::` pour construire une liste élément par élément, avec une fonction récursive :"
   ]
  },
  {
   "cell_type": "code",
   "execution_count": 13,
   "metadata": {
    "execution": {
     "iopub.execute_input": "2021-09-12T19:04:03.454099Z",
     "iopub.status.busy": "2021-09-12T19:04:03.453626Z",
     "iopub.status.idle": "2021-09-12T19:04:03.459590Z",
     "shell.execute_reply": "2021-09-12T19:04:03.459164Z"
    }
   },
   "outputs": [
    {
     "data": {
      "text/plain": [
       "val range : int -> int list = <fun>\n"
      ]
     },
     "execution_count": 13,
     "metadata": {},
     "output_type": "execute_result"
    },
    {
     "data": {
      "text/plain": [
       "- : int list = [5; 4; 3; 2; 1]\n"
      ]
     },
     "execution_count": 13,
     "metadata": {},
     "output_type": "execute_result"
    }
   ],
   "source": [
    "let rec range n =  (* renvoie la liste des entiers de 1 à n (à l'envers) *)\n",
    "  if n = 0 then []  (* cas de base *)\n",
    "  else n::range (n-1);;\n",
    "\n",
    "  range 5;;"
   ]
  },
  {
   "cell_type": "markdown",
   "metadata": {},
   "source": [
    "**Exercice** : Écrire une fonction `pairs : int -> int list` telle que `pairs n` renvoie la liste des entiers pairs entre $0$ et $2n$ (inclus)."
   ]
  },
  {
   "cell_type": "markdown",
   "metadata": {},
   "source": [
    "La façon classique de parcourir une liste `l` en OCaml est d'utiliser un **pattern matching**, qui consiste à regarder la forme de `l` :\n",
    "- soit `l` est vide\n",
    "- soit `l` contient un premier élément (la tête), puis le reste de la liste (la queue)\n",
    "\n",
    "Voici la syntaxe OCaml :"
   ]
  },
  {
   "cell_type": "code",
   "execution_count": 14,
   "metadata": {
    "execution": {
     "iopub.execute_input": "2021-09-12T19:04:03.461829Z",
     "iopub.status.busy": "2021-09-12T19:04:03.461330Z",
     "iopub.status.idle": "2021-09-12T19:04:03.464322Z",
     "shell.execute_reply": "2021-09-12T19:04:03.463890Z"
    }
   },
   "outputs": [
    {
     "data": {
      "text/plain": [
       "- : int = 1\n"
      ]
     },
     "execution_count": 14,
     "metadata": {},
     "output_type": "execute_result"
    }
   ],
   "source": [
    "match l with  (* l a été définie ci-dessus *)\n",
    "  | [] -> 0  (* si l est vide, on renvoie 0 *)\n",
    "  | e::q -> e  (* sinon l est de la forme e::q, on renvoie e *)"
   ]
  },
  {
   "cell_type": "markdown",
   "metadata": {},
   "source": [
    "Comme `l` est non-vide, on passe dans le 2ème cas du match et on affiche le premier élément de `l`. Essayez de mettre une liste vide à la place de `l` dans le `match` précédent pour voir la différence."
   ]
  },
  {
   "cell_type": "markdown",
   "metadata": {},
   "source": [
    "La plupart du temps, on utilise un `match` dans une fonction récursive. Voici par exemple une fonction récursive pour calculer le nombre d'éléments d'une liste :"
   ]
  },
  {
   "cell_type": "code",
   "execution_count": 15,
   "metadata": {
    "execution": {
     "iopub.execute_input": "2021-09-12T19:04:03.466488Z",
     "iopub.status.busy": "2021-09-12T19:04:03.466000Z",
     "iopub.status.idle": "2021-09-12T19:04:03.470369Z",
     "shell.execute_reply": "2021-09-12T19:04:03.469945Z"
    }
   },
   "outputs": [
    {
     "data": {
      "text/plain": [
       "val taille : 'a list -> int = <fun>\n"
      ]
     },
     "execution_count": 15,
     "metadata": {},
     "output_type": "execute_result"
    },
    {
     "data": {
      "text/plain": [
       "- : int = 3\n"
      ]
     },
     "execution_count": 15,
     "metadata": {},
     "output_type": "execute_result"
    }
   ],
   "source": [
    "let rec taille l = match l with\n",
    "  | [] -> 0  (* une liste vide est de taille 0 *)\n",
    "  | e::q -> 1 + taille q;;  (* sinon l contient e + tous les éléments de q *)\n",
    "\n",
    "taille l;;  (* vérification *)"
   ]
  },
  {
   "cell_type": "markdown",
   "metadata": {},
   "source": [
    "**Remarque** : OCaml nous dit que `taille` est de type `'a list -> int`. `'a` signifie \"n'importe quel type\". Il n'y a donc pas de contrainte sur le type des éléments de la liste `l` en argument."
   ]
  },
  {
   "cell_type": "markdown",
   "metadata": {},
   "source": [
    "**Exercice** : \n",
    "1. Écrire une fonction `somme : int list -> int` pour calculer la somme des termes d'une liste. Par exemple, `somme [4; 7; 3]` doit renvoyer $14$.\n",
    "2. Réutiliser la fonction `range` ci-dessus pour calculer la somme des entiers de $1$ à $n$."
   ]
  },
  {
   "cell_type": "markdown",
   "metadata": {},
   "source": [
    "**Exercice** : Écrire une fonction `maximum` permettant de renvoyer le plus grand élément d'une liste d'entiers."
   ]
  },
  {
   "cell_type": "markdown",
   "metadata": {},
   "source": [
    "# Array"
   ]
  },
  {
   "cell_type": "code",
   "execution_count": 16,
   "metadata": {
    "execution": {
     "iopub.execute_input": "2021-09-12T19:04:03.472159Z",
     "iopub.status.busy": "2021-09-12T19:04:03.471716Z",
     "iopub.status.idle": "2021-09-12T19:04:03.473879Z",
     "shell.execute_reply": "2021-09-12T19:04:03.474239Z"
    }
   },
   "outputs": [
    {
     "data": {
      "text/plain": [
       "val a : int array = [|1; 2; 3|]\n"
      ]
     },
     "execution_count": 16,
     "metadata": {},
     "output_type": "execute_result"
    }
   ],
   "source": [
    "let a = [|1; 2; 3|]"
   ]
  },
  {
   "cell_type": "code",
   "execution_count": 17,
   "metadata": {
    "execution": {
     "iopub.execute_input": "2021-09-12T19:04:03.475934Z",
     "iopub.status.busy": "2021-09-12T19:04:03.475433Z",
     "iopub.status.idle": "2021-09-12T19:04:03.478328Z",
     "shell.execute_reply": "2021-09-12T19:04:03.478690Z"
    }
   },
   "outputs": [
    {
     "data": {
      "text/plain": [
       "- : int = 3\n"
      ]
     },
     "execution_count": 17,
     "metadata": {},
     "output_type": "execute_result"
    }
   ],
   "source": [
    "Array.length a"
   ]
  },
  {
   "cell_type": "markdown",
   "metadata": {},
   "source": [
    "# String"
   ]
  },
  {
   "cell_type": "code",
   "execution_count": 18,
   "metadata": {
    "execution": {
     "iopub.execute_input": "2021-09-12T19:04:03.480387Z",
     "iopub.status.busy": "2021-09-12T19:04:03.479884Z",
     "iopub.status.idle": "2021-09-12T19:04:03.481883Z",
     "shell.execute_reply": "2021-09-12T19:04:03.482281Z"
    }
   },
   "outputs": [
    {
     "data": {
      "text/plain": [
       "val s : string = \"Hello\"\n"
      ]
     },
     "execution_count": 18,
     "metadata": {},
     "output_type": "execute_result"
    }
   ],
   "source": [
    "let s = \"Hello\";"
   ]
  },
  {
   "cell_type": "code",
   "execution_count": 19,
   "metadata": {
    "execution": {
     "iopub.execute_input": "2021-09-12T19:04:03.483888Z",
     "iopub.status.busy": "2021-09-12T19:04:03.483413Z",
     "iopub.status.idle": "2021-09-12T19:04:03.487321Z",
     "shell.execute_reply": "2021-09-12T19:04:03.486842Z"
    }
   },
   "outputs": [
    {
     "data": {
      "text/plain": [
       "- : int = 5\n"
      ]
     },
     "execution_count": 19,
     "metadata": {},
     "output_type": "execute_result"
    }
   ],
   "source": [
    "String.length s"
   ]
  }
 ],
 "metadata": {
  "interpreter": {
   "hash": "e8ada90d8a4953add78c43ca2aaed97b05f90e5c9cd24e11fb017c04e906ecda"
  },
  "kernelspec": {
   "display_name": "OCaml default",
   "language": "OCaml",
   "name": "ocaml-jupyter"
  },
  "language_info": {
   "codemirror_mode": "text/x-ocaml",
   "file_extension": ".ml",
   "mimetype": "text/x-ocaml",
   "name": "OCaml",
   "nbconverter_exporter": null,
   "pygments_lexer": "OCaml",
   "version": "4.08.1"
  },
  "title": "Structures de données de base"
 },
 "nbformat": 4,
 "nbformat_minor": 4
}

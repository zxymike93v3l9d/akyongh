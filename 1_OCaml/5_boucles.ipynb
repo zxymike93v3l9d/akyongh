{
 "cells": [
  {
   "cell_type": "markdown",
   "id": "9bb82308-e837-44ec-a407-4ae91eccb90d",
   "metadata": {},
   "source": [
    "Comme en Python, OCaml a deux boucles permettants de répéter des instructions : `for` et `while`."
   ]
  },
  {
   "cell_type": "markdown",
   "id": "c8480667-a0cd-4e80-9359-47a2ea36fef6",
   "metadata": {},
   "source": [
    "# Boucle for\n",
    "\n",
    "Pour répéter `instructions` pour des valeurs de `i` allant de `a` à `b` **inclus** (contrairement à Python) :\n",
    "```ocaml\n",
    "for i=a to b do\n",
    "    instructions\n",
    "done\n",
    "```"
   ]
  },
  {
   "cell_type": "code",
   "execution_count": 1,
   "id": "b318dc04-cf55-47e9-9227-1869d2e8f12d",
   "metadata": {
    "execution": {
     "iopub.execute_input": "2021-08-14T20:10:37.723017Z",
     "iopub.status.busy": "2021-08-14T20:10:37.722569Z",
     "iopub.status.idle": "2021-08-14T20:10:37.724962Z",
     "shell.execute_reply": "2021-08-14T20:10:37.724499Z"
    }
   },
   "outputs": [
    {
     "name": "stdout",
     "output_type": "stream",
     "text": [
      "012345\n"
     ]
    },
    {
     "data": {
      "text/plain": [
       "- : unit = ()\n"
      ]
     },
     "execution_count": 1,
     "metadata": {},
     "output_type": "execute_result"
    }
   ],
   "source": [
    "for i=0 to 5 do\n",
    "    print_int i\n",
    "done;\n",
    "print_newline()"
   ]
  },
  {
   "cell_type": "markdown",
   "id": "b37c0d58-d682-4b9a-8014-fb0a8b858cd1",
   "metadata": {
    "tags": []
   },
   "source": [
    "**Exercice** : Combien de fois est répété `for i=a to b do ...`? (c'est-à-dire : combien y a t-il d'entiers de $a$ à $b$ inclus?)"
   ]
  },
  {
   "cell_type": "markdown",
   "id": "86c7d42c-fbd4-4c1e-b256-7f23b4cb1ca8",
   "metadata": {},
   "source": [
    "**Exercice** : Écrire une fonction pour calculer la somme des carrés des $n$ premiers entiers en utilisant un `for`, puis une fonction récursive."
   ]
  },
  {
   "cell_type": "markdown",
   "id": "c14b9b96-86ec-48cd-954d-cd5e04d77439",
   "metadata": {},
   "source": [
    "Comme on le voit sur l'exercice précédent, il est général plus clair et concis d'écrire une fonction récursive en OCaml. De manière générale, il ne faut pas abuser des références et boucles et s'entraîner à penser et écrire récursivement."
   ]
  },
  {
   "cell_type": "markdown",
   "id": "b4df2649-252f-4b70-ab68-8448b19589f7",
   "metadata": {},
   "source": [
    "Une variante de la boucle `for` avec `downto` permet d'énumérer \"à l'envers\" :"
   ]
  },
  {
   "cell_type": "code",
   "execution_count": 2,
   "id": "3151f681-4a39-40cb-bcd0-2e85a64b0a20",
   "metadata": {
    "execution": {
     "iopub.execute_input": "2021-08-14T20:10:37.727340Z",
     "iopub.status.busy": "2021-08-14T20:10:37.726936Z",
     "iopub.status.idle": "2021-08-14T20:10:37.729328Z",
     "shell.execute_reply": "2021-08-14T20:10:37.729024Z"
    }
   },
   "outputs": [
    {
     "name": "stdout",
     "output_type": "stream",
     "text": [
      "543210\n"
     ]
    },
    {
     "data": {
      "text/plain": [
       "- : unit = ()\n"
      ]
     },
     "execution_count": 2,
     "metadata": {},
     "output_type": "execute_result"
    }
   ],
   "source": [
    "for i=5 downto 0 do\n",
    "    print_int i\n",
    "done;\n",
    "print_newline()"
   ]
  },
  {
   "cell_type": "markdown",
   "id": "bd77fa8b-662f-468b-b223-ae17be3f2ec5",
   "metadata": {},
   "source": [
    "# Boucle while\n",
    "\n",
    "Pour répéter `instructions` tant que `condition` est vraie :\n",
    "```ocaml\n",
    "while condition do\n",
    "    instructions\n",
    "done\n",
    "```"
   ]
  },
  {
   "cell_type": "markdown",
   "id": "e85f2a65-bc6c-48cf-92c0-47f2f02cc431",
   "metadata": {},
   "source": [
    "En guise d'illustration, considérons l'algorithme d'Euclide pour le calcul du PGCD de deux entiers $a$ et $b$. Cet algorithme consiste à répéter les opérations suivantes tant que $b \\neq 0$ :\n",
    "- Calculer le reste $r$ de la division euclidienne de $a$ par $b$.\n",
    "- Remplacer $a$ par $b$ et $b$ par $r$.\n",
    "\n",
    "Quand $b = 0$, on peut montrer que la valeur de $a$ est le PGCD de $a$ et $b$.\n",
    "\n",
    "Voici le code OCaml correspondant avec une boucle `while` :"
   ]
  },
  {
   "cell_type": "code",
   "execution_count": 3,
   "id": "3c493503-caa8-46c5-a4c3-e43019d0ef92",
   "metadata": {
    "execution": {
     "iopub.execute_input": "2021-08-14T20:10:37.730869Z",
     "iopub.status.busy": "2021-08-14T20:10:37.730548Z",
     "iopub.status.idle": "2021-08-14T20:10:37.735440Z",
     "shell.execute_reply": "2021-08-14T20:10:37.735155Z"
    }
   },
   "outputs": [
    {
     "data": {
      "text/plain": [
       "val pgcd : int -> int -> int = <fun>\n"
      ]
     },
     "execution_count": 3,
     "metadata": {},
     "output_type": "execute_result"
    },
    {
     "data": {
      "text/plain": [
       "- : int = 6\n"
      ]
     },
     "execution_count": 3,
     "metadata": {},
     "output_type": "execute_result"
    }
   ],
   "source": [
    "let pgcd a b =\n",
    "    let q = ref a in\n",
    "    let r = ref b in\n",
    "    while !r <> 0 do\n",
    "        let tmp = !q in (* on a besoin de l'ancienne valeur de q pour calculer le nouveau r *)\n",
    "        q := !r;\n",
    "        r := tmp mod !r\n",
    "    done;\n",
    "    !q;;\n",
    "    \n",
    "pgcd 30 12;;"
   ]
  },
  {
   "cell_type": "markdown",
   "id": "03f3f539-62b3-469f-bc50-faf08294ac69",
   "metadata": {},
   "source": [
    "Voici ce que cela donnerait avec une fonction récursive (encore une fois c'est beaucoup plus simple en récursif!) :"
   ]
  },
  {
   "cell_type": "code",
   "execution_count": 4,
   "id": "a290bd15-6f3c-4b6c-8e2c-bffb1d4991c1",
   "metadata": {
    "execution": {
     "iopub.execute_input": "2021-08-14T20:10:37.736884Z",
     "iopub.status.busy": "2021-08-14T20:10:37.736567Z",
     "iopub.status.idle": "2021-08-14T20:10:37.739140Z",
     "shell.execute_reply": "2021-08-14T20:10:37.738846Z"
    }
   },
   "outputs": [
    {
     "data": {
      "text/plain": [
       "val pgcd : int -> int -> int = <fun>\n"
      ]
     },
     "execution_count": 4,
     "metadata": {},
     "output_type": "execute_result"
    },
    {
     "data": {
      "text/plain": [
       "- : int = 6\n"
      ]
     },
     "execution_count": 4,
     "metadata": {},
     "output_type": "execute_result"
    }
   ],
   "source": [
    "let rec pgcd a b =\n",
    "    if b = 0 then a\n",
    "    else pgcd b (a mod b);;\n",
    "\n",
    "pgcd 30 12;;"
   ]
  },
  {
   "cell_type": "markdown",
   "id": "c721e0de-82ae-4da2-9ca4-cba1caa9cf7b",
   "metadata": {},
   "source": [
    "**Exercice**  \n",
    "Soit $a \\in \\mathbb{N}$. La suite de Syracuse est définie par $s_0 = a$ et\n",
    "$$s_{n+1} =\n",
    "\\begin{cases} \n",
    "     \\frac{s_n}{2}, \\text{si } n \\text{ est pair}\\\\\n",
    "    3s_n + 1, \\text{sinon}\\\\\n",
    "\\end{cases}$$\n",
    "Écrire une fonction `temps_vol` ayant $a$ en argument et renvoyant le premier indice $n$ tel que $s_0 = a$ et $s_n = 0$."
   ]
  },
  {
   "cell_type": "code",
   "execution_count": 5,
   "id": "303d087c-f11e-45db-bc27-324569320d6d",
   "metadata": {
    "execution": {
     "iopub.execute_input": "2021-08-14T20:10:37.741506Z",
     "iopub.status.busy": "2021-08-14T20:10:37.740799Z",
     "iopub.status.idle": "2021-08-14T20:10:37.747368Z",
     "shell.execute_reply": "2021-08-14T20:10:37.746826Z"
    }
   },
   "outputs": [
    {
     "data": {
      "text/plain": [
       "- : int = 6\n"
      ]
     },
     "execution_count": 5,
     "metadata": {},
     "output_type": "execute_result"
    }
   ],
   "source": [
    "let temps_vol a = \n",
    "    let t = ref 0 in\n",
    "    let s = ref a in\n",
    "    while !s <> 1 do\n",
    "        incr t;\n",
    "        s := if !s mod 2 = 0 then !s/2 else 3* !s + 1\n",
    "    done;\n",
    "    !t in\n",
    "temps_vol 10"
   ]
  },
  {
   "cell_type": "code",
   "execution_count": null,
   "id": "cfa46f4f-2ae2-4137-a4fe-0413e19ef636",
   "metadata": {},
   "outputs": [],
   "source": []
  }
 ],
 "metadata": {
  "kernelspec": {
   "display_name": "OCaml default",
   "language": "OCaml",
   "name": "ocaml-jupyter"
  },
  "language_info": {
   "codemirror_mode": "text/x-ocaml",
   "file_extension": ".ml",
   "mimetype": "text/x-ocaml",
   "name": "OCaml",
   "nbconverter_exporter": null,
   "pygments_lexer": "OCaml",
   "version": "4.12.0"
  }
 },
 "nbformat": 4,
 "nbformat_minor": 5
}

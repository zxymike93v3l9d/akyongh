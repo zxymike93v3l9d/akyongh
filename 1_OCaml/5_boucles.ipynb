{
 "cells": [
  {
   "cell_type": "markdown",
   "id": "ad8137d3",
   "metadata": {},
   "source": [
    "# Boucles\n",
    "\n",
    "Comme en Python, OCaml a deux boucles permettants de répéter des instructions : `for` et `while`.\n",
    "\n",
    "## Boucle for\n",
    "\n",
    "Pour répéter `instructions` pour des valeurs de `i` allant de `a` à `b` **inclus** (contrairement à Python) :\n",
    "```ocaml\n",
    "for i=a to b do\n",
    "    instructions\n",
    "done\n",
    "```"
   ]
  },
  {
   "cell_type": "code",
   "execution_count": 1,
   "id": "9a2edfca",
   "metadata": {
    "execution": {
     "iopub.execute_input": "2021-09-15T12:18:11.727143Z",
     "iopub.status.busy": "2021-09-15T12:18:11.726577Z",
     "iopub.status.idle": "2021-09-15T12:18:11.729913Z",
     "shell.execute_reply": "2021-09-15T12:18:11.729403Z"
    }
   },
   "outputs": [
    {
     "name": "stdout",
     "output_type": "stream",
     "text": [
      "012345\n"
     ]
    },
    {
     "data": {
      "text/plain": [
       "- : unit = ()\n"
      ]
     },
     "execution_count": 1,
     "metadata": {},
     "output_type": "execute_result"
    }
   ],
   "source": [
    "for i=0 to 5 do\n",
    "    print_int i\n",
    "done;\n",
    "print_newline()"
   ]
  },
  {
   "cell_type": "markdown",
   "id": "417f32d0",
   "metadata": {
    "tags": []
   },
   "source": [
    "**Exercice** : Combien de fois est répété `for i=a to b do ...`? (c'est-à-dire : combien y a t-il d'entiers de $a$ à $b$ inclus?)"
   ]
  },
  {
   "cell_type": "markdown",
   "id": "e63e882c",
   "metadata": {},
   "source": [
    "**Exercice** : Écrire une fonction pour calculer la somme des carrés des $n$ premiers entiers en utilisant un `for`, puis une fonction récursive."
   ]
  },
  {
   "cell_type": "markdown",
   "id": "8ead3ccd",
   "metadata": {},
   "source": [
    "Comme on le voit sur l'exercice précédent, il est en général plus clair et concis d'écrire une fonction récursive en OCaml. De manière générale, il ne faut pas abuser des références et boucles et s'entraîner à penser et écrire récursivement."
   ]
  },
  {
   "cell_type": "markdown",
   "id": "98a36d1c",
   "metadata": {},
   "source": [
    "Une variante de la boucle `for` avec `downto` permet d'énumérer \"à l'envers\" :"
   ]
  },
  {
   "cell_type": "code",
   "execution_count": 2,
   "id": "7be17793",
   "metadata": {
    "execution": {
     "iopub.execute_input": "2021-09-15T12:18:11.733807Z",
     "iopub.status.busy": "2021-09-15T12:18:11.731256Z",
     "iopub.status.idle": "2021-09-15T12:18:11.737134Z",
     "shell.execute_reply": "2021-09-15T12:18:11.736647Z"
    }
   },
   "outputs": [
    {
     "name": "stdout",
     "output_type": "stream",
     "text": [
      "543210\n"
     ]
    },
    {
     "data": {
      "text/plain": [
       "- : unit = ()\n"
      ]
     },
     "execution_count": 2,
     "metadata": {},
     "output_type": "execute_result"
    }
   ],
   "source": [
    "for i=5 downto 0 do\n",
    "    print_int i\n",
    "done;\n",
    "print_newline()"
   ]
  },
  {
   "cell_type": "markdown",
   "id": "f814f7c2",
   "metadata": {},
   "source": [
    "## Boucle while\n",
    "\n",
    "Pour répéter `instructions` tant que `condition` est vraie :\n",
    "```ocaml\n",
    "while condition do\n",
    "    instructions\n",
    "done\n",
    "```"
   ]
  },
  {
   "cell_type": "markdown",
   "id": "0984b797",
   "metadata": {},
   "source": [
    "En guise d'illustration, considérons l'algorithme d'Euclide pour le calcul du PGCD de deux entiers $a$ et $b$. Cet algorithme consiste à répéter les opérations suivantes tant que $b \\neq 0$ :\n",
    "- Calculer le reste $r$ de la division euclidienne de $a$ par $b$.\n",
    "- Remplacer $a$ par $b$ et $b$ par $r$.\n",
    "\n",
    "Quand $b = 0$, on peut montrer que la valeur de $a$ est le PGCD de $a$ et $b$.\n",
    "\n",
    "Voici le code OCaml correspondant avec une boucle `while` :"
   ]
  },
  {
   "cell_type": "code",
   "execution_count": 3,
   "id": "04b14671",
   "metadata": {
    "execution": {
     "iopub.execute_input": "2021-09-15T12:18:11.739085Z",
     "iopub.status.busy": "2021-09-15T12:18:11.738544Z",
     "iopub.status.idle": "2021-09-15T12:18:11.744022Z",
     "shell.execute_reply": "2021-09-15T12:18:11.744459Z"
    }
   },
   "outputs": [
    {
     "data": {
      "text/plain": [
       "val pgcd : int -> int -> int = <fun>\n"
      ]
     },
     "execution_count": 3,
     "metadata": {},
     "output_type": "execute_result"
    },
    {
     "data": {
      "text/plain": [
       "- : int = 6\n"
      ]
     },
     "execution_count": 3,
     "metadata": {},
     "output_type": "execute_result"
    }
   ],
   "source": [
    "let pgcd a b =\n",
    "    let q = ref a in\n",
    "    let r = ref b in\n",
    "    while !r <> 0 do\n",
    "        let reste = !q mod !r in\n",
    "        q := !r;\n",
    "        r := reste\n",
    "    done;\n",
    "    !q;;\n",
    "\n",
    "pgcd 30 12;;"
   ]
  },
  {
   "cell_type": "markdown",
   "id": "557a5b45",
   "metadata": {},
   "source": [
    "Voici ce que cela donnerait avec une fonction récursive (encore une fois c'est beaucoup plus simple en récursif!) :"
   ]
  },
  {
   "cell_type": "code",
   "execution_count": 4,
   "id": "d82f27a4",
   "metadata": {
    "execution": {
     "iopub.execute_input": "2021-09-15T12:18:11.746440Z",
     "iopub.status.busy": "2021-09-15T12:18:11.745903Z",
     "iopub.status.idle": "2021-09-15T12:18:11.751167Z",
     "shell.execute_reply": "2021-09-15T12:18:11.750167Z"
    }
   },
   "outputs": [
    {
     "data": {
      "text/plain": [
       "val pgcd : int -> int -> int = <fun>\n"
      ]
     },
     "execution_count": 4,
     "metadata": {},
     "output_type": "execute_result"
    },
    {
     "data": {
      "text/plain": [
       "- : int = 6\n"
      ]
     },
     "execution_count": 4,
     "metadata": {},
     "output_type": "execute_result"
    }
   ],
   "source": [
    "let rec pgcd a b =\n",
    "    if b = 0 then a\n",
    "    else pgcd b (a mod b);;\n",
    "\n",
    "pgcd 30 12;;"
   ]
  },
  {
   "cell_type": "markdown",
   "id": "0a147432",
   "metadata": {},
   "source": [
    "**Exercice**  \n",
    "Soit $a \\in \\mathbb{N}$. La suite de Syracuse est définie par $s_0 = a$ et\n",
    "$$s_{n+1} =\n",
    "\\begin{cases} \n",
    "     \\frac{s_n}{2}, \\text{si } n \\text{ est pair}\\\\\n",
    "    3s_n + 1, \\text{sinon}\\\\\n",
    "\\end{cases}$$\n",
    "Écrire une fonction `temps_vol` ayant $a$ en argument et renvoyant le premier indice $n$ tel que $s_0 = a$ et $s_n = 0$."
   ]
  },
  {
   "cell_type": "markdown",
   "id": "9521941a",
   "metadata": {},
   "source": [
    "**Exercice (TP 2)** : l'écrire en récursif"
   ]
  },
  {
   "cell_type": "markdown",
   "id": "48b8115d",
   "metadata": {},
   "source": [
    "## Exceptions\n",
    "\n",
    "Les exceptions sont déclenchées lorsque le programme rencontre un problème :"
   ]
  },
  {
   "cell_type": "code",
   "execution_count": 5,
   "id": "4a49677f",
   "metadata": {
    "execution": {
     "iopub.execute_input": "2021-09-15T12:18:11.753034Z",
     "iopub.status.busy": "2021-09-15T12:18:11.752504Z",
     "iopub.status.idle": "2021-09-15T12:18:12.064623Z",
     "shell.execute_reply": "2021-09-15T12:18:12.065292Z"
    }
   },
   "outputs": [
    {
     "ename": "error",
     "evalue": "runtime_error",
     "output_type": "error",
     "traceback": [
      "\u001b[31mException: Division_by_zero.\nRaised by primitive operation at unknown location\nCalled from file \"toplevel/toploop.ml\", line 208, characters 17-27\n\u001b[0m"
     ]
    }
   ],
   "source": [
    "1/0"
   ]
  },
  {
   "cell_type": "markdown",
   "id": "b9093a6a",
   "metadata": {},
   "source": [
    "L'exception ci-dessus est `Division_by_zero`, déclenchée lorsque l'on divise par 0.  \n",
    "Il est possible de spécifier le comportement à adopter lors d'une exception :"
   ]
  },
  {
   "cell_type": "code",
   "execution_count": 6,
   "id": "23aba215",
   "metadata": {
    "execution": {
     "iopub.execute_input": "2021-09-15T12:18:12.067460Z",
     "iopub.status.busy": "2021-09-15T12:18:12.066898Z",
     "iopub.status.idle": "2021-09-15T12:18:12.068803Z",
     "shell.execute_reply": "2021-09-15T12:18:12.069329Z"
    }
   },
   "outputs": [
    {
     "data": {
      "text/plain": [
       "- : int = 0\n"
      ]
     },
     "execution_count": 6,
     "metadata": {},
     "output_type": "execute_result"
    }
   ],
   "source": [
    "try 1/0\n",
    "with Division_by_zero -> 0"
   ]
  },
  {
   "cell_type": "markdown",
   "id": "641c5429",
   "metadata": {},
   "source": [
    "OCaml exécute l'instruction dans le `try` (`1/0` ici).  \n",
    "Si cette instruction ne déclenche pas l'exception `Division_by_zero`, la valeur de l'instruction est renvoyée.  \n",
    "Sinon, C'est l'instruction dans le `with` qui est exécutée et renvoyée."
   ]
  },
  {
   "cell_type": "markdown",
   "id": "a78b2089",
   "metadata": {},
   "source": [
    "**Exercice** Écrire une fonction `quotient : int -> int -> int` qui renvoie le quotient `a / b` si `b` est non-nul, et `max_int` sinon."
   ]
  },
  {
   "cell_type": "markdown",
   "id": "aa3f0333",
   "metadata": {},
   "source": [
    "Un autre exemple : `assert` est une fonction qui vérifie que son argument est `true` et déclenche une exception si ce n'est pas le cas. Ceci peut servir à mettre des tests dans le code."
   ]
  },
  {
   "cell_type": "code",
   "execution_count": 7,
   "id": "29d66573",
   "metadata": {
    "execution": {
     "iopub.execute_input": "2021-09-15T12:18:12.071410Z",
     "iopub.status.busy": "2021-09-15T12:18:12.070875Z",
     "iopub.status.idle": "2021-09-15T12:18:12.073878Z",
     "shell.execute_reply": "2021-09-15T12:18:12.073361Z"
    }
   },
   "outputs": [
    {
     "ename": "error",
     "evalue": "runtime_error",
     "output_type": "error",
     "traceback": [
      "\u001b[31mException: Assert_failure (\"[7]\", 1, 0).\nCalled from file \"toplevel/toploop.ml\", line 208, characters 17-27\n\u001b[0m"
     ]
    }
   ],
   "source": [
    "assert (1 = 2)"
   ]
  },
  {
   "cell_type": "markdown",
   "id": "ddaabaca",
   "metadata": {},
   "source": [
    "Il est possible de définir sa propre exception :"
   ]
  },
  {
   "cell_type": "code",
   "execution_count": 8,
   "id": "d68d5041",
   "metadata": {
    "execution": {
     "iopub.execute_input": "2021-09-15T12:18:12.075865Z",
     "iopub.status.busy": "2021-09-15T12:18:12.075352Z",
     "iopub.status.idle": "2021-09-15T12:18:12.082067Z",
     "shell.execute_reply": "2021-09-15T12:18:12.080356Z"
    }
   },
   "outputs": [
    {
     "data": {
      "text/plain": [
       "exception Overflow\n"
      ]
     },
     "execution_count": 8,
     "metadata": {},
     "output_type": "execute_result"
    },
    {
     "data": {
      "text/plain": [
       "val add1 : int -> int = <fun>\n"
      ]
     },
     "execution_count": 8,
     "metadata": {},
     "output_type": "execute_result"
    },
    {
     "data": {
      "text/plain": [
       "- : int = 43\n"
      ]
     },
     "execution_count": 8,
     "metadata": {},
     "output_type": "execute_result"
    },
    {
     "ename": "error",
     "evalue": "runtime_error",
     "output_type": "error",
     "traceback": [
      "\u001b[31mException: Overflow.\nRaised at file \"[8]\", line 4, characters 30-38\nCalled from file \"toplevel/toploop.ml\", line 208, characters 17-27\n\u001b[0m"
     ]
    }
   ],
   "source": [
    "exception Overflow;;  (* définition d'une exception Overflow qui affiche une chaîne de caractères *) \n",
    "\n",
    "let add1 n =\n",
    "    if n = max_int then raise Overflow (* pour éviter un dépassement d'entier ù) *)\n",
    "    else n + 1;;\n",
    "\n",
    "add1 42;;\n",
    "add1 max_int;;"
   ]
  },
  {
   "cell_type": "markdown",
   "id": "0819299c",
   "metadata": {},
   "source": [
    "Les exceptions peuvent aussi permettre de sortir d'une boucle (comme un `break` de Python). Même si c'est plutôt considéré comme une mauvaise pratique de programmation (car peut rendre le code plus compliqué), il y a certains cas où c'est justifié."
   ]
  },
  {
   "cell_type": "markdown",
   "id": "b833217c",
   "metadata": {},
   "source": [
    "**Exercice** : en utilisant une exception, écrire une fonction premier qui s'arrête dès qu'on a trouvé un diviseur."
   ]
  }
 ],
 "metadata": {
  "kernelspec": {
   "display_name": "OCaml default",
   "language": "OCaml",
   "name": "ocaml-jupyter"
  },
  "language_info": {
   "codemirror_mode": "text/x-ocaml",
   "file_extension": ".ml",
   "mimetype": "text/x-ocaml",
   "name": "OCaml",
   "nbconverter_exporter": null,
   "pygments_lexer": "OCaml",
   "version": "4.08.1"
  },
  "title": "Boucles"
 },
 "nbformat": 4,
 "nbformat_minor": 5
}

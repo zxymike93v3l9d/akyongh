{
 "cells": [
  {
   "cell_type": "markdown",
   "metadata": {},
   "source": [
    "# Types construits\n",
    "\n",
    "En OCaml, on peut définir nos propres types.\n",
    "\n",
    "## Type somme (variant)\n",
    "\n",
    "On peut définir un **type somme (variant)** en énumérant tous les cas possibles pour avoir ce type. Ceci revient à prendre l'union de plusieurs types. Chaque cas doit être identifié par un nom appelé **constructeur**, qui doit commencer par une majuscule (il est interdit de commencer un nom de variable avec une majuscule, pour ne pas confondre) :"
   ]
  },
  {
   "cell_type": "code",
   "execution_count": 1,
   "metadata": {
    "execution": {
     "iopub.execute_input": "2021-10-26T20:10:57.791047Z",
     "iopub.status.busy": "2021-10-26T20:10:57.790211Z",
     "iopub.status.idle": "2021-10-26T20:10:57.794033Z",
     "shell.execute_reply": "2021-10-26T20:10:57.791554Z"
    }
   },
   "outputs": [
    {
     "data": {
      "text/plain": [
       "type matiere = Math | Physique | Info\n"
      ]
     },
     "execution_count": 1,
     "metadata": {},
     "output_type": "execute_result"
    }
   ],
   "source": [
    "type matiere = Math | Physique | Info"
   ]
  },
  {
   "cell_type": "markdown",
   "metadata": {},
   "source": [
    "On vient de définir un **type** `matiere` qui contient trois **valeurs** Math, Physique, Info."
   ]
  },
  {
   "cell_type": "code",
   "execution_count": 2,
   "metadata": {
    "execution": {
     "iopub.execute_input": "2021-10-26T20:10:57.796137Z",
     "iopub.status.busy": "2021-10-26T20:10:57.795573Z",
     "iopub.status.idle": "2021-10-26T20:10:57.801171Z",
     "shell.execute_reply": "2021-10-26T20:10:57.801613Z"
    }
   },
   "outputs": [
    {
     "data": {
      "text/plain": [
       "- : matiere = Math\n"
      ]
     },
     "execution_count": 2,
     "metadata": {},
     "output_type": "execute_result"
    },
    {
     "data": {
      "text/plain": [
       "val a : matiere = Info\n"
      ]
     },
     "execution_count": 2,
     "metadata": {},
     "output_type": "execute_result"
    }
   ],
   "source": [
    "Math;;  (* c'est une valeur de type matiere *)\n",
    "let a = Info;; (* qu'on peut stocker dans une variable *)"
   ]
  },
  {
   "cell_type": "markdown",
   "metadata": {},
   "source": [
    "Pour traiter une variable de ce type, on utilise un `match` :"
   ]
  },
  {
   "cell_type": "code",
   "execution_count": 3,
   "metadata": {
    "execution": {
     "iopub.execute_input": "2021-10-26T20:10:57.803849Z",
     "iopub.status.busy": "2021-10-26T20:10:57.803136Z",
     "iopub.status.idle": "2021-10-26T20:10:57.807513Z",
     "shell.execute_reply": "2021-10-26T20:10:57.807066Z"
    }
   },
   "outputs": [
    {
     "data": {
      "text/plain": [
       "val heures : matiere -> float = <fun>\n"
      ]
     },
     "execution_count": 3,
     "metadata": {},
     "output_type": "execute_result"
    },
    {
     "data": {
      "text/plain": [
       "- : float = 4.\n"
      ]
     },
     "execution_count": 3,
     "metadata": {},
     "output_type": "execute_result"
    }
   ],
   "source": [
    "let heures m = match m with\n",
    "  | Math -> 12.\n",
    "  | Physique -> 6.5\n",
    "  | Info -> 4.;;\n",
    "heures Info"
   ]
  },
  {
   "cell_type": "markdown",
   "metadata": {},
   "source": [
    "Les constructeurs utilisés ci-dessus sont des constantes, mais il est possible d'ajouter un paramètre avec `of ...` :"
   ]
  },
  {
   "cell_type": "code",
   "execution_count": 4,
   "metadata": {
    "execution": {
     "iopub.execute_input": "2021-10-26T20:10:57.809611Z",
     "iopub.status.busy": "2021-10-26T20:10:57.809029Z",
     "iopub.status.idle": "2021-10-26T20:10:57.811163Z",
     "shell.execute_reply": "2021-10-26T20:10:57.811597Z"
    }
   },
   "outputs": [
    {
     "data": {
      "text/plain": [
       "type zbarre = Infini | MoinsInfini | Entier of int\n"
      ]
     },
     "execution_count": 4,
     "metadata": {},
     "output_type": "execute_result"
    }
   ],
   "source": [
    "type zbarre = Infini | MoinsInfini | Entier of int"
   ]
  },
  {
   "cell_type": "markdown",
   "metadata": {},
   "source": [
    "Dans cet exemple, `zbarre` est censé représenter $\\overline{\\mathbb{Z}} = \\mathbb{Z} \\cup \\{-\\infty, \\infty\\}$. `Entier` est un constructeur qui dépend d'un paramètre entier. Pour obtenir une valeur à partir du constructeur `Entier`, on l'utilise comme une fonction :"
   ]
  },
  {
   "cell_type": "code",
   "execution_count": 5,
   "metadata": {
    "execution": {
     "iopub.execute_input": "2021-10-26T20:10:57.813470Z",
     "iopub.status.busy": "2021-10-26T20:10:57.812946Z",
     "iopub.status.idle": "2021-10-26T20:10:57.815174Z",
     "shell.execute_reply": "2021-10-26T20:10:57.815618Z"
    }
   },
   "outputs": [
    {
     "data": {
      "text/plain": [
       "- : zbarre = Entier 10\n"
      ]
     },
     "execution_count": 5,
     "metadata": {},
     "output_type": "execute_result"
    }
   ],
   "source": [
    "Entier 10  (* valeur de type zbarre *)"
   ]
  },
  {
   "cell_type": "markdown",
   "metadata": {},
   "source": [
    "Écrivons une fonction pour augmenter une valeur de type `zbarre` de 1 :"
   ]
  },
  {
   "cell_type": "code",
   "execution_count": 6,
   "metadata": {
    "execution": {
     "iopub.execute_input": "2021-10-26T20:10:57.817713Z",
     "iopub.status.busy": "2021-10-26T20:10:57.817077Z",
     "iopub.status.idle": "2021-10-26T20:10:57.822826Z",
     "shell.execute_reply": "2021-10-26T20:10:57.822372Z"
    }
   },
   "outputs": [
    {
     "data": {
      "text/plain": [
       "val add1 : zbarre -> zbarre = <fun>\n"
      ]
     },
     "execution_count": 6,
     "metadata": {},
     "output_type": "execute_result"
    },
    {
     "data": {
      "text/plain": [
       "- : zbarre = Entier 11\n"
      ]
     },
     "execution_count": 6,
     "metadata": {},
     "output_type": "execute_result"
    }
   ],
   "source": [
    "let add1 n = match n with\n",
    "  | Infini -> Infini    \n",
    "  | MoinsInfini -> MoinsInfini\n",
    "  | Entier i -> Entier (i + 1);;\n",
    "\n",
    "add1 (Entier 10);;\n",
    "add1 Infini"
   ]
  },
  {
   "cell_type": "markdown",
   "metadata": {},
   "source": [
    "Écrivons une fonction pour additionner deux valeurs de type `zbarre`. Pour pouvoir utiliser un opérateur infixe, on peut définir `(+!)` ([liste de tous les symboles autorisés comme opérateur infixe](https://caml.inria.fr/pub/docs/manual-caml-light/node4.9.html)):"
   ]
  },
  {
   "cell_type": "code",
   "execution_count": 7,
   "metadata": {
    "execution": {
     "iopub.execute_input": "2021-10-26T20:10:57.825227Z",
     "iopub.status.busy": "2021-10-26T20:10:57.824713Z",
     "iopub.status.idle": "2021-10-26T20:10:57.830951Z",
     "shell.execute_reply": "2021-10-26T20:10:57.830486Z"
    }
   },
   "outputs": [
    {
     "data": {
      "text/plain": [
       "val ( +! ) : zbarre -> zbarre -> zbarre = <fun>\n"
      ]
     },
     "execution_count": 7,
     "metadata": {},
     "output_type": "execute_result"
    }
   ],
   "source": [
    "let (+!) n1 n2 = match n1, n2 with\n",
    "| Infini, Infini -> Infini\n",
    "| MoinsInfini, MoinsInfini -> MoinsInfini\n",
    "| Infini, Entier(_) | Entier(_), Infini  -> Infini\n",
    "| MoinsInfini, Entier(_) | Entier(_), MoinsInfini  -> MoinsInfini\n",
    "| _ -> failwith \"Indetermine\""
   ]
  },
  {
   "cell_type": "code",
   "execution_count": 8,
   "metadata": {
    "execution": {
     "iopub.execute_input": "2021-10-26T20:10:57.832823Z",
     "iopub.status.busy": "2021-10-26T20:10:57.832275Z",
     "iopub.status.idle": "2021-10-26T20:10:58.318541Z",
     "shell.execute_reply": "2021-10-26T20:10:58.317936Z"
    }
   },
   "outputs": [
    {
     "data": {
      "text/plain": [
       "- : zbarre = Infini\n"
      ]
     },
     "execution_count": 8,
     "metadata": {},
     "output_type": "execute_result"
    },
    {
     "ename": "error",
     "evalue": "runtime_error",
     "output_type": "error",
     "traceback": [
      "\u001b[31mException: Failure \"Indetermine\".\nRaised at file \"stdlib.ml\", line 29, characters 22-33\nCalled from file \"toplevel/toploop.ml\", line 208, characters 17-27\n\u001b[0m"
     ]
    }
   ],
   "source": [
    "Infini +! Infini;;\n",
    "Infini +! MoinsInfini"
   ]
  },
  {
   "cell_type": "markdown",
   "metadata": {},
   "source": [
    "**Exercice** : Définir `-!`, `*!`, `/!` pour des valeurs de type `zbarre`. Définir aussi `~-` qui permet d'avoir d'appliquer - sur un seul élément (opérateur unaire)."
   ]
  },
  {
   "cell_type": "code",
   "execution_count": 9,
   "metadata": {
    "execution": {
     "iopub.execute_input": "2021-10-26T20:10:58.320980Z",
     "iopub.status.busy": "2021-10-26T20:10:58.320322Z",
     "iopub.status.idle": "2021-10-26T20:10:58.330290Z",
     "shell.execute_reply": "2021-10-26T20:10:58.329013Z"
    },
    "tags": [
     "cor"
    ]
   },
   "outputs": [
    {
     "name": "stderr",
     "output_type": "stream",
     "text": [
      "File \"[9]\", line 1, characters 17-75:\n",
      "1 | .................match n1, n2 with\n",
      "2 |     | Infini, MoinsInfini -> MoinsInfini..\n",
      "Warning 8: this pattern-matching is not exhaustive.\n",
      "Here is an example of a case that is not matched:\n",
      "((Infini, (Infini|Entier _))|((MoinsInfini|Entier _), _))\n"
     ]
    },
    {
     "data": {
      "text/plain": [
       "val ( /! ) : zbarre -> zbarre -> zbarre = <fun>\n"
      ]
     },
     "execution_count": 9,
     "metadata": {},
     "output_type": "execute_result"
    },
    {
     "ename": "error",
     "evalue": "compile_error",
     "output_type": "error",
     "traceback": [
      "File \"[9]\", line 3, characters 1-7:\n3 | -Infini\n     ^^^^^^\nError: This expression has type zbarre but an expression was expected of type\n         int\n"
     ]
    }
   ],
   "source": [
    "let (/!) n1 n2 = match n1, n2 with\n",
    "    | Infini, MoinsInfini -> MoinsInfini;;\n",
    "-Infini"
   ]
  },
  {
   "cell_type": "markdown",
   "metadata": {},
   "source": [
    "Il est possible d'utiliser `'a` (n'importe quel type) pour un paramètre de constructeur, à condition de le mettre dans le `type` (on appelle alors ceci un **type polymorphe**). Par exemple, on pourrait redéfinir `list` :"
   ]
  },
  {
   "cell_type": "code",
   "execution_count": 10,
   "metadata": {
    "execution": {
     "iopub.execute_input": "2021-10-26T20:10:58.332816Z",
     "iopub.status.busy": "2021-10-26T20:10:58.331870Z",
     "iopub.status.idle": "2021-10-26T20:10:58.335192Z",
     "shell.execute_reply": "2021-10-26T20:10:58.335669Z"
    }
   },
   "outputs": [
    {
     "data": {
      "text/plain": [
       "type 'a liste = Vide | Cons of 'a * 'a liste\n"
      ]
     },
     "execution_count": 10,
     "metadata": {},
     "output_type": "execute_result"
    }
   ],
   "source": [
    "type 'a liste = Vide | Cons of 'a * 'a liste"
   ]
  },
  {
   "cell_type": "markdown",
   "metadata": {},
   "source": [
    "`Cons` est alors un constructeur ayant comme paramètre un couple : premier élément de la liste et reste de la liste. "
   ]
  },
  {
   "cell_type": "markdown",
   "metadata": {},
   "source": [
    "**Remarque** : `liste` est un **type récursif** (on utilise le type `liste` dans la définition de `liste`)"
   ]
  },
  {
   "cell_type": "code",
   "execution_count": 11,
   "metadata": {
    "execution": {
     "iopub.execute_input": "2021-10-26T20:10:58.337768Z",
     "iopub.status.busy": "2021-10-26T20:10:58.337236Z",
     "iopub.status.idle": "2021-10-26T20:10:58.339901Z",
     "shell.execute_reply": "2021-10-26T20:10:58.340382Z"
    }
   },
   "outputs": [
    {
     "data": {
      "text/plain": [
       "val l : int liste = Cons (1, Cons (2, Cons (3, Vide)))\n"
      ]
     },
     "execution_count": 11,
     "metadata": {},
     "output_type": "execute_result"
    }
   ],
   "source": [
    "let l = Cons(1, Cons(2, Cons(3, Vide))) (* équivalent de 1::2::3::[]) *)"
   ]
  },
  {
   "cell_type": "code",
   "execution_count": 12,
   "metadata": {
    "execution": {
     "iopub.execute_input": "2021-10-26T20:10:58.342518Z",
     "iopub.status.busy": "2021-10-26T20:10:58.341883Z",
     "iopub.status.idle": "2021-10-26T20:10:58.345714Z",
     "shell.execute_reply": "2021-10-26T20:10:58.346174Z"
    }
   },
   "outputs": [
    {
     "data": {
      "text/plain": [
       "val appartient : 'a -> 'a liste -> bool = <fun>\n"
      ]
     },
     "execution_count": 12,
     "metadata": {},
     "output_type": "execute_result"
    }
   ],
   "source": [
    "let rec appartient e l = match l with (* teste si e appartient à l *)\n",
    "  | Vide -> false\n",
    "  | Cons(x, q) -> x = e || appartient e q"
   ]
  },
  {
   "cell_type": "markdown",
   "metadata": {},
   "source": [
    "**Exercice** : \n",
    "1. Écrire un type `number` qui représente des nombres soient entiers (`int`), soit flottants (`float`). \n",
    "2. Écrire des opérations (addition...) sur ce type. L'addition d'un flottant avec un entier donnera un flottant.\n",
    "3. Écrire une fonction pour sommer les éléments d'une liste de `number`."
   ]
  },
  {
   "cell_type": "code",
   "execution_count": 13,
   "metadata": {
    "execution": {
     "iopub.execute_input": "2021-10-26T20:10:58.348184Z",
     "iopub.status.busy": "2021-10-26T20:10:58.347631Z",
     "iopub.status.idle": "2021-10-26T20:10:58.349759Z",
     "shell.execute_reply": "2021-10-26T20:10:58.350190Z"
    },
    "tags": [
     "cor"
    ]
   },
   "outputs": [
    {
     "data": {
      "text/plain": [
       "type number = F of float | I of int\n"
      ]
     },
     "execution_count": 13,
     "metadata": {},
     "output_type": "execute_result"
    }
   ],
   "source": [
    "type number = F of float | I of int"
   ]
  },
  {
   "cell_type": "code",
   "execution_count": 14,
   "metadata": {
    "execution": {
     "iopub.execute_input": "2021-10-26T20:10:58.352272Z",
     "iopub.status.busy": "2021-10-26T20:10:58.351667Z",
     "iopub.status.idle": "2021-10-26T20:10:58.357046Z",
     "shell.execute_reply": "2021-10-26T20:10:58.357528Z"
    },
    "tags": [
     "cor"
    ]
   },
   "outputs": [
    {
     "data": {
      "text/plain": [
       "val ( +@ ) : number -> number -> number = <fun>\n"
      ]
     },
     "execution_count": 14,
     "metadata": {},
     "output_type": "execute_result"
    }
   ],
   "source": [
    "let (+@) n1 n2 = match n1, n2 with\n",
    "    | F(f1), F(f2) -> F(f1 +. f2)\n",
    "    | I(n1), I(n2) -> I(n1 + n2)\n",
    "    | I(n1), F(n2) -> F(float_of_int n1 +. n2)\n",
    "    | F(n1), I(n2) -> F(n1 +. float_of_int n2)"
   ]
  },
  {
   "cell_type": "code",
   "execution_count": 15,
   "metadata": {
    "execution": {
     "iopub.execute_input": "2021-10-26T20:10:58.359618Z",
     "iopub.status.busy": "2021-10-26T20:10:58.359038Z",
     "iopub.status.idle": "2021-10-26T20:10:58.364433Z",
     "shell.execute_reply": "2021-10-26T20:10:58.363867Z"
    },
    "tags": [
     "cor"
    ]
   },
   "outputs": [
    {
     "data": {
      "text/plain": [
       "- : number = F 104.885\n"
      ]
     },
     "execution_count": 15,
     "metadata": {},
     "output_type": "execute_result"
    }
   ],
   "source": [
    "let rec somme = function\n",
    "    | [] -> I(0)\n",
    "    | e::q -> e +@ somme q in\n",
    "    \n",
    "somme [F 3.14; I 2; I 98; F 1.745]"
   ]
  },
  {
   "cell_type": "markdown",
   "metadata": {},
   "source": [
    "### Type option\n",
    "\n",
    "Le type option sert à stocker une valeur optionnelle, éventuellement None :"
   ]
  },
  {
   "cell_type": "code",
   "execution_count": 16,
   "metadata": {
    "execution": {
     "iopub.execute_input": "2021-10-26T20:10:58.366588Z",
     "iopub.status.busy": "2021-10-26T20:10:58.366016Z",
     "iopub.status.idle": "2021-10-26T20:10:58.368685Z",
     "shell.execute_reply": "2021-10-26T20:10:58.368177Z"
    }
   },
   "outputs": [
    {
     "data": {
      "text/plain": [
       "- : 'a option = None\n"
      ]
     },
     "execution_count": 16,
     "metadata": {},
     "output_type": "execute_result"
    }
   ],
   "source": [
    "None"
   ]
  },
  {
   "cell_type": "code",
   "execution_count": 17,
   "metadata": {
    "execution": {
     "iopub.execute_input": "2021-10-26T20:10:58.370899Z",
     "iopub.status.busy": "2021-10-26T20:10:58.370176Z",
     "iopub.status.idle": "2021-10-26T20:10:58.372722Z",
     "shell.execute_reply": "2021-10-26T20:10:58.372258Z"
    }
   },
   "outputs": [
    {
     "data": {
      "text/plain": [
       "- : int option = Some 1\n"
      ]
     },
     "execution_count": 17,
     "metadata": {},
     "output_type": "execute_result"
    }
   ],
   "source": [
    "Some 1"
   ]
  },
  {
   "cell_type": "markdown",
   "metadata": {},
   "source": [
    "Le type option est définit comme ceci en OCaml :"
   ]
  },
  {
   "cell_type": "code",
   "execution_count": 18,
   "metadata": {
    "execution": {
     "iopub.execute_input": "2021-10-26T20:10:58.375272Z",
     "iopub.status.busy": "2021-10-26T20:10:58.374316Z",
     "iopub.status.idle": "2021-10-26T20:10:58.377166Z",
     "shell.execute_reply": "2021-10-26T20:10:58.376628Z"
    }
   },
   "outputs": [
    {
     "data": {
      "text/plain": [
       "type 'a option = None | Some of 'a\n"
      ]
     },
     "execution_count": 18,
     "metadata": {},
     "output_type": "execute_result"
    }
   ],
   "source": [
    "type 'a option = None | Some of 'a"
   ]
  },
  {
   "cell_type": "markdown",
   "metadata": {},
   "source": [
    "Il est utile lorsqu'une fonction peut renvoyer aucune valeur."
   ]
  },
  {
   "cell_type": "markdown",
   "metadata": {},
   "source": [
    "**Exercice** : Écrire une fonction `indice : 'a array -> 'a -> int` telle que `indice t e` renvoie l'indice de `e` dans `i` et `None` sinon."
   ]
  },
  {
   "cell_type": "code",
   "execution_count": 19,
   "metadata": {
    "execution": {
     "iopub.execute_input": "2021-10-26T20:10:58.379268Z",
     "iopub.status.busy": "2021-10-26T20:10:58.378712Z",
     "iopub.status.idle": "2021-10-26T20:10:58.384309Z",
     "shell.execute_reply": "2021-10-26T20:10:58.383778Z"
    }
   },
   "outputs": [
    {
     "data": {
      "text/plain": [
       "val indice : 'a array -> 'a -> int option = <fun>\n"
      ]
     },
     "execution_count": 19,
     "metadata": {},
     "output_type": "execute_result"
    }
   ],
   "source": [
    "let indice t e = \n",
    "  let res = ref None in\n",
    "  for i = 0 to Array.length t - 1 do\n",
    "    if t.(i) = e then res := Some i\n",
    "  done;\n",
    "  !res"
   ]
  },
  {
   "cell_type": "code",
   "execution_count": 20,
   "metadata": {
    "execution": {
     "iopub.execute_input": "2021-10-26T20:10:58.386599Z",
     "iopub.status.busy": "2021-10-26T20:10:58.385918Z",
     "iopub.status.idle": "2021-10-26T20:10:58.389654Z",
     "shell.execute_reply": "2021-10-26T20:10:58.390066Z"
    }
   },
   "outputs": [
    {
     "data": {
      "text/plain": [
       "- : int option = Some 3\n"
      ]
     },
     "execution_count": 20,
     "metadata": {},
     "output_type": "execute_result"
    },
    {
     "data": {
      "text/plain": [
       "- : int option = None\n"
      ]
     },
     "execution_count": 20,
     "metadata": {},
     "output_type": "execute_result"
    }
   ],
   "source": [
    "indice [|0; 3; 2; 4; 5|] 4;;\n",
    "indice [|0; 3; 2; 4; 5|] 1;;"
   ]
  },
  {
   "cell_type": "markdown",
   "metadata": {},
   "source": [
    "Pour savoir si une option est un `None` ou `Some`, on utilise un `match`."
   ]
  },
  {
   "cell_type": "markdown",
   "metadata": {},
   "source": [
    "## Type enregistrement (record)"
   ]
  },
  {
   "cell_type": "markdown",
   "metadata": {},
   "source": [
    "Alors qu'un type somme fait une disjonction (un \"ou\") de plusieurs types, un **type enregistrement (record)** permet d'avoir plusieurs types simultanément (un \"et\" de plusieurs types)."
   ]
  },
  {
   "cell_type": "code",
   "execution_count": 21,
   "metadata": {
    "execution": {
     "iopub.execute_input": "2021-10-26T20:10:58.392202Z",
     "iopub.status.busy": "2021-10-26T20:10:58.391636Z",
     "iopub.status.idle": "2021-10-26T20:10:58.398848Z",
     "shell.execute_reply": "2021-10-26T20:10:58.398294Z"
    }
   },
   "outputs": [
    {
     "data": {
      "text/plain": [
       "type fraction = { num : int; den : int; }\n"
      ]
     },
     "execution_count": 21,
     "metadata": {},
     "output_type": "execute_result"
    },
    {
     "data": {
      "text/plain": [
       "val x : fraction = {num = 3; den = 4}\n"
      ]
     },
     "execution_count": 21,
     "metadata": {},
     "output_type": "execute_result"
    },
    {
     "data": {
      "text/plain": [
       "- : int = 4\n"
      ]
     },
     "execution_count": 21,
     "metadata": {},
     "output_type": "execute_result"
    }
   ],
   "source": [
    "type fraction = {num: int; den: int};; (* fraction composée d'un numérateur ET dénominateur *)\n",
    "let x = {num=3; den=4};; (* x représente la fraction 1/4 *)\n",
    "x.den  (* obtient la valeur du champ den de x *)"
   ]
  },
  {
   "cell_type": "markdown",
   "metadata": {},
   "source": [
    "`fraction` est un type très proche de `int*int`. La différence principale est que les composantes sont nommées dans un enregistrement mais pas dans un tuple.  \n",
    "Nous pouvons multiplier deux fractions :"
   ]
  },
  {
   "cell_type": "code",
   "execution_count": 22,
   "metadata": {
    "execution": {
     "iopub.execute_input": "2021-10-26T20:10:58.400717Z",
     "iopub.status.busy": "2021-10-26T20:10:58.400199Z",
     "iopub.status.idle": "2021-10-26T20:10:58.403761Z",
     "shell.execute_reply": "2021-10-26T20:10:58.404169Z"
    }
   },
   "outputs": [
    {
     "data": {
      "text/plain": [
       "val mult : fraction -> fraction -> fraction = <fun>\n"
      ]
     },
     "execution_count": 22,
     "metadata": {},
     "output_type": "execute_result"
    },
    {
     "data": {
      "text/plain": [
       "- : fraction = {num = 9; den = 16}\n"
      ]
     },
     "execution_count": 22,
     "metadata": {},
     "output_type": "execute_result"
    }
   ],
   "source": [
    "let mult x1 x2 = \n",
    "  {num=x1.num*x2.num; den=x1.den*x2.den};;\n",
    "\n",
    "  mult x x"
   ]
  },
  {
   "cell_type": "markdown",
   "metadata": {},
   "source": [
    "**Exercice** : \n",
    "1. Écrire une fonction pour additionner deux fractions.\n",
    "2. Écrire une fonction pour simplifier une fraction."
   ]
  },
  {
   "cell_type": "markdown",
   "metadata": {},
   "source": [
    "L'intérêt d'utiliser des fractions plutôt que des float est de faire des calculs exacts et non pas approchés."
   ]
  },
  {
   "cell_type": "code",
   "execution_count": 23,
   "metadata": {
    "execution": {
     "iopub.execute_input": "2021-10-26T20:10:58.406952Z",
     "iopub.status.busy": "2021-10-26T20:10:58.406045Z",
     "iopub.status.idle": "2021-10-26T20:10:58.409677Z",
     "shell.execute_reply": "2021-10-26T20:10:58.410098Z"
    },
    "tags": [
     "cor"
    ]
   },
   "outputs": [
    {
     "data": {
      "text/plain": [
       "type complexe = { re : float; im : float; }\n"
      ]
     },
     "execution_count": 23,
     "metadata": {},
     "output_type": "execute_result"
    }
   ],
   "source": [
    "type complexe = {re: float; im: float}\n",
    "type polaire = {r: float; theta: float}"
   ]
  },
  {
   "cell_type": "code",
   "execution_count": 24,
   "metadata": {
    "execution": {
     "iopub.execute_input": "2021-10-26T20:10:58.412111Z",
     "iopub.status.busy": "2021-10-26T20:10:58.411578Z",
     "iopub.status.idle": "2021-10-26T20:10:58.417639Z",
     "shell.execute_reply": "2021-10-26T20:10:58.418040Z"
    },
    "tags": [
     "cor"
    ]
   },
   "outputs": [
    {
     "data": {
      "text/plain": [
       "val polaire_to_algebrique : polaire -> complexe = <fun>\n"
      ]
     },
     "execution_count": 24,
     "metadata": {},
     "output_type": "execute_result"
    },
    {
     "data": {
      "text/plain": [
       "- : complexe = {re = 0.000796326710733263345; im = 0.99999968293183461}\n"
      ]
     },
     "execution_count": 24,
     "metadata": {},
     "output_type": "execute_result"
    }
   ],
   "source": [
    "let polaire_to_algebrique z =\n",
    "    {re = z.r *. cos z.theta; im = z.r *. sin z.theta};;\n",
    "\n",
    "polaire_to_algebrique {r = 1.; theta = 3.14/.2.}"
   ]
  },
  {
   "cell_type": "markdown",
   "metadata": {},
   "source": [
    "**Exercice** : \n",
    "1. Définir deux types enregistrements pour représenter un nombre complexe sous forme algébrique et sous forme polaire. \n",
    "2. Écrire une fonction pour convertir un nombre complexe de polaire à algébrique."
   ]
  },
  {
   "cell_type": "code",
   "execution_count": 25,
   "metadata": {
    "execution": {
     "iopub.execute_input": "2021-10-26T20:10:58.420176Z",
     "iopub.status.busy": "2021-10-26T20:10:58.419550Z",
     "iopub.status.idle": "2021-10-26T20:10:58.423333Z",
     "shell.execute_reply": "2021-10-26T20:10:58.422775Z"
    },
    "tags": [
     "cor"
    ]
   },
   "outputs": [
    {
     "data": {
      "text/plain": [
       "type complexe = { re : float; im : float; }\n"
      ]
     },
     "execution_count": 25,
     "metadata": {},
     "output_type": "execute_result"
    },
    {
     "data": {
      "text/plain": [
       "type polaire = { r : float; theta : float; }\n"
      ]
     },
     "execution_count": 25,
     "metadata": {},
     "output_type": "execute_result"
    }
   ],
   "source": [
    "type complexe = {re: float; im: float}\n",
    "type polaire = {r: float; theta: float}"
   ]
  },
  {
   "cell_type": "code",
   "execution_count": 26,
   "metadata": {
    "execution": {
     "iopub.execute_input": "2021-10-26T20:10:58.425234Z",
     "iopub.status.busy": "2021-10-26T20:10:58.424743Z",
     "iopub.status.idle": "2021-10-26T20:10:58.433193Z",
     "shell.execute_reply": "2021-10-26T20:10:58.433649Z"
    },
    "tags": [
     "cor"
    ]
   },
   "outputs": [
    {
     "data": {
      "text/plain": [
       "val polaire_to_algebrique : polaire -> complexe = <fun>\n"
      ]
     },
     "execution_count": 26,
     "metadata": {},
     "output_type": "execute_result"
    },
    {
     "data": {
      "text/plain": [
       "- : complexe = {re = 0.000796326710733263345; im = 0.99999968293183461}\n"
      ]
     },
     "execution_count": 26,
     "metadata": {},
     "output_type": "execute_result"
    }
   ],
   "source": [
    "let polaire_to_algebrique z =\n",
    "    {re = z.r *. cos z.theta; im = z.r *. sin z.theta};;\n",
    "\n",
    "polaire_to_algebrique {r = 1.; theta = 3.14/.2.}"
   ]
  },
  {
   "cell_type": "markdown",
   "metadata": {},
   "source": [
    "### Mot-clé mutable\n",
    "\n",
    "Par défaut, un type enregistrement n'est pas mutable (on ne peut pas modifier ses éléments)."
   ]
  },
  {
   "cell_type": "markdown",
   "metadata": {},
   "source": [
    "Cependant, il est possible d'ajouter un mot-clé mutable sur un attribut. On utilise alors `<-` pour modifier l'attribut."
   ]
  },
  {
   "cell_type": "markdown",
   "metadata": {},
   "source": [
    "Par exemple, on pourrait redéfinir une référence comme un type enregistrement avec un seul champ mutable :"
   ]
  },
  {
   "cell_type": "code",
   "execution_count": 27,
   "metadata": {
    "execution": {
     "iopub.execute_input": "2021-10-26T20:10:58.436284Z",
     "iopub.status.busy": "2021-10-26T20:10:58.435399Z",
     "iopub.status.idle": "2021-10-26T20:10:58.438159Z",
     "shell.execute_reply": "2021-10-26T20:10:58.437687Z"
    }
   },
   "outputs": [
    {
     "data": {
      "text/plain": [
       "type 'a ref = { mutable v : 'a; }\n"
      ]
     },
     "execution_count": 27,
     "metadata": {},
     "output_type": "execute_result"
    }
   ],
   "source": [
    "type 'a ref = {mutable v: 'a}"
   ]
  },
  {
   "cell_type": "code",
   "execution_count": 28,
   "metadata": {
    "execution": {
     "iopub.execute_input": "2021-10-26T20:10:58.440249Z",
     "iopub.status.busy": "2021-10-26T20:10:58.439699Z",
     "iopub.status.idle": "2021-10-26T20:10:58.443005Z",
     "shell.execute_reply": "2021-10-26T20:10:58.442143Z"
    }
   },
   "outputs": [
    {
     "data": {
      "text/plain": [
       "val a : int ref = {v = 2}\n"
      ]
     },
     "execution_count": 28,
     "metadata": {},
     "output_type": "execute_result"
    }
   ],
   "source": [
    "let a = {v = 2}  (* équivalent de let a = ref 2 *)"
   ]
  },
  {
   "cell_type": "code",
   "execution_count": 29,
   "metadata": {
    "execution": {
     "iopub.execute_input": "2021-10-26T20:10:58.445231Z",
     "iopub.status.busy": "2021-10-26T20:10:58.444673Z",
     "iopub.status.idle": "2021-10-26T20:10:58.447286Z",
     "shell.execute_reply": "2021-10-26T20:10:58.446781Z"
    }
   },
   "outputs": [
    {
     "data": {
      "text/plain": [
       "- : int = 2\n"
      ]
     },
     "execution_count": 29,
     "metadata": {},
     "output_type": "execute_result"
    }
   ],
   "source": [
    "a.v  (* équivalent de !a *)"
   ]
  },
  {
   "cell_type": "code",
   "execution_count": 30,
   "metadata": {
    "execution": {
     "iopub.execute_input": "2021-10-26T20:10:58.449406Z",
     "iopub.status.busy": "2021-10-26T20:10:58.448799Z",
     "iopub.status.idle": "2021-10-26T20:10:58.450765Z",
     "shell.execute_reply": "2021-10-26T20:10:58.451225Z"
    }
   },
   "outputs": [
    {
     "data": {
      "text/plain": [
       "- : unit = ()\n"
      ]
     },
     "execution_count": 30,
     "metadata": {},
     "output_type": "execute_result"
    }
   ],
   "source": [
    "a.v <- 5  (* équivalent de a := 5 *)"
   ]
  }
 ],
 "metadata": {
  "kernelspec": {
   "display_name": "OCaml default",
   "language": "OCaml",
   "name": "ocaml-jupyter"
  },
  "language_info": {
   "codemirror_mode": "text/x-ocaml",
   "file_extension": ".ml",
   "mimetype": "text/x-ocaml",
   "name": "OCaml",
   "nbconverter_exporter": null,
   "pygments_lexer": "OCaml",
   "version": "4.08.1"
  }
 },
 "nbformat": 4,
 "nbformat_minor": 4
}

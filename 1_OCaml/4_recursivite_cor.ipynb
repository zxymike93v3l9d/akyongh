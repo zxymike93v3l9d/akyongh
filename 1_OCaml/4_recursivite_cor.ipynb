{
 "cells": [
  {
   "cell_type": "markdown",
   "id": "0f4a5a31",
   "metadata": {},
   "source": [
    "# Récursivité\n",
    "\n",
    "La récursivité est la possibilité pour une fonction de s'appeller soi-même. En général, il y a deux étapes pour écrire une fonction récursive :\n",
    "1. Un cas de base où la fonction renvoie directement une valeur.\n",
    "2. Un cas général où la fonction s'appelle sur des paramètres \"plus petits\".\n",
    "\n",
    "En OCaml, une fonction récursive doit être définie par `let rec ...` :"
   ]
  },
  {
   "cell_type": "code",
   "execution_count": 1,
   "id": "9acfb78d",
   "metadata": {
    "execution": {
     "iopub.execute_input": "2021-08-10T13:28:59.998194Z",
     "iopub.status.busy": "2021-08-10T13:28:59.996522Z",
     "iopub.status.idle": "2021-08-10T13:29:00.005514Z",
     "shell.execute_reply": "2021-08-10T13:29:00.006952Z"
    }
   },
   "outputs": [
    {
     "data": {
      "text/plain": [
       "val f : int -> unit = <fun>\n"
      ]
     },
     "execution_count": 1,
     "metadata": {},
     "output_type": "execute_result"
    }
   ],
   "source": [
    "let rec f x = (* exemple de fonction récursive *)\n",
    "    if x = 0 then print_newline ()\n",
    "    else (print_int x;\n",
    "          f (x - 1))"
   ]
  },
  {
   "cell_type": "code",
   "execution_count": 2,
   "id": "d8690b13",
   "metadata": {
    "execution": {
     "iopub.execute_input": "2021-08-10T13:29:00.011900Z",
     "iopub.status.busy": "2021-08-10T13:29:00.010800Z",
     "iopub.status.idle": "2021-08-10T13:29:00.016761Z",
     "shell.execute_reply": "2021-08-10T13:29:00.015661Z"
    }
   },
   "outputs": [
    {
     "name": "stdout",
     "output_type": "stream",
     "text": [
      "321\n"
     ]
    },
    {
     "data": {
      "text/plain": [
       "- : unit = ()\n"
      ]
     },
     "execution_count": 2,
     "metadata": {},
     "output_type": "execute_result"
    }
   ],
   "source": [
    "f 3"
   ]
  },
  {
   "cell_type": "code",
   "execution_count": 3,
   "id": "3b2ba859",
   "metadata": {
    "execution": {
     "iopub.execute_input": "2021-08-10T13:29:00.020043Z",
     "iopub.status.busy": "2021-08-10T13:29:00.019335Z",
     "iopub.status.idle": "2021-08-10T13:29:00.023386Z",
     "shell.execute_reply": "2021-08-10T13:29:00.022836Z"
    }
   },
   "outputs": [
    {
     "name": "stdout",
     "output_type": "stream",
     "text": [
      "3234\n"
     ]
    },
    {
     "data": {
      "text/plain": [
       "- : unit = ()\n"
      ]
     },
     "execution_count": 3,
     "metadata": {},
     "output_type": "execute_result"
    }
   ],
   "source": [
    "print_int 3234; print_newline ()"
   ]
  },
  {
   "cell_type": "code",
   "execution_count": null,
   "id": "9b3ffd06",
   "metadata": {},
   "outputs": [],
   "source": []
  }
 ],
 "metadata": {
  "jupytext": {
   "cell_metadata_filter": "-all",
   "main_language": "ocaml",
   "notebook_metadata_filter": "-all"
  },
  "kernelspec": {
   "display_name": "OCaml default",
   "language": "OCaml",
   "name": "ocaml-jupyter"
  },
  "language_info": {
   "codemirror_mode": "text/x-ocaml",
   "file_extension": ".ml",
   "mimetype": "text/x-ocaml",
   "name": "OCaml",
   "nbconverter_exporter": null,
   "pygments_lexer": "OCaml",
   "version": "4.12.0"
  }
 },
 "nbformat": 4,
 "nbformat_minor": 5
}

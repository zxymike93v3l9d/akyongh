{
 "cells": [
  {
   "cell_type": "markdown",
   "id": "5fa6e3b1",
   "metadata": {},
   "source": [
    "# Récursivité\n",
    "\n",
    "La récursivité est la possibilité pour une fonction de s'appeller soi-même. En général, il y a deux étapes pour écrire une fonction récursive :\n",
    "1. Un **cas de base** où la fonction renvoie directement une valeur.\n",
    "2. Un **cas général** où la fonction s'appelle sur des paramètres \"plus petits\".\n",
    "\n",
    "En OCaml, une fonction récursive doit être définie par `let rec ...`. Voici un exemple :"
   ]
  },
  {
   "cell_type": "code",
   "execution_count": 1,
   "id": "00ea7f0c",
   "metadata": {
    "execution": {
     "iopub.execute_input": "2021-09-18T20:09:04.267231Z",
     "iopub.status.busy": "2021-09-18T20:09:04.266420Z",
     "iopub.status.idle": "2021-09-18T20:09:04.268740Z",
     "shell.execute_reply": "2021-09-18T20:09:04.269226Z"
    },
    "tags": []
   },
   "outputs": [
    {
     "data": {
      "text/plain": [
       "val f : int -> unit = <fun>\n"
      ]
     },
     "execution_count": 1,
     "metadata": {},
     "output_type": "execute_result"
    }
   ],
   "source": [
    "let rec f x = (* exemple de fonction récursive *)\n",
    "    if x = 0 then print_newline () (* cas de base *)\n",
    "    else (print_int x; \n",
    "          f (x - 1)) (* cas général *)"
   ]
  },
  {
   "cell_type": "markdown",
   "id": "514d178b",
   "metadata": {},
   "source": [
    "`f x` affiche un retour à la ligne si `x` est égal à 0, et sinon affiche `x` puis appelle `f (x - 1)`."
   ]
  },
  {
   "cell_type": "markdown",
   "id": "60bbbe5d",
   "metadata": {},
   "source": [
    "Essayons cette fonction :"
   ]
  },
  {
   "cell_type": "code",
   "execution_count": 2,
   "id": "c9d0fbdf",
   "metadata": {
    "execution": {
     "iopub.execute_input": "2021-09-18T20:09:04.271322Z",
     "iopub.status.busy": "2021-09-18T20:09:04.270716Z",
     "iopub.status.idle": "2021-09-18T20:09:04.276617Z",
     "shell.execute_reply": "2021-09-18T20:09:04.276189Z"
    },
    "tags": []
   },
   "outputs": [
    {
     "name": "stdout",
     "output_type": "stream",
     "text": [
      "21\n"
     ]
    },
    {
     "data": {
      "text/plain": [
       "- : unit = ()\n"
      ]
     },
     "execution_count": 2,
     "metadata": {},
     "output_type": "execute_result"
    }
   ],
   "source": [
    "f 2"
   ]
  },
  {
   "cell_type": "markdown",
   "id": "f8ff3283",
   "metadata": {},
   "source": [
    "Voici ce qui se passe lors de cet appel `f 2` :  \n",
    "\n",
    "1. On regarde si `2 = 0`, ce qui est faux. On passe donc dans le `else`.\n",
    "2. On affiche `2` avec `print_int x`.\n",
    "3. On appelle `f` sur la valeur 1. Le calcul de `f 2` se met en pause et on exécute `f 1`. Quand `f 1` sera terminé, l'appel de `f 2` continuera et `f 1` sera remplacé par sa valeur de retour. \n",
    "4. L'exécution de `f 1` affiche `1` puis appelle `f 0`. Le calcul de `f 1` se met en pause et on exécute `f 0`. Quand `f 0` sera terminé, l'appel de `f 2` continuera et `f 0` sera remplacé par sa valeur de retour.\n",
    "5. `f 0` exécute `print_newline ()` et s'arrête (en renvoyant `()`).\n",
    "6. L'exécution de `f 1` reprend et `f 1` s'arrête.\n",
    "7. L'exécution de `f 2` reprend et `f 2` s'arrête."
   ]
  },
  {
   "cell_type": "markdown",
   "id": "304fe8dc",
   "metadata": {},
   "source": [
    "Vous pouvez visualiser l'exécution d'un code similaire en Python avec [Python Tutor](http://www.pythontutor.com/visualize.html#code=def%20f%28n%29%3A%0A%20%20%20%20if%20n%20%3D%3D%200%3A%0A%20%20%20%20%20%20%20%20return%0A%20%20%20%20print%28n%29%0A%20%20%20%20f%28n-1%29%0A%0Af%284%29&cumulative=false&curInstr=0&heapPrimitives=nevernest&mode=display&origin=opt-frontend.js&py=3&rawInputLstJSON=%5B%5D&textReferences=false). Il est important de bien comprendre comment les appels récursifs s'effectuent."
   ]
  },
  {
   "cell_type": "markdown",
   "id": "1e2aa328",
   "metadata": {},
   "source": [
    "Un exemple classique d'utilisation de la récursivité est le calcul de la factorielle d'un entier $n$, définie par $n! = n \\times (n - 1) \\times ... \\times 2 \\times 1$.  \n",
    "Pour définir une fonction récursive calculant $n!$ on a besoin de deux choses :\n",
    "- **Cas de base**  : si $n = 0$, on peut renvoyer directement 1 (par convention $0! = 1$), sans appel récursif.\n",
    "- **Cas général/récurrence** : si $n$ est quelconque, il faut rammener le calcul de $n!$ à un calcul d'une factorielle plus petite (de façon à se rapprocher du cas de base). Pour cela, on peut remarquer que $n! = n\\times (n-1)!$ et donc que calculer $(n-1)!$ permet d'en déduire $n!$.  \n",
    "On en déduit le code suivant :"
   ]
  },
  {
   "cell_type": "code",
   "execution_count": 3,
   "id": "84739797",
   "metadata": {
    "execution": {
     "iopub.execute_input": "2021-09-18T20:09:04.278665Z",
     "iopub.status.busy": "2021-09-18T20:09:04.278042Z",
     "iopub.status.idle": "2021-09-18T20:09:04.281514Z",
     "shell.execute_reply": "2021-09-18T20:09:04.281033Z"
    }
   },
   "outputs": [
    {
     "data": {
      "text/plain": [
       "val fact : int -> int = <fun>\n"
      ]
     },
     "execution_count": 3,
     "metadata": {},
     "output_type": "execute_result"
    }
   ],
   "source": [
    "let rec fact n =\n",
    "    if n = 0 then 1 (* par convention 0! = 1 *)\n",
    "    else n*fact (n - 1)"
   ]
  },
  {
   "cell_type": "code",
   "execution_count": 4,
   "id": "4af127e2",
   "metadata": {
    "execution": {
     "iopub.execute_input": "2021-09-18T20:09:04.283388Z",
     "iopub.status.busy": "2021-09-18T20:09:04.282806Z",
     "iopub.status.idle": "2021-09-18T20:09:04.284943Z",
     "shell.execute_reply": "2021-09-18T20:09:04.285375Z"
    }
   },
   "outputs": [
    {
     "data": {
      "text/plain": [
       "- : int = 24\n"
      ]
     },
     "execution_count": 4,
     "metadata": {},
     "output_type": "execute_result"
    }
   ],
   "source": [
    "fact 4"
   ]
  },
  {
   "cell_type": "markdown",
   "id": "e8c16376",
   "metadata": {},
   "source": [
    "**Remarque** : Si on oublie le cas de base (`if n = 0`) la fonction ne s'arrête jamais (`fact 0` appelerait `fact (-1)` qui appelerait `fact (-2)` et ainsi de suite...) !"
   ]
  },
  {
   "cell_type": "markdown",
   "id": "3c99cbb5",
   "metadata": {},
   "source": [
    "Écrire une fonction récursive ressemble beaucoup à écrire une démonstration mathématiques par récurrence et d'ailleurs on utilisera souvent une démonstration par récurrence pour démontrer qu'une fonction récursive est correcte, c'est à dire renvoie bien la bonne valeur.  \n",
    "Par exemple, pour démontrer que `fact` est correcte, on peut poser l'hypothèse de récurrence :\n",
    "$$\\mathcal{H}(n) : \\text{fact } n \\text{ renvoie } n!$$\n",
    "**Preuve** :\n",
    "1. $\\mathcal{H}(0)$ est vraie car `fact 0` renvoie 1 et, par définition, $0! = 1$.  \n",
    "2. Soit $n$ un entier strictement positif. Supposons $\\mathcal{H}(n - 1)$ et montrons $\\mathcal{H}(n)$.  \n",
    "Comme $n > 0$, `fact n` renvoie `n*fact (n - 1)`. D'après $\\mathcal{H}(n - 1)$, `fact (n - 1)` renvoie $(n - 1)!$. Donc `fact n` renvoie $n(n - 1)! = n!$, ce qui démontre $\\mathcal{H}(n)$.  \n",
    "D'après le principe de récurrence, $\\mathcal{H}(n)$ est vraie pour tout $n \\in \\mathbb{N}$. "
   ]
  },
  {
   "cell_type": "markdown",
   "id": "da6eac07",
   "metadata": {},
   "source": [
    "**Exercice** : Qu'affiche le code suivant? Le deviner puis exécuter le code pour vérifier.\n",
    "```ocaml\n",
    "let rec f x =\n",
    "    if x = 0 then print_newline ()\n",
    "    else (f (x - 1);\n",
    "          print_int x) in\n",
    "f 5    \n",
    "```"
   ]
  },
  {
   "cell_type": "code",
   "execution_count": 5,
   "id": "7e090040",
   "metadata": {
    "execution": {
     "iopub.execute_input": "2021-09-18T20:09:04.287401Z",
     "iopub.status.busy": "2021-09-18T20:09:04.286859Z",
     "iopub.status.idle": "2021-09-18T20:09:04.291585Z",
     "shell.execute_reply": "2021-09-18T20:09:04.291145Z"
    },
    "tags": [
     "cor"
    ]
   },
   "outputs": [
    {
     "name": "stdout",
     "output_type": "stream",
     "text": [
      "\n"
     ]
    },
    {
     "data": {
      "text/plain": [
       "- : unit = ()\n"
      ]
     },
     "execution_count": 5,
     "metadata": {},
     "output_type": "execute_result"
    }
   ],
   "source": [
    "let rec f x =\n",
    "    if x = 0 then print_newline ()\n",
    "    else (f (x - 1);\n",
    "          print_int x) in\n",
    "f 5    "
   ]
  },
  {
   "cell_type": "markdown",
   "id": "8a0f7764",
   "metadata": {},
   "source": [
    "**Exercice** : \n",
    "1. Écrire une fonction récursive pour calculer la somme des $n$ premiers entiers $S(n) = 0 + 1 + 2 + ... + (n - 1)$.\n",
    "2. Quelle formule connaissez-vous pour calculer $S(n)$? En déduire une autre fonction (non récursive) pour calculer cette valeur. Vérifier sur des exemples que les deux fonctions donnent la même valeur. "
   ]
  },
  {
   "cell_type": "code",
   "execution_count": 6,
   "id": "b2ee160f",
   "metadata": {
    "execution": {
     "iopub.execute_input": "2021-09-18T20:09:04.293534Z",
     "iopub.status.busy": "2021-09-18T20:09:04.292972Z",
     "iopub.status.idle": "2021-09-18T20:09:04.299122Z",
     "shell.execute_reply": "2021-09-18T20:09:04.299616Z"
    },
    "tags": [
     "cor"
    ]
   },
   "outputs": [
    {
     "data": {
      "text/plain": [
       "val somme : int -> int = <fun>\n"
      ]
     },
     "execution_count": 6,
     "metadata": {},
     "output_type": "execute_result"
    },
    {
     "data": {
      "text/plain": [
       "val somme2 : int -> int = <fun>\n"
      ]
     },
     "execution_count": 6,
     "metadata": {},
     "output_type": "execute_result"
    }
   ],
   "source": [
    "(* 1. *)\n",
    "let rec somme n =\n",
    "    if n = 1 then 1 (* S(1) = 1 *)\n",
    "    else n + somme (n - 1);; (* on utilise S(n) = n + S(n - 1) *)\n",
    "\n",
    "(* 2. *)\n",
    "let somme2 n =\n",
    "    n*(n+1)/2;; (* on utilise la formule de Gauss *)\n",
    "    \n",
    "somme 42 = somme2 42 (* vérification *)"
   ]
  },
  {
   "cell_type": "markdown",
   "id": "9a82f5cb",
   "metadata": {},
   "source": [
    "Une application classique de la récursivité est le calcul des termes d'une suite récurrente.  \n",
    "Par exemple :\n",
    "$$\\begin{cases} \n",
    "u_{n} = 3u_{n-1} + 2, \\text{si } n > 0\\\\\n",
    "u_0 = 5\n",
    "\\end{cases}$$"
   ]
  },
  {
   "cell_type": "markdown",
   "id": "f57bc600",
   "metadata": {},
   "source": [
    "Cette définition par récurrence se traduit naturellement en fonction récursive :"
   ]
  },
  {
   "cell_type": "code",
   "execution_count": 7,
   "id": "ea21b1d3",
   "metadata": {
    "execution": {
     "iopub.execute_input": "2021-09-18T20:09:04.301765Z",
     "iopub.status.busy": "2021-09-18T20:09:04.301251Z",
     "iopub.status.idle": "2021-09-18T20:09:04.303722Z",
     "shell.execute_reply": "2021-09-18T20:09:04.304169Z"
    }
   },
   "outputs": [
    {
     "data": {
      "text/plain": [
       "val u : int -> int = <fun>\n"
      ]
     },
     "execution_count": 7,
     "metadata": {},
     "output_type": "execute_result"
    }
   ],
   "source": [
    "let rec u n = \n",
    "    if n = 0 then 5\n",
    "    else 3*(u (n - 1)) + 2"
   ]
  },
  {
   "cell_type": "code",
   "execution_count": 8,
   "id": "037f56a3",
   "metadata": {
    "execution": {
     "iopub.execute_input": "2021-09-18T20:09:04.306212Z",
     "iopub.status.busy": "2021-09-18T20:09:04.305623Z",
     "iopub.status.idle": "2021-09-18T20:09:04.307426Z",
     "shell.execute_reply": "2021-09-18T20:09:04.307849Z"
    }
   },
   "outputs": [
    {
     "data": {
      "text/plain": [
       "- : int = 354293\n"
      ]
     },
     "execution_count": 8,
     "metadata": {},
     "output_type": "execute_result"
    }
   ],
   "source": [
    "u 10"
   ]
  },
  {
   "cell_type": "markdown",
   "id": "196d169c",
   "metadata": {},
   "source": [
    "**Exercice** : calculer $v_{10}$, où $v_n$ est définie par\n",
    "$$\\begin{cases} \n",
    "v_{n+1} = \\sqrt{v_{n}} + 4, \\text{si } n > 0\\\\\n",
    "v_1 = 5\n",
    "\\end{cases}$$"
   ]
  },
  {
   "cell_type": "code",
   "execution_count": 9,
   "id": "0f6b9d84",
   "metadata": {
    "execution": {
     "iopub.execute_input": "2021-09-18T20:09:04.309659Z",
     "iopub.status.busy": "2021-09-18T20:09:04.309164Z",
     "iopub.status.idle": "2021-09-18T20:09:04.315877Z",
     "shell.execute_reply": "2021-09-18T20:09:04.316302Z"
    },
    "tags": [
     "cor"
    ]
   },
   "outputs": [
    {
     "data": {
      "text/plain": [
       "- : float = 6.56155211605287\n"
      ]
     },
     "execution_count": 9,
     "metadata": {},
     "output_type": "execute_result"
    }
   ],
   "source": [
    "let rec v n = \n",
    "    if n = 1 then 5. \n",
    "    else (v (n - 1))**0.5 +. 4. in (* le résultat est un flottant à cause de la racine *)\n",
    "v 10"
   ]
  },
  {
   "cell_type": "markdown",
   "id": "0b764954",
   "metadata": {},
   "source": [
    "Un autre exemple classique est la suite de Fibonacci :\n",
    "$$u_0 = 1$$\n",
    "$$u_1 = 1$$\n",
    "$$u_n = u_{n - 1} + u_{n - 2}$$\n",
    "\n",
    "On pourrait l'implémenter de la façon suivante :"
   ]
  },
  {
   "cell_type": "code",
   "execution_count": 10,
   "id": "459f67d9",
   "metadata": {
    "execution": {
     "iopub.execute_input": "2021-09-18T20:09:04.318210Z",
     "iopub.status.busy": "2021-09-18T20:09:04.317596Z",
     "iopub.status.idle": "2021-09-18T20:09:04.321330Z",
     "shell.execute_reply": "2021-09-18T20:09:04.321738Z"
    }
   },
   "outputs": [
    {
     "data": {
      "text/plain": [
       "- : int = 89\n"
      ]
     },
     "execution_count": 10,
     "metadata": {},
     "output_type": "execute_result"
    }
   ],
   "source": [
    "let rec fibo n =\n",
    "    if n <= 1 then 1\n",
    "    else fibo (n - 1) + fibo (n - 2) in\n",
    "fibo 10"
   ]
  },
  {
   "cell_type": "markdown",
   "id": "baed5321",
   "metadata": {},
   "source": [
    "**Attention : cette méthode est très inefficace. Pour s'en convaincre, regardons visuellement les appels récursifs de fibo :**\n",
    "\n",
    "<center><img src=img/fibo.png width=450></center>\n",
    "\n",
    "Il y a de nombreux calculs inutiles : par exemple, `fibo 3` est appelé 2 fois et `fibo 2` est appelé 3 fois, ce qui est inefficace. "
   ]
  },
  {
   "cell_type": "markdown",
   "id": "d72c7ce4",
   "metadata": {},
   "source": [
    "**Exercice** : Montrer que le nombre d'appels récursifs pour calculer `fibo n` est exponentiel en $n$ (c'est à dire supérieur à $a^n$ pour un certain $a$ indépendant de $n$)."
   ]
  },
  {
   "cell_type": "markdown",
   "id": "4bc21b42",
   "metadata": {},
   "source": [
    "Soit $C_{n}$ le nombre d'appels récursifs effectués par `fibo n` (on compte l'appel de `fibo n` ainsi que tous ses sous-appels récursifs). Alors : \n",
    "$$C_{n} = \\underbrace{C_{n-1}}_{\\text{appels récursifs de  fibo (n-1)}} + \\underbrace{C_{n-2}}_{\\text{appels récursifs de fibo (n-2)}}$$\n",
    "$C_{n}$ vérifie donc la même équation de récurrence que la suite de Fibonacci. Pour donner un minorant simplement, on peut remarquer que $C_{n-1} \\geq C_{n - 2}$ (car $C_{n-1} = C_{n - 2} + \\underbrace{C_{n - 3}}_{\\geq 0}$) donc $C_{n} \\geq 2 C_{n - 2}$ et en appliquant cette inégalité plusieurs fois :\n",
    "$$C_{n} \\geq 2 C_{n - 2} \\geq 2^2 C_{n - 4} \\geq 2^3 C_{n - 6} \\geq ... \\geq 2^\\frac{n}{2} C_{n - 2\\frac{n}{2}} = 2^\\frac{n}{2}$$\n",
    "On a donc montré que $\\boxed{\\forall n \\in \\mathbb{N}, C_{n} \\geq 2^\\frac{n}{2}}$ : `fibo n` effectue un nombre exponentiel (en $n$) d'appels récursifs."
   ]
  },
  {
   "cell_type": "markdown",
   "id": "fe7b2649",
   "metadata": {},
   "source": [
    "Il est possible d'éviter ces appels inutiles en utilisant un **accumulateur**. Un accumulateur est un argument d'une fonction récursive que l'on va utiliser pour construire le résultat final. L'accumulateur est modifié à chaque appel récursif."
   ]
  },
  {
   "cell_type": "code",
   "execution_count": 11,
   "id": "d53363cb",
   "metadata": {
    "execution": {
     "iopub.execute_input": "2021-09-18T20:09:04.323888Z",
     "iopub.status.busy": "2021-09-18T20:09:04.323295Z",
     "iopub.status.idle": "2021-09-18T20:09:04.328144Z",
     "shell.execute_reply": "2021-09-18T20:09:04.328568Z"
    }
   },
   "outputs": [
    {
     "data": {
      "text/plain": [
       "- : int = 89\n"
      ]
     },
     "execution_count": 11,
     "metadata": {},
     "output_type": "execute_result"
    }
   ],
   "source": [
    "let rec fibo2 n a b =\n",
    "  (* n est le nombre de termes restants à calculer *)\n",
    "  (* a est le dernier terme calculé de la suite *)\n",
    "  (* b est l'avant-dernier terme calculé *)\n",
    "  if n = 0 then b\n",
    "  else fibo2 (n - 1) (a + b) a in (* les derniers termes deviennent a+b et a *)\n",
    "fibo2 10 1 1"
   ]
  },
  {
   "cell_type": "markdown",
   "id": "a6d2f2b8",
   "metadata": {},
   "source": [
    "On verra aussi plus tard une technique de **mémoïsation** permettant d'éviter de faire 2x le même appel récursif, de façon systématique.\n",
    "\n",
    "Bien sûr, on pourrait aussi utiliser une boucle `for` en stockant les deux derniers termes de la suite dans des variables, mais l'objectif ici est de s'entraîner à penser récursivement.  "
   ]
  },
  {
   "cell_type": "markdown",
   "id": "fb229d3e",
   "metadata": {},
   "source": [
    "## Sous-fonction récursive\n",
    "\n",
    "Quand on souhaite écrire une fonction `f x` en utilisant une méthode récursive mais que `x` doit être accessible dans les appels récursifs, on peut utiliser une sous-fonction récursive dans `f`, et `f` se contentera d'appeler cette fonction.  \n",
    "\n",
    "Par exemple, pour savoir si un entier est premier :"
   ]
  },
  {
   "cell_type": "code",
   "execution_count": 12,
   "id": "1ef4e495",
   "metadata": {
    "execution": {
     "iopub.execute_input": "2021-09-18T20:09:04.331435Z",
     "iopub.status.busy": "2021-09-18T20:09:04.330884Z",
     "iopub.status.idle": "2021-09-18T20:09:04.334562Z",
     "shell.execute_reply": "2021-09-18T20:09:04.335099Z"
    }
   },
   "outputs": [
    {
     "data": {
      "text/plain": [
       "val premier : int -> bool = <fun>\n"
      ]
     },
     "execution_count": 12,
     "metadata": {},
     "output_type": "execute_result"
    }
   ],
   "source": [
    "let premier n =\n",
    "    let rec f k =  (* renvoie true si n n'a pas de diviseurs entre 2 et k *)\n",
    "        if k = 1 then true  (* on a regardé tous les diviseurs potentiels *)\n",
    "        else if n mod k = 0 then false  (* si k divise n *)\n",
    "        else f (k - 1) in (* vérifie que n n'a pas de diviseurs entre 2 et k *)\n",
    "    f (n - 1)  (* teste si n a un diviseur entre 2 et n - 1 *)"
   ]
  },
  {
   "cell_type": "code",
   "execution_count": 13,
   "id": "ac51c02b",
   "metadata": {
    "execution": {
     "iopub.execute_input": "2021-09-18T20:09:04.336958Z",
     "iopub.status.busy": "2021-09-18T20:09:04.336402Z",
     "iopub.status.idle": "2021-09-18T20:09:04.339827Z",
     "shell.execute_reply": "2021-09-18T20:09:04.340249Z"
    }
   },
   "outputs": [
    {
     "data": {
      "text/plain": [
       "- : bool = true\n"
      ]
     },
     "execution_count": 13,
     "metadata": {},
     "output_type": "execute_result"
    }
   ],
   "source": [
    "premier 2 && premier 3 && not (premier 4)  (* test *)"
   ]
  }
 ],
 "metadata": {
  "jupytext": {
   "cell_metadata_filter": "-all",
   "main_language": "ocaml",
   "notebook_metadata_filter": "-all"
  },
  "kernelspec": {
   "display_name": "OCaml default",
   "language": "OCaml",
   "name": "ocaml-jupyter"
  },
  "language_info": {
   "codemirror_mode": "text/x-ocaml",
   "file_extension": ".ml",
   "mimetype": "text/x-ocaml",
   "name": "OCaml",
   "nbconverter_exporter": null,
   "pygments_lexer": "OCaml",
   "version": "4.08.1"
  },
  "title": "Récursivité"
 },
 "nbformat": 4,
 "nbformat_minor": 5
}

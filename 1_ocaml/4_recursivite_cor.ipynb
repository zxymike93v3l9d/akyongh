{
 "cells": [
  {
   "cell_type": "markdown",
   "id": "34891ad0",
   "metadata": {},
   "source": [
    "# Récursivité\n",
    "\n",
    "La récursivité est la possibilité pour une fonction de s'appeller soi-même. En général, il y a deux étapes pour écrire une fonction récursive :\n",
    "1. Un **cas de base** où la fonction renvoie directement une valeur.\n",
    "2. Un **cas général** où la fonction s'appelle sur des paramètres \"plus petits\".\n",
    "\n",
    "En OCaml, une fonction récursive doit être définie par `let rec ...`. Voici un exemple :"
   ]
  },
  {
   "cell_type": "code",
   "execution_count": 1,
   "id": "675f7879",
   "metadata": {
    "execution": {
     "iopub.execute_input": "2021-10-29T14:28:06.730286Z",
     "iopub.status.busy": "2021-10-29T14:28:06.729245Z",
     "iopub.status.idle": "2021-10-29T14:28:06.733194Z",
     "shell.execute_reply": "2021-10-29T14:28:06.732685Z"
    },
    "tags": []
   },
   "outputs": [
    {
     "data": {
      "text/plain": [
       "val f : int -> unit = <fun>\n"
      ]
     },
     "execution_count": 1,
     "metadata": {},
     "output_type": "execute_result"
    }
   ],
   "source": [
    "let rec f x = (* exemple de fonction récursive *)\n",
    "    if x = 0 then print_newline () (* cas de base *)\n",
    "    else (print_int x; \n",
    "          f (x - 1)) (* cas général *)"
   ]
  },
  {
   "cell_type": "markdown",
   "id": "9e2ee123",
   "metadata": {},
   "source": [
    "`f x` affiche un retour à la ligne si `x` est égal à 0, et sinon affiche `x` puis appelle `f (x - 1)`."
   ]
  },
  {
   "cell_type": "markdown",
   "id": "71a89d5e",
   "metadata": {},
   "source": [
    "Essayons cette fonction :"
   ]
  },
  {
   "cell_type": "code",
   "execution_count": 2,
   "id": "38116173",
   "metadata": {
    "execution": {
     "iopub.execute_input": "2021-10-29T14:28:06.735481Z",
     "iopub.status.busy": "2021-10-29T14:28:06.734977Z",
     "iopub.status.idle": "2021-10-29T14:28:06.739081Z",
     "shell.execute_reply": "2021-10-29T14:28:06.739448Z"
    },
    "tags": []
   },
   "outputs": [
    {
     "name": "stdout",
     "output_type": "stream",
     "text": [
      "21\n"
     ]
    },
    {
     "data": {
      "text/plain": [
       "- : unit = ()\n"
      ]
     },
     "execution_count": 2,
     "metadata": {},
     "output_type": "execute_result"
    }
   ],
   "source": [
    "f 2"
   ]
  },
  {
   "cell_type": "markdown",
   "id": "49ed1fda",
   "metadata": {},
   "source": [
    "Voici ce qui se passe lors de cet appel `f 2` :  \n",
    "\n",
    "1. On regarde si `2 = 0`, ce qui est faux. On passe donc dans le `else`.\n",
    "2. On affiche `2` avec `print_int x`.\n",
    "3. On appelle `f` sur la valeur 1. Le calcul de `f 2` se met en pause et on exécute `f 1`. Quand `f 1` sera terminé, l'appel de `f 2` continuera et `f 1` sera remplacé par sa valeur de retour. \n",
    "4. L'exécution de `f 1` affiche `1` puis appelle `f 0`. Le calcul de `f 1` se met en pause et on exécute `f 0`. Quand `f 0` sera terminé, l'appel de `f 2` continuera et `f 0` sera remplacé par sa valeur de retour.\n",
    "5. `f 0` exécute `print_newline ()` et s'arrête (en renvoyant `()`).\n",
    "6. L'exécution de `f 1` reprend et `f 1` s'arrête.\n",
    "7. L'exécution de `f 2` reprend et `f 2` s'arrête."
   ]
  },
  {
   "cell_type": "markdown",
   "id": "38a48435",
   "metadata": {},
   "source": [
    "Vous pouvez visualiser l'exécution d'un code similaire en Python avec [Python Tutor](http://www.pythontutor.com/visualize.html#code=def%20f%28n%29%3A%0A%20%20%20%20if%20n%20%3D%3D%200%3A%0A%20%20%20%20%20%20%20%20return%0A%20%20%20%20print%28n%29%0A%20%20%20%20f%28n-1%29%0A%0Af%284%29&cumulative=false&curInstr=0&heapPrimitives=nevernest&mode=display&origin=opt-frontend.js&py=3&rawInputLstJSON=%5B%5D&textReferences=false). Il est important de bien comprendre comment les appels récursifs s'effectuent."
   ]
  },
  {
   "cell_type": "markdown",
   "id": "196dadeb",
   "metadata": {},
   "source": [
    "Un exemple classique d'utilisation de la récursivité est le calcul de la factorielle d'un entier $n$, définie par $n! = n \\times (n - 1) \\times ... \\times 2 \\times 1$.  \n",
    "Pour définir une fonction récursive calculant $n!$ on a besoin de deux choses :\n",
    "- **Cas de base**  : si $n = 0$, on peut renvoyer directement 1 (par convention $0! = 1$), sans appel récursif.\n",
    "- **Cas général/récurrence** : si $n$ est quelconque, il faut rammener le calcul de $n!$ à un calcul d'une factorielle plus petite (de façon à se rapprocher du cas de base). Pour cela, on peut remarquer que $n! = n\\times (n-1)!$ et donc que calculer $(n-1)!$ permet d'en déduire $n!$.  \n",
    "On en déduit le code suivant :"
   ]
  },
  {
   "cell_type": "code",
   "execution_count": 3,
   "id": "832e0ee6",
   "metadata": {
    "execution": {
     "iopub.execute_input": "2021-10-29T14:28:06.741672Z",
     "iopub.status.busy": "2021-10-29T14:28:06.740940Z",
     "iopub.status.idle": "2021-10-29T14:28:06.744051Z",
     "shell.execute_reply": "2021-10-29T14:28:06.744418Z"
    }
   },
   "outputs": [
    {
     "data": {
      "text/plain": [
       "val fact : int -> int = <fun>\n"
      ]
     },
     "execution_count": 3,
     "metadata": {},
     "output_type": "execute_result"
    }
   ],
   "source": [
    "let rec fact n =\n",
    "    if n = 0 then 1 (* par convention 0! = 1 *)\n",
    "    else n*fact (n - 1)"
   ]
  },
  {
   "cell_type": "code",
   "execution_count": 4,
   "id": "b78f2476",
   "metadata": {
    "execution": {
     "iopub.execute_input": "2021-10-29T14:28:06.746754Z",
     "iopub.status.busy": "2021-10-29T14:28:06.745745Z",
     "iopub.status.idle": "2021-10-29T14:28:06.748903Z",
     "shell.execute_reply": "2021-10-29T14:28:06.749575Z"
    }
   },
   "outputs": [
    {
     "data": {
      "text/plain": [
       "- : int = 24\n"
      ]
     },
     "execution_count": 4,
     "metadata": {},
     "output_type": "execute_result"
    }
   ],
   "source": [
    "fact 4"
   ]
  },
  {
   "cell_type": "markdown",
   "id": "756eeea7",
   "metadata": {},
   "source": [
    "**Remarque** : Si on oublie le cas de base (`if n = 0`) la fonction ne s'arrête jamais (`fact 0` appelerait `fact (-1)` qui appelerait `fact (-2)` et ainsi de suite...) !"
   ]
  },
  {
   "cell_type": "markdown",
   "id": "6d45426e",
   "metadata": {},
   "source": [
    "Écrire une fonction récursive ressemble beaucoup à écrire une démonstration mathématiques par récurrence et d'ailleurs on utilisera souvent une démonstration par récurrence pour démontrer qu'une fonction récursive est correcte, c'est à dire renvoie bien la bonne valeur.  \n",
    "Par exemple, pour démontrer que `fact` est correcte, on peut poser l'hypothèse de récurrence :\n",
    "$$\\mathcal{H}(n) : \\text{fact } n \\text{ renvoie } n!$$\n",
    "**Preuve** :\n",
    "1. $\\mathcal{H}(0)$ est vraie car `fact 0` renvoie 1 et, par définition, $0! = 1$.  \n",
    "2. Soit $n$ un entier strictement positif. Supposons $\\mathcal{H}(n - 1)$ et montrons $\\mathcal{H}(n)$.  \n",
    "Comme $n > 0$, `fact n` renvoie `n*fact (n - 1)`. D'après $\\mathcal{H}(n - 1)$, `fact (n - 1)` renvoie $(n - 1)!$. Donc `fact n` renvoie $n(n - 1)! = n!$, ce qui démontre $\\mathcal{H}(n)$.  \n",
    "D'après le principe de récurrence, $\\mathcal{H}(n)$ est vraie pour tout $n \\in \\mathbb{N}$. "
   ]
  },
  {
   "cell_type": "markdown",
   "id": "6877bcad",
   "metadata": {},
   "source": [
    "**Exercice** : Qu'affiche le code suivant? Le deviner puis exécuter le code pour vérifier.\n",
    "```ocaml\n",
    "let rec f x =\n",
    "    if x = 0 then print_newline ()\n",
    "    else (f (x - 1);\n",
    "          print_int x) in\n",
    "f 5    \n",
    "```"
   ]
  },
  {
   "cell_type": "code",
   "execution_count": 5,
   "id": "a20b1d1d",
   "metadata": {
    "execution": {
     "iopub.execute_input": "2021-10-29T14:28:06.752435Z",
     "iopub.status.busy": "2021-10-29T14:28:06.751482Z",
     "iopub.status.idle": "2021-10-29T14:28:06.756933Z",
     "shell.execute_reply": "2021-10-29T14:28:06.756461Z"
    },
    "tags": [
     "cor"
    ]
   },
   "outputs": [
    {
     "name": "stdout",
     "output_type": "stream",
     "text": [
      "\n"
     ]
    },
    {
     "data": {
      "text/plain": [
       "- : unit = ()\n"
      ]
     },
     "execution_count": 5,
     "metadata": {},
     "output_type": "execute_result"
    }
   ],
   "source": [
    "let rec f x =\n",
    "    if x = 0 then print_newline ()\n",
    "    else (f (x - 1);\n",
    "          print_int x) in\n",
    "f 5    "
   ]
  },
  {
   "cell_type": "markdown",
   "id": "730854e7",
   "metadata": {},
   "source": [
    "**Exercice** : \n",
    "1. Écrire une fonction récursive pour calculer la somme des $n$ premiers entiers $S(n) = 0 + 1 + 2 + ... + (n - 1)$.\n",
    "2. Quelle formule connaissez-vous pour calculer $S(n)$? En déduire une autre fonction (non récursive) pour calculer cette valeur. Vérifier sur des exemples que les deux fonctions donnent la même valeur. "
   ]
  },
  {
   "cell_type": "code",
   "execution_count": 6,
   "id": "0f275ba6",
   "metadata": {
    "execution": {
     "iopub.execute_input": "2021-10-29T14:28:06.759023Z",
     "iopub.status.busy": "2021-10-29T14:28:06.758251Z",
     "iopub.status.idle": "2021-10-29T14:28:06.765240Z",
     "shell.execute_reply": "2021-10-29T14:28:06.764788Z"
    },
    "tags": [
     "cor"
    ]
   },
   "outputs": [
    {
     "data": {
      "text/plain": [
       "val somme : int -> int = <fun>\n"
      ]
     },
     "execution_count": 6,
     "metadata": {},
     "output_type": "execute_result"
    },
    {
     "data": {
      "text/plain": [
       "val somme2 : int -> int = <fun>\n"
      ]
     },
     "execution_count": 6,
     "metadata": {},
     "output_type": "execute_result"
    },
    {
     "data": {
      "text/plain": [
       "- : bool = true\n"
      ]
     },
     "execution_count": 6,
     "metadata": {},
     "output_type": "execute_result"
    }
   ],
   "source": [
    "(* 1. *)\n",
    "let rec somme n =\n",
    "    if n = 1 then 1 (* S(1) = 1 *)\n",
    "    else n + somme (n - 1);; (* on utilise S(n) = n + S(n - 1) *)\n",
    "\n",
    "(* 2. *)\n",
    "let somme2 n =\n",
    "    n*(n+1)/2;; (* on utilise la formule de Gauss *)\n",
    "    \n",
    "somme 42 = somme2 42 (* vérification *)"
   ]
  },
  {
   "cell_type": "markdown",
   "id": "63bea99c",
   "metadata": {},
   "source": [
    "Une application classique de la récursivité est le calcul des termes d'une suite récurrente.  \n",
    "Par exemple :\n",
    "$$\\begin{cases} \n",
    "u_{n} = 3u_{n-1} + 2, \\text{si } n > 0\\\\\n",
    "u_0 = 5\n",
    "\\end{cases}$$"
   ]
  },
  {
   "cell_type": "markdown",
   "id": "4a1d4a53",
   "metadata": {},
   "source": [
    "Cette définition par récurrence se traduit naturellement en fonction récursive :"
   ]
  },
  {
   "cell_type": "code",
   "execution_count": 7,
   "id": "ca0f0b3a",
   "metadata": {
    "execution": {
     "iopub.execute_input": "2021-10-29T14:28:06.767911Z",
     "iopub.status.busy": "2021-10-29T14:28:06.767419Z",
     "iopub.status.idle": "2021-10-29T14:28:06.770216Z",
     "shell.execute_reply": "2021-10-29T14:28:06.770590Z"
    }
   },
   "outputs": [
    {
     "data": {
      "text/plain": [
       "val u : int -> int = <fun>\n"
      ]
     },
     "execution_count": 7,
     "metadata": {},
     "output_type": "execute_result"
    }
   ],
   "source": [
    "let rec u n = \n",
    "    if n = 0 then 5\n",
    "    else 3*(u (n - 1)) + 2"
   ]
  },
  {
   "cell_type": "code",
   "execution_count": 8,
   "id": "9aa63d3e",
   "metadata": {
    "execution": {
     "iopub.execute_input": "2021-10-29T14:28:06.772255Z",
     "iopub.status.busy": "2021-10-29T14:28:06.771772Z",
     "iopub.status.idle": "2021-10-29T14:28:06.774048Z",
     "shell.execute_reply": "2021-10-29T14:28:06.773647Z"
    }
   },
   "outputs": [
    {
     "data": {
      "text/plain": [
       "- : int = 354293\n"
      ]
     },
     "execution_count": 8,
     "metadata": {},
     "output_type": "execute_result"
    }
   ],
   "source": [
    "u 10"
   ]
  },
  {
   "cell_type": "markdown",
   "id": "c1660740",
   "metadata": {},
   "source": [
    "**Exercice** : calculer $v_{10}$, où $v_n$ est définie par\n",
    "$$\\begin{cases} \n",
    "v_{n+1} = \\sqrt{v_{n}} + 4, \\text{si } n > 0\\\\\n",
    "v_1 = 5\n",
    "\\end{cases}$$"
   ]
  },
  {
   "cell_type": "code",
   "execution_count": 9,
   "id": "05b56ea0",
   "metadata": {
    "execution": {
     "iopub.execute_input": "2021-10-29T14:28:06.775879Z",
     "iopub.status.busy": "2021-10-29T14:28:06.775392Z",
     "iopub.status.idle": "2021-10-29T14:28:06.782868Z",
     "shell.execute_reply": "2021-10-29T14:28:06.782449Z"
    },
    "tags": [
     "cor"
    ]
   },
   "outputs": [
    {
     "data": {
      "text/plain": [
       "- : float = 6.56155211605287\n"
      ]
     },
     "execution_count": 9,
     "metadata": {},
     "output_type": "execute_result"
    }
   ],
   "source": [
    "let rec v n = \n",
    "    if n = 1 then 5. \n",
    "    else (v (n - 1))**0.5 +. 4. in (* le résultat est un flottant à cause de la racine *)\n",
    "v 10"
   ]
  },
  {
   "cell_type": "markdown",
   "id": "3286d167",
   "metadata": {},
   "source": [
    "Un autre exemple classique est la suite de Fibonacci :\n",
    "$$u_0 = 1$$\n",
    "$$u_1 = 1$$\n",
    "$$u_n = u_{n - 1} + u_{n - 2}$$\n",
    "\n",
    "On pourrait l'implémenter de la façon suivante :"
   ]
  },
  {
   "cell_type": "code",
   "execution_count": 10,
   "id": "254dd37a",
   "metadata": {
    "execution": {
     "iopub.execute_input": "2021-10-29T14:28:06.784725Z",
     "iopub.status.busy": "2021-10-29T14:28:06.784245Z",
     "iopub.status.idle": "2021-10-29T14:28:06.788927Z",
     "shell.execute_reply": "2021-10-29T14:28:06.788506Z"
    }
   },
   "outputs": [
    {
     "data": {
      "text/plain": [
       "- : int = 89\n"
      ]
     },
     "execution_count": 10,
     "metadata": {},
     "output_type": "execute_result"
    }
   ],
   "source": [
    "let rec fibo n =\n",
    "    if n <= 1 then 1\n",
    "    else fibo (n - 1) + fibo (n - 2) in\n",
    "fibo 10"
   ]
  },
  {
   "cell_type": "markdown",
   "id": "df341f3d",
   "metadata": {},
   "source": [
    "**Attention : cette méthode est très inefficace. Pour s'en convaincre, regardons visuellement les appels récursifs de fibo :**\n",
    "\n",
    "<center><img src=img/fibo.png width=450></center>\n",
    "\n",
    "Il y a de nombreux calculs inutiles : par exemple, `fibo 3` est appelé 2 fois et `fibo 2` est appelé 3 fois, ce qui est inefficace. "
   ]
  },
  {
   "cell_type": "markdown",
   "id": "fe5b6158",
   "metadata": {},
   "source": [
    "**Exercice** : Montrer que le nombre d'appels récursifs pour calculer `fibo n` est exponentiel en $n$ (c'est à dire supérieur à $a^n$ pour un certain $a$ indépendant de $n$)."
   ]
  },
  {
   "cell_type": "markdown",
   "id": "ad1653df",
   "metadata": {},
   "source": [
    "Soit $C_{n}$ le nombre d'appels récursifs effectués par `fibo n` (on compte l'appel de `fibo n` ainsi que tous ses sous-appels récursifs). Alors : \n",
    "$$C_{n} = \\underbrace{C_{n-1}}_{\\text{appels récursifs de  fibo (n-1)}} + \\underbrace{C_{n-2}}_{\\text{appels récursifs de fibo (n-2)}}$$\n",
    "$C_{n}$ vérifie donc la même équation de récurrence que la suite de Fibonacci. Pour donner un minorant simplement, on peut remarquer que $C_{n-1} \\geq C_{n - 2}$ (car $C_{n-1} = C_{n - 2} + \\underbrace{C_{n - 3}}_{\\geq 0}$) donc $C_{n} \\geq 2 C_{n - 2}$ et en appliquant cette inégalité plusieurs fois :\n",
    "$$C_{n} \\geq 2 C_{n - 2} \\geq 2^2 C_{n - 4} \\geq 2^3 C_{n - 6} \\geq ... \\geq 2^\\frac{n}{2} C_{n - 2\\frac{n}{2}} = 2^\\frac{n}{2}$$\n",
    "On a donc montré que $\\boxed{\\forall n \\in \\mathbb{N}, C_{n} \\geq 2^\\frac{n}{2}}$ : `fibo n` effectue un nombre exponentiel (en $n$) d'appels récursifs."
   ]
  },
  {
   "cell_type": "markdown",
   "id": "51f0dded",
   "metadata": {},
   "source": [
    "Il est possible d'éviter ces appels inutiles en utilisant un **accumulateur**. Un accumulateur est un argument d'une fonction récursive que l'on va utiliser pour construire le résultat final. L'accumulateur est modifié à chaque appel récursif."
   ]
  },
  {
   "cell_type": "code",
   "execution_count": 11,
   "id": "db3fc8f4",
   "metadata": {
    "execution": {
     "iopub.execute_input": "2021-10-29T14:28:06.790841Z",
     "iopub.status.busy": "2021-10-29T14:28:06.790385Z",
     "iopub.status.idle": "2021-10-29T14:28:06.794628Z",
     "shell.execute_reply": "2021-10-29T14:28:06.795027Z"
    }
   },
   "outputs": [
    {
     "data": {
      "text/plain": [
       "- : int = 89\n"
      ]
     },
     "execution_count": 11,
     "metadata": {},
     "output_type": "execute_result"
    }
   ],
   "source": [
    "let rec fibo2 n a b =\n",
    "  (* n est le nombre de termes restants à calculer *)\n",
    "  (* a est le dernier terme calculé de la suite *)\n",
    "  (* b est l'avant-dernier terme calculé *)\n",
    "  if n = 0 then b\n",
    "  else fibo2 (n - 1) (a + b) a in (* les derniers termes deviennent a+b et a *)\n",
    "fibo2 10 1 1"
   ]
  },
  {
   "cell_type": "markdown",
   "id": "210c5dc7",
   "metadata": {},
   "source": [
    "On verra aussi plus tard une technique de **mémoïsation** permettant d'éviter de faire 2x le même appel récursif, de façon systématique.\n",
    "\n",
    "Bien sûr, on pourrait aussi utiliser une boucle `for` en stockant les deux derniers termes de la suite dans des variables, mais l'objectif ici est de s'entraîner à penser récursivement.  "
   ]
  },
  {
   "cell_type": "markdown",
   "id": "abd9f1c5",
   "metadata": {},
   "source": [
    "## Sous-fonction récursive\n",
    "\n",
    "Quand on souhaite écrire une fonction `f x` en utilisant une méthode récursive mais que `x` doit être accessible dans les appels récursifs, on peut utiliser une sous-fonction récursive dans `f`, et `f` se contentera d'appeler cette fonction.  \n",
    "\n",
    "Par exemple, pour savoir si un entier est premier :"
   ]
  },
  {
   "cell_type": "code",
   "execution_count": 12,
   "id": "0df41fd2",
   "metadata": {
    "execution": {
     "iopub.execute_input": "2021-10-29T14:28:06.796902Z",
     "iopub.status.busy": "2021-10-29T14:28:06.796354Z",
     "iopub.status.idle": "2021-10-29T14:28:06.800239Z",
     "shell.execute_reply": "2021-10-29T14:28:06.800633Z"
    }
   },
   "outputs": [
    {
     "data": {
      "text/plain": [
       "val premier : int -> bool = <fun>\n"
      ]
     },
     "execution_count": 12,
     "metadata": {},
     "output_type": "execute_result"
    }
   ],
   "source": [
    "let premier n =\n",
    "    let rec f k =  (* renvoie true si n n'a pas de diviseurs entre 2 et k *)\n",
    "        if k = 1 then true  (* on a regardé tous les diviseurs potentiels *)\n",
    "        else if n mod k = 0 then false  (* si k divise n *)\n",
    "        else f (k - 1) in (* vérifie que n n'a pas de diviseurs entre 2 et k *)\n",
    "    f (n - 1)  (* teste si n a un diviseur entre 2 et n - 1 *)"
   ]
  },
  {
   "cell_type": "code",
   "execution_count": 13,
   "id": "6636b38c",
   "metadata": {
    "execution": {
     "iopub.execute_input": "2021-10-29T14:28:06.802438Z",
     "iopub.status.busy": "2021-10-29T14:28:06.801949Z",
     "iopub.status.idle": "2021-10-29T14:28:06.806258Z",
     "shell.execute_reply": "2021-10-29T14:28:06.805806Z"
    }
   },
   "outputs": [
    {
     "data": {
      "text/plain": [
       "- : bool = true\n"
      ]
     },
     "execution_count": 13,
     "metadata": {},
     "output_type": "execute_result"
    }
   ],
   "source": [
    "premier 2 && premier 3 && not (premier 4)  (* test *)"
   ]
  }
 ],
 "metadata": {
  "jupytext": {
   "cell_metadata_filter": "-all",
   "main_language": "ocaml",
   "notebook_metadata_filter": "-all"
  },
  "kernelspec": {
   "display_name": "OCaml default",
   "language": "OCaml",
   "name": "ocaml-jupyter"
  },
  "language_info": {
   "codemirror_mode": "text/x-ocaml",
   "file_extension": ".ml",
   "mimetype": "text/x-ocaml",
   "name": "OCaml",
   "nbconverter_exporter": null,
   "pygments_lexer": "OCaml",
   "version": "4.08.1"
  },
  "title": "Récursivité"
 },
 "nbformat": 4,
 "nbformat_minor": 5
}

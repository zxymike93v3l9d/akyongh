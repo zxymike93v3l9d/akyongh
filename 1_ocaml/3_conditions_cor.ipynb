{
 "cells": [
  {
   "cell_type": "markdown",
   "id": "547c5bf8",
   "metadata": {},
   "source": [
    "# Conditions"
   ]
  },
  {
   "cell_type": "markdown",
   "id": "e15d9971",
   "metadata": {},
   "source": [
    "## Booléens"
   ]
  },
  {
   "cell_type": "markdown",
   "id": "9f90e7b1",
   "metadata": {},
   "source": [
    "Une valeur booléenne (bool) est soit true (vrai) soit false (faux). Exemple de variable de type bool :"
   ]
  },
  {
   "cell_type": "code",
   "execution_count": 1,
   "id": "7c917bdb",
   "metadata": {
    "execution": {
     "iopub.execute_input": "2021-10-31T14:09:54.360927Z",
     "iopub.status.busy": "2021-10-31T14:09:54.359961Z",
     "iopub.status.idle": "2021-10-31T14:09:54.363421Z",
     "shell.execute_reply": "2021-10-31T14:09:54.361659Z"
    }
   },
   "outputs": [
    {
     "data": {
      "text/plain": [
       "val a : bool = true\n"
      ]
     },
     "execution_count": 1,
     "metadata": {},
     "output_type": "execute_result"
    }
   ],
   "source": [
    "let a = true"
   ]
  },
  {
   "cell_type": "markdown",
   "id": "37aa84b5",
   "metadata": {},
   "source": [
    "## Comparaison"
   ]
  },
  {
   "cell_type": "markdown",
   "id": "bc430c36",
   "metadata": {},
   "source": [
    "On peut tester l'égalité de deux **valeurs** avec `=` :"
   ]
  },
  {
   "cell_type": "code",
   "execution_count": 2,
   "id": "b7fe84c6",
   "metadata": {
    "execution": {
     "iopub.execute_input": "2021-10-31T14:09:54.365988Z",
     "iopub.status.busy": "2021-10-31T14:09:54.364985Z",
     "iopub.status.idle": "2021-10-31T14:09:54.369695Z",
     "shell.execute_reply": "2021-10-31T14:09:54.369223Z"
    },
    "tags": []
   },
   "outputs": [
    {
     "data": {
      "text/plain": [
       "- : bool = true\n"
      ]
     },
     "execution_count": 2,
     "metadata": {},
     "output_type": "execute_result"
    }
   ],
   "source": [
    "3 = 1 + 2"
   ]
  },
  {
   "cell_type": "markdown",
   "id": "47e01b55",
   "metadata": {},
   "source": [
    "On peut aussi utiliser `=` sur des variables, auquel cas on compare leurs valeurs :"
   ]
  },
  {
   "cell_type": "code",
   "execution_count": 3,
   "id": "193383b9",
   "metadata": {
    "execution": {
     "iopub.execute_input": "2021-10-31T14:09:54.371577Z",
     "iopub.status.busy": "2021-10-31T14:09:54.371063Z",
     "iopub.status.idle": "2021-10-31T14:09:54.374371Z",
     "shell.execute_reply": "2021-10-31T14:09:54.373914Z"
    }
   },
   "outputs": [
    {
     "data": {
      "text/plain": [
       "- : bool = false\n"
      ]
     },
     "execution_count": 3,
     "metadata": {},
     "output_type": "execute_result"
    }
   ],
   "source": [
    "let a = 3 in\n",
    "let b = 4 in\n",
    "a = b (* teste si les valeurs de a et b sont égales *)"
   ]
  },
  {
   "cell_type": "markdown",
   "id": "cf3e06b3",
   "metadata": {},
   "source": [
    "**Attention** : le `=`  de OCaml correspond au `==` de Python. `==` existe en OCaml, mais compare les **adresses mémoires** de 2 variables au lieu de leurs valeurs et on ne l'utilisera presque jamais."
   ]
  },
  {
   "cell_type": "markdown",
   "id": "5d583fea",
   "metadata": {},
   "source": [
    "On peut comparer des valeurs numériques avec `<` (inférieur strict), `>`, `<=` (inférieur ou égal), `>=`, `<>` (différent)... :"
   ]
  },
  {
   "cell_type": "code",
   "execution_count": 4,
   "id": "aadde9f0",
   "metadata": {
    "execution": {
     "iopub.execute_input": "2021-10-31T14:09:54.376615Z",
     "iopub.status.busy": "2021-10-31T14:09:54.376074Z",
     "iopub.status.idle": "2021-10-31T14:09:54.378802Z",
     "shell.execute_reply": "2021-10-31T14:09:54.378330Z"
    }
   },
   "outputs": [
    {
     "data": {
      "text/plain": [
       "- : bool = false\n"
      ]
     },
     "execution_count": 4,
     "metadata": {},
     "output_type": "execute_result"
    }
   ],
   "source": [
    "2 < 1"
   ]
  },
  {
   "cell_type": "markdown",
   "id": "a472fcfc",
   "metadata": {},
   "source": [
    "Il faut obligatoirement comparer des valeurs de même type :"
   ]
  },
  {
   "cell_type": "code",
   "execution_count": 5,
   "id": "abaa2ab5",
   "metadata": {
    "execution": {
     "iopub.execute_input": "2021-10-31T14:09:54.380576Z",
     "iopub.status.busy": "2021-10-31T14:09:54.380092Z",
     "iopub.status.idle": "2021-10-31T14:09:54.382029Z",
     "shell.execute_reply": "2021-10-31T14:09:54.382424Z"
    }
   },
   "outputs": [
    {
     "ename": "error",
     "evalue": "compile_error",
     "output_type": "error",
     "traceback": [
      "File \"[5]\", line 1, characters 6-7:\n1 | 2.4 < 3 (* on ne peut pas comparer un float avec un int *)\n          ^\nError: This expression has type int but an expression was expected of type\n         float\n"
     ]
    }
   ],
   "source": [
    "2.4 < 3 (* on ne peut pas comparer un float avec un int *)"
   ]
  },
  {
   "cell_type": "code",
   "execution_count": 6,
   "id": "5d5269e3",
   "metadata": {
    "execution": {
     "iopub.execute_input": "2021-10-31T14:09:54.384136Z",
     "iopub.status.busy": "2021-10-31T14:09:54.383624Z",
     "iopub.status.idle": "2021-10-31T14:09:54.387260Z",
     "shell.execute_reply": "2021-10-31T14:09:54.385913Z"
    }
   },
   "outputs": [
    {
     "data": {
      "text/plain": [
       "- : bool = true\n"
      ]
     },
     "execution_count": 6,
     "metadata": {},
     "output_type": "execute_result"
    }
   ],
   "source": [
    "2.4 < 3.0 (* par contre ceci fonctionne *)"
   ]
  },
  {
   "cell_type": "markdown",
   "id": "bd2b0c8a",
   "metadata": {},
   "source": [
    "**Remarque** : pas besoin de mettre des points (.) sur `<`, `>` ..."
   ]
  },
  {
   "cell_type": "markdown",
   "id": "0a755df1",
   "metadata": {},
   "source": [
    "Les opérateurs `&&` (et), `||` (ou), `not` permettent de combiner des conditions :"
   ]
  },
  {
   "cell_type": "code",
   "execution_count": 7,
   "id": "1c3c1a15",
   "metadata": {
    "execution": {
     "iopub.execute_input": "2021-10-31T14:09:54.389035Z",
     "iopub.status.busy": "2021-10-31T14:09:54.388566Z",
     "iopub.status.idle": "2021-10-31T14:09:54.391288Z",
     "shell.execute_reply": "2021-10-31T14:09:54.391733Z"
    },
    "tags": []
   },
   "outputs": [
    {
     "data": {
      "text/plain": [
       "- : bool = true\n"
      ]
     },
     "execution_count": 7,
     "metadata": {},
     "output_type": "execute_result"
    }
   ],
   "source": [
    "1 < 2 && 2 < 3"
   ]
  },
  {
   "cell_type": "code",
   "execution_count": 8,
   "id": "f5f92776",
   "metadata": {
    "execution": {
     "iopub.execute_input": "2021-10-31T14:09:54.393461Z",
     "iopub.status.busy": "2021-10-31T14:09:54.392960Z",
     "iopub.status.idle": "2021-10-31T14:09:54.396664Z",
     "shell.execute_reply": "2021-10-31T14:09:54.396028Z"
    },
    "tags": []
   },
   "outputs": [
    {
     "data": {
      "text/plain": [
       "- : bool = false\n"
      ]
     },
     "execution_count": 8,
     "metadata": {},
     "output_type": "execute_result"
    }
   ],
   "source": [
    "let a = 0 in\n",
    "a <> 0 || a > 3 (* test si a est différent de 0 ou supérieur à 3 *)"
   ]
  },
  {
   "cell_type": "markdown",
   "id": "a8af219b",
   "metadata": {},
   "source": [
    "**Exercice**\n",
    "\n",
    "1. Quelle est la valeur du code suivant?\n",
    "```ocaml\n",
    "let a = 42 in\n",
    "not (a = 42 && (a < 10 || a > 30))\n",
    "```\n",
    "2. Comment aurait-on pu écrire `not (a = 42 && (a < 10 || a > 30))` sans `not`?\n",
    "3. Écrire une fonction `xor : bool -> bool -> bool` telle que `xor a b` renvoie le \"ou exclusif\" de `a` et `b`, c'est à dire `true` si `a` ou `b` est `true`, mais pas les deux."
   ]
  },
  {
   "cell_type": "code",
   "execution_count": 9,
   "id": "9c19b372",
   "metadata": {
    "execution": {
     "iopub.execute_input": "2021-10-31T14:09:54.398590Z",
     "iopub.status.busy": "2021-10-31T14:09:54.398036Z",
     "iopub.status.idle": "2021-10-31T14:09:54.403472Z",
     "shell.execute_reply": "2021-10-31T14:09:54.403051Z"
    },
    "tags": [
     "cor"
    ]
   },
   "outputs": [
    {
     "data": {
      "text/plain": [
       "- : bool = false\n"
      ]
     },
     "execution_count": 9,
     "metadata": {},
     "output_type": "execute_result"
    },
    {
     "ename": "error",
     "evalue": "compile_error",
     "output_type": "error",
     "traceback": [
      "File \"[9]\", line 7, characters 5-7:\n7 | a <> 42 || (a >= 10 && a <= 30)\n         ^^\nError: This expression has type int but an expression was expected of type\n         bool\n"
     ]
    }
   ],
   "source": [
    "(* 1 *)\n",
    "let a = 42 in\n",
    "not (a = 42 && (a < 10 || a > 30));; (* false *)\n",
    "\n",
    "(* 2 *)\n",
    "(* Pour prendre la négation, on inverse toutes les conditions et opérateurs booléens (< devient >=, && devient || ...) *)\n",
    "a <> 42 || (a >= 10 && a <= 30)\n",
    "\n",
    "(* 3. *)\n",
    "let xor a b = (a || b) && (not a || not b);;\n",
    "xor true false;;\n",
    "xor true true;;"
   ]
  },
  {
   "cell_type": "markdown",
   "id": "f7a37fa9",
   "metadata": {},
   "source": [
    "## Condition if\n",
    "\n",
    "On peut écrire une condition `if` de la façon suivante en OCaml :\n",
    "```ocaml\n",
    "if ... then ... else ...\n",
    "```\n",
    "La condition du `if` doit être un booléen. Si la condition est vraie, le `then` est exécuté et sa valeur est renvoyé. Sinon, c'est la valeur du `else` qui est renvoyé :  "
   ]
  },
  {
   "cell_type": "code",
   "execution_count": 10,
   "id": "2a38982d",
   "metadata": {
    "execution": {
     "iopub.execute_input": "2021-10-31T14:09:54.405346Z",
     "iopub.status.busy": "2021-10-31T14:09:54.404841Z",
     "iopub.status.idle": "2021-10-31T14:09:54.408285Z",
     "shell.execute_reply": "2021-10-31T14:09:54.408787Z"
    }
   },
   "outputs": [
    {
     "data": {
      "text/plain": [
       "- : int = 24\n"
      ]
     },
     "execution_count": 10,
     "metadata": {},
     "output_type": "execute_result"
    }
   ],
   "source": [
    "if 1 = 2 then 42 else 24"
   ]
  },
  {
   "cell_type": "markdown",
   "id": "7f5a36c4",
   "metadata": {},
   "source": [
    "Définissons par exemple la fonction valeur absolue ($x \\longmapsto \\vert x \\vert$) :"
   ]
  },
  {
   "cell_type": "code",
   "execution_count": 11,
   "id": "b1496cfc",
   "metadata": {
    "execution": {
     "iopub.execute_input": "2021-10-31T14:09:54.411106Z",
     "iopub.status.busy": "2021-10-31T14:09:54.410500Z",
     "iopub.status.idle": "2021-10-31T14:09:54.413634Z",
     "shell.execute_reply": "2021-10-31T14:09:54.413123Z"
    },
    "tags": []
   },
   "outputs": [
    {
     "data": {
      "text/plain": [
       "val abs : float -> float = <fun>\n"
      ]
     },
     "execution_count": 11,
     "metadata": {},
     "output_type": "execute_result"
    }
   ],
   "source": [
    "let abs x =\n",
    "    if x < 0. then -. x\n",
    "    else x"
   ]
  },
  {
   "cell_type": "markdown",
   "id": "62f985c0",
   "metadata": {},
   "source": [
    "Rappelons qu'il n'y a pas de `return` en OCaml : c'est la dernière expression calculée par la fonction qui est renvoyée. Ainsi `abs x` renvoie `-x` si `x` est négatif et `x` sinon.  "
   ]
  },
  {
   "cell_type": "code",
   "execution_count": 12,
   "id": "64ade917",
   "metadata": {
    "execution": {
     "iopub.execute_input": "2021-10-31T14:09:54.415736Z",
     "iopub.status.busy": "2021-10-31T14:09:54.415137Z",
     "iopub.status.idle": "2021-10-31T14:09:54.418595Z",
     "shell.execute_reply": "2021-10-31T14:09:54.418002Z"
    },
    "tags": []
   },
   "outputs": [
    {
     "data": {
      "text/plain": [
       "- : float = 2.718\n"
      ]
     },
     "execution_count": 12,
     "metadata": {},
     "output_type": "execute_result"
    }
   ],
   "source": [
    "abs (-2.718)  (* je mets des parenthèses à cause du - *)"
   ]
  },
  {
   "cell_type": "markdown",
   "id": "41bbed04",
   "metadata": {},
   "source": [
    "Pour plus de lisibilité on sautera une ligne avant `then` et `else`, sauf si le contenu du `if` est très court."
   ]
  },
  {
   "cell_type": "markdown",
   "id": "e5d3c3c2",
   "metadata": {},
   "source": [
    "**Exercice** : Écrire une fonction `max` renvoyant le maximum de ses 2 arguments.  \n",
    "Remarque : cette fonction existe déjà et peut être utilisée telle quelle.  "
   ]
  },
  {
   "cell_type": "code",
   "execution_count": 13,
   "id": "07f9e64d",
   "metadata": {
    "execution": {
     "iopub.execute_input": "2021-10-31T14:09:54.420553Z",
     "iopub.status.busy": "2021-10-31T14:09:54.420028Z",
     "iopub.status.idle": "2021-10-31T14:09:54.423049Z",
     "shell.execute_reply": "2021-10-31T14:09:54.422518Z"
    }
   },
   "outputs": [
    {
     "data": {
      "text/plain": [
       "val max : 'a -> 'a -> 'a = <fun>\n"
      ]
     },
     "execution_count": 13,
     "metadata": {},
     "output_type": "execute_result"
    }
   ],
   "source": [
    "let max x y = if x < y then y else x"
   ]
  },
  {
   "cell_type": "markdown",
   "id": "c8fe6e80",
   "metadata": {},
   "source": [
    "Dans un `if ... then ... else ...`, les valeurs dans le `then` et dans le `else` doivent être de même type :"
   ]
  },
  {
   "cell_type": "code",
   "execution_count": 14,
   "id": "d8e44bd4",
   "metadata": {
    "execution": {
     "iopub.execute_input": "2021-10-31T14:09:54.425026Z",
     "iopub.status.busy": "2021-10-31T14:09:54.424480Z",
     "iopub.status.idle": "2021-10-31T14:09:54.426278Z",
     "shell.execute_reply": "2021-10-31T14:09:54.427025Z"
    }
   },
   "outputs": [
    {
     "ename": "error",
     "evalue": "compile_error",
     "output_type": "error",
     "traceback": [
      "File \"[14]\", line 2, characters 5-9:\n2 | else 3.14  (* impossible d'avoir 2 types différents dans le then et else *)\n         ^^^^\nError: This expression has type float but an expression was expected of type\n         int\n"
     ]
    }
   ],
   "source": [
    "if 1 = 1 then 2\n",
    "else 3.14  (* impossible d'avoir 2 types différents dans le then et else *)"
   ]
  },
  {
   "cell_type": "markdown",
   "id": "b7e558cd",
   "metadata": {},
   "source": [
    "La valeur renvoyée par `if ... then ... else ...` peut être stockée dans une variable :"
   ]
  },
  {
   "cell_type": "code",
   "execution_count": 15,
   "id": "abec11f2",
   "metadata": {
    "execution": {
     "iopub.execute_input": "2021-10-31T14:09:54.428957Z",
     "iopub.status.busy": "2021-10-31T14:09:54.428455Z",
     "iopub.status.idle": "2021-10-31T14:09:54.431408Z",
     "shell.execute_reply": "2021-10-31T14:09:54.430948Z"
    }
   },
   "outputs": [
    {
     "data": {
      "text/plain": [
       "- : int = 5\n"
      ]
     },
     "execution_count": 15,
     "metadata": {},
     "output_type": "execute_result"
    }
   ],
   "source": [
    "let a = -5 in\n",
    "let b = if a > 0 then a else -a in (* on pourrait aussi calculer une valeur absolue comme ça *) \n",
    "b  (* b vaut 5 *)"
   ]
  },
  {
   "cell_type": "markdown",
   "id": "ceeced40",
   "metadata": {},
   "source": [
    "**Exercice** Définir les fonctions suivantes en OCaml :  \n",
    "1.\n",
    "\n",
    "<img src=\"img/fonctions_ex1.png\" width=\"500\"/>\n",
    "\n",
    "2. \n",
    "\n",
    "<img src=\"img/fonctions_ex2.png\" width=\"500\"/>\n",
    "\n",
    "3. \n",
    "\n",
    "<img src=\"img/fonctions_ex3.png\" width=\"500\"/>\n"
   ]
  },
  {
   "cell_type": "code",
   "execution_count": 16,
   "id": "f63b87c5",
   "metadata": {
    "execution": {
     "iopub.execute_input": "2021-10-31T14:09:54.433367Z",
     "iopub.status.busy": "2021-10-31T14:09:54.432811Z",
     "iopub.status.idle": "2021-10-31T14:09:54.440262Z",
     "shell.execute_reply": "2021-10-31T14:09:54.439763Z"
    },
    "tags": [
     "cor"
    ]
   },
   "outputs": [
    {
     "data": {
      "text/plain": [
       "val f1 : float -> float = <fun>\n"
      ]
     },
     "execution_count": 16,
     "metadata": {},
     "output_type": "execute_result"
    },
    {
     "data": {
      "text/plain": [
       "val f2 : float -> float = <fun>\n"
      ]
     },
     "execution_count": 16,
     "metadata": {},
     "output_type": "execute_result"
    },
    {
     "data": {
      "text/plain": [
       "val f3 : float -> float = <fun>\n"
      ]
     },
     "execution_count": 16,
     "metadata": {},
     "output_type": "execute_result"
    }
   ],
   "source": [
    "(* 1. *)\n",
    "let f1 x = \n",
    "    if x < 1. then 2. (* l'argument de f1 doit être un float donc il faut le comparer à un float *)\n",
    "    else 1.;;\n",
    "    \n",
    "(* 2. *)\n",
    "let f2 x = \n",
    "    if x < 0. then abs (x +. 3.) \n",
    "    else 3.;;\n",
    "    \n",
    "(* 3. *)\n",
    "let f3 x = \n",
    "    if x < 0. then  0.\n",
    "    else if x < 1. then 1.\n",
    "    else 3.;;"
   ]
  },
  {
   "cell_type": "markdown",
   "id": "0f0cb97d",
   "metadata": {},
   "source": [
    "**Exercice** Écrire une fonction `n_solutions : float -> float -> float -> int` telle que `n_solutions a b c` renvoie le nombre de solutions de l'équation $ax^2 + bx + c$."
   ]
  },
  {
   "cell_type": "code",
   "execution_count": 17,
   "id": "1ee03ffd",
   "metadata": {
    "execution": {
     "iopub.execute_input": "2021-10-31T14:09:54.442259Z",
     "iopub.status.busy": "2021-10-31T14:09:54.441703Z",
     "iopub.status.idle": "2021-10-31T14:09:54.447639Z",
     "shell.execute_reply": "2021-10-31T14:09:54.448225Z"
    },
    "tags": [
     "cor"
    ]
   },
   "outputs": [
    {
     "data": {
      "text/plain": [
       "val n_solutions : float -> float -> float -> int = <fun>\n"
      ]
     },
     "execution_count": 17,
     "metadata": {},
     "output_type": "execute_result"
    },
    {
     "data": {
      "text/plain": [
       "- : int = 2\n"
      ]
     },
     "execution_count": 17,
     "metadata": {},
     "output_type": "execute_result"
    }
   ],
   "source": [
    "let n_solutions a b c =\n",
    "    let delta = b**2. -. 4.*.a*.c in\n",
    "    if abs delta < 0.0001 then 1 (* regarde si delta vaut 0, en prenant en compte les erreurs d'arrondis des float *)\n",
    "    else if delta > 0. then 2\n",
    "    else 0;;\n",
    "n_solutions 3. 5. 2.;;    "
   ]
  }
 ],
 "metadata": {
  "jupytext": {
   "cell_metadata_filter": "-all",
   "main_language": "ocaml",
   "notebook_metadata_filter": "-all"
  },
  "kernelspec": {
   "display_name": "OCaml default",
   "language": "OCaml",
   "name": "ocaml-jupyter"
  },
  "language_info": {
   "codemirror_mode": "text/x-ocaml",
   "file_extension": ".ml",
   "mimetype": "text/x-ocaml",
   "name": "OCaml",
   "nbconverter_exporter": null,
   "pygments_lexer": "OCaml",
   "version": "4.08.1"
  },
  "title": "Conditions"
 },
 "nbformat": 4,
 "nbformat_minor": 5
}

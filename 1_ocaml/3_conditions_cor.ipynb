{
 "cells": [
  {
   "cell_type": "markdown",
   "id": "4ca466fe",
   "metadata": {},
   "source": [
    "## Booléens"
   ]
  },
  {
   "cell_type": "markdown",
   "id": "81f43b16",
   "metadata": {},
   "source": [
    "Une valeur booléenne (bool) est soit true (vrai) soit false (faux). Exemple de variable de type bool : "
   ]
  },
  {
   "cell_type": "code",
   "execution_count": 1,
   "id": "a4ef060c",
   "metadata": {
    "execution": {
     "iopub.execute_input": "2021-10-29T14:28:04.841468Z",
     "iopub.status.busy": "2021-10-29T14:28:04.840859Z",
     "iopub.status.idle": "2021-10-29T14:28:04.843655Z",
     "shell.execute_reply": "2021-10-29T14:28:04.843179Z"
    }
   },
   "outputs": [
    {
     "data": {
      "text/plain": [
       "val a : bool = true\n"
      ]
     },
     "execution_count": 1,
     "metadata": {},
     "output_type": "execute_result"
    }
   ],
   "source": [
    "let a = true"
   ]
  },
  {
   "cell_type": "markdown",
   "id": "51915c1e",
   "metadata": {},
   "source": [
    "## Comparaison"
   ]
  },
  {
   "cell_type": "markdown",
   "id": "59a93959",
   "metadata": {},
   "source": [
    "On peut tester l'égalité de deux **valeurs** avec `=` :"
   ]
  },
  {
   "cell_type": "code",
   "execution_count": 2,
   "id": "476e1ff0",
   "metadata": {
    "execution": {
     "iopub.execute_input": "2021-10-29T14:28:04.845658Z",
     "iopub.status.busy": "2021-10-29T14:28:04.845147Z",
     "iopub.status.idle": "2021-10-29T14:28:04.850405Z",
     "shell.execute_reply": "2021-10-29T14:28:04.850771Z"
    },
    "tags": []
   },
   "outputs": [
    {
     "data": {
      "text/plain": [
       "- : bool = true\n"
      ]
     },
     "execution_count": 2,
     "metadata": {},
     "output_type": "execute_result"
    }
   ],
   "source": [
    "3 = 1 + 2"
   ]
  },
  {
   "cell_type": "markdown",
   "id": "136ea4f7",
   "metadata": {},
   "source": [
    "On peut aussi utiliser `=` sur des variables, auquel cas on compare leurs valeurs :"
   ]
  },
  {
   "cell_type": "code",
   "execution_count": 3,
   "id": "97465f6b",
   "metadata": {
    "execution": {
     "iopub.execute_input": "2021-10-29T14:28:04.852553Z",
     "iopub.status.busy": "2021-10-29T14:28:04.852076Z",
     "iopub.status.idle": "2021-10-29T14:28:04.855654Z",
     "shell.execute_reply": "2021-10-29T14:28:04.855161Z"
    }
   },
   "outputs": [
    {
     "data": {
      "text/plain": [
       "- : bool = false\n"
      ]
     },
     "execution_count": 3,
     "metadata": {},
     "output_type": "execute_result"
    }
   ],
   "source": [
    "let a = 3 in\n",
    "let b = 4 in\n",
    "a = b (* teste si les valeurs de a et b sont égales *)"
   ]
  },
  {
   "cell_type": "markdown",
   "id": "0be92fca",
   "metadata": {},
   "source": [
    "**Attention** : le `=`  de OCaml correspond au `==` de Python. `==` existe en OCaml, mais compare les **adresses mémoires** de 2 variables au lieu de leurs valeurs et on ne l'utilisera presque jamais."
   ]
  },
  {
   "cell_type": "markdown",
   "id": "b6a6a2d0",
   "metadata": {},
   "source": [
    "On peut comparer des valeurs numériques avec `<` (inférieur strict), `>`, `<=` (inférieur ou égal), `>=`, `<>` (différent)... :"
   ]
  },
  {
   "cell_type": "code",
   "execution_count": 4,
   "id": "49d16330",
   "metadata": {
    "execution": {
     "iopub.execute_input": "2021-10-29T14:28:04.857525Z",
     "iopub.status.busy": "2021-10-29T14:28:04.857020Z",
     "iopub.status.idle": "2021-10-29T14:28:04.859778Z",
     "shell.execute_reply": "2021-10-29T14:28:04.859348Z"
    }
   },
   "outputs": [
    {
     "data": {
      "text/plain": [
       "- : bool = false\n"
      ]
     },
     "execution_count": 4,
     "metadata": {},
     "output_type": "execute_result"
    }
   ],
   "source": [
    "2 < 1"
   ]
  },
  {
   "cell_type": "markdown",
   "id": "5a8d725e",
   "metadata": {},
   "source": [
    "Il faut obligatoirement comparer des valeurs de même type :"
   ]
  },
  {
   "cell_type": "code",
   "execution_count": 5,
   "id": "96e3f794",
   "metadata": {
    "execution": {
     "iopub.execute_input": "2021-10-29T14:28:04.861512Z",
     "iopub.status.busy": "2021-10-29T14:28:04.861053Z",
     "iopub.status.idle": "2021-10-29T14:28:04.863092Z",
     "shell.execute_reply": "2021-10-29T14:28:04.863433Z"
    }
   },
   "outputs": [
    {
     "ename": "error",
     "evalue": "compile_error",
     "output_type": "error",
     "traceback": [
      "File \"[5]\", line 1, characters 6-7:\n1 | 2.4 < 3 (* on ne peut pas comparer un float avec un int *)\n          ^\nError: This expression has type int but an expression was expected of type\n         float\n"
     ]
    }
   ],
   "source": [
    "2.4 < 3 (* on ne peut pas comparer un float avec un int *)"
   ]
  },
  {
   "cell_type": "code",
   "execution_count": 6,
   "id": "6f63f3cb",
   "metadata": {
    "execution": {
     "iopub.execute_input": "2021-10-29T14:28:04.865291Z",
     "iopub.status.busy": "2021-10-29T14:28:04.864777Z",
     "iopub.status.idle": "2021-10-29T14:28:04.867257Z",
     "shell.execute_reply": "2021-10-29T14:28:04.867622Z"
    }
   },
   "outputs": [
    {
     "data": {
      "text/plain": [
       "- : bool = true\n"
      ]
     },
     "execution_count": 6,
     "metadata": {},
     "output_type": "execute_result"
    }
   ],
   "source": [
    "2.4 < 3.0 (* par contre ceci fonctionne *)"
   ]
  },
  {
   "cell_type": "markdown",
   "id": "8d19e59b",
   "metadata": {},
   "source": [
    "**Remarque** : pas besoin de mettre des points (.) sur `<`, `>` ..."
   ]
  },
  {
   "cell_type": "markdown",
   "id": "cb705b01",
   "metadata": {},
   "source": [
    "Les opérateurs `&&` (et), `||` (ou), `not` permettent de combiner des conditions :"
   ]
  },
  {
   "cell_type": "code",
   "execution_count": 7,
   "id": "ad1fbff3",
   "metadata": {
    "execution": {
     "iopub.execute_input": "2021-10-29T14:28:04.869502Z",
     "iopub.status.busy": "2021-10-29T14:28:04.869021Z",
     "iopub.status.idle": "2021-10-29T14:28:04.872356Z",
     "shell.execute_reply": "2021-10-29T14:28:04.871905Z"
    },
    "tags": []
   },
   "outputs": [
    {
     "data": {
      "text/plain": [
       "- : bool = true\n"
      ]
     },
     "execution_count": 7,
     "metadata": {},
     "output_type": "execute_result"
    }
   ],
   "source": [
    "1 < 2 && 2 < 3"
   ]
  },
  {
   "cell_type": "code",
   "execution_count": 8,
   "id": "57b33c4a",
   "metadata": {
    "execution": {
     "iopub.execute_input": "2021-10-29T14:28:04.873968Z",
     "iopub.status.busy": "2021-10-29T14:28:04.873552Z",
     "iopub.status.idle": "2021-10-29T14:28:04.876645Z",
     "shell.execute_reply": "2021-10-29T14:28:04.877041Z"
    },
    "tags": []
   },
   "outputs": [
    {
     "data": {
      "text/plain": [
       "- : bool = false\n"
      ]
     },
     "execution_count": 8,
     "metadata": {},
     "output_type": "execute_result"
    }
   ],
   "source": [
    "let a = 0 in\n",
    "a <> 0 || a > 3 (* test si a est différent de 0 ou supérieur à 3 *)"
   ]
  },
  {
   "cell_type": "markdown",
   "id": "8e2e0056",
   "metadata": {},
   "source": [
    "**Exercice**\n",
    "\n",
    "1. Quelle est la valeur du code suivant?\n",
    "```ocaml\n",
    "let a = 42 in\n",
    "not (a = 42 && (a < 10 || a > 30))\n",
    "```\n",
    "2. Comment aurait-on pu écrire `not (a = 42 && (a < 10 || a > 30))` sans `not`?\n",
    "3. Écrire une fonction `xor : bool -> bool -> bool` telle que `xor a b` renvoie le \"ou exclusif\" de `a` et `b`, c'est à dire `true` si `a` ou `b` est `true`, mais pas les deux."
   ]
  },
  {
   "cell_type": "code",
   "execution_count": 9,
   "id": "2b7ea3d8",
   "metadata": {
    "execution": {
     "iopub.execute_input": "2021-10-29T14:28:04.878971Z",
     "iopub.status.busy": "2021-10-29T14:28:04.878509Z",
     "iopub.status.idle": "2021-10-29T14:28:04.884618Z",
     "shell.execute_reply": "2021-10-29T14:28:04.884227Z"
    },
    "tags": [
     "cor"
    ]
   },
   "outputs": [
    {
     "data": {
      "text/plain": [
       "- : bool = false\n"
      ]
     },
     "execution_count": 9,
     "metadata": {},
     "output_type": "execute_result"
    },
    {
     "ename": "error",
     "evalue": "compile_error",
     "output_type": "error",
     "traceback": [
      "File \"[9]\", line 7, characters 5-7:\n7 | a <> 42 || (a >= 10 && a <= 30)\n         ^^\nError: This expression has type int but an expression was expected of type\n         bool\n"
     ]
    }
   ],
   "source": [
    "(* 1 *)\n",
    "let a = 42 in\n",
    "not (a = 42 && (a < 10 || a > 30));; (* false *)\n",
    "\n",
    "(* 2 *)\n",
    "(* Pour prendre la négation, on inverse toutes les conditions et opérateurs booléens (< devient >=, && devient || ...) *)\n",
    "a <> 42 || (a >= 10 && a <= 30)\n",
    "\n",
    "(* 3. *)\n",
    "let xor a b = (a || b) && (not a || not b);;\n",
    "xor true false;;\n",
    "xor true true;;"
   ]
  },
  {
   "cell_type": "markdown",
   "id": "5177b2be",
   "metadata": {},
   "source": [
    "## Condition if\n",
    "\n",
    "On peut écrire une condition `if` de la façon suivante en OCaml :\n",
    "```ocaml\n",
    "if ... then ... else ...\n",
    "```\n",
    "La condition du `if` doit être un booléen. Si la condition est vraie, le `then` est exécuté et sa valeur est renvoyé. Sinon, c'est la valeur du `else` qui est renvoyé :  "
   ]
  },
  {
   "cell_type": "code",
   "execution_count": 10,
   "id": "b7497fb2",
   "metadata": {
    "execution": {
     "iopub.execute_input": "2021-10-29T14:28:04.887796Z",
     "iopub.status.busy": "2021-10-29T14:28:04.887067Z",
     "iopub.status.idle": "2021-10-29T14:28:04.893522Z",
     "shell.execute_reply": "2021-10-29T14:28:04.893124Z"
    }
   },
   "outputs": [
    {
     "data": {
      "text/plain": [
       "- : int = 24\n"
      ]
     },
     "execution_count": 10,
     "metadata": {},
     "output_type": "execute_result"
    }
   ],
   "source": [
    "if 1 = 2 then 42 else 24"
   ]
  },
  {
   "cell_type": "markdown",
   "id": "9be208fc",
   "metadata": {},
   "source": [
    "Définissons par exemple la fonction valeur absolue ($x \\longmapsto \\vert x \\vert$) :"
   ]
  },
  {
   "cell_type": "code",
   "execution_count": 11,
   "id": "db3f90ce",
   "metadata": {
    "execution": {
     "iopub.execute_input": "2021-10-29T14:28:04.895270Z",
     "iopub.status.busy": "2021-10-29T14:28:04.894812Z",
     "iopub.status.idle": "2021-10-29T14:28:04.897316Z",
     "shell.execute_reply": "2021-10-29T14:28:04.897706Z"
    },
    "tags": []
   },
   "outputs": [
    {
     "data": {
      "text/plain": [
       "val abs : float -> float = <fun>\n"
      ]
     },
     "execution_count": 11,
     "metadata": {},
     "output_type": "execute_result"
    }
   ],
   "source": [
    "let abs x =\n",
    "    if x < 0. then -. x\n",
    "    else x"
   ]
  },
  {
   "cell_type": "markdown",
   "id": "045b8500",
   "metadata": {},
   "source": [
    "Rappelons qu'il n'y a pas de `return` en OCaml : c'est la dernière expression calculée par la fonction qui est renvoyée. Ainsi `abs x` renvoie `-x` si `x` est négatif et `x` sinon.  "
   ]
  },
  {
   "cell_type": "code",
   "execution_count": 12,
   "id": "4b19f4e9",
   "metadata": {
    "execution": {
     "iopub.execute_input": "2021-10-29T14:28:04.900143Z",
     "iopub.status.busy": "2021-10-29T14:28:04.899087Z",
     "iopub.status.idle": "2021-10-29T14:28:04.902375Z",
     "shell.execute_reply": "2021-10-29T14:28:04.901930Z"
    },
    "tags": []
   },
   "outputs": [
    {
     "data": {
      "text/plain": [
       "- : float = 2.718\n"
      ]
     },
     "execution_count": 12,
     "metadata": {},
     "output_type": "execute_result"
    }
   ],
   "source": [
    "abs (-2.718)  (* je mets des parenthèses à cause du - *)"
   ]
  },
  {
   "cell_type": "markdown",
   "id": "619a54f9",
   "metadata": {},
   "source": [
    "Pour plus de lisibilité on sautera une ligne avant `then` et `else`, sauf si le contenu du `if` est très court."
   ]
  },
  {
   "cell_type": "markdown",
   "id": "91b3e2df",
   "metadata": {},
   "source": [
    "**Exercice** : Écrire une fonction `max` renvoyant le maximum de ses 2 arguments.  \n",
    "Remarque : cette fonction existe déjà et peut être utilisée telle quelle.  "
   ]
  },
  {
   "cell_type": "code",
   "execution_count": 13,
   "id": "1acfbaed",
   "metadata": {
    "execution": {
     "iopub.execute_input": "2021-10-29T14:28:04.904242Z",
     "iopub.status.busy": "2021-10-29T14:28:04.903753Z",
     "iopub.status.idle": "2021-10-29T14:28:04.906842Z",
     "shell.execute_reply": "2021-10-29T14:28:04.906393Z"
    }
   },
   "outputs": [
    {
     "data": {
      "text/plain": [
       "val max : 'a -> 'a -> 'a = <fun>\n"
      ]
     },
     "execution_count": 13,
     "metadata": {},
     "output_type": "execute_result"
    }
   ],
   "source": [
    "let max x y = if x < y then y else x"
   ]
  },
  {
   "cell_type": "markdown",
   "id": "89088301",
   "metadata": {},
   "source": [
    "Dans un `if ... then ... else ...`, les valeurs dans le `then` et dans le `else` doivent être de même type :"
   ]
  },
  {
   "cell_type": "code",
   "execution_count": 14,
   "id": "0347690e",
   "metadata": {
    "execution": {
     "iopub.execute_input": "2021-10-29T14:28:04.908743Z",
     "iopub.status.busy": "2021-10-29T14:28:04.908251Z",
     "iopub.status.idle": "2021-10-29T14:28:04.910260Z",
     "shell.execute_reply": "2021-10-29T14:28:04.910798Z"
    }
   },
   "outputs": [
    {
     "ename": "error",
     "evalue": "compile_error",
     "output_type": "error",
     "traceback": [
      "File \"[14]\", line 2, characters 5-9:\n2 | else 3.14  (* impossible d'avoir 2 types différents dans le then et else *)\n         ^^^^\nError: This expression has type float but an expression was expected of type\n         int\n"
     ]
    }
   ],
   "source": [
    "if 1 = 1 then 2\n",
    "else 3.14  (* impossible d'avoir 2 types différents dans le then et else *)"
   ]
  },
  {
   "cell_type": "markdown",
   "id": "373afdaa",
   "metadata": {},
   "source": [
    "La valeur renvoyée par `if ... then ... else ...` peut être stockée dans une variable :"
   ]
  },
  {
   "cell_type": "code",
   "execution_count": 15,
   "id": "9bd4192b",
   "metadata": {
    "execution": {
     "iopub.execute_input": "2021-10-29T14:28:04.912665Z",
     "iopub.status.busy": "2021-10-29T14:28:04.912198Z",
     "iopub.status.idle": "2021-10-29T14:28:04.915245Z",
     "shell.execute_reply": "2021-10-29T14:28:04.914870Z"
    }
   },
   "outputs": [
    {
     "data": {
      "text/plain": [
       "- : int = 5\n"
      ]
     },
     "execution_count": 15,
     "metadata": {},
     "output_type": "execute_result"
    }
   ],
   "source": [
    "let a = -5 in\n",
    "let b = if a > 0 then a else -a in (* on pourrait aussi calculer une valeur absolue comme ça *) \n",
    "b  (* b vaut 5 *)"
   ]
  },
  {
   "cell_type": "markdown",
   "id": "2b30af25",
   "metadata": {},
   "source": [
    "**Exercice** Définir les fonctions suivantes en OCaml :  \n",
    "1.\n",
    "\n",
    "<img src=\"img/fonctions_ex1.png\" width=\"500\"/>\n",
    "\n",
    "2. \n",
    "\n",
    "<img src=\"img/fonctions_ex2.png\" width=\"500\"/>\n",
    "\n",
    "3. \n",
    "\n",
    "<img src=\"img/fonctions_ex3.png\" width=\"500\"/>\n"
   ]
  },
  {
   "cell_type": "code",
   "execution_count": 16,
   "id": "7c2352aa",
   "metadata": {
    "execution": {
     "iopub.execute_input": "2021-10-29T14:28:04.917334Z",
     "iopub.status.busy": "2021-10-29T14:28:04.916827Z",
     "iopub.status.idle": "2021-10-29T14:28:04.924105Z",
     "shell.execute_reply": "2021-10-29T14:28:04.923683Z"
    },
    "tags": [
     "cor"
    ]
   },
   "outputs": [
    {
     "data": {
      "text/plain": [
       "val f1 : float -> float = <fun>\n"
      ]
     },
     "execution_count": 16,
     "metadata": {},
     "output_type": "execute_result"
    },
    {
     "data": {
      "text/plain": [
       "val f2 : float -> float = <fun>\n"
      ]
     },
     "execution_count": 16,
     "metadata": {},
     "output_type": "execute_result"
    },
    {
     "data": {
      "text/plain": [
       "val f3 : float -> float = <fun>\n"
      ]
     },
     "execution_count": 16,
     "metadata": {},
     "output_type": "execute_result"
    }
   ],
   "source": [
    "(* 1. *)\n",
    "let f1 x = \n",
    "    if x < 1. then 2. (* l'argument de f1 doit être un float donc il faut le comparer à un float *)\n",
    "    else 1.;;\n",
    "    \n",
    "(* 2. *)\n",
    "let f2 x = \n",
    "    if x < 0. then abs (x +. 3.) \n",
    "    else 3.;;\n",
    "    \n",
    "(* 3. *)\n",
    "let f3 x = \n",
    "    if x < 0. then  0.\n",
    "    else if x < 1. then 1.\n",
    "    else 3.;;"
   ]
  },
  {
   "cell_type": "markdown",
   "id": "aa83b4ff",
   "metadata": {},
   "source": [
    "**Exercice** Écrire une fonction `n_solutions : float -> float -> float -> int` telle que `n_solutions a b c` renvoie le nombre de solutions de l'équation $ax^2 + bx + c$."
   ]
  },
  {
   "cell_type": "code",
   "execution_count": 17,
   "id": "c612fe84",
   "metadata": {
    "execution": {
     "iopub.execute_input": "2021-10-29T14:28:04.927029Z",
     "iopub.status.busy": "2021-10-29T14:28:04.926499Z",
     "iopub.status.idle": "2021-10-29T14:28:04.931999Z",
     "shell.execute_reply": "2021-10-29T14:28:04.931624Z"
    },
    "tags": [
     "cor"
    ]
   },
   "outputs": [
    {
     "data": {
      "text/plain": [
       "val n_solutions : float -> float -> float -> int = <fun>\n"
      ]
     },
     "execution_count": 17,
     "metadata": {},
     "output_type": "execute_result"
    },
    {
     "data": {
      "text/plain": [
       "- : int = 2\n"
      ]
     },
     "execution_count": 17,
     "metadata": {},
     "output_type": "execute_result"
    }
   ],
   "source": [
    "let n_solutions a b c =\n",
    "    let delta = b**2. -. 4.*.a*.c in\n",
    "    if abs delta < 0.0001 then 1 (* regarde si delta vaut 0, en prenant en compte les erreurs d'arrondis des float *)\n",
    "    else if delta > 0. then 2\n",
    "    else 0;;\n",
    "n_solutions 3. 5. 2.;;    "
   ]
  }
 ],
 "metadata": {
  "jupytext": {
   "cell_metadata_filter": "-all",
   "main_language": "ocaml",
   "notebook_metadata_filter": "-all"
  },
  "kernelspec": {
   "display_name": "OCaml default",
   "language": "OCaml",
   "name": "ocaml-jupyter"
  },
  "language_info": {
   "codemirror_mode": "text/x-ocaml",
   "file_extension": ".ml",
   "mimetype": "text/x-ocaml",
   "name": "OCaml",
   "nbconverter_exporter": null,
   "pygments_lexer": "OCaml",
   "version": "4.08.1"
  },
  "title": "Conditions"
 },
 "nbformat": 4,
 "nbformat_minor": 5
}

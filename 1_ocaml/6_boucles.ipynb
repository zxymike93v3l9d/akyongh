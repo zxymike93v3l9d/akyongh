{
 "cells": [
  {
   "cell_type": "markdown",
   "id": "3f87028d",
   "metadata": {},
   "source": [
    "# <center><a href='https://mybinder.org/v2/gh/fortierq/binder-mp2i/main?urlpath=git-pull%3Frepo%3Dhttps%253A%252F%252Fgithub.com%252Fmp2i-fsm%252Fmp2i-2021%26urlpath%3Dlab%252Ftree%252Fmp2i-2021%252F1_ocaml%252F6_boucles.ipynb%26branch%3Dmain'>Boucles                     <img src=https://mybinder.org/badge.svg></a></center>\n",
    "\n",
    "Comme en Python, OCaml a deux boucles permettants de répéter des instructions : `for` et `while`.\n",
    "\n",
    "## Boucle for\n",
    "\n",
    "Pour répéter `instructions` pour des valeurs de `i` allant de `a` à `b` **inclus** (contrairement à Python) :\n",
    "```ocaml\n",
    "for i=a to b do\n",
    "    instructions\n",
    "done\n",
    "```"
   ]
  },
  {
   "cell_type": "code",
   "execution_count": 1,
   "id": "278e841c",
   "metadata": {
    "execution": {
     "iopub.execute_input": "2021-11-11T10:51:46.993322Z",
     "iopub.status.busy": "2021-11-11T10:51:46.992770Z",
     "iopub.status.idle": "2021-11-11T10:51:46.995966Z",
     "shell.execute_reply": "2021-11-11T10:51:46.995475Z"
    }
   },
   "outputs": [
    {
     "name": "stdout",
     "output_type": "stream",
     "text": [
      "012345\n"
     ]
    },
    {
     "data": {
      "text/plain": [
       "- : unit = ()\n"
      ]
     },
     "execution_count": 1,
     "metadata": {},
     "output_type": "execute_result"
    }
   ],
   "source": [
    "for i=0 to 5 do\n",
    "    print_int i\n",
    "done;\n",
    "print_newline()"
   ]
  },
  {
   "cell_type": "markdown",
   "id": "aa75506e",
   "metadata": {
    "tags": [
     "exo"
    ]
   },
   "source": [
    "**Exercice** : Combien de fois est répété `for i=a to b do ...`? (c'est-à-dire : combien y a t-il d'entiers de $a$ à $b$ inclus?)"
   ]
  },
  {
   "cell_type": "markdown",
   "id": "621c4ce9",
   "metadata": {
    "tags": [
     "cor"
    ]
   },
   "source": [
    "$b - a + 1$ fois. Ainsi, sur la boucle `for i=0 to 5 do` précédente il y a bien 6 chiffres affichés."
   ]
  },
  {
   "cell_type": "markdown",
   "id": "e1b8cf0a",
   "metadata": {
    "tags": [
     "exo"
    ]
   },
   "source": [
    "**Exercice** : Écrire une fonction pour calculer la somme des carrés des $n$ premiers entiers en utilisant un `for`, puis une fonction récursive."
   ]
  },
  {
   "cell_type": "code",
   "execution_count": 2,
   "id": "df15eed6",
   "metadata": {
    "execution": {
     "iopub.execute_input": "2021-11-11T10:51:46.997725Z",
     "iopub.status.busy": "2021-11-11T10:51:46.997314Z",
     "iopub.status.idle": "2021-11-11T10:51:47.005460Z",
     "shell.execute_reply": "2021-11-11T10:51:47.005094Z"
    },
    "tags": [
     "cor"
    ]
   },
   "outputs": [
    {
     "data": {
      "text/plain": [
       "- : int = 385\n"
      ]
     },
     "execution_count": 2,
     "metadata": {},
     "output_type": "execute_result"
    },
    {
     "data": {
      "text/plain": [
       "- : int = 385\n"
      ]
     },
     "execution_count": 2,
     "metadata": {},
     "output_type": "execute_result"
    }
   ],
   "source": [
    "let somme_carre n =\n",
    "    let res = ref 0 in\n",
    "    for i=1 to n do\n",
    "        res := !res + i*i\n",
    "    done;\n",
    "    !res in\n",
    "somme_carre 10;;\n",
    "\n",
    "let rec somme_carre n =\n",
    "    if n = 1 then 1\n",
    "    else n*n + somme_carre (n-1)\n",
    "in somme_carre 10;;"
   ]
  },
  {
   "cell_type": "markdown",
   "id": "56401960",
   "metadata": {},
   "source": [
    "Comme on le voit sur l'exercice précédent, il est en général plus clair et concis d'écrire une fonction récursive en OCaml. De manière générale, il ne faut pas abuser des références et boucles et s'entraîner à penser et écrire récursivement."
   ]
  },
  {
   "cell_type": "markdown",
   "id": "59ab5d32",
   "metadata": {},
   "source": [
    "Une variante de la boucle `for` avec `downto` permet d'énumérer \"à l'envers\" :"
   ]
  },
  {
   "cell_type": "code",
   "execution_count": 3,
   "id": "27158b88",
   "metadata": {
    "execution": {
     "iopub.execute_input": "2021-11-11T10:51:47.007141Z",
     "iopub.status.busy": "2021-11-11T10:51:47.006723Z",
     "iopub.status.idle": "2021-11-11T10:51:47.009803Z",
     "shell.execute_reply": "2021-11-11T10:51:47.009441Z"
    }
   },
   "outputs": [
    {
     "name": "stdout",
     "output_type": "stream",
     "text": [
      "543210\n"
     ]
    },
    {
     "data": {
      "text/plain": [
       "- : unit = ()\n"
      ]
     },
     "execution_count": 3,
     "metadata": {},
     "output_type": "execute_result"
    }
   ],
   "source": [
    "for i=5 downto 0 do\n",
    "    print_int i\n",
    "done;\n",
    "print_newline()"
   ]
  },
  {
   "cell_type": "markdown",
   "id": "6627d72a",
   "metadata": {},
   "source": [
    "## Boucle while\n",
    "\n",
    "Pour répéter `instructions` tant que `condition` est vraie :\n",
    "```ocaml\n",
    "while condition do\n",
    "    instructions\n",
    "done\n",
    "```"
   ]
  },
  {
   "cell_type": "markdown",
   "id": "40a26a9b",
   "metadata": {},
   "source": [
    "En guise d'illustration, considérons l'algorithme d'Euclide pour le calcul du PGCD de deux entiers $a$ et $b$. Cet algorithme consiste à répéter les opérations suivantes tant que $b \\neq 0$ :\n",
    "- Calculer le reste $r$ de la division euclidienne de $a$ par $b$.\n",
    "- Remplacer $a$ par $b$ et $b$ par $r$.\n",
    "\n",
    "Quand $b = 0$, on peut montrer que la valeur de $a$ est le PGCD de $a$ et $b$.\n",
    "\n",
    "Voici le code OCaml correspondant avec une boucle `while` :"
   ]
  },
  {
   "cell_type": "code",
   "execution_count": 4,
   "id": "a23342b2",
   "metadata": {
    "execution": {
     "iopub.execute_input": "2021-11-11T10:51:47.011503Z",
     "iopub.status.busy": "2021-11-11T10:51:47.011089Z",
     "iopub.status.idle": "2021-11-11T10:51:47.017771Z",
     "shell.execute_reply": "2021-11-11T10:51:47.017385Z"
    }
   },
   "outputs": [
    {
     "data": {
      "text/plain": [
       "val pgcd : int -> int -> int = <fun>\n"
      ]
     },
     "execution_count": 4,
     "metadata": {},
     "output_type": "execute_result"
    },
    {
     "data": {
      "text/plain": [
       "- : int = 6\n"
      ]
     },
     "execution_count": 4,
     "metadata": {},
     "output_type": "execute_result"
    }
   ],
   "source": [
    "let pgcd a b =\n",
    "    let q = ref a in\n",
    "    let r = ref b in\n",
    "    while !r <> 0 do\n",
    "        let reste = !q mod !r in\n",
    "        q := !r;\n",
    "        r := reste\n",
    "    done;\n",
    "    !q;;\n",
    "\n",
    "pgcd 30 12;;"
   ]
  },
  {
   "cell_type": "markdown",
   "id": "dea35b68",
   "metadata": {},
   "source": [
    "Voici ce que cela donnerait avec une fonction récursive (encore une fois c'est beaucoup plus simple en récursif!) :"
   ]
  },
  {
   "cell_type": "code",
   "execution_count": 5,
   "id": "13694151",
   "metadata": {
    "execution": {
     "iopub.execute_input": "2021-11-11T10:51:47.019477Z",
     "iopub.status.busy": "2021-11-11T10:51:47.019054Z",
     "iopub.status.idle": "2021-11-11T10:51:47.022421Z",
     "shell.execute_reply": "2021-11-11T10:51:47.022066Z"
    }
   },
   "outputs": [
    {
     "data": {
      "text/plain": [
       "val pgcd : int -> int -> int = <fun>\n"
      ]
     },
     "execution_count": 5,
     "metadata": {},
     "output_type": "execute_result"
    },
    {
     "data": {
      "text/plain": [
       "- : int = 6\n"
      ]
     },
     "execution_count": 5,
     "metadata": {},
     "output_type": "execute_result"
    }
   ],
   "source": [
    "let rec pgcd a b =\n",
    "    if b = 0 then a\n",
    "    else pgcd b (a mod b);;\n",
    "\n",
    "pgcd 30 12;;"
   ]
  },
  {
   "cell_type": "markdown",
   "id": "6ec74476",
   "metadata": {
    "tags": [
     "exo"
    ]
   },
   "source": [
    "**Exercice**  \n",
    "Soit $a \\in \\mathbb{N}$. La suite de Syracuse est définie par $s_0 = a$ et\n",
    "$$s_{n+1} =\n",
    "\\begin{cases} \n",
    "     \\frac{s_n}{2}, \\text{si } s_n \\text{ est pair}\\\\\n",
    "    3s_n + 1, \\text{sinon}\\\\\n",
    "\\end{cases}$$\n",
    "Écrire une fonction `temps_vol` ayant $a$ en argument et renvoyant le premier indice $n$ tel que $s_0 = a$ et $s_n = 1$."
   ]
  },
  {
   "cell_type": "code",
   "execution_count": 6,
   "id": "a2fc8999",
   "metadata": {
    "execution": {
     "iopub.execute_input": "2021-11-11T10:51:47.024136Z",
     "iopub.status.busy": "2021-11-11T10:51:47.023717Z",
     "iopub.status.idle": "2021-11-11T10:51:47.032767Z",
     "shell.execute_reply": "2021-11-11T10:51:47.032334Z"
    },
    "tags": [
     "cor"
    ]
   },
   "outputs": [
    {
     "data": {
      "text/plain": [
       "- : int = 6\n"
      ]
     },
     "execution_count": 6,
     "metadata": {},
     "output_type": "execute_result"
    }
   ],
   "source": [
    "let temps_vol a = \n",
    "    let n = ref 0 in\n",
    "    let sn = ref a in\n",
    "    while !sn <> 1 do\n",
    "        incr n;  (* augmente !n de 1 *)\n",
    "        sn := if !sn mod 2 = 0 then !sn/2 else 3* !sn + 1  (* remplace sn par sn+1 *)\n",
    "    done;\n",
    "    !n in\n",
    "temps_vol 10"
   ]
  },
  {
   "cell_type": "markdown",
   "id": "1e7ac835",
   "metadata": {
    "tags": [
     "exo"
    ]
   },
   "source": [
    "**Exercice (TP 2)** : l'écrire en récursif"
   ]
  },
  {
   "cell_type": "markdown",
   "id": "25126632",
   "metadata": {},
   "source": [
    "## Exceptions\n",
    "\n",
    "Les exceptions sont déclenchées lorsque le programme rencontre un problème :"
   ]
  },
  {
   "cell_type": "code",
   "execution_count": 7,
   "id": "0d95dee7",
   "metadata": {
    "execution": {
     "iopub.execute_input": "2021-11-11T10:51:47.034620Z",
     "iopub.status.busy": "2021-11-11T10:51:47.034199Z",
     "iopub.status.idle": "2021-11-11T10:51:47.492358Z",
     "shell.execute_reply": "2021-11-11T10:51:47.491961Z"
    }
   },
   "outputs": [
    {
     "ename": "error",
     "evalue": "runtime_error",
     "output_type": "error",
     "traceback": [
      "\u001b[31mException: Division_by_zero.\nRaised by primitive operation at unknown location\nCalled from file \"toplevel/toploop.ml\", line 208, characters 17-27\n\u001b[0m"
     ]
    }
   ],
   "source": [
    "1/0"
   ]
  },
  {
   "cell_type": "markdown",
   "id": "d0c3c298",
   "metadata": {},
   "source": [
    "L'exception ci-dessus est `Division_by_zero`, déclenchée lorsque l'on divise par 0.  \n",
    "Il est possible de spécifier le comportement à adopter lors d'une exception :"
   ]
  },
  {
   "cell_type": "code",
   "execution_count": 8,
   "id": "eacedfd8",
   "metadata": {
    "execution": {
     "iopub.execute_input": "2021-11-11T10:51:47.494579Z",
     "iopub.status.busy": "2021-11-11T10:51:47.494094Z",
     "iopub.status.idle": "2021-11-11T10:51:47.496094Z",
     "shell.execute_reply": "2021-11-11T10:51:47.496427Z"
    }
   },
   "outputs": [
    {
     "data": {
      "text/plain": [
       "- : int = 0\n"
      ]
     },
     "execution_count": 8,
     "metadata": {},
     "output_type": "execute_result"
    }
   ],
   "source": [
    "try 1/0\n",
    "with Division_by_zero -> 0"
   ]
  },
  {
   "cell_type": "markdown",
   "id": "a6bb9a3a",
   "metadata": {},
   "source": [
    "OCaml exécute l'instruction dans le `try` (`1/0` ici).  \n",
    "Si cette instruction ne déclenche pas l'exception `Division_by_zero`, la valeur de l'instruction est renvoyée.  \n",
    "Sinon, C'est l'instruction dans le `with` qui est exécutée et renvoyée."
   ]
  },
  {
   "cell_type": "markdown",
   "id": "a245f7b6",
   "metadata": {
    "tags": [
     "exo"
    ]
   },
   "source": [
    "**Exercice** Écrire une fonction `quotient : int -> int -> int` qui renvoie le quotient `a / b` si `b` est non-nul, et `max_int` sinon."
   ]
  },
  {
   "cell_type": "code",
   "execution_count": 9,
   "id": "459dba1e",
   "metadata": {
    "execution": {
     "iopub.execute_input": "2021-11-11T10:51:47.498194Z",
     "iopub.status.busy": "2021-11-11T10:51:47.497779Z",
     "iopub.status.idle": "2021-11-11T10:51:47.501948Z",
     "shell.execute_reply": "2021-11-11T10:51:47.501585Z"
    },
    "tags": [
     "cor"
    ]
   },
   "outputs": [
    {
     "data": {
      "text/plain": [
       "val quotient : int -> int -> int = <fun>\n"
      ]
     },
     "execution_count": 9,
     "metadata": {},
     "output_type": "execute_result"
    },
    {
     "data": {
      "text/plain": [
       "- : int = 3\n"
      ]
     },
     "execution_count": 9,
     "metadata": {},
     "output_type": "execute_result"
    },
    {
     "data": {
      "text/plain": [
       "- : int = 4611686018427387903\n"
      ]
     },
     "execution_count": 9,
     "metadata": {},
     "output_type": "execute_result"
    }
   ],
   "source": [
    "let quotient a b =\n",
    "    try a/b\n",
    "    with Division_by_zero -> max_int;;\n",
    "quotient 7 2;;\n",
    "quotient 7 0;;"
   ]
  },
  {
   "cell_type": "markdown",
   "id": "237e409d",
   "metadata": {},
   "source": [
    "Un autre exemple : `assert` est une fonction qui vérifie que son argument est `true` et déclenche une exception si ce n'est pas le cas. Ceci peut servir à mettre des tests dans le code."
   ]
  },
  {
   "cell_type": "code",
   "execution_count": 10,
   "id": "7a4e02c5",
   "metadata": {
    "execution": {
     "iopub.execute_input": "2021-11-11T10:51:47.503536Z",
     "iopub.status.busy": "2021-11-11T10:51:47.503129Z",
     "iopub.status.idle": "2021-11-11T10:51:47.505680Z",
     "shell.execute_reply": "2021-11-11T10:51:47.505339Z"
    }
   },
   "outputs": [
    {
     "ename": "error",
     "evalue": "runtime_error",
     "output_type": "error",
     "traceback": [
      "\u001b[31mException: Assert_failure (\"[10]\", 1, 0).\nCalled from file \"toplevel/toploop.ml\", line 208, characters 17-27\n\u001b[0m"
     ]
    }
   ],
   "source": [
    "assert (1 = 2)"
   ]
  },
  {
   "cell_type": "markdown",
   "id": "5e8620ca",
   "metadata": {},
   "source": [
    "Il est possible de définir sa propre exception :"
   ]
  },
  {
   "cell_type": "code",
   "execution_count": 11,
   "id": "fff6e1a1",
   "metadata": {
    "execution": {
     "iopub.execute_input": "2021-11-11T10:51:47.508884Z",
     "iopub.status.busy": "2021-11-11T10:51:47.508404Z",
     "iopub.status.idle": "2021-11-11T10:51:47.510956Z",
     "shell.execute_reply": "2021-11-11T10:51:47.511285Z"
    }
   },
   "outputs": [
    {
     "data": {
      "text/plain": [
       "exception Overflow\n"
      ]
     },
     "execution_count": 11,
     "metadata": {},
     "output_type": "execute_result"
    },
    {
     "data": {
      "text/plain": [
       "val add1 : int -> int = <fun>\n"
      ]
     },
     "execution_count": 11,
     "metadata": {},
     "output_type": "execute_result"
    }
   ],
   "source": [
    "exception Overflow;;  (* définition d'une exception Overflow qui affiche une chaîne de caractères *) \n",
    "\n",
    "let add1 n =\n",
    "    if n = max_int then raise Overflow (* pour éviter un dépassement d'entier ù) *)\n",
    "    else n + 1;;\n",
    "\n",
    "add1 42;;\n",
    "add1 max_int;;"
   ]
  },
  {
   "cell_type": "markdown",
   "id": "095c4449",
   "metadata": {},
   "source": [
    "`failwith` permet de lancer une exception `Failure` (déjà définie en OCaml), avec un message d'erreur. `Failure` possède un argument (de type `string`, chaîne de caractères) permettant de donner des informations sur l'erreur :"
   ]
  },
  {
   "cell_type": "code",
   "execution_count": 12,
   "id": "e60c9602",
   "metadata": {
    "execution": {
     "iopub.execute_input": "2021-11-11T10:51:47.515449Z",
     "iopub.status.busy": "2021-11-11T10:51:47.514711Z",
     "iopub.status.idle": "2021-11-11T10:51:47.516991Z",
     "shell.execute_reply": "2021-11-11T10:51:47.515092Z"
    }
   },
   "outputs": [
    {
     "name": "stdout",
     "output_type": "stream",
     "text": [
      "Détail sur l'erreur\n"
     ]
    },
    {
     "data": {
      "text/plain": [
       "- : unit = ()\n"
      ]
     },
     "execution_count": 12,
     "metadata": {},
     "output_type": "execute_result"
    }
   ],
   "source": [
    "try failwith \"Détail sur l'erreur\"\n",
    "with Failure e -> print_string e; print_newline ()"
   ]
  },
  {
   "cell_type": "markdown",
   "id": "bc3ade01",
   "metadata": {},
   "source": [
    "Voici comment sont définies `failwith` et `Failure` en OCaml:"
   ]
  },
  {
   "cell_type": "code",
   "execution_count": 13,
   "id": "2f1cc565",
   "metadata": {
    "execution": {
     "iopub.execute_input": "2021-11-11T10:51:47.519469Z",
     "iopub.status.busy": "2021-11-11T10:51:47.519021Z",
     "iopub.status.idle": "2021-11-11T10:51:47.521897Z",
     "shell.execute_reply": "2021-11-11T10:51:47.521524Z"
    }
   },
   "outputs": [
    {
     "data": {
      "text/plain": [
       "exception Failure of string\n"
      ]
     },
     "execution_count": 13,
     "metadata": {},
     "output_type": "execute_result"
    },
    {
     "data": {
      "text/plain": [
       "val failwith : string -> 'a = <fun>\n"
      ]
     },
     "execution_count": 13,
     "metadata": {},
     "output_type": "execute_result"
    }
   ],
   "source": [
    "exception Failure of string;;  (* Failure possède un argument qui est de type string *)\n",
    "\n",
    "let failwith msg = raise (Failure msg);;"
   ]
  },
  {
   "cell_type": "markdown",
   "id": "42eb77a4",
   "metadata": {},
   "source": [
    "Les exceptions peuvent aussi permettre de sortir d'une boucle (comme un `break` de Python). Même si c'est plutôt considéré comme une mauvaise pratique de programmation (car peut rendre le code plus compliqué), il y a certains cas où c'est justifié."
   ]
  },
  {
   "cell_type": "markdown",
   "id": "1baaef77",
   "metadata": {
    "tags": [
     "exo"
    ]
   },
   "source": [
    "**Exercice** : en utilisant une exception, écrire une fonction premier qui s'arrête dès qu'on a trouvé un diviseur."
   ]
  },
  {
   "cell_type": "code",
   "execution_count": 14,
   "id": "0187e418",
   "metadata": {
    "execution": {
     "iopub.execute_input": "2021-11-11T10:51:47.524291Z",
     "iopub.status.busy": "2021-11-11T10:51:47.523833Z",
     "iopub.status.idle": "2021-11-11T10:51:47.526694Z",
     "shell.execute_reply": "2021-11-11T10:51:47.526355Z"
    }
   },
   "outputs": [
    {
     "data": {
      "text/plain": [
       "exception FoundDivisor\n"
      ]
     },
     "execution_count": 14,
     "metadata": {},
     "output_type": "execute_result"
    },
    {
     "data": {
      "text/plain": [
       "val premier : int -> bool = <fun>\n"
      ]
     },
     "execution_count": 14,
     "metadata": {},
     "output_type": "execute_result"
    }
   ],
   "source": [
    "exception FoundDivisor;;\n",
    "\n",
    "let premier n =\n",
    "    try\n",
    "        for i=2 to n/2 do  (* un diviseur de n est forcément inférieur à n/2 *)\n",
    "            if n mod i = 0 then raise FoundDivisor\n",
    "        done;\n",
    "        true (* renvoyer true si on a pas trouvé de diviseur *)\n",
    "    with FoundDivisor -> false"
   ]
  },
  {
   "cell_type": "code",
   "execution_count": 15,
   "id": "c73c0473",
   "metadata": {
    "execution": {
     "iopub.execute_input": "2021-11-11T10:51:47.529440Z",
     "iopub.status.busy": "2021-11-11T10:51:47.528995Z",
     "iopub.status.idle": "2021-11-11T10:51:47.531239Z",
     "shell.execute_reply": "2021-11-11T10:51:47.530901Z"
    },
    "tags": [
     "cor"
    ]
   },
   "outputs": [
    {
     "data": {
      "text/plain": [
       "- : unit = ()\n"
      ]
     },
     "execution_count": 15,
     "metadata": {},
     "output_type": "execute_result"
    }
   ],
   "source": [
    "assert (premier 7 && not (premier 8))  (* vérifie que 7 est premier mais pas 8 *)\n",
    "(* pas d'erreur sur assert donc le test a marché *)"
   ]
  }
 ],
 "metadata": {
  "kernelspec": {
   "display_name": "OCaml default",
   "language": "OCaml",
   "name": "ocaml-jupyter"
  },
  "language_info": {
   "codemirror_mode": "text/x-ocaml",
   "file_extension": ".ml",
   "mimetype": "text/x-ocaml",
   "name": "OCaml",
   "nbconverter_exporter": null,
   "pygments_lexer": "OCaml",
   "version": "4.08.1"
  },
  "title": "Boucles"
 },
 "nbformat": 4,
 "nbformat_minor": 5
}

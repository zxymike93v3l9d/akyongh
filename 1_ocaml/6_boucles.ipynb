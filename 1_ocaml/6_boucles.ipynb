{
 "cells": [
  {
   "cell_type": "markdown",
   "id": "c0ea5127",
   "metadata": {},
   "source": [
    "# Boucles\n",
    "\n",
    "Comme en Python, OCaml a deux boucles permettants de répéter des instructions : `for` et `while`.\n",
    "\n",
    "## Boucle for\n",
    "\n",
    "Pour répéter `instructions` pour des valeurs de `i` allant de `a` à `b` **inclus** (contrairement à Python) :\n",
    "```ocaml\n",
    "for i=a to b do\n",
    "    instructions\n",
    "done\n",
    "```"
   ]
  },
  {
   "cell_type": "code",
   "execution_count": 1,
   "id": "fe8e3ebe",
   "metadata": {
    "execution": {
     "iopub.execute_input": "2021-10-31T15:22:17.261981Z",
     "iopub.status.busy": "2021-10-31T15:22:17.261290Z",
     "iopub.status.idle": "2021-10-31T15:22:17.264368Z",
     "shell.execute_reply": "2021-10-31T15:22:17.263844Z"
    }
   },
   "outputs": [
    {
     "data": {
      "text/plain": [
       "- : unit = ()\n"
      ]
     },
     "execution_count": 1,
     "metadata": {},
     "output_type": "execute_result"
    }
   ],
   "source": [
    "for i=0 to 5 do\n",
    "    print_int i\n",
    "done;\n",
    "print_newline()"
   ]
  },
  {
   "cell_type": "markdown",
   "id": "07398fdb",
   "metadata": {
    "tags": []
   },
   "source": [
    "**Exercice** : Combien de fois est répété `for i=a to b do ...`? (c'est-à-dire : combien y a t-il d'entiers de $a$ à $b$ inclus?)"
   ]
  },
  {
   "cell_type": "markdown",
   "id": "f24b440a",
   "metadata": {
    "tags": [
     "cor"
    ]
   },
   "source": [
    "$b - a + 1$ fois. Ainsi, sur la boucle `for i=0 to 5 do` précédente il y a bien 6 chiffres affichés."
   ]
  },
  {
   "cell_type": "markdown",
   "id": "4b2a66a8",
   "metadata": {},
   "source": [
    "**Exercice** : Écrire une fonction pour calculer la somme des carrés des $n$ premiers entiers en utilisant un `for`, puis une fonction récursive."
   ]
  },
  {
   "cell_type": "code",
   "execution_count": 2,
   "id": "f0690ec9",
   "metadata": {
    "execution": {
     "iopub.execute_input": "2021-10-31T15:22:17.266683Z",
     "iopub.status.busy": "2021-10-31T15:22:17.266035Z",
     "iopub.status.idle": "2021-10-31T15:22:17.275236Z",
     "shell.execute_reply": "2021-10-31T15:22:17.275684Z"
    },
    "tags": [
     "cor"
    ]
   },
   "outputs": [
    {
     "data": {
      "text/plain": [
       "- : int = 385\n"
      ]
     },
     "execution_count": 2,
     "metadata": {},
     "output_type": "execute_result"
    },
    {
     "data": {
      "text/plain": [
       "- : int = 385\n"
      ]
     },
     "execution_count": 2,
     "metadata": {},
     "output_type": "execute_result"
    }
   ],
   "source": [
    "let somme_carre n =\n",
    "    let res = ref 0 in\n",
    "    for i=1 to n do\n",
    "        res := !res + i*i\n",
    "    done;\n",
    "    !res in\n",
    "somme_carre 10;;\n",
    "\n",
    "let rec somme_carre n =\n",
    "    if n = 1 then 1\n",
    "    else n*n + somme_carre (n-1)\n",
    "in somme_carre 10;;"
   ]
  },
  {
   "cell_type": "markdown",
   "id": "5da71255",
   "metadata": {},
   "source": [
    "Comme on le voit sur l'exercice précédent, il est en général plus clair et concis d'écrire une fonction récursive en OCaml. De manière générale, il ne faut pas abuser des références et boucles et s'entraîner à penser et écrire récursivement."
   ]
  },
  {
   "cell_type": "markdown",
   "id": "1febebf5",
   "metadata": {},
   "source": [
    "Une variante de la boucle `for` avec `downto` permet d'énumérer \"à l'envers\" :"
   ]
  },
  {
   "cell_type": "code",
   "execution_count": 3,
   "id": "022f0f90",
   "metadata": {
    "execution": {
     "iopub.execute_input": "2021-10-31T15:22:17.277995Z",
     "iopub.status.busy": "2021-10-31T15:22:17.277471Z",
     "iopub.status.idle": "2021-10-31T15:22:17.281337Z",
     "shell.execute_reply": "2021-10-31T15:22:17.280821Z"
    }
   },
   "outputs": [
    {
     "name": "stdout",
     "output_type": "stream",
     "text": [
      "543210\n"
     ]
    },
    {
     "data": {
      "text/plain": [
       "- : unit = ()\n"
      ]
     },
     "execution_count": 3,
     "metadata": {},
     "output_type": "execute_result"
    }
   ],
   "source": [
    "for i=5 downto 0 do\n",
    "    print_int i\n",
    "done;\n",
    "print_newline()"
   ]
  },
  {
   "cell_type": "markdown",
   "id": "da1bafce",
   "metadata": {},
   "source": [
    "## Boucle while\n",
    "\n",
    "Pour répéter `instructions` tant que `condition` est vraie :\n",
    "```ocaml\n",
    "while condition do\n",
    "    instructions\n",
    "done\n",
    "```"
   ]
  },
  {
   "cell_type": "markdown",
   "id": "b6355f24",
   "metadata": {},
   "source": [
    "En guise d'illustration, considérons l'algorithme d'Euclide pour le calcul du PGCD de deux entiers $a$ et $b$. Cet algorithme consiste à répéter les opérations suivantes tant que $b \\neq 0$ :\n",
    "- Calculer le reste $r$ de la division euclidienne de $a$ par $b$.\n",
    "- Remplacer $a$ par $b$ et $b$ par $r$.\n",
    "\n",
    "Quand $b = 0$, on peut montrer que la valeur de $a$ est le PGCD de $a$ et $b$.\n",
    "\n",
    "Voici le code OCaml correspondant avec une boucle `while` :"
   ]
  },
  {
   "cell_type": "code",
   "execution_count": 4,
   "id": "dc62d738",
   "metadata": {
    "execution": {
     "iopub.execute_input": "2021-10-31T15:22:17.283532Z",
     "iopub.status.busy": "2021-10-31T15:22:17.282901Z",
     "iopub.status.idle": "2021-10-31T15:22:17.290399Z",
     "shell.execute_reply": "2021-10-31T15:22:17.289931Z"
    }
   },
   "outputs": [
    {
     "data": {
      "text/plain": [
       "val pgcd : int -> int -> int = <fun>\n"
      ]
     },
     "execution_count": 4,
     "metadata": {},
     "output_type": "execute_result"
    },
    {
     "data": {
      "text/plain": [
       "- : int = 6\n"
      ]
     },
     "execution_count": 4,
     "metadata": {},
     "output_type": "execute_result"
    }
   ],
   "source": [
    "let pgcd a b =\n",
    "    let q = ref a in\n",
    "    let r = ref b in\n",
    "    while !r <> 0 do\n",
    "        let reste = !q mod !r in\n",
    "        q := !r;\n",
    "        r := reste\n",
    "    done;\n",
    "    !q;;\n",
    "\n",
    "pgcd 30 12;;"
   ]
  },
  {
   "cell_type": "markdown",
   "id": "eb6889a1",
   "metadata": {},
   "source": [
    "Voici ce que cela donnerait avec une fonction récursive (encore une fois c'est beaucoup plus simple en récursif!) :"
   ]
  },
  {
   "cell_type": "code",
   "execution_count": 5,
   "id": "2aaec369",
   "metadata": {
    "execution": {
     "iopub.execute_input": "2021-10-31T15:22:17.292448Z",
     "iopub.status.busy": "2021-10-31T15:22:17.291952Z",
     "iopub.status.idle": "2021-10-31T15:22:17.296073Z",
     "shell.execute_reply": "2021-10-31T15:22:17.295575Z"
    }
   },
   "outputs": [
    {
     "data": {
      "text/plain": [
       "val pgcd : int -> int -> int = <fun>\n"
      ]
     },
     "execution_count": 5,
     "metadata": {},
     "output_type": "execute_result"
    },
    {
     "data": {
      "text/plain": [
       "- : int = 6\n"
      ]
     },
     "execution_count": 5,
     "metadata": {},
     "output_type": "execute_result"
    }
   ],
   "source": [
    "let rec pgcd a b =\n",
    "    if b = 0 then a\n",
    "    else pgcd b (a mod b);;\n",
    "\n",
    "pgcd 30 12;;"
   ]
  },
  {
   "cell_type": "markdown",
   "id": "7d7e5fd5",
   "metadata": {},
   "source": [
    "**Exercice**  \n",
    "Soit $a \\in \\mathbb{N}$. La suite de Syracuse est définie par $s_0 = a$ et\n",
    "$$s_{n+1} =\n",
    "\\begin{cases} \n",
    "     \\frac{s_n}{2}, \\text{si } s_n \\text{ est pair}\\\\\n",
    "    3s_n + 1, \\text{sinon}\\\\\n",
    "\\end{cases}$$\n",
    "Écrire une fonction `temps_vol` ayant $a$ en argument et renvoyant le premier indice $n$ tel que $s_0 = a$ et $s_n = 1$."
   ]
  },
  {
   "cell_type": "code",
   "execution_count": 6,
   "id": "81f0d2c3",
   "metadata": {
    "execution": {
     "iopub.execute_input": "2021-10-31T15:22:17.298279Z",
     "iopub.status.busy": "2021-10-31T15:22:17.297712Z",
     "iopub.status.idle": "2021-10-31T15:22:17.307103Z",
     "shell.execute_reply": "2021-10-31T15:22:17.306671Z"
    },
    "tags": [
     "cor"
    ]
   },
   "outputs": [
    {
     "data": {
      "text/plain": [
       "- : int = 6\n"
      ]
     },
     "execution_count": 6,
     "metadata": {},
     "output_type": "execute_result"
    }
   ],
   "source": [
    "let temps_vol a = \n",
    "    let n = ref 0 in\n",
    "    let sn = ref a in\n",
    "    while !sn <> 1 do\n",
    "        incr n;  (* augmente !n de 1 *)\n",
    "        sn := if !sn mod 2 = 0 then !sn/2 else 3* !sn + 1  (* remplace sn par sn+1 *)\n",
    "    done;\n",
    "    !n in\n",
    "temps_vol 10"
   ]
  },
  {
   "cell_type": "markdown",
   "id": "627b9799",
   "metadata": {},
   "source": [
    "**Exercice (TP 2)** : l'écrire en récursif"
   ]
  },
  {
   "cell_type": "markdown",
   "id": "1def2a39",
   "metadata": {},
   "source": [
    "## Exceptions\n",
    "\n",
    "Les exceptions sont déclenchées lorsque le programme rencontre un problème :"
   ]
  },
  {
   "cell_type": "code",
   "execution_count": 7,
   "id": "d6188476",
   "metadata": {
    "execution": {
     "iopub.execute_input": "2021-10-31T15:22:17.309255Z",
     "iopub.status.busy": "2021-10-31T15:22:17.308749Z",
     "iopub.status.idle": "2021-10-31T15:22:17.821716Z",
     "shell.execute_reply": "2021-10-31T15:22:17.820905Z"
    }
   },
   "outputs": [
    {
     "ename": "error",
     "evalue": "runtime_error",
     "output_type": "error",
     "traceback": [
      "\u001b[31mException: Division_by_zero.\nRaised by primitive operation at unknown location\nCalled from file \"toplevel/toploop.ml\", line 208, characters 17-27\n\u001b[0m"
     ]
    }
   ],
   "source": [
    "1/0"
   ]
  },
  {
   "cell_type": "markdown",
   "id": "90d1101e",
   "metadata": {},
   "source": [
    "L'exception ci-dessus est `Division_by_zero`, déclenchée lorsque l'on divise par 0.  \n",
    "Il est possible de spécifier le comportement à adopter lors d'une exception :"
   ]
  },
  {
   "cell_type": "code",
   "execution_count": 8,
   "id": "fdb571ef",
   "metadata": {
    "execution": {
     "iopub.execute_input": "2021-10-31T15:22:17.825342Z",
     "iopub.status.busy": "2021-10-31T15:22:17.824780Z",
     "iopub.status.idle": "2021-10-31T15:22:17.826933Z",
     "shell.execute_reply": "2021-10-31T15:22:17.825848Z"
    }
   },
   "outputs": [
    {
     "data": {
      "text/plain": [
       "- : int = 0\n"
      ]
     },
     "execution_count": 8,
     "metadata": {},
     "output_type": "execute_result"
    }
   ],
   "source": [
    "try 1/0\n",
    "with Division_by_zero -> 0"
   ]
  },
  {
   "cell_type": "markdown",
   "id": "c8cb3521",
   "metadata": {},
   "source": [
    "OCaml exécute l'instruction dans le `try` (`1/0` ici).  \n",
    "Si cette instruction ne déclenche pas l'exception `Division_by_zero`, la valeur de l'instruction est renvoyée.  \n",
    "Sinon, C'est l'instruction dans le `with` qui est exécutée et renvoyée."
   ]
  },
  {
   "cell_type": "markdown",
   "id": "50605176",
   "metadata": {},
   "source": [
    "**Exercice** Écrire une fonction `quotient : int -> int -> int` qui renvoie le quotient `a / b` si `b` est non-nul, et `max_int` sinon."
   ]
  },
  {
   "cell_type": "code",
   "execution_count": 9,
   "id": "6cc6f566",
   "metadata": {
    "execution": {
     "iopub.execute_input": "2021-10-31T15:22:17.829203Z",
     "iopub.status.busy": "2021-10-31T15:22:17.828558Z",
     "iopub.status.idle": "2021-10-31T15:22:17.833101Z",
     "shell.execute_reply": "2021-10-31T15:22:17.832624Z"
    },
    "tags": [
     "cor"
    ]
   },
   "outputs": [
    {
     "data": {
      "text/plain": [
       "val quotient : int -> int -> int = <fun>\n"
      ]
     },
     "execution_count": 9,
     "metadata": {},
     "output_type": "execute_result"
    },
    {
     "data": {
      "text/plain": [
       "- : int = 3\n"
      ]
     },
     "execution_count": 9,
     "metadata": {},
     "output_type": "execute_result"
    }
   ],
   "source": [
    "let quotient a b =\n",
    "    try a/b\n",
    "    with Division_by_zero -> max_int;;\n",
    "quotient 7 2;;\n",
    "quotient 7 0;;"
   ]
  },
  {
   "cell_type": "markdown",
   "id": "d8bbafe3",
   "metadata": {},
   "source": [
    "Un autre exemple : `assert` est une fonction qui vérifie que son argument est `true` et déclenche une exception si ce n'est pas le cas. Ceci peut servir à mettre des tests dans le code."
   ]
  },
  {
   "cell_type": "code",
   "execution_count": 10,
   "id": "115ac39a",
   "metadata": {
    "execution": {
     "iopub.execute_input": "2021-10-31T15:22:17.835374Z",
     "iopub.status.busy": "2021-10-31T15:22:17.834855Z",
     "iopub.status.idle": "2021-10-31T15:22:17.837224Z",
     "shell.execute_reply": "2021-10-31T15:22:17.836109Z"
    }
   },
   "outputs": [
    {
     "ename": "error",
     "evalue": "runtime_error",
     "output_type": "error",
     "traceback": [
      "\u001b[31mException: Assert_failure (\"[10]\", 1, 0).\nCalled from file \"toplevel/toploop.ml\", line 208, characters 17-27\n\u001b[0m"
     ]
    }
   ],
   "source": [
    "assert (1 = 2)"
   ]
  },
  {
   "cell_type": "markdown",
   "id": "a4c0b794",
   "metadata": {},
   "source": [
    "Il est possible de définir sa propre exception :"
   ]
  },
  {
   "cell_type": "code",
   "execution_count": 11,
   "id": "78d9c6e7",
   "metadata": {
    "execution": {
     "iopub.execute_input": "2021-10-31T15:22:17.839293Z",
     "iopub.status.busy": "2021-10-31T15:22:17.838629Z",
     "iopub.status.idle": "2021-10-31T15:22:17.846045Z",
     "shell.execute_reply": "2021-10-31T15:22:17.844917Z"
    }
   },
   "outputs": [
    {
     "data": {
      "text/plain": [
       "exception Overflow\n"
      ]
     },
     "execution_count": 11,
     "metadata": {},
     "output_type": "execute_result"
    },
    {
     "data": {
      "text/plain": [
       "val add1 : int -> int = <fun>\n"
      ]
     },
     "execution_count": 11,
     "metadata": {},
     "output_type": "execute_result"
    },
    {
     "data": {
      "text/plain": [
       "- : int = 43\n"
      ]
     },
     "execution_count": 11,
     "metadata": {},
     "output_type": "execute_result"
    },
    {
     "ename": "error",
     "evalue": "runtime_error",
     "output_type": "error",
     "traceback": [
      "\u001b[31mException: Overflow.\nRaised at file \"[11]\", line 4, characters 30-38\nCalled from file \"toplevel/toploop.ml\", line 208, characters 17-27\n\u001b[0m"
     ]
    }
   ],
   "source": [
    "exception Overflow;;  (* définition d'une exception Overflow qui affiche une chaîne de caractères *) \n",
    "\n",
    "let add1 n =\n",
    "    if n = max_int then raise Overflow (* pour éviter un dépassement d'entier ù) *)\n",
    "    else n + 1;;\n",
    "\n",
    "add1 42;;\n",
    "add1 max_int;;"
   ]
  },
  {
   "cell_type": "markdown",
   "id": "56ec1236",
   "metadata": {},
   "source": [
    "`failwith` permet de lancer une exception `Failure` (déjà définie en OCaml), avec un message d'erreur. `Failure` possède un argument (de type `string`, chaîne de caractères) permettant de donner des informations sur l'erreur :"
   ]
  },
  {
   "cell_type": "code",
   "execution_count": 12,
   "id": "f6636006",
   "metadata": {
    "execution": {
     "iopub.execute_input": "2021-10-31T15:22:17.848017Z",
     "iopub.status.busy": "2021-10-31T15:22:17.847400Z",
     "iopub.status.idle": "2021-10-31T15:22:17.851512Z",
     "shell.execute_reply": "2021-10-31T15:22:17.850958Z"
    }
   },
   "outputs": [
    {
     "name": "stdout",
     "output_type": "stream",
     "text": [
      "Détail sur l'erreur\n"
     ]
    },
    {
     "data": {
      "text/plain": [
       "- : unit = ()\n"
      ]
     },
     "execution_count": 12,
     "metadata": {},
     "output_type": "execute_result"
    }
   ],
   "source": [
    "try failwith \"Détail sur l'erreur\"\n",
    "with Failure e -> print_string e; print_newline ()"
   ]
  },
  {
   "cell_type": "markdown",
   "id": "bc764a97",
   "metadata": {},
   "source": [
    "Voici comment sont définies `failwith` et `Failure` en OCaml:"
   ]
  },
  {
   "cell_type": "code",
   "execution_count": 13,
   "id": "7d3be21e",
   "metadata": {
    "execution": {
     "iopub.execute_input": "2021-10-31T15:22:17.853495Z",
     "iopub.status.busy": "2021-10-31T15:22:17.852910Z",
     "iopub.status.idle": "2021-10-31T15:22:17.856014Z",
     "shell.execute_reply": "2021-10-31T15:22:17.855576Z"
    }
   },
   "outputs": [
    {
     "data": {
      "text/plain": [
       "exception Failure of string\n"
      ]
     },
     "execution_count": 13,
     "metadata": {},
     "output_type": "execute_result"
    }
   ],
   "source": [
    "exception Failure of string;;  (* Failure possède un argument qui est de type string *)\n",
    "\n",
    "let failwith msg = raise (Failure msg);;"
   ]
  },
  {
   "cell_type": "markdown",
   "id": "f7a014c5",
   "metadata": {},
   "source": [
    "Les exceptions peuvent aussi permettre de sortir d'une boucle (comme un `break` de Python). Même si c'est plutôt considéré comme une mauvaise pratique de programmation (car peut rendre le code plus compliqué), il y a certains cas où c'est justifié."
   ]
  },
  {
   "cell_type": "markdown",
   "id": "42a13c6c",
   "metadata": {},
   "source": [
    "**Exercice** : en utilisant une exception, écrire une fonction premier qui s'arrête dès qu'on a trouvé un diviseur."
   ]
  },
  {
   "cell_type": "code",
   "execution_count": 14,
   "id": "0386c9fe",
   "metadata": {
    "execution": {
     "iopub.execute_input": "2021-10-31T15:22:17.858295Z",
     "iopub.status.busy": "2021-10-31T15:22:17.857783Z",
     "iopub.status.idle": "2021-10-31T15:22:17.861695Z",
     "shell.execute_reply": "2021-10-31T15:22:17.861228Z"
    }
   },
   "outputs": [
    {
     "data": {
      "text/plain": [
       "exception FoundDivisor\n"
      ]
     },
     "execution_count": 14,
     "metadata": {},
     "output_type": "execute_result"
    }
   ],
   "source": [
    "exception FoundDivisor;;\n",
    "\n",
    "let premier n =\n",
    "    try\n",
    "        for i=2 to n/2 do  (* un diviseur de n est forcément inférieur à n/2 *)\n",
    "            if n mod i = 0 then raise FoundDivisor\n",
    "        done;\n",
    "        true (* renvoyer true si on a pas trouvé de diviseur *)\n",
    "    with FoundDivisor -> false"
   ]
  },
  {
   "cell_type": "code",
   "execution_count": 15,
   "id": "1f1bbeaa",
   "metadata": {
    "execution": {
     "iopub.execute_input": "2021-10-31T15:22:17.864183Z",
     "iopub.status.busy": "2021-10-31T15:22:17.863622Z",
     "iopub.status.idle": "2021-10-31T15:22:17.866385Z",
     "shell.execute_reply": "2021-10-31T15:22:17.865831Z"
    },
    "jupyter": {
     "source_hidden": true
    },
    "tags": [
     "cor"
    ]
   },
   "outputs": [
    {
     "data": {
      "text/plain": [
       "- : unit = ()\n"
      ]
     },
     "execution_count": 15,
     "metadata": {},
     "output_type": "execute_result"
    }
   ],
   "source": [
    "assert (premier 7 && not (premier 8))  (* vérifie que 7 est premier mais pas 8 *)\n",
    "(* pas d'erreur sur assert donc le test a marché *)"
   ]
  }
 ],
 "metadata": {
  "kernelspec": {
   "display_name": "OCaml default",
   "language": "OCaml",
   "name": "ocaml-jupyter"
  },
  "language_info": {
   "codemirror_mode": "text/x-ocaml",
   "file_extension": ".ml",
   "mimetype": "text/x-ocaml",
   "name": "OCaml",
   "nbconverter_exporter": null,
   "pygments_lexer": "OCaml",
   "version": "4.08.1"
  },
  "title": "Boucles"
 },
 "nbformat": 4,
 "nbformat_minor": 5
}

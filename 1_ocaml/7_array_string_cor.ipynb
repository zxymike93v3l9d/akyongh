{
 "cells": [
  {
   "cell_type": "markdown",
   "metadata": {
    "jp-MarkdownHeadingCollapsed": true,
    "tags": []
   },
   "source": [
    "# Array et string"
   ]
  },
  {
   "cell_type": "markdown",
   "metadata": {},
   "source": [
    "Un tableau (`array`) se définit avec `[|...; ...; ...|]` :"
   ]
  },
  {
   "cell_type": "code",
   "execution_count": 1,
   "metadata": {
    "execution": {
     "iopub.execute_input": "2021-10-29T14:28:18.454267Z",
     "iopub.status.busy": "2021-10-29T14:28:18.453553Z",
     "iopub.status.idle": "2021-10-29T14:28:18.458043Z",
     "shell.execute_reply": "2021-10-29T14:28:18.457368Z"
    }
   },
   "outputs": [
    {
     "data": {
      "text/plain": [
       "val a : int array = [|1; 2; 3|]\n"
      ]
     },
     "execution_count": 1,
     "metadata": {},
     "output_type": "execute_result"
    }
   ],
   "source": [
    "let a = [|1; 2; 3|]  (* tableau contenant 1, 2, et 3 *)"
   ]
  },
  {
   "cell_type": "markdown",
   "metadata": {},
   "source": [
    "Le type est `int array` : tableau d'entiers."
   ]
  },
  {
   "cell_type": "markdown",
   "metadata": {},
   "source": [
    "On peut accéder à l'élément d'indice `i` d'un tableau avec `a.(i)` :"
   ]
  },
  {
   "cell_type": "code",
   "execution_count": 2,
   "metadata": {
    "execution": {
     "iopub.execute_input": "2021-10-29T14:28:18.463110Z",
     "iopub.status.busy": "2021-10-29T14:28:18.462617Z",
     "iopub.status.idle": "2021-10-29T14:28:18.466813Z",
     "shell.execute_reply": "2021-10-29T14:28:18.466363Z"
    }
   },
   "outputs": [
    {
     "data": {
      "text/plain": [
       "- : int = 1\n"
      ]
     },
     "execution_count": 2,
     "metadata": {},
     "output_type": "execute_result"
    }
   ],
   "source": [
    "a.(0)  (* 1er élément de a *)"
   ]
  },
  {
   "cell_type": "markdown",
   "metadata": {},
   "source": [
    "**Attention** : Les indices d'un tableau de taille $n$ vont de 0 à $n - 1$. On obtient une erreur \"index out of bounds\" si on dépasse :"
   ]
  },
  {
   "cell_type": "code",
   "execution_count": 3,
   "metadata": {
    "execution": {
     "iopub.execute_input": "2021-10-29T14:28:18.468920Z",
     "iopub.status.busy": "2021-10-29T14:28:18.468434Z",
     "iopub.status.idle": "2021-10-29T14:28:18.841373Z",
     "shell.execute_reply": "2021-10-29T14:28:18.840933Z"
    }
   },
   "outputs": [
    {
     "ename": "error",
     "evalue": "runtime_error",
     "output_type": "error",
     "traceback": [
      "\u001b[31mException: Invalid_argument \"index out of bounds\".\nRaised by primitive operation at unknown location\nCalled from file \"toplevel/toploop.ml\", line 208, characters 17-27\n\u001b[0m"
     ]
    }
   ],
   "source": [
    "let a = [|1; 2; 3|] in\n",
    "a.(4)  (* a.(4) n'existe pas *)"
   ]
  },
  {
   "cell_type": "markdown",
   "metadata": {},
   "source": [
    "On peut modifier un élément avec `a.(i) <- ...` :"
   ]
  },
  {
   "cell_type": "code",
   "execution_count": 4,
   "metadata": {
    "execution": {
     "iopub.execute_input": "2021-10-29T14:28:18.843740Z",
     "iopub.status.busy": "2021-10-29T14:28:18.843236Z",
     "iopub.status.idle": "2021-10-29T14:28:18.846646Z",
     "shell.execute_reply": "2021-10-29T14:28:18.847043Z"
    }
   },
   "outputs": [
    {
     "data": {
      "text/plain": [
       "- : int array = [|5; 2; 3|]\n"
      ]
     },
     "execution_count": 4,
     "metadata": {},
     "output_type": "execute_result"
    }
   ],
   "source": [
    "a.(0) <- 5;\n",
    "a  (* on a bien modifié a *)"
   ]
  },
  {
   "cell_type": "markdown",
   "metadata": {},
   "source": [
    "Un array est donc **mutable**, contrairement aux listes.  \n",
    "Par contre la taille d'un tableau ne peut pas être modifié, une fois qu'on l'a crée."
   ]
  },
  {
   "cell_type": "code",
   "execution_count": 5,
   "metadata": {
    "execution": {
     "iopub.execute_input": "2021-10-29T14:28:18.848811Z",
     "iopub.status.busy": "2021-10-29T14:28:18.848364Z",
     "iopub.status.idle": "2021-10-29T14:28:18.850876Z",
     "shell.execute_reply": "2021-10-29T14:28:18.850440Z"
    }
   },
   "outputs": [
    {
     "data": {
      "text/plain": [
       "- : int = 3\n"
      ]
     },
     "execution_count": 5,
     "metadata": {},
     "output_type": "execute_result"
    }
   ],
   "source": [
    "Array.length a  (* taille de a *)"
   ]
  },
  {
   "cell_type": "markdown",
   "metadata": {},
   "source": [
    "Il est possible de créer un tableau de taille arbitraire en écrivant :"
   ]
  },
  {
   "cell_type": "code",
   "execution_count": 6,
   "metadata": {
    "execution": {
     "iopub.execute_input": "2021-10-29T14:28:18.852538Z",
     "iopub.status.busy": "2021-10-29T14:28:18.852123Z",
     "iopub.status.idle": "2021-10-29T14:28:18.855074Z",
     "shell.execute_reply": "2021-10-29T14:28:18.855542Z"
    }
   },
   "outputs": [
    {
     "data": {
      "text/plain": [
       "- : int array = [|0; 0; 0; 0; 0; 0; 0; 0; 0; 0|]\n"
      ]
     },
     "execution_count": 6,
     "metadata": {},
     "output_type": "execute_result"
    }
   ],
   "source": [
    "Array.make 10 0;;  (* crée un tableau contenant 10 fois l'élement 0 *)"
   ]
  },
  {
   "cell_type": "markdown",
   "metadata": {},
   "source": [
    "Bien sûr, on peut remplir le tableau avec une autre valeur initiale :"
   ]
  },
  {
   "cell_type": "code",
   "execution_count": 7,
   "metadata": {
    "execution": {
     "iopub.execute_input": "2021-10-29T14:28:18.857363Z",
     "iopub.status.busy": "2021-10-29T14:28:18.856967Z",
     "iopub.status.idle": "2021-10-29T14:28:18.859414Z",
     "shell.execute_reply": "2021-10-29T14:28:18.859782Z"
    }
   },
   "outputs": [
    {
     "data": {
      "text/plain": [
       "- : float array = [|1.23; 1.23; 1.23; 1.23; 1.23; 1.23; 1.23|]\n"
      ]
     },
     "execution_count": 7,
     "metadata": {},
     "output_type": "execute_result"
    }
   ],
   "source": [
    "Array.make 7 1.23;;  (* crée un tableau de 7 éléments contenant 1.23 *)"
   ]
  },
  {
   "cell_type": "markdown",
   "metadata": {},
   "source": [
    "Les tableaux sont passés par référence aux fonctions : si une fonction modifie un `array` en argument, elle le modifie aussi à l'extérieur de la fonction.  \n",
    "Exemple :"
   ]
  },
  {
   "cell_type": "code",
   "execution_count": 8,
   "metadata": {
    "execution": {
     "iopub.execute_input": "2021-10-29T14:28:18.861660Z",
     "iopub.status.busy": "2021-10-29T14:28:18.861173Z",
     "iopub.status.idle": "2021-10-29T14:28:18.865298Z",
     "shell.execute_reply": "2021-10-29T14:28:18.864895Z"
    }
   },
   "outputs": [
    {
     "data": {
      "text/plain": [
       "- : int array = [|42; -3; 4|]\n"
      ]
     },
     "execution_count": 8,
     "metadata": {},
     "output_type": "execute_result"
    }
   ],
   "source": [
    "let f a =  (* fonction qui met 42 dans la 1ere case du tableau a *)\n",
    "  a.(0) <- 42 in \n",
    "let t = [|0; -3; 4|] in\n",
    "f t;\n",
    "t  (* la modification de t à l'intérieur de f a modifié le tableau à l'extérieur *)"
   ]
  },
  {
   "cell_type": "markdown",
   "metadata": {},
   "source": [
    "**Exercice** : Écrire une fonction pour calculer le maximum d'un tableau d'entiers."
   ]
  },
  {
   "cell_type": "markdown",
   "metadata": {},
   "source": [
    "**Exercice** : Écrire une fonction `swap : 'a array -> int -> int -> unit` telle que `swap a i j` échange les éléments `a.(i)` et `a.(j)`."
   ]
  },
  {
   "cell_type": "markdown",
   "metadata": {},
   "source": [
    "## Matrices\n",
    "\n",
    "Une matrice est un tableau de tableaux, ou, de façon équivalente, un tableau à 2 dimensions (signifiant qu'il faut donner 2 indices pour accéder à un élément). Exemple :"
   ]
  },
  {
   "cell_type": "code",
   "execution_count": 9,
   "metadata": {
    "execution": {
     "iopub.execute_input": "2021-10-29T14:28:18.867349Z",
     "iopub.status.busy": "2021-10-29T14:28:18.866862Z",
     "iopub.status.idle": "2021-10-29T14:28:18.869542Z",
     "shell.execute_reply": "2021-10-29T14:28:18.869959Z"
    }
   },
   "outputs": [
    {
     "data": {
      "text/plain": [
       "val m : int array array = [|[|1; 2|]; [|3; 4|]|]\n"
      ]
     },
     "execution_count": 9,
     "metadata": {},
     "output_type": "execute_result"
    }
   ],
   "source": [
    "let m = [|[|1; 2|]; [|3; 4|]|]  "
   ]
  },
  {
   "cell_type": "markdown",
   "metadata": {},
   "source": [
    "Cette matrice `m` correspond à la représentation mathématique suivante :\n",
    "$$\\begin{pmatrix}\n",
    "1 & 2 \\\\\n",
    "3 & 4 \n",
    "\\end{pmatrix}$$"
   ]
  },
  {
   "cell_type": "markdown",
   "metadata": {},
   "source": [
    "On peut sauter des lignes pour plus de clarté :"
   ]
  },
  {
   "cell_type": "code",
   "execution_count": 10,
   "metadata": {
    "execution": {
     "iopub.execute_input": "2021-10-29T14:28:18.871707Z",
     "iopub.status.busy": "2021-10-29T14:28:18.871252Z",
     "iopub.status.idle": "2021-10-29T14:28:18.873753Z",
     "shell.execute_reply": "2021-10-29T14:28:18.874149Z"
    }
   },
   "outputs": [
    {
     "data": {
      "text/plain": [
       "val m : int array array = [|[|1; 2|]; [|3; 4|]|]\n"
      ]
     },
     "execution_count": 10,
     "metadata": {},
     "output_type": "execute_result"
    }
   ],
   "source": [
    "let m = [| \n",
    "  [|1; 2|]; (* 1ère ligne de la matrice m *)\n",
    "  [|3; 4|]  (* 2ème ligne *)\n",
    "|]"
   ]
  },
  {
   "cell_type": "markdown",
   "metadata": {},
   "source": [
    "On voit d'après la définition de `m` que `m` est un tableau dont les éléments sont des tableaux. Le premier sous-tableau de `m` (c'est-à-dire `[|1; 2|]`) correspod à la 1ère ligne, par exemple."
   ]
  },
  {
   "cell_type": "code",
   "execution_count": 11,
   "metadata": {
    "execution": {
     "iopub.execute_input": "2021-10-29T14:28:18.876071Z",
     "iopub.status.busy": "2021-10-29T14:28:18.875496Z",
     "iopub.status.idle": "2021-10-29T14:28:18.878603Z",
     "shell.execute_reply": "2021-10-29T14:28:18.878169Z"
    }
   },
   "outputs": [
    {
     "data": {
      "text/plain": [
       "- : int array = [|1; 2|]\n"
      ]
     },
     "execution_count": 11,
     "metadata": {},
     "output_type": "execute_result"
    }
   ],
   "source": [
    "m.(0)  (* 2ème ligne de m *)"
   ]
  },
  {
   "cell_type": "markdown",
   "metadata": {},
   "source": [
    "On peut accéder à l'élément sur la ligne `i`, colonne `j` avec `m.(i).(j)` :"
   ]
  },
  {
   "cell_type": "code",
   "execution_count": 12,
   "metadata": {
    "execution": {
     "iopub.execute_input": "2021-10-29T14:28:18.881570Z",
     "iopub.status.busy": "2021-10-29T14:28:18.881054Z",
     "iopub.status.idle": "2021-10-29T14:28:18.884018Z",
     "shell.execute_reply": "2021-10-29T14:28:18.883560Z"
    }
   },
   "outputs": [
    {
     "data": {
      "text/plain": [
       "- : int = 3\n"
      ]
     },
     "execution_count": 12,
     "metadata": {},
     "output_type": "execute_result"
    }
   ],
   "source": [
    "m.(1).(0)  (* élément sur la ligne 1, colonne 0 de m *)"
   ]
  },
  {
   "cell_type": "markdown",
   "metadata": {},
   "source": [
    "**Exercice** Comment connaitre le nombre de lignes d'une matrice `m`? Et son nombre de colonnes ?"
   ]
  },
  {
   "cell_type": "markdown",
   "metadata": {},
   "source": [
    "**Exercice** Écrire une fonction pour transposer une matrice `m`, c'est à dire obtenir `tm` telle que `tm.(i).(j) =  m.(j).(i)`.  \n",
    "On pourra modifier `m` en place (sans créer de nouvelle matrice)."
   ]
  },
  {
   "cell_type": "markdown",
   "metadata": {},
   "source": [
    "Pour créer une matrice, on peut utiliser `Array.make_matrix` :"
   ]
  },
  {
   "cell_type": "code",
   "execution_count": 13,
   "metadata": {
    "execution": {
     "iopub.execute_input": "2021-10-29T14:28:18.885942Z",
     "iopub.status.busy": "2021-10-29T14:28:18.885422Z",
     "iopub.status.idle": "2021-10-29T14:28:18.889326Z",
     "shell.execute_reply": "2021-10-29T14:28:18.888867Z"
    }
   },
   "outputs": [
    {
     "data": {
      "text/plain": [
       "- : int array array = [|[|0; 0; 0|]; [|0; 0; 0|]; [|0; 0; 0|]; [|0; 0; 0|]|]\n"
      ]
     },
     "execution_count": 13,
     "metadata": {},
     "output_type": "execute_result"
    }
   ],
   "source": [
    "Array.make_matrix 4 3 0  (* crée une matrice de 4 lignes et 3 colonnes remplie de 0 *)"
   ]
  },
  {
   "cell_type": "markdown",
   "metadata": {},
   "source": [
    "**Attention** On pourrait avoir envie de créer une matrice comme ci-dessous. Pourquoi est-ce en réalité une très mauvaise idée ?"
   ]
  },
  {
   "cell_type": "code",
   "execution_count": 14,
   "metadata": {
    "execution": {
     "iopub.execute_input": "2021-10-29T14:28:18.891100Z",
     "iopub.status.busy": "2021-10-29T14:28:18.890642Z",
     "iopub.status.idle": "2021-10-29T14:28:18.894540Z",
     "shell.execute_reply": "2021-10-29T14:28:18.894064Z"
    }
   },
   "outputs": [
    {
     "data": {
      "text/plain": [
       "- : int array array = [|[|0; 0; 0|]; [|0; 0; 0|]; [|0; 0; 0|]; [|0; 0; 0|]|]\n"
      ]
     },
     "execution_count": 14,
     "metadata": {},
     "output_type": "execute_result"
    }
   ],
   "source": [
    "Array.make 4 (Array.make 3 0)"
   ]
  },
  {
   "cell_type": "markdown",
   "metadata": {},
   "source": [
    "## Chaîne de caractères (string)\n",
    "\n",
    "Une chaîne de caractères permet de contenir du texte :"
   ]
  },
  {
   "cell_type": "code",
   "execution_count": 15,
   "metadata": {
    "execution": {
     "iopub.execute_input": "2021-10-29T14:28:18.896852Z",
     "iopub.status.busy": "2021-10-29T14:28:18.895942Z",
     "iopub.status.idle": "2021-10-29T14:28:18.899243Z",
     "shell.execute_reply": "2021-10-29T14:28:18.899640Z"
    }
   },
   "outputs": [
    {
     "data": {
      "text/plain": [
       "val s : string = \"Hello World\"\n"
      ]
     },
     "execution_count": 15,
     "metadata": {},
     "output_type": "execute_result"
    }
   ],
   "source": [
    "let s = \"Hello World\""
   ]
  },
  {
   "cell_type": "code",
   "execution_count": 16,
   "metadata": {
    "execution": {
     "iopub.execute_input": "2021-10-29T14:28:18.901463Z",
     "iopub.status.busy": "2021-10-29T14:28:18.900976Z",
     "iopub.status.idle": "2021-10-29T14:28:18.913376Z",
     "shell.execute_reply": "2021-10-29T14:28:18.913774Z"
    }
   },
   "outputs": [
    {
     "data": {
      "text/plain": [
       "- : char = 'e'\n"
      ]
     },
     "execution_count": 16,
     "metadata": {},
     "output_type": "execute_result"
    }
   ],
   "source": [
    "s.[1]  (* le caractère à la position 1 *)"
   ]
  },
  {
   "cell_type": "markdown",
   "metadata": {},
   "source": [
    "Un caractère (char) correspond à un symbole (lettre, chiffre, ponctuation...).  \n",
    "On ne peut pas modifier une string : ni ajouter un caractère ni en modifier un."
   ]
  },
  {
   "cell_type": "code",
   "execution_count": 17,
   "metadata": {
    "execution": {
     "iopub.execute_input": "2021-10-29T14:28:18.915611Z",
     "iopub.status.busy": "2021-10-29T14:28:18.915113Z",
     "iopub.status.idle": "2021-10-29T14:28:18.918191Z",
     "shell.execute_reply": "2021-10-29T14:28:18.917695Z"
    }
   },
   "outputs": [
    {
     "ename": "error",
     "evalue": "compile_error",
     "output_type": "error",
     "traceback": [
      "File \"[17]\", line 1, characters 0-1:\n1 | s.[0] <- 'a'  (* ne marche pas : un string est persistant *)\n    ^\nError: This expression has type string but an expression was expected of type\n         bytes\n"
     ]
    }
   ],
   "source": [
    "s.[0] <- 'a'  (* ne marche pas : un string est persistant *)"
   ]
  },
  {
   "cell_type": "markdown",
   "metadata": {},
   "source": [
    "## Résumé des structures de données d'OCaml"
   ]
  },
  {
   "cell_type": "markdown",
   "metadata": {},
   "source": [
    "| | tuple | list | array | string |\n",
    "|:---:|:---:|:---:|:---:|:---:|\n",
    "| exemple | `let t = (1, true, 3.14)` | `let l = [1; 2; 3]` | `let a = [\\|1; 2; 3\\|]` | `let s = \"Hello\"` |\n",
    "| taille | taille connue à la création | utiliser une fonction récursive<br> (ou `List.length`) | `Array.length` | `String.length` |\n",
    "| décomposer | `let a, b, c = t` | `let e::q = l`  <br>ou  <br>`match l with`<br>`\\| [] -> ...`<br>  `\\| e::q -> ...` | impossible | impossible |\n",
    "| obtenir ième élément | décomposer le tuple | fonction récursive | `a.(i)` | `s.[i]` |\n",
    "| modifier élément | impossible | impossible | `a.(i) <- ...` | impossible |\n",
    "| ajouter élément | impossible | `e::l` <br>(renvoie une nouvelle liste) | impossible | impossible |\n",
    "| mutable | non | non | oui | non |\n"
   ]
  }
 ],
 "metadata": {
  "interpreter": {
   "hash": "e8ada90d8a4953add78c43ca2aaed97b05f90e5c9cd24e11fb017c04e906ecda"
  },
  "kernelspec": {
   "display_name": "OCaml default",
   "language": "OCaml",
   "name": "ocaml-jupyter"
  },
  "language_info": {
   "codemirror_mode": "text/x-ocaml",
   "file_extension": ".ml",
   "mimetype": "text/x-ocaml",
   "name": "OCaml",
   "nbconverter_exporter": null,
   "pygments_lexer": "OCaml",
   "version": "4.08.1"
  },
  "title": "Structures de données de base"
 },
 "nbformat": 4,
 "nbformat_minor": 4
}

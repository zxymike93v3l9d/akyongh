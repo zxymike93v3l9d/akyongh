{
 "cells": [
  {
   "cell_type": "markdown",
   "metadata": {},
   "source": [
    "# <center><a href='https://mybinder.org/v2/gh/fortierq/binder-mp2i/main?urlpath=git-pull%3Frepo%3Dhttps%253A%252F%252Fgithub.com%252Fmp2i-fsm%252Fmp2i-2021%26urlpath%3Dlab%252Ftree%252Fmp2i-2021%252F1_ocaml%252F7_array_string.ipynb%26branch%3Dmain'>Tableaux et chaînes de caractères                                                                                                 <img src=https://mybinder.org/badge.svg></a></center>\n",
    "\n",
    "## [Résumé des structures de données d'OCaml](https://ocaml.org/learn/tutorials/comparison_of_standard_containers.html)"
   ]
  },
  {
   "cell_type": "markdown",
   "metadata": {},
   "source": [
    "| | tuple | list | array | string |\n",
    "|:---:|:---:|:---:|:---:|:---:|\n",
    "| exemple | `let t = (1, true, 3.14)` | `let l = [1; 2; 3]` | `let a = [\\|1; 2; 3\\|]` | `let s = \"Hello\"` |\n",
    "| taille | taille connue à la création | utiliser une fonction récursive<br> (ou `List.length`) | `Array.length` | `String.length` |\n",
    "| décomposer | `let a, b, c = t` | `let e::q = l`  <br>ou  <br>`match l with`<br>`\\| [] -> ...`<br>  `\\| e::q -> ...` | impossible | impossible |\n",
    "| obtenir ième élément | décomposer le tuple | fonction récursive | `a.(i)` | `s.[i]` |\n",
    "| modifier élément | impossible | impossible | `a.(i) <- ...` | impossible |\n",
    "| ajouter élément | impossible | `e::l` <br>(renvoie une nouvelle liste) | impossible | impossible |\n",
    "| mutable | non | non | oui | non |\n"
   ]
  },
  {
   "cell_type": "markdown",
   "metadata": {},
   "source": [
    "## Tableau\n",
    "\n",
    "Un tableau (`array`) se définit avec `[|...; ...; ...|]` :"
   ]
  },
  {
   "cell_type": "code",
   "execution_count": 1,
   "metadata": {
    "execution": {
     "iopub.execute_input": "2021-12-08T10:16:40.705680Z",
     "iopub.status.busy": "2021-12-08T10:16:40.704940Z",
     "iopub.status.idle": "2021-12-08T10:16:40.709091Z",
     "shell.execute_reply": "2021-12-08T10:16:40.708571Z"
    }
   },
   "outputs": [
    {
     "data": {
      "text/plain": [
       "val a : int array = [|1; 2; 3|]\n"
      ]
     },
     "execution_count": 1,
     "metadata": {},
     "output_type": "execute_result"
    }
   ],
   "source": [
    "let a = [|1; 2; 3|]  (* tableau contenant 1, 2, et 3 *)"
   ]
  },
  {
   "cell_type": "markdown",
   "metadata": {},
   "source": [
    "Le type est `int array` : tableau d'entiers."
   ]
  },
  {
   "cell_type": "markdown",
   "metadata": {},
   "source": [
    "On peut accéder à l'élément d'indice `i` d'un tableau avec `a.(i)` :"
   ]
  },
  {
   "cell_type": "code",
   "execution_count": 2,
   "metadata": {
    "execution": {
     "iopub.execute_input": "2021-12-08T10:16:40.711633Z",
     "iopub.status.busy": "2021-12-08T10:16:40.711248Z",
     "iopub.status.idle": "2021-12-08T10:16:40.715543Z",
     "shell.execute_reply": "2021-12-08T10:16:40.715192Z"
    }
   },
   "outputs": [
    {
     "data": {
      "text/plain": [
       "- : int = 1\n"
      ]
     },
     "execution_count": 2,
     "metadata": {},
     "output_type": "execute_result"
    }
   ],
   "source": [
    "a.(0)  (* 1er élément de a *)"
   ]
  },
  {
   "cell_type": "markdown",
   "metadata": {},
   "source": [
    "**Attention** : Les indices d'un tableau de taille $n$ vont de 0 à $n - 1$. On obtient une erreur \"index out of bounds\" si on dépasse :"
   ]
  },
  {
   "cell_type": "code",
   "execution_count": 3,
   "metadata": {
    "execution": {
     "iopub.execute_input": "2021-12-08T10:16:40.717330Z",
     "iopub.status.busy": "2021-12-08T10:16:40.716830Z",
     "iopub.status.idle": "2021-12-08T10:16:41.038408Z",
     "shell.execute_reply": "2021-12-08T10:16:41.037957Z"
    }
   },
   "outputs": [
    {
     "ename": "error",
     "evalue": "runtime_error",
     "output_type": "error",
     "traceback": [
      "\u001b[31mException: Invalid_argument \"index out of bounds\".\nRaised by primitive operation at unknown location\nCalled from file \"toplevel/toploop.ml\", line 208, characters 17-27\n\u001b[0m"
     ]
    }
   ],
   "source": [
    "let a = [|1; 2; 3|] in\n",
    "a.(4)  (* a.(4) n'existe pas *)"
   ]
  },
  {
   "cell_type": "markdown",
   "metadata": {},
   "source": [
    "On peut modifier un élément avec `a.(i) <- ...` :"
   ]
  },
  {
   "cell_type": "code",
   "execution_count": 4,
   "metadata": {
    "execution": {
     "iopub.execute_input": "2021-12-08T10:16:41.040484Z",
     "iopub.status.busy": "2021-12-08T10:16:41.039859Z",
     "iopub.status.idle": "2021-12-08T10:16:41.042109Z",
     "shell.execute_reply": "2021-12-08T10:16:41.042491Z"
    }
   },
   "outputs": [
    {
     "data": {
      "text/plain": [
       "- : int array = [|5; 2; 3|]\n"
      ]
     },
     "execution_count": 4,
     "metadata": {},
     "output_type": "execute_result"
    }
   ],
   "source": [
    "a.(0) <- 5;\n",
    "a  (* on a bien modifié a *)"
   ]
  },
  {
   "cell_type": "markdown",
   "metadata": {},
   "source": [
    "Un array est donc **mutable**, contrairement aux listes.  \n",
    "Par contre la taille d'un tableau ne peut pas être modifié, une fois qu'on l'a crée."
   ]
  },
  {
   "cell_type": "code",
   "execution_count": 5,
   "metadata": {
    "execution": {
     "iopub.execute_input": "2021-12-08T10:16:41.044389Z",
     "iopub.status.busy": "2021-12-08T10:16:41.043831Z",
     "iopub.status.idle": "2021-12-08T10:16:41.045667Z",
     "shell.execute_reply": "2021-12-08T10:16:41.046007Z"
    }
   },
   "outputs": [
    {
     "data": {
      "text/plain": [
       "- : int = 3\n"
      ]
     },
     "execution_count": 5,
     "metadata": {},
     "output_type": "execute_result"
    }
   ],
   "source": [
    "Array.length a  (* taille de a *)"
   ]
  },
  {
   "cell_type": "markdown",
   "metadata": {},
   "source": [
    "Il est possible de créer un tableau de taille arbitraire en écrivant :"
   ]
  },
  {
   "cell_type": "code",
   "execution_count": 6,
   "metadata": {
    "execution": {
     "iopub.execute_input": "2021-12-08T10:16:41.047671Z",
     "iopub.status.busy": "2021-12-08T10:16:41.047256Z",
     "iopub.status.idle": "2021-12-08T10:16:41.050733Z",
     "shell.execute_reply": "2021-12-08T10:16:41.050385Z"
    }
   },
   "outputs": [
    {
     "data": {
      "text/plain": [
       "- : int array = [|0; 0; 0; 0; 0; 0; 0; 0; 0; 0|]\n"
      ]
     },
     "execution_count": 6,
     "metadata": {},
     "output_type": "execute_result"
    }
   ],
   "source": [
    "Array.make 10 0;;  (* crée un tableau contenant 10 fois l'élement 0 *)"
   ]
  },
  {
   "cell_type": "markdown",
   "metadata": {},
   "source": [
    "Bien sûr, on peut remplir le tableau avec une autre valeur initiale :"
   ]
  },
  {
   "cell_type": "code",
   "execution_count": 7,
   "metadata": {
    "execution": {
     "iopub.execute_input": "2021-12-08T10:16:41.053765Z",
     "iopub.status.busy": "2021-12-08T10:16:41.053282Z",
     "iopub.status.idle": "2021-12-08T10:16:41.055150Z",
     "shell.execute_reply": "2021-12-08T10:16:41.054145Z"
    }
   },
   "outputs": [
    {
     "data": {
      "text/plain": [
       "- : float array = [|1.23; 1.23; 1.23; 1.23; 1.23; 1.23; 1.23|]\n"
      ]
     },
     "execution_count": 7,
     "metadata": {},
     "output_type": "execute_result"
    }
   ],
   "source": [
    "Array.make 7 1.23;;  (* crée un tableau de 7 éléments contenant 1.23 *)"
   ]
  },
  {
   "cell_type": "markdown",
   "metadata": {},
   "source": [
    "Les tableaux sont passés par référence aux fonctions : si une fonction modifie un `array` en argument, elle le modifie aussi à l'extérieur de la fonction.  \n",
    "Exemple :"
   ]
  },
  {
   "cell_type": "code",
   "execution_count": 8,
   "metadata": {
    "execution": {
     "iopub.execute_input": "2021-12-08T10:16:41.056741Z",
     "iopub.status.busy": "2021-12-08T10:16:41.056327Z",
     "iopub.status.idle": "2021-12-08T10:16:41.059721Z",
     "shell.execute_reply": "2021-12-08T10:16:41.060057Z"
    }
   },
   "outputs": [
    {
     "data": {
      "text/plain": [
       "- : int array = [|42; -3; 4|]\n"
      ]
     },
     "execution_count": 8,
     "metadata": {},
     "output_type": "execute_result"
    }
   ],
   "source": [
    "let f a =  (* fonction qui met 42 dans la 1ere case du tableau a *)\n",
    "  a.(0) <- 42 in \n",
    "let t = [|0; -3; 4|] in\n",
    "f t;\n",
    "t  (* la modification de t à l'intérieur de f a modifié le tableau à l'extérieur *)"
   ]
  },
  {
   "cell_type": "markdown",
   "metadata": {
    "tags": [
     "exo"
    ]
   },
   "source": [
    "**Exercice** : Écrire une fonction pour calculer le maximum d'un tableau d'entiers."
   ]
  },
  {
   "cell_type": "markdown",
   "metadata": {
    "tags": [
     "exo"
    ]
   },
   "source": [
    "**Exercice** : Écrire une fonction `swap : 'a array -> int -> int -> unit` telle que `swap a i j` échange les éléments `a.(i)` et `a.(j)`."
   ]
  },
  {
   "cell_type": "markdown",
   "metadata": {},
   "source": [
    "## Matrices\n",
    "\n",
    "Une matrice est un tableau de tableaux, ou, de façon équivalente, un tableau à 2 dimensions (signifiant qu'il faut donner 2 indices pour accéder à un élément). Exemple :"
   ]
  },
  {
   "cell_type": "code",
   "execution_count": 9,
   "metadata": {
    "execution": {
     "iopub.execute_input": "2021-12-08T10:16:41.061911Z",
     "iopub.status.busy": "2021-12-08T10:16:41.061484Z",
     "iopub.status.idle": "2021-12-08T10:16:41.064173Z",
     "shell.execute_reply": "2021-12-08T10:16:41.063809Z"
    }
   },
   "outputs": [
    {
     "data": {
      "text/plain": [
       "val m : int array array = [|[|1; 2|]; [|3; 4|]|]\n"
      ]
     },
     "execution_count": 9,
     "metadata": {},
     "output_type": "execute_result"
    }
   ],
   "source": [
    "let m = [|[|1; 2|]; [|3; 4|]|]  "
   ]
  },
  {
   "cell_type": "markdown",
   "metadata": {},
   "source": [
    "Cette matrice `m` correspond à la représentation mathématique suivante :\n",
    "$$\\begin{pmatrix}\n",
    "1 & 2 \\\\\n",
    "3 & 4 \n",
    "\\end{pmatrix}$$"
   ]
  },
  {
   "cell_type": "markdown",
   "metadata": {},
   "source": [
    "On peut sauter des lignes pour plus de clarté :"
   ]
  },
  {
   "cell_type": "code",
   "execution_count": 10,
   "metadata": {
    "execution": {
     "iopub.execute_input": "2021-12-08T10:16:41.065788Z",
     "iopub.status.busy": "2021-12-08T10:16:41.065372Z",
     "iopub.status.idle": "2021-12-08T10:16:41.067943Z",
     "shell.execute_reply": "2021-12-08T10:16:41.068395Z"
    }
   },
   "outputs": [
    {
     "data": {
      "text/plain": [
       "val m : int array array = [|[|1; 2|]; [|3; 4|]|]\n"
      ]
     },
     "execution_count": 10,
     "metadata": {},
     "output_type": "execute_result"
    }
   ],
   "source": [
    "let m = [| \n",
    "  [|1; 2|]; (* 1ère ligne de la matrice m *)\n",
    "  [|3; 4|]  (* 2ème ligne *)\n",
    "|]"
   ]
  },
  {
   "cell_type": "markdown",
   "metadata": {},
   "source": [
    "On voit d'après la définition de `m` que `m` est un tableau dont les éléments sont des tableaux. Le premier sous-tableau de `m` (c'est-à-dire `[|1; 2|]`) correspod à la 1ère ligne, par exemple."
   ]
  },
  {
   "cell_type": "code",
   "execution_count": 11,
   "metadata": {
    "execution": {
     "iopub.execute_input": "2021-12-08T10:16:41.070031Z",
     "iopub.status.busy": "2021-12-08T10:16:41.069619Z",
     "iopub.status.idle": "2021-12-08T10:16:41.072182Z",
     "shell.execute_reply": "2021-12-08T10:16:41.071791Z"
    }
   },
   "outputs": [
    {
     "data": {
      "text/plain": [
       "- : int array = [|1; 2|]\n"
      ]
     },
     "execution_count": 11,
     "metadata": {},
     "output_type": "execute_result"
    }
   ],
   "source": [
    "m.(0)  (* 2ème ligne de m *)"
   ]
  },
  {
   "cell_type": "markdown",
   "metadata": {},
   "source": [
    "On peut accéder à l'élément sur la ligne `i`, colonne `j` avec `m.(i).(j)` :"
   ]
  },
  {
   "cell_type": "code",
   "execution_count": 12,
   "metadata": {
    "execution": {
     "iopub.execute_input": "2021-12-08T10:16:41.073757Z",
     "iopub.status.busy": "2021-12-08T10:16:41.073343Z",
     "iopub.status.idle": "2021-12-08T10:16:41.075942Z",
     "shell.execute_reply": "2021-12-08T10:16:41.076361Z"
    }
   },
   "outputs": [
    {
     "data": {
      "text/plain": [
       "- : int = 3\n"
      ]
     },
     "execution_count": 12,
     "metadata": {},
     "output_type": "execute_result"
    }
   ],
   "source": [
    "m.(1).(0)  (* élément sur la ligne 1, colonne 0 de m *)"
   ]
  },
  {
   "cell_type": "markdown",
   "metadata": {
    "tags": [
     "exo"
    ]
   },
   "source": [
    "**Exercice** Comment connaitre le nombre de lignes d'une matrice `m`? Et son nombre de colonnes ?"
   ]
  },
  {
   "cell_type": "markdown",
   "metadata": {
    "tags": [
     "exo"
    ]
   },
   "source": [
    "**Exercice** Écrire une fonction pour transposer une matrice `m`, c'est à dire obtenir `tm` telle que `tm.(i).(j) =  m.(j).(i)`.  \n",
    "On pourra modifier `m` en place (sans créer de nouvelle matrice)."
   ]
  },
  {
   "cell_type": "markdown",
   "metadata": {},
   "source": [
    "Pour créer une matrice, on peut utiliser `Array.make_matrix` :"
   ]
  },
  {
   "cell_type": "code",
   "execution_count": 13,
   "metadata": {
    "execution": {
     "iopub.execute_input": "2021-12-08T10:16:41.078014Z",
     "iopub.status.busy": "2021-12-08T10:16:41.077588Z",
     "iopub.status.idle": "2021-12-08T10:16:41.081097Z",
     "shell.execute_reply": "2021-12-08T10:16:41.080708Z"
    }
   },
   "outputs": [
    {
     "data": {
      "text/plain": [
       "- : int array array = [|[|0; 0; 0|]; [|0; 0; 0|]; [|0; 0; 0|]; [|0; 0; 0|]|]\n"
      ]
     },
     "execution_count": 13,
     "metadata": {},
     "output_type": "execute_result"
    }
   ],
   "source": [
    "Array.make_matrix 4 3 0  (* crée une matrice de 4 lignes et 3 colonnes remplie de 0 *)"
   ]
  },
  {
   "cell_type": "markdown",
   "metadata": {},
   "source": [
    "**Attention** On pourrait avoir envie de créer une matrice comme ci-dessous. Pourquoi est-ce en réalité une très mauvaise idée ?"
   ]
  },
  {
   "cell_type": "code",
   "execution_count": 14,
   "metadata": {
    "execution": {
     "iopub.execute_input": "2021-12-08T10:16:41.082890Z",
     "iopub.status.busy": "2021-12-08T10:16:41.082366Z",
     "iopub.status.idle": "2021-12-08T10:16:41.085860Z",
     "shell.execute_reply": "2021-12-08T10:16:41.085413Z"
    }
   },
   "outputs": [
    {
     "data": {
      "text/plain": [
       "- : int array array = [|[|0; 0; 0|]; [|0; 0; 0|]; [|0; 0; 0|]; [|0; 0; 0|]|]\n"
      ]
     },
     "execution_count": 14,
     "metadata": {},
     "output_type": "execute_result"
    }
   ],
   "source": [
    "Array.make 4 (Array.make 3 0)"
   ]
  },
  {
   "cell_type": "markdown",
   "metadata": {},
   "source": [
    "## Chaîne de caractères (string)\n",
    "\n",
    "Une chaîne de caractères permet de contenir du texte :"
   ]
  },
  {
   "cell_type": "code",
   "execution_count": 15,
   "metadata": {
    "execution": {
     "iopub.execute_input": "2021-12-08T10:16:41.087641Z",
     "iopub.status.busy": "2021-12-08T10:16:41.087076Z",
     "iopub.status.idle": "2021-12-08T10:16:41.089823Z",
     "shell.execute_reply": "2021-12-08T10:16:41.089439Z"
    }
   },
   "outputs": [
    {
     "data": {
      "text/plain": [
       "val s : string = \"Hello World\"\n"
      ]
     },
     "execution_count": 15,
     "metadata": {},
     "output_type": "execute_result"
    }
   ],
   "source": [
    "let s = \"Hello World\""
   ]
  },
  {
   "cell_type": "code",
   "execution_count": 16,
   "metadata": {
    "execution": {
     "iopub.execute_input": "2021-12-08T10:16:41.091602Z",
     "iopub.status.busy": "2021-12-08T10:16:41.091025Z",
     "iopub.status.idle": "2021-12-08T10:16:41.102940Z",
     "shell.execute_reply": "2021-12-08T10:16:41.102537Z"
    }
   },
   "outputs": [
    {
     "data": {
      "text/plain": [
       "- : char = 'e'\n"
      ]
     },
     "execution_count": 16,
     "metadata": {},
     "output_type": "execute_result"
    }
   ],
   "source": [
    "s.[1]  (* le caractère à la position 1 *)"
   ]
  },
  {
   "cell_type": "markdown",
   "metadata": {},
   "source": [
    "Un caractère (char) correspond à un symbole (lettre, chiffre, ponctuation...).  \n",
    "On ne peut pas modifier une string : ni ajouter un caractère ni en modifier un."
   ]
  },
  {
   "cell_type": "code",
   "execution_count": 17,
   "metadata": {
    "execution": {
     "iopub.execute_input": "2021-12-08T10:16:41.104718Z",
     "iopub.status.busy": "2021-12-08T10:16:41.104314Z",
     "iopub.status.idle": "2021-12-08T10:16:41.106573Z",
     "shell.execute_reply": "2021-12-08T10:16:41.106213Z"
    }
   },
   "outputs": [
    {
     "ename": "error",
     "evalue": "compile_error",
     "output_type": "error",
     "traceback": [
      "File \"[17]\", line 1, characters 0-1:\n1 | s.[0] <- 'a'  (* ne marche pas : un string est persistant *)\n    ^\nError: This expression has type string but an expression was expected of type\n         bytes\n"
     ]
    }
   ],
   "source": [
    "s.[0] <- 'a'  (* ne marche pas : un string est persistant *)"
   ]
  }
 ],
 "metadata": {
  "interpreter": {
   "hash": "e8ada90d8a4953add78c43ca2aaed97b05f90e5c9cd24e11fb017c04e906ecda"
  },
  "kernelspec": {
   "display_name": "OCaml default",
   "language": "OCaml",
   "name": "ocaml-jupyter"
  },
  "language_info": {
   "codemirror_mode": "text/x-ocaml",
   "file_extension": ".ml",
   "mimetype": "text/x-ocaml",
   "name": "OCaml",
   "nbconverter_exporter": null,
   "pygments_lexer": "OCaml",
   "version": "4.08.1"
  },
  "title": "Structures de données de base"
 },
 "nbformat": 4,
 "nbformat_minor": 4
}

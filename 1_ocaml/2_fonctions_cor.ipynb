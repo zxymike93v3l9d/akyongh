{
 "cells": [
  {
   "cell_type": "markdown",
   "id": "4542c36b",
   "metadata": {},
   "source": [
    "# Fonctions"
   ]
  },
  {
   "cell_type": "markdown",
   "id": "85ad9751",
   "metadata": {},
   "source": [
    "## Utiliser une fonction\n",
    "\n",
    "OCaml est un langage fonctionnel, ce qui signifie que :\n",
    "- les fonctions y occupent une place importante et peuvent être manipulées un peu comme des variables\n",
    "- les fonctions sont censées ne pas effectuer d'effet de bord, c'est à dire d'action sur l'extérieur de la fonction (pas de modification de variable globale, pas d'écriture dans un fichier...)\n",
    "\n",
    "Pour utiliser une fonction `f` sur une valeur `x`, on écrira simplement `f x` (et non pas `f(x)`).  \n",
    "\n",
    "Un certain nombre de fonctions sont déjà définies en OCaml. Par exemple, la racine carrée : "
   ]
  },
  {
   "cell_type": "code",
   "execution_count": 1,
   "id": "9faf1d2b",
   "metadata": {
    "execution": {
     "iopub.execute_input": "2021-10-29T14:28:02.741563Z",
     "iopub.status.busy": "2021-10-29T14:28:02.741007Z",
     "iopub.status.idle": "2021-10-29T14:28:02.747413Z",
     "shell.execute_reply": "2021-10-29T14:28:02.745043Z"
    },
    "tags": []
   },
   "outputs": [
    {
     "data": {
      "text/plain": [
       "- : float = 1.41421356237309515\n"
      ]
     },
     "execution_count": 1,
     "metadata": {},
     "output_type": "execute_result"
    }
   ],
   "source": [
    "sqrt 2.0 (* renvoie une approximation de racine de 2 *)"
   ]
  },
  {
   "cell_type": "markdown",
   "id": "fdac1910",
   "metadata": {},
   "source": [
    "Chaque fonction possède une **signature**, qui donne les types des paramètres (valeurs en entrée de la fonction) et le type de la valeur de retour."
   ]
  },
  {
   "cell_type": "code",
   "execution_count": 2,
   "id": "b3b11b7c",
   "metadata": {
    "execution": {
     "iopub.execute_input": "2021-10-29T14:28:02.750615Z",
     "iopub.status.busy": "2021-10-29T14:28:02.750105Z",
     "iopub.status.idle": "2021-10-29T14:28:02.753684Z",
     "shell.execute_reply": "2021-10-29T14:28:02.753256Z"
    },
    "tags": []
   },
   "outputs": [
    {
     "data": {
      "text/plain": [
       "- : float -> float = <fun>\n"
      ]
     },
     "execution_count": 2,
     "metadata": {},
     "output_type": "execute_result"
    }
   ],
   "source": [
    "sqrt"
   ]
  },
  {
   "cell_type": "markdown",
   "id": "5b1292cc",
   "metadata": {},
   "source": [
    "`float -> float` signifie que `sqrt` est une fonction qui prend un flottant en entrée et renvoie un flottant. On ne peut donc pas l'appliquer sur un entier :"
   ]
  },
  {
   "cell_type": "code",
   "execution_count": 3,
   "id": "85b0454a",
   "metadata": {
    "execution": {
     "iopub.execute_input": "2021-10-29T14:28:02.755753Z",
     "iopub.status.busy": "2021-10-29T14:28:02.755241Z",
     "iopub.status.idle": "2021-10-29T14:28:02.757656Z",
     "shell.execute_reply": "2021-10-29T14:28:02.758085Z"
    },
    "tags": []
   },
   "outputs": [
    {
     "ename": "error",
     "evalue": "compile_error",
     "output_type": "error",
     "traceback": [
      "File \"[3]\", line 1, characters 5-6:\n1 | sqrt 2 (* erreur : on donne un entier à sqrt qui attend un flottant *)\n         ^\nError: This expression has type int but an expression was expected of type\n         float\n"
     ]
    }
   ],
   "source": [
    "sqrt 2 (* erreur : on donne un entier à sqrt qui attend un flottant *)"
   ]
  },
  {
   "cell_type": "markdown",
   "id": "39fbac71",
   "metadata": {},
   "source": [
    "## Définir une fonction"
   ]
  },
  {
   "cell_type": "markdown",
   "id": "b756dffe",
   "metadata": {},
   "source": [
    "En OCaml, une fonction se définie de la façon suivante :\n",
    "```ocaml\n",
    "let nom_fonction nom_argument = ... \n",
    "```\n",
    "où `...` est le corps de la fonction, c'est à dire ce qui est exécuté lorsqu'on utilise la fonction. \n",
    "\n",
    "**La valeur renvoyée par la fonction est celle de la dernière instruction (pas besoin de `return`)**."
   ]
  },
  {
   "cell_type": "markdown",
   "id": "3e96d86f",
   "metadata": {},
   "source": [
    "Définissons par exemple la fonction $f: x \\longmapsto 2x$ :"
   ]
  },
  {
   "cell_type": "code",
   "execution_count": 4,
   "id": "631d6605",
   "metadata": {
    "execution": {
     "iopub.execute_input": "2021-10-29T14:28:02.759981Z",
     "iopub.status.busy": "2021-10-29T14:28:02.759498Z",
     "iopub.status.idle": "2021-10-29T14:28:02.762124Z",
     "shell.execute_reply": "2021-10-29T14:28:02.762523Z"
    },
    "tags": []
   },
   "outputs": [
    {
     "data": {
      "text/plain": [
       "val f : int -> int = <fun>\n"
      ]
     },
     "execution_count": 4,
     "metadata": {},
     "output_type": "execute_result"
    }
   ],
   "source": [
    "let f x = 2*x"
   ]
  },
  {
   "cell_type": "markdown",
   "id": "16847ddc",
   "metadata": {},
   "source": [
    "OCaml nous dit que `f` est de type `int -> int`, ce qui signifie que `f` prend un entier en entrée et renvoie un entier en sortie. Ceci est similaire à la notation mathématique $f : \\mathbb{N} \\longrightarrow \\mathbb{N}$.\n",
    "\n",
    "On peut ensuite utiliser `f` et récupérer la valeur de retour :"
   ]
  },
  {
   "cell_type": "code",
   "execution_count": 5,
   "id": "3941b63d",
   "metadata": {
    "execution": {
     "iopub.execute_input": "2021-10-29T14:28:02.764469Z",
     "iopub.status.busy": "2021-10-29T14:28:02.763992Z",
     "iopub.status.idle": "2021-10-29T14:28:02.766214Z",
     "shell.execute_reply": "2021-10-29T14:28:02.766600Z"
    }
   },
   "outputs": [
    {
     "data": {
      "text/plain": [
       "- : int = 6\n"
      ]
     },
     "execution_count": 5,
     "metadata": {},
     "output_type": "execute_result"
    }
   ],
   "source": [
    "f 3"
   ]
  },
  {
   "cell_type": "markdown",
   "id": "ac4a37a2",
   "metadata": {},
   "source": [
    "Notons que `x` est une variable **muette** : elle n'existe qu'à l'intérieur de `f`, n'a aucun rapport avec une variable `x` définie précédemment et la fonction suivante définit exactement la même fonction :"
   ]
  },
  {
   "cell_type": "code",
   "execution_count": 6,
   "id": "102cb262",
   "metadata": {
    "execution": {
     "iopub.execute_input": "2021-10-29T14:28:02.768368Z",
     "iopub.status.busy": "2021-10-29T14:28:02.767877Z",
     "iopub.status.idle": "2021-10-29T14:28:02.770482Z",
     "shell.execute_reply": "2021-10-29T14:28:02.770847Z"
    },
    "tags": []
   },
   "outputs": [
    {
     "data": {
      "text/plain": [
       "val f : int -> int = <fun>\n"
      ]
     },
     "execution_count": 6,
     "metadata": {},
     "output_type": "execute_result"
    }
   ],
   "source": [
    "let f y = 2*y (* peu importe le nom de la variable muette y *)"
   ]
  },
  {
   "cell_type": "markdown",
   "id": "aebd9d3d",
   "metadata": {},
   "source": [
    "Maintenant que `f` est définie, on peut calculer $f(3)$ :"
   ]
  },
  {
   "cell_type": "code",
   "execution_count": 7,
   "id": "ab96f7ae",
   "metadata": {
    "execution": {
     "iopub.execute_input": "2021-10-29T14:28:02.772662Z",
     "iopub.status.busy": "2021-10-29T14:28:02.772178Z",
     "iopub.status.idle": "2021-10-29T14:28:02.774805Z",
     "shell.execute_reply": "2021-10-29T14:28:02.774391Z"
    },
    "tags": []
   },
   "outputs": [
    {
     "data": {
      "text/plain": [
       "- : int = 6\n"
      ]
     },
     "execution_count": 7,
     "metadata": {},
     "output_type": "execute_result"
    }
   ],
   "source": [
    "f 3"
   ]
  },
  {
   "cell_type": "markdown",
   "id": "9d2476ea",
   "metadata": {},
   "source": [
    "**Exercice** : définir la fonction $f : x \\longmapsto \\frac{1}{\\sqrt{1 + x^2}}$ en OCaml."
   ]
  },
  {
   "cell_type": "code",
   "execution_count": 8,
   "id": "a71415ea",
   "metadata": {
    "execution": {
     "iopub.execute_input": "2021-10-29T14:28:02.776722Z",
     "iopub.status.busy": "2021-10-29T14:28:02.776240Z",
     "iopub.status.idle": "2021-10-29T14:28:02.780415Z",
     "shell.execute_reply": "2021-10-29T14:28:02.780805Z"
    },
    "tags": [
     "cor"
    ]
   },
   "outputs": [
    {
     "data": {
      "text/plain": [
       "val f : float -> float = <fun>\n"
      ]
     },
     "execution_count": 8,
     "metadata": {},
     "output_type": "execute_result"
    }
   ],
   "source": [
    "let f x = 1./.(1. +. x**2.)**0.5"
   ]
  },
  {
   "cell_type": "markdown",
   "id": "ab9645a7",
   "metadata": {},
   "source": [
    "Comme pour les variables, il est possible d'utiliser `in` pour spécifier la portée d'une fonction $g$"
   ]
  },
  {
   "cell_type": "code",
   "execution_count": 9,
   "id": "9208add4",
   "metadata": {
    "execution": {
     "iopub.execute_input": "2021-10-29T14:28:02.783063Z",
     "iopub.status.busy": "2021-10-29T14:28:02.782378Z",
     "iopub.status.idle": "2021-10-29T14:28:02.785557Z",
     "shell.execute_reply": "2021-10-29T14:28:02.785101Z"
    },
    "tags": []
   },
   "outputs": [
    {
     "data": {
      "text/plain": [
       "- : int = 1\n"
      ]
     },
     "execution_count": 9,
     "metadata": {},
     "output_type": "execute_result"
    }
   ],
   "source": [
    "let g x = x + 1 in\n",
    "g 0  (* g est utilisable seulement dans le in *)"
   ]
  },
  {
   "cell_type": "markdown",
   "id": "bedde73f",
   "metadata": {},
   "source": [
    "**Exercice** Donner la valeur de l'expression suivante :\n",
    "```ocaml\n",
    "let h x = f x + 1 in\n",
    "h 3\n",
    "```"
   ]
  },
  {
   "cell_type": "code",
   "execution_count": 10,
   "id": "9d6782c2",
   "metadata": {
    "execution": {
     "iopub.execute_input": "2021-10-29T14:28:02.787430Z",
     "iopub.status.busy": "2021-10-29T14:28:02.786946Z",
     "iopub.status.idle": "2021-10-29T14:28:02.789641Z",
     "shell.execute_reply": "2021-10-29T14:28:02.789184Z"
    },
    "tags": [
     "cor"
    ]
   },
   "outputs": [
    {
     "ename": "error",
     "evalue": "compile_error",
     "output_type": "error",
     "traceback": [
      "File \"[10]\", line 1, characters 10-13:\n1 | let h x = f x + 1 in (* x est remplacé par 3, f x est remplacé par 6 *)\n              ^^^\nError: This expression has type float but an expression was expected of type\n         int\n"
     ]
    }
   ],
   "source": [
    "let h x = f x + 1 in (* x est remplacé par 3, f x est remplacé par 6 *)\n",
    "h 3"
   ]
  },
  {
   "cell_type": "markdown",
   "id": "58a050ad",
   "metadata": {},
   "source": [
    "## Fonctions anonymes"
   ]
  },
  {
   "cell_type": "markdown",
   "id": "6ab7369e",
   "metadata": {},
   "source": [
    "Quand on a besoin d'utiliser une fonction une seule fois, on peut définir une fonction anonyme (sans nom) avec `fun`. C'est l'équivalent de `lambda` en Python."
   ]
  },
  {
   "cell_type": "code",
   "execution_count": 11,
   "id": "7962dcae",
   "metadata": {
    "execution": {
     "iopub.execute_input": "2021-10-29T14:28:02.791564Z",
     "iopub.status.busy": "2021-10-29T14:28:02.791079Z",
     "iopub.status.idle": "2021-10-29T14:28:02.794167Z",
     "shell.execute_reply": "2021-10-29T14:28:02.793673Z"
    },
    "tags": []
   },
   "outputs": [
    {
     "data": {
      "text/plain": [
       "- : int -> int = <fun>\n"
      ]
     },
     "execution_count": 11,
     "metadata": {},
     "output_type": "execute_result"
    }
   ],
   "source": [
    "fun x -> x*2 (* définition d'une fonction anonyme *)"
   ]
  },
  {
   "cell_type": "code",
   "execution_count": 12,
   "id": "d29254c4",
   "metadata": {
    "execution": {
     "iopub.execute_input": "2021-10-29T14:28:02.795906Z",
     "iopub.status.busy": "2021-10-29T14:28:02.795423Z",
     "iopub.status.idle": "2021-10-29T14:28:02.798712Z",
     "shell.execute_reply": "2021-10-29T14:28:02.798289Z"
    },
    "tags": []
   },
   "outputs": [
    {
     "data": {
      "text/plain": [
       "- : int = 6\n"
      ]
     },
     "execution_count": 12,
     "metadata": {},
     "output_type": "execute_result"
    }
   ],
   "source": [
    "(fun x -> x*2) 3 (* applique une fonction anonyme sur la valeur 3 *)"
   ]
  },
  {
   "cell_type": "markdown",
   "id": "cc1871a9",
   "metadata": {},
   "source": [
    "**Remarque** : les deux définitions suivantes sont en fait complètement équivalentes.\n",
    "```ocaml\n",
    "let f x = ...\n",
    "```\n",
    "```ocaml\n",
    "let f = fun x -> ...\n",
    "```\n",
    "\n",
    "Par exemple, on peut définir la fonction $f : x \\longmapsto 2 \\sqrt{x}$ comme ceci :"
   ]
  },
  {
   "cell_type": "code",
   "execution_count": 13,
   "id": "570d8244",
   "metadata": {
    "execution": {
     "iopub.execute_input": "2021-10-29T14:28:02.800571Z",
     "iopub.status.busy": "2021-10-29T14:28:02.800083Z",
     "iopub.status.idle": "2021-10-29T14:28:02.802610Z",
     "shell.execute_reply": "2021-10-29T14:28:02.802975Z"
    }
   },
   "outputs": [
    {
     "data": {
      "text/plain": [
       "val f : float -> float = <fun>\n"
      ]
     },
     "execution_count": 13,
     "metadata": {},
     "output_type": "execute_result"
    }
   ],
   "source": [
    "let f = fun x -> 2.0*.x**0.5"
   ]
  },
  {
   "cell_type": "markdown",
   "id": "1a88dded",
   "metadata": {},
   "source": [
    "**Remarque** : On peut aussi définir une fonction avec `function x -> ...` mais `fun` est légèrement plus simple d'utilisation."
   ]
  },
  {
   "cell_type": "markdown",
   "id": "d1bae0ca",
   "metadata": {},
   "source": [
    "## Fonctions de plusieurs variables"
   ]
  },
  {
   "cell_type": "markdown",
   "id": "0ae74914",
   "metadata": {},
   "source": [
    "Il est possible de définir des fonctions avec plusieurs paramètres, par exemple :"
   ]
  },
  {
   "cell_type": "code",
   "execution_count": 14,
   "id": "bdcea25b",
   "metadata": {
    "execution": {
     "iopub.execute_input": "2021-10-29T14:28:02.805081Z",
     "iopub.status.busy": "2021-10-29T14:28:02.804592Z",
     "iopub.status.idle": "2021-10-29T14:28:02.807001Z",
     "shell.execute_reply": "2021-10-29T14:28:02.807393Z"
    },
    "lines_to_next_cell": 0,
    "tags": []
   },
   "outputs": [
    {
     "data": {
      "text/plain": [
       "val sum : int -> int -> int = <fun>\n"
      ]
     },
     "execution_count": 14,
     "metadata": {},
     "output_type": "execute_result"
    }
   ],
   "source": [
    "let sum x y = x + y"
   ]
  },
  {
   "cell_type": "code",
   "execution_count": 15,
   "id": "57bfeb8b",
   "metadata": {
    "execution": {
     "iopub.execute_input": "2021-10-29T14:28:02.809214Z",
     "iopub.status.busy": "2021-10-29T14:28:02.808728Z",
     "iopub.status.idle": "2021-10-29T14:28:02.811164Z",
     "shell.execute_reply": "2021-10-29T14:28:02.810750Z"
    },
    "tags": []
   },
   "outputs": [
    {
     "data": {
      "text/plain": [
       "- : int = 7\n"
      ]
     },
     "execution_count": 15,
     "metadata": {},
     "output_type": "execute_result"
    }
   ],
   "source": [
    "sum 3 4 (* renvoie 3 + 4 *)"
   ]
  },
  {
   "cell_type": "markdown",
   "id": "1e4b2ca0",
   "metadata": {},
   "source": [
    "Le type de `sum` est `int -> int -> int`, ce qui peut paraître étrange. C'est équivalent à `int -> (int -> int)`, ce qui signifie que `sum` prend en entier en argument et renvoie une valeur de type `int -> int` (c'est à dire une fonction).  \n",
    "En effet :"
   ]
  },
  {
   "cell_type": "code",
   "execution_count": 16,
   "id": "c696e615",
   "metadata": {
    "execution": {
     "iopub.execute_input": "2021-10-29T14:28:02.813005Z",
     "iopub.status.busy": "2021-10-29T14:28:02.812520Z",
     "iopub.status.idle": "2021-10-29T14:28:02.816269Z",
     "shell.execute_reply": "2021-10-29T14:28:02.816667Z"
    },
    "tags": []
   },
   "outputs": [
    {
     "data": {
      "text/plain": [
       "- : int -> int = <fun>\n"
      ]
     },
     "execution_count": 16,
     "metadata": {},
     "output_type": "execute_result"
    }
   ],
   "source": [
    "sum 3"
   ]
  },
  {
   "cell_type": "markdown",
   "id": "a483d0ab",
   "metadata": {},
   "source": [
    "`sum 3` est une fonction qui prend en argument un entier `y` et qui renvoie `3 + y`, ce qu'on peut vérifier :"
   ]
  },
  {
   "cell_type": "code",
   "execution_count": 17,
   "id": "b2e631d2",
   "metadata": {
    "execution": {
     "iopub.execute_input": "2021-10-29T14:28:02.818554Z",
     "iopub.status.busy": "2021-10-29T14:28:02.818059Z",
     "iopub.status.idle": "2021-10-29T14:28:02.820729Z",
     "shell.execute_reply": "2021-10-29T14:28:02.821124Z"
    },
    "tags": []
   },
   "outputs": [
    {
     "data": {
      "text/plain": [
       "- : int = 7\n"
      ]
     },
     "execution_count": 17,
     "metadata": {},
     "output_type": "execute_result"
    }
   ],
   "source": [
    "let f = sum 3 in (* f est une fonction *)\n",
    "f 4 (* renvoie sum 3 4, c'est à dire 7 *)"
   ]
  },
  {
   "cell_type": "markdown",
   "id": "e5f88770",
   "metadata": {},
   "source": [
    "En fait, OCaml transforme automatiquement une fonction de plusieurs variables en une suite de fonctions à une variable (c'est ce qu'on appelle la **curryfication**) :"
   ]
  },
  {
   "cell_type": "code",
   "execution_count": 18,
   "id": "e97e72be",
   "metadata": {
    "execution": {
     "iopub.execute_input": "2021-10-29T14:28:02.823010Z",
     "iopub.status.busy": "2021-10-29T14:28:02.822523Z",
     "iopub.status.idle": "2021-10-29T14:28:02.826048Z",
     "shell.execute_reply": "2021-10-29T14:28:02.825611Z"
    }
   },
   "outputs": [
    {
     "data": {
      "text/plain": [
       "val sum : int -> int -> int = <fun>\n"
      ]
     },
     "execution_count": 18,
     "metadata": {},
     "output_type": "execute_result"
    }
   ],
   "source": [
    "let sum = fun x -> (fun y -> x + y) (* OCaml transforme la définition de sum ci-dessus en celle-ci *)"
   ]
  },
  {
   "cell_type": "code",
   "execution_count": 19,
   "id": "09305ff9",
   "metadata": {
    "execution": {
     "iopub.execute_input": "2021-10-29T14:28:02.827978Z",
     "iopub.status.busy": "2021-10-29T14:28:02.827464Z",
     "iopub.status.idle": "2021-10-29T14:28:02.830077Z",
     "shell.execute_reply": "2021-10-29T14:28:02.829642Z"
    }
   },
   "outputs": [
    {
     "data": {
      "text/plain": [
       "- : int = 5\n"
      ]
     },
     "execution_count": 19,
     "metadata": {},
     "output_type": "execute_result"
    }
   ],
   "source": [
    "(sum 2) 3  (* le calcul effectué par OCaml lorsqu'on écrit sum 2 3 *)"
   ]
  },
  {
   "cell_type": "markdown",
   "id": "6fbcc7c3",
   "metadata": {},
   "source": [
    "La possibilité d'appliquer une fonction seulement sur certains arguments s'appelle l'**application partielle** de fonction. C'est un des avantages d'OCaml par rapport à Python.  "
   ]
  },
  {
   "cell_type": "markdown",
   "id": "dc3383e1",
   "metadata": {},
   "source": [
    "De la même façon, une fonction OCaml à 3 arguments sera de type `... -> ... -> ... -> ...`."
   ]
  },
  {
   "cell_type": "markdown",
   "id": "79891725",
   "metadata": {},
   "source": [
    "Une fonction peut aussi avoir aucune valeur en entrée. Dans ce cas, on lui donne l'argument `()` (de type unit). C'est le cas par exemple de `print_newline`, qui saute une ligne : "
   ]
  },
  {
   "cell_type": "code",
   "execution_count": 20,
   "id": "b8afbb4f",
   "metadata": {
    "execution": {
     "iopub.execute_input": "2021-10-29T14:28:02.832028Z",
     "iopub.status.busy": "2021-10-29T14:28:02.831539Z",
     "iopub.status.idle": "2021-10-29T14:28:02.842904Z",
     "shell.execute_reply": "2021-10-29T14:28:02.840937Z"
    }
   },
   "outputs": [
    {
     "name": "stdout",
     "output_type": "stream",
     "text": [
      "0\n",
      "1\n"
     ]
    },
    {
     "data": {
      "text/plain": [
       "- : unit = ()\n"
      ]
     },
     "execution_count": 20,
     "metadata": {},
     "output_type": "execute_result"
    }
   ],
   "source": [
    "print_int 0;\n",
    "print_newline ();\n",
    "print_int 1;\n",
    "print_newline ();"
   ]
  },
  {
   "cell_type": "markdown",
   "id": "69f57133",
   "metadata": {},
   "source": [
    "## Polymorphisme"
   ]
  },
  {
   "cell_type": "markdown",
   "id": "e1e95023",
   "metadata": {},
   "source": [
    "Reprenons notre 1er exemple de fonction :"
   ]
  },
  {
   "cell_type": "code",
   "execution_count": 21,
   "id": "e76b77f0",
   "metadata": {
    "execution": {
     "iopub.execute_input": "2021-10-29T14:28:02.847084Z",
     "iopub.status.busy": "2021-10-29T14:28:02.846197Z",
     "iopub.status.idle": "2021-10-29T14:28:02.850050Z",
     "shell.execute_reply": "2021-10-29T14:28:02.846628Z"
    }
   },
   "outputs": [
    {
     "data": {
      "text/plain": [
       "val f : int -> int = <fun>\n"
      ]
     },
     "execution_count": 21,
     "metadata": {},
     "output_type": "execute_result"
    }
   ],
   "source": [
    "let f x = 2*x"
   ]
  },
  {
   "cell_type": "markdown",
   "id": "fc69b837",
   "metadata": {},
   "source": [
    "OCaml sait que l'argument `x` de `f` est un `int` car on utilise l'opérateur `*` qui ne s'utilise que sur des entiers. Mais dans certaines fonctions, il n'y a pas de contrainte de type :"
   ]
  },
  {
   "cell_type": "code",
   "execution_count": 22,
   "id": "5b7eadd3",
   "metadata": {
    "execution": {
     "iopub.execute_input": "2021-10-29T14:28:02.851918Z",
     "iopub.status.busy": "2021-10-29T14:28:02.851436Z",
     "iopub.status.idle": "2021-10-29T14:28:02.854010Z",
     "shell.execute_reply": "2021-10-29T14:28:02.853505Z"
    }
   },
   "outputs": [
    {
     "data": {
      "text/plain": [
       "val id : 'a -> 'a = <fun>\n"
      ]
     },
     "execution_count": 22,
     "metadata": {},
     "output_type": "execute_result"
    }
   ],
   "source": [
    "let id x = x"
   ]
  },
  {
   "cell_type": "markdown",
   "id": "e058b121",
   "metadata": {},
   "source": [
    "Cette fonction `id` (pour identité) renvoie son argument sans le modifier. Comme aucune opération n'est appliquée sur `x`, il n'y a pas de contrainte sur son type. OCaml utilise alors `'a` pour désigner le type quelconque de `x`.  \n",
    "Notons que le type de retour de `id` est `'a` également : OCaml nous dit que `id` renvoie une valeur du même type que l'argument."
   ]
  },
  {
   "cell_type": "markdown",
   "id": "7ca8844f",
   "metadata": {},
   "source": [
    "**Exercice** : donner le type des fonctions suivantes  \n",
    "```ocaml\n",
    " let f x = 42\n",
    "```\n",
    "```ocaml\n",
    " let f x y = y\n",
    "```\n",
    "```ocaml\n",
    " let g x y f = x + f y\n",
    " ```"
   ]
  },
  {
   "cell_type": "code",
   "execution_count": 23,
   "id": "5125a762",
   "metadata": {
    "execution": {
     "iopub.execute_input": "2021-10-29T14:28:02.855874Z",
     "iopub.status.busy": "2021-10-29T14:28:02.855389Z",
     "iopub.status.idle": "2021-10-29T14:28:02.857645Z",
     "shell.execute_reply": "2021-10-29T14:28:02.858036Z"
    },
    "tags": [
     "cor"
    ]
   },
   "outputs": [
    {
     "data": {
      "text/plain": [
       "val f : 'a -> int = <fun>\n"
      ]
     },
     "execution_count": 23,
     "metadata": {},
     "output_type": "execute_result"
    }
   ],
   "source": [
    "let f x = 42;; \n",
    "(* x est quelconque ('a) et le type de retour est int *)\n",
    "(* donc f est de type 'a -> int *)"
   ]
  },
  {
   "cell_type": "code",
   "execution_count": 24,
   "id": "390c649a",
   "metadata": {
    "execution": {
     "iopub.execute_input": "2021-10-29T14:28:02.859765Z",
     "iopub.status.busy": "2021-10-29T14:28:02.859284Z",
     "iopub.status.idle": "2021-10-29T14:28:02.862732Z",
     "shell.execute_reply": "2021-10-29T14:28:02.862287Z"
    }
   },
   "outputs": [
    {
     "data": {
      "text/plain": [
       "val f : 'a -> 'b -> 'b = <fun>\n"
      ]
     },
     "execution_count": 24,
     "metadata": {},
     "output_type": "execute_result"
    }
   ],
   "source": [
    "let f x y = y;; \n",
    "(* x est quelconque ('a), y aussi ('b) mais le type de retour est le même que y ('b) *)\n",
    "(* donc f est de type 'a -> 'b -> 'b *)"
   ]
  },
  {
   "cell_type": "code",
   "execution_count": 25,
   "id": "797848c3",
   "metadata": {
    "execution": {
     "iopub.execute_input": "2021-10-29T14:28:02.864664Z",
     "iopub.status.busy": "2021-10-29T14:28:02.864153Z",
     "iopub.status.idle": "2021-10-29T14:28:02.867322Z",
     "shell.execute_reply": "2021-10-29T14:28:02.866920Z"
    }
   },
   "outputs": [
    {
     "data": {
      "text/plain": [
       "val g : int -> 'a -> ('a -> int) -> int = <fun>\n"
      ]
     },
     "execution_count": 25,
     "metadata": {},
     "output_type": "execute_result"
    }
   ],
   "source": [
    "let g x y f = x + f y;; \n",
    "(* x est un int, à cause du + *)\n",
    "(* y est quelconque ('a) *)\n",
    "(* f est une fonction qui prend un y (de type 'a) et renvoie un int, à cause du + *)\n",
    "(* donc f est de type int -> 'a -> ()*)"
   ]
  },
  {
   "cell_type": "markdown",
   "id": "a0866929",
   "metadata": {},
   "source": [
    "## Fonction comme argument\n",
    "\n",
    "Il est possible d'utiliser une fonction en argument d'une autre fonction. Par exemple, la fonction suivante évalue une autre fonction en la valeur 0 :"
   ]
  },
  {
   "cell_type": "code",
   "execution_count": 26,
   "id": "ec0e311c",
   "metadata": {
    "execution": {
     "iopub.execute_input": "2021-10-29T14:28:02.869039Z",
     "iopub.status.busy": "2021-10-29T14:28:02.868564Z",
     "iopub.status.idle": "2021-10-29T14:28:02.870786Z",
     "shell.execute_reply": "2021-10-29T14:28:02.871147Z"
    }
   },
   "outputs": [
    {
     "data": {
      "text/plain": [
       "val eval : (int -> 'a) -> 'a = <fun>\n"
      ]
     },
     "execution_count": 26,
     "metadata": {},
     "output_type": "execute_result"
    }
   ],
   "source": [
    "let eval f =\n",
    "f 0"
   ]
  },
  {
   "cell_type": "code",
   "execution_count": 27,
   "id": "f1ac0c70",
   "metadata": {
    "execution": {
     "iopub.execute_input": "2021-10-29T14:28:02.872819Z",
     "iopub.status.busy": "2021-10-29T14:28:02.872320Z",
     "iopub.status.idle": "2021-10-29T14:28:02.875881Z",
     "shell.execute_reply": "2021-10-29T14:28:02.875481Z"
    }
   },
   "outputs": [
    {
     "data": {
      "text/plain": [
       "- : int = 7\n"
      ]
     },
     "execution_count": 27,
     "metadata": {},
     "output_type": "execute_result"
    }
   ],
   "source": [
    "let f x = 3*x + 7 in\n",
    "eval f"
   ]
  },
  {
   "cell_type": "markdown",
   "id": "cfc970a9",
   "metadata": {},
   "source": [
    "**Exercice** : \n",
    "1. On définit une fonction `h` :\n",
    "```ocaml\n",
    "let h f g x = f (g x)\n",
    "```\n",
    "Donner la valeur de l'expression :\n",
    "```ocaml\n",
    "h (fun x -> x*x) (fun x -> x + 1) 3\n",
    "```\n",
    "2. Donner le type de `h`.\n",
    "3. À quoi sert `h`? Comment cette opération s'appelle-t-elle mathématiquement?"
   ]
  },
  {
   "cell_type": "code",
   "execution_count": 28,
   "id": "a6d59606",
   "metadata": {
    "execution": {
     "iopub.execute_input": "2021-10-29T14:28:02.877572Z",
     "iopub.status.busy": "2021-10-29T14:28:02.877089Z",
     "iopub.status.idle": "2021-10-29T14:28:02.882082Z",
     "shell.execute_reply": "2021-10-29T14:28:02.881606Z"
    },
    "tags": [
     "cor"
    ]
   },
   "outputs": [
    {
     "data": {
      "text/plain": [
       "val h : ('a -> 'b) -> ('c -> 'a) -> 'c -> 'b = <fun>\n"
      ]
     },
     "execution_count": 28,
     "metadata": {},
     "output_type": "execute_result"
    },
    {
     "data": {
      "text/plain": [
       "- : int = 16\n"
      ]
     },
     "execution_count": 28,
     "metadata": {},
     "output_type": "execute_result"
    }
   ],
   "source": [
    "(* 1. et 2. *)\n",
    "let h f g x = f (g x);; \n",
    "h (fun x -> x*x) (fun x -> x + 1) 3;;"
   ]
  },
  {
   "cell_type": "markdown",
   "id": "e9997f49",
   "metadata": {
    "tags": [
     "cor"
    ]
   },
   "source": [
    "3. `h` compose deux fonctions `f` et `g` : `h f g` est une fonction équivalent à $f \\circ g$."
   ]
  },
  {
   "cell_type": "markdown",
   "id": "1d57ab4d",
   "metadata": {
    "tags": []
   },
   "source": [
    "## Variable locale à une fonction"
   ]
  },
  {
   "cell_type": "markdown",
   "id": "40c21347",
   "metadata": {},
   "source": [
    "Il est possible de définir une variable dans une fonction :"
   ]
  },
  {
   "cell_type": "code",
   "execution_count": 29,
   "id": "dab358cd",
   "metadata": {
    "execution": {
     "iopub.execute_input": "2021-10-29T14:28:02.884363Z",
     "iopub.status.busy": "2021-10-29T14:28:02.883403Z",
     "iopub.status.idle": "2021-10-29T14:28:02.888990Z",
     "shell.execute_reply": "2021-10-29T14:28:02.888537Z"
    },
    "tags": []
   },
   "outputs": [
    {
     "data": {
      "text/plain": [
       "val pow4 : int -> int = <fun>\n"
      ]
     },
     "execution_count": 29,
     "metadata": {},
     "output_type": "execute_result"
    }
   ],
   "source": [
    "let pow4 x = (* je saute une ligne ici pour plus de lisibilité *)\n",
    "    let y = x*x in  (* y est utilisable seulement dans pow4 *)\n",
    "    y*y (* renvoie x puissance 4 *)"
   ]
  },
  {
   "cell_type": "code",
   "execution_count": 30,
   "id": "4e341abd",
   "metadata": {
    "execution": {
     "iopub.execute_input": "2021-10-29T14:28:02.891010Z",
     "iopub.status.busy": "2021-10-29T14:28:02.890229Z",
     "iopub.status.idle": "2021-10-29T14:28:02.892491Z",
     "shell.execute_reply": "2021-10-29T14:28:02.893216Z"
    },
    "tags": []
   },
   "outputs": [
    {
     "data": {
      "text/plain": [
       "- : int = 16\n"
      ]
     },
     "execution_count": 30,
     "metadata": {},
     "output_type": "execute_result"
    }
   ],
   "source": [
    "pow4 2 (* test de notre fonction *)"
   ]
  },
  {
   "cell_type": "markdown",
   "id": "b9728cd7",
   "metadata": {
    "tags": []
   },
   "source": [
    "On peut aussi définir une fonction à l'intérieur d'une fonction. Par exemple, on peut définir $f: x \\longmapsto 2x + \\sqrt{2(x + 1)}$ en utilisant une fonction locale $g : y \\longmapsto 2y$ :"
   ]
  },
  {
   "cell_type": "code",
   "execution_count": 31,
   "id": "b4bb10ed",
   "metadata": {
    "execution": {
     "iopub.execute_input": "2021-10-29T14:28:02.895425Z",
     "iopub.status.busy": "2021-10-29T14:28:02.894738Z",
     "iopub.status.idle": "2021-10-29T14:28:02.901082Z",
     "shell.execute_reply": "2021-10-29T14:28:02.900536Z"
    }
   },
   "outputs": [
    {
     "data": {
      "text/plain": [
       "val f : float -> float = <fun>\n"
      ]
     },
     "execution_count": 31,
     "metadata": {},
     "output_type": "execute_result"
    }
   ],
   "source": [
    "let f x = \n",
    "    let g y = 2.*.y in (* g n'est utilisable que dans f *)\n",
    "    g x +. (g (x +. 1.))**0.5"
   ]
  },
  {
   "cell_type": "code",
   "execution_count": 32,
   "id": "48a5700b",
   "metadata": {
    "execution": {
     "iopub.execute_input": "2021-10-29T14:28:02.903707Z",
     "iopub.status.busy": "2021-10-29T14:28:02.903220Z",
     "iopub.status.idle": "2021-10-29T14:28:02.906168Z",
     "shell.execute_reply": "2021-10-29T14:28:02.906592Z"
    }
   },
   "outputs": [
    {
     "data": {
      "text/plain": [
       "- : float = 4.\n"
      ]
     },
     "execution_count": 32,
     "metadata": {},
     "output_type": "execute_result"
    }
   ],
   "source": [
    "f 1."
   ]
  },
  {
   "cell_type": "markdown",
   "id": "ccb360b9",
   "metadata": {},
   "source": [
    "**Exercice** : Écrire une fonction `swap` qui échange les valeurs de 2 références en argument.  \n",
    "`swap` doit être de type `'a ref -> 'a ref -> unit`, ce qui signifie que `swap` a deux références en argument, sur des valeurs de même type `'a`, et ne renvoie pas de valeur.  \n",
    "On rappelle les opérations sur les références :  \n",
    "- Définir une référence (locale) : `let a = ref 5 in ...`\n",
    "- Obtenir la valeur d'une référence : `!a`\n",
    "- Modifier une référence : `a := 7`  \n",
    "\n",
    "**Remarque importante** : Lorsque l'on modifie une référence (ou un autre objet impératif, comme un tableau) qui est l'argument d'une fonction, on la modifie aussi à l'extérieur de la fonction. C'est ce qu'on appelle un **passage par référence**.  "
   ]
  },
  {
   "cell_type": "code",
   "execution_count": 33,
   "id": "f712b41c",
   "metadata": {
    "execution": {
     "iopub.execute_input": "2021-10-29T14:28:02.911159Z",
     "iopub.status.busy": "2021-10-29T14:28:02.910612Z",
     "iopub.status.idle": "2021-10-29T14:28:02.917063Z",
     "shell.execute_reply": "2021-10-29T14:28:02.916589Z"
    },
    "tags": [
     "cor"
    ]
   },
   "outputs": [
    {
     "data": {
      "text/plain": [
       "val swap : 'a ref -> 'a ref -> unit = <fun>\n"
      ]
     },
     "execution_count": 33,
     "metadata": {},
     "output_type": "execute_result"
    },
    {
     "data": {
      "text/plain": [
       "- : int ref * int ref = ({contents = 2}, {contents = 1})\n"
      ]
     },
     "execution_count": 33,
     "metadata": {},
     "output_type": "execute_result"
    }
   ],
   "source": [
    "(* 2. *)\n",
    "let swap x y =\n",
    "    let tmp = !y in\n",
    "    y := !x;\n",
    "    x := tmp;;\n",
    "\n",
    "let x = ref 1 in\n",
    "let y = ref 2 in\n",
    "swap x y;\n",
    "x, y;;"
   ]
  }
 ],
 "metadata": {
  "kernelspec": {
   "display_name": "OCaml default",
   "language": "OCaml",
   "name": "ocaml-jupyter"
  },
  "language_info": {
   "codemirror_mode": "text/x-ocaml",
   "file_extension": ".ml",
   "mimetype": "text/x-ocaml",
   "name": "OCaml",
   "nbconverter_exporter": null,
   "pygments_lexer": "OCaml",
   "version": "4.08.1"
  },
  "title": "Fonctions"
 },
 "nbformat": 4,
 "nbformat_minor": 5
}

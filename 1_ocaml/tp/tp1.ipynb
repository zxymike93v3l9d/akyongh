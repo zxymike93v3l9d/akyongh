{
 "cells": [
  {
   "cell_type": "markdown",
   "id": "08fe8de2",
   "metadata": {},
   "source": [
    "# <center><a href='https://mybinder.org/v2/gh/fortierq/binder-mp2i/main?urlpath=git-pull%3Frepo%3Dhttps%253A%252F%252Fgithub.com%252Fmp2i-fsm%252Fmp2i-2021%26urlpath%3Dlab%252Ftree%252Fmp2i-2021%252F1_ocaml%252Ftp%252Ftp1.ipynb%26branch%3Dmain'>TP 1 : Types, variables, fonctions                                                                                                                                 <img src=https://mybinder.org/badge.svg></a></center>"
   ]
  },
  {
   "cell_type": "markdown",
   "id": "b86be769",
   "metadata": {
    "tags": [
     "exo"
    ]
   },
   "source": [
    "## Types\n",
    "\n",
    "Devinez le type des fonctions suivantes et vérifier avec OCaml :\n",
    "```ocaml\n",
    "let f x y = x**y\n",
    "```\n",
    "```ocaml\n",
    "let g x y = x (y + 1)\n",
    "```\n",
    "```ocaml\n",
    "let h x y z = x (3. *. (y z)) + 1\n",
    "```\n",
    "Puis tester ces fonctions sur des arguments de votre choix."
   ]
  },
  {
   "cell_type": "code",
   "execution_count": 1,
   "id": "ee38251d",
   "metadata": {
    "execution": {
     "iopub.execute_input": "2021-11-17T17:40:44.547500Z",
     "iopub.status.busy": "2021-11-17T17:40:44.546825Z",
     "iopub.status.idle": "2021-11-17T17:40:44.557742Z",
     "shell.execute_reply": "2021-11-17T17:40:44.556867Z"
    },
    "tags": [
     "cor"
    ]
   },
   "outputs": [
    {
     "data": {
      "text/plain": [
       "- : float = 0.88656815056521332\n"
      ]
     },
     "execution_count": 1,
     "metadata": {},
     "output_type": "execute_result"
    },
    {
     "data": {
      "text/plain": [
       "- : int = 2\n"
      ]
     },
     "execution_count": 1,
     "metadata": {},
     "output_type": "execute_result"
    },
    {
     "data": {
      "text/plain": [
       "- : int = 1\n"
      ]
     },
     "execution_count": 1,
     "metadata": {},
     "output_type": "execute_result"
    }
   ],
   "source": [
    "let f x y = x**y in \n",
    "(* x et y doivent être de type float car ** ne fonctionne que sur des float *)\n",
    "(* donc f est de type float -> float -> float *)\n",
    "f 0.3 0.1;; (* test *)\n",
    "\n",
    "let g x y = x (y + 1) in \n",
    "(* y doit être entier car on utilise + dessus *)\n",
    "(* x est une fonction car on l'applique sur un argument *)\n",
    "(* de plus, l'argument de x est de type int car (y + 1) est un int *)\n",
    "(* donc x : int -> 'a, car il n'y a pas de contrainte sur la valeur de retour de x *)\n",
    "(* enfin la valeur de retour de g est la même que celle de x *)\n",
    "(* donc g : (int -> 'a) -> int -> 'a *)\n",
    "g (fun x -> x) 1;;\n",
    "\n",
    "let h x y z = x (3. *. (y z)) + 1 in\n",
    "(* x est une fonction qui prend un float car *. donne une float *)\n",
    "(* x renvoie un int (car on utilise + sur son image )*)\n",
    "(* donc x : float -> int *)\n",
    "(* z n'a aucune contrainte de type : son type est donc 'a *)\n",
    "(* y est une fonction qui prend un z et renvoie un float (car on utilise *. dessus) *)\n",
    "(* donc y : 'a -> float *)\n",
    "(* enfin la valeur de retour de h est de type int *)\n",
    "(* donc h : (float -> int) -> ('a -> float) -> 'a *)\n",
    "h (fun a -> 0) (fun x -> 0.5) 1;;"
   ]
  },
  {
   "cell_type": "markdown",
   "id": "291fdde6",
   "metadata": {},
   "source": [
    "## Tangente hyperbolique\n",
    "\n",
    "Définir en OCaml la fonction $\\tanh : x \\longmapsto \\frac{e^x - e^{-x}}{e^x + e^{-x}}$ en utilisant un seul appel à la fonction `exp : float -> float` de OCaml."
   ]
  },
  {
   "cell_type": "code",
   "execution_count": 2,
   "id": "8eb658e7",
   "metadata": {
    "execution": {
     "iopub.execute_input": "2021-11-17T17:40:44.562412Z",
     "iopub.status.busy": "2021-11-17T17:40:44.561827Z",
     "iopub.status.idle": "2021-11-17T17:40:44.567530Z",
     "shell.execute_reply": "2021-11-17T17:40:44.567015Z"
    },
    "tags": [
     "cor"
    ]
   },
   "outputs": [
    {
     "data": {
      "text/plain": [
       "val tanh : float -> float = <fun>\n"
      ]
     },
     "execution_count": 2,
     "metadata": {},
     "output_type": "execute_result"
    },
    {
     "data": {
      "text/plain": [
       "- : float = 0.761594155955764851\n"
      ]
     },
     "execution_count": 2,
     "metadata": {},
     "output_type": "execute_result"
    }
   ],
   "source": [
    "let tanh x =\n",
    "    let e = exp x in\n",
    "    (e -. 1./.e)/.(e +. 1./.e);;\n",
    "tanh 1. (* test *)"
   ]
  },
  {
   "cell_type": "markdown",
   "id": "78b9fd57",
   "metadata": {},
   "source": [
    "## Géométrie\n",
    "\n",
    "Le type `float*float` désigne un couple de flottant, représentant un point `p` dans $\\mathbb{R}^2$. On peut récupérer les coordonnées de `p` avec `let x, y = p` . Par exemple :"
   ]
  },
  {
   "cell_type": "code",
   "execution_count": 3,
   "id": "cf3dc3bf",
   "metadata": {
    "execution": {
     "iopub.execute_input": "2021-11-17T17:40:44.569654Z",
     "iopub.status.busy": "2021-11-17T17:40:44.569052Z",
     "iopub.status.idle": "2021-11-17T17:40:44.572181Z",
     "shell.execute_reply": "2021-11-17T17:40:44.571638Z"
    }
   },
   "outputs": [
    {
     "data": {
      "text/plain": [
       "- : float = 2.1\n"
      ]
     },
     "execution_count": 3,
     "metadata": {},
     "output_type": "execute_result"
    }
   ],
   "source": [
    "let p = (2.1, 3.7) in (* exemple de point *)\n",
    "let x, y = p in (* récupération des coordonnées *)\n",
    "x;; (* affichage de x *)"
   ]
  },
  {
   "cell_type": "markdown",
   "id": "ff336478",
   "metadata": {
    "tags": []
   },
   "source": [
    "**Exercice** Écrire une fonction `aire_boule : float -> float` telle que `aire_boule r` renvoie l'aire d'une boule (disque en dimension 3) de rayon `r`, c'est à dire $\\frac{4 \\pi r^3}{3}$. On pourra utiliser `Float.pi`."
   ]
  },
  {
   "cell_type": "code",
   "execution_count": 4,
   "id": "614ea207",
   "metadata": {
    "execution": {
     "iopub.execute_input": "2021-11-17T17:40:44.574817Z",
     "iopub.status.busy": "2021-11-17T17:40:44.574197Z",
     "iopub.status.idle": "2021-11-17T17:40:44.584186Z",
     "shell.execute_reply": "2021-11-17T17:40:44.584656Z"
    },
    "tags": [
     "cor"
    ]
   },
   "outputs": [
    {
     "data": {
      "text/plain": [
       "- : float = 4.18879020478639053\n"
      ]
     },
     "execution_count": 4,
     "metadata": {},
     "output_type": "execute_result"
    }
   ],
   "source": [
    "let aire_boule r = 4.*.Float.pi*.r**3./.3. in\n",
    "aire_boule 1."
   ]
  },
  {
   "cell_type": "markdown",
   "id": "44a473dc",
   "metadata": {},
   "source": [
    "**Exercice** Écrire une fonction `distance : float*float -> float*float -> float` telle que `distance p1 p2` renvoie la distance euclidienne entre les points `p1` et `p2`.  \n",
    "Vérifier que la distance entre $(0, 0)$ et $(1, 1)$ est (approximativement) $\\sqrt{2}$."
   ]
  },
  {
   "cell_type": "code",
   "execution_count": 5,
   "id": "4866c8c6",
   "metadata": {
    "execution": {
     "iopub.execute_input": "2021-11-17T17:40:44.590877Z",
     "iopub.status.busy": "2021-11-17T17:40:44.590299Z",
     "iopub.status.idle": "2021-11-17T17:40:44.594561Z",
     "shell.execute_reply": "2021-11-17T17:40:44.595030Z"
    },
    "tags": [
     "cor"
    ]
   },
   "outputs": [
    {
     "data": {
      "text/plain": [
       "val distance : float * float -> float * float -> float = <fun>\n"
      ]
     },
     "execution_count": 5,
     "metadata": {},
     "output_type": "execute_result"
    },
    {
     "data": {
      "text/plain": [
       "- : float = 1.41421356237309515\n"
      ]
     },
     "execution_count": 5,
     "metadata": {},
     "output_type": "execute_result"
    }
   ],
   "source": [
    "let distance (x1, y1) (x2, y2) = (* on peut aussi décomposer un couple dans l'argument *)\n",
    "    ((x1 -. x2)**2. +. (y1 -. y2)**2.)**0.5;;\n",
    "distance (0., 0.) (1., 1.)"
   ]
  },
  {
   "cell_type": "markdown",
   "id": "63c23e91",
   "metadata": {},
   "source": [
    "**Exercice** Écrire une fonction `polaire : float*float -> float*float` qui, étant donné les coordonnées polaires $(r, \\theta)$ d'un point, renvoie ses coordonnées cartésiennes $(x, y)$. On rappelle que $x = r\\cos(\\theta)$ et $y = r\\sin(\\theta)$. On pourra utiliser `cos` et `sin` en OCaml."
   ]
  },
  {
   "cell_type": "code",
   "execution_count": 6,
   "id": "84d0bbc2",
   "metadata": {
    "execution": {
     "iopub.execute_input": "2021-11-17T17:40:44.597180Z",
     "iopub.status.busy": "2021-11-17T17:40:44.596622Z",
     "iopub.status.idle": "2021-11-17T17:40:44.602507Z",
     "shell.execute_reply": "2021-11-17T17:40:44.602998Z"
    },
    "tags": [
     "cor"
    ]
   },
   "outputs": [
    {
     "data": {
      "text/plain": [
       "- : float * float = (0.500000000000000111, 0.866025403784438597)\n"
      ]
     },
     "execution_count": 6,
     "metadata": {},
     "output_type": "execute_result"
    },
    {
     "data": {
      "text/plain": [
       "- : float = 0.866025403784438597\n"
      ]
     },
     "execution_count": 6,
     "metadata": {},
     "output_type": "execute_result"
    }
   ],
   "source": [
    "let polaire (r, theta) = r*.cos theta, r*.sin theta in\n",
    "polaire (1., Float.pi/.3.);;\n",
    "3.**0.5/.2."
   ]
  },
  {
   "cell_type": "markdown",
   "id": "08d6dce2",
   "metadata": {},
   "source": [
    "**Exercice** Écrire une fonction `milieu : float*float -> float*float -> float*float` telle que `milieu p1 p2` renvoie le milieu du segment d'extrémités `p1` et `p2`."
   ]
  },
  {
   "cell_type": "code",
   "execution_count": 7,
   "id": "3fc386eb",
   "metadata": {
    "execution": {
     "iopub.execute_input": "2021-11-17T17:40:44.605220Z",
     "iopub.status.busy": "2021-11-17T17:40:44.604658Z",
     "iopub.status.idle": "2021-11-17T17:40:44.610257Z",
     "shell.execute_reply": "2021-11-17T17:40:44.609775Z"
    },
    "tags": [
     "cor"
    ]
   },
   "outputs": [
    {
     "data": {
      "text/plain": [
       "- : float * float = (0.5, 0.5)\n"
      ]
     },
     "execution_count": 7,
     "metadata": {},
     "output_type": "execute_result"
    }
   ],
   "source": [
    "let milieu (x1, y1) (x2, y2) =\n",
    "    (x1 +. x2)/.2., (y1 +. y2)/.2. in  (* attention : c'est un + et pas - *)\n",
    "milieu (0., 0.) (1., 1.)"
   ]
  },
  {
   "cell_type": "markdown",
   "id": "a8b32d2c",
   "metadata": {},
   "source": [
    "**Exercice** Écrire une fonction `parallelogramme : float*float -> float*float -> float*float -> float*float -> bool` telle que `parallelogramme p1 p2 p3 p4` renvoie `true` si les points `p1`, `p2`, `p3`, `p4` forment un parallélogramme, c'est à dire si les côtés opposés sont (approximativement) de même longueur.  \n",
    "On fera attention à ne pas comparer 2 flottants avec `=`, mais regarder à la place si la différence est petite (< 0.001 par exemple)."
   ]
  },
  {
   "cell_type": "code",
   "execution_count": 8,
   "id": "0db2c48e",
   "metadata": {
    "execution": {
     "iopub.execute_input": "2021-11-17T17:40:44.615102Z",
     "iopub.status.busy": "2021-11-17T17:40:44.614512Z",
     "iopub.status.idle": "2021-11-17T17:40:44.620066Z",
     "shell.execute_reply": "2021-11-17T17:40:44.620493Z"
    },
    "tags": [
     "cor"
    ]
   },
   "outputs": [
    {
     "data": {
      "text/plain": [
       "val parallelogramme :\n",
       "  float * float -> float * float -> float * float -> float * float -> bool =\n",
       "  <fun>\n"
      ]
     },
     "execution_count": 8,
     "metadata": {},
     "output_type": "execute_result"
    },
    {
     "data": {
      "text/plain": [
       "- : bool = true\n"
      ]
     },
     "execution_count": 8,
     "metadata": {},
     "output_type": "execute_result"
    },
    {
     "data": {
      "text/plain": [
       "- : bool = false\n"
      ]
     },
     "execution_count": 8,
     "metadata": {},
     "output_type": "execute_result"
    }
   ],
   "source": [
    "(* penser à réutiliser la fonction distance précédente *)\n",
    "let parallelogramme p1 p2 p3 p4 = \n",
    "    abs_float ((distance p1 p2) -. (distance p3 p4)) < 0.001 &&\n",
    "    abs_float ((distance p1 p4) -. (distance p3 p2)) < 0.001;;\n",
    "parallelogramme (0., 0.) (1., 0.) (2., 1.) (1., 1.);;\n",
    "parallelogramme (0., 0.) (1., 0.) (2., 1.) (1.5, 1.);;"
   ]
  },
  {
   "cell_type": "markdown",
   "id": "f6390f27",
   "metadata": {},
   "source": [
    "## Congruence\n",
    "\n",
    "Le but de cet exercice est de calculer $1357^{2013}$ mod $5$ (mais la méthode utilisée s'applique dans un grande nombre d'exercices mathématiques).  \n",
    "On rappelle que les congruences sont compatibles avec la puissance :\n",
    "$$a \\equiv b [n] \\Longrightarrow a^k \\equiv b^k [n]$$\n",
    "\n",
    "1. Soit $k$ un entier positif. Que vaut $2^{4k}$ mod $5$? On pourra calculer des valeurs avec OCaml puis le démontrer mathématiquement.\n",
    "2. Que vaut $1357$ mod $5$? En déduire la valeur de $1357^{2013}$ mod $5$."
   ]
  },
  {
   "cell_type": "markdown",
   "id": "63b750a9",
   "metadata": {
    "tags": [
     "cor"
    ]
   },
   "source": [
    "1. Comme $2^4 = 16 \\equiv 1 [5]$, $2^{4k} = (2^4)^k \\equiv 1^k [5] \\equiv 1 [5]$  \n",
    "2. Comme $1357 = 2 [5]$ et $2013 = 503 \\times 4 + 1$ (ce qu'on peut trouver avec `/` et `mod` en OCaml):\n",
    "$$1357^{2013} \\equiv 2^{2013} [5]$$\n",
    "$$\\equiv 2^{503 \\times 4 + 1} [5]$$\n",
    "$$\\equiv 2^{503 \\times 4} \\times 2 [5]$$\n",
    "$$\\equiv 1 \\times 2 [5]$$\n",
    "$$\\boxed{1357^{2013} \\equiv 2 [5]}$$"
   ]
  },
  {
   "cell_type": "markdown",
   "id": "0b5cd96d",
   "metadata": {},
   "source": [
    "## Nombres aléatoires\n",
    "\n",
    "`Random.int n` permet d'obtenir un entier uniformément au hasard entre 0 et `n - 1` (chacun de ces entiers a la même probabilité $\\frac{1}{n}$ d'être obtenu).  \n",
    "Dans cet exercice, on imagine que l'on possède comme seule source aléatoire un dé à 5 faces (c'est à dire que l'on a seulement le droit d'utiliser `Random.int 5`).\n",
    "\n",
    "1. Calculer `(Random.int 5) + (Random.int 5)` plusieurs fois. Est-ce que le résultat vous semble être un entier uniformément au hasard entre 0 et 8?  \n",
    "2. Quelle est la probabilité d'obtenir `0` avec `(Random.int 5) + (Random.int 5)`? D'obtenir `1`? Quelle est l'entier qui a le plus de chances d'apparaître?\n",
    "3. Comment générer uniformément un entier entre 0 et 24? (C'est à dire passer de 5 possibilités à 25)\n",
    "3. Comment générer uniformément un entier entre 0 et 6? Écrire une fonction pour le faire. On utilisera une méthode par rejection (rejection sampling) : générer dans un espace plus grand et regénérer si la valeur n'est pas dans l'intervalle souhaité.  "
   ]
  },
  {
   "cell_type": "markdown",
   "id": "a1459b2e",
   "metadata": {
    "tags": [
     "cor"
    ]
   },
   "source": [
    "1. Non, on obtiens plus souvent certains entiers.  \n",
    "2. Pour obtenir un 0, il faut faire un 0 sur chaque dé, ce qui a une probabilité $\\frac{1}{5}\\times \\frac{1}{5} = \\boxed{\\frac{1}{25}}$ d'arriver.  \n",
    "Il y a 25 résultats possibles des 2 dés (mathématiquement le résultat des 2 dés est un élément de $\\{0, 1, ..., 4\\}\\times\\{0, 1, ..., 4\\}$), et deux permettent d'obtenir la valeur 1 ($0 + 1$ ou $1 + 0$). La probabilité d'obtenir un 1 est donc $\\boxed{\\frac{2}{25}}$.\n",
    "3. Après avoir lancé deux dés et obtenu les résultats $a$ et $b$, on génère l'entier $5\\times a + b$ (c'est une écriture en base 5). Comme chaque entier entre 0 et 24 est obtenu de façon unique par un lancé de deux dés $a$, $b$, on a bien un générateur uniforme dans $\\{0, 1, ..., 24\\}$.\n",
    "4. On peut générer dans $\\{0, 1, ..., 24\\}$ et regénérer si le résultats n'est pas dans $\\{0, ..., 6\\}$ :"
   ]
  },
  {
   "cell_type": "code",
   "execution_count": 9,
   "id": "b86218b6",
   "metadata": {
    "execution": {
     "iopub.execute_input": "2021-11-17T17:40:44.628198Z",
     "iopub.status.busy": "2021-11-17T17:40:44.626936Z",
     "iopub.status.idle": "2021-11-17T17:40:44.648060Z",
     "shell.execute_reply": "2021-11-17T17:40:44.647544Z"
    },
    "tags": [
     "cor"
    ]
   },
   "outputs": [
    {
     "data": {
      "text/plain": [
       "val rand6 : unit -> int = <fun>\n"
      ]
     },
     "execution_count": 9,
     "metadata": {},
     "output_type": "execute_result"
    },
    {
     "data": {
      "text/plain": [
       "- : int array = [|1436; 1418; 1389; 1482; 1452; 1430; 1394|]\n"
      ]
     },
     "execution_count": 9,
     "metadata": {},
     "output_type": "execute_result"
    }
   ],
   "source": [
    "let rec rand6 () = \n",
    "    let r = 5*Random.int 5 + Random.int 5 in\n",
    "    if r < 7 then r (* on renvoie le résultat s'il est entre 0 et 6 *)\n",
    "    else rand6 ();;  (* sinon on génère à nouveau *)\n",
    "    \n",
    "let count = Array.make 7 0 in\n",
    "for _ = 0 to 10000 do\n",
    "    let r = rand6 () in\n",
    "    count.(r) <- count.(r) + 1\n",
    "done;\n",
    "count (* tire 10000 entiers au hasard pour vérifier que la répartition est uniforme *)"
   ]
  }
 ],
 "metadata": {
  "kernelspec": {
   "display_name": "OCaml default",
   "language": "OCaml",
   "name": "ocaml-jupyter"
  },
  "language_info": {
   "codemirror_mode": "text/x-ocaml",
   "file_extension": ".ml",
   "mimetype": "text/x-ocaml",
   "name": "OCaml",
   "nbconverter_exporter": null,
   "pygments_lexer": "OCaml",
   "version": "4.08.1"
  }
 },
 "nbformat": 4,
 "nbformat_minor": 5
}

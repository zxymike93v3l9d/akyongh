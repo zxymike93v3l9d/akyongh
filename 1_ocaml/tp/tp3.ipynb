{
 "cells": [
  {
   "cell_type": "markdown",
   "metadata": {},
   "source": [
    "# <center><a href='https://mybinder.org/v2/gh/fortierq/binder-mp2i/main?urlpath=git-pull%3Frepo%3Dhttps%253A%252F%252Fgithub.com%252Fmp2i-fsm%252Fmp2i-2021%26urlpath%3Dlab%252Ftree%252Fmp2i-2021%252F1_ocaml%252Ftp%252Ftp3.ipynb%26branch%3Dmain'>TP 3 : Structures persistantes                              <img src=https://mybinder.org/badge.svg></a></center>"
   ]
  },
  {
   "cell_type": "markdown",
   "metadata": {},
   "source": [
    "## Petites questions\n",
    "\n",
    "1. Ecrire une fonction `fact : int -> int` telle que `fact n` renvoie $n!$ (=$n\\times (n-1)\\times ... \\times 2 \\times 1$), en utilisant une boucle.\n",
    "2. Ecrire une fonction `taille : 'a list -> int` pour calculer le nombre d'élements d'une liste (déjà fait dans le cours mais il faut savoir le refaire).\n",
    "3. Ecrire une fonction `somme : float list -> int` pour calculer la somme des élements d'une liste (déjà fait dans le cours mais il faut savoir le refaire).\n",
    "4. Ecrire une fonction `moyenne : float list -> float` pour calculer la moyenne des élements d'une liste (on pourra utiliser les deux fonctions précédentes et `float_of_int`).\n",
    "5. Ecrire une fonction `oppose : int list -> int list` telle que `oppose l` renvoie une liste contenant l'opposé de chaque élément de `l`. Par exemple, `oppose [1; 2; 3]` renvoie `[-1; -2; -3]`.\n",
    "6. Ecrire une fonction `positif : int list -> bool` pour déterminer si tous les éléments d'une liste sont positifs.\n",
    "7. Ecrire une fonction `dernier` pour obtenir le dernier élément d'une liste."
   ]
  },
  {
   "cell_type": "code",
   "execution_count": 1,
   "metadata": {
    "execution": {
     "iopub.execute_input": "2021-11-09T16:49:31.626945Z",
     "iopub.status.busy": "2021-11-09T16:49:31.625850Z",
     "iopub.status.idle": "2021-11-09T16:49:31.642388Z",
     "shell.execute_reply": "2021-11-09T16:49:31.641828Z"
    },
    "tags": [
     "cor"
    ]
   },
   "outputs": [
    {
     "data": {
      "text/plain": [
       "val fact : int -> int = <fun>\n"
      ]
     },
     "execution_count": 1,
     "metadata": {},
     "output_type": "execute_result"
    },
    {
     "data": {
      "text/plain": [
       "val taille : 'a list -> int = <fun>\n"
      ]
     },
     "execution_count": 1,
     "metadata": {},
     "output_type": "execute_result"
    },
    {
     "data": {
      "text/plain": [
       "val somme : float list -> float = <fun>\n"
      ]
     },
     "execution_count": 1,
     "metadata": {},
     "output_type": "execute_result"
    },
    {
     "data": {
      "text/plain": [
       "val moyenne : float list -> float = <fun>\n"
      ]
     },
     "execution_count": 1,
     "metadata": {},
     "output_type": "execute_result"
    },
    {
     "data": {
      "text/plain": [
       "val oppose : int list -> int list = <fun>\n"
      ]
     },
     "execution_count": 1,
     "metadata": {},
     "output_type": "execute_result"
    },
    {
     "data": {
      "text/plain": [
       "val positif : int list -> bool = <fun>\n"
      ]
     },
     "execution_count": 1,
     "metadata": {},
     "output_type": "execute_result"
    },
    {
     "data": {
      "text/plain": [
       "val dernier : 'a list -> 'a = <fun>\n"
      ]
     },
     "execution_count": 1,
     "metadata": {},
     "output_type": "execute_result"
    }
   ],
   "source": [
    "(* 1 *)\n",
    "let rec fact n = \n",
    "    if n = 0 then 1\n",
    "    else n*fact (n - 1);;\n",
    "\n",
    "(* 2 *)\n",
    "let rec taille l = match l with\n",
    "    | [] -> 0\n",
    "    | e::q -> 1 + taille q;;\n",
    "\n",
    "(* 3 *)\n",
    "let rec somme = function\n",
    "    | [] -> 0.\n",
    "    | e::q -> e +. somme q;;\n",
    "\n",
    "(* 4 *)\n",
    "let moyenne l = (somme l) /. (float_of_int (taille l));;\n",
    "\n",
    "(* 5 *)\n",
    "let rec oppose = function\n",
    "    | [] -> []\n",
    "    | e::q -> (-e)::oppose q;;\n",
    "\n",
    "(* 6 *)\n",
    "let rec positif = function\n",
    "    | [] -> true\n",
    "    | e::q -> e >= 0 && positif q;;\n",
    "\n",
    "(* 7 *)\n",
    "let rec dernier = function\n",
    "    | [] -> failwith \"Pas de dernier élément\"\n",
    "    | [e] -> e\n",
    "    | _::q -> dernier q"
   ]
  },
  {
   "cell_type": "markdown",
   "metadata": {},
   "source": [
    "## Nombres premiers\n",
    "\n",
    "1. Ecrire une fonction `premier : int -> bool` déterminant si un entier est premier. On pourra utiliser une fonction récursive ou une boucle `for`.\n",
    "2. En déduire une fonction `tous_premiers : int -> int list` telle que `tous_premiers n` renvoie la liste des nombres premiers entre $2$ et $n$."
   ]
  },
  {
   "cell_type": "code",
   "execution_count": 2,
   "metadata": {
    "execution": {
     "iopub.execute_input": "2021-11-09T16:49:31.644599Z",
     "iopub.status.busy": "2021-11-09T16:49:31.644042Z",
     "iopub.status.idle": "2021-11-09T16:49:31.648187Z",
     "shell.execute_reply": "2021-11-09T16:49:31.648583Z"
    }
   },
   "outputs": [
    {
     "data": {
      "text/plain": [
       "val premier : int -> bool = <fun>\n"
      ]
     },
     "execution_count": 2,
     "metadata": {},
     "output_type": "execute_result"
    }
   ],
   "source": [
    "(* 1. *)\n",
    "let premier n =\n",
    "    let rec aux d = (* teste s'il existe un d < n divisant n *)\n",
    "        if d = 1 then false (* on n'a pas trouvé de diviseur *)\n",
    "        else n mod d = 0 || aux (d - 1) in\n",
    "    aux (n/2)"
   ]
  },
  {
   "cell_type": "code",
   "execution_count": 3,
   "metadata": {
    "execution": {
     "iopub.execute_input": "2021-11-09T16:49:31.650591Z",
     "iopub.status.busy": "2021-11-09T16:49:31.650109Z",
     "iopub.status.idle": "2021-11-09T16:49:31.655223Z",
     "shell.execute_reply": "2021-11-09T16:49:31.654676Z"
    },
    "tags": [
     "cor"
    ]
   },
   "outputs": [
    {
     "ename": "error",
     "evalue": "compile_error",
     "output_type": "error",
     "traceback": [
      "File \"[3]\", line 4, characters 17-30:\n4 |     else let l = tous_premiers (n - 1) in\n                     ^^^^^^^^^^^^^\nError: Unbound value tous_premiers\nHint: If this is a recursive definition,\nyou should add the 'rec' keyword on line 2\n"
     ]
    }
   ],
   "source": [
    "(* 2 *)\n",
    "let tous_premiers n =\n",
    "    if n = 1 then []\n",
    "    else let l = tous_premiers (n - 1) in\n",
    "         if premier n then n::l\n",
    "         else l "
   ]
  },
  {
   "cell_type": "markdown",
   "metadata": {},
   "source": [
    "## Bezout\n",
    "\n",
    "Écrire une fonction récursive `bezout : int -> int -> int*int*int` telle que `bezout a b` renvoie un triplet `(d, u, v)` tel que `d` est le PGCD de `a` et `b` et `u`, `v` vérifient `au + bv = d` (coefficients de Bézout).  \n",
    "Pour cela, on appelera récursivement `bezout b r` où $q$ est le quotient et $r$ le reste de la division euclidienne de $a$ par $b$ (on a donc $a = bq + r$). `bezout b r` donne un triplet $(d, u', v')$ et on essaiera d'exprimer $u, v$ en fonction de $u'$, $v'$ (on pourra sortir une feuille pour chercher une relation).  \n",
    "Le cas de base sera obtenu pour $b = 0$."
   ]
  },
  {
   "cell_type": "markdown",
   "metadata": {
    "tags": [
     "cor"
    ]
   },
   "source": [
    "On a :\n",
    "$$a = bq + r$$\n",
    "$$\\Longrightarrow r = a - bq$$\n",
    "Donc :\n",
    "$$d = u'b + v'r$$\n",
    "$$\\Longrightarrow d = u'b + v'(a - bq)$$\n",
    "$$\\Longrightarrow d = \\underbrace{(u' - v'q)}_vb + \\underbrace{v'}_ua$$\n"
   ]
  },
  {
   "cell_type": "code",
   "execution_count": 4,
   "metadata": {
    "execution": {
     "iopub.execute_input": "2021-11-09T16:49:31.657571Z",
     "iopub.status.busy": "2021-11-09T16:49:31.657059Z",
     "iopub.status.idle": "2021-11-09T16:49:31.665347Z",
     "shell.execute_reply": "2021-11-09T16:49:31.664922Z"
    },
    "tags": [
     "cor"
    ]
   },
   "outputs": [
    {
     "data": {
      "text/plain": [
       "- : int * int * int = (1, -2, 5)\n"
      ]
     },
     "execution_count": 4,
     "metadata": {},
     "output_type": "execute_result"
    }
   ],
   "source": [
    "let rec bezout a b =\n",
    "    if b = 0 then (a, 1, 1)  (* a = 1*a + 1*b *)\n",
    "    else let d, u', v' = bezout b (a mod b) in\n",
    "         d, v', u' - v'*(a/b) in\n",
    "bezout 7 3"
   ]
  },
  {
   "cell_type": "markdown",
   "metadata": {},
   "source": [
    "## Fusion de listes\n",
    "\n",
    "1. Écrire une fonction `fusion : int list -> int list -> int list` telle que, si `l1` et `l2` sont deux listes triées, `fusion l1 l2` renvoie une liste triée composée de l'union de `l1` et `l2`.  \n",
    "Par exemple, `fusion [2; 5; 8] [3; 4; 10]` doit renvoyer `[2; 3; 4; 5; 8; 10]`.\n",
    "2. Écrire une fonction `kfusion : int list list -> int list` qui prend une liste de listes triées en argument et renvoie une liste triée contenant l'union de toutes les ces listes.  \n",
    "Par exemple, `kfusion [[2; 5; 8]; [3; 4; 10]; [0; 13]]` doit renvoyer `[0; 2; 3; 4; 5; 8; 10; 13]`.\n",
    "3. Implémenter le tri fusion permettant de trier une liste `l` :\n",
    "    - Décomposer `l` en deux listes `l1` et `l2` de tailles (à peu près) égales\n",
    "    - Trier récursivement `l1` et `l2` pour obtenir `l1'` et `l2'`\n",
    "    - Fusionner `l1'` et `l2' pour obtenir une seule liste triée"
   ]
  },
  {
   "cell_type": "code",
   "execution_count": 5,
   "metadata": {
    "execution": {
     "iopub.execute_input": "2021-11-09T16:49:31.667374Z",
     "iopub.status.busy": "2021-11-09T16:49:31.666869Z",
     "iopub.status.idle": "2021-11-09T16:49:31.679680Z",
     "shell.execute_reply": "2021-11-09T16:49:31.679200Z"
    },
    "tags": [
     "cor"
    ]
   },
   "outputs": [
    {
     "data": {
      "text/plain": [
       "- : int list = [2; 3; 4; 5; 8; 10]\n"
      ]
     },
     "execution_count": 5,
     "metadata": {},
     "output_type": "execute_result"
    },
    {
     "ename": "error",
     "evalue": "compile_error",
     "output_type": "error",
     "traceback": [
      "File \"[5]\", line 12, characters 14-20:\n12 |     | l::q -> fusion l (kfusion q) in\n                   ^^^^^^\nError: Unbound value fusion\nHint: Did you mean kfusion?\n"
     ]
    }
   ],
   "source": [
    "(* 1 *)\n",
    "let rec fusion l1 l2 = match l1, l2 with\n",
    "    | [], _ -> l2\n",
    "    | _, [] -> l1\n",
    "    | e1::q1, e2::q2 -> if e1 < e2 then e1::fusion q1 l2\n",
    "                        else e2::fusion l1 q2 in\n",
    "fusion [2; 5; 8] [3; 4; 10];;\n",
    "\n",
    "(* 2 *)\n",
    "let rec kfusion ll = match ll with\n",
    "    | [] -> []\n",
    "    | l::q -> fusion l (kfusion q) in\n",
    "kfusion [[2; 5; 8]; [3; 4; 10]; [0; 13]];;\n",
    "\n",
    "(* 3 *)\n",
    "(* Voir cours complexité *)"
   ]
  }
 ],
 "metadata": {
  "kernelspec": {
   "display_name": "OCaml default",
   "language": "OCaml",
   "name": "ocaml-jupyter"
  },
  "language_info": {
   "codemirror_mode": "text/x-ocaml",
   "file_extension": ".ml",
   "mimetype": "text/x-ocaml",
   "name": "OCaml",
   "nbconverter_exporter": null,
   "pygments_lexer": "OCaml",
   "version": "4.08.1"
  }
 },
 "nbformat": 4,
 "nbformat_minor": 4
}

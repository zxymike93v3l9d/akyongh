{
 "cells": [
  {
   "cell_type": "markdown",
   "metadata": {},
   "source": [
    "# <center><a href='https://mybinder.org/v2/gh/fortierq/binder-mp2i/main?urlpath=git-pull%3Frepo%3Dhttps%253A%252F%252Fgithub.com%252Fmp2i-fsm%252Fmp2i-2021%26urlpath%3Dlab%252Ftree%252Fmp2i-2021%252F1_ocaml%252Ftp%252Ftp6.ipynb%26branch%3Dmain'>TP 6 : Types construits                                                                                                                              <img src=https://mybinder.org/badge.svg></a></center>"
   ]
  },
  {
   "cell_type": "markdown",
   "metadata": {},
   "source": [
    "## Gestion des overflow\n",
    "\n",
    "On considère le type suivant :"
   ]
  },
  {
   "cell_type": "code",
   "execution_count": 1,
   "metadata": {
    "execution": {
     "iopub.execute_input": "2021-11-16T20:34:13.693151Z",
     "iopub.status.busy": "2021-11-16T20:34:13.691906Z",
     "iopub.status.idle": "2021-11-16T20:34:13.695858Z",
     "shell.execute_reply": "2021-11-16T20:34:13.692549Z"
    }
   },
   "outputs": [
    {
     "data": {
      "text/plain": [
       "type entier = Infini | MoinsInfini | Entier of int\n"
      ]
     },
     "execution_count": 1,
     "metadata": {},
     "output_type": "execute_result"
    }
   ],
   "source": [
    "type entier = Infini | MoinsInfini | Entier of int"
   ]
  },
  {
   "cell_type": "markdown",
   "metadata": {},
   "source": [
    "On rappelle que `max_int` est le plus grand entier représentable en OCaml et `min_int` le plus petit :"
   ]
  },
  {
   "cell_type": "code",
   "execution_count": 2,
   "metadata": {
    "execution": {
     "iopub.execute_input": "2021-11-16T20:34:13.699118Z",
     "iopub.status.busy": "2021-11-16T20:34:13.698476Z",
     "iopub.status.idle": "2021-11-16T20:34:13.701513Z",
     "shell.execute_reply": "2021-11-16T20:34:13.702038Z"
    }
   },
   "outputs": [
    {
     "data": {
      "text/plain": [
       "- : int = 4611686018427387903\n"
      ]
     },
     "execution_count": 2,
     "metadata": {},
     "output_type": "execute_result"
    },
    {
     "data": {
      "text/plain": [
       "- : int = -4611686018427387904\n"
      ]
     },
     "execution_count": 2,
     "metadata": {},
     "output_type": "execute_result"
    }
   ],
   "source": [
    "max_int;;\n",
    "min_int;;\n",
    "max_int + 1;;  (* un dépassement du plus grand entier donne le plus petit *)"
   ]
  },
  {
   "cell_type": "markdown",
   "metadata": {},
   "source": [
    "On voudrait pouvoir additionner deux `entier` $a$ et $b$ en prennant en compte les dépassements de `int` (integer overflow), et en donnant `Infini` dans ce cas.  \n",
    "1. Pourquoi ne peut-on pas tout simplement tester si $a + b >$ `max_int` ?   \n",
    "2. Pourquoi peut-on tester à la place si `max_int` $ - ~a \\leq b$ avec $a \\geq 0$ ?\n",
    "3. Quel test similaire pourrait-on utiliser pour savoir si $a + b <$ `min_int` ?\n",
    "4. Écrire une fonction `add_int : int -> int -> entier` telle que `add_int` ajoute 2 `int`en tenant compte des dépassements (on renvoie `Infini` s'il y a un dépassement de `max_int` et `MoinsInfini` s'il y a un dépassement de `min_int` par le bas).  \n",
    "5. Écrire une fonction `add : entier -> entier -> entier` ajoutant 2 entiers en tenant compte des dépassements.  \n",
    "On pourra écrire `failwith \"Indeterminé\"` dans le cas d'une forme indéterminé.\n",
    "6. Écrire une fonction `oppose : entier -> entier` renvoyant l'opposé d'un entier. Par exemple, `oppose Infini` renvoie `MoinsInfini`, `oppose (Entier a)` renvoie `Entier (-a)...`\n",
    "7. Écrire une fonction `sub` effectuant la soustraction.\n",
    "8. Pour savoir si $a \\times b$ fait un dépassement, on propose la façon suivante :\n",
    "- Calculer $c = a \\times b$\n",
    "- Regarder si $c/a$ est égal à $b$  \n",
    "Pourquoi cela fonctionne ? À quelle autre erreur faut-il faire attention dans cette méthode ?\n",
    "9. Écrire une fonction `mult : entier -> entier -> entier` multipliant 2 entiers en tenant compte des dépassements"
   ]
  },
  {
   "cell_type": "markdown",
   "metadata": {
    "tags": [
     "cor"
    ]
   },
   "source": [
    "1. Par définition, aucun entier ne peut être supérieur à `max_int`.\n",
    "2. Déjà, $a + b >$ `max_int` implique que $a \\geq 0$ (car $b$ est un entier dans est inférieur à `max_int`). De plus `max_int` $- a$ n'effectue pas de dépassement. Donc le test fonctionne sans risque de dépassement.\n",
    "3. $a + b < $`min_int` se réécrit en $a < 0$ et `min_int`$ - a > b$.  "
   ]
  },
  {
   "cell_type": "code",
   "execution_count": 3,
   "metadata": {
    "execution": {
     "iopub.execute_input": "2021-11-16T20:34:13.704258Z",
     "iopub.status.busy": "2021-11-16T20:34:13.703762Z",
     "iopub.status.idle": "2021-11-16T20:34:13.727028Z",
     "shell.execute_reply": "2021-11-16T20:34:13.726324Z"
    },
    "tags": [
     "cor"
    ]
   },
   "outputs": [
    {
     "data": {
      "text/plain": [
       "val add_int : int -> int -> entier = <fun>\n"
      ]
     },
     "execution_count": 3,
     "metadata": {},
     "output_type": "execute_result"
    },
    {
     "data": {
      "text/plain": [
       "- : entier = Entier 4611686018427387902\n"
      ]
     },
     "execution_count": 3,
     "metadata": {},
     "output_type": "execute_result"
    },
    {
     "data": {
      "text/plain": [
       "- : entier = Infini\n"
      ]
     },
     "execution_count": 3,
     "metadata": {},
     "output_type": "execute_result"
    },
    {
     "data": {
      "text/plain": [
       "- : entier = Entier 4611686018427387895\n"
      ]
     },
     "execution_count": 3,
     "metadata": {},
     "output_type": "execute_result"
    },
    {
     "data": {
      "text/plain": [
       "- : entier = Entier (-4611686018427387899)\n"
      ]
     },
     "execution_count": 3,
     "metadata": {},
     "output_type": "execute_result"
    },
    {
     "data": {
      "text/plain": [
       "- : entier = MoinsInfini\n"
      ]
     },
     "execution_count": 3,
     "metadata": {},
     "output_type": "execute_result"
    },
    {
     "data": {
      "text/plain": [
       "val add : entier -> entier -> entier = <fun>\n"
      ]
     },
     "execution_count": 3,
     "metadata": {},
     "output_type": "execute_result"
    },
    {
     "data": {
      "text/plain": [
       "- : entier = Infini\n"
      ]
     },
     "execution_count": 3,
     "metadata": {},
     "output_type": "execute_result"
    },
    {
     "data": {
      "text/plain": [
       "- : entier = Infini\n"
      ]
     },
     "execution_count": 3,
     "metadata": {},
     "output_type": "execute_result"
    },
    {
     "data": {
      "text/plain": [
       "val oppose : entier -> entier = <fun>\n"
      ]
     },
     "execution_count": 3,
     "metadata": {},
     "output_type": "execute_result"
    },
    {
     "data": {
      "text/plain": [
       "val sub : entier -> entier -> entier = <fun>\n"
      ]
     },
     "execution_count": 3,
     "metadata": {},
     "output_type": "execute_result"
    },
    {
     "data": {
      "text/plain": [
       "- : entier = Infini\n"
      ]
     },
     "execution_count": 3,
     "metadata": {},
     "output_type": "execute_result"
    },
    {
     "data": {
      "text/plain": [
       "- : entier = MoinsInfini\n"
      ]
     },
     "execution_count": 3,
     "metadata": {},
     "output_type": "execute_result"
    }
   ],
   "source": [
    "(* 4. *)\n",
    "\n",
    "let add_int a b =\n",
    "  if a >= 0 && max_int - a <= b then Infini \n",
    "  else if a <= 0 && min_int - a >= b then MoinsInfini\n",
    "  else Entier (a + b);;\n",
    "\n",
    "add_int 4611686018427387900 2;;\n",
    "add_int 4611686018427387900 5;;\n",
    "add_int 4611686018427387900 (-5);;\n",
    "add_int (-4611686018427387904) 5;;\n",
    "add_int (-4611686018427387904) (-1);;\n",
    "\n",
    "(* 5. *)\n",
    "\n",
    "let add n p = match n, p with\n",
    "  | Infini, MoinsInfini | MoinsInfini, Infini -> failwith \"Indeterminé\"\n",
    "  | Infini, _ | _, Infini -> Infini  \n",
    "  | MoinsInfini, _ | _, MoinsInfini -> MoinsInfini\n",
    "  | Entier a, Entier b -> add_int a b;;\n",
    "\n",
    "add Infini (Entier 10);;\n",
    "add (Entier 10) (Entier 4611686018427387895);;\n",
    "\n",
    "(* 6 *) \n",
    "let oppose n = match n with\n",
    "    | Infini -> MoinsInfini\n",
    "    | MoinsInfini -> Infini\n",
    "    | Entier a -> Entier (-a);;\n",
    "    \n",
    "(* 7 *)\n",
    "let sub n p = add n (oppose p);;\n",
    "\n",
    "sub Infini (Entier 10);;\n",
    "sub (Entier (-4611686018427387899)) (Entier 10);;"
   ]
  },
  {
   "cell_type": "markdown",
   "metadata": {},
   "source": [
    "## Tableaux dynamiques\n",
    "\n",
    "Il est impossible d'ajouter ou supprimer un élément dans tableau (`array`) en OCaml.  \n",
    "Les tableaux dynamiques (ou : redimensionnables) permettent d'ajouter un élément `e`, en recréant un tableau plus grand dans lequel on recopie tous les éléments ainsi que `e`.  \n",
    "Voici la définition de tableau dynamique que nous allons utiliser :"
   ]
  },
  {
   "cell_type": "code",
   "execution_count": 4,
   "metadata": {
    "execution": {
     "iopub.execute_input": "2021-11-16T20:34:13.729211Z",
     "iopub.status.busy": "2021-11-16T20:34:13.728651Z",
     "iopub.status.idle": "2021-11-16T20:34:13.731369Z",
     "shell.execute_reply": "2021-11-16T20:34:13.731805Z"
    }
   },
   "outputs": [
    {
     "data": {
      "text/plain": [
       "type 'a array_dyn = { mutable t : 'a array; mutable n : int; }\n"
      ]
     },
     "execution_count": 4,
     "metadata": {},
     "output_type": "execute_result"
    }
   ],
   "source": [
    "type 'a array_dyn = {mutable t : 'a array; mutable n : int};;"
   ]
  },
  {
   "cell_type": "markdown",
   "metadata": {},
   "source": [
    "`n` indique le nombre de cases du tableau `t` que l'on considère comme faisant partie du tableau dynamique. Les indices au delà de `n` dans `t` sont ignorés.  \n",
    "À chaque fois que l'on voudra ajouter un élément `e` à un tableau dynamique `d` :\n",
    "- s'il reste de la place dans `d.t` (c'est à dire si `d.n < Array.length t`), on met `e` dans `e` dans `d.t.(n)` et on met à jour `d.n`\n",
    "- sinon, on créé un nouveau tableau `t'` de taille `2n`, on recopie `d.t` dedans, on ajoute `e` puis on remplace `d.t` par `t'.`"
   ]
  },
  {
   "cell_type": "markdown",
   "metadata": {},
   "source": [
    "1. Écrire une fonction `add` ajoutant un élément dans un `array_dyn`. \n",
    "2. Quelle est la complexité dans le pire cas de `add` ?\n",
    "3. On suppose que l'on ajoute $n$ éléments (avec `add` à un tableau dynamique de taille initiale 1. Montrer que la complexité totale de ces $n$ opérations est O($n$) (autrement dit, la complexité moyenne ou **complexité amortie** d'une opération est O(1))"
   ]
  },
  {
   "cell_type": "code",
   "execution_count": 5,
   "metadata": {
    "execution": {
     "iopub.execute_input": "2021-11-16T20:34:13.734005Z",
     "iopub.status.busy": "2021-11-16T20:34:13.733416Z",
     "iopub.status.idle": "2021-11-16T20:34:13.752679Z",
     "shell.execute_reply": "2021-11-16T20:34:13.751292Z"
    },
    "tags": [
     "cor"
    ]
   },
   "outputs": [
    {
     "data": {
      "text/plain": [
       "val copy : 'a array -> 'a array -> unit = <fun>\n"
      ]
     },
     "execution_count": 5,
     "metadata": {},
     "output_type": "execute_result"
    },
    {
     "data": {
      "text/plain": [
       "val add : 'a -> 'a array_dyn -> unit = <fun>\n"
      ]
     },
     "execution_count": 5,
     "metadata": {},
     "output_type": "execute_result"
    },
    {
     "data": {
      "text/plain": [
       "val d : '_weak1 array_dyn = {t = [||]; n = 0}\n"
      ]
     },
     "execution_count": 5,
     "metadata": {},
     "output_type": "execute_result"
    },
    {
     "data": {
      "text/plain": [
       "- : int array_dyn =\n",
       "{t = [|0; 1; 2; 3; 4; 5; 6; 7; 8; 9; 10; 0; 0; 0; 0; 0|]; n = 11}\n"
      ]
     },
     "execution_count": 5,
     "metadata": {},
     "output_type": "execute_result"
    }
   ],
   "source": [
    "(* 1 *)\n",
    "let copy t1 t2 = (* copie t1 dans t2 *)\n",
    "  for i = 0 to Array.length t1 - 1 do\n",
    "    t2.(i) <- t1.(i)\n",
    "  done;;\n",
    "\n",
    "let add e d =\n",
    "  if d.n < Array.length d.t then (d.t.(d.n) <- e; d.n <- d.n + 1)\n",
    "  else if d.n = 0 then (d.t <- [|e|]; d.n <- 1)\n",
    "  else (let t' = Array.make (2*d.n) d.t.(0) in\n",
    "        copy d.t t';\n",
    "        t'.(d.n) <- e;\n",
    "        d.t <- t';\n",
    "        d.n <- d.n + 1);;\n",
    "\n",
    "let d = {t = [||]; n = 0};;\n",
    "for i = 0 to 10 do\n",
    "  add i d\n",
    "done;\n",
    "d"
   ]
  },
  {
   "cell_type": "markdown",
   "metadata": {
    "tags": [
     "cor"
    ]
   },
   "source": [
    "2. Dans le pire cas, `add e d` demande de recopier les `n` valeurs de `d.t`, d'où une complexité O(`n`).  \n",
    "3. Il y a des recopies quand `d.n` sera égal à 1, 2, 4, 8, ... c'est à dire pour les puissances de 2.\n",
    "$$\\sum_{k=0}^{\\lfloor \\log_2(n) \\rfloor} 2^k = ... = O(2^{\\lfloor \\log_2(n) \\rfloor}) = O(n)$$\n",
    "(on a utilisé la formule de la somme des termes d'une suite géométrique)"
   ]
  },
  {
   "cell_type": "markdown",
   "metadata": {},
   "source": []
  }
 ],
 "metadata": {
  "kernelspec": {
   "display_name": "OCaml default",
   "language": "OCaml",
   "name": "ocaml-jupyter"
  },
  "language_info": {
   "codemirror_mode": "text/x-ocaml",
   "file_extension": ".ml",
   "mimetype": "text/x-ocaml",
   "name": "OCaml",
   "nbconverter_exporter": null,
   "pygments_lexer": "OCaml",
   "version": "4.08.1"
  }
 },
 "nbformat": 4,
 "nbformat_minor": 4
}

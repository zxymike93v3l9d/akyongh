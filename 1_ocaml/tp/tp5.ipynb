{
 "cells": [
  {
   "cell_type": "markdown",
   "metadata": {},
   "source": [
    "# <center><a href='https://mybinder.org/v2/gh/fortierq/binder-mp2i/main?urlpath=git-pull%3Frepo%3Dhttps%253A%252F%252Fgithub.com%252Fmp2i-fsm%252Fmp2i-2021%26urlpath%3Dlab%252Ftree%252Fmp2i-2021%252F1_ocaml%252Ftp%252Ftp5.ipynb%26branch%3Dmain'>TP 5 : Tableaux et complexité                                                           <img src=https://mybinder.org/badge.svg></a></center>"
   ]
  },
  {
   "cell_type": "markdown",
   "metadata": {},
   "source": [
    "## Petites questions\n",
    "\n",
    "1. Écrire une fonction `somme` pour calculer la somme des éléments d'un tableau d'entiers.  \n",
    "2. Écrire une fonction `maximum` pour calculer le maximum d'un tableau d'entiers. On pourra utiliser la fonction `max` renvoyant le maximum de 2 nombres.  \n",
    "3. Écrire une fonction `list_of_array` transformant un tableau en liste.  \n",
    "4. Tester si un tableau est trié par ordre croissant."
   ]
  },
  {
   "cell_type": "code",
   "execution_count": 1,
   "metadata": {
    "execution": {
     "iopub.execute_input": "2021-11-16T20:34:11.792962Z",
     "iopub.status.busy": "2021-11-16T20:34:11.792338Z",
     "iopub.status.idle": "2021-11-16T20:34:11.812968Z",
     "shell.execute_reply": "2021-11-16T20:34:11.812391Z"
    },
    "tags": [
     "cor"
    ]
   },
   "outputs": [
    {
     "data": {
      "text/plain": [
       "- : int = 11\n"
      ]
     },
     "execution_count": 1,
     "metadata": {},
     "output_type": "execute_result"
    },
    {
     "data": {
      "text/plain": [
       "val maximum : 'a array -> 'a = <fun>\n"
      ]
     },
     "execution_count": 1,
     "metadata": {},
     "output_type": "execute_result"
    },
    {
     "data": {
      "text/plain": [
       "- : int = 7\n"
      ]
     },
     "execution_count": 1,
     "metadata": {},
     "output_type": "execute_result"
    },
    {
     "data": {
      "text/plain": [
       "val list_of_array : 'a array -> 'a list = <fun>\n"
      ]
     },
     "execution_count": 1,
     "metadata": {},
     "output_type": "execute_result"
    },
    {
     "data": {
      "text/plain": [
       "- : int list = [1; 9; 3; 4]\n"
      ]
     },
     "execution_count": 1,
     "metadata": {},
     "output_type": "execute_result"
    },
    {
     "data": {
      "text/plain": [
       "val croissant : 'a array -> bool = <fun>\n"
      ]
     },
     "execution_count": 1,
     "metadata": {},
     "output_type": "execute_result"
    }
   ],
   "source": [
    "(* 1 *)\n",
    "let somme t = \n",
    "    let res = ref 0 in\n",
    "    for i=0 to Array.length t - 1 do\n",
    "        res := !res + t.(i)\n",
    "    done;\n",
    "    !res in\n",
    "somme [|3; 1; 7|];;\n",
    "\n",
    "(* 2 *)\n",
    "let maximum t = \n",
    "    let m = ref t.(0) in\n",
    "    for i=1 to Array.length t - 1 do\n",
    "        m := max t.(i) !m\n",
    "    done;\n",
    "    !m;;\n",
    "maximum [|3; 1; 7|];;\n",
    "\n",
    "(* 3 *)\n",
    "let list_of_array t = \n",
    "    let rec aux i = (* transforme t.(0), ..., t.(i) en liste *)\n",
    "        if i = -1 then []\n",
    "        else t.(i)::aux (i - 1) in\n",
    "    aux (Array.length t - 1);;\n",
    "    \n",
    "list_of_array [|4; 3; 9; 1|];;\n",
    "\n",
    "(* 4 *)\n",
    "let croissant t =\n",
    "    let res = ref true in\n",
    "    for i=0 to Array.length t - 2 do\n",
    "        if t.(i) > t.(i + 1)\n",
    "        then res := false\n",
    "    done;\n",
    "    !res;;"
   ]
  },
  {
   "cell_type": "markdown",
   "metadata": {},
   "source": [
    "## Maximum local dans un tableau\n",
    "\n",
    "Un maximum local dans un tableau `t` est un indice `i` tel que `t.(i) >= t.(i+1)` et `t.(i) >= t.(i-1)`. Pour les extrémités, qu'une seule de ces conditions doit être vérifiée (si `t.(i-1)` ou `t.(i+1)` n'existe pas).  \n",
    "1. Montrer qu'il existe forcément un minimum local dans `t`.  \n",
    "2. Écrire une fonction `max_local1` trouvant un maximum local dans un tableau en regardant chaque élément un par un (recherche séquentielle). Quelle est sa complexité ?  \n",
    "3. Ecrire une fonction `max_local2` faisant la même chose mais avec une méthode par dichotomie (en divisant par 2 la taille du problème à chaque itération), pour avoir une complexité logarithmique.  \n",
    "*Aide* : soit `t.(m)` le milieu du tableau. Que peut-on dire si `t.(m) < t.(m+1)` ? Si `t.(m) < t.(m-1)` ?"
   ]
  },
  {
   "cell_type": "markdown",
   "metadata": {
    "tags": [
     "cor"
    ]
   },
   "source": [
    "1. Soit `t.(k)` le maximum de `t`. Alors `k` est un maximum local. Par contre il n'est pas forcément unique : par exemple dans `[|1; 3; 2; 4|]`, les indices 1 (correspondant à `t.(1) = 3`) et 3 (correspondant à `t.(3) = 4`)."
   ]
  },
  {
   "cell_type": "code",
   "execution_count": 2,
   "metadata": {
    "execution": {
     "iopub.execute_input": "2021-11-16T20:34:11.815390Z",
     "iopub.status.busy": "2021-11-16T20:34:11.814877Z",
     "iopub.status.idle": "2021-11-16T20:34:11.837234Z",
     "shell.execute_reply": "2021-11-16T20:34:11.836753Z"
    },
    "tags": [
     "cor"
    ]
   },
   "outputs": [
    {
     "data": {
      "text/plain": [
       "- : int = 2\n"
      ]
     },
     "execution_count": 2,
     "metadata": {},
     "output_type": "execute_result"
    },
    {
     "data": {
      "text/plain": [
       "val max_local2 : 'a array -> int = <fun>\n"
      ]
     },
     "execution_count": 2,
     "metadata": {},
     "output_type": "execute_result"
    },
    {
     "data": {
      "text/plain": [
       "- : int = 2\n"
      ]
     },
     "execution_count": 2,
     "metadata": {},
     "output_type": "execute_result"
    }
   ],
   "source": [
    "(* 2 *)\n",
    "let max_local1 t = \n",
    "    let k = ref (-1) in (* on demande l'indice d'un minimum local *)\n",
    "    let n = Array.length t in\n",
    "    if t.(0) >= t.(1) then k := 0;\n",
    "    if t.(n - 1) >= t.(n - 2) then k := n - 1;\n",
    "    for i=1 to Array.length t - 2 do (* complexité O(n) où n est la taille de t, à cause de cette boucle *)\n",
    "        if t.(i) >= max t.(i + 1) t.(i - 1)\n",
    "        then k := i\n",
    "    done;\n",
    "    !k in\n",
    "max_local1 [|1; 3; 5; 2|];;\n",
    "\n",
    "(* 3 *)\n",
    "(* On regarde le milieu t.(m) de t. \n",
    "Si t.(m) >= max t.(m - 1) t.(m + 1) alors m est un maximum local\n",
    "Si t.(m) < t.(m - 1) alors t a un maximum local à gauche de m. En effet soit t.(i) un maximum de t.(0), ... t.(m). Alors i est différent de m (car t.(m) < t.(m - 1)) donc est un maximum local.\n",
    "Si t.(m) < t.(m + 1) alors, de même, t a un maximum local à droite de m. *)\n",
    "\n",
    "let max_local2 t = \n",
    "    let n = Array.length t in\n",
    "    let rec aux i j = (* cherche un max local entre les indices i et j de t *)\n",
    "        let m = (i + j)/2 in\n",
    "        if (m = 0 || t.(m) >= t.(m-1)) && (m = n - 1 || t.(m) >= t.(m+1))\n",
    "        then m (* m est un max local *)\n",
    "        else if t.(m) < t.(m - 1) then aux i (m - 1)\n",
    "        else aux (m + 1) j in\n",
    "    aux 0 (n - 1);;\n",
    "max_local2 [|1; 3; 5; 2|]"
   ]
  },
  {
   "cell_type": "markdown",
   "metadata": {},
   "source": [
    "## Tri par comptage\n",
    "\n",
    "Écrire une fonction `tri_comptage : ’a array -> unit` qui trie un tableau `t` de taille $n$ dont les entrées sont des entiers entre 0\n",
    "et $M$ (où $M$ est le maximum de `t`), en complexité O($n + M$).  \n",
    "Pour cela :  \n",
    "- Créer un autre tableau `compte` de taille $M + 1$ (avec `Array.make`), initialement rempli de 0\n",
    "- Remplir `compte` pour que `compte.(i)` contienne le nombre d'apparitions de `i` dans `t`\n",
    "- Recopier les éléments de `compte` dans `t` dans l'ordre croissant pour obtenir un tableau trié"
   ]
  },
  {
   "cell_type": "code",
   "execution_count": 3,
   "metadata": {
    "execution": {
     "iopub.execute_input": "2021-11-16T20:34:11.839397Z",
     "iopub.status.busy": "2021-11-16T20:34:11.838871Z",
     "iopub.status.idle": "2021-11-16T20:34:11.848635Z",
     "shell.execute_reply": "2021-11-16T20:34:11.849097Z"
    },
    "tags": [
     "cor"
    ]
   },
   "outputs": [
    {
     "data": {
      "text/plain": [
       "val tri_comptage : int array -> unit = <fun>\n"
      ]
     },
     "execution_count": 3,
     "metadata": {},
     "output_type": "execute_result"
    },
    {
     "data": {
      "text/plain": [
       "- : int array = [|1; 3; 4; 5; 9|]\n"
      ]
     },
     "execution_count": 3,
     "metadata": {},
     "output_type": "execute_result"
    }
   ],
   "source": [
    "let tri_comptage t =\n",
    "    let m = maximum t in\n",
    "    let compte = Array.make (m+1) 0 in\n",
    "    let n = Array.length t in\n",
    "    for i=0 to n - 1 do\n",
    "        compte.(t.(i)) <- compte.(t.(i)) + 1\n",
    "    done;\n",
    "    let k = ref 0 in (* k est la position où on va ajouter le prochain élément dans t *)\n",
    "    for i=0 to m do\n",
    "        for j=1 to compte.(i) do\n",
    "            t.(!k) <- i;\n",
    "            incr k\n",
    "        done\n",
    "    done;; (* pas besoin de renvoyer un tableau car on modifie t en dehors de la fonction *)\n",
    "    \n",
    "let t = [|1; 9; 5; 3; 4|] in\n",
    "tri_comptage t;\n",
    "t"
   ]
  },
  {
   "cell_type": "markdown",
   "metadata": {},
   "source": [
    "## Tranche maximum\n",
    "\n",
    "Ecrire une fonction `tranche_max : int array -> int` qui renvoie en O($n$) la somme maximum d'éléments consécutifs d'un tableau de taille $n$. Par exemple, `tranche_max [|1; -2; 6; -3; 2; 4; -8; 7|]` doit renvoyer $9$, correspondant aux éléments 6; -3; 2; 4.  \n",
    "\n",
    "*Indice* : parcourir le tableau `t` avec une boucle for. Stocker 2 variables `m` et `m_cur` telles que, au $i$ème passage dans la boucle for :  \n",
    "- `m` contient la somme maximum d'éléments consécutifs parmi les $i$ premiers éléments du tableau\n",
    "- `m_cur` contient la somme maximum d'éléments consécutifs finissant en `t.(i)`.  \n",
    "Par exemple, lorsque `tranche_max [|1; -2; 6; -3; 2; 4; -8; 7|]` exécute la $3$ème itération de la boucle `for` (c'est à dire que -3 est considéré), `m` contient 6 (correspondant au seul élément 6) et `m_cur` contient 3 (correspondant à 6; -3)."
   ]
  },
  {
   "cell_type": "code",
   "execution_count": 4,
   "metadata": {
    "execution": {
     "iopub.execute_input": "2021-11-16T20:34:11.851135Z",
     "iopub.status.busy": "2021-11-16T20:34:11.850631Z",
     "iopub.status.idle": "2021-11-16T20:34:11.856888Z",
     "shell.execute_reply": "2021-11-16T20:34:11.856464Z"
    },
    "tags": [
     "cor"
    ]
   },
   "outputs": [
    {
     "data": {
      "text/plain": [
       "val tranche_max : int array -> int = <fun>\n"
      ]
     },
     "execution_count": 4,
     "metadata": {},
     "output_type": "execute_result"
    },
    {
     "data": {
      "text/plain": [
       "- : int = 9\n"
      ]
     },
     "execution_count": 4,
     "metadata": {},
     "output_type": "execute_result"
    }
   ],
   "source": [
    "let tranche_max t =\n",
    "    let m = ref t.(0) in\n",
    "    let m_cur = ref t.(0) in\n",
    "    for i = 1 to Array.length t - 1 do\n",
    "        m_cur := max (!m_cur + t.(i)) t.(i);\n",
    "        m := max !m !m_cur\n",
    "    done;\n",
    "    !m;;\n",
    "    \n",
    "tranche_max [|1; -2; 6; -3; 2; 4; -8; 7|]"
   ]
  },
  {
   "cell_type": "markdown",
   "metadata": {},
   "source": [
    "## Inversions dans un tableau"
   ]
  },
  {
   "cell_type": "markdown",
   "metadata": {},
   "source": [
    "Étant donné un tableau `t`, une inversion de `t` est un couple d'indices $(i, j)$ tels que $i < j$ et `t`.$(i)$ > `t`.$(j)$. Par exemple, `[|4; 1; 5; 2|]` possède 3 inversions: $(0, 1)$, $(0, 3)$ et $(2, 3)$.\n",
    "1. Écrire une fonction `inv` en O($n^2$) déterminant le nombre d'inversions d'un tableau de taille $n$. Justifier que la complexité est bien O$(n^2$).\n",
    "2. Écrire une fonction `inv_triee` telle que, si `t1` et `t2` sont deux tableaux triés par ordre croissant, `inv_triee t1 t2` renvoie le nombre de couples $(i, j)$ tels que `t1.(i) > t2.(j)`. La complexité de `inv_triee` doit être linéaire en le nombre total d'éléments de `t1` et `t2`.\n",
    "3. (Difficile) Écrire une fonction `inv2` telle que, si `t` est un tableau de taille $n$, `inv2 t` renvoie le nombre d'inversions de `t` en complexité O($n\\log(n)$).  \n",
    "On modifiera le tri fusion pour renvoyer le nombre d'inversions en plus de la liste triée."
   ]
  },
  {
   "cell_type": "code",
   "execution_count": 5,
   "metadata": {
    "execution": {
     "iopub.execute_input": "2021-11-16T20:34:11.858970Z",
     "iopub.status.busy": "2021-11-16T20:34:11.858446Z",
     "iopub.status.idle": "2021-11-16T20:34:11.866216Z",
     "shell.execute_reply": "2021-11-16T20:34:11.865753Z"
    },
    "tags": [
     "cor"
    ]
   },
   "outputs": [
    {
     "data": {
      "text/plain": [
       "val inv : 'a array -> int = <fun>\n"
      ]
     },
     "execution_count": 5,
     "metadata": {},
     "output_type": "execute_result"
    },
    {
     "data": {
      "text/plain": [
       "- : int = 4\n"
      ]
     },
     "execution_count": 5,
     "metadata": {},
     "output_type": "execute_result"
    }
   ],
   "source": [
    "(* 1 *)\n",
    "let inv t =\n",
    "    let res = ref 0 in\n",
    "    let n = Array.length t in\n",
    "    for i=0 to n - 1 do  (* répété n fois *)\n",
    "        for j=i+1 to n - 1 do (* répété au plus n fois *)\n",
    "            if t.(i) > t.(j) then res := !res + 1 (* répété au plus n² fois, donc complexité O(n²) *)\n",
    "        done\n",
    "    done;\n",
    "    !res;;\n",
    "\n",
    "inv [|4; 1; 3; 2|];; (* test *)"
   ]
  }
 ],
 "metadata": {
  "kernelspec": {
   "display_name": "OCaml default",
   "language": "OCaml",
   "name": "ocaml-jupyter"
  },
  "language_info": {
   "codemirror_mode": "text/x-ocaml",
   "file_extension": ".ml",
   "mimetype": "text/x-ocaml",
   "name": "OCaml",
   "nbconverter_exporter": null,
   "pygments_lexer": "OCaml",
   "version": "4.08.1"
  }
 },
 "nbformat": 4,
 "nbformat_minor": 4
}

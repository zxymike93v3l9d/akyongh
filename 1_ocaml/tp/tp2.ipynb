{
 "cells": [
  {
   "cell_type": "markdown",
   "id": "7172ba34",
   "metadata": {},
   "source": [
    "# <center><a href='https://mybinder.org/v2/gh/fortierq/binder-mp2i/main?urlpath=git-pull%3Frepo%3Dhttps%253A%252F%252Fgithub.com%252Fmp2i-fsm%252Fmp2i-2021%26urlpath%3Dlab%252Ftree%252Fmp2i-2021%252F1_ocaml%252Ftp%252Ftp2.ipynb%26branch%3Dmain'>TP 2 : Récursivité et conditions                                           <img src=https://mybinder.org/badge.svg></a></center>\n",
    "\n",
    "Dans tout le TP, il est interdit d'utiliser des boucles (pas de `for` ni `while`).\n",
    "\n",
    "Rappel : pensez à tester toutes vos fonctions sur des exemples."
   ]
  },
  {
   "cell_type": "markdown",
   "id": "9425145e",
   "metadata": {},
   "source": [
    "## Petites questions\n",
    "\n",
    "1. Définir une fonction `divise` telle que `divise a b` renvoie `true` si  `a` divise `b`, `false` sinon. Il est interdit d'utiliser `if`.\n",
    "2. Définir une fonction récursive `somme` telle que `somme n` renvoie $\\sum_{k=1}^n k^2$.\n",
    "3. Définir une fonction récursive `u` telle que `u n` renvoie $u_n$ définie par :\n",
    "$$u_0 = 42$$\n",
    "$$u_{n} = 3\\sqrt{u_{n - 1}} + 2$$\n",
    "4. Définir une fonction récursive `v` telle que `v a n` renvoie $v_n$ définie par (on fera attention à n'utiliser qu'un appel récursif) :\n",
    "$$v_0 = a$$\n",
    "$$v_{n + 1} = \\frac{1}{2}(v_n + \\frac{a}{v_n})$$\n",
    "5. Calculer `v a n` pour plusieurs valeurs de `a` et de `n` : que peut-on conjecturer sur la limite de $v_n$ ? Optionnel : le démontrer.  \n",
    "6. Soient $a$ et $b$ deux entiers et $q, r$ le quotient et reste de la division euclidienne de $a$ par $b$ ($a = bq + r$). En utilisant le fait que $PGCD(a, b)$ = $PGCD(b, r)$, écrire une fonction `euclide` telle que `euclide a b` renvoie le PGCD de $a$ et $b$."
   ]
  },
  {
   "cell_type": "code",
   "execution_count": 1,
   "id": "c272a759",
   "metadata": {
    "execution": {
     "iopub.execute_input": "2021-11-09T11:42:43.815773Z",
     "iopub.status.busy": "2021-11-09T11:42:43.815218Z",
     "iopub.status.idle": "2021-11-09T11:42:43.831509Z",
     "shell.execute_reply": "2021-11-09T11:42:43.830783Z"
    },
    "tags": [
     "cor"
    ]
   },
   "outputs": [
    {
     "data": {
      "text/plain": [
       "val divise : int -> int -> bool = <fun>\n"
      ]
     },
     "execution_count": 1,
     "metadata": {},
     "output_type": "execute_result"
    },
    {
     "data": {
      "text/plain": [
       "val somme : int -> int = <fun>\n"
      ]
     },
     "execution_count": 1,
     "metadata": {},
     "output_type": "execute_result"
    },
    {
     "data": {
      "text/plain": [
       "val u : int -> float = <fun>\n"
      ]
     },
     "execution_count": 1,
     "metadata": {},
     "output_type": "execute_result"
    },
    {
     "data": {
      "text/plain": [
       "val u : float -> int -> float = <fun>\n"
      ]
     },
     "execution_count": 1,
     "metadata": {},
     "output_type": "execute_result"
    },
    {
     "data": {
      "text/plain": [
       "- : float = 3.00000000139698386\n"
      ]
     },
     "execution_count": 1,
     "metadata": {},
     "output_type": "execute_result"
    },
    {
     "data": {
      "text/plain": [
       "- : float = 5.00002317825394904\n"
      ]
     },
     "execution_count": 1,
     "metadata": {},
     "output_type": "execute_result"
    },
    {
     "data": {
      "text/plain": [
       "val euclide : int -> int -> int = <fun>\n"
      ]
     },
     "execution_count": 1,
     "metadata": {},
     "output_type": "execute_result"
    }
   ],
   "source": [
    "(* ici j'utilise assert pour tester les fonctions et let () = ... pour éviter d'afficher des unit partout *)\n",
    "\n",
    "(* 1. *)\n",
    "let divise a b =\n",
    "    b mod a = 0;;\n",
    "let () = assert (divise 14 42 && not (divise 3 7));;\n",
    "\n",
    "(* 2. *)\n",
    "let rec somme n = \n",
    "    if n = 0 then 0\n",
    "    else n*n + somme (n - 1);;\n",
    "let () = assert (somme 3 = 1 + 4 + 9)\n",
    "\n",
    "(* 3. *)\n",
    "let rec u n =\n",
    "    if n = 0 then 42. (* doit renvoyer un float à cause de la racine *)\n",
    "    else 3.*.(u (n - 1))**0.5 +. 2.;;\n",
    "    \n",
    "(* 4. *)\n",
    "let rec u a n =\n",
    "    if n = 0 then a\n",
    "    else let un = u a (n - 1) in\n",
    "    (un +. a/.un)/.2.;;\n",
    "u 9. 5;;\n",
    "u 25. 5;;\n",
    "\n",
    "(* 5 *)\n",
    "(* la limite de u a est racine de a (il s'agit de la suite de Héron) *)\n",
    "\n",
    "(* 6 *)\n",
    "let rec euclide a b = \n",
    "    if b = 0 then a  (* le PGCD est le dernier reste non nul *)\n",
    "    else euclide b (a mod b);; (* formule de l'énoncé *)\n",
    "let () = assert (euclide 21 6 = 3)"
   ]
  },
  {
   "cell_type": "markdown",
   "id": "c4c96d4f",
   "metadata": {},
   "source": [
    "## Exponentiation rapide\n",
    "\n",
    "1. Écrire une fonction récursive `puissance` naïve (c'est à dire très simple) telle que `puissance a n` renvoie $a^n$. Combien effectue t-elle de multiplications (en fonction de n) ?\n",
    "2. Écrire une fonction récursive `exp_rapide` pour calculer $a^n$, en utilisant les relations suivantes :\n",
    "$$ \n",
    "\\begin{cases} \n",
    "a^n = (a^{\\frac{n}{2}})^2 ~~~~~~~~~\\text{si }n\\text{ est pair}\\\\\n",
    "a^{n} = a \\times (a^{\\frac{n-1}{2}})^2 ~~~~~\\text{sinon}\n",
    "\\end{cases}\n",
    "$$\n",
    "**Attention** : pour mettre au carré, utiliser une variable plutôt que faire 2 appels récursifs, ce qui augmenterait beaucoup le nombre d'opérations.  \n",
    "**Remarque** : On montrera plus tard que cette 2ème version demande de l'ordre de $\\ln(n)$ multiplications seulement."
   ]
  },
  {
   "cell_type": "code",
   "execution_count": 2,
   "id": "0d473f0d",
   "metadata": {
    "execution": {
     "iopub.execute_input": "2021-11-09T11:42:43.833454Z",
     "iopub.status.busy": "2021-11-09T11:42:43.832953Z",
     "iopub.status.idle": "2021-11-09T11:42:43.842106Z",
     "shell.execute_reply": "2021-11-09T11:42:43.842620Z"
    },
    "tags": [
     "cor"
    ]
   },
   "outputs": [
    {
     "data": {
      "text/plain": [
       "val puissance : int -> int -> int = <fun>\n"
      ]
     },
     "execution_count": 2,
     "metadata": {},
     "output_type": "execute_result"
    },
    {
     "data": {
      "text/plain": [
       "val exp_rapide : int -> int -> int = <fun>\n"
      ]
     },
     "execution_count": 2,
     "metadata": {},
     "output_type": "execute_result"
    },
    {
     "data": {
      "text/plain": [
       "- : bool = true\n"
      ]
     },
     "execution_count": 2,
     "metadata": {},
     "output_type": "execute_result"
    }
   ],
   "source": [
    "(* 1. *)\n",
    "let rec puissance a n =\n",
    "    if n = 0 then 1\n",
    "    else a * puissance a (n - 1);;\n",
    "let () = assert (puissance 2 10 = 1024);;\n",
    "(* puissance a n effectue autant de multiplication que d'appels récursifs, c'est à dire n - 1 *)\n",
    "\n",
    "(* 2. *)\n",
    "let rec exp_rapide a n =\n",
    "    if n = 0 then 1\n",
    "    else let b = exp_rapide a (n/2) in (* pour éviter de faire 2 appels récursifs *)\n",
    "    if n mod 2 = 0 then b*b\n",
    "    else a*b*b;; (* si n est impair, n/2 et (n - 1)/2 ont la même valeur en OCaml donc on peut utiliser b aussi *)\n",
    "let () = assert (exp_rapide 2 10 = 1024);;\n",
    "exp_rapide 2 10 = 1024"
   ]
  },
  {
   "cell_type": "markdown",
   "id": "67e6bda5",
   "metadata": {},
   "source": [
    "# Accumulateur\n",
    "\n",
    "On a vu dans le cours sur la récursivité (avec l'exemple de la suite de Fibonacci) qu'un accumulateur est un argument que l'on ajoute à une fonction pour calculer sa valeur de retour.  \n",
    "1. Écrire une fonction `fact` telle que `fact acc n` renvoie `n`!, en utilisant `acc` comme accumulateur. Voici à quoi va ressemble `fact` :\n",
    "```ocaml\n",
    "let rec fact acc n =\n",
    "    if n = 0 then acc  (* on renvoie l'accumulateur qui contient le résultat *)\n",
    "    else fact ... (* appel récursif en modifiant l'accumulateur *)\n",
    "```\n",
    "2. En utilisant `fact` et l'application partielle de fonction, définir `f : int -> int` renvoyant la factoielle d'un entier.\n",
    "\n",
    "**Remarque** : le but ici est juste de vous entraîner à savoir utiliser un accumulateur, qui sont parfois utiles (comme pour la fonction `fibo` du cours). En DS ou concours on évitera d'utiliser un accumulateur lorsqu'il y en a pas besoin (comme pour la fonction `fact`...), car cela rend le code plus compliqué.  "
   ]
  },
  {
   "cell_type": "code",
   "execution_count": 3,
   "id": "89d14e34",
   "metadata": {
    "execution": {
     "iopub.execute_input": "2021-11-09T11:42:43.844654Z",
     "iopub.status.busy": "2021-11-09T11:42:43.844120Z",
     "iopub.status.idle": "2021-11-09T11:42:43.849038Z",
     "shell.execute_reply": "2021-11-09T11:42:43.848591Z"
    },
    "tags": [
     "cor"
    ]
   },
   "outputs": [
    {
     "data": {
      "text/plain": [
       "val fact : int -> int -> int = <fun>\n"
      ]
     },
     "execution_count": 3,
     "metadata": {},
     "output_type": "execute_result"
    },
    {
     "data": {
      "text/plain": [
       "val f : int -> int = <fun>\n"
      ]
     },
     "execution_count": 3,
     "metadata": {},
     "output_type": "execute_result"
    }
   ],
   "source": [
    "(* 1. *)\n",
    "let rec fact acc n =\n",
    " if n = 0 then acc  (* on renvoie l'accumulateur qui contient le résultat *)\n",
    " else fact (n * acc) (n - 1);;\n",
    " let () = assert (fact 1 4 = 2*3*4)\n",
    " \n",
    "(* 2. *)\n",
    "let f = fact 1"
   ]
  },
  {
   "cell_type": "markdown",
   "id": "3b09e45a",
   "metadata": {},
   "source": [
    "## Temps de vol de la suite de Syracuse\n",
    "\n",
    "La suite de Syracuse d'un entier $a$ est définie par :  \n",
    "$$u_0 = a$$\n",
    "$$u_{n+1} =\n",
    "\\begin{cases} \n",
    "     \\frac{u_n}{2}, \\text{si } u_n \\text{ est pair}\\\\\n",
    "    3u_n + 1, \\text{sinon}\\\\\n",
    "\\end{cases}$$\n",
    "\n",
    "Le temps de vol de $(u_n)_n$ est le plus petit entier $t$ tel que $u_t = 1$.  \n",
    "\n",
    "1. Écrire une fonction récursive `temps_vol` telle que `temps_vol a` renvoie le temps de vol de $(u_n)_n$ (où $u_0 = a$)."
   ]
  },
  {
   "cell_type": "code",
   "execution_count": 4,
   "id": "2816d393",
   "metadata": {
    "execution": {
     "iopub.execute_input": "2021-11-09T11:42:43.850663Z",
     "iopub.status.busy": "2021-11-09T11:42:43.850192Z",
     "iopub.status.idle": "2021-11-09T11:42:43.855412Z",
     "shell.execute_reply": "2021-11-09T11:42:43.854908Z"
    },
    "tags": [
     "cor"
    ]
   },
   "outputs": [
    {
     "data": {
      "text/plain": [
       "- : int = 9\n"
      ]
     },
     "execution_count": 4,
     "metadata": {},
     "output_type": "execute_result"
    }
   ],
   "source": [
    "let rec temps_vol a =\n",
    "    if a = 1 then 0\n",
    "    else if a mod 2 = 0 then 1 + temps_vol (a / 2)\n",
    "    else 1 + temps_vol (3*a + 1) in\n",
    "temps_vol 13"
   ]
  },
  {
   "cell_type": "markdown",
   "id": "ab6b6fcc",
   "metadata": {},
   "source": [
    "## Fonction mystérieuse\n",
    "\n",
    "Tester la fonction suivante pour des $n$ entre $0$ et $100$, conjecturer un théorème et prouvez-le par récurrence."
   ]
  },
  {
   "cell_type": "code",
   "execution_count": 5,
   "id": "787ec3d9",
   "metadata": {
    "execution": {
     "iopub.execute_input": "2021-11-09T11:42:43.857162Z",
     "iopub.status.busy": "2021-11-09T11:42:43.856623Z",
     "iopub.status.idle": "2021-11-09T11:42:43.860017Z",
     "shell.execute_reply": "2021-11-09T11:42:43.859568Z"
    }
   },
   "outputs": [
    {
     "data": {
      "text/plain": [
       "val f : int -> int = <fun>\n"
      ]
     },
     "execution_count": 5,
     "metadata": {},
     "output_type": "execute_result"
    }
   ],
   "source": [
    "let rec f n =\n",
    "    if n > 100 then n - 10 \n",
    "    else f (f (n + 11)) ;;"
   ]
  },
  {
   "cell_type": "code",
   "execution_count": 6,
   "id": "82b77ec1",
   "metadata": {
    "execution": {
     "iopub.execute_input": "2021-11-09T11:42:43.862047Z",
     "iopub.status.busy": "2021-11-09T11:42:43.861241Z",
     "iopub.status.idle": "2021-11-09T11:42:43.865139Z",
     "shell.execute_reply": "2021-11-09T11:42:43.864642Z"
    },
    "tags": [
     "cor"
    ]
   },
   "outputs": [
    {
     "data": {
      "text/plain": [
       "- : int * int * int * int * int = (91, 91, 91, 91, 91)\n"
      ]
     },
     "execution_count": 6,
     "metadata": {},
     "output_type": "execute_result"
    }
   ],
   "source": [
    "f 81, f 42, f 0, f 4, f 91  (* la fonction semble toujours renvoyer 91 *)"
   ]
  },
  {
   "cell_type": "markdown",
   "id": "b0a1f433",
   "metadata": {
    "tags": [
     "cor"
    ]
   },
   "source": [
    "Soit $\\mathcal H(n) : $ \"`f n` renvoie 91\".  \n",
    "Montrons $\\mathcal H(n), \\forall n \\in \\{0, ..., 100\\}$ par récurrence forte décroissante. C'est à dire qu'il faut montrer :\n",
    "- $\\mathcal H(100)$ (**cas de base**) : c'est vrai car `f 100` renvoie `f (f 111)` qui donne `f (101)` qui donne $91$.\n",
    "- ($\\forall k > n, \\mathcal H(k)$) $\\implies \\mathcal H(n)$) (**hérédité**)  \n",
    "Pour cela, fixons $n \\in \\{1, ..., 100\\}$ et supposons $\\forall k > n, \\mathcal H(k)$.  \n",
    "L'appel `f n` renvoie `f (f (n + 11))`. Il y a alors deux cas :  \n",
    "    1. $\\underline{n + 11 \\leq 100}$ (c'est à dire $n \\leq 91$) : alors, par $\\mathcal H(n + 11)$, `f (n + 11)` renvoie $91$. Comme `f 91` vaut $91$ (d'après les tests de la cellule précédente), on en conclut que `f n` renvoie $91$, donc que $\\mathcal H(n)$ est vraie.\n",
    "    2. $\\underline{n + 11 > 100}$ (c'est à dire $n > 91$) : alors `f (n + 11)` renvoie `n + 11 - 10 = n + 1`. D'après $\\mathcal H(n + 1)$, `f (n + 1)` renvoie $91$. Donc `f (f (n + 11))` renvoie $91$.  \n",
    "\n",
    "**Conclusion** : $\\mathcal H(n)$ est vraie, pour tout $ n \\in \\{0, ..., 100\\}$"
   ]
  },
  {
   "cell_type": "markdown",
   "id": "c0d04363",
   "metadata": {},
   "source": [
    "## Fonctions mutuellement récursives\n",
    "\n",
    "Il est possible de définir simultanément deux fonctions `f` et `g`, dépendant l'une de l'autre avec `and` :\n",
    "```ocaml\n",
    "let rec f x = ... and g y = ... in ...\n",
    "```\n",
    "\n",
    "Écrire deux fonctions `u` et `v` permettant de calculer le $n$ième terme des suites définies par :\n",
    "$$u_0 = 2$$\n",
    "$$v_0 = 3$$\n",
    "$$u_{n + 1} = u_n - u_n v_n$$\n",
    "$$v_{n + 1} = v_n + u_n v_n$$"
   ]
  },
  {
   "cell_type": "code",
   "execution_count": 7,
   "id": "3334674b",
   "metadata": {
    "execution": {
     "iopub.execute_input": "2021-11-09T11:42:43.866971Z",
     "iopub.status.busy": "2021-11-09T11:42:43.866515Z",
     "iopub.status.idle": "2021-11-09T11:42:43.873224Z",
     "shell.execute_reply": "2021-11-09T11:42:43.873624Z"
    },
    "tags": [
     "cor"
    ]
   },
   "outputs": [
    {
     "data": {
      "text/plain": [
       "val u : int -> int = <fun>\n",
       "val v : int -> int = <fun>\n"
      ]
     },
     "execution_count": 7,
     "metadata": {},
     "output_type": "execute_result"
    }
   ],
   "source": [
    "let rec u n = \n",
    "    if n = 0 then 2\n",
    "    else let un = u (n - 1) in (* pour éviter de faire 2 appels identiques *)\n",
    "    un - un*v (n - 1)\n",
    "and v n =\n",
    "    if n = 0 then 3\n",
    "    else let vn = v (n - 1) in\n",
    "    vn + (u (n - 1))*vn"
   ]
  },
  {
   "cell_type": "markdown",
   "id": "eb364414",
   "metadata": {},
   "source": [
    "## Retour sur les tours de Hanoi\n",
    "\n",
    "**Remarque** : le problème des tours de Hanoi a déjà été vu en stage, mais on le refait ici en OCaml. En outre, il est utile de réactiver sa mémoire pour se souvenir des méthodes et il m'arrivera pendant l'année de redonner des exercices déjà posés."
   ]
  },
  {
   "cell_type": "markdown",
   "id": "9369b26f",
   "metadata": {},
   "source": [
    "<center><img src=data:image/png;base64,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 width=500></center>\n",
    "\n",
    "$n$ disques sont posés sur la tige à gauche. L'objectif est de déplacer tous les disques sur la tige à droite :\n",
    "\n",
    "<center><img src=data:image/png;base64,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 width=500></center>\n",
    "\n",
    "Règles du jeu :\n",
    "\n",
    "- On ne peut déplacer qu'un disque à la fois (celui tout en haut), sur une autre tige.\n",
    "- Il est interdit de poser un disque sur un autre plus petit.\n",
    "\n",
    "Exemple de premier déplacement valide :\n",
    "\n",
    "<center><img src=data:image/png;base64,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 width=500></center>\n",
    "\n",
    "On souhaite écrire une fonction récursive `hanoi` telle que `hanoi n tige1 tige2` affiche une suite de déplacements (avec des `print_int`) permettant de déplacer $n$ disques depuis `tige1` vers `tige2`. On supposera que les tiges sont numérotées 0, 1, 2 (de gauche à droite).\n",
    "\n",
    "1. Supposons que vous sachiez déplacer $n-1$ disques d'une tige à une autre. Comment déplacer $n$ disques d'une tige à une autre ?\n",
    "2. Écrire `hanoi`.  \n",
    "Pour afficher les déplacements on pourra utiliser `print_string`, `^` (pour concaténer 2 chaînes de caractères), `\\n` (pour un saut de ligne) et `print_newline ()` à la fin pour tout afficher."
   ]
  },
  {
   "cell_type": "markdown",
   "id": "264d7049",
   "metadata": {},
   "source": [
    "1. Pour déplacer $n$ disques de la tige 0 à la tige 2 :\n",
    "- On déplace récursivement $n - 1$ disques de 0 vers 1.\n",
    "- On déplace 1 disque (le plus gros) de 0 vers 2.\n",
    "- On déplace récursivement $n - 1$ disques de 1 vers 2.\n",
    "<center><img src=data:image/png;base64,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 width=800></center>"
   ]
  },
  {
   "cell_type": "code",
   "execution_count": 8,
   "id": "5b941ca7",
   "metadata": {
    "execution": {
     "iopub.execute_input": "2021-11-09T11:42:43.875614Z",
     "iopub.status.busy": "2021-11-09T11:42:43.875078Z",
     "iopub.status.idle": "2021-11-09T11:42:43.888127Z",
     "shell.execute_reply": "2021-11-09T11:42:43.884022Z"
    },
    "tags": [
     "cor"
    ]
   },
   "outputs": [
    {
     "name": "stdout",
     "output_type": "stream",
     "text": [
      "0 -> 2\n",
      "0 -> 1\n",
      "2 -> 1\n",
      "0 -> 2\n",
      "1 -> 0\n",
      "1 -> 2\n",
      "0 -> 2\n",
      "\n"
     ]
    },
    {
     "data": {
      "text/plain": [
       "- : unit = ()\n"
      ]
     },
     "execution_count": 8,
     "metadata": {},
     "output_type": "execute_result"
    }
   ],
   "source": [
    "(* 2 *)\n",
    "let rec hanoi n tige1 tige2 =\n",
    "  if n = 0 then () (* aucun déplacement à faire *)\n",
    "  else (let tige_intermediaire = 3 - tige1 - tige2 in (* on utilise le fait que la somme des 3 tiges vaut 3 *)\n",
    "        hanoi (n - 1) tige1 tige_intermediaire;\n",
    "        print_string ((string_of_int tige1)^\" -> \"^(string_of_int tige2)^\"\\n\");\n",
    "        hanoi (n - 1) tige_intermediaire tige2) in\n",
    "hanoi 3 0 2;\n",
    "print_newline ();;"
   ]
  }
 ],
 "metadata": {
  "kernelspec": {
   "display_name": "OCaml default",
   "language": "OCaml",
   "name": "ocaml-jupyter"
  },
  "language_info": {
   "codemirror_mode": "text/x-ocaml",
   "file_extension": ".ml",
   "mimetype": "text/x-ocaml",
   "name": "OCaml",
   "nbconverter_exporter": null,
   "pygments_lexer": "OCaml",
   "version": "4.08.1"
  }
 },
 "nbformat": 4,
 "nbformat_minor": 5
}

{
 "cells": [
  {
   "cell_type": "markdown",
   "id": "1c3857a7",
   "metadata": {},
   "source": [
    "# <center><a href='https://mybinder.org/v2/gh/fortierq/binder-mp2i/main?urlpath=git-pull%3Frepo%3Dhttps%253A%252F%252Fgithub.com%252Fmp2i-fsm%252Fmp2i-2021%26urlpath%3Dlab%252Ftree%252Fmp2i-2021%252F1_ocaml%252F2_fonctions.ipynb%26branch%3Dmain'>Fonctions  <img src=https://mybinder.org/badge.svg></a></center>\n",
    "\n",
    "## Utiliser une fonction\n",
    "\n",
    "OCaml est un langage fonctionnel, ce qui signifie que :\n",
    "- les fonctions y occupent une place importante et peuvent être manipulées un peu comme des variables\n",
    "- les fonctions sont censées ne pas effectuer d'effet de bord, c'est à dire d'action sur l'extérieur de la fonction (pas de modification de variable globale, pas d'écriture dans un fichier...)\n",
    "\n",
    "Pour utiliser une fonction `f` sur une valeur `x`, on écrira simplement `f x` (et non pas `f(x)`).  \n",
    "\n",
    "Un certain nombre de fonctions sont déjà définies en OCaml. Par exemple, la racine carrée : "
   ]
  },
  {
   "cell_type": "code",
   "execution_count": 1,
   "id": "59bb3885",
   "metadata": {
    "execution": {
     "iopub.execute_input": "2021-11-13T11:35:15.786830Z",
     "iopub.status.busy": "2021-11-13T11:35:15.786050Z",
     "iopub.status.idle": "2021-11-13T11:35:15.788942Z",
     "shell.execute_reply": "2021-11-13T11:35:15.789364Z"
    },
    "tags": []
   },
   "outputs": [
    {
     "data": {
      "text/plain": [
       "- : float = 1.41421356237309515\n"
      ]
     },
     "execution_count": 1,
     "metadata": {},
     "output_type": "execute_result"
    }
   ],
   "source": [
    "sqrt 2.0 (* renvoie une approximation de racine de 2 *)"
   ]
  },
  {
   "cell_type": "markdown",
   "id": "02a6528f",
   "metadata": {},
   "source": [
    "Chaque fonction possède une **signature**, qui donne les types des paramètres (valeurs en entrée de la fonction) et le type de la valeur de retour."
   ]
  },
  {
   "cell_type": "code",
   "execution_count": 2,
   "id": "e8e3588a",
   "metadata": {
    "execution": {
     "iopub.execute_input": "2021-11-13T11:35:15.791628Z",
     "iopub.status.busy": "2021-11-13T11:35:15.791009Z",
     "iopub.status.idle": "2021-11-13T11:35:15.796565Z",
     "shell.execute_reply": "2021-11-13T11:35:15.796098Z"
    },
    "tags": []
   },
   "outputs": [
    {
     "data": {
      "text/plain": [
       "- : float -> float = <fun>\n"
      ]
     },
     "execution_count": 2,
     "metadata": {},
     "output_type": "execute_result"
    }
   ],
   "source": [
    "sqrt"
   ]
  },
  {
   "cell_type": "markdown",
   "id": "82e6ee9e",
   "metadata": {},
   "source": [
    "`float -> float` signifie que `sqrt` est une fonction qui prend un flottant en entrée et renvoie un flottant. On ne peut donc pas l'appliquer sur un entier :"
   ]
  },
  {
   "cell_type": "code",
   "execution_count": 3,
   "id": "dfd9275c",
   "metadata": {
    "execution": {
     "iopub.execute_input": "2021-11-13T11:35:15.798557Z",
     "iopub.status.busy": "2021-11-13T11:35:15.798008Z",
     "iopub.status.idle": "2021-11-13T11:35:15.800208Z",
     "shell.execute_reply": "2021-11-13T11:35:15.800599Z"
    },
    "tags": []
   },
   "outputs": [
    {
     "ename": "error",
     "evalue": "compile_error",
     "output_type": "error",
     "traceback": [
      "File \"[3]\", line 1, characters 5-6:\n1 | sqrt 2 (* erreur : on donne un entier à sqrt qui attend un flottant *)\n         ^\nError: This expression has type int but an expression was expected of type\n         float\n"
     ]
    }
   ],
   "source": [
    "sqrt 2 (* erreur : on donne un entier à sqrt qui attend un flottant *)"
   ]
  },
  {
   "cell_type": "markdown",
   "id": "fe1d9d27",
   "metadata": {},
   "source": [
    "## Définir une fonction"
   ]
  },
  {
   "cell_type": "markdown",
   "id": "8f88cfe0",
   "metadata": {},
   "source": [
    "En OCaml, une fonction se définie de la façon suivante :\n",
    "```ocaml\n",
    "let nom_fonction nom_argument = ... \n",
    "```\n",
    "où `...` est le corps de la fonction, c'est à dire ce qui est exécuté lorsqu'on utilise la fonction. \n",
    "\n",
    "**La valeur renvoyée par la fonction est celle de la dernière instruction (pas besoin de `return`)**."
   ]
  },
  {
   "cell_type": "markdown",
   "id": "2bc8471e",
   "metadata": {},
   "source": [
    "Définissons par exemple la fonction $f: x \\longmapsto 2x$ :"
   ]
  },
  {
   "cell_type": "code",
   "execution_count": 4,
   "id": "3ed1839f",
   "metadata": {
    "execution": {
     "iopub.execute_input": "2021-11-13T11:35:15.802653Z",
     "iopub.status.busy": "2021-11-13T11:35:15.802109Z",
     "iopub.status.idle": "2021-11-13T11:35:15.806130Z",
     "shell.execute_reply": "2021-11-13T11:35:15.805524Z"
    },
    "tags": []
   },
   "outputs": [
    {
     "data": {
      "text/plain": [
       "val f : int -> int = <fun>\n"
      ]
     },
     "execution_count": 4,
     "metadata": {},
     "output_type": "execute_result"
    }
   ],
   "source": [
    "let f x = 2*x"
   ]
  },
  {
   "cell_type": "markdown",
   "id": "0359178e",
   "metadata": {},
   "source": [
    "OCaml nous dit que `f` est de type `int -> int`, ce qui signifie que `f` prend un entier en entrée et renvoie un entier en sortie. Ceci est similaire à la notation mathématique $f : \\mathbb{N} \\longrightarrow \\mathbb{N}$.\n",
    "\n",
    "On peut ensuite utiliser `f` et récupérer la valeur de retour :"
   ]
  },
  {
   "cell_type": "code",
   "execution_count": 5,
   "id": "ecb785c3",
   "metadata": {
    "execution": {
     "iopub.execute_input": "2021-11-13T11:35:15.808137Z",
     "iopub.status.busy": "2021-11-13T11:35:15.807597Z",
     "iopub.status.idle": "2021-11-13T11:35:15.809631Z",
     "shell.execute_reply": "2021-11-13T11:35:15.810048Z"
    }
   },
   "outputs": [
    {
     "data": {
      "text/plain": [
       "- : int = 6\n"
      ]
     },
     "execution_count": 5,
     "metadata": {},
     "output_type": "execute_result"
    }
   ],
   "source": [
    "f 3"
   ]
  },
  {
   "cell_type": "markdown",
   "id": "28560ff8",
   "metadata": {},
   "source": [
    "Notons que `x` est une variable **muette** : elle n'existe qu'à l'intérieur de `f`, n'a aucun rapport avec une variable `x` définie précédemment et la fonction suivante définit exactement la même fonction :"
   ]
  },
  {
   "cell_type": "code",
   "execution_count": 6,
   "id": "126eb4e3",
   "metadata": {
    "execution": {
     "iopub.execute_input": "2021-11-13T11:35:15.811893Z",
     "iopub.status.busy": "2021-11-13T11:35:15.811287Z",
     "iopub.status.idle": "2021-11-13T11:35:15.814911Z",
     "shell.execute_reply": "2021-11-13T11:35:15.814470Z"
    },
    "tags": []
   },
   "outputs": [
    {
     "data": {
      "text/plain": [
       "val f : int -> int = <fun>\n"
      ]
     },
     "execution_count": 6,
     "metadata": {},
     "output_type": "execute_result"
    }
   ],
   "source": [
    "let f y = 2*y (* peu importe le nom de la variable muette y *)"
   ]
  },
  {
   "cell_type": "markdown",
   "id": "7c870d3d",
   "metadata": {},
   "source": [
    "Maintenant que `f` est définie, on peut calculer $f(3)$ :"
   ]
  },
  {
   "cell_type": "code",
   "execution_count": 7,
   "id": "7e0fa691",
   "metadata": {
    "execution": {
     "iopub.execute_input": "2021-11-13T11:35:15.817131Z",
     "iopub.status.busy": "2021-11-13T11:35:15.816481Z",
     "iopub.status.idle": "2021-11-13T11:35:15.818677Z",
     "shell.execute_reply": "2021-11-13T11:35:15.819072Z"
    },
    "tags": []
   },
   "outputs": [
    {
     "data": {
      "text/plain": [
       "- : int = 6\n"
      ]
     },
     "execution_count": 7,
     "metadata": {},
     "output_type": "execute_result"
    }
   ],
   "source": [
    "f 3"
   ]
  },
  {
   "cell_type": "markdown",
   "id": "dbaa0f73",
   "metadata": {
    "tags": [
     "exo"
    ]
   },
   "source": [
    "**Exercice** : définir la fonction $f : x \\longmapsto \\frac{1}{\\sqrt{1 + x^2}}$ en OCaml."
   ]
  },
  {
   "cell_type": "code",
   "execution_count": 8,
   "id": "21d7f1c6",
   "metadata": {
    "execution": {
     "iopub.execute_input": "2021-11-13T11:35:15.820857Z",
     "iopub.status.busy": "2021-11-13T11:35:15.820390Z",
     "iopub.status.idle": "2021-11-13T11:35:15.824611Z",
     "shell.execute_reply": "2021-11-13T11:35:15.824166Z"
    },
    "tags": [
     "cor"
    ]
   },
   "outputs": [
    {
     "data": {
      "text/plain": [
       "val f : float -> float = <fun>\n"
      ]
     },
     "execution_count": 8,
     "metadata": {},
     "output_type": "execute_result"
    }
   ],
   "source": [
    "let f x = 1./.(1. +. x**2.)**0.5"
   ]
  },
  {
   "cell_type": "markdown",
   "id": "f9956ee1",
   "metadata": {},
   "source": [
    "Comme pour les variables, il est possible d'utiliser `in` pour spécifier la portée d'une fonction $g$"
   ]
  },
  {
   "cell_type": "code",
   "execution_count": 9,
   "id": "6c9e85ac",
   "metadata": {
    "execution": {
     "iopub.execute_input": "2021-11-13T11:35:15.826632Z",
     "iopub.status.busy": "2021-11-13T11:35:15.825958Z",
     "iopub.status.idle": "2021-11-13T11:35:15.829568Z",
     "shell.execute_reply": "2021-11-13T11:35:15.829027Z"
    },
    "tags": []
   },
   "outputs": [
    {
     "data": {
      "text/plain": [
       "- : int = 1\n"
      ]
     },
     "execution_count": 9,
     "metadata": {},
     "output_type": "execute_result"
    }
   ],
   "source": [
    "let g x = x + 1 in\n",
    "g 0  (* g est utilisable seulement dans le in *)"
   ]
  },
  {
   "cell_type": "markdown",
   "id": "d24e22bd",
   "metadata": {
    "tags": [
     "exo"
    ]
   },
   "source": [
    "**Exercice** Donner la valeur de l'expression suivante :\n",
    "```ocaml\n",
    "let h x = f x + 1 in\n",
    "h 3\n",
    "```"
   ]
  },
  {
   "cell_type": "code",
   "execution_count": 10,
   "id": "575101e2",
   "metadata": {
    "execution": {
     "iopub.execute_input": "2021-11-13T11:35:15.831919Z",
     "iopub.status.busy": "2021-11-13T11:35:15.831238Z",
     "iopub.status.idle": "2021-11-13T11:35:15.834321Z",
     "shell.execute_reply": "2021-11-13T11:35:15.833797Z"
    },
    "tags": [
     "cor"
    ]
   },
   "outputs": [
    {
     "ename": "error",
     "evalue": "compile_error",
     "output_type": "error",
     "traceback": [
      "File \"[10]\", line 1, characters 10-13:\n1 | let h x = f x + 1 in (* x est remplacé par 3, f x est remplacé par 6 *)\n              ^^^\nError: This expression has type float but an expression was expected of type\n         int\n"
     ]
    }
   ],
   "source": [
    "let h x = f x + 1 in (* x est remplacé par 3, f x est remplacé par 6 *)\n",
    "h 3"
   ]
  },
  {
   "cell_type": "markdown",
   "id": "24539c5e",
   "metadata": {},
   "source": [
    "## Fonctions anonymes"
   ]
  },
  {
   "cell_type": "markdown",
   "id": "79c59258",
   "metadata": {},
   "source": [
    "Quand on a besoin d'utiliser une fonction une seule fois, on peut définir une fonction anonyme (sans nom) avec `fun`. C'est l'équivalent de `lambda` en Python."
   ]
  },
  {
   "cell_type": "code",
   "execution_count": 11,
   "id": "89902bf3",
   "metadata": {
    "execution": {
     "iopub.execute_input": "2021-11-13T11:35:15.836766Z",
     "iopub.status.busy": "2021-11-13T11:35:15.835995Z",
     "iopub.status.idle": "2021-11-13T11:35:15.839180Z",
     "shell.execute_reply": "2021-11-13T11:35:15.838658Z"
    },
    "tags": []
   },
   "outputs": [
    {
     "data": {
      "text/plain": [
       "- : int -> int = <fun>\n"
      ]
     },
     "execution_count": 11,
     "metadata": {},
     "output_type": "execute_result"
    }
   ],
   "source": [
    "fun x -> x*2 (* définition d'une fonction anonyme *)"
   ]
  },
  {
   "cell_type": "code",
   "execution_count": 12,
   "id": "51b6bbbc",
   "metadata": {
    "execution": {
     "iopub.execute_input": "2021-11-13T11:35:15.841135Z",
     "iopub.status.busy": "2021-11-13T11:35:15.840594Z",
     "iopub.status.idle": "2021-11-13T11:35:15.844386Z",
     "shell.execute_reply": "2021-11-13T11:35:15.843896Z"
    },
    "tags": []
   },
   "outputs": [
    {
     "data": {
      "text/plain": [
       "- : int = 6\n"
      ]
     },
     "execution_count": 12,
     "metadata": {},
     "output_type": "execute_result"
    }
   ],
   "source": [
    "(fun x -> x*2) 3 (* applique une fonction anonyme sur la valeur 3 *)"
   ]
  },
  {
   "cell_type": "markdown",
   "id": "31924ae1",
   "metadata": {},
   "source": [
    "**Remarque** : les deux définitions suivantes sont en fait complètement équivalentes.\n",
    "```ocaml\n",
    "let f x = ...\n",
    "```\n",
    "```ocaml\n",
    "let f = fun x -> ...\n",
    "```\n",
    "\n",
    "Par exemple, on peut définir la fonction $f : x \\longmapsto 2 \\sqrt{x}$ comme ceci :"
   ]
  },
  {
   "cell_type": "code",
   "execution_count": 13,
   "id": "3b9c7b7c",
   "metadata": {
    "execution": {
     "iopub.execute_input": "2021-11-13T11:35:15.846482Z",
     "iopub.status.busy": "2021-11-13T11:35:15.845861Z",
     "iopub.status.idle": "2021-11-13T11:35:15.848945Z",
     "shell.execute_reply": "2021-11-13T11:35:15.848429Z"
    }
   },
   "outputs": [
    {
     "data": {
      "text/plain": [
       "val f : float -> float = <fun>\n"
      ]
     },
     "execution_count": 13,
     "metadata": {},
     "output_type": "execute_result"
    }
   ],
   "source": [
    "let f = fun x -> 2.0*.x**0.5"
   ]
  },
  {
   "cell_type": "markdown",
   "id": "de7c1b16",
   "metadata": {},
   "source": [
    "**Remarque** : On peut aussi définir une fonction avec `function x -> ...` mais `fun` est légèrement plus simple d'utilisation."
   ]
  },
  {
   "cell_type": "markdown",
   "id": "38a7b6ed",
   "metadata": {},
   "source": [
    "## Fonctions de plusieurs variables"
   ]
  },
  {
   "cell_type": "markdown",
   "id": "03b0e9eb",
   "metadata": {},
   "source": [
    "Il est possible de définir des fonctions avec plusieurs paramètres, par exemple :"
   ]
  },
  {
   "cell_type": "code",
   "execution_count": 14,
   "id": "275f67ee",
   "metadata": {
    "execution": {
     "iopub.execute_input": "2021-11-13T11:35:15.851075Z",
     "iopub.status.busy": "2021-11-13T11:35:15.850551Z",
     "iopub.status.idle": "2021-11-13T11:35:15.853568Z",
     "shell.execute_reply": "2021-11-13T11:35:15.853061Z"
    },
    "lines_to_next_cell": 0,
    "tags": []
   },
   "outputs": [
    {
     "data": {
      "text/plain": [
       "val sum : int -> int -> int = <fun>\n"
      ]
     },
     "execution_count": 14,
     "metadata": {},
     "output_type": "execute_result"
    }
   ],
   "source": [
    "let sum x y = x + y"
   ]
  },
  {
   "cell_type": "code",
   "execution_count": 15,
   "id": "f4dba38e",
   "metadata": {
    "execution": {
     "iopub.execute_input": "2021-11-13T11:35:15.855489Z",
     "iopub.status.busy": "2021-11-13T11:35:15.854939Z",
     "iopub.status.idle": "2021-11-13T11:35:15.857366Z",
     "shell.execute_reply": "2021-11-13T11:35:15.857871Z"
    },
    "tags": []
   },
   "outputs": [
    {
     "data": {
      "text/plain": [
       "- : int = 7\n"
      ]
     },
     "execution_count": 15,
     "metadata": {},
     "output_type": "execute_result"
    }
   ],
   "source": [
    "sum 3 4 (* renvoie 3 + 4 *)"
   ]
  },
  {
   "cell_type": "markdown",
   "id": "7b8aaea1",
   "metadata": {},
   "source": [
    "Le type de `sum` est `int -> int -> int`, ce qui peut paraître étrange. C'est équivalent à `int -> (int -> int)`, ce qui signifie que `sum` prend en entier en argument et renvoie une valeur de type `int -> int` (c'est à dire une fonction).  \n",
    "En effet :"
   ]
  },
  {
   "cell_type": "code",
   "execution_count": 16,
   "id": "6345d981",
   "metadata": {
    "execution": {
     "iopub.execute_input": "2021-11-13T11:35:15.859698Z",
     "iopub.status.busy": "2021-11-13T11:35:15.859147Z",
     "iopub.status.idle": "2021-11-13T11:35:15.863789Z",
     "shell.execute_reply": "2021-11-13T11:35:15.863237Z"
    },
    "tags": []
   },
   "outputs": [
    {
     "data": {
      "text/plain": [
       "- : int -> int = <fun>\n"
      ]
     },
     "execution_count": 16,
     "metadata": {},
     "output_type": "execute_result"
    }
   ],
   "source": [
    "sum 3"
   ]
  },
  {
   "cell_type": "markdown",
   "id": "f2bf64c9",
   "metadata": {},
   "source": [
    "`sum 3` est une fonction qui prend en argument un entier `y` et qui renvoie `3 + y`, ce qu'on peut vérifier :"
   ]
  },
  {
   "cell_type": "code",
   "execution_count": 17,
   "id": "08655cf6",
   "metadata": {
    "execution": {
     "iopub.execute_input": "2021-11-13T11:35:15.865820Z",
     "iopub.status.busy": "2021-11-13T11:35:15.865250Z",
     "iopub.status.idle": "2021-11-13T11:35:15.868628Z",
     "shell.execute_reply": "2021-11-13T11:35:15.868037Z"
    },
    "tags": []
   },
   "outputs": [
    {
     "data": {
      "text/plain": [
       "- : int = 7\n"
      ]
     },
     "execution_count": 17,
     "metadata": {},
     "output_type": "execute_result"
    }
   ],
   "source": [
    "let f = sum 3 in (* f est une fonction *)\n",
    "f 4 (* renvoie sum 3 4, c'est à dire 7 *)"
   ]
  },
  {
   "cell_type": "markdown",
   "id": "08c72a5b",
   "metadata": {},
   "source": [
    "En fait, OCaml transforme automatiquement une fonction de plusieurs variables en une suite de fonctions à une variable (c'est ce qu'on appelle la **curryfication**) :"
   ]
  },
  {
   "cell_type": "code",
   "execution_count": 18,
   "id": "bcaf6da1",
   "metadata": {
    "execution": {
     "iopub.execute_input": "2021-11-13T11:35:15.870605Z",
     "iopub.status.busy": "2021-11-13T11:35:15.869978Z",
     "iopub.status.idle": "2021-11-13T11:35:15.873212Z",
     "shell.execute_reply": "2021-11-13T11:35:15.872705Z"
    }
   },
   "outputs": [
    {
     "data": {
      "text/plain": [
       "val sum : int -> int -> int = <fun>\n"
      ]
     },
     "execution_count": 18,
     "metadata": {},
     "output_type": "execute_result"
    }
   ],
   "source": [
    "let sum = fun x -> (fun y -> x + y) (* OCaml transforme la définition de sum ci-dessus en celle-ci *)"
   ]
  },
  {
   "cell_type": "code",
   "execution_count": 19,
   "id": "8e73f979",
   "metadata": {
    "execution": {
     "iopub.execute_input": "2021-11-13T11:35:15.875220Z",
     "iopub.status.busy": "2021-11-13T11:35:15.874643Z",
     "iopub.status.idle": "2021-11-13T11:35:15.877562Z",
     "shell.execute_reply": "2021-11-13T11:35:15.877049Z"
    }
   },
   "outputs": [
    {
     "data": {
      "text/plain": [
       "- : int = 5\n"
      ]
     },
     "execution_count": 19,
     "metadata": {},
     "output_type": "execute_result"
    }
   ],
   "source": [
    "(sum 2) 3  (* le calcul effectué par OCaml lorsqu'on écrit sum 2 3 *)"
   ]
  },
  {
   "cell_type": "markdown",
   "id": "a7fb2b92",
   "metadata": {},
   "source": [
    "La possibilité d'appliquer une fonction seulement sur certains arguments s'appelle l'**application partielle** de fonction. C'est un des avantages d'OCaml par rapport à Python.  "
   ]
  },
  {
   "cell_type": "markdown",
   "id": "c6554edc",
   "metadata": {},
   "source": [
    "De la même façon, une fonction OCaml à 3 arguments sera de type `... -> ... -> ... -> ...`."
   ]
  },
  {
   "cell_type": "markdown",
   "id": "f5780c8a",
   "metadata": {},
   "source": [
    "Une fonction peut aussi avoir aucune valeur en entrée. Dans ce cas, on lui donne l'argument `()` (de type unit). C'est le cas par exemple de `print_newline`, qui saute une ligne : "
   ]
  },
  {
   "cell_type": "code",
   "execution_count": 20,
   "id": "11cdf347",
   "metadata": {
    "execution": {
     "iopub.execute_input": "2021-11-13T11:35:15.879677Z",
     "iopub.status.busy": "2021-11-13T11:35:15.879028Z",
     "iopub.status.idle": "2021-11-13T11:35:15.884174Z",
     "shell.execute_reply": "2021-11-13T11:35:15.882872Z"
    }
   },
   "outputs": [
    {
     "name": "stdout",
     "output_type": "stream",
     "text": [
      "0\n",
      "1\n"
     ]
    },
    {
     "data": {
      "text/plain": [
       "- : unit = ()\n"
      ]
     },
     "execution_count": 20,
     "metadata": {},
     "output_type": "execute_result"
    }
   ],
   "source": [
    "print_int 0;\n",
    "print_newline ();\n",
    "print_int 1;\n",
    "print_newline ();"
   ]
  },
  {
   "cell_type": "markdown",
   "id": "fb22b145",
   "metadata": {},
   "source": [
    "## Polymorphisme"
   ]
  },
  {
   "cell_type": "markdown",
   "id": "4ce7dd48",
   "metadata": {},
   "source": [
    "Reprenons notre 1er exemple de fonction :"
   ]
  },
  {
   "cell_type": "code",
   "execution_count": 21,
   "id": "e1a8f9ac",
   "metadata": {
    "execution": {
     "iopub.execute_input": "2021-11-13T11:35:15.886332Z",
     "iopub.status.busy": "2021-11-13T11:35:15.885742Z",
     "iopub.status.idle": "2021-11-13T11:35:15.888956Z",
     "shell.execute_reply": "2021-11-13T11:35:15.888459Z"
    }
   },
   "outputs": [
    {
     "data": {
      "text/plain": [
       "val f : int -> int = <fun>\n"
      ]
     },
     "execution_count": 21,
     "metadata": {},
     "output_type": "execute_result"
    }
   ],
   "source": [
    "let f x = 2*x"
   ]
  },
  {
   "cell_type": "markdown",
   "id": "4e6500bb",
   "metadata": {},
   "source": [
    "OCaml sait que l'argument `x` de `f` est un `int` car on utilise l'opérateur `*` qui ne s'utilise que sur des entiers. Mais dans certaines fonctions, il n'y a pas de contrainte de type :"
   ]
  },
  {
   "cell_type": "code",
   "execution_count": 22,
   "id": "f3ffa892",
   "metadata": {
    "execution": {
     "iopub.execute_input": "2021-11-13T11:35:15.891100Z",
     "iopub.status.busy": "2021-11-13T11:35:15.890458Z",
     "iopub.status.idle": "2021-11-13T11:35:15.892532Z",
     "shell.execute_reply": "2021-11-13T11:35:15.893015Z"
    }
   },
   "outputs": [
    {
     "data": {
      "text/plain": [
       "val id : 'a -> 'a = <fun>\n"
      ]
     },
     "execution_count": 22,
     "metadata": {},
     "output_type": "execute_result"
    }
   ],
   "source": [
    "let id x = x"
   ]
  },
  {
   "cell_type": "markdown",
   "id": "c8c3fcab",
   "metadata": {},
   "source": [
    "Cette fonction `id` (pour identité) renvoie son argument sans le modifier. Comme aucune opération n'est appliquée sur `x`, il n'y a pas de contrainte sur son type. OCaml utilise alors `'a` pour désigner le type quelconque de `x`.  \n",
    "Notons que le type de retour de `id` est `'a` également : OCaml nous dit que `id` renvoie une valeur du même type que l'argument."
   ]
  },
  {
   "cell_type": "markdown",
   "id": "75eb59af",
   "metadata": {
    "tags": [
     "exo"
    ]
   },
   "source": [
    "**Exercice** : donner le type des fonctions suivantes  \n",
    "```ocaml\n",
    " let f x = 42\n",
    "```\n",
    "```ocaml\n",
    " let f x y = y\n",
    "```\n",
    "```ocaml\n",
    " let g x y f = x + f y\n",
    " ```"
   ]
  },
  {
   "cell_type": "code",
   "execution_count": 23,
   "id": "bbc28e0b",
   "metadata": {
    "execution": {
     "iopub.execute_input": "2021-11-13T11:35:15.895073Z",
     "iopub.status.busy": "2021-11-13T11:35:15.894504Z",
     "iopub.status.idle": "2021-11-13T11:35:15.896749Z",
     "shell.execute_reply": "2021-11-13T11:35:15.897317Z"
    },
    "tags": [
     "cor"
    ]
   },
   "outputs": [
    {
     "data": {
      "text/plain": [
       "val f : 'a -> int = <fun>\n"
      ]
     },
     "execution_count": 23,
     "metadata": {},
     "output_type": "execute_result"
    }
   ],
   "source": [
    "let f x = 42;; \n",
    "(* x est quelconque ('a) et le type de retour est int *)\n",
    "(* donc f est de type 'a -> int *)"
   ]
  },
  {
   "cell_type": "code",
   "execution_count": 24,
   "id": "3a459b68",
   "metadata": {
    "execution": {
     "iopub.execute_input": "2021-11-13T11:35:15.899985Z",
     "iopub.status.busy": "2021-11-13T11:35:15.898963Z",
     "iopub.status.idle": "2021-11-13T11:35:15.904491Z",
     "shell.execute_reply": "2021-11-13T11:35:15.903979Z"
    }
   },
   "outputs": [
    {
     "data": {
      "text/plain": [
       "val f : 'a -> 'b -> 'b = <fun>\n"
      ]
     },
     "execution_count": 24,
     "metadata": {},
     "output_type": "execute_result"
    }
   ],
   "source": [
    "let f x y = y;; \n",
    "(* x est quelconque ('a), y aussi ('b) mais le type de retour est le même que y ('b) *)\n",
    "(* donc f est de type 'a -> 'b -> 'b *)"
   ]
  },
  {
   "cell_type": "code",
   "execution_count": 25,
   "id": "fc0a3756",
   "metadata": {
    "execution": {
     "iopub.execute_input": "2021-11-13T11:35:15.906756Z",
     "iopub.status.busy": "2021-11-13T11:35:15.905998Z",
     "iopub.status.idle": "2021-11-13T11:35:15.912548Z",
     "shell.execute_reply": "2021-11-13T11:35:15.913010Z"
    }
   },
   "outputs": [
    {
     "data": {
      "text/plain": [
       "val g : int -> 'a -> ('a -> int) -> int = <fun>\n"
      ]
     },
     "execution_count": 25,
     "metadata": {},
     "output_type": "execute_result"
    }
   ],
   "source": [
    "let g x y f = x + f y;; \n",
    "(* x est un int, à cause du + *)\n",
    "(* y est quelconque ('a) *)\n",
    "(* f est une fonction qui prend un y (de type 'a) et renvoie un int, à cause du + *)\n",
    "(* donc f est de type int -> 'a -> ()*)"
   ]
  },
  {
   "cell_type": "markdown",
   "id": "6c56392b",
   "metadata": {},
   "source": [
    "## Fonction comme argument\n",
    "\n",
    "Il est possible d'utiliser une fonction en argument d'une autre fonction. Par exemple, la fonction suivante évalue une autre fonction en la valeur 0 :"
   ]
  },
  {
   "cell_type": "code",
   "execution_count": 26,
   "id": "485e3c77",
   "metadata": {
    "execution": {
     "iopub.execute_input": "2021-11-13T11:35:15.916402Z",
     "iopub.status.busy": "2021-11-13T11:35:15.915573Z",
     "iopub.status.idle": "2021-11-13T11:35:15.918343Z",
     "shell.execute_reply": "2021-11-13T11:35:15.916925Z"
    }
   },
   "outputs": [
    {
     "data": {
      "text/plain": [
       "val eval : (int -> 'a) -> 'a = <fun>\n"
      ]
     },
     "execution_count": 26,
     "metadata": {},
     "output_type": "execute_result"
    }
   ],
   "source": [
    "let eval f =\n",
    "f 0"
   ]
  },
  {
   "cell_type": "code",
   "execution_count": 27,
   "id": "0e70e232",
   "metadata": {
    "execution": {
     "iopub.execute_input": "2021-11-13T11:35:15.920367Z",
     "iopub.status.busy": "2021-11-13T11:35:15.919771Z",
     "iopub.status.idle": "2021-11-13T11:35:15.923377Z",
     "shell.execute_reply": "2021-11-13T11:35:15.922893Z"
    }
   },
   "outputs": [
    {
     "data": {
      "text/plain": [
       "- : int = 7\n"
      ]
     },
     "execution_count": 27,
     "metadata": {},
     "output_type": "execute_result"
    }
   ],
   "source": [
    "let f x = 3*x + 7 in\n",
    "eval f"
   ]
  },
  {
   "cell_type": "markdown",
   "id": "af4b53a0",
   "metadata": {
    "tags": [
     "exo"
    ]
   },
   "source": [
    "**Exercice** : \n",
    "1. On définit une fonction `h` :\n",
    "```ocaml\n",
    "let h f g x = f (g x)\n",
    "```\n",
    "Donner la valeur de l'expression :\n",
    "```ocaml\n",
    "h (fun x -> x*x) (fun x -> x + 1) 3\n",
    "```\n",
    "2. Donner le type de `h`.\n",
    "3. À quoi sert `h`? Comment cette opération s'appelle-t-elle mathématiquement?"
   ]
  },
  {
   "cell_type": "code",
   "execution_count": 28,
   "id": "52377324",
   "metadata": {
    "execution": {
     "iopub.execute_input": "2021-11-13T11:35:15.927313Z",
     "iopub.status.busy": "2021-11-13T11:35:15.926679Z",
     "iopub.status.idle": "2021-11-13T11:35:15.929439Z",
     "shell.execute_reply": "2021-11-13T11:35:15.929897Z"
    },
    "tags": [
     "cor"
    ]
   },
   "outputs": [
    {
     "data": {
      "text/plain": [
       "val h : ('a -> 'b) -> ('c -> 'a) -> 'c -> 'b = <fun>\n"
      ]
     },
     "execution_count": 28,
     "metadata": {},
     "output_type": "execute_result"
    },
    {
     "data": {
      "text/plain": [
       "- : int = 16\n"
      ]
     },
     "execution_count": 28,
     "metadata": {},
     "output_type": "execute_result"
    }
   ],
   "source": [
    "(* 1. et 2. *)\n",
    "let h f g x = f (g x);; \n",
    "h (fun x -> x*x) (fun x -> x + 1) 3;;"
   ]
  },
  {
   "cell_type": "markdown",
   "id": "aaa296b4",
   "metadata": {
    "tags": [
     "cor"
    ]
   },
   "source": [
    "3. `h` compose deux fonctions `f` et `g` : `h f g` est une fonction équivalent à $f \\circ g$."
   ]
  },
  {
   "cell_type": "markdown",
   "id": "3e086b71",
   "metadata": {
    "tags": []
   },
   "source": [
    "## Variable locale à une fonction"
   ]
  },
  {
   "cell_type": "markdown",
   "id": "001e038a",
   "metadata": {},
   "source": [
    "Il est possible de définir une variable dans une fonction :"
   ]
  },
  {
   "cell_type": "code",
   "execution_count": 29,
   "id": "88867d95",
   "metadata": {
    "execution": {
     "iopub.execute_input": "2021-11-13T11:35:15.932844Z",
     "iopub.status.busy": "2021-11-13T11:35:15.932279Z",
     "iopub.status.idle": "2021-11-13T11:35:15.937676Z",
     "shell.execute_reply": "2021-11-13T11:35:15.938123Z"
    },
    "tags": []
   },
   "outputs": [
    {
     "data": {
      "text/plain": [
       "val pow4 : int -> int = <fun>\n"
      ]
     },
     "execution_count": 29,
     "metadata": {},
     "output_type": "execute_result"
    }
   ],
   "source": [
    "let pow4 x = (* je saute une ligne ici pour plus de lisibilité *)\n",
    "    let y = x*x in  (* y est utilisable seulement dans pow4 *)\n",
    "    y*y (* renvoie x puissance 4 *)"
   ]
  },
  {
   "cell_type": "code",
   "execution_count": 30,
   "id": "75c4cf8e",
   "metadata": {
    "execution": {
     "iopub.execute_input": "2021-11-13T11:35:15.940769Z",
     "iopub.status.busy": "2021-11-13T11:35:15.940147Z",
     "iopub.status.idle": "2021-11-13T11:35:15.943062Z",
     "shell.execute_reply": "2021-11-13T11:35:15.942558Z"
    },
    "tags": []
   },
   "outputs": [
    {
     "data": {
      "text/plain": [
       "- : int = 16\n"
      ]
     },
     "execution_count": 30,
     "metadata": {},
     "output_type": "execute_result"
    }
   ],
   "source": [
    "pow4 2 (* test de notre fonction *)"
   ]
  },
  {
   "cell_type": "markdown",
   "id": "0b1b7b11",
   "metadata": {
    "tags": []
   },
   "source": [
    "On peut aussi définir une fonction à l'intérieur d'une fonction. Par exemple, on peut définir $f: x \\longmapsto 2x + \\sqrt{2(x + 1)}$ en utilisant une fonction locale $g : y \\longmapsto 2y$ :"
   ]
  },
  {
   "cell_type": "code",
   "execution_count": 31,
   "id": "02f65cae",
   "metadata": {
    "execution": {
     "iopub.execute_input": "2021-11-13T11:35:15.945242Z",
     "iopub.status.busy": "2021-11-13T11:35:15.944631Z",
     "iopub.status.idle": "2021-11-13T11:35:15.947947Z",
     "shell.execute_reply": "2021-11-13T11:35:15.948390Z"
    }
   },
   "outputs": [
    {
     "data": {
      "text/plain": [
       "val f : float -> float = <fun>\n"
      ]
     },
     "execution_count": 31,
     "metadata": {},
     "output_type": "execute_result"
    }
   ],
   "source": [
    "let f x = \n",
    "    let g y = 2.*.y in (* g n'est utilisable que dans f *)\n",
    "    g x +. (g (x +. 1.))**0.5"
   ]
  },
  {
   "cell_type": "code",
   "execution_count": 32,
   "id": "209f0917",
   "metadata": {
    "execution": {
     "iopub.execute_input": "2021-11-13T11:35:15.951199Z",
     "iopub.status.busy": "2021-11-13T11:35:15.950522Z",
     "iopub.status.idle": "2021-11-13T11:35:15.952867Z",
     "shell.execute_reply": "2021-11-13T11:35:15.951714Z"
    }
   },
   "outputs": [
    {
     "data": {
      "text/plain": [
       "- : float = 4.\n"
      ]
     },
     "execution_count": 32,
     "metadata": {},
     "output_type": "execute_result"
    }
   ],
   "source": [
    "f 1."
   ]
  },
  {
   "cell_type": "markdown",
   "id": "d5f3a80e",
   "metadata": {
    "tags": [
     "exo"
    ]
   },
   "source": [
    "**Exercice** : Écrire une fonction `swap` qui échange les valeurs de 2 références en argument.  \n",
    "`swap` doit être de type `'a ref -> 'a ref -> unit`, ce qui signifie que `swap` a deux références en argument, sur des valeurs de même type `'a`, et ne renvoie pas de valeur.  \n",
    "On rappelle les opérations sur les références :  \n",
    "- Définir une référence (locale) : `let a = ref 5 in ...`\n",
    "- Obtenir la valeur d'une référence : `!a`\n",
    "- Modifier une référence : `a := 7`  \n",
    "\n",
    "**Remarque importante** : Lorsque l'on modifie une référence (ou un autre objet impératif, comme un tableau) qui est l'argument d'une fonction, on la modifie aussi à l'extérieur de la fonction. C'est ce qu'on appelle un **passage par référence**.  "
   ]
  },
  {
   "cell_type": "code",
   "execution_count": 33,
   "id": "09ac9dda",
   "metadata": {
    "execution": {
     "iopub.execute_input": "2021-11-13T11:35:15.956749Z",
     "iopub.status.busy": "2021-11-13T11:35:15.956124Z",
     "iopub.status.idle": "2021-11-13T11:35:15.960857Z",
     "shell.execute_reply": "2021-11-13T11:35:15.960345Z"
    },
    "tags": [
     "cor"
    ]
   },
   "outputs": [
    {
     "data": {
      "text/plain": [
       "val swap : 'a ref -> 'a ref -> unit = <fun>\n"
      ]
     },
     "execution_count": 33,
     "metadata": {},
     "output_type": "execute_result"
    },
    {
     "data": {
      "text/plain": [
       "- : int ref * int ref = ({contents = 2}, {contents = 1})\n"
      ]
     },
     "execution_count": 33,
     "metadata": {},
     "output_type": "execute_result"
    }
   ],
   "source": [
    "let swap x y =\n",
    "    let tmp = !y in\n",
    "    y := !x;\n",
    "    x := tmp;;\n",
    "\n",
    "let x = ref 1 in\n",
    "let y = ref 2 in\n",
    "swap x y;\n",
    "x, y;;"
   ]
  }
 ],
 "metadata": {
  "kernelspec": {
   "display_name": "OCaml default",
   "language": "OCaml",
   "name": "ocaml-jupyter"
  },
  "language_info": {
   "codemirror_mode": "text/x-ocaml",
   "file_extension": ".ml",
   "mimetype": "text/x-ocaml",
   "name": "OCaml",
   "nbconverter_exporter": null,
   "pygments_lexer": "OCaml",
   "version": "4.08.1"
  },
  "title": "Fonctions"
 },
 "nbformat": 4,
 "nbformat_minor": 5
}

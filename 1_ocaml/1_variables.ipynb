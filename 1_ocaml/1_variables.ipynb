{
 "cells": [
  {
   "cell_type": "markdown",
   "id": "e3c4f215",
   "metadata": {},
   "source": [
    "# <center><a href='https://mybinder.org/v2/gh/fortierq/binder-mp2i/main?urlpath=git-pull%3Frepo%3Dhttps%253A%252F%252Fgithub.com%252Fmp2i-fsm%252Fmp2i-2021%26urlpath%3Dlab%252Ftree%252Fmp2i-2021%252F1_ocaml%252F1_variables.ipynb%26branch%3Dmain'>Variables                                   <img src=https://mybinder.org/badge.svg></a></center>\n",
    "\n",
    "## Définition d'une variable\n",
    "\n",
    "Une variable possède 3 propriétés:  \n",
    "- un **nom** (exemple : `x`)  \n",
    "- une **valeur** (exemple : 42)  \n",
    "- un **type** (exemple : entier)\n",
    "\n",
    "En OCaml, on définit une variable de la façon suivante :\n",
    "```ocaml\n",
    "let variable = valeur\n",
    "```\n",
    "\n",
    "Par exemple, pour définir une variable `x` valant 42 :"
   ]
  },
  {
   "cell_type": "code",
   "execution_count": 1,
   "id": "7fed9b62",
   "metadata": {
    "execution": {
     "iopub.execute_input": "2021-11-16T19:36:55.562234Z",
     "iopub.status.busy": "2021-11-16T19:36:55.561622Z",
     "iopub.status.idle": "2021-11-16T19:36:55.564053Z",
     "shell.execute_reply": "2021-11-16T19:36:55.562683Z"
    },
    "tags": []
   },
   "outputs": [
    {
     "data": {
      "text/plain": [
       "val x : int = 42\n"
      ]
     },
     "execution_count": 1,
     "metadata": {},
     "output_type": "execute_result"
    }
   ],
   "source": [
    "let x = 42"
   ]
  },
  {
   "cell_type": "markdown",
   "id": "a5f42276",
   "metadata": {},
   "source": [
    "OCaml nous répond que `x` a pour valeur 42 et est de type `int` (*integer*, c'est à dire entier).\n",
    "La variable `x` est ici définie globalement, c'est à dire accessible partout dans ce notebook.\n",
    "\n",
    "On peut alors faire des calculs avec la valeur de `x` :"
   ]
  },
  {
   "cell_type": "code",
   "execution_count": 2,
   "id": "0ec92195",
   "metadata": {
    "execution": {
     "iopub.execute_input": "2021-11-16T19:36:55.566216Z",
     "iopub.status.busy": "2021-11-16T19:36:55.565716Z",
     "iopub.status.idle": "2021-11-16T19:36:55.570738Z",
     "shell.execute_reply": "2021-11-16T19:36:55.571439Z"
    },
    "tags": []
   },
   "outputs": [
    {
     "data": {
      "text/plain": [
       "- : int = 124\n"
      ]
     },
     "execution_count": 2,
     "metadata": {},
     "output_type": "execute_result"
    }
   ],
   "source": [
    "3*x - 2 (* OCaml remplace x par 42 et fait le calcul *)"
   ]
  },
  {
   "cell_type": "markdown",
   "id": "94f393a8",
   "metadata": {},
   "source": [
    "Il est possible d'avoir une expression (un calcul) à droite d'une définition :"
   ]
  },
  {
   "cell_type": "code",
   "execution_count": 3,
   "id": "f74a6285",
   "metadata": {
    "execution": {
     "iopub.execute_input": "2021-11-16T19:36:55.573343Z",
     "iopub.status.busy": "2021-11-16T19:36:55.572821Z",
     "iopub.status.idle": "2021-11-16T19:36:55.575237Z",
     "shell.execute_reply": "2021-11-16T19:36:55.575619Z"
    },
    "tags": []
   },
   "outputs": [
    {
     "data": {
      "text/plain": [
       "val a : int = 10\n"
      ]
     },
     "execution_count": 3,
     "metadata": {},
     "output_type": "execute_result"
    }
   ],
   "source": [
    "let a = 1 + 2 + 3 + 4 (* la valeur à droite de = est calculée puis mise dans a *)"
   ]
  },
  {
   "cell_type": "markdown",
   "id": "b0d0089d",
   "metadata": {
    "tags": [
     "exo"
    ]
   },
   "source": [
    "**Exercice** : définissez une variable $a$ égale à 752. Puis définissez une variable $b$ égale à $54a$.    \n",
    "Rappel : vous pouvez appuyer sur la touche B pour faire apparaître une case de code et répondre dedans. Ici vous pouvez utiliser deux cases, ou séparer les deux instructions avec ` ;;`."
   ]
  },
  {
   "cell_type": "code",
   "execution_count": 4,
   "id": "18ca386b",
   "metadata": {
    "execution": {
     "iopub.execute_input": "2021-11-16T19:36:55.577533Z",
     "iopub.status.busy": "2021-11-16T19:36:55.577044Z",
     "iopub.status.idle": "2021-11-16T19:36:55.579805Z",
     "shell.execute_reply": "2021-11-16T19:36:55.580185Z"
    },
    "tags": [
     "cor"
    ]
   },
   "outputs": [
    {
     "data": {
      "text/plain": [
       "val a : int = 752\n"
      ]
     },
     "execution_count": 4,
     "metadata": {},
     "output_type": "execute_result"
    }
   ],
   "source": [
    "let a = 752;;\n",
    "let b = 54*a;;"
   ]
  },
  {
   "cell_type": "markdown",
   "id": "612ac980",
   "metadata": {},
   "source": [
    "## Variables locales\n",
    "\n",
    "Il est possible de définir une **variable locale** en utilisant la forme `let y = ... in ...`  \n",
    "`y` existe est alors seulement dans le in (`...`)"
   ]
  },
  {
   "cell_type": "code",
   "execution_count": 5,
   "id": "5a3ff940",
   "metadata": {
    "execution": {
     "iopub.execute_input": "2021-11-16T19:36:55.582247Z",
     "iopub.status.busy": "2021-11-16T19:36:55.581782Z",
     "iopub.status.idle": "2021-11-16T19:36:55.584135Z",
     "shell.execute_reply": "2021-11-16T19:36:55.583743Z"
    },
    "tags": []
   },
   "outputs": [
    {
     "data": {
      "text/plain": [
       "- : int = -1\n"
      ]
     },
     "execution_count": 5,
     "metadata": {},
     "output_type": "execute_result"
    }
   ],
   "source": [
    "let y = -1 in y (* y est accessible dans le in *)"
   ]
  },
  {
   "cell_type": "code",
   "execution_count": 6,
   "id": "ab812c3c",
   "metadata": {
    "execution": {
     "iopub.execute_input": "2021-11-16T19:36:55.585977Z",
     "iopub.status.busy": "2021-11-16T19:36:55.585506Z",
     "iopub.status.idle": "2021-11-16T19:36:55.587519Z",
     "shell.execute_reply": "2021-11-16T19:36:55.587881Z"
    },
    "tags": []
   },
   "outputs": [
    {
     "ename": "error",
     "evalue": "compile_error",
     "output_type": "error",
     "traceback": [
      "File \"[6]\", line 1, characters 0-1:\n1 | y (* utiliser y ici donne une erreur  *)\n    ^\nError: Unbound value y\n"
     ]
    }
   ],
   "source": [
    "y (* utiliser y ici donne une erreur  *)"
   ]
  },
  {
   "cell_type": "markdown",
   "id": "1a950172",
   "metadata": {
    "tags": [
     "exo"
    ]
   },
   "source": [
    "**Exercice** : en utilisant `let ... in ... `, définissez une variable $a$ égale à $752$, puis définissez une variable $b$ égale à $54a$.    "
   ]
  },
  {
   "cell_type": "code",
   "execution_count": 7,
   "id": "8a026e35",
   "metadata": {
    "execution": {
     "iopub.execute_input": "2021-11-16T19:36:55.589747Z",
     "iopub.status.busy": "2021-11-16T19:36:55.589272Z",
     "iopub.status.idle": "2021-11-16T19:36:55.591869Z",
     "shell.execute_reply": "2021-11-16T19:36:55.592248Z"
    },
    "tags": [
     "cor"
    ]
   },
   "outputs": [
    {
     "data": {
      "text/plain": [
       "- : int = 40608\n"
      ]
     },
     "execution_count": 7,
     "metadata": {},
     "output_type": "execute_result"
    }
   ],
   "source": [
    "let a = 752 in\n",
    "let b = 54*a in\n",
    "b"
   ]
  },
  {
   "cell_type": "markdown",
   "id": "20da4b93",
   "metadata": {},
   "source": [
    "**Remarque** Il est possible d'utiliser des parenthèses ou `begin ... end` pour délimiter le in :\n",
    "```ocaml\n",
    "let a = 3 in\n",
    "(\n",
    "...\n",
    ")\n",
    "```"
   ]
  },
  {
   "cell_type": "markdown",
   "id": "81db9503",
   "metadata": {
    "tags": []
   },
   "source": [
    "\n",
    "## Opérations numériques\n",
    "\n",
    "Nous avons déjà vu l'addition et la soustraction de 2 entiers. Il est aussi possible de multiplier :"
   ]
  },
  {
   "cell_type": "code",
   "execution_count": 8,
   "id": "3f67db40",
   "metadata": {
    "execution": {
     "iopub.execute_input": "2021-11-16T19:36:55.594186Z",
     "iopub.status.busy": "2021-11-16T19:36:55.593705Z",
     "iopub.status.idle": "2021-11-16T19:36:55.595833Z",
     "shell.execute_reply": "2021-11-16T19:36:55.596189Z"
    }
   },
   "outputs": [
    {
     "data": {
      "text/plain": [
       "- : int = 42\n"
      ]
     },
     "execution_count": 8,
     "metadata": {},
     "output_type": "execute_result"
    }
   ],
   "source": [
    "3 * 14"
   ]
  },
  {
   "cell_type": "markdown",
   "id": "2749b978",
   "metadata": {},
   "source": [
    "On peut effectuer la division **entière** (ou encore : [quotient de la division euclidienne](https://fr.wikipedia.org/wiki/Division_euclidienne)) de 2 entiers :"
   ]
  },
  {
   "cell_type": "code",
   "execution_count": 9,
   "id": "172f6110",
   "metadata": {
    "execution": {
     "iopub.execute_input": "2021-11-16T19:36:55.598025Z",
     "iopub.status.busy": "2021-11-16T19:36:55.597550Z",
     "iopub.status.idle": "2021-11-16T19:36:55.599722Z",
     "shell.execute_reply": "2021-11-16T19:36:55.600079Z"
    }
   },
   "outputs": [
    {
     "data": {
      "text/plain": [
       "- : int = 1\n"
      ]
     },
     "execution_count": 9,
     "metadata": {},
     "output_type": "execute_result"
    }
   ],
   "source": [
    "3 / 2 (* division entière *)"
   ]
  },
  {
   "cell_type": "markdown",
   "id": "74192100",
   "metadata": {},
   "source": [
    "La division entière de $x$ par $y$ est, par définition, la partie entière de $\\frac{x}{y}$.  \n",
    "Dans l'exemple ci-dessus, `3 / 2` est donc la partie entière de $\\frac{3}{2} = 1.5$, c'est à dire $1$. \n",
    "\n",
    "**Attention** : la division entière ` 3 / 2`  en OCaml correspond à ` 3 // 2 ` en Python."
   ]
  },
  {
   "cell_type": "markdown",
   "id": "7ec2f23d",
   "metadata": {},
   "source": [
    "En plus des entiers (`int`), OCaml permet de définir des nombres à virgules (`float`, pour flottant) :"
   ]
  },
  {
   "cell_type": "code",
   "execution_count": 10,
   "id": "a2f54775",
   "metadata": {
    "execution": {
     "iopub.execute_input": "2021-11-16T19:36:55.602000Z",
     "iopub.status.busy": "2021-11-16T19:36:55.601523Z",
     "iopub.status.idle": "2021-11-16T19:36:55.603489Z",
     "shell.execute_reply": "2021-11-16T19:36:55.603846Z"
    }
   },
   "outputs": [
    {
     "data": {
      "text/plain": [
       "val pi : float = 3.141592\n"
      ]
     },
     "execution_count": 10,
     "metadata": {},
     "output_type": "execute_result"
    }
   ],
   "source": [
    "let pi = 3.141592"
   ]
  },
  {
   "cell_type": "markdown",
   "id": "e06f0f42",
   "metadata": {},
   "source": [
    "Les opérateurs d'addition, soustraction, multiplication, division doivent s'utiliser avec un `.` (point). Par exemple :"
   ]
  },
  {
   "cell_type": "code",
   "execution_count": 11,
   "id": "4a932ecd",
   "metadata": {
    "execution": {
     "iopub.execute_input": "2021-11-16T19:36:55.605720Z",
     "iopub.status.busy": "2021-11-16T19:36:55.605232Z",
     "iopub.status.idle": "2021-11-16T19:36:55.607999Z",
     "shell.execute_reply": "2021-11-16T19:36:55.608389Z"
    }
   },
   "outputs": [
    {
     "data": {
      "text/plain": [
       "- : float = 5.759592\n"
      ]
     },
     "execution_count": 11,
     "metadata": {},
     "output_type": "execute_result"
    }
   ],
   "source": [
    "pi +. 2.618 (* noter le . après + *)"
   ]
  },
  {
   "cell_type": "markdown",
   "id": "a1197b4c",
   "metadata": {},
   "source": [
    "**Attention** : c'est le point (.) et non pas la virgule qui est utilisé pour les flottants."
   ]
  },
  {
   "cell_type": "markdown",
   "id": "cbdd9c19",
   "metadata": {},
   "source": [
    "Il est possible de calculer $x^y$, où $x$ et $y$ sont des **flottants** avec `**` :"
   ]
  },
  {
   "cell_type": "code",
   "execution_count": 12,
   "id": "caad3163",
   "metadata": {
    "execution": {
     "iopub.execute_input": "2021-11-16T19:36:55.610279Z",
     "iopub.status.busy": "2021-11-16T19:36:55.609804Z",
     "iopub.status.idle": "2021-11-16T19:36:55.614144Z",
     "shell.execute_reply": "2021-11-16T19:36:55.613696Z"
    }
   },
   "outputs": [
    {
     "data": {
      "text/plain": [
       "- : float = 23.0963461891915607\n"
      ]
     },
     "execution_count": 12,
     "metadata": {},
     "output_type": "execute_result"
    }
   ],
   "source": [
    "2.718 ** 3.14 (* x puissance y *)"
   ]
  },
  {
   "cell_type": "markdown",
   "id": "dad17b9e",
   "metadata": {},
   "source": [
    "Il n'est pas possible d'utiliser `**` sur des `int`. Par contre on peut utiliser 4.0 ou 4. au lieu de 4 pour avoir des flottants et utiliser `**` : "
   ]
  },
  {
   "cell_type": "code",
   "execution_count": 13,
   "id": "70a65a49",
   "metadata": {
    "execution": {
     "iopub.execute_input": "2021-11-16T19:36:55.616030Z",
     "iopub.status.busy": "2021-11-16T19:36:55.615555Z",
     "iopub.status.idle": "2021-11-16T19:36:55.617510Z",
     "shell.execute_reply": "2021-11-16T19:36:55.617864Z"
    }
   },
   "outputs": [
    {
     "data": {
      "text/plain": [
       "- : float = 1024.\n"
      ]
     },
     "execution_count": 13,
     "metadata": {},
     "output_type": "execute_result"
    }
   ],
   "source": [
    "2. ** 10."
   ]
  },
  {
   "cell_type": "markdown",
   "id": "8c428b83",
   "metadata": {
    "tags": [
     "exo"
    ]
   },
   "source": [
    "**Exercice**\n",
    "- Stocker la valeur $42^2$ dans une variable $a$, en utilisant *.\n",
    "- En déduire la valeur de $42^4$.\n",
    "- Calculer la valeur de $2^{10}$ en utilisant le moins de multiplications possibles."
   ]
  },
  {
   "cell_type": "code",
   "execution_count": 14,
   "id": "0a844b39",
   "metadata": {
    "execution": {
     "iopub.execute_input": "2021-11-16T19:36:55.619692Z",
     "iopub.status.busy": "2021-11-16T19:36:55.619210Z",
     "iopub.status.idle": "2021-11-16T19:36:55.623905Z",
     "shell.execute_reply": "2021-11-16T19:36:55.624292Z"
    },
    "tags": [
     "cor"
    ]
   },
   "outputs": [
    {
     "data": {
      "text/plain": [
       "val a : int = 1764\n"
      ]
     },
     "execution_count": 14,
     "metadata": {},
     "output_type": "execute_result"
    },
    {
     "data": {
      "text/plain": [
       "- : int = 3111696\n"
      ]
     },
     "execution_count": 14,
     "metadata": {},
     "output_type": "execute_result"
    },
    {
     "data": {
      "text/plain": [
       "- : int = 1024\n"
      ]
     },
     "execution_count": 14,
     "metadata": {},
     "output_type": "execute_result"
    }
   ],
   "source": [
    "(* 1. *) \n",
    "let a = 42*42;;\n",
    "\n",
    "\n",
    "(* 2. *)\n",
    "a*a;;\n",
    "\n",
    "(* 3. *)\n",
    "let deux_puiss_2 = 2*2 in\n",
    "let deux_puiss_4 = deux_puiss_2*deux_puiss_2 in\n",
    "let deux_puiss_8 = deux_puiss_4*deux_puiss_4 in\n",
    "deux_puiss_8 * deux_puiss_2;; (* calcul de 2 puissance 10 en 4 multiplications *)"
   ]
  },
  {
   "cell_type": "markdown",
   "id": "2ad27ca7",
   "metadata": {
    "tags": [
     "exo"
    ]
   },
   "source": [
    "**Exercice**\n",
    "\n",
    "1. Stocker dans 3 variables $a$, $b$, $c$ les valeurs 2, 5 et 3. On pourra utiliser let a, b, c = ..., ..., ... pour définir 3 variable simultanément. \n",
    "2. Stocker dans une variable $delta$ le discriminant de l'équation $ax^2 + bx + c = 0$.\n",
    "3. Calculer toutes les solutions de l'équation précédente."
   ]
  },
  {
   "cell_type": "code",
   "execution_count": 15,
   "id": "0460c09a",
   "metadata": {
    "execution": {
     "iopub.execute_input": "2021-11-16T19:36:55.626164Z",
     "iopub.status.busy": "2021-11-16T19:36:55.625687Z",
     "iopub.status.idle": "2021-11-16T19:36:55.634468Z",
     "shell.execute_reply": "2021-11-16T19:36:55.634863Z"
    },
    "tags": [
     "cor"
    ]
   },
   "outputs": [
    {
     "data": {
      "text/plain": [
       "val a : float = 2.\n",
       "val b : float = 6.\n",
       "val c : float = 3.\n"
      ]
     },
     "execution_count": 15,
     "metadata": {},
     "output_type": "execute_result"
    },
    {
     "data": {
      "text/plain": [
       "val delta : float = 12.\n"
      ]
     },
     "execution_count": 15,
     "metadata": {},
     "output_type": "execute_result"
    },
    {
     "data": {
      "text/plain": [
       "- : float = -2.36602540378443837\n"
      ]
     },
     "execution_count": 15,
     "metadata": {},
     "output_type": "execute_result"
    },
    {
     "data": {
      "text/plain": [
       "- : float = -0.633974596215561403\n"
      ]
     },
     "execution_count": 15,
     "metadata": {},
     "output_type": "execute_result"
    }
   ],
   "source": [
    "(* 1. *)\n",
    "let a, b, c = 2., 6., 3.;;\n",
    "\n",
    "(* 2. *)\n",
    "let delta = b**2. -. 4.*.a*.c;;\n",
    "\n",
    "(* 3. Le discriminant étant positif, il y a deux solutions égales à : *)\n",
    "(-.b -. sqrt delta)/.(2.*.a);;\n",
    "(-.b +. sqrt delta)/.(2.*.a);;"
   ]
  },
  {
   "cell_type": "markdown",
   "id": "8079f26e",
   "metadata": {},
   "source": [
    "Une autre opération importante est le **modulo** (ou : [reste de la division euclidienne](https://fr.wikipedia.org/wiki/Division_euclidienne)) de 2 entiers `a` et `b`, notée `a mod b` en OCaml. Mathématiquement, il s'agit de l'entier $r$ vérifiant :\n",
    "$$a = bq + r$$\n",
    "$$0 \\leq r < b$$\n",
    "\n",
    "($q$ est le quotient, égal à `a / b` en OCaml)  \n",
    "Cette opération `mod` sert notamment à tester la divisibilité : `a` est divisible par `b` si et seulement si `a mod b = 0`."
   ]
  },
  {
   "cell_type": "markdown",
   "id": "70096228",
   "metadata": {
    "tags": [
     "exo"
    ]
   },
   "source": [
    "**Exercice** : Est-ce que 527 est divisible par 17?"
   ]
  },
  {
   "cell_type": "code",
   "execution_count": 16,
   "id": "58b64a35",
   "metadata": {
    "execution": {
     "iopub.execute_input": "2021-11-16T19:36:55.636617Z",
     "iopub.status.busy": "2021-11-16T19:36:55.636140Z",
     "iopub.status.idle": "2021-11-16T19:36:55.638550Z",
     "shell.execute_reply": "2021-11-16T19:36:55.638134Z"
    },
    "tags": [
     "cor"
    ]
   },
   "outputs": [
    {
     "data": {
      "text/plain": [
       "- : int = 0\n"
      ]
     },
     "execution_count": 16,
     "metadata": {},
     "output_type": "execute_result"
    }
   ],
   "source": [
    "527 mod 17 (* c'est égal à 0 donc 17 divise bien 527 *)"
   ]
  },
  {
   "cell_type": "markdown",
   "id": "1ba31211",
   "metadata": {},
   "source": [
    "## Overflow\n",
    "\n",
    "L'ordinateur stocke toutes les variables dans la mémoire RAM de l'ordinateur, en binaire (suite de 0 et de 1). Comme la mémoire RAM sur un ordinateur n'est pas infinie, on ne peut pas stocker des nombres de taille arbitraire.  \n",
    "`max_int` est le plus grand entier que l'on peut stocker dans une variable :"
   ]
  },
  {
   "cell_type": "code",
   "execution_count": 17,
   "id": "f471d804",
   "metadata": {
    "execution": {
     "iopub.execute_input": "2021-11-16T19:36:55.640244Z",
     "iopub.status.busy": "2021-11-16T19:36:55.639762Z",
     "iopub.status.idle": "2021-11-16T19:36:55.641831Z",
     "shell.execute_reply": "2021-11-16T19:36:55.641431Z"
    }
   },
   "outputs": [
    {
     "data": {
      "text/plain": [
       "- : int = 4611686018427387903\n"
      ]
     },
     "execution_count": 17,
     "metadata": {},
     "output_type": "execute_result"
    }
   ],
   "source": [
    "max_int"
   ]
  },
  {
   "cell_type": "markdown",
   "id": "63b87427",
   "metadata": {},
   "source": [
    "Si on dépasse cet entier (ce qu'on appelle **integer overflow**), on tombe sur le plus petit entier représentable :"
   ]
  },
  {
   "cell_type": "code",
   "execution_count": 18,
   "id": "d5d436ba",
   "metadata": {
    "execution": {
     "iopub.execute_input": "2021-11-16T19:36:55.643492Z",
     "iopub.status.busy": "2021-11-16T19:36:55.643016Z",
     "iopub.status.idle": "2021-11-16T19:36:55.644953Z",
     "shell.execute_reply": "2021-11-16T19:36:55.645352Z"
    },
    "tags": []
   },
   "outputs": [
    {
     "data": {
      "text/plain": [
       "- : int = -4611686018427387904\n"
      ]
     },
     "execution_count": 18,
     "metadata": {},
     "output_type": "execute_result"
    }
   ],
   "source": [
    "max_int + 1"
   ]
  },
  {
   "cell_type": "markdown",
   "id": "5ed8a080",
   "metadata": {},
   "source": [
    "Le dépassement d'entier est une source fréquente de bug, qui a causé par exemple le [crash de la fusée Ariane 5](https://fr.wikipedia.org/wiki/Vol_501_d%27Ariane_5)."
   ]
  },
  {
   "cell_type": "markdown",
   "id": "f6a7aac1",
   "metadata": {},
   "source": [
    "Les float sont également limités :"
   ]
  },
  {
   "cell_type": "code",
   "execution_count": 19,
   "id": "e29a05c8",
   "metadata": {
    "execution": {
     "iopub.execute_input": "2021-11-16T19:36:55.647070Z",
     "iopub.status.busy": "2021-11-16T19:36:55.646602Z",
     "iopub.status.idle": "2021-11-16T19:36:55.648229Z",
     "shell.execute_reply": "2021-11-16T19:36:55.648606Z"
    }
   },
   "outputs": [
    {
     "data": {
      "text/plain": [
       "- : float = 1.79769313486231571e+308\n"
      ]
     },
     "execution_count": 19,
     "metadata": {},
     "output_type": "execute_result"
    }
   ],
   "source": [
    "max_float"
   ]
  },
  {
   "cell_type": "markdown",
   "id": "1283040c",
   "metadata": {},
   "source": [
    "Les flottants sont codées suivant la norme [IEEE754](https://fr.wikipedia.org/wiki/IEEE_754) sous la forme scientifique en utilisant 64 bits (sur un processeur 64 bits) dont 52 bits pour les chiffres après la virgule.  \n",
    "La précision des flottants est donc limitée : par exemple, on ne peut pas stocker $\\sqrt{2}$ ou $\\pi$ de façon exacte sur l'ordinateur puisqu'il s'agit de nombres irrationnels (c'est à dire avec une infinité de décimales, qui ne se répètent pas).  "
   ]
  },
  {
   "cell_type": "code",
   "execution_count": 20,
   "id": "6f576d6f",
   "metadata": {
    "execution": {
     "iopub.execute_input": "2021-11-16T19:36:55.650324Z",
     "iopub.status.busy": "2021-11-16T19:36:55.649850Z",
     "iopub.status.idle": "2021-11-16T19:36:55.651850Z",
     "shell.execute_reply": "2021-11-16T19:36:55.652205Z"
    }
   },
   "outputs": [
    {
     "data": {
      "text/plain": [
       "- : float = 1.41421356237309515\n"
      ]
     },
     "execution_count": 20,
     "metadata": {},
     "output_type": "execute_result"
    }
   ],
   "source": [
    "2.**0.5 (* seulement une partie des décimales est stockée *)"
   ]
  },
  {
   "cell_type": "code",
   "execution_count": 21,
   "id": "51600d5a",
   "metadata": {
    "execution": {
     "iopub.execute_input": "2021-11-16T19:36:55.653851Z",
     "iopub.status.busy": "2021-11-16T19:36:55.653400Z",
     "iopub.status.idle": "2021-11-16T19:36:55.655659Z",
     "shell.execute_reply": "2021-11-16T19:36:55.656000Z"
    }
   },
   "outputs": [
    {
     "data": {
      "text/plain": [
       "- : float = 2.00000000000000044\n"
      ]
     },
     "execution_count": 21,
     "metadata": {},
     "output_type": "execute_result"
    }
   ],
   "source": [
    "(2.**0.5)**2.0  (* ne donne pas 2.0 à cause des erreurs d'arrondis *)"
   ]
  },
  {
   "cell_type": "markdown",
   "id": "9a9e21b9",
   "metadata": {},
   "source": [
    "Le calcul de $\\sqrt 2$ par OCaml s'arrête à la 16ème décimale (ce qui correspond à 52 bits après la virgules, puisque $2^{-52}$ est du même ordre de grandeur que $10^{-16}$). Ce nombre $2^{-52}$ est appelé **epsilon machine**."
   ]
  },
  {
   "cell_type": "markdown",
   "id": "ae76d358",
   "metadata": {},
   "source": [
    "Autre exemple :"
   ]
  },
  {
   "cell_type": "code",
   "execution_count": 22,
   "id": "1fe0f4cc",
   "metadata": {
    "execution": {
     "iopub.execute_input": "2021-11-16T19:36:55.657678Z",
     "iopub.status.busy": "2021-11-16T19:36:55.657193Z",
     "iopub.status.idle": "2021-11-16T19:36:55.659641Z",
     "shell.execute_reply": "2021-11-16T19:36:55.659995Z"
    }
   },
   "outputs": [
    {
     "data": {
      "text/plain": [
       "- : float = 0.300000000000000044\n"
      ]
     },
     "execution_count": 22,
     "metadata": {},
     "output_type": "execute_result"
    }
   ],
   "source": [
    "0.1 +. 0.2  (* ne donne pas 0.3 *)"
   ]
  },
  {
   "cell_type": "markdown",
   "id": "070d940b",
   "metadata": {},
   "source": [
    "`O.1` n'étant pas représentable de façon exacte en base 2, il est tronqué et engendre des erreurs d'arrondis."
   ]
  },
  {
   "cell_type": "markdown",
   "id": "0724a9a4",
   "metadata": {},
   "source": [
    "La plus grande valeur de l'exposant est 1023 :"
   ]
  },
  {
   "cell_type": "code",
   "execution_count": 23,
   "id": "3ecf60fb",
   "metadata": {
    "execution": {
     "iopub.execute_input": "2021-11-16T19:36:55.661723Z",
     "iopub.status.busy": "2021-11-16T19:36:55.661268Z",
     "iopub.status.idle": "2021-11-16T19:36:55.663244Z",
     "shell.execute_reply": "2021-11-16T19:36:55.663601Z"
    }
   },
   "outputs": [
    {
     "data": {
      "text/plain": [
       "- : float = 8.98846567431158e+307\n"
      ]
     },
     "execution_count": 23,
     "metadata": {},
     "output_type": "execute_result"
    }
   ],
   "source": [
    "2.**1023."
   ]
  },
  {
   "cell_type": "code",
   "execution_count": 24,
   "id": "78cca369",
   "metadata": {
    "execution": {
     "iopub.execute_input": "2021-11-16T19:36:55.665260Z",
     "iopub.status.busy": "2021-11-16T19:36:55.664765Z",
     "iopub.status.idle": "2021-11-16T19:36:55.666736Z",
     "shell.execute_reply": "2021-11-16T19:36:55.667092Z"
    }
   },
   "outputs": [
    {
     "data": {
      "text/plain": [
       "- : float = infinity\n"
      ]
     },
     "execution_count": 24,
     "metadata": {},
     "output_type": "execute_result"
    }
   ],
   "source": [
    "2.**1024."
   ]
  },
  {
   "cell_type": "markdown",
   "id": "77796fbe",
   "metadata": {
    "tags": []
   },
   "source": [
    "## Unit\n",
    "\n",
    "Il existe une valeur spéciale `()` qui signifie \"rien\" (un peu comme le None de Python). Le type de `()` est `unit`. Par exemple, afficher un entier avec `print_int` fait un effet de bord (affichage sur l'écran) mais ne renvoie pas de valeur :"
   ]
  },
  {
   "cell_type": "code",
   "execution_count": 25,
   "id": "234ff81c",
   "metadata": {
    "execution": {
     "iopub.execute_input": "2021-11-16T19:36:55.668784Z",
     "iopub.status.busy": "2021-11-16T19:36:55.668299Z",
     "iopub.status.idle": "2021-11-16T19:36:55.670684Z",
     "shell.execute_reply": "2021-11-16T19:36:55.670294Z"
    }
   },
   "outputs": [
    {
     "data": {
      "text/plain": [
       "- : unit = ()\n"
      ]
     },
     "execution_count": 25,
     "metadata": {},
     "output_type": "execute_result"
    }
   ],
   "source": [
    "print_int 42"
   ]
  },
  {
   "cell_type": "markdown",
   "id": "d52d9b99",
   "metadata": {},
   "source": [
    "Pour que le résultat s'affiche, il faut revenir à la ligne avec `print_newline` :"
   ]
  },
  {
   "cell_type": "code",
   "execution_count": 26,
   "id": "2f57835c",
   "metadata": {
    "execution": {
     "iopub.execute_input": "2021-11-16T19:36:55.672345Z",
     "iopub.status.busy": "2021-11-16T19:36:55.671875Z",
     "iopub.status.idle": "2021-11-16T19:36:55.674304Z",
     "shell.execute_reply": "2021-11-16T19:36:55.673917Z"
    }
   },
   "outputs": [
    {
     "data": {
      "text/plain": [
       "- : unit = ()\n"
      ]
     },
     "execution_count": 26,
     "metadata": {},
     "output_type": "execute_result"
    }
   ],
   "source": [
    "print_newline ()"
   ]
  },
  {
   "cell_type": "markdown",
   "id": "5d3c2282",
   "metadata": {},
   "source": [
    "On verra dans un prochain cours le fonctionnement plus détaillé de `print_newline`."
   ]
  },
  {
   "cell_type": "markdown",
   "id": "2e6c3bd8",
   "metadata": {},
   "source": [
    "Il aurait été possible de combiner ces deux instructions avec `;`, qui permet d'exécuter consécutivement plusieurs instructions :"
   ]
  },
  {
   "cell_type": "code",
   "execution_count": 27,
   "id": "9e2d7b78",
   "metadata": {
    "execution": {
     "iopub.execute_input": "2021-11-16T19:36:55.676178Z",
     "iopub.status.busy": "2021-11-16T19:36:55.675727Z",
     "iopub.status.idle": "2021-11-16T19:36:55.678289Z",
     "shell.execute_reply": "2021-11-16T19:36:55.677891Z"
    }
   },
   "outputs": [
    {
     "data": {
      "text/plain": [
       "- : unit = ()\n"
      ]
     },
     "execution_count": 27,
     "metadata": {},
     "output_type": "execute_result"
    }
   ],
   "source": [
    "print_int 31;\n",
    "print_newline ()"
   ]
  },
  {
   "cell_type": "markdown",
   "id": "fc057ed8",
   "metadata": {},
   "source": [
    "`;;` est similaire à `;`, mais permet de séparer complètement plusieurs instructions, ce qui signifie que les variables définies avec `in` ne sont plus accessibles :"
   ]
  },
  {
   "cell_type": "code",
   "execution_count": 28,
   "id": "ed314788",
   "metadata": {
    "execution": {
     "iopub.execute_input": "2021-11-16T19:36:55.680127Z",
     "iopub.status.busy": "2021-11-16T19:36:55.679674Z",
     "iopub.status.idle": "2021-11-16T19:36:55.681682Z",
     "shell.execute_reply": "2021-11-16T19:36:55.682064Z"
    }
   },
   "outputs": [
    {
     "data": {
      "text/plain": [
       "- : int = 3\n"
      ]
     },
     "execution_count": 28,
     "metadata": {},
     "output_type": "execute_result"
    }
   ],
   "source": [
    "let a = 3 in\n",
    "print_int a;\n",
    "a (* a reste accessible : il est toujours dans le in *)"
   ]
  },
  {
   "cell_type": "code",
   "execution_count": 29,
   "id": "e95e91cc",
   "metadata": {
    "execution": {
     "iopub.execute_input": "2021-11-16T19:36:55.683713Z",
     "iopub.status.busy": "2021-11-16T19:36:55.683229Z",
     "iopub.status.idle": "2021-11-16T19:36:55.686382Z",
     "shell.execute_reply": "2021-11-16T19:36:55.685971Z"
    }
   },
   "outputs": [
    {
     "data": {
      "text/plain": [
       "- : unit = ()\n"
      ]
     },
     "execution_count": 29,
     "metadata": {},
     "output_type": "execute_result"
    },
    {
     "data": {
      "text/plain": [
       "- : float = 2.\n"
      ]
     },
     "execution_count": 29,
     "metadata": {},
     "output_type": "execute_result"
    }
   ],
   "source": [
    "let a = 3 in\n",
    "print_int a;;\n",
    "a;; (* a n'est pas accessible ici *)"
   ]
  },
  {
   "cell_type": "markdown",
   "id": "f4d27f1c",
   "metadata": {
    "tags": []
   },
   "source": [
    "## Présentation du code\n",
    "\n",
    "Contrairement à Python, l'indentation du code n'a pas d'importance en OCaml. En effet les espaces et sauts de lignes sont ignorés :"
   ]
  },
  {
   "cell_type": "code",
   "execution_count": 30,
   "id": "0c553990",
   "metadata": {
    "execution": {
     "iopub.execute_input": "2021-11-16T19:36:55.688035Z",
     "iopub.status.busy": "2021-11-16T19:36:55.687566Z",
     "iopub.status.idle": "2021-11-16T19:36:55.689216Z",
     "shell.execute_reply": "2021-11-16T19:36:55.689603Z"
    }
   },
   "outputs": [
    {
     "data": {
      "text/plain": [
       "val a : int = 6\n"
      ]
     },
     "execution_count": 30,
     "metadata": {},
     "output_type": "execute_result"
    }
   ],
   "source": [
    "let a \n",
    "  = \n",
    "      6 (* indentation n'importe comment *)"
   ]
  },
  {
   "cell_type": "markdown",
   "id": "413d0e53",
   "metadata": {},
   "source": [
    "On veillera toutefois à écrire du code aussi clair et lisible que possible."
   ]
  },
  {
   "cell_type": "markdown",
   "id": "87bee4d6",
   "metadata": {},
   "source": [
    "## Réferences\n",
    "\n",
    "Contrairement à ce que son nom l'indique, une variable définie comme on l'a fait jusqu'à maintenant est en fait... **constante** :"
   ]
  },
  {
   "cell_type": "code",
   "execution_count": 31,
   "id": "06a56aed",
   "metadata": {
    "execution": {
     "iopub.execute_input": "2021-11-16T19:36:55.691329Z",
     "iopub.status.busy": "2021-11-16T19:36:55.690855Z",
     "iopub.status.idle": "2021-11-16T19:36:55.695843Z",
     "shell.execute_reply": "2021-11-16T19:36:55.696227Z"
    }
   },
   "outputs": [
    {
     "data": {
      "text/plain": [
       "val x : int = 3\n"
      ]
     },
     "execution_count": 31,
     "metadata": {},
     "output_type": "execute_result"
    },
    {
     "data": {
      "text/plain": [
       "- : bool = false\n"
      ]
     },
     "execution_count": 31,
     "metadata": {},
     "output_type": "execute_result"
    },
    {
     "data": {
      "text/plain": [
       "- : int = 3\n"
      ]
     },
     "execution_count": 31,
     "metadata": {},
     "output_type": "execute_result"
    }
   ],
   "source": [
    "let x = 3;;\n",
    "x = 4;; (* ceci ne MODIFIE pas x, mais teste si la valeur de x est 4 *)\n",
    "x;; (* x vaut toujours 3 : il ne peut pas être modifié *)"
   ]
  },
  {
   "cell_type": "markdown",
   "id": "fa8836d8",
   "metadata": {},
   "source": [
    "Pour pouvoir modifier une variable, on peut utiliser une **référence**.\n",
    "Pour définir une référence on utilise `ref` :\n",
    "```ocaml\n",
    "let variable = ref valeur (* définition d'une référence *)\n",
    "```\n",
    "Pour modifier une référence on utilise `:=` :\n",
    "```ocaml\n",
    "variable := valeur (* modification d'une référence *)\n",
    "```\n",
    "Pour obtenir la valeur d'une référence on utilise `!` :\n",
    "```ocaml\n",
    "!variable (* donne la valeur d'une référence *)\n",
    "```"
   ]
  },
  {
   "cell_type": "code",
   "execution_count": 32,
   "id": "7a394fdb",
   "metadata": {
    "execution": {
     "iopub.execute_input": "2021-11-16T19:36:55.698105Z",
     "iopub.status.busy": "2021-11-16T19:36:55.697633Z",
     "iopub.status.idle": "2021-11-16T19:36:55.701495Z",
     "shell.execute_reply": "2021-11-16T19:36:55.701882Z"
    },
    "tags": []
   },
   "outputs": [
    {
     "data": {
      "text/plain": [
       "val x : int ref = {contents = 3}\n"
      ]
     },
     "execution_count": 32,
     "metadata": {},
     "output_type": "execute_result"
    },
    {
     "data": {
      "text/plain": [
       "- : unit = ()\n"
      ]
     },
     "execution_count": 32,
     "metadata": {},
     "output_type": "execute_result"
    }
   ],
   "source": [
    "let x = ref 3;; (* définie une variable x qui \"pointe\" vers un emplacement mémoire contenant 3 *)\n",
    "x := 4;; (* modifie la valeur pointé par x avec := *)\n",
    "!x;; (* la valeur a bien été modifiée *)"
   ]
  },
  {
   "cell_type": "markdown",
   "id": "9d3ebd83",
   "metadata": {},
   "source": [
    "On remarque que l'instruction `x := 4` a pour valeur de retour `()` : c'est un effet de bord qui modifie `x` mais ne renvoie pas de résultat."
   ]
  },
  {
   "cell_type": "markdown",
   "id": "03afd893",
   "metadata": {},
   "source": [
    "Une référence `a` stocke en fait une adresse mémoire. La valeur de `a` est stockée dans cette adresse mémoire (et c'est cette valeur qui est modifiée avec `a := ...`).  \n",
    "**Remarque** : on reverra cette idée avec les pointeurs en C.\n",
    "\n",
    "<center><img src=data:image/png;base64,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 width=300></center>"
   ]
  },
  {
   "cell_type": "markdown",
   "id": "d6ebb36d",
   "metadata": {
    "tags": [
     "exo"
    ]
   },
   "source": [
    "**Exercice** : Que valent `!x` et `!y` après avoir exécuté le bout de code suivant? À quoi sert ce code?\n",
    "```ocaml\n",
    "let x = ref 5;;\n",
    "let y = ref 27;;\n",
    "x := !x + !y;\n",
    "y := !x - !y;\n",
    "x := !x - !y\n",
    "```"
   ]
  },
  {
   "cell_type": "code",
   "execution_count": 33,
   "id": "54050e43",
   "metadata": {
    "execution": {
     "iopub.execute_input": "2021-11-16T19:36:55.703815Z",
     "iopub.status.busy": "2021-11-16T19:36:55.703358Z",
     "iopub.status.idle": "2021-11-16T19:36:55.710697Z",
     "shell.execute_reply": "2021-11-16T19:36:55.711083Z"
    },
    "tags": [
     "cor"
    ]
   },
   "outputs": [
    {
     "data": {
      "text/plain": [
       "- : int * int = (27, 5)\n"
      ]
     },
     "execution_count": 33,
     "metadata": {},
     "output_type": "execute_result"
    }
   ],
   "source": [
    "let x = ref 5 in\n",
    "let y = ref 27 in\n",
    "x := !x + !y;\n",
    "y := !x - !y;\n",
    "x := !x - !y;\n",
    "!x, !y;; (* x vaut 27, y vaut 5 : ce bout de code échange les valeurs de x et y *)"
   ]
  },
  {
   "cell_type": "markdown",
   "id": "0f347b46",
   "metadata": {},
   "source": [
    "**Remarque** : utiliser des `ref` rend souvent le code plus compliqué, on n'en utilisera que lorsque c'est nécessaire."
   ]
  }
 ],
 "metadata": {
  "kernelspec": {
   "display_name": "OCaml default",
   "language": "OCaml",
   "name": "ocaml-jupyter"
  },
  "language_info": {
   "codemirror_mode": "text/x-ocaml",
   "file_extension": ".ml",
   "mimetype": "text/x-ocaml",
   "name": "OCaml",
   "nbconverter_exporter": null,
   "pygments_lexer": "OCaml",
   "version": "4.08.1"
  },
  "title": "OCaml"
 },
 "nbformat": 4,
 "nbformat_minor": 5
}

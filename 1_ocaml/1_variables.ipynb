{
 "cells": [
  {
   "cell_type": "markdown",
   "id": "2b0f3615",
   "metadata": {},
   "source": [
    "# Variables"
   ]
  },
  {
   "cell_type": "markdown",
   "id": "71616b74",
   "metadata": {},
   "source": [
    "<img src=\"data:image/png;base64,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\" alt=\"DNN\"></p>\n"
   ]
  },
  {
   "cell_type": "markdown",
   "id": "e3c4f215",
   "metadata": {},
   "source": [
    "## Définition d'une variable\n",
    "\n",
    "Une variable possède 3 propriétés:  \n",
    "- un **nom** (exemple : `x`)  \n",
    "- une **valeur** (exemple : 42)  \n",
    "- un **type** (exemple : entier)\n",
    "\n",
    "En OCaml, on définit une variable de la façon suivante :\n",
    "```ocaml\n",
    "let variable = valeur\n",
    "```\n",
    "\n",
    "Par exemple, pour définir une variable `x` valant 42 :"
   ]
  },
  {
   "cell_type": "code",
   "execution_count": 1,
   "id": "7fed9b62",
   "metadata": {
    "execution": {
     "iopub.execute_input": "2021-10-31T15:22:04.227083Z",
     "iopub.status.busy": "2021-10-31T15:22:04.226460Z",
     "iopub.status.idle": "2021-10-31T15:22:04.229157Z",
     "shell.execute_reply": "2021-10-31T15:22:04.227591Z"
    },
    "tags": []
   },
   "outputs": [
    {
     "data": {
      "text/plain": [
       "val x : int = 42\n"
      ]
     },
     "execution_count": 1,
     "metadata": {},
     "output_type": "execute_result"
    }
   ],
   "source": [
    "let x = 42"
   ]
  },
  {
   "cell_type": "markdown",
   "id": "a5f42276",
   "metadata": {},
   "source": [
    "OCaml nous répond que `x` a pour valeur 42 et est de type `int` (*integer*, c'est à dire entier).\n",
    "La variable `x` est ici définie globalement, c'est à dire accessible partout dans ce notebook.\n",
    "\n",
    "On peut alors faire des calculs avec la valeur de `x` :"
   ]
  },
  {
   "cell_type": "code",
   "execution_count": 2,
   "id": "0ec92195",
   "metadata": {
    "execution": {
     "iopub.execute_input": "2021-10-31T15:22:04.231581Z",
     "iopub.status.busy": "2021-10-31T15:22:04.230863Z",
     "iopub.status.idle": "2021-10-31T15:22:04.235592Z",
     "shell.execute_reply": "2021-10-31T15:22:04.235116Z"
    },
    "tags": []
   },
   "outputs": [
    {
     "data": {
      "text/plain": [
       "- : int = 124\n"
      ]
     },
     "execution_count": 2,
     "metadata": {},
     "output_type": "execute_result"
    }
   ],
   "source": [
    "3*x - 2 (* OCaml remplace x par 42 et fait le calcul *)"
   ]
  },
  {
   "cell_type": "markdown",
   "id": "94f393a8",
   "metadata": {},
   "source": [
    "Il est possible d'avoir une expression (un calcul) à droite d'une définition :"
   ]
  },
  {
   "cell_type": "code",
   "execution_count": 3,
   "id": "f74a6285",
   "metadata": {
    "execution": {
     "iopub.execute_input": "2021-10-31T15:22:04.237889Z",
     "iopub.status.busy": "2021-10-31T15:22:04.237362Z",
     "iopub.status.idle": "2021-10-31T15:22:04.240533Z",
     "shell.execute_reply": "2021-10-31T15:22:04.240056Z"
    },
    "tags": []
   },
   "outputs": [
    {
     "data": {
      "text/plain": [
       "val a : int = 10\n"
      ]
     },
     "execution_count": 3,
     "metadata": {},
     "output_type": "execute_result"
    }
   ],
   "source": [
    "let a = 1 + 2 + 3 + 4 (* la valeur à droite de = est calculée puis mise dans a *)"
   ]
  },
  {
   "cell_type": "markdown",
   "id": "b0d0089d",
   "metadata": {},
   "source": [
    "**Exercice** : définissez une variable $a$ égale à 752. Puis définissez une variable $b$ égale à $54a$.    \n",
    "Rappel : vous pouvez appuyer sur la touche B pour faire apparaître une case de code et répondre dedans. Ici vous pouvez utiliser deux cases, ou séparer les deux instructions avec ` ;;`."
   ]
  },
  {
   "cell_type": "code",
   "execution_count": 4,
   "id": "18ca386b",
   "metadata": {
    "execution": {
     "iopub.execute_input": "2021-10-31T15:22:04.242413Z",
     "iopub.status.busy": "2021-10-31T15:22:04.241914Z",
     "iopub.status.idle": "2021-10-31T15:22:04.244671Z",
     "shell.execute_reply": "2021-10-31T15:22:04.246299Z"
    },
    "tags": [
     "cor"
    ]
   },
   "outputs": [
    {
     "data": {
      "text/plain": [
       "val a : int = 752\n"
      ]
     },
     "execution_count": 4,
     "metadata": {},
     "output_type": "execute_result"
    }
   ],
   "source": [
    "let a = 752;;\n",
    "let b = 54*a;;"
   ]
  },
  {
   "cell_type": "markdown",
   "id": "612ac980",
   "metadata": {},
   "source": [
    "## Variables locales\n",
    "\n",
    "Il est possible de définir une **variable locale** en utilisant la forme `let y = ... in ...`  \n",
    "`y` existe est alors seulement dans le in (`...`)"
   ]
  },
  {
   "cell_type": "code",
   "execution_count": 5,
   "id": "5a3ff940",
   "metadata": {
    "execution": {
     "iopub.execute_input": "2021-10-31T15:22:04.248903Z",
     "iopub.status.busy": "2021-10-31T15:22:04.248339Z",
     "iopub.status.idle": "2021-10-31T15:22:04.252103Z",
     "shell.execute_reply": "2021-10-31T15:22:04.251566Z"
    },
    "tags": []
   },
   "outputs": [
    {
     "data": {
      "text/plain": [
       "- : int = -1\n"
      ]
     },
     "execution_count": 5,
     "metadata": {},
     "output_type": "execute_result"
    }
   ],
   "source": [
    "let y = -1 in y (* y est accessible dans le in *)"
   ]
  },
  {
   "cell_type": "code",
   "execution_count": 6,
   "id": "ab812c3c",
   "metadata": {
    "execution": {
     "iopub.execute_input": "2021-10-31T15:22:04.254669Z",
     "iopub.status.busy": "2021-10-31T15:22:04.254155Z",
     "iopub.status.idle": "2021-10-31T15:22:04.257254Z",
     "shell.execute_reply": "2021-10-31T15:22:04.257696Z"
    },
    "tags": []
   },
   "outputs": [
    {
     "ename": "error",
     "evalue": "compile_error",
     "output_type": "error",
     "traceback": [
      "File \"[6]\", line 1, characters 0-1:\n1 | y (* utiliser y ici donne une erreur  *)\n    ^\nError: Unbound value y\n"
     ]
    }
   ],
   "source": [
    "y (* utiliser y ici donne une erreur  *)"
   ]
  },
  {
   "cell_type": "markdown",
   "id": "1a950172",
   "metadata": {
    "tags": []
   },
   "source": [
    "**Exercice** : en utilisant `let ... in ... `, définissez une variable $a$ égale à $752$, puis définissez une variable $b$ égale à $54a$.    "
   ]
  },
  {
   "cell_type": "code",
   "execution_count": 7,
   "id": "8a026e35",
   "metadata": {
    "execution": {
     "iopub.execute_input": "2021-10-31T15:22:04.260295Z",
     "iopub.status.busy": "2021-10-31T15:22:04.259685Z",
     "iopub.status.idle": "2021-10-31T15:22:04.262921Z",
     "shell.execute_reply": "2021-10-31T15:22:04.263403Z"
    },
    "tags": [
     "cor"
    ]
   },
   "outputs": [
    {
     "data": {
      "text/plain": [
       "- : int = 40608\n"
      ]
     },
     "execution_count": 7,
     "metadata": {},
     "output_type": "execute_result"
    }
   ],
   "source": [
    "let a = 752 in\n",
    "let b = 54*a in\n",
    "b"
   ]
  },
  {
   "cell_type": "markdown",
   "id": "20da4b93",
   "metadata": {},
   "source": [
    "**Remarque** Il est possible d'utiliser des parenthèses ou `begin ... end` pour délimiter le in :\n",
    "```ocaml\n",
    "let a = 3 in\n",
    "(\n",
    "...\n",
    ")\n",
    "```"
   ]
  },
  {
   "cell_type": "markdown",
   "id": "81db9503",
   "metadata": {
    "tags": []
   },
   "source": [
    "\n",
    "## Opérations numériques\n",
    "\n",
    "Nous avons déjà vu l'addition et la soustraction de 2 entiers. Il est aussi possible de multiplier :"
   ]
  },
  {
   "cell_type": "code",
   "execution_count": 8,
   "id": "3f67db40",
   "metadata": {
    "execution": {
     "iopub.execute_input": "2021-10-31T15:22:04.274399Z",
     "iopub.status.busy": "2021-10-31T15:22:04.273437Z",
     "iopub.status.idle": "2021-10-31T15:22:04.275976Z",
     "shell.execute_reply": "2021-10-31T15:22:04.273887Z"
    }
   },
   "outputs": [
    {
     "data": {
      "text/plain": [
       "- : int = 42\n"
      ]
     },
     "execution_count": 8,
     "metadata": {},
     "output_type": "execute_result"
    }
   ],
   "source": [
    "3 * 14"
   ]
  },
  {
   "cell_type": "markdown",
   "id": "2749b978",
   "metadata": {},
   "source": [
    "On peut effectuer la division **entière** (ou encore : [quotient de la division euclidienne](https://fr.wikipedia.org/wiki/Division_euclidienne)) de 2 entiers :"
   ]
  },
  {
   "cell_type": "code",
   "execution_count": 9,
   "id": "172f6110",
   "metadata": {
    "execution": {
     "iopub.execute_input": "2021-10-31T15:22:04.280227Z",
     "iopub.status.busy": "2021-10-31T15:22:04.279350Z",
     "iopub.status.idle": "2021-10-31T15:22:04.282099Z",
     "shell.execute_reply": "2021-10-31T15:22:04.280865Z"
    }
   },
   "outputs": [
    {
     "data": {
      "text/plain": [
       "- : int = 1\n"
      ]
     },
     "execution_count": 9,
     "metadata": {},
     "output_type": "execute_result"
    }
   ],
   "source": [
    "3 / 2 (* division entière *)"
   ]
  },
  {
   "cell_type": "markdown",
   "id": "74192100",
   "metadata": {},
   "source": [
    "La division entière de $x$ par $y$ est, par définition, la partie entière de $\\frac{x}{y}$.  \n",
    "Dans l'exemple ci-dessus, `3 / 2` est donc la partie entière de $\\frac{3}{2} = 1.5$, c'est à dire $1$. \n",
    "\n",
    "**Attention** : la division entière ` 3 / 2`  en OCaml correspond à ` 3 // 2 ` en Python."
   ]
  },
  {
   "cell_type": "markdown",
   "id": "7ec2f23d",
   "metadata": {},
   "source": [
    "En plus des entiers (`int`), OCaml permet de définir des nombres à virgules (`float`, pour flottant) :"
   ]
  },
  {
   "cell_type": "code",
   "execution_count": 10,
   "id": "a2f54775",
   "metadata": {
    "execution": {
     "iopub.execute_input": "2021-10-31T15:22:04.284198Z",
     "iopub.status.busy": "2021-10-31T15:22:04.283640Z",
     "iopub.status.idle": "2021-10-31T15:22:04.286916Z",
     "shell.execute_reply": "2021-10-31T15:22:04.286463Z"
    }
   },
   "outputs": [
    {
     "data": {
      "text/plain": [
       "val pi : float = 3.141592\n"
      ]
     },
     "execution_count": 10,
     "metadata": {},
     "output_type": "execute_result"
    }
   ],
   "source": [
    "let pi = 3.141592"
   ]
  },
  {
   "cell_type": "markdown",
   "id": "e06f0f42",
   "metadata": {},
   "source": [
    "Les opérateurs d'addition, soustraction, multiplication, division doivent s'utiliser avec un `.` (point). Par exemple :"
   ]
  },
  {
   "cell_type": "code",
   "execution_count": 11,
   "id": "4a932ecd",
   "metadata": {
    "execution": {
     "iopub.execute_input": "2021-10-31T15:22:04.288916Z",
     "iopub.status.busy": "2021-10-31T15:22:04.288379Z",
     "iopub.status.idle": "2021-10-31T15:22:04.292223Z",
     "shell.execute_reply": "2021-10-31T15:22:04.291713Z"
    }
   },
   "outputs": [
    {
     "data": {
      "text/plain": [
       "- : float = 5.759592\n"
      ]
     },
     "execution_count": 11,
     "metadata": {},
     "output_type": "execute_result"
    }
   ],
   "source": [
    "pi +. 2.618 (* noter le . après + *)"
   ]
  },
  {
   "cell_type": "markdown",
   "id": "a1197b4c",
   "metadata": {},
   "source": [
    "**Attention** : c'est le point (.) et non pas la virgule qui est utilisé pour les flottants."
   ]
  },
  {
   "cell_type": "markdown",
   "id": "cbdd9c19",
   "metadata": {},
   "source": [
    "Il est possible de calculer $x^y$, où $x$ et $y$ sont des **flottants** avec `**` :"
   ]
  },
  {
   "cell_type": "code",
   "execution_count": 12,
   "id": "caad3163",
   "metadata": {
    "execution": {
     "iopub.execute_input": "2021-10-31T15:22:04.294327Z",
     "iopub.status.busy": "2021-10-31T15:22:04.293718Z",
     "iopub.status.idle": "2021-10-31T15:22:04.297753Z",
     "shell.execute_reply": "2021-10-31T15:22:04.297256Z"
    }
   },
   "outputs": [
    {
     "data": {
      "text/plain": [
       "- : float = 23.0963461891915607\n"
      ]
     },
     "execution_count": 12,
     "metadata": {},
     "output_type": "execute_result"
    }
   ],
   "source": [
    "2.718 ** 3.14 (* x puissance y *)"
   ]
  },
  {
   "cell_type": "markdown",
   "id": "dad17b9e",
   "metadata": {},
   "source": [
    "Il n'est pas possible d'utiliser `**` sur des `int`. Par contre on peut utiliser 4.0 ou 4. au lieu de 4 pour avoir des flottants et utiliser `**` : "
   ]
  },
  {
   "cell_type": "code",
   "execution_count": 13,
   "id": "70a65a49",
   "metadata": {
    "execution": {
     "iopub.execute_input": "2021-10-31T15:22:04.300354Z",
     "iopub.status.busy": "2021-10-31T15:22:04.299789Z",
     "iopub.status.idle": "2021-10-31T15:22:04.301745Z",
     "shell.execute_reply": "2021-10-31T15:22:04.302165Z"
    }
   },
   "outputs": [
    {
     "data": {
      "text/plain": [
       "- : float = 1024.\n"
      ]
     },
     "execution_count": 13,
     "metadata": {},
     "output_type": "execute_result"
    }
   ],
   "source": [
    "2. ** 10."
   ]
  },
  {
   "cell_type": "markdown",
   "id": "8c428b83",
   "metadata": {},
   "source": [
    "**Exercice**\n",
    "1. Stocker la valeur $42^2$ dans une variable $a$, en utilisant `*`.\n",
    "2. En déduire la valeur de $42^4$.\n",
    "3. Calculer la valeur de $2^{10}$ en utilisant le moins de multiplications possibles."
   ]
  },
  {
   "cell_type": "code",
   "execution_count": 14,
   "id": "0a844b39",
   "metadata": {
    "execution": {
     "iopub.execute_input": "2021-10-31T15:22:04.304287Z",
     "iopub.status.busy": "2021-10-31T15:22:04.303692Z",
     "iopub.status.idle": "2021-10-31T15:22:04.308706Z",
     "shell.execute_reply": "2021-10-31T15:22:04.309176Z"
    },
    "tags": [
     "cor"
    ]
   },
   "outputs": [
    {
     "data": {
      "text/plain": [
       "val a : int = 1764\n"
      ]
     },
     "execution_count": 14,
     "metadata": {},
     "output_type": "execute_result"
    }
   ],
   "source": [
    "(* 1. *) \n",
    "let a = 42*42;;\n",
    "\n",
    "\n",
    "(* 2. *)\n",
    "a*a;;\n",
    "\n",
    "(* 3. *)\n",
    "let deux_puiss_2 = 2*2 in\n",
    "let deux_puiss_4 = deux_puiss_2*deux_puiss_2 in\n",
    "let deux_puiss_8 = deux_puiss_4*deux_puiss_4 in\n",
    "deux_puiss_8 * deux_puiss_2;; (* calcul de 2 puissance 10 en 4 multiplications *)"
   ]
  },
  {
   "cell_type": "markdown",
   "id": "2ad27ca7",
   "metadata": {},
   "source": [
    "**Exercice**\n",
    "\n",
    "1. Stocker dans 3 variables $a$, $b$, $c$ les valeurs 2, 5 et 3. On pourra utiliser let a, b, c = ..., ..., ... pour définir 3 variable simultanément. \n",
    "2. Stocker dans une variable $delta$ le discriminant de l'équation $ax^2 + bx + c = 0$.\n",
    "3. Calculer toutes les solutions de l'équation précédente."
   ]
  },
  {
   "cell_type": "code",
   "execution_count": 15,
   "id": "0460c09a",
   "metadata": {
    "execution": {
     "iopub.execute_input": "2021-10-31T15:22:04.311953Z",
     "iopub.status.busy": "2021-10-31T15:22:04.311399Z",
     "iopub.status.idle": "2021-10-31T15:22:04.315872Z",
     "shell.execute_reply": "2021-10-31T15:22:04.315185Z"
    },
    "tags": [
     "cor"
    ]
   },
   "outputs": [
    {
     "data": {
      "text/plain": [
       "val a : float = 2.\n",
       "val b : float = 6.\n",
       "val c : float = 3.\n"
      ]
     },
     "execution_count": 15,
     "metadata": {},
     "output_type": "execute_result"
    }
   ],
   "source": [
    "(* 1. *)\n",
    "let a, b, c = 2., 6., 3.;;"
   ]
  },
  {
   "cell_type": "code",
   "execution_count": 16,
   "id": "76bef856",
   "metadata": {
    "execution": {
     "iopub.execute_input": "2021-10-31T15:22:04.317827Z",
     "iopub.status.busy": "2021-10-31T15:22:04.317298Z",
     "iopub.status.idle": "2021-10-31T15:22:04.319707Z",
     "shell.execute_reply": "2021-10-31T15:22:04.320142Z"
    },
    "tags": [
     "cor"
    ]
   },
   "outputs": [
    {
     "data": {
      "text/plain": [
       "val delta : float = 12.\n"
      ]
     },
     "execution_count": 16,
     "metadata": {},
     "output_type": "execute_result"
    }
   ],
   "source": [
    "(* 2. *)\n",
    "let delta = b**2. -. 4.*.a*.c;;"
   ]
  },
  {
   "cell_type": "code",
   "execution_count": 17,
   "id": "05077682",
   "metadata": {
    "execution": {
     "iopub.execute_input": "2021-10-31T15:22:04.322155Z",
     "iopub.status.busy": "2021-10-31T15:22:04.321583Z",
     "iopub.status.idle": "2021-10-31T15:22:04.327794Z",
     "shell.execute_reply": "2021-10-31T15:22:04.327278Z"
    },
    "tags": [
     "cor"
    ]
   },
   "outputs": [
    {
     "data": {
      "text/plain": [
       "- : float = -2.36602540378443837\n"
      ]
     },
     "execution_count": 17,
     "metadata": {},
     "output_type": "execute_result"
    },
    {
     "data": {
      "text/plain": [
       "- : float = -0.633974596215561403\n"
      ]
     },
     "execution_count": 17,
     "metadata": {},
     "output_type": "execute_result"
    }
   ],
   "source": [
    "(* 3. Le discriminant étant positif, il y a deux solutions égales à : *)\n",
    "(-.b -. sqrt delta)/.(2.*.a);;\n",
    "(-.b +. sqrt delta)/.(2.*.a);;"
   ]
  },
  {
   "cell_type": "markdown",
   "id": "8079f26e",
   "metadata": {},
   "source": [
    "Une autre opération importante est le **modulo** (ou : [reste de la division euclidienne](https://fr.wikipedia.org/wiki/Division_euclidienne)) de 2 entiers `a` et `b`, notée `a mod b` en OCaml. Mathématiquement, il s'agit de l'entier $r$ vérifiant :\n",
    "$$a = bq + r$$\n",
    "$$0 \\leq r < b$$\n",
    "\n",
    "($q$ est le quotient, égal à `a / b` en OCaml)  \n",
    "Cette opération `mod` sert notamment à tester la divisibilité : `a` est divisible par `b` si et seulement si `a mod b = 0`."
   ]
  },
  {
   "cell_type": "markdown",
   "id": "70096228",
   "metadata": {},
   "source": [
    "**Exercice** : Est-ce que 527 est divisible par 17?"
   ]
  },
  {
   "cell_type": "code",
   "execution_count": 18,
   "id": "58b64a35",
   "metadata": {
    "execution": {
     "iopub.execute_input": "2021-10-31T15:22:04.329744Z",
     "iopub.status.busy": "2021-10-31T15:22:04.329237Z",
     "iopub.status.idle": "2021-10-31T15:22:04.331092Z",
     "shell.execute_reply": "2021-10-31T15:22:04.331519Z"
    },
    "tags": [
     "cor"
    ]
   },
   "outputs": [
    {
     "data": {
      "text/plain": [
       "- : int = 0\n"
      ]
     },
     "execution_count": 18,
     "metadata": {},
     "output_type": "execute_result"
    }
   ],
   "source": [
    "527 mod 17 (* c'est égal à 0 donc 17 divise bien 527 *)"
   ]
  },
  {
   "cell_type": "markdown",
   "id": "1ba31211",
   "metadata": {},
   "source": [
    "## Overflow\n",
    "\n",
    "L'ordinateur stocke toutes les variables dans la mémoire RAM de l'ordinateur, en binaire (suite de 0 et de 1). Comme la mémoire RAM sur un ordinateur n'est pas infinie, on ne peut pas stocker des nombres de taille arbitraire.  \n",
    "`max_int` est le plus grand entier que l'on peut stocker dans une variable :"
   ]
  },
  {
   "cell_type": "code",
   "execution_count": 19,
   "id": "f471d804",
   "metadata": {
    "execution": {
     "iopub.execute_input": "2021-10-31T15:22:04.333429Z",
     "iopub.status.busy": "2021-10-31T15:22:04.332886Z",
     "iopub.status.idle": "2021-10-31T15:22:04.335002Z",
     "shell.execute_reply": "2021-10-31T15:22:04.334577Z"
    }
   },
   "outputs": [
    {
     "data": {
      "text/plain": [
       "- : int = 4611686018427387903\n"
      ]
     },
     "execution_count": 19,
     "metadata": {},
     "output_type": "execute_result"
    }
   ],
   "source": [
    "max_int"
   ]
  },
  {
   "cell_type": "markdown",
   "id": "63b87427",
   "metadata": {},
   "source": [
    "Si on dépasse cet entier (ce qu'on appelle **integer overflow**), on tombe sur le plus petit entier représentable :"
   ]
  },
  {
   "cell_type": "code",
   "execution_count": 20,
   "id": "d5d436ba",
   "metadata": {
    "execution": {
     "iopub.execute_input": "2021-10-31T15:22:04.337386Z",
     "iopub.status.busy": "2021-10-31T15:22:04.336792Z",
     "iopub.status.idle": "2021-10-31T15:22:04.339000Z",
     "shell.execute_reply": "2021-10-31T15:22:04.339646Z"
    },
    "tags": []
   },
   "outputs": [
    {
     "data": {
      "text/plain": [
       "- : int = -4611686018427387904\n"
      ]
     },
     "execution_count": 20,
     "metadata": {},
     "output_type": "execute_result"
    }
   ],
   "source": [
    "max_int + 1"
   ]
  },
  {
   "cell_type": "markdown",
   "id": "5ed8a080",
   "metadata": {},
   "source": [
    "Le dépassement d'entier est une source fréquente de bug, qui a causé par exemple le [crash de la fusée Ariane 5](https://fr.wikipedia.org/wiki/Vol_501_d%27Ariane_5)."
   ]
  },
  {
   "cell_type": "markdown",
   "id": "f6a7aac1",
   "metadata": {},
   "source": [
    "Les float sont également limités :"
   ]
  },
  {
   "cell_type": "code",
   "execution_count": 21,
   "id": "e29a05c8",
   "metadata": {
    "execution": {
     "iopub.execute_input": "2021-10-31T15:22:04.342586Z",
     "iopub.status.busy": "2021-10-31T15:22:04.341954Z",
     "iopub.status.idle": "2021-10-31T15:22:04.344387Z",
     "shell.execute_reply": "2021-10-31T15:22:04.343906Z"
    }
   },
   "outputs": [
    {
     "data": {
      "text/plain": [
       "- : float = 1.79769313486231571e+308\n"
      ]
     },
     "execution_count": 21,
     "metadata": {},
     "output_type": "execute_result"
    }
   ],
   "source": [
    "max_float"
   ]
  },
  {
   "cell_type": "markdown",
   "id": "1283040c",
   "metadata": {},
   "source": [
    "Les flottants sont codées suivant la norme [IEEE754](https://fr.wikipedia.org/wiki/IEEE_754) sous la forme scientifique en utilisant 64 bits (sur un processeur 64 bits) dont 52 bits pour les chiffres après la virgule.  \n",
    "La précision des flottants est donc limitée : par exemple, on ne peut pas stocker $\\sqrt{2}$ ou $\\pi$ de façon exacte sur l'ordinateur puisqu'il s'agit de nombres irrationnels (c'est à dire avec une infinité de décimales, qui ne se répètent pas).  "
   ]
  },
  {
   "cell_type": "code",
   "execution_count": 22,
   "id": "6f576d6f",
   "metadata": {
    "execution": {
     "iopub.execute_input": "2021-10-31T15:22:04.346892Z",
     "iopub.status.busy": "2021-10-31T15:22:04.346062Z",
     "iopub.status.idle": "2021-10-31T15:22:04.348554Z",
     "shell.execute_reply": "2021-10-31T15:22:04.349011Z"
    }
   },
   "outputs": [
    {
     "data": {
      "text/plain": [
       "- : float = 1.41421356237309515\n"
      ]
     },
     "execution_count": 22,
     "metadata": {},
     "output_type": "execute_result"
    }
   ],
   "source": [
    "2.**0.5 (* seulement une partie des décimales est stockée *)"
   ]
  },
  {
   "cell_type": "code",
   "execution_count": 23,
   "id": "51600d5a",
   "metadata": {
    "execution": {
     "iopub.execute_input": "2021-10-31T15:22:04.351228Z",
     "iopub.status.busy": "2021-10-31T15:22:04.350681Z",
     "iopub.status.idle": "2021-10-31T15:22:04.354134Z",
     "shell.execute_reply": "2021-10-31T15:22:04.353665Z"
    }
   },
   "outputs": [
    {
     "data": {
      "text/plain": [
       "- : float = 2.00000000000000044\n"
      ]
     },
     "execution_count": 23,
     "metadata": {},
     "output_type": "execute_result"
    }
   ],
   "source": [
    "(2.**0.5)**2.0  (* ne donne pas 2.0 à cause des erreurs d'arrondis *)"
   ]
  },
  {
   "cell_type": "markdown",
   "id": "9a9e21b9",
   "metadata": {},
   "source": [
    "Le calcul de $\\sqrt 2$ par OCaml s'arrête à la 16ème décimale (ce qui correspond à 52 bits après la virgules, puisque $2^{-52}$ est du même ordre de grandeur que $10^{-16}$). Ce nombre $2^{-52}$ est appelé **epsilon machine**."
   ]
  },
  {
   "cell_type": "markdown",
   "id": "ae76d358",
   "metadata": {},
   "source": [
    "Autre exemple :"
   ]
  },
  {
   "cell_type": "code",
   "execution_count": 24,
   "id": "1fe0f4cc",
   "metadata": {
    "execution": {
     "iopub.execute_input": "2021-10-31T15:22:04.357581Z",
     "iopub.status.busy": "2021-10-31T15:22:04.355874Z",
     "iopub.status.idle": "2021-10-31T15:22:04.363848Z",
     "shell.execute_reply": "2021-10-31T15:22:04.363307Z"
    }
   },
   "outputs": [
    {
     "data": {
      "text/plain": [
       "- : float = 0.300000000000000044\n"
      ]
     },
     "execution_count": 24,
     "metadata": {},
     "output_type": "execute_result"
    }
   ],
   "source": [
    "0.1 +. 0.2  (* ne donne pas 0.3 *)"
   ]
  },
  {
   "cell_type": "markdown",
   "id": "070d940b",
   "metadata": {},
   "source": [
    "`O.1` n'étant pas représentable de façon exacte en base 2, il est tronqué et engendre des erreurs d'arrondis."
   ]
  },
  {
   "cell_type": "markdown",
   "id": "0724a9a4",
   "metadata": {},
   "source": [
    "La plus grande valeur de l'exposant est 1023 :"
   ]
  },
  {
   "cell_type": "code",
   "execution_count": 25,
   "id": "3ecf60fb",
   "metadata": {
    "execution": {
     "iopub.execute_input": "2021-10-31T15:22:04.367659Z",
     "iopub.status.busy": "2021-10-31T15:22:04.367043Z",
     "iopub.status.idle": "2021-10-31T15:22:04.369549Z",
     "shell.execute_reply": "2021-10-31T15:22:04.370013Z"
    }
   },
   "outputs": [
    {
     "data": {
      "text/plain": [
       "- : float = 8.98846567431158e+307\n"
      ]
     },
     "execution_count": 25,
     "metadata": {},
     "output_type": "execute_result"
    }
   ],
   "source": [
    "2.**1023."
   ]
  },
  {
   "cell_type": "code",
   "execution_count": 26,
   "id": "78cca369",
   "metadata": {
    "execution": {
     "iopub.execute_input": "2021-10-31T15:22:04.372299Z",
     "iopub.status.busy": "2021-10-31T15:22:04.371684Z",
     "iopub.status.idle": "2021-10-31T15:22:04.373719Z",
     "shell.execute_reply": "2021-10-31T15:22:04.374199Z"
    }
   },
   "outputs": [
    {
     "data": {
      "text/plain": [
       "- : float = infinity\n"
      ]
     },
     "execution_count": 26,
     "metadata": {},
     "output_type": "execute_result"
    }
   ],
   "source": [
    "2.**1024."
   ]
  },
  {
   "cell_type": "markdown",
   "id": "77796fbe",
   "metadata": {
    "tags": []
   },
   "source": [
    "## Unit\n",
    "\n",
    "Il existe une valeur spéciale `()` qui signifie \"rien\" (un peu comme le None de Python). Le type de `()` est `unit`. Par exemple, afficher un entier avec `print_int` fait un effet de bord (affichage sur l'écran) mais ne renvoie pas de valeur :"
   ]
  },
  {
   "cell_type": "code",
   "execution_count": 27,
   "id": "234ff81c",
   "metadata": {
    "execution": {
     "iopub.execute_input": "2021-10-31T15:22:04.376182Z",
     "iopub.status.busy": "2021-10-31T15:22:04.375647Z",
     "iopub.status.idle": "2021-10-31T15:22:04.377609Z",
     "shell.execute_reply": "2021-10-31T15:22:04.378154Z"
    }
   },
   "outputs": [
    {
     "data": {
      "text/plain": [
       "- : unit = ()\n"
      ]
     },
     "execution_count": 27,
     "metadata": {},
     "output_type": "execute_result"
    }
   ],
   "source": [
    "print_int 42"
   ]
  },
  {
   "cell_type": "markdown",
   "id": "d52d9b99",
   "metadata": {},
   "source": [
    "Pour que le résultat s'affiche, il faut revenir à la ligne avec `print_newline` :"
   ]
  },
  {
   "cell_type": "code",
   "execution_count": 28,
   "id": "2f57835c",
   "metadata": {
    "execution": {
     "iopub.execute_input": "2021-10-31T15:22:04.380396Z",
     "iopub.status.busy": "2021-10-31T15:22:04.379803Z",
     "iopub.status.idle": "2021-10-31T15:22:04.383604Z",
     "shell.execute_reply": "2021-10-31T15:22:04.383012Z"
    }
   },
   "outputs": [
    {
     "name": "stdout",
     "output_type": "stream",
     "text": [
      "42\n"
     ]
    },
    {
     "data": {
      "text/plain": [
       "- : unit = ()\n"
      ]
     },
     "execution_count": 28,
     "metadata": {},
     "output_type": "execute_result"
    }
   ],
   "source": [
    "print_newline ()"
   ]
  },
  {
   "cell_type": "markdown",
   "id": "5d3c2282",
   "metadata": {},
   "source": [
    "On verra dans un prochain cours le fonctionnement plus détaillé de `print_newline`."
   ]
  },
  {
   "cell_type": "markdown",
   "id": "2e6c3bd8",
   "metadata": {},
   "source": [
    "Il aurait été possible de combiner ces deux instructions avec `;`, qui permet d'exécuter consécutivement plusieurs instructions :"
   ]
  },
  {
   "cell_type": "code",
   "execution_count": 29,
   "id": "9e2d7b78",
   "metadata": {
    "execution": {
     "iopub.execute_input": "2021-10-31T15:22:04.385661Z",
     "iopub.status.busy": "2021-10-31T15:22:04.385105Z",
     "iopub.status.idle": "2021-10-31T15:22:04.388100Z",
     "shell.execute_reply": "2021-10-31T15:22:04.388551Z"
    }
   },
   "outputs": [
    {
     "name": "stdout",
     "output_type": "stream",
     "text": [
      "31\n"
     ]
    },
    {
     "data": {
      "text/plain": [
       "- : unit = ()\n"
      ]
     },
     "execution_count": 29,
     "metadata": {},
     "output_type": "execute_result"
    }
   ],
   "source": [
    "print_int 31;\n",
    "print_newline ()"
   ]
  },
  {
   "cell_type": "markdown",
   "id": "fc057ed8",
   "metadata": {},
   "source": [
    "`;;` est similaire à `;`, mais permet de séparer complètement plusieurs instructions, ce qui signifie que les variables définies avec `in` ne sont plus accessibles :"
   ]
  },
  {
   "cell_type": "code",
   "execution_count": 30,
   "id": "ed314788",
   "metadata": {
    "execution": {
     "iopub.execute_input": "2021-10-31T15:22:04.390451Z",
     "iopub.status.busy": "2021-10-31T15:22:04.389936Z",
     "iopub.status.idle": "2021-10-31T15:22:04.392319Z",
     "shell.execute_reply": "2021-10-31T15:22:04.392817Z"
    }
   },
   "outputs": [
    {
     "data": {
      "text/plain": [
       "- : int = 3\n"
      ]
     },
     "execution_count": 30,
     "metadata": {},
     "output_type": "execute_result"
    }
   ],
   "source": [
    "let a = 3 in\n",
    "print_int a;\n",
    "a (* a reste accessible : il est toujours dans le in *)"
   ]
  },
  {
   "cell_type": "code",
   "execution_count": 31,
   "id": "e95e91cc",
   "metadata": {
    "execution": {
     "iopub.execute_input": "2021-10-31T15:22:04.394957Z",
     "iopub.status.busy": "2021-10-31T15:22:04.394441Z",
     "iopub.status.idle": "2021-10-31T15:22:04.397269Z",
     "shell.execute_reply": "2021-10-31T15:22:04.398033Z"
    }
   },
   "outputs": [
    {
     "data": {
      "text/plain": [
       "- : unit = ()\n"
      ]
     },
     "execution_count": 31,
     "metadata": {},
     "output_type": "execute_result"
    },
    {
     "data": {
      "text/plain": [
       "- : float = 2.\n"
      ]
     },
     "execution_count": 31,
     "metadata": {},
     "output_type": "execute_result"
    }
   ],
   "source": [
    "let a = 3 in\n",
    "print_int a;;\n",
    "a;; (* a n'est pas accessible ici *)"
   ]
  },
  {
   "cell_type": "markdown",
   "id": "f4d27f1c",
   "metadata": {
    "tags": []
   },
   "source": [
    "## Présentation du code\n",
    "\n",
    "Contrairement à Python, l'indentation du code n'a pas d'importance en OCaml. En effet les espaces et sauts de lignes sont ignorés :"
   ]
  },
  {
   "cell_type": "code",
   "execution_count": 32,
   "id": "0c553990",
   "metadata": {
    "execution": {
     "iopub.execute_input": "2021-10-31T15:22:04.400169Z",
     "iopub.status.busy": "2021-10-31T15:22:04.399604Z",
     "iopub.status.idle": "2021-10-31T15:22:04.401687Z",
     "shell.execute_reply": "2021-10-31T15:22:04.402148Z"
    }
   },
   "outputs": [
    {
     "data": {
      "text/plain": [
       "val a : int = 6\n"
      ]
     },
     "execution_count": 32,
     "metadata": {},
     "output_type": "execute_result"
    }
   ],
   "source": [
    "let a \n",
    "  = \n",
    "      6 (* indentation n'importe comment *)"
   ]
  },
  {
   "cell_type": "markdown",
   "id": "413d0e53",
   "metadata": {},
   "source": [
    "On veillera toutefois à écrire du code aussi clair et lisible que possible."
   ]
  },
  {
   "cell_type": "markdown",
   "id": "87bee4d6",
   "metadata": {},
   "source": [
    "## Réferences\n",
    "\n",
    "Contrairement à ce que son nom l'indique, une variable définie comme on l'a fait jusqu'à maintenant est en fait... **constante** :"
   ]
  },
  {
   "cell_type": "code",
   "execution_count": 33,
   "id": "06a56aed",
   "metadata": {
    "execution": {
     "iopub.execute_input": "2021-10-31T15:22:04.404277Z",
     "iopub.status.busy": "2021-10-31T15:22:04.403722Z",
     "iopub.status.idle": "2021-10-31T15:22:04.410803Z",
     "shell.execute_reply": "2021-10-31T15:22:04.409568Z"
    }
   },
   "outputs": [
    {
     "data": {
      "text/plain": [
       "val x : int = 3\n"
      ]
     },
     "execution_count": 33,
     "metadata": {},
     "output_type": "execute_result"
    },
    {
     "data": {
      "text/plain": [
       "- : bool = false\n"
      ]
     },
     "execution_count": 33,
     "metadata": {},
     "output_type": "execute_result"
    },
    {
     "data": {
      "text/plain": [
       "- : int = 3\n"
      ]
     },
     "execution_count": 33,
     "metadata": {},
     "output_type": "execute_result"
    }
   ],
   "source": [
    "let x = 3;;\n",
    "x = 4;; (* ceci ne MODIFIE pas x, mais teste si la valeur de x est 4 *)\n",
    "x;; (* x vaut toujours 3 : il ne peut pas être modifié *)"
   ]
  },
  {
   "cell_type": "markdown",
   "id": "fa8836d8",
   "metadata": {},
   "source": [
    "Pour pouvoir modifier une variable, on peut utiliser une **référence**.\n",
    "Pour définir une référence on utilise `ref` :\n",
    "```ocaml\n",
    "let variable = ref valeur (* définition d'une référence *)\n",
    "```\n",
    "Pour modifier une référence on utilise `:=` :\n",
    "```ocaml\n",
    "variable := valeur (* modification d'une référence *)\n",
    "```\n",
    "Pour obtenir la valeur d'une référence on utilise `!` :\n",
    "```ocaml\n",
    "!variable (* donne la valeur d'une référence *)\n",
    "```"
   ]
  },
  {
   "cell_type": "code",
   "execution_count": 34,
   "id": "7a394fdb",
   "metadata": {
    "execution": {
     "iopub.execute_input": "2021-10-31T15:22:04.412893Z",
     "iopub.status.busy": "2021-10-31T15:22:04.412357Z",
     "iopub.status.idle": "2021-10-31T15:22:04.417302Z",
     "shell.execute_reply": "2021-10-31T15:22:04.416675Z"
    },
    "tags": []
   },
   "outputs": [
    {
     "data": {
      "text/plain": [
       "val x : int ref = {contents = 3}\n"
      ]
     },
     "execution_count": 34,
     "metadata": {},
     "output_type": "execute_result"
    },
    {
     "data": {
      "text/plain": [
       "- : unit = ()\n"
      ]
     },
     "execution_count": 34,
     "metadata": {},
     "output_type": "execute_result"
    },
    {
     "data": {
      "text/plain": [
       "- : int = 4\n"
      ]
     },
     "execution_count": 34,
     "metadata": {},
     "output_type": "execute_result"
    }
   ],
   "source": [
    "let x = ref 3;; (* définie une variable x qui \"pointe\" vers un emplacement mémoire contenant 3 *)\n",
    "x := 4;; (* modifie la valeur pointé par x avec := *)\n",
    "!x;; (* la valeur a bien été modifiée *)"
   ]
  },
  {
   "cell_type": "markdown",
   "id": "9d3ebd83",
   "metadata": {},
   "source": [
    "On remarque que l'instruction `x := 4` a pour valeur de retour `()` : c'est un effet de bord qui modifie `x` mais ne renvoie pas de résultat."
   ]
  },
  {
   "cell_type": "markdown",
   "id": "03afd893",
   "metadata": {},
   "source": [
    "Une référence `a` stocke en fait une adresse mémoire. La valeur de `a` est stockée dans cette adresse mémoire (et c'est cette valeur qui est modifiée avec `a := ...`).  \n",
    "**Remarque** : on reverra cette idée avec les pointeurs en C.\n",
    "\n",
    "<center><img src=img/ref.drawio.png width=300></center>"
   ]
  },
  {
   "cell_type": "markdown",
   "id": "d6ebb36d",
   "metadata": {},
   "source": [
    "**Exercice** : Que valent `!x` et `!y` après avoir exécuté le bout de code suivant? À quoi sert ce code?\n",
    "```ocaml\n",
    "let x = ref 5;;\n",
    "let y = ref 27;;\n",
    "x := !x + !y;\n",
    "y := !x - !y;\n",
    "x := !x - !y\n",
    "```"
   ]
  },
  {
   "cell_type": "code",
   "execution_count": 35,
   "id": "54050e43",
   "metadata": {
    "execution": {
     "iopub.execute_input": "2021-10-31T15:22:04.419584Z",
     "iopub.status.busy": "2021-10-31T15:22:04.419006Z",
     "iopub.status.idle": "2021-10-31T15:22:04.426976Z",
     "shell.execute_reply": "2021-10-31T15:22:04.426400Z"
    },
    "tags": [
     "cor"
    ]
   },
   "outputs": [
    {
     "data": {
      "text/plain": [
       "- : int * int = (27, 5)\n"
      ]
     },
     "execution_count": 35,
     "metadata": {},
     "output_type": "execute_result"
    }
   ],
   "source": [
    "let x = ref 5 in\n",
    "let y = ref 27 in\n",
    "x := !x + !y;\n",
    "y := !x - !y;\n",
    "x := !x - !y;\n",
    "!x, !y;; (* x vaut 27, y vaut 5 : ce bout de code échange les valeurs de x et y *)"
   ]
  },
  {
   "cell_type": "markdown",
   "id": "0f347b46",
   "metadata": {},
   "source": [
    "**Remarque** : utiliser des `ref` rend souvent le code plus compliqué, on n'en utilisera que lorsque c'est nécessaire."
   ]
  }
 ],
 "metadata": {
  "kernelspec": {
   "display_name": "OCaml default",
   "language": "OCaml",
   "name": "ocaml-jupyter"
  },
  "language_info": {
   "codemirror_mode": "text/x-ocaml",
   "file_extension": ".ml",
   "mimetype": "text/x-ocaml",
   "name": "OCaml",
   "nbconverter_exporter": null,
   "pygments_lexer": "OCaml",
   "version": "4.08.1"
  },
  "title": "OCaml"
 },
 "nbformat": 4,
 "nbformat_minor": 5
}

{
 "cells": [
  {
   "cell_type": "markdown",
   "id": "8ba30992",
   "metadata": {},
   "source": [
    "# <center><a href='https://mybinder.org/v2/gh/fortierq/binder-mp2i/main?urlpath=git-pull%3Frepo%3Dhttps%253A%252F%252Fgithub.com%252Fmp2i-fsm%252Fmp2i-2021%26urlpath%3Dlab%252Ftree%252Fmp2i-2021%252F1_ocaml%252F4_recursivite.ipynb%26branch%3Dmain'>Récursivité                                                                     <img src=https://mybinder.org/badge.svg></a></center>\n",
    "\n",
    "La récursivité est la possibilité pour une fonction de s'appeller soi-même. En général, il y a deux étapes pour écrire une fonction récursive :\n",
    "1. Un **cas de base** où la fonction renvoie directement une valeur.\n",
    "2. Un **cas général** où la fonction s'appelle sur des paramètres \"plus petits\".\n",
    "\n",
    "En OCaml, une fonction récursive doit être définie par `let rec ...`. Voici un exemple :"
   ]
  },
  {
   "cell_type": "code",
   "execution_count": 1,
   "id": "9751e268",
   "metadata": {
    "execution": {
     "iopub.execute_input": "2021-11-11T10:51:43.013398Z",
     "iopub.status.busy": "2021-11-11T10:51:43.012585Z",
     "iopub.status.idle": "2021-11-11T10:51:43.015833Z",
     "shell.execute_reply": "2021-11-11T10:51:43.015330Z"
    },
    "tags": []
   },
   "outputs": [
    {
     "data": {
      "text/plain": [
       "val f : int -> unit = <fun>\n"
      ]
     },
     "execution_count": 1,
     "metadata": {},
     "output_type": "execute_result"
    }
   ],
   "source": [
    "let rec f x = (* exemple de fonction récursive *)\n",
    "    if x = 0 then print_newline () (* cas de base *)\n",
    "    else (print_int x; \n",
    "          f (x - 1)) (* cas général *)"
   ]
  },
  {
   "cell_type": "markdown",
   "id": "0ec19624",
   "metadata": {},
   "source": [
    "`f x` affiche un retour à la ligne si `x` est égal à 0, et sinon affiche `x` puis appelle `f (x - 1)`."
   ]
  },
  {
   "cell_type": "markdown",
   "id": "515ba7b5",
   "metadata": {},
   "source": [
    "Essayons cette fonction :"
   ]
  },
  {
   "cell_type": "code",
   "execution_count": 2,
   "id": "00aad98b",
   "metadata": {
    "execution": {
     "iopub.execute_input": "2021-11-11T10:51:43.019358Z",
     "iopub.status.busy": "2021-11-11T10:51:43.017300Z",
     "iopub.status.idle": "2021-11-11T10:51:43.022362Z",
     "shell.execute_reply": "2021-11-11T10:51:43.021338Z"
    },
    "tags": []
   },
   "outputs": [
    {
     "name": "stdout",
     "output_type": "stream",
     "text": [
      "21\n"
     ]
    },
    {
     "data": {
      "text/plain": [
       "- : unit = ()\n"
      ]
     },
     "execution_count": 2,
     "metadata": {},
     "output_type": "execute_result"
    }
   ],
   "source": [
    "f 2"
   ]
  },
  {
   "cell_type": "markdown",
   "id": "3601c231",
   "metadata": {},
   "source": [
    "Voici ce qui se passe lors de cet appel `f 2` :  \n",
    "\n",
    "1. On regarde si `2 = 0`, ce qui est faux. On passe donc dans le `else`.\n",
    "2. On affiche `2` avec `print_int x`.\n",
    "3. On appelle `f` sur la valeur 1. Le calcul de `f 2` se met en pause et on exécute `f 1`. Quand `f 1` sera terminé, l'appel de `f 2` continuera et `f 1` sera remplacé par sa valeur de retour. \n",
    "4. L'exécution de `f 1` affiche `1` puis appelle `f 0`. Le calcul de `f 1` se met en pause et on exécute `f 0`. Quand `f 0` sera terminé, l'appel de `f 2` continuera et `f 0` sera remplacé par sa valeur de retour.\n",
    "5. `f 0` exécute `print_newline ()` et s'arrête (en renvoyant `()`).\n",
    "6. L'exécution de `f 1` reprend et `f 1` s'arrête.\n",
    "7. L'exécution de `f 2` reprend et `f 2` s'arrête."
   ]
  },
  {
   "cell_type": "markdown",
   "id": "de737cef",
   "metadata": {},
   "source": [
    "Vous pouvez visualiser l'exécution d'un code similaire en Python avec [Python Tutor](http://www.pythontutor.com/visualize.html#code=def%20f%28n%29%3A%0A%20%20%20%20if%20n%20%3D%3D%200%3A%0A%20%20%20%20%20%20%20%20return%0A%20%20%20%20print%28n%29%0A%20%20%20%20f%28n-1%29%0A%0Af%284%29&cumulative=false&curInstr=0&heapPrimitives=nevernest&mode=display&origin=opt-frontend.js&py=3&rawInputLstJSON=%5B%5D&textReferences=false). Il est important de bien comprendre comment les appels récursifs s'effectuent."
   ]
  },
  {
   "cell_type": "markdown",
   "id": "1de6695f",
   "metadata": {},
   "source": [
    "Un exemple classique d'utilisation de la récursivité est le calcul de la factorielle d'un entier $n$, définie par $n! = n \\times (n - 1) \\times ... \\times 2 \\times 1$.  \n",
    "Pour définir une fonction récursive calculant $n!$ on a besoin de deux choses :\n",
    "- **Cas de base**  : si $n = 0$, on peut renvoyer directement 1 (par convention $0! = 1$), sans appel récursif.\n",
    "- **Cas général/récurrence** : si $n$ est quelconque, il faut rammener le calcul de $n!$ à un calcul d'une factorielle plus petite (de façon à se rapprocher du cas de base). Pour cela, on peut remarquer que $n! = n\\times (n-1)!$ et donc que calculer $(n-1)!$ permet d'en déduire $n!$.  \n",
    "On en déduit le code suivant :"
   ]
  },
  {
   "cell_type": "code",
   "execution_count": 3,
   "id": "4fc686e6",
   "metadata": {
    "execution": {
     "iopub.execute_input": "2021-11-11T10:51:43.024173Z",
     "iopub.status.busy": "2021-11-11T10:51:43.023752Z",
     "iopub.status.idle": "2021-11-11T10:51:43.026736Z",
     "shell.execute_reply": "2021-11-11T10:51:43.027077Z"
    }
   },
   "outputs": [
    {
     "data": {
      "text/plain": [
       "val fact : int -> int = <fun>\n"
      ]
     },
     "execution_count": 3,
     "metadata": {},
     "output_type": "execute_result"
    }
   ],
   "source": [
    "let rec fact n =\n",
    "    if n = 0 then 1 (* par convention 0! = 1 *)\n",
    "    else n*fact (n - 1)"
   ]
  },
  {
   "cell_type": "code",
   "execution_count": 4,
   "id": "93a87342",
   "metadata": {
    "execution": {
     "iopub.execute_input": "2021-11-11T10:51:43.028821Z",
     "iopub.status.busy": "2021-11-11T10:51:43.028366Z",
     "iopub.status.idle": "2021-11-11T10:51:43.030319Z",
     "shell.execute_reply": "2021-11-11T10:51:43.030636Z"
    }
   },
   "outputs": [
    {
     "data": {
      "text/plain": [
       "- : int = 24\n"
      ]
     },
     "execution_count": 4,
     "metadata": {},
     "output_type": "execute_result"
    }
   ],
   "source": [
    "fact 4"
   ]
  },
  {
   "cell_type": "markdown",
   "id": "2c9594c7",
   "metadata": {},
   "source": [
    "**Remarque** : Si on oublie le cas de base (`if n = 0`) la fonction ne s'arrête jamais (`fact 0` appelerait `fact (-1)` qui appelerait `fact (-2)` et ainsi de suite...) !"
   ]
  },
  {
   "cell_type": "markdown",
   "id": "c1b77ace",
   "metadata": {},
   "source": [
    "Écrire une fonction récursive ressemble beaucoup à écrire une démonstration mathématiques par récurrence et d'ailleurs on utilisera souvent une démonstration par récurrence pour démontrer qu'une fonction récursive est correcte, c'est à dire renvoie bien la bonne valeur.  \n",
    "Par exemple, pour démontrer que `fact` est correcte, on peut poser l'hypothèse de récurrence :\n",
    "$$\\mathcal{H}(n) : \\text{fact } n \\text{ renvoie } n!$$\n",
    "**Preuve** :\n",
    "1. $\\mathcal{H}(0)$ est vraie car `fact 0` renvoie 1 et, par définition, $0! = 1$.  \n",
    "2. Soit $n$ un entier strictement positif. Supposons $\\mathcal{H}(n - 1)$ et montrons $\\mathcal{H}(n)$.  \n",
    "Comme $n > 0$, `fact n` renvoie `n*fact (n - 1)`. D'après $\\mathcal{H}(n - 1)$, `fact (n - 1)` renvoie $(n - 1)!$. Donc `fact n` renvoie $n(n - 1)! = n!$, ce qui démontre $\\mathcal{H}(n)$.  \n",
    "D'après le principe de récurrence, $\\mathcal{H}(n)$ est vraie pour tout $n \\in \\mathbb{N}$. "
   ]
  },
  {
   "cell_type": "markdown",
   "id": "d9a54580",
   "metadata": {
    "tags": [
     "exo"
    ]
   },
   "source": [
    "**Exercice** : Qu'affiche le code suivant? Le deviner puis exécuter le code pour vérifier.\n",
    "```ocaml\n",
    "let rec f x =\n",
    "    if x = 0 then print_newline ()\n",
    "    else (f (x - 1);\n",
    "          print_int x) in\n",
    "f 5    \n",
    "```"
   ]
  },
  {
   "cell_type": "code",
   "execution_count": 5,
   "id": "afc74044",
   "metadata": {
    "execution": {
     "iopub.execute_input": "2021-11-11T10:51:43.032400Z",
     "iopub.status.busy": "2021-11-11T10:51:43.031969Z",
     "iopub.status.idle": "2021-11-11T10:51:43.036824Z",
     "shell.execute_reply": "2021-11-11T10:51:43.036424Z"
    },
    "tags": [
     "cor"
    ]
   },
   "outputs": [
    {
     "name": "stdout",
     "output_type": "stream",
     "text": [
      "\n"
     ]
    },
    {
     "data": {
      "text/plain": [
       "- : unit = ()\n"
      ]
     },
     "execution_count": 5,
     "metadata": {},
     "output_type": "execute_result"
    }
   ],
   "source": [
    "let rec f x =\n",
    "    if x = 0 then print_newline ()\n",
    "    else (f (x - 1);\n",
    "          print_int x) in\n",
    "f 5    "
   ]
  },
  {
   "cell_type": "markdown",
   "id": "7c58a602",
   "metadata": {
    "tags": [
     "exo"
    ]
   },
   "source": [
    "**Exercice** : \n",
    "1. Écrire une fonction récursive pour calculer la somme des $n$ premiers entiers $S(n) = 0 + 1 + 2 + ... + (n - 1)$.\n",
    "2. Quelle formule connaissez-vous pour calculer $S(n)$? En déduire une autre fonction (non récursive) pour calculer cette valeur. Vérifier sur des exemples que les deux fonctions donnent la même valeur. "
   ]
  },
  {
   "cell_type": "code",
   "execution_count": 6,
   "id": "db853a48",
   "metadata": {
    "execution": {
     "iopub.execute_input": "2021-11-11T10:51:43.038505Z",
     "iopub.status.busy": "2021-11-11T10:51:43.038074Z",
     "iopub.status.idle": "2021-11-11T10:51:43.044473Z",
     "shell.execute_reply": "2021-11-11T10:51:43.044065Z"
    },
    "tags": [
     "cor"
    ]
   },
   "outputs": [
    {
     "data": {
      "text/plain": [
       "val somme : int -> int = <fun>\n"
      ]
     },
     "execution_count": 6,
     "metadata": {},
     "output_type": "execute_result"
    },
    {
     "data": {
      "text/plain": [
       "val somme2 : int -> int = <fun>\n"
      ]
     },
     "execution_count": 6,
     "metadata": {},
     "output_type": "execute_result"
    },
    {
     "data": {
      "text/plain": [
       "- : bool = true\n"
      ]
     },
     "execution_count": 6,
     "metadata": {},
     "output_type": "execute_result"
    }
   ],
   "source": [
    "(* 1. *)\n",
    "let rec somme n =\n",
    "    if n = 1 then 1 (* S(1) = 1 *)\n",
    "    else n + somme (n - 1);; (* on utilise S(n) = n + S(n - 1) *)\n",
    "\n",
    "(* 2. *)\n",
    "let somme2 n =\n",
    "    n*(n+1)/2;; (* on utilise la formule de Gauss *)\n",
    "    \n",
    "somme 42 = somme2 42 (* vérification *)"
   ]
  },
  {
   "cell_type": "markdown",
   "id": "49091496",
   "metadata": {},
   "source": [
    "Une application classique de la récursivité est le calcul des termes d'une suite récurrente.  \n",
    "Par exemple :\n",
    "$$\\begin{cases} \n",
    "u_{n} = 3u_{n-1} + 2, \\text{si } n > 0\\\\\n",
    "u_0 = 5\n",
    "\\end{cases}$$"
   ]
  },
  {
   "cell_type": "markdown",
   "id": "65bceae0",
   "metadata": {},
   "source": [
    "Cette définition par récurrence se traduit naturellement en fonction récursive :"
   ]
  },
  {
   "cell_type": "code",
   "execution_count": 7,
   "id": "79520f24",
   "metadata": {
    "execution": {
     "iopub.execute_input": "2021-11-11T10:51:43.046178Z",
     "iopub.status.busy": "2021-11-11T10:51:43.045763Z",
     "iopub.status.idle": "2021-11-11T10:51:43.048356Z",
     "shell.execute_reply": "2021-11-11T10:51:43.048724Z"
    }
   },
   "outputs": [
    {
     "data": {
      "text/plain": [
       "val u : int -> int = <fun>\n"
      ]
     },
     "execution_count": 7,
     "metadata": {},
     "output_type": "execute_result"
    }
   ],
   "source": [
    "let rec u n = \n",
    "    if n = 0 then 5\n",
    "    else 3*(u (n - 1)) + 2"
   ]
  },
  {
   "cell_type": "code",
   "execution_count": 8,
   "id": "4874adf8",
   "metadata": {
    "execution": {
     "iopub.execute_input": "2021-11-11T10:51:43.050346Z",
     "iopub.status.busy": "2021-11-11T10:51:43.049930Z",
     "iopub.status.idle": "2021-11-11T10:51:43.051952Z",
     "shell.execute_reply": "2021-11-11T10:51:43.051606Z"
    }
   },
   "outputs": [
    {
     "data": {
      "text/plain": [
       "- : int = 354293\n"
      ]
     },
     "execution_count": 8,
     "metadata": {},
     "output_type": "execute_result"
    }
   ],
   "source": [
    "u 10"
   ]
  },
  {
   "cell_type": "markdown",
   "id": "221005a3",
   "metadata": {
    "tags": [
     "exo"
    ]
   },
   "source": [
    "**Exercice** : calculer $v_{10}$, où $v_n$ est définie par\n",
    "$$\\begin{cases} \n",
    "v_{n+1} = \\sqrt{v_{n}} + 4, \\text{si } n > 0\\\\\n",
    "v_1 = 5\n",
    "\\end{cases}$$"
   ]
  },
  {
   "cell_type": "code",
   "execution_count": 9,
   "id": "502e8548",
   "metadata": {
    "execution": {
     "iopub.execute_input": "2021-11-11T10:51:43.053623Z",
     "iopub.status.busy": "2021-11-11T10:51:43.053192Z",
     "iopub.status.idle": "2021-11-11T10:51:43.060302Z",
     "shell.execute_reply": "2021-11-11T10:51:43.059886Z"
    },
    "tags": [
     "cor"
    ]
   },
   "outputs": [
    {
     "data": {
      "text/plain": [
       "- : float = 6.56155211605287\n"
      ]
     },
     "execution_count": 9,
     "metadata": {},
     "output_type": "execute_result"
    }
   ],
   "source": [
    "let rec v n = \n",
    "    if n = 1 then 5. \n",
    "    else (v (n - 1))**0.5 +. 4. in (* le résultat est un flottant à cause de la racine *)\n",
    "v 10"
   ]
  },
  {
   "cell_type": "markdown",
   "id": "87c99f6e",
   "metadata": {},
   "source": [
    "Un autre exemple classique est la suite de Fibonacci :\n",
    "$$u_0 = 1$$\n",
    "$$u_1 = 1$$\n",
    "$$u_n = u_{n - 1} + u_{n - 2}$$\n",
    "\n",
    "On pourrait l'implémenter de la façon suivante :"
   ]
  },
  {
   "cell_type": "code",
   "execution_count": 10,
   "id": "b6d08229",
   "metadata": {
    "execution": {
     "iopub.execute_input": "2021-11-11T10:51:43.062077Z",
     "iopub.status.busy": "2021-11-11T10:51:43.061660Z",
     "iopub.status.idle": "2021-11-11T10:51:43.065303Z",
     "shell.execute_reply": "2021-11-11T10:51:43.065648Z"
    }
   },
   "outputs": [
    {
     "data": {
      "text/plain": [
       "- : int = 89\n"
      ]
     },
     "execution_count": 10,
     "metadata": {},
     "output_type": "execute_result"
    }
   ],
   "source": [
    "let rec fibo n =\n",
    "    if n <= 1 then 1\n",
    "    else fibo (n - 1) + fibo (n - 2) in\n",
    "fibo 10"
   ]
  },
  {
   "cell_type": "markdown",
   "id": "961d8a84",
   "metadata": {},
   "source": [
    "**Attention : cette méthode est très inefficace. Pour s'en convaincre, regardons visuellement les appels récursifs de fibo :**\n",
    "\n",
    "<center><img src=data:image/png;base64,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 width=450></center>\n",
    "\n",
    "Il y a de nombreux calculs inutiles : par exemple, `fibo 3` est appelé 2 fois et `fibo 2` est appelé 3 fois, ce qui est inefficace. "
   ]
  },
  {
   "cell_type": "markdown",
   "id": "78f11fcf",
   "metadata": {
    "tags": [
     "exo"
    ]
   },
   "source": [
    "**Exercice** : Montrer que le nombre d'appels récursifs pour calculer `fibo n` est exponentiel en $n$ (c'est à dire supérieur à $a^n$ pour un certain $a$ indépendant de $n$)."
   ]
  },
  {
   "cell_type": "markdown",
   "id": "727e41b7",
   "metadata": {
    "tags": [
     "cor"
    ]
   },
   "source": [
    "Soit $C_{n}$ le nombre d'appels récursifs effectués par `fibo n` (on compte l'appel de `fibo n` ainsi que tous ses sous-appels récursifs). Alors : \n",
    "$$C_{n} = \\underbrace{C_{n-1}}_{\\text{appels récursifs de  fibo (n-1)}} + \\underbrace{C_{n-2}}_{\\text{appels récursifs de fibo (n-2)}}$$\n",
    "$C_{n}$ vérifie donc la même équation de récurrence que la suite de Fibonacci. Pour donner un minorant simplement, on peut remarquer que $C_{n-1} \\geq C_{n - 2}$ (car $C_{n-1} = C_{n - 2} + \\underbrace{C_{n - 3}}_{\\geq 0}$) donc $C_{n} \\geq 2 C_{n - 2}$ et en appliquant cette inégalité plusieurs fois :\n",
    "$$C_{n} \\geq 2 C_{n - 2} \\geq 2^2 C_{n - 4} \\geq 2^3 C_{n - 6} \\geq ... \\geq 2^\\frac{n}{2} C_{n - 2\\frac{n}{2}} = 2^\\frac{n}{2}$$\n",
    "On a donc montré que $\\boxed{\\forall n \\in \\mathbb{N}, C_{n} \\geq 2^\\frac{n}{2}}$ : `fibo n` effectue un nombre exponentiel (en $n$) d'appels récursifs."
   ]
  },
  {
   "cell_type": "markdown",
   "id": "2ffd3a10",
   "metadata": {},
   "source": [
    "Il est possible d'éviter ces appels inutiles en utilisant un **accumulateur**. Un accumulateur est un argument d'une fonction récursive que l'on va utiliser pour construire le résultat final. L'accumulateur est modifié à chaque appel récursif."
   ]
  },
  {
   "cell_type": "code",
   "execution_count": 11,
   "id": "f67b2b04",
   "metadata": {
    "execution": {
     "iopub.execute_input": "2021-11-11T10:51:43.067356Z",
     "iopub.status.busy": "2021-11-11T10:51:43.066924Z",
     "iopub.status.idle": "2021-11-11T10:51:43.071416Z",
     "shell.execute_reply": "2021-11-11T10:51:43.071760Z"
    }
   },
   "outputs": [
    {
     "data": {
      "text/plain": [
       "- : int = 89\n"
      ]
     },
     "execution_count": 11,
     "metadata": {},
     "output_type": "execute_result"
    }
   ],
   "source": [
    "let rec fibo2 n a b =\n",
    "  (* n est le nombre de termes restants à calculer *)\n",
    "  (* a est le dernier terme calculé de la suite *)\n",
    "  (* b est l'avant-dernier terme calculé *)\n",
    "  if n = 0 then b\n",
    "  else fibo2 (n - 1) (a + b) a in (* les derniers termes deviennent a+b et a *)\n",
    "fibo2 10 1 1"
   ]
  },
  {
   "cell_type": "markdown",
   "id": "9aecc461",
   "metadata": {},
   "source": [
    "On verra aussi plus tard une technique de **mémoïsation** permettant d'éviter de faire 2x le même appel récursif, de façon systématique.\n",
    "\n",
    "Bien sûr, on pourrait aussi utiliser une boucle `for` en stockant les deux derniers termes de la suite dans des variables, mais l'objectif ici est de s'entraîner à penser récursivement.  "
   ]
  },
  {
   "cell_type": "markdown",
   "id": "5830155a",
   "metadata": {},
   "source": [
    "## Sous-fonction récursive\n",
    "\n",
    "Quand on souhaite écrire une fonction `f x` en utilisant une méthode récursive mais que `x` doit être accessible dans les appels récursifs, on peut utiliser une sous-fonction récursive dans `f`, et `f` se contentera d'appeler cette fonction.  \n",
    "\n",
    "Par exemple, pour savoir si un entier est premier :"
   ]
  },
  {
   "cell_type": "code",
   "execution_count": 12,
   "id": "7e405195",
   "metadata": {
    "execution": {
     "iopub.execute_input": "2021-11-11T10:51:43.073421Z",
     "iopub.status.busy": "2021-11-11T10:51:43.072976Z",
     "iopub.status.idle": "2021-11-11T10:51:43.076412Z",
     "shell.execute_reply": "2021-11-11T10:51:43.076785Z"
    }
   },
   "outputs": [
    {
     "data": {
      "text/plain": [
       "val premier : int -> bool = <fun>\n"
      ]
     },
     "execution_count": 12,
     "metadata": {},
     "output_type": "execute_result"
    }
   ],
   "source": [
    "let premier n =\n",
    "    let rec f k =  (* renvoie true si n n'a pas de diviseurs entre 2 et k *)\n",
    "        if k = 1 then true  (* on a regardé tous les diviseurs potentiels *)\n",
    "        else if n mod k = 0 then false  (* si k divise n *)\n",
    "        else f (k - 1) in (* vérifie que n n'a pas de diviseurs entre 2 et k *)\n",
    "    f (n - 1)  (* teste si n a un diviseur entre 2 et n - 1 *)"
   ]
  },
  {
   "cell_type": "code",
   "execution_count": 13,
   "id": "8f332dd2",
   "metadata": {
    "execution": {
     "iopub.execute_input": "2021-11-11T10:51:43.078342Z",
     "iopub.status.busy": "2021-11-11T10:51:43.077919Z",
     "iopub.status.idle": "2021-11-11T10:51:43.081422Z",
     "shell.execute_reply": "2021-11-11T10:51:43.081760Z"
    }
   },
   "outputs": [
    {
     "data": {
      "text/plain": [
       "- : bool = true\n"
      ]
     },
     "execution_count": 13,
     "metadata": {},
     "output_type": "execute_result"
    }
   ],
   "source": [
    "premier 2 && premier 3 && not (premier 4)  (* test *)"
   ]
  }
 ],
 "metadata": {
  "jupytext": {
   "cell_metadata_filter": "-all",
   "main_language": "ocaml",
   "notebook_metadata_filter": "-all"
  },
  "kernelspec": {
   "display_name": "OCaml default",
   "language": "OCaml",
   "name": "ocaml-jupyter"
  },
  "language_info": {
   "codemirror_mode": "text/x-ocaml",
   "file_extension": ".ml",
   "mimetype": "text/x-ocaml",
   "name": "OCaml",
   "nbconverter_exporter": null,
   "pygments_lexer": "OCaml",
   "version": "4.08.1"
  },
  "title": "Récursivité"
 },
 "nbformat": 4,
 "nbformat_minor": 5
}

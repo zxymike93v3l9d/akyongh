{
 "cells": [
  {
   "cell_type": "markdown",
   "id": "f2f08389",
   "metadata": {},
   "source": [
    "# <center><a href='https://mybinder.org/v2/gh/fortierq/binder-mp2i/main?urlpath=git-pull%3Frepo%3Dhttps%253A%252F%252Fgithub.com%252Fmp2i-fsm%252Fmp2i-2021%26urlpath%3Dlab%252Ftree%252Fmp2i-2021%252F1_ocaml%252F3_conditions.ipynb%26branch%3Dmain'>Conditions                                                                                                        <img src=https://mybinder.org/badge.svg></a></center>\n",
    "\n",
    "## Booléens\n",
    "\n",
    "Une valeur booléenne (bool) est soit true (vrai) soit false (faux). Exemple de variable de type bool :"
   ]
  },
  {
   "cell_type": "code",
   "execution_count": 1,
   "id": "61c6dfdd",
   "metadata": {
    "execution": {
     "iopub.execute_input": "2021-11-13T11:35:17.988834Z",
     "iopub.status.busy": "2021-11-13T11:35:17.988285Z",
     "iopub.status.idle": "2021-11-13T11:35:17.991069Z",
     "shell.execute_reply": "2021-11-13T11:35:17.990444Z"
    }
   },
   "outputs": [
    {
     "data": {
      "text/plain": [
       "val a : bool = true\n"
      ]
     },
     "execution_count": 1,
     "metadata": {},
     "output_type": "execute_result"
    }
   ],
   "source": [
    "let a = true"
   ]
  },
  {
   "cell_type": "markdown",
   "id": "0b52e349",
   "metadata": {},
   "source": [
    "## Comparaison"
   ]
  },
  {
   "cell_type": "markdown",
   "id": "b7f774ce",
   "metadata": {},
   "source": [
    "On peut tester l'égalité de deux **valeurs** avec `=` :"
   ]
  },
  {
   "cell_type": "code",
   "execution_count": 2,
   "id": "e987b60e",
   "metadata": {
    "execution": {
     "iopub.execute_input": "2021-11-13T11:35:17.994403Z",
     "iopub.status.busy": "2021-11-13T11:35:17.993783Z",
     "iopub.status.idle": "2021-11-13T11:35:17.998795Z",
     "shell.execute_reply": "2021-11-13T11:35:17.998174Z"
    },
    "tags": []
   },
   "outputs": [
    {
     "data": {
      "text/plain": [
       "- : bool = true\n"
      ]
     },
     "execution_count": 2,
     "metadata": {},
     "output_type": "execute_result"
    }
   ],
   "source": [
    "3 = 1 + 2"
   ]
  },
  {
   "cell_type": "markdown",
   "id": "4f6ba510",
   "metadata": {},
   "source": [
    "On peut aussi utiliser `=` sur des variables, auquel cas on compare leurs valeurs :"
   ]
  },
  {
   "cell_type": "code",
   "execution_count": 3,
   "id": "6dc44760",
   "metadata": {
    "execution": {
     "iopub.execute_input": "2021-11-13T11:35:18.000942Z",
     "iopub.status.busy": "2021-11-13T11:35:18.000175Z",
     "iopub.status.idle": "2021-11-13T11:35:18.003397Z",
     "shell.execute_reply": "2021-11-13T11:35:18.003970Z"
    }
   },
   "outputs": [
    {
     "data": {
      "text/plain": [
       "- : bool = false\n"
      ]
     },
     "execution_count": 3,
     "metadata": {},
     "output_type": "execute_result"
    }
   ],
   "source": [
    "let a = 3 in\n",
    "let b = 4 in\n",
    "a = b (* teste si les valeurs de a et b sont égales *)"
   ]
  },
  {
   "cell_type": "markdown",
   "id": "99914970",
   "metadata": {},
   "source": [
    "**Attention** : le `=`  de OCaml correspond au `==` de Python. `==` existe en OCaml, mais compare les **adresses mémoires** de 2 variables au lieu de leurs valeurs et on ne l'utilisera presque jamais."
   ]
  },
  {
   "cell_type": "markdown",
   "id": "c0f414c2",
   "metadata": {},
   "source": [
    "On peut comparer des valeurs numériques avec `<` (inférieur strict), `>`, `<=` (inférieur ou égal), `>=`, `<>` (différent)... :"
   ]
  },
  {
   "cell_type": "code",
   "execution_count": 4,
   "id": "ca8adde3",
   "metadata": {
    "execution": {
     "iopub.execute_input": "2021-11-13T11:35:18.006053Z",
     "iopub.status.busy": "2021-11-13T11:35:18.005499Z",
     "iopub.status.idle": "2021-11-13T11:35:18.007887Z",
     "shell.execute_reply": "2021-11-13T11:35:18.008410Z"
    }
   },
   "outputs": [
    {
     "data": {
      "text/plain": [
       "- : bool = false\n"
      ]
     },
     "execution_count": 4,
     "metadata": {},
     "output_type": "execute_result"
    }
   ],
   "source": [
    "2 < 1"
   ]
  },
  {
   "cell_type": "markdown",
   "id": "1de8a1f9",
   "metadata": {},
   "source": [
    "Il faut obligatoirement comparer des valeurs de même type :"
   ]
  },
  {
   "cell_type": "code",
   "execution_count": 5,
   "id": "8afcf97c",
   "metadata": {
    "execution": {
     "iopub.execute_input": "2021-11-13T11:35:18.010329Z",
     "iopub.status.busy": "2021-11-13T11:35:18.009814Z",
     "iopub.status.idle": "2021-11-13T11:35:18.012634Z",
     "shell.execute_reply": "2021-11-13T11:35:18.012133Z"
    }
   },
   "outputs": [
    {
     "ename": "error",
     "evalue": "compile_error",
     "output_type": "error",
     "traceback": [
      "File \"[5]\", line 1, characters 6-7:\n1 | 2.4 < 3 (* on ne peut pas comparer un float avec un int *)\n          ^\nError: This expression has type int but an expression was expected of type\n         float\n"
     ]
    }
   ],
   "source": [
    "2.4 < 3 (* on ne peut pas comparer un float avec un int *)"
   ]
  },
  {
   "cell_type": "code",
   "execution_count": 6,
   "id": "caab1ef1",
   "metadata": {
    "execution": {
     "iopub.execute_input": "2021-11-13T11:35:18.014722Z",
     "iopub.status.busy": "2021-11-13T11:35:18.014107Z",
     "iopub.status.idle": "2021-11-13T11:35:18.017087Z",
     "shell.execute_reply": "2021-11-13T11:35:18.016578Z"
    }
   },
   "outputs": [
    {
     "data": {
      "text/plain": [
       "- : bool = true\n"
      ]
     },
     "execution_count": 6,
     "metadata": {},
     "output_type": "execute_result"
    }
   ],
   "source": [
    "2.4 < 3.0 (* par contre ceci fonctionne *)"
   ]
  },
  {
   "cell_type": "markdown",
   "id": "9f0affeb",
   "metadata": {},
   "source": [
    "**Remarque** : pas besoin de mettre des points (.) sur `<`, `>` ..."
   ]
  },
  {
   "cell_type": "markdown",
   "id": "0c7d5636",
   "metadata": {},
   "source": [
    "Les opérateurs `&&` (et), `||` (ou), `not` permettent de combiner des conditions :"
   ]
  },
  {
   "cell_type": "code",
   "execution_count": 7,
   "id": "ff500542",
   "metadata": {
    "execution": {
     "iopub.execute_input": "2021-11-13T11:35:18.019246Z",
     "iopub.status.busy": "2021-11-13T11:35:18.018695Z",
     "iopub.status.idle": "2021-11-13T11:35:18.021558Z",
     "shell.execute_reply": "2021-11-13T11:35:18.022057Z"
    },
    "tags": []
   },
   "outputs": [
    {
     "data": {
      "text/plain": [
       "- : bool = true\n"
      ]
     },
     "execution_count": 7,
     "metadata": {},
     "output_type": "execute_result"
    }
   ],
   "source": [
    "1 < 2 && 2 < 3"
   ]
  },
  {
   "cell_type": "code",
   "execution_count": 8,
   "id": "75e1fc67",
   "metadata": {
    "execution": {
     "iopub.execute_input": "2021-11-13T11:35:18.024162Z",
     "iopub.status.busy": "2021-11-13T11:35:18.023504Z",
     "iopub.status.idle": "2021-11-13T11:35:18.027189Z",
     "shell.execute_reply": "2021-11-13T11:35:18.026698Z"
    },
    "tags": []
   },
   "outputs": [
    {
     "data": {
      "text/plain": [
       "- : bool = false\n"
      ]
     },
     "execution_count": 8,
     "metadata": {},
     "output_type": "execute_result"
    }
   ],
   "source": [
    "let a = 0 in\n",
    "a <> 0 || a > 3 (* test si a est différent de 0 ou supérieur à 3 *)"
   ]
  },
  {
   "cell_type": "markdown",
   "id": "8edd912b",
   "metadata": {
    "tags": [
     "exo"
    ]
   },
   "source": [
    "**Exercice**\n",
    "\n",
    "1. Quelle est la valeur du code suivant?\n",
    "```ocaml\n",
    "let a = 42 in\n",
    "not (a = 42 && (a < 10 || a > 30))\n",
    "```\n",
    "2. Comment aurait-on pu écrire `not (a = 42 && (a < 10 || a > 30))` sans `not`?\n",
    "3. Écrire une fonction `xor : bool -> bool -> bool` telle que `xor a b` renvoie le \"ou exclusif\" de `a` et `b`, c'est à dire `true` si `a` ou `b` est `true`, mais pas les deux."
   ]
  },
  {
   "cell_type": "code",
   "execution_count": 9,
   "id": "0019cf78",
   "metadata": {
    "execution": {
     "iopub.execute_input": "2021-11-13T11:35:18.029100Z",
     "iopub.status.busy": "2021-11-13T11:35:18.028592Z",
     "iopub.status.idle": "2021-11-13T11:35:18.033906Z",
     "shell.execute_reply": "2021-11-13T11:35:18.034418Z"
    },
    "tags": [
     "cor"
    ]
   },
   "outputs": [
    {
     "data": {
      "text/plain": [
       "- : bool = false\n"
      ]
     },
     "execution_count": 9,
     "metadata": {},
     "output_type": "execute_result"
    },
    {
     "ename": "error",
     "evalue": "compile_error",
     "output_type": "error",
     "traceback": [
      "File \"[9]\", line 7, characters 5-7:\n7 | a <> 42 || (a >= 10 && a <= 30)\n         ^^\nError: This expression has type int but an expression was expected of type\n         bool\n"
     ]
    }
   ],
   "source": [
    "(* 1 *)\n",
    "let a = 42 in\n",
    "not (a = 42 && (a < 10 || a > 30));; (* false *)\n",
    "\n",
    "(* 2 *)\n",
    "(* Pour prendre la négation, on inverse toutes les conditions et opérateurs booléens (< devient >=, && devient || ...) *)\n",
    "a <> 42 || (a >= 10 && a <= 30)\n",
    "\n",
    "(* 3. *)\n",
    "let xor a b = (a || b) && (not a || not b);;\n",
    "xor true false;;\n",
    "xor true true;;"
   ]
  },
  {
   "cell_type": "markdown",
   "id": "752ca7ed",
   "metadata": {},
   "source": [
    "## Condition if\n",
    "\n",
    "On peut écrire une condition `if` de la façon suivante en OCaml :\n",
    "```ocaml\n",
    "if ... then ... else ...\n",
    "```\n",
    "La condition du `if` doit être un booléen. Si la condition est vraie, le `then` est exécuté et sa valeur est renvoyé. Sinon, c'est la valeur du `else` qui est renvoyé :  "
   ]
  },
  {
   "cell_type": "code",
   "execution_count": 10,
   "id": "2138aecf",
   "metadata": {
    "execution": {
     "iopub.execute_input": "2021-11-13T11:35:18.036650Z",
     "iopub.status.busy": "2021-11-13T11:35:18.035996Z",
     "iopub.status.idle": "2021-11-13T11:35:18.038967Z",
     "shell.execute_reply": "2021-11-13T11:35:18.038534Z"
    }
   },
   "outputs": [
    {
     "data": {
      "text/plain": [
       "- : int = 24\n"
      ]
     },
     "execution_count": 10,
     "metadata": {},
     "output_type": "execute_result"
    }
   ],
   "source": [
    "if 1 = 2 then 42 else 24"
   ]
  },
  {
   "cell_type": "markdown",
   "id": "a0b589e6",
   "metadata": {},
   "source": [
    "Définissons par exemple la fonction valeur absolue ($x \\longmapsto \\vert x \\vert$) :"
   ]
  },
  {
   "cell_type": "code",
   "execution_count": 11,
   "id": "64c5a67d",
   "metadata": {
    "execution": {
     "iopub.execute_input": "2021-11-13T11:35:18.041027Z",
     "iopub.status.busy": "2021-11-13T11:35:18.040362Z",
     "iopub.status.idle": "2021-11-13T11:35:18.043784Z",
     "shell.execute_reply": "2021-11-13T11:35:18.043236Z"
    },
    "tags": []
   },
   "outputs": [
    {
     "data": {
      "text/plain": [
       "val abs : float -> float = <fun>\n"
      ]
     },
     "execution_count": 11,
     "metadata": {},
     "output_type": "execute_result"
    }
   ],
   "source": [
    "let abs x =\n",
    "    if x < 0. then -. x\n",
    "    else x"
   ]
  },
  {
   "cell_type": "markdown",
   "id": "f53ad018",
   "metadata": {},
   "source": [
    "Rappelons qu'il n'y a pas de `return` en OCaml : c'est la dernière expression calculée par la fonction qui est renvoyée. Ainsi `abs x` renvoie `-x` si `x` est négatif et `x` sinon.  "
   ]
  },
  {
   "cell_type": "code",
   "execution_count": 12,
   "id": "88c2297b",
   "metadata": {
    "execution": {
     "iopub.execute_input": "2021-11-13T11:35:18.045769Z",
     "iopub.status.busy": "2021-11-13T11:35:18.045221Z",
     "iopub.status.idle": "2021-11-13T11:35:18.047047Z",
     "shell.execute_reply": "2021-11-13T11:35:18.047547Z"
    },
    "tags": []
   },
   "outputs": [
    {
     "data": {
      "text/plain": [
       "- : float = 2.718\n"
      ]
     },
     "execution_count": 12,
     "metadata": {},
     "output_type": "execute_result"
    }
   ],
   "source": [
    "abs (-2.718)  (* je mets des parenthèses à cause du - *)"
   ]
  },
  {
   "cell_type": "markdown",
   "id": "ce1963d2",
   "metadata": {},
   "source": [
    "Pour plus de lisibilité on sautera une ligne avant `then` et `else`, sauf si le contenu du `if` est très court."
   ]
  },
  {
   "cell_type": "markdown",
   "id": "835fe151",
   "metadata": {
    "tags": [
     "exo"
    ]
   },
   "source": [
    "**Exercice** : Écrire une fonction `max` renvoyant le maximum de ses 2 arguments.  \n",
    "Remarque : cette fonction existe déjà et peut être utilisée telle quelle.  "
   ]
  },
  {
   "cell_type": "code",
   "execution_count": 13,
   "id": "a268aa6b",
   "metadata": {
    "execution": {
     "iopub.execute_input": "2021-11-13T11:35:18.049400Z",
     "iopub.status.busy": "2021-11-13T11:35:18.048909Z",
     "iopub.status.idle": "2021-11-13T11:35:18.051445Z",
     "shell.execute_reply": "2021-11-13T11:35:18.051991Z"
    }
   },
   "outputs": [
    {
     "data": {
      "text/plain": [
       "val max : 'a -> 'a -> 'a = <fun>\n"
      ]
     },
     "execution_count": 13,
     "metadata": {},
     "output_type": "execute_result"
    }
   ],
   "source": [
    "let max x y = if x < y then y else x"
   ]
  },
  {
   "cell_type": "markdown",
   "id": "d42f53db",
   "metadata": {},
   "source": [
    "Dans un `if ... then ... else ...`, les valeurs dans le `then` et dans le `else` doivent être de même type :"
   ]
  },
  {
   "cell_type": "code",
   "execution_count": 14,
   "id": "cb75a8a4",
   "metadata": {
    "execution": {
     "iopub.execute_input": "2021-11-13T11:35:18.055129Z",
     "iopub.status.busy": "2021-11-13T11:35:18.054467Z",
     "iopub.status.idle": "2021-11-13T11:35:18.056676Z",
     "shell.execute_reply": "2021-11-13T11:35:18.057208Z"
    }
   },
   "outputs": [
    {
     "ename": "error",
     "evalue": "compile_error",
     "output_type": "error",
     "traceback": [
      "File \"[14]\", line 2, characters 5-9:\n2 | else 3.14  (* impossible d'avoir 2 types différents dans le then et else *)\n         ^^^^\nError: This expression has type float but an expression was expected of type\n         int\n"
     ]
    }
   ],
   "source": [
    "if 1 = 1 then 2\n",
    "else 3.14  (* impossible d'avoir 2 types différents dans le then et else *)"
   ]
  },
  {
   "cell_type": "markdown",
   "id": "ecb49978",
   "metadata": {},
   "source": [
    "La valeur renvoyée par `if ... then ... else ...` peut être stockée dans une variable :"
   ]
  },
  {
   "cell_type": "code",
   "execution_count": 15,
   "id": "9de956e0",
   "metadata": {
    "execution": {
     "iopub.execute_input": "2021-11-13T11:35:18.059133Z",
     "iopub.status.busy": "2021-11-13T11:35:18.058627Z",
     "iopub.status.idle": "2021-11-13T11:35:18.061927Z",
     "shell.execute_reply": "2021-11-13T11:35:18.061347Z"
    }
   },
   "outputs": [
    {
     "data": {
      "text/plain": [
       "- : int = 5\n"
      ]
     },
     "execution_count": 15,
     "metadata": {},
     "output_type": "execute_result"
    }
   ],
   "source": [
    "let a = -5 in\n",
    "let b = if a > 0 then a else -a in (* on pourrait aussi calculer une valeur absolue comme ça *) \n",
    "b  (* b vaut 5 *)"
   ]
  },
  {
   "cell_type": "markdown",
   "id": "514a51ee",
   "metadata": {
    "tags": [
     "exo"
    ]
   },
   "source": [
    "**Exercice** Définir les fonctions suivantes en OCaml :  \n",
    "<center><img src=\"data:image/png;base64,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\" width=500/>\n",
    "</center>\n",
    "\n",
    "<center><img src=\"data:image/png;base64,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\" width=500/></center>\n",
    "\n",
    "<center><img src=\"data:image/png;base64,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\" width=500/></center>"
   ]
  },
  {
   "cell_type": "code",
   "execution_count": 16,
   "id": "766566e4",
   "metadata": {
    "execution": {
     "iopub.execute_input": "2021-11-13T11:35:18.067814Z",
     "iopub.status.busy": "2021-11-13T11:35:18.067196Z",
     "iopub.status.idle": "2021-11-13T11:35:18.072013Z",
     "shell.execute_reply": "2021-11-13T11:35:18.071476Z"
    },
    "tags": [
     "cor"
    ]
   },
   "outputs": [
    {
     "data": {
      "text/plain": [
       "val f1 : float -> float = <fun>\n"
      ]
     },
     "execution_count": 16,
     "metadata": {},
     "output_type": "execute_result"
    },
    {
     "data": {
      "text/plain": [
       "val abs_float : float -> float = <fun>\n"
      ]
     },
     "execution_count": 16,
     "metadata": {},
     "output_type": "execute_result"
    },
    {
     "data": {
      "text/plain": [
       "val f2 : float -> float = <fun>\n"
      ]
     },
     "execution_count": 16,
     "metadata": {},
     "output_type": "execute_result"
    },
    {
     "data": {
      "text/plain": [
       "val f3 : float -> float = <fun>\n"
      ]
     },
     "execution_count": 16,
     "metadata": {},
     "output_type": "execute_result"
    }
   ],
   "source": [
    "let f1 x = \n",
    "    if x < 1. then 2. (* l'argument de f1 doit être un float donc il faut le comparer à un float *)\n",
    "    else 1.;;\n",
    "    \n",
    "let abs_float x = (* valeur absolue sur les entiers *)\n",
    "    if x < 0. then -.x else x;;\n",
    "    \n",
    "let f2 x = \n",
    "    if x < 0. then abs_float (x +. 3.) \n",
    "    else 3.;;\n",
    "    \n",
    "let f3 x = \n",
    "    if x < 0. then  0.\n",
    "    else if x < 1. then 1.\n",
    "    else 3.;;"
   ]
  },
  {
   "cell_type": "markdown",
   "id": "d7a3526d",
   "metadata": {
    "tags": [
     "exo"
    ]
   },
   "source": [
    "**Exercice** Écrire une fonction `n_solutions : float -> float -> float -> int` telle que `n_solutions a b c` renvoie le nombre de solutions de l'équation $ax^2 + bx + c$."
   ]
  },
  {
   "cell_type": "code",
   "execution_count": 17,
   "id": "8e8034ba",
   "metadata": {
    "execution": {
     "iopub.execute_input": "2021-11-13T11:35:18.074147Z",
     "iopub.status.busy": "2021-11-13T11:35:18.073510Z",
     "iopub.status.idle": "2021-11-13T11:35:18.079427Z",
     "shell.execute_reply": "2021-11-13T11:35:18.079911Z"
    },
    "tags": [
     "cor"
    ]
   },
   "outputs": [
    {
     "data": {
      "text/plain": [
       "val n_solutions : float -> float -> float -> int = <fun>\n"
      ]
     },
     "execution_count": 17,
     "metadata": {},
     "output_type": "execute_result"
    },
    {
     "data": {
      "text/plain": [
       "- : int = 2\n"
      ]
     },
     "execution_count": 17,
     "metadata": {},
     "output_type": "execute_result"
    }
   ],
   "source": [
    "let n_solutions a b c =\n",
    "    let delta = b**2. -. 4.*.a*.c in\n",
    "    if abs delta < 0.0001 then 1 (* regarde si delta vaut 0, en prenant en compte les erreurs d'arrondis des float *)\n",
    "    else if delta > 0. then 2\n",
    "    else 0;;\n",
    "n_solutions 3. 5. 2.;;    "
   ]
  }
 ],
 "metadata": {
  "jupytext": {
   "cell_metadata_filter": "-all",
   "main_language": "ocaml",
   "notebook_metadata_filter": "-all"
  },
  "kernelspec": {
   "display_name": "OCaml default",
   "language": "OCaml",
   "name": "ocaml-jupyter"
  },
  "language_info": {
   "codemirror_mode": "text/x-ocaml",
   "file_extension": ".ml",
   "mimetype": "text/x-ocaml",
   "name": "OCaml",
   "nbconverter_exporter": null,
   "pygments_lexer": "OCaml",
   "version": "4.08.1"
  },
  "title": "Conditions"
 },
 "nbformat": 4,
 "nbformat_minor": 5
}

{
 "cells": [
  {
   "cell_type": "markdown",
   "id": "ce078b06",
   "metadata": {},
   "source": [
    "# Conditions"
   ]
  },
  {
   "cell_type": "markdown",
   "id": "7bfe1c6e",
   "metadata": {},
   "source": [
    "## Booléens"
   ]
  },
  {
   "cell_type": "markdown",
   "id": "427db3d4",
   "metadata": {},
   "source": [
    "Une valeur booléenne (bool) est soit true (vrai) soit false (faux). Exemple de variable de type bool :"
   ]
  },
  {
   "cell_type": "code",
   "execution_count": 1,
   "id": "12db9dae",
   "metadata": {
    "execution": {
     "iopub.execute_input": "2021-10-31T15:22:08.757171Z",
     "iopub.status.busy": "2021-10-31T15:22:08.756408Z",
     "iopub.status.idle": "2021-10-31T15:22:08.759259Z",
     "shell.execute_reply": "2021-10-31T15:22:08.758743Z"
    }
   },
   "outputs": [
    {
     "data": {
      "text/plain": [
       "val a : bool = true\n"
      ]
     },
     "execution_count": 1,
     "metadata": {},
     "output_type": "execute_result"
    }
   ],
   "source": [
    "let a = true"
   ]
  },
  {
   "cell_type": "markdown",
   "id": "68c7eef9",
   "metadata": {},
   "source": [
    "## Comparaison"
   ]
  },
  {
   "cell_type": "markdown",
   "id": "c5b396b3",
   "metadata": {},
   "source": [
    "On peut tester l'égalité de deux **valeurs** avec `=` :"
   ]
  },
  {
   "cell_type": "code",
   "execution_count": 2,
   "id": "a001ccb4",
   "metadata": {
    "execution": {
     "iopub.execute_input": "2021-10-31T15:22:08.761478Z",
     "iopub.status.busy": "2021-10-31T15:22:08.760964Z",
     "iopub.status.idle": "2021-10-31T15:22:08.765755Z",
     "shell.execute_reply": "2021-10-31T15:22:08.764807Z"
    },
    "tags": []
   },
   "outputs": [
    {
     "data": {
      "text/plain": [
       "- : bool = true\n"
      ]
     },
     "execution_count": 2,
     "metadata": {},
     "output_type": "execute_result"
    }
   ],
   "source": [
    "3 = 1 + 2"
   ]
  },
  {
   "cell_type": "markdown",
   "id": "a18bcd46",
   "metadata": {},
   "source": [
    "On peut aussi utiliser `=` sur des variables, auquel cas on compare leurs valeurs :"
   ]
  },
  {
   "cell_type": "code",
   "execution_count": 3,
   "id": "d9e9ec32",
   "metadata": {
    "execution": {
     "iopub.execute_input": "2021-10-31T15:22:08.768083Z",
     "iopub.status.busy": "2021-10-31T15:22:08.767297Z",
     "iopub.status.idle": "2021-10-31T15:22:08.771102Z",
     "shell.execute_reply": "2021-10-31T15:22:08.770431Z"
    }
   },
   "outputs": [
    {
     "data": {
      "text/plain": [
       "- : bool = false\n"
      ]
     },
     "execution_count": 3,
     "metadata": {},
     "output_type": "execute_result"
    }
   ],
   "source": [
    "let a = 3 in\n",
    "let b = 4 in\n",
    "a = b (* teste si les valeurs de a et b sont égales *)"
   ]
  },
  {
   "cell_type": "markdown",
   "id": "fc20fa29",
   "metadata": {},
   "source": [
    "**Attention** : le `=`  de OCaml correspond au `==` de Python. `==` existe en OCaml, mais compare les **adresses mémoires** de 2 variables au lieu de leurs valeurs et on ne l'utilisera presque jamais."
   ]
  },
  {
   "cell_type": "markdown",
   "id": "05221719",
   "metadata": {},
   "source": [
    "On peut comparer des valeurs numériques avec `<` (inférieur strict), `>`, `<=` (inférieur ou égal), `>=`, `<>` (différent)... :"
   ]
  },
  {
   "cell_type": "code",
   "execution_count": 4,
   "id": "fea94ccc",
   "metadata": {
    "execution": {
     "iopub.execute_input": "2021-10-31T15:22:08.773526Z",
     "iopub.status.busy": "2021-10-31T15:22:08.772725Z",
     "iopub.status.idle": "2021-10-31T15:22:08.775998Z",
     "shell.execute_reply": "2021-10-31T15:22:08.775400Z"
    }
   },
   "outputs": [
    {
     "data": {
      "text/plain": [
       "- : bool = false\n"
      ]
     },
     "execution_count": 4,
     "metadata": {},
     "output_type": "execute_result"
    }
   ],
   "source": [
    "2 < 1"
   ]
  },
  {
   "cell_type": "markdown",
   "id": "ec1245b8",
   "metadata": {},
   "source": [
    "Il faut obligatoirement comparer des valeurs de même type :"
   ]
  },
  {
   "cell_type": "code",
   "execution_count": 5,
   "id": "22f80464",
   "metadata": {
    "execution": {
     "iopub.execute_input": "2021-10-31T15:22:08.778109Z",
     "iopub.status.busy": "2021-10-31T15:22:08.777447Z",
     "iopub.status.idle": "2021-10-31T15:22:08.779506Z",
     "shell.execute_reply": "2021-10-31T15:22:08.779989Z"
    }
   },
   "outputs": [
    {
     "ename": "error",
     "evalue": "compile_error",
     "output_type": "error",
     "traceback": [
      "File \"[5]\", line 1, characters 6-7:\n1 | 2.4 < 3 (* on ne peut pas comparer un float avec un int *)\n          ^\nError: This expression has type int but an expression was expected of type\n         float\n"
     ]
    }
   ],
   "source": [
    "2.4 < 3 (* on ne peut pas comparer un float avec un int *)"
   ]
  },
  {
   "cell_type": "code",
   "execution_count": 6,
   "id": "42aa0d51",
   "metadata": {
    "execution": {
     "iopub.execute_input": "2021-10-31T15:22:08.782434Z",
     "iopub.status.busy": "2021-10-31T15:22:08.781808Z",
     "iopub.status.idle": "2021-10-31T15:22:08.784069Z",
     "shell.execute_reply": "2021-10-31T15:22:08.784622Z"
    }
   },
   "outputs": [
    {
     "data": {
      "text/plain": [
       "- : bool = true\n"
      ]
     },
     "execution_count": 6,
     "metadata": {},
     "output_type": "execute_result"
    }
   ],
   "source": [
    "2.4 < 3.0 (* par contre ceci fonctionne *)"
   ]
  },
  {
   "cell_type": "markdown",
   "id": "c895e786",
   "metadata": {},
   "source": [
    "**Remarque** : pas besoin de mettre des points (.) sur `<`, `>` ..."
   ]
  },
  {
   "cell_type": "markdown",
   "id": "9dc44c31",
   "metadata": {},
   "source": [
    "Les opérateurs `&&` (et), `||` (ou), `not` permettent de combiner des conditions :"
   ]
  },
  {
   "cell_type": "code",
   "execution_count": 7,
   "id": "5f3e8118",
   "metadata": {
    "execution": {
     "iopub.execute_input": "2021-10-31T15:22:08.786859Z",
     "iopub.status.busy": "2021-10-31T15:22:08.786092Z",
     "iopub.status.idle": "2021-10-31T15:22:08.789898Z",
     "shell.execute_reply": "2021-10-31T15:22:08.789360Z"
    },
    "tags": []
   },
   "outputs": [
    {
     "data": {
      "text/plain": [
       "- : bool = true\n"
      ]
     },
     "execution_count": 7,
     "metadata": {},
     "output_type": "execute_result"
    }
   ],
   "source": [
    "1 < 2 && 2 < 3"
   ]
  },
  {
   "cell_type": "code",
   "execution_count": 8,
   "id": "069dbc95",
   "metadata": {
    "execution": {
     "iopub.execute_input": "2021-10-31T15:22:08.791749Z",
     "iopub.status.busy": "2021-10-31T15:22:08.791213Z",
     "iopub.status.idle": "2021-10-31T15:22:08.794595Z",
     "shell.execute_reply": "2021-10-31T15:22:08.794995Z"
    },
    "tags": []
   },
   "outputs": [
    {
     "data": {
      "text/plain": [
       "- : bool = false\n"
      ]
     },
     "execution_count": 8,
     "metadata": {},
     "output_type": "execute_result"
    }
   ],
   "source": [
    "let a = 0 in\n",
    "a <> 0 || a > 3 (* test si a est différent de 0 ou supérieur à 3 *)"
   ]
  },
  {
   "cell_type": "markdown",
   "id": "4d436b99",
   "metadata": {},
   "source": [
    "**Exercice**\n",
    "\n",
    "1. Quelle est la valeur du code suivant?\n",
    "```ocaml\n",
    "let a = 42 in\n",
    "not (a = 42 && (a < 10 || a > 30))\n",
    "```\n",
    "2. Comment aurait-on pu écrire `not (a = 42 && (a < 10 || a > 30))` sans `not`?\n",
    "3. Écrire une fonction `xor : bool -> bool -> bool` telle que `xor a b` renvoie le \"ou exclusif\" de `a` et `b`, c'est à dire `true` si `a` ou `b` est `true`, mais pas les deux."
   ]
  },
  {
   "cell_type": "code",
   "execution_count": 9,
   "id": "996a2854",
   "metadata": {
    "execution": {
     "iopub.execute_input": "2021-10-31T15:22:08.797239Z",
     "iopub.status.busy": "2021-10-31T15:22:08.796682Z",
     "iopub.status.idle": "2021-10-31T15:22:08.802200Z",
     "shell.execute_reply": "2021-10-31T15:22:08.802719Z"
    },
    "tags": [
     "cor"
    ]
   },
   "outputs": [
    {
     "data": {
      "text/plain": [
       "- : bool = false\n"
      ]
     },
     "execution_count": 9,
     "metadata": {},
     "output_type": "execute_result"
    },
    {
     "ename": "error",
     "evalue": "compile_error",
     "output_type": "error",
     "traceback": [
      "File \"[9]\", line 7, characters 5-7:\n7 | a <> 42 || (a >= 10 && a <= 30)\n         ^^\nError: This expression has type int but an expression was expected of type\n         bool\n"
     ]
    }
   ],
   "source": [
    "(* 1 *)\n",
    "let a = 42 in\n",
    "not (a = 42 && (a < 10 || a > 30));; (* false *)\n",
    "\n",
    "(* 2 *)\n",
    "(* Pour prendre la négation, on inverse toutes les conditions et opérateurs booléens (< devient >=, && devient || ...) *)\n",
    "a <> 42 || (a >= 10 && a <= 30)\n",
    "\n",
    "(* 3. *)\n",
    "let xor a b = (a || b) && (not a || not b);;\n",
    "xor true false;;\n",
    "xor true true;;"
   ]
  },
  {
   "cell_type": "markdown",
   "id": "b0a84406",
   "metadata": {},
   "source": [
    "## Condition if\n",
    "\n",
    "On peut écrire une condition `if` de la façon suivante en OCaml :\n",
    "```ocaml\n",
    "if ... then ... else ...\n",
    "```\n",
    "La condition du `if` doit être un booléen. Si la condition est vraie, le `then` est exécuté et sa valeur est renvoyé. Sinon, c'est la valeur du `else` qui est renvoyé :  "
   ]
  },
  {
   "cell_type": "code",
   "execution_count": 10,
   "id": "23621143",
   "metadata": {
    "execution": {
     "iopub.execute_input": "2021-10-31T15:22:08.805050Z",
     "iopub.status.busy": "2021-10-31T15:22:08.804390Z",
     "iopub.status.idle": "2021-10-31T15:22:08.806681Z",
     "shell.execute_reply": "2021-10-31T15:22:08.807135Z"
    }
   },
   "outputs": [
    {
     "data": {
      "text/plain": [
       "- : int = 24\n"
      ]
     },
     "execution_count": 10,
     "metadata": {},
     "output_type": "execute_result"
    }
   ],
   "source": [
    "if 1 = 2 then 42 else 24"
   ]
  },
  {
   "cell_type": "markdown",
   "id": "a2474ee4",
   "metadata": {},
   "source": [
    "Définissons par exemple la fonction valeur absolue ($x \\longmapsto \\vert x \\vert$) :"
   ]
  },
  {
   "cell_type": "code",
   "execution_count": 11,
   "id": "c1a003fb",
   "metadata": {
    "execution": {
     "iopub.execute_input": "2021-10-31T15:22:08.809290Z",
     "iopub.status.busy": "2021-10-31T15:22:08.808582Z",
     "iopub.status.idle": "2021-10-31T15:22:08.811772Z",
     "shell.execute_reply": "2021-10-31T15:22:08.811262Z"
    },
    "tags": []
   },
   "outputs": [
    {
     "data": {
      "text/plain": [
       "val abs : float -> float = <fun>\n"
      ]
     },
     "execution_count": 11,
     "metadata": {},
     "output_type": "execute_result"
    }
   ],
   "source": [
    "let abs x =\n",
    "    if x < 0. then -. x\n",
    "    else x"
   ]
  },
  {
   "cell_type": "markdown",
   "id": "5bf8a932",
   "metadata": {},
   "source": [
    "Rappelons qu'il n'y a pas de `return` en OCaml : c'est la dernière expression calculée par la fonction qui est renvoyée. Ainsi `abs x` renvoie `-x` si `x` est négatif et `x` sinon.  "
   ]
  },
  {
   "cell_type": "code",
   "execution_count": 12,
   "id": "7fba8a80",
   "metadata": {
    "execution": {
     "iopub.execute_input": "2021-10-31T15:22:08.814093Z",
     "iopub.status.busy": "2021-10-31T15:22:08.813459Z",
     "iopub.status.idle": "2021-10-31T15:22:08.816188Z",
     "shell.execute_reply": "2021-10-31T15:22:08.816633Z"
    },
    "tags": []
   },
   "outputs": [
    {
     "data": {
      "text/plain": [
       "- : float = 2.718\n"
      ]
     },
     "execution_count": 12,
     "metadata": {},
     "output_type": "execute_result"
    }
   ],
   "source": [
    "abs (-2.718)  (* je mets des parenthèses à cause du - *)"
   ]
  },
  {
   "cell_type": "markdown",
   "id": "a10ba0b0",
   "metadata": {},
   "source": [
    "Pour plus de lisibilité on sautera une ligne avant `then` et `else`, sauf si le contenu du `if` est très court."
   ]
  },
  {
   "cell_type": "markdown",
   "id": "d6ddbaa6",
   "metadata": {},
   "source": [
    "**Exercice** : Écrire une fonction `max` renvoyant le maximum de ses 2 arguments.  \n",
    "Remarque : cette fonction existe déjà et peut être utilisée telle quelle.  "
   ]
  },
  {
   "cell_type": "code",
   "execution_count": 13,
   "id": "b5db98f0",
   "metadata": {
    "execution": {
     "iopub.execute_input": "2021-10-31T15:22:08.818513Z",
     "iopub.status.busy": "2021-10-31T15:22:08.817977Z",
     "iopub.status.idle": "2021-10-31T15:22:08.820952Z",
     "shell.execute_reply": "2021-10-31T15:22:08.820385Z"
    }
   },
   "outputs": [
    {
     "data": {
      "text/plain": [
       "val max : 'a -> 'a -> 'a = <fun>\n"
      ]
     },
     "execution_count": 13,
     "metadata": {},
     "output_type": "execute_result"
    }
   ],
   "source": [
    "let max x y = if x < y then y else x"
   ]
  },
  {
   "cell_type": "markdown",
   "id": "3a8bf5af",
   "metadata": {},
   "source": [
    "Dans un `if ... then ... else ...`, les valeurs dans le `then` et dans le `else` doivent être de même type :"
   ]
  },
  {
   "cell_type": "code",
   "execution_count": 14,
   "id": "ce22f540",
   "metadata": {
    "execution": {
     "iopub.execute_input": "2021-10-31T15:22:08.822968Z",
     "iopub.status.busy": "2021-10-31T15:22:08.822369Z",
     "iopub.status.idle": "2021-10-31T15:22:08.824355Z",
     "shell.execute_reply": "2021-10-31T15:22:08.824826Z"
    }
   },
   "outputs": [
    {
     "ename": "error",
     "evalue": "compile_error",
     "output_type": "error",
     "traceback": [
      "File \"[14]\", line 2, characters 5-9:\n2 | else 3.14  (* impossible d'avoir 2 types différents dans le then et else *)\n         ^^^^\nError: This expression has type float but an expression was expected of type\n         int\n"
     ]
    }
   ],
   "source": [
    "if 1 = 1 then 2\n",
    "else 3.14  (* impossible d'avoir 2 types différents dans le then et else *)"
   ]
  },
  {
   "cell_type": "markdown",
   "id": "c74f72d6",
   "metadata": {},
   "source": [
    "La valeur renvoyée par `if ... then ... else ...` peut être stockée dans une variable :"
   ]
  },
  {
   "cell_type": "code",
   "execution_count": 15,
   "id": "6220f452",
   "metadata": {
    "execution": {
     "iopub.execute_input": "2021-10-31T15:22:08.826702Z",
     "iopub.status.busy": "2021-10-31T15:22:08.826163Z",
     "iopub.status.idle": "2021-10-31T15:22:08.828686Z",
     "shell.execute_reply": "2021-10-31T15:22:08.829128Z"
    }
   },
   "outputs": [
    {
     "data": {
      "text/plain": [
       "- : int = 5\n"
      ]
     },
     "execution_count": 15,
     "metadata": {},
     "output_type": "execute_result"
    }
   ],
   "source": [
    "let a = -5 in\n",
    "let b = if a > 0 then a else -a in (* on pourrait aussi calculer une valeur absolue comme ça *) \n",
    "b  (* b vaut 5 *)"
   ]
  },
  {
   "cell_type": "markdown",
   "id": "3949ba18",
   "metadata": {},
   "source": [
    "**Exercice** Définir les fonctions suivantes en OCaml :  \n",
    "1.\n",
    "\n",
    "<img src=\"img/fonctions_ex1.png\" width=\"500\"/>\n",
    "\n",
    "2. \n",
    "\n",
    "<img src=\"img/fonctions_ex2.png\" width=\"500\"/>\n",
    "\n",
    "3. \n",
    "\n",
    "<img src=\"img/fonctions_ex3.png\" width=\"500\"/>\n"
   ]
  },
  {
   "cell_type": "code",
   "execution_count": 16,
   "id": "b86a6e6e",
   "metadata": {
    "execution": {
     "iopub.execute_input": "2021-10-31T15:22:08.831011Z",
     "iopub.status.busy": "2021-10-31T15:22:08.830480Z",
     "iopub.status.idle": "2021-10-31T15:22:08.837885Z",
     "shell.execute_reply": "2021-10-31T15:22:08.837306Z"
    },
    "tags": [
     "cor"
    ]
   },
   "outputs": [
    {
     "data": {
      "text/plain": [
       "val f1 : float -> float = <fun>\n"
      ]
     },
     "execution_count": 16,
     "metadata": {},
     "output_type": "execute_result"
    },
    {
     "data": {
      "text/plain": [
       "val f2 : float -> float = <fun>\n"
      ]
     },
     "execution_count": 16,
     "metadata": {},
     "output_type": "execute_result"
    },
    {
     "data": {
      "text/plain": [
       "val f3 : float -> float = <fun>\n"
      ]
     },
     "execution_count": 16,
     "metadata": {},
     "output_type": "execute_result"
    }
   ],
   "source": [
    "(* 1. *)\n",
    "let f1 x = \n",
    "    if x < 1. then 2. (* l'argument de f1 doit être un float donc il faut le comparer à un float *)\n",
    "    else 1.;;\n",
    "    \n",
    "(* 2. *)\n",
    "let f2 x = \n",
    "    if x < 0. then abs (x +. 3.) \n",
    "    else 3.;;\n",
    "    \n",
    "(* 3. *)\n",
    "let f3 x = \n",
    "    if x < 0. then  0.\n",
    "    else if x < 1. then 1.\n",
    "    else 3.;;"
   ]
  },
  {
   "cell_type": "markdown",
   "id": "1eceaf77",
   "metadata": {},
   "source": [
    "**Exercice** Écrire une fonction `n_solutions : float -> float -> float -> int` telle que `n_solutions a b c` renvoie le nombre de solutions de l'équation $ax^2 + bx + c$."
   ]
  },
  {
   "cell_type": "code",
   "execution_count": 17,
   "id": "8ed358f9",
   "metadata": {
    "execution": {
     "iopub.execute_input": "2021-10-31T15:22:08.840601Z",
     "iopub.status.busy": "2021-10-31T15:22:08.839516Z",
     "iopub.status.idle": "2021-10-31T15:22:08.846163Z",
     "shell.execute_reply": "2021-10-31T15:22:08.845659Z"
    },
    "tags": [
     "cor"
    ]
   },
   "outputs": [
    {
     "data": {
      "text/plain": [
       "val n_solutions : float -> float -> float -> int = <fun>\n"
      ]
     },
     "execution_count": 17,
     "metadata": {},
     "output_type": "execute_result"
    },
    {
     "data": {
      "text/plain": [
       "- : int = 2\n"
      ]
     },
     "execution_count": 17,
     "metadata": {},
     "output_type": "execute_result"
    }
   ],
   "source": [
    "let n_solutions a b c =\n",
    "    let delta = b**2. -. 4.*.a*.c in\n",
    "    if abs delta < 0.0001 then 1 (* regarde si delta vaut 0, en prenant en compte les erreurs d'arrondis des float *)\n",
    "    else if delta > 0. then 2\n",
    "    else 0;;\n",
    "n_solutions 3. 5. 2.;;    "
   ]
  }
 ],
 "metadata": {
  "jupytext": {
   "cell_metadata_filter": "-all",
   "main_language": "ocaml",
   "notebook_metadata_filter": "-all"
  },
  "kernelspec": {
   "display_name": "OCaml default",
   "language": "OCaml",
   "name": "ocaml-jupyter"
  },
  "language_info": {
   "codemirror_mode": "text/x-ocaml",
   "file_extension": ".ml",
   "mimetype": "text/x-ocaml",
   "name": "OCaml",
   "nbconverter_exporter": null,
   "pygments_lexer": "OCaml",
   "version": "4.08.1"
  },
  "title": "Conditions"
 },
 "nbformat": 4,
 "nbformat_minor": 5
}

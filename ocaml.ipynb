{
 "metadata": {
  "language_info": {
   "codemirror_mode": {
    "name": "ipython",
    "version": 3
   },
   "file_extension": ".py",
   "mimetype": "text/x-python",
   "name": "python",
   "nbconvert_exporter": "python",
   "pygments_lexer": "ipython3",
   "version": 3
  },
  "orig_nbformat": 4,
  "kernelspec": {
   "name": "ocaml-jupyter",
   "display_name": "OCaml default",
   "language": "OCaml"
  }
 },
 "nbformat": 4,
 "nbformat_minor": 2,
 "cells": [
  {
   "cell_type": "code",
   "execution_count": 1,
   "metadata": {},
   "outputs": [
    {
     "output_type": "execute_result",
     "data": {
      "text/plain": [
       "val x : int = 42\n"
      ]
     },
     "metadata": {},
     "execution_count": 1
    }
   ],
   "source": [
    "let x = 42;;"
   ]
  }
 ]
}
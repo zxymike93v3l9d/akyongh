{
 "cells": [
  {
   "cell_type": "markdown",
   "id": "fd3f0445-a598-4583-b892-2ad9182bb9a0",
   "metadata": {},
   "source": [
    "# TP 5 : Chaînes de caractères\n",
    "\n",
    "## Recherche de sous-mots"
   ]
  },
  {
   "cell_type": "markdown",
   "id": "17c9552c-8285-4927-9b6e-c112d4a7e666",
   "metadata": {
    "tags": [
     "exo"
    ]
   },
   "source": [
    "**Exercice**  \n",
    "1. Ecrire une fonction `bool prefix(const char*, const char*)` déterminant si une chaîne de caractères commence par un certain mot. Par exemple, `prefix(\"info\", \"informatique\")` doit renvoyer `true`.  \n",
    "2. Ecrire une fonction `bool subword(const char*, const char*)` déterminant si un mot apparaît (de façon consécutive) dans une chaîne de caractères. Par exemple, `subword(\"for\", \"informatique\")` renvoie `true`.  "
   ]
  },
  {
   "cell_type": "markdown",
   "id": "3f10ba89-5a47-4b86-a121-79c260dad4dd",
   "metadata": {},
   "source": [
    "## Anagramme"
   ]
  },
  {
   "cell_type": "markdown",
   "id": "2526237f-d0ab-4929-a312-0644546981d6",
   "metadata": {
    "tags": [
     "exo"
    ]
   },
   "source": [
    "**Exercice** : Ecrire une fonction `bool anagramme(const char*, const char*)` déterminant si deux chaînes de caractères sont des anagrammes, c'est-à-dire si l'une peut être obtenue en permutant les lettres de l'autre (en changeant la position des lettres).  \n",
    "Par exemple, `anagramme(\"casser\", \"sacres\")` doit renvoyer `true`."
   ]
  },
  {
   "cell_type": "markdown",
   "id": "9ae594b4-47ef-4df8-a21e-b6f3d83694c5",
   "metadata": {},
   "source": [
    "## Table de hachage sur des chaînes de caractères\n",
    "\n",
    "On veut implémenter une table de hachage dont les clés sont des chaînes de caractères (qu'on supposera contenir seulement des lettres de `a` à `z`, donc pas d'espace) et les valeurs sont des entiers. On va donc stocker les valeurs dans un tableau `t` de taille $n$ et on a besoin d'une fonction de hachage `h` qui à une chaîne de caractères `s` associe un indice de `t`.  \n",
    "Pour que les calculs soient plus simples, on commence par définir le haché d'**un** caractère par sa position dans l'ordre alphabétique (en commençant à 1). Par exemple, le haché de `'a'` est 1, le haché de `'b'` est 2...  "
   ]
  },
  {
   "cell_type": "markdown",
   "id": "26d9e3f4-1180-4f89-9bfb-3e0d3b98c6b6",
   "metadata": {
    "tags": [
     "exo"
    ]
   },
   "source": [
    "**Exercice** : Ecrire une fonction `int hash(char)` renvoyant le haché d'une lettre (entre `'a'` et `'z'`)."
   ]
  },
  {
   "cell_type": "markdown",
   "id": "12d2033a-39d1-4706-baf9-1418c4737a53",
   "metadata": {},
   "source": [
    "Soit $p$ un nombre supérieur ou égale au nombre de caractères (on choisit souvent $p$ premier pour que les valeurs de la fonction de hachage soient bien distribuées). Si $s$ est une chaîne de caractères, on définit :\n",
    "$$h(s) = \\sum_{i = 0}^{n - 1} \\text{hash}(s[i]) \\times p^i \\mod n$$"
   ]
  },
  {
   "cell_type": "markdown",
   "id": "2c48cc23-ec66-423b-83e3-119c26ef5f87",
   "metadata": {
    "tags": [
     "exo"
    ]
   },
   "source": [
    "**Exercice** : Ecrire une fonction `int h(const char*, int, int)` telle que `h(s, p, n)` renvoie la valeur de $h(s)$ ci-dessus. On évitera de faire plusieurs calculs de puissance et on appliquera le modulo sur chaque terme de la somme (pour éviter de faire des calculs sur des entiers trop grands)."
   ]
  },
  {
   "cell_type": "markdown",
   "id": "290dbfcb-239d-4889-abac-daa51e657d2a",
   "metadata": {},
   "source": [
    "Dans la suite, on prend $p = 31$ et $n = 11867$ (un nombre premier assez grand). "
   ]
  },
  {
   "cell_type": "markdown",
   "id": "5bbc7a4f-4d56-4b39-940e-bb856bd55585",
   "metadata": {
    "tags": [
     "exo"
    ]
   },
   "source": [
    "**Exercice** : Ecrire une fonction `void add(char*, int, int*, int)` telle que `add(k, v, t)` ajoute une clé `k` avec la valeur `v` dans `t`.  \n",
    "**Remarque** : Si `t` contenait déjà une valeur dans $h(k)$, `add` ecrase cette ancienne valeur, ce qui n'est pas souhaitable."
   ]
  },
  {
   "cell_type": "markdown",
   "id": "7a5a412d-e23a-408a-91e2-43e65c738232",
   "metadata": {
    "tags": [
     "exo"
    ]
   },
   "source": [
    "**Exercice** : Ecrire une fonction `int get(char*, int*)` telle que `get(k, t)` renvoyant la valeur associée à `k` dans `t`."
   ]
  },
  {
   "cell_type": "markdown",
   "id": "207c1e98-3290-42fe-8ea3-ec2abc601fea",
   "metadata": {
    "tags": [
     "exo"
    ]
   },
   "source": [
    "**Exercice** : Ecrire une fonction `char* most_frequent_word(char*, int)` telle que `most_frequent_word(s, l)` renvoie le mot de longueur `l` apparaissant le plus souvent dans `s`. Par exemple, `most_frequent_word(\"abcbcaabc\", 2)` doit renvoyer `bc` (qui apparaît 3 fois)."
   ]
  },
  {
   "cell_type": "markdown",
   "id": "594eca9c-f35d-44d6-b54d-21ed2d935c26",
   "metadata": {
    "tags": [
     "exo"
    ]
   },
   "source": [
    "**Exercice** : Réécrire `add` et `get` en utilisant une liste chaînée dans chaque case du tableau `t` (comme ce que l'on a fait en cours sur les tables de hachage en OCaml). `t` sera donc de type `list**` (un tableau dont chaque élément est une `list*`)."
   ]
  }
 ],
 "metadata": {
  "kernelspec": {
   "display_name": "C++14",
   "language": "C++14",
   "name": "xcpp14"
  },
  "language_info": {
   "codemirror_mode": "text/x-c++src",
   "file_extension": ".cpp",
   "mimetype": "text/x-c++src",
   "name": "c++",
   "version": "14"
  }
 },
 "nbformat": 4,
 "nbformat_minor": 5
}

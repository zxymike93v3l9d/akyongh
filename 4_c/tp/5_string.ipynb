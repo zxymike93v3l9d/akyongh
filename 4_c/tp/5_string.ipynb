{
 "cells": [
  {
   "cell_type": "markdown",
   "id": "fd3f0445-a598-4583-b892-2ad9182bb9a0",
   "metadata": {},
   "source": [
    "# <center><a href='https://mybinder.org/v2/gh/fortierq/binder-mp2i/main?urlpath=git-pull%3Frepo%3Dhttps%253A%252F%252Fgithub.com%252Fmp2i-fsm%252Fmp2i-2021%26urlpath%3Dlab%252Ftree%252Fmp2i-2021%252F4_c%252Ftp%252F5_string.ipynb%26branch%3Dmain'>TP 5 : Chaînes de caractères                                 <img src=https://mybinder.org/badge.svg></a></center>\n",
    "\n",
    "## Recherche de sous-mots"
   ]
  },
  {
   "cell_type": "markdown",
   "id": "17c9552c-8285-4927-9b6e-c112d4a7e666",
   "metadata": {
    "tags": [
     "exo"
    ]
   },
   "source": [
    "**Exercice**  \n",
    "1. Ecrire une fonction `bool prefix(const char*, const char*)` déterminant si une chaîne de caractères commence par un certain mot. Par exemple, `prefix(\"info\", \"informatique\")` doit renvoyer `true`.  \n",
    "2. Ecrire une fonction `bool subword(const char*, const char*)` déterminant si un mot apparaît (de façon consécutive) dans une chaîne de caractères. Par exemple, `subword(\"for\", \"informatique\")` renvoie `true`.  "
   ]
  },
  {
   "cell_type": "code",
   "execution_count": 1,
   "id": "d2f27738-5289-43e8-a9cd-ac9837a89d31",
   "metadata": {
    "execution": {
     "iopub.execute_input": "2021-12-03T13:32:18.793324Z",
     "iopub.status.busy": "2021-12-03T13:32:18.792826Z",
     "iopub.status.idle": "2021-12-03T13:32:19.277388Z",
     "shell.execute_reply": "2021-12-03T13:32:19.275868Z"
    },
    "tags": [
     "cor"
    ]
   },
   "outputs": [
    {
     "data": {
      "text/plain": [
       "true"
      ]
     },
     "execution_count": 1,
     "metadata": {},
     "output_type": "execute_result"
    }
   ],
   "source": [
    "// 1.\n",
    "bool prefix(const char* mot, const char* s) { // détermine si mot est préfixe de s, en supposant strlen(mot) <= strlen(s)\n",
    "    for(int i = 0; mot[i] != '\\0'; i++)\n",
    "        if(mot[i] != s[i])\n",
    "            return false;\n",
    "    return true;\n",
    "}\n",
    "\n",
    "prefix(\"info\", \"informatique\") && !prefix(\"nfo\", \"informatique\")"
   ]
  },
  {
   "cell_type": "code",
   "execution_count": 2,
   "id": "00a765ab-5425-426e-921d-71d31c258da5",
   "metadata": {
    "execution": {
     "iopub.execute_input": "2021-12-03T13:32:19.279963Z",
     "iopub.status.busy": "2021-12-03T13:32:19.279467Z",
     "iopub.status.idle": "2021-12-03T13:32:19.631259Z",
     "shell.execute_reply": "2021-12-03T13:32:19.630053Z"
    },
    "tags": [
     "cor"
    ]
   },
   "outputs": [
    {
     "data": {
      "text/plain": [
       "true"
      ]
     },
     "execution_count": 2,
     "metadata": {},
     "output_type": "execute_result"
    }
   ],
   "source": [
    "// 2.\n",
    "bool subword(const char* mot, const char* s) { // détermine si mot est un sous-mot de s\n",
    "    int n = strlen(s) - strlen(mot) + 1; // on fait attention à ne pas dépasser\n",
    "    for(int i = 0; i < n; i++)\n",
    "        if(prefix(mot, &s[i]))\n",
    "            return true;\n",
    "    return false;\n",
    "}\n",
    "\n",
    "subword(\"for\", \"informatique\") && !subword(\"nft\", \"informatique\")"
   ]
  },
  {
   "cell_type": "markdown",
   "id": "3f10ba89-5a47-4b86-a121-79c260dad4dd",
   "metadata": {},
   "source": [
    "## Anagramme"
   ]
  },
  {
   "cell_type": "markdown",
   "id": "2526237f-d0ab-4929-a312-0644546981d6",
   "metadata": {
    "tags": [
     "exo"
    ]
   },
   "source": [
    "**Exercice** : Ecrire une fonction `bool anagramme(const char*, const char*)` déterminant si deux chaînes de caractères sont des anagrammes, c'est-à-dire si l'une peut être obtenue en permutant les lettres de l'autre (en changeant la position des lettres).  \n",
    "Par exemple, `anagramme(\"casser\", \"sacres\")` doit renvoyer `true`.  \n",
    "On supposera que tous les caractères sont des lettres (de `a` à `z`) et on demande un algorithme en complexité linéaire."
   ]
  },
  {
   "cell_type": "code",
   "execution_count": 3,
   "id": "4c1b1caa-2196-4783-acbf-4052b3a4c597",
   "metadata": {
    "execution": {
     "iopub.execute_input": "2021-12-03T13:32:19.635929Z",
     "iopub.status.busy": "2021-12-03T13:32:19.635507Z",
     "iopub.status.idle": "2021-12-03T13:32:19.986980Z",
     "shell.execute_reply": "2021-12-03T13:32:19.985811Z"
    },
    "tags": [
     "cor"
    ]
   },
   "outputs": [
    {
     "data": {
      "text/plain": [
       "true"
      ]
     },
     "execution_count": 3,
     "metadata": {},
     "output_type": "execute_result"
    }
   ],
   "source": [
    "bool anagramme(const char* s1, const char* s2) {\n",
    "    int tab[26] = {0}; // va compter le nombre de lettres de s1 - nombre de lettres de s2\n",
    "    for(int i = 0; s1[i] != '\\0'; i++)\n",
    "        tab[s1[i] - 'a']++;\n",
    "    for(int i = 0; s2[i] != '\\0'; i++)\n",
    "        tab[s2[i] - 'a']--;\n",
    "    for(int i = 0; i < 26; i++)\n",
    "        if(tab[i] != 0)\n",
    "            return false;\n",
    "    return true;\n",
    "}\n",
    "\n",
    "anagramme(\"casser\", \"sacres\") && !anagramme(\"casier\", \"recase\")"
   ]
  },
  {
   "cell_type": "markdown",
   "id": "9ae594b4-47ef-4df8-a21e-b6f3d83694c5",
   "metadata": {},
   "source": [
    "## Table de hachage sur des chaînes de caractères\n",
    "\n",
    "On veut implémenter une table de hachage dont les clés sont des chaînes de caractères (qu'on supposera contenir seulement des lettres de `a` à `z`, donc pas d'espace) et les valeurs sont des entiers. On va donc stocker les valeurs dans un tableau `t` de taille $n$ et on a besoin d'une fonction de hachage `h` qui à une chaîne de caractères `s` associe un indice de `t`.  \n",
    "Pour que les calculs soient plus simples, on commence par définir le haché d'**un** caractère par sa position dans l'ordre alphabétique (en commençant à 1). Par exemple, le haché de `'a'` est 1, le haché de `'b'` est 2...  "
   ]
  },
  {
   "cell_type": "markdown",
   "id": "26d9e3f4-1180-4f89-9bfb-3e0d3b98c6b6",
   "metadata": {
    "tags": [
     "exo"
    ]
   },
   "source": [
    "**Exercice** : Ecrire une fonction `int hash(char)` renvoyant le haché d'une lettre (entre `'a'` et `'z'`)."
   ]
  },
  {
   "cell_type": "code",
   "execution_count": 4,
   "id": "ed0f8c74-8a76-477f-aa5f-85470c899761",
   "metadata": {
    "execution": {
     "iopub.execute_input": "2021-12-03T13:32:19.992060Z",
     "iopub.status.busy": "2021-12-03T13:32:19.991596Z",
     "iopub.status.idle": "2021-12-03T13:32:20.341330Z",
     "shell.execute_reply": "2021-12-03T13:32:20.340186Z"
    },
    "tags": [
     "cor"
    ]
   },
   "outputs": [
    {
     "data": {
      "text/plain": [
       "2"
      ]
     },
     "execution_count": 4,
     "metadata": {},
     "output_type": "execute_result"
    }
   ],
   "source": [
    "int hash(char c) {\n",
    "    return c - 'a' + 1; // conversion implicite de c et `a` en int\n",
    "}\n",
    "\n",
    "hash('b')"
   ]
  },
  {
   "cell_type": "markdown",
   "id": "12d2033a-39d1-4706-baf9-1418c4737a53",
   "metadata": {},
   "source": [
    "Soit $p$ un nombre supérieur ou égale au nombre de caractères (on choisit souvent $p$ premier pour que les valeurs de la fonction de hachage soient bien distribuées). Si $s$ est une chaîne de caractères de taille $m$, on définit :\n",
    "$$h(s) = \\sum_{i = 0}^{m - 1} \\text{hash}(s[i]) \\times p^i \\mod n$$\n",
    "**Remarque** : Le modulo est appliqué sur tous les termes de la somme."
   ]
  },
  {
   "cell_type": "markdown",
   "id": "2c48cc23-ec66-423b-83e3-119c26ef5f87",
   "metadata": {
    "tags": [
     "exo"
    ]
   },
   "source": [
    "**Exercice** : Ecrire une fonction `int h(const char*, int, int)` telle que `h(s, p, n)` renvoie la valeur de $h(s)$ ci-dessus. On évitera de faire plusieurs calculs de puissance et on appliquera le modulo sur chaque terme de la somme (pour éviter de faire des calculs sur des entiers trop grands)."
   ]
  },
  {
   "cell_type": "code",
   "execution_count": 5,
   "id": "69f4c101-1f39-47d2-9f5b-357ed0f457bd",
   "metadata": {
    "execution": {
     "iopub.execute_input": "2021-12-03T13:32:20.343942Z",
     "iopub.status.busy": "2021-12-03T13:32:20.343447Z",
     "iopub.status.idle": "2021-12-03T13:32:20.694229Z",
     "shell.execute_reply": "2021-12-03T13:32:20.693801Z"
    },
    "tags": [
     "cor"
    ]
   },
   "outputs": [
    {
     "data": {
      "text/plain": [
       "3844"
      ]
     },
     "execution_count": 5,
     "metadata": {},
     "output_type": "execute_result"
    }
   ],
   "source": [
    "int h(const char* s, int p, int n) {\n",
    "    int somme = 0;\n",
    "    int puiss = 1; // variable pour stocker les puissances de p\n",
    "    for(int i = 0; s[i] != '\\0'; i++) {\n",
    "        somme = (somme + hash(s[i])*p) % n;\n",
    "        puiss = (puiss*p) % n;\n",
    "    }\n",
    "    return somme;\n",
    "}\n",
    "\n",
    "h(\"helloworld\", 31, 11867)  // exemple de codage"
   ]
  },
  {
   "cell_type": "markdown",
   "id": "290dbfcb-239d-4889-abac-daa51e657d2a",
   "metadata": {},
   "source": [
    "Dans la suite, on prend $p = 31$ et $n = 11867$ (un nombre premier assez grand). "
   ]
  },
  {
   "cell_type": "markdown",
   "id": "5bbc7a4f-4d56-4b39-940e-bb856bd55585",
   "metadata": {
    "tags": [
     "exo"
    ]
   },
   "source": [
    "**Exercice** : Ecrire une fonction `void add(const char*, int, int*)` telle que `add(k, v, t)` ajoute une clé `k` avec la valeur `v` dans `t`.  \n",
    "**Remarque** : Si `t` contenait déjà une valeur dans $h(k)$, `add` ecrase cette ancienne valeur, ce qui n'est normalement pas souhaitable."
   ]
  },
  {
   "cell_type": "code",
   "execution_count": 6,
   "id": "1f3fcd62-dee8-476b-b1b3-9d41fbdaec69",
   "metadata": {
    "execution": {
     "iopub.execute_input": "2021-12-03T13:32:20.696970Z",
     "iopub.status.busy": "2021-12-03T13:32:20.696395Z",
     "iopub.status.idle": "2021-12-03T13:32:20.697840Z",
     "shell.execute_reply": "2021-12-03T13:32:20.697432Z"
    },
    "tags": [
     "cor"
    ]
   },
   "outputs": [],
   "source": [
    "void add(const char* k, int v, int* t) {\n",
    "    t[h(k, 31, 11867)] = v;\n",
    "}"
   ]
  },
  {
   "cell_type": "markdown",
   "id": "7a5a412d-e23a-408a-91e2-43e65c738232",
   "metadata": {
    "tags": [
     "exo"
    ]
   },
   "source": [
    "**Exercice** : Ecrire une fonction `int get(const char*, int*)` telle que `get(k, t)` renvoyant la valeur associée à `k` dans `t`."
   ]
  },
  {
   "cell_type": "code",
   "execution_count": 7,
   "id": "cc500101-0782-48cc-aef7-2e40e3396459",
   "metadata": {
    "execution": {
     "iopub.execute_input": "2021-12-03T13:32:20.699736Z",
     "iopub.status.busy": "2021-12-03T13:32:20.699095Z",
     "iopub.status.idle": "2021-12-03T13:32:20.700342Z",
     "shell.execute_reply": "2021-12-03T13:32:20.700713Z"
    },
    "tags": [
     "cor"
    ]
   },
   "outputs": [],
   "source": [
    "int get(const char* k, int* t) {\n",
    "    return t[h(k, 31, 11867)];\n",
    "}"
   ]
  },
  {
   "cell_type": "markdown",
   "id": "1721e4eb-ad2b-4467-9344-73f09591a365",
   "metadata": {
    "tags": [
     "exo"
    ]
   },
   "source": [
    "**Exercice** : Ecrire une fonction `char* sub(const char*, int, int)` telle que `sub(s, i, n)` renvoie un sous-mot de `s` de `n` caractères et commençant en `i`. Par exemple, `sub(\"informatique\", 2, 3)` doit renvoyer un pointeur vers `\"for\"`."
   ]
  },
  {
   "cell_type": "code",
   "execution_count": 8,
   "id": "c36cb14d-75ef-4828-98e9-227bd7357fd6",
   "metadata": {
    "execution": {
     "iopub.execute_input": "2021-12-03T13:32:20.702416Z",
     "iopub.status.busy": "2021-12-03T13:32:20.701947Z",
     "iopub.status.idle": "2021-12-03T13:32:21.056982Z",
     "shell.execute_reply": "2021-12-03T13:32:21.055768Z"
    },
    "tags": [
     "cor"
    ]
   },
   "outputs": [
    {
     "data": {
      "text/plain": [
       "\"for\""
      ]
     },
     "execution_count": 8,
     "metadata": {},
     "output_type": "execute_result"
    }
   ],
   "source": [
    "char* sub(const char* s, int i, int n) {\n",
    "    char* res = (char*)malloc((n+1)*sizeof(char));\n",
    "    for(int k = 0; k < n; k++)\n",
    "        res[k] = s[k + i];\n",
    "    res[n] = '\\0'; // ne pas oublier le symbole de fin de chaîne de caractères\n",
    "    return res;\n",
    "}\n",
    "\n",
    "sub(\"informatique\", 2, 3)"
   ]
  },
  {
   "cell_type": "markdown",
   "id": "207c1e98-3290-42fe-8ea3-ec2abc601fea",
   "metadata": {
    "tags": [
     "exo"
    ]
   },
   "source": [
    "**Exercice** : Ecrire une fonction `char* most_frequent_word(const char*, int)` telle que `most_frequent_word(s, l)` renvoie le mot de longueur `l` apparaissant le plus souvent dans `s`. Par exemple, `most_frequent_word(\"abcbcaabc\", 2)` doit renvoyer `bc` (qui apparaît 3 fois)."
   ]
  },
  {
   "cell_type": "code",
   "execution_count": 9,
   "id": "1a5d267b-56c2-48d9-9012-8d97a30d0806",
   "metadata": {
    "execution": {
     "iopub.execute_input": "2021-12-03T13:32:21.058857Z",
     "iopub.status.busy": "2021-12-03T13:32:21.058352Z",
     "iopub.status.idle": "2021-12-03T13:32:21.427489Z",
     "shell.execute_reply": "2021-12-03T13:32:21.426296Z"
    },
    "tags": [
     "cor"
    ]
   },
   "outputs": [
    {
     "data": {
      "text/plain": [
       "\"bc\""
      ]
     },
     "execution_count": 9,
     "metadata": {},
     "output_type": "execute_result"
    }
   ],
   "source": [
    "char* most_frequent_word(const char* s, int l) {\n",
    "    int t[11867] = { 0 };\n",
    "    int n = strlen(s);\n",
    "    int max_freq = 0;\n",
    "    char* max_word = NULL;\n",
    "    for(int i = 0; i < n - l + 1; i++) {\n",
    "        char* subword = sub(s, i, l);\n",
    "        int freq = get(subword, t);\n",
    "        freq++;\n",
    "        add(subword, freq, t);\n",
    "        if(freq > max_freq) {\n",
    "            max_freq = freq;\n",
    "            if(max_word)\n",
    "                free(max_word);\n",
    "            max_word = subword;\n",
    "        }\n",
    "        else\n",
    "            free(subword);\n",
    "    }\n",
    "    return max_word;   \n",
    "}\n",
    "\n",
    "most_frequent_word(\"abcbcaabc\", 2)"
   ]
  },
  {
   "cell_type": "markdown",
   "id": "594eca9c-f35d-44d6-b54d-21ed2d935c26",
   "metadata": {
    "tags": [
     "exo"
    ]
   },
   "source": [
    "**Exercice** : Réécrire `add` et `get` en utilisant une liste chaînée dans chaque case du tableau `t` (comme ce que l'on a fait en cours sur les tables de hachage en OCaml). `t` sera donc de type `list**` (un tableau dont chaque élément est une `list*`)."
   ]
  }
 ],
 "metadata": {
  "kernelspec": {
   "display_name": "C++14",
   "language": "C++14",
   "name": "xcpp14"
  },
  "language_info": {
   "codemirror_mode": "text/x-c++src",
   "file_extension": ".cpp",
   "mimetype": "text/x-c++src",
   "name": "c++",
   "version": "14"
  }
 },
 "nbformat": 4,
 "nbformat_minor": 5
}

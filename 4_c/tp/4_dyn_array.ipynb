{
 "cells": [
  {
   "cell_type": "markdown",
   "id": "88de6656-b1cb-47b8-b6bd-569f0f5ddf63",
   "metadata": {},
   "source": [
    "# TP 4 : Tableaux dynamiques\n",
    "\n",
    "On considère la structure suivante de tableau dynamique :"
   ]
  },
  {
   "cell_type": "code",
   "execution_count": 1,
   "id": "011131fd-4465-4ca8-80b3-004cffcf86fa",
   "metadata": {
    "execution": {
     "iopub.execute_input": "2021-11-29T09:21:14.395660Z",
     "iopub.status.busy": "2021-11-29T09:21:14.394475Z",
     "iopub.status.idle": "2021-11-29T09:21:14.396345Z",
     "shell.execute_reply": "2021-11-29T09:21:14.395043Z"
    }
   },
   "outputs": [],
   "source": [
    "typedef struct darray {\n",
    "    int* t; // tableau utilisé pour stocker les éléments\n",
    "    int size; // nombre d'éléments\n",
    "    int capacity; // taille de t\n",
    "} darray;"
   ]
  },
  {
   "cell_type": "markdown",
   "id": "f87d4ee7-8f8d-4954-aaec-284c41227eb4",
   "metadata": {},
   "source": [
    "On a toujours `size` $\\leq$ `capacity` et les éléments après l'indice `size` sont ignorés (ils sont juste là pour avoir de la place pour les prochaines insertions)."
   ]
  },
  {
   "cell_type": "markdown",
   "id": "05a0de06-c39f-4747-b319-79dacdeb2e44",
   "metadata": {
    "tags": [
     "exo"
    ]
   },
   "source": [
    "**Exercice** : Écrire une fonction `empty` de prototype `darray* empty()` renvoyant un pointeur sur un `darray` vide (avec `t`, `size`, `¢apacity` égaux à `NULL`, `0`, `0`, respectivement)."
   ]
  },
  {
   "cell_type": "code",
   "execution_count": 2,
   "id": "64ad2ec7-294b-418b-bd0c-285742dfcf52",
   "metadata": {
    "execution": {
     "iopub.execute_input": "2021-11-29T09:21:14.398390Z",
     "iopub.status.busy": "2021-11-29T09:21:14.397838Z",
     "iopub.status.idle": "2021-11-29T09:21:14.399535Z",
     "shell.execute_reply": "2021-11-29T09:21:14.398956Z"
    },
    "tags": [
     "cor"
    ]
   },
   "outputs": [],
   "source": [
    "darray* empty() {\n",
    "    darray* d = (darray*)malloc(sizeof(darray));\n",
    "    d->t = NULL;\n",
    "    d->size = 0;\n",
    "    d->capacity = 0;\n",
    "    return d;\n",
    "}"
   ]
  },
  {
   "cell_type": "markdown",
   "id": "66e888fb-0210-4957-b605-b49023241ef6",
   "metadata": {
    "tags": [
     "exo"
    ]
   },
   "source": [
    "**Exercice** : Écrire une fonction `void print_darray(darray*)` permettant d'afficher les éléments d'un `darray`."
   ]
  },
  {
   "cell_type": "code",
   "execution_count": 3,
   "id": "e9981915-e3f3-43d6-a04f-6c8660af84e9",
   "metadata": {
    "execution": {
     "iopub.execute_input": "2021-11-29T09:21:14.401450Z",
     "iopub.status.busy": "2021-11-29T09:21:14.400841Z",
     "iopub.status.idle": "2021-11-29T09:21:14.402059Z",
     "shell.execute_reply": "2021-11-29T09:21:14.402506Z"
    },
    "tags": [
     "cor"
    ]
   },
   "outputs": [],
   "source": [
    "void print_darray(darray* d) {\n",
    "    for(int i = 0; i < d->size; i++)\n",
    "        printf(\"%d\", d->t[i]);\n",
    "}"
   ]
  },
  {
   "cell_type": "markdown",
   "id": "e265ccf0-052f-4766-acdd-c765681d5c55",
   "metadata": {
    "tags": [
     "exo"
    ]
   },
   "source": [
    "**Exercice** : Écrire une fonction `copy` de prototype `void copy(int*, int*, n)` telle que `copy(t1, t2, n)` recopie les `n` premiers éléments du tableau `t1` dans le tableau `t2`."
   ]
  },
  {
   "cell_type": "code",
   "execution_count": 4,
   "id": "7c8a3763-0b58-4aa9-ac38-b085ef631c2c",
   "metadata": {
    "execution": {
     "iopub.execute_input": "2021-11-29T09:21:14.404427Z",
     "iopub.status.busy": "2021-11-29T09:21:14.403884Z",
     "iopub.status.idle": "2021-11-29T09:21:14.405012Z",
     "shell.execute_reply": "2021-11-29T09:21:14.405453Z"
    },
    "tags": [
     "cor"
    ]
   },
   "outputs": [],
   "source": [
    "void copy(int* t1, int* t2, int n) {\n",
    "    for(int i = 0; i < n; i++)\n",
    "        t2[i] = t1[i];\n",
    "}"
   ]
  },
  {
   "cell_type": "markdown",
   "id": "afc51c01-a946-413a-9c85-cf921fb084af",
   "metadata": {
    "tags": [
     "exo"
    ]
   },
   "source": [
    "**Exercice** : Écrire une fonction `void add(darray*, int)` telle que `add(darray* d, int e)` ajoute `e` à `d`. Si la capacité de `d` est insuffisante, on crééra un nouveau tableau `t` de taille deux fois plus grande.  \n",
    "**Attention** : Ne pas oublier le `free`."
   ]
  },
  {
   "cell_type": "code",
   "execution_count": 5,
   "id": "b34981af-d6bf-451e-86d2-b534ee2be2f4",
   "metadata": {
    "execution": {
     "iopub.execute_input": "2021-11-29T09:21:14.407407Z",
     "iopub.status.busy": "2021-11-29T09:21:14.406807Z",
     "iopub.status.idle": "2021-11-29T09:21:14.415593Z",
     "shell.execute_reply": "2021-11-29T09:21:14.415048Z"
    },
    "tags": [
     "cor"
    ]
   },
   "outputs": [
    {
     "name": "stdout",
     "output_type": "stream",
     "text": [
      "0123"
     ]
    }
   ],
   "source": [
    "void add(darray* d, int e) {\n",
    "    if(d->size == d->capacity) {\n",
    "        int* tmp = d->t; // conserve a->t pour pouvoir le free ensuite\n",
    "        d->capacity *= 2;\n",
    "        d->t = (int*)malloc(sizeof(int)*d->capacity);\n",
    "        copy(tmp, d->t, d->size);\n",
    "        free(tmp);\n",
    "    }\n",
    "    d->t[d->size] = e;\n",
    "    d->size++;\n",
    "}\n",
    "darray* d = empty();\n",
    "for(int i = 0; i < 4; i++)\n",
    "    add(d, i);\n",
    "print_darray(d);"
   ]
  }
 ],
 "metadata": {
  "kernelspec": {
   "display_name": "C++14",
   "language": "C++14",
   "name": "xcpp14"
  },
  "language_info": {
   "codemirror_mode": "text/x-c++src",
   "file_extension": ".cpp",
   "mimetype": "text/x-c++src",
   "name": "c++",
   "version": "14"
  }
 },
 "nbformat": 4,
 "nbformat_minor": 5
}

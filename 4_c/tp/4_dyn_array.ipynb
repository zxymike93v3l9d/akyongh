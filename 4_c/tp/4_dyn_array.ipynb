{
 "cells": [
  {
   "cell_type": "markdown",
   "id": "88de6656-b1cb-47b8-b6bd-569f0f5ddf63",
   "metadata": {},
   "source": [
    "# TP 4 : Tableaux dynamiques\n",
    "\n",
    "On considère la structure suivante de tableau dynamique :"
   ]
  },
  {
   "cell_type": "code",
   "execution_count": 1,
   "id": "011131fd-4465-4ca8-80b3-004cffcf86fa",
   "metadata": {
    "execution": {
     "iopub.execute_input": "2021-11-25T22:03:53.736805Z",
     "iopub.status.busy": "2021-11-25T22:03:53.735920Z",
     "iopub.status.idle": "2021-11-25T22:03:53.737617Z",
     "shell.execute_reply": "2021-11-25T22:03:53.734935Z"
    }
   },
   "outputs": [],
   "source": [
    "struct darray {\n",
    "    int* t; // tableau utilisé pour stocker les éléments\n",
    "    int size; // nombre d'éléments\n",
    "    int capacity; // taille de t\n",
    "};\n",
    "\n",
    "typedef struct darray darray;"
   ]
  },
  {
   "cell_type": "markdown",
   "id": "f87d4ee7-8f8d-4954-aaec-284c41227eb4",
   "metadata": {},
   "source": [
    "On a toujours `size` $\\leq$ `capacity` et les éléments après l'indice `size` sont ignorés (ils sont juste là pour avoir de la place pour les prochaines insertions)."
   ]
  },
  {
   "cell_type": "markdown",
   "id": "05a0de06-c39f-4747-b319-79dacdeb2e44",
   "metadata": {
    "tags": [
     "exo"
    ]
   },
   "source": [
    "**Exercice** : Écrire une fonction `empty` de prototype `darray* empty()` renvoyant un pointeur sur un `darray` vide (avec `t`, `size`, `¢apacity` égaux à `NULL`, `0`, `0`, respectivement)."
   ]
  },
  {
   "cell_type": "markdown",
   "id": "66e888fb-0210-4957-b605-b49023241ef6",
   "metadata": {
    "tags": [
     "exo"
    ]
   },
   "source": [
    "**Exercice** : Écrire une fonction `void print_darray(darray*)` permettant d'afficher les éléments d'un `darray`."
   ]
  },
  {
   "cell_type": "markdown",
   "id": "e265ccf0-052f-4766-acdd-c765681d5c55",
   "metadata": {
    "tags": [
     "exo"
    ]
   },
   "source": [
    "**Exercice** : Écrire une fonction `copy` de prototype `void copy(int*, int*, n)` telle que `copy(t1, t2, n)` recopie les `n` premiers éléments du tableau `t1` dans le tableau `t2`."
   ]
  },
  {
   "cell_type": "markdown",
   "id": "afc51c01-a946-413a-9c85-cf921fb084af",
   "metadata": {
    "tags": [
     "exo"
    ]
   },
   "source": [
    "**Exercice** : Écrire une fonction `void add(darray*, int)` telle que `add(darray* d, int e)` ajoute `e` à `d`. Si la capacité de `d` est insuffisante, on crééra un nouveau tableau `t` de taille deux fois plus grande.  \n",
    "**Attention** : Ne pas oublier le `free`."
   ]
  }
 ],
 "metadata": {
  "kernelspec": {
   "display_name": "C++14",
   "language": "C++14",
   "name": "xcpp14"
  },
  "language_info": {
   "codemirror_mode": "text/x-c++src",
   "file_extension": ".cpp",
   "mimetype": "text/x-c++src",
   "name": "c++",
   "version": "14"
  }
 },
 "nbformat": 4,
 "nbformat_minor": 5
}

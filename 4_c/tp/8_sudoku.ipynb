{
 "cells": [
  {
   "cell_type": "markdown",
   "id": "f6a1bae9-6d94-45e4-b45b-b7789ced1fb5",
   "metadata": {},
   "source": [
    "# TP 8 : Sudoku\n",
    "\n",
    "Un sudoku est une grille $9\\times 9$ pouvant contenir des entiers de $0$ à $8$, dont certains sont remplis. Le but est de remplir les cases manquantes de façon à ce que chaque ligne, colonne et carré de taille $3\\times 3$."
   ]
  },
  {
   "cell_type": "code",
   "execution_count": 1,
   "id": "1932ea67-14fb-4313-9fdc-a19190dbb0da",
   "metadata": {
    "execution": {
     "iopub.execute_input": "2021-12-08T13:03:51.114004Z",
     "iopub.status.busy": "2021-12-08T13:03:51.113460Z",
     "iopub.status.idle": "2021-12-08T13:03:51.114819Z",
     "shell.execute_reply": "2021-12-08T13:03:51.114389Z"
    }
   },
   "outputs": [],
   "source": [
    "int m_ex[][9] = {\n",
    "    { -1, 3, -1, -1, -1, -1, 0, 6, 8 }, \n",
    "    { -1, -1, 1, -1, -1, 7, -1, 4, 3 }, \n",
    "    { -1, -1, 5, -1, -1, 4, -1, -1, 7 }, \n",
    "    { -1, 7, -1, -1, 6, -1, 8, 0, -1 }, \n",
    "    { -1, 4, -1, -1, 8, -1, -1, 2, -1 }, \n",
    "    { -1, 0, 8, -1, 5, -1, -1, 3, -1 }, \n",
    "    { 2, -1, -1, 3, -1, -1, 6, -1, -1 }, \n",
    "    { 4, 6, -1, 0, -1, -1, 1, -1, -1 }, \n",
    "    { 8, 1, 7, -1, -1, -1, -1, 5, -1 }\n",
    "}"
   ]
  },
  {
   "cell_type": "code",
   "execution_count": 2,
   "id": "f8a72a19",
   "metadata": {
    "execution": {
     "iopub.execute_input": "2021-12-08T13:03:51.116322Z",
     "iopub.status.busy": "2021-12-08T13:03:51.115910Z",
     "iopub.status.idle": "2021-12-08T13:03:51.117168Z",
     "shell.execute_reply": "2021-12-08T13:03:51.116758Z"
    }
   },
   "outputs": [],
   "source": [
    "int m_ex_solved[9][9] = {\n",
    "    { 7, 3, 4, 5, 2, 1, 0, 6, 8 },\n",
    "    { 6, 2, 1, 8, 0, 7, 5, 4, 3 },\n",
    "    { 0, 8, 5, 6, 3, 4, 2, 1, 7 },\n",
    "    { 5, 7, 2, 4, 6, 3, 8, 0, 1 },\n",
    "    { 3, 4, 6, 1, 8, 0, 7, 2, 5 },\n",
    "    { 1, 0, 8, 7, 5, 2, 4, 3, 6 },\n",
    "    { 2, 5, 0, 3, 1, 8, 6, 7, 4 },\n",
    "    { 4, 6, 3, 0, 7, 5, 1, 8, 2 },\n",
    "    { 8, 1, 7, 2, 4, 6, 3, 5, 0 }\n",
    "}"
   ]
  },
  {
   "cell_type": "markdown",
   "id": "7a705999-8b81-45aa-84d0-4fc50940405d",
   "metadata": {},
   "source": [
    "## Vérification\n",
    "\n",
    "Ici, on veut vérifier qu'une grille contient bien tous les entiers de $0$ à $8$."
   ]
  },
  {
   "cell_type": "markdown",
   "id": "5fa3c47b-8149-4353-b665-6d1bc637f8b8",
   "metadata": {
    "tags": [
     "exo"
    ]
   },
   "source": [
    "**Exercice** : Ecrire une fonction `bool unique(int t[9])` telle que, si `t` est un tableau de taille 9 contenant des entiers de 0 à 8, `unique(t)` détermine si `t` ne contient que des valeurs différentes (pas de doublon)."
   ]
  },
  {
   "cell_type": "code",
   "execution_count": 3,
   "id": "2585db06-6c96-4dd7-b6b1-2d7e926cbd19",
   "metadata": {
    "execution": {
     "iopub.execute_input": "2021-12-08T13:03:51.118547Z",
     "iopub.status.busy": "2021-12-08T13:03:51.118144Z",
     "iopub.status.idle": "2021-12-08T13:03:51.119392Z",
     "shell.execute_reply": "2021-12-08T13:03:51.119008Z"
    }
   },
   "outputs": [],
   "source": [
    "int to_set(int n) {\n",
    "    if(n == -1)\n",
    "        return 0;\n",
    "    return 1 << n;\n",
    "}"
   ]
  },
  {
   "cell_type": "code",
   "execution_count": 4,
   "id": "c7d18e7b-5998-40b4-96ff-37eddf532588",
   "metadata": {
    "execution": {
     "iopub.execute_input": "2021-12-08T13:03:51.120674Z",
     "iopub.status.busy": "2021-12-08T13:03:51.120267Z",
     "iopub.status.idle": "2021-12-08T13:03:51.121566Z",
     "shell.execute_reply": "2021-12-08T13:03:51.121216Z"
    }
   },
   "outputs": [],
   "source": [
    "int line(int m[9][9], int i) {\n",
    "    int l = 0;\n",
    "    for(int j = 0; j < 9; j++)\n",
    "        l |= to_set(m[i][j]);\n",
    "    return l;\n",
    "}"
   ]
  },
  {
   "cell_type": "code",
   "execution_count": 5,
   "id": "6902ce89-b057-4173-8972-0de701554476",
   "metadata": {
    "execution": {
     "iopub.execute_input": "2021-12-08T13:03:51.123003Z",
     "iopub.status.busy": "2021-12-08T13:03:51.122561Z",
     "iopub.status.idle": "2021-12-08T13:03:51.123770Z",
     "shell.execute_reply": "2021-12-08T13:03:51.123437Z"
    }
   },
   "outputs": [],
   "source": [
    "bool full(int s) {\n",
    "    return s == 511;\n",
    "}"
   ]
  },
  {
   "cell_type": "markdown",
   "id": "cf8798bf-e871-43c1-bc04-f548b3f8b51a",
   "metadata": {
    "tags": [
     "exo"
    ]
   },
   "source": [
    "**Exercice** : Ecrire une fonction `bool valid_line(int m[9][9], int i)` telle que, si `m` est un sudoku, `valid_line(m, i)` détermine si la ligne `i` de `m` est correctement remplie."
   ]
  },
  {
   "cell_type": "markdown",
   "id": "cb08ea96-8a9d-4912-85da-01fc6a1bdccf",
   "metadata": {
    "tags": [
     "exo"
    ]
   },
   "source": [
    "**Exercice** : Ecrire une fonction `bool valid_column(int m[9][9], int j)` telle que, si `m` est un sudoku, `valid_column(m, j)` détermine si la colonne `j` de `m` est correctement remplie."
   ]
  },
  {
   "cell_type": "code",
   "execution_count": 6,
   "id": "a6d35adc-f4dc-4111-bbd7-07557d65b1bd",
   "metadata": {
    "execution": {
     "iopub.execute_input": "2021-12-08T13:03:51.125370Z",
     "iopub.status.busy": "2021-12-08T13:03:51.124942Z",
     "iopub.status.idle": "2021-12-08T13:03:51.126480Z",
     "shell.execute_reply": "2021-12-08T13:03:51.126050Z"
    }
   },
   "outputs": [],
   "source": [
    "int column(int m[9][9], int j) {\n",
    "    int c;\n",
    "    for(int i = 0; i < 9; i++)\n",
    "        c |= to_set(m[i][j]);\n",
    "    return c;\n",
    "}"
   ]
  },
  {
   "cell_type": "markdown",
   "id": "150ebfe6-f678-4f93-9a4f-b14594479fc6",
   "metadata": {
    "tags": [
     "exo"
    ]
   },
   "source": [
    "**Exercice** : Ecrire une fonction `bool valid_square(int m[9][9], int k)` telle que, si `m` est un sudoku, `valid_square(m, j)` détermine si le `k`ème carré dans `m` est correctement rempli."
   ]
  },
  {
   "cell_type": "code",
   "execution_count": 7,
   "id": "2ad7103c-0a4a-40f6-9982-edcfc71328ba",
   "metadata": {
    "execution": {
     "iopub.execute_input": "2021-12-08T13:03:51.127944Z",
     "iopub.status.busy": "2021-12-08T13:03:51.127519Z",
     "iopub.status.idle": "2021-12-08T13:03:51.128379Z",
     "shell.execute_reply": "2021-12-08T13:03:51.128702Z"
    }
   },
   "outputs": [],
   "source": [
    "int square(int m[9][9], int k) {\n",
    "    int i_square = k/3;\n",
    "    int j_square = k%3;\n",
    "    int s = 0;\n",
    "    for(int i = 0; i < 3; i++)\n",
    "        for(int j = 0; j < 3; j++) \n",
    "            s |= to_set(m[3*i_square + i][3*j_square + j]);\n",
    "    return s;\n",
    "}"
   ]
  },
  {
   "cell_type": "markdown",
   "id": "f913701c-aa98-458e-9362-cac93430378d",
   "metadata": {
    "tags": [
     "exo"
    ]
   },
   "source": [
    "**Exercice** : Ecrire une fonction `valid` déterminant si un sudoku est correctement rempli."
   ]
  },
  {
   "cell_type": "code",
   "execution_count": 8,
   "id": "f663bfa1-a6cb-40c9-9e99-e514330d22d3",
   "metadata": {
    "execution": {
     "iopub.execute_input": "2021-12-08T13:03:51.130107Z",
     "iopub.status.busy": "2021-12-08T13:03:51.129701Z",
     "iopub.status.idle": "2021-12-08T13:03:51.614226Z",
     "shell.execute_reply": "2021-12-08T13:03:51.612767Z"
    }
   },
   "outputs": [
    {
     "data": {
      "text/plain": [
       "false"
      ]
     },
     "execution_count": 8,
     "metadata": {},
     "output_type": "execute_result"
    }
   ],
   "source": [
    "bool valid(int m[9][9]) {\n",
    "    for(int i = 0; i < 9; i++)\n",
    "        if(!(full(line(m, i) & column(m, i) & square(m, i))))\n",
    "            return false;\n",
    "    return true;\n",
    "}\n",
    "\n",
    "valid(m_ex)"
   ]
  },
  {
   "cell_type": "markdown",
   "id": "adbc3e63-f3dc-4a56-9d90-bee9c0260d71",
   "metadata": {},
   "source": [
    "## Résolution"
   ]
  },
  {
   "cell_type": "code",
   "execution_count": 9,
   "id": "cf546320-64d6-4632-8e59-11d5196d521d",
   "metadata": {
    "execution": {
     "iopub.execute_input": "2021-12-08T13:03:51.617170Z",
     "iopub.status.busy": "2021-12-08T13:03:51.616430Z",
     "iopub.status.idle": "2021-12-08T13:03:51.618031Z",
     "shell.execute_reply": "2021-12-08T13:03:51.617622Z"
    }
   },
   "outputs": [],
   "source": [
    "bool backtrack(int m[9][9], int i, int j) {\n",
    "    if(i == 8 && j == 8)\n",
    "        return true;\n",
    "    if(j == 8) {\n",
    "        i++;\n",
    "        j = 0;\n",
    "    }\n",
    "    else\n",
    "        j++;\n",
    "    if(m[i][j] != -1)\n",
    "        return backtrack(m, i, j);\n",
    "    int forbidden = line(m, i) | column(m, j) | square(m, 3*(i/3) + j/3);\n",
    "    for(int k = 0; k < 9; k++, forbidden >>= 1) {\n",
    "        if(forbidden % 2 == 0) {\n",
    "            m[i][j] = k;\n",
    "            if(backtrack(m, i, j))\n",
    "                return true;\n",
    "            m[i][j] = -1;\n",
    "        }\n",
    "    }\n",
    "    return false;\n",
    "}"
   ]
  },
  {
   "cell_type": "code",
   "execution_count": 10,
   "id": "ea6f0ef6-a620-4dc9-b936-2e2c1fc502e6",
   "metadata": {
    "execution": {
     "iopub.execute_input": "2021-12-08T13:03:51.619663Z",
     "iopub.status.busy": "2021-12-08T13:03:51.619189Z",
     "iopub.status.idle": "2021-12-08T13:03:51.650756Z",
     "shell.execute_reply": "2021-12-08T13:03:51.634419Z"
    }
   },
   "outputs": [
    {
     "name": "stderr",
     "output_type": "stream",
     "text": [
      "input_line_19:2:12: error: use of undeclared identifier 'm_ex1'; did you mean 'm_ex'?\n",
      " backtrack(m_ex1, 0, -1)\n",
      "           ^~~~~\n",
      "           m_ex\n",
      "input_line_7:2:6: note: 'm_ex' declared here\n",
      " int m_ex[][9] = {\n",
      "     ^\n"
     ]
    },
    {
     "ename": "Interpreter Error",
     "evalue": "",
     "output_type": "error",
     "traceback": [
      "Interpreter Error: "
     ]
    }
   ],
   "source": [
    "backtrack(m_ex1, 0, -1)"
   ]
  },
  {
   "cell_type": "code",
   "execution_count": 11,
   "id": "01abe9ae-e5db-4623-aa0f-9b9897381b3d",
   "metadata": {
    "execution": {
     "iopub.execute_input": "2021-12-08T13:03:51.652418Z",
     "iopub.status.busy": "2021-12-08T13:03:51.652006Z",
     "iopub.status.idle": "2021-12-08T13:03:51.684441Z",
     "shell.execute_reply": "2021-12-08T13:03:51.667168Z"
    }
   },
   "outputs": [
    {
     "name": "stderr",
     "output_type": "stream",
     "text": [
      "input_line_20:2:2: error: use of undeclared identifier 'm_ex1'; did you mean 'm_ex'?\n",
      " m_ex1\n",
      " ^~~~~\n",
      " m_ex\n",
      "input_line_7:2:6: note: 'm_ex' declared here\n",
      " int m_ex[][9] = {\n",
      "     ^\n"
     ]
    },
    {
     "ename": "Interpreter Error",
     "evalue": "",
     "output_type": "error",
     "traceback": [
      "Interpreter Error: "
     ]
    }
   ],
   "source": [
    "m_ex1"
   ]
  }
 ],
 "metadata": {
  "kernelspec": {
   "display_name": "C++14",
   "language": "C++14",
   "name": "xcpp14"
  },
  "language_info": {
   "codemirror_mode": "text/x-c++src",
   "file_extension": ".cpp",
   "mimetype": "text/x-c++src",
   "name": "c++",
   "version": "14"
  }
 },
 "nbformat": 4,
 "nbformat_minor": 5
}

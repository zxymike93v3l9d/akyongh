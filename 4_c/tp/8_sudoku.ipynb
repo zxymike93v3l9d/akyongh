{
 "cells": [
  {
   "cell_type": "markdown",
   "id": "f6a1bae9-6d94-45e4-b45b-b7789ced1fb5",
   "metadata": {},
   "source": [
    "# [TP 8 : Sudoku ![Binder](https://mybinder.org/badge.svg)](https://mybinder.org/v2/gh/fortierq/binder-mp2i/main?urlpath=git-pull%3Frepo%3Dhttps%253A%252F%252Fgithub.com%252Fmp2i-fsm%252Fmp2i-2021%26urlpath%3Dlab%252Ftree%252Fmp2i-2021%252F4_c%252Ftp%252F8_sudoku.ipynb%26branch%3Dmain)\n",
    "\n",
    "Un sudoku est une grille $9\\times 9$ pouvant contenir des entiers de $0$ à $8$, dont certains sont remplis. Le but est de remplir les cases manquantes de façon à ce que chaque ligne, colonne et carré de taille $3\\times 3$.  \n",
    "Voici un exemple de sudoku (à gauche) avec une solution (à droite) :\n",
    "<center><img src=https://github.com/fortierq/tikz/blob/master/data_structure/matrix/sudoku/sudoku.png?raw=true width=700></center>"
   ]
  },
  {
   "cell_type": "code",
   "execution_count": 1,
   "id": "1932ea67-14fb-4313-9fdc-a19190dbb0da",
   "metadata": {
    "execution": {
     "iopub.execute_input": "2021-12-09T17:57:42.458082Z",
     "iopub.status.busy": "2021-12-09T17:57:42.457560Z",
     "iopub.status.idle": "2021-12-09T17:57:42.467424Z",
     "shell.execute_reply": "2021-12-09T17:57:42.467792Z"
    }
   },
   "outputs": [
    {
     "ename": "SyntaxError",
     "evalue": "invalid syntax (3228812344.py, line 1)",
     "output_type": "error",
     "traceback": [
      "\u001b[0;36m  File \u001b[0;32m\"/tmp/ipykernel_216/3228812344.py\"\u001b[0;36m, line \u001b[0;32m1\u001b[0m\n\u001b[0;31m    int m_ex[9][9] = {\u001b[0m\n\u001b[0m        ^\u001b[0m\n\u001b[0;31mSyntaxError\u001b[0m\u001b[0;31m:\u001b[0m invalid syntax\n"
     ]
    }
   ],
   "source": [
    "int m_ex[9][9] = {\n",
    "    { -1, 3, -1, -1, -1, -1, 0, 6, 8 }, \n",
    "    { -1, -1, 1, -1, -1, 7, -1, 4, 3 }, \n",
    "    { -1, -1, 5, -1, -1, 4, -1, -1, 7 }, \n",
    "    { -1, 7, -1, -1, 6, -1, 8, 0, -1 }, \n",
    "    { -1, 4, -1, -1, 8, -1, -1, 2, -1 }, \n",
    "    { -1, 0, 8, -1, 5, -1, -1, 3, -1 }, \n",
    "    { 2, -1, -1, 3, -1, -1, 6, -1, -1 }, \n",
    "    { 4, 6, -1, 0, -1, -1, 1, -1, -1 }, \n",
    "    { 8, 1, 7, -1, -1, -1, -1, 5, -1 }\n",
    "}"
   ]
  },
  {
   "cell_type": "code",
   "execution_count": 2,
   "id": "f8a72a19",
   "metadata": {
    "execution": {
     "iopub.execute_input": "2021-12-09T17:57:42.472154Z",
     "iopub.status.busy": "2021-12-09T17:57:42.470889Z",
     "iopub.status.idle": "2021-12-09T17:57:42.474958Z",
     "shell.execute_reply": "2021-12-09T17:57:42.474587Z"
    }
   },
   "outputs": [
    {
     "ename": "SyntaxError",
     "evalue": "invalid syntax (2457663826.py, line 1)",
     "output_type": "error",
     "traceback": [
      "\u001b[0;36m  File \u001b[0;32m\"/tmp/ipykernel_216/2457663826.py\"\u001b[0;36m, line \u001b[0;32m1\u001b[0m\n\u001b[0;31m    int m_ex_solved[9][9] = {\u001b[0m\n\u001b[0m        ^\u001b[0m\n\u001b[0;31mSyntaxError\u001b[0m\u001b[0;31m:\u001b[0m invalid syntax\n"
     ]
    }
   ],
   "source": [
    "int m_ex_solved[9][9] = {\n",
    "    { 7, 3, 4, 5, 2, 1, 0, 6, 8 },\n",
    "    { 6, 2, 1, 8, 0, 7, 5, 4, 3 },\n",
    "    { 0, 8, 5, 6, 3, 4, 2, 1, 7 },\n",
    "    { 5, 7, 2, 4, 6, 3, 8, 0, 1 },\n",
    "    { 3, 4, 6, 1, 8, 0, 7, 2, 5 },\n",
    "    { 1, 0, 8, 7, 5, 2, 4, 3, 6 },\n",
    "    { 2, 5, 0, 3, 1, 8, 6, 7, 4 },\n",
    "    { 4, 6, 3, 0, 7, 5, 1, 8, 2 },\n",
    "    { 8, 1, 7, 2, 4, 6, 3, 5, 0 }\n",
    "};"
   ]
  },
  {
   "cell_type": "markdown",
   "id": "7a705999-8b81-45aa-84d0-4fc50940405d",
   "metadata": {},
   "source": [
    "## Vérification\n",
    "\n",
    "Ici, on veut vérifier qu'une grille contient bien tous les entiers de $0$ à $8$. Pour cela, on code un sous-ensemble $S$ de $\\{0, ..., 8\\}$ par un entier dont la représentation binaire vaut $1$ en position $i$ si $i \\in S$ (comme pour le [TP 1](https://mp2i-fsm.github.io/mp2i-2021/4_c/tp/1_bitfield), le revoir si nécessaire)."
   ]
  },
  {
   "cell_type": "markdown",
   "id": "c120913b-6259-47e3-ba8f-8bb7780342ee",
   "metadata": {
    "tags": [
     "exo"
    ]
   },
   "source": [
    "**Exercice** : Écrire une fonction <code>int to_set(int)</code> convertissant un entier $i$ en l'ensemble $\\{i\\}$ (c'est-à-dire $1\\underbrace{0...0}_i = 2^i$)."
   ]
  },
  {
   "cell_type": "markdown",
   "id": "c86ca18e-50e7-4011-90b4-3c7d5e84e0c2",
   "metadata": {},
   "source": [
    "**Exercice** : Écrire une fonction <code>bool full(int)</code> telle que, si <code>s</code> est un entier représentant un ensemble, <code>full(s)</code> détermine si <code>s</code> contient tous les entiers entre $0$ et $8$ (c'est-à-dire : teste si <code>s</code> est égal à $\\underbrace{111111111}_9 {}_2$)."
   ]
  },
  {
   "cell_type": "markdown",
   "id": "de672973-f523-4211-ae50-a4f3893ffd1d",
   "metadata": {},
   "source": [
    "**Exercice** : Écrire une fonction <code>int line(int m[9][9], int)</code> telle que, si <code>m</code> est un sudoku, <code>line(m, i)</code> renvoie l'ensemble des chiffres apparaissant sur la ligne <code>i</code> de <code>m</code>. Par exemple, <code>line(m_ex, 0)</code> doit renvoyer $101001001_2 = 2^0 + 2^3 + 2^6 + 2^8 = 329$ (correspondant à l'ensemble $\\{0, 3, 6, 8\\}$ des chiffres apparaissant sur la première ligne de <code>m_ex</code>)."
   ]
  },
  {
   "cell_type": "code",
   "execution_count": 3,
   "id": "75df86c7-f388-495d-b8d3-543106a8dbb6",
   "metadata": {
    "execution": {
     "iopub.execute_input": "2021-12-09T17:57:42.478688Z",
     "iopub.status.busy": "2021-12-09T17:57:42.478266Z",
     "iopub.status.idle": "2021-12-09T17:57:42.521393Z",
     "shell.execute_reply": "2021-12-09T17:57:42.521846Z"
    }
   },
   "outputs": [
    {
     "ename": "NameError",
     "evalue": "name 'line' is not defined",
     "output_type": "error",
     "traceback": [
      "\u001b[0;31m---------------------------------------------------------------------------\u001b[0m",
      "\u001b[0;31mNameError\u001b[0m                                 Traceback (most recent call last)",
      "\u001b[0;32m/tmp/ipykernel_216/3592114015.py\u001b[0m in \u001b[0;36m<module>\u001b[0;34m\u001b[0m\n\u001b[0;32m----> 1\u001b[0;31m \u001b[0mline\u001b[0m\u001b[0;34m(\u001b[0m\u001b[0mm_ex\u001b[0m\u001b[0;34m,\u001b[0m \u001b[0;36m0\u001b[0m\u001b[0;34m)\u001b[0m\u001b[0;34m\u001b[0m\u001b[0;34m\u001b[0m\u001b[0m\n\u001b[0m",
      "\u001b[0;31mNameError\u001b[0m: name 'line' is not defined"
     ]
    }
   ],
   "source": [
    "line(m_ex, 0)"
   ]
  },
  {
   "cell_type": "markdown",
   "id": "cb08ea96-8a9d-4912-85da-01fc6a1bdccf",
   "metadata": {
    "tags": [
     "exo"
    ]
   },
   "source": [
    "**Exercice** : Écrire une fonction <code>int column(int m[9][9], int)</code> telle que, si <code>m</code> est un sudoku, <code>column(m, j)</code> renvoie l'ensemble des chiffres apparaissant sur la colonne <code>j</code> de <code>m</code>. Par exemple, <code>column(m_ex, 0)</code> doit renvoyer $100010100_2 = 2^2 + 2^4 + 2^8 = 276$ (correspondant à l'ensemble $\\{2, 4, 8\\}$ des chiffres apparaissant sur la première colonne de <code>m_ex</code>)."
   ]
  },
  {
   "cell_type": "code",
   "execution_count": 4,
   "id": "89952d61-ebb5-4a6d-91eb-4f80fb7b8c7d",
   "metadata": {
    "execution": {
     "iopub.execute_input": "2021-12-09T17:57:42.528489Z",
     "iopub.status.busy": "2021-12-09T17:57:42.527465Z",
     "iopub.status.idle": "2021-12-09T17:57:42.530186Z",
     "shell.execute_reply": "2021-12-09T17:57:42.529806Z"
    }
   },
   "outputs": [
    {
     "ename": "NameError",
     "evalue": "name 'column' is not defined",
     "output_type": "error",
     "traceback": [
      "\u001b[0;31m---------------------------------------------------------------------------\u001b[0m",
      "\u001b[0;31mNameError\u001b[0m                                 Traceback (most recent call last)",
      "\u001b[0;32m/tmp/ipykernel_216/586256589.py\u001b[0m in \u001b[0;36m<module>\u001b[0;34m\u001b[0m\n\u001b[0;32m----> 1\u001b[0;31m \u001b[0mcolumn\u001b[0m\u001b[0;34m(\u001b[0m\u001b[0mm_ex\u001b[0m\u001b[0;34m,\u001b[0m \u001b[0;36m0\u001b[0m\u001b[0;34m)\u001b[0m\u001b[0;34m\u001b[0m\u001b[0;34m\u001b[0m\u001b[0m\n\u001b[0m",
      "\u001b[0;31mNameError\u001b[0m: name 'column' is not defined"
     ]
    }
   ],
   "source": [
    "column(m_ex, 0)"
   ]
  },
  {
   "cell_type": "markdown",
   "id": "150ebfe6-f678-4f93-9a4f-b14594479fc6",
   "metadata": {
    "tags": [
     "exo"
    ]
   },
   "source": [
    "**Exercice** : Écrire une fonction <code>int square(int m[9][9], int)</code> telle que, si <code>m</code> est un sudoku, <code>square(m, k)</code> renvoie l'ensemble des chiffres apparaissant sur le carré numéro <code>k</code> (avec la numérotation sur la figure de l'exemple) de <code>m</code>. Par exemple, <code>square(m_ex, 1)</code> doit renvoyer $010010000_2 = 2^4 + 2^7 = 144$ (correspondant à l'ensemble $\\{4, 7\\}$ des chiffres apparaissant sur le carré numéroté $1$ de <code>m_ex</code>)."
   ]
  },
  {
   "cell_type": "markdown",
   "id": "f913701c-aa98-458e-9362-cac93430378d",
   "metadata": {
    "tags": [
     "exo"
    ]
   },
   "source": [
    "**Exercice** : Écrire une fonction `valid` déterminant si un sudoku est correctement rempli."
   ]
  },
  {
   "cell_type": "markdown",
   "id": "adbc3e63-f3dc-4a56-9d90-bee9c0260d71",
   "metadata": {},
   "source": [
    "## Résolution\n",
    "\n",
    "On veut maintenat résoudre un sudoku. Pour cela, on va utiliser un algorithme de **backtracking** :  \n",
    "\n",
    "Pour chaque case $c$ non remplie du sudoku dans l'ordre (par exemple de gauche à droite et de haut en bas) :\n",
    "- Calculer l'ensemble $S$ des numéros autorisés pour $c$ (on pourra utiliser les fonctions précédentes pour ça)\n",
    "- Pour chaque numéro $k$ possible dans $S$ :\n",
    "  - Donner le numéro $k$ à c\n",
    "  - S'appliquer récursivement sur la case suivante\n",
    "  - Si cet appel récursif a renvoyé `true` (ce qui signifie qu'une solution a été trouvée), renvoyer `true`\n",
    "- Renvoyer `false` (aucune solution n'a été trouvée)"
   ]
  },
  {
   "cell_type": "markdown",
   "id": "dff1e926-7d73-438f-bc52-aa5da654d5b1",
   "metadata": {
    "tags": [
     "exo"
    ]
   },
   "source": [
    "**Exercice** : Ecrire une fonction `bool backtrack(int m[9][9], int i, int j)` renvoyant `true` s'il est possible de remplir `m` à partir de la case `m[i][j]`. `m` sera modifié par la fonction (et contiendra alors une solution du sudoku)."
   ]
  }
 ],
 "metadata": {
  "interpreter": {
   "hash": "370b1589d5eaa8e70ea377fc56b9c5586cca036d8fef65e73e33cd5f49ea4bb3"
  },
  "kernelspec": {
   "display_name": "C++14",
   "language": "python",
   "name": "python3"
  },
  "language_info": {
   "codemirror_mode": {
    "name": "ipython",
    "version": 3
   },
   "file_extension": ".py",
   "mimetype": "text/x-python",
   "name": "python",
   "nbconvert_exporter": "python",
   "pygments_lexer": "ipython3",
   "version": "3.9.6"
  }
 },
 "nbformat": 4,
 "nbformat_minor": 5
}

{
 "cells": [
  {
   "cell_type": "markdown",
   "id": "f6a1bae9-6d94-45e4-b45b-b7789ced1fb5",
   "metadata": {},
   "source": [
    "# [TP 8 : Sudoku ![Binder](https://mybinder.org/badge.svg)](https://mybinder.org/v2/gh/fortierq/binder-mp2i/main?urlpath=git-pull%3Frepo%3Dhttps%253A%252F%252Fgithub.com%252Fmp2i-fsm%252Fmp2i-2021%26urlpath%3Dlab%252Ftree%252Fmp2i-2021%252F4_c%252Ftp%252F8_sudoku.ipynb%26branch%3Dmain)\n",
    "\n",
    "Un sudoku est une grille $9\\times 9$ pouvant contenir des entiers de $0$ à $8$, dont certains sont remplis. Le but est de remplir les cases manquantes de façon à ce que chaque ligne, colonne et carré de taille $3\\times 3$.  \n",
    "Voici un exemple de sudoku (à gauche) avec une solution (à droite) :\n",
    "<center><img src=https://github.com/fortierq/tikz/blob/master/data_structure/matrix/sudoku/sudoku.png?raw=true width=700></center>"
   ]
  },
  {
   "cell_type": "code",
   "execution_count": 1,
   "id": "1932ea67-14fb-4313-9fdc-a19190dbb0da",
   "metadata": {
    "execution": {
     "iopub.execute_input": "2022-02-12T16:00:05.442509Z",
     "iopub.status.busy": "2022-02-12T16:00:05.441350Z",
     "iopub.status.idle": "2022-02-12T16:00:05.443046Z",
     "shell.execute_reply": "2022-02-12T16:00:05.441913Z"
    }
   },
   "outputs": [],
   "source": [
    "int m_ex[9][9] = {\n",
    "    { -1, 3, -1, -1, -1, -1, 0, 6, 8 }, \n",
    "    { -1, -1, 1, -1, -1, 7, -1, 4, 3 }, \n",
    "    { -1, -1, 5, -1, -1, 4, -1, -1, 7 }, \n",
    "    { -1, 7, -1, -1, 6, -1, 8, 0, -1 }, \n",
    "    { -1, 4, -1, -1, 8, -1, -1, 2, -1 }, \n",
    "    { -1, 0, 8, -1, 5, -1, -1, 3, -1 }, \n",
    "    { 2, -1, -1, 3, -1, -1, 6, -1, -1 }, \n",
    "    { 4, 6, -1, 0, -1, -1, 1, -1, -1 }, \n",
    "    { 8, 1, 7, -1, -1, -1, -1, 5, -1 }\n",
    "}"
   ]
  },
  {
   "cell_type": "code",
   "execution_count": 2,
   "id": "f8a72a19",
   "metadata": {
    "execution": {
     "iopub.execute_input": "2022-02-12T16:00:05.445806Z",
     "iopub.status.busy": "2022-02-12T16:00:05.444484Z",
     "iopub.status.idle": "2022-02-12T16:00:05.446409Z",
     "shell.execute_reply": "2022-02-12T16:00:05.445303Z"
    }
   },
   "outputs": [],
   "source": [
    "int m_ex_solved[9][9] = {\n",
    "    { 7, 3, 4, 5, 2, 1, 0, 6, 8 },\n",
    "    { 6, 2, 1, 8, 0, 7, 5, 4, 3 },\n",
    "    { 0, 8, 5, 6, 3, 4, 2, 1, 7 },\n",
    "    { 5, 7, 2, 4, 6, 3, 8, 0, 1 },\n",
    "    { 3, 4, 6, 1, 8, 0, 7, 2, 5 },\n",
    "    { 1, 0, 8, 7, 5, 2, 4, 3, 6 },\n",
    "    { 2, 5, 0, 3, 1, 8, 6, 7, 4 },\n",
    "    { 4, 6, 3, 0, 7, 5, 1, 8, 2 },\n",
    "    { 8, 1, 7, 2, 4, 6, 3, 5, 0 }\n",
    "};"
   ]
  },
  {
   "cell_type": "markdown",
   "id": "7a705999-8b81-45aa-84d0-4fc50940405d",
   "metadata": {},
   "source": [
    "## Vérification\n",
    "\n",
    "Ici, on veut vérifier qu'une grille contient bien tous les entiers de $0$ à $8$. Pour cela, on code un sous-ensemble $S$ de $\\{0, ..., 8\\}$ par un entier dont la représentation binaire vaut $1$ en position $i$ si $i \\in S$ (comme pour le [TP 1](https://mp2i-fsm.github.io/mp2i-2021/4_c/tp/1_bitfield), le revoir si nécessaire)."
   ]
  },
  {
   "cell_type": "markdown",
   "id": "c120913b-6259-47e3-ba8f-8bb7780342ee",
   "metadata": {
    "tags": [
     "exo"
    ]
   },
   "source": [
    "**Exercice** : Écrire une fonction <code>int to_set(int)</code> convertissant un entier $i$ en l'ensemble $\\{i\\}$ (c'est-à-dire $1\\underbrace{0...0}_i = 2^i$)."
   ]
  },
  {
   "cell_type": "code",
   "execution_count": 3,
   "id": "2585db06-6c96-4dd7-b6b1-2d7e926cbd19",
   "metadata": {
    "execution": {
     "iopub.execute_input": "2022-02-12T16:00:05.449170Z",
     "iopub.status.busy": "2022-02-12T16:00:05.447825Z",
     "iopub.status.idle": "2022-02-12T16:00:05.449747Z",
     "shell.execute_reply": "2022-02-12T16:00:05.448661Z"
    },
    "tags": [
     "cor"
    ]
   },
   "outputs": [],
   "source": [
    "int to_set(int n) {\n",
    "    if(n == -1)\n",
    "        return 0;\n",
    "    return 1 << n;\n",
    "}"
   ]
  },
  {
   "cell_type": "markdown",
   "id": "c86ca18e-50e7-4011-90b4-3c7d5e84e0c2",
   "metadata": {},
   "source": [
    "**Exercice** : Écrire une fonction <code>bool full(int)</code> telle que, si <code>s</code> est un entier représentant un ensemble, <code>full(s)</code> détermine si <code>s</code> contient tous les entiers entre $0$ et $8$ (c'est-à-dire : teste si <code>s</code> est égal à $\\underbrace{111111111}_9 {}_2$)."
   ]
  },
  {
   "cell_type": "code",
   "execution_count": 4,
   "id": "6902ce89-b057-4173-8972-0de701554476",
   "metadata": {
    "execution": {
     "iopub.execute_input": "2022-02-12T16:00:05.452317Z",
     "iopub.status.busy": "2022-02-12T16:00:05.451144Z",
     "iopub.status.idle": "2022-02-12T16:00:05.452881Z",
     "shell.execute_reply": "2022-02-12T16:00:05.451808Z"
    },
    "tags": [
     "cor"
    ]
   },
   "outputs": [],
   "source": [
    "bool full(int s) {\n",
    "    return s == 511;\n",
    "}"
   ]
  },
  {
   "cell_type": "markdown",
   "id": "de672973-f523-4211-ae50-a4f3893ffd1d",
   "metadata": {},
   "source": [
    "**Exercice** : Écrire une fonction <code>int line(int m[9][9], int)</code> telle que, si <code>m</code> est un sudoku, <code>line(m, i)</code> renvoie l'ensemble des chiffres apparaissant sur la ligne <code>i</code> de <code>m</code>. Par exemple, <code>line(m_ex, 0)</code> doit renvoyer $101001001_2 = 2^0 + 2^3 + 2^6 + 2^8 = 329$ (correspondant à l'ensemble $\\{0, 3, 6, 8\\}$ des chiffres apparaissant sur la première ligne de <code>m_ex</code>)."
   ]
  },
  {
   "cell_type": "code",
   "execution_count": 5,
   "id": "c7d18e7b-5998-40b4-96ff-37eddf532588",
   "metadata": {
    "execution": {
     "iopub.execute_input": "2022-02-12T16:00:05.456966Z",
     "iopub.status.busy": "2022-02-12T16:00:05.454349Z",
     "iopub.status.idle": "2022-02-12T16:00:06.093562Z",
     "shell.execute_reply": "2022-02-12T16:00:06.091918Z"
    },
    "tags": [
     "cor"
    ]
   },
   "outputs": [
    {
     "data": {
      "text/plain": [
       "329"
      ]
     },
     "execution_count": 5,
     "metadata": {},
     "output_type": "execute_result"
    }
   ],
   "source": [
    "int line(int m[9][9], int i) {\n",
    "    int l = 0;\n",
    "    for(int j = 0; j < 9; j++)\n",
    "        l |= to_set(m[i][j]);\n",
    "    return l;\n",
    "}\n",
    "\n",
    "line(m_ex, 0)"
   ]
  },
  {
   "cell_type": "markdown",
   "id": "cb08ea96-8a9d-4912-85da-01fc6a1bdccf",
   "metadata": {
    "tags": [
     "exo"
    ]
   },
   "source": [
    "**Exercice** : Écrire une fonction <code>int column(int m[9][9], int)</code> telle que, si <code>m</code> est un sudoku, <code>column(m, j)</code> renvoie l'ensemble des chiffres apparaissant sur la colonne <code>j</code> de <code>m</code>. Par exemple, <code>column(m_ex, 0)</code> doit renvoyer $100010100_2 = 2^2 + 2^4 + 2^8 = 276$ (correspondant à l'ensemble $\\{2, 4, 8\\}$ des chiffres apparaissant sur la première colonne de <code>m_ex</code>)."
   ]
  },
  {
   "cell_type": "code",
   "execution_count": 6,
   "id": "a6d35adc-f4dc-4111-bbd7-07557d65b1bd",
   "metadata": {
    "execution": {
     "iopub.execute_input": "2022-02-12T16:00:06.096176Z",
     "iopub.status.busy": "2022-02-12T16:00:06.095500Z",
     "iopub.status.idle": "2022-02-12T16:00:06.541252Z",
     "shell.execute_reply": "2022-02-12T16:00:06.540704Z"
    },
    "tags": [
     "cor"
    ]
   },
   "outputs": [
    {
     "data": {
      "text/plain": [
       "276"
      ]
     },
     "execution_count": 6,
     "metadata": {},
     "output_type": "execute_result"
    }
   ],
   "source": [
    "int column(int m[9][9], int j) {\n",
    "    int c = 0;\n",
    "    for(int i = 0; i < 9; i++)\n",
    "        c |= to_set(m[i][j]);\n",
    "    return c;\n",
    "}\n",
    "\n",
    "column(m_ex, 0)"
   ]
  },
  {
   "cell_type": "markdown",
   "id": "150ebfe6-f678-4f93-9a4f-b14594479fc6",
   "metadata": {
    "tags": [
     "exo"
    ]
   },
   "source": [
    "**Exercice** : Écrire une fonction <code>int square(int m[9][9], int)</code> telle que, si <code>m</code> est un sudoku, <code>square(m, k)</code> renvoie l'ensemble des chiffres apparaissant sur le carré numéro <code>k</code> (avec la numérotation sur la figure de l'exemple) de <code>m</code>. Par exemple, <code>square(m_ex, 1)</code> doit renvoyer $010010000_2 = 2^4 + 2^7 = 144$ (correspondant à l'ensemble $\\{4, 7\\}$ des chiffres apparaissant sur le carré numéroté $1$ de <code>m_ex</code>)."
   ]
  },
  {
   "cell_type": "code",
   "execution_count": 7,
   "id": "2ad7103c-0a4a-40f6-9982-edcfc71328ba",
   "metadata": {
    "execution": {
     "iopub.execute_input": "2022-02-12T16:00:06.543255Z",
     "iopub.status.busy": "2022-02-12T16:00:06.542664Z",
     "iopub.status.idle": "2022-02-12T16:00:06.988979Z",
     "shell.execute_reply": "2022-02-12T16:00:06.987386Z"
    },
    "tags": [
     "cor"
    ]
   },
   "outputs": [
    {
     "data": {
      "text/plain": [
       "144"
      ]
     },
     "execution_count": 7,
     "metadata": {},
     "output_type": "execute_result"
    }
   ],
   "source": [
    "int square(int m[9][9], int k) {\n",
    "    int i_square = k/3;\n",
    "    int j_square = k%3;\n",
    "    int s = 0;\n",
    "    for(int i = 0; i < 3; i++)\n",
    "        for(int j = 0; j < 3; j++) \n",
    "            s |= to_set(m[3*i_square + i][3*j_square + j]);\n",
    "    return s;\n",
    "}\n",
    "\n",
    "square(m_ex, 1)"
   ]
  },
  {
   "cell_type": "markdown",
   "id": "f913701c-aa98-458e-9362-cac93430378d",
   "metadata": {
    "tags": [
     "exo"
    ]
   },
   "source": [
    "**Exercice** : Écrire une fonction `valid` déterminant si un sudoku est correctement rempli."
   ]
  },
  {
   "cell_type": "code",
   "execution_count": 8,
   "id": "f663bfa1-a6cb-40c9-9e99-e514330d22d3",
   "metadata": {
    "execution": {
     "iopub.execute_input": "2022-02-12T16:00:06.993729Z",
     "iopub.status.busy": "2022-02-12T16:00:06.993120Z",
     "iopub.status.idle": "2022-02-12T16:00:07.440113Z",
     "shell.execute_reply": "2022-02-12T16:00:07.438500Z"
    },
    "tags": [
     "cor"
    ]
   },
   "outputs": [
    {
     "data": {
      "text/plain": [
       "true"
      ]
     },
     "execution_count": 8,
     "metadata": {},
     "output_type": "execute_result"
    }
   ],
   "source": [
    "bool valid(int m[9][9]) {\n",
    "    for(int i = 0; i < 9; i++)\n",
    "        if(!(full(line(m, i) & column(m, i) & square(m, i))))\n",
    "            return false;\n",
    "    return true;\n",
    "}\n",
    "\n",
    "!valid(m_ex) && valid(m_ex_solved)"
   ]
  },
  {
   "cell_type": "markdown",
   "id": "adbc3e63-f3dc-4a56-9d90-bee9c0260d71",
   "metadata": {},
   "source": [
    "## Résolution\n",
    "\n",
    "On veut maintenat résoudre un sudoku. Pour cela, on va utiliser un algorithme de **backtracking** :  \n",
    "\n",
    "Pour chaque case $c$ non remplie du sudoku dans l'ordre (par exemple de gauche à droite et de haut en bas) :\n",
    "- Calculer l'ensemble $S$ des numéros autorisés pour $c$ (on pourra utiliser les fonctions précédentes pour ça)\n",
    "- Pour chaque numéro $k$ possible dans $S$ :\n",
    "  - Donner le numéro $k$ à c\n",
    "  - S'appliquer récursivement sur la case suivante\n",
    "  - Si cet appel récursif a renvoyé `true` (ce qui signifie qu'une solution a été trouvée), renvoyer `true`\n",
    "- Renvoyer `false` (aucune solution n'a été trouvée)\n",
    "\n",
    "<center><img src=https://upload.wikimedia.org/wikipedia/commons/8/8c/Sudoku_solved_by_bactracking.gif width=300></center>"
   ]
  },
  {
   "cell_type": "markdown",
   "id": "dff1e926-7d73-438f-bc52-aa5da654d5b1",
   "metadata": {
    "tags": [
     "exo"
    ]
   },
   "source": [
    "**Exercice** : Ecrire une fonction `bool backtrack(int m[9][9], int i, int j)` renvoyant `true` s'il est possible de remplir `m` à partir de la case `m[i][j]`. `m` sera modifié par la fonction (et contiendra alors une solution du sudoku)."
   ]
  },
  {
   "cell_type": "code",
   "execution_count": 9,
   "id": "cf546320-64d6-4632-8e59-11d5196d521d",
   "metadata": {
    "execution": {
     "iopub.execute_input": "2022-02-12T16:00:07.444602Z",
     "iopub.status.busy": "2022-02-12T16:00:07.443502Z",
     "iopub.status.idle": "2022-02-12T16:00:07.445154Z",
     "shell.execute_reply": "2022-02-12T16:00:07.443986Z"
    },
    "tags": [
     "cor"
    ]
   },
   "outputs": [],
   "source": [
    "bool backtrack(int m[9][9], int i, int j) {\n",
    "    if(i > 8)\n",
    "        return true;\n",
    "    if(m[i][j] != -1)\n",
    "        return backtrack(m, i + j/8, (j + 1)%9);\n",
    "    int forbidden = line(m, i) | column(m, j) | square(m, 3*(i/3) + j/3);\n",
    "    for(int k = 0; k < 9; k++) {\n",
    "        if((forbidden & to_set(k)) == 0) {\n",
    "            m[i][j] = k;\n",
    "            if(backtrack(m, i + j/8, (j + 1) % 9))\n",
    "                return true;\n",
    "            m[i][j] = -1;\n",
    "        }\n",
    "    }\n",
    "    return false;\n",
    "}"
   ]
  },
  {
   "cell_type": "code",
   "execution_count": 10,
   "id": "ea6f0ef6-a620-4dc9-b936-2e2c1fc502e6",
   "metadata": {
    "execution": {
     "iopub.execute_input": "2022-02-12T16:00:07.449650Z",
     "iopub.status.busy": "2022-02-12T16:00:07.449086Z",
     "iopub.status.idle": "2022-02-12T16:00:07.883264Z",
     "shell.execute_reply": "2022-02-12T16:00:07.882679Z"
    },
    "tags": [
     "cor"
    ]
   },
   "outputs": [
    {
     "data": {
      "text/plain": [
       "true"
      ]
     },
     "execution_count": 10,
     "metadata": {},
     "output_type": "execute_result"
    }
   ],
   "source": [
    "backtrack(m_ex, 0, -1)"
   ]
  },
  {
   "cell_type": "code",
   "execution_count": 11,
   "id": "01abe9ae-e5db-4623-aa0f-9b9897381b3d",
   "metadata": {
    "execution": {
     "iopub.execute_input": "2022-02-12T16:00:07.889565Z",
     "iopub.status.busy": "2022-02-12T16:00:07.888904Z",
     "iopub.status.idle": "2022-02-12T16:00:08.344836Z",
     "shell.execute_reply": "2022-02-12T16:00:08.340787Z"
    },
    "tags": [
     "cor"
    ]
   },
   "outputs": [
    {
     "data": {
      "text/plain": [
       "{ { 7, 3, 4, 5, 2, 1, 0, 6, 8 }, { 6, 2, 1, 8, 0, 7, 5, 4, 3 }, { 0, 8, 5, 6, 3, 4, 2, 1, 7 }, { 5, 7, 2, 4, 6, 3, 8, 0, 1 }, { 3, 4, 6, 1, 8, 0, 7, 2, 5 }, { 1, 0, 8, 7, 5, 2, 4, 3, 6 }, { 2, 5, 0, 3, 1, 8, 6, 7, 4 }, { 4, 6, 3, 0, 7, 5, 1, 8, 2 }, { 8, 1, 7, 2, 4, 6, 3, 5, 0 } }"
      ]
     },
     "execution_count": 11,
     "metadata": {},
     "output_type": "execute_result"
    }
   ],
   "source": [
    "m_ex"
   ]
  }
 ],
 "metadata": {
  "interpreter": {
   "hash": "370b1589d5eaa8e70ea377fc56b9c5586cca036d8fef65e73e33cd5f49ea4bb3"
  },
  "kernelspec": {
   "display_name": "C++14",
   "language": "C++14",
   "name": "xcpp14"
  },
  "language_info": {
   "codemirror_mode": "text/x-c++src",
   "file_extension": ".cpp",
   "mimetype": "text/x-c++src",
   "name": "c++",
   "version": "14"
  }
 },
 "nbformat": 4,
 "nbformat_minor": 5
}

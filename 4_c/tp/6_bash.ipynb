{
 "cells": [
  {
   "cell_type": "markdown",
   "id": "fbb57801-a45c-4f82-a529-ec7df10fdc75",
   "metadata": {
    "tags": []
   },
   "source": [
    "# TP 6 : Utilisation du terminal sous Linux\n",
    "\n",
    "Dans ce TP, on s'intéresse à quelques commandes utiles dans le terminal, sous Linux.  \n",
    "**Remarque** : Windows possède aussi un terminal en ligne de commande (taper touche Windows + R puis cmd). Powershell est une nouvelle interface en ligne de commande sous Windows.\n",
    "\n",
    "Pour utiliser le terminal, vous pouvez :\n",
    "- Utiliser [une machine virtuelle](https://mp2i-fsm.github.io/mp2i-2021/0_intro/install) avec la console (Ctrl + Alt + T)  \n",
    "- Utiliser Jupyter, en commençant chaque commande par `!` ou en utilisant le terminal (File -> New -> Terminal)\n",
    "- Utiliser le terminal (fenêtre à droite) de [repl.it](https://replit.com/languages/c)\n",
    "\n",
    "## `echo`\n",
    "\n",
    "`echo` est une commande qui renvoie ses arguments vers la sortie standard (stdout), typiquement l'écran du terminal."
   ]
  },
  {
   "cell_type": "code",
   "execution_count": 1,
   "id": "787082e6-01a7-4d09-8860-cecfe17925cc",
   "metadata": {
    "execution": {
     "iopub.execute_input": "2021-12-03T08:33:39.625968Z",
     "iopub.status.busy": "2021-12-03T08:33:39.625211Z",
     "iopub.status.idle": "2021-12-03T08:33:40.368797Z",
     "shell.execute_reply": "2021-12-03T08:33:40.369266Z"
    }
   },
   "outputs": [
    {
     "name": "stdout",
     "output_type": "stream",
     "text": [
      "hello\r\n"
     ]
    }
   ],
   "source": [
    "! echo hello # affiche hello sur la sortie standard"
   ]
  },
  {
   "cell_type": "markdown",
   "id": "ff73f695-b0f6-4483-99d4-9648f93f3ddd",
   "metadata": {},
   "source": [
    "Ceci a l'air inutile, mais il y a en fait pas mal d'utilité possibles. Par exemple afficher le contenu d'une variable :"
   ]
  },
  {
   "cell_type": "code",
   "execution_count": 2,
   "id": "74845511-6d29-489e-b55f-ee7b12450872",
   "metadata": {
    "execution": {
     "iopub.execute_input": "2021-12-03T08:33:40.374484Z",
     "iopub.status.busy": "2021-12-03T08:33:40.372266Z",
     "iopub.status.idle": "2021-12-03T08:33:41.129315Z",
     "shell.execute_reply": "2021-12-03T08:33:41.128805Z"
    }
   },
   "outputs": [
    {
     "name": "stdout",
     "output_type": "stream",
     "text": [
      "/opt/conda/bin:/usr/local/sbin:/usr/local/bin:/usr/sbin:/usr/bin:/sbin:/bin\r\n"
     ]
    }
   ],
   "source": [
    "! echo $PATH # affiche le contenu de la variable PATH"
   ]
  },
  {
   "cell_type": "markdown",
   "id": "2e814f8c-37e1-45cd-b58f-9c30c67a63e4",
   "metadata": {},
   "source": [
    "`PATH` est une variable qui indique les chemins (séparés par `:`) où Linux doit chercher les exécutables correspondant à une commande du terminal. Par exemple, on peut savoir où est l'exécutable de `echo` avec `which` :"
   ]
  },
  {
   "cell_type": "code",
   "execution_count": 3,
   "id": "68783da8-0c0d-4627-8340-99e7edbd091d",
   "metadata": {
    "execution": {
     "iopub.execute_input": "2021-12-03T08:33:41.148018Z",
     "iopub.status.busy": "2021-12-03T08:33:41.134023Z",
     "iopub.status.idle": "2021-12-03T08:33:41.920738Z",
     "shell.execute_reply": "2021-12-03T08:33:41.921200Z"
    }
   },
   "outputs": [
    {
     "name": "stdout",
     "output_type": "stream",
     "text": [
      "/usr/bin/echo\r\n"
     ]
    }
   ],
   "source": [
    "! which echo"
   ]
  },
  {
   "cell_type": "markdown",
   "id": "245364e9-df4b-41d0-840a-be50b6e66563",
   "metadata": {},
   "source": [
    "Il est normalement possible d'afficher de l'aide sur une commande avec, par exemple, `man echo` (`man` pour *manual*). Cependant `man` ne marche pas sous Jupyter, à cause de l'installation (minimale) de Linux qu'il utilise. Vous pouvez chercher de l'aide [sur internet](https://man7.org/linux/man-pages/dir_section_1.html) à la place ([exemple avec l'aide de echo](https://man7.org/linux/man-pages/man1/echo.1.html))."
   ]
  },
  {
   "cell_type": "markdown",
   "id": "da51cc3b-14a8-46a7-ad73-ff3b5708b8a2",
   "metadata": {
    "tags": [
     "exo"
    ]
   },
   "source": [
    "**Exercice** : Où est situé `gcc`, qu'on a utilisé pour compiler un code C ? Et `ocaml` ? Et `python` ?"
   ]
  },
  {
   "cell_type": "markdown",
   "id": "0722e331-f610-42ff-bdaf-368e65d1f86b",
   "metadata": {},
   "source": [
    "# `pwd`\n",
    "\n",
    "`pwd` (*path working directory*) donne le répertoire où le terminal est situé :"
   ]
  },
  {
   "cell_type": "code",
   "execution_count": 4,
   "id": "4caf94f3-661f-4e5c-a0dc-de6c2ece8247",
   "metadata": {
    "execution": {
     "iopub.execute_input": "2021-12-03T08:33:41.931164Z",
     "iopub.status.busy": "2021-12-03T08:33:41.926049Z",
     "iopub.status.idle": "2021-12-03T08:33:42.677028Z",
     "shell.execute_reply": "2021-12-03T08:33:42.676530Z"
    }
   },
   "outputs": [
    {
     "name": "stdout",
     "output_type": "stream",
     "text": [
      "/__w/mp2i_src/mp2i_src/4_c/tp\r\n"
     ]
    }
   ],
   "source": [
    "! pwd"
   ]
  },
  {
   "cell_type": "markdown",
   "id": "12724b9a-75b6-4153-b520-223c7b2b331c",
   "metadata": {},
   "source": [
    "## `ls`\n",
    "\n",
    "`ls` permet de lister les fichiers dans le répertoire en cours."
   ]
  },
  {
   "cell_type": "code",
   "execution_count": 5,
   "id": "967ed3e7-8f41-4689-bdf1-0b9ec84df4bf",
   "metadata": {
    "execution": {
     "iopub.execute_input": "2021-12-03T08:33:42.684358Z",
     "iopub.status.busy": "2021-12-03T08:33:42.681558Z",
     "iopub.status.idle": "2021-12-03T08:33:43.419784Z",
     "shell.execute_reply": "2021-12-03T08:33:43.420363Z"
    }
   },
   "outputs": [
    {
     "name": "stdout",
     "output_type": "stream",
     "text": [
      "1_bitfield.ipynb       3_representation_binaire.ipynb  5_string.ipynb  img\r\n",
      "2_liste_chainee.ipynb  4_dyn_array.ipynb\t       6_bash.ipynb\r\n"
     ]
    }
   ],
   "source": [
    "! ls"
   ]
  },
  {
   "cell_type": "markdown",
   "id": "071fcece-08d4-4b09-8ce8-74c2f705efca",
   "metadata": {},
   "source": [
    "`ls` possède de [nombreuses options utiles](https://man7.org/linux/man-pages/man1/ls.1.html). Par exemple, pour afficher chaque fichier avec sa date de modification, la taille du fichier en Ko... :"
   ]
  },
  {
   "cell_type": "code",
   "execution_count": 6,
   "id": "96f0221b-f43f-4606-ae70-175e7f790c9f",
   "metadata": {
    "execution": {
     "iopub.execute_input": "2021-12-03T08:33:43.429313Z",
     "iopub.status.busy": "2021-12-03T08:33:43.426142Z",
     "iopub.status.idle": "2021-12-03T08:33:44.190466Z",
     "shell.execute_reply": "2021-12-03T08:33:44.189907Z"
    }
   },
   "outputs": [
    {
     "name": "stdout",
     "output_type": "stream",
     "text": [
      "total 72K\r\n",
      "-rw-r--r-- 1 root root  9K Dec  3 08:33 1_bitfield.ipynb\r\n",
      "-rw-r--r-- 1 root root 10K Dec  3 08:33 2_liste_chainee.ipynb\r\n",
      "-rw-r--r-- 1 root root  8K Dec  3 08:33 3_representation_binaire.ipynb\r\n",
      "-rw-r--r-- 1 root root  5K Dec  3 08:33 4_dyn_array.ipynb\r\n",
      "-rw-r--r-- 1 root root  6K Dec  3 08:33 5_string.ipynb\r\n",
      "-rw-r--r-- 1 root root 19K Dec  3 08:33 6_bash.ipynb\r\n",
      "drwxr-xr-x 2 root root  4K Dec  3 08:33 img\r\n"
     ]
    }
   ],
   "source": [
    "! ls -l --block-size=K"
   ]
  },
  {
   "cell_type": "markdown",
   "id": "82f731a8-fb4c-440c-96af-592b5bf91e23",
   "metadata": {},
   "source": [
    "On peut aussi donner un paramètre à `ls` pour indiquer de quel dossier on veut lister les fichiers :"
   ]
  },
  {
   "cell_type": "code",
   "execution_count": 7,
   "id": "6731eaae-d232-4843-aaef-3813b5bfe716",
   "metadata": {
    "execution": {
     "iopub.execute_input": "2021-12-03T08:33:44.198856Z",
     "iopub.status.busy": "2021-12-03T08:33:44.198281Z",
     "iopub.status.idle": "2021-12-03T08:33:44.939148Z",
     "shell.execute_reply": "2021-12-03T08:33:44.940012Z"
    }
   },
   "outputs": [
    {
     "name": "stdout",
     "output_type": "stream",
     "text": [
      "bin   dev  etc\t   home  lib32\tlibx32\tmnt  proc  run\t srv  __t  usr\t__w\r\n",
      "boot  __e  github  lib\t lib64\tmedia\topt  root  sbin  sys  tmp  var\r\n"
     ]
    }
   ],
   "source": [
    "! ls / # fichiers à la racine de Linux (qui contient tous les autres fichiers)"
   ]
  },
  {
   "cell_type": "markdown",
   "id": "d5293054-dcd0-4b7d-90ff-0a3d9dc43682",
   "metadata": {},
   "source": [
    "Le système de fichiers de Linux est une **arborescence** (ou plus simplement un **arbre**) : le dossier racine `/` contient des dossiers (qui sont ses **fils**), qui eux-mêmes contiennent des fichiers... :\n",
    "<center><img src=https://www.raspberrypi-france.fr/wp-content/uploads/2020/02/arborescence-768x295.jpg width=550></center>"
   ]
  },
  {
   "cell_type": "markdown",
   "id": "9edba000-5a3b-46dc-91a0-ad1118128d70",
   "metadata": {},
   "source": [
    "Chaque répertoire dans `/` a un rôle bien précis. Voici les plus importants : \n",
    "- `bin` et `sbin` : exécutables binaires réservé au `root`  \n",
    "- `dev` (*devices*) : périphériques comme les disques durs, clé USB, CD-ROM... sous forme de dossier  \n",
    "- `etc` : fichiers de configuration, scripts de démarrage...\n",
    "- `home` contient les répertoires personnels des utilisateurs de l'ordinateur\n",
    "- `usr` : applications et fichiers accessibles à tous les utilisateurs"
   ]
  },
  {
   "cell_type": "markdown",
   "id": "91d78d73-2ccc-43d8-b91c-34f9e972a3b8",
   "metadata": {},
   "source": [
    "## `cat`\n",
    "\n",
    "`cat` (*concatenate*) permet d'afficher le contenu d'un fichier. Par exemple, le fichier `/etc/passwd` contient les utilisateurs avec des informations :"
   ]
  },
  {
   "cell_type": "code",
   "execution_count": 8,
   "id": "a8b47486-4235-4bfb-bb2f-005180bb5e80",
   "metadata": {
    "execution": {
     "iopub.execute_input": "2021-12-03T08:33:44.944544Z",
     "iopub.status.busy": "2021-12-03T08:33:44.943914Z",
     "iopub.status.idle": "2021-12-03T08:33:45.706007Z",
     "shell.execute_reply": "2021-12-03T08:33:45.705443Z"
    }
   },
   "outputs": [
    {
     "name": "stdout",
     "output_type": "stream",
     "text": [
      "root:x:0:0:root:/root:/bin/bash\r\n",
      "daemon:x:1:1:daemon:/usr/sbin:/usr/sbin/nologin\r\n",
      "bin:x:2:2:bin:/bin:/usr/sbin/nologin\r\n",
      "sys:x:3:3:sys:/dev:/usr/sbin/nologin\r\n",
      "sync:x:4:65534:sync:/bin:/bin/sync\r\n",
      "games:x:5:60:games:/usr/games:/usr/sbin/nologin\r\n",
      "man:x:6:12:man:/var/cache/man:/usr/sbin/nologin\r\n",
      "lp:x:7:7:lp:/var/spool/lpd:/usr/sbin/nologin\r\n",
      "mail:x:8:8:mail:/var/mail:/usr/sbin/nologin\r\n",
      "news:x:9:9:news:/var/spool/news:/usr/sbin/nologin\r\n",
      "uucp:x:10:10:uucp:/var/spool/uucp:/usr/sbin/nologin\r\n",
      "proxy:x:13:13:proxy:/bin:/usr/sbin/nologin\r\n",
      "www-data:x:33:33:www-data:/var/www:/usr/sbin/nologin\r\n",
      "backup:x:34:34:backup:/var/backups:/usr/sbin/nologin\r\n",
      "list:x:38:38:Mailing List Manager:/var/list:/usr/sbin/nologin\r\n",
      "irc:x:39:39:ircd:/var/run/ircd:/usr/sbin/nologin\r\n",
      "gnats:x:41:41:Gnats Bug-Reporting System (admin):/var/lib/gnats:/usr/sbin/nologin\r\n",
      "nobody:x:65534:65534:nobody:/nonexistent:/usr/sbin/nologin\r\n",
      "_apt:x:100:65534::/nonexistent:/usr/sbin/nologin\r\n",
      "jovyan:x:1000:100::/home/jovyan:/bin/bash\r\n",
      "systemd-timesync:x:101:101:systemd Time Synchronization,,,:/run/systemd:/usr/sbin/nologin\r\n",
      "systemd-network:x:102:103:systemd Network Management,,,:/run/systemd:/usr/sbin/nologin\r\n",
      "systemd-resolve:x:103:104:systemd Resolver,,,:/run/systemd:/usr/sbin/nologin\r\n",
      "messagebus:x:104:105::/nonexistent:/usr/sbin/nologin\r\n"
     ]
    }
   ],
   "source": [
    "!cat /etc/passwd"
   ]
  },
  {
   "cell_type": "markdown",
   "id": "c010889a-ae8f-4509-a0bb-048692978bbb",
   "metadata": {},
   "source": [
    "Les `x` signifient que les mots de passe de chaque utilisateur sont stockés dans un fichier `/etc/shadow` (en fait ce sont les images par une fonction de hachage, [SHA](https://fr.wikipedia.org/wiki/SHA-2), qui sont stockés) :"
   ]
  },
  {
   "cell_type": "code",
   "execution_count": 9,
   "id": "7e8d3e02-0d49-4378-b249-9d8735f79a95",
   "metadata": {
    "execution": {
     "iopub.execute_input": "2021-12-03T08:33:45.713527Z",
     "iopub.status.busy": "2021-12-03T08:33:45.711308Z",
     "iopub.status.idle": "2021-12-03T08:33:46.467572Z",
     "shell.execute_reply": "2021-12-03T08:33:46.467073Z"
    }
   },
   "outputs": [
    {
     "name": "stdout",
     "output_type": "stream",
     "text": [
      "root:*:18831:0:99999:7:::\r\n",
      "daemon:*:18831:0:99999:7:::\r\n",
      "bin:*:18831:0:99999:7:::\r\n",
      "sys:*:18831:0:99999:7:::\r\n",
      "sync:*:18831:0:99999:7:::\r\n",
      "games:*:18831:0:99999:7:::\r\n",
      "man:*:18831:0:99999:7:::\r\n",
      "lp:*:18831:0:99999:7:::\r\n",
      "mail:*:18831:0:99999:7:::\r\n",
      "news:*:18831:0:99999:7:::\r\n",
      "uucp:*:18831:0:99999:7:::\r\n",
      "proxy:*:18831:0:99999:7:::\r\n",
      "www-data:*:18831:0:99999:7:::\r\n",
      "backup:*:18831:0:99999:7:::\r\n",
      "list:*:18831:0:99999:7:::\r\n",
      "irc:*:18831:0:99999:7:::\r\n",
      "gnats:*:18831:0:99999:7:::\r\n",
      "nobody:*:18831:0:99999:7:::\r\n",
      "_apt:*:18831:0:99999:7:::\r\n",
      "jovyan:!:18848:0:99999:7:::\r\n",
      "systemd-timesync:*:18856:0:99999:7:::\r\n",
      "systemd-network:*:18856:0:99999:7:::\r\n",
      "systemd-resolve:*:18856:0:99999:7:::\r\n",
      "messagebus:*:18856:0:99999:7:::\r\n"
     ]
    }
   ],
   "source": [
    "! cat /etc/shadow"
   ]
  },
  {
   "cell_type": "markdown",
   "id": "ce98b607-5450-4331-a2f7-c0a70a14fe6a",
   "metadata": {},
   "source": [
    "Il faut être `root` (administrateur) pour pouvoir lire/modifier `/etc/shadow`. Pour passer momentanément en utilisateur `root`, il faut écrire `sudo cat /etc/shadow`. Vous pouvez le tester sur la machine virtuelle mais pas sur Jupyter (il n'y a pas de droit administrateur pour des questions de sécurité).  "
   ]
  },
  {
   "cell_type": "markdown",
   "id": "b05cfef1-0de2-41c1-91bf-f6b1c80806a1",
   "metadata": {},
   "source": [
    "## Redirection de flux\n",
    "\n",
    "Chaque commande possède une entrée et une sortie. Il est possible de rediriger ces flux avec `>`. Par exemple la commande suivante redirige la sortie de `echo` et le met dans un fichier (plutôt que sur `stdout`, c'est-à-dire le terminal) :"
   ]
  },
  {
   "cell_type": "code",
   "execution_count": 10,
   "id": "eba17a4f-7de2-4656-a404-b9f038fe430b",
   "metadata": {
    "execution": {
     "iopub.execute_input": "2021-12-03T08:33:46.480666Z",
     "iopub.status.busy": "2021-12-03T08:33:46.476258Z",
     "iopub.status.idle": "2021-12-03T08:33:47.254059Z",
     "shell.execute_reply": "2021-12-03T08:33:47.252170Z"
    }
   },
   "outputs": [],
   "source": [
    "! echo print_int 42 > test.ml # met print_int 42 dans un fichier test.ml"
   ]
  },
  {
   "cell_type": "code",
   "execution_count": 11,
   "id": "fe83f5b2-ad50-4a47-98dc-c188f20b157d",
   "metadata": {
    "execution": {
     "iopub.execute_input": "2021-12-03T08:33:47.261804Z",
     "iopub.status.busy": "2021-12-03T08:33:47.258623Z",
     "iopub.status.idle": "2021-12-03T08:33:48.022007Z",
     "shell.execute_reply": "2021-12-03T08:33:48.022503Z"
    }
   },
   "outputs": [
    {
     "name": "stdout",
     "output_type": "stream",
     "text": [
      "1_bitfield.ipynb       3_representation_binaire.ipynb  5_string.ipynb  img\r\n",
      "2_liste_chainee.ipynb  4_dyn_array.ipynb\t       6_bash.ipynb    test.ml\r\n"
     ]
    }
   ],
   "source": [
    "! ls # on voit bien le fichier test.ml"
   ]
  },
  {
   "cell_type": "markdown",
   "id": "c112e4ab-7f14-45ea-9d20-09ac62cc3948",
   "metadata": {
    "tags": [
     "exo"
    ]
   },
   "source": [
    "**Exercice** : Vérifier le contenu de `test.ml` et l'exécuter avec `ocaml test.ml`."
   ]
  },
  {
   "cell_type": "markdown",
   "id": "cf41bc22-511c-450d-b5e5-ea008fd558ea",
   "metadata": {},
   "source": [
    "`|` (*pipe*) permet de rediriger la sortie d'une commande vers l'entrée d'une autre commande. \n",
    "Par exemple, on trouve dans `/usr/include` les headers de la glibc, bibliothèque standard du C. Comme il y en a beaucoup, on donne la sortie de `ls /usr/include` à la commande `head`, qui affiche seulement les 10 premiers :"
   ]
  },
  {
   "cell_type": "code",
   "execution_count": 12,
   "id": "0631c328-7f74-4d2c-98c2-22c2e72efc6c",
   "metadata": {
    "execution": {
     "iopub.execute_input": "2021-12-03T08:33:48.031262Z",
     "iopub.status.busy": "2021-12-03T08:33:48.027495Z",
     "iopub.status.idle": "2021-12-03T08:33:48.813134Z",
     "shell.execute_reply": "2021-12-03T08:33:48.812605Z"
    }
   },
   "outputs": [
    {
     "name": "stdout",
     "output_type": "stream",
     "text": [
      "aio.h\r\n",
      "aliases.h\r\n",
      "alloca.h\r\n",
      "argp.h\r\n",
      "argz.h\r\n",
      "ar.h\r\n",
      "arpa\r\n",
      "asm-generic\r\n",
      "assert.h\r\n",
      "byteswap.h\r\n"
     ]
    }
   ],
   "source": [
    "! ls /usr/include | head"
   ]
  },
  {
   "cell_type": "markdown",
   "id": "1539bc5f-6e25-4e92-bf25-04ed3d2e84cb",
   "metadata": {
    "tags": [
     "exo"
    ]
   },
   "source": [
    "**Exercice** : Afficher le début du header `stdio.h`."
   ]
  },
  {
   "cell_type": "markdown",
   "id": "2785eb58-835e-40a3-a217-d97b743b8780",
   "metadata": {},
   "source": [
    "## `grep`"
   ]
  },
  {
   "cell_type": "markdown",
   "id": "5daba054-7bda-46e8-814d-e92742729fef",
   "metadata": {},
   "source": [
    "`grep` permet de chercher un mot dans un fichier (ou une chaîne de caractères). Par exemple, pour cherche l'utilisateur `jovyan` (utilisateur par défaut de Jupyter) dans `/etc/passwd` :"
   ]
  },
  {
   "cell_type": "code",
   "execution_count": 13,
   "id": "1a0a4177-dbe9-4e19-bb16-86292c6cd89c",
   "metadata": {
    "execution": {
     "iopub.execute_input": "2021-12-03T08:33:48.818529Z",
     "iopub.status.busy": "2021-12-03T08:33:48.817908Z",
     "iopub.status.idle": "2021-12-03T08:33:49.579688Z",
     "shell.execute_reply": "2021-12-03T08:33:49.580461Z"
    }
   },
   "outputs": [
    {
     "name": "stdout",
     "output_type": "stream",
     "text": [
      "jovyan:x:1000:100::/home/jovyan:/bin/bash\r\n"
     ]
    }
   ],
   "source": [
    "! grep jovyan /etc/passwd"
   ]
  },
  {
   "cell_type": "markdown",
   "id": "25060f64-a3c3-49be-93d1-c778cffd2c2b",
   "metadata": {
    "tags": [
     "exo"
    ]
   },
   "source": [
    "**Exercice** : Chercher le prototype de la fonction `strlen` dans `string.h`."
   ]
  },
  {
   "cell_type": "markdown",
   "id": "009c0358-5056-4cd7-b729-2b98d4f2a4be",
   "metadata": {},
   "source": [
    "`grep` utilise l'[algorithme d'Aho-Corasick](https://fr.wikipedia.org/wiki/Algorithme_d%27Aho-Corasick), que l'on verra plus tard ainsi que d'autres méthodes de recherche de chaîne de caractères."
   ]
  },
  {
   "cell_type": "markdown",
   "id": "2202541a-50e8-4baa-a952-1cf1caff1bc0",
   "metadata": {},
   "source": [
    "## `find`\n",
    "\n",
    "`find /path/` est comme `ls`, mais permet d'afficher récursivement tous les fichiers dans `/path/` (dans les sous-dossiers, les sous-sous-dossiers...). On peut ajouter l'option `-name \"...\"` pour chercher des fichiers avec un nom précis :"
   ]
  },
  {
   "cell_type": "code",
   "execution_count": 14,
   "id": "cb980901-5e66-4c00-9520-d27c7cd0d800",
   "metadata": {
    "execution": {
     "iopub.execute_input": "2021-12-03T08:33:49.584357Z",
     "iopub.status.busy": "2021-12-03T08:33:49.583688Z",
     "iopub.status.idle": "2021-12-03T08:33:51.767075Z",
     "shell.execute_reply": "2021-12-03T08:33:51.767521Z"
    }
   },
   "outputs": [
    {
     "name": "stdout",
     "output_type": "stream",
     "text": [
      "/usr/lib/ocaml/scanf.ml\r\n",
      "/usr/lib/ocaml/bigarray.ml\r\n",
      "/usr/lib/ocaml/camlinternalMod.ml\r\n",
      "/usr/lib/ocaml/nativeint.ml\r\n",
      "/usr/lib/ocaml/marshal.ml\r\n",
      "/usr/lib/ocaml/random.ml\r\n",
      "/usr/lib/ocaml/uchar.ml\r\n",
      "/usr/lib/ocaml/list.ml\r\n",
      "/usr/lib/ocaml/int.ml\r\n",
      "/usr/lib/ocaml/digest.ml\r\n",
      "find: ‘standard output’: Broken pipe\r\n",
      "find: write error\r\n"
     ]
    }
   ],
   "source": [
    "! find / -name \"*.ml\" | head # cherche tous les fichiers dans / dont l'extension est .ml"
   ]
  },
  {
   "cell_type": "markdown",
   "id": "913022e2-fea9-4c24-84aa-fd00cf5f0866",
   "metadata": {},
   "source": [
    "`*` est un caractère spécial signifiant \"n'importe quelle chaîne de caractères\". Donc le `find` ci-dessus cherche les fichiers commençant par n'importe quel nom, puis finissant par `.ml`."
   ]
  },
  {
   "cell_type": "markdown",
   "id": "64c70f72-39a1-4e56-b4d9-2822cad5b039",
   "metadata": {
    "tags": [
     "exo"
    ]
   },
   "source": [
    "**Exercice** : Parmi ces fichiers, trouver ceux qui ont `list` dans leur nom (on pourra utiliser `grep`)."
   ]
  },
  {
   "cell_type": "markdown",
   "id": "10027683-e323-4bf8-a5cd-b1609a5e8bac",
   "metadata": {
    "tags": []
   },
   "source": [
    "## `cd`\n",
    "\n",
    "`cd` (*change directory*) change le répertoire de travail :"
   ]
  },
  {
   "cell_type": "code",
   "execution_count": 15,
   "id": "3e0a19ce-9212-4fdb-b0b8-65f871aba9ab",
   "metadata": {
    "execution": {
     "iopub.execute_input": "2021-12-03T08:33:51.772992Z",
     "iopub.status.busy": "2021-12-03T08:33:51.772427Z",
     "iopub.status.idle": "2021-12-03T08:33:52.504087Z",
     "shell.execute_reply": "2021-12-03T08:33:52.503446Z"
    }
   },
   "outputs": [],
   "source": [
    "! cd / # se déplace dans le repertoire racine"
   ]
  },
  {
   "cell_type": "markdown",
   "id": "f0a662da-48e4-4a80-8e04-c95861314586",
   "metadata": {},
   "source": [
    "**Remarque** : Sur Jupyter, un nouveau shell est utilisé (et réinitialisé) à chaque commande. Le repertoire de travail sur une autre cellule ne sera donc pas changé par le `cd`, alors que c'est le cas dans le terml"
   ]
  }
 ],
 "metadata": {
  "interpreter": {
   "hash": "31f2aee4e71d21fbe5cf8b01ff0e069b9275f58929596ceb00d14d90e3e16cd6"
  },
  "kernelspec": {
   "display_name": "C++14",
   "language": "python",
   "name": "python3"
  },
  "language_info": {
   "codemirror_mode": {
    "name": "ipython",
    "version": 3
   },
   "file_extension": ".py",
   "mimetype": "text/x-python",
   "name": "python",
   "nbconvert_exporter": "python",
   "pygments_lexer": "ipython3",
   "version": "3.9.6"
  }
 },
 "nbformat": 4,
 "nbformat_minor": 5
}

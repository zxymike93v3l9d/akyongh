{
 "cells": [
  {
   "cell_type": "markdown",
   "id": "db367279-4804-41aa-9779-69d87eab5563",
   "metadata": {},
   "source": [
    "# TP 9 : Réécriture de commandes du terminal\n",
    "\n",
    "Dans ce TP, on veut réécrire les fonctions classiques du terminal (voir TP 6 si besoin).\n",
    "\n",
    "Pour cela, on va utiliser deux arguments pour la fonction `main` :  \n",
    "- `argv` : tableau de chaîne de caractères (donc un tableau un tableaux, puisque une chaîne de caractères est un tableau). Le premier élément de `argv` est le nom du programme qui exécute `main`.  \n",
    "- `argc` : taille de `argv`\n",
    "\n",
    "Par exemple, voici comment on pourrait réécrire la commande `echo` du terminal (qui se contente d'afficher ses arguments) :"
   ]
  },
  {
   "cell_type": "code",
   "execution_count": 1,
   "id": "397d073d-4a8d-4bfc-b7ef-c4f1e47fa9ae",
   "metadata": {
    "execution": {
     "iopub.execute_input": "2021-12-09T21:53:27.865033Z",
     "iopub.status.busy": "2021-12-09T21:53:27.864482Z",
     "iopub.status.idle": "2021-12-09T21:53:27.867299Z",
     "shell.execute_reply": "2021-12-09T21:53:27.865889Z"
    }
   },
   "outputs": [
    {
     "name": "stdout",
     "output_type": "stream",
     "text": [
      "cat: echo/echo.c: No such file or directory\n"
     ]
    }
   ],
   "source": [
    "! cat echo/echo.c"
   ]
  },
  {
   "cell_type": "code",
   "execution_count": 2,
   "id": "30a83982-89bc-48e0-ad00-51b8d4dad3bc",
   "metadata": {
    "execution": {
     "iopub.execute_input": "2021-12-09T21:53:27.869208Z",
     "iopub.status.busy": "2021-12-09T21:53:27.868719Z",
     "iopub.status.idle": "2021-12-09T21:53:27.875456Z",
     "shell.execute_reply": "2021-12-09T21:53:27.875061Z"
    }
   },
   "outputs": [
    {
     "name": "stdout",
     "output_type": "stream",
     "text": [
      "gcc: error: echo/echo.c: No such file or directory\n",
      "gcc: fatal error: no input files\n",
      "compilation terminated.\n"
     ]
    }
   ],
   "source": [
    "! gcc echo/echo.c -o echo/echo"
   ]
  },
  {
   "cell_type": "code",
   "execution_count": 3,
   "id": "bf9c618c-d3e9-475a-9a67-92b220024f5a",
   "metadata": {
    "execution": {
     "iopub.execute_input": "2021-12-09T21:53:27.877070Z",
     "iopub.status.busy": "2021-12-09T21:53:27.876650Z",
     "iopub.status.idle": "2021-12-09T21:53:27.878256Z",
     "shell.execute_reply": "2021-12-09T21:53:27.878585Z"
    }
   },
   "outputs": [
    {
     "name": "stdout",
     "output_type": "stream",
     "text": [
      "sh: 1: ./echo/echo: not found\n"
     ]
    }
   ],
   "source": [
    "! ./echo/echo hello world"
   ]
  },
  {
   "cell_type": "markdown",
   "id": "514ff862-9674-4f8f-856c-fc72820937bb",
   "metadata": {},
   "source": [
    "## `cat`"
   ]
  },
  {
   "cell_type": "markdown",
   "id": "16c41e42-9557-4830-8619-c327bb659927",
   "metadata": {
    "tags": [
     "exo"
    ]
   },
   "source": [
    "**Exercice** : Réécrire la commande `cat`, qui prend en argument un chemin de fichier et affiche son contenu."
   ]
  },
  {
   "cell_type": "code",
   "execution_count": 4,
   "id": "e1cd8e7a-7775-41f8-bfc5-a0426a3b71a0",
   "metadata": {
    "execution": {
     "iopub.execute_input": "2021-12-09T21:53:27.880597Z",
     "iopub.status.busy": "2021-12-09T21:53:27.879812Z",
     "iopub.status.idle": "2021-12-09T21:53:27.881992Z",
     "shell.execute_reply": "2021-12-09T21:53:27.881623Z"
    }
   },
   "outputs": [
    {
     "name": "stdout",
     "output_type": "stream",
     "text": [
      "sh: 1: ./cat/cat: not found\n"
     ]
    }
   ],
   "source": [
    "! ./cat/cat cat/cat.c"
   ]
  },
  {
   "cell_type": "markdown",
   "id": "339db4dd-a03c-428a-931a-438519806a04",
   "metadata": {},
   "source": [
    "## `grep`"
   ]
  },
  {
   "cell_type": "markdown",
   "id": "1b3a82d2-c530-4c20-a582-062fc3e336cd",
   "metadata": {
    "tags": [
     "exo"
    ]
   },
   "source": [
    "**Exercice** : Réécrire une variante de `grep`, avec 2 paramètres (un mot dans un chemin de fichier) et qui affiche les positions où le mot apparaît dans le fichier."
   ]
  },
  {
   "cell_type": "markdown",
   "id": "458c5527-eb9e-4eef-aa72-0729ac7b7a25",
   "metadata": {},
   "source": [
    "## `ls`"
   ]
  },
  {
   "cell_type": "markdown",
   "id": "baabae04-2f66-4231-bdaa-e9031b080cba",
   "metadata": {},
   "source": [
    "**Exercice** : Réécrire `ls` pour lister les fichiers dans le répertoire courant. On pourra utiliser [getcwd](http://manpagesfr.free.fr/man/man3/getcwd.3.html) et [directory_iterator](https://en.cppreference.com/w/cpp/filesystem/directory_iterator) (qui est du C++ : il faut donc compiler avec g++ au lieu de gcc)."
   ]
  }
 ],
 "metadata": {
  "kernelspec": {
   "display_name": "C++14",
   "language": "C++14",
   "name": "xcpp14"
  },
  "language_info": {
   "codemirror_mode": "text/x-c++src",
   "file_extension": ".cpp",
   "mimetype": "text/x-c++src",
   "name": "c++",
   "version": "14"
  }
 },
 "nbformat": 4,
 "nbformat_minor": 5
}

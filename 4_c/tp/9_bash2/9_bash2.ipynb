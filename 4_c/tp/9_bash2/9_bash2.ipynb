{
 "cells": [
  {
   "cell_type": "markdown",
   "id": "db367279-4804-41aa-9779-69d87eab5563",
   "metadata": {},
   "source": [
    "# <center><a href='https://mybinder.org/v2/gh/fortierq/binder-mp2i/main?urlpath=git-pull%3Frepo%3Dhttps%253A%252F%252Fgithub.com%252Fmp2i-fsm%252Fmp2i-2021%26urlpath%3Dlab%252Ftree%252Fmp2i-2021%252F4_c%252Ftp%252F9_bash2%252F9_bash2.ipynb%26branch%3Dmain'>TP 9 : Réécriture de commandes du terminal                                                 <img src=https://mybinder.org/badge.svg></a></center>\n",
    "\n",
    "Dans ce TP, on veut réécrire les fonctions classiques du terminal (revoir TP 6 et TP 7).\n",
    "\n",
    "Pour cela, on va utiliser deux arguments pour la fonction `main` :  \n",
    "- `argv` : tableau de chaîne de caractères (donc un tableau un tableaux, puisque une chaîne de caractères est un tableau). Le premier élément de `argv` est le nom du programme qui exécute `main`.  \n",
    "- `argc` : taille de `argv`\n",
    "\n",
    "Par exemple, voici comment on pourrait réécrire la commande `echo` du terminal (qui se contente d'afficher ses arguments) :"
   ]
  },
  {
   "cell_type": "code",
   "execution_count": 1,
   "id": "397d073d-4a8d-4bfc-b7ef-c4f1e47fa9ae",
   "metadata": {
    "execution": {
     "iopub.execute_input": "2021-12-10T03:44:11.951432Z",
     "iopub.status.busy": "2021-12-10T03:44:11.950910Z",
     "iopub.status.idle": "2021-12-10T03:44:11.953389Z",
     "shell.execute_reply": "2021-12-10T03:44:11.952933Z"
    }
   },
   "outputs": [
    {
     "name": "stdout",
     "output_type": "stream",
     "text": [
      "#include <stdio.h>\n",
      "\n",
      "int main(int argc, char* argv[]) {\n",
      "    for(int i = 1; i < argc; i++)\n",
      "        printf(\"%s \", argv[i]);\n",
      "}"
     ]
    }
   ],
   "source": [
    "! cat echo/echo.c"
   ]
  },
  {
   "cell_type": "code",
   "execution_count": 2,
   "id": "30a83982-89bc-48e0-ad00-51b8d4dad3bc",
   "metadata": {
    "execution": {
     "iopub.execute_input": "2021-12-10T03:44:11.954949Z",
     "iopub.status.busy": "2021-12-10T03:44:11.954591Z",
     "iopub.status.idle": "2021-12-10T03:44:12.095402Z",
     "shell.execute_reply": "2021-12-10T03:44:12.094920Z"
    }
   },
   "outputs": [],
   "source": [
    "! gcc echo/echo.c -o echo/echo"
   ]
  },
  {
   "cell_type": "code",
   "execution_count": 3,
   "id": "bf9c618c-d3e9-475a-9a67-92b220024f5a",
   "metadata": {
    "execution": {
     "iopub.execute_input": "2021-12-10T03:44:12.097272Z",
     "iopub.status.busy": "2021-12-10T03:44:12.096822Z",
     "iopub.status.idle": "2021-12-10T03:44:12.099242Z",
     "shell.execute_reply": "2021-12-10T03:44:12.098848Z"
    }
   },
   "outputs": [
    {
     "name": "stdout",
     "output_type": "stream",
     "text": [
      "hello world "
     ]
    }
   ],
   "source": [
    "! ./echo/echo hello world"
   ]
  },
  {
   "cell_type": "markdown",
   "id": "514ff862-9674-4f8f-856c-fc72820937bb",
   "metadata": {},
   "source": [
    "## `cat`"
   ]
  },
  {
   "cell_type": "markdown",
   "id": "16c41e42-9557-4830-8619-c327bb659927",
   "metadata": {
    "tags": [
     "exo"
    ]
   },
   "source": [
    "**Exercice** : Réécrire la commande `cat`, qui prend en argument un chemin de fichier et affiche son contenu.  \n",
    "On pourra lire 50 caractères par 50 caractères dans le fichier (`fscanf(f, \"%50s\", s)`)."
   ]
  },
  {
   "cell_type": "code",
   "execution_count": 4,
   "id": "e1cd8e7a-7775-41f8-bfc5-a0426a3b71a0",
   "metadata": {
    "execution": {
     "iopub.execute_input": "2021-12-10T03:44:12.101145Z",
     "iopub.status.busy": "2021-12-10T03:44:12.100664Z",
     "iopub.status.idle": "2021-12-10T03:44:12.102718Z",
     "shell.execute_reply": "2021-12-10T03:44:12.102302Z"
    }
   },
   "outputs": [
    {
     "name": "stdout",
     "output_type": "stream",
     "text": [
      "sh: 1: ./cat/cat: not found\n"
     ]
    }
   ],
   "source": [
    "! ./cat/cat cat/cat.c"
   ]
  },
  {
   "cell_type": "markdown",
   "id": "339db4dd-a03c-428a-931a-438519806a04",
   "metadata": {},
   "source": [
    "## `grep`"
   ]
  },
  {
   "cell_type": "markdown",
   "id": "1b3a82d2-c530-4c20-a582-062fc3e336cd",
   "metadata": {
    "tags": [
     "exo"
    ]
   },
   "source": [
    "**Exercice** : Réécrire une variante de `grep`, avec 2 paramètres (un mot dans un chemin de fichier) et qui affiche les positions où le mot apparaît dans le fichier.  "
   ]
  },
  {
   "cell_type": "code",
   "execution_count": 5,
   "id": "bb2f2d58-b3cc-456c-ba01-dccd77c353d9",
   "metadata": {
    "execution": {
     "iopub.execute_input": "2021-12-10T03:44:12.104545Z",
     "iopub.status.busy": "2021-12-10T03:44:12.104097Z",
     "iopub.status.idle": "2021-12-10T03:44:12.107495Z",
     "shell.execute_reply": "2021-12-10T03:44:12.107109Z"
    }
   },
   "outputs": [
    {
     "name": "stdout",
     "output_type": "stream",
     "text": [
      "gcc: error: grep/grep.c: No such file or directory\n",
      "gcc: fatal error: no input files\n",
      "compilation terminated.\n"
     ]
    }
   ],
   "source": [
    "!gcc grep/grep.c -o grep/grep"
   ]
  },
  {
   "cell_type": "code",
   "execution_count": 6,
   "id": "dd4f93e3-c152-475c-abbb-baf54beaae22",
   "metadata": {
    "execution": {
     "iopub.execute_input": "2021-12-10T03:44:12.109081Z",
     "iopub.status.busy": "2021-12-10T03:44:12.108720Z",
     "iopub.status.idle": "2021-12-10T03:44:12.110427Z",
     "shell.execute_reply": "2021-12-10T03:44:12.110094Z"
    }
   },
   "outputs": [
    {
     "name": "stdout",
     "output_type": "stream",
     "text": [
      "sh: 1: ./grep/grep: not found\n"
     ]
    }
   ],
   "source": [
    "! ./grep/grep grep/grep.c "
   ]
  },
  {
   "cell_type": "markdown",
   "id": "458c5527-eb9e-4eef-aa72-0729ac7b7a25",
   "metadata": {},
   "source": [
    "## `ls`"
   ]
  },
  {
   "cell_type": "markdown",
   "id": "baabae04-2f66-4231-bdaa-e9031b080cba",
   "metadata": {},
   "source": [
    "**Exercice** : Réécrire `ls` pour lister les fichiers dans le répertoire courant. On pourra utiliser [getcwd](http://manpagesfr.free.fr/man/man3/getcwd.3.html) et [directory_iterator](https://en.cppreference.com/w/cpp/filesystem/directory_iterator) (qui est du C++ : il faut donc compiler avec g++ au lieu de gcc)."
   ]
  }
 ],
 "metadata": {
  "kernelspec": {
   "display_name": "C++14",
   "language": "C++14",
   "name": "xcpp14"
  },
  "language_info": {
   "codemirror_mode": "text/x-c++src",
   "file_extension": ".cpp",
   "mimetype": "text/x-c++src",
   "name": "c++",
   "version": "14"
  }
 },
 "nbformat": 4,
 "nbformat_minor": 5
}

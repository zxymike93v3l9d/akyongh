{
 "cells": [
  {
   "cell_type": "markdown",
   "id": "1264d755-0e15-401a-b576-013b91fd87f6",
   "metadata": {
    "tags": []
   },
   "source": [
    "# TP 7 : Fichiers\n",
    "\n",
    "## Fonctions\n",
    "\n",
    "Un fichier en C se manipule à travers un objet de type `FILE`, qui est une structure contenant les informations sur le fichier.  \n",
    "Dans ce TP, nous allons utiliser les 3 fonctions suivantes pour manipuler des fichiers en C. La documentation suivante est une version simplifiée de https://en.cppreference.com/w/. N'hésitez pas à regarder les exemples.  "
   ]
  },
  {
   "cell_type": "markdown",
   "id": "ffb3d061-fac6-4602-8914-6607af3d684d",
   "metadata": {
    "tags": []
   },
   "source": [
    "> **[fopen](https://www.cplusplus.com/reference/cstdio/fopen/)**  \n",
    "> `FILE * fopen ( const char * filename, const char * mode );`  \n",
    ">  Opens the file whose name is specified in the parameter filename and associates it with a stream that can be identified in future operations by the FILE pointer returned.  \n",
    "> - `filename`: C string containing the name of the file to be opened.  \n",
    "> - `mode`: C string containing a file access mode. It can be:  \n",
    "> - `\"r\"` (read): Open file for input operations. The file must exist.\n",
    ">   - `\"w\"` (write): Create an empty file for output operations. If a file with the same name already exists, its contents are discarded and the file is treated as a new empty file. \n",
    ">   - `\"a\"` (append): Open file for output at the end of a file. Output operations always write data at the end of the file, expanding it. The file is created if it does not exist."
   ]
  },
  {
   "cell_type": "markdown",
   "id": "f282d132-a738-43d1-825f-af893ff1bd0b",
   "metadata": {
    "tags": []
   },
   "source": [
    "> **[fclose](https://www.cplusplus.com/reference/cstdio/fclose/?kw=fclose)**  \n",
    "> `int fclose ( FILE * stream );`  \n",
    ">  Closes the file associated with the stream and disassociates it.  \n",
    "> - `stream`: Pointer to a FILE object that specifies the stream to be closed. "
   ]
  },
  {
   "cell_type": "markdown",
   "id": "e9bbf7a8-2478-4cd9-840b-2a77b3db2cad",
   "metadata": {
    "tags": []
   },
   "source": [
    "> **[fscanf](https://www.cplusplus.com/reference/cstdio/fscanf/)**  \n",
    "> `int fscanf ( FILE * stream, const char * format, ... );`  \n",
    ">  Reads data from the stream and stores them according to the parameter format into the locations pointed by the additional arguments. Return EOF ($-1$) if end of file is reached.  \n",
    "> `stream`: Pointer to a FILE object that identifies the input stream to read data from.  \n",
    "> `format`: C string that contains a sequence of characters that control how characters extracted from the stream are treated. A format specifier for fscanf can follow this prototype: `%[width]specifier`, where specifier can be `%d` for integers or `%s` for strings and `width` is the maximum number of characters to be read.  \n",
    "> `... (additional arguments)`: Depending on the format string, the function may expect a sequence of additional arguments, each containing a pointer to allocated storage where the interpretation of the extracted characters is stored with the appropriate type."
   ]
  },
  {
   "cell_type": "markdown",
   "id": "49167932-b2c5-441f-859c-275c6b4d1261",
   "metadata": {
    "tags": []
   },
   "source": [
    "> **[fprintf](https://www.cplusplus.com/reference/cstdio/fprintf/?kw=fprintf)**  \n",
    "> `int fprintf ( FILE * stream, const char * format, ... );`  \n",
    "> Writes the C string pointed by format to the stream. If format includes format specifiers (subsequences beginning with %), the additional arguments following format are formatted and inserted in the resulting string replacing their respective specifiers.\n",
    "\n",
    "`...` signifie que la fonction peut accepter un nombre quelconque d'arguments."
   ]
  },
  {
   "cell_type": "markdown",
   "id": "de9f73e7-37f1-4824-a41b-70e3ade5d7f3",
   "metadata": {},
   "source": [
    "## Codage de César"
   ]
  },
  {
   "cell_type": "markdown",
   "id": "0971b92c-db32-4529-9be8-0b88bfc9f502",
   "metadata": {
    "tags": [
     "exo"
    ]
   },
   "source": [
    "**Exercice** : Écrire une fonction `void encrypt(char* s, int k)` décalant les caractères de `s` de `k`, dans le code ASCII. Exemple :  \n",
    "```c\n",
    "char s[] = \"mp2i\";\n",
    "encrypt(s, 3);\n",
    "printf(\"%s\", s); // doit afficher ps5l\n",
    "```"
   ]
  },
  {
   "cell_type": "markdown",
   "id": "39f6b82a-056a-4f12-bb9c-140ec6f80ab5",
   "metadata": {
    "tags": [
     "exo"
    ]
   },
   "source": [
    "**Exercice** : Écrire une fonction `void encrypt_file(const char* filename, int k)` chiffrant le contenu du fichier dont le chemin est `filename`, en utilisant le codage de César. Il faut donc :  \n",
    "- Lire le contenu du fichier dans une chaîne de caractères  \n",
    "- Appliquer `encrypt` sur la chaîne de caractères  \n",
    "- Écrire la chaîne de caractères chiffrée dans le fichier  \n",
    "\n",
    "On pourra compléter le code suivant (qui suppose qu'il y a au plus 50 caractères dans le fichier) :  \n",
    "```c\n",
    "void encrypt_file(const char* filename, int k) {\n",
    "    FILE *f = fopen(filename, \"r\");\n",
    "    if(!f) { // si f = 0, il y a eu une erreur\n",
    "        printf(\"Le fichier n'a pas pu être ouvert\");\n",
    "        return;\n",
    "    }\n",
    "\n",
    "    char s[50];\n",
    "    fscanf(f, \"%50s\", s); // lit au plus 50 charactères, stockés dans s\n",
    "    fclose(f);\n",
    "    // à compléter\n",
    "}\n",
    "```\n",
    "**Remarque** : Si vous testez sur Jupyter, il faut fermer et ouvrir à nouveau le fichier pour voir son nouveau contenu."
   ]
  },
  {
   "cell_type": "markdown",
   "id": "8e85a664-67d5-40d9-8345-e11c9ffd5dd0",
   "metadata": {
    "tags": [
     "exo"
    ]
   },
   "source": [
    "**Exercice (optionnel)** : Modifier la fonction précédente pour gérer des fichiers de taille arbitraire (avec un nombre quelconque de caractères)."
   ]
  },
  {
   "cell_type": "markdown",
   "id": "966642e0-17ab-460a-99e3-4dad106cab5c",
   "metadata": {
    "tags": [
     "exo"
    ]
   },
   "source": [
    "**Exercice** : Écrire une fonction `void decrypt_file(const char* filename, int k)` pour déchiffrer un fichier chiffré avec le codage de César."
   ]
  },
  {
   "cell_type": "markdown",
   "id": "62ea77d1-c5fc-4eb7-8439-0675c6e88bd7",
   "metadata": {},
   "source": [
    "## Décimales de $\\pi$\n",
    "\n",
    "Le [fichier `pi.txt`](https://github.com/mp2i-fsm/mp2i-2021/blob/main/4_c/tp/7_file/pi10M.txt), qui est dans le même dossier que ce notebook, contient 9 999 998 décimales de $\\pi$ :"
   ]
  },
  {
   "cell_type": "code",
   "execution_count": 1,
   "id": "5c28d53b-7e57-45ad-98fc-27e7f9116668",
   "metadata": {
    "execution": {
     "iopub.execute_input": "2021-12-05T20:31:36.362234Z",
     "iopub.status.busy": "2021-12-05T20:31:36.361565Z",
     "iopub.status.idle": "2021-12-05T20:31:36.365854Z",
     "shell.execute_reply": "2021-12-05T20:31:36.365068Z"
    }
   },
   "outputs": [
    {
     "name": "stdout",
     "output_type": "stream",
     "text": [
      "14159265358979323846264338327950288419716939937510"
     ]
    }
   ],
   "source": [
    "! head -c50 pi10M.txt"
   ]
  },
  {
   "cell_type": "markdown",
   "id": "1d4bc331-fda8-4c05-bc4f-da1103c56f28",
   "metadata": {
    "tags": [
     "exo"
    ]
   },
   "source": [
    "**Exercice** : Écrire une fonction `int nth(int)` telle que `nth(n)` renvoie le `n`ième chiffre de $\\pi$ après la virgule. On pour utiliser `fscanf(f, \"%1d\", &d);` qui permet de lire un chiffre dans `f`.  \n",
    "Vérifier que le 939ème est un 7."
   ]
  },
  {
   "cell_type": "markdown",
   "id": "a79c7fe1-94be-4f65-9a28-c3b165920e09",
   "metadata": {
    "tags": [
     "exo"
    ]
   },
   "source": [
    "**Exercice** : Calculer, dans un tableau de taille 10, le nombre d'apparitions de chaque chiffre de $\\pi$. Vérifier que les chiffres ont l'air uniformément répartis entre 0 et 9."
   ]
  },
  {
   "cell_type": "markdown",
   "id": "bbac9cdf-7ebb-4a3e-961a-420b33be419e",
   "metadata": {
    "tags": [
     "exo"
    ]
   },
   "source": [
    "**Exercice** : Il est conjecturé que $\\pi$ est un **nombre univers**, c'est-à-dire qu'on peut trouver à l'intérieur de ses décimales toute suite finie de chiffres. Par exemple, on peut trouver le nombre $9265$ dans $\\pi$ puisque $\\pi = 3.1415\\mathbf{9265}...$.  \n",
    "Écrire une fonction `int pos(int)` renvoyant la position de la première position d'un nombre dans les décimales de $\\pi$. Si on arrive à la fin du fichier des décimales, on renverra $-1$.  \n",
    "Application : Chercher la position d'apparition de votre date d'anniversaire (sous la forme jjmmaa, par exemple $251200$ pour le $25/12/2000$) dans les décimales de $\\pi$."
   ]
  }
 ],
 "metadata": {
  "kernelspec": {
   "display_name": "C++14",
   "language": "C++14",
   "name": "xcpp14"
  },
  "language_info": {
   "codemirror_mode": "text/x-c++src",
   "file_extension": ".cpp",
   "mimetype": "text/x-c++src",
   "name": "c++",
   "version": "14"
  }
 },
 "nbformat": 4,
 "nbformat_minor": 5
}

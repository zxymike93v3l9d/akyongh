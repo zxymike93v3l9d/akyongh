{
 "cells": [
  {
   "cell_type": "markdown",
   "id": "e20ef5af-5493-4800-aa4c-856e7e884db0",
   "metadata": {
    "tags": []
   },
   "source": [
    "# <center><a href='https://mybinder.org/v2/gh/fortierq/binder-mp2i/main?urlpath=git-pull%3Frepo%3Dhttps%253A%252F%252Fgithub.com%252Fmp2i-fsm%252Fmp2i-2021%26urlpath%3Dlab%252Ftree%252Fmp2i-2021%252F4_c%252Ftp%252F2_liste_chainee.ipynb%26branch%3Dmain'>TP 2 : Listes chaînées        <img src=https://mybinder.org/badge.svg></a></center>\n",
    "\n",
    "En attendant que Binder remarche, vous pouvez utiliser un compilateur C online. Par exemple : https://replit.com/languages/c  \n",
    "\n",
    "Pensez à revoir le cours sur les pointeurs et les structures si besoin.\n",
    "\n",
    "On implémente dans ce TP des listes chaînées en C. En voici la définition :"
   ]
  },
  {
   "cell_type": "code",
   "execution_count": 1,
   "id": "a4011c39-0f8d-457e-8702-8e2633656007",
   "metadata": {
    "execution": {
     "iopub.execute_input": "2021-11-29T09:21:09.370597Z",
     "iopub.status.busy": "2021-11-29T09:21:09.368664Z",
     "iopub.status.idle": "2021-11-29T09:21:09.371142Z",
     "shell.execute_reply": "2021-11-29T09:21:09.369321Z"
    }
   },
   "outputs": [],
   "source": [
    "typedef struct list {\n",
    "    list* next;\n",
    "    int elem;\n",
    "} list;"
   ]
  },
  {
   "cell_type": "markdown",
   "id": "da6d79ef-5902-4bf9-ba0e-39584b2db08b",
   "metadata": {},
   "source": [
    "<center><img src=https://github.com/fortierq/tikz/blob/master/data_structure/list/def/list_c_def.png?raw=true width=450></center>"
   ]
  },
  {
   "cell_type": "markdown",
   "id": "db272ac5",
   "metadata": {},
   "source": [
    "## Ajout et création"
   ]
  },
  {
   "cell_type": "markdown",
   "id": "8fd97d0a",
   "metadata": {
    "tags": [
     "exo"
    ]
   },
   "source": [
    "**Exercice**  \n",
    "Écrire une fonction permettant d'ajouter un élément dans une liste chaînée avec le prototype suivant :\n",
    "```c\n",
    "list* add(list* l, int e)\n",
    "```\n",
    "Cette fonction prend un pointeur `l` sur le début (premier noeud) d'une liste et renvoie un pointer `l_new` sur le noeud ajouté avant `l`, comme sur le dessin suivant :\n",
    "<center><img src=https://github.com/fortierq/tikz/blob/master/data_structure/list/add/list_c_add.png?raw=true width=500></center>"
   ]
  },
  {
   "cell_type": "code",
   "execution_count": 2,
   "id": "316c93c6-b736-4f1a-a45e-83814bf4e360",
   "metadata": {
    "execution": {
     "iopub.execute_input": "2021-11-29T09:21:09.373177Z",
     "iopub.status.busy": "2021-11-29T09:21:09.372614Z",
     "iopub.status.idle": "2021-11-29T09:21:09.373774Z",
     "shell.execute_reply": "2021-11-29T09:21:09.374234Z"
    },
    "tags": [
     "cor"
    ]
   },
   "outputs": [],
   "source": [
    "list* add(list* l, int e) {\n",
    "    list* l_new = (list*)malloc(sizeof(list));\n",
    "    l_new->next = l;\n",
    "    l_new->elem = e;\n",
    "    return l_new;\n",
    "}"
   ]
  },
  {
   "cell_type": "markdown",
   "id": "77e26ef9-b434-4ead-888b-768ef1a63fc4",
   "metadata": {
    "tags": [
     "exo"
    ]
   },
   "source": [
    "**Exercice** : Écrire une fonction `range` qui renvoie une liste contenant les entiers de `0` à `n - 1` :  \n",
    "```c\n",
    "list* range(int n);\n",
    "```"
   ]
  },
  {
   "cell_type": "code",
   "execution_count": 3,
   "id": "7d8a8b07-6dcc-4ce0-b0d4-5a470b858e42",
   "metadata": {
    "execution": {
     "iopub.execute_input": "2021-11-29T09:21:09.376169Z",
     "iopub.status.busy": "2021-11-29T09:21:09.375614Z",
     "iopub.status.idle": "2021-11-29T09:21:09.377208Z",
     "shell.execute_reply": "2021-11-29T09:21:09.377911Z"
    },
    "tags": [
     "cor"
    ]
   },
   "outputs": [],
   "source": [
    "list* range(int n) {\n",
    "    list* res = NULL;\n",
    "    // on fait un for à l'envers pour que les éléments soient dans le bon sens\n",
    "    for(int i = n - 1; i > -1; i--)\n",
    "        res = add(res, i);\n",
    "    return res;\n",
    "}"
   ]
  },
  {
   "cell_type": "markdown",
   "id": "9f543304-5dc2-46b1-b9ce-e7090714f67b",
   "metadata": {
    "tags": []
   },
   "source": [
    "## Parcours de liste"
   ]
  },
  {
   "cell_type": "markdown",
   "id": "61336d6c-7c63-4e11-92aa-8f18790a6075",
   "metadata": {
    "tags": [
     "exo"
    ]
   },
   "source": [
    "Écrire une fonction `print_list` affichant les éléments d'une liste chainée :\n",
    "```c\n",
    "void print_list(list* l);\n",
    "```"
   ]
  },
  {
   "cell_type": "code",
   "execution_count": 4,
   "id": "f128b760-413a-4f5a-b233-a9e41bd9395b",
   "metadata": {
    "execution": {
     "iopub.execute_input": "2021-11-29T09:21:09.381597Z",
     "iopub.status.busy": "2021-11-29T09:21:09.379956Z",
     "iopub.status.idle": "2021-11-29T09:21:09.386838Z",
     "shell.execute_reply": "2021-11-29T09:21:09.386348Z"
    },
    "tags": [
     "cor"
    ]
   },
   "outputs": [
    {
     "name": "stdout",
     "output_type": "stream",
     "text": [
      "0 1 2 3 4 5 "
     ]
    }
   ],
   "source": [
    "void print_list(list* l) {\n",
    "    while(l != NULL) {\n",
    "        printf(\"%d \", l->elem);\n",
    "        l = l->next;\n",
    "    }\n",
    "}\n",
    "\n",
    "list* l = range(6);\n",
    "print_list(l);"
   ]
  },
  {
   "cell_type": "markdown",
   "id": "fa66c703-627c-4a7e-80ea-712437c1d7af",
   "metadata": {
    "tags": [
     "exo"
    ]
   },
   "source": [
    "**Exercice** : Écrire une fonction `has` pour savoir si un élément appartient à une liste chaînée :  \n",
    "```c\n",
    "bool has(list* l, int e);\n",
    "```"
   ]
  },
  {
   "cell_type": "code",
   "execution_count": 5,
   "id": "c824f926-cea9-4671-9a2e-461e175cecb8",
   "metadata": {
    "execution": {
     "iopub.execute_input": "2021-11-29T09:21:09.388653Z",
     "iopub.status.busy": "2021-11-29T09:21:09.388088Z",
     "iopub.status.idle": "2021-11-29T09:21:10.021243Z",
     "shell.execute_reply": "2021-11-29T09:21:10.020705Z"
    },
    "tags": [
     "cor"
    ]
   },
   "outputs": [
    {
     "data": {
      "text/plain": [
       "true"
      ]
     },
     "execution_count": 5,
     "metadata": {},
     "output_type": "execute_result"
    }
   ],
   "source": [
    "bool has(list* l, int e) { // version récursive\n",
    "    if(l == NULL)\n",
    "        return false;\n",
    "    return l->elem == e || has(l->next, e);\n",
    "}\n",
    "\n",
    "has(l, 3) && not has(l, 7) // test"
   ]
  },
  {
   "cell_type": "markdown",
   "id": "384ce489-fb76-4660-b339-2313c66cff30",
   "metadata": {
    "tags": [
     "exo"
    ]
   },
   "source": [
    "**Exercice** : Écrire une fonction `size` pour connaître la taille d'une liste chainée :\n",
    "```c\n",
    "unsigned size(list* l);\n",
    "```"
   ]
  },
  {
   "cell_type": "code",
   "execution_count": 6,
   "id": "6138734f-ee73-4145-ab88-7fa925d9fba6",
   "metadata": {
    "execution": {
     "iopub.execute_input": "2021-11-29T09:21:10.023452Z",
     "iopub.status.busy": "2021-11-29T09:21:10.022844Z",
     "iopub.status.idle": "2021-11-29T09:21:10.478135Z",
     "shell.execute_reply": "2021-11-29T09:21:10.477594Z"
    },
    "tags": [
     "cor"
    ]
   },
   "outputs": [
    {
     "data": {
      "text/plain": [
       "6"
      ]
     },
     "execution_count": 6,
     "metadata": {},
     "output_type": "execute_result"
    }
   ],
   "source": [
    "unsigned size(list* l) {\n",
    "    if(l == NULL)\n",
    "        return 0;\n",
    "    return 1 + size(l->next);\n",
    "}\n",
    "\n",
    "size(l)"
   ]
  },
  {
   "cell_type": "markdown",
   "id": "201fb270-8b0b-40e7-b854-fbd29b1ab94a",
   "metadata": {},
   "source": [
    "## Libérer la mémoire"
   ]
  },
  {
   "cell_type": "markdown",
   "id": "421e9d52-391e-4b74-8239-7422b49c4ad4",
   "metadata": {
    "tags": [
     "exo"
    ]
   },
   "source": [
    "**Exercice** : Écrire une fonction `free_list` permettant de supprimer du tas (avec `free`) tous les noeuds d'une `list`."
   ]
  },
  {
   "cell_type": "code",
   "execution_count": 7,
   "id": "99b64003-1002-43fa-8a7e-cece0c1572f9",
   "metadata": {
    "execution": {
     "iopub.execute_input": "2021-11-29T09:21:10.480776Z",
     "iopub.status.busy": "2021-11-29T09:21:10.480083Z",
     "iopub.status.idle": "2021-11-29T09:21:10.483950Z",
     "shell.execute_reply": "2021-11-29T09:21:10.483462Z"
    },
    "tags": [
     "cor"
    ]
   },
   "outputs": [],
   "source": [
    "void free_list(list* l) {\n",
    "    if(l != NULL) {\n",
    "    list* next = l->next; // on aura plus accès à l->next après free(l)\n",
    "    free(l);\n",
    "    free_list(next);\n",
    "    }\n",
    "}\n",
    "list* l = range(5);\n",
    "free_list(l);"
   ]
  },
  {
   "cell_type": "markdown",
   "id": "fe5c4b07-08b0-467b-8b19-f05f2cbaf3f2",
   "metadata": {},
   "source": [
    "## Inverse"
   ]
  },
  {
   "cell_type": "markdown",
   "id": "5667e589-d0a3-4c8b-8428-054c42d7a0f3",
   "metadata": {
    "tags": [
     "exo"
    ]
   },
   "source": [
    "**Exercice** : Écrire une fonction `reverse` pour inverser l'ordre des éléments d'une liste. On renverra un pointeur sur le premier élément de la liste inversé (qui est aussi le dernier élément de la liste en argument).  \n",
    "```c\n",
    "list* reverse(list* l);\n",
    "```"
   ]
  },
  {
   "cell_type": "code",
   "execution_count": 8,
   "id": "b21db9e4-0772-4463-9f26-af47a6e2d621",
   "metadata": {
    "execution": {
     "iopub.execute_input": "2021-11-29T09:21:10.486030Z",
     "iopub.status.busy": "2021-11-29T09:21:10.485468Z",
     "iopub.status.idle": "2021-11-29T09:21:10.489962Z",
     "shell.execute_reply": "2021-11-29T09:21:10.489447Z"
    },
    "tags": [
     "cor"
    ]
   },
   "outputs": [
    {
     "name": "stdout",
     "output_type": "stream",
     "text": [
      "4 3 2 1 0 "
     ]
    }
   ],
   "source": [
    "// version itérative, en créant une nouvelle liste\n",
    "// cela revient à copier une pile dans une autre pile, ce qui l'inverse\n",
    "list* reverse(list* l) {\n",
    "    list* res = NULL;\n",
    "    while(l != NULL) {\n",
    "        res = add(res, l->elem);\n",
    "        l = l->next;\n",
    "    }\n",
    "    return res;\n",
    "}\n",
    "list* l = range(5);\n",
    "print_list(reverse(l))"
   ]
  },
  {
   "cell_type": "code",
   "execution_count": 9,
   "id": "0ea0146c-a37a-4eef-ac2d-dd9c393ab5b9",
   "metadata": {
    "execution": {
     "iopub.execute_input": "2021-11-29T09:21:10.491934Z",
     "iopub.status.busy": "2021-11-29T09:21:10.491364Z",
     "iopub.status.idle": "2021-11-29T09:21:10.495227Z",
     "shell.execute_reply": "2021-11-29T09:21:10.494744Z"
    },
    "tags": [
     "cor"
    ]
   },
   "outputs": [
    {
     "name": "stdout",
     "output_type": "stream",
     "text": [
      "4 3 2 1 0 "
     ]
    }
   ],
   "source": [
    "// version itérative, en modifiant la liste en argument\n",
    "// on parcourt tous les noeuds de la liste avec l\n",
    "// prev est le noeud avant l (qui devient donc le next de l)\n",
    "list* reverse(list* l) {\n",
    "    list* prev = NULL;\n",
    "    while(l != NULL) {\n",
    "        list* tmp = l->next;\n",
    "        l->next = prev;\n",
    "        prev = l;\n",
    "        l = tmp;\n",
    "    }\n",
    "    return prev;\n",
    "}\n",
    "print_list(reverse(range(5)))"
   ]
  },
  {
   "cell_type": "code",
   "execution_count": 10,
   "id": "879b414b-316a-4c99-a750-cde8abb6a082",
   "metadata": {
    "execution": {
     "iopub.execute_input": "2021-11-29T09:21:10.497189Z",
     "iopub.status.busy": "2021-11-29T09:21:10.496636Z",
     "iopub.status.idle": "2021-11-29T09:21:10.500914Z",
     "shell.execute_reply": "2021-11-29T09:21:10.500286Z"
    },
    "tags": [
     "cor"
    ]
   },
   "outputs": [
    {
     "name": "stdout",
     "output_type": "stream",
     "text": [
      "4 3 2 1 0 "
     ]
    }
   ],
   "source": [
    "// version récursive, en modifiant la liste en argument (assez difficile)\n",
    "list* reverse2(list* l) {\n",
    "    if(l == NULL || l->next == NULL)\n",
    "        return l;\n",
    "    list* snd = l->next;\n",
    "    list* last = reverse2(l->next);\n",
    "    l->next = NULL;\n",
    "    snd->next = l;\n",
    "    return last;\n",
    "}\n",
    "\n",
    "print_list(reverse2(range(5)))"
   ]
  }
 ],
 "metadata": {
  "kernelspec": {
   "display_name": "C++14",
   "language": "C++14",
   "name": "xcpp14"
  },
  "language_info": {
   "codemirror_mode": "text/x-c++src",
   "file_extension": ".cpp",
   "mimetype": "text/x-c++src",
   "name": "c++",
   "version": "14"
  }
 },
 "nbformat": 4,
 "nbformat_minor": 5
}

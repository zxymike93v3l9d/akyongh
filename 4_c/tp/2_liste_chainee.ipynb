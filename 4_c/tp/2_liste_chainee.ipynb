{
 "cells": [
  {
   "cell_type": "markdown",
   "id": "e20ef5af-5493-4800-aa4c-856e7e884db0",
   "metadata": {
    "tags": []
   },
   "source": [
    "# TP 2 : Listes chaînées\n",
    "\n",
    "On implémente dans ce TP des listes chaînées en C. En voici la définition :"
   ]
  },
  {
   "cell_type": "code",
   "execution_count": 1,
   "id": "a4011c39-0f8d-457e-8702-8e2633656007",
   "metadata": {
    "execution": {
     "iopub.execute_input": "2021-11-21T15:52:18.954077Z",
     "iopub.status.busy": "2021-11-21T15:52:18.953053Z",
     "iopub.status.idle": "2021-11-21T15:52:18.954535Z",
     "shell.execute_reply": "2021-11-21T15:52:18.953555Z"
    }
   },
   "outputs": [],
   "source": [
    "struct list {\n",
    "    list* next;\n",
    "    int elem;\n",
    "};\n",
    "\n",
    "typedef struct list list;"
   ]
  },
  {
   "cell_type": "markdown",
   "id": "da6d79ef-5902-4bf9-ba0e-39584b2db08b",
   "metadata": {},
   "source": [
    "<center><img src=https://github.com/fortierq/tikz/blob/master/data_structure/list/def/list_c_def.png?raw=true width=450></center>"
   ]
  },
  {
   "cell_type": "markdown",
   "id": "db272ac5",
   "metadata": {},
   "source": [
    "## Ajout et création"
   ]
  },
  {
   "cell_type": "markdown",
   "id": "8fd97d0a",
   "metadata": {
    "tags": [
     "exo"
    ]
   },
   "source": [
    "**Exercice**  \n",
    "Écrire une fonction permettant d'ajouter un élément dans une liste chaînée :\n",
    "```c\n",
    "list* add(list* l, int e)\n",
    "```\n",
    "Cette fonction prend un pointeur `l` sur le début (premier noeud) d'une liste et renvoie un pointer `l_new` sur le noeud ajouté avant `l`, comme sur le dessin suivant :\n",
    "<center><img src=https://github.com/fortierq/tikz/blob/master/data_structure/list/add/list_c_add.png?raw=true width=550></center>"
   ]
  },
  {
   "cell_type": "markdown",
   "id": "77e26ef9-b434-4ead-888b-768ef1a63fc4",
   "metadata": {
    "tags": [
     "exo"
    ]
   },
   "source": [
    "**Exercice** : Écrire une fonction `range` qui renvoie une liste contenant les entiers de `0` à `n - 1` :  \n",
    "```c\n",
    "list* range(int n);\n",
    "```"
   ]
  },
  {
   "cell_type": "markdown",
   "id": "9f543304-5dc2-46b1-b9ce-e7090714f67b",
   "metadata": {
    "tags": []
   },
   "source": [
    "## Parcours de liste"
   ]
  },
  {
   "cell_type": "markdown",
   "id": "61336d6c-7c63-4e11-92aa-8f18790a6075",
   "metadata": {
    "tags": [
     "exo"
    ]
   },
   "source": [
    "Écrire une fonction `print_list` affichant les éléments d'une liste chainée :\n",
    "```c\n",
    "void print_list(list* l);\n",
    "```"
   ]
  },
  {
   "cell_type": "markdown",
   "id": "fa66c703-627c-4a7e-80ea-712437c1d7af",
   "metadata": {
    "tags": [
     "exo"
    ]
   },
   "source": [
    "**Exercice** : Écrire une fonction `has` pour savoir si un élément appartient à une liste chaînée :  \n",
    "```c\n",
    "bool has(list* l, int e);\n",
    "```"
   ]
  },
  {
   "cell_type": "markdown",
   "id": "384ce489-fb76-4660-b339-2313c66cff30",
   "metadata": {
    "tags": [
     "exo"
    ]
   },
   "source": [
    "**Exercice** : Écrire une fonction `size` pour connaître la taille d'une liste chainée :\n",
    "```c\n",
    "uint size(list* l);\n",
    "```"
   ]
  },
  {
   "cell_type": "code",
   "execution_count": null,
   "id": "dad4f35b-b97b-4474-bc3d-a4e410749798",
   "metadata": {},
   "outputs": [],
   "source": []
  },
  {
   "cell_type": "code",
   "execution_count": 2,
   "id": "6138734f-ee73-4145-ab88-7fa925d9fba6",
   "metadata": {
    "execution": {
     "iopub.execute_input": "2021-11-21T15:52:18.956507Z",
     "iopub.status.busy": "2021-11-21T15:52:18.956065Z",
     "iopub.status.idle": "2021-11-21T15:52:18.957660Z",
     "shell.execute_reply": "2021-11-21T15:52:18.957219Z"
    }
   },
   "outputs": [],
   "source": [
    "uint size(list* l) {\n",
    "    if(l == NULL)\n",
    "        return 0;\n",
    "    return 1 + size(l->next);\n",
    "}"
   ]
  },
  {
   "cell_type": "markdown",
   "id": "fe5c4b07-08b0-467b-8b19-f05f2cbaf3f2",
   "metadata": {},
   "source": [
    "## Inverse"
   ]
  },
  {
   "cell_type": "markdown",
   "id": "5667e589-d0a3-4c8b-8428-054c42d7a0f3",
   "metadata": {
    "tags": [
     "exo"
    ]
   },
   "source": [
    "**Exercice** : Écrire une fonction `reverse` pour inverser l'ordre des éléments d'une liste. On renverra un pointeur sur le premier élément de la liste inversé (qui est aussi le dernier élément de la liste en argument).  \n",
    "```c\n",
    "list* reverse(list* l);\n",
    "```"
   ]
  },
  {
   "cell_type": "code",
   "execution_count": 3,
   "id": "d1db5f7c-857f-4bd8-aecf-dfcdbdb9d81a",
   "metadata": {
    "execution": {
     "iopub.execute_input": "2021-11-21T15:52:18.959390Z",
     "iopub.status.busy": "2021-11-21T15:52:18.958938Z",
     "iopub.status.idle": "2021-11-21T15:52:18.960374Z",
     "shell.execute_reply": "2021-11-21T15:52:18.959930Z"
    }
   },
   "outputs": [],
   "source": [
    "list* aux(list* l) {\n",
    "    if(l->next == NULL)\n",
    "        return l;\n",
    "    list* last = aux(l->next);\n",
    "    l->next->next = l;\n",
    "    return last;\n",
    "}"
   ]
  }
 ],
 "metadata": {
  "kernelspec": {
   "display_name": "C++14",
   "language": "C++14",
   "name": "xcpp14"
  },
  "language_info": {
   "codemirror_mode": "text/x-c++src",
   "file_extension": ".cpp",
   "mimetype": "text/x-c++src",
   "name": "c++",
   "version": "14"
  }
 },
 "nbformat": 4,
 "nbformat_minor": 5
}

{
 "cells": [
  {
   "cell_type": "markdown",
   "id": "549b4744-7395-43e1-9486-e4031db5d918",
   "metadata": {},
   "source": [
    "# TP 1 : Implémentation d'une structure d'ensemble à l'aide d'une représentation binaire (*bit field*)\n",
    "\n",
    "On rappelle qu'un `uint` est un entier non-signé (positif). Ils sont stockés sur $4$ octets, soit $4\\times 8 = 32$ bits :"
   ]
  },
  {
   "cell_type": "code",
   "execution_count": 1,
   "id": "03452d8d-1312-43e8-8bcf-b6826544638a",
   "metadata": {
    "execution": {
     "iopub.execute_input": "2021-11-18T12:48:46.894585Z",
     "iopub.status.busy": "2021-11-18T12:48:46.893883Z",
     "iopub.status.idle": "2021-11-18T12:48:47.500638Z",
     "shell.execute_reply": "2021-11-18T12:48:47.499125Z"
    }
   },
   "outputs": [
    {
     "data": {
      "text/plain": [
       "4"
      ]
     },
     "execution_count": 1,
     "metadata": {},
     "output_type": "execute_result"
    }
   ],
   "source": [
    "uint x = 18;\n",
    "sizeof(x) // 4 octets"
   ]
  },
  {
   "cell_type": "markdown",
   "id": "c6461fbf-2315-4178-b857-44d54f30e63f",
   "metadata": {},
   "source": [
    "On rappelle qu'un `uint` est stocké en mémoire en base 2. Ainsi, $18$ est stocké comme $1010_2$.  \n",
    "Dans ce TP, on utilise la représentation binaire des entiers positifs pour coder des ensembles : à chaque entier écrit en base 2 on associe l'ensemble dont les éléments sont les positions des bits égaux à 1.  \n",
    "Par exemple, $1010_2$ a deux bits égaux à $1$, en positions $1$ et $3$ (la position 0 étant celle du chiffre des unités, tout à droite). Donc l'entier $1010_2$, c'est-à-dire $18$, représente l'ensemble $\\{1, 3\\}$.  \n",
    "Comme un `uint` est stocké sur $32$ bits, cette méthode permet donc de coder n'importe quel sous-ensemble de $\\{0, ..., 31\\}$ sous forme d'un `uint`.  \n",
    "Pour les questions suivantes, on pourra utiliser `&`, `|`, `<<`, `~` (voir 1er cours de C)."
   ]
  },
  {
   "cell_type": "markdown",
   "id": "d86b1a99-52bd-490f-ae98-c5c8eb4e404c",
   "metadata": {
    "tags": [
     "exo"
    ]
   },
   "source": [
    "1. Par quel entier est codé l'ensemble $\\{0, 3, 4\\}$?\n",
    "2. Quel est l'ensemble codé par l'entier $27$ ?\n",
    "3. Écrire une fonction `singleton` telle que `singleton(i)` renvoie l'entier représentant $\\{i\\}$, c'est-à-dire $2^i$ ($= 1\\underbrace{0...0}_i {}_2$).\n",
    "4. Écrire une fonction `union` telle que, si `s1` et `s2` sont deux entiers représentants des ensembles, `union(s1, s2)` renvoie un entier représentant leur union.  \n",
    "5. Faire de même pour l'intersection de deux ensembles.  \n",
    "6. Écrire une fonction `has` telle que `has(s, e)` détermine si l'entier `e` appartient à l'ensemble représenté par l'entier `s`.  \n",
    "7. Écrire une fonction `card` pour calculer le cardinal (la taille) d'un ensemble représenté par un entier.  \n",
    "8. Un des intérêts de cette représentation binaire des ensembles est qu'il est facile d'énumérer tous les sous-ensembles de $\\{0, ..., 31\\}$, en faisant une boucle `for` sur les entiers de $0$ à $2^32 - 1$. Calculer ainsi la somme des cardinaux de tous les sous-ensembles de $\\{0, ..., 31\\}$. Quel nombre retrouve t-on?  \n",
    "9. Si `x` est un entier positif, que permet d'obtenir l'instruction `x & (~x + 1)` ? On pourra essayer sur des exemples.  \n",
    "10. Montrer qu'on pourrait utiliser `x & -x` au lieu de `x & (~x + 1)` (c'est-à-dire que les deux instructions donnent la même chose), en sachant que `-x` est stocké par complément à 2 (voir cours à ce sujet)."
   ]
  }
 ],
 "metadata": {
  "kernelspec": {
   "display_name": "C++14",
   "language": "C++14",
   "name": "xcpp14"
  },
  "language_info": {
   "codemirror_mode": "text/x-c++src",
   "file_extension": ".cpp",
   "mimetype": "text/x-c++src",
   "name": "c++",
   "version": "14"
  }
 },
 "nbformat": 4,
 "nbformat_minor": 5
}

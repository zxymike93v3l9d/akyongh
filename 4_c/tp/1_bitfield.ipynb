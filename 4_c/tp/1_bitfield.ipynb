{
 "cells": [
  {
   "cell_type": "markdown",
   "id": "549b4744-7395-43e1-9486-e4031db5d918",
   "metadata": {},
   "source": [
    "# <center><a href='https://mybinder.org/v2/gh/fortierq/binder-mp2i/main?urlpath=git-pull%3Frepo%3Dhttps%253A%252F%252Fgithub.com%252Fmp2i-fsm%252Fmp2i-2021%26urlpath%3Dlab%252Ftree%252Fmp2i-2021%252F4_c%252Ftp%252F1_bitfield.ipynb%26branch%3Dmain'>TP 1 : Implémentation d'ensemble par représentation binaire (*bit field*)                      <img src=https://mybinder.org/badge.svg></a></center>\n",
    "\n",
    "On rappelle qu'un `unsigned` est un entier non-signé (positif). Ils sont stockés sur $4$ octets, soit $4\\times 8 = 32$ bits :"
   ]
  },
  {
   "cell_type": "code",
   "execution_count": 1,
   "id": "03452d8d-1312-43e8-8bcf-b6826544638a",
   "metadata": {
    "execution": {
     "iopub.execute_input": "2021-11-25T20:00:33.597238Z",
     "iopub.status.busy": "2021-11-25T20:00:33.596693Z",
     "iopub.status.idle": "2021-11-25T20:00:34.075292Z",
     "shell.execute_reply": "2021-11-25T20:00:34.073736Z"
    }
   },
   "outputs": [
    {
     "data": {
      "text/plain": [
       "4"
      ]
     },
     "execution_count": 1,
     "metadata": {},
     "output_type": "execute_result"
    }
   ],
   "source": [
    "unsigned x = 18;\n",
    "sizeof(x) // 4 octets"
   ]
  },
  {
   "cell_type": "markdown",
   "id": "c6461fbf-2315-4178-b857-44d54f30e63f",
   "metadata": {},
   "source": [
    "On rappelle qu'un `unsigned` est stocké en mémoire en base 2. Ainsi, $10$ est stocké comme $1010_2$.  \n",
    "Dans ce TP, on utilise la représentation binaire des entiers positifs pour coder des ensembles : à chaque entier écrit en base 2 on associe l'ensemble dont les éléments sont les positions des bits égaux à 1.  \n",
    "Par exemple, $1010_2$ a deux bits égaux à $1$, en positions $1$ et $3$ (la position 0 étant celle du chiffre des unités, tout à droite). Donc l'entier $1010_2$, c'est-à-dire $10$, représente l'ensemble $\\{1, 3\\}$.  \n",
    "Comme un `unsigned` est stocké sur $32$ bits, cette méthode permet donc de coder n'importe quel sous-ensemble de $\\{0, ..., 31\\}$ sous forme d'un `unsigned`.  \n",
    "Pour les questions suivantes, on pourra utiliser `&`, `|`, `<<`, `~` (voir 1er cours de C)."
   ]
  },
  {
   "cell_type": "markdown",
   "id": "041aeecb-58d3-44c2-ac0c-068f30c49e77",
   "metadata": {},
   "source": [
    "## Petites questions"
   ]
  },
  {
   "cell_type": "markdown",
   "id": "7b42f1d6-a311-4c1a-b6f9-d7e50f62346b",
   "metadata": {
    "tags": [
     "exo"
    ]
   },
   "source": [
    "1. Par quel entier est codé l'ensemble $\\{0, 3, 4\\}$?\n",
    "2. Quel est l'ensemble codé par l'entier $26$ ?\n",
    "3. Écrire une fonction `singleton` telle que `singleton(i)` renvoie l'entier représentant $\\{i\\}$, c'est-à-dire $2^i$ ($= 1\\underbrace{0...0}_i {}_2$)."
   ]
  },
  {
   "cell_type": "markdown",
   "id": "fb2efd9b-fe76-4e34-a17f-b139f13ba096",
   "metadata": {
    "tags": [
     "cor"
    ]
   },
   "source": [
    "1. $\\{0, 3, 4\\}$ est codé par $\\boxed{11001_2 = 2^4 + 2^3 + 2^0 = 16 + 8 + 1 = 25}$  \n",
    "2. $26 = 11010_2$ donc représente l'ensemble $\\boxed{\\{1, 3, 4\\}}$  "
   ]
  },
  {
   "cell_type": "code",
   "execution_count": 2,
   "id": "9521eea1-ed3f-4bab-ac7c-d1bed2c083ce",
   "metadata": {
    "execution": {
     "iopub.execute_input": "2021-11-25T20:00:34.078693Z",
     "iopub.status.busy": "2021-11-25T20:00:34.077823Z",
     "iopub.status.idle": "2021-11-25T20:00:34.079139Z",
     "shell.execute_reply": "2021-11-25T20:00:34.078237Z"
    },
    "tags": [
     "cor"
    ]
   },
   "outputs": [],
   "source": [
    "// 3.\n",
    "unsigned singleton(unsigned i) {\n",
    "    return 1<<i; // 2**i\n",
    "}\n",
    "// on aurait pu calculer 2**i par exponentiation rapide par exemple, mais 1 << i est plus rapide (O(1))"
   ]
  },
  {
   "cell_type": "markdown",
   "id": "83d5cb70-63b0-4e72-85ea-d2635f6ddde9",
   "metadata": {},
   "source": [
    "## Union, intersection, appartenance"
   ]
  },
  {
   "cell_type": "markdown",
   "id": "9a90e596-c6d1-46ed-88c2-fe9a56f525a1",
   "metadata": {
    "tags": [
     "exo"
    ]
   },
   "source": [
    "1. Écrire une fonction `union2` telle que, si `s1` et `s2` sont deux entiers représentants des ensembles, `union2(s1, s2)` renvoie un entier représentant leur union.  \n",
    "2. Faire de même pour l'intersection de deux ensembles.  \n",
    "3. Écrire une fonction `has` telle que `has(s, e)` détermine si l'entier `e` appartient à l'ensemble représenté par l'entier `s`.  "
   ]
  },
  {
   "cell_type": "code",
   "execution_count": 3,
   "id": "695db48e-260d-4d91-af37-519f504440c9",
   "metadata": {
    "execution": {
     "iopub.execute_input": "2021-11-25T20:00:34.080646Z",
     "iopub.status.busy": "2021-11-25T20:00:34.080264Z",
     "iopub.status.idle": "2021-11-25T20:00:34.081466Z",
     "shell.execute_reply": "2021-11-25T20:00:34.081147Z"
    },
    "tags": [
     "cor"
    ]
   },
   "outputs": [],
   "source": [
    "// 1. l'union de deux ensembles correspond au \"ou\"\n",
    "unsigned union2(unsigned s1, unsigned s2) {\n",
    "    return s1 | s2;\n",
    "}"
   ]
  },
  {
   "cell_type": "code",
   "execution_count": 4,
   "id": "111dfe1c-6ae8-4b3c-b92f-925dda3f1705",
   "metadata": {
    "execution": {
     "iopub.execute_input": "2021-11-25T20:00:34.082782Z",
     "iopub.status.busy": "2021-11-25T20:00:34.082352Z",
     "iopub.status.idle": "2021-11-25T20:00:34.083193Z",
     "shell.execute_reply": "2021-11-25T20:00:34.083486Z"
    },
    "tags": [
     "cor"
    ]
   },
   "outputs": [],
   "source": [
    "// 2. l'intersection correspond au \"et\"\n",
    "unsigned inter(unsigned s1, unsigned s2) {\n",
    "    return s1 & s2;\n",
    "}"
   ]
  },
  {
   "cell_type": "code",
   "execution_count": 5,
   "id": "341b623b-adbd-4468-8e92-3ea8ec98509d",
   "metadata": {
    "execution": {
     "iopub.execute_input": "2021-11-25T20:00:34.084889Z",
     "iopub.status.busy": "2021-11-25T20:00:34.084415Z",
     "iopub.status.idle": "2021-11-25T20:00:34.085302Z",
     "shell.execute_reply": "2021-11-25T20:00:34.085593Z"
    },
    "tags": [
     "cor"
    ]
   },
   "outputs": [],
   "source": [
    "// 3. on teste si l'intersection de s et du singleton {e} est non-vide \n",
    "// (c'est-à-dire différent de 0, car 0 représente l'ensemble vide)\n",
    "bool has(unsigned s, unsigned e) {\n",
    "    return inter(s, singleton(e)) != 0;\n",
    "}\n",
    "// on aurait aussi pu regarder si inter(s, singleton(e)) == singleton(e)"
   ]
  },
  {
   "cell_type": "markdown",
   "id": "82790228-3c51-467c-9315-9339bb3ba137",
   "metadata": {},
   "source": [
    "## Algorithme de Kernighan"
   ]
  },
  {
   "cell_type": "markdown",
   "id": "d2d10fc8-f78f-4570-b69a-d47d6607bf73",
   "metadata": {
    "tags": [
     "exo"
    ]
   },
   "source": [
    "1. Si $n = 1011100_2$, que vaut $n$ & $(n - 1)$ ? Quel est le lien entre l'écriture de $n$ et celle de $n$ & $(n - 1)$ ?\n",
    "2. En s'inspirant de la question précédente, écrire une fonction `card` telle que `card(n)` renvoie le nombre de 1 dans l'écriture binaire de `n`. Cette fonction sera linéaire en le nombre de 1 dans l'écriture binaire de `n`. (Remarque : `card` renvoie donc le cardinal (taille) de l'ensemble codé par l'entier en argument)  \n",
    "3. Un des intérêts de cette représentation binaire des ensembles est qu'il est facile d'énumérer tous les sous-ensembles de $\\{0, ..., p\\}$, en faisant une boucle `for` sur les entiers de $0$ à $2^p - 1$. Calculer ainsi la somme des cardinaux des sous-ensembles de $\\{0, ..., p\\}$, pour différentes valeurs de $p$.  \n",
    "**Bonus** : trouver une formule mathématique pour cette somme."
   ]
  },
  {
   "cell_type": "code",
   "execution_count": 6,
   "id": "40b03e2a-62be-472b-b393-fd3ab637d819",
   "metadata": {
    "execution": {
     "iopub.execute_input": "2021-11-25T20:00:34.086964Z",
     "iopub.status.busy": "2021-11-25T20:00:34.086585Z",
     "iopub.status.idle": "2021-11-25T20:00:34.436785Z",
     "shell.execute_reply": "2021-11-25T20:00:34.435484Z"
    },
    "tags": [
     "cor"
    ]
   },
   "outputs": [
    {
     "data": {
      "text/plain": [
       "1024"
      ]
     },
     "execution_count": 6,
     "metadata": {},
     "output_type": "execute_result"
    }
   ],
   "source": [
    "// 1. n vaut 1011000 en base 2. On a remplacé le 1 le plus à droite par 0 (ceci est valable dans le cas général).\n",
    "\n",
    "// 2. On peut appliquer l'opération n & (n - 1) jusqu'à obtenir 0. \n",
    "// Comme on enlève un 1 à chaque fois, le nombre d'étapes nécessaires est le nombre de 1 dans n en base 2.\n",
    "unsigned card(unsigned n) {\n",
    "    unsigned res = 0;\n",
    "    while(n != 0) {\n",
    "        n = n & (n - 1); // ou n &= n - 1;\n",
    "        res++;\n",
    "    }\n",
    "    return res;\n",
    "}\n",
    "\n",
    "// \n",
    "unsigned n = 0;\n",
    "for(int s = 0; s < 1<<8; s++) { // pour tout s < 2**32\n",
    "    n += card(s);\n",
    "}\n",
    "n"
   ]
  },
  {
   "cell_type": "markdown",
   "id": "5e0b7005-55ab-42bd-b9ba-6475a3291b06",
   "metadata": {},
   "source": [
    "## Bit de poids faible"
   ]
  },
  {
   "cell_type": "markdown",
   "id": "18bcad5b-cea4-44d0-9625-e0ba6c5cc5d4",
   "metadata": {
    "tags": [
     "exo"
    ]
   },
   "source": [
    "1. Si `x` est un entier positif, que permet d'obtenir l'instruction `x & (~x + 1)` ? On pourra essayer sur des exemples.  \n",
    "2. En déduire une fonction `min` permettant de renvoyer le minimum d'un ensemble codé par un entier.  \n",
    "3. Montrer qu'on pourrait utiliser `x & -x` au lieu de `x & (~x + 1)` (c'est-à-dire que les deux instructions donnent la même chose), en sachant que `-x` est stocké par complément à 2 (voir cours à ce sujet)."
   ]
  },
  {
   "cell_type": "markdown",
   "id": "00ae01cb-e017-46d4-881f-0e17afd9ab01",
   "metadata": {
    "tags": [
     "cor"
    ]
   },
   "source": [
    "1. Si $x = 110100_2$ alors \\~$x = 001011_2$ donc \\~$x + 1$ = $001100_2$ et $x$ & (\\~$x + 1$) = $\\boxed{000100_2}$. On remarque qu'on obtient le bit de poids faible (le 1 le plus à droite dans la représentation binaire). En terme d'ensemble, on obtient donc un singleton contenant le minimum."
   ]
  },
  {
   "cell_type": "code",
   "execution_count": 7,
   "id": "aa9a12bc-172e-44e8-944f-d89eaf6361cc",
   "metadata": {
    "execution": {
     "iopub.execute_input": "2021-11-25T20:00:34.438879Z",
     "iopub.status.busy": "2021-11-25T20:00:34.438241Z",
     "iopub.status.idle": "2021-11-25T20:00:34.439415Z",
     "shell.execute_reply": "2021-11-25T20:00:34.439814Z"
    },
    "tags": [
     "cor"
    ]
   },
   "outputs": [],
   "source": [
    "// 2. \n",
    "unsigned min(unsigned s) {\n",
    "    return s & (~s + 1);\n",
    "}"
   ]
  }
 ],
 "metadata": {
  "kernelspec": {
   "display_name": "C++14",
   "language": "C++14",
   "name": "xcpp14"
  },
  "language_info": {
   "codemirror_mode": "text/x-c++src",
   "file_extension": ".cpp",
   "mimetype": "text/x-c++src",
   "name": "c++",
   "version": "14"
  }
 },
 "nbformat": 4,
 "nbformat_minor": 5
}

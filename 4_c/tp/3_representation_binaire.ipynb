{
 "cells": [
  {
   "cell_type": "markdown",
   "id": "083c7cf5-b5f0-401a-b9ed-67fc72b33f97",
   "metadata": {},
   "source": [
    "# TP 3 : Représentation binaire\n",
    "\n",
    "Dans ce TP, on ne manipule que des entiers positifs. On pourra donc utiliser le type `unsigned` au lieu de `int`."
   ]
  },
  {
   "cell_type": "markdown",
   "id": "0777cc09-1848-4115-b55e-615a50038a19",
   "metadata": {
    "tags": []
   },
   "source": [
    "## Test du zéro"
   ]
  },
  {
   "cell_type": "markdown",
   "id": "0ad7aa71-7d24-4f02-bd09-b34384b6ac19",
   "metadata": {
    "tags": [
     "exo"
    ]
   },
   "source": [
    "**Exercice** : Ecrire une fonction `is_zero` telle que, si `t` est un tableau de `n` entiers, `is_zero(t, n)` renvoie un booléen indiquant si `t` contient que des `0` (c'est-à-dire s'il correspond à l'écriture de $0$ dans une certaine base)."
   ]
  },
  {
   "cell_type": "code",
   "execution_count": 1,
   "id": "d517b4ac-f330-458f-be75-10ec282f5a99",
   "metadata": {
    "execution": {
     "iopub.execute_input": "2021-11-26T13:20:55.461482Z",
     "iopub.status.busy": "2021-11-26T13:20:55.460880Z",
     "iopub.status.idle": "2021-11-26T13:20:55.462636Z",
     "shell.execute_reply": "2021-11-26T13:20:55.462095Z"
    }
   },
   "outputs": [],
   "source": [
    "#include <stdbool.h>\n",
    "\n",
    "bool is_zero(unsigned* t, unsigned n) {\n",
    "    for(int i = 0; i < n; i++)\n",
    "        if(t[i] != 0)\n",
    "            return false;\n",
    "    return true;\n",
    "}"
   ]
  },
  {
   "cell_type": "markdown",
   "id": "1dabbbbd-eb39-4e48-87a7-2b3f45efcddb",
   "metadata": {},
   "source": [
    "## Conversion d'une base b vers la base 10"
   ]
  },
  {
   "cell_type": "markdown",
   "id": "fa95412c-1d88-4ed7-82ea-71ee9697b17d",
   "metadata": {
    "tags": [
     "exo"
    ]
   },
   "source": [
    "**Exercice** : Écrire une fonction `b_to_10` telle que, si `b` est une base de numérotation (un entier positif) et `t` est un tableau de taille `size`, `b_to_10(t, size, b)` renvoie l'entier dont l'écriture en base `b` correspond aux éléments de `t`. Le prototype de `b_to_10` est donc :  \n",
    "```cpp\n",
    "unsigned b_to_10(unsigned* t, unsigned size, unsigned b);\n",
    "```\n",
    "Par exemple, comme $10100_2 = 2^4 + 2^2 = 16 + 4 = 20$, l'appel suivant de `b_to_10` doit renvoyer $20$ :  \n",
    "```c\n",
    "unsigned t[] = {0, 0, 1, 0, 1};\n",
    "b_to_10(2, t, 5); // renvoie 20\n",
    "```\n",
    "**Remarque** : On stocke les chiffres à l'envers dans le tableau, pour que les calculs soient (un peu) plus simples.  \n",
    "**Remarque** : Le calcul de puissance peut se faire avec `pow(a, n)` (renvoyant $a^n$) ou `1<<n` (pour obtenir $2^n$) mais on peut se passer du calcul de puissance."
   ]
  },
  {
   "cell_type": "code",
   "execution_count": 2,
   "id": "7c9c9743-57f9-4f85-b11f-5635046f1ba2",
   "metadata": {
    "execution": {
     "iopub.execute_input": "2021-11-26T13:20:55.464224Z",
     "iopub.status.busy": "2021-11-26T13:20:55.463808Z",
     "iopub.status.idle": "2021-11-26T13:20:55.464658Z",
     "shell.execute_reply": "2021-11-26T13:20:55.464975Z"
    }
   },
   "outputs": [],
   "source": [
    "unsigned b_to_10(unsigned* t, unsigned size, unsigned b) {\n",
    "    unsigned somme = 0;\n",
    "    unsigned puissance = 1; // va contenir les puissances de b\n",
    "    for(int i = 0; i < size; i++) {\n",
    "        somme += t[i]*puissance;\n",
    "        puissance *= b;\n",
    "    }\n",
    "    return somme;\n",
    "}"
   ]
  },
  {
   "cell_type": "code",
   "execution_count": 3,
   "id": "6be25aa8-2620-4689-a276-5e4963450de2",
   "metadata": {
    "execution": {
     "iopub.execute_input": "2021-11-26T13:20:55.466450Z",
     "iopub.status.busy": "2021-11-26T13:20:55.465941Z",
     "iopub.status.idle": "2021-11-26T13:20:55.943943Z",
     "shell.execute_reply": "2021-11-26T13:20:55.942532Z"
    }
   },
   "outputs": [
    {
     "data": {
      "text/plain": [
       "12"
      ]
     },
     "execution_count": 3,
     "metadata": {},
     "output_type": "execute_result"
    }
   ],
   "source": [
    "unsigned tab[4] = {0, 0, 1, 1}; \n",
    "b_to_10(tab, 4, 2) // 12 = 1100_2"
   ]
  },
  {
   "cell_type": "markdown",
   "id": "3fc0e3a7-90a1-49d3-8ebc-11b969ca583d",
   "metadata": {},
   "source": [
    "## Conversion de la base 10 vers une base b\n",
    "\n",
    "On veut convertir un entier $n$, exprimé en base 10, vers une autre base $b$ et stocker les chiffres dans un tableau. Comme la taille des tableaux doit être déterminée à sa création, il faut connaître le nombre de chiffres de $n$ en base $b$."
   ]
  },
  {
   "cell_type": "markdown",
   "id": "c73a31d2-1c45-47d9-ac33-c25da564f284",
   "metadata": {
    "tags": [
     "exo"
    ]
   },
   "source": [
    "**Exercice**\n",
    "1. Montrer que le nombre de chiffres de $n$ en base $b$ est $\\lfloor \\log_b(n) \\rfloor + 1$ (où $\\lfloor ... \\rfloor$ est la partie entière).  \n",
    "2. En déduire une fonction `size_b` telle que `size_b(n, b)` renvoie le nombre de chiffres de `n` en base `b`. On utilisera la fonction `log` (qui est le logarithme népérien)."
   ]
  },
  {
   "cell_type": "markdown",
   "id": "5340c467-25a6-4301-b8bf-dc4685659aec",
   "metadata": {
    "tags": [
     "exo"
    ]
   },
   "source": [
    "**Exercice** : Écrire une fonction `convert_10_to_b` telle que, si `b` est une base et `n` un entier, `10_to_b(n, b)` renvoie un tableau dont les éléments sont les chiffres (à l'envers) de `n` en base `b`.  \n",
    "```c\n",
    "unsigned* convert_10_to_b(unsigned n, unsigned b);\n",
    "```\n",
    "On rappelle que la méthode consiste à effectuer des divisions euclidiennes successives par `b` et lire les restes obtenus, à l'envers.  \n",
    "<center><img src=https://github.com/fortierq/tikz/blob/master/math/int/10to2/10to2.png?raw=true width=300></center>\n",
    "D'après les divisions de l'exemple ci-dessus : $98 = 1100010_2$."
   ]
  }
 ],
 "metadata": {
  "kernelspec": {
   "display_name": "C++14",
   "language": "C++14",
   "name": "xcpp14"
  },
  "language_info": {
   "codemirror_mode": "text/x-c++src",
   "file_extension": ".cpp",
   "mimetype": "text/x-c++src",
   "name": "c++",
   "version": "14"
  }
 },
 "nbformat": 4,
 "nbformat_minor": 5
}

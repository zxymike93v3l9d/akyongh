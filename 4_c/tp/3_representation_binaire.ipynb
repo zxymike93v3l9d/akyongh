{
 "cells": [
  {
   "cell_type": "markdown",
   "id": "083c7cf5-b5f0-401a-b9ed-67fc72b33f97",
   "metadata": {},
   "source": [
    "# <center><a href='https://mybinder.org/v2/gh/fortierq/binder-mp2i/main?urlpath=git-pull%3Frepo%3Dhttps%253A%252F%252Fgithub.com%252Fmp2i-fsm%252Fmp2i-2021%26urlpath%3Dlab%252Ftree%252Fmp2i-2021%252F4_c%252Ftp%252F3_representation_binaire.ipynb%26branch%3Dmain'>TP 3 : Représentation binaire                                               <img src=https://mybinder.org/badge.svg></a></center>\n",
    "\n",
    "Dans ce TP, on ne manipule que des entiers positifs. On pourra donc utiliser le type `unsigned` au lieu de `int`."
   ]
  },
  {
   "cell_type": "markdown",
   "id": "0777cc09-1848-4115-b55e-615a50038a19",
   "metadata": {
    "tags": []
   },
   "source": [
    "## Test du zéro"
   ]
  },
  {
   "cell_type": "markdown",
   "id": "0ad7aa71-7d24-4f02-bd09-b34384b6ac19",
   "metadata": {
    "tags": [
     "exo"
    ]
   },
   "source": [
    "**Exercice** : Ecrire une fonction `is_zero` telle que, si `t` est un tableau de `n` entiers, `is_zero(t, n)` renvoie un booléen indiquant si `t` contient que des `0` (c'est-à-dire s'il correspond à l'écriture de $0$ dans une certaine base)."
   ]
  },
  {
   "cell_type": "code",
   "execution_count": 1,
   "id": "76617be4-5c2e-4cbc-9cb0-5555657cf3d6",
   "metadata": {
    "execution": {
     "iopub.execute_input": "2021-11-26T16:42:23.295080Z",
     "iopub.status.busy": "2021-11-26T16:42:23.294537Z",
     "iopub.status.idle": "2021-11-26T16:42:23.299662Z",
     "shell.execute_reply": "2021-11-26T16:42:23.298280Z"
    },
    "tags": [
     "cor"
    ]
   },
   "outputs": [
    {
     "name": "stdout",
     "output_type": "stream",
     "text": [
      "0 1"
     ]
    }
   ],
   "source": [
    "bool is_zero(int* t, int n) {\n",
    "    for(int i = 0; i < n; i++)\n",
    "        if(t[i] != 0)\n",
    "            return false;\n",
    "    return true;\n",
    "}\n",
    "\n",
    "int t1[3] = {0, 1, 2};\n",
    "printf(\"%d \", is_zero(t1, 3));\n",
    "int t2[3] = {0, 0, 0};\n",
    "printf(\"%d\", is_zero(t2, 3));"
   ]
  },
  {
   "cell_type": "markdown",
   "id": "1dabbbbd-eb39-4e48-87a7-2b3f45efcddb",
   "metadata": {},
   "source": [
    "## Conversion d'une base b vers la base 10"
   ]
  },
  {
   "cell_type": "markdown",
   "id": "fa95412c-1d88-4ed7-82ea-71ee9697b17d",
   "metadata": {
    "tags": [
     "exo"
    ]
   },
   "source": [
    "**Exercice** : Écrire une fonction `b_to_10` telle que, si `b` est une base de numérotation (un entier positif) et `t` est un tableau de taille `size`, `b_to_10(t, size, b)` renvoie l'entier dont l'écriture en base `b` correspond aux éléments de `t`. Le prototype de `b_to_10` est donc :  \n",
    "```cpp\n",
    "unsigned b_to_10(unsigned* t, unsigned size, unsigned b);\n",
    "```\n",
    "Par exemple, comme $10100_2 = 2^4 + 2^2 = 16 + 4 = 20$, l'appel suivant de `b_to_10` doit renvoyer $20$ :  \n",
    "```c\n",
    "unsigned t[] = {0, 0, 1, 0, 1};\n",
    "b_to_10(t, 5, 2); // renvoie 20\n",
    "```\n",
    "**Remarque** : On stocke les chiffres à l'envers dans le tableau, pour que les calculs soient (un peu) plus simples.  \n",
    "**Remarque** : On peut se passer des calculs de puissance."
   ]
  },
  {
   "cell_type": "code",
   "execution_count": 2,
   "id": "e4e5f536-0b46-46c4-b6a6-e4114a1fd730",
   "metadata": {
    "execution": {
     "iopub.execute_input": "2021-11-26T16:42:23.301417Z",
     "iopub.status.busy": "2021-11-26T16:42:23.300969Z",
     "iopub.status.idle": "2021-11-26T16:42:23.303841Z",
     "shell.execute_reply": "2021-11-26T16:42:23.303501Z"
    },
    "tags": [
     "cor"
    ]
   },
   "outputs": [],
   "source": [
    "// on stocke les puissances de b pour éviter de faire n calculs de puissance\n",
    "unsigned b_to_10(unsigned* t, unsigned size, unsigned b) {\n",
    "    unsigned somme = 0;\n",
    "    unsigned puissance = 1; // stocke les puissances de b\n",
    "    for(int i = 0; i < size; i++) {\n",
    "        somme += t[i]*puissance; // puissance vaut b**i\n",
    "        puissance *= b; // multiplie puissance par b\n",
    "    }\n",
    "    return somme;\n",
    "}\n",
    "\n",
    "unsigned t[] = {0, 0, 1, 0, 1};\n",
    "b_to_10(t, 5, 2);"
   ]
  },
  {
   "cell_type": "markdown",
   "id": "3fc0e3a7-90a1-49d3-8ebc-11b969ca583d",
   "metadata": {
    "tags": []
   },
   "source": [
    "## Conversion de la base 10 vers une base b\n",
    "\n",
    "On veut convertir un entier $n$, exprimé en base 10, vers une autre base $b$ et stocker les chiffres dans un tableau. Comme la taille des tableaux doit être déterminée à sa création, il faut connaître le nombre de chiffres de $n$ en base $b$."
   ]
  },
  {
   "cell_type": "markdown",
   "id": "c73a31d2-1c45-47d9-ac33-c25da564f284",
   "metadata": {
    "tags": [
     "exo"
    ]
   },
   "source": [
    "**Exercice**\n",
    "1. Montrer que le nombre de chiffres de $n$ en base $b$ est $\\lfloor \\log_b(n) \\rfloor + 1$ (où $\\lfloor ... \\rfloor$ est la partie entière).  \n",
    "2. En déduire une fonction `size_b` telle que `size_b(n, b)` renvoie le nombre de chiffres de `n` en base `b`. On utilisera la fonction `log` (qui est le logarithme népérien)."
   ]
  },
  {
   "cell_type": "markdown",
   "id": "d8a9fe99-47e9-46dc-9c3f-cab144dc9e6a",
   "metadata": {
    "tags": [
     "cor"
    ]
   },
   "source": [
    "1. Soit $p$ le nombre de chiffres de $n$ en base $b$. Le plus petit nombre à $p$ chiffres est $b^{p-1}$ ($ = 1\\underbrace{0...0}_{p-1} {}_2$) et le plus grand nombre à $p$ chiffres est $b^p - 1$ ($ = \\underbrace{1...1}_{p} {}_2$). Donc :\n",
    "$$b^{p - 1} \\leq n < b^p$$\n",
    "En passant au $\\log_b$ (qui est une fonction strictement croissante donc préserve les inégalités) :\n",
    "$$(p - 1) \\leq \\log_b(n) < p$$\n",
    "$$\\Longrightarrow p \\leq \\log_b(n) + 1 < p + 1$$\n",
    "$$\\Longrightarrow \\boxed{p = \\lfloor \\log_b(n) \\rfloor + 1}$$"
   ]
  },
  {
   "cell_type": "code",
   "execution_count": 3,
   "id": "1c86d8be-dd16-4a31-b428-14182ef718b9",
   "metadata": {
    "execution": {
     "iopub.execute_input": "2021-11-26T16:42:23.305443Z",
     "iopub.status.busy": "2021-11-26T16:42:23.305020Z",
     "iopub.status.idle": "2021-11-26T16:42:23.779138Z",
     "shell.execute_reply": "2021-11-26T16:42:23.777736Z"
    },
    "tags": [
     "cor"
    ]
   },
   "outputs": [
    {
     "data": {
      "text/plain": [
       "5"
      ]
     },
     "execution_count": 3,
     "metadata": {},
     "output_type": "execute_result"
    }
   ],
   "source": [
    "// 2.\n",
    "unsigned size_b(unsigned n, unsigned b) {\n",
    "    return log(n)/log(b) + 1;\n",
    "}\n",
    "\n",
    "size_b(20, 2)  // 20 = 10100_2 possède 5 chiffres en base 2"
   ]
  },
  {
   "cell_type": "markdown",
   "id": "5340c467-25a6-4301-b8bf-dc4685659aec",
   "metadata": {
    "tags": [
     "exo"
    ]
   },
   "source": [
    "**Exercice** : Écrire une fonction `10_to_b` telle que, si `b` est une base et `n` un entier, `10_to_b(n, b)` renvoie un tableau dont les éléments sont les chiffres (à l'envers) de `n` en base `b`.  \n",
    "```c\n",
    "unsigned* convert_10_to_b(unsigned n, unsigned b);\n",
    "```\n",
    "On rappelle que la méthode consiste à effectuer des divisions euclidiennes successives par `b` et lire les restes obtenus, à l'envers.  \n",
    "<center><img src=https://github.com/fortierq/tikz/blob/master/math/int/10to2/10to2.png?raw=true width=300></center>\n",
    "D'après les divisions de l'exemple ci-dessus : $98 = 1100010_2$."
   ]
  },
  {
   "cell_type": "code",
   "execution_count": 4,
   "id": "73038d58-c90b-4e94-9127-7e2d2c5df377",
   "metadata": {
    "execution": {
     "iopub.execute_input": "2021-11-26T16:42:23.780847Z",
     "iopub.status.busy": "2021-11-26T16:42:23.780402Z",
     "iopub.status.idle": "2021-11-26T16:42:23.782075Z",
     "shell.execute_reply": "2021-11-26T16:42:23.781710Z"
    },
    "tags": [
     "cor"
    ]
   },
   "outputs": [],
   "source": [
    "unsigned* convert_10_to_b(unsigned n, unsigned b) {\n",
    "    unsigned size = log(n)/log(b) + 1;\n",
    "    unsigned* tab = (unsigned*)malloc(size*sizeof(unsigned));\n",
    "    for(int i = 0; i < size; i++) {\n",
    "        tab[i] = n % b;\n",
    "        n /= b;\n",
    "    }\n",
    "    return tab;\n",
    "}"
   ]
  },
  {
   "cell_type": "code",
   "execution_count": 5,
   "id": "2dc93239-f053-4245-bc3e-a64353d6fbb1",
   "metadata": {
    "execution": {
     "iopub.execute_input": "2021-11-26T16:42:23.783551Z",
     "iopub.status.busy": "2021-11-26T16:42:23.783139Z",
     "iopub.status.idle": "2021-11-26T16:42:23.787396Z",
     "shell.execute_reply": "2021-11-26T16:42:23.787007Z"
    },
    "tags": [
     "cor"
    ]
   },
   "outputs": [
    {
     "name": "stdout",
     "output_type": "stream",
     "text": [
      "0100011"
     ]
    }
   ],
   "source": [
    "unsigned* tab = convert_10_to_b(98, 2); // 98 = 1100010_2\n",
    "for(int i = 0; i < 7; i++) {\n",
    "    printf(\"%u\", tab[i]);\n",
    "}"
   ]
  }
 ],
 "metadata": {
  "kernelspec": {
   "display_name": "C++14",
   "language": "C++14",
   "name": "xcpp14"
  },
  "language_info": {
   "codemirror_mode": "text/x-c++src",
   "file_extension": ".cpp",
   "mimetype": "text/x-c++src",
   "name": "c++",
   "version": "14"
  }
 },
 "nbformat": 4,
 "nbformat_minor": 5
}

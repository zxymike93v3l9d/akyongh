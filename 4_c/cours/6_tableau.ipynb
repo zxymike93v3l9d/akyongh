{
 "cells": [
  {
   "cell_type": "markdown",
   "id": "e813b366-a34a-48c2-826d-9ea6c157fa28",
   "metadata": {},
   "source": [
    "# Tableaux\n",
    "\n",
    "Un tableau est similaire à un `array` en OCaml : c'est un ensemble de cases mémoires contiguës qui permet d'accéder en O(1) à un élément en position quelconque. Comme en OCaml, la taille d'un tableau ainsi que le type des ses éléments est fixée à sa création :"
   ]
  },
  {
   "cell_type": "code",
   "execution_count": 1,
   "id": "035c48aa-857c-427d-aad1-0e264ecf1dc6",
   "metadata": {
    "execution": {
     "iopub.execute_input": "2021-11-23T16:49:35.862987Z",
     "iopub.status.busy": "2021-11-23T16:49:35.861902Z",
     "iopub.status.idle": "2021-11-23T16:49:35.863997Z",
     "shell.execute_reply": "2021-11-23T16:49:35.862442Z"
    }
   },
   "outputs": [],
   "source": [
    "int t[10];  // créé un tableau de 10 entiers"
   ]
  },
  {
   "cell_type": "markdown",
   "id": "49505591-2e29-42b9-9498-f0cb77339e18",
   "metadata": {},
   "source": [
    "Cela a pour effet d'allouer $10$ entiers dans la pile, pour un total de $10\\times 4$ octets :"
   ]
  },
  {
   "cell_type": "code",
   "execution_count": 2,
   "id": "c13b62cf-5167-4227-a7cd-9e4352168c81",
   "metadata": {
    "execution": {
     "iopub.execute_input": "2021-11-23T16:49:35.870076Z",
     "iopub.status.busy": "2021-11-23T16:49:35.868862Z",
     "iopub.status.idle": "2021-11-23T16:49:36.481068Z",
     "shell.execute_reply": "2021-11-23T16:49:36.479568Z"
    }
   },
   "outputs": [
    {
     "data": {
      "text/plain": [
       "40"
      ]
     },
     "execution_count": 2,
     "metadata": {},
     "output_type": "execute_result"
    }
   ],
   "source": [
    "sizeof(t)"
   ]
  },
  {
   "cell_type": "markdown",
   "id": "4b2c5f55-60f5-4123-a66c-b00f1e51a062",
   "metadata": {},
   "source": [
    "On peut modifier et accéder à un élément par son indice (qui commence à 0) :"
   ]
  },
  {
   "cell_type": "code",
   "execution_count": 3,
   "id": "f4d172cb-27fe-4a6a-89e5-3d33b07e015e",
   "metadata": {
    "execution": {
     "iopub.execute_input": "2021-11-23T16:49:36.482977Z",
     "iopub.status.busy": "2021-11-23T16:49:36.482498Z",
     "iopub.status.idle": "2021-11-23T16:49:36.929923Z",
     "shell.execute_reply": "2021-11-23T16:49:36.928553Z"
    }
   },
   "outputs": [
    {
     "data": {
      "text/plain": [
       "42"
      ]
     },
     "execution_count": 3,
     "metadata": {},
     "output_type": "execute_result"
    }
   ],
   "source": [
    "t[0] = 42;  // modification du 1er élément"
   ]
  },
  {
   "cell_type": "code",
   "execution_count": 4,
   "id": "0b755e94-1273-4398-b6d2-ae0adf2eeddd",
   "metadata": {
    "execution": {
     "iopub.execute_input": "2021-11-23T16:49:36.935183Z",
     "iopub.status.busy": "2021-11-23T16:49:36.934649Z",
     "iopub.status.idle": "2021-11-23T16:49:37.324608Z",
     "shell.execute_reply": "2021-11-23T16:49:37.323366Z"
    }
   },
   "outputs": [
    {
     "data": {
      "text/plain": [
       "42"
      ]
     },
     "execution_count": 4,
     "metadata": {},
     "output_type": "execute_result"
    }
   ],
   "source": [
    "t[0]  // valeur du 1er élément"
   ]
  },
  {
   "cell_type": "markdown",
   "id": "e30243b3-9582-4a96-b29b-273ef07db3a9",
   "metadata": {},
   "source": [
    "Si on dépasse de la taille d'un tableau, on obtient une erreur :"
   ]
  },
  {
   "cell_type": "code",
   "execution_count": 5,
   "id": "c0bb436a-d066-4d65-878b-a2ce1270f17a",
   "metadata": {
    "execution": {
     "iopub.execute_input": "2021-11-23T16:49:37.328225Z",
     "iopub.status.busy": "2021-11-23T16:49:37.327670Z",
     "iopub.status.idle": "2021-11-23T16:49:37.735245Z",
     "shell.execute_reply": "2021-11-23T16:49:37.734786Z"
    }
   },
   "outputs": [
    {
     "name": "stderr",
     "output_type": "stream",
     "text": [
      "input_line_16:2:2: warning: array index 10 is past the end of the array (which contains 10 elements) [-Warray-bounds]\n",
      " t[10]  // le dernier indice d'un tableau de taille n est n - 1\n",
      " ^ ~~\n",
      "input_line_7:2:2: note: array 't' declared here\n",
      " int t[10];  // créé un tableau de 10 entiers\n",
      " ^\n"
     ]
    },
    {
     "data": {
      "text/plain": [
       "0"
      ]
     },
     "execution_count": 5,
     "metadata": {},
     "output_type": "execute_result"
    }
   ],
   "source": [
    "t[10]  // le dernier indice d'un tableau de taille n est n - 1"
   ]
  },
  {
   "cell_type": "markdown",
   "id": "8d10d91b-5271-42a7-a159-c36fa0b26b20",
   "metadata": {
    "tags": [
     "exo"
    ]
   },
   "source": [
    "**Exercice** : Définir un tableau de taille 20 qui contient les entiers de 0 à 19."
   ]
  },
  {
   "cell_type": "markdown",
   "id": "c218deaa-e2cd-44c4-880c-04af40fe18b8",
   "metadata": {},
   "source": [
    "## Initialisation"
   ]
  },
  {
   "cell_type": "markdown",
   "id": "c1992074-b568-4025-ac14-0a3d65a23e04",
   "metadata": {},
   "source": [
    "On peut initialiser un tableau de la façon suivante :"
   ]
  },
  {
   "cell_type": "code",
   "execution_count": 6,
   "id": "f3238de4-1f82-4ba2-8c78-553fdf259805",
   "metadata": {
    "execution": {
     "iopub.execute_input": "2021-11-23T16:49:37.738595Z",
     "iopub.status.busy": "2021-11-23T16:49:37.737685Z",
     "iopub.status.idle": "2021-11-23T16:49:37.739063Z",
     "shell.execute_reply": "2021-11-23T16:49:37.738126Z"
    }
   },
   "outputs": [],
   "source": [
    "float t[3] = {2.718, 3.14, 1.618};"
   ]
  },
  {
   "cell_type": "markdown",
   "id": "9dbd2d46-503f-46c8-9e48-cb0de46fcfa2",
   "metadata": {},
   "source": [
    "Dans ce cas, il n'est pas obligatoire de donner la taille du tableau (qui est automatiquement déduit de l'initialisation) :"
   ]
  },
  {
   "cell_type": "code",
   "execution_count": 7,
   "id": "76034bab-c591-4c48-a134-66168a2d662b",
   "metadata": {
    "execution": {
     "iopub.execute_input": "2021-11-23T16:49:37.741718Z",
     "iopub.status.busy": "2021-11-23T16:49:37.740820Z",
     "iopub.status.idle": "2021-11-23T16:49:37.742198Z",
     "shell.execute_reply": "2021-11-23T16:49:37.741233Z"
    }
   },
   "outputs": [],
   "source": [
    "float t[] = {2.718, 3.14, 1.618};"
   ]
  },
  {
   "cell_type": "markdown",
   "id": "655fa00c-beb5-406e-b792-402aa8577eff",
   "metadata": {},
   "source": [
    "`float t[]` signifie qu'on définit un tableau sans donner sa taille. Sans initialisation, on obtient une erreur : "
   ]
  },
  {
   "cell_type": "code",
   "execution_count": 8,
   "id": "eb030482-4d6f-4207-bb70-e1627016dfed",
   "metadata": {
    "execution": {
     "iopub.execute_input": "2021-11-23T16:49:37.745437Z",
     "iopub.status.busy": "2021-11-23T16:49:37.744854Z",
     "iopub.status.idle": "2021-11-23T16:49:37.757231Z",
     "shell.execute_reply": "2021-11-23T16:49:37.745905Z"
    }
   },
   "outputs": [
    {
     "name": "stderr",
     "output_type": "stream",
     "text": [
      "input_line_20:2:8: error: definition of variable with array type needs an explicit size or an initializer\n",
      " float t[];\n",
      "       ^\n"
     ]
    },
    {
     "ename": "Interpreter Error",
     "evalue": "",
     "output_type": "error",
     "traceback": [
      "Interpreter Error: "
     ]
    }
   ],
   "source": [
    "float t[];"
   ]
  },
  {
   "cell_type": "markdown",
   "id": "a85d0edd-70ee-47f6-a229-4bafd78f5caf",
   "metadata": {},
   "source": [
    "## Pointeur et tableau"
   ]
  },
  {
   "cell_type": "markdown",
   "id": "662ea02e-a575-491b-baeb-8b53411dec9d",
   "metadata": {},
   "source": [
    "Lorsqu'on utilise un tableau comme une valeur (par exemple quand il apparaît à droite d'une affectation de variable), le tableau est automatiquement converti en pointeur vers le 1er élément du tableau. On parle de ***pointer decay*** :"
   ]
  },
  {
   "cell_type": "code",
   "execution_count": 9,
   "id": "9c1eb57a-22b9-4986-aaef-7a12df65343c",
   "metadata": {
    "execution": {
     "iopub.execute_input": "2021-11-23T16:49:37.762730Z",
     "iopub.status.busy": "2021-11-23T16:49:37.762246Z",
     "iopub.status.idle": "2021-11-23T16:49:38.184972Z",
     "shell.execute_reply": "2021-11-23T16:49:38.184495Z"
    }
   },
   "outputs": [
    {
     "data": {
      "text/plain": [
       "@0x7ffe09e55778"
      ]
     },
     "execution_count": 9,
     "metadata": {},
     "output_type": "execute_result"
    }
   ],
   "source": [
    "int tab[10];\n",
    "&tab[0]  // adresse du 1er élément de tab"
   ]
  },
  {
   "cell_type": "code",
   "execution_count": 10,
   "id": "ba507ede-39cb-4dc0-8a16-48327b15a6aa",
   "metadata": {
    "execution": {
     "iopub.execute_input": "2021-11-23T16:49:38.190895Z",
     "iopub.status.busy": "2021-11-23T16:49:38.190365Z",
     "iopub.status.idle": "2021-11-23T16:49:38.589113Z",
     "shell.execute_reply": "2021-11-23T16:49:38.587989Z"
    }
   },
   "outputs": [
    {
     "data": {
      "text/plain": [
       "@0x7ffe09e55778"
      ]
     },
     "execution_count": 10,
     "metadata": {},
     "output_type": "execute_result"
    }
   ],
   "source": [
    "int* p = tab;  // lorsqu'il est utilisé comme une valeur, tab est converti en pointeur\n",
    "p              // qui est en fait la même adresse que &tab[0]"
   ]
  },
  {
   "cell_type": "markdown",
   "id": "68d8570a-4411-49ac-85e6-014f83b24d19",
   "metadata": {},
   "source": [
    "`int* p = tab;` est donc équivalent à `int* p = &tab[0]`, et mets dans `p` l'adresse du 1er élément de `tab`.  \n",
    "Le nom `tab` ressemble beaucoup à un pointeur vers le premier élément du tableau. Ce n'est cependant pas exactement un pointeur, comme on le voit en utilisant `sizeof` :"
   ]
  },
  {
   "cell_type": "code",
   "execution_count": 11,
   "id": "90c4d218-18d9-4274-977d-49842b4d8d1f",
   "metadata": {
    "execution": {
     "iopub.execute_input": "2021-11-23T16:49:38.594904Z",
     "iopub.status.busy": "2021-11-23T16:49:38.592686Z",
     "iopub.status.idle": "2021-11-23T16:49:38.596309Z",
     "shell.execute_reply": "2021-11-23T16:49:38.594277Z"
    }
   },
   "outputs": [
    {
     "name": "stdout",
     "output_type": "stream",
     "text": [
      "taille de tab (tableau) : 40\n",
      "taille de p (pointeur) : 8"
     ]
    }
   ],
   "source": [
    "printf(\"taille de tab (tableau) : %lu\\n\", sizeof(tab));\n",
    "printf(\"taille de p (pointeur) : %lu\", sizeof(p));"
   ]
  },
  {
   "cell_type": "markdown",
   "id": "4bdce1b8-6522-4afe-93b3-72319731d556",
   "metadata": {},
   "source": [
    "Hormis avec `sizeof` et `&`, un tableau se comporte exactement comme un pointeur vers le 1er élément."
   ]
  },
  {
   "cell_type": "markdown",
   "id": "e4b176f3-d318-4450-8116-133652386ee9",
   "metadata": {},
   "source": [
    "## Passage en argument\n",
    "\n",
    "Lorsque l'on passe un tableau en argument d'une fonction, il y a *pointer decay* et la fonction récupère un pointeur. Une fonction sur un tableau pourra donc prendre `int*` en argument :"
   ]
  },
  {
   "cell_type": "code",
   "execution_count": 12,
   "id": "70611998-354e-49c4-b051-74dee1611a85",
   "metadata": {
    "execution": {
     "iopub.execute_input": "2021-11-23T16:49:38.598853Z",
     "iopub.status.busy": "2021-11-23T16:49:38.598332Z",
     "iopub.status.idle": "2021-11-23T16:49:39.017227Z",
     "shell.execute_reply": "2021-11-23T16:49:39.016741Z"
    }
   },
   "outputs": [
    {
     "data": {
      "text/plain": [
       "10"
      ]
     },
     "execution_count": 12,
     "metadata": {},
     "output_type": "execute_result"
    }
   ],
   "source": [
    "int somme(int* tab, int n) { \n",
    "// renvoie la somme des éléments du tableau dont le 1er élément est à l'adresse tabtab\n",
    "// n est la taille du tableau\n",
    "    int s = 0;\n",
    "    for(int i = 0; i < n; i++) {\n",
    "        s += tab[i];\n",
    "    }\n",
    "    return s;\n",
    "}\n",
    "\n",
    "int t[] = {1, 2, 3, 4};\n",
    "somme(t, 4)"
   ]
  },
  {
   "cell_type": "markdown",
   "id": "85e54a9f-3c04-4351-95af-088e5bf724a1",
   "metadata": {},
   "source": [
    "Il est nécessaire de donner le `n` en argument à `somme` pour connaître la taille du tableau. En effet, `sizeof(tab)` dans `somme` donnerait la taille d'une adresse (qui est 8 octets, soit 64 bits) et non pas la taille du tableau.  \n",
    "De plus, il est possible d'utiliser `int tab[]` au lieu de `int* tab` en argument de `somme`, mais le comportement est exactement le même :"
   ]
  },
  {
   "cell_type": "code",
   "execution_count": 13,
   "id": "ab03dabb-7715-4bff-8400-adf34978ccf0",
   "metadata": {
    "execution": {
     "iopub.execute_input": "2021-11-23T16:49:39.020985Z",
     "iopub.status.busy": "2021-11-23T16:49:39.020071Z",
     "iopub.status.idle": "2021-11-23T16:49:39.021480Z",
     "shell.execute_reply": "2021-11-23T16:49:39.020529Z"
    }
   },
   "outputs": [],
   "source": [
    "int somme(int tab[], int n) { // fait exactement la même chose que la fonction précédente\n",
    "    int s = 0;\n",
    "    for(int i = 0; i < n; i++) {\n",
    "        s += tab[i];\n",
    "    }\n",
    "    return s;\n",
    "}"
   ]
  },
  {
   "cell_type": "markdown",
   "id": "bf6330dd-94aa-4855-9ee4-fe1c17cf3be6",
   "metadata": {},
   "source": [
    "Un tableau est donc toujours passé sous forme de pointeur (il n'existe pas de passage par copie pour les tableaux). On peut s'en servir pour modifier un tableau."
   ]
  },
  {
   "cell_type": "markdown",
   "id": "331b3c18-dad3-4826-9ee0-ebe260a024de",
   "metadata": {
    "tags": [
     "exo"
    ]
   },
   "source": [
    "**Exercice** : \n",
    "1. Écrire une fonction `swap` pour échanger deux éléments d'un tableau d'entiers.  \n",
    "```c\n",
    "void swap(int* tab, int i, int j);\n",
    "```\n",
    "2. En déduire une fonction `reverse` inversant l'ordre des éléments d'un tableau d'entiers."
   ]
  },
  {
   "cell_type": "markdown",
   "id": "617d3123-5ea3-4e0e-a635-cfaa7ea563a0",
   "metadata": {},
   "source": [
    "## Allocation dynamique de tableau\n",
    "\n",
    "Il est possible de créer un tableau dans le tas avec `malloc` :"
   ]
  },
  {
   "cell_type": "code",
   "execution_count": 14,
   "id": "3fdbb37d-e85b-4702-85f6-21d93d17dfad",
   "metadata": {
    "execution": {
     "iopub.execute_input": "2021-11-23T16:49:39.026785Z",
     "iopub.status.busy": "2021-11-23T16:49:39.026324Z",
     "iopub.status.idle": "2021-11-23T16:49:39.444423Z",
     "shell.execute_reply": "2021-11-23T16:49:39.443952Z"
    }
   },
   "outputs": [
    {
     "data": {
      "text/plain": [
       "42"
      ]
     },
     "execution_count": 14,
     "metadata": {},
     "output_type": "execute_result"
    }
   ],
   "source": [
    "int* p = (int*)malloc(10*sizeof(int)); // création d'un tableau de 10 entiers dans le tas\n",
    "p[0] = 42; // modification du 1er élément"
   ]
  },
  {
   "cell_type": "code",
   "execution_count": 15,
   "id": "34c7c014-bd97-4558-be55-841a95140721",
   "metadata": {
    "execution": {
     "iopub.execute_input": "2021-11-23T16:49:39.446806Z",
     "iopub.status.busy": "2021-11-23T16:49:39.446335Z",
     "iopub.status.idle": "2021-11-23T16:49:39.835879Z",
     "shell.execute_reply": "2021-11-23T16:49:39.835449Z"
    }
   },
   "outputs": [
    {
     "data": {
      "text/plain": [
       "42"
      ]
     },
     "execution_count": 15,
     "metadata": {},
     "output_type": "execute_result"
    }
   ],
   "source": [
    "p[0] // le 1er élément a bien été modifié"
   ]
  },
  {
   "cell_type": "markdown",
   "id": "0480e01e-2b61-4976-81bc-6ef1dab4ed92",
   "metadata": {},
   "source": [
    "On obtient, comme précédément, un pointeur vers le 1er élément du tableau ainsi créé. On peut se servir d'une allocation dynamique pour créer un tableau dont la taille dépend d'une variable :"
   ]
  },
  {
   "cell_type": "code",
   "execution_count": 16,
   "id": "6911e5b8-a764-403b-a0db-bf03b22705b7",
   "metadata": {
    "execution": {
     "iopub.execute_input": "2021-11-23T16:49:39.837940Z",
     "iopub.status.busy": "2021-11-23T16:49:39.837359Z",
     "iopub.status.idle": "2021-11-23T16:49:39.839270Z",
     "shell.execute_reply": "2021-11-23T16:49:39.838841Z"
    }
   },
   "outputs": [],
   "source": [
    "int* range(int n) { // renvoie un tableau contenant 0, ..., n - 1\n",
    "    int* t = (int*)malloc(n*sizeof(int));\n",
    "    for(int i = 0; i < n; i++) {\n",
    "        t[i] = i;\n",
    "    }\n",
    "    return t;\n",
    "}"
   ]
  },
  {
   "cell_type": "code",
   "execution_count": 17,
   "id": "0e553652-6499-4712-9bf3-5fa2ec919356",
   "metadata": {
    "execution": {
     "iopub.execute_input": "2021-11-23T16:49:39.841064Z",
     "iopub.status.busy": "2021-11-23T16:49:39.840611Z",
     "iopub.status.idle": "2021-11-23T16:49:39.844496Z",
     "shell.execute_reply": "2021-11-23T16:49:39.844073Z"
    }
   },
   "outputs": [
    {
     "name": "stdout",
     "output_type": "stream",
     "text": [
      "t[0] = 0\n",
      "t[1] = 1\n",
      "t[2] = 2\n",
      "t[3] = 3\n",
      "t[4] = 4\n"
     ]
    }
   ],
   "source": [
    "int* t = range(5);\n",
    "for(int i = 0; i < 5; i++) {\n",
    "    printf(\"t[%d] = %d\\n\", i, t[i]);\n",
    "}"
   ]
  },
  {
   "cell_type": "markdown",
   "id": "d352328f-12a6-418e-9b17-17022c4e5c52",
   "metadata": {},
   "source": [
    "Sans allocation dynamique, il ne serait pas possible de définir un tableau dont la taille dépend d'une variable (sauf à utiliser des VLA pour *Variable Length Array* qui sont hors programme et dont l'usage est de toute façon déconseillé) :"
   ]
  },
  {
   "cell_type": "code",
   "execution_count": 18,
   "id": "c8cf9580-53db-4e85-8835-3a91a2c29ca8",
   "metadata": {
    "execution": {
     "iopub.execute_input": "2021-11-23T16:49:39.846655Z",
     "iopub.status.busy": "2021-11-23T16:49:39.845714Z",
     "iopub.status.idle": "2021-11-23T16:49:39.857938Z",
     "shell.execute_reply": "2021-11-23T16:49:39.850180Z"
    }
   },
   "outputs": [
    {
     "name": "stderr",
     "output_type": "stream",
     "text": [
      "input_line_35:3:5: error: variable length array declaration not allowed at file scope\n",
      "int t[n]; \n",
      "    ^ ~\n"
     ]
    },
    {
     "ename": "Interpreter Error",
     "evalue": "",
     "output_type": "error",
     "traceback": [
      "Interpreter Error: "
     ]
    }
   ],
   "source": [
    "int n = 5;\n",
    "int t[n]; "
   ]
  },
  {
   "cell_type": "markdown",
   "id": "dce2406e-51f1-4064-ac85-c75082bcbf16",
   "metadata": {},
   "source": [
    "**Exercice**\n",
    "1. Écrire une fonction `copy` de prototype `double* copy(double* t)` renvoyant une copie du tableau en argument, alloué dynamiquement.  \n",
    "2. Pourquoi est-on obligé de créer un nouveau tableau avec `malloc` ici?"
   ]
  }
 ],
 "metadata": {
  "kernelspec": {
   "display_name": "C++14",
   "language": "C++14",
   "name": "xcpp14"
  },
  "language_info": {
   "codemirror_mode": "text/x-c++src",
   "file_extension": ".cpp",
   "mimetype": "text/x-c++src",
   "name": "c++",
   "version": "14"
  }
 },
 "nbformat": 4,
 "nbformat_minor": 5
}

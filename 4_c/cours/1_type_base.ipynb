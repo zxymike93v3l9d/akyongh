{
 "cells": [
  {
   "cell_type": "markdown",
   "id": "00c08b69-46c5-4db8-ba67-542afa2ee8db",
   "metadata": {},
   "source": [
    "# Variables et nombres\n",
    "\n",
    "## Définition de variable\n",
    "\n",
    "De la même façon qu'en OCaml, une variable en C possède un nom, un type et une valeur :"
   ]
  },
  {
   "cell_type": "code",
   "execution_count": 1,
   "id": "47cdce73-392b-4168-aeb6-be622bfdbb32",
   "metadata": {
    "execution": {
     "iopub.execute_input": "2021-11-17T17:37:38.788035Z",
     "iopub.status.busy": "2021-11-17T17:37:38.787500Z",
     "iopub.status.idle": "2021-11-17T17:37:38.788843Z",
     "shell.execute_reply": "2021-11-17T17:37:38.788420Z"
    }
   },
   "outputs": [],
   "source": [
    "int x = 42;  // définition d'une variable de type int (entier), de nom x, de valeur 42"
   ]
  },
  {
   "cell_type": "markdown",
   "id": "b2ccb75e-3379-46a4-b59d-ee5f53d48461",
   "metadata": {},
   "source": [
    "Notons que toutes les instructions en C se terminent par un `;`.  \n",
    "Il est possible de modifier une variable, comme en Python (ou comme les `ref` en OCaml) :"
   ]
  },
  {
   "cell_type": "code",
   "execution_count": 2,
   "id": "014a098d-cf68-4dbb-9ed6-0f8c17aef755",
   "metadata": {
    "execution": {
     "iopub.execute_input": "2021-11-17T17:37:38.790393Z",
     "iopub.status.busy": "2021-11-17T17:37:38.789990Z",
     "iopub.status.idle": "2021-11-17T17:37:39.281739Z",
     "shell.execute_reply": "2021-11-17T17:37:39.281295Z"
    }
   },
   "outputs": [
    {
     "data": {
      "text/plain": [
       "-3"
      ]
     },
     "execution_count": 2,
     "metadata": {},
     "output_type": "execute_result"
    }
   ],
   "source": [
    "x = -3;  // affectation de la valeur -3 à x"
   ]
  },
  {
   "cell_type": "markdown",
   "id": "3a3ad3d7-ad84-403c-bb36-ae6570710e78",
   "metadata": {},
   "source": [
    "## Conversion de type \n",
    "\n",
    "Contrairement à Python, il n'est pas possible de changer le type d'une variable :"
   ]
  },
  {
   "cell_type": "code",
   "execution_count": 3,
   "id": "7f39eb52-774a-4c03-be69-e08c708d148a",
   "metadata": {
    "execution": {
     "iopub.execute_input": "2021-11-17T17:37:39.284483Z",
     "iopub.status.busy": "2021-11-17T17:37:39.284013Z",
     "iopub.status.idle": "2021-11-17T17:37:39.293643Z",
     "shell.execute_reply": "2021-11-17T17:37:39.286851Z"
    }
   },
   "outputs": [
    {
     "name": "stderr",
     "output_type": "stream",
     "text": [
      "input_line_12:2:6: warning: implicit conversion from 'double' to 'int' changes value from 3.14 to 3 [-Wliteral-conversion]\n",
      " x = 3.14;\n",
      "   ~ ^~~~\n"
     ]
    }
   ],
   "source": [
    "x = 3.14;"
   ]
  },
  {
   "cell_type": "markdown",
   "id": "5e28b52e-9335-4236-88fc-3f0883770b85",
   "metadata": {},
   "source": [
    "En fait, l'interpréteur nous donne un *warning* : l'instruction a quand même fonctionné en convertissant implicitement le flottant `3.14` en entier, qui est devenu 3. Les conversions implicites de type sont considérées comme une mauvaise pratique, d'où ce warning.  \n",
    "Il est possible de rendre cette conversion (*casting*) explicite :"
   ]
  },
  {
   "cell_type": "code",
   "execution_count": 4,
   "id": "a2445dd9-387b-4e12-8ef8-1335df1797bb",
   "metadata": {
    "execution": {
     "iopub.execute_input": "2021-11-17T17:37:39.295309Z",
     "iopub.status.busy": "2021-11-17T17:37:39.294867Z",
     "iopub.status.idle": "2021-11-17T17:37:39.651201Z",
     "shell.execute_reply": "2021-11-17T17:37:39.649903Z"
    }
   },
   "outputs": [
    {
     "data": {
      "text/plain": [
       "3"
      ]
     },
     "execution_count": 4,
     "metadata": {},
     "output_type": "execute_result"
    }
   ],
   "source": [
    "x = (int)3.74;  // convertit 3.74 en entier (en prenant la partie entière)"
   ]
  },
  {
   "cell_type": "markdown",
   "id": "c93216e2-092e-4c37-8a57-5beadcca9086",
   "metadata": {},
   "source": [
    "## Représentation des entiers"
   ]
  },
  {
   "cell_type": "markdown",
   "id": "e995e597-35f2-4c70-8ee0-e04d6d34aa61",
   "metadata": {},
   "source": [
    "L'ordinateur ne peut stocker que des 0 et des 1. Les entiers doivent donc être convertis en binaire. Les entiers positifs sont stockés en base 2 :"
   ]
  },
  {
   "cell_type": "markdown",
   "id": "390a2da0-fff9-494c-952e-064d7bfc9dc4",
   "metadata": {
    "tags": []
   },
   "source": [
    "<div style=\"background: ghostwhite; padding: 10px; border: 1px solid black; margin: 10px;\">\n",
    "<center><b>Théorème de décomposition en base b</b></center><br>\n",
    "Soit $n \\in \\mathbb{N}$ et $b \\geq 2$ un entier (la base). Il existe une unique façon d'écrire $n$ comme somme de puissances de $b$. Dit autrement, il existe une unique suite d'entiers $n_0$, ... $n_{p-1}$ telle que :\n",
    "$$n = \\sum_{k=0}^{p-1} n_k b^k$$\n",
    "$$\\forall k \\in \\{0, ..., p - 1\\}, ~0 \\leq n_k < b$$\n",
    "On note $\\boxed{n = {n_{p-1} ... n_1 n_0}_b}$. Lorsqu'on ne spécifie pas la base, il s'agit de la base 10.\n",
    "</div>"
   ]
  },
  {
   "cell_type": "markdown",
   "id": "43c1c375-7b69-4fc7-a829-c07dbeb48d9b",
   "metadata": {},
   "source": [
    "**Exemples de conversion depuis la base 10** : \n",
    "- $11 = \\boldsymbol1\\times 3^2 + \\boldsymbol0\\times 3 + \\boldsymbol2\\times 3^0$  en base $3$ donc $11 = {\\boldsymbol{102}}_3$ \n",
    "- $42 = 32 + 8 + 2 = 2^5 + 2^3 + 2^1$ donc $42 = {101010}_2$\n",
    "\n",
    "**Exemples de conversion vers la base 10** : \n",
    "- ${10011}_2 = 2^4 + 2^1 + 2^0 = 16 + 2 + 1 = 19$\n",
    "- ${304}_5 = 3\\times 5^2 + 4 = 79$"
   ]
  },
  {
   "cell_type": "markdown",
   "id": "199a43a2-c517-4c98-a32f-6b72507116fd",
   "metadata": {
    "tags": [
     "exo"
    ]
   },
   "source": [
    "**Exercice** : Que vaut ${101010}_2 + {10011}_2$ ? On fera tous les calculs en base 2."
   ]
  },
  {
   "cell_type": "markdown",
   "id": "1bc7b477-ba57-49cc-b24e-d9dcd741e2d7",
   "metadata": {
    "tags": [
     "exo"
    ]
   },
   "source": [
    "**Exercice** : Quel est l'entier maximum dont la représentation en base 2 utilise $p$ bits ?"
   ]
  },
  {
   "cell_type": "markdown",
   "id": "a70751c4-4e8f-4196-a3cf-b63b66d8d457",
   "metadata": {},
   "source": [
    "### Entier non signé (`uint`)\n",
    "\n",
    "Un `uint` (*unsigned int* : entier non signé, c'est-à-dire positif) est un entier positif, qui est stocké en mémoire avec sa représentation en base 2 :"
   ]
  },
  {
   "cell_type": "code",
   "execution_count": 5,
   "id": "c938036b-a782-4fba-a4b8-7bdbc9836c0d",
   "metadata": {
    "execution": {
     "iopub.execute_input": "2021-11-17T17:37:39.653076Z",
     "iopub.status.busy": "2021-11-17T17:37:39.652664Z",
     "iopub.status.idle": "2021-11-17T17:37:40.012100Z",
     "shell.execute_reply": "2021-11-17T17:37:40.010877Z"
    }
   },
   "outputs": [
    {
     "data": {
      "text/plain": [
       "42"
      ]
     },
     "execution_count": 5,
     "metadata": {},
     "output_type": "execute_result"
    }
   ],
   "source": [
    "uint x = 42;\n",
    "x // affichage de la valeur de x"
   ]
  },
  {
   "cell_type": "markdown",
   "id": "3eeae7ba-80bd-4836-bb58-11b97d2007b1",
   "metadata": {},
   "source": [
    "On peut connaître le nombre d'octets utilisés par une variable avec la fonction `sizeof` :"
   ]
  },
  {
   "cell_type": "code",
   "execution_count": 6,
   "id": "10279f6b-72aa-4e56-8b5e-0870f9d07e7a",
   "metadata": {
    "execution": {
     "iopub.execute_input": "2021-11-17T17:37:40.014175Z",
     "iopub.status.busy": "2021-11-17T17:37:40.013688Z",
     "iopub.status.idle": "2021-11-17T17:37:40.371855Z",
     "shell.execute_reply": "2021-11-17T17:37:40.370561Z"
    }
   },
   "outputs": [
    {
     "data": {
      "text/plain": [
       "4"
      ]
     },
     "execution_count": 6,
     "metadata": {},
     "output_type": "execute_result"
    }
   ],
   "source": [
    "sizeof(x) // un uint utilise 4 octets ici, c'est à dire 4*8 = 32 bits"
   ]
  },
  {
   "cell_type": "markdown",
   "id": "12ee44d0-dc94-443b-af5c-ff2321ae6556",
   "metadata": {},
   "source": [
    "La plus grande valeur d'un `uint` est donc $2^{32} - 1 = 4294967295$. Si on dépasse, on revient à $0$ :"
   ]
  },
  {
   "cell_type": "code",
   "execution_count": 7,
   "id": "bb9dc4c5-5a43-4025-8eb2-a5da9f092166",
   "metadata": {
    "execution": {
     "iopub.execute_input": "2021-11-17T17:37:40.373732Z",
     "iopub.status.busy": "2021-11-17T17:37:40.373260Z",
     "iopub.status.idle": "2021-11-17T17:37:40.737167Z",
     "shell.execute_reply": "2021-11-17T17:37:40.736046Z"
    }
   },
   "outputs": [
    {
     "name": "stdout",
     "output_type": "stream",
     "text": [
      "4294967295"
     ]
    },
    {
     "data": {
      "text/plain": [
       "0"
      ]
     },
     "execution_count": 7,
     "metadata": {},
     "output_type": "execute_result"
    }
   ],
   "source": [
    "x = 4294967295; // uint maximum\n",
    "printf(\"%u\", x); // affiche x\n",
    "x = x + 1; // x vaut maintenant 0"
   ]
  },
  {
   "cell_type": "markdown",
   "id": "3bfe2535-943a-404e-aa01-c6b27080a206",
   "metadata": {},
   "source": [
    "Il est possible d'utiliser un nombre de bits différents avec, par exemple, `uint16_t` permettant de stocker un entier non signé sur 16 bits (2 octets) :"
   ]
  },
  {
   "cell_type": "code",
   "execution_count": 8,
   "id": "99a808fc-db5f-4ffd-8c7e-378de000a71d",
   "metadata": {
    "execution": {
     "iopub.execute_input": "2021-11-17T17:37:40.739244Z",
     "iopub.status.busy": "2021-11-17T17:37:40.738728Z",
     "iopub.status.idle": "2021-11-17T17:37:41.099939Z",
     "shell.execute_reply": "2021-11-17T17:37:41.098758Z"
    }
   },
   "outputs": [
    {
     "data": {
      "text/plain": [
       "65535"
      ]
     },
     "execution_count": 8,
     "metadata": {},
     "output_type": "execute_result"
    }
   ],
   "source": [
    "uint16_t y = -1; // un uint ne peut pas être négatif \n",
    "                 // -1 est automatiquement convertit en l'entier non signé maximum\n",
    "y // le plus grand uint16 est 2**16 - 1 = 65535"
   ]
  },
  {
   "cell_type": "markdown",
   "id": "d97879b1-2c9f-40c4-ba15-4f450f590b61",
   "metadata": {},
   "source": [
    "### Entier signé (`int`)\n",
    "\n",
    "`int` est un type d'entier qui peut être positif ou négatif.  \n",
    "On pourrait imaginer stocker un `int` en utilisant un bit pour le signe, mais cela rendrait les opérations sur les entiers plus compliqués.  "
   ]
  },
  {
   "cell_type": "markdown",
   "id": "08225a34-52b0-41c1-ae4b-65e2d3b98e5b",
   "metadata": {
    "tags": [
     "thm"
    ]
   },
   "source": [
    "À la place, les `int` sont stockés avec une **représentation par complément à deux**. Soit $p$ le nombre de bits utilisés pour un `int` ($4$ octets, c'est-à-dire $p = 32$ bits en général). Un `int` permet de stocker tout entier $n$ entre $-2^p$ et $2^{p-1} - 1$ : \n",
    "- si $n \\geq 0$, $n$ est stocké en mémoire avec sa représentation en base 2\n",
    "- si $n < 0$, $n$ est stocké en mémoire en utilisant la représentation en base 2 de $2^{p-1} - 1 + n$ (qui est positif)"
   ]
  },
  {
   "cell_type": "code",
   "execution_count": 9,
   "id": "93fec0a6-e041-4322-88a0-ab1f749be352",
   "metadata": {
    "execution": {
     "iopub.execute_input": "2021-11-17T17:37:41.103341Z",
     "iopub.status.busy": "2021-11-17T17:37:41.102417Z",
     "iopub.status.idle": "2021-11-17T17:37:41.103800Z",
     "shell.execute_reply": "2021-11-17T17:37:41.102849Z"
    }
   },
   "outputs": [],
   "source": [
    "int x = -42; // définition d'un int"
   ]
  },
  {
   "cell_type": "markdown",
   "id": "615bc438-931b-4f2f-b24a-48286bc7ca2b",
   "metadata": {},
   "source": [
    "$-42$ est alors stocké en mémoire par la représentation en base $2$ de $2^{32} - 1 - 42$, c'est-à-dire de $4294967253$."
   ]
  },
  {
   "cell_type": "markdown",
   "id": "7fd0be91-c32e-4605-9959-9069585375c7",
   "metadata": {},
   "source": [
    "Il faut faire attention à ne pas dépasser la taille d'un `int` (32 bits par défaut), sinon on revient sur l'entier le plus petit :"
   ]
  },
  {
   "cell_type": "code",
   "execution_count": 10,
   "id": "7a3bc43e-3d32-468d-a478-7c00f8d750cb",
   "metadata": {
    "execution": {
     "iopub.execute_input": "2021-11-17T17:37:41.106034Z",
     "iopub.status.busy": "2021-11-17T17:37:41.105058Z",
     "iopub.status.idle": "2021-11-17T17:37:41.116843Z",
     "shell.execute_reply": "2021-11-17T17:37:41.110132Z"
    }
   },
   "outputs": [
    {
     "name": "stderr",
     "output_type": "stream",
     "text": [
      "input_line_24:4:9: warning: implicit conversion from 'long' to 'int' changes value from 2147483648 to -2147483648 [-Wconstant-conversion]\n",
      "int y = 2147483648; // cet entier ne peut pas être stocké dans un `int`\n",
      "    ~   ^~~~~~~~~~\n"
     ]
    },
    {
     "name": "stdout",
     "output_type": "stream",
     "text": [
      "-2147483648"
     ]
    }
   ],
   "source": [
    "int x = 2147483647; // valeur maximum d'un int (2**31 - 1)\n",
    "printf(\"%d\", x + 1); // donne l'entier minimum (-2**32)\n",
    "int y = 2147483648; // cet entier ne peut pas être stocké dans un `int`"
   ]
  },
  {
   "cell_type": "markdown",
   "id": "3905f288-90e9-4def-9e60-3eebef4e529f",
   "metadata": {},
   "source": [
    "**Remarque** : La taille d'un `uint` ou `int` peut varier suivant le compilateur.  "
   ]
  },
  {
   "cell_type": "markdown",
   "id": "dfcd0513-6702-4a0c-aa16-cd90169f5b6c",
   "metadata": {},
   "source": [
    "De même que pour les `uint`, on peut spécifier la taille d'un `int` avec, par exemple, `int_t8` qui utilise 8 bits en mémoire (1 octet) :"
   ]
  },
  {
   "cell_type": "code",
   "execution_count": 11,
   "id": "48fda8cf-7596-44b3-8782-c419ce32b507",
   "metadata": {
    "execution": {
     "iopub.execute_input": "2021-11-17T17:37:41.118560Z",
     "iopub.status.busy": "2021-11-17T17:37:41.118141Z",
     "iopub.status.idle": "2021-11-17T17:37:41.475125Z",
     "shell.execute_reply": "2021-11-17T17:37:41.473861Z"
    }
   },
   "outputs": [
    {
     "name": "stdout",
     "output_type": "stream",
     "text": [
      "127\n",
      "-128"
     ]
    },
    {
     "data": {
      "text/plain": [
       "4"
      ]
     },
     "execution_count": 11,
     "metadata": {},
     "output_type": "execute_result"
    }
   ],
   "source": [
    "int8_t x = 127; // 127 est la plus grande valeur signée que l'on peut stocker sur 8 bits\n",
    "printf(\"%d\\n\", x);  // affichage de la valeur de x\n",
    "x = x + 1;\n",
    "printf(\"%d\", x);  // dépassement !"
   ]
  },
  {
   "cell_type": "markdown",
   "id": "b1ecd05d-3d32-4de0-8f48-a2a29614b652",
   "metadata": {},
   "source": [
    "## Représentation des flottants"
   ]
  },
  {
   "cell_type": "markdown",
   "id": "77387b61-47d3-4560-a38a-57efec9e489e",
   "metadata": {
    "tags": [
     "thm"
    ]
   },
   "source": [
    "Un `float` en C est typiquement stocké avec 32 bits (4 octets), suivant la [norme IEEE754](https://fr.wikipedia.org/wiki/IEEE_754) qui consiste à l'écrire sous **forme scientifique** avec :\n",
    "- 1 bit pour le <span style=\"color:red\"><b>signe</b></span> (0 pour positif, 1 pour négatif)\n",
    "- 8 bits pour l'<span style=\"color:green\"><b>exposant</b></span> (puissance de 2)\n",
    "- 23 bits pour la <span style=\"color:blue\"><b>mantisse</b></span> (chiffres après la virgule)\n",
    "\n",
    "L'exposant et la mantisse sont stockés en base 2."
   ]
  },
  {
   "cell_type": "markdown",
   "id": "a90cdc29-30a4-476d-a7f0-199bd3ec8cc7",
   "metadata": {},
   "source": [
    "Exemple :  \n",
    "\n",
    "$$\\begin{array}{|c|c|c|c|c|c|c|c|c|c|c|c|}\n",
    "\\hline\n",
    "\\color{red}{\\textbf{1}} & \\color{green}{\\textbf{0}} & ... & \\color{green}{\\textbf{0}} & \\color{green}{\\textbf{1}} & \\color{green}{\\textbf 1} & \\color{blue}{\\textbf 1} & \\color{blue}{\\textbf 0} & \\color{blue}{\\textbf 1} &  \\color{blue}{\\textbf 0} & ... & \\color{blue}{\\textbf 0} \\\\\n",
    "\\hline\n",
    "\\end{array}$$\n",
    "représente : $\\color{red}{\\textbf{-}} 1,\\color{blue}{625} \\times 2^{\\color{green}{\\textbf{3}}}$\n",
    "En effet :\n",
    "- Le 1er bit de signe est égal à $\\color{red}{1}$, donc c'est un nombre négatif\n",
    "- Les 8 bits suivants correspondent à $\\color{green}{0000011}_2 = 2^1 + 2^0 = \\color{green}{\\textbf{3}}$\n",
    "- Les 23 derniers bits correspondent à $0,\\color{blue}{101}_2 = 0,\\color{blue}{625}$"
   ]
  },
  {
   "cell_type": "code",
   "execution_count": 12,
   "id": "19fee790-00e3-4e0d-a446-0dae97fcadfa",
   "metadata": {
    "execution": {
     "iopub.execute_input": "2021-11-17T17:37:41.477003Z",
     "iopub.status.busy": "2021-11-17T17:37:41.476533Z",
     "iopub.status.idle": "2021-11-17T17:37:41.833053Z",
     "shell.execute_reply": "2021-11-17T17:37:41.831808Z"
    }
   },
   "outputs": [
    {
     "data": {
      "text/plain": [
       "4"
      ]
     },
     "execution_count": 12,
     "metadata": {},
     "output_type": "execute_result"
    }
   ],
   "source": [
    "float x = 3.14;  // définition d'un flottant\n",
    "sizeof(x)  // 4 octets"
   ]
  },
  {
   "cell_type": "markdown",
   "id": "f1f18a26-f395-4362-8397-aef06a1bb363",
   "metadata": {},
   "source": [
    "Il existe aussi des `double` (flottant double précision) qui s'utilisent comme des `float` mais en utilisant 64 bits au lieu de 32.\n",
    "\n",
    "**Remarque** : En Python et OCaml les `float` sont stockés sur 64 bits (ce sont donc plutôt des `double`)."
   ]
  },
  {
   "cell_type": "code",
   "execution_count": 13,
   "id": "dd78bf66-8c63-4352-82ec-1ffa49febef5",
   "metadata": {
    "execution": {
     "iopub.execute_input": "2021-11-17T17:37:41.834782Z",
     "iopub.status.busy": "2021-11-17T17:37:41.834366Z",
     "iopub.status.idle": "2021-11-17T17:37:42.192665Z",
     "shell.execute_reply": "2021-11-17T17:37:42.191418Z"
    }
   },
   "outputs": [
    {
     "data": {
      "text/plain": [
       "8"
      ]
     },
     "execution_count": 13,
     "metadata": {},
     "output_type": "execute_result"
    }
   ],
   "source": [
    "double x = 3.14;\n",
    "sizeof(x)  // 8 octets soit 64 bits"
   ]
  },
  {
   "cell_type": "markdown",
   "id": "3172ac26-4731-4e31-af8d-5bcec235d37f",
   "metadata": {},
   "source": [
    "## Opérations numériques\n",
    "\n",
    "Les opérations sur les nombres sont pour la plupart similaires à Python et OCaml :"
   ]
  },
  {
   "cell_type": "code",
   "execution_count": 14,
   "id": "f9fbd951-1e9a-454e-9f2c-8abda610de70",
   "metadata": {
    "execution": {
     "iopub.execute_input": "2021-11-17T17:37:42.194514Z",
     "iopub.status.busy": "2021-11-17T17:37:42.194043Z",
     "iopub.status.idle": "2021-11-17T17:37:42.197561Z",
     "shell.execute_reply": "2021-11-17T17:37:42.196618Z"
    }
   },
   "outputs": [
    {
     "name": "stdout",
     "output_type": "stream",
     "text": [
      "5 6 -1 "
     ]
    }
   ],
   "source": [
    "printf(\"%d \", 2+3);\n",
    "printf(\"%d \", 2*3);\n",
    "printf(\"%d \", 2-3);"
   ]
  },
  {
   "cell_type": "markdown",
   "id": "b2f893b8-9e79-4200-991e-203dfcab8403",
   "metadata": {},
   "source": [
    "Le comportement de `/` est différent suivant que les opérandes soient entiers ou flottants :"
   ]
  },
  {
   "cell_type": "code",
   "execution_count": 15,
   "id": "73cf3a07-ada3-49dd-a910-87fdccb292a5",
   "metadata": {
    "execution": {
     "iopub.execute_input": "2021-11-17T17:37:42.200129Z",
     "iopub.status.busy": "2021-11-17T17:37:42.199714Z",
     "iopub.status.idle": "2021-11-17T17:37:42.556635Z",
     "shell.execute_reply": "2021-11-17T17:37:42.555362Z"
    }
   },
   "outputs": [
    {
     "data": {
      "text/plain": [
       "2"
      ]
     },
     "execution_count": 15,
     "metadata": {},
     "output_type": "execute_result"
    }
   ],
   "source": [
    "7/3  // division entière (quotient de la division euclidienne de 7 par 3)"
   ]
  },
  {
   "cell_type": "code",
   "execution_count": 16,
   "id": "036bb3e4-5560-4be4-94d9-a27f40b2d7ca",
   "metadata": {
    "execution": {
     "iopub.execute_input": "2021-11-17T17:37:42.558576Z",
     "iopub.status.busy": "2021-11-17T17:37:42.558096Z",
     "iopub.status.idle": "2021-11-17T17:37:42.917572Z",
     "shell.execute_reply": "2021-11-17T17:37:42.917129Z"
    }
   },
   "outputs": [
    {
     "data": {
      "text/plain": [
       "2.3333333"
      ]
     },
     "execution_count": 16,
     "metadata": {},
     "output_type": "execute_result"
    }
   ],
   "source": [
    "7./3.  // division flottante"
   ]
  },
  {
   "cell_type": "markdown",
   "id": "39c13756-3fe6-48fe-bf35-dc32f7cd3817",
   "metadata": {},
   "source": [
    "`%` permet de calculer le modulo (reste de la division euclidienne) :"
   ]
  },
  {
   "cell_type": "code",
   "execution_count": 17,
   "id": "6ec42cf3-4c10-453a-ae76-5112a4d9db39",
   "metadata": {
    "execution": {
     "iopub.execute_input": "2021-11-17T17:37:42.920240Z",
     "iopub.status.busy": "2021-11-17T17:37:42.919765Z",
     "iopub.status.idle": "2021-11-17T17:37:43.283568Z",
     "shell.execute_reply": "2021-11-17T17:37:43.282817Z"
    }
   },
   "outputs": [
    {
     "data": {
      "text/plain": [
       "1"
      ]
     },
     "execution_count": 17,
     "metadata": {},
     "output_type": "execute_result"
    }
   ],
   "source": [
    "7 % 3"
   ]
  },
  {
   "cell_type": "markdown",
   "id": "cc8710f9-c548-42fc-a642-5fce21e9aa12",
   "metadata": {},
   "source": [
    "Comparaison OCaml / C / Python :\n",
    "\n",
    "|                   | OCaml |  C  | Python |\n",
    "|:-----------------:|:-----:|:---:|:------:|\n",
    "| Quotient flottant |  `/.` | `/` |   `/`  |\n",
    "|  Quotient entier  |  `/`  | `/` |  `//`  |\n",
    "|       Modulo      | `mod` | `%` |   `%`  |"
   ]
  },
  {
   "cell_type": "markdown",
   "id": "cccf0997-fa0a-4fc8-b287-ebfd243927a8",
   "metadata": {},
   "source": [
    "## Opérations bit à bit\n",
    "\n",
    "`&` permet de faire le **et binaire** de 2 entiers : a & b donne un entier dont le $i$ème bit est à 1 si les $i$ème bits de a et b sont à 1, 0 sinon.  \n",
    "\n",
    "Exemple : si a = 13 = 1101$_2$ et b = 25 = 11001$_2$ alors a & b = 1001$_2$ = 9. En effet :"
   ]
  },
  {
   "cell_type": "code",
   "execution_count": 18,
   "id": "c7157ebe-7973-4b0f-9d95-eee40dfccd7a",
   "metadata": {
    "execution": {
     "iopub.execute_input": "2021-11-17T17:37:43.285124Z",
     "iopub.status.busy": "2021-11-17T17:37:43.284756Z",
     "iopub.status.idle": "2021-11-17T17:37:43.641895Z",
     "shell.execute_reply": "2021-11-17T17:37:43.640677Z"
    }
   },
   "outputs": [
    {
     "data": {
      "text/plain": [
       "9"
      ]
     },
     "execution_count": 18,
     "metadata": {},
     "output_type": "execute_result"
    }
   ],
   "source": [
    "13 & 25"
   ]
  },
  {
   "cell_type": "markdown",
   "id": "b1576065-0310-4309-947e-da91e623766e",
   "metadata": {},
   "source": [
    "De façon similaire, le **ou binaire** de deux entiers s'utilise avec `|`. Le $i$ème bit est égal à 1 si et seulement si au moins l'un des deux bits correspondants est égal à 1.  \n",
    "Par exemple, 13 | 25 = 1101$_2$ | 11001$_2$ = 11101$_2$ = 29 :"
   ]
  },
  {
   "cell_type": "code",
   "execution_count": 19,
   "id": "a53301f3-9ef8-4e53-ba08-2e40ce6e375f",
   "metadata": {
    "execution": {
     "iopub.execute_input": "2021-11-17T17:37:43.643638Z",
     "iopub.status.busy": "2021-11-17T17:37:43.643263Z",
     "iopub.status.idle": "2021-11-17T17:37:44.002765Z",
     "shell.execute_reply": "2021-11-17T17:37:44.001643Z"
    }
   },
   "outputs": [
    {
     "data": {
      "text/plain": [
       "29"
      ]
     },
     "execution_count": 19,
     "metadata": {},
     "output_type": "execute_result"
    }
   ],
   "source": [
    "13 | 25"
   ]
  },
  {
   "cell_type": "markdown",
   "id": "a484d319-2553-4004-869d-ffe09476ef92",
   "metadata": {},
   "source": [
    "Le **ou exclusif binaire** de deux entiers s'utilise avec `^`. Le $i$ème bit est égal à 1 si et seulement si les deux bits correspondants sont différents.  \n",
    "Par exemple, 13 ^ 25 = 1101$_2$ ^ 11001$_2$ = 10100$_2$ = 20 :"
   ]
  },
  {
   "cell_type": "code",
   "execution_count": 20,
   "id": "2a2c1b02-8261-4c95-a547-5f42d7fb277a",
   "metadata": {
    "execution": {
     "iopub.execute_input": "2021-11-17T17:37:44.004422Z",
     "iopub.status.busy": "2021-11-17T17:37:44.004013Z",
     "iopub.status.idle": "2021-11-17T17:37:44.371447Z",
     "shell.execute_reply": "2021-11-17T17:37:44.370124Z"
    }
   },
   "outputs": [
    {
     "data": {
      "text/plain": [
       "20"
      ]
     },
     "execution_count": 20,
     "metadata": {},
     "output_type": "execute_result"
    }
   ],
   "source": [
    "13 ^ 25"
   ]
  },
  {
   "cell_type": "markdown",
   "id": "f5d2df93-ef2d-437d-abb2-3f22fb6e5f2e",
   "metadata": {},
   "source": [
    "**Remarque** : ces opérations bit à bit fonctionnent aussi en Python."
   ]
  },
  {
   "cell_type": "markdown",
   "id": "54157de6-79d6-4d89-861a-bd85e02a4c88",
   "metadata": {
    "tags": [
     "exo"
    ]
   },
   "source": [
    "**Exercice** : Calculer à la main 29 & 23, 29 | 23 et 29 ^ 23 puis vérifier."
   ]
  }
 ],
 "metadata": {
  "kernelspec": {
   "display_name": "C++14",
   "language": "C++14",
   "name": "xcpp14"
  },
  "language_info": {
   "codemirror_mode": "text/x-c++src",
   "file_extension": ".cpp",
   "mimetype": "text/x-c++src",
   "name": "c++",
   "version": "14"
  }
 },
 "nbformat": 4,
 "nbformat_minor": 5
}

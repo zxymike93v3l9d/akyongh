{
 "cells": [
  {
   "cell_type": "markdown",
   "id": "00c08b69-46c5-4db8-ba67-542afa2ee8db",
   "metadata": {},
   "source": [
    "# Variables et représentation des nombres\n",
    "\n",
    "## Définition de variable\n",
    "\n",
    "De la même façon qu'en OCaml, une variable en C possède un nom, un type et une valeur :"
   ]
  },
  {
   "cell_type": "code",
   "execution_count": null,
   "id": "47cdce73-392b-4168-aeb6-be622bfdbb32",
   "metadata": {},
   "outputs": [],
   "source": [
    "int x = 42;  // définition d'une variable de type int (entier), de nom x, de valeur 42"
   ]
  },
  {
   "cell_type": "markdown",
   "id": "b2ccb75e-3379-46a4-b59d-ee5f53d48461",
   "metadata": {},
   "source": [
    "Notons que toutes les instructions en C se terminent par un `;`.  \n",
    "Il est possible de modifier une variable, comme en Python (ou comme les `ref` en OCaml) :"
   ]
  },
  {
   "cell_type": "code",
   "execution_count": null,
   "id": "014a098d-cf68-4dbb-9ed6-0f8c17aef755",
   "metadata": {},
   "outputs": [],
   "source": [
    "x = -3;  // affectation de la valeur -3 à x"
   ]
  },
  {
   "cell_type": "markdown",
   "id": "3a3ad3d7-ad84-403c-bb36-ae6570710e78",
   "metadata": {},
   "source": [
    "## Conversion de type \n",
    "\n",
    "Contrairement à Python, il n'est pas possible de changer le type d'une variable :"
   ]
  },
  {
   "cell_type": "code",
   "execution_count": null,
   "id": "7f39eb52-774a-4c03-be69-e08c708d148a",
   "metadata": {},
   "outputs": [],
   "source": [
    "x = 3.14;"
   ]
  },
  {
   "cell_type": "markdown",
   "id": "5e28b52e-9335-4236-88fc-3f0883770b85",
   "metadata": {},
   "source": [
    "En fait, l'interpréteur nous donne un *warning* : l'instruction a quand même fonctionné en convertissant implicitement le flottant `3.14` en entier, qui est devenu 3. Les conversions implicites de type sont considérées comme une mauvaise pratique, d'où ce warning.  \n",
    "Il est possible de rendre cette conversion (*casting*) explicite :"
   ]
  },
  {
   "cell_type": "code",
   "execution_count": null,
   "id": "a2445dd9-387b-4e12-8ef8-1335df1797bb",
   "metadata": {},
   "outputs": [],
   "source": [
    "x = (int)3.74;  // convertit 3.74 en entier (en prenant la partie entière)"
   ]
  },
  {
   "cell_type": "markdown",
   "id": "c93216e2-092e-4c37-8a57-5beadcca9086",
   "metadata": {},
   "source": [
    "## Représentation des entiers"
   ]
  },
  {
   "cell_type": "markdown",
   "id": "e995e597-35f2-4c70-8ee0-e04d6d34aa61",
   "metadata": {},
   "source": [
    "L'ordinateur ne peut stocker que des 0 et des 1. Les entiers doivent donc être convertis en binaire. Les entiers positifs sont stockés en base 2 :"
   ]
  },
  {
   "cell_type": "markdown",
   "id": "390a2da0-fff9-494c-952e-064d7bfc9dc4",
   "metadata": {
    "tags": []
   },
   "source": [
    "<div style=\"background: ghostwhite; \n",
    "            padding: 10px; \n",
    "            border: 1px solid lightgray; \n",
    "            margin: 10px;\">\n",
    "<b>Théorème de décomposition en base b</b><br>\n",
    "Soit $n \\in \\mathbb{N}$ et $b \\geq 2$ un entier (la base). Il existe une unique façon d'écrire $n$ comme somme de puissances de $b$. Dit autrement, il existe une unique suite d'entiers $n_0$, ... $n_{p-1}$ telle que :\n",
    "$$n = \\sum_{k=0}^{p-1} n_k b^k$$\n",
    "$$\\forall k \\in \\{0, ..., p - 1\\}, ~0 \\leq n_k < b$$\n",
    "On note $n = \\overline{n_{p-1} ... n_1 n_0}^b$. Lorsqu'on ne spécifie pas la base, il s'agit de la base 10.\n",
    "</div>"
   ]
  },
  {
   "cell_type": "markdown",
   "id": "43c1c375-7b69-4fc7-a829-c07dbeb48d9b",
   "metadata": {},
   "source": [
    "**Exemples de conversion depuis la base 10** : \n",
    "- $11 = \\boldsymbol1\\times 3^2 + \\boldsymbol0\\times 3 + \\boldsymbol2\\times 0$  en base $3$ donc $11 = \\overline{\\boldsymbol{102}}^3$ \n",
    "- $42 = 32 + 8 + 2 = 2^5 + 2^3 + 2^1$ donc $42 = \\overline{101010}^2$\n",
    "\n",
    "**Exemples de conversion vers la base 10** : \n",
    "- $\\overline{10011}^2 = 2^4 + 2^1 + 2^0 = 16 + 2 + 1 = 19$\n",
    "- $\\overline{304}^5 = 3\\times 5^2 + 4 = 79$"
   ]
  },
  {
   "cell_type": "markdown",
   "id": "199a43a2-c517-4c98-a32f-6b72507116fd",
   "metadata": {
    "tags": [
     "exo"
    ]
   },
   "source": [
    "**Exercice** : Que vaut $\\overline{101010}^2 + \\overline{10011}^2$ ? On fera tous les calculs en base 2."
   ]
  },
  {
   "cell_type": "markdown",
   "id": "1bc7b477-ba57-49cc-b24e-d9dcd741e2d7",
   "metadata": {
    "tags": [
     "exo"
    ]
   },
   "source": [
    "**Exercice** : quel est l'entier maximum dont la représentation en base 2 utilise $p$ bits ?"
   ]
  },
  {
   "cell_type": "markdown",
   "id": "a70751c4-4e8f-4196-a3cf-b63b66d8d457",
   "metadata": {},
   "source": [
    "### Entier non signé (`uint`)\n",
    "\n",
    "Un `uint` (*unsigned int* : entier non signé, c'est-à-dire positif) est un entier positif, qui est stocké en mémoire avec sa représentation en base 2 :"
   ]
  },
  {
   "cell_type": "code",
   "execution_count": null,
   "id": "c938036b-a782-4fba-a4b8-7bdbc9836c0d",
   "metadata": {},
   "outputs": [],
   "source": [
    "uint x = 42;\n",
    "x // affichage de la valeur de x"
   ]
  },
  {
   "cell_type": "markdown",
   "id": "3eeae7ba-80bd-4836-bb58-11b97d2007b1",
   "metadata": {},
   "source": [
    "On peut connaître le nombre d'octets utilisés par une variable avec la fonction `sizeof` :"
   ]
  },
  {
   "cell_type": "code",
   "execution_count": null,
   "id": "10279f6b-72aa-4e56-8b5e-0870f9d07e7a",
   "metadata": {},
   "outputs": [],
   "source": [
    "sizeof(x) // un uint utilise 4 octets ici, c'est à dire 4*8 = 32 bits"
   ]
  },
  {
   "cell_type": "markdown",
   "id": "12ee44d0-dc94-443b-af5c-ff2321ae6556",
   "metadata": {},
   "source": [
    "La plus grande valeur d'un `uint` est donc $2^{32} - 1 = 4294967295$. Si on dépasse, on revient à $0$ :"
   ]
  },
  {
   "cell_type": "code",
   "execution_count": null,
   "id": "bb9dc4c5-5a43-4025-8eb2-a5da9f092166",
   "metadata": {},
   "outputs": [],
   "source": [
    "x = 4294967295; // uint maximum\n",
    "printf(\"%u\", x); // affiche x\n",
    "x = x + 1; // x vaut maintenant 0"
   ]
  },
  {
   "cell_type": "markdown",
   "id": "3bfe2535-943a-404e-aa01-c6b27080a206",
   "metadata": {},
   "source": [
    "Il est possible d'utiliser un nombre de bits différents avec, par exemple, `uint16_t` permettant de stocker un entier non signé sur 16 bits (2 octets) :"
   ]
  },
  {
   "cell_type": "code",
   "execution_count": null,
   "id": "99a808fc-db5f-4ffd-8c7e-378de000a71d",
   "metadata": {},
   "outputs": [],
   "source": [
    "uint16_t y = -1; // un uint ne peut pas être négatif \n",
    "                 // -1 est automatiquement convertit en l'entier non signé maximum\n",
    "y // le plus grand uint16 est 2**16 - 1 = 65535"
   ]
  },
  {
   "cell_type": "markdown",
   "id": "d97879b1-2c9f-40c4-ba15-4f450f590b61",
   "metadata": {},
   "source": [
    "### Entier signé (`int`)\n",
    "\n",
    "`int` est un type d'entier qui peut être positif ou négatif.  \n",
    "On pourrait imaginer stocker un `int` en utilisant un bit pour le signe, mais cela rendrait les opérations sur les entiers plus compliqués.  "
   ]
  },
  {
   "cell_type": "markdown",
   "id": "08225a34-52b0-41c1-ae4b-65e2d3b98e5b",
   "metadata": {
    "tags": [
     "thm"
    ]
   },
   "source": [
    "À la place, les `int` sont stockés avec une **représentation par complément à deux**. Soit $p$ le nombre de bits utilisés pour un `int` ($4$ octets, c'est-à-dire $p = 32$ bits en général). Un `int` permet de stocker tout entier $n$ entre $-2^p$ et $2^{p-1} - 1$ : \n",
    "- si $n \\geq 0$, $n$ est stocké en mémoire avec sa représentation en base 2\n",
    "- si $n < 0$, $n$ est stocké en mémoire en utilisant la représentation en base 2 de $2^{p-1} - 1 + n$ (qui est positif)"
   ]
  },
  {
   "cell_type": "code",
   "execution_count": null,
   "id": "93fec0a6-e041-4322-88a0-ab1f749be352",
   "metadata": {},
   "outputs": [],
   "source": [
    "int x = -42; // définition d'un int"
   ]
  },
  {
   "cell_type": "markdown",
   "id": "615bc438-931b-4f2f-b24a-48286bc7ca2b",
   "metadata": {},
   "source": [
    "$-42$ est alors stocké en mémoire par la représentation en base $2$ de $2^{32} - 1 - 42$, c'est-à-dire de $4294967253$."
   ]
  },
  {
   "cell_type": "markdown",
   "id": "7fd0be91-c32e-4605-9959-9069585375c7",
   "metadata": {},
   "source": [
    "Il faut faire attention à ne pas dépasser la taille d'un `int` (32 bits par défaut), sinon on revient sur l'entier le plus petit :"
   ]
  },
  {
   "cell_type": "code",
   "execution_count": null,
   "id": "7a3bc43e-3d32-468d-a478-7c00f8d750cb",
   "metadata": {},
   "outputs": [],
   "source": [
    "int x = 2147483647; // valeur maximum d'un int (2**31 - 1)\n",
    "printf(\"%d\", x + 1); // donne l'entier minimum (-2**32)\n",
    "int y = 2147483648; // cet entier ne peut pas être stocké dans un `int`"
   ]
  },
  {
   "cell_type": "markdown",
   "id": "3905f288-90e9-4def-9e60-3eebef4e529f",
   "metadata": {},
   "source": [
    "**Remarque** : La taille d'un `uint` ou `int` peut varier suivant le compilateur.  "
   ]
  },
  {
   "cell_type": "markdown",
   "id": "dfcd0513-6702-4a0c-aa16-cd90169f5b6c",
   "metadata": {},
   "source": [
    "De même que pour les `uint`, on peut spécifier la taille d'un `int` avec, par exemple, `int_t8` qui utilise 8 bits en mémoire (1 octet) :"
   ]
  },
  {
   "cell_type": "code",
   "execution_count": null,
   "id": "48fda8cf-7596-44b3-8782-c419ce32b507",
   "metadata": {},
   "outputs": [],
   "source": [
    "int8_t x = 127; // 127 est la plus grande valeur signée que l'on peut stocker sur 8 bits\n",
    "printf(\"%d\\n\", x);  // affichage de la valeur de x\n",
    "x = x + 1;\n",
    "printf(\"%d\", x);  // dépassement !"
   ]
  },
  {
   "cell_type": "code",
   "execution_count": null,
   "id": "5c04cd9a-adc4-42d4-b23d-975a1f74cd87",
   "metadata": {},
   "outputs": [],
   "source": [
    "sizeof(int8_t)"
   ]
  },
  {
   "cell_type": "code",
   "execution_count": null,
   "id": "fcf36c7d-da90-40b6-8161-68f202f5692b",
   "metadata": {},
   "outputs": [],
   "source": [
    "int16_t x;"
   ]
  },
  {
   "cell_type": "code",
   "execution_count": null,
   "id": "4e76a4b7-39f3-46ba-b854-c2d825257e31",
   "metadata": {},
   "outputs": [],
   "source": []
  }
 ],
 "metadata": {
  "kernelspec": {
   "display_name": "C++14",
   "language": "C",
   "name": "xcpp14"
  },
  "language_info": {
   "codemirror_mode": "text/x-c++src",
   "file_extension": ".cpp",
   "mimetype": "text/x-c++src",
   "name": "c++",
   "version": "14"
  }
 },
 "nbformat": 4,
 "nbformat_minor": 5
}

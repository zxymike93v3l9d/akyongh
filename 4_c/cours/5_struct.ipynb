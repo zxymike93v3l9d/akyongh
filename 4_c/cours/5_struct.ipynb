{
 "cells": [
  {
   "cell_type": "markdown",
   "id": "4a6862a1-8a2d-42b3-9c8d-ca6f7617a745",
   "metadata": {
    "tags": []
   },
   "source": [
    "# <center><a href='https://mybinder.org/v2/gh/fortierq/binder-mp2i/main?urlpath=git-pull%3Frepo%3Dhttps%253A%252F%252Fgithub.com%252Fmp2i-fsm%252Fmp2i-2021%26urlpath%3Dlab%252Ftree%252Fmp2i-2021%252F4_c%252Fcours%252F5_struct.ipynb%26branch%3Dmain'>Structures                                   <img src=https://mybinder.org/badge.svg></a></center>\n",
    "\n",
    "## Utilisation\n",
    "\n",
    "Une structure est un regroupement de variables (des attributs) et s'utilise de la façon suivante :"
   ]
  },
  {
   "cell_type": "code",
   "execution_count": 1,
   "id": "e8eece3c-89b2-4bb8-98fb-8dd8c11d8785",
   "metadata": {
    "execution": {
     "iopub.execute_input": "2021-12-05T09:42:36.560415Z",
     "iopub.status.busy": "2021-12-05T09:42:36.559607Z",
     "iopub.status.idle": "2021-12-05T09:42:36.561572Z",
     "shell.execute_reply": "2021-12-05T09:42:36.561018Z"
    }
   },
   "outputs": [],
   "source": [
    "struct nom_structure { // définition d'un type nom_structure\n",
    "    // objets dans la structures\n",
    "};\n",
    "\n",
    "struct nom_structure x; // variable x de type nom_structure"
   ]
  },
  {
   "cell_type": "markdown",
   "id": "d8acc00c-ef32-468e-ac10-2d13d9d4e57d",
   "metadata": {},
   "source": [
    "Pour éviter d'écrire `struct nom_structure` à chaque définition de variable, on peut écrire à la place :"
   ]
  },
  {
   "cell_type": "code",
   "execution_count": 2,
   "id": "9f595d81-67c4-45fd-8d3a-c60c5ff21823",
   "metadata": {
    "execution": {
     "iopub.execute_input": "2021-12-05T09:42:36.563687Z",
     "iopub.status.busy": "2021-12-05T09:42:36.563065Z",
     "iopub.status.idle": "2021-12-05T09:42:36.564732Z",
     "shell.execute_reply": "2021-12-05T09:42:36.564251Z"
    }
   },
   "outputs": [],
   "source": [
    "typedef struct nom_structure { // définition d'un type nom_structure\n",
    "    // objets dans la structures\n",
    "} nom_structure;"
   ]
  },
  {
   "cell_type": "markdown",
   "id": "d980f1c3-3a4c-4b55-a4a3-ba6dc1a728c0",
   "metadata": {},
   "source": [
    "Exemple concret :"
   ]
  },
  {
   "cell_type": "code",
   "execution_count": 3,
   "id": "e71980d4-ef65-4040-9d29-8b80efb709a5",
   "metadata": {
    "execution": {
     "iopub.execute_input": "2021-12-05T09:42:36.566809Z",
     "iopub.status.busy": "2021-12-05T09:42:36.566157Z",
     "iopub.status.idle": "2021-12-05T09:42:36.567889Z",
     "shell.execute_reply": "2021-12-05T09:42:36.567392Z"
    }
   },
   "outputs": [],
   "source": [
    "typedef struct humain {\n",
    "    int age; \n",
    "    float taille; // en m\n",
    "    float poids; // en kg\n",
    "} humain;"
   ]
  },
  {
   "cell_type": "markdown",
   "id": "82b41c58-1e7f-4429-8d54-fcd3dcd23eb5",
   "metadata": {},
   "source": [
    "Voici comment créer une variable de ce type et modifier ses attributs :"
   ]
  },
  {
   "cell_type": "code",
   "execution_count": 4,
   "id": "eebce777-7786-4756-9b2c-9f4a58d2601d",
   "metadata": {
    "execution": {
     "iopub.execute_input": "2021-12-05T09:42:36.569814Z",
     "iopub.status.busy": "2021-12-05T09:42:36.569267Z",
     "iopub.status.idle": "2021-12-05T09:42:37.221052Z",
     "shell.execute_reply": "2021-12-05T09:42:37.220495Z"
    }
   },
   "outputs": [
    {
     "data": {
      "text/plain": [
       "0.00000f"
      ]
     },
     "execution_count": 4,
     "metadata": {},
     "output_type": "execute_result"
    }
   ],
   "source": [
    "humain h1;\n",
    "h1.taille"
   ]
  },
  {
   "cell_type": "code",
   "execution_count": 5,
   "id": "cdc5b44f-9084-4a4f-b415-200b505dd313",
   "metadata": {
    "execution": {
     "iopub.execute_input": "2021-12-05T09:42:37.223246Z",
     "iopub.status.busy": "2021-12-05T09:42:37.222650Z",
     "iopub.status.idle": "2021-12-05T09:42:37.225456Z",
     "shell.execute_reply": "2021-12-05T09:42:37.224927Z"
    }
   },
   "outputs": [],
   "source": [
    "humain h; // définition d'une variable h de type humain\n",
    "h.age = 20; // modifier l'attribut age de h\n",
    "h.poids = 70.;\n",
    "h.taille = 1.75;"
   ]
  },
  {
   "cell_type": "code",
   "execution_count": 6,
   "id": "b5eb51fd-573a-45c6-9df8-9a4b2f642118",
   "metadata": {
    "execution": {
     "iopub.execute_input": "2021-12-05T09:42:37.227493Z",
     "iopub.status.busy": "2021-12-05T09:42:37.226853Z",
     "iopub.status.idle": "2021-12-05T09:42:37.688084Z",
     "shell.execute_reply": "2021-12-05T09:42:37.686712Z"
    }
   },
   "outputs": [
    {
     "data": {
      "text/plain": [
       "20"
      ]
     },
     "execution_count": 6,
     "metadata": {},
     "output_type": "execute_result"
    }
   ],
   "source": [
    "h.age // obtenir l'attribut age de h"
   ]
  },
  {
   "cell_type": "markdown",
   "id": "9e2894ca-ecdf-4d74-8ccc-822badd14291",
   "metadata": {},
   "source": [
    "## Initialisation \n",
    "\n",
    "On peut aussi initialiser une structure en donnant une valeur pour chaque attribut, entre accolades :"
   ]
  },
  {
   "cell_type": "code",
   "execution_count": 7,
   "id": "b2416d47-dcf1-4482-a551-de6a0c41581b",
   "metadata": {
    "execution": {
     "iopub.execute_input": "2021-12-05T09:42:37.692475Z",
     "iopub.status.busy": "2021-12-05T09:42:37.691187Z",
     "iopub.status.idle": "2021-12-05T09:42:37.693708Z",
     "shell.execute_reply": "2021-12-05T09:42:37.691774Z"
    }
   },
   "outputs": [],
   "source": [
    "humain h = {.taille = 175, .poids = 70, .age = 20}"
   ]
  },
  {
   "cell_type": "markdown",
   "id": "e5ecd837-0cd5-4a41-a2b4-ef5e62b10cad",
   "metadata": {},
   "source": [
    "Ou même sans spécifier les attributs (en les mettant dans l'ordre) :"
   ]
  },
  {
   "cell_type": "code",
   "execution_count": 8,
   "id": "210d5aea-d2e1-4229-ab89-d21bfa3cf584",
   "metadata": {
    "execution": {
     "iopub.execute_input": "2021-12-05T09:42:37.696844Z",
     "iopub.status.busy": "2021-12-05T09:42:37.696174Z",
     "iopub.status.idle": "2021-12-05T09:42:37.697897Z",
     "shell.execute_reply": "2021-12-05T09:42:37.697385Z"
    }
   },
   "outputs": [],
   "source": [
    "humain h = {20, 70, 1.75}"
   ]
  },
  {
   "cell_type": "markdown",
   "id": "ada4eaad-92eb-46f2-b81b-edc2092a37f4",
   "metadata": {},
   "source": [
    "Une `struct` ressemble donc beaucoup aux type enregistrements (*record*) en OCaml. Voici l'équivalent en OCaml :\n",
    "```ocaml\n",
    "type humain = {age : int; taille : float; poids : float; nom : string};;\n",
    "let h = {age = 20; taille = 175; poids = 70};;\n",
    "h.age (* donne 20 *)\n",
    "```"
   ]
  },
  {
   "cell_type": "markdown",
   "id": "c4d1bbb2-9bb5-4776-8b77-9b86c96359a4",
   "metadata": {},
   "source": [
    "## Structures et pointeurs\n",
    "\n",
    "Il est possible de définir un pointeur sur une structure :"
   ]
  },
  {
   "cell_type": "code",
   "execution_count": 9,
   "id": "bb8308cf-8c80-47c9-8ee0-60d83d0c60df",
   "metadata": {
    "execution": {
     "iopub.execute_input": "2021-12-05T09:42:37.700599Z",
     "iopub.status.busy": "2021-12-05T09:42:37.699945Z",
     "iopub.status.idle": "2021-12-05T09:42:37.701640Z",
     "shell.execute_reply": "2021-12-05T09:42:37.701125Z"
    }
   },
   "outputs": [],
   "source": [
    "humain* p = &h;"
   ]
  },
  {
   "cell_type": "markdown",
   "id": "0d1cecac-8fe5-438d-b374-3e6f5fed9706",
   "metadata": {},
   "source": [
    "`*p` est alors une structure, et on peut accéder à ses attributs avec `(*p).` :"
   ]
  },
  {
   "cell_type": "code",
   "execution_count": 10,
   "id": "ae244c8a-38f1-4b45-b307-47ea8535dc58",
   "metadata": {
    "execution": {
     "iopub.execute_input": "2021-12-05T09:42:37.704074Z",
     "iopub.status.busy": "2021-12-05T09:42:37.703361Z",
     "iopub.status.idle": "2021-12-05T09:42:38.171761Z",
     "shell.execute_reply": "2021-12-05T09:42:38.170440Z"
    }
   },
   "outputs": [
    {
     "data": {
      "text/plain": [
       "20"
      ]
     },
     "execution_count": 10,
     "metadata": {},
     "output_type": "execute_result"
    }
   ],
   "source": [
    "(*p).age"
   ]
  },
  {
   "cell_type": "markdown",
   "id": "7a8d6399-b803-43f9-a7a9-dc612e8aa683",
   "metadata": {},
   "source": [
    "Il existe une notation plus pratique pour faire la même chose :"
   ]
  },
  {
   "cell_type": "code",
   "execution_count": 11,
   "id": "7047c6a2-3087-413f-9ae4-fa8a9b125381",
   "metadata": {
    "execution": {
     "iopub.execute_input": "2021-12-05T09:42:38.174041Z",
     "iopub.status.busy": "2021-12-05T09:42:38.173277Z",
     "iopub.status.idle": "2021-12-05T09:42:38.640851Z",
     "shell.execute_reply": "2021-12-05T09:42:38.640297Z"
    }
   },
   "outputs": [
    {
     "data": {
      "text/plain": [
       "20"
      ]
     },
     "execution_count": 11,
     "metadata": {},
     "output_type": "execute_result"
    }
   ],
   "source": [
    "p->age  // attribut age de la struct pointée par p"
   ]
  },
  {
   "cell_type": "markdown",
   "id": "8d8ec6a4-84aa-4fcf-ba00-18b9cf2db7ba",
   "metadata": {},
   "source": [
    "Il est aussi possible de créer une variable de type `humain` dans le tas, avec `malloc` :"
   ]
  },
  {
   "cell_type": "code",
   "execution_count": 12,
   "id": "e88b0279-04b3-4582-b84e-adc7d85652c8",
   "metadata": {
    "execution": {
     "iopub.execute_input": "2021-12-05T09:42:38.644558Z",
     "iopub.status.busy": "2021-12-05T09:42:38.643788Z",
     "iopub.status.idle": "2021-12-05T09:42:38.645162Z",
     "shell.execute_reply": "2021-12-05T09:42:38.645604Z"
    }
   },
   "outputs": [],
   "source": [
    "humain* p = (humain*)malloc(sizeof(humain));"
   ]
  },
  {
   "cell_type": "code",
   "execution_count": 13,
   "id": "1529fb0f-5925-4034-8a88-32f51011c281",
   "metadata": {
    "execution": {
     "iopub.execute_input": "2021-12-05T09:42:38.647633Z",
     "iopub.status.busy": "2021-12-05T09:42:38.646944Z",
     "iopub.status.idle": "2021-12-05T09:42:39.115545Z",
     "shell.execute_reply": "2021-12-05T09:42:39.114166Z"
    }
   },
   "outputs": [
    {
     "data": {
      "text/plain": [
       "25"
      ]
     },
     "execution_count": 13,
     "metadata": {},
     "output_type": "execute_result"
    }
   ],
   "source": [
    "p->age = 25"
   ]
  },
  {
   "cell_type": "code",
   "execution_count": 14,
   "id": "e518724e-6fa2-431e-93f2-f47ade3d7715",
   "metadata": {
    "execution": {
     "iopub.execute_input": "2021-12-05T09:42:39.117500Z",
     "iopub.status.busy": "2021-12-05T09:42:39.116947Z",
     "iopub.status.idle": "2021-12-05T09:42:39.587341Z",
     "shell.execute_reply": "2021-12-05T09:42:39.586678Z"
    }
   },
   "outputs": [
    {
     "data": {
      "text/plain": [
       "25"
      ]
     },
     "execution_count": 14,
     "metadata": {},
     "output_type": "execute_result"
    }
   ],
   "source": [
    "p->age"
   ]
  },
  {
   "cell_type": "code",
   "execution_count": 15,
   "id": "2f95a218-1bb6-4b23-a0f4-83fe6153f834",
   "metadata": {
    "execution": {
     "iopub.execute_input": "2021-12-05T09:42:39.592428Z",
     "iopub.status.busy": "2021-12-05T09:42:39.591855Z",
     "iopub.status.idle": "2021-12-05T09:42:40.063620Z",
     "shell.execute_reply": "2021-12-05T09:42:40.062968Z"
    }
   },
   "outputs": [
    {
     "data": {
      "text/plain": [
       "3.07501e-41f"
      ]
     },
     "execution_count": 15,
     "metadata": {},
     "output_type": "execute_result"
    }
   ],
   "source": [
    "p->taille"
   ]
  },
  {
   "cell_type": "markdown",
   "id": "7d5318c2-def7-490c-be05-1011401ddf1d",
   "metadata": {},
   "source": [
    "**Remarque** : La taille en mémoire d'une `struct` n'est pas forcément la somme des tailles de ses attributs, car des octets peuvent être rajoutés pour [aligner les données](https://fr.wikipedia.org/wiki/Alignement_en_m%C3%A9moire) (*data alignment*) :"
   ]
  },
  {
   "cell_type": "code",
   "execution_count": 16,
   "id": "f3d11294-0d7a-4e4d-8cdd-02e09782e793",
   "metadata": {
    "execution": {
     "iopub.execute_input": "2021-12-05T09:42:40.068512Z",
     "iopub.status.busy": "2021-12-05T09:42:40.067861Z",
     "iopub.status.idle": "2021-12-05T09:42:40.551253Z",
     "shell.execute_reply": "2021-12-05T09:42:40.549822Z"
    }
   },
   "outputs": [
    {
     "data": {
      "text/plain": [
       "12"
      ]
     },
     "execution_count": 16,
     "metadata": {},
     "output_type": "execute_result"
    }
   ],
   "source": [
    "sizeof(humain)"
   ]
  },
  {
   "cell_type": "markdown",
   "id": "aade9244-8cd8-4880-b5a4-4d840d936992",
   "metadata": {},
   "source": [
    "On peut ensuite modifier et accéder aux attributs de `*p` :"
   ]
  },
  {
   "cell_type": "code",
   "execution_count": 17,
   "id": "cf9e5a5e-4a34-439c-9070-b1583012d615",
   "metadata": {
    "execution": {
     "iopub.execute_input": "2021-12-05T09:42:40.557060Z",
     "iopub.status.busy": "2021-12-05T09:42:40.555340Z",
     "iopub.status.idle": "2021-12-05T09:42:40.557640Z",
     "shell.execute_reply": "2021-12-05T09:42:40.555938Z"
    }
   },
   "outputs": [],
   "source": [
    "p->taille = 160;"
   ]
  },
  {
   "cell_type": "code",
   "execution_count": 18,
   "id": "23e45019-d3d8-4b4c-ae71-4c97aa4bc31a",
   "metadata": {
    "execution": {
     "iopub.execute_input": "2021-12-05T09:42:40.560471Z",
     "iopub.status.busy": "2021-12-05T09:42:40.559860Z",
     "iopub.status.idle": "2021-12-05T09:42:41.013903Z",
     "shell.execute_reply": "2021-12-05T09:42:41.013363Z"
    }
   },
   "outputs": [
    {
     "data": {
      "text/plain": [
       "160.000f"
      ]
     },
     "execution_count": 18,
     "metadata": {},
     "output_type": "execute_result"
    }
   ],
   "source": [
    "p->taille"
   ]
  },
  {
   "cell_type": "markdown",
   "id": "207c1a5e-b115-460d-80bf-e2664cba8779",
   "metadata": {},
   "source": [
    "... Et libérer la mémoire quand on n'en a plus besoin :"
   ]
  },
  {
   "cell_type": "code",
   "execution_count": 19,
   "id": "190b30a6-d65a-41ba-9389-355b2139fe63",
   "metadata": {
    "execution": {
     "iopub.execute_input": "2021-12-05T09:42:41.018875Z",
     "iopub.status.busy": "2021-12-05T09:42:41.017769Z",
     "iopub.status.idle": "2021-12-05T09:42:41.019491Z",
     "shell.execute_reply": "2021-12-05T09:42:41.018289Z"
    }
   },
   "outputs": [],
   "source": [
    "free(p);"
   ]
  },
  {
   "cell_type": "markdown",
   "id": "fdb003f3-57f7-4768-a03e-2cce1d9a768c",
   "metadata": {},
   "source": [
    "## Structures et fonctions\n",
    "\n",
    "Il est possible de passer une structure en argument d'une fonction. Par exemple par valeur :"
   ]
  },
  {
   "cell_type": "code",
   "execution_count": 20,
   "id": "c0118f8a-0e72-44c1-82a2-4a00802dee43",
   "metadata": {
    "execution": {
     "iopub.execute_input": "2021-12-05T09:42:41.024408Z",
     "iopub.status.busy": "2021-12-05T09:42:41.023780Z",
     "iopub.status.idle": "2021-12-05T09:42:41.486699Z",
     "shell.execute_reply": "2021-12-05T09:42:41.485368Z"
    }
   },
   "outputs": [
    {
     "data": {
      "text/plain": [
       "0.000357143f"
      ]
     },
     "execution_count": 20,
     "metadata": {},
     "output_type": "execute_result"
    }
   ],
   "source": [
    "float imc(humain h) {\n",
    "    return h.poids/(h.taille*h.taille);\n",
    "}\n",
    "\n",
    "imc(h)"
   ]
  },
  {
   "cell_type": "markdown",
   "id": "6500e9eb-142a-4229-a83a-a33106a9a1df",
   "metadata": {},
   "source": [
    "On peut aussi renvoyer une `struct` par une fonction :"
   ]
  },
  {
   "cell_type": "code",
   "execution_count": 21,
   "id": "6af5786e-e686-4e2d-b772-f853b2110665",
   "metadata": {
    "execution": {
     "iopub.execute_input": "2021-12-05T09:42:41.490862Z",
     "iopub.status.busy": "2021-12-05T09:42:41.489812Z",
     "iopub.status.idle": "2021-12-05T09:42:41.491580Z",
     "shell.execute_reply": "2021-12-05T09:42:41.490320Z"
    }
   },
   "outputs": [],
   "source": [
    "humain manger_raclette(humain h1) { // renvoie un nouveau humain obtenu après avoir mangé 1kg\n",
    "    humain h2;\n",
    "    h2.age = h1.age;\n",
    "    h2.poids = h1.poids + 1.;\n",
    "    h2.taille = h1.taille;\n",
    "    return h2;\n",
    "}"
   ]
  },
  {
   "cell_type": "markdown",
   "id": "a2c99e2a-d59c-48e6-bd93-d6a9655a1606",
   "metadata": {},
   "source": [
    "Ici, même si `h2` est une variable locale, sa valeur peut être copiée et donc récupérée :"
   ]
  },
  {
   "cell_type": "code",
   "execution_count": 22,
   "id": "b3ca18a0-5788-4574-adab-cea6689655fd",
   "metadata": {
    "execution": {
     "iopub.execute_input": "2021-12-05T09:42:41.496431Z",
     "iopub.status.busy": "2021-12-05T09:42:41.495855Z",
     "iopub.status.idle": "2021-12-05T09:42:41.950402Z",
     "shell.execute_reply": "2021-12-05T09:42:41.948971Z"
    }
   },
   "outputs": [
    {
     "data": {
      "text/plain": [
       "2.75000f"
      ]
     },
     "execution_count": 22,
     "metadata": {},
     "output_type": "execute_result"
    }
   ],
   "source": [
    "humain h2 = manger_raclette(h);\n",
    "h2.poids"
   ]
  },
  {
   "cell_type": "markdown",
   "id": "217e9e0a-155a-46f5-a87c-c0a642ddf3b7",
   "metadata": {},
   "source": [
    "Par contre, on ne pourrait pas modifier l'argument avec un passage de copie/valeur :"
   ]
  },
  {
   "cell_type": "code",
   "execution_count": 23,
   "id": "eea465c3-5d5d-4fc5-a4a7-5d3a4a1714c0",
   "metadata": {
    "execution": {
     "iopub.execute_input": "2021-12-05T09:42:41.952818Z",
     "iopub.status.busy": "2021-12-05T09:42:41.951920Z",
     "iopub.status.idle": "2021-12-05T09:42:42.416548Z",
     "shell.execute_reply": "2021-12-05T09:42:42.415270Z"
    }
   },
   "outputs": [
    {
     "data": {
      "text/plain": [
       "1.75000f"
      ]
     },
     "execution_count": 23,
     "metadata": {},
     "output_type": "execute_result"
    }
   ],
   "source": [
    "void manger_raclette(humain h1) { // passage par valeur\n",
    "    h1.poids = h1.poids + 1.;\n",
    "}\n",
    "\n",
    "manger_raclette(h);\n",
    "h.poids // h n'a pas été modifié car h1 est une copie de h dans manger_raclette"
   ]
  },
  {
   "cell_type": "markdown",
   "id": "3d891959-5f49-4671-80a2-ae479727b1d4",
   "metadata": {},
   "source": [
    "Pour modifier l'argument, il faut le passer par adresse :"
   ]
  },
  {
   "cell_type": "code",
   "execution_count": 24,
   "id": "c914c0fe-ca7f-407b-b341-c223b4f8e86e",
   "metadata": {
    "execution": {
     "iopub.execute_input": "2021-12-05T09:42:42.420448Z",
     "iopub.status.busy": "2021-12-05T09:42:42.419834Z",
     "iopub.status.idle": "2021-12-05T09:42:42.878857Z",
     "shell.execute_reply": "2021-12-05T09:42:42.877221Z"
    }
   },
   "outputs": [
    {
     "data": {
      "text/plain": [
       "2.75000f"
      ]
     },
     "execution_count": 24,
     "metadata": {},
     "output_type": "execute_result"
    }
   ],
   "source": [
    "void manger_raclette(humain *ptr_h) { // passage par adresse\n",
    "    (ptr_h->poids)++;\n",
    "}\n",
    "\n",
    "manger_raclette(&h);\n",
    "h.poids // h a été modifié"
   ]
  },
  {
   "cell_type": "markdown",
   "id": "c8d1d82e-8551-4553-b41b-111b8aa27537",
   "metadata": {
    "tags": [
     "exo"
    ]
   },
   "source": [
    "**Exercice** : \n",
    "1. Écrire une structure `complexe` permettant de représenter un nombre complexe.  \n",
    "2. Écrire les opérations classiques sur les nombres complexes, avec passage par valeur : addition, multiplication, division, module.  \n",
    "3. Écrire une fonction `rotation` permettant de faire une rotation sur un nombre complexe (remplacer $z$ par $ze^{i \\theta}$) avec le prototype suivant :  \n",
    "```c\n",
    "void rotation(complexe* z, float theta)\n",
    "```  \n",
    "**Indice** : En écrivant $z = a + ib$ et $e^{i\\theta}$, la rotation de $z$ d'angle $\\theta$ est obtenue par $ze^{i\\theta} = ...$. On utilisera les fonctions `cos` et `sin`."
   ]
  },
  {
   "cell_type": "code",
   "execution_count": 25,
   "id": "c281941f-bb04-4484-8cc6-5ad820c8bad1",
   "metadata": {
    "execution": {
     "iopub.execute_input": "2021-12-05T09:42:42.882601Z",
     "iopub.status.busy": "2021-12-05T09:42:42.881606Z",
     "iopub.status.idle": "2021-12-05T09:42:42.883160Z",
     "shell.execute_reply": "2021-12-05T09:42:42.882073Z"
    },
    "tags": [
     "cor"
    ]
   },
   "outputs": [],
   "source": [
    "// 1.\n",
    "\n",
    "typedef struct complexe {\n",
    "    double re;    \n",
    "    double im;\n",
    "} complexe;"
   ]
  },
  {
   "cell_type": "code",
   "execution_count": 26,
   "id": "19fd12bc-a45a-4b0d-a0e6-c152ada20b7e",
   "metadata": {
    "execution": {
     "iopub.execute_input": "2021-12-05T09:42:42.888723Z",
     "iopub.status.busy": "2021-12-05T09:42:42.888077Z",
     "iopub.status.idle": "2021-12-05T09:42:42.890656Z",
     "shell.execute_reply": "2021-12-05T09:42:42.889322Z"
    },
    "tags": [
     "cor"
    ]
   },
   "outputs": [
    {
     "name": "stdout",
     "output_type": "stream",
     "text": [
      "re = 4.000000, im = 2.000000"
     ]
    }
   ],
   "source": [
    "// 2. Voici le corrigé de add. Les autres sont similaires.\n",
    "\n",
    "complexe add(complexe z1, complexe z2) {\n",
    "    complexe z;\n",
    "    z.re = z1.re + z2.re;\n",
    "    z.im = z1.im + z2.im;\n",
    "    return z;\n",
    "}\n",
    "complexe z;\n",
    "z.re = 2;\n",
    "z.im = 1;\n",
    "z = add(z, z);\n",
    "printf(\"re = %f, im = %f\", z.re, z.im);"
   ]
  },
  {
   "cell_type": "code",
   "execution_count": 27,
   "id": "1acb914c-8a34-4568-91ff-e0f9be3a795f",
   "metadata": {
    "execution": {
     "iopub.execute_input": "2021-12-05T09:42:42.892631Z",
     "iopub.status.busy": "2021-12-05T09:42:42.892016Z",
     "iopub.status.idle": "2021-12-05T09:42:42.897860Z",
     "shell.execute_reply": "2021-12-05T09:42:42.896434Z"
    },
    "tags": [
     "cor"
    ]
   },
   "outputs": [
    {
     "name": "stdout",
     "output_type": "stream",
     "text": [
      "re = -4.003180, im = -2.006373"
     ]
    }
   ],
   "source": [
    "// 3. On a ze^{i theta} = acos(theta) - bsin(theta) + i(a sin(theta) + b cos(theta))\n",
    "void rotation(complexe* z, double theta) {\n",
    "    z->re = z->re*cos(theta) - z->im*sin(theta);\n",
    "    z->im = z->re*sin(theta) + z->im*cos(theta);\n",
    "}\n",
    "\n",
    "rotation(&z, 3.14);\n",
    "printf(\"re = %f, im = %f\", z.re, z.im);"
   ]
  },
  {
   "cell_type": "markdown",
   "id": "20eb47f4-62c8-40a9-8893-082ab2272629",
   "metadata": {},
   "source": [
    "## Structures récursives\n",
    "\n",
    "Il est possible d'utiliser un type de structure à l'intérieur de la définition de ce type. Exemple avec une liste chaînée :"
   ]
  },
  {
   "cell_type": "code",
   "execution_count": 28,
   "id": "60f9d0eb-3d5b-4796-be90-b7c7e67055c6",
   "metadata": {
    "execution": {
     "iopub.execute_input": "2021-12-05T09:42:42.901023Z",
     "iopub.status.busy": "2021-12-05T09:42:42.900030Z",
     "iopub.status.idle": "2021-12-05T09:42:42.901555Z",
     "shell.execute_reply": "2021-12-05T09:42:42.900568Z"
    }
   },
   "outputs": [],
   "source": [
    "typedef struct list {\n",
    "    int elem;\n",
    "    list* next;\n",
    "} list;"
   ]
  },
  {
   "cell_type": "markdown",
   "id": "88f2e5b4-ffee-4eb5-a816-32862d7f182b",
   "metadata": {},
   "source": [
    "**Remarque** : Il ne serait pas possible d'utiliser un `list` (au lieu d'un `list*`) comme attribut de `list`."
   ]
  },
  {
   "cell_type": "markdown",
   "id": "be0c5ef6-45dc-421b-a778-0aa94a651ac7",
   "metadata": {},
   "source": [
    "<center><img src='data:image/png;base64,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' width=450></center>"
   ]
  },
  {
   "cell_type": "markdown",
   "id": "994c8b9d-19a3-44d7-8d0d-645ff2581e0a",
   "metadata": {},
   "source": [
    "Création de liste contenant 1 et 2 :"
   ]
  },
  {
   "cell_type": "code",
   "execution_count": 29,
   "id": "ef2dd58f-4327-4024-8f01-4532dea59513",
   "metadata": {
    "execution": {
     "iopub.execute_input": "2021-12-05T09:42:42.903616Z",
     "iopub.status.busy": "2021-12-05T09:42:42.903030Z",
     "iopub.status.idle": "2021-12-05T09:42:42.906169Z",
     "shell.execute_reply": "2021-12-05T09:42:42.905598Z"
    }
   },
   "outputs": [],
   "source": [
    "list* l = NULL;  // initialement liste vide\n",
    "l = (list*)malloc(sizeof(list));  // création du premier noeud de la liste\n",
    "l->elem = 1;\n",
    "l->next = (list*)malloc(sizeof(list));  // deuxième noeud\n",
    "l->next->elem = 2;\n",
    "l->next->next = NULL;"
   ]
  },
  {
   "cell_type": "code",
   "execution_count": 30,
   "id": "9f72c276-6b75-49ad-8b5b-af11eb5cdcc0",
   "metadata": {
    "execution": {
     "iopub.execute_input": "2021-12-05T09:42:42.908511Z",
     "iopub.status.busy": "2021-12-05T09:42:42.907920Z",
     "iopub.status.idle": "2021-12-05T09:42:42.911599Z",
     "shell.execute_reply": "2021-12-05T09:42:42.911063Z"
    }
   },
   "outputs": [
    {
     "name": "stdout",
     "output_type": "stream",
     "text": [
      "1er élément : 1, 2ème élément : 2"
     ]
    }
   ],
   "source": [
    "printf(\"1er élément : %d, 2ème élément : %d\", l->elem, l->next->elem);"
   ]
  },
  {
   "cell_type": "markdown",
   "id": "6a90ea0f-7994-4557-91bd-9f56f435cd97",
   "metadata": {},
   "source": [
    "**Remarque** : Il ne serait pas possible de changer la définition de `list` en utilisant un `list` en attribut (au lieu d'un pointeur `list*`)."
   ]
  },
  {
   "cell_type": "markdown",
   "id": "4c8f1393-7b3b-4bb2-83a5-aeafd5212f77",
   "metadata": {
    "tags": [
     "exo"
    ]
   },
   "source": [
    "**Exercice** : Définir une liste doublement chaînée et une fonction permettant de supprimer un noeud."
   ]
  },
  {
   "cell_type": "code",
   "execution_count": 31,
   "id": "cb9acc48-1ce8-41be-aed4-a61f0b8bf8d6",
   "metadata": {
    "execution": {
     "iopub.execute_input": "2021-12-05T09:42:42.914548Z",
     "iopub.status.busy": "2021-12-05T09:42:42.913585Z",
     "iopub.status.idle": "2021-12-05T09:42:42.915117Z",
     "shell.execute_reply": "2021-12-05T09:42:42.914053Z"
    },
    "tags": [
     "cor"
    ]
   },
   "outputs": [],
   "source": [
    "typedef struct list2 {\n",
    "    int elem;\n",
    "    list2* next;\n",
    "    list2* prev;\n",
    "} list2;"
   ]
  },
  {
   "cell_type": "code",
   "execution_count": 32,
   "id": "b7936c04-b9a6-48b6-96ba-96f06cb0124e",
   "metadata": {
    "execution": {
     "iopub.execute_input": "2021-12-05T09:42:42.917348Z",
     "iopub.status.busy": "2021-12-05T09:42:42.916508Z",
     "iopub.status.idle": "2021-12-05T09:42:42.918525Z",
     "shell.execute_reply": "2021-12-05T09:42:42.918025Z"
    },
    "tags": [
     "cor"
    ]
   },
   "outputs": [],
   "source": [
    "void del(list2* l) {\n",
    "    l->next->prev = l->prev;\n",
    "    l->prev->next = l->next;\n",
    "    free(l);\n",
    "}"
   ]
  }
 ],
 "metadata": {
  "kernelspec": {
   "display_name": "C++14",
   "language": "C++14",
   "name": "xcpp14"
  },
  "language_info": {
   "codemirror_mode": "text/x-c++src",
   "file_extension": ".cpp",
   "mimetype": "text/x-c++src",
   "name": "c++",
   "version": "14"
  }
 },
 "nbformat": 4,
 "nbformat_minor": 5
}

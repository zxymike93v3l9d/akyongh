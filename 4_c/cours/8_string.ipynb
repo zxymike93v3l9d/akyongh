{
 "cells": [
  {
   "cell_type": "markdown",
   "id": "e2b9ce42-6628-483a-be5e-ae290e5ded2d",
   "metadata": {},
   "source": [
    "# <center><a href='https://mybinder.org/v2/gh/fortierq/binder-mp2i/main?urlpath=git-pull%3Frepo%3Dhttps%253A%252F%252Fgithub.com%252Fmp2i-fsm%252Fmp2i-2021%26urlpath%3Dlab%252Ftree%252Fmp2i-2021%252F4_c%252Fcours%252F8_string.ipynb%26branch%3Dmain'>Chaînes de caractères   <img src=https://mybinder.org/badge.svg></a></center>\n",
    "\n",
    "## Caractères\n",
    "\n",
    "Un caractère est un symbole. Par exemple, `a`, `E`, `1` et `!` sont des caractères.  \n",
    "Le type utilisé en C pour stocker un caractère est `char` :"
   ]
  },
  {
   "cell_type": "code",
   "execution_count": 1,
   "id": "26a3fe35-88f5-4672-8e7f-84259dfcfe0e",
   "metadata": {
    "execution": {
     "iopub.execute_input": "2021-12-31T12:07:00.948100Z",
     "iopub.status.busy": "2021-12-31T12:07:00.947074Z",
     "iopub.status.idle": "2021-12-31T12:07:00.948569Z",
     "shell.execute_reply": "2021-12-31T12:07:00.947556Z"
    }
   },
   "outputs": [],
   "source": [
    "char c = 'a';"
   ]
  },
  {
   "cell_type": "markdown",
   "id": "4f212f85-ae40-4e99-bad7-2cf66e12ca2f",
   "metadata": {},
   "source": [
    "`'a'` est une valeur, contrairement à `c` qui est ici une variable.  \n",
    "**Remarque** : Contrairement à Python qui utilise `\"` et `'` de manière interchangeable et qui ne fait pas de distinction entre caractère et chaine de caractères, en C les caractères doivent utiliser `'` (et les chaînes de caractères doivent utiliser `\"`)."
   ]
  },
  {
   "cell_type": "markdown",
   "id": "b98f5d36-5a37-4418-9b0c-cdd1431090a4",
   "metadata": {},
   "source": [
    "Sur un ordinateur, il n'est possible de stocker que des 0 et des 1. Il est donc nécessaire de coder les caractères en binaire, par un **codage**.  \n",
    "Le codage utilisé par défaut en C est **ASCII**. Il code chaque caractère sur 7 bits. Comme la plus petite unité adressable de mémoire est 1 octet (8 bits), un `char` est en fait codé sur 8 bits avec un bit non utilisé :"
   ]
  },
  {
   "cell_type": "code",
   "execution_count": 2,
   "id": "eeb37275-280a-4353-97b6-518471474663",
   "metadata": {
    "execution": {
     "iopub.execute_input": "2021-12-31T12:07:00.950179Z",
     "iopub.status.busy": "2021-12-31T12:07:00.949768Z",
     "iopub.status.idle": "2021-12-31T12:07:01.425671Z",
     "shell.execute_reply": "2021-12-31T12:07:01.424328Z"
    }
   },
   "outputs": [
    {
     "data": {
      "text/plain": [
       "1"
      ]
     },
     "execution_count": 2,
     "metadata": {},
     "output_type": "execute_result"
    }
   ],
   "source": [
    "sizeof(c) // un char prend 1 octet, soit 8 bits, en mémoire"
   ]
  },
  {
   "cell_type": "markdown",
   "id": "6f799e93-5b04-4637-bddd-3ff3b77e5af6",
   "metadata": {},
   "source": [
    "Comme il y a $2^7$ valeurs possibles sur $7$ bits, ASCII permet de stocker $2^7 = 128$ caractères. Les voici, avec leurs codages :\n",
    "<center><img src=https://github.com/mp2i-fsm/mp2i-2021/blob/main/4_c/img/ascii.png?raw=true width=750></center>"
   ]
  },
  {
   "cell_type": "markdown",
   "id": "d3a6a65e-2a3f-4e15-baa1-2f3aeca977ad",
   "metadata": {},
   "source": [
    "Par exemple, `A` est codé par 65, c'est-à-dire stocké avec $1000001_2$ en mémoire. On peut le vérifier en convertissant un `char` en  `unsigned` :"
   ]
  },
  {
   "cell_type": "code",
   "execution_count": 3,
   "id": "0fd8cbfe-c0bc-4a3f-a2fc-6be9ad6be59e",
   "metadata": {
    "execution": {
     "iopub.execute_input": "2021-12-31T12:07:01.428921Z",
     "iopub.status.busy": "2021-12-31T12:07:01.428423Z",
     "iopub.status.idle": "2021-12-31T12:07:01.775622Z",
     "shell.execute_reply": "2021-12-31T12:07:01.774421Z"
    }
   },
   "outputs": [
    {
     "data": {
      "text/plain": [
       "65"
      ]
     },
     "execution_count": 3,
     "metadata": {},
     "output_type": "execute_result"
    }
   ],
   "source": [
    "(unsigned)'A'"
   ]
  },
  {
   "cell_type": "markdown",
   "id": "0b0ed149-a6d6-4328-ad78-59250c54e290",
   "metadata": {
    "tags": [
     "exo"
    ]
   },
   "source": [
    "**Exercice** : Afficher les lettres de l'alphabet. On pourra utiliser un entier dans un `for` et le convertir en `char`."
   ]
  },
  {
   "cell_type": "markdown",
   "id": "b63dcb8e-83d1-4eb2-8ab3-1b17e6584e29",
   "metadata": {},
   "source": [
    "ASCII est très limité. Il ne permet pas d'encoder les accents, par exemple :"
   ]
  },
  {
   "cell_type": "code",
   "execution_count": 4,
   "id": "c6f21a7e-f57b-41ac-a476-6b8ea77c30ee",
   "metadata": {
    "execution": {
     "iopub.execute_input": "2021-12-31T12:07:01.778407Z",
     "iopub.status.busy": "2021-12-31T12:07:01.777847Z",
     "iopub.status.idle": "2021-12-31T12:07:01.788045Z",
     "shell.execute_reply": "2021-12-31T12:07:01.778843Z"
    }
   },
   "outputs": [
    {
     "name": "stderr",
     "output_type": "stream",
     "text": [
      "input_line_14:2:11: error: character too large for enclosing character literal type\n",
      " char c = 'é'\n",
      "          ^\n"
     ]
    },
    {
     "ename": "Interpreter Error",
     "evalue": "",
     "output_type": "error",
     "traceback": [
      "Interpreter Error: "
     ]
    }
   ],
   "source": [
    "char c = 'é'"
   ]
  },
  {
   "cell_type": "markdown",
   "id": "1442b2b3-aebc-42e8-b03c-c4ad970ba225",
   "metadata": {},
   "source": [
    "Unicode et UTF-8 sont des normes d'encodages plus modernes et maintenant beaucoup plus utilisées que ASCII :  \n",
    "- **Unicode** est une table de caractères : à chaque caractère (144697 au total) est associé un entier\n",
    "- **UTF-8** est un encodage pour Unicode : il spécifie comment coder les entiers (correspondants aux caractères Unicode) comme suite de bits, en utilisant un ou plusieurs `char`.  \n",
    "\n",
    "Unicode et UTF-8 sont rétro-compatibles avec ASCII (les caractères ASCII garde le même codage).  \n",
    "Voici la proportion des tables de caractères les plus utilisées sur le Web :\n",
    "<center><img src=https://www.w3.org/International/questions/qa-who-uses-unicode-data/unicode.png width=600></center>\n",
    "En janvier 2021, le pourcentage de sites Web utilisant Unicode a atteint 96.1%."
   ]
  },
  {
   "cell_type": "markdown",
   "id": "bca22a37-a102-42ec-99b9-c3e8c4213442",
   "metadata": {},
   "source": [
    "La plupart des compilateurs C permettent d'utiliser UTF-8. Cependant, certaines fonctions de la librairie standard ne marchent plus avec l'UTF-8, étant donné qu'un caractère UTF-8 peut correspondre à plusieurs `char` :"
   ]
  },
  {
   "cell_type": "code",
   "execution_count": 5,
   "id": "7c829d37-9280-4986-ae6a-bd0b513c1a73",
   "metadata": {
    "execution": {
     "iopub.execute_input": "2021-12-31T12:07:01.789602Z",
     "iopub.status.busy": "2021-12-31T12:07:01.789178Z",
     "iopub.status.idle": "2021-12-31T12:07:02.137124Z",
     "shell.execute_reply": "2021-12-31T12:07:02.136068Z"
    }
   },
   "outputs": [
    {
     "name": "stdout",
     "output_type": "stream",
     "text": [
      "3\n"
     ]
    },
    {
     "data": {
      "text/plain": [
       "2"
      ]
     },
     "execution_count": 5,
     "metadata": {},
     "output_type": "execute_result"
    }
   ],
   "source": [
    "char s[] = \"é\"; // chaîne de caractères Unicode\n",
    "printf(\"%lu\\n\", sizeof(s)); // = 3\n",
    "// é est codé sur 2 char en UTF-8 (donc 2 octets) et \\0 sur un octet\n",
    "strlen(s) // 2 au lieu de 1"
   ]
  },
  {
   "cell_type": "markdown",
   "id": "85988607-0532-497a-b5cd-577424535225",
   "metadata": {},
   "source": [
    "## Chaîne de caractères\n",
    "\n",
    "En C, il n'existe pas de type particulier correspondant à une chaîne de caractères. La convention est de définir une chaîne de caractères comme un tableau de `char` qui termine par `\\0` (caractère spécial qui sert à savoir quand la chaîne s'arrête). Exemple : "
   ]
  },
  {
   "cell_type": "code",
   "execution_count": 6,
   "id": "4ae55bf7-f378-4ad1-85bd-b714d6223c91",
   "metadata": {
    "execution": {
     "iopub.execute_input": "2021-12-31T12:07:02.140916Z",
     "iopub.status.busy": "2021-12-31T12:07:02.140439Z",
     "iopub.status.idle": "2021-12-31T12:07:02.489262Z",
     "shell.execute_reply": "2021-12-31T12:07:02.488211Z"
    }
   },
   "outputs": [
    {
     "data": {
      "text/plain": [
       "\"exemple\""
      ]
     },
     "execution_count": 6,
     "metadata": {},
     "output_type": "execute_result"
    }
   ],
   "source": [
    "char ex[] = {'e', 'x', 'e', 'm', 'p', 'l', 'e', '\\0'};\n",
    "ex"
   ]
  },
  {
   "cell_type": "markdown",
   "id": "d1b29580-e697-4fcb-a820-d430cbe2abb9",
   "metadata": {},
   "source": [
    "De façon totalement équivalente, on peut aussi écrire :"
   ]
  },
  {
   "cell_type": "code",
   "execution_count": 7,
   "id": "505c8620-86a1-4392-b461-7c7524d9ceb5",
   "metadata": {
    "execution": {
     "iopub.execute_input": "2021-12-31T12:07:02.492324Z",
     "iopub.status.busy": "2021-12-31T12:07:02.491439Z",
     "iopub.status.idle": "2021-12-31T12:07:02.492766Z",
     "shell.execute_reply": "2021-12-31T12:07:02.491875Z"
    }
   },
   "outputs": [],
   "source": [
    "char ex[] = \"exemple\"; // créé un tableau de caractères avec un '\\0` final est automatiquement ajouté"
   ]
  },
  {
   "cell_type": "markdown",
   "id": "4262e664-947c-4fdc-833c-61f06eb4e11c",
   "metadata": {},
   "source": [
    "Ou d'abord définir le tableau puis modifier ses éléments :"
   ]
  },
  {
   "cell_type": "code",
   "execution_count": 8,
   "id": "af2febf9-3999-4110-9836-a23523074c5c",
   "metadata": {
    "execution": {
     "iopub.execute_input": "2021-12-31T12:07:02.494433Z",
     "iopub.status.busy": "2021-12-31T12:07:02.493965Z",
     "iopub.status.idle": "2021-12-31T12:07:02.496333Z",
     "shell.execute_reply": "2021-12-31T12:07:02.495959Z"
    }
   },
   "outputs": [],
   "source": [
    "char ex[8];\n",
    "ex[0] = 'e';\n",
    "ex[1] = 'x';\n",
    "// etc\n",
    "ex[6] = 'e';\n",
    "ex[7] = '\\0';"
   ]
  },
  {
   "cell_type": "markdown",
   "id": "a7e811f3-1941-403e-9f83-07e465a30483",
   "metadata": {},
   "source": [
    "Tout ce qui a été vu sur le lien entre tableau et pointeur reste valable pour les chaînes de caractères. Ainsi : \n",
    "1. Un `char[]` (tableau de `char`) est automatiquement converti en `char*` (pointeur sur le premier `char` du tableau) lors d'une affectation de variable ou de passage en argument d'une fonction.  \n",
    "2. Il n'est pas possible d'utiliser l'initialisation `char ex[] = \"exemple\";` après avoir défini la variable :"
   ]
  },
  {
   "cell_type": "code",
   "execution_count": 9,
   "id": "15e67469-e14f-440c-bd5f-a4599561ef0f",
   "metadata": {
    "execution": {
     "iopub.execute_input": "2021-12-31T12:07:02.498709Z",
     "iopub.status.busy": "2021-12-31T12:07:02.497819Z",
     "iopub.status.idle": "2021-12-31T12:07:02.507916Z",
     "shell.execute_reply": "2021-12-31T12:07:02.499769Z"
    }
   },
   "outputs": [
    {
     "name": "stderr",
     "output_type": "stream",
     "text": [
      "input_line_21:3:4: error: array type 'char [8]' is not assignable\n",
      "ex = \"test\"; // PAS OK : il faudrait modifier les caractères un par un\n",
      "~~ ^\n"
     ]
    },
    {
     "ename": "Interpreter Error",
     "evalue": "",
     "output_type": "error",
     "traceback": [
      "Interpreter Error: "
     ]
    }
   ],
   "source": [
    "char ex[] = \"exemple\"; // OK dans la définition de ex\n",
    "ex = \"test\"; // PAS OK : il faudrait modifier les caractères un par un"
   ]
  },
  {
   "cell_type": "markdown",
   "id": "3af32f9c-55fc-4354-a1c1-9c94692a0b44",
   "metadata": {},
   "source": [
    "Il est possible d'afficher une chaîne de caractère avec `%s` dans `printf` :"
   ]
  },
  {
   "cell_type": "code",
   "execution_count": 10,
   "id": "498841aa-de72-40bf-b309-b93ef3b1a769",
   "metadata": {
    "execution": {
     "iopub.execute_input": "2021-12-31T12:07:02.509539Z",
     "iopub.status.busy": "2021-12-31T12:07:02.509126Z",
     "iopub.status.idle": "2021-12-31T12:07:02.512104Z",
     "shell.execute_reply": "2021-12-31T12:07:02.511665Z"
    }
   },
   "outputs": [
    {
     "name": "stdout",
     "output_type": "stream",
     "text": [
      "ex vaut exemple"
     ]
    }
   ],
   "source": [
    "char ex[] = \"exemple\";\n",
    "printf(\"ex vaut %s\", ex);"
   ]
  },
  {
   "cell_type": "markdown",
   "id": "a0f6516d-3a44-4350-a62e-774366b260db",
   "metadata": {
    "tags": []
   },
   "source": [
    "## Passage de chaîne de caractères en argument\n",
    "\n",
    "Comme dit précédemment, un `char[]` est converti en `char*` lors d'un passage à une fonction. Par exemple, la fonction suivante calcule la taille d'une chaîne de caractères ([strlen dans glibc](https://github.com/lattera/glibc/blob/master/string/strlen.c)):"
   ]
  },
  {
   "cell_type": "code",
   "execution_count": 11,
   "id": "7a00cf58-abd3-4572-b793-af36508c4138",
   "metadata": {
    "execution": {
     "iopub.execute_input": "2021-12-31T12:07:02.513562Z",
     "iopub.status.busy": "2021-12-31T12:07:02.513148Z",
     "iopub.status.idle": "2021-12-31T12:07:02.861998Z",
     "shell.execute_reply": "2021-12-31T12:07:02.860959Z"
    }
   },
   "outputs": [
    {
     "data": {
      "text/plain": [
       "4"
      ]
     },
     "execution_count": 11,
     "metadata": {},
     "output_type": "execute_result"
    }
   ],
   "source": [
    "int size(const char* s) {\n",
    "    int i = 0;\n",
    "    while(s[i] != '\\0')\n",
    "        i++;\n",
    "    return i;\n",
    "}\n",
    "\n",
    "size(\"mp2i\")"
   ]
  },
  {
   "cell_type": "markdown",
   "id": "b6206aa8-a76d-4036-940d-0a082b60568c",
   "metadata": {},
   "source": [
    "**Remarques** : \n",
    "- `const char*` signifie \"pointeur vers une chaîne de caractères non modifiable (immutable)\". Cela apporte une garantie à l'utilisateur : la chaîne de caractères passée en argument ne sera pas modifiée.  \n",
    "- Les litéraux de chaînes de caractères (comme `\"mp2i\"`) sont de type `char*` en C et `const char*` en C++. Si `size` avait le prototype `int size(char*)` (sans `const`), il faudrait donc, en C++, une conversion de `const char*` vers `char*` (size((char*)\"mp2i\"))."
   ]
  },
  {
   "cell_type": "markdown",
   "id": "e041d258-8482-46cd-84e0-cae7674c4b60",
   "metadata": {
    "tags": [
     "exo"
    ]
   },
   "source": [
    "**Exercice** : Écrire une fonction `int count(const char*, char)` calculant le nombre d'apparitions d'un caractère dans une chaîne de caractères."
   ]
  },
  {
   "cell_type": "markdown",
   "id": "d3d610db-b080-4b83-ad6e-942a92d43324",
   "metadata": {
    "tags": [
     "exo"
    ]
   },
   "source": [
    "**Exercice** : Un palindrome est une chaîne de caractères qui peut se lire de la même façon dans les deux sens. Écrire une fonction pour savoir si une chaîne de caractères est un palindrome."
   ]
  },
  {
   "cell_type": "markdown",
   "id": "6ffeff6c-a412-41a2-aeae-8fd594b8862e",
   "metadata": {},
   "source": [
    "**Exercice** : Écrire une fonction `copy` de prototype `void copy(char*, const char*)` (cette fonction existe déjà sous le nom `strcpy`)."
   ]
  },
  {
   "cell_type": "markdown",
   "id": "6e22516c-a5c4-4248-9664-2fbeecc9373a",
   "metadata": {},
   "source": [
    "## Malloc et chaînes de caractères"
   ]
  },
  {
   "cell_type": "markdown",
   "id": "c0acb372-da64-446c-ac0d-d4316acb1aa9",
   "metadata": {},
   "source": [
    "On peut utiliser `malloc` pour créer une chaîne de caractères sur le tas, comme pour tout tableau :"
   ]
  },
  {
   "cell_type": "code",
   "execution_count": 12,
   "id": "0a75b293-86b2-47a8-99fe-435792fd1c55",
   "metadata": {
    "execution": {
     "iopub.execute_input": "2021-12-31T12:07:02.864847Z",
     "iopub.status.busy": "2021-12-31T12:07:02.864368Z",
     "iopub.status.idle": "2021-12-31T12:07:03.214649Z",
     "shell.execute_reply": "2021-12-31T12:07:03.213614Z"
    }
   },
   "outputs": [
    {
     "data": {
      "text/plain": [
       "\"hello world\""
      ]
     },
     "execution_count": 12,
     "metadata": {},
     "output_type": "execute_result"
    }
   ],
   "source": [
    "char* concat(const char* s1, const char* s2) {\n",
    "    int n1 = strlen(s1);\n",
    "    int n2 = strlen(s2);\n",
    "    char* s = (char*)malloc(sizeof(char)*(n1 + n2));\n",
    "    for(int i = 0; i < n1; i++)\n",
    "        s[i] = s1[i];\n",
    "    for(int i = 0; i < n2; i++)\n",
    "        s[n1 + i] = s2[i];\n",
    "    return s;\n",
    "}\n",
    "\n",
    "concat(\"hello\", \" world\")"
   ]
  },
  {
   "cell_type": "markdown",
   "id": "155f0f32-338f-437b-ab7c-72e5e1c0ef7a",
   "metadata": {
    "tags": [
     "exo"
    ]
   },
   "source": [
    "**Exercice** : Le codage de César consiste à chiffre une chaîne de caractère en décalant chaque caractère d'une clé `k`.\n",
    "1. Ecrire une fonction `chiffre(char* s, int k)` renvoyant un nouveau tableau contenant le codage de César de `s` avec la clé `k`.\n",
    "2. Ecrire une fonction `dechiffre(char* s)` renvoyant un nouveau tableau contenant le codage de César de `s`."
   ]
  }
 ],
 "metadata": {
  "kernelspec": {
   "display_name": "C++14",
   "language": "C++14",
   "name": "xcpp14"
  },
  "language_info": {
   "codemirror_mode": "text/x-c++src",
   "file_extension": ".cpp",
   "mimetype": "text/x-c++src",
   "name": "c++",
   "version": "14"
  }
 },
 "nbformat": 4,
 "nbformat_minor": 5
}

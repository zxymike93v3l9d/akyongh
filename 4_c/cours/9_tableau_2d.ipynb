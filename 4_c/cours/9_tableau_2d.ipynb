{
 "cells": [
  {
   "cell_type": "markdown",
   "id": "4deee6f3-5e94-4ae7-b822-5d5c7dffd257",
   "metadata": {},
   "source": [
    "# Tableaux multidimensionnels\n",
    "\n",
    "Il est parfois intéressant d'utiliser des tableaux à plusieurs dimensions, c'est-à-dire avec plusieurs indices.  \n",
    "Par exemple, une image est une grille de pixels, chaque pixel ayant une abscisse et une ordonnée. On voudrait donc accéder aux pixels en utilisant son abscisse et son ordonnée."
   ]
  },
  {
   "cell_type": "markdown",
   "id": "38ca2f6d-d706-4122-905b-685a971b3152",
   "metadata": {},
   "source": [
    "## Tableaux statiques (définis sur la pile)\n",
    "\n",
    "Voici un exemple de tableau à deux dimensions (2D):"
   ]
  },
  {
   "cell_type": "code",
   "execution_count": 1,
   "id": "9cef177c-11b1-45db-ac73-e91307d01ddf",
   "metadata": {
    "execution": {
     "iopub.execute_input": "2021-12-01T13:00:30.533028Z",
     "iopub.status.busy": "2021-12-01T13:00:30.532164Z",
     "iopub.status.idle": "2021-12-01T13:00:30.533419Z",
     "shell.execute_reply": "2021-12-01T13:00:30.532589Z"
    }
   },
   "outputs": [],
   "source": [
    "int tab[2][3];"
   ]
  },
  {
   "cell_type": "markdown",
   "id": "a726b0ff-37e9-4d98-81df-253b86dc0334",
   "metadata": {},
   "source": [
    "`tab` est alors un tableau d'entiers, où il faut donner deux indices pour accéder à un élément :"
   ]
  },
  {
   "cell_type": "code",
   "execution_count": 2,
   "id": "97b7cb4e-d15d-40e2-b7b7-7dba0be87919",
   "metadata": {
    "execution": {
     "iopub.execute_input": "2021-12-01T13:00:30.535164Z",
     "iopub.status.busy": "2021-12-01T13:00:30.534554Z",
     "iopub.status.idle": "2021-12-01T13:00:31.010919Z",
     "shell.execute_reply": "2021-12-01T13:00:31.010482Z"
    }
   },
   "outputs": [
    {
     "data": {
      "text/plain": [
       "42"
      ]
     },
     "execution_count": 2,
     "metadata": {},
     "output_type": "execute_result"
    }
   ],
   "source": [
    "tab[0][1] = 42; // modifie l'élément d'indices 0, 1"
   ]
  },
  {
   "cell_type": "code",
   "execution_count": 3,
   "id": "23462496-d0ee-45ef-a60b-496459096817",
   "metadata": {
    "execution": {
     "iopub.execute_input": "2021-12-01T13:00:31.016788Z",
     "iopub.status.busy": "2021-12-01T13:00:31.016325Z",
     "iopub.status.idle": "2021-12-01T13:00:31.358343Z",
     "shell.execute_reply": "2021-12-01T13:00:31.357243Z"
    }
   },
   "outputs": [
    {
     "data": {
      "text/plain": [
       "42"
      ]
     },
     "execution_count": 3,
     "metadata": {},
     "output_type": "execute_result"
    }
   ],
   "source": [
    "tab[0][1] // récupération de la valeur en position 0, 1"
   ]
  },
  {
   "cell_type": "markdown",
   "id": "b8516a8b-3dc5-4cdb-90db-73938116f2d6",
   "metadata": {},
   "source": [
    "`int tab[2][3]` signifie que la taille suivant la 1ère dimension est 2 et que la taille suivant la 2ème dimension est 3. Pour utiliser `tab[i][j]` il faut donc que `i` soit strictement inférieur à 2 et que `j` soit strictement inférieur à 3."
   ]
  },
  {
   "cell_type": "markdown",
   "id": "7a4b8059-b7ef-464d-a23d-a65f578d9e61",
   "metadata": {},
   "source": [
    "Pour parcourir les éléments d'un tableau 2D, on a besoin de deux boucles `for` imbriquées (pour les 2 indices) :"
   ]
  },
  {
   "cell_type": "code",
   "execution_count": 4,
   "id": "a62f84a3-b816-4ea2-a713-6792755012e7",
   "metadata": {
    "execution": {
     "iopub.execute_input": "2021-12-01T13:00:31.360733Z",
     "iopub.status.busy": "2021-12-01T13:00:31.360265Z",
     "iopub.status.idle": "2021-12-01T13:00:31.362192Z",
     "shell.execute_reply": "2021-12-01T13:00:31.361793Z"
    }
   },
   "outputs": [],
   "source": [
    "for(int i = 0; i < 2; i++)\n",
    "    for(int j = 0; j < 3; j++)\n",
    "        tab[i][j] = i*3 + j"
   ]
  },
  {
   "cell_type": "markdown",
   "id": "f050bc25-4df9-4ccc-b567-e8760a93f152",
   "metadata": {},
   "source": [
    "On parcourt toutes les valeurs `i` possibles pour le 1er indice, et toutes les valeurs `j` possibles pour le 2ème indice.  \n",
    "On peut ensuite afficher le tableau :"
   ]
  },
  {
   "cell_type": "code",
   "execution_count": 5,
   "id": "757044b7-c656-45a6-9026-34aef36b9306",
   "metadata": {
    "execution": {
     "iopub.execute_input": "2021-12-01T13:00:31.363865Z",
     "iopub.status.busy": "2021-12-01T13:00:31.363381Z",
     "iopub.status.idle": "2021-12-01T13:00:31.366456Z",
     "shell.execute_reply": "2021-12-01T13:00:31.366052Z"
    }
   },
   "outputs": [
    {
     "name": "stdout",
     "output_type": "stream",
     "text": [
      "0 1 2 \n",
      "3 4 5 \n"
     ]
    }
   ],
   "source": [
    "for(int i = 0; i < 2; i++) {\n",
    "    for(int j = 0; j < 3; j++)\n",
    "        printf(\"%d \", tab[i][j]);\n",
    "    printf(\"\\n\"); // saute une ligne pour que ce soit plus clair\n",
    "}"
   ]
  },
  {
   "cell_type": "markdown",
   "id": "48f5e673-327f-4463-8f8a-23bb7869e0f0",
   "metadata": {},
   "source": [
    "**Exercice** : Calculer la somme des éléments de `tab`."
   ]
  },
  {
   "cell_type": "markdown",
   "id": "95108fc8-c3b3-49df-b1af-bd4bb7908ecc",
   "metadata": {},
   "source": [
    "## Matrices\n",
    "\n",
    "Un tableau 2D correspond en fait à une matrice en mathématiques. Ainsi, `tab` correspond à la matrice $2\\times 3$ suivante :\n",
    "$$\\begin{pmatrix}\n",
    "0 & 1 & 2\\\\\n",
    "3 & 4 & 5\\\\\n",
    "\\end{pmatrix}$$\n",
    "De manière générale, on peut stocker une matrice $M$ de taille $n\\times p$ (avec $n$ lignes et $p$ colonnes) dans un tableau 2D défini par `int t[n][p]` (ou `double t[n][p]` pour stocker des flottants au lieu d'entiers, par exemple).  \n",
    "`t[i][j]` correspond alors à l'élément de $M$ sur la ligne `i`, colonne `j`. La ligne 0 est celle tout en haut ($0 ~1 ~2$ sur l'exemple ci-dessus) et la colonne 0 celle tout à gauche."
   ]
  },
  {
   "cell_type": "markdown",
   "id": "ea8bb03f-dd19-4af6-b294-f061d94adbe2",
   "metadata": {},
   "source": [
    "## Tableau 2D = tableau de tableaux\n",
    "\n",
    "Un tableau 2D est en fait un tableau dont les éléments sont des tableaux. Par exemple, `int tab[2][3]` signifie que `tab` est un tableau à 2 éléments, qui sont 2 tableaux de taille 3."
   ]
  },
  {
   "cell_type": "code",
   "execution_count": 6,
   "id": "8d236ff9-9c4b-43fe-ab98-727b0f5f722e",
   "metadata": {
    "execution": {
     "iopub.execute_input": "2021-12-01T13:00:31.368523Z",
     "iopub.status.busy": "2021-12-01T13:00:31.368118Z",
     "iopub.status.idle": "2021-12-01T13:00:31.719137Z",
     "shell.execute_reply": "2021-12-01T13:00:31.718060Z"
    }
   },
   "outputs": [
    {
     "data": {
      "text/plain": [
       "{ 0, 1, 2 }"
      ]
     },
     "execution_count": 6,
     "metadata": {},
     "output_type": "execute_result"
    }
   ],
   "source": [
    "tab[0] // tab[0] est un tableau"
   ]
  },
  {
   "cell_type": "markdown",
   "id": "e27ef615-ea8e-498f-bed9-c69732c03587",
   "metadata": {},
   "source": [
    "Quand on écrit `tab[i][j]`, on obtient l'élément d'indice `j` du tableau `tab[i]` :"
   ]
  },
  {
   "cell_type": "code",
   "execution_count": 7,
   "id": "c5d7369c-eb96-470a-aaed-79fd41ddb51e",
   "metadata": {
    "execution": {
     "iopub.execute_input": "2021-12-01T13:00:31.724825Z",
     "iopub.status.busy": "2021-12-01T13:00:31.724358Z",
     "iopub.status.idle": "2021-12-01T13:00:32.068799Z",
     "shell.execute_reply": "2021-12-01T13:00:32.067703Z"
    }
   },
   "outputs": [
    {
     "data": {
      "text/plain": [
       "5"
      ]
     },
     "execution_count": 7,
     "metadata": {},
     "output_type": "execute_result"
    }
   ],
   "source": [
    "int* t = tab[1]; // 2ème tableau de tab\n",
    "t[2] // donne la même chose que tab[1][2]"
   ]
  },
  {
   "cell_type": "markdown",
   "id": "488284e7-fef1-4969-b5a5-e56149ced7fe",
   "metadata": {},
   "source": [
    "## Représentation en mémoire des tableaux statiques\n",
    "\n",
    "Les tableaux définis sur la pile ont leurs éléments stockés consécutivements : d'abord les éléments du 1er tableau, puis du 2ème...  \n",
    "Par exemple, voici comme est stocké le tableau 2D `tab` dans la mémoire RAM :\n",
    "<center><img src=https://github.com/fortierq/tikz/blob/master/data_structure/array/array2d.png?raw=true width=300></center>"
   ]
  },
  {
   "cell_type": "markdown",
   "id": "bfab349a-6ded-40cc-9777-e7cda5925ee8",
   "metadata": {},
   "source": [
    "## Initialisation de tableaux 2D"
   ]
  },
  {
   "cell_type": "markdown",
   "id": "73bed3ff-59d5-486f-b381-cc8cf0cfb215",
   "metadata": {},
   "source": [
    "## Tableaux 2D et pointeurs\n",
    "\n"
   ]
  }
 ],
 "metadata": {
  "kernelspec": {
   "display_name": "C++14",
   "language": "C++14",
   "name": "xcpp14"
  },
  "language_info": {
   "codemirror_mode": "text/x-c++src",
   "file_extension": ".cpp",
   "mimetype": "text/x-c++src",
   "name": "c++",
   "version": "14"
  }
 },
 "nbformat": 4,
 "nbformat_minor": 5
}

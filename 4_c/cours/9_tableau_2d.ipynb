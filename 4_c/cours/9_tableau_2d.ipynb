{
 "cells": [
  {
   "cell_type": "markdown",
   "id": "4deee6f3-5e94-4ae7-b822-5d5c7dffd257",
   "metadata": {},
   "source": [
    "# [Tableaux multidimensionnels ![Binder](https://mybinder.org/badge.svg)](https://mybinder.org/v2/gh/fortierq/binder-mp2i/main?urlpath=git-pull%3Frepo%3Dhttps%253A%252F%252Fgithub.com%252Fmp2i-fsm%252Fmp2i-2021%26urlpath%3Dlab%252Ftree%252Fmp2i-2021%252F4_c%252Fcours%252F9_tableau_2d.ipynb%26branch%3Dmain)\n",
    "\n",
    "Il est parfois intéressant d'utiliser des tableaux à plusieurs dimensions, c'est-à-dire avec plusieurs indices.  \n",
    "Par exemple, une image est une grille de pixels, chaque pixel ayant une abscisse et une ordonnée. On voudrait donc accéder aux pixels en utilisant son abscisse et son ordonnée.  \n",
    "Dans ce cours, on se limite à des tableaux 2D. On pourrait généraliser à des tableaux multidimensionnels quelconque de façon similaire."
   ]
  },
  {
   "cell_type": "markdown",
   "id": "38ca2f6d-d706-4122-905b-685a971b3152",
   "metadata": {},
   "source": [
    "## Tableaux statiques (définis sur la pile)\n",
    "\n",
    "Voici un exemple de tableau à deux dimensions (2D):"
   ]
  },
  {
   "cell_type": "code",
   "execution_count": 1,
   "id": "9cef177c-11b1-45db-ac73-e91307d01ddf",
   "metadata": {
    "execution": {
     "iopub.execute_input": "2021-12-09T17:57:38.296448Z",
     "iopub.status.busy": "2021-12-09T17:57:38.295425Z",
     "iopub.status.idle": "2021-12-09T17:57:38.296920Z",
     "shell.execute_reply": "2021-12-09T17:57:38.295926Z"
    }
   },
   "outputs": [],
   "source": [
    "int tab[2][3];"
   ]
  },
  {
   "cell_type": "markdown",
   "id": "a726b0ff-37e9-4d98-81df-253b86dc0334",
   "metadata": {},
   "source": [
    "`tab` est alors un tableau d'entiers, où il faut donner deux indices pour accéder à un élément :"
   ]
  },
  {
   "cell_type": "code",
   "execution_count": 2,
   "id": "97b7cb4e-d15d-40e2-b7b7-7dba0be87919",
   "metadata": {
    "execution": {
     "iopub.execute_input": "2021-12-09T17:57:38.298921Z",
     "iopub.status.busy": "2021-12-09T17:57:38.298212Z",
     "iopub.status.idle": "2021-12-09T17:57:38.784197Z",
     "shell.execute_reply": "2021-12-09T17:57:38.782730Z"
    }
   },
   "outputs": [
    {
     "data": {
      "text/plain": [
       "42"
      ]
     },
     "execution_count": 2,
     "metadata": {},
     "output_type": "execute_result"
    }
   ],
   "source": [
    "tab[0][1] = 42; // modifie l'élément d'indices 0, 1"
   ]
  },
  {
   "cell_type": "code",
   "execution_count": 3,
   "id": "23462496-d0ee-45ef-a60b-496459096817",
   "metadata": {
    "execution": {
     "iopub.execute_input": "2021-12-09T17:57:38.786835Z",
     "iopub.status.busy": "2021-12-09T17:57:38.786330Z",
     "iopub.status.idle": "2021-12-09T17:57:39.138681Z",
     "shell.execute_reply": "2021-12-09T17:57:39.137458Z"
    }
   },
   "outputs": [
    {
     "data": {
      "text/plain": [
       "42"
      ]
     },
     "execution_count": 3,
     "metadata": {},
     "output_type": "execute_result"
    }
   ],
   "source": [
    "tab[0][1] // récupération de la valeur en position 0, 1"
   ]
  },
  {
   "cell_type": "markdown",
   "id": "b8516a8b-3dc5-4cdb-90db-73938116f2d6",
   "metadata": {},
   "source": [
    "`int tab[2][3]` signifie que la taille suivant la 1ère dimension est 2 et que la taille suivant la 2ème dimension est 3. Pour utiliser `tab[i][j]` il faut donc que `i` soit strictement inférieur à 2 et que `j` soit strictement inférieur à 3."
   ]
  },
  {
   "cell_type": "markdown",
   "id": "7a4b8059-b7ef-464d-a23d-a65f578d9e61",
   "metadata": {},
   "source": [
    "Pour parcourir les éléments d'un tableau 2D, on a besoin de deux boucles `for` imbriquées (pour les 2 indices) :"
   ]
  },
  {
   "cell_type": "code",
   "execution_count": 4,
   "id": "a62f84a3-b816-4ea2-a713-6792755012e7",
   "metadata": {
    "execution": {
     "iopub.execute_input": "2021-12-09T17:57:39.143397Z",
     "iopub.status.busy": "2021-12-09T17:57:39.142959Z",
     "iopub.status.idle": "2021-12-09T17:57:39.143809Z",
     "shell.execute_reply": "2021-12-09T17:57:39.142566Z"
    }
   },
   "outputs": [],
   "source": [
    "for(int i = 0; i < 2; i++)\n",
    "    for(int j = 0; j < 3; j++)\n",
    "        tab[i][j] = i*3 + j;"
   ]
  },
  {
   "cell_type": "markdown",
   "id": "f050bc25-4df9-4ccc-b567-e8760a93f152",
   "metadata": {},
   "source": [
    "On parcourt toutes les valeurs `i` possibles pour le 1er indice, et toutes les valeurs `j` possibles pour le 2ème indice.  \n",
    "On peut ensuite afficher le tableau :"
   ]
  },
  {
   "cell_type": "code",
   "execution_count": 5,
   "id": "757044b7-c656-45a6-9026-34aef36b9306",
   "metadata": {
    "execution": {
     "iopub.execute_input": "2021-12-09T17:57:39.145421Z",
     "iopub.status.busy": "2021-12-09T17:57:39.144983Z",
     "iopub.status.idle": "2021-12-09T17:57:39.148639Z",
     "shell.execute_reply": "2021-12-09T17:57:39.147591Z"
    }
   },
   "outputs": [
    {
     "name": "stdout",
     "output_type": "stream",
     "text": [
      "0 1 2 \n",
      "3 4 5 \n"
     ]
    }
   ],
   "source": [
    "for(int i = 0; i < 2; i++) {\n",
    "    for(int j = 0; j < 3; j++)\n",
    "        printf(\"%d \", tab[i][j]);\n",
    "    printf(\"\\n\"); // saute une ligne pour que ce soit plus clair\n",
    "}"
   ]
  },
  {
   "cell_type": "markdown",
   "id": "48f5e673-327f-4463-8f8a-23bb7869e0f0",
   "metadata": {
    "tags": [
     "exo"
    ]
   },
   "source": [
    "**Exercice** : Calculer la somme des éléments de `tab`."
   ]
  },
  {
   "cell_type": "markdown",
   "id": "95108fc8-c3b3-49df-b1af-bd4bb7908ecc",
   "metadata": {},
   "source": [
    "## Matrices\n",
    "\n",
    "Un tableau 2D correspond en fait à une matrice en mathématiques. Ainsi, `tab` correspond à la matrice $2\\times 3$ suivante :\n",
    "$$\\begin{pmatrix}\n",
    "0 & 1 & 2\\\\\n",
    "3 & 4 & 5\\\\\n",
    "\\end{pmatrix}$$\n",
    "De manière générale, on peut stocker une matrice $M$ de taille $n\\times p$ (avec $n$ lignes et $p$ colonnes) dans un tableau 2D défini par `int t[n][p]` (ou `double t[n][p]` pour stocker des flottants au lieu d'entiers, par exemple).  \n",
    "`t[i][j]` correspond alors à l'élément de $M$ sur la ligne `i`, colonne `j`. La ligne 0 est celle tout en haut ($0 ~1 ~2$ sur l'exemple ci-dessus) et la colonne 0 celle tout à gauche."
   ]
  },
  {
   "cell_type": "markdown",
   "id": "bbc00fc5-a4fa-408f-af39-96c610adb0f0",
   "metadata": {},
   "source": [
    "## Initialisation\n",
    "\n",
    "On pourrait aussi initialiser le tableau 2D `tab` ci-dessus de la façon suivante :"
   ]
  },
  {
   "cell_type": "code",
   "execution_count": 6,
   "id": "077fc1ee-44ed-4b47-b253-af590fe1f76d",
   "metadata": {
    "execution": {
     "iopub.execute_input": "2021-12-09T17:57:39.150422Z",
     "iopub.status.busy": "2021-12-09T17:57:39.149858Z",
     "iopub.status.idle": "2021-12-09T17:57:39.150896Z",
     "shell.execute_reply": "2021-12-09T17:57:39.151232Z"
    }
   },
   "outputs": [],
   "source": [
    "int tab[2][3] = { \n",
    "    {0, 1, 2},\n",
    "    {3, 4, 5}\n",
    "}"
   ]
  },
  {
   "cell_type": "markdown",
   "id": "ea8bb03f-dd19-4af6-b294-f061d94adbe2",
   "metadata": {},
   "source": [
    "## Tableau 2D = tableau de tableaux\n",
    "\n",
    "Un tableau 2D est en fait un tableau dont les éléments sont des tableaux. Par exemple, `int tab[2][3]` signifie que `tab` est un tableau à 2 éléments, qui sont 2 tableaux de taille 3."
   ]
  },
  {
   "cell_type": "code",
   "execution_count": 7,
   "id": "8d236ff9-9c4b-43fe-ab98-727b0f5f722e",
   "metadata": {
    "execution": {
     "iopub.execute_input": "2021-12-09T17:57:39.152784Z",
     "iopub.status.busy": "2021-12-09T17:57:39.152349Z",
     "iopub.status.idle": "2021-12-09T17:57:39.511370Z",
     "shell.execute_reply": "2021-12-09T17:57:39.510209Z"
    }
   },
   "outputs": [
    {
     "data": {
      "text/plain": [
       "{ 0, 1, 2 }"
      ]
     },
     "execution_count": 7,
     "metadata": {},
     "output_type": "execute_result"
    }
   ],
   "source": [
    "tab[0] // tab[0] est un tableau"
   ]
  },
  {
   "cell_type": "markdown",
   "id": "e27ef615-ea8e-498f-bed9-c69732c03587",
   "metadata": {},
   "source": [
    "Quand on écrit `tab[i][j]`, on obtient l'élément d'indice `j` du tableau `tab[i]` :"
   ]
  },
  {
   "cell_type": "code",
   "execution_count": 8,
   "id": "c5d7369c-eb96-470a-aaed-79fd41ddb51e",
   "metadata": {
    "execution": {
     "iopub.execute_input": "2021-12-09T17:57:39.514948Z",
     "iopub.status.busy": "2021-12-09T17:57:39.514455Z",
     "iopub.status.idle": "2021-12-09T17:57:39.864701Z",
     "shell.execute_reply": "2021-12-09T17:57:39.863430Z"
    }
   },
   "outputs": [
    {
     "data": {
      "text/plain": [
       "5"
      ]
     },
     "execution_count": 8,
     "metadata": {},
     "output_type": "execute_result"
    }
   ],
   "source": [
    "int* t = tab[1]; // 2ème tableau de tab\n",
    "t[2] // donne la même chose que tab[1][2]"
   ]
  },
  {
   "cell_type": "markdown",
   "id": "488284e7-fef1-4969-b5a5-e56149ced7fe",
   "metadata": {},
   "source": [
    "## Représentation en mémoire des tableaux statiques\n",
    "\n",
    "Les tableaux définis sur la pile ont leurs éléments stockés consécutivements : d'abord les éléments du 1er tableau, puis du 2ème...  \n",
    "Par exemple, voici comme est stocké le tableau 2D `tab` dans la mémoire RAM :\n",
    "<center><img src=https://github.com/fortierq/tikz/blob/master/data_structure/array/array2d.png?raw=true width=600></center>"
   ]
  },
  {
   "cell_type": "markdown",
   "id": "cc574a84-5ae7-408d-9bd4-1f8dbadc54bc",
   "metadata": {
    "tags": []
   },
   "source": [
    "## Linéarisation de tableau 2D\n",
    "\n",
    "Reprenons le tableau sur le dessin ci-dessus :"
   ]
  },
  {
   "cell_type": "code",
   "execution_count": 9,
   "id": "a1a9e3a1-98a0-43e2-a425-b2a4efa0ff53",
   "metadata": {
    "execution": {
     "iopub.execute_input": "2021-12-09T17:57:39.866805Z",
     "iopub.status.busy": "2021-12-09T17:57:39.866181Z",
     "iopub.status.idle": "2021-12-09T17:57:39.867280Z",
     "shell.execute_reply": "2021-12-09T17:57:39.867611Z"
    }
   },
   "outputs": [],
   "source": [
    "int t2[2][3] = { \n",
    "    {0, 1, 2},\n",
    "    {3, 4, 5}\n",
    "}"
   ]
  },
  {
   "cell_type": "markdown",
   "id": "74aaab0e-c36f-4cb3-9d60-0db56cc979da",
   "metadata": {},
   "source": [
    "À la place d'un tableau 2D, on pourrait utiliser un tableau 1D :"
   ]
  },
  {
   "cell_type": "code",
   "execution_count": 10,
   "id": "467e54b9-2e48-404f-bb50-dc1710f9f7c9",
   "metadata": {
    "execution": {
     "iopub.execute_input": "2021-12-09T17:57:39.869256Z",
     "iopub.status.busy": "2021-12-09T17:57:39.868682Z",
     "iopub.status.idle": "2021-12-09T17:57:39.869748Z",
     "shell.execute_reply": "2021-12-09T17:57:39.870087Z"
    }
   },
   "outputs": [],
   "source": [
    "int t1[6] = {0, 1, 2, 3, 4, 5}"
   ]
  },
  {
   "cell_type": "markdown",
   "id": "f06b18f8-b777-4fde-a767-f35016aad380",
   "metadata": {},
   "source": [
    "En mémoire, `t1` et `t2` sont stockés de la même façon. Le seul avantage apporté par la première définition est de pouvoir écrire `t2[i][j]`.  \n",
    "Comme `t2` est un tableau $2\\times 3$, `t2[i][j]` est la même chose que `t1[3*i + j]` :"
   ]
  },
  {
   "cell_type": "code",
   "execution_count": 11,
   "id": "5b32b0e7-b37f-4af0-b4f2-59ee8e29a0bb",
   "metadata": {
    "execution": {
     "iopub.execute_input": "2021-12-09T17:57:39.871563Z",
     "iopub.status.busy": "2021-12-09T17:57:39.871149Z",
     "iopub.status.idle": "2021-12-09T17:57:40.226347Z",
     "shell.execute_reply": "2021-12-09T17:57:40.225075Z"
    }
   },
   "outputs": [
    {
     "data": {
      "text/plain": [
       "5"
      ]
     },
     "execution_count": 11,
     "metadata": {},
     "output_type": "execute_result"
    }
   ],
   "source": [
    "t1[3 + 2]  // pareil que t2[1][2]"
   ]
  },
  {
   "cell_type": "markdown",
   "id": "8325e5e9-51c3-4107-ac74-76be59232dc2",
   "metadata": {},
   "source": [
    "De manière générale, au lieu d'un tableau `t2[n][p]` 2D de dimensions $n$ et $p$, on peut utiliser un tableau 1D `t1[n*p]` de taille $np$, en disant que `t2[i][j]` correspond à `t1[i*p + j]`."
   ]
  },
  {
   "cell_type": "markdown",
   "id": "73bed3ff-59d5-486f-b381-cc8cf0cfb215",
   "metadata": {},
   "source": [
    "## Passage de tableau 2D statique en argument\n",
    "\n",
    "Il existe plusieurs façons de passer un tableau 2D statique (défini sur la pile) en argument d'une fonction.\n",
    "\n",
    "### Avec un tableau 1D (en linéarisant) "
   ]
  },
  {
   "cell_type": "code",
   "execution_count": 12,
   "id": "f4c57039-3d49-40e6-b722-436176dddb94",
   "metadata": {
    "execution": {
     "iopub.execute_input": "2021-12-09T17:57:40.228158Z",
     "iopub.status.busy": "2021-12-09T17:57:40.227675Z",
     "iopub.status.idle": "2021-12-09T17:57:40.232354Z",
     "shell.execute_reply": "2021-12-09T17:57:40.231262Z"
    }
   },
   "outputs": [
    {
     "name": "stdout",
     "output_type": "stream",
     "text": [
      "0 1 2 \n",
      "3 4 5 \n"
     ]
    }
   ],
   "source": [
    "void print_matrix1(int* m, int n, int p) {\n",
    "    // affiche une matrice m de taille n*p (linéarisée)\n",
    "    for(int i = 0; i < n; i++) { // i parcourt les lignes\n",
    "        for(int j = 0; j < p; j++) // j parcourt les colonnes\n",
    "            printf(\"%d \", m[i*p + j]);\n",
    "        printf(\"\\n\");\n",
    "    }\n",
    "}\n",
    "print_matrix1(t1, 2, 3);"
   ]
  },
  {
   "cell_type": "markdown",
   "id": "91cbc634-5cec-4b98-8224-fd266bf86689",
   "metadata": {},
   "source": [
    "**Remarque** : Puisqu'un tableau 2D est stocké comme un tableau 1D et que c'est l'adresse vers le premier élément qui est passé lorsqu'on donne un tableau en argument, on peut aussi utiliser `print_matrix` sur un tableau 2D :"
   ]
  },
  {
   "cell_type": "code",
   "execution_count": 13,
   "id": "d0ccb78c-79f0-465a-98c9-12a6a1c84ae6",
   "metadata": {
    "execution": {
     "iopub.execute_input": "2021-12-09T17:57:40.234012Z",
     "iopub.status.busy": "2021-12-09T17:57:40.233548Z",
     "iopub.status.idle": "2021-12-09T17:57:40.237039Z",
     "shell.execute_reply": "2021-12-09T17:57:40.236089Z"
    }
   },
   "outputs": [
    {
     "name": "stdout",
     "output_type": "stream",
     "text": [
      "0 1 2 \n",
      "3 4 5 \n",
      "0 1 2 \n",
      "3 4 5 \n"
     ]
    }
   ],
   "source": [
    "print_matrix1(&t2[0][0], 2, 3); // marche\n",
    "print_matrix1(t2[0], 2, 3); // marche aussi"
   ]
  },
  {
   "cell_type": "markdown",
   "id": "0e483a4c-3246-4f35-9af4-6334ab8b0271",
   "metadata": {
    "tags": [
     "exo"
    ]
   },
   "source": [
    "**Exercice** : Écrire une fonction pour calculer la **trace** d'une matrice carrée, c'est-à-dire la somme des termes sur la diagonale.  "
   ]
  },
  {
   "cell_type": "markdown",
   "id": "74883af5-e414-4f81-87bc-d913b8b41772",
   "metadata": {},
   "source": [
    "### Avec un \"vrai\" tableau 2D\n",
    "\n",
    "Pour garder un tableau 2D en argument, il faut que la taille suivant la deuxième dimension soit constante et donnée, pour que C sache de combien à quelle cases mémoires il faut regarder lorsqu'on écrit `m[i][j]` (c'est-à-dire à la `i + p*j` ème case) :"
   ]
  },
  {
   "cell_type": "code",
   "execution_count": 14,
   "id": "d87588fa-4a1c-44dd-85bc-6393f805dbb5",
   "metadata": {
    "execution": {
     "iopub.execute_input": "2021-12-09T17:57:40.239152Z",
     "iopub.status.busy": "2021-12-09T17:57:40.238536Z",
     "iopub.status.idle": "2021-12-09T17:57:40.242674Z",
     "shell.execute_reply": "2021-12-09T17:57:40.242303Z"
    }
   },
   "outputs": [
    {
     "name": "stdout",
     "output_type": "stream",
     "text": [
      "0 1 2 \n",
      "3 4 5 \n"
     ]
    }
   ],
   "source": [
    "void print_matrix2(int n, int m[][3]) {\n",
    "    // affiche une matrice m de taille n*3\n",
    "    for(int i = 0; i < n; i++) { // i parcourt les lignes\n",
    "        for(int j = 0; j < 3; j++) // j parcourt les colonnes\n",
    "            printf(\"%d \", m[i][j]);\n",
    "        printf(\"\\n\");\n",
    "    }\n",
    "}\n",
    "print_matrix2(2, t2);"
   ]
  },
  {
   "cell_type": "markdown",
   "id": "0d4d0ff8-b16c-4e38-9c48-1e1819e8eb13",
   "metadata": {
    "tags": [
     "exo"
    ]
   },
   "source": [
    "**Exercice** : Écrire une fonction pour déterminer si une matrice est symétrique ($M_{i, j} = M_{j, i}, ~\\forall i, j$)."
   ]
  },
  {
   "cell_type": "markdown",
   "id": "7f8ca958-627b-430e-a798-d5e22a77132e",
   "metadata": {},
   "source": [
    "**Remarque** : Il serait possible d'utiliser les VLA (*Variable Length Array*) du C pour éviter de fixer comme constante la 2ème dimension. C'est de toute façon déconseillé, et incompatible en C++."
   ]
  },
  {
   "cell_type": "markdown",
   "id": "34f79e20-228e-4df9-8438-c0724d3fb3b4",
   "metadata": {
    "tags": []
   },
   "source": [
    "## Tableau 2D dynamiques (sur le tas, avec `malloc`)\n",
    "\n",
    "On peut définir dynamiquement un tableau 2D, ce qui permet, comme pour les tableaux classiques, d'avoir une taille connue à l'exécution et de pouvoir être créé puis renvoyé par une fonction sans être supprimé."
   ]
  },
  {
   "cell_type": "markdown",
   "id": "f93bbff5-0a65-4276-b604-2371e86886ff",
   "metadata": {},
   "source": [
    "### Tableau dynamique linéarisé"
   ]
  },
  {
   "cell_type": "code",
   "execution_count": 15,
   "id": "b1e68f10-9492-4c02-afd4-36d0a426becb",
   "metadata": {
    "execution": {
     "iopub.execute_input": "2021-12-09T17:57:40.244267Z",
     "iopub.status.busy": "2021-12-09T17:57:40.243843Z",
     "iopub.status.idle": "2021-12-09T17:57:40.247927Z",
     "shell.execute_reply": "2021-12-09T17:57:40.247528Z"
    }
   },
   "outputs": [
    {
     "name": "stdout",
     "output_type": "stream",
     "text": [
      "1 0 0 0 0 \n",
      "0 1 0 0 0 \n",
      "0 0 1 0 0 \n",
      "0 0 0 1 0 \n",
      "0 0 0 0 1 \n"
     ]
    }
   ],
   "source": [
    "// renvoie la matrice identité de taile n sous forme de tableau 1D\n",
    "int* id_matrix1(int n) {\n",
    "    int *t = (int*)malloc(n*n*sizeof(int));\n",
    "    for(int i = 0; i < n; i++)\n",
    "        for(int j = 0; j < n; j++) {\n",
    "            if(i == j)\n",
    "                t[i*n + j] = 1;\n",
    "            else\n",
    "                t[i*n + j] = 0;\n",
    "        }\n",
    "    return t;\n",
    "}\n",
    "\n",
    "int* id = id_matrix1(5);\n",
    "print_matrix1(id, 5, 5);"
   ]
  },
  {
   "cell_type": "code",
   "execution_count": 16,
   "id": "55977d98-4956-4f6b-8020-affbcd823832",
   "metadata": {
    "execution": {
     "iopub.execute_input": "2021-12-09T17:57:40.249799Z",
     "iopub.status.busy": "2021-12-09T17:57:40.249032Z",
     "iopub.status.idle": "2021-12-09T17:57:40.276889Z",
     "shell.execute_reply": "2021-12-09T17:57:40.255027Z"
    }
   },
   "outputs": [
    {
     "name": "stderr",
     "output_type": "stream",
     "text": [
      "input_line_29:2:24: warning: sizeof on array function parameter will return size of 'char *' instead of 'char []' [-Wsizeof-array-argument]\n",
      "    printf(\"%d\", sizeof(s));\n",
      "                       ^\n",
      "input_line_29:1:13: note: declared here\n",
      "void f(char s[]) {\n",
      "            ^\n",
      "input_line_29:2:18: warning: format specifies type 'int' but the argument has type 'unsigned long' [-Wformat]\n",
      "    printf(\"%d\", sizeof(s));\n",
      "            ~~   ^~~~~~~~~\n",
      "            %lu\n"
     ]
    }
   ],
   "source": [
    "void f(char s[]) {\n",
    "    printf(\"%d\", sizeof(s));\n",
    "}"
   ]
  },
  {
   "cell_type": "code",
   "execution_count": 17,
   "id": "24e83af6-e1a3-4c07-aef2-e8855a28aab1",
   "metadata": {
    "execution": {
     "iopub.execute_input": "2021-12-09T17:57:40.278589Z",
     "iopub.status.busy": "2021-12-09T17:57:40.278168Z",
     "iopub.status.idle": "2021-12-09T17:57:40.282679Z",
     "shell.execute_reply": "2021-12-09T17:57:40.282299Z"
    }
   },
   "outputs": [
    {
     "name": "stdout",
     "output_type": "stream",
     "text": [
      "8"
     ]
    }
   ],
   "source": [
    "char s[] = \"mpsi\";\n",
    "f(s)"
   ]
  },
  {
   "cell_type": "markdown",
   "id": "4c280275-50b7-4e73-8f39-4b4f63a2e85d",
   "metadata": {},
   "source": [
    "On peut ensuite libérer toute la mémoire avec `free` :"
   ]
  },
  {
   "cell_type": "code",
   "execution_count": 18,
   "id": "6861c74f-f8b8-4b16-8617-c8c21889b373",
   "metadata": {
    "execution": {
     "iopub.execute_input": "2021-12-09T17:57:40.284240Z",
     "iopub.status.busy": "2021-12-09T17:57:40.283808Z",
     "iopub.status.idle": "2021-12-09T17:57:40.286258Z",
     "shell.execute_reply": "2021-12-09T17:57:40.285861Z"
    }
   },
   "outputs": [],
   "source": [
    "free(id)"
   ]
  },
  {
   "cell_type": "markdown",
   "id": "020f0359-f018-481b-bc2d-e6b38cdfcf08",
   "metadata": {
    "tags": [
     "exo"
    ]
   },
   "source": [
    "**Exercice** : Comment se passer du `if ... else ...` dans `id_matrix1` ?"
   ]
  },
  {
   "cell_type": "markdown",
   "id": "b4d49c33-7485-4666-8976-a81378ba6a3b",
   "metadata": {
    "tags": [
     "exo"
    ]
   },
   "source": [
    "**Exercice** : Écrire une fonction pour calculer le produit de deux matrices (de tailles compatibles). Complexité?"
   ]
  },
  {
   "cell_type": "markdown",
   "id": "0c5c4356-3cbd-41d8-a819-c7db0fd55e98",
   "metadata": {
    "tags": [
     "exo"
    ]
   },
   "source": [
    "**Exercice** : Écrire une fonction pour calculer une puissance de matrice. Complexité?"
   ]
  },
  {
   "cell_type": "markdown",
   "id": "2fad25a4-ddff-4582-8ea0-d2ae6fedd5b0",
   "metadata": {},
   "source": [
    "### Tableau de pointeurs\n",
    "\n",
    "On peut aussi utiliser un `malloc` pour chaque sous-tableau (c'est-à-dire chaque ligne de la matrice correspondante). Chaque `malloc` nous donne un pointeur vers la zone où est stocké le tableau. On peut stocker tous ces pointeurs dans un tableau, qui est donc un tableau de tableaux (par exemple de type `int**`, c'est-à-dire un pointeur vers la première case d'un tableau dont les éléments sont des `int*`).\n",
    "<center><img src=https://github.com/fortierq/tikz/blob/master/data_structure/matrix/pointer_pointer/pointer_pointer.png?raw=true width=300></center>"
   ]
  },
  {
   "cell_type": "code",
   "execution_count": 19,
   "id": "6eff433c-f477-4948-9b17-6fb5cc79fcc2",
   "metadata": {
    "execution": {
     "iopub.execute_input": "2021-12-09T17:57:40.289535Z",
     "iopub.status.busy": "2021-12-09T17:57:40.288761Z",
     "iopub.status.idle": "2021-12-09T17:57:40.289969Z",
     "shell.execute_reply": "2021-12-09T17:57:40.289131Z"
    }
   },
   "outputs": [],
   "source": [
    "// renvoie la matrice identité de taile n sous forme de tableau de pointeurs\n",
    "int** id_matrix2(int n) {\n",
    "    int **t = (int**)malloc(n*sizeof(int*)); // tableau de pointeurs\n",
    "    for(int i = 0; i < n; i++) {\n",
    "        t[i] = (int*)malloc(n*sizeof(int)); // tableau pour la ligne i\n",
    "        for(int j = 0; j < n; j++) {\n",
    "            if(i == j)\n",
    "                t[i][j] = 1;\n",
    "            else\n",
    "                t[i][j] = 0;\n",
    "        }\n",
    "    }\n",
    "    return t;\n",
    "}"
   ]
  },
  {
   "cell_type": "code",
   "execution_count": 20,
   "id": "22f5721c-f25b-46ed-b738-ab589968c3e2",
   "metadata": {
    "execution": {
     "iopub.execute_input": "2021-12-09T17:57:40.292287Z",
     "iopub.status.busy": "2021-12-09T17:57:40.291869Z",
     "iopub.status.idle": "2021-12-09T17:57:40.295731Z",
     "shell.execute_reply": "2021-12-09T17:57:40.295338Z"
    }
   },
   "outputs": [
    {
     "name": "stdout",
     "output_type": "stream",
     "text": [
      "1 0 0 \n",
      "0 1 0 \n",
      "0 0 1 \n"
     ]
    }
   ],
   "source": [
    "void print_matrix3(int** m, int n, int p) {\n",
    "    // affiche une matrice m de taille n*3\n",
    "    for(int i = 0; i < n; i++) { // i parcourt les lignes\n",
    "        for(int j = 0; j < 3; j++) // j parcourt les colonnes\n",
    "            printf(\"%d \", m[i][j]);\n",
    "        printf(\"\\n\");\n",
    "    }\n",
    "}\n",
    "\n",
    "int** id = id_matrix2(3);\n",
    "print_matrix3(id, 3, 3)"
   ]
  },
  {
   "cell_type": "markdown",
   "id": "9dc5150a-6367-4dd1-8003-d815e5380a87",
   "metadata": {},
   "source": [
    "Pour libérer, c'est un peu plus compliqué : il faut d'abord un `free` sur chaque sous-tableau, puis sur le tableau global : "
   ]
  },
  {
   "cell_type": "code",
   "execution_count": 21,
   "id": "3787064d-e45f-4d1b-aaef-9fd4bae99da5",
   "metadata": {
    "execution": {
     "iopub.execute_input": "2021-12-09T17:57:40.297201Z",
     "iopub.status.busy": "2021-12-09T17:57:40.296781Z",
     "iopub.status.idle": "2021-12-09T17:57:40.299449Z",
     "shell.execute_reply": "2021-12-09T17:57:40.299088Z"
    }
   },
   "outputs": [],
   "source": [
    "void free_matrix(int** m, int n) {\n",
    "    for(int i = 0; i < n; i++)\n",
    "        free(m[i]);\n",
    "    free(m);\n",
    "}\n",
    "\n",
    "free_matrix(id, 3);"
   ]
  },
  {
   "cell_type": "markdown",
   "id": "ffdf7b63-8fb2-4eca-96f5-ec3741d98da2",
   "metadata": {},
   "source": [
    "Un avantage de cette représentation est qu'elle permet de créer des tableaux 2D dont les sous-tableaux sont de tailles différentes, même si c'est rarement utile."
   ]
  },
  {
   "cell_type": "markdown",
   "id": "546b7947-9b5f-4e7e-9ef1-ce40da01d81b",
   "metadata": {
    "tags": [
     "exo"
    ]
   },
   "source": [
    "**Exercice** : Écrire une fonction permettant de renvoyer la transposée d'une matrice."
   ]
  },
  {
   "cell_type": "markdown",
   "id": "3965ea07-bebe-45ef-ba39-febdc9bb8549",
   "metadata": {
    "tags": [
     "exo"
    ]
   },
   "source": [
    "**Exercice** : (1ère question d'un oral math-info du concours Centrale) Ecrire une fonction `int* serpent(int n)` renvoyant une matrice $n\\times n$ ressemblant à :\n",
    "$$\\begin{pmatrix}\n",
    "1 & 2 & 3 & 4\\\\\n",
    "8 & 7 & 6 & 5\\\\\n",
    "9 & 10 & 11 & 12\\\\\n",
    "16 & 15 & 14 & 13\n",
    "\\end{pmatrix}$$"
   ]
  }
 ],
 "metadata": {
  "interpreter": {
   "hash": "370b1589d5eaa8e70ea377fc56b9c5586cca036d8fef65e73e33cd5f49ea4bb3"
  },
  "kernelspec": {
   "display_name": "C++14",
   "language": "C++14",
   "name": "xcpp14"
  },
  "language_info": {
   "codemirror_mode": "text/x-c++src",
   "file_extension": ".cpp",
   "mimetype": "text/x-c++src",
   "name": "c++",
   "version": "14"
  }
 },
 "nbformat": 4,
 "nbformat_minor": 5
}

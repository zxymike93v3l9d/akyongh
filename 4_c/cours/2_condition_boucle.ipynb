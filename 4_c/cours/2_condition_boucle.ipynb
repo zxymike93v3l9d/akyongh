{
 "cells": [
  {
   "cell_type": "markdown",
   "id": "89feb20b-17db-4c2f-8051-6d84bb9d647f",
   "metadata": {},
   "source": [
    "# <center><a href='https://mybinder.org/v2/gh/fortierq/binder-mp2i/main?urlpath=git-pull%3Frepo%3Dhttps%253A%252F%252Fgithub.com%252Fmp2i-fsm%252Fmp2i-2021%26urlpath%3Dlab%252Ftree%252Fmp2i-2021%252F4_c%252Fcours%252F2_condition_boucle.ipynb%26branch%3Dmain'>Conditions et boucles                                             <img src=https://mybinder.org/badge.svg></a></center>\n",
    "\n",
    "## Booléen\n",
    "\n",
    "Un booléen est de type `bool` et est soit `true`, soit `false` :"
   ]
  },
  {
   "cell_type": "code",
   "execution_count": 1,
   "id": "4ffec658-fe8d-408c-bbfd-307b019095f7",
   "metadata": {
    "execution": {
     "iopub.execute_input": "2021-11-20T14:07:37.306881Z",
     "iopub.status.busy": "2021-11-20T14:07:37.305892Z",
     "iopub.status.idle": "2021-11-20T14:07:37.307323Z",
     "shell.execute_reply": "2021-11-20T14:07:37.306377Z"
    }
   },
   "outputs": [],
   "source": [
    "bool b = false;"
   ]
  },
  {
   "cell_type": "markdown",
   "id": "be250c5c-4cae-4f57-a6a7-1832b603893c",
   "metadata": {},
   "source": [
    "Un booléen est codé sur 1 octet = 8 bits (il y a donc 7 bits qui sont \"gachés\", car 1 octet est le minimum que l'on puisse allouer sur un ordinateur) :"
   ]
  },
  {
   "cell_type": "code",
   "execution_count": 2,
   "id": "2ea26719-5eaf-4ed0-8a99-870ee263da2d",
   "metadata": {
    "execution": {
     "iopub.execute_input": "2021-11-20T14:07:37.309135Z",
     "iopub.status.busy": "2021-11-20T14:07:37.308655Z",
     "iopub.status.idle": "2021-11-20T14:07:37.878093Z",
     "shell.execute_reply": "2021-11-20T14:07:37.876596Z"
    }
   },
   "outputs": [
    {
     "data": {
      "text/plain": [
       "1"
      ]
     },
     "execution_count": 2,
     "metadata": {},
     "output_type": "execute_result"
    }
   ],
   "source": [
    "sizeof(b)"
   ]
  },
  {
   "cell_type": "markdown",
   "id": "e01b66ef-9796-401e-92cb-edcbdc464683",
   "metadata": {},
   "source": [
    "**Remarque** : `bool` existe par défaut en C++ mais pas en C, mais on peut importer [stdlib.h](https://github.com/gcc-mirror/gcc/blob/master/gcc/ginclude/stdbool.h) (`#include <stdlib.h>`) pour utilisation une définition du type `bool` (où `false` est défini par 0 et `true` par 1)."
   ]
  },
  {
   "cell_type": "markdown",
   "id": "00f75f1e-02bb-49e7-a4a0-31e6b42d6c16",
   "metadata": {},
   "source": [
    "Les opérateurs de comparaison sont très similaires à OCaml et Python :"
   ]
  },
  {
   "cell_type": "code",
   "execution_count": 3,
   "id": "a0c3915d-b2de-4a87-9c94-b22822a84fea",
   "metadata": {
    "execution": {
     "iopub.execute_input": "2021-11-20T14:07:37.881012Z",
     "iopub.status.busy": "2021-11-20T14:07:37.880146Z",
     "iopub.status.idle": "2021-11-20T14:07:38.294774Z",
     "shell.execute_reply": "2021-11-20T14:07:38.293572Z"
    }
   },
   "outputs": [
    {
     "data": {
      "text/plain": [
       "true"
      ]
     },
     "execution_count": 3,
     "metadata": {},
     "output_type": "execute_result"
    }
   ],
   "source": [
    "1 <= 1"
   ]
  },
  {
   "cell_type": "code",
   "execution_count": 4,
   "id": "623aa20f-3199-4fe6-9da2-e109a5956e95",
   "metadata": {
    "execution": {
     "iopub.execute_input": "2021-11-20T14:07:38.297579Z",
     "iopub.status.busy": "2021-11-20T14:07:38.296906Z",
     "iopub.status.idle": "2021-11-20T14:07:38.722171Z",
     "shell.execute_reply": "2021-11-20T14:07:38.720854Z"
    }
   },
   "outputs": [
    {
     "data": {
      "text/plain": [
       "false"
      ]
     },
     "execution_count": 4,
     "metadata": {},
     "output_type": "execute_result"
    }
   ],
   "source": [
    "1 < 1"
   ]
  },
  {
   "cell_type": "code",
   "execution_count": 5,
   "id": "42c04e8a-e845-4223-bb57-f25e06c2eacf",
   "metadata": {
    "execution": {
     "iopub.execute_input": "2021-11-20T14:07:38.725708Z",
     "iopub.status.busy": "2021-11-20T14:07:38.724848Z",
     "iopub.status.idle": "2021-11-20T14:07:39.127571Z",
     "shell.execute_reply": "2021-11-20T14:07:39.125535Z"
    }
   },
   "outputs": [
    {
     "data": {
      "text/plain": [
       "true"
      ]
     },
     "execution_count": 5,
     "metadata": {},
     "output_type": "execute_result"
    }
   ],
   "source": [
    "1 == 1  // équivalent du = en OCaml"
   ]
  },
  {
   "cell_type": "code",
   "execution_count": 6,
   "id": "fe3a86ea-34c8-44eb-a0f9-861e8f308b34",
   "metadata": {
    "execution": {
     "iopub.execute_input": "2021-11-20T14:07:39.129472Z",
     "iopub.status.busy": "2021-11-20T14:07:39.129069Z",
     "iopub.status.idle": "2021-11-20T14:07:39.535294Z",
     "shell.execute_reply": "2021-11-20T14:07:39.534029Z"
    }
   },
   "outputs": [
    {
     "data": {
      "text/plain": [
       "false"
      ]
     },
     "execution_count": 6,
     "metadata": {},
     "output_type": "execute_result"
    }
   ],
   "source": [
    "1 != 1  // équivalent du <> en OCaml"
   ]
  },
  {
   "cell_type": "markdown",
   "id": "a9c436cb-2b80-4a8c-9ffd-e0858546ece2",
   "metadata": {},
   "source": [
    "Voici une comparaison des opérateurs sur les booléens :\n",
    "\n",
    "|     | C      | OCaml  | Python |\n",
    "|-----|--------|--------|--------|\n",
    "| et  | `&&`   | `&&`   | `and`  |\n",
    "| ou  | `\\|\\|` | `\\|\\|` | `or`   |\n",
    "| non | `!`    | `not`  | `not`  |"
   ]
  },
  {
   "cell_type": "markdown",
   "id": "e5788221-261c-4a81-b650-31bb2fac5550",
   "metadata": {},
   "source": [
    "Lorsque `a` est vraie, `a || b` évalue seulement `a` et `b` n'est jamais évalué. C'est ce qu'on appelle l'**évaluation paresseuse**.  \n",
    "Dans l'exemple suivant, on utilise le fait que `printf` renvoie le nombre de caractères affichés (c'est-à-dire la taille de la chaîne de caractères en argument), qui est implicitement convertit en booléen (`0` est convertit en `false` et tous les autres entiers en `true`) :"
   ]
  },
  {
   "cell_type": "code",
   "execution_count": 7,
   "id": "6bce288e-90ef-47cb-b85e-447f7869c945",
   "metadata": {
    "execution": {
     "iopub.execute_input": "2021-11-20T14:07:39.540502Z",
     "iopub.status.busy": "2021-11-20T14:07:39.539545Z",
     "iopub.status.idle": "2021-11-20T14:07:39.954727Z",
     "shell.execute_reply": "2021-11-20T14:07:39.953523Z"
    }
   },
   "outputs": [
    {
     "name": "stdout",
     "output_type": "stream",
     "text": [
      "a"
     ]
    },
    {
     "data": {
      "text/plain": [
       "true"
      ]
     },
     "execution_count": 7,
     "metadata": {},
     "output_type": "execute_result"
    }
   ],
   "source": [
    "printf(\"a\") || printf(\"b\") // printf(\"a\") est exécuté mais pas printf(\"b\")"
   ]
  },
  {
   "cell_type": "markdown",
   "id": "4ec7f6c9-d382-492d-a3dc-15cd282590d3",
   "metadata": {
    "tags": [
     "exo"
    ]
   },
   "source": [
    "**Exercice** : Devinez ce qu'affiche `(1 - printf(\"a\")) && (1 - printf(\"b\"))` puis vérifier. "
   ]
  },
  {
   "cell_type": "markdown",
   "id": "39cedb7d-38b5-422a-87ab-00604a2d1d0f",
   "metadata": {},
   "source": [
    "## Condition if\n",
    "\n",
    "Voici un exemple de `if` :"
   ]
  },
  {
   "cell_type": "code",
   "execution_count": 8,
   "id": "4ef24076-6153-48c3-a31e-fc7ab2860b40",
   "metadata": {
    "execution": {
     "iopub.execute_input": "2021-11-20T14:07:39.957757Z",
     "iopub.status.busy": "2021-11-20T14:07:39.956962Z",
     "iopub.status.idle": "2021-11-20T14:07:39.960555Z",
     "shell.execute_reply": "2021-11-20T14:07:39.959513Z"
    }
   },
   "outputs": [
    {
     "name": "stdout",
     "output_type": "stream",
     "text": [
      "n est pair"
     ]
    }
   ],
   "source": [
    "int n = 42;\n",
    "if(n % 2 == 0) {\n",
    "    printf(\"n est pair\");\n",
    "}"
   ]
  },
  {
   "cell_type": "markdown",
   "id": "2cf07098-7bbc-4f9e-965c-6482cd56df6d",
   "metadata": {},
   "source": [
    "Les accolades servent à délimiter le bloc qui sera exécuté si la condition du `if` est `true`.  \n",
    "Il est possible (mais pas forcément conseillé) d'ommettre les parenthèses s'il n'y a qu'une instruction dans le `if` :"
   ]
  },
  {
   "cell_type": "code",
   "execution_count": 9,
   "id": "a5bd8893-9e84-4b93-baf2-3d2bb28e338b",
   "metadata": {
    "execution": {
     "iopub.execute_input": "2021-11-20T14:07:39.965065Z",
     "iopub.status.busy": "2021-11-20T14:07:39.964200Z",
     "iopub.status.idle": "2021-11-20T14:07:39.969034Z",
     "shell.execute_reply": "2021-11-20T14:07:39.967846Z"
    }
   },
   "outputs": [
    {
     "name": "stdout",
     "output_type": "stream",
     "text": [
      "n est pair"
     ]
    }
   ],
   "source": [
    "if(n % 2 == 0)\n",
    "    printf(\"n est pair\");"
   ]
  },
  {
   "cell_type": "markdown",
   "id": "266cedf2-e1fd-44a2-86a3-f4d9abbc45bc",
   "metadata": {},
   "source": [
    "On peut aussi utiliser `else` :"
   ]
  },
  {
   "cell_type": "code",
   "execution_count": 10,
   "id": "0275c837-5cd5-4264-8698-17c86b738c9b",
   "metadata": {
    "execution": {
     "iopub.execute_input": "2021-11-20T14:07:39.971633Z",
     "iopub.status.busy": "2021-11-20T14:07:39.971052Z",
     "iopub.status.idle": "2021-11-20T14:07:39.973978Z",
     "shell.execute_reply": "2021-11-20T14:07:39.973512Z"
    }
   },
   "outputs": [
    {
     "name": "stdout",
     "output_type": "stream",
     "text": [
      "n est impair"
     ]
    }
   ],
   "source": [
    "int n = 1;\n",
    "if(n % 2 == 0) {\n",
    "    printf(\"n est pair\");\n",
    "}\n",
    "else {\n",
    "    printf(\"n est impair\");\n",
    "}"
   ]
  },
  {
   "cell_type": "markdown",
   "id": "b2578d4d-62a1-436b-8c39-4a31b6b32090",
   "metadata": {},
   "source": [
    "## Boucle for\n",
    "\n",
    "La boucle `for` suivante répète les instructions entre accolades pour `i` variant de 0 à 4 :"
   ]
  },
  {
   "cell_type": "code",
   "execution_count": 11,
   "id": "29be2d46-db1c-4a85-b6ec-ad90f5e73d53",
   "metadata": {
    "execution": {
     "iopub.execute_input": "2021-11-20T14:07:39.977099Z",
     "iopub.status.busy": "2021-11-20T14:07:39.976370Z",
     "iopub.status.idle": "2021-11-20T14:07:39.978695Z",
     "shell.execute_reply": "2021-11-20T14:07:39.978259Z"
    }
   },
   "outputs": [
    {
     "name": "stdout",
     "output_type": "stream",
     "text": [
      "0 1 2 3 4 "
     ]
    }
   ],
   "source": [
    "for(int i = 0; i < 5; i++) {\n",
    "    printf(\"%d \", i);\n",
    "}"
   ]
  },
  {
   "cell_type": "markdown",
   "id": "849c5a57-c257-43cd-8220-3411487434b1",
   "metadata": {},
   "source": [
    "- `int i = 0` est exécuté la première fois qu'on rentre dans la boucle `for` : une variable `i` est créée avec la valeur `0`\n",
    "- `i < 5` est la condition pour que la boucle continue d'être exécutée\n",
    "- `i++` est une instruction effectuée à la fin de chaque passage dans le `for` : `i` est augmentée de 1 (`i++` est équivalent à `i += 1` ou `i = i + 1`)"
   ]
  },
  {
   "cell_type": "markdown",
   "id": "3f5c9545-acff-46aa-a273-878c7b0b89f0",
   "metadata": {
    "tags": [
     "exo"
    ]
   },
   "source": [
    "**Exercice** : Calculer $10!$"
   ]
  },
  {
   "cell_type": "markdown",
   "id": "7d468d9d-2aa0-48a2-a3dd-b91afff26c10",
   "metadata": {},
   "source": [
    "## Boucle while\n",
    "\n",
    "La boucle `while` répète un bloc d'instructions tant que la condition entre parenthèses est vraie. Par exemple, affichons les termes de la suite de Syracuse jusqu'à ce qu'elle soit égale à 1 (une conjecture célèbre dit qu'elle devient toujours égale à 1) :"
   ]
  },
  {
   "cell_type": "code",
   "execution_count": 12,
   "id": "b745392b-9462-4c12-a8f3-bb5147eaa40c",
   "metadata": {
    "execution": {
     "iopub.execute_input": "2021-11-20T14:07:39.980669Z",
     "iopub.status.busy": "2021-11-20T14:07:39.980175Z",
     "iopub.status.idle": "2021-11-20T14:07:39.984566Z",
     "shell.execute_reply": "2021-11-20T14:07:39.983423Z"
    }
   },
   "outputs": [
    {
     "name": "stdout",
     "output_type": "stream",
     "text": [
      "5 16 8 4 2 "
     ]
    }
   ],
   "source": [
    "int s = 5;\n",
    "while(s != 1) {\n",
    "    printf(\"%d \", s);\n",
    "    if(s % 2 == 0)\n",
    "        s = s / 2;\n",
    "    else\n",
    "        s = 3*s + 1;\n",
    "}"
   ]
  },
  {
   "cell_type": "markdown",
   "id": "1072f7a8-f49b-4181-9bc4-a26314fa660d",
   "metadata": {},
   "source": [
    "**Exercice** : Afficher les chiffres de la décomposition en base 2 de 42."
   ]
  },
  {
   "cell_type": "markdown",
   "id": "040bf1ff-9230-401a-9c8d-8aa3aca88857",
   "metadata": {},
   "source": [
    "## `break`\n",
    "\n",
    "`break` permet d'arrêter une boucle. Voici un exemple, pour savoir si un entier `n` est premier :"
   ]
  },
  {
   "cell_type": "code",
   "execution_count": 13,
   "id": "23ab9483-4bcf-4db0-9cf7-fd02bb1322ff",
   "metadata": {
    "execution": {
     "iopub.execute_input": "2021-11-20T14:07:39.988854Z",
     "iopub.status.busy": "2021-11-20T14:07:39.988406Z",
     "iopub.status.idle": "2021-11-20T14:07:40.399650Z",
     "shell.execute_reply": "2021-11-20T14:07:40.398417Z"
    }
   },
   "outputs": [
    {
     "data": {
      "text/plain": [
       "false"
      ]
     },
     "execution_count": 13,
     "metadata": {},
     "output_type": "execute_result"
    }
   ],
   "source": [
    "int n = 327183433;\n",
    "bool premier = true;\n",
    "for(int i = 2; i < n; i++) {\n",
    "    if(n % i == 0) {\n",
    "        premier = false;\n",
    "        break;\n",
    "    }\n",
    "}\n",
    "premier"
   ]
  }
 ],
 "metadata": {
  "kernelspec": {
   "display_name": "C++14",
   "language": "C++14",
   "name": "xcpp14"
  },
  "language_info": {
   "codemirror_mode": "text/x-c++src",
   "file_extension": ".cpp",
   "mimetype": "text/x-c++src",
   "name": "c++",
   "version": "14"
  }
 },
 "nbformat": 4,
 "nbformat_minor": 5
}

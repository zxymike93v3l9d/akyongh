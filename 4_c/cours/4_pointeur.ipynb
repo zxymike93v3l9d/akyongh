{
 "cells": [
  {
   "cell_type": "markdown",
   "id": "dad680d0-a6df-4966-aa8d-b3dde9937877",
   "metadata": {},
   "source": [
    "# Pointeur\n",
    "\n",
    "## Adresse mémoire\n",
    "Quand on définit une variable (que ce soit en C, OCaml ou Python), sa valeur est stockée dans la mémoire RAM de l'ordinateur. La mémoire RAM est décomposée en cases, chaque case occupant 8 bits (1 octet) et possédant une **adresse mémoire**.  \n",
    "On peut connaître l'adresse mémoire où est stockée une variable avec `&` :"
   ]
  },
  {
   "cell_type": "code",
   "execution_count": 1,
   "id": "d4bb35a1-913a-415b-bb87-f9cc90050cbd",
   "metadata": {
    "execution": {
     "iopub.execute_input": "2021-11-15T18:11:38.114797Z",
     "iopub.status.busy": "2021-11-15T18:11:38.114168Z",
     "iopub.status.idle": "2021-11-15T18:11:38.585308Z",
     "shell.execute_reply": "2021-11-15T18:11:38.583741Z"
    }
   },
   "outputs": [
    {
     "data": {
      "text/plain": [
       "@0x7ffc1e147378"
      ]
     },
     "execution_count": 1,
     "metadata": {},
     "output_type": "execute_result"
    }
   ],
   "source": [
    "int x = 3;\n",
    "&x  // affichage de l'adresse mémoire où est stockée la valeur de x"
   ]
  },
  {
   "cell_type": "markdown",
   "id": "4e4aa05a-01af-47db-96e8-05dcbc37f75f",
   "metadata": {},
   "source": [
    "Un **pointeur** est une variable dont la valeur est une adresse mémoire. On utilise `*` dans un type pour définir un pointeur. Par exemple, un `float*` est un pointeur sur un `float`."
   ]
  },
  {
   "cell_type": "code",
   "execution_count": 2,
   "id": "1bc27a91-4ce3-4e02-a365-d30cace80932",
   "metadata": {
    "execution": {
     "iopub.execute_input": "2021-11-15T18:11:38.587104Z",
     "iopub.status.busy": "2021-11-15T18:11:38.586643Z",
     "iopub.status.idle": "2021-11-15T18:11:38.929711Z",
     "shell.execute_reply": "2021-11-15T18:11:38.928516Z"
    }
   },
   "outputs": [
    {
     "data": {
      "text/plain": [
       "@0x7ffc1e147378"
      ]
     },
     "execution_count": 2,
     "metadata": {},
     "output_type": "execute_result"
    }
   ],
   "source": [
    "int* p = &x;  // p est un pointeur sur un int\n",
    "p"
   ]
  },
  {
   "cell_type": "markdown",
   "id": "0488379e-5ac8-4629-9833-e2086d8e34f7",
   "metadata": {},
   "source": [
    "Il est possible de modifier l'adresse mémoire contenu dans un pointeur :"
   ]
  },
  {
   "cell_type": "code",
   "execution_count": 3,
   "id": "a3a8978d-cbc3-40a0-b1f5-c2d09c8aa81e",
   "metadata": {
    "execution": {
     "iopub.execute_input": "2021-11-15T18:11:38.931456Z",
     "iopub.status.busy": "2021-11-15T18:11:38.930995Z",
     "iopub.status.idle": "2021-11-15T18:11:39.275186Z",
     "shell.execute_reply": "2021-11-15T18:11:39.274057Z"
    }
   },
   "outputs": [
    {
     "data": {
      "text/plain": [
       "@0x7ffc1e147378"
      ]
     },
     "execution_count": 3,
     "metadata": {},
     "output_type": "execute_result"
    }
   ],
   "source": [
    "int y = x + -42;\n",
    "&y"
   ]
  },
  {
   "cell_type": "code",
   "execution_count": 4,
   "id": "6f9fbaa5-5cf0-4d08-9af9-2bcc7adc81cf",
   "metadata": {
    "execution": {
     "iopub.execute_input": "2021-11-15T18:11:39.279450Z",
     "iopub.status.busy": "2021-11-15T18:11:39.279051Z",
     "iopub.status.idle": "2021-11-15T18:11:39.280458Z",
     "shell.execute_reply": "2021-11-15T18:11:39.278686Z"
    }
   },
   "outputs": [
    {
     "name": "stdout",
     "output_type": "stream",
     "text": [
      "0x7f2a95432028\n",
      "0x7f2a95432038"
     ]
    }
   ],
   "source": [
    "printf(\"%p\\n\", &x);\n",
    "printf(\"%p\", &y);"
   ]
  },
  {
   "cell_type": "code",
   "execution_count": 5,
   "id": "e12ea833-1a1d-4afe-948e-3f2cb5f1abe3",
   "metadata": {
    "execution": {
     "iopub.execute_input": "2021-11-15T18:11:39.284543Z",
     "iopub.status.busy": "2021-11-15T18:11:39.284140Z",
     "iopub.status.idle": "2021-11-15T18:11:39.625755Z",
     "shell.execute_reply": "2021-11-15T18:11:39.625327Z"
    }
   },
   "outputs": [
    {
     "data": {
      "text/plain": [
       "@0x7ffc1e147378"
      ]
     },
     "execution_count": 5,
     "metadata": {},
     "output_type": "execute_result"
    }
   ],
   "source": [
    "p = &y;\n",
    "p"
   ]
  },
  {
   "cell_type": "code",
   "execution_count": 6,
   "id": "f71294eb-6bec-4dcc-88e4-de4583d5a748",
   "metadata": {
    "execution": {
     "iopub.execute_input": "2021-11-15T18:11:39.627523Z",
     "iopub.status.busy": "2021-11-15T18:11:39.627113Z",
     "iopub.status.idle": "2021-11-15T18:11:39.634592Z",
     "shell.execute_reply": "2021-11-15T18:11:39.634235Z"
    }
   },
   "outputs": [
    {
     "name": "stdout",
     "output_type": "stream",
     "text": [
      "gcc: fatal error: no input files\n",
      "compilation terminated.\n"
     ]
    }
   ],
   "source": [
    "! gcc"
   ]
  },
  {
   "cell_type": "code",
   "execution_count": null,
   "id": "d64080af-09a3-4c3a-be66-36db5976e3e1",
   "metadata": {},
   "outputs": [],
   "source": []
  }
 ],
 "metadata": {
  "kernelspec": {
   "display_name": "C++14",
   "language": "C",
   "name": "xcpp14"
  },
  "language_info": {
   "codemirror_mode": "text/x-c++src",
   "file_extension": ".cpp",
   "mimetype": "text/x-c++src",
   "name": "c++",
   "version": "14"
  }
 },
 "nbformat": 4,
 "nbformat_minor": 5
}

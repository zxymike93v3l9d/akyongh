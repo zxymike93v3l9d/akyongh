{
 "cells": [
  {
   "cell_type": "markdown",
   "id": "d4e02f93-7034-4923-8e50-667f624f2586",
   "metadata": {},
   "source": [
    "# Fonctions\n",
    "\n",
    "Voici un exemple de fonction en C :"
   ]
  },
  {
   "cell_type": "code",
   "execution_count": 1,
   "id": "7b897c81-0579-4ff6-a5d4-5f003aa0f78b",
   "metadata": {
    "execution": {
     "iopub.execute_input": "2021-11-15T18:11:34.512343Z",
     "iopub.status.busy": "2021-11-15T18:11:34.511916Z",
     "iopub.status.idle": "2021-11-15T18:11:34.512729Z",
     "shell.execute_reply": "2021-11-15T18:11:34.511421Z"
    }
   },
   "outputs": [],
   "source": [
    "float aire_cercle(float r) {\n",
    "    return 3.14*r*r;\n",
    "}"
   ]
  },
  {
   "cell_type": "markdown",
   "id": "fdae2026-6ddf-4c7a-83bd-54d9c7dc348b",
   "metadata": {},
   "source": [
    "- `float aire_cercle` signifie que l'on définit une fonction qui s'appelle `aire_cercle` et dont le type de retour est `float`\n",
    "- `r` est l'argument de la fonction, de type `float`\n",
    "- les accolades délimitent le corps de la fonction (ce qui va être exécuté quand on l'appelle)\n",
    "- la valeur `3.14*r*r` est renvoyée par la fonction"
   ]
  },
  {
   "cell_type": "code",
   "execution_count": 2,
   "id": "d5fa1a53-b300-4fcc-b6c2-d749c140b9a6",
   "metadata": {
    "execution": {
     "iopub.execute_input": "2021-11-15T18:11:34.514342Z",
     "iopub.status.busy": "2021-11-15T18:11:34.513939Z",
     "iopub.status.idle": "2021-11-15T18:11:34.986208Z",
     "shell.execute_reply": "2021-11-15T18:11:34.984874Z"
    }
   },
   "outputs": [
    {
     "data": {
      "text/plain": [
       "3.14000f"
      ]
     },
     "execution_count": 2,
     "metadata": {},
     "output_type": "execute_result"
    }
   ],
   "source": [
    "aire_cercle(1.) // test de la fonction"
   ]
  },
  {
   "cell_type": "markdown",
   "id": "7d45dff1-dd1d-4474-bef3-4612e8f1b471",
   "metadata": {},
   "source": [
    "## Récursivité\n",
    "\n",
    "Il est possible de définir une fonction récursive, sans mot-clé supplémentaire :"
   ]
  },
  {
   "cell_type": "code",
   "execution_count": 3,
   "id": "c9273160-8137-4bdb-9bb7-e1bab25dc4f5",
   "metadata": {
    "execution": {
     "iopub.execute_input": "2021-11-15T18:11:34.988625Z",
     "iopub.status.busy": "2021-11-15T18:11:34.988156Z",
     "iopub.status.idle": "2021-11-15T18:11:35.331796Z",
     "shell.execute_reply": "2021-11-15T18:11:35.330677Z"
    }
   },
   "outputs": [
    {
     "data": {
      "text/plain": [
       "256"
      ]
     },
     "execution_count": 3,
     "metadata": {},
     "output_type": "execute_result"
    }
   ],
   "source": [
    "int expo(int a, int n) { // renvoie a**n\n",
    "    if(n == 0)\n",
    "        return 1; \n",
    "    int b = expo(a, n/2);\n",
    "    if(b % 2 == 0)\n",
    "        return b*b;\n",
    "    return a*b*b;\n",
    "}\n",
    "\n",
    "expo(2, 10)"
   ]
  },
  {
   "cell_type": "markdown",
   "id": "340e5669-bebc-4685-af96-651bde6b0bed",
   "metadata": {},
   "source": [
    "**Exercice** : Écrire l'algorithme d'Euclide en C."
   ]
  }
 ],
 "metadata": {
  "kernelspec": {
   "display_name": "C++14",
   "language": "C",
   "name": "xcpp14"
  },
  "language_info": {
   "codemirror_mode": "text/x-c++src",
   "file_extension": ".cpp",
   "mimetype": "text/x-c++src",
   "name": "c++",
   "version": "14"
  }
 },
 "nbformat": 4,
 "nbformat_minor": 5
}

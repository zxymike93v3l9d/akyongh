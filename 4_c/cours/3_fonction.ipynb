{
 "cells": [
  {
   "cell_type": "markdown",
   "id": "d4e02f93-7034-4923-8e50-667f624f2586",
   "metadata": {},
   "source": [
    "# <center><a href='https://mybinder.org/v2/gh/fortierq/binder-mp2i/main?urlpath=git-pull%3Frepo%3Dhttps%253A%252F%252Fgithub.com%252Fmp2i-fsm%252Fmp2i-2021%26urlpath%3Dlab%252Ftree%252Fmp2i-2021%252F4_c%252Fcours%252F3_fonction.ipynb%26branch%3Dmain'>Fonctions                                                                  <img src=https://mybinder.org/badge.svg></a></center>\n",
    "\n",
    "Voici un exemple de fonction en C :"
   ]
  },
  {
   "cell_type": "code",
   "execution_count": 1,
   "id": "7b897c81-0579-4ff6-a5d4-5f003aa0f78b",
   "metadata": {
    "execution": {
     "iopub.execute_input": "2021-11-25T20:00:23.613625Z",
     "iopub.status.busy": "2021-11-25T20:00:23.613033Z",
     "iopub.status.idle": "2021-11-25T20:00:23.614730Z",
     "shell.execute_reply": "2021-11-25T20:00:23.614233Z"
    }
   },
   "outputs": [],
   "source": [
    "float aire_cercle(float r) {\n",
    "    return 3.14*r*r;\n",
    "}"
   ]
  },
  {
   "cell_type": "markdown",
   "id": "fdae2026-6ddf-4c7a-83bd-54d9c7dc348b",
   "metadata": {},
   "source": [
    "- `float aire_cercle` signifie que l'on définit une fonction qui s'appelle `aire_cercle` et dont le type de retour est `float`\n",
    "- `r` est l'argument de la fonction, de type `float`\n",
    "- les accolades délimitent le corps de la fonction (ce qui va être exécuté quand on l'appelle)\n",
    "- la valeur `3.14*r*r` est renvoyée par la fonction"
   ]
  },
  {
   "cell_type": "code",
   "execution_count": 2,
   "id": "d5fa1a53-b300-4fcc-b6c2-d749c140b9a6",
   "metadata": {
    "execution": {
     "iopub.execute_input": "2021-11-25T20:00:23.616302Z",
     "iopub.status.busy": "2021-11-25T20:00:23.615937Z",
     "iopub.status.idle": "2021-11-25T20:00:24.095331Z",
     "shell.execute_reply": "2021-11-25T20:00:24.093812Z"
    }
   },
   "outputs": [
    {
     "data": {
      "text/plain": [
       "3.14000f"
      ]
     },
     "execution_count": 2,
     "metadata": {},
     "output_type": "execute_result"
    }
   ],
   "source": [
    "aire_cercle(1.) // test de la fonction"
   ]
  },
  {
   "cell_type": "markdown",
   "id": "4beb4c0f-23ed-4401-bfae-36efc9f98362",
   "metadata": {},
   "source": [
    "Le **prototype** d'une fonction ressemble beaucoup au type/signature de fonction qu'on a pu voir en OCaml. Par exemple, le prototype de `aire_cercle` est :  \n",
    "```c\n",
    "float aire_cercle(float)\n",
    "```"
   ]
  },
  {
   "cell_type": "markdown",
   "id": "ea7783c2-3c64-4343-8b3b-426f83887e81",
   "metadata": {},
   "source": [
    "## `void`\n",
    "\n",
    "`void` est un type qui signifie \"rien\" et qui peut-être utilisé pour dire qu'une fonction ne renvoie pas de valeur :"
   ]
  },
  {
   "cell_type": "code",
   "execution_count": 3,
   "id": "ecfe65f8-db5d-43ad-8bab-e0bcf743d588",
   "metadata": {
    "execution": {
     "iopub.execute_input": "2021-11-25T20:00:24.097219Z",
     "iopub.status.busy": "2021-11-25T20:00:24.096745Z",
     "iopub.status.idle": "2021-11-25T20:00:24.099971Z",
     "shell.execute_reply": "2021-11-25T20:00:24.099548Z"
    }
   },
   "outputs": [
    {
     "name": "stdout",
     "output_type": "stream",
     "text": [
      "Hello"
     ]
    }
   ],
   "source": [
    "void f() {\n",
    "    printf(\"Hello\");\n",
    "    return;  // pas de valeur de retour\n",
    "}\n",
    "f()"
   ]
  },
  {
   "cell_type": "markdown",
   "id": "7d45dff1-dd1d-4474-bef3-4612e8f1b471",
   "metadata": {
    "tags": []
   },
   "source": [
    "## Récursivité\n",
    "\n",
    "Il est possible de définir une fonction récursive, sans mot-clé supplémentaire :"
   ]
  },
  {
   "cell_type": "code",
   "execution_count": 4,
   "id": "c9273160-8137-4bdb-9bb7-e1bab25dc4f5",
   "metadata": {
    "execution": {
     "iopub.execute_input": "2021-11-25T20:00:24.104796Z",
     "iopub.status.busy": "2021-11-25T20:00:24.104374Z",
     "iopub.status.idle": "2021-11-25T20:00:24.450925Z",
     "shell.execute_reply": "2021-11-25T20:00:24.449801Z"
    }
   },
   "outputs": [
    {
     "data": {
      "text/plain": [
       "1024"
      ]
     },
     "execution_count": 4,
     "metadata": {},
     "output_type": "execute_result"
    }
   ],
   "source": [
    "int expo(int a, int n) { // renvoie a**n\n",
    "    if(n == 0)\n",
    "        return 1; \n",
    "    int b = expo(a, n/2);\n",
    "    if(n % 2 == 0)\n",
    "        return b*b;\n",
    "    return a*b*b;\n",
    "}\n",
    "\n",
    "expo(2, 10)"
   ]
  },
  {
   "cell_type": "markdown",
   "id": "02a18568-9954-46fc-ac66-310077c10803",
   "metadata": {},
   "source": [
    "**Remarque** : Il semblerait qu'exécuter 2 fois la même fonction récursive pose des problèmes avec xeus-cling (le kernel C++ qu'on utilise pour Jupyter). Réexécuter votre fonction encore une fois dans ce cas."
   ]
  },
  {
   "cell_type": "markdown",
   "id": "340e5669-bebc-4685-af96-651bde6b0bed",
   "metadata": {
    "tags": [
     "exo"
    ]
   },
   "source": [
    "**Exercice** : Écrire l'algorithme d'Euclide en C."
   ]
  }
 ],
 "metadata": {
  "kernelspec": {
   "display_name": "C++14",
   "language": "C++14",
   "name": "xcpp14"
  },
  "language_info": {
   "codemirror_mode": "text/x-c++src",
   "file_extension": ".cpp",
   "mimetype": "text/x-c++src",
   "name": "c++",
   "version": "14"
  }
 },
 "nbformat": 4,
 "nbformat_minor": 5
}

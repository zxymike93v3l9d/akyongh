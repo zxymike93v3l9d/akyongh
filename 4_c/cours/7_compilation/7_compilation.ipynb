{
 "cells": [
  {
   "cell_type": "markdown",
   "id": "764d45aa-91ae-4150-ad7b-0b548755d751",
   "metadata": {},
   "source": [
    "# <center><a href='https://mybinder.org/v2/gh/fortierq/binder-mp2i/main?urlpath=git-pull%3Frepo%3Dhttps%253A%252F%252Fgithub.com%252Fmp2i-fsm%252Fmp2i-2021%26urlpath%3Dlab%252Ftree%252Fmp2i-2021%252F4_c%252Fcours%252F7_compilation%252F7_compilation.ipynb%26branch%3Dmain'>Compilation                                         <img src=https://mybinder.org/badge.svg></a></center>\n",
    "\n",
    "## Fichiers source, header et main\n",
    "\n",
    "Un fichier dont l'extension est `.c` est un fichier **source** contenant du code C. Une bonne pratique est de séparer son code en plusieurs fichiers, plutôt que de tout mettre dans un seul énorme fichier.  \n",
    "Une autre bonne pratique et de séparer l'**implémentation**/**définition** des fonctions (dans un fichier .c) de leurs **déclarations**/**prototypes** (dans un fichier **header** .h).  \n",
    "Pour pouvoir utiliser une fonction définie dans un autre fichier, il faut importer le header correspondant avec `#include ...`.  \n",
    "Par exemple, on pourrait implémenter une structure de pile avec un tableau en utilisant un header pile.h (`cat` servant à afficher le contenu d'un fichier) :"
   ]
  },
  {
   "cell_type": "code",
   "execution_count": 1,
   "id": "3892f606-63a4-4371-af44-92c709a65658",
   "metadata": {
    "execution": {
     "iopub.execute_input": "2021-12-02T19:58:40.118736Z",
     "iopub.status.busy": "2021-12-02T19:58:40.117705Z",
     "iopub.status.idle": "2021-12-02T19:58:40.120207Z",
     "shell.execute_reply": "2021-12-02T19:58:40.118194Z"
    }
   },
   "outputs": [
    {
     "name": "stdout",
     "output_type": "stream",
     "text": [
      "#include <stdbool.h>\n",
      "\n",
      "typedef struct\n",
      "{\n",
      "    int *t;   // tableau contenant les éléments\n",
      "    int size; // nombre d'éléments (= dessus de la pile)\n",
      "} pile;\n",
      "\n",
      "pile create(int);\n",
      "\n",
      "bool is_empty(pile);\n",
      "\n",
      "void push(pile *, int);\n",
      "\n",
      "int pop(pile *);\n"
     ]
    }
   ],
   "source": [
    "! cat pile/pile.h"
   ]
  },
  {
   "cell_type": "markdown",
   "id": "56535d09-09b8-441c-927d-b3da1d40804a",
   "metadata": {},
   "source": [
    "pile.h utilise `bool` qui est défini dans `stdbool`, d'où le `#include <stdbool.h>`."
   ]
  },
  {
   "cell_type": "markdown",
   "id": "d0c5d863-3503-483c-b404-affdfb7e12b2",
   "metadata": {},
   "source": [
    "La définition des fonctions de pile.h se trouvent dans un fichier source pile.c :"
   ]
  },
  {
   "cell_type": "code",
   "execution_count": 2,
   "id": "73fd011e-9d4d-4055-a94b-90c7a3cd8b9d",
   "metadata": {
    "execution": {
     "iopub.execute_input": "2021-12-02T19:58:40.122072Z",
     "iopub.status.busy": "2021-12-02T19:58:40.121609Z",
     "iopub.status.idle": "2021-12-02T19:58:40.124255Z",
     "shell.execute_reply": "2021-12-02T19:58:40.123824Z"
    }
   },
   "outputs": [
    {
     "name": "stdout",
     "output_type": "stream",
     "text": [
      "#include \"pile.h\"\n",
      "#include <stdlib.h>\n",
      "\n",
      "pile create(int capacity) {\n",
      "    pile p;\n",
      "    int* t = malloc(capacity*sizeof(int));\n",
      "    p.t = t;\n",
      "    p.size = 0;\n",
      "    return p;\n",
      "}\n",
      "\n",
      "bool is_empty(const pile p) {\n",
      "    return p.size == 0;\n",
      "}\n",
      "\n",
      "void push(pile* p, int e) {\n",
      "    p->t[p->size] = e;\n",
      "    p->size++;\n",
      "}\n",
      "\n",
      "int pop(pile* p) {\n",
      "    p->size--;\n",
      "    return p->t[p->size];\n",
      "}\n"
     ]
    }
   ],
   "source": [
    "! cat pile/pile.c"
   ]
  },
  {
   "cell_type": "markdown",
   "id": "5953fd77-ade5-465d-b313-b5ba47fcadb5",
   "metadata": {},
   "source": [
    "pile.c utilise la définition de `struct pile` de `pile.h`, donc a besoin de l'importer avec `#include \"pile.h\"`, les guillemets signifiants que `pile.h` est dans le même dossier (alors que `#include <stdlib.h>` demande de chercher dans la librairie standard)."
   ]
  },
  {
   "cell_type": "markdown",
   "id": "2e300c43-6037-4d26-b149-ef3ff2d14c5b",
   "metadata": {},
   "source": [
    "Enfin, nous allons utiliser ce fichier main.c pour tester notre implémentation de pile :"
   ]
  },
  {
   "cell_type": "code",
   "execution_count": 3,
   "id": "666cedab-7a1c-44f5-b073-fe55b44df806",
   "metadata": {
    "execution": {
     "iopub.execute_input": "2021-12-02T19:58:40.126052Z",
     "iopub.status.busy": "2021-12-02T19:58:40.125576Z",
     "iopub.status.idle": "2021-12-02T19:58:40.128314Z",
     "shell.execute_reply": "2021-12-02T19:58:40.127891Z"
    }
   },
   "outputs": [
    {
     "name": "stdout",
     "output_type": "stream",
     "text": [
      "#include <stdio.h>\n",
      "#include \"pile.h\"\n",
      "\n",
      "int main() {\n",
      "    pile p = create(10);\n",
      "    printf(\"is_empty(p): %d\\n\", is_empty(p));\n",
      "    push(&p, 42);\n",
      "    push(&p, -5);\n",
      "    printf(\"pop(p): %d\\n\", pop(&p));\n",
      "    printf(\"pop(p): %d\", pop(&p));\n",
      "    return 0;\n",
      "}"
     ]
    }
   ],
   "source": [
    "! cat pile/main.c"
   ]
  },
  {
   "cell_type": "markdown",
   "id": "5fea1815-7a51-435e-baa7-ceb59ecbcfa0",
   "metadata": {},
   "source": [
    "## Compilateur\n",
    "\n",
    "Le langage C est normalement **compilé** (nous avons pour l'instant utilisé xeus-cling, qui permet d'utiliser C de façon interactive avec Jupyter... mais ce n'est pas habituel), c'est-à-dire que le code source (dans un fichier .c) est transformé en un fichier exécutable (.exe sous Windows) par un **compilateur**.\n",
    "\n",
    "Il existe de nombreux compilateurs pour le C, dont voici les plus connus : \n",
    "- GCC (GNU Compiler Collection), historiquement utilisé par Linux  \n",
    "- Clang, alternative à GCC  \n",
    "- Compilateur Visual C/C++ (Microsoft)"
   ]
  },
  {
   "cell_type": "markdown",
   "id": "aa9e0726-d9d1-400f-99dd-93dd5f4052ae",
   "metadata": {},
   "source": [
    "## Étapes\n",
    "\n",
    "La compilation d'un fichier source en un exécutable suit quatre grandes étapes :  \n",
    "1. Traitement par le préprocesseur  \n",
    "2. Compilation  \n",
    "3. Assemblage  \n",
    "4. Édition de liens  \n",
    "\n",
    "<center><img src=https://github.com/mp2i-fsm/mp2i-2021/blob/main/4_c/cours/img/compilation.png?raw=true width=750></center>\n",
    "Nous allons commencer par étudier ces étapes sur un fichier très simple : "
   ]
  },
  {
   "cell_type": "code",
   "execution_count": 4,
   "id": "b26e16ba-4ab1-409f-9ceb-62cfc80a017a",
   "metadata": {
    "execution": {
     "iopub.execute_input": "2021-12-02T19:58:40.130016Z",
     "iopub.status.busy": "2021-12-02T19:58:40.129563Z",
     "iopub.status.idle": "2021-12-02T19:58:40.132283Z",
     "shell.execute_reply": "2021-12-02T19:58:40.131757Z"
    }
   },
   "outputs": [
    {
     "name": "stdout",
     "output_type": "stream",
     "text": [
      "#include <stdio.h>\n",
      "\n",
      "int main() {\n",
      "    printf(\"Hello World!\");\n",
      "}"
     ]
    }
   ],
   "source": [
    "! cat hello.c"
   ]
  },
  {
   "cell_type": "markdown",
   "id": "25c6bd89-8c96-4596-9d3d-5e9dc80e49c4",
   "metadata": {},
   "source": [
    "`main` est une fonction spéciale : c'est celle qui va être exécutée lorsque nous lancerons notre programme. Elle est censée renvoyer un entier représentant un code d'erreur. Par défaut, 0 est renvoyé (aucune erreur)."
   ]
  },
  {
   "cell_type": "markdown",
   "id": "f76f9ab2-374b-46de-aab9-6fd39a574421",
   "metadata": {},
   "source": [
    "### Préprocesseur\n",
    "\n",
    "Le préprocesseur remplace les instructions commençant par `#`. Par exemple, le `#include <stdio.h>` est remplacé par le contenu du header correspondant. On peut voir le résultat du préprocesseur avec l'option `-E` de gcc (en spécifiant le fichier de sortie avec `-o hello.i`) :"
   ]
  },
  {
   "cell_type": "code",
   "execution_count": 5,
   "id": "f7cbead3-8e25-43db-a01a-19aaa5366056",
   "metadata": {
    "execution": {
     "iopub.execute_input": "2021-12-02T19:58:40.134110Z",
     "iopub.status.busy": "2021-12-02T19:58:40.133629Z",
     "iopub.status.idle": "2021-12-02T19:58:40.193082Z",
     "shell.execute_reply": "2021-12-02T19:58:40.192617Z"
    }
   },
   "outputs": [],
   "source": [
    "! gcc -E -o hello.i hello.c"
   ]
  },
  {
   "cell_type": "markdown",
   "id": "e06ba81d-ebc2-40f6-8cac-24375aacf831",
   "metadata": {},
   "source": [
    "`hello.i` contient alors beaucoup de code dont notamment la ligne suivante, donnant le prototype de `printf` :  \n",
    "```c\n",
    "extern int printf (const char *__restrict __format, ...);\n",
    "```"
   ]
  },
  {
   "cell_type": "markdown",
   "id": "d402f67f-f3fa-40f5-bd97-c5fd7a8c3406",
   "metadata": {},
   "source": [
    "### Compilation\n",
    "\n",
    "La compilation traduit le code C en de l'assembleur, qui est un langage très proche du processeur (et qui dépend du processeur : x86 pour Intel, AMD64 pour AMD...). On peut obtenir le code assembleur dans un fichier `hello.s` avec l'option -S de gcc :"
   ]
  },
  {
   "cell_type": "code",
   "execution_count": 6,
   "id": "f8ad09dc-d7d0-485a-a3c8-6d27c01a249d",
   "metadata": {
    "execution": {
     "iopub.execute_input": "2021-12-02T19:58:40.195094Z",
     "iopub.status.busy": "2021-12-02T19:58:40.194591Z",
     "iopub.status.idle": "2021-12-02T19:58:40.227133Z",
     "shell.execute_reply": "2021-12-02T19:58:40.226631Z"
    }
   },
   "outputs": [],
   "source": [
    "! gcc -S hello.c"
   ]
  },
  {
   "cell_type": "code",
   "execution_count": 7,
   "id": "17f94a2e-3af0-49f2-91b6-4ead1eb1ae86",
   "metadata": {
    "execution": {
     "iopub.execute_input": "2021-12-02T19:58:40.229611Z",
     "iopub.status.busy": "2021-12-02T19:58:40.228932Z",
     "iopub.status.idle": "2021-12-02T19:58:40.232298Z",
     "shell.execute_reply": "2021-12-02T19:58:40.231875Z"
    }
   },
   "outputs": [
    {
     "name": "stdout",
     "output_type": "stream",
     "text": [
      "\t.file\t\"hello.c\"\n",
      "\t.text\n",
      "\t.section\t.rodata\n",
      ".LC0:\n",
      "\t.string\t\"Hello World!\"\n",
      "\t.text\n",
      "\t.globl\tmain\n",
      "\t.type\tmain, @function\n",
      "main:\n",
      ".LFB0:\n",
      "\t.cfi_startproc\n",
      "\tendbr64\n",
      "\tpushq\t%rbp\n",
      "\t.cfi_def_cfa_offset 16\n",
      "\t.cfi_offset 6, -16\n",
      "\tmovq\t%rsp, %rbp\n",
      "\t.cfi_def_cfa_register 6\n",
      "\tleaq\t.LC0(%rip), %rdi\n",
      "\tmovl\t$0, %eax\n",
      "\tcall\tprintf@PLT\n"
     ]
    }
   ],
   "source": [
    "! head -20 hello.s"
   ]
  },
  {
   "cell_type": "markdown",
   "id": "3c9d5f1a-e780-4725-bbfb-9d327d2d486c",
   "metadata": {},
   "source": [
    "Par exemple, `movl` permet de déplacer de la mémoire dans les registres."
   ]
  },
  {
   "cell_type": "markdown",
   "id": "80cba27f-be56-484d-9730-b12bea619c80",
   "metadata": {},
   "source": [
    "### Assemblage\n",
    "\n",
    "L'étape d'assemblage produit un fichier objet binaire (`hello.o`) :"
   ]
  },
  {
   "cell_type": "code",
   "execution_count": 8,
   "id": "1b77861c-549f-461e-9452-9bc0b3a1a3b9",
   "metadata": {
    "execution": {
     "iopub.execute_input": "2021-12-02T19:58:40.234040Z",
     "iopub.status.busy": "2021-12-02T19:58:40.233581Z",
     "iopub.status.idle": "2021-12-02T19:58:40.261759Z",
     "shell.execute_reply": "2021-12-02T19:58:40.261321Z"
    }
   },
   "outputs": [],
   "source": [
    "! gcc -c hello.c"
   ]
  },
  {
   "cell_type": "markdown",
   "id": "281dc4e1-84eb-4fd1-8880-baed7762e863",
   "metadata": {},
   "source": [
    "### Édition de liens (*linker*)\n",
    "\n",
    "Le fichier `hello.o` ne contient que les implémentations des fonctions définies dans `hello.c`, mais pas celles importées par des `#include`. Le *linker* réunis plusieurs fichiers objets pour en faire un seul exécutable contenant l'implémentation de toutes les fonctions utilisées :"
   ]
  },
  {
   "cell_type": "code",
   "execution_count": 9,
   "id": "44e80cfb-809f-4bcd-be6e-c3886bc7a733",
   "metadata": {
    "execution": {
     "iopub.execute_input": "2021-12-02T19:58:40.263705Z",
     "iopub.status.busy": "2021-12-02T19:58:40.263224Z",
     "iopub.status.idle": "2021-12-02T19:58:40.294241Z",
     "shell.execute_reply": "2021-12-02T19:58:40.293616Z"
    }
   },
   "outputs": [],
   "source": [
    "! gcc hello.o -o hello"
   ]
  },
  {
   "cell_type": "markdown",
   "id": "73d5f939-76d8-4c3b-9e3c-3c62aefeaba3",
   "metadata": {},
   "source": [
    "gcc ajoute automatiquement la librairie standard lors de l'étape de *linkage*, il n'y a donc pas besoin de renseigner le fichier objet correspondant à `stdio.h`."
   ]
  },
  {
   "cell_type": "markdown",
   "id": "27209bcb-d08f-4d1e-81f7-8f9008d04870",
   "metadata": {},
   "source": [
    "### Exécution \n",
    "\n",
    "On peut enfin exécuter notre programme :"
   ]
  },
  {
   "cell_type": "code",
   "execution_count": 10,
   "id": "2d336882-63d0-41e9-9697-56e0a7ad186c",
   "metadata": {
    "execution": {
     "iopub.execute_input": "2021-12-02T19:58:40.296564Z",
     "iopub.status.busy": "2021-12-02T19:58:40.296094Z",
     "iopub.status.idle": "2021-12-02T19:58:40.298764Z",
     "shell.execute_reply": "2021-12-02T19:58:40.299146Z"
    }
   },
   "outputs": [
    {
     "name": "stdout",
     "output_type": "stream",
     "text": [
      "Hello World!"
     ]
    }
   ],
   "source": [
    "! ./hello"
   ]
  },
  {
   "cell_type": "markdown",
   "id": "24cf1ed2-78a4-4645-9a3e-e768fdd27d2d",
   "metadata": {},
   "source": [
    "Nous avons décomposé toutes les étapes ici, mais on aurait pu tout faire avec une seule commande :"
   ]
  },
  {
   "cell_type": "code",
   "execution_count": 11,
   "id": "3640ea13-a8dd-4538-adf6-492b18adc9ef",
   "metadata": {
    "execution": {
     "iopub.execute_input": "2021-12-02T19:58:40.301309Z",
     "iopub.status.busy": "2021-12-02T19:58:40.300862Z",
     "iopub.status.idle": "2021-12-02T19:58:40.343728Z",
     "shell.execute_reply": "2021-12-02T19:58:40.343256Z"
    }
   },
   "outputs": [],
   "source": [
    "! gcc hello.c -o hello"
   ]
  },
  {
   "cell_type": "code",
   "execution_count": 12,
   "id": "8cb1b077-c1d2-46a0-80f1-5ca62b9ac627",
   "metadata": {
    "execution": {
     "iopub.execute_input": "2021-12-02T19:58:40.345586Z",
     "iopub.status.busy": "2021-12-02T19:58:40.345093Z",
     "iopub.status.idle": "2021-12-02T19:58:40.347883Z",
     "shell.execute_reply": "2021-12-02T19:58:40.347384Z"
    }
   },
   "outputs": [
    {
     "name": "stdout",
     "output_type": "stream",
     "text": [
      "Hello World!"
     ]
    }
   ],
   "source": [
    "! ./hello"
   ]
  },
  {
   "cell_type": "markdown",
   "id": "b9ba85ac-a46b-45ad-a966-a7532a81efbe",
   "metadata": {},
   "source": [
    "## Exemple : pile\n",
    "\n",
    "Revenons sur notre exemple d'implémentation de pile avec un tableau. Si on essaie de compiler directement `main.c`, on obtient une erreur :"
   ]
  },
  {
   "cell_type": "code",
   "execution_count": 13,
   "id": "b240b594-e435-4a5e-8c01-f6f45cca890f",
   "metadata": {
    "execution": {
     "iopub.execute_input": "2021-12-02T19:58:40.349817Z",
     "iopub.status.busy": "2021-12-02T19:58:40.349303Z",
     "iopub.status.idle": "2021-12-02T19:58:40.398505Z",
     "shell.execute_reply": "2021-12-02T19:58:40.398081Z"
    }
   },
   "outputs": [
    {
     "name": "stdout",
     "output_type": "stream",
     "text": [
      "/usr/bin/ld: /tmp/ccQljgEZ.o: in function `main':\n",
      "main.c:(.text+0x21): undefined reference to `create'\n",
      "/usr/bin/ld: main.c:(.text+0x3c): undefined reference to `is_empty'\n",
      "/usr/bin/ld: main.c:(.text+0x63): undefined reference to `push'\n",
      "/usr/bin/ld: main.c:(.text+0x74): undefined reference to `push'\n",
      "/usr/bin/ld: main.c:(.text+0x80): undefined reference to `pop'\n",
      "/usr/bin/ld: main.c:(.text+0x9f): undefined reference to `pop'\n",
      "collect2: error: ld returned 1 exit status\n"
     ]
    }
   ],
   "source": [
    "! gcc pile/main.c"
   ]
  },
  {
   "cell_type": "markdown",
   "id": "2a9d09a4-d850-4bd1-987e-228e0d47309c",
   "metadata": {},
   "source": [
    "`ld`, qui est le linker de gcc, nous indique que les implémentations des fonctions `create`, `is_empty`, `push` et `pop` n'ont pas été trouvées. En effet, nous n'avons pas demandé de produire les fichiers objets correspondant à `pile.c`. Essayons :"
   ]
  },
  {
   "cell_type": "code",
   "execution_count": 14,
   "id": "24737f0b-cf9d-4c7f-b4de-54461fd3c0fd",
   "metadata": {
    "execution": {
     "iopub.execute_input": "2021-12-02T19:58:40.400918Z",
     "iopub.status.busy": "2021-12-02T19:58:40.400311Z",
     "iopub.status.idle": "2021-12-02T19:58:40.460290Z",
     "shell.execute_reply": "2021-12-02T19:58:40.459749Z"
    }
   },
   "outputs": [
    {
     "name": "stdout",
     "output_type": "stream",
     "text": [
      "/usr/bin/ld: /usr/lib/gcc/x86_64-linux-gnu/9/../../../x86_64-linux-gnu/Scrt1.o: in function `_start':\n",
      "(.text+0x24): undefined reference to `main'\n",
      "collect2: error: ld returned 1 exit status\n"
     ]
    }
   ],
   "source": [
    "! gcc pile/pile.c"
   ]
  },
  {
   "cell_type": "markdown",
   "id": "d651d65f-4c3d-4831-baee-3acec74749b2",
   "metadata": {},
   "source": [
    "Cette fois, une erreur nous indique que `main` n'a pas été trouvé : cette fonction est essentielle pour produire un exécutable.  \n",
    "On peut produire les deux objets `pile.o` et `main.o` puis les linker :"
   ]
  },
  {
   "cell_type": "code",
   "execution_count": 15,
   "id": "297e74e8-981f-45f8-8af9-d231171ad59d",
   "metadata": {
    "execution": {
     "iopub.execute_input": "2021-12-02T19:58:40.462266Z",
     "iopub.status.busy": "2021-12-02T19:58:40.461789Z",
     "iopub.status.idle": "2021-12-02T19:58:40.490467Z",
     "shell.execute_reply": "2021-12-02T19:58:40.489978Z"
    }
   },
   "outputs": [],
   "source": [
    "! gcc -c pile/pile.c -o pile/pile.o"
   ]
  },
  {
   "cell_type": "code",
   "execution_count": 16,
   "id": "9b221a5a-9d4c-4490-9766-a8143e93c803",
   "metadata": {
    "execution": {
     "iopub.execute_input": "2021-12-02T19:58:40.492837Z",
     "iopub.status.busy": "2021-12-02T19:58:40.492223Z",
     "iopub.status.idle": "2021-12-02T19:58:40.517116Z",
     "shell.execute_reply": "2021-12-02T19:58:40.516669Z"
    }
   },
   "outputs": [],
   "source": [
    "! gcc -c pile/main.c -o pile/main.o"
   ]
  },
  {
   "cell_type": "code",
   "execution_count": 17,
   "id": "67cffdd1-f1df-438e-be70-0627a32a2087",
   "metadata": {
    "execution": {
     "iopub.execute_input": "2021-12-02T19:58:40.519315Z",
     "iopub.status.busy": "2021-12-02T19:58:40.518730Z",
     "iopub.status.idle": "2021-12-02T19:58:40.541521Z",
     "shell.execute_reply": "2021-12-02T19:58:40.541038Z"
    }
   },
   "outputs": [],
   "source": [
    "! gcc pile/pile.o pile/main.o -o pile/pile"
   ]
  },
  {
   "cell_type": "markdown",
   "id": "16d6a47e-8350-4f09-a021-74d4869f2132",
   "metadata": {},
   "source": [
    "On peut maintenant exécuter notre programme `pile` :"
   ]
  },
  {
   "cell_type": "code",
   "execution_count": 18,
   "id": "1cc8164b-4907-42e8-8f62-01e1de44d678",
   "metadata": {
    "execution": {
     "iopub.execute_input": "2021-12-02T19:58:40.543420Z",
     "iopub.status.busy": "2021-12-02T19:58:40.542928Z",
     "iopub.status.idle": "2021-12-02T19:58:40.545784Z",
     "shell.execute_reply": "2021-12-02T19:58:40.545327Z"
    }
   },
   "outputs": [
    {
     "name": "stdout",
     "output_type": "stream",
     "text": [
      "is_empty(p): 1\n",
      "pop(p): -5\n",
      "pop(p): 42"
     ]
    }
   ],
   "source": [
    "! ./pile/pile"
   ]
  },
  {
   "cell_type": "markdown",
   "id": "9b70e0ab-c51b-440c-b49c-c1e29cf80072",
   "metadata": {},
   "source": [
    "En fait, les 3 appels précédents à gcc auraient pu s'écrire sur une ligne :"
   ]
  },
  {
   "cell_type": "code",
   "execution_count": 19,
   "id": "d0149e72-4b9f-4772-8b8b-30f8ee11990e",
   "metadata": {
    "execution": {
     "iopub.execute_input": "2021-12-02T19:58:40.547619Z",
     "iopub.status.busy": "2021-12-02T19:58:40.547146Z",
     "iopub.status.idle": "2021-12-02T19:58:40.618048Z",
     "shell.execute_reply": "2021-12-02T19:58:40.617396Z"
    }
   },
   "outputs": [],
   "source": [
    "! gcc pile/pile.c pile/main.c -o pile/pile"
   ]
  },
  {
   "cell_type": "code",
   "execution_count": 20,
   "id": "95224fce-b3d0-486f-ba52-5b19464053d1",
   "metadata": {
    "execution": {
     "iopub.execute_input": "2021-12-02T19:58:40.620604Z",
     "iopub.status.busy": "2021-12-02T19:58:40.619647Z",
     "iopub.status.idle": "2021-12-02T19:58:40.622809Z",
     "shell.execute_reply": "2021-12-02T19:58:40.622239Z"
    }
   },
   "outputs": [
    {
     "name": "stdout",
     "output_type": "stream",
     "text": [
      "is_empty(p): 1\n",
      "pop(p): -5\n",
      "pop(p): 42"
     ]
    }
   ],
   "source": [
    "! ./pile/pile"
   ]
  },
  {
   "cell_type": "markdown",
   "id": "1eb89047-c79d-41cb-83fd-0462ff6b66c0",
   "metadata": {
    "tags": [
     "exo"
    ]
   },
   "source": [
    "**Exercice** : Implémenter une liste chaînée en utilisant un fichier `.c` et un fichier `.h`. Compiler et tester."
   ]
  },
  {
   "cell_type": "markdown",
   "id": "57afa564-9d66-4a0a-a83c-4104304f465a",
   "metadata": {
    "tags": [
     "exo"
    ]
   },
   "source": [
    "**Exercice** : De même, implémenter une file (par tableau ou liste chaînée, selon votre préférence). Compiler et tester."
   ]
  },
  {
   "cell_type": "markdown",
   "id": "d1dbc9b6-37ea-4d68-998a-0d7a0b5c97f1",
   "metadata": {},
   "source": [
    "## Inclusions multiples\n",
    "\n",
    "Si on inclut plusieurs fois le même fichier, on obtient une erreur de redéfinition :"
   ]
  },
  {
   "cell_type": "code",
   "execution_count": 21,
   "id": "07972e25-fc08-4767-a745-84d1875f652c",
   "metadata": {
    "execution": {
     "iopub.execute_input": "2021-12-02T19:58:40.626029Z",
     "iopub.status.busy": "2021-12-02T19:58:40.625380Z",
     "iopub.status.idle": "2021-12-02T19:58:40.665744Z",
     "shell.execute_reply": "2021-12-02T19:58:40.628512Z"
    }
   },
   "outputs": [
    {
     "name": "stderr",
     "output_type": "stream",
     "text": [
      "In file included from input_line_7:2:\n",
      "./pile/pile.h:7:3: error: typedef redefinition with different types ('struct pile' vs 'struct pile')\n",
      "} pile;\n",
      "  ^\n",
      "input_line_7:1:10: note: './pile/pile.h' included multiple times, additional include site here\n",
      "#include \"pile/pile.h\"\n",
      "         ^\n",
      "input_line_7:2:10: note: './pile/pile.h' included multiple times, additional include site here\n",
      "#include \"pile/pile.h\"\n",
      "         ^\n",
      "./pile/pile.h:7:3: note: unguarded header; consider using #ifdef guards or #pragma once\n",
      "} pile;\n",
      "  ^\n"
     ]
    },
    {
     "ename": "Interpreter Error",
     "evalue": "",
     "output_type": "error",
     "traceback": [
      "Interpreter Error: "
     ]
    }
   ],
   "source": [
    "#include \"pile/pile.h\"\n",
    "#include \"pile/pile.h\""
   ]
  },
  {
   "cell_type": "markdown",
   "id": "62710d93-f39b-4214-8c7d-cf83708dc704",
   "metadata": {},
   "source": [
    "Cette erreur peut arriver par exemple si un fichier `file1.c` inclut deux fichiers `file2.h`, `file3.h` et que `file3.h` inclut `file2.h`. `file1.c` se retrouve alors avec deux inclusions du fichier `file2.h`. On peut éviter ce genre de problème en rajoutant les lignes suivantes dans chaque header (par exemple `file2.h`) :"
   ]
  },
  {
   "cell_type": "code",
   "execution_count": 22,
   "id": "73683997-fbec-4049-8371-f0fe28928ba2",
   "metadata": {
    "execution": {
     "iopub.execute_input": "2021-12-02T19:58:40.667768Z",
     "iopub.status.busy": "2021-12-02T19:58:40.667323Z",
     "iopub.status.idle": "2021-12-02T19:58:40.668790Z",
     "shell.execute_reply": "2021-12-02T19:58:40.668316Z"
    }
   },
   "outputs": [],
   "source": [
    "#ifndef FILE2_H\n",
    "#define FILE2_H\n",
    "\n",
    "// ce code ne sera inclut qu'une fois\n",
    "\n",
    "#endif"
   ]
  }
 ],
 "metadata": {
  "kernelspec": {
   "display_name": "C++14",
   "language": "C++14",
   "name": "xcpp14"
  },
  "language_info": {
   "codemirror_mode": "text/x-c++src",
   "file_extension": ".cpp",
   "mimetype": "text/x-c++src",
   "name": "c++",
   "version": "14"
  }
 },
 "nbformat": 4,
 "nbformat_minor": 5
}

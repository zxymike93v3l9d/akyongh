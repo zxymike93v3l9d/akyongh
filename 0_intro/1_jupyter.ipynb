{
 "cells": [
  {
   "cell_type": "markdown",
   "source": [
    "# Prise en main de Jupyter\n",
    "\n",
    "Jupyter est composé de plusieurs cases. Chaque case peut être composé de Markdown (texte) ou de code.  \n",
    "Vous pouvez voir le contenu brut d'une case Markdown en double-cliquant dessus.  \n",
    "Pour revenir sur l'affichage d'origine, exécuter la case avec Ctrl + Entrée (laisser appuyer sur Ctrl puis sur Entrée), ou sur Shift + Entrée (ce qui permet en plus de passer à la case suivante)"
   ],
   "metadata": {}
  },
  {
   "cell_type": "markdown",
   "source": [
    "En plus de Shift + Entrée, voici quelques autres commandes utiles :\n",
    "- **Flèches du clavier (haut, bas)** pour se déplacer entre les cases.\n",
    "- **Entrée** : modifier la case en cours (indiqué par une barre latérale bleue).\n",
    "- **Échap** : sortir du mode édition (contraire de **Entrée**)\n",
    "- **B** : créer une case en dessous de celle en cours (il ne faut pas être en mode édition).\n",
    "- **A** : même chose mais au dessus de la case en cours.\n",
    "- **D D** : supprimer la case en cours.\n",
    "\n",
    "Pour changer le type d'une case (Markdown ou code), choisissez dans le menu déroulant :\n",
    "\n",
    "<center><img src=img/markdown.png width=300></center>"
   ],
   "metadata": {}
  },
  {
   "cell_type": "markdown",
   "source": [
    "Vous pouvez retrouver ces commandes, et d'autres, dans le menu de Jupyter."
   ],
   "metadata": {}
  },
  {
   "cell_type": "markdown",
   "source": [
    "# Markdown\n",
    "\n",
    "Voici un résumé des commandes spéciales Markdown :\n",
    "- `# Titre` pour écrire un titre\n",
    "- `**gras**` pour écrire du texte en **gras**\n",
    "- `*italique**` pour écrire en *italique*\n",
    "- `$\\sum_{k=0}^n 2^k$` pour écrire des formules mathématiques en LaTeX, ce qui donne par exemple :\n",
    "$$\\sum_{k=0}^n 2^k$$\n",
    "\n",
    "Pour plus de possibilités, regarder https://guides.github.com/features/mastering-markdown/"
   ],
   "metadata": {}
  },
  {
   "cell_type": "markdown",
   "source": [
    "# Code\n",
    "\n",
    "Lorsque vous exécutez une case de code, Jupyter vous donne la réponse :"
   ],
   "metadata": {}
  },
  {
   "cell_type": "code",
   "execution_count": 1,
   "source": [
    "2.0**10.0 (* calcul en OCaml *)"
   ],
   "outputs": [
    {
     "output_type": "execute_result",
     "data": {
      "text/plain": [
       "- : float = 1024.\n"
      ]
     },
     "metadata": {},
     "execution_count": 1
    }
   ],
   "metadata": {}
  },
  {
   "cell_type": "markdown",
   "source": [
    "Les fonctions/variables définies sur une case sont utilisables sur les cases suivantes :"
   ],
   "metadata": {}
  },
  {
   "cell_type": "code",
   "execution_count": 4,
   "source": [
    "let a = 3;; (* définition d'une variable a *)"
   ],
   "outputs": [
    {
     "output_type": "execute_result",
     "data": {
      "text/plain": [
       "val a : int = 3\n"
      ]
     },
     "metadata": {},
     "execution_count": 4
    }
   ],
   "metadata": {}
  },
  {
   "cell_type": "code",
   "execution_count": 5,
   "source": [
    "a  (* utilisation de a *)"
   ],
   "outputs": [
    {
     "output_type": "execute_result",
     "data": {
      "text/plain": [
       "- : int = 3\n"
      ]
     },
     "metadata": {},
     "execution_count": 5
    }
   ],
   "metadata": {}
  },
  {
   "cell_type": "markdown",
   "source": [
    "Parfois, du code peut ne jamais s'arrêter (en cas de boucle infinie, par exemple). Dans ce cas, appuyer sur le bouton stop :\n",
    "<center><img src=img/stop.png width=300></center>\n",
    "\n",
    "**Exemple** : exécuter la boucle infinie suivante puis l'arrêter avec le bouton ci-dessus."
   ],
   "metadata": {}
  },
  {
   "cell_type": "code",
   "execution_count": null,
   "source": [
    "while true do\n",
    "  ()  (* ne rien faire *)\n",
    "done"
   ],
   "outputs": [],
   "metadata": {}
  },
  {
   "cell_type": "markdown",
   "source": [
    "Si vous n'écrivez pas de code pendant longtemps, Binder va automatiquement stopper votre kernel (le langage que vous êtes en train d'utiliser). Il faut le redémarrer en cliquant sur \"No Kernel\" puis en choisissant le langage (OCaml par exemple) :\n",
    "\n",
    "<center><img src=img/kernel.png width=300></center>"
   ],
   "metadata": {}
  },
  {
   "cell_type": "markdown",
   "source": [
    "# Testez vos réponses\n",
    "\n",
    "**Toutes les réponses aux exercices doivent être testées sur des exemples.**"
   ],
   "metadata": {
    "tags": []
   }
  },
  {
   "cell_type": "markdown",
   "source": [
    "# Pensez à télécharger votre notebook Jupyter à la fin de séance\n",
    "\n",
    "Les données sont perdues sur Binder (même avec File->Save). Veuillez télécharger votre notebook (File -> Download) à la fin de chaque séance.\n",
    "\n",
    "Pour ensuite uploader : \n",
    "<center><img src=img/upload.png width=300></center>"
   ],
   "metadata": {
    "tags": []
   }
  },
  {
   "cell_type": "markdown",
   "source": [
    "# Référence officielle\n",
    "\n",
    "Pour plus de détails sur Jupyter (mais a priori vous n'en aurez pas besoin) : https://jupyterlab.readthedocs.io/en/stable/user/interface.html"
   ],
   "metadata": {}
  },
  {
   "cell_type": "code",
   "execution_count": null,
   "source": [],
   "outputs": [],
   "metadata": {}
  }
 ],
 "metadata": {
  "kernelspec": {
   "display_name": "OCaml default",
   "language": "OCaml",
   "name": "ocaml-jupyter"
  },
  "language_info": {
   "codemirror_mode": "text/x-ocaml",
   "file_extension": ".ml",
   "mimetype": "text/x-ocaml",
   "name": "OCaml",
   "nbconverter_exporter": null,
   "pygments_lexer": "OCaml",
   "version": "4.08.1"
  }
 },
 "nbformat": 4,
 "nbformat_minor": 4
}
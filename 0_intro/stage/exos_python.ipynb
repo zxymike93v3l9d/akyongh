{
 "cells": [
  {
   "cell_type": "markdown",
   "metadata": {},
   "source": [
    "# Entraînement en Python\n",
    "\n",
    "Pensez à toujours tester vos fonctions sur des exemples. Appelez-moi si un exercice vous pose problème.  \n",
    "\n",
    "Pour écrire une réponse à un exercice : cliquer sur l'exercice (sortez du mode édition avec Échap si besoin) et appuyer sur la touche B pour faire apparaître une case de code pour votre réponse."
   ]
  },
  {
   "cell_type": "markdown",
   "metadata": {},
   "source": [
    "# Petits exercices"
   ]
  },
  {
   "cell_type": "markdown",
   "metadata": {},
   "source": [
    "1. Écrire une fonction pour renvoyer le produit des éléments d'une liste.\n",
    "2. Écrire une fonction permettant de savoir si une liste est triée par ordre croissant.\n",
    "3. Écrire une fonction pour inverser une liste.\n",
    "4. Déduire des deux questions précédentes une fonction pour savoir si une liste est triée par ordre décroissant.\n",
    "5. Écrire une fonction vérifiant que tous les éléments d'une liste sont pairs."
   ]
  },
  {
   "cell_type": "markdown",
   "metadata": {},
   "source": [
    "# Arithmétique\n",
    "\n",
    "## Divisibilité\n",
    "\n",
    "Soit $a$ et $b$ deux entiers. On appelle $q$ et $r$ le quotient et le reste de la division euclidienne de $a$ par $b$.  \n",
    "Par définition, $q$ et $r$ sont les uniques entiers vérifiants :\n",
    "$$a = bq + r$$\n",
    "$$0 \\leq r < b$$\n",
    "1. Rappeler comment obtenir le quotient et le reste en Python.\n",
    "2. Donner une condition nécessaire et suffisante sur $r$ pour que $b$ divise $a$.\n",
    "3. En déduire une fonction `divise` telle que `divise(a, b)` vaut `True` si `b` divise `a`, `False` sinon.\n",
    "4. Écrire une fonction `diviseurs` renvoyant la liste des diviseurs positifs d'un entier $n$.  \n",
    "Par exemple, `diviseurs(6)` peut renvoyer `[1, 2, 3, 6]`. "
   ]
  },
  {
   "cell_type": "markdown",
   "metadata": {},
   "source": [
    "\n",
    "## Algorithme d'Euclide\n",
    "\n",
    "Implémenter l'algorithme d'Euclide qui permet d'obtenir le PGCD de deux entiers $a$ et $b$ (c'est-à-dire le plus grand entier divisant $a$ et $b$) :  \n",
    "```\n",
    "Tant que b > 0 :\n",
    "    r = reste de la division de a par b\n",
    "    a = b\n",
    "    b = r\n",
    "Renvoyer a\n",
    "```\n",
    "\n",
    "Vérifier par exemple que PGCD(30, 18) = 6."
   ]
  },
  {
   "cell_type": "markdown",
   "metadata": {},
   "source": [
    "\n",
    "## Primalité\n",
    "\n",
    "5. On rappelle qu'un entier $n$ est premier s'il possède 2 diviseurs positifs : 1 et $n$.  \n",
    "Écrire une fonction `premier` déterminant si un entier $n$ est premier.\n",
    "6. Donner un ordre de grandeur du nombre d'opérations de `premier(n)` en fonction de `n`.  \n",
    "Pouvez-vous obtenir de l'ordre de $\\sqrt{n}$ opérations (éventuellement en modifiant votre fonction) ?"
   ]
  },
  {
   "cell_type": "markdown",
   "metadata": {},
   "source": [
    "\n",
    "## Crible d'Ératosthène\n",
    "\n",
    "7. Écrire une fonction `tous_premiers` telle que `tous_premiers(n)` renvoie la liste des entiers premiers entre 2 et $n$.  \n",
    "Par exemple, `tous_premiers(12)` peut renvoyer `[2, 3, 5, 7, 11]`.\n",
    "8. Implémenter en Python l'algorithme suivant (crible d'Ératosthène), qui est une méthode plus efficace :\n",
    "\n",
    "```\n",
    "Initialiser une liste L de taille n+1 remplie de True (à la fin, L[i] sera True si l'entier i est premier, False sinon).  \n",
    "\n",
    "Pour chaque entier k de 2 à n:  \n",
    "    Mettre à False tous les multiples de k dans L (ils ne peuvent pas être premiers)\n",
    "```\n",
    "<center><figure><img src=img/eratosthene.gif width=300><figcaption>Crible d'Eratosthene</figcaption>\n",
    "</figure></center>"
   ]
  },
  {
   "cell_type": "markdown",
   "metadata": {},
   "source": [
    "# Récursivité\n",
    "\n",
    "## Somme\n",
    "\n",
    "Écrire une fonction récursive pour calculer la somme des $n$ premiers entiers ($1 + 2 + ... + n$)."
   ]
  },
  {
   "cell_type": "markdown",
   "metadata": {},
   "source": [
    "\n",
    "## Recherche par dichotomie récursif\n",
    "\n",
    "Réécrire l'algorithme de recherche par dichotomie en récursif. Voici un squelette qu'on pourra compléter (pour tester votre fonction, vous appelerez `appartient_dicho(e, L, 0, len(L)-1)`) :\n",
    "```python\n",
    "def appartient_dicho(e, L, i, j):  # détermine si e apparaît dans L entre les indices i et j\n",
    "    m = #...\n",
    "    if L[m] == e:\n",
    "        # ...\n",
    "    elif L[m] < e:\n",
    "        # appel récursif sur la partie droite\n",
    "    else:\n",
    "        # appel récursif sur la partie gauche\n",
    "    # ...\n",
    "```"
   ]
  },
  {
   "cell_type": "markdown",
   "metadata": {},
   "source": [
    "## Tours de Hanoï\n",
    "![](img/hanoi.png)\n",
    "\n",
    "$n$ disques sont posés sur la tige à gauche. L'objectif est de déplacer tous les disques sur la tige à droite :\n",
    "\n",
    "![](img/hanoi2.png)\n",
    "\n",
    "Règles du jeu :\n",
    "\n",
    "- On ne peut déplacer qu'un disque à la fois (celui tout en haut), sur une autre tige.\n",
    "- Il est interdit de poser un disque sur un autre plus petit.\n",
    "\n",
    "Exemple de premier déplacement valide :\n",
    "\n",
    "![](img/hanoi3.png)\n",
    "\n",
    "On souhaite écrire une fonction récursive `hanoi` telle que `hanoi(n, tige1, tige2)` affiche une suite de déplacements (avec des `print`) permettant de déplacer $n$ disques depuis `tige1` vers `tige2`. On supposera que les tiges sont numérotées 0, 1, 2 (de gauche à droite).\n",
    "\n",
    "1. Supposons que vous sachiez déplacer $n-1$ disques d'une tige à une autre. Comment déplacer $n$ disques d'une tige à une autre ?\n",
    "2. Écrire `hanoi`.\n",
    "3. Essayer d'écrire `hanoi` en itératif (sans fonction récursive, seulement avec des boucles). Échouez et concluez que la solution récursive est beaucoup plus simple.\n",
    "4. (Seulement si vous avez du temps à perdre) Afficher graphiquement les déplacements avec `matplotlib`. (utiliser `!pip install matplotlib numpy` pour avoir les bibilothèques sur Binder)"
   ]
  },
  {
   "cell_type": "markdown",
   "metadata": {},
   "source": []
  }
 ],
 "metadata": {
  "interpreter": {
   "hash": "31f2aee4e71d21fbe5cf8b01ff0e069b9275f58929596ceb00d14d90e3e16cd6"
  },
  "kernelspec": {
   "display_name": "Python 3.8.10 64-bit",
   "language": "python",
   "name": "python3810jvsc74a57bd031f2aee4e71d21fbe5cf8b01ff0e069b9275f58929596ceb00d14d90e3e16cd6"
  },
  "language_info": {
   "codemirror_mode": {
    "name": "ipython",
    "version": 3
   },
   "file_extension": ".py",
   "mimetype": "text/x-python",
   "name": "python",
   "nbconvert_exporter": "python",
   "pygments_lexer": "ipython3",
   "version": "3.8.10"
  },
  "title": "Exercices Python"
 },
 "nbformat": 4,
 "nbformat_minor": 4
}

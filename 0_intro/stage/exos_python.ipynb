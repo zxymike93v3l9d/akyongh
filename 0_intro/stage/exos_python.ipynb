{
 "cells": [
  {
   "cell_type": "markdown",
   "metadata": {},
   "source": [
    "# <center><a href='https://mybinder.org/v2/gh/fortierq/binder-mp2i/main?urlpath=git-pull%3Frepo%3Dhttps%253A%252F%252Fgithub.com%252Fmp2i-fsm%252Fmp2i-2021%26urlpath%3Dlab%252Ftree%252Fmp2i-2021%252F0_intro%252Fstage%252Fexos_python.ipynb%26branch%3Dmain'>Exercices de prérentrée                       <img src=https://mybinder.org/badge.svg></a></center>\n",
    "\n",
    "Pensez à toujours tester vos fonctions sur des exemples. Appelez-moi si un exercice vous pose problème.  \n",
    "\n",
    "Pour écrire une réponse à un exercice : cliquer sur l'exercice (sortez du mode édition avec Échap si besoin) et appuyer sur la touche B pour faire apparaître une case de code pour votre réponse."
   ]
  },
  {
   "cell_type": "markdown",
   "metadata": {},
   "source": [
    "# Petits exercices"
   ]
  },
  {
   "cell_type": "markdown",
   "metadata": {
    "tags": [
     "exo"
    ]
   },
   "source": [
    "1. Écrire une fonction pour renvoyer le produit des éléments d'une liste.\n",
    "2. Écrire une fonction permettant de savoir si une liste est triée par ordre croissant.\n",
    "3. Écrire une fonction pour inverser une liste.\n",
    "4. Déduire des deux questions précédentes une fonction pour savoir si une liste est triée par ordre décroissant.\n",
    "5. Écrire une fonction vérifiant que tous les éléments d'une liste sont pairs."
   ]
  },
  {
   "cell_type": "code",
   "execution_count": 1,
   "metadata": {
    "execution": {
     "iopub.execute_input": "2021-11-14T20:11:27.767333Z",
     "iopub.status.busy": "2021-11-14T20:11:27.765966Z",
     "iopub.status.idle": "2021-11-14T20:11:27.770547Z",
     "shell.execute_reply": "2021-11-14T20:11:27.770100Z"
    },
    "tags": [
     "cor"
    ]
   },
   "outputs": [],
   "source": [
    "def produit(l):\n",
    "    s = 1\n",
    "    for i in l:\n",
    "        s = s*i\n",
    "    return s\n",
    "\n",
    "def is_sorted(l):\n",
    "    for i in range(1,len(l)-1):\n",
    "        if l[i]<=l[i-1]:\n",
    "            return False\n",
    "    return True\n",
    "\n",
    "def revert(l):\n",
    "    return [ l[-i] for i in range(1,len(l)+1) ]\n",
    "\n",
    "def is_decreasing(l):\n",
    "    return is_sorted(revert(l))\n",
    "\n",
    "def is_even(l):\n",
    "    for i in l:\n",
    "        if i % 2 != 0:\n",
    "            return False\n",
    "    return True"
   ]
  },
  {
   "cell_type": "markdown",
   "metadata": {},
   "source": [
    "# Arithmétique\n",
    "\n",
    "## Divisibilité\n",
    "\n",
    "Soit $a$ et $b$ deux entiers. On appelle $q$ et $r$ le quotient et le reste de la division euclidienne de $a$ par $b$.  \n",
    "Par définition, $q$ et $r$ sont les uniques entiers vérifiants :\n",
    "$$a = bq + r$$\n",
    "$$0 \\leq r < b$$"
   ]
  },
  {
   "cell_type": "markdown",
   "metadata": {
    "tags": [
     "exo"
    ]
   },
   "source": [
    "1. Rappeler comment obtenir le quotient et le reste en Python.\n",
    "2. Donner une condition nécessaire et suffisante sur $r$ pour que $b$ divise $a$.\n",
    "3. En déduire une fonction `divise` telle que `divise(a, b)` vaut `True` si `b` divise `a`, `False` sinon.\n",
    "4. Écrire une fonction `diviseurs` renvoyant la liste des diviseurs positifs d'un entier $n$.  \n",
    "Par exemple, `diviseurs(6)` peut renvoyer `[1, 2, 3, 6]`. "
   ]
  },
  {
   "cell_type": "code",
   "execution_count": 2,
   "metadata": {
    "execution": {
     "iopub.execute_input": "2021-11-14T20:11:27.775305Z",
     "iopub.status.busy": "2021-11-14T20:11:27.774515Z",
     "iopub.status.idle": "2021-11-14T20:11:27.776310Z",
     "shell.execute_reply": "2021-11-14T20:11:27.775973Z"
    },
    "tags": [
     "cor"
    ]
   },
   "outputs": [],
   "source": [
    "\"\"\"\n",
    "Pour obtenir le quotient on utilise a//b\n",
    "Pour obtenir le reste, on utilise a % b\n",
    "\"\"\"\n",
    "\"\"\"\n",
    "b divise a ssi a %b\n",
    "\"\"\"\n",
    "def divise(a, b):\n",
    "    return a % b == 0\n",
    "    \n",
    "def diviseurs(a):\n",
    "    divs = []\n",
    "    for i in range(1,a+1):\n",
    "        if divise(a, i) :\n",
    "            divs.append(i)\n",
    "    return divs"
   ]
  },
  {
   "cell_type": "markdown",
   "metadata": {},
   "source": [
    "## Algorithme d'Euclide"
   ]
  },
  {
   "cell_type": "markdown",
   "metadata": {
    "tags": [
     "exo"
    ]
   },
   "source": [
    "Implémenter l'algorithme d'Euclide qui permet d'obtenir le PGCD de deux entiers $a$ et $b$ (c'est-à-dire le plus grand entier divisant $a$ et $b$) :  \n",
    "```\n",
    "Tant que b > 0 :\n",
    "    r = reste de la division de a par b\n",
    "    a = b\n",
    "    b = r\n",
    "Renvoyer a\n",
    "```\n",
    "\n",
    "Vérifier par exemple que PGCD(30, 18) = 6."
   ]
  },
  {
   "cell_type": "code",
   "execution_count": 3,
   "metadata": {
    "execution": {
     "iopub.execute_input": "2021-11-14T20:11:27.780244Z",
     "iopub.status.busy": "2021-11-14T20:11:27.779236Z",
     "iopub.status.idle": "2021-11-14T20:11:27.780797Z",
     "shell.execute_reply": "2021-11-14T20:11:27.781134Z"
    },
    "tags": [
     "cor"
    ]
   },
   "outputs": [],
   "source": [
    "def euclide(a,b):\n",
    "    while b > 0:\n",
    "        r = a % b\n",
    "        a = b\n",
    "        b = r\n",
    "    return a"
   ]
  },
  {
   "cell_type": "markdown",
   "metadata": {
    "tags": []
   },
   "source": [
    "## Primalité"
   ]
  },
  {
   "cell_type": "markdown",
   "metadata": {
    "jp-MarkdownHeadingCollapsed": true,
    "tags": [
     "exo"
    ]
   },
   "source": [
    "1. On rappelle qu'un entier $n$ est premier s'il possède 2 diviseurs positifs : 1 et $n$.  \n",
    "Écrire une fonction `premier` déterminant si un entier $n$ est premier.\n",
    "2. Donner un ordre de grandeur du nombre d'opérations de `premier(n)` en fonction de `n`.  \n",
    "Pouvez-vous obtenir de l'ordre de $\\sqrt{n}$ opérations (éventuellement en modifiant votre fonction) ?"
   ]
  },
  {
   "cell_type": "code",
   "execution_count": 4,
   "metadata": {
    "execution": {
     "iopub.execute_input": "2021-11-14T20:11:27.784878Z",
     "iopub.status.busy": "2021-11-14T20:11:27.784108Z",
     "iopub.status.idle": "2021-11-14T20:11:27.785496Z",
     "shell.execute_reply": "2021-11-14T20:11:27.785827Z"
    },
    "tags": [
     "cor"
    ]
   },
   "outputs": [],
   "source": [
    "# 1.\n",
    "def premier(n):\n",
    "    return len(diviseurs(n)) == 2"
   ]
  },
  {
   "cell_type": "markdown",
   "metadata": {
    "tags": [
     "cor"
    ]
   },
   "source": [
    "2 . `diviseurs(n)` parcours tous les entiers jusqu'à $n$ donc effectue environ $n$ opérations.  \n",
    "On pourrait tester seulement jusqu'à $\\sqrt{n}$ pour savoir si $n$ possède un diviseur. En effet si $n$ a un diviseur $d$ alors il existe $k$ tel que $n = k \\times d$ et soit $k$ soit $d$ est inférieur à $\\sqrt{n}$ :"
   ]
  },
  {
   "cell_type": "code",
   "execution_count": 5,
   "metadata": {
    "execution": {
     "iopub.execute_input": "2021-11-14T20:11:27.790133Z",
     "iopub.status.busy": "2021-11-14T20:11:27.789187Z",
     "iopub.status.idle": "2021-11-14T20:11:27.790621Z",
     "shell.execute_reply": "2021-11-14T20:11:27.790949Z"
    },
    "tags": [
     "cor"
    ]
   },
   "outputs": [],
   "source": [
    "def premier(n):\n",
    "    for d in range(2, int(n**.5) + 1): # +1 car la borne de fin est exclue dans un range\n",
    "        if divise(n, d):\n",
    "            return False\n",
    "    return True\n",
    "\n",
    "assert premier(11)\n",
    "assert not premier(9) # tests"
   ]
  },
  {
   "cell_type": "markdown",
   "metadata": {},
   "source": [
    "## Crible d'Ératosthène"
   ]
  },
  {
   "cell_type": "markdown",
   "metadata": {
    "tags": [
     "exo"
    ]
   },
   "source": [
    "7. Écrire une fonction `tous_premiers` telle que `tous_premiers(n)` renvoie la liste des entiers premiers entre 2 et $n$.  \n",
    "Par exemple, `tous_premiers(12)` peut renvoyer `[2, 3, 5, 7, 11]`.\n",
    "8. Implémenter en Python l'algorithme suivant (crible d'Ératosthène), qui est une méthode plus efficace :\n",
    "\n",
    "```\n",
    "Initialiser une liste L de taille n+1 remplie de True (à la fin, L[i] sera True si l'entier i est premier, False sinon).  \n",
    "\n",
    "Pour chaque entier k de 2 à n:  \n",
    "    Si L[k] est True:\n",
    "        Mettre à False tous les multiples de k dans L (ils ne peuvent pas être premiers)\n",
    "```\n",
    "<center><figure><img src=img/eratosthene.gif width=300><figcaption>Crible d'Eratosthene</figcaption>\n",
    "</figure></center>"
   ]
  },
  {
   "cell_type": "code",
   "execution_count": 6,
   "metadata": {
    "execution": {
     "iopub.execute_input": "2021-11-14T20:11:27.795912Z",
     "iopub.status.busy": "2021-11-14T20:11:27.794994Z",
     "iopub.status.idle": "2021-11-14T20:11:27.796929Z",
     "shell.execute_reply": "2021-11-14T20:11:27.796572Z"
    },
    "tags": [
     "cor"
    ]
   },
   "outputs": [],
   "source": [
    "def tous_premiers(n):\n",
    "    return [ i  for i in range(2,n+1) if premier(i) ]\n",
    "\n",
    "def eratosthene(n):\n",
    "    L = [ True for i in range(n+1) ]\n",
    "    for k in range(2,n+1):\n",
    "        for l in range(k, n+1):\n",
    "            if L[k]:\n",
    "                if divise(l, k):\n",
    "                    L[k] = False\n",
    "    return(L)"
   ]
  },
  {
   "cell_type": "markdown",
   "metadata": {
    "tags": []
   },
   "source": [
    "# Récursivité\n",
    "\n",
    "## Somme"
   ]
  },
  {
   "cell_type": "markdown",
   "metadata": {
    "tags": [
     "exo"
    ]
   },
   "source": [
    "Écrire une fonction récursive pour calculer la somme des $n$ premiers entiers ($1 + 2 + ... + n$)."
   ]
  },
  {
   "cell_type": "code",
   "execution_count": 7,
   "metadata": {
    "execution": {
     "iopub.execute_input": "2021-11-14T20:11:27.800314Z",
     "iopub.status.busy": "2021-11-14T20:11:27.799908Z",
     "iopub.status.idle": "2021-11-14T20:11:27.801759Z",
     "shell.execute_reply": "2021-11-14T20:11:27.801404Z"
    },
    "tags": [
     "cor"
    ]
   },
   "outputs": [],
   "source": [
    "def somme(n):\n",
    "    if n == 1:\n",
    "        return 1\n",
    "    else:\n",
    "        return somme(n-1) + n"
   ]
  },
  {
   "cell_type": "markdown",
   "metadata": {},
   "source": [
    "## Recherche par dichotomie récursif"
   ]
  },
  {
   "cell_type": "markdown",
   "metadata": {
    "tags": [
     "exo"
    ]
   },
   "source": [
    "Réécrire l'algorithme de recherche par dichotomie en récursif. Voici un squelette qu'on pourra compléter (pour tester votre fonction, vous appelerez `appartient_dicho(e, L, 0, len(L)-1)`) :\n",
    "```python\n",
    "def appartient_dicho(e, L, i, j):  # détermine si e apparaît dans L entre les indices i et j\n",
    "    m = #...\n",
    "    if L[m] == e:\n",
    "        # ...\n",
    "    elif L[m] < e:\n",
    "        # appel récursif sur la partie droite\n",
    "    else:\n",
    "        # appel récursif sur la partie gauche\n",
    "    # ...\n",
    "```"
   ]
  },
  {
   "cell_type": "code",
   "execution_count": 8,
   "metadata": {
    "execution": {
     "iopub.execute_input": "2021-11-14T20:11:27.805970Z",
     "iopub.status.busy": "2021-11-14T20:11:27.805230Z",
     "iopub.status.idle": "2021-11-14T20:11:27.807005Z",
     "shell.execute_reply": "2021-11-14T20:11:27.806638Z"
    },
    "tags": [
     "cor"
    ]
   },
   "outputs": [],
   "source": [
    "def appartient_dicho(e,L,i,j):\n",
    "    m = (i+j)//2\n",
    "    if L[m] == e:\n",
    "        return True\n",
    "    elif i == j:\n",
    "        return False\n",
    "    elif L[m] < e:\n",
    "        return appartient_dicho(e,L,m+1,j)\n",
    "    else :\n",
    "        return appartient_dicho(e,L,i,m-1)"
   ]
  },
  {
   "cell_type": "markdown",
   "metadata": {
    "tags": []
   },
   "source": [
    "## Tours de Hanoï\n",
    "![](img/hanoi.png)\n",
    "\n",
    "$n$ disques sont posés sur la tige à gauche. L'objectif est de déplacer tous les disques sur la tige à droite :\n",
    "\n",
    "![](img/hanoi2.png)\n",
    "\n",
    "Règles du jeu :\n",
    "\n",
    "- On ne peut déplacer qu'un disque à la fois (celui tout en haut), sur une autre tige.\n",
    "- Il est interdit de poser un disque sur un autre plus petit.\n",
    "\n",
    "Exemple de premier déplacement valide :\n",
    "\n",
    "![](img/hanoi3.png)\n",
    "\n",
    "On souhaite écrire une fonction récursive `hanoi` telle que `hanoi(n, tige1, tige2)` affiche une suite de déplacements (avec des `print`) permettant de déplacer $n$ disques depuis `tige1` vers `tige2`. On supposera que les tiges sont numérotées 0, 1, 2 (de gauche à droite).\n",
    "\n",
    "1. Supposons que vous sachiez déplacer $n-1$ disques d'une tige à une autre. Comment déplacer $n$ disques d'une tige à une autre ?\n",
    "2. Écrire `hanoi`.\n",
    "3. Essayer d'écrire `hanoi` en itératif (sans fonction récursive, seulement avec des boucles). Échouez et concluez que la solution récursive est beaucoup plus simple.\n",
    "4. (Seulement si vous avez du temps à perdre) Afficher graphiquement les déplacements avec `matplotlib`. (utiliser `!pip install matplotlib numpy` pour avoir les bibilothèques sur Binder)"
   ]
  },
  {
   "cell_type": "markdown",
   "metadata": {
    "tags": [
     "cor"
    ]
   },
   "source": [
    "1. **Remarque** : cet exercice est très difficile à résoudre du premier coup. Par contre il est classique donc il est utile de se souvenir de la solution/méthode pour éventuellement s'en inspirer dans d'autres problèmes.  \n",
    "**Solution pour déplacer $n$ disques de la tige 0 vers la tige 2** :  \n",
    "On déplace d'abord les $n-1$ disques du dessus de la tige 0 vers la tige 1 (en appelant `hanoi(n - 1, 0, 1)`) :\n",
    "![](img/hanoi_sol1.png)  \n",
    "Puis un disque de la tige 0 vers la tige 2 :\n",
    "![](img/hanoi_sol2.png)  \n",
    "Et enfin $n - 1$ disque de la tige 1 vers la tige 2 (en appelant `hanoi(n - 1, 1, 2)`) :\n",
    "![](img/hanoi_sol3.png)\n",
    "\n",
    "On a donc expliqué comment définir `hanoi(n, 0, 2)`. Cependant, dans les appels récursifs, les tiges de départ et d'arrivée ne sont pas forcément 0 et 2. Il faut donc expliquer plus généralement comment définir `hanoi(n, i, j)` pour `i` et `j` quelconques (entre 0 et 2). Le principe est très similaire pour déplacer $n$ tiges de $i$ à $j$ :\n",
    "\n",
    "- Soit $k$ la tige différente de $i$ et $j$ (par exemple $k = 2$ si $i = 0$ et $j = 1$). On peut calculer $k$ en remarquant que $i + j + k = 3$ donc $k = 3 - i - j$.\n",
    "- Déplacer $n - 1$ disques de $i$ vers $k$\n",
    "- Déplacer un disque de $i$ vers $j$\n",
    "- Déplacer $n - 1$ disques de $k$ vers $j$"
   ]
  },
  {
   "cell_type": "code",
   "execution_count": 9,
   "metadata": {
    "execution": {
     "iopub.execute_input": "2021-11-14T20:11:27.812456Z",
     "iopub.status.busy": "2021-11-14T20:11:27.811447Z",
     "iopub.status.idle": "2021-11-14T20:11:27.815263Z",
     "shell.execute_reply": "2021-11-14T20:11:27.814859Z"
    },
    "tags": [
     "cor"
    ]
   },
   "outputs": [
    {
     "name": "stdout",
     "output_type": "stream",
     "text": [
      "Déplacer 0 vers 2\n",
      "Déplacer 0 vers 1\n",
      "Déplacer 2 vers 1\n",
      "Déplacer 0 vers 2\n",
      "Déplacer 1 vers 0\n",
      "Déplacer 1 vers 2\n",
      "Déplacer 0 vers 2\n"
     ]
    }
   ],
   "source": [
    "# 2.\n",
    " \n",
    "def hanoi(n, i, j): # déplace n disques de la tige i vers tige j\n",
    "    if n == 0:  # ne pas oublier un cas de base (sinon le programme ne s'arrête jamais)\n",
    "        return\n",
    "    k = 3 - i - j\n",
    "    hanoi(n - 1, i, k)\n",
    "    print(f\"Déplacer {i} vers {j}\")\n",
    "    hanoi(n - 1, k, j)\n",
    "\n",
    "hanoi(3, 0, 2)"
   ]
  }
 ],
 "metadata": {
  "interpreter": {
   "hash": "31f2aee4e71d21fbe5cf8b01ff0e069b9275f58929596ceb00d14d90e3e16cd6"
  },
  "kernelspec": {
   "display_name": "Python 3 (ipykernel)",
   "language": "python",
   "name": "python3"
  },
  "language_info": {
   "codemirror_mode": {
    "name": "ipython",
    "version": 3
   },
   "file_extension": ".py",
   "mimetype": "text/x-python",
   "name": "python",
   "nbconvert_exporter": "python",
   "pygments_lexer": "ipython3",
   "version": "3.9.6"
  },
  "title": "Exercices Python"
 },
 "nbformat": 4,
 "nbformat_minor": 4
}

{
 "cells": [
  {
   "cell_type": "markdown",
   "metadata": {},
   "source": [
    "# Rendu de TD/TP\n",
    "\n",
    "## Inscription sur GitHub\n",
    "\n",
    "Le rendu de TP se fera sur GitHub, qui est un site utilisé par de nombreux développeurs pour partager leur code. Vous devez donc créer un compte sur [https://github.com/](https://github.com/) en cliquant sur Sign Up et en suivant les instructions. **Veuillez utiliser votre nom de famille et (au moins) l'initiale de votre prénom comme pseudo**.\n",
    "\n",
    "Le site du cours sur lequel vous devez rendre les TP est : [https://github.com/mp2i-fsm/mp2i-2021](https://github.com/mp2i-fsm/mp2i-2021).  \n",
    "Si vous avez des questions sur le cours, je vous encourage à utiliser l'onglet \"Discussions\". J'essaierai de répondre rapidement. "
   ]
  },
  {
   "cell_type": "markdown",
   "metadata": {},
   "source": [
    "## Pull request\n",
    "\n",
    "Voici les démarches à suivre pour rendre un TP/TD :\n",
    "- Dans Jupyter, faites un clic droit sur le notebook à rendre et cliquer sur Open With -> Editor : <center><img src=img/editor.png width=450></center>\n",
    "- Copier le contenu du fichier (Ctrl A pour tout sélectionner puis Ctrl C pour copier) : <center><img src=img/ctrla.png width=700></center>\n",
    "- Aller sur [https://github.com/mp2i-fsm/mp2i-2021](https://github.com/mp2i-fsm/mp2i-2021).\n",
    "- Cliquer sur le fichier correspondant au TP que vous devez rendre : <center><img src=img/gh_file.png width=900></center>\n",
    "- Cliquer sur le petit crayon (Edit this file) : <center><img src=img/gh_edit.png width=900></center>\n",
    "- Remplacer par le contenu de votre notebook (Ctrl A puis Ctrl V).\n",
    "- Cliquer sur \"Propose changes\" tout en bas (vous pouvez éventuellement ajouter un commentaire) : <center><img src=img/commit.png width=900></center>.\n",
    "- Cliquer sur \"Create Pull Request\" : <center><img src=img/pr.png width=900></center>\n",
    "- Cliquer sur \"Create Pull Request\" en bas (vous pouvez éventuellement ajouter un commentaire) : <center><img src=img/pr2.png width=700></center>. \n",
    "\n",
    "Vous aurez ensuite des commentaires sur votre travail. Pour les voir, cliquer sur l'onglet Pull Requests :\n",
    "<center><img src=img/gh_pr.png width=400></center>  \n",
    "\n",
    "Puis cliquer dans la liste ce qui correspond à votre travail (éventuellement dans closed).  \n",
    "Quand j'aurai terminé de relire votre notebook, vous recevrez une notification et vous pourrez cliquer sur le bouton ReviewNB pour voir les commentaires :\n",
    "<center><img src=img/review.png width=400></center>\n",
    "\n",
    "Je posterai aussi un corrigé de chaque TP sur [https://github.com/mp2i-fsm/mp2i-2021](https://github.com/mp2i-fsm/mp2i-2021)."
   ]
  }
 ],
 "metadata": {
  "kernelspec": {
   "display_name": "OCaml default",
   "language": "OCaml",
   "name": "ocaml-jupyter"
  },
  "language_info": {
   "codemirror_mode": "text/x-ocaml",
   "file_extension": ".ml",
   "mimetype": "text/x-ocaml",
   "name": "OCaml",
   "nbconverter_exporter": null,
   "pygments_lexer": "OCaml",
   "version": "4.08.1"
  }
 },
 "nbformat": 4,
 "nbformat_minor": 4
}

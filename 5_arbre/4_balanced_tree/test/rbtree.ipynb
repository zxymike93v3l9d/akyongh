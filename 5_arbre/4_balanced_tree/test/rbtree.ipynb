{
 "cells": [
  {
   "cell_type": "markdown",
   "id": "720125df-abcb-4c19-b12c-07bee3231f38",
   "metadata": {},
   "source": [
    "# Arbres rouge-noir\n",
    "\n",
    "## Définitions"
   ]
  },
  {
   "cell_type": "code",
   "execution_count": 1,
   "id": "0df42201-801a-4cb7-9895-58836503c7be",
   "metadata": {
    "execution": {
     "iopub.execute_input": "2022-01-11T20:09:39.188738Z",
     "iopub.status.busy": "2022-01-11T20:09:39.187530Z",
     "iopub.status.idle": "2022-01-11T20:09:39.190535Z",
     "shell.execute_reply": "2022-01-11T20:09:39.189190Z"
    }
   },
   "outputs": [
    {
     "data": {
      "text/plain": [
       "type 'a rb_tree =\n",
       "    E\n",
       "  | R of 'a * 'a rb_tree * 'a rb_tree\n",
       "  | B of 'a * 'a rb_tree * 'a rb_tree\n"
      ]
     },
     "execution_count": 1,
     "metadata": {},
     "output_type": "execute_result"
    }
   ],
   "source": [
    "type 'a rb_tree = \n",
    "      E (* Vide *)\n",
    "    | R of 'a * 'a rb_tree * 'a rb_tree (* noeud rouge *)\n",
    "    | B of 'a * 'a rb_tree * 'a rb_tree (* noeud noir *)"
   ]
  },
  {
   "cell_type": "code",
   "execution_count": 2,
   "id": "30d259d0-b454-4f50-ad3c-17abf4b366d7",
   "metadata": {
    "execution": {
     "iopub.execute_input": "2022-01-11T20:09:39.192346Z",
     "iopub.status.busy": "2022-01-11T20:09:39.191909Z",
     "iopub.status.idle": "2022-01-11T20:09:39.197109Z",
     "shell.execute_reply": "2022-01-11T20:09:39.196713Z"
    }
   },
   "outputs": [
    {
     "data": {
      "text/plain": [
       "val red : 'a rb_tree -> bool = <fun>\n"
      ]
     },
     "execution_count": 2,
     "metadata": {},
     "output_type": "execute_result"
    }
   ],
   "source": [
    "let red = function (* la racine est-elle rouge ? *)\n",
    "    | E | B(_, _, _) -> false\n",
    "    | R(_, _, _) -> true"
   ]
  },
  {
   "cell_type": "code",
   "execution_count": 3,
   "id": "91a7a663-9112-455f-8c82-02ba0f33afe1",
   "metadata": {
    "execution": {
     "iopub.execute_input": "2022-01-11T20:09:39.198819Z",
     "iopub.status.busy": "2022-01-11T20:09:39.198418Z",
     "iopub.status.idle": "2022-01-11T20:09:39.202556Z",
     "shell.execute_reply": "2022-01-11T20:09:39.202915Z"
    }
   },
   "outputs": [
    {
     "data": {
      "text/plain": [
       "val b : 'a rb_tree -> 'a rb_tree = <fun>\n"
      ]
     },
     "execution_count": 3,
     "metadata": {},
     "output_type": "execute_result"
    }
   ],
   "source": [
    "let b = function (* rend la racine noire *)\n",
    "    | R(r, g, d) -> B(r, g, d)\n",
    "    | a -> a"
   ]
  },
  {
   "cell_type": "markdown",
   "id": "430c6ee2-9bab-4aad-855e-87f109b619d0",
   "metadata": {},
   "source": [
    "## Appartenance"
   ]
  },
  {
   "cell_type": "code",
   "execution_count": 4,
   "id": "0eab1b56-24a5-4532-aa4f-27c836357ea0",
   "metadata": {
    "execution": {
     "iopub.execute_input": "2022-01-11T20:09:39.206257Z",
     "iopub.status.busy": "2022-01-11T20:09:39.205595Z",
     "iopub.status.idle": "2022-01-11T20:09:39.209849Z",
     "shell.execute_reply": "2022-01-11T20:09:39.209426Z"
    }
   },
   "outputs": [
    {
     "data": {
      "text/plain": [
       "val has : 'a -> 'a rb_tree -> bool = <fun>\n"
      ]
     },
     "execution_count": 4,
     "metadata": {},
     "output_type": "execute_result"
    }
   ],
   "source": [
    "let rec has e = function\n",
    "    | E -> false\n",
    "    | R(r, g, d) | B(r, g, d) -> \n",
    "        e = r || has e (if e < r then g else d);;"
   ]
  },
  {
   "cell_type": "code",
   "execution_count": 5,
   "id": "3d38d000-9065-4188-81cd-a69418a6ba71",
   "metadata": {
    "execution": {
     "iopub.execute_input": "2022-01-11T20:09:39.211460Z",
     "iopub.status.busy": "2022-01-11T20:09:39.211035Z",
     "iopub.status.idle": "2022-01-11T20:09:39.216252Z",
     "shell.execute_reply": "2022-01-11T20:09:39.215827Z"
    }
   },
   "outputs": [
    {
     "data": {
      "text/plain": [
       "- : bool = true\n"
      ]
     },
     "execution_count": 5,
     "metadata": {},
     "output_type": "execute_result"
    }
   ],
   "source": [
    "let a = B(1, R(0, E, E), R(3, E, E)) in\n",
    "has 0 a && not (has 5 a) (* test *)"
   ]
  },
  {
   "cell_type": "markdown",
   "id": "522caa5f-c691-4a70-90c1-53eec6a608b4",
   "metadata": {},
   "source": [
    "## Rotations"
   ]
  },
  {
   "cell_type": "code",
   "execution_count": 6,
   "id": "8268b987-f5d7-4ae2-a456-f62ec346e9ba",
   "metadata": {
    "execution": {
     "iopub.execute_input": "2022-01-11T20:09:39.218054Z",
     "iopub.status.busy": "2022-01-11T20:09:39.217627Z",
     "iopub.status.idle": "2022-01-11T20:09:39.226912Z",
     "shell.execute_reply": "2022-01-11T20:09:39.226510Z"
    }
   },
   "outputs": [
    {
     "data": {
      "text/plain": [
       "val rotd : 'a rb_tree -> 'a rb_tree = <fun>\n"
      ]
     },
     "execution_count": 6,
     "metadata": {},
     "output_type": "execute_result"
    },
    {
     "data": {
      "text/plain": [
       "val rotg : 'a rb_tree -> 'a rb_tree = <fun>\n"
      ]
     },
     "execution_count": 6,
     "metadata": {},
     "output_type": "execute_result"
    }
   ],
   "source": [
    "let rotd = function\n",
    "    | B(r, R(gr, gg, gd), d) -> R(gr, b gg, B(r, gd, d))\n",
    "    | R(r, R(gr, gg, gd), d) -> R(gr, gg, R(r, gd, d))\n",
    "    | _ -> failwith \"error rotd\";;\n",
    "\n",
    "let rotg = function \n",
    "    | B(r, g, R(dr, dg, dd)) -> R(dr, B(r, g, dg), b dd)\n",
    "    | R(r, g, R(dr, dg, dd)) -> R(dr, R(r, g, dg), dd)\n",
    "    | _ -> failwith \"error rotg\";;"
   ]
  },
  {
   "cell_type": "code",
   "execution_count": 7,
   "id": "572fba9c-3668-4b7d-b567-775679643d99",
   "metadata": {
    "execution": {
     "iopub.execute_input": "2022-01-11T20:09:39.228672Z",
     "iopub.status.busy": "2022-01-11T20:09:39.228250Z",
     "iopub.status.idle": "2022-01-11T20:09:39.240914Z",
     "shell.execute_reply": "2022-01-11T20:09:39.236180Z"
    }
   },
   "outputs": [
    {
     "name": "stderr",
     "output_type": "stream",
     "text": [
      "File \"[7]\", line 1, characters 20-343:\n",
      "1 | ....................let B(r, g, d) = t in\n",
      "2 |     match g, d with\n",
      "3 |   | R(gr, gg, gd), d when red gg -> rotd t\n",
      "4 |   | R(gr, gg, gd), d when red gd -> balance (B(r, rotg g, d)) (* rotation droite-gauche *)\n",
      "5 |   | g, R(dr, dg, dd) when red dd -> rotg t\n",
      "6 |   | g, R(dr, dg, dd) when red dg -> balance (B(r, g, rotd d)) (* rotation gauche-droite *)\n",
      "7 |   | _, _ -> t..\n",
      "Warning 8: this pattern-matching is not exhaustive.\n",
      "Here is an example of a case that is not matched:\n",
      "(E|R (_, _, _))\n"
     ]
    },
    {
     "data": {
      "text/plain": [
       "val balance : 'a rb_tree -> 'a rb_tree = <fun>\n"
      ]
     },
     "execution_count": 7,
     "metadata": {},
     "output_type": "execute_result"
    }
   ],
   "source": [
    "let rec balance t = let B(r, g, d) = t in\n",
    "    match g, d with\n",
    "  | R(gr, gg, gd), d when red gg -> rotd t\n",
    "  | R(gr, gg, gd), d when red gd -> balance (B(r, rotg g, d)) (* rotation droite-gauche *)\n",
    "  | g, R(dr, dg, dd) when red dd -> rotg t\n",
    "  | g, R(dr, dg, dd) when red dg -> balance (B(r, g, rotd d)) (* rotation gauche-droite *)\n",
    "  | _, _ -> t;;"
   ]
  },
  {
   "cell_type": "code",
   "execution_count": 8,
   "id": "edae8c5a-e607-43fe-bfa5-3db5f0f0d051",
   "metadata": {
    "execution": {
     "iopub.execute_input": "2022-01-11T20:09:39.242743Z",
     "iopub.status.busy": "2022-01-11T20:09:39.242306Z",
     "iopub.status.idle": "2022-01-11T20:09:39.248850Z",
     "shell.execute_reply": "2022-01-11T20:09:39.249319Z"
    }
   },
   "outputs": [
    {
     "data": {
      "text/plain": [
       "val add : 'a rb_tree -> 'a -> 'a rb_tree = <fun>\n"
      ]
     },
     "execution_count": 8,
     "metadata": {},
     "output_type": "execute_result"
    }
   ],
   "source": [
    "let add t e =\n",
    "    let rec aux = function\n",
    "      | E -> R(e, E, E)\n",
    "      | B(r, g, d) when e < r -> balance (B(r, aux g, d))\n",
    "      | R(r, g, d) when e < r -> R(r, aux g, d)\n",
    "      | B(r, g, d) -> balance (B(r, g, aux d))\n",
    "      | R(r, g, d) -> R(r, g, aux d) in\n",
    "    aux t |> b (* on rend la racine noire *)"
   ]
  },
  {
   "cell_type": "markdown",
   "id": "b624ea63-25b2-405d-92f4-8883fcb71f19",
   "metadata": {},
   "source": [
    "## Visualisation"
   ]
  },
  {
   "cell_type": "code",
   "execution_count": 9,
   "id": "bd001b9d-93c6-4093-89ab-883cf76001ef",
   "metadata": {
    "execution": {
     "iopub.execute_input": "2022-01-11T20:09:39.251742Z",
     "iopub.status.busy": "2022-01-11T20:09:39.251304Z",
     "iopub.status.idle": "2022-01-11T20:09:39.271408Z",
     "shell.execute_reply": "2022-01-11T20:09:39.271742Z"
    }
   },
   "outputs": [
    {
     "data": {
      "text/plain": [
       "val tree_to_tex : ?file_out:string -> int rb_tree -> unit = <fun>\n"
      ]
     },
     "execution_count": 9,
     "metadata": {},
     "output_type": "execute_result"
    }
   ],
   "source": [
    "let tree_to_tex ?(file_out=\"out\") t =\n",
    "    let open Printf in\n",
    "    let file_out = sprintf \"%s.tex\" file_out in\n",
    "    let f = open_out file_out in\n",
    "    fprintf f \"\\\\documentclass[convert={outfile=\\\\jobname.png}]{standalone}\\n\n",
    "\\\\usepackage{tikz}\n",
    "\\\\usepackage{forest}\\n\n",
    "\\\\begin{document}\\n\n",
    "\\\\tikzset{every node/.style={draw, circle}}\\n\n",
    "\\\\begin{forest}\\n\";\n",
    "    let rec dfs t = match t with\n",
    "        | R(r, g, d) | B(r, g, d) ->\n",
    "            let c = if red t then \"red\" else \"black\" in\n",
    "            fprintf f \"[ %i, %s \" r c;\n",
    "            dfs g; dfs d;\n",
    "            fprintf f \"]\\n\"\n",
    "        | E -> () in\n",
    "    dfs t;\n",
    "    fprintf f \";\\n\\\\end{forest}\\n\\\\end{document}\\n\";\n",
    "    close_out f;\n",
    "    let _ = sprintf \"lualatex %s 1> /dev/null; rm -f *.aux *.log *.texa\" file_out\n",
    "    |> Sys.command in ()"
   ]
  },
  {
   "cell_type": "code",
   "execution_count": 10,
   "id": "7309063d-c1e6-4530-a39c-165d5cd18c7f",
   "metadata": {
    "execution": {
     "iopub.execute_input": "2022-01-11T20:09:39.273567Z",
     "iopub.status.busy": "2022-01-11T20:09:39.273097Z",
     "iopub.status.idle": "2022-01-11T20:09:39.683892Z",
     "shell.execute_reply": "2022-01-11T20:09:39.683536Z"
    }
   },
   "outputs": [
    {
     "data": {
      "text/plain": [
       "val swap : 'a array -> int -> int -> unit = <fun>\n"
      ]
     },
     "execution_count": 10,
     "metadata": {},
     "output_type": "execute_result"
    },
    {
     "data": {
      "text/plain": [
       "val shuffle : 'a array -> unit = <fun>\n"
      ]
     },
     "execution_count": 10,
     "metadata": {},
     "output_type": "execute_result"
    },
    {
     "data": {
      "text/plain": [
       "val a : int array = [|0; 1; 2; 3; 4; 5; 6; 7; 8; 9; 10; 11; 12; 13|]\n"
      ]
     },
     "execution_count": 10,
     "metadata": {},
     "output_type": "execute_result"
    },
    {
     "data": {
      "text/plain": [
       "- : unit = ()\n"
      ]
     },
     "execution_count": 10,
     "metadata": {},
     "output_type": "execute_result"
    },
    {
     "data": {
      "text/plain": [
       "- : unit = ()\n"
      ]
     },
     "execution_count": 10,
     "metadata": {},
     "output_type": "execute_result"
    },
    {
     "data": {
      "text/plain": [
       "- : unit = ()\n"
      ]
     },
     "execution_count": 10,
     "metadata": {},
     "output_type": "execute_result"
    }
   ],
   "source": [
    "let swap t i j =\n",
    "    let tmp = t.(i) in\n",
    "    t.(i) <- t.(j);\n",
    "    t.(j) <- tmp\n",
    "\n",
    "let shuffle t =\n",
    "    for i = 0 to Array.length t - 1 do\n",
    "        swap t i (Random.int (i+1))\n",
    "    done\n",
    "\n",
    "let a = Array.init 14 (fun i -> i);;\n",
    "\n",
    "Array.fold_left add E a \n",
    "|> tree_to_tex ~file_out:\"example_sorted\";;\n",
    "\n",
    "shuffle a;;\n",
    "Array.fold_left add E a \n",
    "|> tree_to_tex ~file_out:\"example_random\";;"
   ]
  },
  {
   "cell_type": "code",
   "execution_count": 11,
   "id": "d8ff69bf-a4ea-4d18-8697-373335006fb6",
   "metadata": {
    "execution": {
     "iopub.execute_input": "2022-01-11T20:09:39.685810Z",
     "iopub.status.busy": "2022-01-11T20:09:39.685402Z",
     "iopub.status.idle": "2022-01-11T20:09:39.688942Z",
     "shell.execute_reply": "2022-01-11T20:09:39.689278Z"
    }
   },
   "outputs": [
    {
     "ename": "error",
     "evalue": "compile_error",
     "output_type": "error",
     "traceback": [
      "File \"[11]\", line 3, characters 44-47:\n3 | tree_to_tex ~file_out:\"example_random_del\" (del 8 t);\n                                                ^^^\nError: Unbound value del\n"
     ]
    }
   ],
   "source": [
    "let t = Array.fold_left add E a in\n",
    "tree_to_tex ~file_out:\"example_random\" t;\n",
    "tree_to_tex ~file_out:\"example_random_del\" (del 8 t);"
   ]
  }
 ],
 "metadata": {
  "kernelspec": {
   "display_name": "OCaml default",
   "language": "OCaml",
   "name": "ocaml-jupyter"
  },
  "language_info": {
   "codemirror_mode": "text/x-ocaml",
   "file_extension": ".ml",
   "mimetype": "text/x-ocaml",
   "name": "OCaml",
   "nbconverter_exporter": null,
   "pygments_lexer": "OCaml",
   "version": "4.08.1"
  }
 },
 "nbformat": 4,
 "nbformat_minor": 5
}

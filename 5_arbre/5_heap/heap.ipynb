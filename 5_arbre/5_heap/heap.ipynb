{
 "cells": [
  {
   "cell_type": "markdown",
   "id": "53e0f92c",
   "metadata": {},
   "source": [
    "# Tests sur les tas binaires max"
   ]
  },
  {
   "cell_type": "code",
   "execution_count": 1,
   "id": "c6abd9d1-ff2e-49fb-b68d-f246cba751e9",
   "metadata": {
    "execution": {
     "iopub.execute_input": "2022-01-19T13:16:23.660679Z",
     "iopub.status.busy": "2022-01-19T13:16:23.660121Z",
     "iopub.status.idle": "2022-01-19T13:16:23.661528Z",
     "shell.execute_reply": "2022-01-19T13:16:23.661064Z"
    }
   },
   "outputs": [],
   "source": [
    "#use \"/home/jovyan/work/5_arbre/draw/draw_heap.ml\""
   ]
  },
  {
   "cell_type": "code",
   "execution_count": 2,
   "id": "1b6003b5-2b77-4638-a9df-d9f45a23ec50",
   "metadata": {
    "execution": {
     "iopub.execute_input": "2022-01-19T13:16:23.664951Z",
     "iopub.status.busy": "2022-01-19T13:16:23.664534Z",
     "iopub.status.idle": "2022-01-19T13:16:23.672189Z",
     "shell.execute_reply": "2022-01-19T13:16:23.671820Z"
    }
   },
   "outputs": [
    {
     "data": {
      "text/plain": [
       "val pred : int -> int = <fun>\n"
      ]
     },
     "execution_count": 2,
     "metadata": {},
     "output_type": "execute_result"
    },
    {
     "ename": "error",
     "evalue": "compile_error",
     "output_type": "error",
     "traceback": [
      "File \"[2]\", line 3, characters 19-20:\n3 |     let tmp = heap.a.(i) in\n                       ^\nError: Unbound record field a\n"
     ]
    }
   ],
   "source": [
    "let pred i = (i - 1)/2;;\n",
    "let swap heap i j =\n",
    "    let tmp = heap.a.(i) in\n",
    "    heap.a.(i) <- heap.a.(j);\n",
    "    heap.a.(j) <- tmp;;"
   ]
  },
  {
   "cell_type": "code",
   "execution_count": 3,
   "id": "e0f3ec9c-5b68-4a15-9fe4-a63e98b26310",
   "metadata": {
    "execution": {
     "iopub.execute_input": "2022-01-19T13:16:23.673740Z",
     "iopub.status.busy": "2022-01-19T13:16:23.673327Z",
     "iopub.status.idle": "2022-01-19T13:16:23.675970Z",
     "shell.execute_reply": "2022-01-19T13:16:23.676271Z"
    }
   },
   "outputs": [
    {
     "ename": "error",
     "evalue": "compile_error",
     "output_type": "error",
     "traceback": [
      "File \"[3]\", line 3, characters 22-23:\n3 |     if i <> 0 && heap.a.(p) < heap.a.(i) then (\n                          ^\nError: Unbound record field a\n"
     ]
    }
   ],
   "source": [
    "let rec up heap i =\n",
    "    let p = pred i in\n",
    "    if i <> 0 && heap.a.(p) < heap.a.(i) then (\n",
    "        swap heap i p;\n",
    "        up heap p\n",
    "    )"
   ]
  },
  {
   "cell_type": "code",
   "execution_count": 4,
   "id": "72ee47b5-3f91-42db-a639-4ff176194441",
   "metadata": {
    "execution": {
     "iopub.execute_input": "2022-01-19T13:16:23.677741Z",
     "iopub.status.busy": "2022-01-19T13:16:23.677330Z",
     "iopub.status.idle": "2022-01-19T13:16:23.680063Z",
     "shell.execute_reply": "2022-01-19T13:16:23.679720Z"
    }
   },
   "outputs": [
    {
     "ename": "error",
     "evalue": "compile_error",
     "output_type": "error",
     "traceback": [
      "File \"[4]\", line 2, characters 29-30:\n2 |     let get j = (if j < heap.n then heap.a.(j) else min_int), j in\n                                 ^\nError: Unbound record field n\n"
     ]
    }
   ],
   "source": [
    "let rec down heap i =\n",
    "    let get j = (if j < heap.n then heap.a.(j) else min_int), j in\n",
    "    let m, j = max (get (2*i + 1)) (get (2*i + 2)) in\n",
    "    if heap.a.(i) < m then (\n",
    "        swap heap i j;\n",
    "        down heap j\n",
    "    )"
   ]
  },
  {
   "cell_type": "code",
   "execution_count": 5,
   "id": "28a4a4ae-8cf1-446d-b516-f7c5c8123478",
   "metadata": {
    "execution": {
     "iopub.execute_input": "2022-01-19T13:16:23.681597Z",
     "iopub.status.busy": "2022-01-19T13:16:23.681195Z",
     "iopub.status.idle": "2022-01-19T13:16:23.683463Z",
     "shell.execute_reply": "2022-01-19T13:16:23.683090Z"
    }
   },
   "outputs": [
    {
     "ename": "error",
     "evalue": "compile_error",
     "output_type": "error",
     "traceback": [
      "File \"[5]\", line 2, characters 9-10:\n2 |     heap.a.(heap.n) <- e;\n             ^\nError: Unbound record field a\n"
     ]
    }
   ],
   "source": [
    "let add heap e =\n",
    "    heap.a.(heap.n) <- e;\n",
    "    up heap heap.n;\n",
    "    heap.n <- heap.n + 1;;"
   ]
  },
  {
   "cell_type": "code",
   "execution_count": 6,
   "id": "3f5f2c40",
   "metadata": {
    "execution": {
     "iopub.execute_input": "2022-01-19T13:16:23.685002Z",
     "iopub.status.busy": "2022-01-19T13:16:23.684594Z",
     "iopub.status.idle": "2022-01-19T13:16:23.686882Z",
     "shell.execute_reply": "2022-01-19T13:16:23.686507Z"
    }
   },
   "outputs": [
    {
     "ename": "error",
     "evalue": "compile_error",
     "output_type": "error",
     "traceback": [
      "File \"[6]\", line 2, characters 17-18:\n2 |     let heap = { a=a; n=0 } in\n                     ^\nError: Unbound record field a\n"
     ]
    }
   ],
   "source": [
    "let array_to_heap a =\n",
    "    let heap = { a=a; n=0 } in\n",
    "    Array.iter (add heap) a;\n",
    "    heap;;\n",
    "    \n",
    "let h = array_to_heap [|4; 1; 2; 8; 6; 3|];;\n",
    "draw_heap ~file_out:\"heap_ex\" h"
   ]
  },
  {
   "cell_type": "markdown",
   "id": "14183a41",
   "metadata": {},
   "source": [
    "<center><img src=heap_ex.png width=80></center>"
   ]
  },
  {
   "cell_type": "code",
   "execution_count": 7,
   "id": "f98a5193-09a9-4ee8-a578-c36798b7fe9b",
   "metadata": {
    "execution": {
     "iopub.execute_input": "2022-01-19T13:16:23.688502Z",
     "iopub.status.busy": "2022-01-19T13:16:23.688069Z",
     "iopub.status.idle": "2022-01-19T13:16:23.691125Z",
     "shell.execute_reply": "2022-01-19T13:16:23.690777Z"
    }
   },
   "outputs": [
    {
     "ename": "error",
     "evalue": "compile_error",
     "output_type": "error",
     "traceback": [
      "File \"[7]\", line 2, characters 4-8:\n2 |     swap heap 0 (heap.n - 1);\n        ^^^^\nError: Unbound value swap\n"
     ]
    }
   ],
   "source": [
    "let take_max heap =\n",
    "    swap heap 0 (heap.n - 1);\n",
    "    heap.n <- heap.n - 1;\n",
    "    down heap 0;\n",
    "    heap.a.(heap.n);;\n",
    "    \n",
    "take_max h;;"
   ]
  },
  {
   "cell_type": "code",
   "execution_count": 8,
   "id": "e5fe6260-2f56-4613-8030-796cb2857c54",
   "metadata": {
    "execution": {
     "iopub.execute_input": "2022-01-19T13:16:23.692663Z",
     "iopub.status.busy": "2022-01-19T13:16:23.692234Z",
     "iopub.status.idle": "2022-01-19T13:16:23.694823Z",
     "shell.execute_reply": "2022-01-19T13:16:23.694445Z"
    }
   },
   "outputs": [
    {
     "ename": "error",
     "evalue": "compile_error",
     "output_type": "error",
     "traceback": [
      "File \"[8]\", line 1, characters 0-9:\n1 | draw_heap ~file_out:\"heap_del\" h\n    ^^^^^^^^^\nError: Unbound value draw_heap\n"
     ]
    }
   ],
   "source": [
    "draw_heap ~file_out:\"heap_del\" h"
   ]
  },
  {
   "cell_type": "markdown",
   "id": "6e640b40",
   "metadata": {},
   "source": [
    "<center>\n",
    "    <img style=\"padding: 30px;\" src=heap_ex.png width=80>\n",
    "    <img src=heap_del.png style=\"padding: 30px;\" width=80><br>\n",
    "    Affichage du tas avant et après appel de del_max\n",
    "</center>"
   ]
  }
 ],
 "metadata": {
  "kernelspec": {
   "display_name": "OCaml default",
   "language": "OCaml",
   "name": "ocaml-jupyter"
  },
  "language_info": {
   "codemirror_mode": "text/x-ocaml",
   "file_extension": ".ml",
   "mimetype": "text/x-ocaml",
   "name": "OCaml",
   "nbconverter_exporter": null,
   "pygments_lexer": "OCaml",
   "version": "4.08.1"
  }
 },
 "nbformat": 4,
 "nbformat_minor": 5
}

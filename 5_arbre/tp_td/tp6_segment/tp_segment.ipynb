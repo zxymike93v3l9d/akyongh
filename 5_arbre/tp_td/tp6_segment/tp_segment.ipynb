{
 "cells": [
  {
   "cell_type": "markdown",
   "id": "7cc16180-1b76-4ca8-802d-fae458a157ec",
   "metadata": {},
   "source": [
    "# <center><a href='https://mybinder.org/v2/gh/fortierq/binder-mp2i/main?urlpath=git-pull%3Frepo%3Dhttps%253A%252F%252Fgithub.com%252Fmp2i-fsm%252Fmp2i-2021%26urlpath%3Dlab%252Ftree%252Fmp2i-2021%252F5_arbre%252Ftp_td%252Ftp6_segment%252Ftp_segment.ipynb%26branch%3Dmain'>TP 6 : Arbre de segments et ancêtre commun                                                                                        <img src=https://mybinder.org/badge.svg></a></center>\n",
    "\n",
    "**Remarque** : les arbres de segments ne doivent pas être confondus avec les arbres d'intervalles (la page [Wikipedia sur les arbres de segments](https://fr.wikipedia.org/wiki/Arbre_de_segments) traite en fait des arbres d'intervalles)."
   ]
  },
  {
   "cell_type": "markdown",
   "id": "58f7ea05-fa3f-4907-8b8b-60e5df53db52",
   "metadata": {},
   "source": [
    "## Arbre de segments\n",
    "\n",
    "Étant donné un tableau `a` et deux indices `i` et `j`, on souhaite pouvoir trouver efficacement le minimum de `a.(i), a.(i + 1), ..., a.(j)` (plus rapidement qu'en regardant chaque élément un par un, ce qui demanderait O($j - i$) opérations). Pour cela, on peut utiliser un **arbre de segments** : \n",
    "> Un arbre de segments est un arbre binaire dont les feuilles sont les éléments du tableau (ordonnés de gauche à droite) et chaque noeud $v$ possède une étiquette qui est un triplet `(m, i, j)` tel que le sous-arbre enraciné en `v` contienne les feuilles `t.(i), ... , t.(j)` et `m` est le minimum de ces valeurs.  \n",
    "\n",
    "Par exemple, voici un arbre de segments obtenu à partir du tableau `[|5; 1; 2; 6; 3; 0|]`, où on a représenté seulement les minimums (premiers éléments de chaque triplet) :\n",
    "<center><img src=https://github.com/mp2i-fsm/mp2i-2021/blob/main/5_arbre/tp_td/tp6_segment/segment.png?raw=true width=170></center>"
   ]
  },
  {
   "cell_type": "markdown",
   "id": "e24f2a62-9a08-4c40-a552-865ef360b9de",
   "metadata": {},
   "source": [
    "On utilisera le fichier suivant qui définit un type `tree` et une fonction `tree_to_tex` pour dessiner un arbre (dans un nom de fichier donné en argument) :"
   ]
  },
  {
   "cell_type": "code",
   "execution_count": 1,
   "id": "dc92fa2b-7370-44df-8a38-d4d29d962912",
   "metadata": {
    "execution": {
     "iopub.execute_input": "2022-01-14T11:27:41.051112Z",
     "iopub.status.busy": "2022-01-14T11:27:41.050652Z",
     "iopub.status.idle": "2022-01-14T11:27:41.068394Z",
     "shell.execute_reply": "2022-01-14T11:27:41.068729Z"
    }
   },
   "outputs": [
    {
     "name": "stdout",
     "output_type": "stream",
     "text": [
      "type 'a tree = E | N of 'a * 'a tree * 'a tree\n",
      "val tree_to_tex : string -> (int * 'a * 'b) tree -> unit = <fun>\n"
     ]
    }
   ],
   "source": [
    "#use \"./draw_segment.ml\""
   ]
  },
  {
   "cell_type": "markdown",
   "id": "87478191-d8dc-48e2-8b52-254f92360576",
   "metadata": {
    "tags": [
     "exo"
    ]
   },
   "source": [
    "**Exercice** : Écrire une fonction `root` pour renvoyer la racine d'un arbre. On renverra `max_int` si l'arbre est vide."
   ]
  },
  {
   "cell_type": "markdown",
   "id": "e991c671-96b5-4388-9736-087b8d2441a2",
   "metadata": {
    "tags": [
     "exo"
    ]
   },
   "source": [
    "**Exercice** : Écrire une fonction `build : int array -> (int * int * int) tree` pour construire un arbre de segments récursivement à partir d'un tableau, en faisant en sorte qu'à chaque noeud `N(r, g, d)`, le nombre de noeuds dans `g` et `d` diffère d'au plus $1$."
   ]
  },
  {
   "cell_type": "markdown",
   "id": "8d47279d-5330-4516-8729-7c40fe1f750e",
   "metadata": {
    "tags": [
     "exo"
    ]
   },
   "source": [
    "**Exercice** : Montrer que la hauteur de l'arbre construit précédemment est O($\\log(n)$), si $n$ est le nombre d'éléments du tableau."
   ]
  },
  {
   "cell_type": "markdown",
   "id": "635c8db2",
   "metadata": {
    "tags": [
     "exo"
    ]
   },
   "source": [
    "**Exercice** : Écrire une fonction `update : int tree -> int -> int` qui met à jour l'arbre de segments en ajoutant un nouvel élément."
   ]
  },
  {
   "cell_type": "markdown",
   "id": "16cd6d52-59b8-4f3b-8267-89b3334ff4fb",
   "metadata": {
    "tags": [
     "exo"
    ]
   },
   "source": [
    "**Exercice** : Écrire une fonction `mini : int -> int -> int tree -> int` telle que, si `t` est un arbre d'intervalles associé à un tableau `a`, `mini i j t` renvoie le minimum de `a.(i), ..., a.(j)`. Pour cela, on remarquera qu'il y a $4$ cas possibles lorsqu'on est sur un noeud `v = N((r, ri, rj), g, d)` :  \n",
    "- Si `ri > j || rj < i` : alors le segment `i, ..., j` est disjoint du segment du noeud `v`, on peut renvoyer `max_int` (pas de minimum)  \n",
    "Sinon, on pose `m = (ri + rj) / 2`.  \n",
    "- Si `i > m` alors il faut trouver le minimum dans `d` (appel récursif).  \n",
    "- Si `j < m` alors il faut trouver le minimum dans `g` (appel récursif).  \n",
    "- Sinon, il faut chercher le segment `i, ..., m` dans `g`, le segment `(m+1), ..., j` dans `d`, et prendre le minimum de ces $2$ valeurs."
   ]
  }
 ],
 "metadata": {
  "kernelspec": {
   "display_name": "OCaml default",
   "language": "OCaml",
   "name": "ocaml-jupyter"
  },
  "language_info": {
   "codemirror_mode": "text/x-ocaml",
   "file_extension": ".ml",
   "mimetype": "text/x-ocaml",
   "name": "OCaml",
   "nbconverter_exporter": null,
   "pygments_lexer": "OCaml",
   "version": "4.08.1"
  }
 },
 "nbformat": 4,
 "nbformat_minor": 5
}

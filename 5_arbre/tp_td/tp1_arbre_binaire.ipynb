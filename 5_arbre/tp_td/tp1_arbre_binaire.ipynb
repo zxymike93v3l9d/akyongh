{
 "cells": [
  {
   "cell_type": "markdown",
   "id": "903bafea-05fe-4926-8e08-210f817a72b7",
   "metadata": {
    "kernel": "SoS",
    "tags": []
   },
   "source": [
    "# [Arbres binaires ![Binder](https://mybinder.org/badge.svg)](https://mybinder.org/v2/gh/fortierq/binder-mp2i/main?urlpath=git-pull%3Frepo%3Dhttps%253A%252F%252Fgithub.com%252Fmp2i-fsm%252Fmp2i-2021%26urlpath%3Dlab%252Ftree%252Fmp2i-2021%252F5_arbre%252Ftp_td%252Ftp1_arbre_binaire.ipynb%26branch%3Dmain)\n",
    "\n",
    "On écrira 2 versions pour chaque fonction : en OCaml et en C.\n",
    " \n",
    "Pour écrire du code en OCaml et C, on pourra \n",
    "- soit utiliser SoS et sélectionner le langage pour chaque cellule\n",
    "- soit utiliser 2 notebooks : un en OCaml, l'autre en C\n",
    "\n",
    "## Définitions"
   ]
  },
  {
   "cell_type": "markdown",
   "id": "0ac96207-79c4-44fb-b532-cd789bbc4c15",
   "metadata": {
    "kernel": "SoS",
    "tags": [
     "exo"
    ]
   },
   "source": [
    "**Exercice** : Redéfinir deux types d'arbres binaires : en C et en OCaml (si possible sans regarder le cours)."
   ]
  },
  {
   "cell_type": "markdown",
   "id": "b7a13fb4-bc48-4e4f-bd25-fa15cb114224",
   "metadata": {
    "kernel": "SoS",
    "tags": [
     "exo"
    ]
   },
   "source": [
    "**Exercice** : Définir l'arbre suivant, en C et OCaml. On pourra l'utiliser pour tester les réponses dans les exercices suivants. \n",
    "<center><img src=https://github.com/fortierq/tikz/blob/master/tree/binary/binary.png?raw=true width=300></center>"
   ]
  },
  {
   "cell_type": "markdown",
   "id": "8c6b1af6-d596-4748-9fc0-59f279867707",
   "metadata": {
    "kernel": "SoS"
   },
   "source": [
    "## Nombre de feuilles\n",
    "\n",
    "On rappelle qu'une feuille est un noeud sans fils (dont les deux sous-arbres sont vides) et qu'un noeud interne est un noeud qui n'est pas une feuille."
   ]
  },
  {
   "cell_type": "markdown",
   "id": "3fea9498-bd79-4005-bbaf-951eb51713de",
   "metadata": {
    "kernel": "SoS",
    "tags": [
     "exo"
    ]
   },
   "source": [
    "**Exercice** : Ecrire une fonction `n_leaf` renvoyant le nombre de feuilles d'un arbre binaire. Revoir les fonctions sur les arbres écrites en cours, si besoin."
   ]
  },
  {
   "cell_type": "markdown",
   "id": "eedc9996",
   "metadata": {
    "kernel": "SoS"
   },
   "source": [
    "Un arbre est **binaire strict** si ses noeuds sont de degré 0 ou 1."
   ]
  },
  {
   "cell_type": "markdown",
   "id": "7def0220",
   "metadata": {
    "kernel": "SoS",
    "tags": [
     "exo"
    ]
   },
   "source": [
    "**Exercice** : Soit $a$ un arbre binaire strict. Conjecturer une formule reliant le nombre $f(a)$ de feuilles de $a$ avec son nombre $n(a)$ de noeuds internes, puis la prouver par récurrence."
   ]
  },
  {
   "cell_type": "markdown",
   "id": "7ad40a1e-4613-4815-9687-5f578ad41259",
   "metadata": {
    "kernel": "SoS",
    "tags": []
   },
   "source": [
    "## Diamètre"
   ]
  },
  {
   "cell_type": "markdown",
   "id": "838c1982-2d26-48dc-a71d-079f9c30072c",
   "metadata": {
    "kernel": "SoS",
    "tags": [
     "exo"
    ]
   },
   "source": [
    "**Exercice** :\n",
    "1. Rappeler la définition de la hauteur $h(a)$ d'un arbre binaire $a$, sous forme de relation de récurrence.  \n",
    "2. Ecrire une fonction pour calculer la hauteur d'un arbre binaire."
   ]
  },
  {
   "cell_type": "markdown",
   "id": "6f1607cb-4cc7-41d1-bd10-6e4b03810717",
   "metadata": {
    "kernel": "SoS"
   },
   "source": [
    "Le **diamètre** $d(a)$ d'un arbre $a$ est la longueur maximum d'un chemin entre 2 noeuds quelconques de cet arbre. Par exemple, le diamètre de l'arbre en exemple est $5$, correspondant au chemin $4 \\rightarrow 3 \\rightarrow 1 \\rightarrow 0 \\rightarrow 5 \\rightarrow 7$, par exemple."
   ]
  },
  {
   "cell_type": "markdown",
   "id": "94bd8172-c538-4844-a13d-cedce4156660",
   "metadata": {
    "kernel": "SoS",
    "tags": [
     "exo"
    ]
   },
   "source": [
    "**Exercice**:  \n",
    "1. Soit $a$ un arbre binaire composé d'une racine, d'un sous-arbre gauche $g$ et d'un sous-arbre $d$. Donner, en la démontrant, une relation de récurrence permettant de calculer $d(a)$ en utilisant $g$ et $d$. On pourra utiliser la $h(g)$ et $h(d)$.  \n",
    "2. En déduire une fonction permettant de calculer le diamètre d'un arbre binaire. Quelle est sa complexité ?  \n",
    "3. Améliorer la fonction précédente pour avoir une complexité linéaire en le nombre de noeuds."
   ]
  },
  {
   "cell_type": "markdown",
   "id": "f49eae9b",
   "metadata": {
    "kernel": "SoS"
   },
   "source": [
    "## Arbre binaire complet"
   ]
  },
  {
   "cell_type": "markdown",
   "id": "ee045f1e",
   "metadata": {
    "kernel": "SoS",
    "tags": [
     "exo"
    ]
   },
   "source": [
    "**Exercice** : Ecrire une fonction ayant un entier $h$ en argument et renvoyant un arbre binaire complet de hauteur $h$ avec que des $0$ comme étiquettes."
   ]
  }
 ],
 "metadata": {
  "interpreter": {
   "hash": "638d2bb0c3d5a654c8dabbf1e544957f030902e91031027a7993b713e9c17aba"
  },
  "kernelspec": {
   "display_name": "SoS",
   "language": "sos",
   "name": "sos"
  },
  "language_info": {
   "codemirror_mode": "sos",
   "file_extension": ".sos",
   "mimetype": "text/x-sos",
   "name": "sos",
   "nbconvert_exporter": "sos_notebook.converter.SoS_Exporter",
   "pygments_lexer": "sos"
  },
  "sos": {
   "kernels": [
    [
     "SoS",
     "sos",
     "",
     ""
    ]
   ],
   "version": "0.22.3"
  }
 },
 "nbformat": 4,
 "nbformat_minor": 5
}

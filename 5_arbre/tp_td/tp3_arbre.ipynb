{
 "cells": [
  {
   "cell_type": "markdown",
   "metadata": {
    "kernel": "SoS",
    "tags": []
   },
   "source": [
    "# <center><a href='https://mybinder.org/v2/gh/fortierq/binder-mp2i/main?urlpath=git-pull%3Frepo%3Dhttps%253A%252F%252Fgithub.com%252Fmp2i-fsm%252Fmp2i-2021%26urlpath%3Dlab%252Ftree%252Fmp2i-2021%252F5_arbre%252Ftp_td%252Ftp3_arbre.ipynb%26branch%3Dmain'>TP 3 : Arbres                           <img src=https://mybinder.org/badge.svg></a></center>\n",
    "\n",
    "## Encore des arbres binaires\n",
    "\n",
    "On rappelle les définitions d'arbres binaires en C et OCaml : "
   ]
  },
  {
   "cell_type": "code",
   "execution_count": 1,
   "metadata": {
    "execution": {
     "iopub.execute_input": "2022-01-03T13:21:35.820047Z",
     "iopub.status.busy": "2022-01-03T13:21:35.818925Z",
     "iopub.status.idle": "2022-01-03T13:21:35.869323Z",
     "shell.execute_reply": "2022-01-03T13:21:35.869948Z"
    },
    "kernel": "OCaml default",
    "tags": []
   },
   "outputs": [
    {
     "ename": "ParsingError",
     "evalue": "File contains parsing errors: \n\t[line  2]: type 'a btree =\n    | E (* arbre vide *)\n    | N of 'a * 'a btree * 'a btree;;\n\nInvalid statements: SyntaxError('EOL while scanning string literal', ('<string>', 1, 16, \"type 'a btree =\\n\"))",
     "output_type": "error",
     "traceback": [
      "\u001b[91mFile contains parsing errors: \n\t[line  2]: type 'a btree =\n    | E (* arbre vide *)\n    | N of 'a * 'a btree * 'a btree;;\n\nInvalid statements: SyntaxError('EOL while scanning string literal', ('<string>', 1, 16, \"type 'a btree =\\n\"))\u001b[0m"
     ]
    }
   ],
   "source": [
    "type 'a btree =\n",
    "    | E (* arbre vide *)\n",
    "    | N of 'a * 'a btree * 'a btree;;"
   ]
  },
  {
   "cell_type": "code",
   "execution_count": 2,
   "metadata": {
    "execution": {
     "iopub.execute_input": "2022-01-03T13:21:35.876098Z",
     "iopub.status.busy": "2022-01-03T13:21:35.874680Z",
     "iopub.status.idle": "2022-01-03T13:21:35.878283Z",
     "shell.execute_reply": "2022-01-03T13:21:35.878946Z"
    },
    "kernel": "C++17",
    "tags": []
   },
   "outputs": [
    {
     "ename": "ParsingError",
     "evalue": "File contains parsing errors: \n\t[line  2]: typedef struct btree {\n    btree *g;\n    btree *d;\n    int val;\n} btree;\n\nInvalid statements: SyntaxError('invalid syntax', ('<string>', 1, 9, 'typedef struct btree {\\n'))",
     "output_type": "error",
     "traceback": [
      "\u001b[91mFile contains parsing errors: \n\t[line  2]: typedef struct btree {\n    btree *g;\n    btree *d;\n    int val;\n} btree;\n\nInvalid statements: SyntaxError('invalid syntax', ('<string>', 1, 9, 'typedef struct btree {\\n'))\u001b[0m"
     ]
    }
   ],
   "source": [
    "typedef struct btree {\n",
    "    btree *g;\n",
    "    btree *d;\n",
    "    int val;\n",
    "} btree;"
   ]
  },
  {
   "cell_type": "code",
   "execution_count": 3,
   "metadata": {
    "execution": {
     "iopub.execute_input": "2022-01-03T13:21:35.884214Z",
     "iopub.status.busy": "2022-01-03T13:21:35.883682Z",
     "iopub.status.idle": "2022-01-03T13:21:35.887419Z",
     "shell.execute_reply": "2022-01-03T13:21:35.887948Z"
    },
    "kernel": "C++17"
   },
   "outputs": [
    {
     "ename": "ParsingError",
     "evalue": "File contains parsing errors: \n\t[line  2]: btree* make_node(int r) {\n    btree *t = (btree*)malloc(sizeof(btree));\n    t->g = t->d = NULL;\n    t->val = r;\n    return t;\n\nInvalid statements: SyntaxError('invalid syntax', ('<string>', 1, 22, 'btree* make_node(int r) {\\n'))",
     "output_type": "error",
     "traceback": [
      "\u001b[91mFile contains parsing errors: \n\t[line  2]: btree* make_node(int r) {\n    btree *t = (btree*)malloc(sizeof(btree));\n    t->g = t->d = NULL;\n    t->val = r;\n    return t;\n\nInvalid statements: SyntaxError('invalid syntax', ('<string>', 1, 22, 'btree* make_node(int r) {\\n'))\u001b[0m"
     ]
    }
   ],
   "source": [
    "btree* make_node(int r) {\n",
    "    btree *t = (btree*)malloc(sizeof(btree));\n",
    "    t->g = t->d = NULL;\n",
    "    t->val = r;\n",
    "    return t;\n",
    "}"
   ]
  },
  {
   "cell_type": "markdown",
   "metadata": {
    "kernel": "C++17"
   },
   "source": [
    "On écrira, si possible, chaque fonction en C et OCaml."
   ]
  },
  {
   "cell_type": "markdown",
   "metadata": {
    "kernel": "C++17",
    "tags": [
     "exo"
    ]
   },
   "source": [
    "**Exercice** : Écrire une fonction pour renvoyer la somme des éléments d'un arbre binaire."
   ]
  },
  {
   "cell_type": "markdown",
   "metadata": {
    "kernel": "C++17",
    "tags": [
     "exo"
    ]
   },
   "source": [
    "**Exercice** : Écrire une fonction `appartient` déterminant si un élément appartient à un arbre binaire. Quelle est sa complexité?  \n",
    "**Remarque** : Il sera plus simple de faire un test d'appartenance avec un arbre binaire de recherche."
   ]
  },
  {
   "cell_type": "markdown",
   "metadata": {
    "kernel": "C++17",
    "tags": [
     "exo"
    ]
   },
   "source": [
    "**Exercice** : Écrire une fonction pour savoir si deux arbres binaire sont égaux. Quelle est sa complexité?"
   ]
  },
  {
   "cell_type": "markdown",
   "metadata": {
    "kernel": "C++17",
    "tags": [
     "exo"
    ]
   },
   "source": [
    "**Exercice** : Écrire une fonction pour savoir si un arbre binaire est strict (c'est-à-dire : si tous les noeuds ont $0$ ou $2$ fils)."
   ]
  },
  {
   "cell_type": "markdown",
   "metadata": {
    "kernel": "C++17"
   },
   "source": [
    "## Arbres quelconques\n",
    "\n",
    "Dans cet exercice, on répondra d'abord à toutes les questions en OCaml, puis en C, en ayant défini un type qui convient.  \n",
    "\n",
    "Dans le cas général, un arbre peut avoir un nombre quelconque de fils. En OCaml, on peut utiliser une liste pour les fils :"
   ]
  },
  {
   "cell_type": "code",
   "execution_count": 4,
   "metadata": {
    "execution": {
     "iopub.execute_input": "2022-01-03T13:21:35.894357Z",
     "iopub.status.busy": "2022-01-03T13:21:35.893591Z",
     "iopub.status.idle": "2022-01-03T13:21:35.896251Z",
     "shell.execute_reply": "2022-01-03T13:21:35.895779Z"
    },
    "kernel": "OCaml default",
    "tags": []
   },
   "outputs": [
    {
     "ename": "ParsingError",
     "evalue": "File contains parsing errors: \n\t[line  2]: type 'a tree = N of 'a * 'a tree list\n\nInvalid statements: SyntaxError('invalid syntax', ('<string>', 1, 6, \"type 'a tree = N of 'a * 'a tree list\\n\"))",
     "output_type": "error",
     "traceback": [
      "\u001b[91mFile contains parsing errors: \n\t[line  2]: type 'a tree = N of 'a * 'a tree list\n\nInvalid statements: SyntaxError('invalid syntax', ('<string>', 1, 6, \"type 'a tree = N of 'a * 'a tree list\\n\"))\u001b[0m"
     ]
    }
   ],
   "source": [
    "type 'a tree = N of 'a * 'a tree list"
   ]
  },
  {
   "cell_type": "markdown",
   "metadata": {
    "kernel": "C++17"
   },
   "source": [
    "<center><img src=https://github.com/fortierq/tikz/blob/master/tree/ntree/ntree.png?raw=true width=700></center>"
   ]
  },
  {
   "cell_type": "code",
   "execution_count": 5,
   "metadata": {
    "execution": {
     "iopub.execute_input": "2022-01-03T13:21:35.901112Z",
     "iopub.status.busy": "2022-01-03T13:21:35.899556Z",
     "iopub.status.idle": "2022-01-03T13:21:35.903225Z",
     "shell.execute_reply": "2022-01-03T13:21:35.903756Z"
    },
    "kernel": "OCaml default"
   },
   "outputs": [
    {
     "ename": "ParsingError",
     "evalue": "File contains parsing errors: \n\t[line  2]: let t = N(0, \n          [N(1, \n             [N(2, []);\n              N(9, []);\n              N(7, [])]);\n\nInvalid statements: SyntaxError('invalid syntax', ('<string>', 1, 5, 'let t = N(0, \\n'))",
     "output_type": "error",
     "traceback": [
      "\u001b[91mFile contains parsing errors: \n\t[line  2]: let t = N(0, \n          [N(1, \n             [N(2, []);\n              N(9, []);\n              N(7, [])]);\n\nInvalid statements: SyntaxError('invalid syntax', ('<string>', 1, 5, 'let t = N(0, \\n'))\u001b[0m"
     ]
    }
   ],
   "source": [
    "let t = N(0, \n",
    "          [N(1, \n",
    "             [N(2, []);\n",
    "              N(9, []);\n",
    "              N(7, [])]);\n",
    "           N(3, []);\n",
    "           N(5,\n",
    "             [N(6, []);\n",
    "              N(7, [])])\n",
    "          ])"
   ]
  },
  {
   "cell_type": "markdown",
   "metadata": {
    "kernel": "OCaml default",
    "tags": [
     "exo"
    ]
   },
   "source": [
    "**Exercice** : Écrire une fonction pour renvoyer la hauteur d'un arbre quelconque."
   ]
  },
  {
   "cell_type": "markdown",
   "metadata": {
    "kernel": "OCaml default",
    "tags": [
     "exo"
    ]
   },
   "source": [
    "**Exercice** : Écrire une fonction pour renvoyer le nombre de feuilles d'un arbre quelconque."
   ]
  },
  {
   "cell_type": "markdown",
   "metadata": {
    "kernel": "OCaml default"
   },
   "source": [
    "Il est possible de représenter un arbre quelconque $t$ en arbre binaire $t'$ où chaque noeud $n$ de $t'$ est de la forme $n = N(r, g, d)$ où $g$ est le premier fils (le plus à gauche) de $n$ dans $t'$, et $d$ est le prochain frère de $n$ dans $t$. Ainsi, l'arbre ci-dessous est transformé en l'arbre binaire suivant :"
   ]
  },
  {
   "cell_type": "markdown",
   "metadata": {
    "kernel": "OCaml default"
   },
   "source": [
    "<center><img src=https://github.com/fortierq/tikz/blob/master/tree/ntree/ntree_to_2.png?raw=true width=220></center>"
   ]
  },
  {
   "cell_type": "markdown",
   "metadata": {
    "kernel": "OCaml default",
    "tags": [
     "exo"
    ]
   },
   "source": [
    "**Exercice** : Écrire une fonction pour transformer un arbre quelconque en arbre binaire."
   ]
  }
 ],
 "metadata": {
  "kernelspec": {
   "display_name": "SoS",
   "language": "sos",
   "name": "sos"
  },
  "language_info": {
   "codemirror_mode": "sos",
   "file_extension": ".sos",
   "mimetype": "text/x-sos",
   "name": "sos",
   "nbconvert_exporter": "sos_notebook.converter.SoS_Exporter",
   "pygments_lexer": "sos"
  },
  "sos": {
   "kernels": [
    [
     "C++17",
     "xcpp17",
     "C++17",
     "",
     "text/x-c++src"
    ],
    [
     "OCaml default",
     "ocaml-jupyter",
     "OCaml",
     "",
     "text/x-ocaml"
    ]
   ],
   "version": "0.22.3"
  }
 },
 "nbformat": 4,
 "nbformat_minor": 4
}

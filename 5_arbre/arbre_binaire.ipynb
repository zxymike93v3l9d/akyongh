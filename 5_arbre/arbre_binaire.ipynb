{
 "cells": [
  {
   "cell_type": "markdown",
   "id": "a8a134dc-287f-4b24-9059-ceaf004f75b1",
   "metadata": {
    "kernel": "SoS"
   },
   "source": [
    "# <center><a href='https://mybinder.org/v2/gh/fortierq/binder-mp2i/main?urlpath=git-pull%3Frepo%3Dhttps%253A%252F%252Fgithub.com%252Fmp2i-fsm%252Fmp2i-2021%26urlpath%3Dlab%252Ftree%252Fmp2i-2021%252F5_arbre%252Farbre_binaire.ipynb%26branch%3Dmain'>Arbres binaires                                                      <img src=https://mybinder.org/badge.svg></a></center>\n",
    "\n",
    "## Définitions"
   ]
  },
  {
   "cell_type": "code",
   "execution_count": 1,
   "id": "589a5766-00d2-4435-bf4e-834f36ed6e04",
   "metadata": {
    "execution": {
     "iopub.execute_input": "2021-12-15T17:12:13.417881Z",
     "iopub.status.busy": "2021-12-15T17:12:13.417216Z",
     "iopub.status.idle": "2021-12-15T17:12:13.420051Z",
     "shell.execute_reply": "2021-12-15T17:12:13.418574Z"
    }
   },
   "outputs": [
    {
     "ename": "error",
     "evalue": "compile_error",
     "output_type": "error",
     "traceback": [
      "File \"[1]\", line 1, characters 5-13:\n1 | open draw_arb\n         ^^^^^^^^\nError: Syntax error\n"
     ]
    }
   ],
   "source": [
    "open draw_arb"
   ]
  },
  {
   "cell_type": "code",
   "execution_count": 2,
   "id": "1ead1a8f-e647-4aae-bb64-f7cecad06130",
   "metadata": {
    "execution": {
     "iopub.execute_input": "2021-12-15T17:12:13.421815Z",
     "iopub.status.busy": "2021-12-15T17:12:13.421323Z",
     "iopub.status.idle": "2021-12-15T17:12:13.424157Z",
     "shell.execute_reply": "2021-12-15T17:12:13.423803Z"
    },
    "kernel": "OCaml default",
    "tags": []
   },
   "outputs": [
    {
     "data": {
      "text/plain": [
       "type 'a binary_tree = E | N of 'a * 'a binary_tree * 'a binary_tree\n"
      ]
     },
     "execution_count": 2,
     "metadata": {},
     "output_type": "execute_result"
    }
   ],
   "source": [
    "type 'a binary_tree =\n",
    "    | E (* arbre vide *)\n",
    "    | N of 'a * 'a binary_tree * 'a binary_tree;;"
   ]
  },
  {
   "cell_type": "code",
   "execution_count": 3,
   "id": "154742e7-1e65-43d1-bd2d-227a79b73abe",
   "metadata": {
    "execution": {
     "iopub.execute_input": "2021-12-15T17:12:13.427836Z",
     "iopub.status.busy": "2021-12-15T17:12:13.427378Z",
     "iopub.status.idle": "2021-12-15T17:12:13.435737Z",
     "shell.execute_reply": "2021-12-15T17:12:13.436125Z"
    },
    "kernel": "OCaml default",
    "tags": []
   },
   "outputs": [
    {
     "data": {
      "text/plain": [
       "val t_ex : int binary_tree =\n",
       "  N (0, N (1, N (2, E, E), N (3, N (4, E, E), E)),\n",
       "   N (5, N (6, E, E), N (7, E, E)))\n"
      ]
     },
     "execution_count": 3,
     "metadata": {},
     "output_type": "execute_result"
    }
   ],
   "source": [
    "let t_ex = N(0,\n",
    "    N(1, \n",
    "        N(2, E, E), \n",
    "        N(3, N(4, E, E), E)),\n",
    "    N(5,\n",
    "        N(6, E, E),\n",
    "        N(7, E, E)));;"
   ]
  },
  {
   "cell_type": "code",
   "execution_count": 4,
   "id": "0a43ea99-ec63-4d08-bb9c-a66e5bafed5f",
   "metadata": {
    "execution": {
     "iopub.execute_input": "2021-12-15T17:12:13.438091Z",
     "iopub.status.busy": "2021-12-15T17:12:13.437634Z",
     "iopub.status.idle": "2021-12-15T17:12:13.439188Z",
     "shell.execute_reply": "2021-12-15T17:12:13.439658Z"
    },
    "kernel": "C++14",
    "tags": []
   },
   "outputs": [
    {
     "ename": "error",
     "evalue": "compile_error",
     "output_type": "error",
     "traceback": [
      "File \"[4]\", line 1, characters 8-14:\n1 | typedef struct tree {\n            ^^^^^^\nError: Syntax error\n"
     ]
    }
   ],
   "source": [
    "typedef struct tree {\n",
    "    tree *g;\n",
    "    tree *d;\n",
    "    int val;\n",
    "} tree;"
   ]
  },
  {
   "cell_type": "code",
   "execution_count": 5,
   "id": "4dc8dcf4-4656-4511-bda6-8a6f325cc537",
   "metadata": {
    "execution": {
     "iopub.execute_input": "2021-12-15T17:12:13.441652Z",
     "iopub.status.busy": "2021-12-15T17:12:13.441109Z",
     "iopub.status.idle": "2021-12-15T17:12:13.443788Z",
     "shell.execute_reply": "2021-12-15T17:12:13.443402Z"
    },
    "kernel": "C++14",
    "tags": []
   },
   "outputs": [
    {
     "ename": "error",
     "evalue": "compile_error",
     "output_type": "error",
     "traceback": [
      "File \"[5]\", line 2, characters 9-10:\n2 |     tree *t = (tree*)malloc(sizeof(tree));\n             ^\nError: Syntax error: '}' expected\nFile \"[5]\", line 1, characters 23-24:\n1 | tree* make_node(int r) {\n                           ^\n  This '{' might be unmatched\n"
     ]
    }
   ],
   "source": [
    "tree* make_node(int r) {\n",
    "    tree *t = (tree*)malloc(sizeof(tree));\n",
    "    t->g = t->d = NULL;\n",
    "    t->val = r;\n",
    "    return t;\n",
    "}\n",
    "\n",
    "tree* t = make_node(0);\n",
    "t->g = make_node(1);\n",
    "t->d = make_node(2);"
   ]
  },
  {
   "cell_type": "markdown",
   "id": "ad711350-888c-4bab-9cbb-bfd341595b6c",
   "metadata": {
    "kernel": "C++14"
   },
   "source": [
    "## Nombre de sommets"
   ]
  },
  {
   "cell_type": "code",
   "execution_count": 6,
   "id": "b27a56f7-f90d-4965-8d74-470239eacdd7",
   "metadata": {
    "execution": {
     "iopub.execute_input": "2021-12-15T17:12:13.445789Z",
     "iopub.status.busy": "2021-12-15T17:12:13.445275Z",
     "iopub.status.idle": "2021-12-15T17:12:13.451529Z",
     "shell.execute_reply": "2021-12-15T17:12:13.451095Z"
    },
    "kernel": "OCaml default",
    "tags": []
   },
   "outputs": [
    {
     "data": {
      "text/plain": [
       "val size : 'a binary_tree -> int = <fun>\n"
      ]
     },
     "execution_count": 6,
     "metadata": {},
     "output_type": "execute_result"
    },
    {
     "data": {
      "text/plain": [
       "- : int = 8\n"
      ]
     },
     "execution_count": 6,
     "metadata": {},
     "output_type": "execute_result"
    }
   ],
   "source": [
    "let rec size t = match t with\n",
    "    | E -> 0\n",
    "    | N(r, g, d) -> 1 + size g + size d;;\n",
    "\n",
    "size t_ex"
   ]
  },
  {
   "cell_type": "code",
   "execution_count": 7,
   "id": "a800afc6-c0c9-4575-b489-ec6cace38508",
   "metadata": {
    "execution": {
     "iopub.execute_input": "2021-12-15T17:12:13.453403Z",
     "iopub.status.busy": "2021-12-15T17:12:13.452908Z",
     "iopub.status.idle": "2021-12-15T17:12:13.455080Z",
     "shell.execute_reply": "2021-12-15T17:12:13.454644Z"
    },
    "kernel": "C++14",
    "tags": []
   },
   "outputs": [
    {
     "ename": "error",
     "evalue": "compile_error",
     "output_type": "error",
     "traceback": [
      "File \"[7]\", line 2, characters 4-6:\n2 |     if(t == NULL) return 0;\n        ^^\nError: Syntax error\n"
     ]
    }
   ],
   "source": [
    "int size(tree* t) {\n",
    "    if(t == NULL) return 0;\n",
    "    return 1 + size(t->g) + size(t->d);\n",
    "}\n",
    "    \n",
    "size(t)"
   ]
  },
  {
   "cell_type": "markdown",
   "id": "8ab94bb3-d891-4916-ae07-d07e1aea61ce",
   "metadata": {
    "kernel": "C++14"
   },
   "source": [
    "## Hauteur"
   ]
  },
  {
   "cell_type": "code",
   "execution_count": 8,
   "id": "2043986c-f17c-4559-b517-6f3cdd17ccd4",
   "metadata": {
    "execution": {
     "iopub.execute_input": "2021-12-15T17:12:13.456947Z",
     "iopub.status.busy": "2021-12-15T17:12:13.456491Z",
     "iopub.status.idle": "2021-12-15T17:12:13.460492Z",
     "shell.execute_reply": "2021-12-15T17:12:13.460885Z"
    },
    "kernel": "OCaml default",
    "tags": []
   },
   "outputs": [
    {
     "data": {
      "text/plain": [
       "val height : 'a binary_tree -> int = <fun>\n"
      ]
     },
     "execution_count": 8,
     "metadata": {},
     "output_type": "execute_result"
    },
    {
     "data": {
      "text/plain": [
       "- : int = 3\n"
      ]
     },
     "execution_count": 8,
     "metadata": {},
     "output_type": "execute_result"
    }
   ],
   "source": [
    "let rec height = function\n",
    "    | E -> -1\n",
    "    | N(r, g, d) -> 1 + max (height g) (height d);;\n",
    "    \n",
    "height t_ex"
   ]
  },
  {
   "cell_type": "code",
   "execution_count": 9,
   "id": "0a8e87d5-a9e4-478b-a76d-c4e8a4c879fc",
   "metadata": {
    "execution": {
     "iopub.execute_input": "2021-12-15T17:12:13.462759Z",
     "iopub.status.busy": "2021-12-15T17:12:13.462310Z",
     "iopub.status.idle": "2021-12-15T17:12:13.463828Z",
     "shell.execute_reply": "2021-12-15T17:12:13.464185Z"
    },
    "kernel": "C++14"
   },
   "outputs": [
    {
     "ename": "error",
     "evalue": "compile_error",
     "output_type": "error",
     "traceback": [
      "File \"[9]\", line 2, characters 11-12:\n2 |     return a > b ? a : b;\n               ^\nError: Syntax error: '}' expected\nFile \"[9]\", line 1, characters 22-23:\n1 | int max(int a, int b) {\n                          ^\n  This '{' might be unmatched\n"
     ]
    }
   ],
   "source": [
    "int max(int a, int b) {\n",
    "    return a > b ? a : b;\n",
    "}"
   ]
  },
  {
   "cell_type": "code",
   "execution_count": 10,
   "id": "031daf21-d422-4470-bb24-c033ae581018",
   "metadata": {
    "execution": {
     "iopub.execute_input": "2021-12-15T17:12:13.466080Z",
     "iopub.status.busy": "2021-12-15T17:12:13.465589Z",
     "iopub.status.idle": "2021-12-15T17:12:13.467184Z",
     "shell.execute_reply": "2021-12-15T17:12:13.467605Z"
    },
    "kernel": "C++14"
   },
   "outputs": [
    {
     "ename": "error",
     "evalue": "compile_error",
     "output_type": "error",
     "traceback": [
      "File \"[10]\", line 2, characters 4-6:\n2 |     if(t == NULL)\n        ^^\nError: Syntax error\n"
     ]
    }
   ],
   "source": [
    "int height(tree* t) {\n",
    "    if(t == NULL)\n",
    "        return -1;\n",
    "    return 1 + max(height(t->g), height(t->d));\n",
    "}\n",
    "\n",
    "height(t)"
   ]
  },
  {
   "cell_type": "code",
   "execution_count": 11,
   "id": "a74cb665-d260-47a6-b672-cea553faedee",
   "metadata": {
    "execution": {
     "iopub.execute_input": "2021-12-15T17:12:13.469440Z",
     "iopub.status.busy": "2021-12-15T17:12:13.468962Z",
     "iopub.status.idle": "2021-12-15T17:12:13.473461Z",
     "shell.execute_reply": "2021-12-15T17:12:13.473037Z"
    },
    "kernel": "OCaml default",
    "tags": []
   },
   "outputs": [
    {
     "data": {
      "text/plain": [
       "val complete : 'a binary_tree -> bool = <fun>\n"
      ]
     },
     "execution_count": 11,
     "metadata": {},
     "output_type": "execute_result"
    }
   ],
   "source": [
    "let rec complete = function\n",
    "    | E -> true\n",
    "    | N(r, g, d) -> complete g && complete d && height g = height d;;"
   ]
  },
  {
   "cell_type": "code",
   "execution_count": 12,
   "id": "73da5a93-68a6-4aee-8fd4-b0b62473f92f",
   "metadata": {
    "execution": {
     "iopub.execute_input": "2021-12-15T17:12:13.475120Z",
     "iopub.status.busy": "2021-12-15T17:12:13.474666Z",
     "iopub.status.idle": "2021-12-15T17:12:13.476611Z",
     "shell.execute_reply": "2021-12-15T17:12:13.476222Z"
    },
    "kernel": "SoS",
    "tags": []
   },
   "outputs": [
    {
     "ename": "error",
     "evalue": "compile_error",
     "output_type": "error",
     "traceback": [
      "File \"[12]\", line 1, characters 0-6:\n1 | struct abr {\n    ^^^^^^\nError: Syntax error\n"
     ]
    }
   ],
   "source": [
    "struct abr {\n",
    "    abr *g;\n",
    "    abr *d;\n",
    "    int val;\n",
    "};\n",
    "typedef struct abr abr;"
   ]
  },
  {
   "cell_type": "code",
   "execution_count": 13,
   "id": "4e3514b2-6f59-4960-8817-336d9b7a7b8c",
   "metadata": {
    "execution": {
     "iopub.execute_input": "2021-12-15T17:12:13.479422Z",
     "iopub.status.busy": "2021-12-15T17:12:13.478962Z",
     "iopub.status.idle": "2021-12-15T17:12:13.480986Z",
     "shell.execute_reply": "2021-12-15T17:12:13.480563Z"
    },
    "kernel": "SoS"
   },
   "outputs": [
    {
     "ename": "error",
     "evalue": "compile_error",
     "output_type": "error",
     "traceback": [
      "File \"[13]\", line 2, characters 4-6:\n2 |     if(a == NULL) {\n        ^^\nError: Syntax error\n"
     ]
    }
   ],
   "source": [
    "abr *add(abr *a, int v) {\n",
    "    if(a == NULL) {\n",
    "        abr *res = (abr *)malloc(sizeof(abr));\n",
    "        res->val = v;\n",
    "        return res;\n",
    "    }\n",
    "    if(a->val < v)\n",
    "        a->g = add(a->g, v);\n",
    "    else\n",
    "        a->d = add(a->d, v);\n",
    "    return a;\n",
    "}"
   ]
  },
  {
   "cell_type": "code",
   "execution_count": 14,
   "id": "6a1a4bee-035f-4a6e-bd79-cb9113fb5948",
   "metadata": {
    "execution": {
     "iopub.execute_input": "2021-12-15T17:12:13.482688Z",
     "iopub.status.busy": "2021-12-15T17:12:13.482204Z",
     "iopub.status.idle": "2021-12-15T17:12:13.486497Z",
     "shell.execute_reply": "2021-12-15T17:12:13.486101Z"
    },
    "kernel": "SoS"
   },
   "outputs": [
    {
     "ename": "error",
     "evalue": "compile_error",
     "output_type": "error",
     "traceback": [
      "File \"[14]\", line 1, characters 0-3:\n1 | abr *a = NULL;\n    ^^^\nError: Unbound value abr\nHint: Did you mean abs or asr?\n"
     ]
    }
   ],
   "source": [
    "abr *a = NULL;\n",
    "a = add(a, 1)"
   ]
  },
  {
   "cell_type": "code",
   "execution_count": 15,
   "id": "86d8f80a-c796-47b5-8e6c-172e4f4c05c4",
   "metadata": {
    "execution": {
     "iopub.execute_input": "2021-12-15T17:12:13.488279Z",
     "iopub.status.busy": "2021-12-15T17:12:13.487794Z",
     "iopub.status.idle": "2021-12-15T17:12:13.489830Z",
     "shell.execute_reply": "2021-12-15T17:12:13.489393Z"
    },
    "kernel": "SoS"
   },
   "outputs": [
    {
     "ename": "error",
     "evalue": "compile_error",
     "output_type": "error",
     "traceback": [
      "File \"[15]\", line 1, characters 1-3:\n1 | a->val\n     ^^\nError: Syntax error\n"
     ]
    }
   ],
   "source": [
    "a->val"
   ]
  },
  {
   "cell_type": "code",
   "execution_count": 16,
   "id": "1919c64d-7e5b-46c2-a0e8-1973de8db6eb",
   "metadata": {
    "execution": {
     "iopub.execute_input": "2021-12-15T17:12:13.491650Z",
     "iopub.status.busy": "2021-12-15T17:12:13.491164Z",
     "iopub.status.idle": "2021-12-15T17:12:13.493072Z",
     "shell.execute_reply": "2021-12-15T17:12:13.492683Z"
    },
    "kernel": "SoS"
   },
   "outputs": [
    {
     "ename": "error",
     "evalue": "compile_error",
     "output_type": "error",
     "traceback": [
      "File \"[16]\", line 1, characters 1-3:\n1 | a->g\n     ^^\nError: Syntax error\n"
     ]
    }
   ],
   "source": [
    "a->g"
   ]
  },
  {
   "cell_type": "code",
   "execution_count": 17,
   "id": "c1806fba-8e79-4d02-8ba1-a9d6cc96ae02",
   "metadata": {
    "execution": {
     "iopub.execute_input": "2021-12-15T17:12:13.494631Z",
     "iopub.status.busy": "2021-12-15T17:12:13.494176Z",
     "iopub.status.idle": "2021-12-15T17:12:13.495715Z",
     "shell.execute_reply": "2021-12-15T17:12:13.496108Z"
    },
    "kernel": "SoS"
   },
   "outputs": [
    {
     "ename": "error",
     "evalue": "compile_error",
     "output_type": "error",
     "traceback": [
      "File \"[17]\", line 2, characters 8-9:\n2 |     abr *p = *a;\n            ^\nError: Syntax error: '}' expected\nFile \"[17]\", line 1, characters 26-27:\n1 | void add2(abr **a, int v) {\n                              ^\n  This '{' might be unmatched\n"
     ]
    }
   ],
   "source": [
    "void add2(abr **a, int v) {\n",
    "    abr *p = *a;\n",
    "    if(p == NULL) {\n",
    "        *a = (abr *)malloc(sizeof(abr));\n",
    "        (*a)->val = v;\n",
    "        return;\n",
    "    }\n",
    "    else if(p->val < v)\n",
    "        add2(&(p->g), v);\n",
    "    else\n",
    "        add2(&(p->d), v);\n",
    "}"
   ]
  },
  {
   "cell_type": "code",
   "execution_count": 18,
   "id": "2de5e733-758a-41ca-b163-0b69188ad7a5",
   "metadata": {
    "execution": {
     "iopub.execute_input": "2021-12-15T17:12:13.497763Z",
     "iopub.status.busy": "2021-12-15T17:12:13.497279Z",
     "iopub.status.idle": "2021-12-15T17:12:13.499207Z",
     "shell.execute_reply": "2021-12-15T17:12:13.498819Z"
    },
    "kernel": "SoS"
   },
   "outputs": [
    {
     "ename": "error",
     "evalue": "compile_error",
     "output_type": "error",
     "traceback": [
      "File \"[18]\", line 2, characters 11-12:\n2 | a = (abr **)malloc(sizeof(abr*));\n               ^\nError: Syntax error: ')' expected\nFile \"[18]\", line 2, characters 4-5:\n2 | a = (abr **)malloc(sizeof(abr*));\n        ^\n  This '(' might be unmatched\n"
     ]
    }
   ],
   "source": [
    "abr **a = NULL;\n",
    "a = (abr **)malloc(sizeof(abr*));\n",
    "*a = NULL;\n",
    "add2(a, 1);"
   ]
  },
  {
   "cell_type": "code",
   "execution_count": 19,
   "id": "d862d5d2-4ed3-457c-afdd-bce9c01bf09a",
   "metadata": {
    "execution": {
     "iopub.execute_input": "2021-12-15T17:12:13.500939Z",
     "iopub.status.busy": "2021-12-15T17:12:13.500347Z",
     "iopub.status.idle": "2021-12-15T17:12:13.502474Z",
     "shell.execute_reply": "2021-12-15T17:12:13.502086Z"
    },
    "kernel": "SoS"
   },
   "outputs": [
    {
     "ename": "error",
     "evalue": "compile_error",
     "output_type": "error",
     "traceback": [
      "File \"[19]\", line 1, characters 0-2:\n1 | (*a)->val\n    ^^\nError: Comment not terminated\n"
     ]
    }
   ],
   "source": [
    "(*a)->val"
   ]
  },
  {
   "cell_type": "code",
   "execution_count": null,
   "id": "b5c0c93f-aaad-49d5-a6bb-39d908885eb1",
   "metadata": {
    "kernel": "SoS"
   },
   "outputs": [],
   "source": []
  }
 ],
 "metadata": {
  "kernelspec": {
   "display_name": "OCaml default",
   "language": "OCaml",
   "name": "ocaml-jupyter"
  },
  "language_info": {
   "codemirror_mode": "text/x-ocaml",
   "file_extension": ".ml",
   "mimetype": "text/x-ocaml",
   "name": "OCaml",
   "nbconverter_exporter": null,
   "pygments_lexer": "OCaml",
   "version": "4.08.1"
  },
  "sos": {
   "kernels": [
    [
     "C++14",
     "xcpp14",
     "C++14",
     "",
     "text/x-c++src"
    ],
    [
     "OCaml default",
     "ocaml-jupyter",
     "OCaml",
     "",
     "text/x-ocaml"
    ],
    [
     "SoS",
     "sos",
     "",
     "",
     "sos"
    ]
   ],
   "version": "0.22.3"
  }
 },
 "nbformat": 4,
 "nbformat_minor": 5
}

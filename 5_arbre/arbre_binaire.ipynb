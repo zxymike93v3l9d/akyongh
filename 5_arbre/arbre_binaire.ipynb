{
 "cells": [
  {
   "cell_type": "markdown",
   "id": "a8a134dc-287f-4b24-9059-ceaf004f75b1",
   "metadata": {
    "kernel": "SoS"
   },
   "source": [
    "# Arbres binaires\n",
    "\n",
    "## Définitions"
   ]
  },
  {
   "cell_type": "code",
   "execution_count": 1,
   "id": "1ead1a8f-e647-4aae-bb64-f7cecad06130",
   "metadata": {
    "execution": {
     "iopub.execute_input": "2021-12-15T15:41:45.332792Z",
     "iopub.status.busy": "2021-12-15T15:41:45.332209Z",
     "iopub.status.idle": "2021-12-15T15:41:45.373830Z",
     "shell.execute_reply": "2021-12-15T15:41:45.373400Z"
    },
    "kernel": "OCaml default",
    "tags": []
   },
   "outputs": [
    {
     "ename": "ParsingError",
     "evalue": "File contains parsing errors: \n\t[line  2]: type 'a binary_tree =\n    | E (* arbre vide *)\n    | N of 'a * 'a binary_tree * 'a binary_tree;;\n\nInvalid statements: SyntaxError('EOL while scanning string literal', ('<string>', 1, 22, \"type 'a binary_tree =\\n\"))",
     "output_type": "error",
     "traceback": [
      "\u001b[91mFile contains parsing errors: \n\t[line  2]: type 'a binary_tree =\n    | E (* arbre vide *)\n    | N of 'a * 'a binary_tree * 'a binary_tree;;\n\nInvalid statements: SyntaxError('EOL while scanning string literal', ('<string>', 1, 22, \"type 'a binary_tree =\\n\"))\u001b[0m"
     ]
    }
   ],
   "source": [
    "type 'a binary_tree =\n",
    "    | E (* arbre vide *)\n",
    "    | N of 'a * 'a binary_tree * 'a binary_tree;;"
   ]
  },
  {
   "cell_type": "code",
   "execution_count": 2,
   "id": "154742e7-1e65-43d1-bd2d-227a79b73abe",
   "metadata": {
    "execution": {
     "iopub.execute_input": "2021-12-15T15:41:45.379220Z",
     "iopub.status.busy": "2021-12-15T15:41:45.377354Z",
     "iopub.status.idle": "2021-12-15T15:41:45.380420Z",
     "shell.execute_reply": "2021-12-15T15:41:45.380712Z"
    },
    "kernel": "OCaml default",
    "tags": []
   },
   "outputs": [
    {
     "ename": "ParsingError",
     "evalue": "File contains parsing errors: \n\t[line  2]: let t_ex = N(0,\n    N(1, \n        N(2, E, E), \n        N(3, N(4, E, E), E)),\n    N(5,\n\nInvalid statements: SyntaxError('invalid syntax', ('<string>', 1, 5, 'let t_ex = N(0,\\n'))",
     "output_type": "error",
     "traceback": [
      "\u001b[91mFile contains parsing errors: \n\t[line  2]: let t_ex = N(0,\n    N(1, \n        N(2, E, E), \n        N(3, N(4, E, E), E)),\n    N(5,\n\nInvalid statements: SyntaxError('invalid syntax', ('<string>', 1, 5, 'let t_ex = N(0,\\n'))\u001b[0m"
     ]
    }
   ],
   "source": [
    "let t_ex = N(0,\n",
    "    N(1, \n",
    "        N(2, E, E), \n",
    "        N(3, N(4, E, E), E)),\n",
    "    N(5,\n",
    "        N(6, E, E),\n",
    "        N(7, E, E)));;"
   ]
  },
  {
   "cell_type": "code",
   "execution_count": 3,
   "id": "0a43ea99-ec63-4d08-bb9c-a66e5bafed5f",
   "metadata": {
    "execution": {
     "iopub.execute_input": "2021-12-15T15:41:45.383997Z",
     "iopub.status.busy": "2021-12-15T15:41:45.382895Z",
     "iopub.status.idle": "2021-12-15T15:41:45.385277Z",
     "shell.execute_reply": "2021-12-15T15:41:45.385558Z"
    },
    "kernel": "C++14",
    "tags": []
   },
   "outputs": [
    {
     "ename": "ParsingError",
     "evalue": "File contains parsing errors: \n\t[line  2]: typedef struct tree {\n    tree *g;\n    tree *d;\n    int val;\n} tree;\n\nInvalid statements: SyntaxError('invalid syntax', ('<string>', 1, 9, 'typedef struct tree {\\n'))",
     "output_type": "error",
     "traceback": [
      "\u001b[91mFile contains parsing errors: \n\t[line  2]: typedef struct tree {\n    tree *g;\n    tree *d;\n    int val;\n} tree;\n\nInvalid statements: SyntaxError('invalid syntax', ('<string>', 1, 9, 'typedef struct tree {\\n'))\u001b[0m"
     ]
    }
   ],
   "source": [
    "typedef struct tree {\n",
    "    tree *g;\n",
    "    tree *d;\n",
    "    int val;\n",
    "} tree;"
   ]
  },
  {
   "cell_type": "code",
   "execution_count": 4,
   "id": "4dc8dcf4-4656-4511-bda6-8a6f325cc537",
   "metadata": {
    "execution": {
     "iopub.execute_input": "2021-12-15T15:41:45.389045Z",
     "iopub.status.busy": "2021-12-15T15:41:45.388671Z",
     "iopub.status.idle": "2021-12-15T15:41:45.390640Z",
     "shell.execute_reply": "2021-12-15T15:41:45.390327Z"
    },
    "kernel": "C++14",
    "tags": []
   },
   "outputs": [
    {
     "ename": "ParsingError",
     "evalue": "File contains parsing errors: \n\t[line  2]: tree* make_node(int r) {\n    tree *t = (tree*)malloc(sizeof(tree));\n    t->g = NULL;\n    t->d = NULL;\n    t->val = r;\n\nInvalid statements: SyntaxError('invalid syntax', ('<string>', 1, 21, 'tree* make_node(int r) {\\n'))",
     "output_type": "error",
     "traceback": [
      "\u001b[91mFile contains parsing errors: \n\t[line  2]: tree* make_node(int r) {\n    tree *t = (tree*)malloc(sizeof(tree));\n    t->g = NULL;\n    t->d = NULL;\n    t->val = r;\n\nInvalid statements: SyntaxError('invalid syntax', ('<string>', 1, 21, 'tree* make_node(int r) {\\n'))\u001b[0m"
     ]
    }
   ],
   "source": [
    "tree* make_node(int r) {\n",
    "    tree *t = (tree*)malloc(sizeof(tree));\n",
    "    t->g = NULL;\n",
    "    t->d = NULL;\n",
    "    t->val = r;\n",
    "    return t;\n",
    "}\n",
    "\n",
    "tree* t = make_node(0);\n",
    "t->g = make_node(1);\n",
    "t->d = make_node(2);"
   ]
  },
  {
   "cell_type": "markdown",
   "id": "ad711350-888c-4bab-9cbb-bfd341595b6c",
   "metadata": {
    "kernel": "C++14"
   },
   "source": [
    "## Nombre de sommets"
   ]
  },
  {
   "cell_type": "code",
   "execution_count": 5,
   "id": "b27a56f7-f90d-4965-8d74-470239eacdd7",
   "metadata": {
    "execution": {
     "iopub.execute_input": "2021-12-15T15:41:45.393875Z",
     "iopub.status.busy": "2021-12-15T15:41:45.392637Z",
     "iopub.status.idle": "2021-12-15T15:41:45.394918Z",
     "shell.execute_reply": "2021-12-15T15:41:45.395286Z"
    },
    "kernel": "OCaml default",
    "tags": []
   },
   "outputs": [
    {
     "ename": "ParsingError",
     "evalue": "File contains parsing errors: \n\t[line  2]: let rec size t = match t with\n    | E -> 0\n    | N(r, g, d) -> 1 + size g + size d;;\n\nsize t_ex\n\nInvalid statements: SyntaxError('invalid syntax', ('<string>', 1, 5, 'let rec size t = match t with\\n'))",
     "output_type": "error",
     "traceback": [
      "\u001b[91mFile contains parsing errors: \n\t[line  2]: let rec size t = match t with\n    | E -> 0\n    | N(r, g, d) -> 1 + size g + size d;;\n\nsize t_ex\n\nInvalid statements: SyntaxError('invalid syntax', ('<string>', 1, 5, 'let rec size t = match t with\\n'))\u001b[0m"
     ]
    }
   ],
   "source": [
    "let rec size t = match t with\n",
    "    | E -> 0\n",
    "    | N(r, g, d) -> 1 + size g + size d;;\n",
    "\n",
    "size t_ex"
   ]
  },
  {
   "cell_type": "code",
   "execution_count": 6,
   "id": "a800afc6-c0c9-4575-b489-ec6cace38508",
   "metadata": {
    "execution": {
     "iopub.execute_input": "2021-12-15T15:41:45.398392Z",
     "iopub.status.busy": "2021-12-15T15:41:45.397943Z",
     "iopub.status.idle": "2021-12-15T15:41:45.400439Z",
     "shell.execute_reply": "2021-12-15T15:41:45.400083Z"
    },
    "kernel": "C++14",
    "tags": []
   },
   "outputs": [
    {
     "ename": "ParsingError",
     "evalue": "File contains parsing errors: \n\t[line  2]: int size(tree* t) {\n    if(t == NULL) return 0;\n    return 1 + size(t->g) + size(t->d);\n}\n\n\nInvalid statements: SyntaxError('invalid syntax', ('<string>', 1, 5, 'int size(tree* t) {\\n'))",
     "output_type": "error",
     "traceback": [
      "\u001b[91mFile contains parsing errors: \n\t[line  2]: int size(tree* t) {\n    if(t == NULL) return 0;\n    return 1 + size(t->g) + size(t->d);\n}\n\n\nInvalid statements: SyntaxError('invalid syntax', ('<string>', 1, 5, 'int size(tree* t) {\\n'))\u001b[0m"
     ]
    }
   ],
   "source": [
    "int size(tree* t) {\n",
    "    if(t == NULL) return 0;\n",
    "    return 1 + size(t->g) + size(t->d);\n",
    "}\n",
    "    \n",
    "size(t)"
   ]
  },
  {
   "cell_type": "code",
   "execution_count": 7,
   "id": "73da5a93-68a6-4aee-8fd4-b0b62473f92f",
   "metadata": {
    "execution": {
     "iopub.execute_input": "2021-12-15T15:41:45.402765Z",
     "iopub.status.busy": "2021-12-15T15:41:45.402324Z",
     "iopub.status.idle": "2021-12-15T15:41:45.404963Z",
     "shell.execute_reply": "2021-12-15T15:41:45.404641Z"
    },
    "kernel": "SoS",
    "tags": []
   },
   "outputs": [
    {
     "ename": "ParsingError",
     "evalue": "File contains parsing errors: \n\t[line  2]: struct abr {\n    abr *g;\n    abr *d;\n    int val;\n};\n\nInvalid statements: SyntaxError('invalid syntax', ('<string>', 1, 8, 'struct abr {\\n'))",
     "output_type": "error",
     "traceback": [
      "\u001b[91mFile contains parsing errors: \n\t[line  2]: struct abr {\n    abr *g;\n    abr *d;\n    int val;\n};\n\nInvalid statements: SyntaxError('invalid syntax', ('<string>', 1, 8, 'struct abr {\\n'))\u001b[0m"
     ]
    }
   ],
   "source": [
    "struct abr {\n",
    "    abr *g;\n",
    "    abr *d;\n",
    "    int val;\n",
    "};\n",
    "typedef struct abr abr;"
   ]
  },
  {
   "cell_type": "code",
   "execution_count": 8,
   "id": "4e3514b2-6f59-4960-8817-336d9b7a7b8c",
   "metadata": {
    "execution": {
     "iopub.execute_input": "2021-12-15T15:41:45.408294Z",
     "iopub.status.busy": "2021-12-15T15:41:45.407913Z",
     "iopub.status.idle": "2021-12-15T15:41:45.409508Z",
     "shell.execute_reply": "2021-12-15T15:41:45.409813Z"
    },
    "kernel": "SoS"
   },
   "outputs": [
    {
     "ename": "ParsingError",
     "evalue": "File contains parsing errors: \n\t[line  2]: abr *add(abr *a, int v) {\n    if(a == NULL) {\n        abr *res = (abr *)malloc(sizeof(abr));\n        res->val = v;\n        return res;\n\nInvalid statements: SyntaxError('invalid syntax', ('<string>', 1, 22, 'abr *add(abr *a, int v) {\\n'))",
     "output_type": "error",
     "traceback": [
      "\u001b[91mFile contains parsing errors: \n\t[line  2]: abr *add(abr *a, int v) {\n    if(a == NULL) {\n        abr *res = (abr *)malloc(sizeof(abr));\n        res->val = v;\n        return res;\n\nInvalid statements: SyntaxError('invalid syntax', ('<string>', 1, 22, 'abr *add(abr *a, int v) {\\n'))\u001b[0m"
     ]
    }
   ],
   "source": [
    "abr *add(abr *a, int v) {\n",
    "    if(a == NULL) {\n",
    "        abr *res = (abr *)malloc(sizeof(abr));\n",
    "        res->val = v;\n",
    "        return res;\n",
    "    }\n",
    "    if(a->val < v)\n",
    "        a->g = add(a->g, v);\n",
    "    else\n",
    "        a->d = add(a->d, v);\n",
    "    return a;\n",
    "}"
   ]
  },
  {
   "cell_type": "code",
   "execution_count": 9,
   "id": "6a1a4bee-035f-4a6e-bd79-cb9113fb5948",
   "metadata": {
    "execution": {
     "iopub.execute_input": "2021-12-15T15:41:45.412750Z",
     "iopub.status.busy": "2021-12-15T15:41:45.411676Z",
     "iopub.status.idle": "2021-12-15T15:41:45.414346Z",
     "shell.execute_reply": "2021-12-15T15:41:45.414018Z"
    },
    "kernel": "SoS"
   },
   "outputs": [
    {
     "ename": "ParsingError",
     "evalue": "File contains parsing errors: \n\t[line  2]: abr *a = NULL;\na = add(a, 1)\n\nInvalid statements: SyntaxError('cannot assign to operator', ('<string>', 1, 1, 'abr *a = NULL;\\n'))",
     "output_type": "error",
     "traceback": [
      "\u001b[91mFile contains parsing errors: \n\t[line  2]: abr *a = NULL;\na = add(a, 1)\n\nInvalid statements: SyntaxError('cannot assign to operator', ('<string>', 1, 1, 'abr *a = NULL;\\n'))\u001b[0m"
     ]
    }
   ],
   "source": [
    "abr *a = NULL;\n",
    "a = add(a, 1)"
   ]
  },
  {
   "cell_type": "code",
   "execution_count": 10,
   "id": "86d8f80a-c796-47b5-8e6c-172e4f4c05c4",
   "metadata": {
    "execution": {
     "iopub.execute_input": "2021-12-15T15:41:45.417118Z",
     "iopub.status.busy": "2021-12-15T15:41:45.416187Z",
     "iopub.status.idle": "2021-12-15T15:41:45.418617Z",
     "shell.execute_reply": "2021-12-15T15:41:45.418318Z"
    },
    "kernel": "SoS"
   },
   "outputs": [
    {
     "ename": "ParsingError",
     "evalue": "File contains parsing errors: \n\t[line  2]: a->val\n\nInvalid statements: SyntaxError('invalid syntax', ('<string>', 1, 2, 'a->val\\n'))",
     "output_type": "error",
     "traceback": [
      "\u001b[91mFile contains parsing errors: \n\t[line  2]: a->val\n\nInvalid statements: SyntaxError('invalid syntax', ('<string>', 1, 2, 'a->val\\n'))\u001b[0m"
     ]
    }
   ],
   "source": [
    "a->val"
   ]
  },
  {
   "cell_type": "code",
   "execution_count": 11,
   "id": "1919c64d-7e5b-46c2-a0e8-1973de8db6eb",
   "metadata": {
    "execution": {
     "iopub.execute_input": "2021-12-15T15:41:45.421030Z",
     "iopub.status.busy": "2021-12-15T15:41:45.420662Z",
     "iopub.status.idle": "2021-12-15T15:41:45.423184Z",
     "shell.execute_reply": "2021-12-15T15:41:45.422832Z"
    },
    "kernel": "SoS"
   },
   "outputs": [
    {
     "ename": "ParsingError",
     "evalue": "File contains parsing errors: \n\t[line  2]: a->g\n\nInvalid statements: SyntaxError('invalid syntax', ('<string>', 1, 2, 'a->g\\n'))",
     "output_type": "error",
     "traceback": [
      "\u001b[91mFile contains parsing errors: \n\t[line  2]: a->g\n\nInvalid statements: SyntaxError('invalid syntax', ('<string>', 1, 2, 'a->g\\n'))\u001b[0m"
     ]
    }
   ],
   "source": [
    "a->g"
   ]
  },
  {
   "cell_type": "code",
   "execution_count": 12,
   "id": "c1806fba-8e79-4d02-8ba1-a9d6cc96ae02",
   "metadata": {
    "execution": {
     "iopub.execute_input": "2021-12-15T15:41:45.425296Z",
     "iopub.status.busy": "2021-12-15T15:41:45.424895Z",
     "iopub.status.idle": "2021-12-15T15:41:45.427433Z",
     "shell.execute_reply": "2021-12-15T15:41:45.427125Z"
    },
    "kernel": "SoS"
   },
   "outputs": [
    {
     "ename": "ParsingError",
     "evalue": "File contains parsing errors: \n\t[line  2]: void add2(abr **a, int v) {\n    abr *p = *a;\n    if(p == NULL) {\n        *a = (abr *)malloc(sizeof(abr));\n        (*a)->val = v;\n\nInvalid statements: SyntaxError('invalid syntax', ('<string>', 1, 6, 'void add2(abr **a, int v) {\\n'))",
     "output_type": "error",
     "traceback": [
      "\u001b[91mFile contains parsing errors: \n\t[line  2]: void add2(abr **a, int v) {\n    abr *p = *a;\n    if(p == NULL) {\n        *a = (abr *)malloc(sizeof(abr));\n        (*a)->val = v;\n\nInvalid statements: SyntaxError('invalid syntax', ('<string>', 1, 6, 'void add2(abr **a, int v) {\\n'))\u001b[0m"
     ]
    }
   ],
   "source": [
    "void add2(abr **a, int v) {\n",
    "    abr *p = *a;\n",
    "    if(p == NULL) {\n",
    "        *a = (abr *)malloc(sizeof(abr));\n",
    "        (*a)->val = v;\n",
    "        return;\n",
    "    }\n",
    "    else if(p->val < v)\n",
    "        add2(&(p->g), v);\n",
    "    else\n",
    "        add2(&(p->d), v);\n",
    "}"
   ]
  },
  {
   "cell_type": "code",
   "execution_count": 13,
   "id": "2de5e733-758a-41ca-b163-0b69188ad7a5",
   "metadata": {
    "execution": {
     "iopub.execute_input": "2021-12-15T15:41:45.430350Z",
     "iopub.status.busy": "2021-12-15T15:41:45.429310Z",
     "iopub.status.idle": "2021-12-15T15:41:45.431841Z",
     "shell.execute_reply": "2021-12-15T15:41:45.431533Z"
    },
    "kernel": "SoS"
   },
   "outputs": [
    {
     "ename": "ParsingError",
     "evalue": "File contains parsing errors: \n\t[line  2]: abr **a = NULL;\na = (abr **)malloc(sizeof(abr*));\n*a = NULL;\nadd2(a, 1);\n\nInvalid statements: SyntaxError('cannot assign to operator', ('<string>', 1, 1, 'abr **a = NULL;\\n'))",
     "output_type": "error",
     "traceback": [
      "\u001b[91mFile contains parsing errors: \n\t[line  2]: abr **a = NULL;\na = (abr **)malloc(sizeof(abr*));\n*a = NULL;\nadd2(a, 1);\n\nInvalid statements: SyntaxError('cannot assign to operator', ('<string>', 1, 1, 'abr **a = NULL;\\n'))\u001b[0m"
     ]
    }
   ],
   "source": [
    "abr **a = NULL;\n",
    "a = (abr **)malloc(sizeof(abr*));\n",
    "*a = NULL;\n",
    "add2(a, 1);"
   ]
  },
  {
   "cell_type": "code",
   "execution_count": 14,
   "id": "d862d5d2-4ed3-457c-afdd-bce9c01bf09a",
   "metadata": {
    "execution": {
     "iopub.execute_input": "2021-12-15T15:41:45.434971Z",
     "iopub.status.busy": "2021-12-15T15:41:45.434586Z",
     "iopub.status.idle": "2021-12-15T15:41:45.436063Z",
     "shell.execute_reply": "2021-12-15T15:41:45.436365Z"
    },
    "kernel": "SoS"
   },
   "outputs": [
    {
     "ename": "ParsingError",
     "evalue": "File contains parsing errors: \n\t[line  2]: (*a)->val\n\nInvalid statements: SyntaxError(\"can't use starred expression here\", ('<string>', 1, 2, '(*a)->val\\n'))",
     "output_type": "error",
     "traceback": [
      "\u001b[91mFile contains parsing errors: \n\t[line  2]: (*a)->val\n\nInvalid statements: SyntaxError(\"can't use starred expression here\", ('<string>', 1, 2, '(*a)->val\\n'))\u001b[0m"
     ]
    }
   ],
   "source": [
    "(*a)->val"
   ]
  },
  {
   "cell_type": "code",
   "execution_count": null,
   "id": "b5c0c93f-aaad-49d5-a6bb-39d908885eb1",
   "metadata": {
    "kernel": "SoS"
   },
   "outputs": [],
   "source": []
  }
 ],
 "metadata": {
  "kernelspec": {
   "display_name": "SoS",
   "language": "sos",
   "name": "sos"
  },
  "language_info": {
   "codemirror_mode": "sos",
   "file_extension": ".sos",
   "mimetype": "text/x-sos",
   "name": "sos",
   "nbconvert_exporter": "sos_notebook.converter.SoS_Exporter",
   "pygments_lexer": "sos"
  },
  "sos": {
   "kernels": [
    [
     "C++14",
     "xcpp14",
     "C++14",
     "",
     "text/x-c++src"
    ],
    [
     "OCaml default",
     "ocaml-jupyter",
     "OCaml",
     "",
     "text/x-ocaml"
    ],
    [
     "SoS",
     "sos",
     "",
     "",
     "sos"
    ]
   ],
   "version": "0.22.3"
  }
 },
 "nbformat": 4,
 "nbformat_minor": 5
}
